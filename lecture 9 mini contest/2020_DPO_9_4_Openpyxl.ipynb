{
 "cells": [
  {
   "cell_type": "markdown",
   "metadata": {},
   "source": [
    "Центр непрерывного образования\n",
    "\n",
    "# Программа «Python для автоматизации и анализа данных»\n",
    "\n",
    "*Ян Пиле, НИУ ВШЭ*\n",
    "\n",
    "## Openpyxl - библиотека для работы с Excel-файлами. "
   ]
  },
  {
   "cell_type": "markdown",
   "metadata": {},
   "source": [
    "Таблицы Excel - одна из тех вещей, с которыми вам, скорее всего, приходилось сталкиваться :). Возможно ваш начальник их любит, возможно они нужны отделу маркетинга, а возможно вы сами любите \"покрутить\" не слишком большие данные руками. Отличный способ немного автоматизировать свою раюобту - изучить библиотеку openpyxl.\n",
    "\n",
    "Для начала библиотеку надо установить. Сделать это можно в Anaconda-prompt, введя **pip install openpyxl**.\n",
    "Ну а теперь вы уже можете создать маленький Excel-файл Hello, world :)"
   ]
  },
  {
   "cell_type": "code",
   "execution_count": 1,
   "metadata": {},
   "outputs": [
    {
     "name": "stdout",
     "output_type": "stream",
     "text": [
      "Requirement already satisfied: openpyxl in c:\\users\\ksetdekov\\anaconda3\\lib\\site-packages (3.0.4)\n",
      "Requirement already satisfied: jdcal in c:\\users\\ksetdekov\\anaconda3\\lib\\site-packages (from openpyxl) (1.4.1)\n",
      "Requirement already satisfied: et-xmlfile in c:\\users\\ksetdekov\\anaconda3\\lib\\site-packages (from openpyxl) (1.0.1)\n"
     ]
    }
   ],
   "source": [
    "!pip3 install openpyxl"
   ]
  },
  {
   "cell_type": "code",
   "execution_count": 2,
   "metadata": {},
   "outputs": [],
   "source": [
    "from openpyxl import Workbook \n",
    "\n",
    "workbook = Workbook() # \"Сделали файл\"\n",
    "sheet = workbook.active # \"Создали вкладку\"\n",
    "\n",
    "sheet[\"A1\"] = \"hello\"  #Вписали одно значение\n",
    "sheet[\"B1\"] = \"world!\" #Вписали другое значение\n",
    "\n",
    "workbook.save(filename=\"hello_world.xlsx\")  # Сохранили"
   ]
  },
  {
   "cell_type": "markdown",
   "metadata": {},
   "source": [
    "Мы только что создали xlsx-файл в Python. Теперь давайте попробуем открыть уже готовый xlsx-файл и провести с ним некие манипуляции."
   ]
  },
  {
   "cell_type": "code",
   "execution_count": 3,
   "metadata": {},
   "outputs": [
    {
     "data": {
      "text/plain": [
       "['sample_us']"
      ]
     },
     "execution_count": 3,
     "metadata": {},
     "output_type": "execute_result"
    }
   ],
   "source": [
    "from openpyxl import load_workbook\n",
    "workbook = load_workbook(filename=\"sample_us.xlsx\") #открыли файл\n",
    "workbook.sheetnames #Достали имена листов (если их несколько, будет список)"
   ]
  },
  {
   "cell_type": "code",
   "execution_count": 4,
   "metadata": {},
   "outputs": [
    {
     "data": {
      "text/plain": [
       "<Worksheet \"sample_us\">"
      ]
     },
     "execution_count": 4,
     "metadata": {},
     "output_type": "execute_result"
    }
   ],
   "source": [
    "sheet = workbook.active #Включили первый попавшийся лист\n",
    "sheet"
   ]
  },
  {
   "cell_type": "code",
   "execution_count": 5,
   "metadata": {},
   "outputs": [
    {
     "data": {
      "text/plain": [
       "'sample_us'"
      ]
     },
     "execution_count": 5,
     "metadata": {},
     "output_type": "execute_result"
    }
   ],
   "source": [
    "sheet.title #Достали его название"
   ]
  },
  {
   "cell_type": "markdown",
   "metadata": {},
   "source": [
    "Теперь попробуем поработать с ячейками. Обращаться к ним на листе можно почти как к элементу списка. Если мы хотим достать то, что лежит в самом поле(достать значение поля), нужно воспользоваться методом **.value**."
   ]
  },
  {
   "cell_type": "code",
   "execution_count": 6,
   "metadata": {},
   "outputs": [
    {
     "data": {
      "text/plain": [
       "<Cell 'sample_us'.A1>"
      ]
     },
     "execution_count": 6,
     "metadata": {},
     "output_type": "execute_result"
    }
   ],
   "source": [
    "sheet[\"A1\"] #это объект-поле A1"
   ]
  },
  {
   "cell_type": "code",
   "execution_count": 7,
   "metadata": {},
   "outputs": [
    {
     "data": {
      "text/plain": [
       "'marketplace'"
      ]
     },
     "execution_count": 7,
     "metadata": {},
     "output_type": "execute_result"
    }
   ],
   "source": [
    "sheet[\"A1\"].value #А это значение поля A1"
   ]
  },
  {
   "cell_type": "code",
   "execution_count": 8,
   "metadata": {},
   "outputs": [
    {
     "data": {
      "text/plain": [
       "\"Fisher-Price Octonauts Shellington's On-The-Go Pod Toy\""
      ]
     },
     "execution_count": 8,
     "metadata": {},
     "output_type": "execute_result"
    }
   ],
   "source": [
    "sheet[\"F10\"].value #А это значение поля A1"
   ]
  },
  {
   "cell_type": "markdown",
   "metadata": {},
   "source": [
    "Чтобы вернуть значение ячейки, нужно сделать применять **.value**. В противном случае функция вернет сам объект Cell. Также можно использовать метод **.cell ()**, чтобы получить ячейку, используя индексную нотацию. Не забудьте добавить **.value**, чтобы получить фактическое значение, а не объект Cell:"
   ]
  },
  {
   "cell_type": "code",
   "execution_count": 9,
   "metadata": {},
   "outputs": [
    {
     "name": "stdout",
     "output_type": "stream",
     "text": [
      "<Cell 'sample_us'.F10>\n",
      "Star Wars Clone Wars Clone Trooper Child's Deluxe Captain Rex Costume\n"
     ]
    }
   ],
   "source": [
    "print(sheet.cell(row=10, column=6))\n",
    "print(sheet.cell(row=29, column=6).value)"
   ]
  },
  {
   "cell_type": "markdown",
   "metadata": {},
   "source": [
    "#### Импорт данных из Excel\n",
    "Теперь, когда мы изучили основы загрузки Excel, самое время приступить к интересной части: итерации и фактическому использованию значений в таблице. Например, данные можно перебирать, используя \"срезы\" вашего листа.\n"
   ]
  },
  {
   "cell_type": "code",
   "execution_count": 10,
   "metadata": {},
   "outputs": [
    {
     "data": {
      "text/plain": [
       "((<Cell 'sample_us'.A1>, <Cell 'sample_us'.B1>, <Cell 'sample_us'.C1>),\n",
       " (<Cell 'sample_us'.A2>, <Cell 'sample_us'.B2>, <Cell 'sample_us'.C2>))"
      ]
     },
     "execution_count": 10,
     "metadata": {},
     "output_type": "execute_result"
    }
   ],
   "source": [
    "sheet[\"A1:C2\"]"
   ]
  },
  {
   "cell_type": "markdown",
   "metadata": {},
   "source": [
    "Также можно получать все значения из колонки"
   ]
  },
  {
   "cell_type": "code",
   "execution_count": 11,
   "metadata": {},
   "outputs": [
    {
     "data": {
      "text/plain": [
       "<Cell 'sample_us'.A2>"
      ]
     },
     "execution_count": 11,
     "metadata": {},
     "output_type": "execute_result"
    }
   ],
   "source": [
    "sheet[\"A\"][1]"
   ]
  },
  {
   "cell_type": "markdown",
   "metadata": {},
   "source": [
    "Или из нескольких колонок:"
   ]
  },
  {
   "cell_type": "code",
   "execution_count": 12,
   "metadata": {},
   "outputs": [
    {
     "data": {
      "text/plain": [
       "<Cell 'sample_us'.B2>"
      ]
     },
     "execution_count": 12,
     "metadata": {},
     "output_type": "execute_result"
    }
   ],
   "source": [
    "sheet[\"A:B\"][1][1]"
   ]
  },
  {
   "cell_type": "code",
   "execution_count": 13,
   "metadata": {},
   "outputs": [
    {
     "data": {
      "text/plain": [
       "18778586"
      ]
     },
     "execution_count": 13,
     "metadata": {},
     "output_type": "execute_result"
    }
   ],
   "source": [
    "sheet[\"A:B\"][1][1].value"
   ]
  },
  {
   "cell_type": "markdown",
   "metadata": {},
   "source": [
    "Точно так же можно оперировать и со строками:"
   ]
  },
  {
   "cell_type": "code",
   "execution_count": 14,
   "metadata": {},
   "outputs": [
    {
     "data": {
      "text/plain": [
       "(<Cell 'sample_us'.A5>,\n",
       " <Cell 'sample_us'.B5>,\n",
       " <Cell 'sample_us'.C5>,\n",
       " <Cell 'sample_us'.D5>,\n",
       " <Cell 'sample_us'.E5>,\n",
       " <Cell 'sample_us'.F5>,\n",
       " <Cell 'sample_us'.G5>,\n",
       " <Cell 'sample_us'.H5>,\n",
       " <Cell 'sample_us'.I5>,\n",
       " <Cell 'sample_us'.J5>,\n",
       " <Cell 'sample_us'.K5>,\n",
       " <Cell 'sample_us'.L5>,\n",
       " <Cell 'sample_us'.M5>,\n",
       " <Cell 'sample_us'.N5>,\n",
       " <Cell 'sample_us'.O5>)"
      ]
     },
     "execution_count": 14,
     "metadata": {},
     "output_type": "execute_result"
    }
   ],
   "source": [
    "sheet[5]  # 5 строка"
   ]
  },
  {
   "cell_type": "code",
   "execution_count": 15,
   "metadata": {},
   "outputs": [
    {
     "data": {
      "text/plain": [
       "(<Cell 'sample_us'.A6>,\n",
       " <Cell 'sample_us'.B6>,\n",
       " <Cell 'sample_us'.C6>,\n",
       " <Cell 'sample_us'.D6>,\n",
       " <Cell 'sample_us'.E6>,\n",
       " <Cell 'sample_us'.F6>,\n",
       " <Cell 'sample_us'.G6>,\n",
       " <Cell 'sample_us'.H6>,\n",
       " <Cell 'sample_us'.I6>,\n",
       " <Cell 'sample_us'.J6>,\n",
       " <Cell 'sample_us'.K6>,\n",
       " <Cell 'sample_us'.L6>,\n",
       " <Cell 'sample_us'.M6>,\n",
       " <Cell 'sample_us'.N6>,\n",
       " <Cell 'sample_us'.O6>)"
      ]
     },
     "execution_count": 15,
     "metadata": {},
     "output_type": "execute_result"
    }
   ],
   "source": [
    "sheet[5:6][1]"
   ]
  },
  {
   "cell_type": "markdown",
   "metadata": {},
   "source": [
    "Конечно же кроме такого вывода в виде кортежей можно использовать генераторы для прохода по строкам или столбцам. Для этого используются методы:\n",
    "\n",
    "* .iter_rows ()\n",
    "* .iter_cols ()\n",
    "\n",
    "Оба метода в качестве аргументов могут принимать:\n",
    "\n",
    "* min_row\n",
    "* max_row\n",
    "* min_col\n",
    "* max_col\n",
    "\n",
    "Чтобы ограничивать область применения. Нумерация, к слову, начинается с 1."
   ]
  },
  {
   "cell_type": "code",
   "execution_count": 16,
   "metadata": {},
   "outputs": [
    {
     "name": "stdout",
     "output_type": "stream",
     "text": [
      "(<Cell 'sample_us'.A1>, <Cell 'sample_us'.B1>, <Cell 'sample_us'.C1>)\n",
      "(<Cell 'sample_us'.A2>, <Cell 'sample_us'.B2>, <Cell 'sample_us'.C2>)\n"
     ]
    }
   ],
   "source": [
    "for row in sheet.iter_rows(min_row=1,\n",
    "                           max_row=2,\n",
    "                           min_col=1,\n",
    "                           max_col=3):\n",
    "     print(row)"
   ]
  },
  {
   "cell_type": "code",
   "execution_count": 17,
   "metadata": {},
   "outputs": [
    {
     "name": "stdout",
     "output_type": "stream",
     "text": [
      "(<Cell 'sample_us'.A1>, <Cell 'sample_us'.A2>)\n",
      "(<Cell 'sample_us'.B1>, <Cell 'sample_us'.B2>)\n",
      "(<Cell 'sample_us'.C1>, <Cell 'sample_us'.C2>)\n"
     ]
    }
   ],
   "source": [
    "for column in sheet.iter_cols(min_row=1,\n",
    "                              max_row=2,\n",
    "                              min_col=1,\n",
    "                              max_col=3):\n",
    "    print(column)"
   ]
  },
  {
   "cell_type": "markdown",
   "metadata": {},
   "source": [
    "Кроме того, у обеих функций есть аргумент values_only, который позволяет вместо полной информации о ячейке получать только ее значение."
   ]
  },
  {
   "cell_type": "code",
   "execution_count": 18,
   "metadata": {},
   "outputs": [
    {
     "name": "stdout",
     "output_type": "stream",
     "text": [
      "('marketplace', 'customer_id', 'review_id')\n",
      "('US', 18778586, 'RDIJS7QYB6XNR')\n"
     ]
    }
   ],
   "source": [
    "for value in sheet.iter_rows(min_row=1,\n",
    "                             max_row=2,\n",
    "                             min_col=1,\n",
    "                             max_col=3,\n",
    "                             values_only=True):\n",
    "    print(value)"
   ]
  },
  {
   "cell_type": "markdown",
   "metadata": {},
   "source": [
    "Если вы хотите выполнить итерацию по всему набору данных, вы также можете напрямую использовать атрибуты **.rows** или **.columns**, которые являются ярлыками для .iter_rows () и .iter_cols () без каких-либо аргументов:"
   ]
  },
  {
   "cell_type": "code",
   "execution_count": 19,
   "metadata": {},
   "outputs": [
    {
     "name": "stdout",
     "output_type": "stream",
     "text": [
      "(<Cell 'sample_us'.A1>, <Cell 'sample_us'.B1>, <Cell 'sample_us'.C1>, <Cell 'sample_us'.D1>, <Cell 'sample_us'.E1>, <Cell 'sample_us'.F1>, <Cell 'sample_us'.G1>, <Cell 'sample_us'.H1>, <Cell 'sample_us'.I1>, <Cell 'sample_us'.J1>, <Cell 'sample_us'.K1>, <Cell 'sample_us'.L1>, <Cell 'sample_us'.M1>, <Cell 'sample_us'.N1>, <Cell 'sample_us'.O1>)\n"
     ]
    }
   ],
   "source": [
    "for row in sheet.rows:\n",
    "    print(row)\n",
    "    break"
   ]
  },
  {
   "cell_type": "markdown",
   "metadata": {},
   "source": [
    "Достанем имена всех колонок:"
   ]
  },
  {
   "cell_type": "code",
   "execution_count": 20,
   "metadata": {},
   "outputs": [
    {
     "name": "stdout",
     "output_type": "stream",
     "text": [
      "('marketplace', 'customer_id', 'review_id', 'product_id', 'product_parent', 'product_title', 'product_category', 'star_rating', 'helpful_votes', 'total_votes', 'vine', 'verified_purchase', 'review_headline', 'review_body', 'review_date')\n"
     ]
    }
   ],
   "source": [
    "for value in sheet.iter_rows(min_row=1,\n",
    "                             max_row=1,\n",
    "                             values_only=True):\n",
    "    print(value)"
   ]
  },
  {
   "cell_type": "markdown",
   "metadata": {},
   "source": [
    "А теперь возьмем информацию только из колонок:\n",
    "    \n",
    "* product_id\n",
    "* product_parent\n",
    "* product_title\n",
    "* product_category\n"
   ]
  },
  {
   "cell_type": "code",
   "execution_count": 21,
   "metadata": {},
   "outputs": [
    {
     "name": "stdout",
     "output_type": "stream",
     "text": [
      "('B00EDBY7X8', 122952789, 'Monopoly Junior Board Game', 'Toys')\n"
     ]
    }
   ],
   "source": [
    "for value in sheet.iter_rows(min_row=2,\n",
    "                             min_col=4,\n",
    "                             max_col=7,\n",
    "                             values_only=True):\n",
    "    print(value)\n",
    "    break"
   ]
  },
  {
   "cell_type": "markdown",
   "metadata": {},
   "source": [
    "#### для пустых значений будет печататься (None, None, None, None)"
   ]
  },
  {
   "cell_type": "markdown",
   "metadata": {},
   "source": [
    "А теперь мы можем все это упаковать в json"
   ]
  },
  {
   "cell_type": "code",
   "execution_count": 22,
   "metadata": {},
   "outputs": [
    {
     "name": "stdout",
     "output_type": "stream",
     "text": [
      "{\n",
      "    \"B00EDBY7X8\": {\n",
      "        \"parent\": 122952789,\n",
      "        \"title\": \"Monopoly Junior Board Game\",\n",
      "        \"category\": \"Toys\"\n",
      "    },\n",
      "    \"B00D7JFOPC\": {\n",
      "        \"parent\": 952062646,\n",
      "        \"title\": \"56 Pieces of Wooden Train Track Compatible with All Major Train Brands\",\n",
      "        \"category\": \"Toys\"\n",
      "    },\n",
      "    \"B002LHA74O\": {\n",
      "        \"parent\": 818126353,\n",
      "        \"title\": \"Super Jumbo Playing Cards by S&S Worldwide\",\n",
      "        \"category\": \"Toys\"\n",
      "    },\n",
      "    \"B00ARPLCGY\": {\n",
      "        \"parent\": 261944918,\n",
      "        \"title\": \"Barbie Doll and Fashions Barbie Gift Set\",\n",
      "        \"category\": \"Toys\"\n",
      "    },\n",
      "    \"B00UZOPOFW\": {\n",
      "        \"parent\": 717410439,\n",
      "        \"title\": \"Emazing Lights eLite Flow Glow Sticks - Spinning Light LED Toy\",\n",
      "        \"category\": \"Toys\"\n",
      "    },\n",
      "    \"B009B7F6CA\": {\n",
      "        \"parent\": 873028700,\n",
      "        \"title\": \"Melissa & Doug Water Wow Coloring Book - Vehicles\",\n",
      "        \"category\": \"Toys\"\n",
      "    },\n",
      "    \"B0101EHRSM\": {\n",
      "        \"parent\": 723424342,\n",
      "        \"title\": \"Big Bang Cosmic Pegasus (Pegasis) Metal 4D High Performance Generic Battling Top BB-105\",\n",
      "        \"category\": \"Toys\"\n",
      "    },\n",
      "    \"B00407S11Y\": {\n",
      "        \"parent\": 383363775,\n",
      "        \"title\": \"Fun Express Insect Finger Puppets 12ct Toy\",\n",
      "        \"category\": \"Toys\"\n",
      "    },\n",
      "    \"B00FGPU7U2\": {\n",
      "        \"parent\": 780517568,\n",
      "        \"title\": \"Fisher-Price Octonauts Shellington's On-The-Go Pod Toy\",\n",
      "        \"category\": \"Toys\"\n",
      "    },\n",
      "    \"B0013OY0S0\": {\n",
      "        \"parent\": 269360126,\n",
      "        \"title\": \"Claw Climber Goliath/ Disney's Gargoyles\",\n",
      "        \"category\": \"Toys\"\n",
      "    },\n",
      "    \"B00519PJTW\": {\n",
      "        \"parent\": 493486387,\n",
      "        \"title\": \"100 Foot Multicolor Pennant Banner\",\n",
      "        \"category\": \"Toys\"\n",
      "    },\n",
      "    \"B001TCY2DO\": {\n",
      "        \"parent\": 459122467,\n",
      "        \"title\": \"Pig Jumbo Foil Balloon\",\n",
      "        \"category\": \"Toys\"\n",
      "    },\n",
      "    \"B00DOQCWF8\": {\n",
      "        \"parent\": 226984155,\n",
      "        \"title\": \"Minecraft Animal Toy (6-Pack)\",\n",
      "        \"category\": \"Toys\"\n",
      "    },\n",
      "    \"B004C04I4I\": {\n",
      "        \"parent\": 375659886,\n",
      "        \"title\": \"Disney Baby: Eeyore Large Plush\",\n",
      "        \"category\": \"Toys\"\n",
      "    },\n",
      "    \"B00NWGEKBY\": {\n",
      "        \"parent\": 933734136,\n",
      "        \"title\": \"Team Losi 8IGHT-E RTR AVC Electric 4WD Buggy Vehicle (1/8 Scale)\",\n",
      "        \"category\": \"Toys\"\n",
      "    },\n",
      "    \"B00000JS5S\": {\n",
      "        \"parent\": 341842639,\n",
      "        \"title\": \"Hot Wheels 48- Car storage Case With Easy Grip Carrying Case\",\n",
      "        \"category\": \"Toys\"\n",
      "    },\n",
      "    \"B00XPWXYDK\": {\n",
      "        \"parent\": 210135375,\n",
      "        \"title\": \"ZuZo 2.4GHz 4 CH 6 Axis Gyro RC Quadcopter Drone with Camera & LED Lights, 38 x 38 x 7cm\",\n",
      "        \"category\": \"Toys\"\n",
      "    },\n",
      "    \"B00VPXX92W\": {\n",
      "        \"parent\": 705054378,\n",
      "        \"title\": \"Teenage Mutant Ninja Turtles T-Machines Tiger Claw in Safari Truck Diecast Vehicle\",\n",
      "        \"category\": \"Toys\"\n",
      "    },\n",
      "    \"B00YRA3H4U\": {\n",
      "        \"parent\": 223420727,\n",
      "        \"title\": \"Franklin Sports MLB Fold Away Batting Tee\",\n",
      "        \"category\": \"Toys\"\n",
      "    },\n",
      "    \"B009T8BSQY\": {\n",
      "        \"parent\": 787701676,\n",
      "        \"title\": \"Alien Frontiers: Factions\",\n",
      "        \"category\": \"Toys\"\n",
      "    },\n",
      "    \"B00PXWS1CY\": {\n",
      "        \"parent\": 996611871,\n",
      "        \"title\": \"Holy Stone F180C Mini RC Quadcopter Drone with Camera 2.4GHz 6-Axis Gyro Bonus Battery and 8 Blades\",\n",
      "        \"category\": \"Toys\"\n",
      "    },\n",
      "    \"1591749352\": {\n",
      "        \"parent\": 741582499,\n",
      "        \"title\": \"Klutz Sticker Design Studio: Create Your Own Custom Stickers Craft Kit\",\n",
      "        \"category\": \"Toys\"\n",
      "    },\n",
      "    \"B00V5DM3RE\": {\n",
      "        \"parent\": 587799706,\n",
      "        \"title\": \"Yoga Joes - Green Army Men Toys\",\n",
      "        \"category\": \"Toys\"\n",
      "    },\n",
      "    \"B00UMSVHD4\": {\n",
      "        \"parent\": 135383196,\n",
      "        \"title\": \"Lalaloopsy Girls Basic Doll- Prairie Dusty Trails\",\n",
      "        \"category\": \"Toys\"\n",
      "    },\n",
      "    \"B00JLKI69W\": {\n",
      "        \"parent\": 375626298,\n",
      "        \"title\": \"WOW Toys Town Advent Calendar\",\n",
      "        \"category\": \"Toys\"\n",
      "    },\n",
      "    \"B004S8F7QM\": {\n",
      "        \"parent\": 829220659,\n",
      "        \"title\": \"Cards Against Humanity\",\n",
      "        \"category\": \"Toys\"\n",
      "    },\n",
      "    \"B00MZ6BR3Q\": {\n",
      "        \"parent\": 145562057,\n",
      "        \"title\": \"Monster High Haunted Student Spirits Porter Geiss Doll\",\n",
      "        \"category\": \"Toys\"\n",
      "    },\n",
      "    \"B001CTOC8O\": {\n",
      "        \"parent\": 278247652,\n",
      "        \"title\": \"Star Wars Clone Wars Clone Trooper Child's Deluxe Captain Rex Costume\",\n",
      "        \"category\": \"Toys\"\n",
      "    },\n",
      "    \"B00BMKL5WY\": {\n",
      "        \"parent\": 906199996,\n",
      "        \"title\": \"LEGO Creative Tower Building Kit XXL 1600 Pieces 10664\",\n",
      "        \"category\": \"Toys\"\n",
      "    },\n",
      "    \"B00L71H0F4\": {\n",
      "        \"parent\": 692305292,\n",
      "        \"title\": \"Barkology Princess the Poodle Hand Puppet\",\n",
      "        \"category\": \"Toys\"\n",
      "    },\n",
      "    \"B004CLZRM4\": {\n",
      "        \"parent\": 59085350,\n",
      "        \"title\": \"Intex Mesh Lounge (Colors May Vary)\",\n",
      "        \"category\": \"Toys\"\n",
      "    },\n",
      "    \"B000PEOMC8\": {\n",
      "        \"parent\": 895316207,\n",
      "        \"title\": \"Intex River Run I Sport Lounge, Inflatable Water Float, 53 in Diameter\",\n",
      "        \"category\": \"Toys\"\n",
      "    },\n",
      "    \"B008W1BPWQ\": {\n",
      "        \"parent\": 397107238,\n",
      "        \"title\": \"Peppa Pig 7 Wood Puzzles In Wooden Storage Box (styles will vary)\",\n",
      "        \"category\": \"Toys\"\n",
      "    },\n",
      "    \"B00FZX71BI\": {\n",
      "        \"parent\": 480992295,\n",
      "        \"title\": \"Paraboard - Parallel Charging Board for Lipos with EC5 Connectors\",\n",
      "        \"category\": \"Toys\"\n",
      "    },\n",
      "    \"B00D4NJSJE\": {\n",
      "        \"parent\": 408940178,\n",
      "        \"title\": \"The Game of Life Money and Asset Board Game, Fame Edition\",\n",
      "        \"category\": \"Toys\"\n",
      "    },\n",
      "    \"B000HZZT7W\": {\n",
      "        \"parent\": 967346376,\n",
      "        \"title\": \"LCR Dice Game (Red Chips)\",\n",
      "        \"category\": \"Toys\"\n",
      "    },\n",
      "    \"B002G54DAA\": {\n",
      "        \"parent\": 57447684,\n",
      "        \"title\": \"BCW - Deluxe Currency Slab - Regular Bill - Dollar / Currency Collecting Supplies\",\n",
      "        \"category\": \"Toys\"\n",
      "    },\n",
      "    \"B003JT0L4Y\": {\n",
      "        \"parent\": 876626440,\n",
      "        \"title\": \"Ocean Life Stamps Birthday Party Supplies Loot Bag Accessories 24 Pieces per Unit\",\n",
      "        \"category\": \"Toys\"\n",
      "    },\n",
      "    \"B00KQUNNZ8\": {\n",
      "        \"parent\": 644368246,\n",
      "        \"title\": \"New Age Scare Halloween Party Pumpkin and Bat Hanging Round Lantern Decoration, Paper, 9\\\" Pack of 3\",\n",
      "        \"category\": \"Toys\"\n",
      "    },\n",
      "    \"B00WTGGGRO\": {\n",
      "        \"parent\": 162262449,\n",
      "        \"title\": \"Pokemon - Double Dragon Energy (97/108) - XY Roaring Skies\",\n",
      "        \"category\": \"Toys\"\n",
      "    },\n",
      "    \"B00WAKEQLW\": {\n",
      "        \"parent\": 824555589,\n",
      "        \"title\": \"Whiffer Sniffers Mystery Pack 1 Scented Backpack Clip\",\n",
      "        \"category\": \"Toys\"\n",
      "    },\n",
      "    \"B00M5AT30G\": {\n",
      "        \"parent\": 548190970,\n",
      "        \"title\": \"AmiGami Fox and Owl Figure 2-Pack\",\n",
      "        \"category\": \"Toys\"\n",
      "    },\n",
      "    \"B00GNDY40U\": {\n",
      "        \"parent\": 438056479,\n",
      "        \"title\": \"Pokemon - Gyarados (31/113) - Legendary Treasures\",\n",
      "        \"category\": \"Toys\"\n",
      "    },\n",
      "    \"B00WJ1OPMW\": {\n",
      "        \"parent\": 120071056,\n",
      "        \"title\": \"LeapFrog LeapTV Letter Factory Adventures Educational, Active Video Game\",\n",
      "        \"category\": \"Toys\"\n",
      "    },\n",
      "    \"B00IGXV9UI\": {\n",
      "        \"parent\": 765869385,\n",
      "        \"title\": \"Disney Planes: Fire & Rescue Scoop & Spray Firefighter Dusty\",\n",
      "        \"category\": \"Toys\"\n",
      "    },\n",
      "    \"B00JVY9J1M\": {\n",
      "        \"parent\": 771795950,\n",
      "        \"title\": \"Winston Zeddmore & Ecto-1: Funko POP! Rides x Ghostbusters Vinyl Figure\",\n",
      "        \"category\": \"Toys\"\n",
      "    },\n",
      "    \"B008AL15M8\": {\n",
      "        \"parent\": 211944547,\n",
      "        \"title\": \"Yu-Gi-Oh! - Solemn Judgment (GLD5-EN045) - Gold Series: Haunted Mine - Limited Edition - Ghost/Gold Hybrid Rare\",\n",
      "        \"category\": \"Toys\"\n",
      "    },\n",
      "    \"B00CAEEDC0\": {\n",
      "        \"parent\": 72805974,\n",
      "        \"title\": \"Seat Pets Car Seat Toy\",\n",
      "        \"category\": \"Toys\"\n",
      "    },\n",
      "    \"B000TFLAZA\": {\n",
      "        \"parent\": 149264874,\n",
      "        \"title\": \"Baby Einstein Octoplush\",\n",
      "        \"category\": \"Toys\"\n",
      "    }\n",
      "}\n"
     ]
    }
   ],
   "source": [
    "import json\n",
    "from openpyxl import load_workbook\n",
    "\n",
    "workbook = load_workbook(filename=\"sample_us.xlsx\")\n",
    "sheet = workbook.active\n",
    "\n",
    "products = {}\n",
    "\n",
    "# Используем values_only, потому что нужны только значения\n",
    "for row in sheet.iter_rows(min_row=2,\n",
    "                           min_col=4,\n",
    "                           max_col=7,\n",
    "                           values_only=True):\n",
    "    product_id = row[0]\n",
    "    product = {\n",
    "        \"parent\": row[1],\n",
    "        \"title\": row[2],\n",
    "        \"category\": row[3]\n",
    "    }\n",
    "    products[product_id] = product\n",
    "\n",
    "# Using json here to be able to format the output for displaying later\n",
    "print(json.dumps(products, indent=4))  # convert from python to JSON"
   ]
  },
  {
   "cell_type": "markdown",
   "metadata": {},
   "source": [
    "#### Как писать новую информацию в Excel"
   ]
  },
  {
   "cell_type": "code",
   "execution_count": 23,
   "metadata": {},
   "outputs": [],
   "source": [
    "from openpyxl import load_workbook\n",
    "\n",
    "# откроем наш первый ноутбук\n",
    "workbook = load_workbook(filename=\"hello_world.xlsx\")\n",
    "sheet = workbook.active\n",
    "\n",
    "# Запишем новую информацию\n",
    "sheet[\"C1\"] = \"writing ;)\"\n",
    "\n",
    "# Сохраним ноутбук\n",
    "workbook.save(filename=\"hello_world_append.xlsx\")"
   ]
  },
  {
   "cell_type": "markdown",
   "metadata": {},
   "source": [
    "#### Добавление/Удаление колонок и строк\n",
    "\n",
    "При ручной работе с файлами Excel очень часто приходится добавлять и удалять строки и столбцы. \n",
    "\n",
    "Openpyxl позволяет это делать с помощью методов:\n",
    "\n",
    "* .insert_rows()\n",
    "* .delete_rows()\n",
    "* .insert_cols()\n",
    "* .delete_cols()\n",
    "\n",
    "Каждый из этих методов принимает всего два аргумента:\n",
    "\n",
    "* idx\n",
    "* amount"
   ]
  },
  {
   "cell_type": "markdown",
   "metadata": {},
   "source": [
    "Создадим для удобство печатающую файлик функцию"
   ]
  },
  {
   "cell_type": "code",
   "execution_count": 24,
   "metadata": {},
   "outputs": [],
   "source": [
    "def print_rows():\n",
    "    for row in sheet.iter_rows(values_only=True):\n",
    "        print(row)"
   ]
  },
  {
   "cell_type": "code",
   "execution_count": 25,
   "metadata": {},
   "outputs": [
    {
     "name": "stdout",
     "output_type": "stream",
     "text": [
      "('hello', 'world!')\n"
     ]
    }
   ],
   "source": [
    "workbook = load_workbook(filename=\"hello_world.xlsx\")\n",
    "sheet = workbook.active\n",
    "print_rows()"
   ]
  },
  {
   "cell_type": "code",
   "execution_count": 26,
   "metadata": {},
   "outputs": [
    {
     "name": "stdout",
     "output_type": "stream",
     "text": [
      "(None, 'hello', 'world!')\n"
     ]
    }
   ],
   "source": [
    "# Вставим новую колонку перед колонкой 1 (\"A\")\n",
    "sheet.insert_cols(idx=1)\n",
    "print_rows()"
   ]
  },
  {
   "cell_type": "code",
   "execution_count": 27,
   "metadata": {},
   "outputs": [
    {
     "name": "stdout",
     "output_type": "stream",
     "text": [
      "(None, 'hello', None, None, None, None, None, 'world!')\n"
     ]
    }
   ],
   "source": [
    "# Вставим 5 колонок между колонкой  2 (\"B\") и колонкой 3 (\"C\")\n",
    "sheet.insert_cols(idx=3, amount=5)\n",
    "print_rows()"
   ]
  },
  {
   "cell_type": "code",
   "execution_count": 28,
   "metadata": {},
   "outputs": [
    {
     "name": "stdout",
     "output_type": "stream",
     "text": [
      "('hello', 'world!')\n"
     ]
    }
   ],
   "source": [
    "# Удалим эти безобразные пустые колонки\n",
    "sheet.delete_cols(idx=3, amount=5)\n",
    "sheet.delete_cols(idx=1)\n",
    "print_rows()\n"
   ]
  },
  {
   "cell_type": "code",
   "execution_count": 29,
   "metadata": {},
   "outputs": [
    {
     "name": "stdout",
     "output_type": "stream",
     "text": [
      "(None, None)\n",
      "('hello', 'world!')\n"
     ]
    }
   ],
   "source": [
    "# Вставим новую строку перед первой\n",
    "sheet.insert_rows(idx=1)\n",
    "print_rows()"
   ]
  },
  {
   "cell_type": "code",
   "execution_count": 30,
   "metadata": {},
   "outputs": [
    {
     "name": "stdout",
     "output_type": "stream",
     "text": [
      "(None, None)\n",
      "(None, None)\n",
      "(None, None)\n",
      "(None, None)\n",
      "('hello', 'world!')\n"
     ]
    }
   ],
   "source": [
    "#Вставим еще 3 строки в начале\n",
    "sheet.insert_rows(idx=1, amount=3)\n",
    "print_rows()"
   ]
  },
  {
   "cell_type": "code",
   "execution_count": 31,
   "metadata": {},
   "outputs": [
    {
     "name": "stdout",
     "output_type": "stream",
     "text": [
      "('hello', 'world!')\n"
     ]
    }
   ],
   "source": [
    "# Зачистим это безобразие\n",
    "sheet.delete_rows(idx=1, amount=4)\n",
    "print_rows()"
   ]
  },
  {
   "cell_type": "markdown",
   "metadata": {},
   "source": [
    "#### Добавление фильтров\n",
    "Вы можете использовать openpyxl для добавления фильтров и сортировок в ваш Excel-файл. Однако при открытии файла данные не будут переставлены в соответствии с этим отображением и фильтрами.\n",
    "\n",
    "Поначалу это может показаться довольно бесполезной функцией, но когда вы программно создаете электронную таблицу, которая будет отправлена и использована кем-то другим, все равно неплохо по крайней мере создать фильтры и позволить людям переиспользовать ее позже.\n",
    "\n",
    "Попробуем добавить некие фильтры в наш файл sample_us.xlsx:"
   ]
  },
  {
   "cell_type": "code",
   "execution_count": 32,
   "metadata": {},
   "outputs": [],
   "source": [
    "workbook = load_workbook(filename=\"sample_us.xlsx\") #открыли файл\n",
    "sheet = workbook.active"
   ]
  },
  {
   "cell_type": "code",
   "execution_count": 33,
   "metadata": {},
   "outputs": [
    {
     "data": {
      "text/plain": [
       "'A1:O50'"
      ]
     },
     "execution_count": 33,
     "metadata": {},
     "output_type": "execute_result"
    }
   ],
   "source": [
    "# проверим размерность таблички, используя метод \"dimensions\"\n",
    "sheet.dimensions"
   ]
  },
  {
   "cell_type": "code",
   "execution_count": 34,
   "metadata": {},
   "outputs": [],
   "source": [
    "sheet.auto_filter.ref = \"A1:O50\"\n",
    "workbook.save(filename=\"sample_with_filters.xlsx\")"
   ]
  },
  {
   "cell_type": "markdown",
   "metadata": {},
   "source": [
    "#### Добавление формул\n",
    "Формулы являются одной из самых мощных функций Excel.\n",
    "\n",
    "Они дают вам возможность применять конкретные математические формулы для диапазона ячеек. Использовать формулы с openpyxl так же просто, как редактировать значение ячейки.\n",
    "\n",
    "Так можно посмотреть список формул, поддерживаемых openpyxl:"
   ]
  },
  {
   "cell_type": "code",
   "execution_count": 35,
   "metadata": {},
   "outputs": [
    {
     "data": {
      "text/plain": [
       "frozenset({'ABS',\n",
       "           'ACCRINT',\n",
       "           'ACCRINTM',\n",
       "           'ACOS',\n",
       "           'ACOSH',\n",
       "           'AMORDEGRC',\n",
       "           'AMORLINC',\n",
       "           'AND',\n",
       "           'AREAS',\n",
       "           'ASC',\n",
       "           'ASIN',\n",
       "           'ASINH',\n",
       "           'ATAN',\n",
       "           'ATAN2',\n",
       "           'ATANH',\n",
       "           'AVEDEV',\n",
       "           'AVERAGE',\n",
       "           'AVERAGEA',\n",
       "           'AVERAGEIF',\n",
       "           'AVERAGEIFS',\n",
       "           'BAHTTEXT',\n",
       "           'BESSELI',\n",
       "           'BESSELJ',\n",
       "           'BESSELK',\n",
       "           'BESSELY',\n",
       "           'BETADIST',\n",
       "           'BETAINV',\n",
       "           'BIN2DEC',\n",
       "           'BIN2HEX',\n",
       "           'BIN2OCT',\n",
       "           'BINOMDIST',\n",
       "           'CEILING',\n",
       "           'CELL',\n",
       "           'CHAR',\n",
       "           'CHIDIST',\n",
       "           'CHIINV',\n",
       "           'CHITEST',\n",
       "           'CHOOSE',\n",
       "           'CLEAN',\n",
       "           'CODE',\n",
       "           'COLUMN',\n",
       "           'COLUMNS',\n",
       "           'COMBIN',\n",
       "           'COMPLEX',\n",
       "           'CONCATENATE',\n",
       "           'CONFIDENCE',\n",
       "           'CONVERT',\n",
       "           'CORREL',\n",
       "           'COS',\n",
       "           'COSH',\n",
       "           'COUNT',\n",
       "           'COUNTA',\n",
       "           'COUNTBLANK',\n",
       "           'COUNTIF',\n",
       "           'COUNTIFS',\n",
       "           'COUPDAYBS',\n",
       "           'COUPDAYS',\n",
       "           'COUPDAYSNC',\n",
       "           'COUPNCD',\n",
       "           'COUPNUM',\n",
       "           'COUPPCD',\n",
       "           'COVAR',\n",
       "           'CRITBINOM',\n",
       "           'CUBEKPIMEMBER',\n",
       "           'CUBEMEMBER',\n",
       "           'CUBEMEMBERPROPERTY',\n",
       "           'CUBERANKEDMEMBER',\n",
       "           'CUBESET',\n",
       "           'CUBESETCOUNT',\n",
       "           'CUBEVALUE',\n",
       "           'CUMIPMT',\n",
       "           'CUMPRINC',\n",
       "           'DATE',\n",
       "           'DATEDIF',\n",
       "           'DATEVALUE',\n",
       "           'DAVERAGE',\n",
       "           'DAY',\n",
       "           'DAYS360',\n",
       "           'DB',\n",
       "           'DCOUNT',\n",
       "           'DCOUNTA',\n",
       "           'DDB',\n",
       "           'DEC2BIN',\n",
       "           'DEC2HEX',\n",
       "           'DEC2OCT',\n",
       "           'DEGREES',\n",
       "           'DELTA',\n",
       "           'DEVSQ',\n",
       "           'DGET',\n",
       "           'DISC',\n",
       "           'DMAX',\n",
       "           'DMIN',\n",
       "           'DOLLAR',\n",
       "           'DOLLARDE',\n",
       "           'DOLLARFR',\n",
       "           'DPRODUCT',\n",
       "           'DSTDEV',\n",
       "           'DSTDEVP',\n",
       "           'DSUM',\n",
       "           'DURATION',\n",
       "           'DVAR',\n",
       "           'DVARP',\n",
       "           'ECMA.CEILING',\n",
       "           'EDATE',\n",
       "           'EFFECT',\n",
       "           'EOMONTH',\n",
       "           'ERF',\n",
       "           'ERFC',\n",
       "           'ERROR.TYPE',\n",
       "           'EVEN',\n",
       "           'EXACT',\n",
       "           'EXP',\n",
       "           'EXPONDIST',\n",
       "           'FACT',\n",
       "           'FACTDOUBLE',\n",
       "           'FALSE',\n",
       "           'FDIST',\n",
       "           'FIND',\n",
       "           'FINDB',\n",
       "           'FINV',\n",
       "           'FISHER',\n",
       "           'FISHERINV',\n",
       "           'FIXED',\n",
       "           'FLOOR',\n",
       "           'FORECAST',\n",
       "           'FREQUENCY',\n",
       "           'FTEST',\n",
       "           'FV',\n",
       "           'FVSCHEDULE',\n",
       "           'GAMMADIST',\n",
       "           'GAMMAINV',\n",
       "           'GAMMALN',\n",
       "           'GCD',\n",
       "           'GEOMEAN',\n",
       "           'GESTEP',\n",
       "           'GETPIVOTDATA',\n",
       "           'GROWTH',\n",
       "           'HARMEAN',\n",
       "           'HEX2BIN',\n",
       "           'HEX2DEC',\n",
       "           'HEX2OCT',\n",
       "           'HLOOKUP',\n",
       "           'HOUR',\n",
       "           'HYPERLINK',\n",
       "           'HYPGEOMDIST',\n",
       "           'IF',\n",
       "           'IFERROR',\n",
       "           'IMABS',\n",
       "           'IMAGINARY',\n",
       "           'IMARGUMENT',\n",
       "           'IMCONJUGATE',\n",
       "           'IMCOS',\n",
       "           'IMDIV',\n",
       "           'IMEXP',\n",
       "           'IMLN',\n",
       "           'IMLOG10',\n",
       "           'IMLOG2',\n",
       "           'IMPOWER',\n",
       "           'IMPRODUCT',\n",
       "           'IMREAL',\n",
       "           'IMSIN',\n",
       "           'IMSQRT',\n",
       "           'IMSUB',\n",
       "           'IMSUM',\n",
       "           'INDEX',\n",
       "           'INDIRECT',\n",
       "           'INFO',\n",
       "           'INT',\n",
       "           'INTERCEPT',\n",
       "           'INTRATE',\n",
       "           'IPMT',\n",
       "           'IRR',\n",
       "           'ISBLANK',\n",
       "           'ISERR',\n",
       "           'ISERROR',\n",
       "           'ISEVEN',\n",
       "           'ISLOGICAL',\n",
       "           'ISNA',\n",
       "           'ISNONTEXT',\n",
       "           'ISNUMBER',\n",
       "           'ISO.CEILING',\n",
       "           'ISODD',\n",
       "           'ISPMT',\n",
       "           'ISREF',\n",
       "           'ISTEXT',\n",
       "           'JIS',\n",
       "           'KURT',\n",
       "           'LARGE',\n",
       "           'LCM',\n",
       "           'LEFT',\n",
       "           'LEFTB',\n",
       "           'LEN',\n",
       "           'LENB',\n",
       "           'LINEST',\n",
       "           'LN',\n",
       "           'LOG',\n",
       "           'LOG10',\n",
       "           'LOGEST',\n",
       "           'LOGINV',\n",
       "           'LOGNORMDIST',\n",
       "           'LOOKUP',\n",
       "           'LOWER',\n",
       "           'MATCH',\n",
       "           'MAX',\n",
       "           'MAXA',\n",
       "           'MDETERM',\n",
       "           'MDURATION',\n",
       "           'MEDIAN',\n",
       "           'MID',\n",
       "           'MIDB',\n",
       "           'MIN',\n",
       "           'MINA',\n",
       "           'MINUTE',\n",
       "           'MINVERSE',\n",
       "           'MIRR',\n",
       "           'MMULT',\n",
       "           'MOD',\n",
       "           'MODE',\n",
       "           'MONTH',\n",
       "           'MROUND',\n",
       "           'MULTINOMIAL',\n",
       "           'N',\n",
       "           'NA',\n",
       "           'NEGBINOMDIST',\n",
       "           'NETWORKDAYS',\n",
       "           'NETWORKDAYS.INTL',\n",
       "           'NOMINAL',\n",
       "           'NORMDIST',\n",
       "           'NORMINV',\n",
       "           'NORMSDIST',\n",
       "           'NORMSINV',\n",
       "           'NOT',\n",
       "           'NOW',\n",
       "           'NPER',\n",
       "           'NPV',\n",
       "           'OCT2BIN',\n",
       "           'OCT2DEC',\n",
       "           'OCT2HEX',\n",
       "           'ODD',\n",
       "           'ODDFPRICE',\n",
       "           'ODDFYIELD',\n",
       "           'ODDLPRICE',\n",
       "           'ODDLYIELD',\n",
       "           'OFFSET',\n",
       "           'OR',\n",
       "           'PEARSON',\n",
       "           'PERCENTILE',\n",
       "           'PERCENTRANK',\n",
       "           'PERMUT',\n",
       "           'PHONETIC',\n",
       "           'PI',\n",
       "           'PMT',\n",
       "           'POISSON',\n",
       "           'POWER',\n",
       "           'PPMT',\n",
       "           'PRICE',\n",
       "           'PRICEDISC',\n",
       "           'PRICEMAT',\n",
       "           'PROB',\n",
       "           'PRODUCT',\n",
       "           'PROPER',\n",
       "           'PV',\n",
       "           'QUARTILE',\n",
       "           'QUOTIENT',\n",
       "           'RADIANS',\n",
       "           'RAND',\n",
       "           'RANDBETWEEN',\n",
       "           'RANK',\n",
       "           'RATE',\n",
       "           'RECEIVED',\n",
       "           'REPLACE',\n",
       "           'REPLACEB',\n",
       "           'REPT',\n",
       "           'RIGHT',\n",
       "           'RIGHTB',\n",
       "           'ROMAN',\n",
       "           'ROUND',\n",
       "           'ROUNDDOWN',\n",
       "           'ROUNDUP',\n",
       "           'ROW',\n",
       "           'ROWS',\n",
       "           'RSQ',\n",
       "           'RTD',\n",
       "           'SEARCH',\n",
       "           'SEARCHB',\n",
       "           'SECOND',\n",
       "           'SERIESSUM',\n",
       "           'SIGN',\n",
       "           'SIN',\n",
       "           'SINH',\n",
       "           'SKEW',\n",
       "           'SLN',\n",
       "           'SLOPE',\n",
       "           'SMALL',\n",
       "           'SQRT',\n",
       "           'SQRTPI',\n",
       "           'STANDARDIZE',\n",
       "           'STDEV STDEVA',\n",
       "           'STDEVP',\n",
       "           'STDEVPA STEYX',\n",
       "           'SUBSTITUTE',\n",
       "           'SUBTOTAL',\n",
       "           'SUM',\n",
       "           'SUMIF',\n",
       "           'SUMIFS',\n",
       "           'SUMPRODUCT',\n",
       "           'SUMSQ',\n",
       "           'SUMX2MY2',\n",
       "           'SUMX2PY2',\n",
       "           'SUMXMY2',\n",
       "           'SYD',\n",
       "           'T',\n",
       "           'TAN',\n",
       "           'TANH',\n",
       "           'TBILLEQ',\n",
       "           'TBILLPRICE',\n",
       "           'TBILLYIELD',\n",
       "           'TDIST',\n",
       "           'TEXT',\n",
       "           'TIME',\n",
       "           'TIMEVALUE',\n",
       "           'TINV',\n",
       "           'TODAY',\n",
       "           'TRANSPOSE',\n",
       "           'TREND',\n",
       "           'TRIM',\n",
       "           'TRIMMEAN',\n",
       "           'TRUE ADDRESS',\n",
       "           'TRUNC',\n",
       "           'TTEST',\n",
       "           'TYPE',\n",
       "           'UPPER',\n",
       "           'VALUE',\n",
       "           'VAR',\n",
       "           'VARA',\n",
       "           'VARP',\n",
       "           'VARPA',\n",
       "           'VDB',\n",
       "           'VLOOKUP',\n",
       "           'WEEKDAY',\n",
       "           'WEEKNUM',\n",
       "           'WEIBULL',\n",
       "           'WORKDAY ',\n",
       "           'WORKDAY.INTL',\n",
       "           'XIRR',\n",
       "           'XNPV',\n",
       "           'YEAR',\n",
       "           'YEARFRAC',\n",
       "           'YIELD',\n",
       "           'YIELDDISC',\n",
       "           'YIELDMAT',\n",
       "           'ZTEST'})"
      ]
     },
     "execution_count": 35,
     "metadata": {},
     "output_type": "execute_result"
    }
   ],
   "source": [
    "from openpyxl.utils import FORMULAE\n",
    "FORMULAE"
   ]
  },
  {
   "cell_type": "markdown",
   "metadata": {},
   "source": [
    "Давайте добавим некоторые формулы в нашу электронную таблицу sample_us.xlsx.\n",
    "\n",
    "Начнем с чего-то простого, давайте проверим средний рейтинг звезд по 49 отзывам в таблице:"
   ]
  },
  {
   "cell_type": "code",
   "execution_count": 36,
   "metadata": {},
   "outputs": [],
   "source": [
    "# Star rating лежит в колонке \"H\"\n",
    "sheet[\"P2\"] = \"=AVERAGE(H2:H50)\"\n",
    "workbook.save(filename=\"sample_formulae.xlsx\")"
   ]
  },
  {
   "cell_type": "markdown",
   "metadata": {},
   "source": [
    "Можно использовать ту же методологию, чтобы добавить любые формулы в таблицу. Например, давайте посчитаем количество отзывов, которые получили оценки >0"
   ]
  },
  {
   "cell_type": "code",
   "execution_count": 37,
   "metadata": {},
   "outputs": [],
   "source": [
    "# \"Полезные\" оценки хранятся в колонке \"I\"\n",
    "sheet[\"P3\"] = '=COUNTIF(I2:I100, \">0\")'\n",
    "workbook.save(filename=\"sample_formulae.xlsx\")"
   ]
  },
  {
   "cell_type": "markdown",
   "metadata": {},
   "source": [
    "#### Условное форматирование\n",
    "Эта функция является одной из моих любимых, когда дело доходит до добавления стилей в Excel.\n",
    "\n",
    "Это гораздо более тонкий подход к стилю, поскольку он динамически применяет стили в зависимости от того, какие данные дежат в ячейке.\n",
    "\n",
    "В двух словах, условное форматирование позволяет вам указать список стилей, которые будут применяться к ячейке (или диапазону ячеек) в соответствии с конкретными условиями.\n",
    "\n",
    "Например, широко распространенным вариантом использования является наличие баланса, в котором все отрицательные итоги отмечены красным, а положительные - зеленым. Такое форматирование позволет намного удобнее выделить хорошие и плохие периоды.\n",
    "\n",
    "Без лишних слов давайте выберем нашу любимую электронную таблицу - sample_us.xlsx - и добавим условное форматирование.\n",
    "\n",
    "Начнем с добавления условия, которое добавляет красный фон ко всем обзорам менее чем с 3 звездами:"
   ]
  },
  {
   "cell_type": "code",
   "execution_count": 38,
   "metadata": {},
   "outputs": [],
   "source": [
    "from openpyxl.styles import PatternFill, colors\n",
    "from openpyxl.styles.differential import DifferentialStyle\n",
    "from openpyxl.formatting.rule import Rule\n",
    "\n",
    "red_background = PatternFill(bgColor=colors.COLOR_INDEX[2])\n",
    "diff_style = DifferentialStyle(fill=red_background)  # это несколько стилей\n",
    "rule = Rule(type=\"expression\", dxf=diff_style)\n",
    "rule.formula = [\"$H1<3\"]\n",
    "sheet.conditional_formatting.add(\"A1:O50\", rule)\n",
    "workbook.save(\"sample_conditional_formatting.xlsx\")"
   ]
  },
  {
   "cell_type": "markdown",
   "metadata": {},
   "source": [
    "С точки зрения кода, единственными новинками здесь являются объекты **DifferentialStyle** и **Rule**:\n",
    "\n",
    "**DifferentialStyle** используется для объединения нескольких стилей, таких как шрифты, границы, выравнивание и так далее.\n",
    "**Rule** отвечает за выбор ячеек и применение стилей, если ячейки соответствуют логике правила.\n",
    "Используя объект **Rule**, вы можете создавать многочисленные сценарии условного форматирования.\n",
    "\n",
    "Однако для простоты пакет openpyxl предлагает 3 встроенных формата, которые облегчают создание нескольких распространенных шаблонов условного форматирования. Эти встроенные модули:\n",
    "\n",
    "* ColorScale\n",
    "* IconSet\n",
    "* DataBar\n",
    "\n",
    "**ColorScale** дает вам возможность создавать цветовые градиенты:"
   ]
  },
  {
   "cell_type": "code",
   "execution_count": 39,
   "metadata": {},
   "outputs": [],
   "source": [
    "from openpyxl.formatting.rule import ColorScaleRule\n",
    "workbook = load_workbook(filename=\"sample_us.xlsx\") #открыли файл\n",
    "sheet = workbook.active\n",
    "color_scale_rule = ColorScaleRule(start_type=\"min\",\n",
    "                                  start_color=colors.COLOR_INDEX[2],\n",
    "                                  end_type=\"max\",\n",
    "                                  end_color=colors.COLOR_INDEX[3])\n",
    "\n",
    "# Давайте добавим градиент к колонке рейтинга \"H\"\n",
    "sheet.conditional_formatting.add(\"H2:H50\", color_scale_rule)\n",
    "workbook.save(filename=\"sample_conditional_formatting_color_scale.xlsx\")"
   ]
  },
  {
   "cell_type": "code",
   "execution_count": 40,
   "metadata": {},
   "outputs": [
    {
     "data": {
      "text/plain": [
       "'3.0.4'"
      ]
     },
     "execution_count": 40,
     "metadata": {},
     "output_type": "execute_result"
    }
   ],
   "source": [
    "import openpyxl\n",
    "openpyxl.__version__"
   ]
  },
  {
   "cell_type": "code",
   "execution_count": 41,
   "metadata": {},
   "outputs": [
    {
     "name": "stdout",
     "output_type": "stream",
     "text": [
      "alabaster==0.7.12\n",
      "anaconda-client==1.7.2\n",
      "anaconda-navigator==1.9.12\n",
      "anaconda-project==0.8.3\n",
      "argh==0.26.2\n",
      "asn1crypto==1.3.0\n",
      "astroid @ file:///C:/ci/astroid_1592487315634/work\n",
      "astropy==4.0.1.post1\n",
      "atomicwrites==1.4.0\n",
      "attrs==19.3.0\n",
      "autopep8 @ file:///tmp/build/80754af9/autopep8_1592412889138/work\n",
      "Babel==2.8.0\n",
      "backcall==0.2.0\n",
      "backports.functools-lru-cache==1.6.1\n",
      "backports.shutil-get-terminal-size==1.0.0\n",
      "backports.tempfile==1.0\n",
      "backports.weakref==1.0.post1\n",
      "bcrypt==3.1.7\n",
      "beautifulsoup4==4.9.1\n",
      "bitarray @ file:///C:/ci/bitarray_1594751093906/work\n",
      "bkcharts==0.2\n",
      "bleach==3.1.5\n",
      "bokeh @ file:///C:/ci/bokeh_1593178781838/work\n",
      "boto==2.49.0\n",
      "Bottleneck==1.3.2\n",
      "brotlipy==0.7.0\n",
      "certifi==2020.6.20\n",
      "cffi==1.14.0\n",
      "chardet==3.0.4\n",
      "click==7.1.2\n",
      "cloudpickle @ file:///tmp/build/80754af9/cloudpickle_1594141588948/work\n",
      "clyent==1.2.2\n",
      "colorama==0.4.3\n",
      "comtypes==1.1.7\n",
      "conda==4.8.3\n",
      "conda-build==3.18.11\n",
      "conda-package-handling==1.7.0\n",
      "conda-verify==3.4.2\n",
      "contextlib2==0.6.0.post1\n",
      "cryptography==2.9.2\n",
      "cycler==0.10.0\n",
      "Cython @ file:///C:/ci/cython_1594829190914/work\n",
      "cytoolz==0.10.1\n",
      "dask @ file:///tmp/build/80754af9/dask-core_1594156306305/work\n",
      "decorator==4.4.2\n",
      "defusedxml==0.6.0\n",
      "diff-match-patch @ file:///tmp/build/80754af9/diff-match-patch_1594828741838/work\n",
      "distributed @ file:///C:/ci/distributed_1594742844291/work\n",
      "docutils==0.16\n",
      "entrypoints==0.3\n",
      "et-xmlfile==1.0.1\n",
      "fastcache==1.1.0\n",
      "filelock==3.0.12\n",
      "flake8==3.8.3\n",
      "Flask==1.1.2\n",
      "fsspec==0.7.4\n",
      "future==0.18.2\n",
      "gevent @ file:///C:/ci/gevent_1593005471151/work\n",
      "glob2==0.7\n",
      "gmpy2==2.0.8\n",
      "greenlet==0.4.16\n",
      "h5py==2.10.0\n",
      "HeapDict==1.0.1\n",
      "html5lib @ file:///tmp/build/80754af9/html5lib_1593446221756/work\n",
      "idna @ file:///tmp/build/80754af9/idna_1593446292537/work\n",
      "imageio @ file:///tmp/build/80754af9/imageio_1594161405741/work\n",
      "imagesize==1.2.0\n",
      "importlib-metadata @ file:///C:/ci/importlib-metadata_1593446511143/work\n",
      "intervaltree @ file:///tmp/build/80754af9/intervaltree_1594361675072/work\n",
      "ipykernel @ file:///C:/ci/ipykernel_1594745408489/work/dist/ipykernel-5.3.2-py3-none-any.whl\n",
      "ipython @ file:///C:/ci/ipython_1593447482397/work\n",
      "ipython-genutils==0.2.0\n",
      "ipywidgets==7.5.1\n",
      "isort==4.3.21\n",
      "itsdangerous==1.1.0\n",
      "jdcal==1.4.1\n",
      "jedi @ file:///C:/ci/jedi_1592833825077/work\n",
      "Jinja2==2.11.2\n",
      "joblib @ file:///tmp/build/80754af9/joblib_1594236160679/work\n",
      "json5==0.9.5\n",
      "jsonschema==3.2.0\n",
      "jupyter==1.0.0\n",
      "jupyter-client @ file:///tmp/build/80754af9/jupyter_client_1594826976318/work\n",
      "jupyter-console==6.1.0\n",
      "jupyter-core==4.6.3\n",
      "jupyterlab==2.1.5\n",
      "jupyterlab-server @ file:///tmp/build/80754af9/jupyterlab_server_1594164409481/work\n",
      "keyring @ file:///C:/ci/keyring_1593109799227/work\n",
      "kiwisolver==1.2.0\n",
      "lazy-object-proxy==1.4.3\n",
      "libarchive-c==2.9\n",
      "llvmlite==0.33.0+1.g022ab0f\n",
      "locket==0.2.0\n",
      "lxml @ file:///C:/ci/lxml_1594822774489/work\n",
      "MarkupSafe==1.1.1\n",
      "matplotlib @ file:///C:/ci/matplotlib-base_1592837548929/work\n",
      "mccabe==0.6.1\n",
      "menuinst==1.4.16\n",
      "mistune==0.8.4\n",
      "mkl-fft==1.1.0\n",
      "mkl-random==1.1.1\n",
      "mkl-service==2.3.0\n",
      "mock==4.0.2\n",
      "more-itertools==8.4.0\n",
      "mpmath==1.1.0\n",
      "msgpack==1.0.0\n",
      "multipledispatch==0.6.0\n",
      "navigator-updater==0.2.1\n",
      "nbconvert==5.6.1\n",
      "nbformat==5.0.7\n",
      "networkx @ file:///tmp/build/80754af9/networkx_1594377231366/work\n",
      "nltk @ file:///tmp/build/80754af9/nltk_1592496090529/work\n",
      "nose==1.3.7\n",
      "notebook==6.0.3\n",
      "numba==0.50.1\n",
      "numexpr==2.7.1\n",
      "numpy==1.18.5\n",
      "numpydoc @ file:///tmp/build/80754af9/numpydoc_1594166760263/work\n",
      "olefile==0.46\n",
      "openpyxl @ file:///tmp/build/80754af9/openpyxl_1594167385094/work\n",
      "packaging==20.4\n",
      "pandas @ file:///C:/ci/pandas_1592833613419/work\n",
      "pandocfilters==1.4.2\n",
      "paramiko==2.7.1\n",
      "parso==0.7.0\n",
      "partd==1.1.0\n",
      "path==13.1.0\n",
      "pathlib2==2.3.5\n",
      "pathtools==0.1.2\n",
      "patsy==0.5.1\n",
      "pep8==1.7.1\n",
      "pexpect==4.8.0\n",
      "pickleshare==0.7.5\n",
      "Pillow @ file:///C:/ci/pillow_1594298230227/work\n",
      "pkginfo==1.5.0.1\n",
      "pluggy==0.13.1\n",
      "ply==3.11\n",
      "prometheus-client==0.8.0\n",
      "prompt-toolkit==3.0.5\n",
      "psutil==5.7.0\n",
      "py @ file:///tmp/build/80754af9/py_1593446248552/work\n",
      "pycodestyle==2.6.0\n",
      "pycosat==0.6.3\n",
      "pycparser @ file:///tmp/build/80754af9/pycparser_1594388511720/work\n",
      "pycurl==7.43.0.5\n",
      "pydocstyle @ file:///tmp/build/80754af9/pydocstyle_1592848020240/work\n",
      "pyflakes==2.2.0\n",
      "Pygments==2.6.1\n",
      "pylint @ file:///C:/ci/pylint_1592482039483/work\n",
      "PyNaCl @ file:///C:/ci/pynacl_1595000047588/work\n",
      "pyodbc===4.0.0-unsupported\n",
      "pyOpenSSL @ file:///tmp/build/80754af9/pyopenssl_1594392929924/work\n",
      "pyparsing==2.4.7\n",
      "pyreadline==2.1\n",
      "pyrsistent==0.16.0\n",
      "PySocks==1.7.1\n",
      "pytest==5.4.3\n",
      "python-dateutil==2.8.1\n",
      "python-jsonrpc-server @ file:///tmp/build/80754af9/python-jsonrpc-server_1594397536060/work\n",
      "python-language-server @ file:///C:/ci/python-language-server_1594162130238/work\n",
      "pytz==2020.1\n",
      "PyWavelets==1.1.1\n",
      "pywin32==227\n",
      "pywin32-ctypes==0.2.0\n",
      "pywinpty==0.5.7\n",
      "PyYAML==5.3.1\n",
      "pyzmq==19.0.1\n",
      "QDarkStyle==2.8.1\n",
      "QtAwesome==0.7.2\n",
      "qtconsole @ file:///tmp/build/80754af9/qtconsole_1592848611704/work\n",
      "QtPy==1.9.0\n",
      "regex @ file:///C:/ci/regex_1593419644658/work\n",
      "requests @ file:///tmp/build/80754af9/requests_1592841827918/work\n",
      "rope==0.17.0\n",
      "Rtree==0.9.4\n",
      "ruamel-yaml==0.15.87\n",
      "scikit-image==0.16.2\n",
      "scikit-learn @ file:///C:/ci/scikit-learn_1592853510272/work\n",
      "scipy @ file:///C:/ci/scipy_1592916963468/work\n",
      "seaborn==0.10.1\n",
      "Send2Trash==1.5.0\n",
      "simplegeneric==0.8.1\n",
      "singledispatch==3.4.0.3\n",
      "sip==4.19.13\n",
      "six==1.15.0\n",
      "snowballstemmer==2.0.0\n",
      "sortedcollections==1.2.1\n",
      "sortedcontainers==2.2.2\n",
      "soupsieve==2.0.1\n",
      "Sphinx @ file:///tmp/build/80754af9/sphinx_1594223420021/work\n",
      "sphinxcontrib-applehelp==1.0.2\n",
      "sphinxcontrib-devhelp==1.0.2\n",
      "sphinxcontrib-htmlhelp==1.0.3\n",
      "sphinxcontrib-jsmath==1.0.1\n",
      "sphinxcontrib-qthelp==1.0.3\n",
      "sphinxcontrib-serializinghtml==1.1.4\n",
      "sphinxcontrib-websupport @ file:///tmp/build/80754af9/sphinxcontrib-websupport_1593446360927/work\n",
      "spyder @ file:///C:/ci/spyder_1594830825244/work\n",
      "spyder-kernels @ file:///C:/ci/spyder-kernels_1594751670175/work\n",
      "SQLAlchemy @ file:///C:/ci/sqlalchemy_1593445271541/work\n",
      "statsmodels==0.11.1\n",
      "sympy @ file:///C:/ci/sympy_1594234545115/work\n",
      "tables==3.6.1\n",
      "tblib==1.6.0\n",
      "terminado==0.8.3\n",
      "testpath==0.4.4\n",
      "threadpoolctl @ file:///tmp/tmp9twdgx9k/threadpoolctl-2.1.0-py3-none-any.whl\n",
      "toml @ file:///tmp/build/80754af9/toml_1592853716807/work\n",
      "toolz==0.10.0\n",
      "tornado==6.0.4\n",
      "tqdm @ file:///tmp/build/80754af9/tqdm_1593446365756/work\n",
      "traitlets==4.3.3\n",
      "typing-extensions @ file:///tmp/build/80754af9/typing_extensions_1592847887441/work\n",
      "ujson==1.35\n",
      "unicodecsv==0.14.1\n",
      "urllib3==1.25.9\n",
      "watchdog @ file:///C:/ci/watchdog_1593447437088/work\n",
      "wcwidth @ file:///tmp/build/80754af9/wcwidth_1593447189090/work\n",
      "webencodings==0.5.1\n",
      "Werkzeug==1.0.1\n",
      "widgetsnbextension==3.5.1\n",
      "win-inet-pton==1.1.0\n",
      "win-unicode-console==0.5\n",
      "wincertstore==0.2\n",
      "wrapt==1.11.2\n",
      "xlrd==1.2.0\n",
      "XlsxWriter==1.2.9\n",
      "xlwings==0.19.5\n",
      "xlwt==1.3.0\n",
      "xmltodict==0.12.0\n",
      "yapf @ file:///tmp/build/80754af9/yapf_1593528177422/work\n",
      "zict==2.0.0\n",
      "zipp==3.1.0\n",
      "zope.event==4.4\n",
      "zope.interface==4.7.1\n"
     ]
    }
   ],
   "source": [
    "!pip freeze"
   ]
  },
  {
   "cell_type": "markdown",
   "metadata": {},
   "source": [
    "А еще можно третий цвет добавить!"
   ]
  },
  {
   "cell_type": "code",
   "execution_count": 42,
   "metadata": {},
   "outputs": [],
   "source": [
    "from openpyxl.formatting.rule import ColorScaleRule\n",
    "workbook = load_workbook(filename=\"sample_us.xlsx\") #открыли файл\n",
    "sheet = workbook.active\n",
    "color_scale_rule = ColorScaleRule(start_type=\"num\",\n",
    "                                  start_value=1,\n",
    "                                  start_color=colors.COLOR_INDEX[2],\n",
    "                                  mid_type=\"num\",\n",
    "                                  mid_value=3,\n",
    "                                  mid_color=colors.COLOR_INDEX[5],\n",
    "                                  end_type=\"num\",\n",
    "                                  end_value=5,\n",
    "                                  end_color=colors.COLOR_INDEX[3])\n",
    "\n",
    "# Давайте добавим градиент к колонке рейтинга \"H\"\n",
    "sheet.conditional_formatting.add(\"H2:H50\", color_scale_rule)\n",
    "workbook.save(filename=\"sample_conditional_formatting_color_scale_3.xlsx\")"
   ]
  },
  {
   "cell_type": "markdown",
   "metadata": {},
   "source": [
    "Элемент - **IconSet** позволяет добавить значок в ячейку в соответствии с ее значением.\n",
    "Весь список иконок можно посмотреть тут: https://openpyxl.readthedocs.io/en/stable/formatting.html#iconset"
   ]
  },
  {
   "cell_type": "code",
   "execution_count": 43,
   "metadata": {},
   "outputs": [],
   "source": [
    "from openpyxl.formatting.rule import IconSetRule\n",
    "workbook = load_workbook(filename=\"sample_us.xlsx\") #открыли файл\n",
    "sheet = workbook.active\n",
    "icon_set_rule = IconSetRule(\"5Arrows\", \"num\", [1, 2, 3, 4, 5])\n",
    "sheet.conditional_formatting.add(\"H2:H50\", icon_set_rule)\n",
    "workbook.save(\"sample_conditional_formatting_icon_set.xlsx\")"
   ]
  },
  {
   "cell_type": "markdown",
   "metadata": {},
   "source": [
    "А еще в ячейку можно поместить Progress Bar"
   ]
  },
  {
   "cell_type": "code",
   "execution_count": 44,
   "metadata": {},
   "outputs": [],
   "source": [
    "from openpyxl.formatting.rule import DataBarRule\n",
    "workbook = load_workbook(filename=\"sample_us.xlsx\") #открыли файл\n",
    "sheet = workbook.active\n",
    "data_bar_rule = DataBarRule(start_type=\"num\",\n",
    "                            start_value=1,\n",
    "                            end_type=\"num\",\n",
    "                            end_value=\"5\",\n",
    "                            color=colors.COLOR_INDEX[3])\n",
    "sheet.conditional_formatting.add(\"H2:H50\", data_bar_rule)\n",
    "workbook.save(\"sample_conditional_formatting_data_bar.xlsx\")"
   ]
  },
  {
   "cell_type": "markdown",
   "metadata": {},
   "source": [
    "### Добавление рисунков\n",
    "Еще в Excel модно рисовать диаграммы и графики прямо из python.\n",
    "\n",
    "Графики - отличный способ быстро визуализировать и понимать множество данных. Существует множество различных типов графиков: гистограмма, круговая диаграмма, линейная диаграмма и т. д. openpyxl поддерживает многие из них.\n",
    "\n",
    "Здесь вы увидите только пару примеров диаграмм, потому что теория, лежащая в их основе, одинакова для каждого типа:\n",
    "\n",
    "Для любой диаграммы, которую вы хотите построить, вам нужно определить тип диаграммы: BarChart, LineChart и т.д., а также данные, которые будут использоваться для диаграммы.\n",
    "\n",
    "Прежде чем вы сможете построить свою диаграмму, вам необходимо определить, какие данные вы хотите на ней видеть. Иногда вы можете использовать набор данных как есть, но иногда вам нужно немного покрутить данные, чтобы получить дополнительную информацию.\n",
    "\n",
    "Давайте начнем с создания нового файла:"
   ]
  },
  {
   "cell_type": "code",
   "execution_count": 45,
   "metadata": {},
   "outputs": [],
   "source": [
    "from openpyxl import Workbook\n",
    "from openpyxl.chart import BarChart, Reference\n",
    "\n",
    "workbook = Workbook()\n",
    "sheet = workbook.active\n",
    "\n",
    "# Let's create some sample sales data\n",
    "rows = [\n",
    "    [\"Product\", \"Online\", \"Store\"],\n",
    "    [1, 30, 45],\n",
    "    [2, 40, 30],\n",
    "    [3, 40, 25],\n",
    "    [4, 50, 30],\n",
    "    [5, 30, 25],\n",
    "    [6, 25, 35],\n",
    "    [7, 20, 40],\n",
    " ]\n",
    "\n",
    "for row in rows:\n",
    "    sheet.append(row)"
   ]
  },
  {
   "cell_type": "markdown",
   "metadata": {},
   "source": [
    "Теперь вы сделаем гистограмму, которая отображает общее количество продаж продукта:"
   ]
  },
  {
   "cell_type": "code",
   "execution_count": 46,
   "metadata": {},
   "outputs": [],
   "source": [
    "chart = BarChart()\n",
    "data = Reference(worksheet=sheet,\n",
    "                 min_row=1,\n",
    "                 max_row=8,\n",
    "                 min_col=2,\n",
    "                 max_col=3)\n",
    "\n",
    "chart.add_data(data, titles_from_data=True)\n",
    "sheet.add_chart(chart, \"E2\")\n",
    "\n",
    "workbook.save(\"chart.xlsx\")"
   ]
  },
  {
   "cell_type": "markdown",
   "metadata": {},
   "source": [
    "Немного поменяем данные и нарисуем график:"
   ]
  },
  {
   "cell_type": "code",
   "execution_count": 51,
   "metadata": {},
   "outputs": [],
   "source": [
    "import random\n",
    "from openpyxl import Workbook\n",
    "from openpyxl.chart import LineChart, Reference\n",
    "\n",
    "workbook = Workbook()\n",
    "sheet = workbook.active\n",
    "\n",
    "# Создадим данные\n",
    "rows = [\n",
    "    [\"\", \"January\", \"February\", \"March\", \"April\",\n",
    "    \"May\", \"June\", \"July\", \"August\", \"September\",\n",
    "     \"October\", \"November\", \"December\"],\n",
    "    [1, ],\n",
    "    [2, ],\n",
    "    [3, ],\n",
    "]\n",
    "\n",
    "for row in rows:\n",
    "    sheet.append(row)\n",
    "\n",
    "for row in sheet.iter_rows(min_row=2,\n",
    "                           max_row=4,\n",
    "                           min_col=2,\n",
    "                           max_col=13):\n",
    "    for cell in row:\n",
    "        cell.value = random.randrange(5, 100)"
   ]
  },
  {
   "cell_type": "code",
   "execution_count": 52,
   "metadata": {},
   "outputs": [
    {
     "data": {
      "text/plain": [
       "[['',\n",
       "  'January',\n",
       "  'February',\n",
       "  'March',\n",
       "  'April',\n",
       "  'May',\n",
       "  'June',\n",
       "  'July',\n",
       "  'August',\n",
       "  'September',\n",
       "  'October',\n",
       "  'November',\n",
       "  'December'],\n",
       " [1],\n",
       " [2],\n",
       " [3]]"
      ]
     },
     "execution_count": 52,
     "metadata": {},
     "output_type": "execute_result"
    }
   ],
   "source": [
    "rows"
   ]
  },
  {
   "cell_type": "markdown",
   "metadata": {},
   "source": [
    "С помощью приведенного выше кода мы сгенерировали случайные данные о продажах 3 различных продуктов за год.\n",
    "Теперь можно нарисовать график:"
   ]
  },
  {
   "cell_type": "code",
   "execution_count": 53,
   "metadata": {},
   "outputs": [],
   "source": [
    "chart = LineChart()\n",
    "data = Reference(worksheet=sheet,\n",
    "                 min_row=2,\n",
    "                 max_row=4,\n",
    "                 min_col=1,\n",
    "                 max_col=13)\n",
    "\n",
    "chart.add_data(data, from_rows=True, titles_from_data=True)\n",
    "sheet.add_chart(chart, \"C6\")\n",
    "\n",
    "workbook.save(\"line_chart.xlsx\")"
   ]
  },
  {
   "cell_type": "markdown",
   "metadata": {},
   "source": [
    "Здесь следует иметь в виду, что при добавлении данных вы используете from_rows = True. Этот аргумент делает график построчно, а не столбец за столбцом.\n",
    "\n",
    "В данных примера вы видите, что у каждого продукта есть строка с 12 значениями (1 столбец в месяц).Поэтоиму мы используем from_rows. Если не передать этот аргумент, по умолчанию график попытается построить график по столбцу, и вы получите ежемесячное сравнение продаж.\n",
    "\n",
    "Другое отличие, связанное с изменением аргумента выше, заключается в том, что наша ссылка теперь начинается с первого столбца, min_col = 1, а не со второго. Это изменение необходимо, поскольку в диаграмме теперь ожидается, что в первом столбце будут заголовки.\n",
    "\n",
    "Есть еще несколько пунктов, которые можно изменить в стиле диаграммы. Например, можно добавить определенные категории на график и подписать оси:"
   ]
  },
  {
   "cell_type": "code",
   "execution_count": 54,
   "metadata": {},
   "outputs": [],
   "source": [
    "chart = LineChart()\n",
    "data = Reference(worksheet=sheet,\n",
    "                 min_row=2,\n",
    "                 max_row=4,\n",
    "                 min_col=1,\n",
    "                 max_col=13)\n",
    "\n",
    "chart.add_data(data, from_rows=True, titles_from_data=True)\n",
    "sheet.add_chart(chart, \"l6\")\n",
    "cats = Reference(worksheet=sheet,\n",
    "                 min_row=1,\n",
    "                 max_row=1,\n",
    "                 min_col=2,\n",
    "                 max_col=13)\n",
    "chart.set_categories(cats)\n",
    "chart.x_axis.title = \"Months\"\n",
    "chart.y_axis.title = \"Sales (per unit)\"\n",
    "\n",
    "\n",
    "\n",
    "chart2 = LineChart()\n",
    "data = Reference(worksheet=sheet,\n",
    "                 min_row=2,\n",
    "                 max_row=4,\n",
    "                 min_col=1,\n",
    "                 max_col=13)\n",
    "\n",
    "chart2.add_data(data, from_rows=True, titles_from_data=True)\n",
    "sheet.add_chart(chart2, \"C22\")\n",
    "chart2.x_axis.title = \"Months\"\n",
    "chart2.y_axis.title = \"Sales (per unit)\"\n",
    "\n",
    "workbook.save(\"line_chart.xlsx\")\n"
   ]
  },
  {
   "cell_type": "code",
   "execution_count": null,
   "metadata": {},
   "outputs": [],
   "source": []
  }
 ],
 "metadata": {
  "kernelspec": {
   "display_name": "Python 3",
   "language": "python",
   "name": "python3"
  },
  "language_info": {
   "codemirror_mode": {
    "name": "ipython",
    "version": 3
   },
   "file_extension": ".py",
   "mimetype": "text/x-python",
   "name": "python",
   "nbconvert_exporter": "python",
   "pygments_lexer": "ipython3",
   "version": "3.8.3"
  }
 },
 "nbformat": 4,
 "nbformat_minor": 2
}
