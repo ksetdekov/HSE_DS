{
 "cells": [
  {
   "cell_type": "markdown",
   "metadata": {},
   "source": [
    "# Python для анализа данных\n",
    "\n",
    "## Веб-скрэйпинг: переход по ссылкам, скачивание файлов\n",
    "\n",
    "*Автор: Татьяна Рогович, НИУ ВШЭ*"
   ]
  },
  {
   "cell_type": "markdown",
   "metadata": {},
   "source": [
    "На прошлом занятии мы с вами работали с табличными данными. Второй очень частой задачей для скрэйпинга является автоматический переход по ссылкам. Обычно мы встречаемся с двумя сценариями: переход по нумерованным страницам (обычно это выдача поиска или некоторый упорядоченный архив документов) и переход по определенным ссылкам на странице. Сегодня будем учиться делать и то, и то.\n",
    "\n",
    "Давайте начнем с учебного примера."
   ]
  },
  {
   "cell_type": "markdown",
   "metadata": {},
   "source": [
    "# Задача\n",
    "\n",
    "По ссылке http://py4e-data.dr-chuck.net/known_by_Lilian.html список людей, которых знает Лилиан. Нужно найти ее 18-го друга (считаем с одного) и перейти по ссылке (там будет список людей, которых знает этот друг). Какой имя вы извлечете, если эту операцию повторить 7 раз? То есть нам нужно найти 18-го друга 6-го человека.\n",
    "\n",
    "Прежде всего изучите исходный код страницы. В каком теге лежат ссылки?"
   ]
  },
  {
   "cell_type": "code",
   "execution_count": 1,
   "metadata": {},
   "outputs": [
    {
     "name": "stdout",
     "output_type": "stream",
     "text": [
      "<a href=\"http://py4e-data.dr-chuck.net/known_by_Tigan.html\">Tigan</a>\n"
     ]
    }
   ],
   "source": [
    "# решение\n",
    "import requests \n",
    "from bs4 import BeautifulSoup\n",
    "\n",
    "friends = requests.get('http://py4e-data.dr-chuck.net/known_by_Lilian.html').text\n",
    "soup = BeautifulSoup(friends, 'lxml')\n",
    "print(soup.find_all('a')[17]) # ссылки лежат в тэге 'a', находим 18-го друга"
   ]
  },
  {
   "cell_type": "markdown",
   "metadata": {},
   "source": [
    "Обратите внимание, что нужная нам информация лежит в атрибуте href, достать текст, как мы делали раньше не поможет."
   ]
  },
  {
   "cell_type": "code",
   "execution_count": 2,
   "metadata": {},
   "outputs": [
    {
     "name": "stdout",
     "output_type": "stream",
     "text": [
      "http://py4e-data.dr-chuck.net/known_by_Tigan.html\n"
     ]
    }
   ],
   "source": [
    "print(soup.find_all('a')[17].get('href')) # с помощью метода get достаем информацию из атрибут href"
   ]
  },
  {
   "cell_type": "markdown",
   "metadata": {},
   "source": [
    "Теперь осталось упаковать все в цикл."
   ]
  },
  {
   "cell_type": "code",
   "execution_count": 5,
   "metadata": {},
   "outputs": [
    {
     "name": "stdout",
     "output_type": "stream",
     "text": [
      "http://py4e-data.dr-chuck.net/known_by_Tigan.html\n",
      "http://py4e-data.dr-chuck.net/known_by_Mickey.html\n",
      "http://py4e-data.dr-chuck.net/known_by_Marvin.html\n",
      "http://py4e-data.dr-chuck.net/known_by_Yago.html\n",
      "http://py4e-data.dr-chuck.net/known_by_Daood.html\n",
      "http://py4e-data.dr-chuck.net/known_by_Jillian.html\n",
      "Ответ: Bradly\n"
     ]
    }
   ],
   "source": [
    "friends = requests.get('http://py4e-data.dr-chuck.net/known_by_Lilian.html').text\n",
    "soup = BeautifulSoup(friends, 'lxml')\n",
    "\n",
    "for ix in range(6):\n",
    "    link = soup.find_all('a')[17].get('href')\n",
    "    print(link)\n",
    "    soup = BeautifulSoup(requests.get(link).text, 'lxml')\n",
    "    \n",
    "print('Ответ: '+soup.find_all('a')[17].text)"
   ]
  },
  {
   "cell_type": "markdown",
   "metadata": {},
   "source": [
    "## Скачивание файлов"
   ]
  },
  {
   "cell_type": "markdown",
   "metadata": {},
   "source": [
    "Кстати, еще одно применение скрэйпинга, о котором мы пока не поговорили - это автоматизированное скачивание файлов. Например, вы хотите скачать научные статьи по определенному ключевому слову или прайс-листы поставщика, которые он загружает на сайт в эскеле.\n",
    "\n",
    "Давайте посмотрим, как скачивать файлы на примере pdf и заодно попробуем походить по ссылкам. Кстати, этот процесс еще часто называется spidering или crawling, потому что ваш скрипт как паучок ползет по ссылкам (отсюда и название первых поисковых роботов - spider).\n",
    "\n",
    "Давайте попробуем сохранить англоязычные summary дисертаций, защищенных в 2019 году\n",
    "\n",
    "Мы уже отредактировали фильтры и ссылка их запомнила. Позже сегодня посмотрим как можно самим заполнять такие поля с помощью Selenium.\n",
    "\n",
    "https://www.hse.ru/sci/diss/?author=&chief=&year=2019&type=1&degree_type=&council=&spec=&fulltext=yes"
   ]
  },
  {
   "cell_type": "code",
   "execution_count": 14,
   "metadata": {},
   "outputs": [],
   "source": [
    "link = 'https://www.hse.ru/sci/diss/?author=&chief=&year=2019&type=1&degree_type=&council=&spec=&fulltext=yes'\n",
    "soup = BeautifulSoup(requests.get(link).text, 'lxml')"
   ]
  },
  {
   "cell_type": "markdown",
   "metadata": {},
   "source": [
    "Давайте для начала поэкспериментируем с первым кандидатом."
   ]
  },
  {
   "cell_type": "code",
   "execution_count": 15,
   "metadata": {},
   "outputs": [
    {
     "name": "stdout",
     "output_type": "stream",
     "text": [
      "<!DOCTYPE html>\n",
      "<html><head><title>Диссертации – Национальный исследовательский университет «Высшая школа экономики»</title><meta charset=\"utf-8\"/><meta content=\"width=device-width, initial-scale=1\" name=\"viewport\"/><link href=\"/f/src/global/i/favicon/favicon_ios_180x180.png\" rel=\"apple-touch-icon\" sizes=\"180x180\"/><link href=\"/f/src/global/i/favicon/favicon_32x32.png\" rel=\"icon\" sizes=\"32x32\" type=\"image/png\"/><link href=\"/f/src/global/i/favicon/favicon_16x16.png\" rel=\"icon\" sizes=\"16x16\" type=\"image/png\"/><link color=\"#242f63\" href=\"/f/src/global/i/favicon/favicon.svg\" rel=\"mask-icon\"/><link href=\"/f/src/manifest/manifest_ru.json\" rel=\"manifest\"/><meta content=\"/f/src/global/i/favicon/browserconfig.xml\" name=\"msapplication-config\"/><link href=\"/favicon.ico\" rel=\"shortcut icon\" type=\"image/x-icon\"/><link href=\"/f/src/projects/unshm1/unshm1.css\" media=\"all\" rel=\"stylesheet\"/><link href=\"/f/src/global/css/sitemap.css\" media=\"all\" rel=\"stylesheet\"/><link href=\"/f/src/global/css/vision.css\" media=\"all\" rel=\"stylesheet\"/><link href=\"/f/src/edu/css/edu2.css\" media=\"all\" rel=\"stylesheet\"/><link href=\"/f/src/global/css/owl.carousel2.min.css\" media=\"all\" rel=\"stylesheet\"/><!--[if lt IE 10]><script src=\"/f/src/global/bower_components/es5-shim/es5-shim.min.js\"></script><![endif]--><script src=\"/f/src/global/js/cache/jquery-1.10.1.min/jquery.cookie/jquery-ui/jquery.ui.touch-punch.min/hse.utils/errtrack/main/modernizr/popup/switcher/tag/jquery.cookie/sitemap.ajax/vision/ctrlshifte/fotorama/owl.carousel2.min/emerge/events-switcher/masonry.pkgd.min/imagesloaded.pkgd.min/universal.js\"></script><!-- counter-->\n",
      "<script src=\"https://www.hse.ru/f/gtm/ip\"></script>\n",
      "<script>(function(w,d,s,l,i){w[l]=w[l]||[];w[l].push({'gtm.start':\n",
      "\t\t\t\tnew Date().getTime(),event:'gtm.js'});var f=d.getElementsByTagName(s)[0],\n",
      "\t\t\t\tj=d.createElement(s),dl=l!='dataLayer'?'&l='+l:'';j.async=true;j.src=\n",
      "\t\t\t\t'https://www.googletagmanager.com/gtm.js?id='+i+dl;f.parentNode.insertBefore(j,f);\n",
      "\t\t\t\t})(window,document,'script','dataLayer','GTM-P6DCQX');</script>\n",
      "<!-- /counter--><script async=\"\" src=\"https://www.hse.ru/f/src/global/js/job.js\"></script></head><body data-lang=\"ru\"><div class=\"page\"><!--noindex--><div class=\"browser_outdate\" style=\"display:none;\">В старых версиях браузеров сайт может отображаться некорректно. Для оптимальной работы с сайтом рекомендуем воспользоваться современным браузером.</div><div class=\"gdpr_bar\" style=\"display:none;\"><div class=\"gdpr_bar__inner\"><noindex>\n",
      "<p>Мы используем файлы cookies для улучшения работы сайта НИУ ВШЭ и большего удобства его использования. Более подробную информацию об использовании файлов cookies можно найти <a href=\"https://www.hse.ru/cookie.html\" rel=\"nofollow noopener\" target=\"_blank\" title=\"Пройти по ссылке\">здесь</a>, наши правила обработки персональных данных – <a href=\"https://www.hse.ru/data_protection_regulation\" rel=\"nofollow noopener\" target=\"_blank\" title=\"Пройти по ссылке\">здесь</a>. Продолжая пользоваться сайтом, вы подтверждаете, что были проинформированы об использовании файлов cookies сайтом НИУ ВШЭ и согласны с нашими правилами обработки персональных данных. Вы можете отключить файлы cookies в настройках Вашего браузера.</p>\n",
      "</noindex><span class=\"gdpr_bar__close\">✖</span></div></div><!--/noindex--><div class=\"sv-control\"><div class=\"sv-control__block\"><ul class=\"sv-control__list sv-size\"><li class=\"sv-control__item sv-control__item--s_normal active\" data-type=\"size\" data-value=\"normal\">A</li><li class=\"sv-control__item sv-control__item--s_medium\" data-type=\"size\" data-value=\"medium\">A</li><li class=\"sv-control__item sv-control__item--s_large\" data-type=\"size\" data-value=\"large\">A</li></ul></div><div class=\"sv-control__block\"><ul class=\"sv-control__list sv-spacing\"><li class=\"sv-control__item sv-control__item--ls_normal active\" data-type=\"spacing\" data-value=\"normal\">АБB</li><li class=\"sv-control__item sv-control__item sv-control__item--ls_medium\" data-type=\"spacing\" data-value=\"medium\">АБB</li><li class=\"sv-control__item sv-control__item--ls_large\" data-type=\"spacing\" data-value=\"large\">АБB</li></ul></div><div class=\"sv-control__block\"><ul class=\"sv-control__list sv-contrast\"><li class=\"sv-control__item sv-control__item---color1 active\" data-type=\"contrast\" data-value=\"normal\">А</li><li class=\"sv-control__item sv-control__item---color2\" data-type=\"contrast\" data-value=\"invert\">А</li><li class=\"sv-control__item sv-control__item---color3\" data-type=\"contrast\" data-value=\"blue\">А</li><li class=\"sv-control__item sv-control__item---color4\" data-type=\"contrast\" data-value=\"beige\">А</li><li class=\"sv-control__item sv-control__item---color5\" data-type=\"contrast\" data-value=\"brown\">А</li></ul></div><div class=\"sv-control__block\"><ul class=\"sv-control__list sv-image\"><li class=\"sv-control__item sv-control__item--image_on active\" data-type=\"image\" data-value=\"on\"></li><li class=\"sv-control__item sv-control__item--image_off\" data-type=\"image\" data-value=\"off\"></li></ul></div><div class=\"sv-control__block\"><div class=\"sv-off js-sv-off\">Обычная версия сайта</div></div></div><header class=\"header header_dark_gradient\"><div class=\"crop\"><div class=\"header-top header-top--primary\"><div class=\"left\"><span class=\"control control_sitemap\"><span class=\"control_sitemap__line\"></span></span><a class=\"control control_home\" href=\"https://www.hse.ru/\"><ins><svg height=\"26\" viewbox=\"0 0 18 26\" width=\"18\" xmlns=\"http://www.w3.org/2000/svg\"><path class=\"control__path\" d=\"M6.66 0l.134.002h1.336c2.639 0 3.745.464 4.994 1.428 1.819 1.424 2.105 3.492 2.105 4.525 0 1.283-.393 2.638-1.356 3.742-.714.856-1.955 2.097-4.388 2.388-1.663.2-2.891.127-3.506.061v-1.306c.273.038.676.074 1.222.074 1.656 0 2.829-.827 3.543-1.719.81-.983.98-1.909 1.015-2.737h-4.555v-1.282h4.515c-.116-.866-.448-1.528-.985-2.179-1.035-1.283-2.499-1.497-3.462-1.497l-6.505-.002-.768-1.498h6.66zm-6.317 26l.804-1.564v-21.844h3.55v21.82h2.508v-8.523h3.276v8.514h2.838v-3.878c0-2.351-.122-5.622-2.77-7.311l1.542-.566c3.194 1.186 4.791 4.283 4.791 8.362v3.428l.804 1.562h-17.344z\" fill=\"#1658DA\"></path></svg></ins></a></div><div class=\"right\"><div class=\"header__controls\"><span class=\"control control_vision\" title=\"Версия для слабовидящих\"><svg height=\"12\" viewbox=\"0 0 21 12\" width=\"21\" xmlns=\"http://www.w3.org/2000/svg\"><title>Версия для слабовидящих</title><path class=\"control__path\" d=\"M10.5 0c3.438 0 6.937 2.016 10.5 6.047-.844.844-1.383 1.375-1.617 1.594-.234.219-.805.703-1.711 1.453-.906.75-1.641 1.266-2.203 1.547-.563.281-1.305.578-2.227.891-.922.313-1.836.469-2.742.469-1.125 0-2.156-.141-3.094-.422-.938-.281-1.875-.766-2.813-1.453-.938-.688-1.672-1.273-2.203-1.758-.531-.484-1.328-1.273-2.391-2.367 2.031-2.031 3.836-3.539 5.414-4.523 1.578-.984 3.273-1.477 5.086-1.477zm0 10.266c1.156 0 2.148-.422 2.977-1.266.828-.844 1.242-1.844 1.242-3s-.414-2.156-1.242-3c-.828-.844-1.82-1.266-2.977-1.266-1.156 0-2.148.422-2.977 1.266-.828.844-1.242 1.844-1.242 3s.414 2.156 1.242 3c.828.844 1.82 1.266 2.977 1.266zm0-5.766c0 .438.141.797.422 1.078s.641.422 1.078.422c.313 0 .625-.109.938-.328v.328c0 .688-.234 1.273-.703 1.758-.469.484-1.047.727-1.734.727-.688 0-1.266-.242-1.734-.727-.469-.484-.703-1.07-.703-1.758s.234-1.273.703-1.758c.469-.484 1.047-.727 1.734-.727h.375c-.25.313-.375.641-.375.984z\" fill=\"#1658DA\"></path></svg></span><a class=\"control control_user\" href=\"https://www.hse.ru/user/\" title=\"Личный кабинет сотрудника ВШЭ\"><ins><svg class=\"control_svg\" height=\"18\" viewbox=\"0 0 17 18\" width=\"17\" xmlns=\"http://www.w3.org/2000/svg\"><title>Личный кабинет сотрудника ВШЭ</title><path class=\"control__path\" d=\"M13.702 13.175c.827.315 1.486.817 1.978 1.506.492.689.738 1.467.738 2.333h-16.419c0-1.417.532-2.5 1.595-3.248.394-.276 1.358-.591 2.894-.945.945-.118 1.457-.374 1.536-.768.039-.157.059-.61.059-1.358 0-.118-.039-.217-.118-.295-.157-.157-.315-.433-.472-.827-.079-.315-.157-.787-.236-1.417-.157.039-.285-.02-.384-.177-.098-.157-.177-.364-.236-.62l-.089-.443c-.157-.866-.098-1.28.177-1.24-.118-.157-.217-.532-.295-1.122-.118-.866-.059-1.634.177-2.303.276-.748.768-1.319 1.476-1.713.709-.394 1.476-.571 2.303-.532.787.039 1.506.276 2.156.709.65.433 1.093 1.024 1.329 1.772.197.551.217 1.319.059 2.303-.079.472-.157.768-.236.886.118-.039.207 0 .266.118.059.118.079.266.059.443l-.059.472c-.02.138-.049.246-.089.325l-.118.413c-.039.276-.108.472-.207.591-.098.118-.226.157-.384.118-.079.866-.217 1.476-.413 1.831 0 .039-.069.138-.207.295-.138.157-.207.256-.207.295v.65c0 .394.039.689.118.886.079.197.354.354.827.472.276.118.679.217 1.211.295.532.079.935.177 1.211.295z\" fill=\"#1658DA\"></path></svg></ins></a><span class=\"control control_search\" title=\"Поиск\"><ins class=\"popup_opener\"><svg class=\"control_svg\" height=\"19\" viewbox=\"0 0 19 19\" width=\"19\" xmlns=\"http://www.w3.org/2000/svg\"><title>Поиск</title><path d=\"M12.927 7.9c0-1.384-.492-2.568-1.476-3.552s-2.168-1.476-3.552-1.476-2.568.492-3.552 1.476-1.476 2.168-1.476 3.552.492 2.568 1.476 3.552 2.168 1.476 3.552 1.476 2.568-.492 3.552-1.476 1.476-2.168 1.476-3.552zm4.053 11.1l-4.603-4.592c-1.339.928-2.832 1.391-4.477 1.391-1.07 0-2.093-.208-3.069-.623-.976-.415-1.818-.976-2.525-1.683-.707-.707-1.268-1.549-1.683-2.525-.415-.976-.623-1.999-.623-3.069 0-1.07.208-2.093.623-3.069.415-.976.976-1.818 1.683-2.525.707-.707 1.549-1.268 2.525-1.683.976-.415 1.999-.623 3.069-.623 1.07 0 2.093.208 3.069.623.976.415 1.818.976 2.525 1.683.707.707 1.268 1.549 1.683 2.525.415.976.623 1.999.623 3.069 0 1.646-.464 3.138-1.391 4.477l4.603 4.603-2.031 2.02z\" fill=\"#1658DA\"></path></svg></ins><div class=\"popup popup_search not_display\"><div class=\"popup__inner\"><div class=\"search-form\"><form action=\"https://www.hse.ru/search/index.html\"><div class=\"search-form__button\"><button class=\"button button_grey\">Поиск</button></div><div class=\"search-form__input\"><input class=\"input input100 input_mr\" name=\"text\" placeholder=\"Поиск\" type=\"text\"/><input name=\"searchid\" type=\"hidden\" value=\"2284688\"/><input name=\"simple\" type=\"hidden\" value=\"1\"/></div></form></div><div class=\"popup__block popup__block_indent\"><a class=\"link_dark\" href=\"https://www.hse.ru/search/search.html?simple=0\">Расширенный поиск</a><span class=\"b-adv-search\"></span></div></div></div></span><span class=\"control is-mobile control_menu js-control_menu_open\" onclick=\"void(0)\"><ins></ins></span></div></div><div class=\"header_body\"><div class=\"header_breadcrumb is-mobile c\"><div class=\"header_breadcrumb__inner no_crumb_arrow\"><a class=\"header_breadcrumb__link fa-header_body__crumb--first fa-header_body__crumb\" href=\"https://www.hse.ru/\">НИУ ВШЭ</a></div></div><div class=\"header_breadcrumb is-desktop\"><div class=\"header_breadcrumb__inner no_crumb_arrow js-header_breadcrumb__inner--wide\"><ul class=\"header_breadcrumb__list\"><li class=\"header_breadcrumb__item\"><a class=\"header_breadcrumb__link\" href=\"/\"><span>Национальный исследовательский университет «Высшая школа экономики»</span></a></li><li class=\"header_breadcrumb__item\"><span class=\"header_breadcrumb__current\"><span>Диссертации</span></span></li></ul></div></div></div></div><div class=\"header-board js-mobile_popup row\"><div class=\"header-board__top js-mobile_popup__top is-fixed is-mobile\"><div class=\"header-top header-top--secondary\"><div class=\"left\"><a class=\"control control_user\" href=\"https://www.hse.ru/user/\" title=\"Личный кабинет сотрудника ВШЭ\"><ins><svg class=\"control_svg\" height=\"18\" viewbox=\"0 0 17 18\" width=\"17\" xmlns=\"http://www.w3.org/2000/svg\"><title>Личный кабинет сотрудника ВШЭ</title><path class=\"control__path\" d=\"M13.702 13.175c.827.315 1.486.817 1.978 1.506.492.689.738 1.467.738 2.333h-16.419c0-1.417.532-2.5 1.595-3.248.394-.276 1.358-.591 2.894-.945.945-.118 1.457-.374 1.536-.768.039-.157.059-.61.059-1.358 0-.118-.039-.217-.118-.295-.157-.157-.315-.433-.472-.827-.079-.315-.157-.787-.236-1.417-.157.039-.285-.02-.384-.177-.098-.157-.177-.364-.236-.62l-.089-.443c-.157-.866-.098-1.28.177-1.24-.118-.157-.217-.532-.295-1.122-.118-.866-.059-1.634.177-2.303.276-.748.768-1.319 1.476-1.713.709-.394 1.476-.571 2.303-.532.787.039 1.506.276 2.156.709.65.433 1.093 1.024 1.329 1.772.197.551.217 1.319.059 2.303-.079.472-.157.768-.236.886.118-.039.207 0 .266.118.059.118.079.266.059.443l-.059.472c-.02.138-.049.246-.089.325l-.118.413c-.039.276-.108.472-.207.591-.098.118-.226.157-.384.118-.079.866-.217 1.476-.413 1.831 0 .039-.069.138-.207.295-.138.157-.207.256-.207.295v.65c0 .394.039.689.118.886.079.197.354.354.827.472.276.118.679.217 1.211.295.532.079.935.177 1.211.295z\" fill=\"#1658DA\"></path></svg></ins></a><span class=\"control control_white control_search js-search_mobile_control\" title=\"Поиск\"><ins><svg class=\"control_svg\" height=\"19\" viewbox=\"0 0 19 19\" width=\"19\" xmlns=\"http://www.w3.org/2000/svg\"><title>Поиск</title><path d=\"M12.927 7.9c0-1.384-.492-2.568-1.476-3.552s-2.168-1.476-3.552-1.476-2.568.492-3.552 1.476-1.476 2.168-1.476 3.552.492 2.568 1.476 3.552 2.168 1.476 3.552 1.476 2.568-.492 3.552-1.476 1.476-2.168 1.476-3.552zm4.053 11.1l-4.603-4.592c-1.339.928-2.832 1.391-4.477 1.391-1.07 0-2.093-.208-3.069-.623-.976-.415-1.818-.976-2.525-1.683-.707-.707-1.268-1.549-1.683-2.525-.415-.976-.623-1.999-.623-3.069 0-1.07.208-2.093.623-3.069.415-.976.976-1.818 1.683-2.525.707-.707 1.549-1.268 2.525-1.683.976-.415 1.999-.623 3.069-.623 1.07 0 2.093.208 3.069.623.976.415 1.818.976 2.525 1.683.707.707 1.268 1.549 1.683 2.525.415.976.623 1.999.623 3.069 0 1.646-.464 3.138-1.391 4.477l4.603 4.603-2.031 2.02z\" fill=\"#1658DA\"></path></svg></ins></span></div><div class=\"right\"><div class=\"header__controls\"><span class=\"control is-mobile control_menu control_menu--close js-control_menu_close\" onclick=\"void(0)\"><ins></ins></span></div></div></div><div class=\"js-search_mobile_popup not_display is-mobile\"><div class=\"search-form\"><form action=\"https://www.hse.ru/search/search.html\"><div class=\"search-form__button\"><button class=\"button button_grey\">Поиск</button></div><div class=\"search-form__input\"><input class=\"fa-search_input input input100 input_mr\" name=\"text\" placeholder=\"Поиск по сайту\" type=\"text\"/><input name=\"simple\" type=\"hidden\" value=\"1\"/><input name=\"searchid\" type=\"hidden\" value=\"2284688\"/></div></form></div><div class=\"popup__block\"><a class=\"link_white\" href=\"https://www.hse.ru/search/search.html?simple=0&amp;searchid=2284688\">Расширенный поиск</a></div></div><div class=\"header-board__title\"><a class=\"link_white link_no-underline\"></a></div></div><div class=\"header-board__inner js-mobile_popup__inner\"></div></div></div></header><div class=\"layout has-sidebar\"><div class=\"grid grid_3\"><div class=\"wrapper row\"><div class=\"sidebar\"><div class=\"sidebar__inner\"><div></div></div></div></div><div class=\"main\"><link href=\"/n/stat/common/vkr/dist/css/app.css\" rel=\"stylesheet\"/><script src=\"/n/stat/diss/diss_bundle.js\"></script></div></div></div><footer class=\"footer\"><div class=\"footer__border\"></div><div class=\"footer__inner row\"><div class=\"fa-footer\"><div class=\"fa-footer__menu\"><div class=\"fa-footer__menu_inner b-row b-row--4\"><ul class=\"navigation b-row__item\"><li class=\"navigation__item navigation__item--parent\"><a class=\"navigation__link\" href=\"//www.hse.ru/org/hse/info/\">О Вышке</a></li><li class=\"navigation__item\"><a class=\"navigation__link\" href=\"//www.hse.ru/figures/\">Цифры и факты</a></li><li class=\"navigation__item\"><a class=\"navigation__link\" href=\"//www.hse.ru/orgstructure/\">Руководство и структура</a></li><li class=\"navigation__item\"><a class=\"navigation__link\" href=\"//www.hse.ru/org/persons/\">Преподаватели и сотрудники</a></li><li class=\"navigation__item\"><a class=\"navigation__link\" href=\"//www.hse.ru/buildinghse\">Корпуса и общежития</a></li><li class=\"navigation__item\"><a class=\"navigation__link\" href=\"https://www.hse.ru/org/hse/aup/procurement/\">Закупки</a></li><li class=\"navigation__item\"><a class=\"navigation__link\" href=\"//www.hse.ru/appeal/\">Обращения граждан в НИУ ВШЭ</a></li><li class=\"navigation__item\"><a class=\"navigation__link\" href=\"//endowment.hse.ru/\">Фонд целевого капитала</a></li><li class=\"navigation__item\"><a class=\"navigation__link\" href=\"https://www.hse.ru/anticorruption\">Противодействие коррупции</a></li><li class=\"navigation__item\"><a class=\"navigation__link\" href=\"https://www.hse.ru/anticorruption/information\">Сведения о доходах, расходах, об имуществе и обязательствах имущественного характера</a></li><li class=\"navigation__item\"><a class=\"navigation__link\" href=\"//www.hse.ru/sveden/\">Сведения об образовательной организации</a></li><li class=\"navigation__item\"><a class=\"navigation__link\" href=\"https://inclusive.hse.ru/\">ВШЭ для людей с ограниченными возможностями здоровья и инвалидов</a></li><li class=\"navigation__item\"><a class=\"navigation__link\" href=\"https://pay.hse.ru/\">Единая платежная страница</a></li></ul><ul class=\"navigation b-row__item\"><li class=\"navigation__item navigation__item--parent\"><a class=\"navigation__link\" href=\"//www.hse.ru/education/\">ОБРАЗОВАНИЕ</a></li><li class=\"navigation__item\"><a class=\"navigation__link\" href=\"//school.hse.ru\">Лицей</a></li><li class=\"navigation__item\"><a class=\"navigation__link\" href=\"https://fdp.hse.ru/\">Довузовская подготовка</a></li><li class=\"navigation__item\"><a class=\"navigation__link\" href=\"//olymp.hse.ru/\">Олимпиады</a></li><li class=\"navigation__item\"><a class=\"navigation__link\" href=\"//ba.hse.ru/\">Прием в бакалавриат</a></li><li class=\"navigation__item\"><a class=\"navigation__link\" href=\"https://www.hse.ru/plus\">Вышка+</a></li><li class=\"navigation__item\"><a class=\"navigation__link\" href=\"//ma.hse.ru/\">Прием в магистратуру</a></li><li class=\"navigation__item\"><a class=\"navigation__link\" href=\"//aspirantura.hse.ru/\">Аспирантура</a></li><li class=\"navigation__item\"><a class=\"navigation__link\" href=\"//busedu.hse.ru/\">Дополнительное образование</a></li><li class=\"navigation__item\"><a class=\"navigation__link\" href=\"https://busedu.hse.ru/corporate\">Корпоративное обучение</a></li><li class=\"navigation__item\"><a class=\"navigation__link\" href=\"https://career.hse.ru/\">Центр развития карьеры</a></li><li class=\"navigation__item\"><a class=\"navigation__link\" href=\"https://careerspace.hse.ru/\">Карьерные карты</a></li></ul><ul class=\"navigation b-row__item\"><li class=\"navigation__item navigation__item--parent\"><a class=\"navigation__link\" href=\"//www.hse.ru/science/\">НАУКА</a></li><li class=\"navigation__item\"><a class=\"navigation__link\" href=\"//www.hse.ru/science/centers\">Научные подразделения</a></li><li class=\"navigation__item\"><a class=\"navigation__link\" href=\"https://www.hse.ru/org/projects/\">Исследовательские проекты</a></li><li class=\"navigation__item\"><a class=\"navigation__link\" href=\"//www.hse.ru/monitoring/\">Мониторинги</a></li><li class=\"navigation__item\"><a class=\"navigation__link\" href=\"https://www.hse.ru/news/announcements/scientific_actions/\">Научные мероприятия</a></li><li class=\"navigation__item\"><a class=\"navigation__link\" href=\"//www.hse.ru/science/disscoun/\">Диссертационные советы</a></li><li class=\"navigation__item\"><a class=\"navigation__link\" href=\"https://aspirantura.hse.ru/defence/announcements/\">Защиты диссертаций</a></li><li class=\"navigation__item\"><a class=\"navigation__link\" href=\"//academics.hse.ru/\">Академическое развитие</a></li><li class=\"navigation__item\"><a class=\"navigation__link\" href=\"//www.hse.ru/science/hsegrants\">Конкурсы и гранты</a></li><li class=\"navigation__item\"><a class=\"navigation__link\" href=\"https://iq.hse.ru/\">Научно-образовательный портал IQ.hse.ru</a></li><li class=\"navigation__item\"><a class=\"navigation__link\" href=\"https://conf.hse.ru/2021\">XXII Апрельская международная научная конференция по проблемам развития экономики и общества</a></li></ul><ul class=\"navigation b-row__item\"><li class=\"navigation__item navigation__item--parent\"><a class=\"navigation__link\" href=\"//publications.hse.ru\">Ресурсы</a></li><li class=\"navigation__item\"><a class=\"navigation__link\" href=\"https://library.hse.ru/\">Библиотека</a></li><li class=\"navigation__item\"><a class=\"navigation__link\" href=\"//id.hse.ru\">Издательский дом ВШЭ</a></li><li class=\"navigation__item\"><a class=\"navigation__link\" href=\"https://id.hse.ru/shop/\">Книжный интернет-магазин</a></li><li class=\"navigation__item\"><a class=\"navigation__link\" href=\"//bookshop.hse.ru/\">Книжный магазин «БукВышка»</a></li><li class=\"navigation__item\"><a class=\"navigation__link\" href=\"https://print.hse.ru/\">Типография</a></li><li class=\"navigation__item\"><a class=\"navigation__link\" href=\"https://mc.hse.ru/\">Медиацентр</a></li><li class=\"navigation__item\"><a class=\"navigation__link\" href=\"//www.hse.ru/science/journals\">Журналы ВШЭ</a></li><li class=\"navigation__item\"><a class=\"navigation__link\" href=\"//publications.hse.ru\">Публикации</a></li><li class=\"navigation__item\"><a class=\"navigation__link\" href=\"http://sophist.hse.ru/\">Единый архив экономических и социологических данных</a></li><li class=\"navigation__item\"><a class=\"navigation__link\" href=\"https://moscow.hse.ru\">Университет, открытый городу</a></li><li class=\"navigation__item\"><a class=\"navigation__link\" href=\"https://store.hse.ru/\">Магазин HSE STORE</a></li></ul></div></div></div><!--noindex--><div class=\"fa-footer__menu with-indent3\"><ul class=\"ul b-row b-row--6\"><li class=\"b-row__item\"><a href=\"http://www.minobrnauki.gov.ru/\" rel=\"nofollow\">http://www.minobrnauki.gov.ru/</a><div>Министерство науки и высшего образования РФ</div></li><li class=\"b-row__item\"><a href=\"https://edu.gov.ru/\" rel=\"nofollow\">https://edu.gov.ru/</a><div>Министерство просвещения РФ</div></li><li class=\"b-row__item\"><a href=\"http://www.edu.ru\" rel=\"nofollow\">http://www.edu.ru</a><div>Федеральный портал «Российское образование»</div></li><li class=\"b-row__item\"><a href=\"https://elearning.hse.ru/mooc\" rel=\"nofollow\">https://elearning.hse.ru/mooc</a><div>Массовые открытые онлайн-курсы</div></li><li class=\"b-row__item\"><a href=\"http://5top100.ru/\" rel=\"nofollow\">http://5top100.ru/</a><div>Проект 5-100</div></li><li class=\"b-row__item\"><a href=\"https://studyinrussia.ru/\" rel=\"nofollow\">https://studyinrussia.ru/</a><div>Study In Russia</div></li></ul></div><!--/noindex--><div class=\"fa-footer__menu with-indent3 b-row\"><ul class=\"ul b-row__item b-row__item--9 small navigation navigation_horizontal\"><li class=\"navigation__item\"><span class=\"fa-grey\">©  НИУ ВШЭ 1993–2020</span></li><li class=\"navigation__item\"><a href=\"https://www.hse.ru/contacts.html\">Адреса и контакты</a></li><li class=\"navigation__item\"><a href=\"https://www.hse.ru/copyright\">Условия использования материалов</a></li><li class=\"navigation__item\"><a href=\"https://www.hse.ru/data_protection_regulation\">Политика конфиденциальности</a></li><li class=\"navigation__item\"><a href=\"https://www.hse.ru/sitemap.html\">Карта сайта</a></li></ul><!--noindex--><div class=\"b-row__item b-row__item--3 small\"><a class=\"link_dashed link_editor link_btm_editor\" href=\"/adm?newportal=1\" rel=\"nofollow\">Редактору</a></div><!--/noindex--></div></div></footer></div></body></html>\n"
     ]
    }
   ],
   "source": [
    "print(soup)"
   ]
  },
  {
   "cell_type": "code",
   "execution_count": null,
   "metadata": {},
   "outputs": [],
   "source": []
  },
  {
   "cell_type": "code",
   "execution_count": 16,
   "metadata": {},
   "outputs": [
    {
     "name": "stdout",
     "output_type": "stream",
     "text": [
      "0\n"
     ]
    },
    {
     "data": {
      "text/plain": [
       "[]"
      ]
     },
     "execution_count": 16,
     "metadata": {},
     "output_type": "execute_result"
    }
   ],
   "source": [
    "print(len(soup.find_all('a', {'class':'link'})))\n",
    "soup.find_all('a', {'class':'link'})[:10]"
   ]
  },
  {
   "cell_type": "markdown",
   "metadata": {},
   "source": [
    "Видим, что ссылок очень много, а нам нужны только те, которые ведут на summary. Можно поискать их по тексту ссылки."
   ]
  },
  {
   "cell_type": "code",
   "execution_count": 6,
   "metadata": {},
   "outputs": [
    {
     "name": "stdout",
     "output_type": "stream",
     "text": [
      "<a class=\"link\" data-hse-file=\"PDF\" href=\"/data/2019/10/29/1532361365/summary_EN_final%20(3).pdf\">Summary</a>\n",
      "<a class=\"link\" data-hse-file=\"PDF\" href=\"/data/2019/10/22/1528885739/Mitrofanova%20-%20summary.pdf\">Summary</a>\n",
      "<a class=\"link\" data-hse-file=\"PDF\" href=\"/data/2019/10/18/1543364021/Borodina%20E._Summary_181019.pdf\">Summary</a>\n",
      "<a class=\"link\" data-hse-file=\"PDF\" href=\"/data/2019/10/16/1239735382/%D0%9C%D0%B5%D0%BB%D0%B8%D0%BA%D1%8F%D0%BD_Summary%2016.10.pdf\">Summary</a>\n",
      "<a class=\"link\" data-hse-file=\"PDF\" href=\"/data/2019/10/03/1182240389/%D0%9A%D1%83%D1%87%D0%B8%D0%BD_%D1%80%D0%B5%D0%B7%D1%8E%D0%BC%D0%B5_ENG.pdf\">Summary</a>\n",
      "<a class=\"link\" data-hse-file=\"PDF\" href=\"/data/2019/10/15/1539883570/summary.pdf\">Summary</a>\n",
      "<a class=\"link\" data-hse-file=\"PDF\" href=\"/data/2019/10/11/1541034023/Resume.pdf\">Summary</a>\n",
      "<a class=\"link\" data-hse-file=\"PDF\" href=\"/data/2019/10/11/1535827784/kulikova_thesis%20summary_final.pdf\">Summary</a>\n",
      "<a class=\"link\" data-hse-file=\"PDF\" href=\"/data/2019/08/26/1536057698/%D0%A1%D0%B8%D0%B4%D0%BE%D1%80%D0%BE%D0%B2%D0%B0_summary.pdf\">Summary</a>\n",
      "<a class=\"link\" data-hse-file=\"PDF\" href=\"/data/2019/10/04/1184372726/%D0%A0%D0%B5%D0%B7%D1%8E%D0%BC%D0%B5%20%D0%BD%D0%B0%20%D0%B0%D0%BD%D0%B3%D0%BB%D0%B8%D0%B9%D1%81%D0%BA%D0%BE%D0%BC_%D0%97%D0%B0%D1%85%D0%B0%D1%80%D0%BE%D0%B2%D0%B0_04.10.2019_%D1%84%D0%B8%D0%BD%D0%B0%D0%BB.pdf\">Summary</a>\n"
     ]
    }
   ],
   "source": [
    "for link in soup.find_all('a', text='Summary'):\n",
    "    print(link)"
   ]
  },
  {
   "cell_type": "markdown",
   "metadata": {},
   "source": [
    "И соберем ссылки в список."
   ]
  },
  {
   "cell_type": "code",
   "execution_count": 7,
   "metadata": {},
   "outputs": [
    {
     "name": "stdout",
     "output_type": "stream",
     "text": [
      "<a class=\"link\" data-hse-file=\"PDF\" href=\"/data/2019/10/29/1532361365/summary_EN_final%20(3).pdf\">Summary</a>\n",
      "<a class=\"link\" data-hse-file=\"PDF\" href=\"/data/2019/10/22/1528885739/Mitrofanova%20-%20summary.pdf\">Summary</a>\n",
      "<a class=\"link\" data-hse-file=\"PDF\" href=\"/data/2019/10/18/1543364021/Borodina%20E._Summary_181019.pdf\">Summary</a>\n",
      "<a class=\"link\" data-hse-file=\"PDF\" href=\"/data/2019/10/16/1239735382/%D0%9C%D0%B5%D0%BB%D0%B8%D0%BA%D1%8F%D0%BD_Summary%2016.10.pdf\">Summary</a>\n",
      "<a class=\"link\" data-hse-file=\"PDF\" href=\"/data/2019/10/03/1182240389/%D0%9A%D1%83%D1%87%D0%B8%D0%BD_%D1%80%D0%B5%D0%B7%D1%8E%D0%BC%D0%B5_ENG.pdf\">Summary</a>\n",
      "<a class=\"link\" data-hse-file=\"PDF\" href=\"/data/2019/10/15/1539883570/summary.pdf\">Summary</a>\n",
      "<a class=\"link\" data-hse-file=\"PDF\" href=\"/data/2019/10/11/1541034023/Resume.pdf\">Summary</a>\n",
      "<a class=\"link\" data-hse-file=\"PDF\" href=\"/data/2019/10/11/1535827784/kulikova_thesis%20summary_final.pdf\">Summary</a>\n",
      "<a class=\"link\" data-hse-file=\"PDF\" href=\"/data/2019/08/26/1536057698/%D0%A1%D0%B8%D0%B4%D0%BE%D1%80%D0%BE%D0%B2%D0%B0_summary.pdf\">Summary</a>\n",
      "<a class=\"link\" data-hse-file=\"PDF\" href=\"/data/2019/10/04/1184372726/%D0%A0%D0%B5%D0%B7%D1%8E%D0%BC%D0%B5%20%D0%BD%D0%B0%20%D0%B0%D0%BD%D0%B3%D0%BB%D0%B8%D0%B9%D1%81%D0%BA%D0%BE%D0%BC_%D0%97%D0%B0%D1%85%D0%B0%D1%80%D0%BE%D0%B2%D0%B0_04.10.2019_%D1%84%D0%B8%D0%BD%D0%B0%D0%BB.pdf\">Summary</a>\n",
      "['/data/2019/10/29/1532361365/summary_EN_final%20(3).pdf', '/data/2019/10/22/1528885739/Mitrofanova%20-%20summary.pdf', '/data/2019/10/18/1543364021/Borodina%20E._Summary_181019.pdf', '/data/2019/10/16/1239735382/%D0%9C%D0%B5%D0%BB%D0%B8%D0%BA%D1%8F%D0%BD_Summary%2016.10.pdf', '/data/2019/10/03/1182240389/%D0%9A%D1%83%D1%87%D0%B8%D0%BD_%D1%80%D0%B5%D0%B7%D1%8E%D0%BC%D0%B5_ENG.pdf', '/data/2019/10/15/1539883570/summary.pdf', '/data/2019/10/11/1541034023/Resume.pdf', '/data/2019/10/11/1535827784/kulikova_thesis%20summary_final.pdf', '/data/2019/08/26/1536057698/%D0%A1%D0%B8%D0%B4%D0%BE%D1%80%D0%BE%D0%B2%D0%B0_summary.pdf', '/data/2019/10/04/1184372726/%D0%A0%D0%B5%D0%B7%D1%8E%D0%BC%D0%B5%20%D0%BD%D0%B0%20%D0%B0%D0%BD%D0%B3%D0%BB%D0%B8%D0%B9%D1%81%D0%BA%D0%BE%D0%BC_%D0%97%D0%B0%D1%85%D0%B0%D1%80%D0%BE%D0%B2%D0%B0_04.10.2019_%D1%84%D0%B8%D0%BD%D0%B0%D0%BB.pdf']\n"
     ]
    }
   ],
   "source": [
    "links = []\n",
    "for link in soup.find_all('a', text='Summary'):\n",
    "    print(link)\n",
    "    links.append(link.get('href'))\n",
    "    \n",
    "print(links)"
   ]
  },
  {
   "cell_type": "markdown",
   "metadata": {},
   "source": [
    "Отлично. Теперь нужно придумать, откуда взять название для каждого файла. Пусть это будут фамилии авторов, давайте доберемся до них. Такую задачу мы пока не решали: будем искать тэг по тексту, а потом искать его родителя (потому что ни ячейку таблицы с именем автора, ни саму таблицу не получится уникально отсечь)."
   ]
  },
  {
   "cell_type": "code",
   "execution_count": 8,
   "metadata": {},
   "outputs": [
    {
     "name": "stdout",
     "output_type": "stream",
     "text": [
      "[<td class=\"p0 p\" style=\"width: 200px;\">Соискатель:</td>, <td class=\"p1 v\">Белобородова Полина Михайловна</td>]\n",
      "[<td class=\"p0 p\" style=\"width: 200px;\">Соискатель:</td>, <td class=\"p1 v\"><a class=\"link\" href=\"/staff/emitrofanova\">Митрофанова Екатерина Сергеевна</a></td>, <a class=\"link\" href=\"/staff/emitrofanova\">Митрофанова Екатерина Сергеевна</a>]\n",
      "[<td class=\"p0 p\" style=\"width: 200px;\">Соискатель:</td>, <td class=\"p1 v\">Бородина Елена Николаевна</td>]\n",
      "[<td class=\"p0 p\" style=\"width: 200px;\">Соискатель:</td>, <td class=\"p1 v\"><a class=\"link\" href=\"/org/persons/205653\">Меликян Алиса Валерьевна</a></td>, <a class=\"link\" href=\"/org/persons/205653\">Меликян Алиса Валерьевна</a>]\n",
      "[<td class=\"p0 p\" style=\"width: 200px;\">Соискатель:</td>, <td class=\"p1 v\"><a class=\"link\" href=\"/org/persons/65825225\">Кучин Илья Игоревич</a></td>, <a class=\"link\" href=\"/org/persons/65825225\">Кучин Илья Игоревич</a>]\n",
      "[<td class=\"p0 p\" style=\"width: 200px;\">Соискатель:</td>, <td class=\"p1 v\"><a class=\"link\" href=\"/org/persons/56548447\">Монахов Иван Сергеевич</a></td>, <a class=\"link\" href=\"/org/persons/56548447\">Монахов Иван Сергеевич</a>]\n",
      "[<td class=\"p0 p\" style=\"width: 200px;\">Соискатель:</td>, <td class=\"p1 v\">Годин Андрей Сергеевич</td>]\n",
      "[<td class=\"p0 p\" style=\"width: 200px;\">Соискатель:</td>, <td class=\"p1 v\">Куликова Алена Александровна</td>]\n",
      "[<td class=\"p0 p\" style=\"width: 200px;\">Соискатель:</td>, <td class=\"p1 v\">Сидорова Мария Алексеевна</td>]\n",
      "[<td class=\"p0 p\" style=\"width: 200px;\">Соискатель:</td>, <td class=\"p1 v\">Захарова Олеся Викторовна</td>]\n"
     ]
    }
   ],
   "source": [
    "for author in soup.find_all('td', text='Соискатель:'):\n",
    "    print(author.parent())"
   ]
  },
  {
   "cell_type": "markdown",
   "metadata": {},
   "source": [
    "Достанем фамилии."
   ]
  },
  {
   "cell_type": "code",
   "execution_count": 9,
   "metadata": {},
   "outputs": [
    {
     "name": "stdout",
     "output_type": "stream",
     "text": [
      "Белобородова\n",
      "Митрофанова\n",
      "Бородина\n",
      "Меликян\n",
      "Кучин\n",
      "Монахов\n",
      "Годин\n",
      "Куликова\n",
      "Сидорова\n",
      "Захарова\n",
      "['Белобородова', 'Митрофанова', 'Бородина', 'Меликян', 'Кучин', 'Монахов', 'Годин', 'Куликова', 'Сидорова', 'Захарова']\n"
     ]
    }
   ],
   "source": [
    "authors = []\n",
    "for author in soup.find_all('td', text='Соискатель:'):\n",
    "    print(author.parent()[1].get_text().split()[0])\n",
    "    authors.append(author.parent()[1].get_text().split()[0])\n",
    "    \n",
    "print(authors)"
   ]
  },
  {
   "cell_type": "markdown",
   "metadata": {},
   "source": [
    "Проверим, что списки действительно одинаковой длины."
   ]
  },
  {
   "cell_type": "code",
   "execution_count": 10,
   "metadata": {},
   "outputs": [
    {
     "data": {
      "text/plain": [
       "True"
      ]
     },
     "execution_count": 10,
     "metadata": {},
     "output_type": "execute_result"
    }
   ],
   "source": [
    "len(links) == len(authors)"
   ]
  },
  {
   "cell_type": "markdown",
   "metadata": {},
   "source": [
    "Теперь давайте попробуем реализовать сохранение файла для одного автора, а потом соберем все это в цикл. Для начала \"починим\" ссылки, добавив в начало адрес домена."
   ]
  },
  {
   "cell_type": "code",
   "execution_count": 11,
   "metadata": {},
   "outputs": [
    {
     "name": "stdout",
     "output_type": "stream",
     "text": [
      "['https://www.hse.ru/data/2019/10/29/1532361365/summary_EN_final%20(3).pdf', 'https://www.hse.ru/data/2019/10/22/1528885739/Mitrofanova%20-%20summary.pdf', 'https://www.hse.ru/data/2019/10/18/1543364021/Borodina%20E._Summary_181019.pdf', 'https://www.hse.ru/data/2019/10/16/1239735382/%D0%9C%D0%B5%D0%BB%D0%B8%D0%BA%D1%8F%D0%BD_Summary%2016.10.pdf', 'https://www.hse.ru/data/2019/10/03/1182240389/%D0%9A%D1%83%D1%87%D0%B8%D0%BD_%D1%80%D0%B5%D0%B7%D1%8E%D0%BC%D0%B5_ENG.pdf', 'https://www.hse.ru/data/2019/10/15/1539883570/summary.pdf', 'https://www.hse.ru/data/2019/10/11/1541034023/Resume.pdf', 'https://www.hse.ru/data/2019/10/11/1535827784/kulikova_thesis%20summary_final.pdf', 'https://www.hse.ru/data/2019/08/26/1536057698/%D0%A1%D0%B8%D0%B4%D0%BE%D1%80%D0%BE%D0%B2%D0%B0_summary.pdf', 'https://www.hse.ru/data/2019/10/04/1184372726/%D0%A0%D0%B5%D0%B7%D1%8E%D0%BC%D0%B5%20%D0%BD%D0%B0%20%D0%B0%D0%BD%D0%B3%D0%BB%D0%B8%D0%B9%D1%81%D0%BA%D0%BE%D0%BC_%D0%97%D0%B0%D1%85%D0%B0%D1%80%D0%BE%D0%B2%D0%B0_04.10.2019_%D1%84%D0%B8%D0%BD%D0%B0%D0%BB.pdf']\n"
     ]
    }
   ],
   "source": [
    "links = ['https://www.hse.ru' + link for link in links]\n",
    "print(links)"
   ]
  },
  {
   "cell_type": "markdown",
   "metadata": {},
   "source": [
    "Теперь попробуем сохранить файл. У нас все файлы pdf, будем переименовывать их фамилиями автора. Кстати, если файлы разного формата, то расширение можно узнать через атрибут headers"
   ]
  },
  {
   "cell_type": "code",
   "execution_count": 12,
   "metadata": {},
   "outputs": [
    {
     "data": {
      "text/plain": [
       "'application/pdf'"
      ]
     },
     "execution_count": 12,
     "metadata": {},
     "output_type": "execute_result"
    }
   ],
   "source": [
    "requests.get(links[0]).headers['content-type']"
   ]
  },
  {
   "cell_type": "code",
   "execution_count": 15,
   "metadata": {},
   "outputs": [],
   "source": [
    "summary = requests.get(links[0], stream=True) # потоковое чтение файла, потому pdf может быть большим и не уместиться в памяти\n",
    "if summary.headers['content-type'] == 'application/pdf': # на всякий случай делаем проверку, иначе получим битый файл\n",
    "    fh = open('test.pdf', 'wb') # wb - запись байтовой информации\n",
    "    fh.write(summary.content) # считываем туда \"содержание\" файла по ссылке\n",
    "    fh.close()"
   ]
  },
  {
   "cell_type": "markdown",
   "metadata": {},
   "source": [
    "Давайте теперь еще добавим имя файла по фамилии."
   ]
  },
  {
   "cell_type": "code",
   "execution_count": 16,
   "metadata": {},
   "outputs": [],
   "source": [
    "summary = requests.get(links[0], stream=True) # потоковое чтение файла, потому pdf может быть большим и не уместиться в памяти\n",
    "if summary.headers['content-type'] == 'application/pdf': # на всякий случай делаем проверку, иначе получим битый файл\n",
    "    fh = open(f'{authors[0]}.pdf', 'wb') # wb - запись байтовой информации\n",
    "    fh.write(summary.content) # считываем туда \"содержание\" файла по ссылке\n",
    "    fh.close()"
   ]
  },
  {
   "cell_type": "markdown",
   "metadata": {},
   "source": [
    "Давайте сохраним обработку файла в функцию и соберем уже все в цикл."
   ]
  },
  {
   "cell_type": "code",
   "execution_count": 17,
   "metadata": {},
   "outputs": [],
   "source": [
    "def get_pdf(idx):\n",
    "    summary = requests.get(links[idx], stream=True) # потоковое чтение файла, потому pdf может быть большим и не уместиться в памяти\n",
    "    if summary.headers['content-type'] == 'application/pdf': # на всякий случай делаем проверку, иначе получим битый файл\n",
    "        fh = open(f'{authors[idx]}.pdf', 'wb') # wb - запись байтовой информации\n",
    "        fh.write(summary.content) # считываем туда \"содержание\" файла по ссылке\n",
    "        fh.close()"
   ]
  },
  {
   "cell_type": "code",
   "execution_count": 18,
   "metadata": {},
   "outputs": [],
   "source": [
    "link = 'https://www.hse.ru/sci/diss/?author=&chief=&year=2019&type=1&degree_type=&council=&spec=&fulltext=yes'\n",
    "soup = BeautifulSoup(requests.get(link).text, 'lxml')\n",
    "\n",
    "links = []\n",
    "for link in soup.find_all('a', text='Summary'):\n",
    "    links.append('https://www.hse.ru' + link.get('href'))\n",
    "\n",
    "authors = []\n",
    "for author in soup.find_all('td', text='Соискатель:'):\n",
    "    authors.append(author.parent()[1].get_text().split()[0])\n",
    "    \n",
    "for idx in range(len(authors)):\n",
    "    get_pdf(idx)"
   ]
  },
  {
   "cell_type": "markdown",
   "metadata": {},
   "source": [
    "Получилось! И последнее. У нас было несколько страниц, давайте по страницам тоже пройдемся. Кликните в браузере на страницу 2 по ссылке, а потом обратно на 1. Обратите внимание, что ссылка в браузере поменялась и теперь в ней появился параметр index. Скопируем новую ссылку для первой страницы."
   ]
  },
  {
   "cell_type": "code",
   "execution_count": 19,
   "metadata": {},
   "outputs": [],
   "source": [
    "page = 1 # создаю переменную и с помощью форматирования строк добавляю ее в ссылку после index\n",
    "link = f'https://www.hse.ru/sci/diss/index{page}.html?spec=&chief=&fulltext=yes&author=&council=&degree_type=&type=1&year=2019'"
   ]
  },
  {
   "cell_type": "code",
   "execution_count": 20,
   "metadata": {},
   "outputs": [
    {
     "data": {
      "text/plain": [
       "'https://www.hse.ru/sci/diss/index1.html?spec=&chief=&fulltext=yes&author=&council=&degree_type=&type=1&year=2019'"
      ]
     },
     "execution_count": 20,
     "metadata": {},
     "output_type": "execute_result"
    }
   ],
   "source": [
    "link # проверили, что работает"
   ]
  },
  {
   "cell_type": "code",
   "execution_count": 21,
   "metadata": {},
   "outputs": [],
   "source": [
    "for page in range(1,7): \n",
    "    link = f'https://www.hse.ru/sci/diss/index{page}.html?spec=&chief=&fulltext=yes&author=&council=&degree_type=&type=1&year=2019'\n",
    "    soup = BeautifulSoup(requests.get(link).text, 'lxml')\n",
    "\n",
    "    links = []\n",
    "    for link in soup.find_all('a', text='Summary'):\n",
    "        links.append('https://www.hse.ru' + link.get('href'))\n",
    "\n",
    "    authors = []\n",
    "    for author in soup.find_all('td', text='Соискатель:'):\n",
    "        authors.append(author.parent()[1].get_text().split()[0])\n",
    "\n",
    "    for idx in range(len(authors)):\n",
    "        get_pdf(idx)"
   ]
  },
  {
   "cell_type": "markdown",
   "metadata": {},
   "source": [
    "Готово!"
   ]
  }
 ],
 "metadata": {
  "kernelspec": {
   "display_name": "Python 3",
   "language": "python",
   "name": "python3"
  },
  "language_info": {
   "codemirror_mode": {
    "name": "ipython",
    "version": 3
   },
   "file_extension": ".py",
   "mimetype": "text/x-python",
   "name": "python",
   "nbconvert_exporter": "python",
   "pygments_lexer": "ipython3",
   "version": "3.8.3"
  }
 },
 "nbformat": 4,
 "nbformat_minor": 2
}
