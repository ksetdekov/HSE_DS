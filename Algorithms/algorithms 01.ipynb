{
 "cells": [
  {
   "cell_type": "markdown",
   "metadata": {},
   "source": [
    "# книги"
   ]
  },
  {
   "cell_type": "markdown",
   "metadata": {},
   "source": [
    "* cracking the coding interview"
   ]
  },
  {
   "cell_type": "code",
   "execution_count": 1,
   "metadata": {},
   "outputs": [
    {
     "name": "stdout",
     "output_type": "stream",
     "text": [
      "2332 22 121\n"
     ]
    },
    {
     "data": {
      "text/plain": [
       "[2332, 22, 121]"
      ]
     },
     "execution_count": 1,
     "metadata": {},
     "output_type": "execute_result"
    }
   ],
   "source": [
    "array = list(map(int, input().split()))\n",
    "array"
   ]
  },
  {
   "cell_type": "markdown",
   "metadata": {},
   "source": [
    "чем хорошее от плохих отедяется?\n",
    "* сложность по времени\n",
    "* и по памяти\n",
    "\n",
    "$O(n)$\n",
    "\n",
    "$O(log(n))$"
   ]
  },
  {
   "cell_type": "code",
   "execution_count": 2,
   "metadata": {},
   "outputs": [],
   "source": [
    "a = [5, -10, 1, 2, 3, -6]"
   ]
  },
  {
   "cell_type": "code",
   "execution_count": 3,
   "metadata": {},
   "outputs": [
    {
     "name": "stdout",
     "output_type": "stream",
     "text": [
      "6\n"
     ]
    }
   ],
   "source": [
    "res = 0\n",
    "for i in range(len(a), 0, -1):\n",
    "    for k in range(len(a), 0 , -1):\n",
    "        if sum(a[i:k]) > res:\n",
    "            res = sum(a[i:k])\n",
    "print(res)"
   ]
  },
  {
   "cell_type": "code",
   "execution_count": 4,
   "metadata": {},
   "outputs": [
    {
     "name": "stdout",
     "output_type": "stream",
     "text": [
      "9.86 µs ± 581 ns per loop (mean ± std. dev. of 7 runs, 100000 loops each)\n"
     ]
    }
   ],
   "source": [
    "%%timeit\n",
    "\n",
    "ans = -1\n",
    "max_sum = -float('inf')\n",
    "for length in range(len(a), 0, -1):\n",
    "    for start in range (len(a) - length):\n",
    "        sum = 0\n",
    "        for elem in a[start: start + length]:\n",
    "            sum += elem\n",
    "            if sum > max_sum:\n",
    "                max_sum = sum\n",
    "                ans = length\n",
    "ans"
   ]
  },
  {
   "cell_type": "markdown",
   "metadata": {},
   "source": [
    "$O(N^3)$  по времени и $O(1)$ по месту"
   ]
  },
  {
   "cell_type": "markdown",
   "metadata": {},
   "source": [
    "### префиксная сумма"
   ]
  },
  {
   "cell_type": "markdown",
   "metadata": {},
   "source": [
    "#### алгоритм - последовательность операций, которое гарантирует решение какой-то задачи за фиксированное время и фиксиронное память"
   ]
  },
  {
   "cell_type": "code",
   "execution_count": 10,
   "metadata": {},
   "outputs": [],
   "source": [
    "def max_sum_subarray(array):\n",
    "    n = len(array)\n",
    "    prefix_sum = [0]\n",
    "    for i in range(n):\n",
    "        prefix_sum.append(prefix_sum[-1] + a[i])\n",
    "    ans = -1\n",
    "    max_sum = -float(\"inf\")\n",
    "    for start in range(n):\n",
    "        for finish in range(start + 1, n):\n",
    "            current_sum = prefix_sum[finish + 1] - prefix_sum[start]\n",
    "            if current_sum > max_sum:\n",
    "                max_sum, ans = current_sum, finish - start + 1\n",
    "    return ans\n",
    "            "
   ]
  },
  {
   "cell_type": "markdown",
   "metadata": {},
   "source": [
    "$O(N^2)$  по времени и $O(N)$ по месту"
   ]
  },
  {
   "cell_type": "code",
   "execution_count": 11,
   "metadata": {},
   "outputs": [
    {
     "data": {
      "text/plain": [
       "3"
      ]
     },
     "execution_count": 11,
     "metadata": {},
     "output_type": "execute_result"
    }
   ],
   "source": [
    "# %%timeit\n",
    "\n",
    "max_sum_subarray(a)"
   ]
  },
  {
   "cell_type": "markdown",
   "metadata": {},
   "source": [
    "## 2 указателя"
   ]
  },
  {
   "cell_type": "markdown",
   "metadata": {},
   "source": [
    "есть 2 массива - отсортированные по неубыванию, уникальные элементы.\n",
    "найти по элементу  в 1 и 2 элементе.\n",
    "найти n1, n2, так что n1-n2 минимально"
   ]
  },
  {
   "cell_type": "code",
   "execution_count": null,
   "metadata": {},
   "outputs": [],
   "source": [
    "a = [-100, 2, 100]\n",
    "b = [-1000, 2, 1000]\n",
    "\n",
    "for a_i in range(len(a)):\n",
    "    abs(a[a_i] - b[a_i])\n",
    "\n",
    "def min_difference_pair(arr1):\n",
    "    minresult = float(\"inf\")\n",
    "    a_res = -1\n",
    "    b_res = -1 \n",
    "    for a_i in range(len(a)):\n",
    "        delta = a[a_i] - b[a_i]\n",
    "        if delta <  minresult:\n",
    "            minresult = delta\n",
    "            a_res = a_i\n",
    "            b_res = a_i\n",
    "    return (a_res, b_res)\n",
    "\n",
    "min_difference_pair(a)"
   ]
  },
  {
   "cell_type": "code",
   "execution_count": null,
   "metadata": {},
   "outputs": [],
   "source": [
    "def min_difference_pair(arr1, arr2):\n",
    "    n, m = len(arr1) -1, len(arr2) - 1\n",
    "    pointer1, pointer2 = 0, 0\n",
    "    min_dif = abs(arr1[0] - arr2[0])\n",
    "    ans = (0, 0)\n",
    "    while pointer1 + pointer2 != n + m:\n",
    "        if pointer2 == m or (pointer1 < n and arr1[pointer1] <= arr1[pointer2]):\n",
    "            pointer1 += 1\n",
    "        elif pointer1 == n or (pointer2 < m and arr1[pointer1] >= arr1[pointer2]):\n",
    "            pointer2 += 1\n",
    "        curdif = abs(arr1[pointer1] - arr2[pointer2])\n",
    "        if  curdif < min_dif:\n",
    "            min_dif, ans = curdif, (pointer1, pointer2)\n",
    "    return min_dif, ans\n",
    "        \n",
    "min_difference_pair(a, b)"
   ]
  },
  {
   "cell_type": "markdown",
   "metadata": {},
   "source": [
    "2 указателя, двигаем его направо, минимальные"
   ]
  },
  {
   "cell_type": "markdown",
   "metadata": {},
   "source": [
    "доказательство, что это оптимальное\n",
    "\n",
    "$a_{(i-1)} < b_j < b_x$\n",
    "\n",
    "$a_i<b_j<b_x$\n",
    "\n",
    "$|a_i - b_j| = b_j -a$\n",
    "\n",
    "$|a_i - b_x| = b_x -a$\n",
    "\n",
    "при этом $b_x$ - минимальное так как ответ, но \n",
    "$b_x > b_j$"
   ]
  },
  {
   "cell_type": "markdown",
   "metadata": {},
   "source": [
    "* стэк - брать только с справа First In Last Out (FIFLO)\n",
    "* очередь - становиться справа - брать слева First In First Out (FIFO)\n",
    "* дэк - ставить слева и справа - брать слева и справа"
   ]
  },
  {
   "cell_type": "code",
   "execution_count": null,
   "metadata": {},
   "outputs": [],
   "source": [
    "a = 2\n",
    "b = a\n",
    "b = 100\n",
    "print(a)"
   ]
  },
  {
   "cell_type": "code",
   "execution_count": null,
   "metadata": {},
   "outputs": [],
   "source": [
    "a = (1, 2)\n",
    "b = a\n",
    "b = (1, 222)\n",
    "print(a)"
   ]
  },
  {
   "cell_type": "code",
   "execution_count": null,
   "metadata": {},
   "outputs": [],
   "source": []
  }
 ],
 "metadata": {
  "kernelspec": {
   "display_name": "Python 3",
   "language": "python",
   "name": "python3"
  },
  "language_info": {
   "codemirror_mode": {
    "name": "ipython",
    "version": 3
   },
   "file_extension": ".py",
   "mimetype": "text/x-python",
   "name": "python",
   "nbconvert_exporter": "python",
   "pygments_lexer": "ipython3",
   "version": "3.8.5"
  }
 },
 "nbformat": 4,
 "nbformat_minor": 4
}
