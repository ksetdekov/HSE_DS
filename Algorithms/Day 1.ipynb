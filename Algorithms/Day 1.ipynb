{
 "cells": [
  {
   "cell_type": "markdown",
   "metadata": {},
   "source": [
    "# Ассимптотика алгоритмов и зачем она нужна\n",
    "\n",
    "Нужно как-то уметь сравнивать алгоритмы между собой, особенно хочется понимать какой из алгоритмов работает быстрее (вне зависимости от железа) И какой из них потребляет больеше памяти.\n",
    "Для этого придумали О-нотацию.\n",
    "\n",
    "Есть математическое определение: для двух функций f(x) и g(x) можно сказать что f является O(g) если существует такая константа C > 0, что при устремлении x к бесконечности (или  какой-то точке $x_0$) выполняется неравенство $|f(x)| < C * |g(x)|$\n",
    "\n",
    "Если говорить человеческим языком, то если мы говорим что алгоритм работает за O(f(n)), где n - размер входных параметров алгоритма\n",
    "это значит что скорость работы алгоритма с увеличением n будет расти не быстрее чем f(n) на какую-то константу\n",
    "\n",
    "Вычислять ассимптотику можно просто отбрасывая все константы при вычислении количества операций, которое делате алгоритм, но некоторые случаи сложнее чем другие\n",
    "\n",
    "Вот тут можно почитать еще https://bit.ly/3khIrsy"
   ]
  },
  {
   "cell_type": "markdown",
   "metadata": {},
   "source": [
    "### Пример алгоритма с ассимптотикой (по времени) O($n^2$)"
   ]
  },
  {
   "cell_type": "code",
   "execution_count": 34,
   "metadata": {},
   "outputs": [],
   "source": [
    "def n_square_algo(array):\n",
    "    # Здесь n это len(array)\n",
    "    \n",
    "    # Этот цикл работает за O(n^2) операций\n",
    "    for elem in array:\n",
    "        for elem2 in array:\n",
    "            print(elem * elem2)\n",
    "    \n",
    "    # Не влияет на ассимптотику т.к. отбрасываем все константы (не зависящие от n штуки)\n",
    "    for i in range(100000000000000000):\n",
    "        print(i)\n",
    "    \n",
    "    # Можно поверить что сортировка списка работает за O(n log n), что меньше чем O(n^2)\n",
    "    array.sort()\n",
    "    "
   ]
  },
  {
   "cell_type": "markdown",
   "metadata": {},
   "source": [
    "# Задача 1 (В которой мы узнаем про трюк с префиксными суммами и что можно обменивать время на память)\n",
    "\n",
    "Вам дан список чисел (как отрицательных так и положительных), задача найти в нем помассив с максимальной суммой элементов и при том из всех таких - с наибольшей длиной\n",
    "\n",
    "Пример:\n",
    "\n",
    "array = [1, 2, -4, 5, 2, -1, 3, -10, 7, 1, -1, 2]\n",
    "\n",
    "ОТВЕТ: [1, 2, -4, <font color='green'>5, 2, -1, 3,</font> -10, 7, 1, -1, 1]\n",
    "\n",
    "## Наивное решение с ассимптотикой O($n^3$) по времени и O($1$) по памяти:"
   ]
  },
  {
   "cell_type": "code",
   "execution_count": 38,
   "metadata": {},
   "outputs": [],
   "source": [
    "def max_sum_subarray(array):\n",
    "    n = len(array)\n",
    "    ans = -1\n",
    "    max_sum = float(\"-inf\")\n",
    "    \n",
    "    for start in range(n):\n",
    "        for finish in range(start + 1, n):\n",
    "            current_sum = 0\n",
    "            for elem in array[start:finish + 1]:\n",
    "                current_sum += elem\n",
    "                \n",
    "            if current_sum > max_sum:\n",
    "                max_sum, ans = current_sum, finish - start + 1\n",
    "                \n",
    "    return ans, max_sum\n"
   ]
  },
  {
   "cell_type": "markdown",
   "metadata": {},
   "source": [
    "## Чуть более близкое к оптимальному  решение с ассимптотикой O($n^2$) по времени и O($n$) по памяти:"
   ]
  },
  {
   "cell_type": "code",
   "execution_count": 35,
   "metadata": {},
   "outputs": [],
   "source": [
    "def max_sum_subarray(array):\n",
    "    # Трюк заключается в том чтобы сначала посчитать суммы всех префиксов массива и потом вычислять сумму любого подмассива за О(1)\n",
    "    n = len(array)\n",
    "    prefix_sum = [0]\n",
    "    for i in range(n):\n",
    "        prefix_sum.append(prefix_sum[-1] + array[i])\n",
    "        \n",
    "    ans = -1\n",
    "    max_sum = -float(\"inf\")\n",
    "    for start in range(n):\n",
    "        for finish in range(start + 1, n):\n",
    "            # Вот как мы вычисляем сумму на подмассиве используя префиксные суммы\n",
    "            current_sum = prefix_sum[finish + 1] - prefix_sum[start]\n",
    "            if current_sum > max_sum:\n",
    "                max_sum, ans = current_sum, finish - start + 1\n",
    "                \n",
    "    return ans, max_sum\n"
   ]
  },
  {
   "cell_type": "markdown",
   "metadata": {},
   "source": [
    "# Задача 2 (Где мы узнаем про трюк с двумя указателями и что ассимптотику по времени можно сократить если итерироваться в каком-то специальном порядке):\n",
    "Вам дано 2 массива с числами, отсортированные по возрастанию, задача найти по элементу в каждом изз массивов ($x_1$ и $x_2$ соответственно) таких что $|x_1 - x_2|$ минимально\n",
    "\n",
    "Пример:\n",
    "\n",
    "<font color='green'>array1</font> = [-10, -3, 0, 5, 13, 58, 91, 200, 356, 1000, 25000]\n",
    "\n",
    "<font color='red'>array2</font> = [-9034, -574, -300, -29, 27, 100, 250, 340, 900, 60000]\n",
    "\n",
    "ОТВЕТ: <font color='green'>91</font> и <font color='red'>100</font>\n",
    "\n",
    "# Наивное решение с ассимптотикой O($n * m$) по времени и O(1) по памяти\n",
    "где n и m это размеры массивов"
   ]
  },
  {
   "cell_type": "code",
   "execution_count": 39,
   "metadata": {},
   "outputs": [],
   "source": [
    "def min_difference_pair(arr1, arr2):\n",
    "    n, m = len(arr1) - 1, len(arr2) - 1\n",
    "    min_diff, ans = abs(arr1[0] - arr2[0]), (0, 0)\n",
    "    \n",
    "    for i in range(n):\n",
    "        for j in range(m):\n",
    "            diff = abs(arr1[i] - arr2[j])\n",
    "            if diff < min_diff:\n",
    "                min_diff, ans = diff, (i, j)\n",
    "            \n",
    "    return min_diff, ans"
   ]
  },
  {
   "cell_type": "markdown",
   "metadata": {},
   "source": [
    "# Оптимальное решение с ассимптотикой O($n + m$) по времени и O(1) по памяти"
   ]
  },
  {
   "cell_type": "code",
   "execution_count": 15,
   "metadata": {},
   "outputs": [],
   "source": [
    "def min_difference_pair(arr1, arr2):\n",
    "    n, m = len(arr1) - 1, len(arr2) - 1\n",
    "    pointer1, pointer2 = 0, 0\n",
    "    \n",
    "    min_diff, ans = abs(arr1[0] - arr2[0]), (0, 0)\n",
    "    \n",
    "    while pointer1 + pointer2 != n + m:\n",
    "        if pointer2 == m or (pointer1 < n and arr1[pointer1] <= arr2[pointer2]):\n",
    "            pointer1 += 1\n",
    "        \n",
    "        elif pointer1 == n or (pointer2 < m and arr1[pointer1] >= arr2[pointer2]):\n",
    "            pointer2 += 1\n",
    "        \n",
    "        current_diff = abs(arr1[pointer1] - arr2[pointer2])\n",
    "        if current_diff < min_diff:\n",
    "            min_diff, ans = current_diff, (pointer1, pointer2)\n",
    "            \n",
    "    return min_diff, ans\n",
    "    "
   ]
  },
  {
   "cell_type": "markdown",
   "metadata": {},
   "source": [
    "# Домашнее Задание\n",
    "\n",
    "1) Потренироваться в рекурсии, например, здесь: https://informatics.mccme.ru/mod/statements/view.php?id=2543#1 (задачи в менюшке справа, нужно зарегаться чтобы решать)\n",
    "\n",
    "2) Задачи на метод двух указателей:\n",
    "\n",
    "#### Простые:\n",
    "\n",
    "https://leetcode.com/problems/longest-substring-without-repeating-characters/\n",
    "https://leetcode.com/problems/remove-duplicates-from-sorted-array/\n",
    "https://leetcode.com/problems/merge-sorted-array/\n",
    "\n",
    "#### Посложнее: \n",
    "\n",
    "https://leetcode.com/problems/long-pressed-name/\n",
    "https://leetcode.com/problems/trapping-rain-water/\n",
    "\n",
    "3) Придумать решение первой задачи с ассимптотикой по времени O(n) (например используя метод двух указателей)\n"
   ]
  }
 ],
 "metadata": {
  "kernelspec": {
   "display_name": "Python 3",
   "language": "python",
   "name": "python3"
  },
  "language_info": {
   "codemirror_mode": {
    "name": "ipython",
    "version": 3
   },
   "file_extension": ".py",
   "mimetype": "text/x-python",
   "name": "python",
   "nbconvert_exporter": "python",
   "pygments_lexer": "ipython3",
   "version": "3.7.5"
  }
 },
 "nbformat": 4,
 "nbformat_minor": 2
}
