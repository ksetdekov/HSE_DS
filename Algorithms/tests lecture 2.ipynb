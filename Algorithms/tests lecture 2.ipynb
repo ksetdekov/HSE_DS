{
 "cells": [
  {
   "cell_type": "markdown",
   "metadata": {},
   "source": [
    "## Задача №174. Города и дороги"
   ]
  },
  {
   "cell_type": "code",
   "execution_count": 4,
   "metadata": {},
   "outputs": [
    {
     "name": "stdout",
     "output_type": "stream",
     "text": [
      "2\n",
      "0 1\n",
      "1 0\n"
     ]
    }
   ],
   "source": [
    "vv"
   ]
  },
  {
   "cell_type": "code",
   "execution_count": 5,
   "metadata": {},
   "outputs": [
    {
     "data": {
      "text/plain": [
       "[[0, 1], [1, 0]]"
      ]
     },
     "execution_count": 5,
     "metadata": {},
     "output_type": "execute_result"
    }
   ],
   "source": [
    "matrix"
   ]
  },
  {
   "cell_type": "code",
   "execution_count": 10,
   "metadata": {},
   "outputs": [
    {
     "name": "stdout",
     "output_type": "stream",
     "text": [
      "1\n"
     ]
    }
   ],
   "source": [
    "roads = 0\n",
    "for row in range(len(matrix)):\n",
    "    for col in range(row, len(matrix)):\n",
    "        roads += matrix[row][col]\n",
    "print(roads)"
   ]
  },
  {
   "cell_type": "markdown",
   "metadata": {},
   "source": [
    "solved"
   ]
  },
  {
   "cell_type": "markdown",
   "metadata": {},
   "source": [
    "## Задача №175. Светофорчики"
   ]
  },
  {
   "cell_type": "markdown",
   "metadata": {},
   "source": [
    "В подземелье M тоннелей и N перекрестков, каждый тоннель соединяет какие-то два перекрестка. Мышиный король решил поставить по светофору в каждом тоннеле перед каждым перекрестком. Напишите программу, которая посчитает, сколько светофоров должно быть установлено на каждом из перекрестков. Перекрестки пронумерованы числами от 1 до N."
   ]
  },
  {
   "cell_type": "code",
   "execution_count": 14,
   "metadata": {},
   "outputs": [
    {
     "name": "stdout",
     "output_type": "stream",
     "text": [
      "7 10\n"
     ]
    }
   ],
   "source": [
    "N, M = list(map(int, input().split()))"
   ]
  },
  {
   "cell_type": "code",
   "execution_count": 15,
   "metadata": {},
   "outputs": [
    {
     "data": {
      "text/plain": [
       "7"
      ]
     },
     "execution_count": 15,
     "metadata": {},
     "output_type": "execute_result"
    }
   ],
   "source": [
    "N"
   ]
  },
  {
   "cell_type": "code",
   "execution_count": 17,
   "metadata": {},
   "outputs": [
    {
     "name": "stdout",
     "output_type": "stream",
     "text": [
      "0\n",
      "1\n",
      "2\n",
      "3\n",
      "4\n",
      "5\n",
      "6\n",
      "7\n",
      "8\n",
      "9\n"
     ]
    }
   ],
   "source": [
    "for i in range(M):\n",
    "    print(i)"
   ]
  },
  {
   "cell_type": "code",
   "execution_count": 27,
   "metadata": {},
   "outputs": [
    {
     "name": "stdout",
     "output_type": "stream",
     "text": [
      "5 1\n",
      "3 2\n",
      "7 1\n",
      "5 2\n",
      "7 4\n",
      "6 5\n",
      "6 4\n",
      "7 5\n",
      "2 1\n",
      "5 3\n"
     ]
    }
   ],
   "source": [
    "edges = []\n",
    "\n",
    "for i in range(M):\n",
    "    v_from, v_to = list(map(int, input().split()))\n",
    "    edges.append((v_from, v_to))\n",
    "    \n",
    "    \n",
    "def get_neighbours(v, edges):\n",
    "    lights = 0\n",
    "    for edge in edges:\n",
    "        if edge[0] == v or edge[1] == v:\n",
    "            lights += 1\n",
    "    return lights"
   ]
  },
  {
   "cell_type": "code",
   "execution_count": 33,
   "metadata": {},
   "outputs": [
    {
     "data": {
      "text/plain": [
       "3"
      ]
     },
     "execution_count": 33,
     "metadata": {},
     "output_type": "execute_result"
    }
   ],
   "source": [
    "get_neighbours(1, edges)"
   ]
  },
  {
   "cell_type": "code",
   "execution_count": 32,
   "metadata": {},
   "outputs": [],
   "source": [
    "def get_neighbours(v, edges):\n",
    "    lights = 0\n",
    "    for edge in edges:\n",
    "        if edge[0] == v or edge[1] == v:\n",
    "            lights += 1\n",
    "    return lights"
   ]
  },
  {
   "cell_type": "code",
   "execution_count": 37,
   "metadata": {},
   "outputs": [
    {
     "name": "stdout",
     "output_type": "stream",
     "text": [
      "3 3 2 2 5 2 3\n"
     ]
    }
   ],
   "source": [
    "results = []\n",
    "for i in range(N):\n",
    "    results.append(get_neighbours(i+1, edges))\n",
    "print(*results)"
   ]
  },
  {
   "cell_type": "markdown",
   "metadata": {},
   "source": [
    "# 3 Задача №176. Цветной дождь\n"
   ]
  },
  {
   "cell_type": "markdown",
   "metadata": {},
   "source": [
    "Входные данные\n",
    "В  первой строке входных данных содержится число N (0 < N ≤ 100) – количество холмов. Далее идет матрица смежности, описывающая наличие мостов между холмами (1 – мост есть, 0 – нет). После матрицы смежности идёт пустая строка, и в последней строке записано N чисел, обозначающих цвет холмов: 1 – красный; 2 – синий; 3 – зеленый.\n",
    "\n",
    "Выходные данные\n",
    "Выведите одно число – количество \"плохих\" мостов."
   ]
  },
  {
   "cell_type": "code",
   "execution_count": 38,
   "metadata": {},
   "outputs": [
    {
     "name": "stdout",
     "output_type": "stream",
     "text": [
      "7\n",
      "0 1 0 0 0 1 1 \n",
      "1 0 1 0 0 0 0 \n",
      "0 1 0 0 1 1 0 \n",
      "0 0 0 0 0 0 0 \n",
      "0 0 1 0 0 1 0 \n",
      "1 0 1 0 1 0 0 \n",
      "1 0 0 0 0 0 0 \n",
      "\n",
      "1 1 1 1 1 3 3 \n"
     ]
    }
   ],
   "source": [
    "count = int(input())\n",
    "matrix = []\n",
    "for i in range(count):\n",
    "    matrix.append(list(map(int, input().split())))\n",
    "    \n",
    "a = input()\n",
    "colours = list(map(int, input().split()))"
   ]
  },
  {
   "cell_type": "code",
   "execution_count": 40,
   "metadata": {},
   "outputs": [
    {
     "data": {
      "text/plain": [
       "7"
      ]
     },
     "execution_count": 40,
     "metadata": {},
     "output_type": "execute_result"
    }
   ],
   "source": [
    "count"
   ]
  },
  {
   "cell_type": "code",
   "execution_count": 41,
   "metadata": {},
   "outputs": [
    {
     "data": {
      "text/plain": [
       "[[0, 1, 0, 0, 0, 1, 1],\n",
       " [1, 0, 1, 0, 0, 0, 0],\n",
       " [0, 1, 0, 0, 1, 1, 0],\n",
       " [0, 0, 0, 0, 0, 0, 0],\n",
       " [0, 0, 1, 0, 0, 1, 0],\n",
       " [1, 0, 1, 0, 1, 0, 0],\n",
       " [1, 0, 0, 0, 0, 0, 0]]"
      ]
     },
     "execution_count": 41,
     "metadata": {},
     "output_type": "execute_result"
    }
   ],
   "source": [
    "matrix"
   ]
  },
  {
   "cell_type": "code",
   "execution_count": 42,
   "metadata": {},
   "outputs": [
    {
     "data": {
      "text/plain": [
       "[1, 1, 1, 1, 1, 3, 3]"
      ]
     },
     "execution_count": 42,
     "metadata": {},
     "output_type": "execute_result"
    }
   ],
   "source": [
    "colours"
   ]
  },
  {
   "cell_type": "code",
   "execution_count": 44,
   "metadata": {},
   "outputs": [
    {
     "name": "stdout",
     "output_type": "stream",
     "text": [
      "0 1 col 1 1 col 2 1\n",
      "0 5 col 1 1 col 2 3\n",
      "0 6 col 1 1 col 2 3\n",
      "1 2 col 1 1 col 2 1\n",
      "2 4 col 1 1 col 2 1\n",
      "2 5 col 1 1 col 2 3\n",
      "4 5 col 1 1 col 2 3\n",
      "4\n"
     ]
    }
   ],
   "source": [
    "bad = 0\n",
    "for row in range(len(matrix)):\n",
    "    for col in range(row, len(matrix)):\n",
    "        if matrix[row][col] == 1:\n",
    "            print(row, col, 'col 1', colours[row], 'col 2', colours[col])\n",
    "            if colours[row] != colours[col]:\n",
    "                bad += 1\n",
    "print(bad)"
   ]
  },
  {
   "cell_type": "markdown",
   "metadata": {},
   "source": [
    "### Задача №177. Издевательство\n"
   ]
  },
  {
   "cell_type": "code",
   "execution_count": 45,
   "metadata": {},
   "outputs": [
    {
     "data": {
      "text/plain": [
       "[(5, 1),\n",
       " (3, 2),\n",
       " (7, 1),\n",
       " (5, 2),\n",
       " (7, 4),\n",
       " (6, 5),\n",
       " (6, 4),\n",
       " (7, 5),\n",
       " (2, 1),\n",
       " (5, 3)]"
      ]
     },
     "execution_count": 45,
     "metadata": {},
     "output_type": "execute_result"
    }
   ],
   "source": [
    "edges"
   ]
  },
  {
   "cell_type": "code",
   "execution_count": null,
   "metadata": {},
   "outputs": [],
   "source": []
  }
 ],
 "metadata": {
  "kernelspec": {
   "display_name": "Python 3",
   "language": "python",
   "name": "python3"
  },
  "language_info": {
   "codemirror_mode": {
    "name": "ipython",
    "version": 3
   },
   "file_extension": ".py",
   "mimetype": "text/x-python",
   "name": "python",
   "nbconvert_exporter": "python",
   "pygments_lexer": "ipython3",
   "version": "3.8.5"
  }
 },
 "nbformat": 4,
 "nbformat_minor": 4
}
