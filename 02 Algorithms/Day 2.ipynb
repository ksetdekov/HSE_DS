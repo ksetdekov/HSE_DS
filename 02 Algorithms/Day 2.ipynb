{
 "cells": [
  {
   "cell_type": "markdown",
   "metadata": {},
   "source": [
    "# Графы: азы, 3 способа хранения графа и алгоритмы обхода графа DFS и BFS\n",
    "\n",
    "### Презентация про способы хранения графов: https://yadi.sk/i/zd0etlPMBEJviA\n",
    "### Термины:\n",
    "\n",
    "Графы состоят из вершин (объектов) и ребер, соединяющих эти вершины (отношения между объектами)\n",
    "\n",
    "Ориентированный граф, это граф в котором ребра (отношения) направленны (подписка в инстаграмме), а неориентированный это тот в котором ребра двунаправленны (друзья в фейсбуке)\n",
    "\n",
    "Множество вершин мы обзываем V, а множество ребер - E\n",
    "\n",
    "Степень вершины это со сколькими другими вершинами она связана ребрами, можно заметить что в неориентированном графе сумма степеней всех вершин равна удвоенному количеству ребер\n",
    "\n",
    "Одна вершина достижима из другой, если существует такой путь по ребрам, который позволяет нам дойти от одной вершины до другой\n",
    "\n",
    "Цикл в графе это путь из вершину в неё саму же (который при этом не пуст)\n",
    "\n",
    "Дерево это связный граф (все вершины достижимы друг из друга) без циклов"
   ]
  },
  {
   "cell_type": "code",
   "execution_count": null,
   "metadata": {},
   "outputs": [],
   "source": [
    "# set() # add and delete for O()\n",
    "# если хранить в set, то хранить быстрее и доставать"
   ]
  },
  {
   "cell_type": "markdown",
   "metadata": {},
   "source": [
    "# Алгоритм DFS, он же Обход в Глубину или Метод Бешеного Хомяка\n",
    "\n",
    "слоожность по времени при представлении графа списками смежности O(V + E)"
   ]
  },
  {
   "cell_type": "code",
   "execution_count": null,
   "metadata": {},
   "outputs": [],
   "source": [
    "graph = [] # Список смежности\n",
    "visited = [False for i in range(n)] # Инициализируем False т.к. еще нигде не были\n",
    "\n",
    "def dfs(v):\n",
    "    # Помечаем текущую вершину посещенной\n",
    "    visited[v] = True\n",
    "    \n",
    "    for u in graph[v]:\n",
    "        if not visited[u]:\n",
    "            # Смотрим на всех соседей текущей вершины\n",
    "            # И если находим соседа в котором мы еще не были\n",
    "            # То наш бешеный (и очень любопытный) хомяк бежит туда\n",
    "            dfs(u)\n",
    "    "
   ]
  },
  {
   "cell_type": "markdown",
   "metadata": {},
   "source": [
    "### Подсчет количества компонент связности в графе c помощью DFS\n",
    "\n",
    "Компонента связности это такой набор вершин что все они достижимы друг из друга, но никакие другие вершины графа из них не достижимы (мы пока живем в мире неориентированных графов)"
   ]
  },
  {
   "cell_type": "code",
   "execution_count": null,
   "metadata": {},
   "outputs": [],
   "source": [
    "def count_connectivity_components(graph):\n",
    "    visited = [False for i in range(n)]\n",
    "    counter = 0 # Заводим счетчик\n",
    "\n",
    "    for v in range(n):\n",
    "        if not visited[v]:\n",
    "            # Смотрим на все вершины, и если нашли непосещенную, то\n",
    "            # прибавляем к счетчику 1 и запускаем из неё DFS\n",
    "            counter += 1\n",
    "            # DFS пометит посещенными саму вершину и все те, что в одной\n",
    "            # Компоненте связности с ней, так что мы можем не переживать\n",
    "            # Что посчитаем дважды одну и ту же компоненту связности\n",
    "            dfs(v)\n",
    "            \n",
    "    return counter"
   ]
  },
  {
   "cell_type": "markdown",
   "metadata": {},
   "source": [
    "# Алгоритм BFS или Обход в Ширину\n",
    "\n",
    "Сложность по времени O(V + E) опять же в случае хранения графа списками смежности"
   ]
  },
  {
   "cell_type": "code",
   "execution_count": null,
   "metadata": {},
   "outputs": [],
   "source": [
    "from collections import deque\n",
    "\n",
    "graph = [] # Список смежности\n",
    "visited = [False for i in range(n)]\n",
    "\n",
    "def bfs(start):\n",
    "    q = deque()\n",
    "    q.append_right(start)\n",
    "    visited[start] = True\n",
    "    # Заводим очередь (это когда первый кто пришел первый и уходит)\n",
    "    # И инициализируем её стартовой вершиной нашего обхода\n",
    "    # Важный момент что мы помечаем вершины помеченными прежде чем добавлять их в очередь\n",
    "    \n",
    "    while len(q) != 0:\n",
    "        # Пока в нашей очереди остаются вершины, достаём верхнюю\n",
    "        v = q.pop_left()\n",
    "        for u in graph[v]:\n",
    "            if not visited[u]:\n",
    "                # И смотрим на её соседей, если есть не посещенные, кладем их в очередь\n",
    "                # Не забыв пометить их посещенными\n",
    "                visited[u] = True\n",
    "                q.append_right(u)\n",
    "                \n",
    "# Таким образом если DFS можно было бы охарактеризовать как \"Идём пока идётся\"\n",
    "# BFS это алгоритм детей в хэллоуин:\n",
    "# сначала смотрим на наших ближайших соседей и идем к ним в гости\n",
    "# Потом заглядываем в дома на соседней улице (соседей наших соседей)\n",
    "# А потом уже идем в соседний квартал"
   ]
  },
  {
   "cell_type": "markdown",
   "metadata": {},
   "source": [
    "# Домашнее задание: \n",
    "\n",
    "1) Дорешать https://informatics.mccme.ru/mod/statements/view.php?id=259#1 \n",
    "\n",
    "2) Попрактиковаться в 3 способах хранения графа: https://informatics.mccme.ru/mod/statements/view.php?id=359#1 (Да, там много задач и страшно, но я в вас верю, и не обязательно решить все, достаточно почувствовать себя уверенно с ними)\n",
    "\n",
    "3) Задачи на DFS:\n",
    "\n",
    "https://informatics.mccme.ru/mod/statements/view.php?id=256&chapterid=164#1 -  решаем\n",
    "\n",
    "https://informatics.mccme.ru/mod/statements/view.php?id=256&chapterid=111540#1\n",
    "\n",
    "https://informatics.mccme.ru/mod/statements/view.php?id=256&chapterid=111541#1\n",
    "\n",
    "https://informatics.mccme.ru/mod/statements/view.php?id=256&chapterid=165#1\n",
    "\n",
    "4) Задачи на BFS:\n",
    "\n",
    "https://informatics.mccme.ru/mod/statements/view.php?id=255#1\n",
    "\n",
    "https://informatics.mccme.ru/mod/statements/view.php?id=255&chapterid=161#1\n",
    "\n",
    "https://informatics.mccme.ru/mod/statements/view.php?id=255&chapterid=162#1\n",
    "\n",
    "https://informatics.mccme.ru/mod/statements/view.php?id=255&chapterid=1472#1"
   ]
  },
  {
   "cell_type": "code",
   "execution_count": null,
   "metadata": {},
   "outputs": [],
   "source": []
  }
 ],
 "metadata": {
  "kernelspec": {
   "display_name": "Python 3",
   "language": "python",
   "name": "python3"
  },
  "language_info": {
   "codemirror_mode": {
    "name": "ipython",
    "version": 3
   },
   "file_extension": ".py",
   "mimetype": "text/x-python",
   "name": "python",
   "nbconvert_exporter": "python",
   "pygments_lexer": "ipython3",
   "version": "3.8.3"
  }
 },
 "nbformat": 4,
 "nbformat_minor": 2
}
