{
 "cells": [
  {
   "cell_type": "markdown",
   "metadata": {},
   "source": [
    "# бинарное дерево"
   ]
  },
  {
   "cell_type": "code",
   "execution_count": null,
   "metadata": {},
   "outputs": [],
   "source": [
    "class BST:\n",
    "    def __init__(self, node):\n",
    "        self.root = node\n",
    "\n",
    "    def add(self, val):\n",
    "        add_node = Node(val)\n",
    "\n",
    "        node = self.root\n",
    "        prev_node = None\n",
    "        last = \"\"\n",
    "\n",
    "        while node:\n",
    "            if node.val < add_node.val:\n",
    "                prev_node = node\n",
    "                node = node.right\n",
    "                last = 'r'\n",
    "            elif node.val > add_node.val:\n",
    "                prev_node = node\n",
    "                node = node.left\n",
    "                last = 'l'\n",
    "            else:\n",
    "                return\n",
    "\n",
    "        if last == \"l\":\n",
    "            prev_node.left = add_node\n",
    "        else:\n",
    "            prev_node.right = add_node\n",
    "\n"
   ]
  },
  {
   "cell_type": "markdown",
   "metadata": {},
   "source": [
    "# бинарная куча\n",
    "гарантируетсяся, что каждый элемент больше, чем свои дети (на максимум)"
   ]
  },
  {
   "cell_type": "markdown",
   "metadata": {},
   "source": [
    "хотим операции делать за $O(log(n))$\n",
    "заполняем сверхну вниз слева направо\n",
    "данные для i храним в позиции 2i+1 и 2i+2"
   ]
  },
  {
   "cell_type": "code",
   "execution_count": null,
   "metadata": {},
   "outputs": [],
   "source": [
    "class MaxHeap:\n",
    "    def __init__(self):\n",
    "        self.data = []\n",
    "        self.n = 0\n",
    "\n",
    "    def sift_down(self, node):\n",
    "        left_child = node * 2 + 1\n",
    "        right_child = node * 2 + 2\n",
    "\n",
    "        if left_child < len(self.data) and self.data[right_child] > max(self.data[node], self.data[left_child]):\n",
    "            self.data[node], self.data[right_child] = self.data[right_child], self.data[node]\n",
    "            self.sift_down(right_child)\n",
    "\n",
    "        elif left_child < len(self.data) and self.data[left_child] > self.data[node]:\n",
    "            self.data[node], self.data[left_child] = self.data[left_child], self.data[node]\n",
    "            self.sift_down(left_child)\n",
    "\n",
    "    def sift_up(self, node):\n",
    "        if node == 0:\n",
    "            return\n",
    "\n",
    "        parent = (node - 1) // 2\n",
    "        if self.data[parent] < self.data[node]:\n",
    "            self.data[parent], self.data[node] = self.data[node], self.data[parent]\n",
    "            self.sift_up(parent)\n",
    "\n",
    "    def add(self, value):\n",
    "        self.data.append(value)\n",
    "        self.n += 1\n",
    "        self.sift_up(self.n-1)\n",
    "\n",
    "    def get_max(self):\n",
    "        self.data[0], self.data[self.n - 1] = self.data[self.n - 1], self.data[0]\n",
    "        max_val = self.data.pop()\n",
    "        self.n -= 1\n",
    "        self.sift_down(0)\n",
    "\n",
    "        return max_val\n",
    "\n",
    "heap = MaxHeap()\n",
    "values = list(map(int, input().split()))[:-1]\n",
    "for val in values:\n",
    "    heap.add(val)\n",
    "\n",
    "print(heap.data)\n",
    "\n",
    "heap.add(23)\n",
    "print(heap.data)"
   ]
  }
 ],
 "metadata": {
  "kernelspec": {
   "display_name": "Python 3",
   "language": "python",
   "name": "python3"
  },
  "language_info": {
   "codemirror_mode": {
    "name": "ipython",
    "version": 3
   },
   "file_extension": ".py",
   "mimetype": "text/x-python",
   "name": "python",
   "nbconvert_exporter": "python",
   "pygments_lexer": "ipython3",
   "version": "3.8.3"
  }
 },
 "nbformat": 4,
 "nbformat_minor": 4
}
