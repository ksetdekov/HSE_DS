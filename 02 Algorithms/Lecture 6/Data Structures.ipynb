{
 "cells": [
  {
   "cell_type": "markdown",
   "metadata": {},
   "source": [
    "# Дата структуры\n",
    "## связанные списки"
   ]
  },
  {
   "cell_type": "code",
   "execution_count": 1,
   "metadata": {},
   "outputs": [],
   "source": [
    "# Definition for singly-linked list.\n",
    "# class ListNode:\n",
    "#     def __init__(self, val=0, next=None):\n",
    "#         self.val = val\n",
    "#         self.next = next\n",
    "\n",
    "class LinkedNode:\n",
    "    def __init__(self, val=0, next=None):\n",
    "        self.val = val\n",
    "        self.next = next\n",
    "\n",
    "\n",
    "class LinkedList:\n",
    "    def __init__(self, array = []):\n",
    "        self.head = None\n",
    "        for i in range(len(array)):\n",
    "\n",
    "        # for i in range(len(array) - 1, -1, -1):\n",
    "            self.add(LinkedNode(array[i]))\n",
    "\n",
    "    def add(self, node):\n",
    "        node.next = self.head\n",
    "        self.head = node\n",
    "\n",
    "    def to_array(self):\n",
    "        array = []\n",
    "        node = self.head\n",
    "\n",
    "        while node:\n",
    "            array.append(node.val)\n",
    "            node = node.next\n",
    "        return array\n",
    "    def __len__(self):\n",
    "        a = 0\n",
    "\n",
    "        return a\n",
    "\n",
    "ll = LinkedList([1, 2,3,4,5])\n"
   ]
  },
  {
   "cell_type": "markdown",
   "metadata": {},
   "source": [
    "# Хэш таблица"
   ]
  },
  {
   "cell_type": "markdown",
   "metadata": {},
   "source": [
    "1) elem -> id\n",
    "\n",
    "2) hash[elem] -> кидает в бин какой-то\n",
    "\n",
    "3) внутри делаем линкд лист или простро выходим и ищем во в другом бине"
   ]
  },
  {
   "cell_type": "markdown",
   "metadata": {},
   "source": [
    "удаление, добавление и поиск работает за O[1]"
   ]
  },
  {
   "cell_type": "markdown",
   "metadata": {},
   "source": [
    "# binary search tree"
   ]
  },
  {
   "cell_type": "markdown",
   "metadata": {},
   "source": [
    "parent, left child, right child.\n",
    "гарантируем, что:\n",
    "\n",
    "* left child < parent < right child"
   ]
  },
  {
   "cell_type": "markdown",
   "metadata": {},
   "source": [
    "https://informatics.mccme.ru/mod/statements/view.php?id=599#1"
   ]
  },
  {
   "cell_type": "code",
   "execution_count": null,
   "metadata": {},
   "outputs": [],
   "source": []
  }
 ],
 "metadata": {
  "kernelspec": {
   "display_name": "Python 3",
   "language": "python",
   "name": "python3"
  },
  "language_info": {
   "codemirror_mode": {
    "name": "ipython",
    "version": 3
   },
   "file_extension": ".py",
   "mimetype": "text/x-python",
   "name": "python",
   "nbconvert_exporter": "python",
   "pygments_lexer": "ipython3",
   "version": "3.8.3"
  }
 },
 "nbformat": 4,
 "nbformat_minor": 4
}
