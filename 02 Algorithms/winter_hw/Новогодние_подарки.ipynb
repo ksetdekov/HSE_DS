{
  "nbformat": 4,
  "nbformat_minor": 0,
  "metadata": {
    "kernelspec": {
      "display_name": "Python 3",
      "language": "python",
      "name": "python3"
    },
    "language_info": {
      "codemirror_mode": {
        "name": "ipython",
        "version": 3
      },
      "file_extension": ".py",
      "mimetype": "text/x-python",
      "name": "python",
      "nbconvert_exporter": "python",
      "pygments_lexer": "ipython3",
      "version": "3.7.5"
    },
    "colab": {
      "name": "Новогодние подарки.ipynb",
      "provenance": [],
      "collapsed_sections": []
    }
  },
  "cells": [
    {
      "cell_type": "markdown",
      "metadata": {
        "id": "SrxXoADPKtMS"
      },
      "source": [
        "# Новогодние подарки"
      ]
    },
    {
      "cell_type": "markdown",
      "metadata": {
        "id": "mSrzYh6xKtM9"
      },
      "source": [
        "## I. Знание Python\n",
        "\n",
        "### Базовый уровень:\n",
        "\n",
        "Если вам страшно решать задачи на алгоритмы, то стоит сначала подтянуть знание питона:\n",
        "\n",
        "1) Задачи на двумерные массивы https://informatics.mccme.ru/mod/statements/view.php?id=32581#1  \n",
        "2) Задачи на рекурсию (повтор) https://informatics.mccme.ru/mod/statements/view.php?id=3962#1\n",
        "\n",
        "Если они вызывают сложности, то стоит прорешать этот курс https://informatics.mccme.ru/course/view.php?id=156 или повторить python тут https://pythontutor.ru/\n",
        "\n",
        "### Продвинутый уровень:\n",
        "\n",
        "Если хотите взорвать свой мозг, советую позалипать сюда https://github.com/pablogsal/python-horror-show/blob/master/README.md   \n",
        "и сюда https://github.com/satwikkansal/wtfpython  \n",
        "\n",
        "Мир никогда не будет прежним..."
      ]
    },
    {
      "cell_type": "code",
      "metadata": {
        "id": "jKCNJF9YMiO1"
      },
      "source": [
        "n, m = map(int, input().split())\r\n",
        "\r\n",
        "matrix = [list(map(int, input().split())) for _ in range(n)]\r\n",
        "\r\n",
        "r_max, c_max = (0, 0)\r\n",
        "highest = matrix[0][0]\r\n",
        "\r\n",
        "for r in range(n):\r\n",
        "    for c in range(m):\r\n",
        "        if matrix[r][c] > highest:\r\n",
        "            r_max, c_max = (r, c)\r\n",
        "            highest = matrix[r][c]\r\n",
        "\r\n",
        "print(r_max, c_max)\r\n"
      ],
      "execution_count": null,
      "outputs": []
    },
    {
      "cell_type": "code",
      "metadata": {
        "id": "CMQ85nvdOqmO"
      },
      "source": [
        "a = float(input())\r\n",
        "b = float(input())\r\n",
        "c = float(input())\r\n",
        "d = float(input())\r\n",
        "\r\n",
        "\r\n",
        "def distance(x1, x2, x3, x4):\r\n",
        "    return ((x1 - x3) ** 2 + (x2 - x4) ** 2) ** 0.5\r\n",
        "\r\n",
        "\r\n",
        "print(f'{distance(a, b, c, d):.5f}')\r\n"
      ],
      "execution_count": null,
      "outputs": []
    },
    {
      "cell_type": "markdown",
      "metadata": {
        "id": "75E-Fk14KtND"
      },
      "source": [
        "## II. Задачи на динамику\n",
        "\n",
        "### Базовый уровень:\n",
        "\n",
        "1) https://informatics.msk.ru/mod/statements/view.php?id=649#1 done\n",
        "\n",
        "2) https://informatics.msk.ru/mod/statements/view.php?id=654#1 done less memory\n",
        "\n",
        "3) https://informatics.msk.ru/mod/statements/view.php?id=656#1 - done\n",
        "\n",
        "Выше - 3 контеста, советую прорешать все задачи из них\n"
      ]
    },
    {
      "cell_type": "code",
      "metadata": {
        "id": "dFR6GAG3GuFr"
      },
      "source": [
        "N = int(input())\r\n",
        "\r\n",
        "\r\n",
        "def calc(n):\r\n",
        "    if n <= 1:\r\n",
        "        return \"\"\r\n",
        "    steps = [0 for _ in range(n)]\r\n",
        "    action = [-1 for _ in range(n)]\r\n",
        "    steps[0] = 0\r\n",
        "    for i in range(1, n):\r\n",
        "        value = i + 1\r\n",
        "        variant = steps[i - 1] + 1\r\n",
        "        a, b, c = (variant, variant, variant)\r\n",
        "        if value % 3 == 0:\r\n",
        "            a = steps[(value // 3 - 1)] + 1\r\n",
        "        if value % 2 == 0:\r\n",
        "            b = steps[(value // 2 - 1)] + 1\r\n",
        "        options = [c, b, a]\r\n",
        "        steps[i] = min(options)\r\n",
        "        this_action = options.index(min(options)) + 1\r\n",
        "\r\n",
        "        action[i] = this_action\r\n",
        "\r\n",
        "    path = []\r\n",
        "    crawl = action[-1]  # destination\r\n",
        "    i = n - 1\r\n",
        "    while crawl != -1:\r\n",
        "        path.append(crawl)\r\n",
        "        if crawl == 1:\r\n",
        "            i = i - 1\r\n",
        "        elif crawl == 2:\r\n",
        "            i = (i + 1) // 2 - 1\r\n",
        "        else:\r\n",
        "            i = (i + 1) // 3 - 1\r\n",
        "        crawl = action[i]\r\n",
        "\r\n",
        "    result = list(reversed(path))\r\n",
        "\r\n",
        "    return ''.join(map(str, result))\r\n",
        "\r\n",
        "\r\n",
        "print(calc(N))\r\n"
      ],
      "execution_count": null,
      "outputs": []
    },
    {
      "cell_type": "markdown",
      "metadata": {
        "id": "ovt7-bneVR3L"
      },
      "source": [
        "\r\n",
        "### Продвинутый уровень:\r\n",
        "\r\n",
        "1) https://informatics.msk.ru/mod/statements/view.php?id=657#1 (Обе задачи)  \r\n",
        "2) https://informatics.msk.ru/mod/statements/view.php?id=766#1 (все задачи)  \r\n",
        "3) https://informatics.msk.ru/mod/statements/view.php?id=813 (пока хватит терпения, ключевые задачи - C,D,I,J) "
      ]
    },
    {
      "cell_type": "markdown",
      "metadata": {
        "id": "zVFYmR2zKtNF"
      },
      "source": [
        "## III. Задачи на графы\n",
        "\n",
        "### Базовый уровень:\n",
        "\n",
        "1) Если ещё не все задачи отсюда побеждены то надо это исправить https://informatics.msk.ru/mod/statements/view.php?id=259#1 - все кроме последней \n",
        "\n",
        "2) Аналогично https://informatics.msk.ru/mod/statements/view.php?id=359#1  \n",
        "3) Задачи на DFS https://informatics.msk.ru/mod/statements/view.php?id=256#1  \n",
        "3.5) https://informatics.msk.ru/mod/statements/view.php?id=15342#1  \n",
        "4) Задачи на BFS https://informatics.msk.ru/mod/statements/view.php?id=255#1\n",
        "\n",
        "### Продвинутый уровень:\n",
        "\n",
        "1) Задачи на алгоритм Дейкстры https://informatics.mccme.ru/mod/statements/view.php?id=193#1  \n",
        "1.5) https://informatics.mccme.ru/mod/statements/view.php?id=218#1  \n",
        "2) Задачи на алгоритм Форда-Беллмана https://informatics.mccme.ru/mod/statements/view.php?id=260#1  \n",
        "3) Задачи на алгоритм Флойда-Уоршелла https://informatics.mccme.ru/mod/statements/view.php?id=258#1  \n",
        "3.5) https://informatics.mccme.ru/mod/statements/view.php?id=260#1\n",
        "\n",
        "\n",
        "4) Задачи на Binary Search Tree https://informatics.mccme.ru/mod/statements/view.php?id=599#1"
      ]
    },
    {
      "cell_type": "markdown",
      "metadata": {
        "id": "gBiqfL15KtNH"
      },
      "source": [
        "## IV. Отдохните, новый год в конце концов"
      ]
    }
  ]
}