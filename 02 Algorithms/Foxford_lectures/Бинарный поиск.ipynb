{
 "cells": [
  {
   "cell_type": "markdown",
   "metadata": {},
   "source": [
    "# Двоичный поиск"
   ]
  },
  {
   "cell_type": "markdown",
   "metadata": {},
   "source": [
    "из $[1, 2, 3, ..., 100]$ можно задать 7 вопросов и узнать число\n",
    "\n",
    "$$1, ... , 2^K $$ $k$ questions\n",
    "\n",
    "$$\\forall n \\Rightarrow 2^{k-1} < n <= 2^k$$"
   ]
  },
  {
   "cell_type": "markdown",
   "metadata": {},
   "source": [
    "* цель - максимально сокращать неизвестность, делить оставшиеся попалам"
   ]
  },
  {
   "cell_type": "markdown",
   "metadata": {},
   "source": [
    "# Двоичный поиск по ответу"
   ]
  },
  {
   "cell_type": "markdown",
   "metadata": {},
   "source": [
    "## Управляющий совет\n",
    "\n",
    "$ 1\\leq n \\leq\t10^9$\n",
    "\n",
    "$ 0\\leq k \\leq\tn$\n",
    "\n",
    "n= 15\n",
    "k = 2\n",
    "\n",
    "сколько человек надо добавить в k, чтобы $ k/n \\geq  1/3$\n",
    "\n",
    "положим есть ответ:\n",
    "ans\n",
    "\n",
    "$ {n + ans } \\leq 3 \\times (k + ans)$\n"
   ]
  },
  {
   "cell_type": "markdown",
   "metadata": {},
   "source": [
    "линейный перебор - очень медленно.\n",
    "\n",
    "поставим 2 указателя -\n",
    "\n",
    "left - заведомо не решено -  поставим -1\n",
    "\n",
    "right - заведомо решает $10^9 //2$\n",
    "\n",
    "right - инициализация правой границей\n",
    "\n",
    "mid = (left + right) // 2"
   ]
  },
  {
   "cell_type": "code",
   "execution_count": 2,
   "metadata": {},
   "outputs": [
    {
     "name": "stdout",
     "output_type": "stream",
     "text": [
      "5\n"
     ]
    }
   ],
   "source": [
    "n = 15\n",
    "k = 2\n",
    "\n",
    "left = 1\n",
    "right = 10**9//2\n",
    "while right > left + 1:\n",
    "    m = (left + right) // 2\n",
    "    if (n + m) > 3 * (k + m):\n",
    "        left = m\n",
    "    else:\n",
    "        right = m\n",
    "        \n",
    "print(right)"
   ]
  },
  {
   "cell_type": "code",
   "execution_count": 8,
   "metadata": {},
   "outputs": [
    {
     "data": {
      "text/plain": [
       "29.897352853986263"
      ]
     },
     "execution_count": 8,
     "metadata": {},
     "output_type": "execute_result"
    }
   ],
   "source": [
    "import numpy as np\n",
    "np.log(10**9)/np.log(2)"
   ]
  },
  {
   "cell_type": "markdown",
   "metadata": {},
   "source": [
    "# очень легкая задача"
   ]
  },
  {
   "cell_type": "markdown",
   "metadata": {},
   "source": [
    "смотрим на время, свойство монотонно растет или монотонно убывает по нему. Если смогли решить за t, то за t+1 тоже точно решим.\n"
   ]
  },
  {
   "cell_type": "code",
   "execution_count": 5,
   "metadata": {},
   "outputs": [
    {
     "name": "stdout",
     "output_type": "stream",
     "text": [
      "986\n"
     ]
    }
   ],
   "source": [
    "A = 17 #seconds for 1 page for 1 printer\n",
    "B = 23 #seconds for 1 page for 1 printer\n",
    "N = 100\n",
    "\n",
    "worse = A * N\n",
    "\n",
    "\n",
    "left = -1\n",
    "right = A * N\n",
    "while right > left + 1:\n",
    "    t = (left + right) // 2\n",
    "    if t // A + t // B >= N:\n",
    "        right = t\n",
    "    else:\n",
    "        left = t\n",
    "        \n",
    "print(right)\n"
   ]
  },
  {
   "cell_type": "code",
   "execution_count": null,
   "metadata": {},
   "outputs": [],
   "source": []
  }
 ],
 "metadata": {
  "kernelspec": {
   "display_name": "Python 3",
   "language": "python",
   "name": "python3"
  },
  "language_info": {
   "codemirror_mode": {
    "name": "ipython",
    "version": 3
   },
   "file_extension": ".py",
   "mimetype": "text/x-python",
   "name": "python",
   "nbconvert_exporter": "python",
   "pygments_lexer": "ipython3",
   "version": "3.8.5"
  }
 },
 "nbformat": 4,
 "nbformat_minor": 4
}
