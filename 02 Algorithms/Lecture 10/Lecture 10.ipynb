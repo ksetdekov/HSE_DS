{
 "cells": [
  {
   "cell_type": "markdown",
   "metadata": {},
   "source": [
    "# Бинпоиск\n",
    "Сложность $log(n)$ ищет в сортированном списке."
   ]
  },
  {
   "cell_type": "markdown",
   "metadata": {},
   "source": [
    "# А как сортировать?"
   ]
  },
  {
   "cell_type": "markdown",
   "metadata": {},
   "source": [
    "## Пузырьком"
   ]
  },
  {
   "cell_type": "code",
   "execution_count": 43,
   "metadata": {},
   "outputs": [
    {
     "name": "stdout",
     "output_type": "stream",
     "text": [
      "2 4 5 6 6 7 9\n"
     ]
    }
   ],
   "source": [
    "array = [2,4,5,6,7,9, 6]\n",
    "arr1 = array.copy()\n",
    "arr2 = array.copy()\n",
    "arr3 = array.copy()\n",
    "arr4 = array.copy()\n",
    "\n",
    "\n",
    "def bubblesort(arr):\n",
    "    n = len(arr)\n",
    "    for j in range(n-1):\n",
    "        for i in range(n-1):\n",
    "            if arr[i] > arr[i +1]:\n",
    "                arr[i], arr[i+1] = arr[i+1], arr[i]\n",
    "\n",
    "bubblesort(array)\n",
    "\n",
    "print(*array)"
   ]
  },
  {
   "cell_type": "markdown",
   "metadata": {},
   "source": [
    "За один прогон - уезжает в конец только 1 элемент\n",
    "сложность $n^2$"
   ]
  },
  {
   "cell_type": "markdown",
   "metadata": {},
   "source": [
    "## selection sort\n",
    "конец - сортирован, дежрим что на каждом шаге у нас на 1 элемент больше совпало $n^2$"
   ]
  },
  {
   "cell_type": "code",
   "execution_count": 34,
   "metadata": {},
   "outputs": [
    {
     "name": "stdout",
     "output_type": "stream",
     "text": [
      "[]\n",
      "[2, 4, 5, 6, 6, 7, 9]\n"
     ]
    }
   ],
   "source": [
    "def selection_my(arr):\n",
    "    n = len(arr)\n",
    "    done = []\n",
    "    current = arr\n",
    "    while len(current) > 0:\n",
    "        minimum = min(current)\n",
    "        current.remove(minimum)\n",
    "        done.append(minimum)\n",
    "    return(done)\n",
    "    \n",
    "print(selection_my(arr1))\n",
    "\n",
    "\n",
    "def selectionsort(arr):\n",
    "    n = len(arr)\n",
    "    for i in range(n):\n",
    "        min_index = i + arr[i:].index(min(arr[i:]))\n",
    "        arr[i], arr[min_index] =  arr[min_index], arr[i]\n",
    "\n",
    "selectionsort(arr2)\n",
    "print(arr2)\n",
    "\n",
    "    \n",
    "    "
   ]
  },
  {
   "cell_type": "markdown",
   "metadata": {},
   "source": [
    "## сортировка вставками\n",
    "$n^2$\n",
    "поддерживаем начало сортированным.\n",
    "\n",
    "итерируемся по массиву, смотрим наш исходный массив, находить его место и вставлять его в начало."
   ]
  },
  {
   "cell_type": "code",
   "execution_count": 44,
   "metadata": {},
   "outputs": [
    {
     "name": "stdout",
     "output_type": "stream",
     "text": [
      "[2, 4, 5, 6, 6, 7, 9]\n",
      "[2, 4, 5, 6, 6, 7, 9]\n"
     ]
    }
   ],
   "source": [
    "def insertion_sort_my(arr):\n",
    "    n = len(arr)\n",
    "    for i in range(1, n):\n",
    "        value = arr.pop(i)\n",
    "        j = i-1\n",
    "        while j >= 0 and value < arr[j] : \n",
    "                j = j - 1\n",
    "        arr.insert(j+1, value)\n",
    "\n",
    "insertion_sort_my(arr3)\n",
    "print(arr3)\n",
    "\n",
    "\n",
    "def insertion_sort(arr):\n",
    "    n = len(arr)\n",
    "    for i in range(1, n):\n",
    "        key = arr[i]\n",
    "        j = i-1\n",
    "        while j >= 0 and value < arr[j] : \n",
    "            arr[j + 1] = arr[j]\n",
    "            j -= 1\n",
    "        arr[j + 1] = key\n",
    "insertion_sort_my(arr4)\n",
    "print(arr4)"
   ]
  },
  {
   "cell_type": "markdown",
   "metadata": {},
   "source": [
    "## merge sort\n",
    "сортируем левую часть, потом правую часть, потом объединяем"
   ]
  },
  {
   "cell_type": "code",
   "execution_count": 81,
   "metadata": {},
   "outputs": [
    {
     "name": "stdout",
     "output_type": "stream",
     "text": [
      "[2, 4, 5, 6, 6, 7, 9]\n"
     ]
    }
   ],
   "source": [
    "array = [2,4,5,6,7,9, 6]\n",
    "\n",
    "def mergesort_bad(arr):\n",
    "    n = len(arr)\n",
    "    if n <= 1:\n",
    "        return\n",
    "    m = n //2\n",
    "    \n",
    "    \n",
    "\n",
    "    L = arr[:m]\n",
    "    R = arr[m:]\n",
    "    \n",
    "    mergesort_bad(L)\n",
    "    mergesort_bad(R)\n",
    "    \n",
    "    # we merge 2 sorted parts\n",
    "    li, ri, arri = 0, 0, 0\n",
    "    while li + ri < len(arr):\n",
    "        if (ri == len(R)) or (li < len(L) and L[li] < R[ri]):\n",
    "            arr[arri] = L[li]\n",
    "            li += 1\n",
    "        else:\n",
    "            arr[arri] = R[ri]\n",
    "            ri += 1\n",
    "        arri += 1\n",
    "\n",
    "\n",
    "        \n",
    "mergesort_bad(array)\n",
    "print(array)\n"
   ]
  },
  {
   "cell_type": "markdown",
   "metadata": {},
   "source": [
    "## heap sort"
   ]
  },
  {
   "cell_type": "code",
   "execution_count": 82,
   "metadata": {},
   "outputs": [],
   "source": [
    "import sys\n",
    "\n",
    "class MaxHeap:\n",
    "    def __init__(self):\n",
    "        self.data = []\n",
    "        self.n = 0\n",
    "\n",
    "    def sift_down(self, node):\n",
    "        left_child = node * 2 + 1\n",
    "        right_child = node * 2 + 2\n",
    "\n",
    "        if right_child < self.n and self.data[right_child] > max(self.data[node], self.data[left_child]):\n",
    "            self.data[node], self.data[right_child] = self.data[right_child], self.data[node]\n",
    "            self.sift_down(right_child)\n",
    "        \n",
    "        elif left_child < self.n and self.data[left_child] > self.data[node]:\n",
    "            self.data[node], self.data[left_child] = self.data[left_child], self.data[node]\n",
    "            self.sift_down(left_child)\n",
    "\n",
    "    def sift_up(self, node):\n",
    "        if node == 0:\n",
    "            return \n",
    "\n",
    "        parent = (node - 1) // 2\n",
    "        if self.data[parent] < self.data[node]:\n",
    "            self.data[parent], self.data[node] = self.data[node], self.data[parent]\n",
    "            self.sift_up(parent)\n",
    "\n",
    "    def add(self, value):\n",
    "        self.data.append(value)\n",
    "        self.n += 1\n",
    "        self.sift_up(self.n - 1)\n",
    "\n",
    "    def get_max(self):\n",
    "        self.data[0], self.data[self.n - 1] = self.data[self.n - 1], self.data[0]\n",
    "        max_val = self.data[self.n - 1]\n",
    "        self.n -= 1\n",
    "        self.sift_down(0)\n",
    "\n",
    "        return max_val"
   ]
  },
  {
   "cell_type": "markdown",
   "metadata": {},
   "source": [
    "# сложные сортировки"
   ]
  },
  {
   "cell_type": "markdown",
   "metadata": {},
   "source": [
    "## quicksort"
   ]
  },
  {
   "cell_type": "code",
   "execution_count": 84,
   "metadata": {},
   "outputs": [
    {
     "name": "stdout",
     "output_type": "stream",
     "text": [
      "2 4 5 6 6 7 9\n"
     ]
    }
   ],
   "source": [
    "array = [2,4,5,6,7,9, 6]\n",
    "\n",
    "\n",
    "\n",
    "def partition(array, l, r):\n",
    "    pivot = array[r] \n",
    "    # значение разделительного элемента\n",
    "    insert = l \n",
    "    # точка, куда суем при переносе\n",
    "    # находим элементы меньше пивота. \n",
    "    for i in range(l, r):\n",
    "        if array[i] < pivot:\n",
    "            array[insert], array[i] = array[i], array[insert]\n",
    "            insert += 1\n",
    "\n",
    "    array[insert ], array[r] = pivot, array[insert ] \n",
    "    # в конце вставляем пивот на его места\n",
    "    return insert   \n",
    "        \n",
    "        \n",
    "def quicksort(array, l, r):\n",
    "    if l < r:\n",
    "        idx = partition(array, l, r)\n",
    "        quicksort(array, l, idx - 1)\n",
    "        quicksort(array, idx + 1, r)\n",
    "        \n",
    "quicksort(array, 0, len(array) -1)\n",
    "print(*array)"
   ]
  },
  {
   "cell_type": "markdown",
   "metadata": {},
   "source": [
    "## положим моного повторений есть."
   ]
  },
  {
   "cell_type": "markdown",
   "metadata": {},
   "source": [
    "## сортировка подсчетом/словарем\n",
    "сложность $O(n + range(min to max))$"
   ]
  },
  {
   "cell_type": "code",
   "execution_count": 86,
   "metadata": {},
   "outputs": [
    {
     "name": "stdout",
     "output_type": "stream",
     "text": [
      "1 1 1 1 2 3 3 4 4 5 6 6 6 7 64\n"
     ]
    }
   ],
   "source": [
    "from collections import defaultdict\n",
    "\n",
    "def countsort(array):\n",
    "    l, r = min(array), max(array)\n",
    "    d = defaultdict(int)\n",
    "    for elem in array:\n",
    "        d[elem] += 1\n",
    "    result = []\n",
    "    \n",
    "    for i in range(l, r +1):\n",
    "        result += [i] * d[i]\n",
    "    return result\n",
    "\n",
    "array = [1, 1, 2, 3,1,1,3,4,5,6,6,6,64,4,7]\n",
    "print(*countsort(array))"
   ]
  },
  {
   "cell_type": "markdown",
   "metadata": {},
   "source": [
    "## radix sort, поразрядная сортировка\n",
    "представим что числа - строки.\n",
    "сортируем по последнему символу, потом по предпоследнему\n",
    "на каждом ходе сортируем\n",
    "Radix Sort takes O(d*(n+b)) time where b is the base for representing numbers, for example, for the decimal system, b is 10. What is the value of d? If k is the maximum possible value, then d would be O(logb(k)). So overall time complexity is O((n+b) * logb(k))\n",
    "$$O((n+b) \\times \\log_b{k})$$"
   ]
  },
  {
   "cell_type": "code",
   "execution_count": 91,
   "metadata": {},
   "outputs": [
    {
     "name": "stdout",
     "output_type": "stream",
     "text": [
      "1 1 1 1 2 3 3 4 4 5 6 6 6 7 64\n"
     ]
    }
   ],
   "source": [
    "from math import log10, floor\n",
    "from collections import defaultdict\n",
    "\n",
    "def countsort(array, dec):\n",
    "    d = defaultdict(list)\n",
    "    for elem in array:\n",
    "        d[(elem // (10 **dec)) % 10].append(elem)\n",
    "        \n",
    "    result = []\n",
    "    \n",
    "    for i in range(10):\n",
    "        result +=  d[i]\n",
    "    return result\n",
    "\n",
    "def radixsort(array):\n",
    "    for power in range(floor(log10(max(array))) + 1):\n",
    "        array = countsort(array, power)\n",
    "    return array\n",
    "\n",
    "array = [1, 1, 2, 3,1,1,3,4,5,6,6,6,64,4,7]\n",
    "print(*radixsort(array))"
   ]
  },
  {
   "cell_type": "code",
   "execution_count": null,
   "metadata": {},
   "outputs": [],
   "source": []
  }
 ],
 "metadata": {
  "kernelspec": {
   "display_name": "Python 3",
   "language": "python",
   "name": "python3"
  },
  "language_info": {
   "codemirror_mode": {
    "name": "ipython",
    "version": 3
   },
   "file_extension": ".py",
   "mimetype": "text/x-python",
   "name": "python",
   "nbconvert_exporter": "python",
   "pygments_lexer": "ipython3",
   "version": "3.8.5"
  }
 },
 "nbformat": 4,
 "nbformat_minor": 4
}
