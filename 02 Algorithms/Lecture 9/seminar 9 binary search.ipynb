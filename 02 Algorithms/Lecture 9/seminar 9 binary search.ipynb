{
 "cells": [
  {
   "cell_type": "markdown",
   "metadata": {},
   "source": [
    "# solve 3 questions\n",
    "\n",
    "https://informatics.mccme.ru/mod/statements/view.php?id=192&chapterid=2#1"
   ]
  },
  {
   "cell_type": "markdown",
   "metadata": {},
   "source": [
    "## инвариант\n",
    "\n",
    "    # l <= искомому значению\n",
    "    # r > искомого значения.\n",
    "    # комбинация этого - инвариант, который мы\n",
    "    # поддерживаем на протяжении выполнения и он позволяет нам говорить о чем-то, когда будут элементы равны"
   ]
  },
  {
   "cell_type": "code",
   "execution_count": null,
   "metadata": {},
   "outputs": [],
   "source": [
    "\n",
    "def binsearch(arr, num):\n",
    "    l, r = 0, len(arr)\n",
    "\n",
    "    if arr[0] > num:\n",
    "        return \"NO\"\n",
    "    if arr[-1] < num:\n",
    "        return \"NO\"\n",
    "\n",
    "    while r > l + 1:\n",
    "        m = (l + r) // 2\n",
    "        if arr[m] <= num:\n",
    "            l = m\n",
    "        else:\n",
    "            r = m\n",
    "    if arr[l] == num:\n",
    "        return \"YES\"\n",
    "    return \"NO\"\n"
   ]
  },
  {
   "cell_type": "markdown",
   "metadata": {},
   "source": [
    "# бинпоиск по ответу"
   ]
  },
  {
   "cell_type": "markdown",
   "metadata": {},
   "source": [
    "пытаемся найти результат из пространство ответов\n",
    "мы делаем перебор, используя бинарный поиск.\n",
    "мы хотим 1 переход между слишком мало \n",
    "функция, является ли число ответом - монотонан на убывающая\n",
    "\n",
    "https://informatics.mccme.ru/mod/statements/view.php?id=1966#1"
   ]
  },
  {
   "cell_type": "markdown",
   "metadata": {},
   "source": [
    "https://informatics.mccme.ru/mod/statements/view.php?id=1966&chapterid=894#1"
   ]
  },
  {
   "cell_type": "markdown",
   "metadata": {},
   "source": [
    "черепаха"
   ]
  },
  {
   "cell_type": "code",
   "execution_count": null,
   "metadata": {},
   "outputs": [],
   "source": []
  }
 ],
 "metadata": {
  "kernelspec": {
   "display_name": "Python 3",
   "language": "python",
   "name": "python3"
  },
  "language_info": {
   "codemirror_mode": {
    "name": "ipython",
    "version": 3
   },
   "file_extension": ".py",
   "mimetype": "text/x-python",
   "name": "python",
   "nbconvert_exporter": "python",
   "pygments_lexer": "ipython3",
   "version": "3.8.5"
  }
 },
 "nbformat": 4,
 "nbformat_minor": 4
}
