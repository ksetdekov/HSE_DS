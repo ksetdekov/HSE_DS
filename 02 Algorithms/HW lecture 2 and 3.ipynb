{
 "cells": [
  {
   "cell_type": "markdown",
   "metadata": {},
   "source": [
    "## Задача №174. Города и дороги"
   ]
  },
  {
   "cell_type": "code",
   "execution_count": 4,
   "metadata": {},
   "outputs": [
    {
     "name": "stdout",
     "output_type": "stream",
     "text": [
      "2\n",
      "0 1\n",
      "1 0\n"
     ]
    }
   ],
   "source": [
    "vv"
   ]
  },
  {
   "cell_type": "code",
   "execution_count": 5,
   "metadata": {},
   "outputs": [
    {
     "data": {
      "text/plain": [
       "[[0, 1], [1, 0]]"
      ]
     },
     "execution_count": 5,
     "metadata": {},
     "output_type": "execute_result"
    }
   ],
   "source": [
    "matrix"
   ]
  },
  {
   "cell_type": "code",
   "execution_count": 10,
   "metadata": {},
   "outputs": [
    {
     "name": "stdout",
     "output_type": "stream",
     "text": [
      "1\n"
     ]
    }
   ],
   "source": [
    "roads = 0\n",
    "for row in range(len(matrix)):\n",
    "    for col in range(row, len(matrix)):\n",
    "        roads += matrix[row][col]\n",
    "print(roads)"
   ]
  },
  {
   "cell_type": "markdown",
   "metadata": {},
   "source": [
    "solved"
   ]
  },
  {
   "cell_type": "markdown",
   "metadata": {},
   "source": [
    "## Задача №175. Светофорчики"
   ]
  },
  {
   "cell_type": "markdown",
   "metadata": {},
   "source": [
    "В подземелье M тоннелей и N перекрестков, каждый тоннель соединяет какие-то два перекрестка. Мышиный король решил поставить по светофору в каждом тоннеле перед каждым перекрестком. Напишите программу, которая посчитает, сколько светофоров должно быть установлено на каждом из перекрестков. Перекрестки пронумерованы числами от 1 до N."
   ]
  },
  {
   "cell_type": "code",
   "execution_count": 14,
   "metadata": {},
   "outputs": [
    {
     "name": "stdout",
     "output_type": "stream",
     "text": [
      "7 10\n"
     ]
    }
   ],
   "source": [
    "N, M = list(map(int, input().split()))"
   ]
  },
  {
   "cell_type": "code",
   "execution_count": 15,
   "metadata": {},
   "outputs": [
    {
     "data": {
      "text/plain": [
       "7"
      ]
     },
     "execution_count": 15,
     "metadata": {},
     "output_type": "execute_result"
    }
   ],
   "source": [
    "N"
   ]
  },
  {
   "cell_type": "code",
   "execution_count": 17,
   "metadata": {},
   "outputs": [
    {
     "name": "stdout",
     "output_type": "stream",
     "text": [
      "0\n",
      "1\n",
      "2\n",
      "3\n",
      "4\n",
      "5\n",
      "6\n",
      "7\n",
      "8\n",
      "9\n"
     ]
    }
   ],
   "source": [
    "for i in range(M):\n",
    "    print(i)"
   ]
  },
  {
   "cell_type": "code",
   "execution_count": 27,
   "metadata": {},
   "outputs": [
    {
     "name": "stdout",
     "output_type": "stream",
     "text": [
      "5 1\n",
      "3 2\n",
      "7 1\n",
      "5 2\n",
      "7 4\n",
      "6 5\n",
      "6 4\n",
      "7 5\n",
      "2 1\n",
      "5 3\n"
     ]
    }
   ],
   "source": [
    "edges = []\n",
    "\n",
    "for i in range(M):\n",
    "    v_from, v_to = list(map(int, input().split()))\n",
    "    edges.append((v_from, v_to))\n",
    "    \n",
    "    \n",
    "def get_neighbours(v, edges):\n",
    "    lights = 0\n",
    "    for edge in edges:\n",
    "        if edge[0] == v or edge[1] == v:\n",
    "            lights += 1\n",
    "    return lights"
   ]
  },
  {
   "cell_type": "code",
   "execution_count": 33,
   "metadata": {},
   "outputs": [
    {
     "data": {
      "text/plain": [
       "3"
      ]
     },
     "execution_count": 33,
     "metadata": {},
     "output_type": "execute_result"
    }
   ],
   "source": [
    "get_neighbours(1, edges)"
   ]
  },
  {
   "cell_type": "code",
   "execution_count": 32,
   "metadata": {},
   "outputs": [],
   "source": [
    "def get_neighbours(v, edges):\n",
    "    lights = 0\n",
    "    for edge in edges:\n",
    "        if edge[0] == v or edge[1] == v:\n",
    "            lights += 1\n",
    "    return lights"
   ]
  },
  {
   "cell_type": "code",
   "execution_count": 37,
   "metadata": {},
   "outputs": [
    {
     "name": "stdout",
     "output_type": "stream",
     "text": [
      "3 3 2 2 5 2 3\n"
     ]
    }
   ],
   "source": [
    "results = []\n",
    "for i in range(N):\n",
    "    results.append(get_neighbours(i+1, edges))\n",
    "print(*results)"
   ]
  },
  {
   "cell_type": "markdown",
   "metadata": {},
   "source": [
    "# 3 Задача №176. Цветной дождь\n"
   ]
  },
  {
   "cell_type": "markdown",
   "metadata": {},
   "source": [
    "Входные данные\n",
    "В  первой строке входных данных содержится число N (0 < N ≤ 100) – количество холмов. Далее идет матрица смежности, описывающая наличие мостов между холмами (1 – мост есть, 0 – нет). После матрицы смежности идёт пустая строка, и в последней строке записано N чисел, обозначающих цвет холмов: 1 – красный; 2 – синий; 3 – зеленый.\n",
    "\n",
    "Выходные данные\n",
    "Выведите одно число – количество \"плохих\" мостов."
   ]
  },
  {
   "cell_type": "code",
   "execution_count": 38,
   "metadata": {},
   "outputs": [
    {
     "name": "stdout",
     "output_type": "stream",
     "text": [
      "7\n",
      "0 1 0 0 0 1 1 \n",
      "1 0 1 0 0 0 0 \n",
      "0 1 0 0 1 1 0 \n",
      "0 0 0 0 0 0 0 \n",
      "0 0 1 0 0 1 0 \n",
      "1 0 1 0 1 0 0 \n",
      "1 0 0 0 0 0 0 \n",
      "\n",
      "1 1 1 1 1 3 3 \n"
     ]
    }
   ],
   "source": [
    "count = int(input())\n",
    "matrix = []\n",
    "for i in range(count):\n",
    "    matrix.append(list(map(int, input().split())))\n",
    "    \n",
    "a = input()\n",
    "colours = list(map(int, input().split()))"
   ]
  },
  {
   "cell_type": "code",
   "execution_count": 40,
   "metadata": {},
   "outputs": [
    {
     "data": {
      "text/plain": [
       "7"
      ]
     },
     "execution_count": 40,
     "metadata": {},
     "output_type": "execute_result"
    }
   ],
   "source": [
    "count"
   ]
  },
  {
   "cell_type": "code",
   "execution_count": 41,
   "metadata": {},
   "outputs": [
    {
     "data": {
      "text/plain": [
       "[[0, 1, 0, 0, 0, 1, 1],\n",
       " [1, 0, 1, 0, 0, 0, 0],\n",
       " [0, 1, 0, 0, 1, 1, 0],\n",
       " [0, 0, 0, 0, 0, 0, 0],\n",
       " [0, 0, 1, 0, 0, 1, 0],\n",
       " [1, 0, 1, 0, 1, 0, 0],\n",
       " [1, 0, 0, 0, 0, 0, 0]]"
      ]
     },
     "execution_count": 41,
     "metadata": {},
     "output_type": "execute_result"
    }
   ],
   "source": [
    "matrix"
   ]
  },
  {
   "cell_type": "code",
   "execution_count": 42,
   "metadata": {},
   "outputs": [
    {
     "data": {
      "text/plain": [
       "[1, 1, 1, 1, 1, 3, 3]"
      ]
     },
     "execution_count": 42,
     "metadata": {},
     "output_type": "execute_result"
    }
   ],
   "source": [
    "colours"
   ]
  },
  {
   "cell_type": "code",
   "execution_count": 44,
   "metadata": {},
   "outputs": [
    {
     "name": "stdout",
     "output_type": "stream",
     "text": [
      "0 1 col 1 1 col 2 1\n",
      "0 5 col 1 1 col 2 3\n",
      "0 6 col 1 1 col 2 3\n",
      "1 2 col 1 1 col 2 1\n",
      "2 4 col 1 1 col 2 1\n",
      "2 5 col 1 1 col 2 3\n",
      "4 5 col 1 1 col 2 3\n",
      "4\n"
     ]
    }
   ],
   "source": [
    "bad = 0\n",
    "for row in range(len(matrix)):\n",
    "    for col in range(row, len(matrix)):\n",
    "        if matrix[row][col] == 1:\n",
    "            print(row, col, 'col 1', colours[row], 'col 2', colours[col])\n",
    "            if colours[row] != colours[col]:\n",
    "                bad += 1\n",
    "print(bad)"
   ]
  },
  {
   "cell_type": "markdown",
   "metadata": {},
   "source": [
    "### Задача №177. Издевательство\n"
   ]
  },
  {
   "cell_type": "code",
   "execution_count": 5,
   "metadata": {},
   "outputs": [
    {
     "name": "stdout",
     "output_type": "stream",
     "text": [
      "5\n",
      "0 1 9 9 2\n",
      "1 0 9 9 9\n",
      "9 9 0 9 9\n",
      "9 9 9 0 9\n",
      "2 9 9 9 0\n"
     ]
    }
   ],
   "source": [
    "count = int(input())\n",
    "matrix = []\n",
    "for i in range(count):\n",
    "    matrix.append(list(map(int, input().split())))\n",
    "    \n"
   ]
  },
  {
   "cell_type": "code",
   "execution_count": 6,
   "metadata": {},
   "outputs": [
    {
     "data": {
      "text/plain": [
       "[[0, 1, 9, 9, 2],\n",
       " [1, 0, 9, 9, 9],\n",
       " [9, 9, 0, 9, 9],\n",
       " [9, 9, 9, 0, 9],\n",
       " [2, 9, 9, 9, 0]]"
      ]
     },
     "execution_count": 6,
     "metadata": {},
     "output_type": "execute_result"
    }
   ],
   "source": [
    "matrix"
   ]
  },
  {
   "cell_type": "code",
   "execution_count": 12,
   "metadata": {},
   "outputs": [
    {
     "data": {
      "text/plain": [
       "[0, 1, 2, 3]"
      ]
     },
     "execution_count": 12,
     "metadata": {},
     "output_type": "execute_result"
    }
   ],
   "source": [
    "def get_neighbours(v, graph):\n",
    "    neighbours = []\n",
    "    for i in range (len(graph)):\n",
    "        if graph[v][i] != 0:\n",
    "            neighbours.append(i)\n",
    "    return neighbours\n",
    "\n",
    "get_neighbours(4, matrix)"
   ]
  },
  {
   "cell_type": "code",
   "execution_count": 14,
   "metadata": {},
   "outputs": [
    {
     "data": {
      "text/plain": [
       "defaultdict(list,\n",
       "            {0: [1, 2, 3, 4],\n",
       "             1: [0, 2, 3, 4],\n",
       "             2: [0, 1, 3, 4],\n",
       "             3: [0, 1, 2, 4],\n",
       "             4: [0, 1, 2, 3]})"
      ]
     },
     "execution_count": 14,
     "metadata": {},
     "output_type": "execute_result"
    }
   ],
   "source": [
    "from collections import defaultdict \n",
    "# converts from adjacency matrix to adjacency list \n",
    "def convert(a): \n",
    "    adjList = defaultdict(list) \n",
    "    for i in range(len(a)): \n",
    "        for j in range(len(a[i])): \n",
    "                       if a[i][j]!= 0: \n",
    "                           adjList[i].append(j) \n",
    "    return adjList \n",
    "convert(matrix)"
   ]
  },
  {
   "cell_type": "code",
   "execution_count": null,
   "metadata": {},
   "outputs": [],
   "source": [
    "from collections import deque\n",
    "\n",
    "graph = convert(matrix) # Список смежности\n",
    "visited = [False for i in range(n)]\n",
    "\n",
    "def bfs(start, dist_m):\n",
    "    q = deque()\n",
    "    q.append_right(start)\n",
    "    visited[start] = True\n",
    "    # Заводим очередь (это когда первый кто пришел первый и уходит)\n",
    "    # И инициализируем её стартовой вершиной нашего обхода\n",
    "    # Важный момент что мы помечаем вершины помеченными прежде чем добавлять их в очередь\n",
    "    \n",
    "    while len(q) != 0:\n",
    "        # Пока в нашей очереди остаются вершины, достаём верхнюю\n",
    "        v = q.pop_left()\n",
    "        for u in graph[v]:\n",
    "            if not visited[u]:\n",
    "                # И смотрим на её соседей, если есть не посещенные, кладем их в очередь\n",
    "                # Не забыв пометить их посещенными\n",
    "                visited[u] = True\n",
    "                q.append_right(u)"
   ]
  },
  {
   "cell_type": "markdown",
   "metadata": {},
   "source": [
    "естьь adjacency list\n",
    "сделать обход до лины 2. потом проверить смежность с началом и расчитать кольцо\n",
    "на каждом ходе сохранять длину цепи, ведущей к точке."
   ]
  },
  {
   "cell_type": "markdown",
   "metadata": {},
   "source": [
    "#### Задача №164. Обход графа"
   ]
  },
  {
   "cell_type": "code",
   "execution_count": 3,
   "metadata": {},
   "outputs": [
    {
     "name": "stdout",
     "output_type": "stream",
     "text": [
      "3 1\n",
      "0 1 1\n",
      "1 0 0\n",
      "1 0 0\n"
     ]
    }
   ],
   "source": [
    "N, S = list(map(int, input().split()))\n",
    "matrix = []\n",
    "\n",
    "for i in range(N):\n",
    "    matrix.append(list(map(int, input().split())))\n",
    "    "
   ]
  },
  {
   "cell_type": "code",
   "execution_count": 26,
   "metadata": {},
   "outputs": [
    {
     "name": "stdout",
     "output_type": "stream",
     "text": [
      "False\n",
      "False\n",
      "False\n"
     ]
    },
    {
     "data": {
      "text/plain": [
       "3"
      ]
     },
     "execution_count": 26,
     "metadata": {},
     "output_type": "execute_result"
    }
   ],
   "source": [
    "N, S = list(map(int, input().split()))\n",
    "matrix = []\n",
    "\n",
    "for i in range(N):\n",
    "    matrix.append(list(map(int, input().split())))\n",
    "    \n",
    "S -= 1\n",
    "\n",
    "from collections import defaultdict \n",
    "\n",
    "def convert(a): \n",
    "    adjList = defaultdict(list) \n",
    "    for i in range(len(a)): \n",
    "        for j in range(len(a[i])): \n",
    "                       if a[i][j]!= 0: \n",
    "                           adjList[i].append(j) \n",
    "    return adjList \n",
    "graph = convert(matrix)\n",
    "\n",
    "visited = [False for i in range(N)] \n",
    "\n",
    "def dfs(v):\n",
    "    visited[v] = True  \n",
    "    counter = 1\n",
    "    for u in graph[v]:\n",
    "        if not visited[u]:\n",
    "            counter += dfs(u)\n",
    "    return counter\n",
    "counter = dfs(S)\n",
    "counter"
   ]
  },
  {
   "cell_type": "code",
   "execution_count": 15,
   "metadata": {},
   "outputs": [
    {
     "data": {
      "text/plain": [
       "[[0, 1, 1], [1, 0, 0], [1, 0, 0]]"
      ]
     },
     "execution_count": 15,
     "metadata": {},
     "output_type": "execute_result"
    }
   ],
   "source": [
    "matrix"
   ]
  },
  {
   "cell_type": "code",
   "execution_count": 22,
   "metadata": {},
   "outputs": [
    {
     "ename": "IndexError",
     "evalue": "list assignment index out of range",
     "output_type": "error",
     "traceback": [
      "\u001b[1;31m---------------------------------------------------------------------------\u001b[0m",
      "\u001b[1;31mIndexError\u001b[0m                                Traceback (most recent call last)",
      "\u001b[1;32m<ipython-input-22-d44c8014ff7c>\u001b[0m in \u001b[0;36m<module>\u001b[1;34m\u001b[0m\n\u001b[0;32m      8\u001b[0m             \u001b[0mcounter\u001b[0m \u001b[1;33m+=\u001b[0m \u001b[0mdfs\u001b[0m\u001b[1;33m(\u001b[0m\u001b[0mu\u001b[0m\u001b[1;33m)\u001b[0m\u001b[1;33m\u001b[0m\u001b[1;33m\u001b[0m\u001b[0m\n\u001b[0;32m      9\u001b[0m     \u001b[1;32mreturn\u001b[0m \u001b[0mcounter\u001b[0m\u001b[1;33m\u001b[0m\u001b[1;33m\u001b[0m\u001b[0m\n\u001b[1;32m---> 10\u001b[1;33m \u001b[0mcounter\u001b[0m \u001b[1;33m=\u001b[0m \u001b[0mdfs\u001b[0m\u001b[1;33m(\u001b[0m\u001b[0mS\u001b[0m\u001b[1;33m)\u001b[0m\u001b[1;33m\u001b[0m\u001b[1;33m\u001b[0m\u001b[0m\n\u001b[0m\u001b[0;32m     11\u001b[0m \u001b[0mprint\u001b[0m\u001b[1;33m(\u001b[0m\u001b[0mcounter\u001b[0m\u001b[1;33m)\u001b[0m\u001b[1;33m\u001b[0m\u001b[1;33m\u001b[0m\u001b[0m\n",
      "\u001b[1;32m<ipython-input-22-d44c8014ff7c>\u001b[0m in \u001b[0;36mdfs\u001b[1;34m(v)\u001b[0m\n\u001b[0;32m      2\u001b[0m \u001b[1;33m\u001b[0m\u001b[0m\n\u001b[0;32m      3\u001b[0m \u001b[1;32mdef\u001b[0m \u001b[0mdfs\u001b[0m\u001b[1;33m(\u001b[0m\u001b[0mv\u001b[0m\u001b[1;33m)\u001b[0m\u001b[1;33m:\u001b[0m\u001b[1;33m\u001b[0m\u001b[1;33m\u001b[0m\u001b[0m\n\u001b[1;32m----> 4\u001b[1;33m     \u001b[0mvisited\u001b[0m\u001b[1;33m[\u001b[0m\u001b[0mv\u001b[0m\u001b[1;33m]\u001b[0m \u001b[1;33m=\u001b[0m \u001b[1;32mTrue\u001b[0m\u001b[1;33m\u001b[0m\u001b[1;33m\u001b[0m\u001b[0m\n\u001b[0m\u001b[0;32m      5\u001b[0m     \u001b[0mcounter\u001b[0m \u001b[1;33m=\u001b[0m \u001b[1;36m1\u001b[0m\u001b[1;33m\u001b[0m\u001b[1;33m\u001b[0m\u001b[0m\n\u001b[0;32m      6\u001b[0m     \u001b[1;32mfor\u001b[0m \u001b[0mu\u001b[0m \u001b[1;32min\u001b[0m \u001b[0mrange\u001b[0m\u001b[1;33m(\u001b[0m\u001b[0mN\u001b[0m\u001b[1;33m)\u001b[0m\u001b[1;33m:\u001b[0m\u001b[1;33m\u001b[0m\u001b[1;33m\u001b[0m\u001b[0m\n",
      "\u001b[1;31mIndexError\u001b[0m: list assignment index out of range"
     ]
    }
   ],
   "source": [
    "visited = [False for i in range(N)] \n",
    "\n",
    "def dfs(v):\n",
    "    visited[v] = True\n",
    "    counter = 1\n",
    "    for u in range(N):\n",
    "        if graph[v][u] == 1 and not visited[u]:\n",
    "            counter += dfs(u)\n",
    "    return counter\n",
    "counter = dfs(S)\n",
    "print(counter)"
   ]
  },
  {
   "cell_type": "code",
   "execution_count": 23,
   "metadata": {},
   "outputs": [
    {
     "data": {
      "text/plain": [
       "[False, False, False]"
      ]
     },
     "execution_count": 23,
     "metadata": {},
     "output_type": "execute_result"
    }
   ],
   "source": [
    "visited"
   ]
  },
  {
   "cell_type": "code",
   "execution_count": 24,
   "metadata": {},
   "outputs": [
    {
     "data": {
      "text/plain": [
       "(3, -11)"
      ]
     },
     "execution_count": 24,
     "metadata": {},
     "output_type": "execute_result"
    }
   ],
   "source": [
    "N, S"
   ]
  },
  {
   "cell_type": "code",
   "execution_count": 25,
   "metadata": {},
   "outputs": [],
   "source": [
    "S = 3"
   ]
  },
  {
   "cell_type": "markdown",
   "metadata": {},
   "source": [
    "### Задача №111540. Компоненты связности"
   ]
  },
  {
   "cell_type": "code",
   "execution_count": 36,
   "metadata": {},
   "outputs": [
    {
     "name": "stdout",
     "output_type": "stream",
     "text": [
      "6 4\n",
      "3 1\n",
      "1 2\n",
      "5 4\n",
      "2 3\n"
     ]
    }
   ],
   "source": [
    "n, m = list(map(int, input().split()))\n",
    "\n",
    "graph = defaultdict(list)\n",
    "for i in range(M):\n",
    "    v_from, v_to = list(map(int, input().split()))\n",
    "    graph[v_from].append(v_to)\n",
    "    graph[v_to].append(v_from)\n",
    "\n",
    "    "
   ]
  },
  {
   "cell_type": "code",
   "execution_count": 38,
   "metadata": {},
   "outputs": [
    {
     "data": {
      "text/plain": [
       "defaultdict(list, {3: [1, 2], 1: [3, 2], 2: [1, 3], 5: [4], 4: [5]})"
      ]
     },
     "execution_count": 38,
     "metadata": {},
     "output_type": "execute_result"
    }
   ],
   "source": [
    "graph"
   ]
  },
  {
   "cell_type": "code",
   "execution_count": 96,
   "metadata": {},
   "outputs": [
    {
     "name": "stdout",
     "output_type": "stream",
     "text": [
      "3\n",
      "3\n",
      "1 2 3\n",
      "2\n",
      "4 5\n",
      "1\n",
      "6\n"
     ]
    }
   ],
   "source": [
    "visited = [0 for i in range(n)]\n",
    "order = 0\n",
    "def dfs(v, colour):\n",
    "    visited[v-1] = colour \n",
    "    for u in graph[v]:\n",
    "        if not visited[u-1]:\n",
    "            dfs(u, colour)\n",
    "\n",
    "            \n",
    "counter = 0\n",
    "\n",
    "for k in range(n):\n",
    "    if visited[k] == 0:\n",
    "        counter += 1\n",
    "        order += 1\n",
    "        dfs(k+1, order)\n",
    "\n",
    "print(order)\n",
    "for col in range(1,order+1):\n",
    "    elems = [i +1 for i, x in enumerate(visited) if x == col]\n",
    "    print(len(elems))\n",
    "    print(*(elems))\n",
    "    "
   ]
  },
  {
   "cell_type": "markdown",
   "metadata": {},
   "source": [
    "## как работать"
   ]
  },
  {
   "cell_type": "markdown",
   "metadata": {},
   "source": [
    "input txt создать\n",
    "fin = open('input.txt', 'r')\n",
    "fin.readline()\n",
    "fin.close()"
   ]
  },
  {
   "cell_type": "code",
   "execution_count": 52,
   "metadata": {},
   "outputs": [
    {
     "data": {
      "text/plain": [
       "6"
      ]
     },
     "execution_count": 52,
     "metadata": {},
     "output_type": "execute_result"
    }
   ],
   "source": [
    "n"
   ]
  },
  {
   "cell_type": "code",
   "execution_count": 56,
   "metadata": {},
   "outputs": [],
   "source": [
    "for k in range(n):\n",
    "    if visited[k] != 0:\n",
    "        print(k)"
   ]
  },
  {
   "cell_type": "code",
   "execution_count": 67,
   "metadata": {},
   "outputs": [
    {
     "data": {
      "text/plain": [
       "[3, 2]"
      ]
     },
     "execution_count": 67,
     "metadata": {},
     "output_type": "execute_result"
    }
   ],
   "source": [
    "graph[1]"
   ]
  },
  {
   "cell_type": "code",
   "execution_count": null,
   "metadata": {},
   "outputs": [],
   "source": []
  }
 ],
 "metadata": {
  "kernelspec": {
   "display_name": "Python 3",
   "language": "python",
   "name": "python3"
  },
  "language_info": {
   "codemirror_mode": {
    "name": "ipython",
    "version": 3
   },
   "file_extension": ".py",
   "mimetype": "text/x-python",
   "name": "python",
   "nbconvert_exporter": "python",
   "pygments_lexer": "ipython3",
   "version": "3.8.5"
  }
 },
 "nbformat": 4,
 "nbformat_minor": 4
}
