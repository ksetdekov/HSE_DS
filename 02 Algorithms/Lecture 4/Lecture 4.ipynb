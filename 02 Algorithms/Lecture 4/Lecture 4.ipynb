{
 "cells": [
  {
   "cell_type": "markdown",
   "metadata": {},
   "source": [
    "# Динамическое программирование"
   ]
  },
  {
   "cell_type": "markdown",
   "metadata": {},
   "source": [
    " * разложим на задачи\n",
    " * решим части\n",
    " * соберем общее решение"
   ]
  },
  {
   "cell_type": "markdown",
   "metadata": {},
   "source": [
    "поменять время на память, например"
   ]
  },
  {
   "cell_type": "markdown",
   "metadata": {},
   "source": [
    "### фибоначи"
   ]
  },
  {
   "cell_type": "code",
   "execution_count": 3,
   "metadata": {},
   "outputs": [
    {
     "data": {
      "text/plain": [
       "5"
      ]
     },
     "execution_count": 3,
     "metadata": {},
     "output_type": "execute_result"
    }
   ],
   "source": [
    "n = 5\n",
    "def fib(n):\n",
    "    if n <= 2:\n",
    "        return 1\n",
    "    return fib(n-1) + fib(n-2)\n",
    "fib(n)"
   ]
  },
  {
   "cell_type": "markdown",
   "metadata": {},
   "source": [
    "#### похоже на математическую индукцию"
   ]
  },
  {
   "cell_type": "markdown",
   "metadata": {},
   "source": [
    "нужен переход для n+1 и базовый случа.\n",
    "\n",
    "если это есть, то сможем."
   ]
  },
  {
   "cell_type": "markdown",
   "metadata": {},
   "source": [
    "### ответ фибоначи через динамическое"
   ]
  },
  {
   "cell_type": "code",
   "execution_count": 4,
   "metadata": {},
   "outputs": [
    {
     "data": {
      "text/plain": [
       "5"
      ]
     },
     "execution_count": 4,
     "metadata": {},
     "output_type": "execute_result"
    }
   ],
   "source": [
    "def fib(n):\n",
    "    fib_number = [0 for i in range(n)]\n",
    "    fib_number[0] = 1\n",
    "    fib_number[1] = 1\n",
    "    \n",
    "    for i in range(2, n):\n",
    "        fib_number[i] = fib_number[i -1 ] +fib_number[i -2]\n",
    "    return fib_number[-1]\n",
    "fib(n)"
   ]
  },
  {
   "cell_type": "markdown",
   "metadata": {},
   "source": [
    "#### плюсы\n",
    "\n",
    "* не считаем заново одно и то же"
   ]
  },
  {
   "cell_type": "code",
   "execution_count": 10,
   "metadata": {},
   "outputs": [
    {
     "name": "stdout",
     "output_type": "stream",
     "text": [
      "7\n"
     ]
    }
   ],
   "source": [
    "steps = 4\n",
    "\n",
    "def options(n):\n",
    "\n",
    "    step_options = [0 for i in range(max(n, 3))]\n",
    "    step_options[0] = 1\n",
    "    step_options[1] = 1\n",
    "    step_options[2] = 2\n",
    "\n",
    "    if n < 3:\n",
    "        return step_options[n]\n",
    "\n",
    "    for i in range(3, n):\n",
    "        step_options[i] = step_options[i - 1] + step_options[i - 2] + step_options[i - 3]\n",
    "    return step_options[-1]\n",
    "\n",
    "\n",
    "print(options(steps+1))"
   ]
  },
  {
   "cell_type": "markdown",
   "metadata": {},
   "source": [
    "#### можно многое из рекурсий сделать через динамическое программирование"
   ]
  },
  {
   "cell_type": "markdown",
   "metadata": {},
   "source": [
    "    dfs + stack можно сделать"
   ]
  },
  {
   "cell_type": "code",
   "execution_count": 27,
   "metadata": {},
   "outputs": [
    {
     "name": "stdout",
     "output_type": "stream",
     "text": [
      "1\n",
      "0 zeros\n",
      "0 ones\n",
      "2\n",
      "0 zeros\n",
      "0 ones\n",
      "[1, 2, 3]\n",
      "[1, 1, 2]\n"
     ]
    },
    {
     "data": {
      "text/plain": [
       "5"
      ]
     },
     "execution_count": 27,
     "metadata": {},
     "output_type": "execute_result"
    }
   ],
   "source": [
    "N = 3\n",
    "\n",
    "def posledovatelnost(n):\n",
    "    n_pos_0 = [0 for i in range(n)]\n",
    "    n_pos_1 = [0 for i in range(n)]\n",
    "    n_pos_0[0] = 1\n",
    "    n_pos_1[0] = 1\n",
    "\n",
    "\n",
    "\n",
    "    \n",
    "    for i in range(1,n):\n",
    "        print(i)\n",
    "        print(n_pos_0[i], 'zeros')\n",
    "        print(n_pos_1[i], 'ones')\n",
    "        n_pos_0[i] = n_pos_0[i-1] + n_pos_1[i-1]\n",
    "        n_pos_1[i] = n_pos_0[i-1]\n",
    "\n",
    "\n",
    "    print(n_pos_0)\n",
    "    print(n_pos_1)\n",
    "    return(n_pos_0[-1] + n_pos_1[-1])\n",
    "\n",
    "posledovatelnost(N)"
   ]
  },
  {
   "cell_type": "markdown",
   "metadata": {},
   "source": [
    "### платная лестница"
   ]
  },
  {
   "cell_type": "markdown",
   "metadata": {},
   "source": [
    "3\n",
    "1 3 1"
   ]
  },
  {
   "cell_type": "code",
   "execution_count": 33,
   "metadata": {},
   "outputs": [
    {
     "name": "stdout",
     "output_type": "stream",
     "text": [
      "3\n",
      "1 3 1\n",
      "[1, 3, 1]\n"
     ]
    }
   ],
   "source": [
    "N = int(input())\n",
    "stairs = list(map(int, input().split()))\n",
    "print(stairs)"
   ]
  },
  {
   "cell_type": "code",
   "execution_count": 40,
   "metadata": {},
   "outputs": [
    {
     "name": "stdout",
     "output_type": "stream",
     "text": [
      "2\n"
     ]
    }
   ],
   "source": [
    "def pay_stair(prices, counts):\n",
    "    step_back = 0\n",
    "    two_steps_back = 0\n",
    "    for i in range(counts):\n",
    "        costs = min(step_back, two_steps_back) + prices[i]\n",
    "        two_steps_back = step_back\n",
    "        step_back = costs\n",
    "\n",
    "    return costs\n",
    "\n",
    "\n",
    "print(pay_stair(stairs, N))"
   ]
  },
  {
   "cell_type": "markdown",
   "metadata": {},
   "source": [
    "##### решение лектора"
   ]
  },
  {
   "cell_type": "code",
   "execution_count": 41,
   "metadata": {},
   "outputs": [
    {
     "name": "stdout",
     "output_type": "stream",
     "text": [
      "2\n"
     ]
    }
   ],
   "source": [
    "def cheap_way(n, costs):\n",
    "    cheap = [costs[i] for i in range(n)]\n",
    "    \n",
    "    for i in range(2, n):\n",
    "        cheap[i] += min(cheap[i-1], cheap[i-2])\n",
    "    return cheap[-1]\n",
    "\n",
    "print(cheap_way(N, stairs))"
   ]
  },
  {
   "cell_type": "markdown",
   "metadata": {},
   "source": [
    "# по таблицам"
   ]
  },
  {
   "cell_type": "code",
   "execution_count": 44,
   "metadata": {},
   "outputs": [
    {
     "name": "stdout",
     "output_type": "stream",
     "text": [
      "2 3\n"
     ]
    }
   ],
   "source": [
    "N, M = list(map(int, input().split()))"
   ]
  },
  {
   "cell_type": "code",
   "execution_count": 45,
   "metadata": {},
   "outputs": [
    {
     "name": "stdout",
     "output_type": "stream",
     "text": [
      "2 3\n"
     ]
    }
   ],
   "source": [
    "print(N, M)"
   ]
  },
  {
   "cell_type": "code",
   "execution_count": 55,
   "metadata": {},
   "outputs": [
    {
     "data": {
      "text/plain": [
       "3"
      ]
     },
     "execution_count": 55,
     "metadata": {},
     "output_type": "execute_result"
    }
   ],
   "source": [
    "def table_steps(rows, columns):\n",
    "    row = [0 for _ in range(M + 1)]\n",
    "    prev_row = [0 for _ in range(M + 1)]\n",
    "    #     print(row)\n",
    "    prev_row[1] = 1\n",
    "    #     print(row)\n",
    "\n",
    "    for k in range(rows):\n",
    "        for i in range(columns):\n",
    "            row[i + 1] = prev_row[i + 1] + row[i]\n",
    "        #             print(row)\n",
    "        prev_row = row\n",
    "    return row[-1]\n",
    "\n",
    "\n",
    "print(table_steps(N, M))"
   ]
  },
  {
   "cell_type": "markdown",
   "metadata": {},
   "source": [
    "#####  от лектора"
   ]
  },
  {
   "cell_type": "code",
   "execution_count": 65,
   "metadata": {},
   "outputs": [
    {
     "name": "stdout",
     "output_type": "stream",
     "text": [
      "1\n"
     ]
    }
   ],
   "source": [
    "def n_ways(n, m):\n",
    "    matrix = [[0 for _  in range(m)] for _ in range(n)]\n",
    "    matrix[0][0] = 1\n",
    "    for i in range(n):\n",
    "        matrix[i][0] = 1\n",
    "    for j in range(m):\n",
    "        matrix[0][j] = 1\n",
    "    for i in range(1, n):\n",
    "        for j in range(1, m):\n",
    "            matrix[i][j] += matrix[i -1][j] + matrix[i][j-1]\n",
    "            \n",
    "    return matrix[-1][-1]\n",
    "print(n_ways(N, M))"
   ]
  },
  {
   "cell_type": "markdown",
   "metadata": {},
   "source": [
    "## наибольшая общая подпоследовательность"
   ]
  },
  {
   "cell_type": "markdown",
   "metadata": {},
   "source": [
    "входные данные\n",
    "\n",
    "3\n",
    "\n",
    "1 2 3\n",
    "\n",
    "3 \n",
    "\n",
    "2 3 1\n",
    "\n",
    "ответ - 2 - длина [2,3]"
   ]
  },
  {
   "cell_type": "markdown",
   "metadata": {},
   "source": [
    "1) если не равны значения  максимум\n",
    "    * значение сверху\n",
    "    * значение слева\n",
    "2) если равны максимум\n",
    "    * значение сверху\n",
    "    * значение слева \n",
    "    * сверху слева +1\n",
    "\n",
    "строка - str[:j]\n",
    "столбец - str2[:i]"
   ]
  },
  {
   "cell_type": "code",
   "execution_count": 2,
   "metadata": {},
   "outputs": [],
   "source": [
    "cc = (\"4556364607935616\")"
   ]
  },
  {
   "cell_type": "code",
   "execution_count": 3,
   "metadata": {},
   "outputs": [
    {
     "data": {
      "text/plain": [
       "16"
      ]
     },
     "execution_count": 3,
     "metadata": {},
     "output_type": "execute_result"
    }
   ],
   "source": [
    "le = len(cc)\n",
    "le"
   ]
  },
  {
   "cell_type": "code",
   "execution_count": 7,
   "metadata": {},
   "outputs": [
    {
     "name": "stdout",
     "output_type": "stream",
     "text": [
      "############5616\n"
     ]
    }
   ],
   "source": [
    "if le <5:\n",
    "    print(cc)\n",
    "else:\n",
    "    print(\"#\"*(le-4)+cc[le-4:])"
   ]
  },
  {
   "cell_type": "code",
   "execution_count": 6,
   "metadata": {},
   "outputs": [
    {
     "data": {
      "text/plain": [
       "'############'"
      ]
     },
     "execution_count": 6,
     "metadata": {},
     "output_type": "execute_result"
    }
   ],
   "source": [
    "\"#\"*12\n"
   ]
  },
  {
   "cell_type": "code",
   "execution_count": null,
   "metadata": {},
   "outputs": [],
   "source": []
  }
 ],
 "metadata": {
  "kernelspec": {
   "display_name": "Python 3",
   "language": "python",
   "name": "python3"
  },
  "language_info": {
   "codemirror_mode": {
    "name": "ipython",
    "version": 3
   },
   "file_extension": ".py",
   "mimetype": "text/x-python",
   "name": "python",
   "nbconvert_exporter": "python",
   "pygments_lexer": "ipython3",
   "version": "3.8.3"
  }
 },
 "nbformat": 4,
 "nbformat_minor": 4
}
