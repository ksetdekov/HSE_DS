{
 "cells": [
  {
   "cell_type": "markdown",
   "metadata": {},
   "source": [
    "# Наибольшая общая подпоследовательность"
   ]
  },
  {
   "cell_type": "markdown",
   "metadata": {},
   "source": [
    "### жадные алгоритмы\n",
    "на каждом этапе принимаем лучшее решение\n",
    "https://informatics.mccme.ru/mod/statements/view.php?id=19635#1\n",
    "\n",
    "можно решить жадным алгоритмом - если можно решить задачу комбинацией лучших решений"
   ]
  },
  {
   "cell_type": "markdown",
   "metadata": {},
   "source": [
    "### выбор заявки\n",
    "https://informatics.mccme.ru/mod/statements/view.php?id=19635#1"
   ]
  },
  {
   "cell_type": "code",
   "execution_count": 4,
   "metadata": {},
   "outputs": [
    {
     "name": "stdout",
     "output_type": "stream",
     "text": [
      "3\n",
      "1 5\n",
      "2 3\n",
      "3 4\n",
      "2\n"
     ]
    }
   ],
   "source": [
    "def acitvity(acitvities):\n",
    "    n_activities = 0\n",
    "    current_finish = -float(\"inf\")\n",
    "    \n",
    "    acitvities.sort(key = lambda x: x[1])\n",
    "    for start, finish in acitvities:\n",
    "        if start >= current_finish:\n",
    "            current_finish = finish\n",
    "            n_activities += 1\n",
    "    return n_activities\n",
    "\n",
    "n = int(input())\n",
    "acitvities = [list(map(int, input().split())) for _ in range(n)]\n",
    "print(acitvity(acitvities))"
   ]
  },
  {
   "cell_type": "markdown",
   "metadata": {},
   "source": [
    "### рюкзак"
   ]
  },
  {
   "cell_type": "markdown",
   "metadata": {},
   "source": [
    "https://informatics.mccme.ru/mod/statements/view.php?id=813&chapterid=1118#1"
   ]
  },
  {
   "cell_type": "markdown",
   "metadata": {},
   "source": [
    "(val[n] + knapSack(W-wt[n-1], wt, val, n-1),  knapSack(W, wt, val, n-1))"
   ]
  },
  {
   "cell_type": "code",
   "execution_count": 6,
   "metadata": {},
   "outputs": [
    {
     "name": "stdout",
     "output_type": "stream",
     "text": [
      "220\n"
     ]
    }
   ],
   "source": [
    "\n",
    "  \n",
    "val = [60, 100, 120] \n",
    "wt = [10, 20, 30] \n",
    "W = 50\n",
    "n = len(val) \n",
    "\n",
    "def knapSack(W, wt, val, n): \n",
    "    K = [[0 for x in range(W + 1)] for x in range(n + 1)] \n",
    "  \n",
    "    # Build table K[][] in bottom up manner \n",
    "    for i in range(n + 1): \n",
    "        for w in range(W + 1): \n",
    "            if i == 0 or w == 0: \n",
    "                K[i][w] = 0\n",
    "            elif wt[i-1] <= w: \n",
    "                K[i][w] = max(val[i-1] \n",
    "                          + K[i-1][w-wt[i-1]],   \n",
    "                              K[i-1][w]) \n",
    "            else: \n",
    "                K[i][w] = K[i-1][w] \n",
    "  \n",
    "    return K[n][W] \n",
    "\n",
    "print(knapSack(W, wt, val, n)) \n",
    "\n",
    "  "
   ]
  },
  {
   "cell_type": "code",
   "execution_count": null,
   "metadata": {},
   "outputs": [],
   "source": []
  }
 ],
 "metadata": {
  "kernelspec": {
   "display_name": "Python 3",
   "language": "python",
   "name": "python3"
  },
  "language_info": {
   "codemirror_mode": {
    "name": "ipython",
    "version": 3
   },
   "file_extension": ".py",
   "mimetype": "text/x-python",
   "name": "python",
   "nbconvert_exporter": "python",
   "pygments_lexer": "ipython3",
   "version": "3.7.0"
  }
 },
 "nbformat": 4,
 "nbformat_minor": 2
}
