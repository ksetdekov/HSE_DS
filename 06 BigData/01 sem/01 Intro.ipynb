{
 "cells": [
  {
   "cell_type": "code",
   "execution_count": 1,
   "id": "85d195ea",
   "metadata": {},
   "outputs": [
    {
     "data": {
      "text/plain": [
       "0.1001129150390625"
      ]
     },
     "execution_count": 1,
     "metadata": {},
     "output_type": "execute_result"
    }
   ],
   "source": [
    "(1- 0.25) ** 8"
   ]
  },
  {
   "cell_type": "code",
   "execution_count": 2,
   "id": "3fdf4576",
   "metadata": {},
   "outputs": [],
   "source": [
    "??map"
   ]
  },
  {
   "cell_type": "code",
   "execution_count": null,
   "id": "4f26c383",
   "metadata": {},
   "outputs": [],
   "source": []
  }
 ],
 "metadata": {
  "kernelspec": {
   "display_name": "Python 3 (ipykernel)",
   "language": "python",
   "name": "python3"
  },
  "language_info": {
   "codemirror_mode": {
    "name": "ipython",
    "version": 3
   },
   "file_extension": ".py",
   "mimetype": "text/x-python",
   "name": "python",
   "nbconvert_exporter": "python",
   "pygments_lexer": "ipython3",
   "version": "3.9.6"
  }
 },
 "nbformat": 4,
 "nbformat_minor": 5
}
