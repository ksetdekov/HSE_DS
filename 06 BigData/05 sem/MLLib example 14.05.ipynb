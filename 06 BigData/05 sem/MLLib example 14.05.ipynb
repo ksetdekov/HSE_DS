{
 "cells": [
  {
   "cell_type": "code",
   "execution_count": 1,
   "metadata": {},
   "outputs": [],
   "source": [
    "import findspark\n",
    "findspark.init()\n",
    "\n",
    "import pyspark"
   ]
  },
  {
   "cell_type": "code",
   "execution_count": 2,
   "metadata": {},
   "outputs": [],
   "source": [
    "# !pip install findspark"
   ]
  },
  {
   "cell_type": "code",
   "execution_count": 3,
   "metadata": {},
   "outputs": [],
   "source": [
    "spark = pyspark.sql.SparkSession.builder.getOrCreate()"
   ]
  },
  {
   "cell_type": "code",
   "execution_count": 4,
   "metadata": {},
   "outputs": [
    {
     "name": "stdout",
     "output_type": "stream",
     "text": [
      "--2021-03-03 19:50:07--  https://archive.ics.uci.edu/ml/machine-learning-databases/00228/smsspamcollection.zip\n",
      "Resolving archive.ics.uci.edu (archive.ics.uci.edu)... 128.195.10.252\n",
      "Connecting to archive.ics.uci.edu (archive.ics.uci.edu)|128.195.10.252|:443... connected.\n",
      "HTTP request sent, awaiting response... 200 OK\n",
      "Length: 203415 (199K) [application/x-httpd-php]\n",
      "Saving to: ‘smsspamcollection.zip.4’\n",
      "\n",
      "smsspamcollection.z 100%[===================>] 198.65K   250KB/s    in 0.8s    \n",
      "\n",
      "2021-03-03 19:50:10 (250 KB/s) - ‘smsspamcollection.zip.4’ saved [203415/203415]\n",
      "\n"
     ]
    }
   ],
   "source": [
    "!wget https://archive.ics.uci.edu/ml/machine-learning-databases/00228/smsspamcollection.zip"
   ]
  },
  {
   "cell_type": "code",
   "execution_count": 5,
   "metadata": {},
   "outputs": [],
   "source": [
    "# !unzip smsspamcollection.zip"
   ]
  },
  {
   "cell_type": "code",
   "execution_count": 6,
   "metadata": {},
   "outputs": [
    {
     "name": "stdout",
     "output_type": "stream",
     "text": [
      "ham\tGo until jurong point, crazy.. Available only in bugis n great world la e buffet... Cine there got amore wat...\r\n",
      "ham\tOk lar... Joking wif u oni...\r\n",
      "spam\tFree entry in 2 a wkly comp to win FA Cup final tkts 21st May 2005. Text FA to 87121 to receive entry question(std txt rate)T&C's apply 08452810075over18's\r\n",
      "ham\tU dun say so early hor... U c already then say...\r\n",
      "ham\tNah I don't think he goes to usf, he lives around here though\r\n",
      "spam\tFreeMsg Hey there darling it's been 3 week's now and no word back! I'd like some fun you up for it still? Tb ok! XxX std chgs to send, £1.50 to rcv\r\n",
      "ham\tEven my brother is not like to speak with me. They treat me like aids patent.\r\n",
      "ham\tAs per your request 'Melle Melle (Oru Minnaminunginte Nurungu Vettam)' has been set as your callertune for all Callers. Press *9 to copy your friends Callertune\r\n",
      "spam\tWINNER!! As a valued network customer you have been selected to receivea £900 prize reward! To claim call 09061701461. Claim code KL341. Valid 12 hours only.\r\n",
      "spam\tHad your mobile 11 months or more? U R entitled to Update to the latest colour mobiles with camera for Free! Call The Mobile Update Co FREE on 08002986030\r\n"
     ]
    }
   ],
   "source": [
    "!head SMSSpamCollection"
   ]
  },
  {
   "cell_type": "code",
   "execution_count": 7,
   "metadata": {},
   "outputs": [],
   "source": [
    "src = (\n",
    "    spark\n",
    "    .read\n",
    "    .option(\"sep\", \"\\t\")\n",
    "    .csv(\"SMSSpamCollection\")\n",
    "    .withColumnRenamed(\"_c0\", \"label\")\n",
    "    .withColumnRenamed(\"_c1\", \"message\")\n",
    ")"
   ]
  },
  {
   "cell_type": "code",
   "execution_count": 8,
   "metadata": {},
   "outputs": [
    {
     "name": "stdout",
     "output_type": "stream",
     "text": [
      "+-----+--------------------+\n",
      "|label|             message|\n",
      "+-----+--------------------+\n",
      "|  ham|Go until jurong p...|\n",
      "|  ham|Ok lar... Joking ...|\n",
      "| spam|Free entry in 2 a...|\n",
      "|  ham|U dun say so earl...|\n",
      "|  ham|Nah I don't think...|\n",
      "| spam|FreeMsg Hey there...|\n",
      "|  ham|Even my brother i...|\n",
      "|  ham|As per your reque...|\n",
      "| spam|WINNER!! As a val...|\n",
      "| spam|Had your mobile 1...|\n",
      "|  ham|I'm gonna be home...|\n",
      "| spam|SIX chances to wi...|\n",
      "| spam|URGENT! You have ...|\n",
      "|  ham|I've been searchi...|\n",
      "|  ham|I HAVE A DATE ON ...|\n",
      "| spam|XXXMobileMovieClu...|\n",
      "|  ham|Oh k...i'm watchi...|\n",
      "|  ham|Eh u remember how...|\n",
      "|  ham|Fine if thats th...|\n",
      "| spam|England v Macedon...|\n",
      "+-----+--------------------+\n",
      "only showing top 20 rows\n",
      "\n"
     ]
    }
   ],
   "source": [
    "src.show()"
   ]
  },
  {
   "cell_type": "code",
   "execution_count": 9,
   "metadata": {},
   "outputs": [],
   "source": [
    "from pyspark.ml import feature"
   ]
  },
  {
   "cell_type": "code",
   "execution_count": 10,
   "metadata": {},
   "outputs": [],
   "source": [
    "tokenizer = feature.Tokenizer(inputCol=\"message\", outputCol=\"tokens\")"
   ]
  },
  {
   "cell_type": "code",
   "execution_count": 11,
   "metadata": {},
   "outputs": [
    {
     "name": "stdout",
     "output_type": "stream",
     "text": [
      "+-----+--------------------+--------------------+\n",
      "|label|             message|              tokens|\n",
      "+-----+--------------------+--------------------+\n",
      "|  ham|Go until jurong p...|[go, until, juron...|\n",
      "|  ham|Ok lar... Joking ...|[ok, lar..., joki...|\n",
      "| spam|Free entry in 2 a...|[free, entry, in,...|\n",
      "|  ham|U dun say so earl...|[u, dun, say, so,...|\n",
      "|  ham|Nah I don't think...|[nah, i, don't, t...|\n",
      "| spam|FreeMsg Hey there...|[freemsg, hey, th...|\n",
      "|  ham|Even my brother i...|[even, my, brothe...|\n",
      "|  ham|As per your reque...|[as, per, your, r...|\n",
      "| spam|WINNER!! As a val...|[winner!!, as, a,...|\n",
      "| spam|Had your mobile 1...|[had, your, mobil...|\n",
      "|  ham|I'm gonna be home...|[i'm, gonna, be, ...|\n",
      "| spam|SIX chances to wi...|[six, chances, to...|\n",
      "| spam|URGENT! You have ...|[urgent!, you, ha...|\n",
      "|  ham|I've been searchi...|[i've, been, sear...|\n",
      "|  ham|I HAVE A DATE ON ...|[i, have, a, date...|\n",
      "| spam|XXXMobileMovieClu...|[xxxmobilemoviecl...|\n",
      "|  ham|Oh k...i'm watchi...|[oh, k...i'm, wat...|\n",
      "|  ham|Eh u remember how...|[eh, u, remember,...|\n",
      "|  ham|Fine if thats th...|[fine, if, thats...|\n",
      "| spam|England v Macedon...|[england, v, mace...|\n",
      "+-----+--------------------+--------------------+\n",
      "only showing top 20 rows\n",
      "\n"
     ]
    }
   ],
   "source": [
    "tokenizer.transform(src).show()"
   ]
  },
  {
   "cell_type": "code",
   "execution_count": 12,
   "metadata": {},
   "outputs": [],
   "source": [
    "from pyspark.ml import pipeline"
   ]
  },
  {
   "cell_type": "code",
   "execution_count": 13,
   "metadata": {},
   "outputs": [
    {
     "name": "stdout",
     "output_type": "stream",
     "text": [
      "+-----+-----+\n",
      "|label|count|\n",
      "+-----+-----+\n",
      "|  ham| 4827|\n",
      "| spam|  747|\n",
      "+-----+-----+\n",
      "\n"
     ]
    }
   ],
   "source": [
    "src.groupBy(\"label\").count().show()"
   ]
  },
  {
   "cell_type": "code",
   "execution_count": 14,
   "metadata": {},
   "outputs": [],
   "source": [
    "from pyspark.ml import classification"
   ]
  },
  {
   "cell_type": "code",
   "execution_count": 15,
   "metadata": {},
   "outputs": [],
   "source": [
    "train, test = src.randomSplit(seed=1234, weights=(70., 30.))"
   ]
  },
  {
   "cell_type": "code",
   "execution_count": 16,
   "metadata": {},
   "outputs": [],
   "source": [
    "main_pipe = pipeline.Pipeline(\n",
    "    stages=(\n",
    "        feature.Tokenizer(inputCol=\"message\", outputCol=\"tokens\"),\n",
    "        feature.CountVectorizer(\n",
    "            maxDF=4000,\n",
    "            minDF=5,\n",
    "            inputCol=\"tokens\", \n",
    "            outputCol=\"vector\",\n",
    "        ),\n",
    "        feature.StringIndexer(inputCol=\"label\", outputCol=\"y\"),\n",
    "        classification.NaiveBayes(featuresCol=\"vector\", labelCol=\"y\"),\n",
    "    )\n",
    ")"
   ]
  },
  {
   "cell_type": "code",
   "execution_count": 17,
   "metadata": {},
   "outputs": [],
   "source": [
    "pipe_model = main_pipe.fit(train)"
   ]
  },
  {
   "cell_type": "code",
   "execution_count": 18,
   "metadata": {},
   "outputs": [
    {
     "name": "stdout",
     "output_type": "stream",
     "text": [
      "+-----+--------------------+--------------------+--------------------+---+--------------------+--------------------+----------+\n",
      "|label|             message|              tokens|              vector|  y|       rawPrediction|         probability|prediction|\n",
      "+-----+--------------------+--------------------+--------------------+---+--------------------+--------------------+----------+\n",
      "|  ham| &lt;#&gt;  in mc...|[, &lt;#&gt;, , i...|(1502,[7,20,24,26...|0.0|[-29.189065862648...|[0.99999999839701...|       0.0|\n",
      "|  ham| &lt;#&gt;  mins ...|[, &lt;#&gt;, , m...|(1502,[0,1,20,24,...|0.0|[-57.645920593005...|[0.99999995129602...|       0.0|\n",
      "|  ham| came to look at ...|[, came, to, look...|(1502,[0,4,7,8,20...|0.0|[-106.80303662568...|[0.99999999987274...|       0.0|\n",
      "|  ham|&lt;#&gt;  w jett...|[&lt;#&gt;, , w, ...|(1502,[2,20,29,40...|0.0|[-34.942124728177...|[0.99999960047460...|       0.0|\n",
      "|  ham|&lt;#&gt; ISH MIN...|[&lt;#&gt;, ish, ...|(1502,[40,58,408,...|0.0|[-34.609496567593...|[0.99868796579939...|       0.0|\n",
      "|  ham|'An Amazing Quote...|['an, amazing, qu...|(1502,[0,3,4,7,18...|0.0|[-101.12595863941...|[0.99985038986458...|       0.0|\n",
      "|  ham|'Wnevr i wana fal...|['wnevr, i, wana,...|(1502,[1,7,9,57,1...|0.0|[-74.311904349858...|[0.99999988302732...|       0.0|\n",
      "|  ham|(And my man carlo...|[(and, my, man, c...|(1502,[8,9,44,84,...|0.0|[-61.033904831503...|[0.99997020484162...|       0.0|\n",
      "|  ham|(No promises on w...|[(no, promises, o...|(1502,[16,39,176,...|0.0|[-33.237372632101...|[0.99693135455790...|       0.0|\n",
      "|  ham|(You didn't hear ...|[(you, didn't, he...|(1502,[21,42,259,...|0.0|[-25.753938560447...|[0.99330933003020...|       0.0|\n",
      "|  ham|* Am on a train b...|[*, am, on, a, tr...|(1502,[3,16,22,36...|0.0|[-52.933887662419...|[0.99957053046944...|       0.0|\n",
      "|  ham|* Was really good...|[*, was, really, ...|(1502,[0,2,4,58,6...|0.0|[-78.577975076093...|[0.99997734513825...|       0.0|\n",
      "|  ham|, ow u dey.i paid...|[,, ow, u, dey.i,...|(1502,[5,15,20,57...|0.0|[-45.399316892780...|[0.99999752618220...|       0.0|\n",
      "|  ham|....photoshop mak...|[....photoshop, m...|(1502,[9,532,918]...|0.0|[-21.628743779925...|[0.98966803212955...|       0.0|\n",
      "|  ham|1's reach home ca...|[1's, reach, home...|(1502,[15,114,119...|0.0|[-26.025792432424...|[0.97385467929933...|       0.0|\n",
      "|  ham|1. Tension face 2...|[1., tension, fac...|(1502,[20,40,562,...|0.0|[-125.43773545653...|[0.99999999915984...|       0.0|\n",
      "|  ham|1.20 that call co...|[1.20, that, call...|(1502,[1,15,18,64...|0.0|[-59.889884276849...|[0.99997934480446...|       0.0|\n",
      "|  ham|   10 min later k...|[10, min, later, ...|(1502,[127,423,90...|0.0|[-23.617484261820...|[0.94345694649814...|       0.0|\n",
      "|  ham|        26th OF JULY|    [26th, of, july]|   (1502,[12],[1.0])|0.0|[-4.8267011539387...|[0.89865231858548...|       0.0|\n",
      "|  ham|2marrow only. Wed...|[2marrow, only., ...|(1502,[0,19,20,30...|0.0|[-37.643077169221...|[0.99999827882180...|       0.0|\n",
      "+-----+--------------------+--------------------+--------------------+---+--------------------+--------------------+----------+\n",
      "only showing top 20 rows\n",
      "\n"
     ]
    }
   ],
   "source": [
    "pipe_model.transform(test).show()"
   ]
  },
  {
   "cell_type": "code",
   "execution_count": 19,
   "metadata": {},
   "outputs": [
    {
     "name": "stdout",
     "output_type": "stream",
     "text": [
      "+----------+-----+--------------------+\n",
      "|prediction|label|             message|\n",
      "+----------+-----+--------------------+\n",
      "|       1.0| spam|URGENT! Your Mobi...|\n",
      "|       1.0| spam|URGENT! We are tr...|\n",
      "|       1.0| spam|74355 XMAS iscomi...|\n",
      "|       1.0| spam|Urgent! call 0906...|\n",
      "|       1.0| spam|Congratulations u...|\n",
      "|       1.0| spam|You have WON a gu...|\n",
      "|       1.0| spam|8007 FREE for 1st...|\n",
      "|       1.0| spam|Urgent! Please ca...|\n",
      "|       1.0| spam|Last Chance! Clai...|\n",
      "|       1.0| spam|Great NEW Offer -...|\n",
      "|       1.0| spam|GENT! We are tryi...|\n",
      "|       1.0| spam|URGENT! We are tr...|\n",
      "|       1.0| spam|Urgent -call 0906...|\n",
      "|       1.0| spam|URGENT! We are tr...|\n",
      "|       1.0| spam|PRIVATE! Your 200...|\n",
      "|       1.0| spam|PRIVATE! Your 200...|\n",
      "|       1.0| spam|FREE for 1st week...|\n",
      "|       1.0| spam|HOT LIVE FANTASIE...|\n",
      "|       1.0| spam|You are a winner ...|\n",
      "|       1.0| spam|Today's Offer! Cl...|\n",
      "+----------+-----+--------------------+\n",
      "only showing top 20 rows\n",
      "\n"
     ]
    }
   ],
   "source": [
    "pipe_model.transform(test).orderBy(\"probability\").select(\"prediction\", \"label\", \"message\").show()"
   ]
  },
  {
   "cell_type": "code",
   "execution_count": 20,
   "metadata": {},
   "outputs": [],
   "source": [
    "from pyspark.sql import functions"
   ]
  },
  {
   "cell_type": "code",
   "execution_count": 21,
   "metadata": {},
   "outputs": [
    {
     "name": "stdout",
     "output_type": "stream",
     "text": [
      "+----------+---+-----+--------------------+\n",
      "|prediction|  y|label|             message|\n",
      "+----------+---+-----+--------------------+\n",
      "|       0.0|0.0|  ham|Hi, my love! How ...|\n",
      "|       0.0|0.0|  ham|Good afternoon, m...|\n",
      "|       0.0|0.0|  ham|Although i told u...|\n",
      "|       0.0|0.0|  ham|Yar lor wait 4 my...|\n",
      "|       0.0|0.0|  ham|Ah, well that con...|\n",
      "|       0.0|0.0|  ham|see, i knew givin...|\n",
      "|       0.0|0.0|  ham|I bought the test...|\n",
      "|       0.0|0.0|  ham|I hope your alrig...|\n",
      "|       0.0|0.0|  ham|Idk. You keep say...|\n",
      "|       0.0|0.0|  ham|NEFT Transaction ...|\n",
      "|       0.0|0.0|  ham|Then ü wait 4 me ...|\n",
      "|       0.0|0.0|  ham|If i not meeting ...|\n",
      "|       0.0|0.0|  ham|I wish! I don't t...|\n",
      "|       0.0|0.0|  ham|Good morning, my ...|\n",
      "|       0.0|0.0|  ham|The guy (kadeem) ...|\n",
      "|       0.0|0.0|  ham|Sad story of a Ma...|\n",
      "|       0.0|0.0|  ham|My love ! How com...|\n",
      "|       0.0|0.0|  ham|What do u want wh...|\n",
      "|       0.0|0.0|  ham|I got it before t...|\n",
      "|       0.0|0.0|  ham|I cant keep talki...|\n",
      "+----------+---+-----+--------------------+\n",
      "only showing top 20 rows\n",
      "\n"
     ]
    }
   ],
   "source": [
    "pipe_model.transform(test).orderBy(functions.desc(\"probability\")).select(\"prediction\", \"y\", \"label\", \"message\").show()"
   ]
  },
  {
   "cell_type": "code",
   "execution_count": 22,
   "metadata": {},
   "outputs": [],
   "source": [
    "from pyspark.ml import evaluation"
   ]
  },
  {
   "cell_type": "code",
   "execution_count": 23,
   "metadata": {},
   "outputs": [],
   "source": [
    "evaluation.MulticlassClassificationEvaluator?"
   ]
  },
  {
   "cell_type": "code",
   "execution_count": 24,
   "metadata": {},
   "outputs": [
    {
     "data": {
      "text/plain": [
       "0.9764323269877127"
      ]
     },
     "execution_count": 24,
     "metadata": {},
     "output_type": "execute_result"
    }
   ],
   "source": [
    "(\n",
    "    evaluation\n",
    "    .MulticlassClassificationEvaluator(labelCol=\"y\", metricName=\"f1\")\n",
    "    .evaluate(pipe_model.transform(test))\n",
    ")"
   ]
  },
  {
   "cell_type": "code",
   "execution_count": 25,
   "metadata": {},
   "outputs": [],
   "source": [
    "from pyspark.ml.evaluation import BinaryClassificationEvaluator, MulticlassClassificationEvaluator\n",
    "\n",
    "evaluator = BinaryClassificationEvaluator(labelCol=\"y\", rawPredictionCol=\"probability\", metricName='areaUnderROC')\n"
   ]
  },
  {
   "cell_type": "code",
   "execution_count": 27,
   "metadata": {},
   "outputs": [],
   "source": [
    "predictionAndTarget = pipe_model.transform(test).select(\"y\", \"probability\")\n",
    "auc = evaluator.evaluate(predictionAndTarget)"
   ]
  },
  {
   "cell_type": "code",
   "execution_count": 28,
   "metadata": {},
   "outputs": [
    {
     "data": {
      "text/plain": [
       "0.9790307548928255"
      ]
     },
     "execution_count": 28,
     "metadata": {},
     "output_type": "execute_result"
    }
   ],
   "source": [
    "auc"
   ]
  },
  {
   "cell_type": "code",
   "execution_count": 44,
   "metadata": {},
   "outputs": [],
   "source": [
    "pipe_model.write().save(\"./fittedNB\")"
   ]
  },
  {
   "cell_type": "code",
   "execution_count": 52,
   "metadata": {},
   "outputs": [],
   "source": [
    "pipe_model =  pipeline.PipelineModel.load(path=\"./fittedNB\")"
   ]
  },
  {
   "cell_type": "code",
   "execution_count": 53,
   "metadata": {},
   "outputs": [
    {
     "data": {
      "text/plain": [
       "PipelineModel_f5000c54b300"
      ]
     },
     "execution_count": 53,
     "metadata": {},
     "output_type": "execute_result"
    }
   ],
   "source": [
    "pipe_model"
   ]
  },
  {
   "cell_type": "code",
   "execution_count": 54,
   "metadata": {},
   "outputs": [
    {
     "name": "stdout",
     "output_type": "stream",
     "text": [
      "+-----+--------------------+--------------------+--------------------+---+--------------------+--------------------+----------+\n",
      "|label|             message|              tokens|              vector|  y|       rawPrediction|         probability|prediction|\n",
      "+-----+--------------------+--------------------+--------------------+---+--------------------+--------------------+----------+\n",
      "|  ham| &lt;#&gt;  in mc...|[, &lt;#&gt;, , i...|(1502,[7,20,24,26...|0.0|[-29.189065862648...|[0.99999999839701...|       0.0|\n",
      "|  ham| &lt;#&gt;  mins ...|[, &lt;#&gt;, , m...|(1502,[0,1,20,24,...|0.0|[-57.645920593005...|[0.99999995129602...|       0.0|\n",
      "|  ham| came to look at ...|[, came, to, look...|(1502,[0,4,7,8,20...|0.0|[-106.80303662568...|[0.99999999987274...|       0.0|\n",
      "|  ham|&lt;#&gt;  w jett...|[&lt;#&gt;, , w, ...|(1502,[2,20,29,40...|0.0|[-34.942124728177...|[0.99999960047460...|       0.0|\n",
      "|  ham|&lt;#&gt; ISH MIN...|[&lt;#&gt;, ish, ...|(1502,[40,58,408,...|0.0|[-34.609496567593...|[0.99868796579939...|       0.0|\n",
      "|  ham|'An Amazing Quote...|['an, amazing, qu...|(1502,[0,3,4,7,18...|0.0|[-101.12595863941...|[0.99985038986458...|       0.0|\n",
      "|  ham|'Wnevr i wana fal...|['wnevr, i, wana,...|(1502,[1,7,9,57,1...|0.0|[-74.311904349858...|[0.99999988302732...|       0.0|\n",
      "|  ham|(And my man carlo...|[(and, my, man, c...|(1502,[8,9,44,84,...|0.0|[-61.033904831503...|[0.99997020484162...|       0.0|\n",
      "|  ham|(No promises on w...|[(no, promises, o...|(1502,[16,39,176,...|0.0|[-33.237372632101...|[0.99693135455790...|       0.0|\n",
      "|  ham|(You didn't hear ...|[(you, didn't, he...|(1502,[21,42,259,...|0.0|[-25.753938560447...|[0.99330933003020...|       0.0|\n",
      "|  ham|* Am on a train b...|[*, am, on, a, tr...|(1502,[3,16,22,36...|0.0|[-52.933887662419...|[0.99957053046944...|       0.0|\n",
      "|  ham|* Was really good...|[*, was, really, ...|(1502,[0,2,4,58,6...|0.0|[-78.577975076093...|[0.99997734513825...|       0.0|\n",
      "|  ham|, ow u dey.i paid...|[,, ow, u, dey.i,...|(1502,[5,15,20,57...|0.0|[-45.399316892780...|[0.99999752618220...|       0.0|\n",
      "|  ham|....photoshop mak...|[....photoshop, m...|(1502,[9,532,918]...|0.0|[-21.628743779925...|[0.98966803212955...|       0.0|\n",
      "|  ham|1's reach home ca...|[1's, reach, home...|(1502,[15,114,119...|0.0|[-26.025792432424...|[0.97385467929933...|       0.0|\n",
      "|  ham|1. Tension face 2...|[1., tension, fac...|(1502,[20,40,562,...|0.0|[-125.43773545653...|[0.99999999915984...|       0.0|\n",
      "|  ham|1.20 that call co...|[1.20, that, call...|(1502,[1,15,18,64...|0.0|[-59.889884276849...|[0.99997934480446...|       0.0|\n",
      "|  ham|   10 min later k...|[10, min, later, ...|(1502,[127,423,90...|0.0|[-23.617484261820...|[0.94345694649814...|       0.0|\n",
      "|  ham|        26th OF JULY|    [26th, of, july]|   (1502,[12],[1.0])|0.0|[-4.8267011539387...|[0.89865231858548...|       0.0|\n",
      "|  ham|2marrow only. Wed...|[2marrow, only., ...|(1502,[0,19,20,30...|0.0|[-37.643077169221...|[0.99999827882180...|       0.0|\n",
      "+-----+--------------------+--------------------+--------------------+---+--------------------+--------------------+----------+\n",
      "only showing top 20 rows\n",
      "\n"
     ]
    }
   ],
   "source": [
    "pipe_model.transform(test).show()"
   ]
  },
  {
   "cell_type": "code",
   "execution_count": null,
   "metadata": {},
   "outputs": [],
   "source": []
  }
 ],
 "metadata": {
  "kernelspec": {
   "display_name": "Python 3",
   "language": "python",
   "name": "python3"
  },
  "language_info": {
   "codemirror_mode": {
    "name": "ipython",
    "version": 3
   },
   "file_extension": ".py",
   "mimetype": "text/x-python",
   "name": "python",
   "nbconvert_exporter": "python",
   "pygments_lexer": "ipython3",
   "version": "3.8.5"
  }
 },
 "nbformat": 4,
 "nbformat_minor": 2
}
