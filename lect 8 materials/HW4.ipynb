{
  "nbformat": 4,
  "nbformat_minor": 0,
  "metadata": {
    "kernelspec": {
      "display_name": "Python 3",
      "language": "python",
      "name": "python3"
    },
    "language_info": {
      "codemirror_mode": {
        "name": "ipython",
        "version": 3
      },
      "file_extension": ".py",
      "mimetype": "text/x-python",
      "name": "python",
      "nbconvert_exporter": "python",
      "pygments_lexer": "ipython3",
      "version": "3.8.3"
    },
    "colab": {
      "name": "HW4.ipynb",
      "provenance": []
    }
  },
  "cells": [
    {
      "cell_type": "markdown",
      "metadata": {
        "id": "BHOQLR7A64Aq"
      },
      "source": [
        "# Python для анализа данных\n",
        "\n",
        "## ДЗ 4\n",
        "\n",
        "*Придумывал: Ян Пиле, НИУ ВШЭ*  "
      ]
    },
    {
      "cell_type": "markdown",
      "metadata": {
        "id": "moUrKElu64At"
      },
      "source": [
        "## Задача 1\n",
        "\n",
        "Дана страница https://ru.wikipedia.org/wiki/Премия_«Оскар»_за_лучший_фильм#Достижения_по_другим_номинациям_Оскара\n",
        "\n",
        "Используя удобные для вас модули Python (Например requests, bs4 и pandas, но можно и любые другие) сгрузить в удобную для вас структуру данных (например pandas-табличку) данные о номинантах и победителях премии Оскар за лучший фильм за всю историю существования премии. Заметьте, на страничке эта информация в нескольких таблицах. По данным ответьте на вопросы. P.S. Результат нужно именно посчитать, если на странице в явном виде указан ответ на вопрос, просто выгрузить этот ответ нельзя:\n",
        "\n",
        "    1. Сколько раз были номинированы фильмы, созданные при участии Стивена Спилберга?\n",
        "    2. Фильмы какой компании получили больше Оскаров за лучший фильм: Warner Bros. или Paramount Pictures и насколько больше?"
      ]
    },
    {
      "cell_type": "code",
      "metadata": {
        "id": "ecZa0I8J64Av",
        "outputId": "2e71868f-d722-4d85-89e9-8b0afc62e8cc",
        "colab": {
          "base_uri": "https://localhost:8080/",
          "height": 296
        }
      },
      "source": [
        ""
      ],
      "execution_count": 1,
      "outputs": [
        {
          "output_type": "error",
          "ename": "ModuleNotFoundError",
          "evalue": "ignored",
          "traceback": [
            "\u001b[0;31m---------------------------------------------------------------------------\u001b[0m",
            "\u001b[0;31mModuleNotFoundError\u001b[0m                       Traceback (most recent call last)",
            "\u001b[0;32m<ipython-input-1-e392607f0c42>\u001b[0m in \u001b[0;36m<module>\u001b[0;34m()\u001b[0m\n\u001b[0;32m----> 1\u001b[0;31m \u001b[0;32mimport\u001b[0m \u001b[0mrequest\u001b[0m\u001b[0;34m\u001b[0m\u001b[0;34m\u001b[0m\u001b[0m\n\u001b[0m",
            "\u001b[0;31mModuleNotFoundError\u001b[0m: No module named 'request'",
            "",
            "\u001b[0;31m---------------------------------------------------------------------------\u001b[0;32m\nNOTE: If your import is failing due to a missing package, you can\nmanually install dependencies using either !pip or !apt.\n\nTo view examples of installing some common dependencies, click the\n\"Open Examples\" button below.\n\u001b[0;31m---------------------------------------------------------------------------\u001b[0m\n"
          ]
        }
      ]
    },
    {
      "cell_type": "code",
      "metadata": {
        "id": "rEVg0EiY7DSJ",
        "outputId": "5b147981-7d67-499f-ba76-610c635d7abb",
        "colab": {
          "base_uri": "https://localhost:8080/",
          "height": 1000
        }
      },
      "source": [
        "import requests\n",
        "from bs4 import BeautifulSoup\n",
        "text = requests.get('https://ru.wikipedia.org/wiki/%D0%9F%D1%80%D0%B5%D0%BC%D0%B8%D1%8F_%C2%AB%D0%9E%D1%81%D0%BA%D0%B0%D1%80%C2%BB_%D0%B7%D0%B0_%D0%BB%D1%83%D1%87%D1%88%D0%B8%D0%B9_%D1%84%D0%B8%D0%BB%D1%8C%D0%BC#%D0%94%D0%BE%D1%81%D1%82%D0%B8%D0%B6%D0%B5%D0%BD%D0%B8%D1%8F_%D0%BF%D0%BE_%D0%B4%D1%80%D1%83%D0%B3%D0%B8%D0%BC_%D0%BD%D0%BE%D0%BC%D0%B8%D0%BD%D0%B0%D1%86%D0%B8%D1%8F%D0%BC_%D0%9E%D1%81%D0%BA%D0%B0%D1%80%D0%B0')\n",
        "tree_new = BeautifulSoup(text.text, features='xml')\n",
        "table = tree_new.body.find_all('table', {'class':'wikitable'})\n",
        "\n"
      ],
      "execution_count": 21,
      "outputs": [
        {
          "output_type": "execute_result",
          "data": {
            "text/plain": [
              "<table class=\"wikitable\" style=\"width:100%;\">\n",
              "<tbody><tr style=\"background:#bebebe\">\n",
              "<th style=\"width:10%;\">Год/Церемония\n",
              "</th>\n",
              "<th style=\"width:27%;\">Фильм\n",
              "</th>\n",
              "<th style=\"width:27%;\">Кинокомпания(и)\n",
              "</th>\n",
              "<th style=\"width:31%;\">Продюсер(ы)\n",
              "</th>\n",
              "<th style=\"width:5%;\">Ссылки\n",
              "</th></tr>\n",
              "<tr style=\"background:#FAEB86\">\n",
              "<td align=\"center\" rowspan=\"3\" style=\"background:#fff\"><big><b><a href=\"/wiki/1929_%D0%B3%D0%BE%D0%B4_%D0%B2_%D0%BA%D0%B8%D0%BD%D0%BE\" title=\"1929 год в кино\">1929</a></b><br/></big> (<a href=\"/wiki/%D0%9E%D1%81%D0%BA%D0%B0%D1%80_(%D0%BA%D0%B8%D0%BD%D0%BE%D0%BF%D1%80%D0%B5%D0%BC%D0%B8%D1%8F,_1929)\" title=\"Оскар (кинопремия, 1929)\">1-я</a>)\n",
              "</td>\n",
              "<td>★ <b>«<a href=\"/wiki/%D0%9A%D1%80%D1%8B%D0%BB%D1%8C%D1%8F_(%D1%84%D0%B8%D0%BB%D1%8C%D0%BC,_1927)\" title=\"Крылья (фильм, 1927)\">Крылья</a>»</b>\n",
              "</td>\n",
              "<td><b><a href=\"/wiki/Paramount_Pictures\" title=\"Paramount Pictures\">Paramount Pictures</a>, <a href=\"/wiki/Famous_Players-Lasky\" title=\"Famous Players-Lasky\">Famous Players-Lasky</a></b>\n",
              "</td>\n",
              "<td><b><a href=\"/wiki/%D0%A5%D0%B0%D0%B1%D0%B1%D0%B0%D1%80%D0%B4,_%D0%9B%D1%8E%D1%81%D1%8C%D0%B5%D0%BD\" title=\"Хаббард, Люсьен\">Люсьен Хаббард</a></b>\n",
              "</td>\n",
              "<td align=\"center\" rowspan=\"3\" style=\"background:#fff\"><sup class=\"reference\" id=\"cite_ref-2\"><a href=\"#cite_note-2\">[# 1]</a></sup>\n",
              "</td></tr>\n",
              "<tr>\n",
              "<td>«<a href=\"/wiki/%D0%A0%D1%8D%D0%BA%D0%B5%D1%82_(%D1%84%D0%B8%D0%BB%D1%8C%D0%BC,_1928)\" title=\"Рэкет (фильм, 1928)\">Рэкет</a>»\n",
              "</td>\n",
              "<td>Caddo, Paramount\n",
              "</td>\n",
              "<td><a class=\"mw-redirect\" href=\"/wiki/%D0%93%D0%BE%D0%B2%D0%B0%D1%80%D0%B4_%D0%A5%D1%8C%D1%8E%D0%B7\" title=\"Говард Хьюз\">Говард Хьюз</a>\n",
              "</td></tr>\n",
              "<tr style=\"background:#eee;\">\n",
              "<td>«<a href=\"/wiki/%D0%A1%D0%B5%D0%B4%D1%8C%D0%BC%D0%BE%D0%B5_%D0%BD%D0%B5%D0%B1%D0%BE_(%D1%84%D0%B8%D0%BB%D1%8C%D0%BC,_1927)\" title=\"Седьмое небо (фильм, 1927)\">Седьмое небо</a>»\n",
              "</td>\n",
              "<td><a class=\"mw-redirect\" href=\"/wiki/20th_Century_Fox\" title=\"20th Century Fox\">Fox Film Corporation</a>\n",
              "</td>\n",
              "<td><a href=\"/wiki/%D0%A4%D0%BE%D0%BA%D1%81,_%D0%A3%D0%B8%D0%BB%D1%8C%D1%8F%D0%BC_(%D0%BF%D1%80%D0%BE%D0%B4%D1%8E%D1%81%D0%B5%D1%80)\" title=\"Фокс, Уильям (продюсер)\">Уильям Фокс</a>\n",
              "</td></tr>\n",
              "<tr style=\"background:#FAEB86\">\n",
              "<td align=\"center\" rowspan=\"5\" style=\"background:#eee\"><big><b><a href=\"/wiki/1930_%D0%B3%D0%BE%D0%B4_%D0%B2_%D0%BA%D0%B8%D0%BD%D0%BE\" title=\"1930 год в кино\">1930-I</a></b></big> <br/>(<a href=\"/wiki/%D0%9E%D1%81%D0%BA%D0%B0%D1%80_(%D0%BA%D0%B8%D0%BD%D0%BE%D0%BF%D1%80%D0%B5%D0%BC%D0%B8%D1%8F,_1930,_%D0%B0%D0%BF%D1%80%D0%B5%D0%BB%D1%8C)\" title=\"Оскар (кинопремия, 1930, апрель)\">2-я</a>)\n",
              "</td>\n",
              "<td>★ <b>«<a href=\"/wiki/%D0%91%D1%80%D0%BE%D0%B4%D0%B2%D0%B5%D0%B9%D1%81%D0%BA%D0%B0%D1%8F_%D0%BC%D0%B5%D0%BB%D0%BE%D0%B4%D0%B8%D1%8F\" title=\"Бродвейская мелодия\">Бродвейская мелодия</a>»</b>\n",
              "</td>\n",
              "<td><b><a href=\"/wiki/Metro-Goldwyn-Mayer\" title=\"Metro-Goldwyn-Mayer\">Metro-Goldwyn-Mayer</a></b>\n",
              "</td>\n",
              "<td><b><a class=\"mw-redirect\" href=\"/wiki/%D0%98%D1%80%D0%B2%D0%B8%D0%BD%D0%B3_%D0%A2%D0%B0%D0%BB%D0%B1%D0%B5%D1%80%D0%B3\" title=\"Ирвинг Талберг\">Ирвинг Талберг</a>, <a class=\"mw-redirect\" href=\"/wiki/%D0%A3%D1%8D%D0%B9%D0%BD%D0%B3%D0%B0%D1%80%D1%82%D0%B5%D0%BD,_%D0%9B%D0%BE%D1%83%D1%80%D0%B5%D0%BD%D1%81\" title=\"Уэйнгартен, Лоуренс\">Лоуренс Уэйнгартен</a></b>\n",
              "</td>\n",
              "<td align=\"center\" rowspan=\"5\" style=\"background:#eee\"><sup class=\"reference\" id=\"cite_ref-3\"><a href=\"#cite_note-3\">[# 2]</a></sup>\n",
              "</td></tr>\n",
              "<tr>\n",
              "<td>«<a href=\"/wiki/%D0%90%D0%BB%D0%B8%D0%B1%D0%B8_(%D1%84%D0%B8%D0%BB%D1%8C%D0%BC,_1929)\" title=\"Алиби (фильм, 1929)\">Алиби</a>»\n",
              "</td>\n",
              "<td><a class=\"new\" href=\"/w/index.php?title=Feature_Productions&amp;action=edit&amp;redlink=1\" title=\"Feature Productions (страница отсутствует)\">Feature Productions</a>, <a href=\"/wiki/United_Artists\" title=\"United Artists\">United Artists</a>\n",
              "</td>\n",
              "<td><a href=\"/wiki/%D0%A3%D1%8D%D1%81%D1%82,_%D0%A0%D0%BE%D0%BB%D0%B0%D0%BD%D0%B4\" title=\"Уэст, Роланд\">Роланд Уэст</a>\n",
              "</td></tr>\n",
              "<tr style=\"background:#eee;\">\n",
              "<td>«<a href=\"/wiki/%D0%93%D0%BE%D0%BB%D0%BB%D0%B8%D0%B2%D1%83%D0%B4%D1%81%D0%BA%D0%BE%D0%B5_%D1%80%D0%B5%D0%B2%D1%8E_1929_%D0%B3%D0%BE%D0%B4%D0%B0\" title=\"Голливудское ревю 1929 года\">Голливудское ревю 1929 года</a>»\n",
              "</td>\n",
              "<td>Metro-Goldwyn-Mayer\n",
              "</td>\n",
              "<td><a href=\"/wiki/%D0%A0%D0%B0%D0%BF%D1%84,_%D0%93%D0%B0%D1%80%D1%80%D0%B8\" title=\"Рапф, Гарри\">Гарри Рапф</a>\n",
              "</td></tr>\n",
              "<tr>\n",
              "<td>«<a href=\"/wiki/%D0%92_%D1%81%D1%82%D0%B0%D1%80%D0%BE%D0%B9_%D0%90%D1%80%D0%B8%D0%B7%D0%BE%D0%BD%D0%B5\" title=\"В старой Аризоне\">В старой Аризоне</a>»\n",
              "</td>\n",
              "<td>Fox Film Corporation\n",
              "</td>\n",
              "<td><a href=\"/wiki/%D0%A8%D0%B8%D1%85%D1%8D%D0%BD,_%D0%A3%D0%B8%D0%BD%D1%84%D0%B8%D0%BB%D0%B4\" title=\"Шихэн, Уинфилд\">Уинфилд Шихэн</a>\n",
              "</td></tr>\n",
              "<tr style=\"background:#eee;\">\n",
              "<td>«<a href=\"/wiki/%D0%9F%D0%B0%D1%82%D1%80%D0%B8%D0%BE%D1%82_(%D1%84%D0%B8%D0%BB%D1%8C%D0%BC,_1928)\" title=\"Патриот (фильм, 1928)\">Патриот</a>»\n",
              "</td>\n",
              "<td>Paramount Pictures\n",
              "</td>\n",
              "<td><a href=\"/wiki/%D0%9B%D1%8E%D0%B1%D0%B8%D1%87,_%D0%AD%D1%80%D0%BD%D1%81%D1%82\" title=\"Любич, Эрнст\">Эрнст Любич</a>\n",
              "</td></tr>\n",
              "<tr style=\"background:#FAEB86\">\n",
              "<td align=\"center\" rowspan=\"5\" style=\"background:#fff\"><big><b><a href=\"/wiki/1930_%D0%B3%D0%BE%D0%B4_%D0%B2_%D0%BA%D0%B8%D0%BD%D0%BE\" title=\"1930 год в кино\">1930-II</a></b><br/></big> (<a href=\"/wiki/%D0%9E%D1%81%D0%BA%D0%B0%D1%80_(%D0%BA%D0%B8%D0%BD%D0%BE%D0%BF%D1%80%D0%B5%D0%BC%D0%B8%D1%8F,_1930,_%D0%BD%D0%BE%D1%8F%D0%B1%D1%80%D1%8C)\" title=\"Оскар (кинопремия, 1930, ноябрь)\">3-я</a>)\n",
              "</td>\n",
              "<td>★ <b>«<a class=\"mw-redirect\" href=\"/wiki/%D0%9D%D0%B0_%D0%B7%D0%B0%D0%BF%D0%B0%D0%B4%D0%BD%D0%BE%D0%BC_%D1%84%D1%80%D0%BE%D0%BD%D1%82%D0%B5_%D0%B1%D0%B5%D0%B7_%D0%BF%D0%B5%D1%80%D0%B5%D0%BC%D0%B5%D0%BD_(%D1%84%D0%B8%D0%BB%D1%8C%D0%BC,_1930)\" title=\"На западном фронте без перемен (фильм, 1930)\">На западном фронте без перемен</a>»</b>\n",
              "</td>\n",
              "<td><b><a href=\"/wiki/Universal_Pictures\" title=\"Universal Pictures\">Universal</a></b>\n",
              "</td>\n",
              "<td><b><a href=\"/wiki/%D0%9B%D0%B5%D0%BC%D0%BC%D0%BB%D0%B5,_%D0%9A%D0%B0%D1%80%D0%BB_(%D0%BC%D0%BB%D0%B0%D0%B4%D1%88%D0%B8%D0%B9)\" title=\"Леммле, Карл (младший)\">Карл Леммле-мл.</a></b>\n",
              "</td>\n",
              "<td align=\"center\" rowspan=\"5\" style=\"background:#fff\"><sup class=\"reference\" id=\"cite_ref-4\"><a href=\"#cite_note-4\">[# 3]</a></sup>\n",
              "</td></tr>\n",
              "<tr>\n",
              "<td>«<a href=\"/wiki/%D0%9A%D0%B0%D0%B7%D1%91%D0%BD%D0%BD%D1%8B%D0%B9_%D0%B4%D0%BE%D0%BC_(%D1%84%D0%B8%D0%BB%D1%8C%D0%BC,_1930)\" title=\"Казённый дом (фильм, 1930)\">Казённый дом</a>»\n",
              "</td>\n",
              "<td><a href=\"/wiki/Metro-Goldwyn-Mayer\" title=\"Metro-Goldwyn-Mayer\">Metro-Goldwyn-Mayer</a>\n",
              "</td>\n",
              "<td><a class=\"mw-redirect\" href=\"/wiki/%D0%98%D1%80%D0%B2%D0%B8%D0%BD%D0%B3_%D0%A2%D0%B0%D0%BB%D0%B1%D0%B5%D1%80%D0%B3\" title=\"Ирвинг Талберг\">Ирвинг Талберг</a>\n",
              "</td></tr>\n",
              "<tr style=\"background:#eee;\">\n",
              "<td>«<a href=\"/wiki/%D0%94%D0%B8%D0%B7%D1%80%D0%B0%D1%8D%D0%BB%D0%B8_(%D1%84%D0%B8%D0%BB%D1%8C%D0%BC)\" title=\"Дизраэли (фильм)\">Дизраэли</a>»\n",
              "</td>\n",
              "<td><a href=\"/wiki/Warner_Bros.\" title=\"Warner Bros.\">Warner Bros.</a>\n",
              "</td>\n",
              "<td><a href=\"/wiki/%D0%A3%D0%BE%D1%80%D0%BD%D0%B5%D1%80,_%D0%94%D0%B6%D0%B5%D0%BA_%D0%9B%D0%B5%D0%BE%D0%BD%D0%B0%D1%80%D0%B4\" title=\"Уорнер, Джек Леонард\">Джек Уорнер</a>, <a class=\"mw-redirect\" href=\"/wiki/%D0%97%D0%B0%D0%BD%D1%83%D0%BA,_%D0%94%D1%8D%D1%80%D1%80%D0%B8%D0%BB_%D0%A4%D1%80%D1%8D%D0%BD%D1%81%D0%B8%D1%81\" title=\"Занук, Дэррил Фрэнсис\">Дэррил Фрэнсис Занук</a>\n",
              "</td></tr>\n",
              "<tr>\n",
              "<td>«<a href=\"/wiki/%D0%9F%D0%B0%D1%80%D0%B0%D0%B4_%D0%BB%D1%8E%D0%B1%D0%B2%D0%B8_(%D1%84%D0%B8%D0%BB%D1%8C%D0%BC)\" title=\"Парад любви (фильм)\">Парад любви</a>»\n",
              "</td>\n",
              "<td><a href=\"/wiki/Paramount_Pictures\" title=\"Paramount Pictures\">Paramount</a>\n",
              "</td>\n",
              "<td><a class=\"mw-redirect\" href=\"/wiki/%D0%AD%D1%80%D0%BD%D1%81%D1%82_%D0%9B%D1%8E%D0%B1%D0%B8%D1%87\" title=\"Эрнст Любич\">Эрнст Любич</a>\n",
              "</td></tr>\n",
              "<tr style=\"background:#eee;\">\n",
              "<td>«<a href=\"/wiki/%D0%A0%D0%B0%D0%B7%D0%B2%D0%BE%D0%B4_(%D1%84%D0%B8%D0%BB%D1%8C%D0%BC,_1930)\" title=\"Развод (фильм, 1930)\">Развод</a>»\n",
              "</td>\n",
              "<td>Metro-Goldwyn-Mayer\n",
              "</td>\n",
              "<td><a href=\"/wiki/%D0%9B%D0%B5%D0%BE%D0%BD%D0%B0%D1%80%D0%B4,_%D0%A0%D0%BE%D0%B1%D0%B5%D1%80%D1%82_(%D1%80%D0%B5%D0%B6%D0%B8%D1%81%D1%81%D1%91%D1%80)\" title=\"Леонард, Роберт (режиссёр)\">Роберт Леонард</a>\n",
              "</td></tr>\n",
              "</tbody></table>"
            ]
          },
          "metadata": {
            "tags": []
          },
          "execution_count": 21
        }
      ]
    },
    {
      "cell_type": "code",
      "metadata": {
        "id": "AsFSKcREHZAz",
        "outputId": "43a72388-d417-4028-ed28-9eb62c86e07f",
        "colab": {
          "base_uri": "https://localhost:8080/",
          "height": 1000
        }
      },
      "source": [
        "for elem in table[0].tbody.find_all('tr'):\n",
        "  print('row!!!!!!!!!!!!!!!!!!!!!!!!!!!!!!!!!!!!!!!!!!!!!!!!!!!!!!!!!!!!!!!!!!!!!!!!!!!!!!!!!!!!')\n",
        "  for columns in elem.find_all('td'):\n",
        "    print('column!!!!!!!!!!!!!!!!!!!!!!!!!!!!!!!!!!!!!!!!!!!!!!!1')\n",
        "    print(columns.text)\n",
        "\n",
        "\n"
      ],
      "execution_count": 53,
      "outputs": [
        {
          "output_type": "stream",
          "text": [
            "row!!!!!!!!!!!!!!!!!!!!!!!!!!!!!!!!!!!!!!!!!!!!!!!!!!!!!!!!!!!!!!!!!!!!!!!!!!!!!!!!!!!!\n",
            "row!!!!!!!!!!!!!!!!!!!!!!!!!!!!!!!!!!!!!!!!!!!!!!!!!!!!!!!!!!!!!!!!!!!!!!!!!!!!!!!!!!!!\n",
            "column!!!!!!!!!!!!!!!!!!!!!!!!!!!!!!!!!!!!!!!!!!!!!!!1\n",
            "1929 (1-я)\n",
            "\n",
            "column!!!!!!!!!!!!!!!!!!!!!!!!!!!!!!!!!!!!!!!!!!!!!!!1\n",
            "★ «Крылья»\n",
            "\n",
            "column!!!!!!!!!!!!!!!!!!!!!!!!!!!!!!!!!!!!!!!!!!!!!!!1\n",
            "Paramount Pictures, Famous Players-Lasky\n",
            "\n",
            "column!!!!!!!!!!!!!!!!!!!!!!!!!!!!!!!!!!!!!!!!!!!!!!!1\n",
            "Люсьен Хаббард\n",
            "\n",
            "column!!!!!!!!!!!!!!!!!!!!!!!!!!!!!!!!!!!!!!!!!!!!!!!1\n",
            "[# 1]\n",
            "\n",
            "row!!!!!!!!!!!!!!!!!!!!!!!!!!!!!!!!!!!!!!!!!!!!!!!!!!!!!!!!!!!!!!!!!!!!!!!!!!!!!!!!!!!!\n",
            "column!!!!!!!!!!!!!!!!!!!!!!!!!!!!!!!!!!!!!!!!!!!!!!!1\n",
            "«Рэкет»\n",
            "\n",
            "column!!!!!!!!!!!!!!!!!!!!!!!!!!!!!!!!!!!!!!!!!!!!!!!1\n",
            "Caddo, Paramount\n",
            "\n",
            "column!!!!!!!!!!!!!!!!!!!!!!!!!!!!!!!!!!!!!!!!!!!!!!!1\n",
            "Говард Хьюз\n",
            "\n",
            "row!!!!!!!!!!!!!!!!!!!!!!!!!!!!!!!!!!!!!!!!!!!!!!!!!!!!!!!!!!!!!!!!!!!!!!!!!!!!!!!!!!!!\n",
            "column!!!!!!!!!!!!!!!!!!!!!!!!!!!!!!!!!!!!!!!!!!!!!!!1\n",
            "«Седьмое небо»\n",
            "\n",
            "column!!!!!!!!!!!!!!!!!!!!!!!!!!!!!!!!!!!!!!!!!!!!!!!1\n",
            "Fox Film Corporation\n",
            "\n",
            "column!!!!!!!!!!!!!!!!!!!!!!!!!!!!!!!!!!!!!!!!!!!!!!!1\n",
            "Уильям Фокс\n",
            "\n",
            "row!!!!!!!!!!!!!!!!!!!!!!!!!!!!!!!!!!!!!!!!!!!!!!!!!!!!!!!!!!!!!!!!!!!!!!!!!!!!!!!!!!!!\n",
            "column!!!!!!!!!!!!!!!!!!!!!!!!!!!!!!!!!!!!!!!!!!!!!!!1\n",
            "1930-I (2-я)\n",
            "\n",
            "column!!!!!!!!!!!!!!!!!!!!!!!!!!!!!!!!!!!!!!!!!!!!!!!1\n",
            "★ «Бродвейская мелодия»\n",
            "\n",
            "column!!!!!!!!!!!!!!!!!!!!!!!!!!!!!!!!!!!!!!!!!!!!!!!1\n",
            "Metro-Goldwyn-Mayer\n",
            "\n",
            "column!!!!!!!!!!!!!!!!!!!!!!!!!!!!!!!!!!!!!!!!!!!!!!!1\n",
            "Ирвинг Талберг, Лоуренс Уэйнгартен\n",
            "\n",
            "column!!!!!!!!!!!!!!!!!!!!!!!!!!!!!!!!!!!!!!!!!!!!!!!1\n",
            "[# 2]\n",
            "\n",
            "row!!!!!!!!!!!!!!!!!!!!!!!!!!!!!!!!!!!!!!!!!!!!!!!!!!!!!!!!!!!!!!!!!!!!!!!!!!!!!!!!!!!!\n",
            "column!!!!!!!!!!!!!!!!!!!!!!!!!!!!!!!!!!!!!!!!!!!!!!!1\n",
            "«Алиби»\n",
            "\n",
            "column!!!!!!!!!!!!!!!!!!!!!!!!!!!!!!!!!!!!!!!!!!!!!!!1\n",
            "Feature Productions, United Artists\n",
            "\n",
            "column!!!!!!!!!!!!!!!!!!!!!!!!!!!!!!!!!!!!!!!!!!!!!!!1\n",
            "Роланд Уэст\n",
            "\n",
            "row!!!!!!!!!!!!!!!!!!!!!!!!!!!!!!!!!!!!!!!!!!!!!!!!!!!!!!!!!!!!!!!!!!!!!!!!!!!!!!!!!!!!\n",
            "column!!!!!!!!!!!!!!!!!!!!!!!!!!!!!!!!!!!!!!!!!!!!!!!1\n",
            "«Голливудское ревю 1929 года»\n",
            "\n",
            "column!!!!!!!!!!!!!!!!!!!!!!!!!!!!!!!!!!!!!!!!!!!!!!!1\n",
            "Metro-Goldwyn-Mayer\n",
            "\n",
            "column!!!!!!!!!!!!!!!!!!!!!!!!!!!!!!!!!!!!!!!!!!!!!!!1\n",
            "Гарри Рапф\n",
            "\n",
            "row!!!!!!!!!!!!!!!!!!!!!!!!!!!!!!!!!!!!!!!!!!!!!!!!!!!!!!!!!!!!!!!!!!!!!!!!!!!!!!!!!!!!\n",
            "column!!!!!!!!!!!!!!!!!!!!!!!!!!!!!!!!!!!!!!!!!!!!!!!1\n",
            "«В старой Аризоне»\n",
            "\n",
            "column!!!!!!!!!!!!!!!!!!!!!!!!!!!!!!!!!!!!!!!!!!!!!!!1\n",
            "Fox Film Corporation\n",
            "\n",
            "column!!!!!!!!!!!!!!!!!!!!!!!!!!!!!!!!!!!!!!!!!!!!!!!1\n",
            "Уинфилд Шихэн\n",
            "\n",
            "row!!!!!!!!!!!!!!!!!!!!!!!!!!!!!!!!!!!!!!!!!!!!!!!!!!!!!!!!!!!!!!!!!!!!!!!!!!!!!!!!!!!!\n",
            "column!!!!!!!!!!!!!!!!!!!!!!!!!!!!!!!!!!!!!!!!!!!!!!!1\n",
            "«Патриот»\n",
            "\n",
            "column!!!!!!!!!!!!!!!!!!!!!!!!!!!!!!!!!!!!!!!!!!!!!!!1\n",
            "Paramount Pictures\n",
            "\n",
            "column!!!!!!!!!!!!!!!!!!!!!!!!!!!!!!!!!!!!!!!!!!!!!!!1\n",
            "Эрнст Любич\n",
            "\n",
            "row!!!!!!!!!!!!!!!!!!!!!!!!!!!!!!!!!!!!!!!!!!!!!!!!!!!!!!!!!!!!!!!!!!!!!!!!!!!!!!!!!!!!\n",
            "column!!!!!!!!!!!!!!!!!!!!!!!!!!!!!!!!!!!!!!!!!!!!!!!1\n",
            "1930-II (3-я)\n",
            "\n",
            "column!!!!!!!!!!!!!!!!!!!!!!!!!!!!!!!!!!!!!!!!!!!!!!!1\n",
            "★ «На западном фронте без перемен»\n",
            "\n",
            "column!!!!!!!!!!!!!!!!!!!!!!!!!!!!!!!!!!!!!!!!!!!!!!!1\n",
            "Universal\n",
            "\n",
            "column!!!!!!!!!!!!!!!!!!!!!!!!!!!!!!!!!!!!!!!!!!!!!!!1\n",
            "Карл Леммле-мл.\n",
            "\n",
            "column!!!!!!!!!!!!!!!!!!!!!!!!!!!!!!!!!!!!!!!!!!!!!!!1\n",
            "[# 3]\n",
            "\n",
            "row!!!!!!!!!!!!!!!!!!!!!!!!!!!!!!!!!!!!!!!!!!!!!!!!!!!!!!!!!!!!!!!!!!!!!!!!!!!!!!!!!!!!\n",
            "column!!!!!!!!!!!!!!!!!!!!!!!!!!!!!!!!!!!!!!!!!!!!!!!1\n",
            "«Казённый дом»\n",
            "\n",
            "column!!!!!!!!!!!!!!!!!!!!!!!!!!!!!!!!!!!!!!!!!!!!!!!1\n",
            "Metro-Goldwyn-Mayer\n",
            "\n",
            "column!!!!!!!!!!!!!!!!!!!!!!!!!!!!!!!!!!!!!!!!!!!!!!!1\n",
            "Ирвинг Талберг\n",
            "\n",
            "row!!!!!!!!!!!!!!!!!!!!!!!!!!!!!!!!!!!!!!!!!!!!!!!!!!!!!!!!!!!!!!!!!!!!!!!!!!!!!!!!!!!!\n",
            "column!!!!!!!!!!!!!!!!!!!!!!!!!!!!!!!!!!!!!!!!!!!!!!!1\n",
            "«Дизраэли»\n",
            "\n",
            "column!!!!!!!!!!!!!!!!!!!!!!!!!!!!!!!!!!!!!!!!!!!!!!!1\n",
            "Warner Bros.\n",
            "\n",
            "column!!!!!!!!!!!!!!!!!!!!!!!!!!!!!!!!!!!!!!!!!!!!!!!1\n",
            "Джек Уорнер, Дэррил Фрэнсис Занук\n",
            "\n",
            "row!!!!!!!!!!!!!!!!!!!!!!!!!!!!!!!!!!!!!!!!!!!!!!!!!!!!!!!!!!!!!!!!!!!!!!!!!!!!!!!!!!!!\n",
            "column!!!!!!!!!!!!!!!!!!!!!!!!!!!!!!!!!!!!!!!!!!!!!!!1\n",
            "«Парад любви»\n",
            "\n",
            "column!!!!!!!!!!!!!!!!!!!!!!!!!!!!!!!!!!!!!!!!!!!!!!!1\n",
            "Paramount\n",
            "\n",
            "column!!!!!!!!!!!!!!!!!!!!!!!!!!!!!!!!!!!!!!!!!!!!!!!1\n",
            "Эрнст Любич\n",
            "\n",
            "row!!!!!!!!!!!!!!!!!!!!!!!!!!!!!!!!!!!!!!!!!!!!!!!!!!!!!!!!!!!!!!!!!!!!!!!!!!!!!!!!!!!!\n",
            "column!!!!!!!!!!!!!!!!!!!!!!!!!!!!!!!!!!!!!!!!!!!!!!!1\n",
            "«Развод»\n",
            "\n",
            "column!!!!!!!!!!!!!!!!!!!!!!!!!!!!!!!!!!!!!!!!!!!!!!!1\n",
            "Metro-Goldwyn-Mayer\n",
            "\n",
            "column!!!!!!!!!!!!!!!!!!!!!!!!!!!!!!!!!!!!!!!!!!!!!!!1\n",
            "Роберт Леонард\n",
            "\n"
          ],
          "name": "stdout"
        }
      ]
    },
    {
      "cell_type": "code",
      "metadata": {
        "id": "tIxK820NGRe8",
        "outputId": "47597c5b-61de-47e3-ddbe-adee29157d5a",
        "colab": {
          "base_uri": "https://localhost:8080/",
          "height": 123
        }
      },
      "source": [
        "table[0]\n",
        "import pandas as pd\n",
        "\n",
        "df = pd.DataFrame(table[0])\n",
        "print(df.shape)\n",
        "df.head()"
      ],
      "execution_count": 18,
      "outputs": [
        {
          "output_type": "stream",
          "text": [
            "(2, 1)\n"
          ],
          "name": "stdout"
        },
        {
          "output_type": "execute_result",
          "data": {
            "text/html": [
              "<div>\n",
              "<style scoped>\n",
              "    .dataframe tbody tr th:only-of-type {\n",
              "        vertical-align: middle;\n",
              "    }\n",
              "\n",
              "    .dataframe tbody tr th {\n",
              "        vertical-align: top;\n",
              "    }\n",
              "\n",
              "    .dataframe thead th {\n",
              "        text-align: right;\n",
              "    }\n",
              "</style>\n",
              "<table border=\"1\" class=\"dataframe\">\n",
              "  <thead>\n",
              "    <tr style=\"text-align: right;\">\n",
              "      <th></th>\n",
              "      <th>0</th>\n",
              "    </tr>\n",
              "  </thead>\n",
              "  <tbody>\n",
              "    <tr>\n",
              "      <th>0</th>\n",
              "      <td>\\n</td>\n",
              "    </tr>\n",
              "    <tr>\n",
              "      <th>1</th>\n",
              "      <td>[[\\n, [Год/Церемония\\n], \\n, [Фильм\\n], \\n, [К...</td>\n",
              "    </tr>\n",
              "  </tbody>\n",
              "</table>\n",
              "</div>"
            ],
            "text/plain": [
              "                                                   0\n",
              "0                                                 \\n\n",
              "1  [[\\n, [Год/Церемония\\n], \\n, [Фильм\\n], \\n, [К..."
            ]
          },
          "metadata": {
            "tags": []
          },
          "execution_count": 18
        }
      ]
    },
    {
      "cell_type": "markdown",
      "metadata": {
        "id": "8GTgQUrS64A7"
      },
      "source": [
        "## Задача 2\n",
        "\n",
        "Дана страница https://ru.wikipedia.org/wiki/Премия_«Оскар»_за_лучшую_женскую_роль\n",
        "\n",
        "Используя удобные для вас модули Python (Например requests, bs4 и pandas, но можно и любые другие) сгрузить в удобную для вас структуру данных (например pandas-табличку) данные о номинантах и победителях премии Оскар за лучшую женскую роль за всю историю существования премии. Заметьте, на страничке эта информация в нескольких таблицах. По данным ответьте на вопросы. P.S. Результат нужно именно посчитать, если на странице в явном виде указан ответ на вопрос, просто выгрузить этот ответ нельзя:\n",
        "\n",
        "    1. Какая актриса чаще всего номинировалась на Оскар?\n",
        "    2. Насколько отличается количество номинаций самой часто номинировавшейся актрисы и второй по частоте?"
      ]
    },
    {
      "cell_type": "code",
      "metadata": {
        "id": "dQWgTJ7164A9"
      },
      "source": [
        ""
      ],
      "execution_count": null,
      "outputs": []
    },
    {
      "cell_type": "markdown",
      "metadata": {
        "id": "5fiOw4ki64BD"
      },
      "source": [
        "## Задача 3\n",
        "\n",
        "Дана страница https://www.worldometers.info/world-population/world-population-by-year/\n",
        "\n",
        "На ней представлены данные о росте численности населения Земли. Используя удобные для вас модули Python (Например requests, bs4 и pandas, но можно и любые другие) сгрузить в удобную для вас структуру данных (например pandas-табличку) необходимые данные и нарисовать графики ежегодного прироста городского населения и ежегодного прироста общего населения, начиная с 1951 года. Если вы сгрузили данные в pandas-dataframe, графики можно построить так:"
      ]
    },
    {
      "cell_type": "code",
      "metadata": {
        "id": "gvc7vLCc64BE",
        "outputId": "ce285e38-e8f5-48ba-8bc9-b9cf34762da8"
      },
      "source": [
        "import pandas as pd\n",
        "data = {'dt':['2020-01-01','2020-02-01','2020-03-01','2020-04-01','2020-05-01'],\n",
        "'value':[1233, 23142,11445,32555,22234]}\n",
        "df = pd.DataFrame(data)\n",
        "df"
      ],
      "execution_count": null,
      "outputs": [
        {
          "output_type": "execute_result",
          "data": {
            "text/html": [
              "<div>\n",
              "<style scoped>\n",
              "    .dataframe tbody tr th:only-of-type {\n",
              "        vertical-align: middle;\n",
              "    }\n",
              "\n",
              "    .dataframe tbody tr th {\n",
              "        vertical-align: top;\n",
              "    }\n",
              "\n",
              "    .dataframe thead th {\n",
              "        text-align: right;\n",
              "    }\n",
              "</style>\n",
              "<table border=\"1\" class=\"dataframe\">\n",
              "  <thead>\n",
              "    <tr style=\"text-align: right;\">\n",
              "      <th></th>\n",
              "      <th>dt</th>\n",
              "      <th>value</th>\n",
              "    </tr>\n",
              "  </thead>\n",
              "  <tbody>\n",
              "    <tr>\n",
              "      <th>0</th>\n",
              "      <td>2020-01-01</td>\n",
              "      <td>1233</td>\n",
              "    </tr>\n",
              "    <tr>\n",
              "      <th>1</th>\n",
              "      <td>2020-02-01</td>\n",
              "      <td>23142</td>\n",
              "    </tr>\n",
              "    <tr>\n",
              "      <th>2</th>\n",
              "      <td>2020-03-01</td>\n",
              "      <td>11445</td>\n",
              "    </tr>\n",
              "    <tr>\n",
              "      <th>3</th>\n",
              "      <td>2020-04-01</td>\n",
              "      <td>32555</td>\n",
              "    </tr>\n",
              "    <tr>\n",
              "      <th>4</th>\n",
              "      <td>2020-05-01</td>\n",
              "      <td>22234</td>\n",
              "    </tr>\n",
              "  </tbody>\n",
              "</table>\n",
              "</div>"
            ],
            "text/plain": [
              "           dt  value\n",
              "0  2020-01-01   1233\n",
              "1  2020-02-01  23142\n",
              "2  2020-03-01  11445\n",
              "3  2020-04-01  32555\n",
              "4  2020-05-01  22234"
            ]
          },
          "metadata": {
            "tags": []
          },
          "execution_count": 1
        }
      ]
    },
    {
      "cell_type": "code",
      "metadata": {
        "id": "-qZgf-4764BP",
        "outputId": "11fef2cd-aecb-415a-9d21-7d5408020267"
      },
      "source": [
        "p = df.plot(x='dt', y='value')"
      ],
      "execution_count": null,
      "outputs": [
        {
          "output_type": "display_data",
          "data": {
            "image/png": "[encoded data removed]",
            "text/plain": [
              "<Figure size 432x288 with 1 Axes>"
            ]
          },
          "metadata": {
            "tags": [],
            "needs_background": "light"
          }
        }
      ]
    },
    {
      "cell_type": "code",
      "metadata": {
        "id": "oPJMbOj064BY"
      },
      "source": [
        ""
      ],
      "execution_count": null,
      "outputs": []
    }
  ]
}