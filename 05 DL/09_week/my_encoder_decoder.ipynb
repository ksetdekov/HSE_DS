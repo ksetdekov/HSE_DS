{
 "cells": [
  {
   "cell_type": "code",
   "execution_count": 1,
   "metadata": {},
   "outputs": [],
   "source": [
    "import torch\n",
    "import torch.nn as nn\n",
    "import torch.nn.functional as F\n",
    "import torch.optim as optim\n",
    "from torch.utils.data import TensorDataset, DataLoader\n",
    "import numpy as np\n",
    "import seaborn as sns\n",
    "import matplotlib.pyplot as plt\n",
    "\n",
    "import warnings\n",
    "warnings.filterwarnings('ignore')\n",
    "\n",
    "%matplotlib inline"
   ]
  },
  {
   "cell_type": "code",
   "execution_count": 2,
   "metadata": {},
   "outputs": [
    {
     "name": "stdout",
     "output_type": "stream",
     "text": [
      "C:\\Users\\ksetd\\scikit_learn_data\n"
     ]
    },
    {
     "data": {
      "text/plain": [
       "'1.0.1'"
      ]
     },
     "execution_count": 2,
     "metadata": {},
     "output_type": "execute_result"
    }
   ],
   "source": [
    "from sklearn.datasets import get_data_home\n",
    "import sklearn\n",
    "from torchsummary import summary\n",
    "\n",
    "print(get_data_home())\n",
    "sklearn.__version__"
   ]
  },
  {
   "cell_type": "code",
   "execution_count": 3,
   "metadata": {},
   "outputs": [
    {
     "name": "stdout",
     "output_type": "stream",
     "text": [
      "C:\\Users\\ksetd\\scikit_learn_data\n"
     ]
    }
   ],
   "source": [
    "from sklearn.datasets import get_data_home\n",
    "print(get_data_home())"
   ]
  },
  {
   "cell_type": "code",
   "execution_count": 4,
   "metadata": {},
   "outputs": [],
   "source": [
    "from sklearn.datasets import fetch_lfw_people\n",
    "\n",
    "lfw_people = fetch_lfw_people(data_home = '.', min_faces_per_person=0, resize=0.5, color=True,\n",
    "                              slice_=(slice(94, 190, None), slice(78, 174, None)), download_if_missing=True)"
   ]
  },
  {
   "cell_type": "code",
   "execution_count": 5,
   "metadata": {},
   "outputs": [],
   "source": [
    "from sklearn.model_selection import train_test_split\n",
    "\n",
    "X = lfw_people.images\n",
    "X = np.moveaxis(X, 3, 1)\n",
    "IMG_SHAPE = X.shape[1:]\n",
    "\n",
    "X = X.astype('float32') / 255.0\n",
    "X_train, X_test = train_test_split(X, test_size=0.1, random_state=42)"
   ]
  },
  {
   "cell_type": "code",
   "execution_count": 6,
   "metadata": {},
   "outputs": [],
   "source": [
    "dimenstion = X_train.shape[1:]"
   ]
  },
  {
   "cell_type": "code",
   "execution_count": 7,
   "metadata": {},
   "outputs": [
    {
     "name": "stdout",
     "output_type": "stream",
     "text": [
      "cuda\n"
     ]
    }
   ],
   "source": [
    "DEVICE = torch.device('cuda' if torch.cuda.is_available() else 'cpu')\n",
    "print(DEVICE)\n",
    "EPOCHS = 40"
   ]
  },
  {
   "cell_type": "code",
   "execution_count": 8,
   "metadata": {},
   "outputs": [],
   "source": [
    "from IPython import display  # выводить график обучения в онлайн режиме\n",
    "from tqdm.auto import tqdm\n",
    "import os"
   ]
  },
  {
   "cell_type": "code",
   "execution_count": 9,
   "metadata": {},
   "outputs": [],
   "source": [
    "# Train your autoencoder\n",
    "# Visualize progress in reconstruction and loss decay\n",
    "\n",
    "def train(model, train_loader, val_loader, device=DEVICE, epochs=EPOCHS, path=''):\n",
    "\n",
    "    train_loss = torch.tensor([0,0])\n",
    "    val_loss = torch.tensor([0,0])\n",
    "    train_loss_epoch = torch.tensor([0,0])\n",
    "    val_loss_epoch = torch.tensor([0,0])\n",
    "\n",
    "    for epoch in tqdm(range(epochs)):\n",
    "        model.train()\n",
    "        for X in train_loader:\n",
    "            batch = X[0].to(device)  # [0] is needed due to X being a list\n",
    "            reconstruction, _ = model(batch)\n",
    "            loss = criterion(reconstruction, batch)\n",
    "            loss.backward()\n",
    "\n",
    "            optimizer.step()\n",
    "            optimizer.zero_grad()\n",
    "\n",
    "            train_loss.append(loss.detach().cpu().numpy())\n",
    "        \n",
    "        model.eval()\n",
    "        with torch.no_grad():\n",
    "            for X in val_loader:\n",
    "                batch = X[0].to(device)  # [0] is needed due to X being a list\n",
    "                reconstruction, _ = model(batch)\n",
    "\n",
    "                loss = criterion(reconstruction, batch)\n",
    "                val_loss.append(loss.cpu().numpy())\n",
    "\n",
    "        train_loss_epoch.append(np.mean(train_loss))\n",
    "        val_loss_epoch.append(np.mean(val_loss))\n",
    "\n",
    "        if epoch % 5 == 0:\n",
    "            print(\n",
    "                f\"After {epoch} epochs, training loss: {train_loss_epoch[-1]:.6f};   \"\n",
    "                f\"val loss: {val_loss_epoch[-1]:.6f}\")\n",
    "\n",
    "        os.makedirs(path, exist_ok=True)\n",
    "        torch.save(model.state_dict(), path + '/checkpoint.pt')\n",
    "\n",
    "        train_loss_epoch = train_loss_epoch.to(device)\n",
    "        val_loss_epoch = val_loss_epoch.to(device)\n",
    "\n",
    "    return model, train_loss_epoch, val_loss_epoch"
   ]
  },
  {
   "cell_type": "code",
   "execution_count": 10,
   "metadata": {},
   "outputs": [],
   "source": [
    "class CNNAutoencoder(nn.Module):\n",
    "\n",
    "    def __init__(self, img_shape):\n",
    "        \"\"\"\n",
    "        code_size это размерность кодированного представления (фичей на выходе)\n",
    "        \"\"\"\n",
    "        super().__init__()\n",
    "        \n",
    "        def initialization(layer):\n",
    "            if isinstance(layer, nn.Linear):\n",
    "                torch.nn.init.xavier_uniform(layer.weight)\n",
    "                layer.bias.data.fill_(0.)\n",
    "    \n",
    "\n",
    "\n",
    "        self.encoder = nn.Sequential(nn.Conv2d(in_channels=3, out_channels=32, kernel_size=3, stride=1, padding=1), # (48-3+1*2)/1+1 = 48\n",
    "            nn.ELU(),\n",
    "            nn.MaxPool2d(2), # (48-2+0)/2+1 = 24\n",
    "            nn.Conv2d(in_channels=32, out_channels=64, kernel_size=3, stride=1, padding=1), # (24-3+1*2)/1+1 = 24\n",
    "            nn.ELU(),\n",
    "            nn.MaxPool2d(2), # (24-2+0)/2+1 = 12\n",
    "            nn.Conv2d(in_channels=64, out_channels=128, kernel_size=3, stride=1, padding=1), # (12-3+1*2)/1+1 = 12\n",
    "            nn.ELU(), \n",
    "            nn.MaxPool2d(2), # (12-2+0)/2+1 = 6\n",
    "            nn.Conv2d(in_channels=128, out_channels=256, kernel_size=3, stride=1), # (6-3+0)/1+1 = 4\n",
    "            nn.ELU(), \n",
    "            nn.AdaptiveMaxPool2d(1), # (4-4+0)/2+1 = 1\n",
    "            nn.Flatten(),\n",
    "            nn.Linear(256, 150)\n",
    "            )\n",
    "\n",
    "        self.decoder = nn.Sequential(nn.Linear(150, 150*4),\n",
    "                                     nn.ReLU(),\n",
    "                                     nn.Linear(150*4, 3*48*48))\n",
    "        \n",
    "        self.apply(initialization)\n",
    "        \n",
    "    def forward(self, x):\n",
    "        print(x.shape, 'init')\n",
    "        # x = torch.flatten(x, start_dim=0, end_dim=1)\n",
    "        init_shape = x.shape\n",
    "        print(x.shape, 'reshaped')\n",
    "\n",
    "        latent_code = self.encoder(x)\n",
    "        print(latent_code.shape, 'latent code')\n",
    "        reconstruction = self.decoder(latent_code)\n",
    "        print(reconstruction.shape, 'reconstructed')\n",
    "        reconstruction = reconstruction.reshape(init_shape)\n",
    "        \n",
    "        # return latent_code\n",
    "        return reconstruction, latent_code\n",
    "\n",
    "    "
   ]
  },
  {
   "cell_type": "code",
   "execution_count": 11,
   "metadata": {},
   "outputs": [],
   "source": [
    "autoencodercnn4 = CNNAutoencoder(dimenstion)\n",
    "autoencodercnn4 = autoencodercnn4.to(DEVICE)"
   ]
  },
  {
   "cell_type": "code",
   "execution_count": 12,
   "metadata": {},
   "outputs": [
    {
     "name": "stdout",
     "output_type": "stream",
     "text": [
      "input_shape (3, 48, 48)\n"
     ]
    }
   ],
   "source": [
    "criterion = torch.nn.MSELoss()\n",
    "\n",
    "print('input_shape', dimenstion)\n",
    "\n",
    "# Use Adam optimizer\n",
    "optimizer = optim.Adam(autoencodercnn4.parameters(), lr=1e-3)"
   ]
  },
  {
   "cell_type": "code",
   "execution_count": 13,
   "metadata": {},
   "outputs": [
    {
     "name": "stdout",
     "output_type": "stream",
     "text": [
      "torch.Size([2, 3, 48, 48]) init\n",
      "torch.Size([2, 3, 48, 48]) reshaped\n",
      "torch.Size([2, 150]) latent code\n",
      "torch.Size([2, 6912]) reconstructed\n",
      "----------------------------------------------------------------\n",
      "        Layer (type)               Output Shape         Param #\n",
      "================================================================\n",
      "            Conv2d-1           [-1, 32, 48, 48]             896\n",
      "               ELU-2           [-1, 32, 48, 48]               0\n",
      "         MaxPool2d-3           [-1, 32, 24, 24]               0\n",
      "            Conv2d-4           [-1, 64, 24, 24]          18,496\n",
      "               ELU-5           [-1, 64, 24, 24]               0\n",
      "         MaxPool2d-6           [-1, 64, 12, 12]               0\n",
      "            Conv2d-7          [-1, 128, 12, 12]          73,856\n",
      "               ELU-8          [-1, 128, 12, 12]               0\n",
      "         MaxPool2d-9            [-1, 128, 6, 6]               0\n",
      "           Conv2d-10            [-1, 256, 4, 4]         295,168\n",
      "              ELU-11            [-1, 256, 4, 4]               0\n",
      "AdaptiveMaxPool2d-12            [-1, 256, 1, 1]               0\n",
      "          Flatten-13                  [-1, 256]               0\n",
      "           Linear-14                  [-1, 150]          38,550\n",
      "           Linear-15                  [-1, 600]          90,600\n",
      "             ReLU-16                  [-1, 600]               0\n",
      "           Linear-17                 [-1, 6912]       4,154,112\n",
      "================================================================\n",
      "Total params: 4,671,678\n",
      "Trainable params: 4,671,678\n",
      "Non-trainable params: 0\n",
      "----------------------------------------------------------------\n",
      "Input size (MB): 0.03\n",
      "Forward/backward pass size (MB): 2.34\n",
      "Params size (MB): 17.82\n",
      "Estimated Total Size (MB): 20.19\n",
      "----------------------------------------------------------------\n"
     ]
    }
   ],
   "source": [
    "summary(autoencodercnn4, ( 3, 48, 48))"
   ]
  },
  {
   "cell_type": "code",
   "execution_count": 14,
   "metadata": {},
   "outputs": [],
   "source": [
    "X_train = torch.tensor(X_train, dtype=torch.float32)\n",
    "X_test = torch.tensor(X_test, dtype=torch.float32)\n",
    "dataset_train = TensorDataset(X_train)\n",
    "dataset_test = TensorDataset(X_test)\n",
    "\n",
    "BATCH_SIZE = 32\n",
    "\n",
    "train_loader = DataLoader(dataset_train, batch_size=BATCH_SIZE, shuffle=True, num_workers=1)\n",
    "test_loader = DataLoader(dataset_test, batch_size=BATCH_SIZE, shuffle=False, num_workers=1)"
   ]
  },
  {
   "cell_type": "code",
   "execution_count": 15,
   "metadata": {},
   "outputs": [
    {
     "name": "stderr",
     "output_type": "stream",
     "text": [
      "  0%|          | 0/25 [00:00<?, ?it/s]"
     ]
    },
    {
     "name": "stdout",
     "output_type": "stream",
     "text": [
      "torch.Size([32, 3, 48, 48]) init\n",
      "torch.Size([32, 3, 48, 48]) reshaped\n",
      "torch.Size([32, 150]) latent code\n",
      "torch.Size([32, 6912]) reconstructed\n"
     ]
    },
    {
     "name": "stderr",
     "output_type": "stream",
     "text": [
      "  0%|          | 0/25 [00:03<?, ?it/s]\n"
     ]
    },
    {
     "ename": "AttributeError",
     "evalue": "'Tensor' object has no attribute 'append'",
     "output_type": "error",
     "traceback": [
      "\u001b[1;31m---------------------------------------------------------------------------\u001b[0m",
      "\u001b[1;31mAttributeError\u001b[0m                            Traceback (most recent call last)",
      "\u001b[1;32m~\\AppData\\Local\\Temp/ipykernel_16888/1258317607.py\u001b[0m in \u001b[0;36m<module>\u001b[1;34m\u001b[0m\n\u001b[1;32m----> 1\u001b[1;33m cnnmodel, cnn_train_loss, cnn_val_loss = train(autoencodercnn4, \n\u001b[0m\u001b[0;32m      2\u001b[0m                                                   \u001b[0mtrain_loader\u001b[0m\u001b[1;33m,\u001b[0m \u001b[0mtest_loader\u001b[0m\u001b[1;33m,\u001b[0m\u001b[1;33m\u001b[0m\u001b[1;33m\u001b[0m\u001b[0m\n\u001b[0;32m      3\u001b[0m                                                   \u001b[0mdevice\u001b[0m\u001b[1;33m=\u001b[0m\u001b[0mDEVICE\u001b[0m\u001b[1;33m,\u001b[0m \u001b[0mepochs\u001b[0m\u001b[1;33m=\u001b[0m\u001b[1;36m25\u001b[0m\u001b[1;33m,\u001b[0m\u001b[1;33m\u001b[0m\u001b[1;33m\u001b[0m\u001b[0m\n\u001b[0;32m      4\u001b[0m                                                   path='autoencodercnn')\n\u001b[0;32m      5\u001b[0m \u001b[0mtorch\u001b[0m\u001b[1;33m.\u001b[0m\u001b[0msave\u001b[0m\u001b[1;33m(\u001b[0m\u001b[0mcnnmodel\u001b[0m\u001b[1;33m.\u001b[0m\u001b[0mstate_dict\u001b[0m\u001b[1;33m(\u001b[0m\u001b[1;33m)\u001b[0m\u001b[1;33m,\u001b[0m \u001b[1;34m'cnnautoencoder'\u001b[0m \u001b[1;33m+\u001b[0m \u001b[1;34m'/cnn_auto_model_final.pt'\u001b[0m\u001b[1;33m)\u001b[0m\u001b[1;33m\u001b[0m\u001b[1;33m\u001b[0m\u001b[0m\n",
      "\u001b[1;32m~\\AppData\\Local\\Temp/ipykernel_16888/1733399427.py\u001b[0m in \u001b[0;36mtrain\u001b[1;34m(model, train_loader, val_loader, device, epochs, path)\u001b[0m\n\u001b[0;32m     20\u001b[0m             \u001b[0moptimizer\u001b[0m\u001b[1;33m.\u001b[0m\u001b[0mzero_grad\u001b[0m\u001b[1;33m(\u001b[0m\u001b[1;33m)\u001b[0m\u001b[1;33m\u001b[0m\u001b[1;33m\u001b[0m\u001b[0m\n\u001b[0;32m     21\u001b[0m \u001b[1;33m\u001b[0m\u001b[0m\n\u001b[1;32m---> 22\u001b[1;33m             \u001b[0mtrain_loss\u001b[0m\u001b[1;33m.\u001b[0m\u001b[0mappend\u001b[0m\u001b[1;33m(\u001b[0m\u001b[0mloss\u001b[0m\u001b[1;33m.\u001b[0m\u001b[0mdetach\u001b[0m\u001b[1;33m(\u001b[0m\u001b[1;33m)\u001b[0m\u001b[1;33m.\u001b[0m\u001b[0mcpu\u001b[0m\u001b[1;33m(\u001b[0m\u001b[1;33m)\u001b[0m\u001b[1;33m.\u001b[0m\u001b[0mnumpy\u001b[0m\u001b[1;33m(\u001b[0m\u001b[1;33m)\u001b[0m\u001b[1;33m)\u001b[0m\u001b[1;33m\u001b[0m\u001b[1;33m\u001b[0m\u001b[0m\n\u001b[0m\u001b[0;32m     23\u001b[0m \u001b[1;33m\u001b[0m\u001b[0m\n\u001b[0;32m     24\u001b[0m         \u001b[0mmodel\u001b[0m\u001b[1;33m.\u001b[0m\u001b[0meval\u001b[0m\u001b[1;33m(\u001b[0m\u001b[1;33m)\u001b[0m\u001b[1;33m\u001b[0m\u001b[1;33m\u001b[0m\u001b[0m\n",
      "\u001b[1;31mAttributeError\u001b[0m: 'Tensor' object has no attribute 'append'"
     ]
    }
   ],
   "source": [
    "cnnmodel, cnn_train_loss, cnn_val_loss = train(autoencodercnn4, \n",
    "                                                  train_loader, test_loader, \n",
    "                                                  device=DEVICE, epochs=25, \n",
    "                                                  path='autoencodercnn')\n",
    "torch.save(cnnmodel.state_dict(), 'cnnautoencoder' + '/cnn_auto_model_final.pt')"
   ]
  },
  {
   "cell_type": "code",
   "execution_count": null,
   "metadata": {},
   "outputs": [],
   "source": []
  }
 ],
 "metadata": {
  "interpreter": {
   "hash": "102ece9fb22a5dbc66cd17e6acdf387ff87bc94873c1952b7c22cf1bcacef674"
  },
  "kernelspec": {
   "display_name": "Python 3.8.10 64-bit ('base': conda)",
   "name": "python3"
  },
  "language_info": {
   "codemirror_mode": {
    "name": "ipython",
    "version": 3
   },
   "file_extension": ".py",
   "mimetype": "text/x-python",
   "name": "python",
   "nbconvert_exporter": "python",
   "pygments_lexer": "ipython3",
   "version": "3.8.10"
  },
  "orig_nbformat": 4
 },
 "nbformat": 4,
 "nbformat_minor": 2
}
