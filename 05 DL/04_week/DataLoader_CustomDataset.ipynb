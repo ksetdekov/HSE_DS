{
  "nbformat": 4,
  "nbformat_minor": 0,
  "metadata": {
    "kernelspec": {
      "display_name": "Python 3",
      "language": "python",
      "name": "python3"
    },
    "language_info": {
      "codemirror_mode": {
        "name": "ipython",
        "version": 3
      },
      "file_extension": ".py",
      "mimetype": "text/x-python",
      "name": "python",
      "nbconvert_exporter": "python",
      "pygments_lexer": "ipython3",
      "version": "3.6.6"
    },
    "colab": {
      "name": "DataLoader - CustomDataset.ipynb",
      "provenance": [],
      "collapsed_sections": []
    }
  },
  "cells": [
    {
      "cell_type": "markdown",
      "metadata": {
        "id": "N9KmAXmXHe3l"
      },
      "source": [
        "# DataLoader in PyTorch"
      ]
    },
    {
      "cell_type": "code",
      "metadata": {
        "colab": {
          "base_uri": "https://localhost:8080/"
        },
        "id": "kaiKaG5KHu8B",
        "outputId": "cf8d1382-51a5-4b8b-d3dc-44ef8723e1b4"
      },
      "source": [
        "from google.colab import drive\n",
        "drive.mount('/content/gdrive')"
      ],
      "execution_count": null,
      "outputs": [
        {
          "output_type": "stream",
          "name": "stdout",
          "text": [
            "Mounted at /content/gdrive\n"
          ]
        }
      ]
    },
    {
      "cell_type": "code",
      "metadata": {
        "colab": {
          "base_uri": "https://localhost:8080/"
        },
        "id": "RvnsxJbxH0Bp",
        "outputId": "014371cf-54c3-4f76-8581-26cc1c88f452"
      },
      "source": [
        "%cd /content/gdrive/My Drive/HSE_DL_2021/04_week"
      ],
      "execution_count": null,
      "outputs": [
        {
          "output_type": "stream",
          "name": "stdout",
          "text": [
            "/content/gdrive/My Drive/HSE_DL_2021/04_week\n"
          ]
        }
      ]
    },
    {
      "cell_type": "markdown",
      "metadata": {
        "id": "_xRJejjSHe3q"
      },
      "source": [
        "__DataLoader__ -- класс в PyTorch, который позволяет итеративно проходить по датасету, отвечает за оркестрацию всего процесса работы с датасетом."
      ]
    },
    {
      "cell_type": "code",
      "metadata": {
        "colab": {
          "base_uri": "https://localhost:8080/",
          "height": 117
        },
        "id": "qjXLdBjXHqZ_",
        "outputId": "26909945-f0a8-42d3-b0b0-b035ad4dfe38"
      },
      "source": [
        "from IPython import display\n",
        "display.Image('images/DataLoaderParams.png')"
      ],
      "execution_count": 2,
      "outputs": [
        {
          "output_type": "execute_result",
          "data": {
            "image/png": "[encoded data removed]",
            "text/plain": [
              "<IPython.core.display.Image object>"
            ]
          },
          "metadata": {},
          "execution_count": 2
        }
      ]
    },
    {
      "cell_type": "markdown",
      "metadata": {
        "id": "UI1jMBH-He3r"
      },
      "source": [
        "- __dataset__ -- позволяет создать кастомные классы для работы с датасетом, где можно указать логику формирвоания батча. \n",
        "  * как считать данные,\n",
        "  * что отдать на выход\n",
        "- __sampler__ -- определяет порядок элементов из датасета, которые будут идти в батч, то есть это список индексов, объединенных в батч. Удобно переопределять, когда обучение распредленное.  \n",
        "  * есть готовые сэмплеры\n",
        "- __collate_fn__ -- позволяет сделать финальную предобработку над батчем данных. Если, например, в батч попали последовательности разных размеров, то после уже сбора батча, можно будет дополнить последовательности нулями относительно максимально длиной последовательности.\n",
        "  * позволяет подготовить данные для батча\n",
        "\n"
      ]
    },
    {
      "cell_type": "markdown",
      "metadata": {
        "id": "LvXSQcrYHe3s"
      },
      "source": [
        "## Custom Dataset"
      ]
    },
    {
      "cell_type": "code",
      "metadata": {
        "id": "M50Y25tIHe3s"
      },
      "source": [
        "import pandas as pd\n",
        "import pickle\n",
        "import numpy as np\n",
        "\n",
        "from torch.utils.data import DataLoader, Dataset, Sampler\n",
        "from torch.utils.data.dataloader import default_collate"
      ],
      "execution_count": 11,
      "outputs": []
    },
    {
      "cell_type": "code",
      "metadata": {
        "id": "on7diefvHe3u"
      },
      "source": [
        "BATCH_SIZE = 128\n",
        "EPOCHS = 100"
      ],
      "execution_count": 12,
      "outputs": []
    },
    {
      "cell_type": "code",
      "metadata": {
        "colab": {
          "base_uri": "https://localhost:8080/"
        },
        "id": "hOIcx8Mwl9JR",
        "outputId": "3b0dc365-7855-4398-bbcd-6f984a2e0f18"
      },
      "source": [
        "with open('data/X_train_cat.pickle', 'rb') as f:\n",
        "    X, target = pickle.load(f)\n",
        "X.shape"
      ],
      "execution_count": 26,
      "outputs": [
        {
          "output_type": "execute_result",
          "data": {
            "text/plain": [
              "(21383, 37)"
            ]
          },
          "metadata": {},
          "execution_count": 26
        }
      ]
    },
    {
      "cell_type": "code",
      "metadata": {
        "id": "vUtWlc3aHe3u"
      },
      "source": [
        "# пусть у нас лежат данные внутри папки по кускам\n",
        "# path = spark_data_folder\n",
        "\n",
        "class CustomDataset(Dataset):\n",
        "    # Конструктор, где считаем датасет\n",
        "    def __init__(self, dataset_path):\n",
        "        # for part in glob(path) - это чтобы пробежаться по спарк файлам\n",
        "        with open(dataset_path, 'rb') as f:\n",
        "            self.X, self.target = pickle.load(f)\n",
        "\n",
        "        return\n",
        "    \n",
        "    # Переопределяем метод вычисление размера датасета\n",
        "    def __len__(self):\n",
        "        return len(self.X)\n",
        "\n",
        "    # Переопределяем метод,\n",
        "    # который достает по индексу наблюдение из датасет\n",
        "    def __getitem__(self, idx):\n",
        "        return self.X[idx], self.target[idx]\n",
        "        "
      ],
      "execution_count": 13,
      "outputs": []
    },
    {
      "cell_type": "markdown",
      "metadata": {
        "id": "5W5WZfKhHe3v"
      },
      "source": [
        "## Custom Sampler"
      ]
    },
    {
      "cell_type": "code",
      "metadata": {
        "colab": {
          "base_uri": "https://localhost:8080/"
        },
        "id": "WbWRfZacNRru",
        "outputId": "4218fff5-d89e-4bcf-92f2-43a20b285764"
      },
      "source": [
        "np.random.permutation([1,2,3])"
      ],
      "execution_count": 14,
      "outputs": [
        {
          "output_type": "execute_result",
          "data": {
            "text/plain": [
              "array([1, 3, 2])"
            ]
          },
          "metadata": {},
          "execution_count": 14
        }
      ]
    },
    {
      "cell_type": "code",
      "metadata": {
        "id": "urhvQ2ucHe3v"
      },
      "source": [
        "class CustomSampler(Sampler):\n",
        "\n",
        "    # Конструктор, где инициализируем индексы элементов\n",
        "    def __init__(self, data):\n",
        "        self.data_indices = np.arange(len(data))\n",
        "\n",
        "        shuffled_indices = np.random.permutation(len(self.data_indices))\n",
        "\n",
        "        self.data_indices = np.ascontiguousarray(self.data_indices)[shuffled_indices]\n",
        "\n",
        "        return\n",
        "\n",
        "    def __len__(self):\n",
        "        return len(self.data_indices)\n",
        "\n",
        "    # Возращает итератор,\n",
        "    # который будет возвращать индексы из перемешанного датасета\n",
        "    def __iter__(self):\n",
        "        return iter(self.data_indices)"
      ],
      "execution_count": 15,
      "outputs": []
    },
    {
      "cell_type": "markdown",
      "metadata": {
        "id": "UVBYdnW7He3w"
      },
      "source": [
        "## Custom Sampler"
      ]
    },
    {
      "cell_type": "code",
      "metadata": {
        "id": "JhBOBm6HHe3w"
      },
      "source": [
        "def collate(batch):\n",
        "    return default_collate(batch) # базово превращает в тензор + что-то делает \n",
        "    # еще дополнительное"
      ],
      "execution_count": 8,
      "outputs": []
    },
    {
      "cell_type": "code",
      "metadata": {
        "id": "kb0SivIAHe3x"
      },
      "source": [
        "def create_data_loader(train_dataset, train_sampler,\n",
        "                       test_dataset, test_sampler):\n",
        "    train_loader = DataLoader(dataset=train_dataset, sampler=train_sampler,\n",
        "                              batch_size=BATCH_SIZE, collate_fn=collate,\n",
        "                              shuffle=False)\n",
        "    # когда мы используем сэмплер - нужно выключать shuffle=False\n",
        "\n",
        "    test_loader = DataLoader(dataset=test_dataset, sampler=test_sampler,\n",
        "                             batch_size=BATCH_SIZE, collate_fn=collate,\n",
        "                             shuffle=False)\n",
        "\n",
        "    return train_loader, test_loader"
      ],
      "execution_count": 19,
      "outputs": []
    },
    {
      "cell_type": "code",
      "metadata": {
        "id": "MhJ90vhEHe3x"
      },
      "source": [
        "# Создаем объекты Custom Dataset и Sampler\n",
        "train_ds = CustomDataset('data/X_train_cat.pickle')\n",
        "train_sampler = CustomSampler(train_ds.X)\n",
        "\n",
        "test_ds = CustomDataset('data/X_test_cat.pickle')\n",
        "test_sampler = CustomSampler(test_ds.X)"
      ],
      "execution_count": 20,
      "outputs": []
    },
    {
      "cell_type": "code",
      "metadata": {
        "id": "-1N61mcsHe3y"
      },
      "source": [
        "train_loader, test_loader = create_data_loader(train_ds, train_sampler,\n",
        "                                               test_ds, test_sampler)"
      ],
      "execution_count": 21,
      "outputs": []
    },
    {
      "cell_type": "code",
      "metadata": {
        "id": "DNYKpbmuHe3y"
      },
      "source": [
        "def run_train():\n",
        "    print('Run train')\n",
        "    for epoch in range(EPOCHS):\n",
        "        for features, labels in train_loader:\n",
        "            print(features.shape, labels)\n",
        "            break\n",
        "\n",
        "        # Run validation\n",
        "        print('Run validation')\n",
        "        for features, labels in test_loader:\n",
        "            print(features.shape, labels)\n",
        "            break\n",
        "            \n",
        "        break\n",
        "\n",
        "    return"
      ],
      "execution_count": 24,
      "outputs": []
    },
    {
      "cell_type": "code",
      "metadata": {
        "colab": {
          "base_uri": "https://localhost:8080/"
        },
        "id": "sk_F_6rEHe3z",
        "outputId": "4cc764ed-35cd-4581-9b08-08bdfe9fa6c4"
      },
      "source": [
        "run_train()"
      ],
      "execution_count": 25,
      "outputs": [
        {
          "output_type": "stream",
          "name": "stdout",
          "text": [
            "Run train\n",
            "torch.Size([128, 37]) tensor([3, 0, 3, 0, 3, 1, 3, 3, 2, 2, 3, 3, 0, 3, 0, 0, 0, 3, 3, 2, 1, 0, 3, 0,\n",
            "        2, 3, 3, 0, 2, 0, 3, 3, 2, 3, 0, 0, 0, 0, 3, 3, 3, 1, 0, 3, 3, 3, 3, 3,\n",
            "        2, 3, 1, 2, 2, 2, 2, 3, 3, 3, 3, 0, 2, 0, 1, 3, 3, 3, 0, 3, 1, 2, 0, 1,\n",
            "        0, 2, 0, 2, 1, 0, 3, 3, 1, 0, 2, 0, 0, 0, 3, 0, 3, 1, 3, 0, 0, 0, 0, 3,\n",
            "        3, 3, 1, 0, 3, 0, 0, 0, 0, 0, 0, 3, 3, 3, 0, 0, 2, 0, 0, 3, 0, 0, 3, 3,\n",
            "        2, 1, 3, 3, 0, 3, 0, 2])\n",
            "Run validation\n",
            "torch.Size([128, 37]) tensor([2, 3, 3, 0, 2, 2, 2, 3, 0, 3, 2, 2, 1, 3, 3, 2, 3, 3, 0, 0, 1, 0, 2, 3,\n",
            "        0, 2, 0, 1, 2, 2, 3, 0, 3, 0, 2, 0, 3, 3, 0, 3, 0, 0, 3, 3, 2, 2, 0, 0,\n",
            "        0, 0, 3, 3, 0, 0, 2, 1, 3, 0, 2, 3, 3, 3, 0, 0, 3, 3, 0, 3, 2, 0, 3, 0,\n",
            "        2, 2, 0, 0, 3, 2, 0, 3, 3, 3, 0, 3, 2, 2, 1, 3, 0, 0, 3, 0, 2, 2, 2, 2,\n",
            "        0, 2, 3, 0, 3, 3, 3, 0, 3, 2, 0, 0, 3, 0, 0, 3, 2, 0, 3, 0, 3, 0, 0, 3,\n",
            "        0, 3, 0, 3, 0, 3, 0, 0])\n"
          ]
        }
      ]
    },
    {
      "cell_type": "code",
      "metadata": {
        "id": "_ieVBw1xIjiH"
      },
      "source": [
        ""
      ],
      "execution_count": null,
      "outputs": []
    }
  ]
}