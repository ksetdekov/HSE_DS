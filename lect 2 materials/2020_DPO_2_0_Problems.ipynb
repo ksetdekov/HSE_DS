{
 "cells": [
  {
   "cell_type": "markdown",
   "metadata": {},
   "source": [
    "Центр непрерывного образования\n",
    "\n",
    "# Программа «Python для автоматизации и анализа данных»\n",
    "\n",
    "Неделя 2 - 1\n",
    "\n",
    "*Татьяна Рогович, НИУ ВШЭ*  \n",
    "\n",
    "# (∩｀-´)⊃━☆ﾟ.*･｡ﾟ Задачи"
   ]
  },
  {
   "cell_type": "markdown",
   "metadata": {},
   "source": [
    "## 1. Средний балл (списки)\n",
    "\n",
    "Дан список `student = ('Иван Питонов', 2001, [8, 7, 7, 9, 6], True)`. Выполните пункты ниже. Все выводы должны быть в формате \"Средний балл студента: {средний балл}\"\n",
    "\n",
    "1. Выведите фамилию и имя Ивана в формате \"Студент: {Фамилия}, {Имя}\"\n",
    "2. Выведите возраст Ивана, если сейчас 2020 год.\n",
    "3. Напечатайте оценки Ивана через запятую. \n",
    "1. Найдите средний балл Ивана, если оценки хранятся в списке внутри кортежа. Сумму элементов списка можно найти с помощью функции sum(). Выведите средний балл.\n",
    "3. Если средняя оценка Ивана больше или равна 8, то он получает повышенную стипендию. Выведите True или False."
   ]
  },
  {
   "cell_type": "code",
   "execution_count": 36,
   "metadata": {},
   "outputs": [
    {
     "name": "stdout",
     "output_type": "stream",
     "text": [
      "Студент: Питонов, Иван\n",
      "Возраст 19\n",
      "Оценки 8, 7, 7, 9, 6\n",
      "Средний балл 7.4\n",
      "Стипендия False\n"
     ]
    }
   ],
   "source": [
    "# ваше решение здесь\n",
    "\n",
    "student = ('Иван Питонов', 2001, [8, 7, 7, 9, 6], True)\n",
    "(name, surname) = student[0].split()\n",
    "print('Студент: {}, {}'.format(surname, name))\n",
    "\n",
    "print('Возраст {}'.format(2020-student[1]))\n",
    "\n",
    "marks = student[2]\n",
    "print('Оценки {}'.format(', '.join(map(str,marks))))\n",
    "\n",
    "print('Средний балл {}'.format(sum(marks)/len(marks)))\n",
    "\n",
    "print('Стипендия {}'.format(sum(marks)/len(marks)>=8))"
   ]
  },
  {
   "cell_type": "markdown",
   "metadata": {},
   "source": [
    "## 2. Сортируем числа и строки (списки, сортировки, map())\n",
    "Дан список `numbers = [1, 1000, 1002124, 25, 10, 20, 351]`. Выполните следующие шаги. Для сортировок пользуйтесь функцией sorted().\n",
    "\n",
    "1. Отсортируйте этот список по возрастанию и сохраните результат в переменную numbers_int_sorted\n",
    "2. На основе оригинального списка numbers с помощью функции map создайте новый список, где вместо каждого числа будет строка ('1', '1000' и т.д.) и сохраните его в переменную numbers_str\n",
    "3. Отсортируйте список numbers_str по возрастанию и сохраните результат в переменную numbers_str_sorted\n",
    "4. Отсортийте список numbers_str по возрастанию с помощью ключа, который перед сортировкой представляет строки в виде целых чисел, и сохраните результат в переменную numbers_str_key_sorted\n",
    "5. Выведите три отсортированных списка. Есть ли среди них одинаковые? Почему?\n",
    "\n"
   ]
  },
  {
   "cell_type": "code",
   "execution_count": 2,
   "metadata": {},
   "outputs": [],
   "source": [
    "# ваше решение здесь\n",
    "numbers = [1, 1000, 1002124, 25, 10, 20, 351]"
   ]
  },
  {
   "cell_type": "markdown",
   "metadata": {},
   "source": [
    "## 3. Количество различных чисел (списки и множества)\n",
    "\n",
    "Дан список чисел, который может содержать до 100000 чисел. Определите, сколько в нем встречается различных чисел.\n",
    "\n",
    "#### Пример 1\n",
    "\n",
    "##### Ввод\t\n",
    "\n",
    "1 2 3 2 1\n",
    "\n",
    "##### Вывод\n",
    "\n",
    "3\n",
    "\n",
    "#### Пример 2\n",
    "##### Ввод\t\n",
    "\n",
    "1 2 3 4 5 1 2 1 2 7 3\n",
    "\n",
    "##### Вывод\n",
    "6"
   ]
  },
  {
   "cell_type": "code",
   "execution_count": null,
   "metadata": {},
   "outputs": [],
   "source": [
    "# ваше решение здесь\n"
   ]
  },
  {
   "cell_type": "markdown",
   "metadata": {},
   "source": [
    "## 4. Факультативы (множества)\n",
    "Группа из 3 студентов пишет заявки на желаемые факультативы из списка: английский, немецкий, право, математика, сольфеджио. Факультатив откроют, если на него запишутся все студенты. Каждый студент может выбрать минимум один и максимум три факультатива. Нужно посчитать количество факультативов, которые откроются.\n",
    "\n",
    "*Пример*\n",
    "\n",
    "**Ввод:**\n",
    "\n",
    "английский сольфеджио право  \n",
    "математика сольфеджио  \n",
    "немецкий право\n",
    "\n",
    "**Вывод:**\n",
    "\n",
    "0\n",
    "\n",
    "**Ввод:**\n",
    "\n",
    "математика немецкий право  \n",
    "математика немецкий  \n",
    "немецкий право математика \n",
    "\n",
    "**Вывод:**  \n",
    "2"
   ]
  },
  {
   "cell_type": "code",
   "execution_count": null,
   "metadata": {},
   "outputs": [],
   "source": [
    "# ваше решение здесь"
   ]
  },
  {
   "cell_type": "markdown",
   "metadata": {},
   "source": [
    "Давайте модифицируем эту задачу, и представим, что только два студента выбирают факультативы, откроются факультативы, которые выбрал, хотя бы один студент. Но затем выясняется, что один из факультативов из списка отменили. Выводить будет через запятую те факультативы, которые откроются.\n",
    "\n",
    "*Пример*  \n",
    "**Ввод:**\n",
    "\n",
    "математика немецкий право  \n",
    "математика английский  \n",
    "право\n",
    "\n",
    "**Вывод:**  \n",
    "математика, немецкий, английский"
   ]
  },
  {
   "cell_type": "code",
   "execution_count": null,
   "metadata": {},
   "outputs": [],
   "source": [
    "# ваше решение здесь"
   ]
  },
  {
   "cell_type": "markdown",
   "metadata": {},
   "source": [
    "## 5. Вложенные словари\n",
    "\n",
    "Вам дан словарь, содержащий в себе списки словарей. Напишите код, который выведет на экран 'разработчик' из списка ключа Windows в в первом словаре из списка 2."
   ]
  },
  {
   "cell_type": "code",
   "execution_count": 50,
   "metadata": {},
   "outputs": [
    {
     "data": {
      "text/plain": [
       "'разработчик'"
      ]
     },
     "execution_count": 50,
     "metadata": {},
     "output_type": "execute_result"
    }
   ],
   "source": [
    "dict_of_lists = {'Список1': [{'Python': 'язык программирования'}, {'R':'язык программирования', 'LaTEX' : 'язык верстки' }], \n",
    "                 'Список2' : [{'Windows' : ['операционная система', 'разработчик'], 'UNIX' : 'операционная система'},\n",
    "                              {'IBM': ['компания-производитель', 'разработчик'], 'IPv6' : 'интернет-протокол' }]}\n",
    "\n",
    "# ваше решение здесь"
   ]
  },
  {
   "cell_type": "markdown",
   "metadata": {},
   "source": [
    "## 6. Срезы строк\n",
    "\n",
    "Напоминание про работу со строками:\n",
    "\n",
    "len(s) - определить длину строки s\n",
    "\n",
    "s[i] - получить i-ый символ строки (нумерация с нуля, i - положительное), в случае отрицательного i нумерация идет справа-налево, начиная с -1, например, s[-1] - это последний символ строки\n",
    "\n",
    "s[i:j] - получить все символы с i-го включительно по j-ый не включительно\n",
    "\n",
    "s[:i] - все символы до i-го не включительно\n",
    "\n",
    "s[i:] - все символы, начиная с i-го включительно\n",
    "\n",
    "s[i:j:k] - все символы с i-го включитель по j-ый не включительно с шагом k, если шаг отрицательный, то i должно указывать на символ стоящий правее, чем j\n",
    "\n",
    "**Задача:**\n",
    "\n",
    "Дана строка.\n",
    "1. Сначала выведите третий символ этой строки (считая, что нумерация символов начинается с 1).\n",
    "2. Во второй строке выведите предпоследний символ этой строки.\n",
    "3. В третьей строке выведите первые пять символов этой строки.\n",
    "4. В четвертой строке выведите всю строку, кроме последних двух символов.\n",
    "5. В пятой строке выведите все символы с четными индексами (считая, что индексация начинается с 0).\n",
    "6. В шестой строке выведите все символы с нечетными индексами (считая, что индексация начинается с 0).\n",
    "7. В седьмой строке выведите все символы в обратном порядке.\n",
    "8. В восьмой строке выведите все символы строки через один в обратном порядке, начиная с последнего.\n",
    "9. В девятой строке выведите длину данной строки.\n",
    "\n",
    "**Ввод:**   \n",
    "Abrakadabra\n",
    "\n",
    "**Вывод:**\n",
    "\n",
    "r  \n",
    "r  \n",
    "Abrak  \n",
    "Abrakadab  \n",
    "Arkdba  \n",
    "baaar  \n",
    "arbadakarbA  \n",
    "abdkrA  \n",
    "11  "
   ]
  },
  {
   "cell_type": "code",
   "execution_count": null,
   "metadata": {},
   "outputs": [],
   "source": [
    "# ваше решение здесь"
   ]
  },
  {
   "cell_type": "markdown",
   "metadata": {},
   "source": [
    "## 7. Срезы списков\n",
    "\n",
    "Используя список `girls`, выведите на экран с помощью срезов следующие списки:\n",
    "\n",
    "    [\"Виолетта\", \"Кассандра\", \"Вирджиния\", \"Амелия\"]\n",
    "    [\"Вирджиния\", \"Амелия\", \"Розамунда\", \"Янина\", \"Беатриса\"]\n",
    "    [\"Иветта\", \"Виолетта\", \"Вирджиния\", \"Амелия\"]\n",
    "    [\"Кассандра\", \"Амелия\", \"Розамунда\"]"
   ]
  },
  {
   "cell_type": "code",
   "execution_count": 47,
   "metadata": {},
   "outputs": [],
   "source": [
    "girls = [\"Иветта\", \"Виолетта\", \"Кассандра\", \"Вирджиния\", \n",
    "         \"Амелия\", \"Розамунда\", \"Янина\", \"Беатриса\"]\n",
    "\n",
    "# решение здесь"
   ]
  },
  {
   "cell_type": "markdown",
   "metadata": {},
   "source": [
    "## 8. Блок-схемы (условия)\n",
    "\n",
    "Реализуйте код для обеих блок-схем в условии задачи\n",
    "![](data:image/png;base64,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)"
   ]
  },
  {
   "cell_type": "code",
   "execution_count": null,
   "metadata": {},
   "outputs": [],
   "source": [
    "# ваше решение здесь"
   ]
  },
  {
   "cell_type": "markdown",
   "metadata": {},
   "source": [
    "![](data:image/png;base64,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)"
   ]
  },
  {
   "cell_type": "code",
   "execution_count": null,
   "metadata": {},
   "outputs": [],
   "source": [
    "# ваше решение здесь"
   ]
  },
  {
   "cell_type": "markdown",
   "metadata": {},
   "source": [
    "### 9. Сколько чисел совпадает? (условия)\n",
    "\n",
    "Даны три целых числа. Определите, сколько среди них совпадающих. Программа должна вывести одно из чисел: 3 (если все совпадают), 2 (если два совпадает) или 0 (если все числа различны).\n",
    "\n",
    "**Формат ввода**  \n",
    "Вводятся три целых числа\n",
    "\n",
    "**Формат вывода**  \n",
    "Целое число"
   ]
  },
  {
   "cell_type": "code",
   "execution_count": null,
   "metadata": {},
   "outputs": [],
   "source": [
    "# ваше решение здесь"
   ]
  },
  {
   "cell_type": "markdown",
   "metadata": {},
   "source": [
    "### 10. Наименьший делитель\n",
    "\n",
    "Дано целое число, не меньшее 2. Выведите его наименьший натуральный делитель, отличный от 1.\n",
    "\n",
    "**Формат ввода**  \n",
    "Вводится целое положительное число\n",
    "\n",
    "**Формат вывода**  \n",
    "Выведите ответ на задачу\n",
    "\n",
    "**Пример**\n",
    "\n",
    "**Ввод**    \n",
    "15\n",
    "\n",
    "**Вывод**  \n",
    "3"
   ]
  },
  {
   "cell_type": "code",
   "execution_count": null,
   "metadata": {},
   "outputs": [],
   "source": [
    "# ваше решение здесь"
   ]
  }
 ],
 "metadata": {
  "kernelspec": {
   "display_name": "Python 3",
   "language": "python",
   "name": "python3"
  },
  "language_info": {
   "codemirror_mode": {
    "name": "ipython",
    "version": 3
   },
   "file_extension": ".py",
   "mimetype": "text/x-python",
   "name": "python",
   "nbconvert_exporter": "python",
   "pygments_lexer": "ipython3",
   "version": "3.7.4"
  }
 },
 "nbformat": 4,
 "nbformat_minor": 4
}
