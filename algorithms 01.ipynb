{
 "cells": [
  {
   "cell_type": "markdown",
   "metadata": {},
   "source": [
    "# книги"
   ]
  },
  {
   "cell_type": "markdown",
   "metadata": {},
   "source": [
    "* cracking the coding interview"
   ]
  },
  {
   "cell_type": "code",
   "execution_count": 2,
   "metadata": {},
   "outputs": [
    {
     "name": "stdout",
     "output_type": "stream",
     "text": [
      "333 23234 2\n"
     ]
    },
    {
     "data": {
      "text/plain": [
       "[333, 23234, 2]"
      ]
     },
     "execution_count": 2,
     "metadata": {},
     "output_type": "execute_result"
    }
   ],
   "source": [
    "array = list(map(int, input().split()))\n",
    "array"
   ]
  },
  {
   "cell_type": "markdown",
   "metadata": {},
   "source": [
    "чем хорошее от плохих отедяется?\n",
    "* сложность по времени\n",
    "* и по памяти\n",
    "\n",
    "$O(n)$\n",
    "\n",
    "$O(log(n))$"
   ]
  },
  {
   "cell_type": "code",
   "execution_count": 3,
   "metadata": {},
   "outputs": [],
   "source": [
    "a = [5, -10, 1, 2, 3, -6]"
   ]
  },
  {
   "cell_type": "code",
   "execution_count": 11,
   "metadata": {},
   "outputs": [
    {
     "name": "stdout",
     "output_type": "stream",
     "text": [
      "6\n"
     ]
    }
   ],
   "source": [
    "res = 0\n",
    "for i in range(len(a), 0, -1):\n",
    "    for k in range(len(a), 0 , -1):\n",
    "        if sum(a[i:k]) > res:\n",
    "            res = sum(a[i:k])\n",
    "print(res)"
   ]
  },
  {
   "cell_type": "code",
   "execution_count": 26,
   "metadata": {},
   "outputs": [
    {
     "name": "stdout",
     "output_type": "stream",
     "text": [
      "9.81 µs ± 1.16 µs per loop (mean ± std. dev. of 7 runs, 100000 loops each)\n"
     ]
    }
   ],
   "source": [
    "%%timeit\n",
    "\n",
    "ans = -1\n",
    "max_sum = -float('inf')\n",
    "for length in range(len(a), 0, -1):\n",
    "    for start in range (len(a) - length):\n",
    "        sum = 0\n",
    "        for elem in a[start: start + length]:\n",
    "            sum += elem\n",
    "            if sum > max_sum:\n",
    "                max_sum = sum\n",
    "                ans = length\n",
    "ans"
   ]
  },
  {
   "cell_type": "markdown",
   "metadata": {},
   "source": [
    "$O(N^3)$  по времени и $O(1)$ по месту"
   ]
  },
  {
   "cell_type": "markdown",
   "metadata": {},
   "source": [
    "### префиксная сумма"
   ]
  },
  {
   "cell_type": "code",
   "execution_count": 27,
   "metadata": {},
   "outputs": [
    {
     "name": "stdout",
     "output_type": "stream",
     "text": [
      "6.22 µs ± 400 ns per loop (mean ± std. dev. of 7 runs, 100000 loops each)\n"
     ]
    }
   ],
   "source": [
    "%%timeit\n",
    "\n",
    "a = [5, -10, 1, 2, 3, -6]\n",
    "ans = -1\n",
    "max_sum = -float('inf')\n",
    "\n",
    "prefix_sum = [0]\n",
    "for i in range(len(a)):\n",
    "    prefix_sum.append(prefix_sum[-1] + a[i])\n",
    "for length in range(1, len(a)):\n",
    "    for start in range(len(a) - length):\n",
    "        sub_array__sum = prefix_sum[start + length] - prefix_sum[start]\n",
    "        if sub_array__sum > max_sum:\n",
    "            max_sum = sum\n",
    "            ans = length\n",
    "ans"
   ]
  },
  {
   "cell_type": "markdown",
   "metadata": {},
   "source": [
    "$O(N^2)$  по времени и $O(N)$ по месту"
   ]
  },
  {
   "cell_type": "markdown",
   "metadata": {},
   "source": [
    "#### алгоритм - последовательность операций, которое гарантирует решение какой-то задачи за фиксированное время и фиксиронное память"
   ]
  },
  {
   "cell_type": "code",
   "execution_count": 33,
   "metadata": {},
   "outputs": [],
   "source": [
    "def max_sum_subarray(array):\n",
    "    n = len(array)\n",
    "    prefix_sum = [0]\n",
    "    for i in range(n):\n",
    "        prefix_sum.append(prefix_sum[-1] + a[i])\n",
    "    ans = -1\n",
    "    max_sum = -float(\"inf\")\n",
    "    for start in range(n):\n",
    "        for finish in range(start + 1, n):\n",
    "            current_sum = prefix_sum[finish + 1] - prefix_sum[start]\n",
    "            if current_sum > max_sum:\n",
    "                max_sum, ans = current_sum, finish - start + 1\n",
    "    return ans\n",
    "            "
   ]
  },
  {
   "cell_type": "code",
   "execution_count": 35,
   "metadata": {},
   "outputs": [
    {
     "name": "stdout",
     "output_type": "stream",
     "text": [
      "6.42 µs ± 507 ns per loop (mean ± std. dev. of 7 runs, 100000 loops each)\n"
     ]
    }
   ],
   "source": [
    "%%timeit\n",
    "\n",
    "max_sum_subarray(a)"
   ]
  },
  {
   "cell_type": "code",
   "execution_count": null,
   "metadata": {},
   "outputs": [],
   "source": []
  }
 ],
 "metadata": {
  "kernelspec": {
   "display_name": "Python 3",
   "language": "python",
   "name": "python3"
  },
  "language_info": {
   "codemirror_mode": {
    "name": "ipython",
    "version": 3
   },
   "file_extension": ".py",
   "mimetype": "text/x-python",
   "name": "python",
   "nbconvert_exporter": "python",
   "pygments_lexer": "ipython3",
   "version": "3.8.5"
  }
 },
 "nbformat": 4,
 "nbformat_minor": 4
}
