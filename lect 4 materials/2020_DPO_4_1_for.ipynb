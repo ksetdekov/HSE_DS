{
 "cells": [
  {
   "cell_type": "markdown",
   "metadata": {},
   "source": [
    "Центр непрерывного образования\n",
    "\n",
    "# Программа «Python для автоматизации и анализа данных»\n",
    "\n",
    "Неделя 3 - 1\n",
    "\n",
    "*Ян Пиле, НИУ ВШЭ*  \n",
    "\n",
    "# Цикл for. Применение циклов к строкам, спискам, кортежам и словарям."
   ]
  },
  {
   "cell_type": "markdown",
   "metadata": {},
   "source": [
    "Циклы мы используем в тех случаях, когда нужно повторить что-нибудь n-ное количество раз. Например, у нас уже был цикл **While**"
   ]
  },
  {
   "cell_type": "code",
   "execution_count": 81,
   "metadata": {},
   "outputs": [
    {
     "name": "stdout",
     "output_type": "stream",
     "text": [
      "1\n",
      "2\n",
      "3\n",
      "4\n",
      "5\n",
      "6\n",
      "7\n",
      "8\n",
      "9\n",
      "10\n"
     ]
    }
   ],
   "source": [
    "i = 1\n",
    "while i<=10:\n",
    "    print(i)\n",
    "    i+=1"
   ]
  },
  {
   "cell_type": "markdown",
   "metadata": {},
   "source": [
    "Здесь мы проверяем условие *i <= 10* (оно выполнено, *i = 1*), заходим в цикл с *i = 1*, печатаем значение *i*, добавляем к нему 1 иииии... \\\n",
    "Снова проверяем условие *i <= 10* (оно выполнено, *i = 2*), заходим в цикл с *i = 2*, печатаем значение *i*, добавляем к нему 1 иииии... \\\n",
    "Делаем такие же действия, пока *i* не становится равным 11, тогда условие входа в цикл не выполняется, и цикл завершается"
   ]
  },
  {
   "cell_type": "markdown",
   "metadata": {},
   "source": [
    "Как мы уже обсуждали, цикл *While* гипотетически может \"уходить в бесконечность\", если условие, которое проверяется на входе в цикл будет выполнено всегда, например **While True**. Такие зацикливания можно прерывать оператором **break**, НО, это надо использовать очень аккуратно"
   ]
  },
  {
   "cell_type": "code",
   "execution_count": 3,
   "metadata": {},
   "outputs": [
    {
     "name": "stdout",
     "output_type": "stream",
     "text": [
      "1\n",
      "2\n",
      "3\n",
      "4\n",
      "5\n",
      "6\n",
      "7\n",
      "8\n",
      "9\n",
      "10\n"
     ]
    }
   ],
   "source": [
    "i = 1\n",
    "while True:\n",
    "    print(i)\n",
    "    i+=1\n",
    "    if i==11:\n",
    "        break"
   ]
  },
  {
   "cell_type": "markdown",
   "metadata": {},
   "source": [
    "### FOR"
   ]
  },
  {
   "cell_type": "markdown",
   "metadata": {},
   "source": [
    "В Python цикл начинается с ключевого слова **for**, за которым следует произвольное имя переменной, которое будет хранить значения следующего объекта последовательности. Общий синтаксис **for...in** в python выглядит следующим образом:\n",
    "\n",
    "**for** <переменная> **in** <последовательность>:\n",
    "\n",
    "    <действие> \n",
    "    \n",
    "**else:**\n",
    "\n",
    "    <действие>\n",
    "    \n",
    "Элементы “последовательности” перебираются один за другим “переменной” цикла; если быть точным, переменная указывает на элементы. Для каждого элемента выполняется “действие”."
   ]
  },
  {
   "cell_type": "markdown",
   "metadata": {},
   "source": [
    "<img src =\"data:image/png;base64,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\" alt =\"Test picture\" style=\"width: 300px;\"/>"
   ]
  },
  {
   "cell_type": "markdown",
   "metadata": {},
   "source": [
    "Вот пример простейшего цикла **for**"
   ]
  },
  {
   "cell_type": "code",
   "execution_count": 82,
   "metadata": {},
   "outputs": [
    {
     "name": "stdout",
     "output_type": "stream",
     "text": [
      "C\n",
      "C++\n",
      "Perl\n",
      "Python\n"
     ]
    }
   ],
   "source": [
    "languages = [\"C\", \"C++\", \"Perl\", \"Python\"]\n",
    "for x in languages:\n",
    "    print(x)"
   ]
  },
  {
   "cell_type": "markdown",
   "metadata": {},
   "source": [
    "Элементы “последовательности” перебираются один за другим “переменной” цикла; \\\n",
    "если быть точным, переменная указывает на элементы. Для каждого элемента выполняется “действие”.\\\n",
    "Здесь в роли \"последовательности\" у нас список"
   ]
  },
  {
   "cell_type": "markdown",
   "metadata": {},
   "source": [
    "### Итерируемый объект \n",
    "\n",
    "**Итерация** - это общий термин, который описывает процедуру взятия элементов чего-то по очереди.\n",
    "\n",
    "В более общем смысле, это последовательность инструкций, которая повторяется определенное количество раз или до выполнения указанного условия.\n",
    "\n",
    "**Итерируемый объект** (iterable) - это объект, который способен возвращать элементы по одному(не обязательно по порядку). Кроме того, это объект, из которого можно получить итератор.\n",
    "\n",
    "Примеры итерируемых объектов:\n",
    "\n",
    "* все последовательности: список, строка, кортеж\n",
    "* словари и множества\n",
    "* файлы"
   ]
  },
  {
   "cell_type": "markdown",
   "metadata": {},
   "source": [
    "**Итератор** (iterator) - это объект, который возвращает свои элементы по одному за раз.\n",
    "\n",
    "С точки зрения Python - это любой объект, у которого есть метод __next__. Этот метод возвращает следующий элемент, если он есть, или возвращает исключение **StopIteration**, когда элементы закончились.\n",
    "\n",
    "Кроме того, итератор запоминает, на каком объекте он остановился в последнюю итерацию."
   ]
  },
  {
   "cell_type": "markdown",
   "metadata": {},
   "source": [
    "Сейчас сложновато: Наш цикл for проходит именно по итератору! Когда мы говорим:\n",
    "\n",
    "for object in iterable:\n",
    "\n",
    "    do something  \n",
    "    \n",
    "Мы, на самом деле, вызываем метод итерируемого объекта , который возвращает итератор.\n",
    "Таким образом, создаем объект-итератор , по которому и бежит цикл for.\n",
    "Для того чтобы все это увидеть, есть функция iter() В качестве аргумента ей передается итерируемый объект (словарь, список, лист и т.д.) , а она возвращает соответствующий итератор.\n"
   ]
  },
  {
   "cell_type": "code",
   "execution_count": 8,
   "metadata": {},
   "outputs": [
    {
     "name": "stdout",
     "output_type": "stream",
     "text": [
      "<class 'set'>\n",
      "<class 'set_iterator'>\n"
     ]
    }
   ],
   "source": [
    "s = {1,2,3,4,5}\n",
    "print(type(s))\n",
    "print(type(iter(s)))"
   ]
  },
  {
   "cell_type": "code",
   "execution_count": 9,
   "metadata": {},
   "outputs": [
    {
     "name": "stdout",
     "output_type": "stream",
     "text": [
      "1\n",
      "2\n",
      "3\n",
      "4\n",
      "5\n"
     ]
    }
   ],
   "source": [
    "for i in iter(s):\n",
    "    print(i)"
   ]
  },
  {
   "cell_type": "markdown",
   "metadata": {},
   "source": [
    "Посмотрим на встроенную функцию next(). Она должна отдавать следующий элемент итератора. "
   ]
  },
  {
   "cell_type": "code",
   "execution_count": 10,
   "metadata": {},
   "outputs": [
    {
     "name": "stdout",
     "output_type": "stream",
     "text": [
      "1\n",
      "2\n",
      "3\n"
     ]
    }
   ],
   "source": [
    "s = {1,2,3,4,5}\n",
    "s_iter = iter(s)\n",
    "print(next(s_iter))\n",
    "print(next(s_iter))\n",
    "print(next(s_iter))"
   ]
  },
  {
   "cell_type": "markdown",
   "metadata": {},
   "source": [
    "Отлично! мы по одному научились перебирать элементы из итерируемого объекта. Стоит отдельно остановиться на том, что цикл **for**, в Python, устроен несколько иначе, чем в большинстве других языков. Он больше похож на **for...each**, или же **for...of**."
   ]
  },
  {
   "cell_type": "markdown",
   "metadata": {},
   "source": [
    "Например, для Javascript проход по списку с выводом на печать всех его элементов выглядит так:"
   ]
  },
  {
   "cell_type": "code",
   "execution_count": 1,
   "metadata": {},
   "outputs": [
    {
     "data": {
      "application/javascript": [
       "let numbers = [10, 12, 15, 18, 20];\n",
       "for (let i = 0; i < numbers.length; i += 1) {\n",
       "    console.log(numbers[i])\n",
       "}\n"
      ],
      "text/plain": [
       "<IPython.core.display.Javascript object>"
      ]
     },
     "metadata": {},
     "output_type": "display_data"
    }
   ],
   "source": [
    "%%js\n",
    "let numbers = [10, 12, 15, 18, 20];\n",
    "for (let i = 0; i < numbers.length; i += 1) {\n",
    "    console.log(numbers[i])\n",
    "}"
   ]
  },
  {
   "cell_type": "code",
   "execution_count": 2,
   "metadata": {},
   "outputs": [
    {
     "data": {
      "text/plain": [
       "['1', '2', '3', '4', '5']"
      ]
     },
     "execution_count": 2,
     "metadata": {},
     "output_type": "execute_result"
    }
   ],
   "source": [
    "l = [1,2,3,4,5]\n",
    "list(map(str,l))"
   ]
  },
  {
   "cell_type": "markdown",
   "metadata": {},
   "source": [
    "\n",
    "Если же, мы перепишем цикл **for** с помощью цикла **while**, используя индексы, то работать такой подход будет только с последовательностями:"
   ]
  },
  {
   "cell_type": "code",
   "execution_count": 58,
   "metadata": {},
   "outputs": [
    {
     "name": "stdout",
     "output_type": "stream",
     "text": [
      "1\n",
      "2\n",
      "3\n"
     ]
    }
   ],
   "source": [
    "list_of_numbers = [1,2,3]\n",
    "index = 0\n",
    "while index < len(list_of_numbers):\n",
    "    print(list_of_numbers[index])\n",
    "    index += 1"
   ]
  },
  {
   "cell_type": "markdown",
   "metadata": {},
   "source": [
    "А с итерируемыми объектами, последовательностями не являющимися, не будет (потому что в множестве к элементу по индексу не обращаются!):"
   ]
  },
  {
   "cell_type": "code",
   "execution_count": 19,
   "metadata": {},
   "outputs": [
    {
     "ename": "TypeError",
     "evalue": "'set' object is not subscriptable",
     "output_type": "error",
     "traceback": [
      "\u001b[0;31m---------------------------------------------------------------------------\u001b[0m",
      "\u001b[0;31mTypeError\u001b[0m                                 Traceback (most recent call last)",
      "\u001b[0;32m<ipython-input-19-13e12fbf647c>\u001b[0m in \u001b[0;36m<module>\u001b[0;34m\u001b[0m\n\u001b[1;32m      2\u001b[0m \u001b[0mindex\u001b[0m \u001b[0;34m=\u001b[0m \u001b[0;36m0\u001b[0m\u001b[0;34m\u001b[0m\u001b[0;34m\u001b[0m\u001b[0m\n\u001b[1;32m      3\u001b[0m \u001b[0;32mwhile\u001b[0m \u001b[0mindex\u001b[0m \u001b[0;34m<\u001b[0m \u001b[0mlen\u001b[0m\u001b[0;34m(\u001b[0m\u001b[0mset_of_numbers\u001b[0m\u001b[0;34m)\u001b[0m\u001b[0;34m:\u001b[0m\u001b[0;34m\u001b[0m\u001b[0;34m\u001b[0m\u001b[0m\n\u001b[0;32m----> 4\u001b[0;31m     \u001b[0mprint\u001b[0m\u001b[0;34m(\u001b[0m\u001b[0mset_of_numbers\u001b[0m\u001b[0;34m[\u001b[0m\u001b[0mindex\u001b[0m\u001b[0;34m]\u001b[0m\u001b[0;34m)\u001b[0m\u001b[0;34m\u001b[0m\u001b[0;34m\u001b[0m\u001b[0m\n\u001b[0m\u001b[1;32m      5\u001b[0m     \u001b[0mindex\u001b[0m \u001b[0;34m+=\u001b[0m \u001b[0;36m1\u001b[0m\u001b[0;34m\u001b[0m\u001b[0;34m\u001b[0m\u001b[0m\n",
      "\u001b[0;31mTypeError\u001b[0m: 'set' object is not subscriptable"
     ]
    }
   ],
   "source": [
    "set_of_numbers = {1,2,3}\n",
    "index = 0 \n",
    "while index < len(set_of_numbers):\n",
    "    print(set_of_numbers[index])\n",
    "    index += 1"
   ]
  },
  {
   "cell_type": "markdown",
   "metadata": {},
   "source": [
    "Ну если уж прям совсем никак без индексации, то к любому итерируемому объекту можно применить функцию enumerate(), \\\n",
    "которая, как следует из названия, коллекцию занумерует. Здесь мы наделали кортежей вида (индекс, элемент)"
   ]
  },
  {
   "cell_type": "code",
   "execution_count": 89,
   "metadata": {},
   "outputs": [
    {
     "name": "stdout",
     "output_type": "stream",
     "text": [
      "(0, 1)\n",
      "(1, 2)\n",
      "(2, 3)\n",
      "(3, 4)\n",
      "(4, 5)\n",
      "(5, 6)\n"
     ]
    }
   ],
   "source": [
    "set_of_numbers = {1,2,3,4,5,6}\n",
    "for i in enumerate(set_of_numbers):\n",
    "    print(i)"
   ]
  },
  {
   "cell_type": "markdown",
   "metadata": {},
   "source": [
    "Чтобы выдавать это в человеческом виде, можно прямо после for сказать, что мы \"итерируемся\" по индексам и объектам. \\\n",
    "Выглядит это следующим образом:"
   ]
  },
  {
   "cell_type": "code",
   "execution_count": 25,
   "metadata": {},
   "outputs": [
    {
     "name": "stdout",
     "output_type": "stream",
     "text": [
      "0 1\n",
      "1 2\n",
      "2 3\n"
     ]
    }
   ],
   "source": [
    "set_of_numbers = [1,2,3]\n",
    "for index, element in enumerate(set_of_numbers):\n",
    "    print(index, element)"
   ]
  },
  {
   "cell_type": "markdown",
   "metadata": {},
   "source": [
    "### Немного умных слов об итераторах\n",
    "\n",
    "**Протокол итератора**\n",
    "\n",
    "Теперь формализуем протокол итератора целиком:\n",
    "\n",
    "* Чтобы получить итератор мы должны передать функции iter итерируемый объект.\n",
    "* Далее мы передаём итератор функции next.\n",
    "* Когда элементы в итераторе закончились, порождается исключение StopIteration. (Пока представим себе исключения, как объект специального типа, который генерируется в момент ошибки или какого-то терминального события. Например, они появляются, когда мы пытаемся делить на ноль или когда что-то напутали с типами\n",
    "\n",
    "**Особенности**:\n",
    "\n",
    "* Любой объект, передаваемый функции iter без исключения TypeError — итерируемый объект.\n",
    "* Любой объект, передаваемый функции next без исключения TypeError — итератор.\n",
    "* Любой объект, передаваемый функции iter и возвращающий сам себя — итератор.\n",
    "\n",
    "**Плюсы итераторов:**\n",
    "\n",
    "Итераторы работают \"лениво\" (en. lazy). А это значит, что они не выполняют какой-либо работы, до тех пор, пока мы их об этом не попросим. А это классный функционал, потому что очень многие виды данных в память компьютера не помещаются, а \"ленивый\" итератор позволяет эти данные читать по кускам! Так, например, можно посчитать количество строк в текстовом файле на несколько гигабайт.\n",
    "\n",
    "Таким образом, мы можем оптимизировать потребление ресурсов ОЗУ и CPU, а так же создавать бесконечные последовательности."
   ]
  },
  {
   "cell_type": "markdown",
   "metadata": {},
   "source": [
    "<img src =\"data:image/png;base64,iVBORw0KGgoAAAANSUhEUgAABCYAAAPkCAYAAAB1LD8OAAAABGdBTUEAALGPC/xhBQAAACBjSFJNAAB6JgAAgIQAAPoAAACA6AAAdTAAAOpgAAA6mAAAF3CculE8AADMAElEQVR42uzdeXxU9b3/8ffJkI3MkJANEpaMVoIFrIoi1iqLVmoRkLZq7dXa9v4qsYpWqf7uvfTeCt5qN0WsaAn+blut3lq1XhRKLRbZ6sKq3EIqAXXCkkAWCFnIRnJ+fyQZspyTzGRmMpnJ6/l4+JDMnDln5ntmzsz3fT7n+5UAAAAAAADCxAjHRu9+9K9pjiRHltnckt2iIVkyzWxDzfHsDgAAAAC2nRfDaJRhFJvNZoliHMVmXFPx0wu/WEHLABH+2Q71Bm562XRkHdk4xzSNOaahayQzWzIIIQAAAAAEgdkgGcWGqQ2GYa4tGT1z7Ss3G820CxA5QhJMLHhsY3q8oTmmYc6RjOslJdDUAAAAAPpBvWT+yTCNtQ2m1q56YGY5TQIMbEENJu57YkvWGbN5saSFNC0AAACAAWDFEMPx6PL7p5XQFMDAFJRgYsmSl+PKXRmLDcP4N1NmHM0KAAAAYOB0eoxG0zR/kl5d9uiSJTc30iLAQPuMBuieZRsXmtJiSVk0JwAAAIABrMSQHn1q0cwVNAUwcPQ5mFj4s/XZRmzs86Z0jb+PTYgboqSh8UpKjPP+54iJYW8AAAAAsNXc3KLausa2/xpUW9eo+sYzfekEbTCbmm5f8S+zimlVIPz6FEx8/8mNV55p1u8Mye3L8vFxQ3TOqFS5s1M1ZmSKEuNjaXkAAAAAAatraNLhY5XyFJ/Qp0dPqMHHoMKUPGaLvvnMAzP/RisC4eV3MHH3so3fMqTf+rJsekqSvnDxOcrJGk5LAwAAAAi5opKTeueDT1VeWetbhygm5ltP3Tf9eVoOCB+/gol7lr291JTxo96Wy83J0JSJY5SWkkQLAwAAAOh3FZW12rHvsAqLynpd1pT58NOLrn6IVgPCw+dg4u5lby81egklxmYN16UTxmj0iGRaFgAAAEDYHTl+SjsLDutQycleOkbmw08RTgBh4VMwcc/yzbebLS3P9bTMFRe6denEMbQoAAAAgAFn577DenePp8dlTOnbTy+a+RytBfSvXoOJux7beGVMjLba3e+IMTTr8+M1LieD1gQAAAAwYB0oKtP69/arucW0Xcbh0FVPfp8BMYH+1GMwsfBn67PN2Nh37GbfGD5sqL50xXhlpjppSQAAAAADXumJGv3l3f06WXXa8n5T8hhNTV9gKlGg/8T0dKcRG/t8T6HEvBkTCSUAAAAARIzMVKfmzZio4cOGWveBJLcRG8ssHUA/sg0m7lm2caEpXWN1nyPG0JeuGK9kZwItCAAAACCiJDsT9KUrxssRY11AbkrX3LNs40JaCugflsHEkiUvx5nSYrsHzfo8l28AAAAAiFyZqU7N+vx42/tNafGSJS/H0VJA6FkGE+WujMWSsqzuu+JCNwNdAgAAAIh443IydMWFbru7s9r6RQBCrFvt0n1PbMlqNls8psxu6eDYrOGaP3MSrQYAAAAgaqzeuFeHSk5adJaMRocR415+/7QSWgkInW4VE2fM5sVWoYQkXTphDC0GAAAAIKrY9XNMmXFnzGaqJoAQ6xRMLHhsY7oky0FecnMyNHpEMi0GAAAAIKqMHpGsXPvL1Re29ZMAhEinYCLe0By7BadMpFoCAAAAQHTqqb/TUz8JQOA6BROmYVp+4NJTkpSWkkRrAQAAAIhKaSlJSrfp89j1kwAEhzeYuOll0yEZ11st9IWLz6GlAAAAAEQ1+36PcX1rfwlAKHiDiawjG+dISui6QHzcEOVkDaelAAAAAES1nKzhio8bYnVXQlt/CUAIeIMJ0zQsP2jnjEqllQAAAAAMCnb9H7v+EoDAnQ0mDF1jtYA7m2ACAAAAwOBg1/+x6y8BCFyHwS/NbKsFxoxMoZUAAAAADAr2/R/r/hKAwA2RpLtX/DVNjUZ81zsT4oYoMT6WVkKvVm45rk2FVd6/q+ubdaC0XpPHJuml744L2na2eWr0xF9LOt22+1CtJKnw4YvYEQAAAAhIYnysEuKGqL7xTJd7jPi7V/w17emFX6yglYDgGiJJRmNsttTS7c6kxDhaCD4pqz7jDQhC6ejJxn7ZDgAAAAavpMQ4i2Civd8kggkgyFov5Whpzrb+QMbTQvCJ50S95e3npif0y/azkwnRAAAAEBx2/SBDyqJ1gOBrrZhwGFmmafWBjJzO3msfnNC//s8hy/t++pWx+urFDOIZSrUNLZa3J8bG9Mv2RyZzyREAAACCw7YfZLQwzgQQAq29RtPM9usDGWEmj01iT4dJhmtIv2wn00kwAQAAgOCw7QeZDIAJhMKQ1s+XGSfD6HanwxETFS/SndbzJSmeigb97v1ySdK+ktOSpAOl9dq1+ALeIYEGBq7gBgafVjRY3p7hIpgAAABAcNj1g0zT5PphIASGRMsLqWlotrzdl2qJ3Ydq9bttZX4/Dr0LdjuetrlkpL8qMwAAAAAAwRUTLS+kqKKxz4/dV1zX7bb+GrQx2vVWrRIsmVRMAAAAAEBEion2Fzgxa2ivy5RVN3W7rb8GbYwWB0q7z8oxLrP/wh0qXAAAAAAgMtH7llRa0z2YmJidSMP4obq++6U0rgRH0LdjFSKpHyszAAAAAADBFfUX5vsSMOw+VNvttlHDGdem3fqCU94xPCaPTfI5BPClWsVfViFSf1ZmAAAAAACCK2qCifbZNHzhqWjwdq63eWosl5nqdnbrnCcPdXS7vafO/LZPa7Sv5LQOlNZ3qigYl5mgz6QnaMb4YfrqxamWj9/mqdH6fadU19SiT8pbL5M4UFqv+Rem6j+uHyVJWrnluHYU1ejDw6e963clODQuM0H3fzHL5+fasV3aQ5qahmb9+p0yFZ/qPHZH4cMXWT7OytD4mE7LvLmvstvzzU6O0+dGDe2xLXrjb2XGNk+N/nawWgUlp/VxaUOn15idHKfPZMZrSo5Td04bwRECAAAAAAgmAmM19sDv3i/vNgtHV7k/+rDbbf8+e1Svnf3XPjihl3dVWFZhtDtQWq8DpfV6s6BSL++qsAwRjp5stH2O6wtO6cm3SyzHdWjv8PsSSnTsoHcMC/wNAOxe6zlt4c/z75dZhhySVHyqUcWnGvVmQaV2FtXq0fljenwOVs/R14FKt3lq9OL75XqzoNJ2mfbns/VAtV7aUaF7rx7Z58AEAAAAAEAwYXnZgT/VFR054+3PzHsqGrRqa6le3V3h1zp3H6rVXf/9qf6Yl+vTJRL7Sk5r9Z4TPYYIN1+SFnAH3Yq/l0yMGh6nlVuOa9lfS3xa/tXdFUpzDtEPvphlu4xVGOPLQKWP/7VE/729vNfwpWtI8a//c0iSCCcAAAAAIESiZvBLq7P2dh3pY6ea+rQNu86pp6JBd//+U79DiXbV9c1a9lbnzrvdLBO7D9X22LnOTo7rsRP9n386qm/++qDfoYQkZTqtp+QstRmQ8ujJRp9DiXb5W47bXl5jJ8PVc75270se5W857lco0dEv3z7GkQIAAAAAQiSqKybsLj2wuqSgN9nJ1oNhtocSdtNlzv3ccF03MUXutHjvOAvP/q20Wyf5nU+qO/3dW/XEVeNcun7ScG8I0XF8iJ466FaBhCvBoS9NSNGlOUnewS2vX/FRt9eU4bIOJsqqz1i2V8cO/VXjXFpw1QhNdTu1zVOj1z88aRvkvP7hSctLUdYXnLJcPtPmefX2mv/psnRdeZ7Lu63n3y/TH3ZWdHvdxacatb7glGZNSOaIAQAAAAAEE9bhgGWH1eIMv6eiodMAjlZjSfz0K2O7VR3YbWPV1lLLUOK6CSn65S3ubmFD+4CKXSsJ/Dmbb7funsIMuw76N6dm6JuXp3d7rNVryknzfaaSjuFP3rQRnS7PmOp2aqrbqePVrWM5dPXux9WW62yfGaQru0tsnn+/zPI1j8tM0NPfOKfba7798gyNH5mob/76oM/bBgAAAAAEJiou5bCrFLA6w9+xM2oXNlhNFWrV6X/tgxOWZ/2vGufqFhx01NMZ/t64EhxadG2WX495/K8llh30RV/M0n9cP8rn6T/tAoCexuy4bkKK7ZgRC64aYRtqWO0bu3DAqpLBU9GgJy0uwchOjrMMJdr5O5MJAAAAAIBgwlbH6Sqt2AUavnZO/7T3pGVw8B+zR/f4uH3Fdd1u83VgyYvGDPU5SFDbQJf5W453u/3GyWm202HaXTJhN+6Fnd5ClKlup+0lMlb7pqjC90tw/viB9QCh9149ssf2e+2DE0F57QAAAAAA30TFpRxWHX11mK7SjtWgjXYdZasOv9VlCF8412Xb8fVUNNhOVfr1S9N82q471b+ZMVZtPW4ZGCy4KtP2MXaVCXavy+qyD0m648rMXkOUkcmxfRrzo51doLNmz0nLfdvTwKArtxzXs38r7Xb7jZPT/AqDAAAAAACDLJjoK6tBG0cm+3aZxQc21RaXupO8IUT7Wf99xXXynKi3DDLUdrnD7ZdndLrN7jITf8Z5sAtPvjQhpceO9qcW2+6posOqMsGV4LCtyOgrq0tGrAY43eapsQw7rviMy/vv9sqITysaVFTeoHc+qbZ8HeMyE3oMcQAAAAAABBO2Yxz0Vn5fZlExkRTv29UtVqGGJP143VH9eN1Rn9bhSnDo+1eP7BZKqIfLTOzGebDy+ocnLW+fkTusx8dV1JzxKQBoDwGsfGlCSr/se6v9dfSkdQXGq7sr/JrS9ZtTM/Qf14/iKAEAAAAAIRTVFRO9ld+X1nQPJny9VKKnAR97M3lskmbkDvNOI+oPf4KJPUesw43epr20epzVDCc9hQDnj0wIaN9ZXXJhdcmI1f6yu7THF+MyE3T5OS7NmpjMQJgAAAAA0A+iIpiwG+OgN/5M0dkX7RUbmc5YZbhiNTE7UZPHJvkURvgzA4U/7dJbFck2T43l4zJsZhKxe57Txg3r83O0G+cjmPtrXGaCXAkOJcXHyJ2aoJy0OI0fmUgYAQAAAAD9LCqCCbuxAfrSKQ5U4cMXBWU9/sxAYcVudone2F3+4c/zdCU4fApf1hecstx3n8mMt1zWSobL97fwT78ytsfBLwEAAAAA/S/ipwu167DajYkQanaDVgZDqF+Tp6JBfymotLxvaLzvbxVfpz7d9qn1+BRTcrpXLdhVZmS6Yn1+XnbrAAAAAACET8QHE+HqbE7MGmp5u92glX6HBCfq+9zh76vfvV9ue7mE3dSrfR1rw1PRoNV7uld1uBIcum5i94EzP/Uj8JmYnWh5e6BVKAAAAACA4Iv4YMKuw5oUH9qXZjdt56b9VUFZf21DS0ie97FTTZa3b/PUWAYFfXFueu8ByqqtpZYhyPwLUy0vAzlt0x6jhnffD3bjaGz46BSfeAAAAAAYYCI+mLDrsPo6u0ZXVlOIWrEb3PHNgkrby0u6eu2DE7r3JY/l8lbjX/gTttiNpVB8qrHbFJ+eigY9vPZInwaXtKoQSYzt+Xk+/tcSy2k7s5Pj9M3L0y0fY1VBIslysEp3WrxldUnxqUY9/tcSn17XNk+NFq8+rJVbjnOUAAAAAIAQivjBL+06rL7ITo5T8anGbsHCax+c8Hbs1xec0t+LT2uHp0YvfXdcp87vdRNS9KbFmAz/tvqQtn2aqqnnODvNovHaBydUWt2kguI6/e/R095t//IWd7d1WIUE/oYt4zITLAOOh9ce0Y/mjNZUt1OvfXBC//VOqXc5qzbx1+o9J1TX1KIZucO8r99T0aAtB6q0bm+l7eUu91490nbQTH8rSOZ+briWWYQQ+VuOq6i8QTPGD+sU3qwvOKVjVY366Fi99hyp9bbHT78ylqMEAAAAABBM2AvkkofPjRpq2Qn/1/85pH/9n0PdOvldLbo2S+98Ut0tRKiub9bvtpXpd9vKen0OVpcddK1o6Kurz0+2DCYOlNbrm78+aBlkfP3SNP143dFu91ldMmNXGVJd36xXd1dYVkXYWfTFrB5nzLB6HT0NBnrntBHaVFhlGYK8WVCpNwsqu+1jK8ziAQAAAAChFfGXcgQy5eeM8cN8XvbC0d0DBHdavH4yf2xAs2VYjcdw9GRwBmn82sWpPj83V4JDP5ozWs546+WtLpkJ1sCji76YpTunjehxmb5MCfvTr4wNaMDQUA82CgAAAACIgmDCblyEDFfvxSBfvThVN05O86nTfv5I607qrAnJ+sn8scpOjvPreWcnx+mbUzO04KrMbvfZDehpN9uEHV+Dk8ljk/THvFzL8Rra1TW1+Pw8/WmDn35lbK+hxGsf9G1QTndavJ7+xjm2g2H2tL+vm5CiH80ZzRECAAAAAEIsoi/l6GmQyUxXrE/reHT+GF2ak6Q/7T2pj0sbvJd2uBIcGpeZoClup648z9Vjp33WhGTNmpCs598v005PrT4ur+9WyTEuM0GuBIcmZg3tNvZEV6eDOCPHrAnJSh56jl58v7zTZSfjMhP0mfSEbmMtfPXiVP3r/xzydubPTU9QYmyM5SwkVs8zOzlOP/vaWL3+4Ul90tYOHcOj9u1e6k7S7ZdnhPw94k6L10vfHaf1Bae0qbBKn5TXd7u8Izs5TiOTY3VueoLOH5nQL88LAAAAANDKkKSFj29YIiPmoa53Tr0gR1MvYPC//rbNU+O9nGMgj3HQ/jyd8Y4eg5ZAeSoaOoUJo4bH9RgUAQAAAAH9zv37IW37e1H3O8yWpSt+cM0SWggIriE0wcAz1e2U3DzPdu60eNvZOgAAAAAAkS2GJgAAAAAAAOFCMAEAAAAAAMKGYAIAAAAAAIQNwQQAAAAAAAgbggkAAAAAABA2BBMAAAAAACBsCCYAAAAAAEDYEEwAAAAAAICwIZgAAAAAAABhQzABAAAAAADChmACAAAAAACEDcEEAAAAAAAIG4IJAAAAAAAQNgQTAAAAAAAgbAgmAAAAAABA2BBMAAAAAACAsCGYAAAAAAAAYUMwAQAAAAAAwoZgAgAAAAAAhA3BBAAAAAAACBuCCQAAAAAAEDYEEwAAAAAAIGwIJgAAAAAAQNgQTAAAAAAAgLAhmAAAAAAAAGFDMAEAAAAAAMKGYAIAAAAAAIQNwQQAAAAAAAgbggkAAAAAABA2BBMAAAAAACBsCCYAAAAAAEDYEEwAAAAAAICwIZgAAAAAAABhQzABAAAAAADChmACAAAAAACEDcEEAAAAAAAIG4IJAAAAAAAQNgQTAAAAAAAgbAgmAAAAAABA2BBMAAAAAACAsCGYAAAAAAAAYUMwAQAAAAAAwoZgAgAAAAAAhA3BBAAAAAAACBuCCQAAAAAAEDYEEwAAAAAAIGwIJgAAAAAAQNgQTAAAAAAAgLAhmAAAAAAAAGFDMAEAAAAAAMKGYAIAAAAAAIQNwQQAAAAAAAgbggkAAAAAABA2BBMAAAAAACBsCCYAAAAAAEDYEEwAAAAAAICwIZgAAAAAAABhQzABAAAAAADChmACAAAAAACEDcEEAAAAAAAIG4IJAAAAAAAQNgQTAAAAAAAgbAgmAAAAAABA2BBMAAAAAACAsCGYAAAAAAAAYUMwAQAAAAAAwoZgAgAAAAAAhA3BBAAAAAAACBuCCQAAAAAAEDYEEwAAAAAAIGwIJgAAAAAAQNgQTAAAAAAAgLAZQhNgsJv/q/0qKKmzvf8H12Yp76oRAW9n+YZjembzMcv7Ch++KOSvs7C0Xq/sqtAOT0231+uMd2hsapyS4mKUk5agidmJuvWydN4cNrYcrNZ3n//Y8r6H5oym7QLwhV/sU1l1U7fbb5ycpkfnj/FrXbN++ZE85fVh+bxBWvDCJ9pUWNXt9glZiVr9vfE00AA4/mw5WK37/uBRTUMz+yiKv0vue9mjdXsrbe/vy/EVAAgmgAiV4Rpic3tsyLedv/W48reUdvvx2a6modkbVuwoqtWru6V9xXX8ULEx7TyX7X1jUuNpoEA+J84hlsFEpp+fk9f3nFS5xXrQf9Kd1vsssx+OeRx/fLO7qNb2ewF8lwBAfyKYANqE+ozBFLfTtiMW6lDi8bdKWrflitVNk9M0OSfJ+4OosLReOzw18lQ0qKiiQZ4TjfKU19N56IU7PcHybHxPPzThQ7umxVtWMNkFe3ZuuHC4brhwuPfvF7eXa+naIzRwP8pJi/MrsED/H3/uu2ak7rtmpPfvxasP69XdFTRwlH2XLL/ZreU3d7+9t4pRACCYAKJQbmaCbUcsVApL65W/pVRqK839+ddyuj2P3MwE2+cGe0NjDcsfmAiwXeMclrfbBXsYuJzx1vvSLrAAxx/2JfsSwODF4JdAP7L6sWHXEQuGdX+vVE1Ds5zxDstQAgHsS4tAyeoHJvxj12nlvRt57MIku8ACHH/Yl+xLAIMXwQTQj6x+bITy7GFp2zX2Y1Pj6NgFe19aBEqhrH4ZLKw6rZw9jEx2xxyqXzj+gH0JAF0RTAD9yOrHRijPHhaUnKbRQ8QqUApl9ctgYdVp5exhBB/zLEIlQlKOP2BfAkBXBBNAP7L6scHUkpHJKlCamJ1IwwTIqtM6IWsoDROpx7wuodKELD4jHH/AvgSA7ggmgH7Ej43oQaAUOnReo2lfEipx/AH7EgB6x6wcPnpxe7n2FdepoOS0Dp1o9M777Yx3aGxqnKa4nbrpkjRKVBGWDlhhab1uefaA7Xz0BSV1yv3Rh72uxxnv0Et3jOvz+3j5hmMqKDntnXK0XYYrVhOzEjUha2inqemC8bpf2VWhguLWbZa1jamhthLyCSMTNMXt7LcffvzADI1QB3ovbi/X5sKqbu9bd3qC3Klxmp47LGj79vU9J7W3+LTle3ZCVqLcafH66uS0Pk8V+Pqek1q69ojlsWBCVqJWf298t9u3HKzWC++XaV9Jnff5TMlJ0uwLhgf9PU1QEbnHn+UbjmmHpzok79uux/WN+0/pHyV18lQ0dJrOMsMVK3dqnKa4XQF/l/jyndibh+aMDkm7810CgGACll/C/zhWb9vhq2loVkFJnQpK6vTH3Sd0++UZQe14Ifp+OC5de8T7d1JcdBQt5W89ruffL+/0Y7Wjsuombapu0qbCKr2yu0K3X56uvKtGBLTNxasP6819lbafTU95vTzl9Vq3t1Kv7KrQd67I1A0XDg9yJyvR+6OZmQaC23nt2BkJVdtuOVitZW8Vd9qW1XtoU2GVXtlVoUXXZvep49UefHTs+Ftp/y5Zt7dSsyelaPnN7pC2c2FpvR5bX6xNhVXd7ttRVNv6n6cmoOcxMTtRr+4++3dSPIWakXb8eXF7uZ7ZfNz2vdv1fXvXjJF+h9vtIfMOT43t57H9u6Ssukk7imr1yu4K/d9Z2UE/rkfzvgQAgokItOCFTzr9WGs/43tJTpI+mzXU++N0y8Fq7S6q1abCUyooqdMzm49JEuEEbDnjHd7OdE5acCpscjMTtPuHF3S7ff6v9qugpM72TGmwPyvOeIemjXN1q1J4cXu5dnhqtOVAtcqqm/T4WyXaVVSrVbed26fO1MKXPN4z2xmuWM2elKJJ2UO9P1Dbz7jtKqrVpsIqFZTU6cE/FunT8oagfjY7BktjU+N4cwerXbt0XkPR8cjfelz5W0q9n8UZucM6VUZYvYfu+4NHedMy/QrVlm845v1eaP+MfHZkgqa4XTonPd72Pbtub6VON37i92fkhguHd2uvxasP69XdFd06m4+/VeJ9/ROyEvXlSSmaOT5ZkryBxbq9lRoad1iPzh/T5+NdR8w2oIg6/nR87zjjHbpuYoqmnuP0vse6/gZat7dSBcfqdff0EX59br/z3Me2FW9T3E5v0NFecbRub6XKqpu8QX8gx4gbJ6f5/P4uLK33PtcpOUlBq2zguwQACCZspTtjvT9WL8lJsv0hOu08l6ad11pS2P4F/szmY5qckxSUksZg6/ojOdj8+YIfrMamxnnPjGS6YiP6tXQMJXo6U3brZem69bJ0FZbW65lNx7Rub6U2FVZpwQv+dbw6hhLOeIe+NjlVP/zyKMugJjczQbqq81nxYAeHOWkJ2lFUGxX7ciDp2HnNCEG75m89rsffKvF2gP599qhux+uO76HX95zUz9cXe0M1Z7zD5w5JhmuIt+M/IzdZsy9IsfyMdNzei9vLtXTtEW0qrNLyDceCHnQ/8uejeu69Mm9n0ypsWXXbud7Pd1FFfZ+3dcOFw/XgH4u8f49JJZgIllAff+572aN1eyu9v4UemJXd7b3b8TfQ8g3H9Pz7ZfKU12vp2iP6bFaiz5UTGc4hqmts0bRxLs0cn2wbNLQHbzddkqalaw5rR1Gtfr6+uF+qJtq/f8qqm+ROT9BDc8dEzL4EgEhATaWNR+ePUeHDF2nVbef6fHbs0fljvGMGvNbl7BTQ7suTUrwdrtkXpETs67jvZY83lLhr+kgtv9nd64/Q3MwELb/Zrbumt3a0NhVW6b6XPT5vs2Mo8dCc0ZahRFfTznNp9ffGa0buMEnSM5uPKX/r8aC0wXWTUuSMd8gZ79D0tvUjcLdelu6dZnL2pOB/RvK3lHo7W+vvPb/XEPmGC4frN9/6jPc5Pf5WibYcrPb5tRQ+fJFWf2+87rvGtxL3Wy9L142T0yRJ6/ZVBvW1L3jhE28oMSErUS/dMc72O27VbefqoTmjA+6Ate/DKQM0sI9UoTz+HDrR6A0l7po+UqtuO7fX9+5914zUQ3NGe6sCF77k+7F99ffGa/cPL9Dym90+hQy5ma3BgDPeobLqpqAd03uydM1h7/fPilvcQR1TjO8SAKBiIujar432VDQMzM7kNSO5zCTM8q4aEfD4CuH24vZy74/Wb33e/3FV7rtmpGobm/Xce2Vat7dSU9zlvZ6BXrz6sPfyjYfmjPb7DNmq287Vrf91QDuKapW/pVQzxycH/MNy2nkuy0toELj1954fsnXXNDTLnZ6gB2Zl+/yY3MwErbjF7R1k9oX3y0LayW4fm6HjYJyBah8LoD2U8aVaKRil6stvdmv5zbyngy2Ux5+Olzj5c3y/4cLhqmlo1tK1R+Qprw9JxU/Hz2R7BWJRRaPfj5+Sk6QdRbWaeo6z12UXvPCJdhTVekPxYA90zncJAFAxAaAPXtnVWhE0ISvRp6oFKz/88ihvhVH7+uwUltbrzbYzxzdOTutz2W77Gbaahmb99t0yduQgdvf0EX53LnIzE3T75RlSW7WPr1UTA037GXCgJxmuWL/Cu3a3XpburVB7ZQBXj774f8ap8OGLev0+eeTPR73VgT+4NisqBtsEAIIJABFvy8Fq71nXmy5JC2hd7Y8vKKnrsZO37u+ts2844x369hUZfd5ebmaCrpvYWla++UAVO3OQmpKT1OfOxX3XjPSOe/Hm3sqIet3tZ3upmoMvZk9K6XNlwG1tAV5ZdZNe3F4esW2wfMMx76VPd00fyTSeABBCXMrRi8LSeq37e6UKSk6rtLqp2zRWzniHxqbGKSkuRjlpCQENEgZEgq1tHfoMV2zAP9JuvSzdOw3d1gNVtqXxOzytocWlOUkBl9BeNylFr+6uUFl1k17fc5KzX4MxmHAHdgnGlJyk1tkHSk779bj8rcf1j7ZL/Q6daOw21W17BdGErKE63dgc9Nc9NjWOjhV8dtW4vo91MO08l9zpCfKU12tfcZ3Pj9tysFpbD1SpoPi0ymqbu13KlOGKVYZziDJdsUp3xup0kxmy1//6npPeAZNvnJxGoAcABBPhs3j1Yb25r7Lbj8eOahqavWFF+4jKQDRrn9Itwxmcw0eGc4h3bnrbbda2fgbbZ8sJRMfw41hVIzt0EDonPbCZIT6bldgWTPjW4crfelzPv1/e43tcbZVDHf8PhIsz3hHwGCoTRrYGE74EeIWl9d4panv7/imzOEkUilCifSrSGbnDmG0MAAgmwqOwtF7/949F3i8+Z7xDl+Yk6ZKcJH02a2i3L+sXt5erpqFZ/yip046i2l5/fIYT04UiUO0Du07IGhqU9fkyYGz7WbOJ2YlB2mZinwdMQ+QLtErGGe/wedmOUy6qrdpiitulc9Ljuz2P1/ecVE1Ds/YV12nnodqgDnwJ+GNsalzA6xga59vnpON0vGqrimj9nDg1xe3sVCVXWFqvHZ4alVWfUUHJae0squ3x5FFffwM+vfm4ahqaNSErkfFYAIBgInyWrjnsDSVmT0rRXTN6nuKtY2ns4tWH9SpThQLAoPfIn496Q4kJWYladG12j2ehOwYVL24v956xBaJVYWm9N5Rwxjv0tcmpPQ6onJuZ0On32Pxf7Q9q9URhab13Wmp3eoJ+/rUcdhIA9BOCiS6WbzjmvSTjrunRN7Um04UiUO60+LZpB08HZX3t63Gn2ZfX9+Va5Z632bqenLQ4duggFOjYImXVZ6ReKie2HKz2Dprn69ScwEBx6ETg1WTlNa0VEElx9uOsP9YhlOjLNNDB9tj6YnnK6+WMd2jFLe6gTwsKALDHrBxdrGubktDfubuBwaJ9RoKymjNBWV/7etrXa7nNJEenH7qB6Dj7x8hhBBOD0aflDQE93tM2yHFP5e6vtVXOZbhiCSUQcWoamgOeDtfTFm7kpFl37gtL671jStx+eUbYQ4kFL3yiTYVV3pCEUAIA+hcVE12/SNuu6Z2eO4zGACxcNW6YnnuvzDsNXCCj/L+4/eyAgD2NAD/F7dKOolrtLKpVYWl9QD8Y26d4zHDFRsyMHIWl9Zqz4iPL+xjXxX+ts7z0PXhur6qb4nb2EF60hh/Tx/Fd0l+6jufRzhnv0Et3jKOj6aeeZkrqzZaD1d7fU1PPcdp8DmvO7rswnwhavuGYNyT5wbVZzNYEAGFAxUSQhWKKN2AgmXaeyzut4Su7AhtPpf3xE7ISe/wBPPuCFDnjHappaNZv3y0LqIP/ZltVVCR1GNf9vdLy9gxXrL59RQZvyj4EC6/vOdnnDowvYVqggj2g32DZr1a+NjmVUKIvx529lSos7dsArC+8X+Y9RoWykx+M6UI7Dgp+1/SRPoXt+VuPK/dHH2rBC5/wRgEAgomBx+5sDRBtbrokTWobq+GRPx/t0zoe+fNR71gP7euzk5uZoOsmpkiSXt1d0edO5dI1h1XT0CxnvCOiOvR243ncNDmNDlcfPb35uN+dri0Hq/X8+2fHjQh0OsWeOkr5W0rZSX7uG6sZsTJcsT0Opgh7ZdVNemx9sd+Py9963Ft9cNPktJA8t8LSes3/1f6AZ655fc9J72f6xslpPldutM/oVDqAZ2EDAIKJCOdOb/2Rv7mXubS7fkHe+l8HCCUwaNx6WbpmT2oNCp57r0zLN/g3Be3yDce8AwPOnpTi0xmqR+eP8X4+l6494nc4seCFT7xnVPOmZUZUh36nxZngDFcs4+D0kTPeIU95vV+drsLSev143VFvsPXArOyev0vaBnPdfKDKr+e2ePVhPbP5GBUTftpq086h6hgPhs+IJG0qrPLr+P76npPeUG1CVmKPx6iOl0L5u42FL3kCno3j9T0ntXTtEdU0NGtG7jAuiQMAgomBZXbbWVlfv4zztx7Xd5772Nvhae84AdFu+c1uzWgbi+WZzcd038ueXs9AF5bW676XPd6y2Rm5w7T8ZrfP21xxi1vu9ATVNDRr6dojPlVrbDlYrfm/2u89g3fX9JHKu2pExLTz63tOWnZS75o+gjdhH+VNy/Qe52f98qNeB/l7cXu5vvPcx97R+n0ZGO+rbR3isuomn8q9X99zUvN/td873TTfJf4pKO5eVdRbxxj2xqbGecPnZzYf04IXPun1+P7In496O/q+TLWZm5ng/Q55/v0yn8LmxasPa+naI97PYk+DJvf2XfT05uOqaWjWhKxEBqgFgAGAwS+7uO+akdrhqdaOolo9s/mYCkpOa3rusE5ndF/cXi5PRYPW7a30lo464x3Km5apoopGecrrVVBSp9wffXg28JiU4lcHDPDH4tWHvR0ayx/tXd6PdvwdSHHVbed6RzJft7dSWw5Ua9o4l6a4nd0+Mzs8NdpyoNrbye7LFIq5mQlacYvbO8/8c++Vad3eSs2elKJJ2UO91zIXltZr4/5T2lVU6w0kFKFTAO+16XAFMujoYFBYWq/vPPexZXl/ezCVv6VUnvJ6fff5jzUjd1inY73Ve8ifKQ2nnefStz6foefeK9OmwirN/9V+fXlSimaOT/aGGq/vOalPyxu0qfBUp7O/N05O08TsRC1de6T1fd/hs+tOT9D6e8+33Gb+1uN6/K2SgI8DkTi96T+Ode8093aJGFqPzY+/VWIZfi6/2a2hca3fLZsKq7SzqFbXTUzR1HOc3s/AloPV2l1U2+k97E5P8HmqzQdmZWtfSZ3Kqpu0dO0Rbfu0ptP6C0vrtcNT0+37w52eoLunj9Bv3i1VWXWTXt1d0ek78AfXZvUYQP/23TLvZSC+fi4AAAQT/f9F/X/GeTtb7f+1/0Dsyhnv0HUTU/TtKzKUm5mgxasP04AYVFbddq7ytx7X8++3zrCxbm+l1u2ttP3MZLhidfvl6X2uWsjNbO2YLV59WG/uaw0H2y8LefCPRZaPmZCVqO9ckRmRI613HLmeDlfw5F01QiOHxek375aqoKSu12P9hKxELbo2269xJX745VFKinO0hdx1Kiip6zE4mJE7TLddnqFp57n04vZydpIfneuuHWvCu+B4dP4Y5aTFeY/v7QGA3bF29qQU3TVjpM+XyuVmJug33/qMN2zubf0Zrljd1GEsiN+8y1gsABAtDEla+PiGJTJiHup659QLcjT1grGD+sfO5sIqeU40dhpgKcMVK3dqnKa4XZp9QQqDz0W4+b/ar4KSOqZdDILlG1qrjKw+MxOzEjUha2hQKxYKS+v1yq4KFRS3brPj2XF3eoImjEzoVr0RSaymCY3Es9mReqxvfw/NHJ8cUKi15WC1XttdIU9FQ6fKCGe8Q2NT4zTF7dRV40I3mGa0sxp4+v/d/hnaMwTH9x2e6m7H2glZiUF5D9ut352eIHdqnC7JSYqoy/D4/RP5tv39kLb93SIkM1uWrvjBNUtoISC4qJjowa2XpXPGBfCng9DPl0nkZiZE9Yj7G/ef6nbbbZczPWikHeunneeikxxCBV0u4wjljCkc30dG7PoBAAMbg18CwAD1jy6jzs+elEKHC+igsLS+U5WLM95BeAcAQASKkSTDMBqt7mxubqGFACBMdnSYJtQZ79BdMzibCHS07u+dL+G4biLhHYDgsOsH2fWbAARmSNsnrFhm9ztr6/jcYfDoOqp3u95G9wZCYcvB6k7XWV83kfFsgK4KSs7OWuOMd+jbV1AtAXRlNQ4LemfbDzKMYloHCL7WSznMmGK/PpAAgJA6fKLB++8MVywdLsBCaYfw7muTUwnvAASNXT/IbDZLaB0g+IZIkimVWH8gG2ghRL3V3xtPI2DAGZMarwxXrOoaW3T75el0uAALE7KGqqCkThOyEqN6IFwgEMtvdmv5zbSDv2z7QTEOKiaAEGgNJuKaio1Gh8UHkooJAAiHaee59M6DE2kIoAePzh/DNIcAQsK2YiKuiWACCIEYSXp64RcrJLNbLFjfeEZ1DU20EgAAAIBBoa6hSfWNZyzuMRta+00Agq3DdKHWA7kcPsZgOQAAAAAGB/v+DwNfAqHiDSYMUxusFvAUn6CVAAAAAAwKdv0fu/4SgMCdDSYMc63VAp8eJZgAAAAAMDjY9X/s+ksAAucNJkpGz1wrqb7rAg2NZ1RUcpKWAgAAABDVikpOqsFyfAnVt/WXAISAN5h45WajWTL/ZLXQOx98SksBAAAAiGr2/R7zT639JQChENPxD8M0LFPA8spaVVTW0loAAAAAolJFZa3Kbfo8dv0kAMHRKZhoMGX7gdux7zCtBQAAACAq9dTf6amfBCBwnYKJVQ/MLJe0wmrBwqIyHTl+ihYDAAAAEFWOHD+lwqIyu7tXtPWTAIRITNcbhhiORw0ZjVYL7yygagIAAABAdLHr5xgyGocYjkdpISC0ugUTy++fVmKa5k+sFj5UclI7uaQDAAAAQJTYue+wDtnMQmia5k+W3z+thFYCQivG6sb06rJHJVl+AN/d49EB+zInAAAAAIgIB4rK9O4ej93dJW39IgAhZhlMLFlyc6Mh2X4I17+3X6Unamg9AAAAABGp9ESN1r+33/Z+Q3p0yZKbG2kpIPRi7O54atHMFYa0weq+5hZTf3l3v07V1NOCAAAAACLKqZp6/eXd/WpuMS3vN6QNTy2auYKWAvpHTE93mk1Nt5uSZW3TyarTemPTPionAAAAAESM0hM1emPTPp2sOm3dB5I8ZlPT7bQU0H+M3hb4/pMbr2xu1la7+x0xhmZ9frzG5WTQmgAAAAAGrANFZVr/nn2lhCS1tOiqZx6Y+TdaC+g/hi8L3b1s47cM6bc9LXPFhW5dOnEMLQoAAABgwNm573BPA122do5iYr711H3Tn6e1gP7l8GWhHX95bs/UL30rRjKm2y1z+HilSsqr5Rwar2HOBFoWAAAAQNgdOX5Kb+84qL0Hj/W4nCnz4RX3z3ySFgP6n+HPwncve3upIeNHvS2Xm5OhKRPHKC0liRYGAAAA0O8qKmu1Y99hFRaV+dApMh9+atHVD9FqQHgY/j7gnuWbbzdbWp7zZdn0lCR94eJzlJM1nJYGAAAAEHJFJSf1zgefqryy1qflTenbTy+a+RwtB4SP0ZcH3fXYxiuNGP3OkNy+LB8fN0TnjEqVOztVY0amKDE+lpYHAAAAELC6hiYdPlYpT/EJfXr0hBoaz/j0OFPyDHHom09+n4EugXAz+vrAhT9bn23Exj5vStf4+9iEuCFKSoxTUmJ82//j5HDEsDcAAAAA2GpublFtXWPbfw2qrWtUvY9BRJdO0Aazqen2Ff8yq5hWBcLPCHQF9yzbuNCUFkvKojkBAAAADGAlhvToU4tmrqApgIEj4DKFpxbNXJFeVeaWqaWGjEaaFAAAAMBAYsholKml6VVlbkIJYCB+RoPovie2ZJ0xmxdLWkjTDjzby+O8/74snQwJAAAAg8KKIYbj0eX3TyuhKYCByQjFShc8tjE93tAc0zDnSMb1khJo6gFwRP7I5f33wvOraRAAAABEo3rJ/JNhGmsbTK1d9cDMcpoEGNiMUG/gppdNR9aRjXNM05hjGrpGMrMlI56m738EEwAAAIg+ZoNkFBumNhiGubZk9My1r9xsNNMuQOQwwrHRu1f8Nc1ojM1WS3O24TCyZJrZpmnGsTtCa8X+5Ifa/71w/KmltAgAAAAiqvNiGI0yjGKZMcWmVGLGNRU/vfCLFbQMEOGfbZpgEFmw0/T+e9Wl7HsAAAAAQNjF0AQAAAAAACBcCCYAAAAAAEDYEEwAAAAAAICwIZgAAAAAAABhQzABAAAAAADChmACAAAAAACEDcEEAAAAAAAIG4IJAAAAAAAQNgQTAAAAAAAgbAgmAAAAAABA2BBMAAAAAACAsCGYAAAAAAAAYUMwAQAAAAAAwoZgAgAAAAAAhA3BBAAAAAAACBuCCQAAAAAAEDYEEwAAAAAAIGwIJgAAAAAAQNgQTAAAAAAAgLAhmAAAAAAAAGFDMAEAAAAAAMKGYAIAAAAAAIQNwQQAAAAAAAgbggkAAAAAABA2BBMAAAAAACBsCCYAAAAAAEDYEEwAAAAAAICwIZgAAAAAAABhQzABAAAAAADChmACAAAAAACEDcEEAAAAAAAIG4IJAAAAAAAQNgQTAAAAAAAgbAgmAAAAAABA2AyhCRD1Vs5bJcO8o/UPY5fy3riURgEAAACAgYFgAkD0yJ+3RDIfkqHfa8Gaf/L/8XM/kpQl07hRd77xFg0KAAAAhB6XcgCIDivnXSuZ9we4FpekYTLMp2hQAAAAoH8QTADBsGre48qfa2rVvMdpjDAx9BNJwyRVSXqkjyt5tu0f41urLwAAAACEGsEEEAymeUmn/6N/5c/Nk9r3gfEHLVizr0/ryXtjiaTitp16v1bNnUjjAgAAAKHFGBOIfne+sUDSgtBuxHBKZtv/0f+MO1rbX1WKMZ8McF3PSuZDkoapxfh+6N87AAAAwOBGxQSAyJY/50FvtYS0uc/VEu06Vk0Y5tepmgAAAABCi2ACQKQfxr7u/adpBGfQSsN4qe1f7VUTAAAAAEL1i54mABCxOo4tIWNX8Kb4NH/t/adhfp2GBgAAAEKHYAJAJLu+w7/XBm2trZeDbG77axgzdAAAAAChw+CXiB75cx6UjJ/3vJCxS3lvXBrQdlbN/W+Z+kbnG832/1+i/Lmm7yszlraNadDH1zw3T4amy9RkSeM73FMlGQdkarekV/pcSbBy7jdkaGXbNJy+teXKedfKMO+RdImk7LZbN0v6vfLW5Adtf6+aO1Gm5p59OuYrwX1DGZskc3rbfp3BBwwAAAAIDSomgEiUPzdP+fN2SlrZFpKM77LEMMm8RIZ5hwxzvfLnvhHyQRxXzZ2o/LlvyDDXS5rbIZSQpOmSVmrV3P8O2vZM46YOfwU+6GVXnYOO6QyCCQAAAISGQRMMIgt2nj2Tv+rSwbXvV85bJcO8IygVE5ZBwbydrWMdhGj9nbe1pG06S0mqkqE/ydRmGfqbt3O+cu43ZBjjJc3pMGNFlUzdqTvX/D7obZk/N0/Sz89WVhi7pJY/yDDWtYYI+klbWCGZxrNtU7gG2A5zN7UFHsFbp+1+VeDVLQAAAAAscSkHEElWzlslmXe09pP1e0mPWFYKnA0flrSFBj+SlC1DK7VyrgIOJzpaNe9xmeaitr+qJPPHylvziy5LzVP+3DckzZVh5gZpyxd7/2WYu0LS3oZZKFNtwYQ5mTcgAAAAEHxcygFEivw5D7ZWKqj17P2CNf/k0+ULeWvyZWiWpP2ShsnQyqBdlpA/942zoYSxS4auUN7aX9g8j3mS7pShuwPe7sp513Ya98LQ30LS5qZR2OGvXN6EAAAAQPBRMQFEgtaBHv+9rbP8rO7085KCBWv2adXcr8nUeknZbZdWzAuw135J2wCXkrRGeW/0vr5gDX5pmOd2+Ksq6ONLnH2NJR3+GM8bEQAAAAg+KiaAiGD8c1uFQHGfx1Jo7bw/3PbX3OAN5mgsbauG6D+mcUmH7R8I4XY+6fR3a6UGAAAAgCAimAAigWle39YJfzag9bRWLBS3dbpvCvBZVUm6M6oHhOw6zWrnSg0AAAAAQUAwAQx0rZUNrZcRmHon4PUZ2tz6j0AHczQOBO3SDAAAAACDFmNMAAOdqSvPZgHmeuXPDXR97SvLpnEBAAAAhBsVEwAAAAAAIGyomAAiiaFJoZuBAt2snHdthxKT0E1LCgAAAAxiVEwAA13HzrBpzqZBJBnmrrN/mONCuJ3Og10SCgEAAABBRzABDHStneHWmTQM42IapNs0nsOCN/VpV0ZWhz/20/AAAABA8BFMAJGhtULA1PWh64RHkNZpPKu8f3ccIDSYDDO3w1+FvA0BAACA4COYAILCrAnt6o2n2v41TC3G92lvSdIHHdrnkhC1e4dgwthNkwMAAADBRzABBKcDG9qz6Xe+8ZYM/b61f2zeoZVzv0GjG5vO/rNTZUNwrJo7UTIv6bCNV2hzAAAAIPgIJoCg9JHbxoCQOa5Pl1rkz83z4XGPeMc5MLSyz+FE/pwHlT/3lPLnborsNu8UFEwP+iUupnFTh782M/AlAAAAEBoEE0DwOslVkobJ1NM+PWbV3InKn7dE+XOPSlrZ6yUaC9bsk6ml3u0YWqlV8x73+Tnmz81T/rydkvFzScMivs1bg4I1NkFCEJgzOuzgTbzJAQAAgBB1p2iCQWTBTvNsp/jS6Nn3+XMebOtsB+tT8XstWPNP/j+PeUsk86G2v/ZLxksy9U7bQI2tQYSpK2Ual7RdejC9w6OrZOpO3bnm971uZ+W8a2WYT0ka33ZLsQzjJZlmofLW5J9dbu43ZJijZRgXy9R0Sdl+vcbgtesa5a2ZF5p9PzdP0sq2F7VLeW9cGpT1tu6rvd72zVszigMIAAAAEBpDaAIgSPLeWKL8eZLM+1tDA/MhGZLy57be3x4LGWbHR+2XYfxJMn+tPB8vFWgNOs7XynmrZJhfl5Qt01zU1lFf2Xlh4+x2WystNss0nlJeW1gS8W2+Jl/58+5oHQvCvEQr513rDYICYvyzt+FM40+8uQEAAIDQoWJiMInWiomBZtXciZLxz61VCua4LpdN7Jd0TIaxSy16M+BO9Kq5E1svYTBnSBrXqSpCqpKMAzLMQpnmB8pb+4uobO9OVRNBqs5ovbwmW1KVDF3B+BIAAABA6NA5HUwIJhCt8uftbJtBI/AgoeMlOabxrO58YwENDAAAAIQOg18CiALms23/GNbrIKK9r+uOtn9UKcZ8krYFAAAAQotgAkDky1uTLxm7JEmG+fU+Tx2aP2/J2cthjCe4hAMAAAAIPYIJANHB1L91mLL1J31cSXu1xH7lvbGERgUAAABCj2ACQHS48423JOMJSZJpHOvjWqpbp2417qFBAQAAgP7BAIiDCYNfAgAAAAAGGComAAAAAABA2BBMAAAAAACAsCGYAAAAAAAAYUMwAQAAAAAAwoZgAgAAAAAAhA3BBAAAAAAACBuCCQAAAAAAEDYEEwAAAAAAIGwIJgAAAAAAQNgQTAAAAAAAgLAhmAAAAAAAAGFDMAEAAAAAAMKGYAIAAAAAAIQNwQQAAAAAAAgbggkAAAAAABA2BBOR6o5tuVG9PQAAAADAoEAwEamam0q0YNdm5e24IaTbydtxgxbs2qzmphIaHQAAAAAQbAQTkerXV1ZLLW/LNFZrwY7gBxR5O27Qgh2bZRqrpZa3W7cHAAAAAEBwEUxEsjMNyySzSjKmtQYUOz8KOKDI23GDFuz8qDWQMKZJZlXrdgAAAAAACD6CiUjWWsXQMTQY3+cKik4VEhrf4Z5lVEsAAAAAAEKFYCLSnWlYJlONnW9sr6DwIaDoFEgY0zrdZ6qRagkAAAAAQCgZNEEUWLDjIclYYr+AuUWGlrVVQ7TteXO+TC3qFkZ0ftwSrZqylAYGAAAAAIQKwUQ0+Oe/uTQk4YikYUFca5XO1I/mMg4AAAAAQChxKUc0+PWV1ZIZ5EsuTMaWAAAAAACEHMFEtGgdC6IqSGtjJg4AAAAAQL8gmIgWQa2aoFoCAAAAANA/CCaiSXCqJqiWAAAAAAD0G4KJaBKUqgmqJQAAAAAA/YdgItoEVjVBtQQAAAAAoF8RTESbgKomqJYAAAAAAPQvgolo1LeqCaolAAAAAAD9jmAiGvWpaoJqCQAAAABA/yOYiFb+VU1QLQEAAAAACAuCiWjlV9UE1RIAAAAAgPAgmIhmvlVNUC0BAAAAAAgbgolo5lPVBNUSAAAAAIDwIZiIdj1XTVAtAQAAAAAIK4KJaNdj1QTVEgAAAACA8CKYGAysqyaolgAAAAAAhB3BxGBgWTVBtQQAAAAAIPwMmiC87vnllozm5ob0WCPW2Wwarhiz2dViGi5ThsuIaXGpxRwajO3Utjjinj/oXNRsKt5hqOH282qWJcU0N7IHAEScGOO0oZhqs8WsjjHM6hbDUW2YZ2qajZZqhyO+/Kl7p5XRSAAAAJGDYKIf3HTTy46RU1PHmw5HrmTkmi0aHxNj5pqmxkvK6K/nsb08TtvL43VZeoMuSyeTABC1yiSz0DBi9re0mIVGjPYbzc2Fx7ad2P/KKzc30zwAAAADC8FEiNz12MYrYxyaLlMzJE2XFBvu59TUYug3B5P0nfNqFRtjspMADDZNkjbL0KaWZm1+5oGZf6NJAAAAwo9gIkjufeztS1ocxkyZmi5phiTnQHye28vjqJYAgFY1kjbJ0OaYZnPjLx+4ehdNAgAA0P8IJgJwz882jlasvm5Kt0i6NBKec1OLQbUEAFjbaUgvDVH8S08suuIozQEAANA/CCb8tGTJxiHlLt0iQ1+XNIcWAYCotNYw9FLaKf1hyZKZZ2gOAACA0CGY8NGdT2x0DzGNeyXzjmBephETYyjZmai4WIfihjgU2/H/sQ4NcThofADo4MyZZjWeaVZTU+f/NzY161RNnVpagloVViMZz54xzF+uvH+mh9YHAAAIPoKJXix8bOP5itH3Jd0ZyHoS42OVljJUKa6hGj4sUcNdiUoZlqgUVyKNDABBVFldp8qqOp2srtPJqjpVVp9WReVp1TU0BbrqlWrRkysemPkRrQwAABA8BBM27npi40VGi75vGPp2Xx4fF+vQqMxkjcpM1ugRKcpMddKoABBGpSdqdOR4pY6WntLR0lNqbOrbzKGmod+a0pPP3D/zQ1oVAAAgcAQTXdz92IYcIybmx5Ju8/ex6cOTNG5shkZnJisrYxiNCQADWElZlY6UntKBQ2UqP1nbl1W8YLa0/PvTD1xTRGsCAAD0HcFEBwuf2PiAWsxHZBhxvj5maEKccnPSlZuToZHphBEAEImOlVersKhMhUVlOl3vx5TKptmoGOOHK+6f+RitCAAA0DcEE5LuXr7pWjWbjxiGpvj6mNycDI3LydBnRqfRgAAQRT4+UqEDbSGFr0xTO+Qwfvj0fTPeogUBAAD8M6iDiTt/8U5mbEzjI6ah7/r6mEnnZemi8dlKTR7KuwcAotiJU6f14f5i7T1Y4vuXqqn/19QS98OVD36hlBYEAADw8TfUYH3hCx9/e55k5MvQSF+Wv2j8KF00PlvDnAm8awBgEKmqqdeH+4v14f6jvj3A1DHJzFvxg6vfoPUAAAB6NyiDiXuWbVpqyvyRL8teOmGMLhqfraGJcbxbAGAQO13XqA/3F2tnwWEfv2CNh59aNOMhWg4AAKC3302DyD2/3DjaPGPmS8bs3pZ1Z6fq8xfmKGM403wCAM4qO1mj9/YUyVN8woelzXXGECPvqXtnHqHlAAAArA2aYOLeZVtuaFFzvqQRPS3nHBqnz3/Orc+eO4J3BwDA1j8+Oa73/tejmtO9zuJxPEaOvF8umvY6rQYAANDdoAgmFj6x8QGZ+kVvy118/ih9/kK3hjhieGcAAHp1prlF7+3x6IOPfBh/wtCDTCsKAABg9TMpyt29bNMjhszFPS3jHBqvqy87T+7sVN4RAAC/eYpP6O3tB1VzuqHH5UwZjz69aMYPaTEAAICzojqYuOeJTc+Ypvm9npY5d3Sarr5snIYmxPJuAAD02en6Jr29/YA+OVLR8xevYf7qqfuvvosWAwAAaPt9FK0vbOHjb78kw/h6T8t8/nM5mjJpLO8CAEDQ7Nh7SO/9b1Fvi720YtHMb9BaAAAAURhM/PPPXncNjXW9Khmz7JZxDo3XNVPHKSdrOO8AAEDQFZWc1IZtB3q5tMNcf7qp+sZf/8sN1bQYAAAYzKJulMfeQon0lCR99ZoLCCUAACGTkzVcX73mAqWnJPWwlDGr9TsLAABgcIuqiomFyzb+XtItdvePykzW7Ks+q8R4xpMAAIReXUOT1m39h46WnrJfyDT/sOIHV99CawEAgMEqaoKJe554+xnTNGwHujx3dJpmX/VZxRgGex0A0G9aTFN/3voPfdzDoJiGYfzqqftnMCAmAAAYlBzR8CLuXrbpEUmL7O6fcO4IXfeF82UQSgAA+plhGMrNyVB1bYPKTtbaLTZlype+E7fjL799mxYDAACDTcQHEwuf2PiAIf2n3f0Tzh2hL16ey54GAITVuaPTegwnDOmqy677du32vzz3Lq0FAAAGk4guIbh32ZYbWtS82u7+z4xO0/X/n727j26ruvP9/9lynh/cAAklgZLcDnEoCQOJHWgZSJhhpStNfER/P0pDKNPVobXkCxRoejO3QxlIWmg7UFIoHUZSOp2HS0kZylywEpoFiyFJgRmwnbSLhGmcll+YtnaAMKVOKAkQ7d8f51iWZcmWZMlHR36/1spaej46+xxZ2R99997LzuEoAwCqxtZdL+uVIYZ1hFT3ye+uW/Y4LQUAAMaKwAYTX/zuM2fY99Uh6YO57j/91A/o/7nsXOaUAABUlZS1+r9PvzTUhJivmXFquv/GP/0NrQUAAMaCwC4Xat+38XyhxMwZU5noEgBQnV+8xmjVJR8ZainRD3rfcQAAAGPj/0dBfNNf3LRjo2RW5bpv2pSJLAkKAKhqkyeO16pLPqJpUybmeYRZ5X7XAQAA1L7ABRM33PNvYSt7W777L7twvmZMn8yRBQBUtRnTJ+uyC+fnvd/K3nbDPf8WpqUAAECtC1Qw0Xr3c6dKJm9568f+eK7mzj6JowoACIS5s0/Sx/547hCPMHH3uw8AAKB2BSqYGB96904ZnZbrvg+fcYqWLjqTIwoACJSli87Uh884JfedRqeND717J60EAABqWWCCievv3bHCGn0h133TpkzUn10wn6MJAAikP7tgft75JqzRF66/d8cKWgkAANSq4FRMnLB35v8P3VmaMonJLgEAwTRl0nj92QVnlfQdCAAAEHSBCCZu+M4z/8sYLc113+KzT9e8OSdzJAEAgTZvzslafPbpOe8zRktv+M4z/4tWAgAAtajqg4nrv/30XKVy/1I0bcoEfey8eRxFAEBN+Nh58zRtyoTcd6bsndd/++m5tBIAAKg1VR9MmFDoDhmT839pH/vjeRpXF+IoAgBqwri6kD72x3kCd2MmmFDoDloJAADUmqru1V/3nWfOl3RNrvvmzTlZH/nwBzmCAICa8pEPf3CoIYrXeN+NAAAANaOqgwkj3ZTvvo+dRzUrAKA2DfUdZ1L5vxsBAACCqGqDiRu+/czZxupzue5rOudDmnXSNI4eAKAmzTppmprO+VDO+4zR52749jNn00oAAKBWhKr4neX9Rej8BXM4cgCAmjbkd12IqgkAAFA7qjKYaP3OM/Mkteb+j9rpmjJ5AkcOAFDTpkyeoPMXnJ73q9L7rgQAAAi8qgwmxllzY777qJYAAIwVQ33nDfVdCQAAECRVF0xs2PDMOMm25Lpv0VmzVT9tEkcNADAm1E+bpEVnzc5zr21xvzMBAACCreqCiTc/oDWScs5sSbUEAGCsGeK7b9rh6bqKFgIAAEFXdcGEtbn/k9Uwd5ZO/sAUjhgAYEw5+QNT1DB3Vu47jdbQQgAAIOiqKpj40qbnT5fUnOu++fn+UwYAQI0b4juw+Yt/88wZtBAAAAiyqgom3tfxnNUSUyZN0B+dcQpHCwAwJv3RGadoyqQ8K1KNp2oCAAAEW1UFE1b5h3EAADCWNcydWdR3JwAAQFBUTTBx47f/rVFSU+7/jBFMAADGtiG+C5u871AAAIBAqppgIlVn/jTX7TNPmqrTZk7nSAEAxrTTZtZr5klTi/oOBQAACILqGcphtTzXzfPPpFoCAIAhvxPzfIcCAAAEQTXNMXFprhvPOPUDHCUAAIb+TryU1gEAAEFVFcHEdd9+5mJJ07JvnzC+TrNn1XOUAACQNHtWvSaMr8t11zTvuxQAACBwqiKYCNXlLkE9nWoJAAAK+m7M910KAABQ7apjKIfNXYJKMAEAQIHfjZbhHAAAIJh8DyauvPJf6qTcv/Kc8cEZHCEAAAr7blzufacCAAAEiu/BxGkXnrxA0vjs2ydPHK9TT57GEQIAIMOpJ0/T5Injc9013vtOBQAACBTfgwlbV9eQ6/ZTZkzh6AAAUMR3ZL7vVAAAgGrmfzCRUs5fd2ZMJ5gAAKC470hDMAEAAALH92AiFMr9n6iT6idzdAAAKOI7Ml/YDwAAUM38r5iwqZz/iTppOsEEAADFfEeGQpaKCQAAEDhVsFxo7oqJGVRMAACgYr4jraViAgAABI+vwcQXv7trlqRZg95UyGgGFRMAAOQ0Y/pkhUIm112zvO9WAACAwPA1mDhx4vjMXLd/YBqhBAAAQ8n3XZnvuxUAAKBa+RpM1NnQ9Fy3Txhfx5EBAGAI+b4r8323AgAAVCtfgwlrxk3L+Z+tcQQTAAAMJd93Zb7vVgAAgGrlazARsidy/qoznooJAACGlO+7Mt93KwAAQLXyNZhIWZN7KAcVEwAADCnfd2W+71YAAIBq5WswYUKGigkAAEqQ77sy33crAABAtRrn58atUtOlwcudUTEBAMDQ8s4xoRTBBMaWWDghY1vcK6ZT0bYmGgUAgsXXigml7JRcN48jmAAAYEh5vyvzfLcCVSHutCnuWMWb19MYVSThPMRxAeCnEE0AAACAinM7vQ4NUYWsvNV8zK2KhVfQIABGG8EEAABALYg5a91fvZ0dVffeEs5CydzqdX47Fd16d6DaNu7sUNyxijlra/LcseZ+71K9jP0iHyYAo41gAgAAoCb+V2f65lZYXHXvLWVuklTv9YI3B7B1F2e1cW1pbXtKUtK75ijuRPlAARhN42gCAACAGpDSdG9O8fqqel8JZ6GsXeNeMZ2KtsXL3KmOSIpUeC/q021cq6y5X8Z6Q21Mi6Q4HyoAo4WKCQAAAFTSVzPCkq00R5UaUDVhG6maADCaCCYAAABQGQlnoaxWe9e6FW3bQKNUMast/VdMCw0CYLQQTAAAAKAyMueWsGYbDVLlWpNbJO13r9jGmp3sE0DVIZgAAABAZRi7OuPaIzRIEI5ZRoBkRDABYFQw+SUAAKicuPMLSQuybm1VNOlOrOcuI3mtrJZLtjHjMfsldUnaln7syN9LVEbLZbUk6z31SuaArHZLesQba1+O/ex/faOLFEnuy/G830qak+d53YomT8+9veb1krlr4I0283VtEe8+qWgyXP5j37w+Y9/2l9Suw+7zoF51p6JtTRU4Z72Xty2KO4UOceiVVatXhTC8mLNWRrHck5fm2a9YeIW3vGdjRlvvlLSl5M9NSttltM67tpw/YgBGAxUTAADAp9Cieb2snpe167JCCXkdQ0dSTHGnbcSBRDzcISkmq7U5Op31km2UsS0y9knFnTY3MMHImEv6LzKMo6wSzkLFnTYZ+6T3OckMt5ZLiinhPFTSa7sB0v70Z8MNmACgoqiYAAAAlRNNnp0REPT/ih8LJyTr/fJsOqXUwzLmCUWS+7zlJVdJZrXXyXIUd9pK+lU/Ht4g2du9aoJeGW2T1U4ZPZuuYIg5a2XMAknNXkDiyGq5Yk7hv3ZHk2d7Ez0+6gUf+2V0Rc4qiYHPOz3d0SzmudGtd0u6e8BtsXBCxmvTaNJUwdHv/7Xd2q6Rn0s59jnXvpfznM0+d63Z7C1PWn7uubZl2P2KO1FZ3dVfWZHx+ZEkq2965/BaxcJHS3q/1uySsV6AZy7J2+4AQDABAAAC6kvpTo8xmxRp+/KAe90O+T5Jd/cHC3IUD28oalWHzPDDaIukO3N29vvDhw3eEom3SZojo5hijgoOJ9xQ5Yp0wGD1qBLO8OFEKYFGtXMnTazP6OzHOe3LIBG+x60wktwhSPYORZPZoUHYqzJyZGxDSdsxqQNSOttqpOEBVBpDOQAAwGjr+yV246BQIpsbRCTdK0X8Ih5vXt//S7PZqEjy6oI6+9FkXEYf90rZ62UUK2pYRyS5T0ZXeM/vCycWjqlQQpJXgdJnP6d8GcSdtv5QwnTK6CKviiTXeRyW1Cqj60valg39LOPaHIY2ASCYAAAAtceazQVXP1hzf7qDVMjyhe6EmrcWvZ3B4UK3pHqvNL6U5w8dTtRqKCFJdsCcB4c44UfcoI3eXBJyJyttaypgmFC85PMpe6JSq4s5BgAIJgAAQC1JFjXuPbOTZHKtWJDNXOsNI+gueT4At0P3Ne+aU/QvxsOFE7UcSrjHaUl/p9Z0ccqXrWE3VmQFldy6M7Y7m7YHUEkEEwAAYLRVdoUGa1d7nanNI3odd16Ebq9zfWXRz88XTtR6KIFK6HWX2S2y+mdETE//ZyrvkrYAUBYEEwAAoHa4VQkLvM7UcyPvm2mn1zNbUtLzc4UThBIo/kQ8wASiAGoZq3IAAIDakTkW3tgnFXdG+np9L1b6L8bZq3W4CCUAAPBQMQEAAAAAAHxDxQQAAKhNRouqoiIhe04JV9+cE1RNoErZ/gkvTeoA7QGgkqiYAAAAtcPo2f5+lV3l+/vJNdFlIUuJBr5Pq939x8Q2cGIGUsbwJdNLcwCoJIIJAABQO9zqA3clDWMW+/pe8q2+MdxSorXAZC41qdM4MQMmFl6RdTyfpVEAVBLBBAAAqDWdkiSr1b51+IdbErTWwwlr92dcW8ApGTAmdX7GtW6GGwGoNIIJAABQW6y537tUr5S5adS3P1wo0afc4URIR6rmGLQmt0jqL/+PO9GAn1VjayiDDc3PuNbJHxUAlUYwAQAAaktr21My2iJJMrZFMWftqG270FCiTznDCWu7quxI7ExfMibg80yYsTX5o7HLMk6sn/JHBUClEUwAAIBadGd6BQyjWMnhRLx5veLO7xV3dgz72GJDiT7lCieseaX/fZdQoRBz1g6aW2BEMjq01q4O9ulkvXlLtKTopyachYGqGHHPgb7hN72Kbr2bPycACCYAAACKFUnuk9VGrwS/XkYxJcL3FB5IOFHFwx2SuUtSfcVCiXKGE61tT0mmr+z+toKfH29er3i4Q0YPyeibZTsGboe2bxLMBeUNPUbdNi+gaCz4PIqFVygWTsjqeUmxwIQTIa3MuLaTPyYARsM4mgAAAFREvHm917Ef1GVT3IlJkoy2KJK8Ovfzwx2Sbczz3F5Z8ym3M56vo57colj4sIy93+3s23WKO1fJmB/J2i5Fk/H+V3XWytgzZMxiWS13l0q0GvY9uiHGb2Uzl1bUAlntVdzpu96taPL0PM/9RfrXaTvgnr7X6JXRRQWHHNbeI6OYpDmyel6J8PeVsh3enA/9oYsxDbJ2vqTlbvCS3vjWsp4D1myTsS3etSslPVXG8yhzQ0oHB3HHDvnQ4Y5nzpAlGVfcWS3J8c6jRslukzFPpI9NLLxCJnW+bGi+OxTCZk76uX/IlS3y7mMR++VKKpoMj+yYZVS39M/XAgAEEwAAYCyyR0f8Em5wcbZi4YSMXeN22O06r4Mey+6xZoQDvZJ2ypr7FW17KjBN1prcopgjGX07va9GUtx5KKvzmXmtW0Y7lTL/MGTQU4qQvU9Wa9yqlYAP54gmw0o4D8lqrRvomOWyuqs/gLLuOWQGtO1OyexQtG1DIPbRHfLkBSqms+znAwDkYfzc+A33PL1BJnR79u0XnjtXF557JkcHAIA8Xnjpv/TCS6/m6MunNn7vy5dtoIVySDgLZc2Vkr1U0ny3KiIziDAHZGyXrN1TE+Pq4+ENefa1WzI9stot2WcGVFNUpLMbTvRXTZiNgemk59+fFQrZv5A1DYMrekynOx+F2S1jHwncMptxp01SX9LSOqCqCMET6fiKpIu9z//irHt7Jf3KO2/3yNpu1dmHFVu6l4aDH6iYAAAAY+Q/6cl9kvaNmf2tlgAgs2pCapYU7GDCrSKovUqCWHiFZL1QwnQq2kYoEdjPfuc1svYuSbOHeFR9f1hhF8tISpkbFen4phJN36IRMdoIJgAAAFA5keQ+xcIPu1UTtlFxJ8ov8VXI2C/2X7GbaZCyBAQrZe1PctzTo0TTnIpss6Xj67L21hKfXS/p05IIJnL+Levozhn2GPMJxRu300Ajw6ocAAAAqPD/OO19Xum4JNNCg1QZd8WUviEcSYKjMsnfWT1Uke1FO1fK6MYRvko3By6vQ0UeZxTzNUETAAAAoKIiyX2SvcO9Yhvd+S9QNfqrJXpZiaPsekat82/tDTmWN+6S9FcK2XOVaDJKNBmF7Lmyul5G93lL4fa9xz0K2a9wyPLqLvD4ogQM5QAAAEDlRbferbhzibuiReptGqSKGB11V6Sxd6g1yUoc5XVocPm/ea1C28pe+aZXIXvFoAkt3etMcln8B+W17HWdK1b9MgYRTAAAAGB0RJNhGqEKRZJXS7p6VLfZ8kKDTrzXox9cfKTGW7d70IoY1pa/YsKd8DL71l+xykYZWdudY01Lhr6UCUM5AAAAAIyuzRd2adzkrYq0365rn51euzuaszqi/OX/KVvPSVVxPQUeX5SAYAIAAACAD3321CbJbNC4ib+p2YAiV3VEyLzCwQ9izznHcatE9csYxVAOAAAAAKMvvvRxRdp3SWaZpA2qm3SLIu3f0PvHN9XQEI/Bv7KPdBWHlo7rZHSTpIZhHrlYkQ5bwCtuU8h+pehhH63ti3TCrJGxyyQzP2sujS5JB2S1R5ub/rpsrenHNjOPW6Rj+OMLggkAAAAAAWK0SVbLvMsT3AqKSesUad9UEwFFyLySNfdDVxna7AsFhBLFWK1U6DVJny84HEiZbyml1e6cCybXoxokNchotSIdN0rmxwqlvlPynBd+bDO3ngFhSJ3dxYe4TB8VmgAAAACAL+JLH5e0P+vWei+gCP4Qj8HVEcFekaal4+tKmedyrAAylHrJXquUeVLRzmsCsc38Bq7CweSiZUMwAQAAAMA/xv7v/J3LmggoMqok7MgrJqy+X5bKi37bFEp9Z9hHRTvuldGt7nEpyWxZ+3/U0vH1gp/hxzaHbvyu3McVI8VQDgAAAAD+GTjXRC71AR/ikVElERp5xcTmpgckPTDgNnfeib/NeuQeJZqWlGUPWjq+LqubctzTK9mfyJpd3vvqG3bRLOninFUORreqpaMn/fhq2uawQm9LNsdxBcEEAAAAgGDLnGsiv4AGFLZLMou9ywcCd2yinStl7a057umSMTcp3jRwuIo7vGGv99xrZO1dWZNUSkbfVGv7rrxDIfzYZmHH8sDA44pyYSgHAAAAAH/Flz4uFTyRYLCGeFizy/2VXz0K2a2BOzbW3pAzIAjZK4ZdYSTe+KBC9uPe/g88hqnQl6pqmwX1nu1WbwLMXu+4okyomAAAAADgv8KqJgZ2NINQQZFr6EVQuJUL2UMjemXMTYo1FVZ5EFu6Vy0dfzV4qIn9VM6VQPzYZqHcaos5fFjLj4oJAAAAAP4rrmoiU+2s4lF17Moct/1k2KqFbG44s2fQcYt0fKU6tgm/EUwAAAAAqA5Gm0bwbAKKcstVwWJCW0t8rW05Dvj8qtgmfMdQDgAAasj27inLFemwtASAgHaEyyHoq3hUt3jjgyU+s2fwTamzqnabGFVUTAAAAACoRVRQVD0zfWxsE8MhmAAAAABQi3olu0HvHztDiaUbqZook9b2RWV8te6q3SZGFUM5AACoISvn/GHn97582Z/SEgACKdp+uax5bISv0itZhnCUrxO/eMAtJ8waSXuLfiVjl0km6zb9skq2CZ9RMQEAAACgOlitG8GzqZAov2cHd/b1+aIrGKKdKyXziRzJwfYq2SZ8RjABAAAAwH/R9ssls6yEZxJIVEqi6Vs5JpCcrZT5VsGv0dq+SNbe5875McCenEuA+rFN+I5gAgAAAID/iq+WIJAYHd/NcdtqRdp3DlvFEO28RinzqKSGQfcZs6nKtgkfMccEAAAAAH+5c0sUWi0xdueQaG1fpJRulcyaAh69uIDlo3tkdYc2Nz2Q9xGJpm8p0nGxpNVZvfxlSuk5Rdp/Imt2DXiNlo7rZLRK1q7O/aLmB0MuAerHNkEwAQAAAGAMK6xagkktT5hlMlpTxlecLaMvSHpgyEclmpoV6dg6OChQvWTWyGiNIh1/W+A2tynR+PlhH+XHNuEbhnIAAAAA8M/wc0swZKMaJJqaJfODEbxCr6zucF+nircJXxBMAAAAAPCPNX+Tt1NJIDFQnd0l2YfL+Io9svp+4UFB4+dlzCckbSsqHJC2KWT/RJub/rrod+jHNjHqGMoBAAAAwB/R9stltWBwp3KMD9nIJ7Z0r6SrvH/+cFe12O4ux2lXytrFkpkvaXbGo7okHZDVHtXZh733HaxtYlQRTAAAAADwR+bcElbvythvEEgERF9YUOvbxKggmAAAAAAw+tIrcdheSZt0gkACGKsIJgAAAACMPhtaJ6U2UCEBgGACAAAAwOhqeaFB77/TTCABQAQTAAAAAEbd5gu7aAQAfVguFAAAAAAA+IZgAgAAAAAA+IZgAgAAAAAA+IZgAgAAAAAA+IZgAgAAAAAA+IZgAgAAAAAA+IZgAgAAAAAA+IZgAgAAAAAA+IZgAgAAAAAA+IZgAgAAAAAA+IZgAgAAAAAA+IZgAgAAAAAA+IZgAgAAAAAA+IZgAgAAAAAA+IZgAgAAAAAA+IZgAgAAAAAA+IZgAgAAAAAA+IZgAgAAAAAA+IZgAgAAAAAA+IZgAgAAAAAA+IZgAgAAAAAA+IZgAgAAAAAA+IZgAgAAAAAA+IZgAgAAAAAA+IZgAgAAAAAA+IZgAgAAAAAA+IZgAgAAAAAA+IZgAgAAAAAA+IZgAgAAAAAA+IZgAgAAAAAA+IZgAgAAAAAA+IZgAgAAAAAA+IZgAgAAAAAA+IZgAgAAAAAA+IZgAgAAAAAA+IZgAgAAAAAA+IZgAgAAAAAA+IZgAgAAAAAA+IZgAgAAAAAA+IZgAgAAAAAA+IZgAgAAAAAA+IZgAgAAAAAA+IZgAgAAAAAA+IZgAgAAAAAA+IZgAgAAAAAA+IZgAgAAAAAA+IZgAgAAAAAA+IZgAgAAAAAA+IZgAgAAAAAA+IZgAgAAAAAA+IZgAgAAAAAA+IZgAgAAAAAA+IZgAgAAAAAA+GYcTQAAAIDAioUTMrbFvWI6FW1rolEAIFiomAAAAMDoiDttijtW8eb1NEYVSTgPcVwA+IlgAgAAAJXndnodGqIKWU1zL5hbFQuvoEEAjDaCCQAAgFoQc9a6v3o7O6ruvSWchZK51ev8diq69e5AtW3c2aG4YxVz1tbkuWPN/d6lehn7RT5MAEYbwQQAAEBN/K/O9M2tsLjq3lvK3CSp3usFbw5g6y7OauPa0tr2lKSkd81R3InygQIwmpj8EgAAoBakNF1G6g8AqkTCWShr17hXTKeibfEyd6ojkiIV3ov6dBvXKmvul7HeUBvTIinOhwrAaKFiAgAAAJX01YywZCvNUaUGVE3YRqomAIwmggkAAABURsJZKKvV3rVuRds20ChVzGpL/xXTQoMAGC0EEwAAAKiMzLklrNlGg1S51uQWSfvdK7axZif7BFB1CCYAAABQGcauzrj2CA0ShGOWESAZEUwAGBVMfgkAACon7vxC0oKsW1sVTboT67nLSF4rq+WSbcx4zH5JXZK2pR878vcSldFyWS3Jek+9kjkgq92SHvHG2pdjP/tf3+giRZL7cjzvt5Lm5Hlet6LJ03Nvr3m9ZO4aeKPNfF1bxLtPKpoMl//YN6/P2Lf9JbXrsPs8qFfdqWhbUwXOWe/lbYviTqFDHHpl1epVIQwv5qyVUSz35KV59isWXuEt79mY0dY7JW0p+XOT0nYZrfOuLeePGIDRQMUEAADwKbRoXi+r52XtuqxQQl7H0JEUU9xpG3EgEQ93SIrJam2OTme9ZBtlbIuMfVJxp80NTDAy5pL+iwzjKKuEs1Bxp03GPul9TjLDreWSYko4D5X02m6AtD/92XADJgCoKComAABA5USTZ2cEBP2/4sfCCcl6vzybTin1sIx5QpHkPm95yVWSWe11shzFnbaSftWPhzdI9navmqBXRttktVNGz6YrGGLOWhmzQFKzF5A4slqumFP4r93R5NneRI+PesHHfhldkbNKYuDzTk93NIt5bnTr3ZLuHnBbLJyQ8do0mjRVcPT7f223tmvk51KOfc617+U8Z7PPXWs2e8uTlp97rm0Zdr/iTlRWd/VXVmR8fiTJ6pveObxWsfDRkt6vNbtkrBfgmUvytjsAEEwAAICA+lK602PMJkXavjzgXrdDvk/S3f3BghzFwxuKWtUhM/ww2iLpzpyd/f7wYYO3ROJtkubIKKaYo4LDCTdUuSIdMFg9qoQzfDhRSqBR7dxJE+szOvtxTvsySITvcSuMJHcIkr1D0WR2aBD2qowcGdtQ0nZM6oCUzrYaaXgAlcZQDgAAMNr6fondOCiUyOYGEUn3ShG/iMeb1/f/0mw2KpK8uqDOfjQZl9HHvVL2ehnFihrWEUnuk9EV3vP7womFYyqUkORVoPTZzylfBnGnrT+UMJ0yusirIsl1Hocltcro+pK2ZUM/y7g2h6FNAAgmAABA7bFmc8HVD9bcn+4gFbJ8oTuh5q1Fb2dwuNAtqd4rjS/l+UOHE7UaSkiSHTDnwSFO+BE3aKM3l4TcyUrbmgoYJhQv+XzKnqjU6mKOAQCCCQAAUEuSRY17z+wkmVwrFmQz13rDCLpLng/A7dB9zbvmFP2L8XDhRC2HEu5xWtLfqTVdnPJla9iNFVlBJbfujO3Opu0BVBLBBAAAGG2VXaHB2tVeZ2rziF7HnReh2+tcX1n08/OFE7UeSqASet1ldous/hkR09P/mcq7pC0AlAXBBAAAqB1uVcICrzP13Mj7Ztrp9cyWlPT8XOEEoQSKPxEPMIEogFrGqhwAAKB2ZI6FN/ZJxZ2Rvl7fi5X+i3H2ah0uQgkAADxUTAAAAAAAAN9QMQEAAGqT0aKqqEjInlPC1TfnBFUTqFK2f8JLkzpAewCoJComAABA7TB6tr9fZVf5/n5yTXRZyFKige/Tanf/MbENnJiBlDF8yfTSHAAqiWACAADUDrf6wF1Jw5jFvr6XfKtvDLeUaC0wmUtN6jROzICJhVdkHc9naRQAlUQwAQAAak2nJMlqtW8d/uGWBK31cMLa/RnXFnBKBoxJnZ9xrZvhRgAqjWACAADUFmvu9y7VK2VuGvXtDxdK9Cl3OBHSkao5Bq3JLZL6y//jTjTgZ9XYGspgQ/MzrnXyRwVApRFMAACA2tLa9pSMtkiSjG1RzFk7atsuNJToU85wwtquKjsSO9OXjAn4PBNmbE3+aOyyjBPrp/xRAVBpBBMAAKAW3ZleAcMoVnI4EW9er7jze8WdHcM+tthQok+5wglrXul/3yVUKMSctYPmFhiRjA6ttauDfTpZb94SLSn6qQlnYaAqRtxzoG/4Ta+iW+/mzwkAggkAAIBiRZL7ZLXRK8Gvl1FMifA9hQcSTlTxcIdk7pJUX7FQopzhRGvbU5LpK7u/reDnx5vXKx7ukNFDMvpm2Y6B26HtmwRzQXlDj1G3zQsoGgs+j2LhFYqFE7J6XlIsMOFESCszru3kjwmA0TCOJgAAABURb17vdewHddkUd2KSJKMtiiSvzv38cIdkG/M8t1fWfMrtjOfrqCe3KBY+LGPvdzv7dp3izlUy5keytkvRZLz/VZ21MvYMGbNYVsvdpRKthn2PbojxW9nMpRW1QFZ7FXf6rncrmjw9z3N/kf512g64p+81emV0UcEhh7X3yCgmaY6snlci/H2lbIc350N/6GJMg6ydL2m5G7ykN761rOeANdtkbIt37UpJT5XxPMrckNLBQdyxQz50uOOZM2RJxhV3VktyvPOoUbLbZMwT6WMTC6+QSZ0vG5rvDoWwmZN+7h9yZYu8+1jEfrmSiibDIztmGdUt/fO1AADBBAAAGIvs0RG/hBtcnK1YOCFj17gddrvO66DHsnusGeFAr6SdsuZ+RdueCkyTtSa3KOZIRt9O76uRFHceyup8Zl7rltFOpcw/DBn0lCJk75PVGrdqJeDDOaLJsBLOQ7Ja6wY6Zrms7uoPoKx7DpkBbbtTMjsUbdsQiH10hzx5gYrpLPv5AAB5GD83fsM9T2+QCd2effuF587VheeeydEBACCPF176L73w0qs5+vKpjd/78mUbaKEcEs5CWXOlZC+VNN+tisgMIswBGdsla/fUxLj6eHhDnn3tlkyPrHZL9pkB1RQV6eyGE/1VE2ZjYDrp+fdnhUL2L2RNw+CKHtPpzkdhdsvYRwK3zGbcaZPUl7S0Dqgqgj9a2xcppVsls2aIR+1RomkJjYUgo2ICAACMDW4ncd+Y2d9qCQAyqyakZknBDibcKoLaqySIhVdI1gslTKeibYQS1eCEWSajNTQEah3BBAAAAConktynWPhht2rCNiruRPklvgoZ+8X+K3YzDVIG0c6VsvYnOe7pUaJpDg0UtL9lHd2SZg/+7JhPKN64nQYaGVblAAAAQIX/x2nv8+btkGRaaJAq466Y0jeEI0lwVCb5O6uHCn6NOrtLsg/TmFXhUJHHGcV8TdAEAAAAqKhIcp9k73Cv2EZ3/gtUjf5qiV5W4ii7nhy3dRf87NjSvUosvUqJJqNEk5HV9TSpb7oLPL4oAcEEAAAAKs+dUDTpVk6k3qZBqoiRtwKOvYOVOMoux6/s5jWaJZAflNcKO74oBXNMAAAAYHREk2EaoQpFkldLunpUt9nyQoNOvNejH1x8pMZbt1vS4gG3WNvNSRdA1nbnWNOSY1kmVEwAAAAAGF2bL+zSuMlbFWm/Xdc+O712dzTnr+yU/wdTT4HHFyUgmAAAAADgQ589tUkyGzRu4m9qNqDIVR0RMq9w8IPYc85x3Kh+KRuGcgAAAAAYffGljyvSvksyyyRtUN2kWxRp/4beP76phoZ4DP6VvZKrOEQ6viLpYklzsoaQ9Er6lYx2SWb7iN5DtPMapewCGTtfMg2SpkpqyHpUl2QPyZpdqrMPK7Z0b1HbaG1fpJT5lqTVQz/Q/ECJxs8PuKml4+sydplkzpdU7+37T2XMjxRvfLD087VxuyIdwx9fEEwAAAAACBCjTbJa5l2e4FZQTFqnSPummggoQuYVWZvVYS+7qYp0/r1kP+V1xHOpl7RYVosle5MiHdtkzPcKDij6g4JLZG29O9eCGeoZDZJpkNEypcyNinT+eFCAMJRU6EuSXV1UK7ihzI2SZme9t3pJq2XtakXam5VYetUI2rrHfX1Pnd3Fh7hMHxWaAAAAAIAv4ksfl7R/cCfabNC4ScEf4jG441+JFWkaJHvtEKFELqtl7cNq6fh6QY+25gte9UJ9Ce+vXrLXKtKxtSJt3Nq+SJH2nZK+OSA0yMmsGeH7GLgKR7GVIMiLYAIAAACAf4z93/k7tDURUGRUSdiuKnpf9TK6teBwYuRWK9L+o8J6qanvSNo2/ANTZyllnvSGAxXxPjq+UtouDDh+XXx4y4dgAgAAAIB/4ksfl4YsiQ96QJFRJRF6exS2t0dWd8iYTyjRZJRoMjLmzyX7sDffwkCFhBPGfj/rGO2R7MOyukNW1ytkz01vK9FkZHV97mNq1qi1fdGwexBbuleJpuYBrynzgxyvtyxPlcQ2GfPn7vNyBRxmfond57dzH1eMFHNMAAAAAPBX5lwTwwcUAZuDwnZJxpuI0h6ocDvep3jTzYNudyd9fFDRzpWy9r5Bk1Ua3aho53N555xwhywsL/h9bG56QNID7hCLrGqGE2aNpEoNgeiS1X3e9l2JpmZFOvYP2GdrO0s8lgcGHleUCxUTAAAAAPw1fNVEroAiGBUU1uzyKhV6FLJbK7adfKHEwIBiu0L2ihzDEOpl7Q0V2PeHB79PM6dCLbBNIXvFgFAi3etN73OvZH6Q8zEF9Z7tVm8CzF7vuKJMqJgAAAAA4L/CqiYGdqaDUEHRVz1QWXuGDSX6xJbuVbTz67L2/2Tds1qt7YsCOKFjr6y+q81Nfz3kPksLRrwl93Xm8GEtP4IJAAAAAP6LL31ckfZdRU5kqOAO8SgjYzYV19aNDyrScZW30ka/QodZRDq+ItnzJdMg6Y9yrNbR461gMbXCe94jY/5SicYH+QAFG8EEAAAAgCrpYBddNZFprAYUPd4cEsV6dlAwYezQk0JGOv9esp/y2nqoR84efunOspwwPylx31FlCCYAAAi4Fw9P0IuHJ/ZdvV2RjttpFQCBZMvyKmMtoDhUWp/e/Ew2u8FNQ87HpifNtA2cpKgEJr8EAAAAUIuCvsxoZeVbgSNbtPMaWfvwoJU8gDKiYgIAAABALeqV7Nicc6IQbhXE0I9pbV+klP3rHHNIyJ3fQf8imY4BwyminSuVsh9WSA2ydnEJc4ZgDCKYAAAg4C6Y+a4umPmue8WmNn7vy5dtoFUABLOz3H65rHlshK8y1gKJ00p6lrXnD77R7BlwNRX6Uu7hG+YHSjR+PufrZlZitHRcJyOCCQyLoRwAAAAAqoPVuhE8u1eyG/T+sTOUWLpxDFVJzFZLx3UlPO/TOQ7AgazrFw9+zBChBFAiggkAAAAA/ou2X15i2f9YDST6Gd2k1vZFBT++pePrkhYPasdE07eybhtcLRFKfaew49m5UkZf4MRGIRjKAQAAAMB/xVdLMIdEvwalzKNqbb9CsaV7h3xkS8fXZXTr4DvMj3O3cdb8EjZ0vqT822htX6RU6EuyfcuKAsMjmAAAAADgL3duiUKrJcZOINHavkgp3SqZNQU8ukEp85wi7T+RNbu0uemB/vbtXKmU/RMZrc5RKSFJXXmGZ/xU0uoBt1j7t2rpWKCQeS49n0S08xql7AIZu0wps2zodV/ttYp0XJverjFfHzR5pk391eDqGTvca+WzR8ZsGrANEEwAAAAAQFafs5BqibFXIXHCLJPRmiKeUS+ZNTJao0jH32aECZLJ+5wuhewVOe8x5nuy9pKsyod6Gd0qa6VIR9brD9rItkHBxkANsnadpAczzoUry7ySx+JB20DVYY4JAAAAAP4Zfm4J5pAYWu8InrtHIZt/+Ee8cbuMub6EbfTKmD+X1RMcHhSCYAIAAACAf6z5m/wd7jEeSNTZXZJ9eJhH/UrG/LmkPUW8co+s7lCiacmwc1LEGx/0wolCX3+bQvZPChw60SVjNg24xegRye4qYyvuGbQNVB2GcgAAAADwR7T9clktyLqVSS37uKHBVd6/4TyoaOc1sqlmyTRkzSXRK+lXku2SzM9yrL4xNDdkeFAtHdfJaJWk+VkrduyR0S7JbE/POyHJm+figSK3tV3Sdj4cYwvBBAAAAAB/ZM4tYfWujP0GgcQI9AUIlVJK0AAUgGACAAAAwOhLr8RheyVt0gkCCWCsIpgAAAAAMPpsaJ2U2kCFBACCCQAAAACjq+WFBr3/TjOBBAARTAAAAAAYdZsv7KIRAPRhuVAAAAAAAOAbggkAAAAAAOAbggkAAAAAAOAbggkAAAAAAOAbggkAAAAAAOAbggkAAAAAAOAbggkAAAAAAOAbggkAAAAAAOAbggkAAAAAAOAbggkAAAAAAOAbggkAAAAAAOAbggkAAAAAAOAbggkAAAAAAOAbggkAAAAAAOAbggkAAAAAAOAbggkAAAAAAOAbggkAAAAAAOAbggkAAAAAAOAbggkAAAAAAOAbggkAAAAAAOCbcTTB6Prk3+3Xyz3vSJI+teQUfeOTH6JRUNUabvtZ+vLtzWfoMxfMpFEAAAAAlA0VEwAAdb1+TB//7i+05M6XtOuXRwLxnuM/fU0Nt/1MN//LQQ4gAABAgBFMAAD0wI5DOnj4WKDe8zvvWknSE3vfUvynr3EQAQAAAopgogYtufMlLbnzJRoCnLMoyA9fPKwn9r4lSVq5cIaWnTU9EO/75stO06zp4yVJ//wfhzmQAAAAAUUwUWMe//nvdPT4CR09fkKP//x3NAg4ZzGsRzrflCRNm1inz100K1Dv/colp0iS3jjynm557NccTAAAgABi8stR9tj/XFDR1z96/ETOy0Cpur52PudsDfvhi4fTE/KuXDhDDadOCtT7v/my0/TI7jf1xpH3tH3fW/rcRbMCtw8AAABjHRUTADCG/VPGEIiVi2YEch/6qiaOHj+hf3z+DQ4qAABAwBBMAMAY9cMXD6cnvLy0oT4wc0tku/my0zRtYp0kafu+t9T1+jEOLgAAQIAQTADAGNU3t4QkLW+oD/S+LJvvhipHj58YsF8AAACofgQTADAG7frlkfTcErOmj9dnLpgZ6P350wUfSF/uW2EEAAAAwcDklxVy878cHPY/x59acoq+8ckPjahjcfPDB/NOGLhx62+0cetvCnqtWdPH67n1Cwve9uM//502bv1Nzm2fM3tyzkk+d/3yiB78jze0r+cdvXHkPUnS0rlTterckwLfKaoFH//uL9Jl/fnc3nzGiI6Vn+dstq7Xj+mRzjf1cvcf9J+Hjg14T/NmTtK8kyfonNlTdPNlp5W8jciDr2hHV29RbXnv04e0o+v3A0KD5fPryz6p47/u7q8qWDp3alnPpR++eFj7ut/Ryz1/0H/997vptp02sU5nnjxBS+dN05WNp5R1fy4/7yTd9WS33jjynt448p4e//nvdPl5J/HBBgAAIJgA3A7gt5/sztlBa3/1bfffwaO699PzaCyMyvn4j8+/oe373sobkBw8fEwHDx/Tjq5ePbL7TX32ozMVveSDFX1f8Z++pn/+j8Pp0K7PG0fe0493v6mdB3r1lx+fU7bOdvurb6cvZ1YblOrepw+p/eCRQSFPpqPHT+jlnnf0cs87enT3f+uzH501ouAn29K5U9OB8DP7f08wAQAAQDAxtt376Xm699O57/vk3+1P/xo6EsvOmq7dXz13wG0/fPFw+hfnkf66PZTLzztp0H/6b3ns1/rx7jcHvZ97nupJd1TOmT1Zn1g0I90R6gssntj7lqZM+PWIKkgwMk/eeHbe+xpu+1lZtuHnOdsXStzwo4PpypBzZk/WpQ0f0P+YOTF9Pne9fkztB4+q/eBR7TpwRG8ceU/3PNWjzlffVuKaDxe1vVyPz27L7OBu2sQ6rVw4Qxf+j2m6/LyT0p+hN468p41bf6OPzJ484kqDx3/+uwEByEg78NmVIbOmj9fC2ZPVOHeqPjJ7SnpSzV2/PKLdr76drgh5YOchyZu8sizBxLxp6WAiM3gBAAAAwQTGqDt/8lv907+/ke5sRZedOuhX58Q1H053al59szpm0r/36UPpDlMljHQID0oPJa7afEBHj5/QrOnjdd3yD+YMQRpOnaSGUyfpMxfMVNfrx/TAjkN6Yu9b2tHVq8iDrxQdTgxl1y+P6I4nfpsOSpbOnarbnQ8NCB4+c8FMTZtYlx469Z8974w4mNjb/Yf05XNmTx7xfsycNl7yVvZonDs1b3XJsrOma9lZ03XzZaelg8wHdh7SkrlTy7IiyNJ509KX3zjynnb98khgVxoBAAAgmABGKPMX1HNmT9ZdV8zN25lKXPNh/fDFwwM6FUC53fAjd26LeTMn6XtXzSuoc99w6iTd++l5mneKG1bt6OrVLY+Vp7Ln4JvH09VE0ybWDTms4fLzTtJJU8fpd2+/X5bhCa++eTx9ed4pE0f8et/45IeKbpNvfPJDernnD3q55x396+43yxIgNJw6SbOmj09Xg/xnzx8IJgAAAAgmMBb1jSGX9wtqIb8wV9PklzdfdlpZx73Df7c89msdPHxM0ybWFRxKZJ8Tb797Qv/072/ox7vf1MpFM0bc4c2sJrq9+YxhA4dydrBfzxjGMWv6eN+Oyzmzp+jlnnd0MCMoGalZ08alg4lX33yXkx8AACAAWC4UFXPd8tPKWvYOlGr7Pnfegc9+tPSVLb76idPTwx7+NWsulVLNmzlJP2qZP+qTNGbOcVOOiolqcmpG0HL46Huc/AAAAAFAMIGy6/sFmKoDVIP4T19Lzysx0nPy0gZ30tZyTKx4aUN9SdUbGFrffBfKqgwBAABA9WIoB8ruzJMnVNXQDIxt/+lVBywswySPq86doQd2HirLxIrLG+prLpToev2YnnjpLb3c8we9fuS9QasPTZtYpzNPnqCpE0Kae8qkqpnwFgAAAP4imABQ0/rmL9jR1Vu2ZU8l6df/fVwSEyv2ueWxX2v7vrfSSwPncvT4iXRYwXKeAAAA6EMwAWRhuVCgcF2vH9NfPvpqOnCYNrFOTXOnqnHuVH1k9pRBVSU/fPFwetnT9lffTk9UCQAAgLGLYALAmLBq0Qzd++l5NESZbUz+Oh1KrFo0Q9ddetqQQ1Qyh3nd8tiv9eMyTSTaJ3PCy1qb2BMAAKBWEUwAWVgutLbMO2Wiu4TtIeYz6HPO7MnpMGEkS3Xe+/Sh9JCM65ZXx+cmc8LLKRPqONgAAAABwKocAGravFPcX+8PHj6mrtcJJ5S1pOZIhlI84S3DemlDfdWEeW8cfT99ee4pEzjYAAAAAUAwAaCmLZk7NX35H59/gwaRNDdjiMNIKiYOHnaDnuUN9VWxX12vHxsQtHxk9hQONgAAQAAQTNSYaRMpXQbnbKZlZ03XpV7Hefu+t6iakLRoTn+HPXtJz9H0h3dPlPX12g8eTV+eNX38iJZzBQAAwOghmKgxl593Eo0Aztks13x0lqZNrNPR4ye0Mflr2vy8kzQrYzjH4z//3ai/h5v/5aCe2PtWWV8zM5hYmlEpAwAAgOpGMFGD+joc+7qL/yV01y+P+NJJAedsJc/ZZWdN12c/OsvtvL76tiIPvlLS++x6/Zg+8/cH1HDbzwL/OcnsuD+z//clvca8me78HTu7eotuw3KHEn3Hts+fLvgAHywAAICAIJioQcvnu2XrP979ZsGdp8d//jtFHnxFX/jnX2n9o6/SiKi5c/bmy05LD+nY0dWrT/7dfu365ZGCO9O3PPZrXbX5wIDOb5D9v0tOydmhL8aqhTPS7Xnv04eGfXz8p6/pL/7pV+nt9QUb5fD4z3+Xnl9i1vTxVI8BAAAEiPFz4zfc8/QGmdDt2bdfeO5cXXjumYFs0HKXJ395xWxFL/lgUc/pev2YbvjRwfTEdKsWzdDSedP0mQtmDvhP/P93+LgOvnlM7a++PWDCuEsb6pW45sNDdi7ueapnxPs23HYwOj7+3V+kz5WRmjaxTveumVf02P5Kn7OZ7vzJb/VP//7GgOc2zp2qj8yekn7fXa8fU/vBozr45nG93P2HAR33WdPH6y8/PmfYjm852nXaxDrd3nxGxTrZn/y7/ek5Jm5vPmNAexfqM3/fH9Zc2lCv5Q31A17nhy8e1sE3j+uJvW+lj9m0iXWKLjtVr775rn68+83BgceiGbr30/NK/ttbLUuXVtoLL/2XXngpRyhnUxu/9+XLNvDXDQAABMU4mqD2NJw6Sd+7ap7+8tFX9XLPO3pi71t6Yu9b2rj1N0N2gJrmTh3UqQBq7Zz96idO16I5U/QPz7+ul3ve0Y6uXu0oYCjCvJmTtGrhjJrq8F7ZeEq6jXd29Zb02f/h5+cr8uAr6Xbc0dWb97hNm1inlQtn6HMXzVLDqZN0y2Plm+9j14Ej6W2sOncGHyoAAIAAoWKixv3wxcPa2dWrg//97oBfb6dNrNOZJ0/QvFMm6iOzJxddlQHUwjn7+M9/p2f2/96tjMhanWLezEmaNbVO58yZokvm19fsCg+ZVRPf/+wflbyf+Y7brOnjNe/kCVo6b7pWnTtDDadOKvs+3Pv0IT2w0x1K8qklp+gbn/zQmPisUDEBAABqBRUTNe4zF8ykAgKcs3lcft5JY34ugsyqie173yo5mPDzb80j3nCQaRPr9LmLZvEhAgAACBgmvwSAMewzF8zUObMnS5K273tLXa8fC9T7v/fpQ+m5K1YurExFBoAqFwsnFHes+y/cQYMAQPAQTADAGHdlo7tCx9HjJ/SPz78RqPfeVy0xa/r4MTOEAwi0uNPmBgjN62mMKpJwHuK4APATwQQAjHGfuWCmVi1yJ4z88e43C15G1W+Z1RKf/ShD1oCq53Z6HRqiCllNcy+YWxULr6BBAIw2ggkAgK679DR3ws/p4wPznidPcOdvXrVoBhP4ApIUc9Z6Qxp2VN17SzgLJXOr1/ntVHTr3YFq27izQ3HHKuasrclzx5r7vUv1MvaLfJgAjDaCCQCAGk6dpCdvPFvPrV8YmBVIopd8UF1fO1/3fnoeBxCQpJBp8i4trrr3ljI3Sar3esGbA9i6i7PauLa0tj0lKeldcxR3onygAIwmVuUAAACoBSlN9xaCr6+q95VwFsraNe4V06loW7zMneqIpEiF96I+3ca1ypr7Zaw31Ma0SIrzoQIwWqiYAAAAQCV9NSMs2UpzVKkBVRO2kaoJAKOJYAIAAACVkXAWymq1d61b0bYNNEoVs9rSf8W00CAARgvBBAAAACojc24Ja7bRIFWuNblF0n73im2s2ck+AVQdggkAAABUhrGrM649QoME4ZhlBEhGBBMARgWTXwIAgMqJO7+QtCDr1lZFk+7Eeu4yktfKarlkGzMes19Sl6Rt6ceO/L1EZbRcVkuy3lOvZA7IarekR7yx9uXYz/7XN7pIkeS+HM/7raQ5eZ7XrWjy9Nzba14vmbsG3mgzX9cW8e6TiibD5T/2zesz9m1/Se067D4P6lV3KtrWVIFz1nt526K4U+gQh15ZtXpVCMOLOWtlFMs9eWme/YqFV3jLezZmtPVOSVtK/tyktF1G67xry/kjBmA0UDEBAAB8Ci2a18vqeVm7LiuUkNcxdCTFFHfaRhxIxMMdkmKyWpuj01kv2UYZ2yJjn1TcaXMDE4yMuaT/IsM4yirhLFTcaZOxT3qfk8xwa7mkmBLOQyW9thsg7U9/NtyACQAqiooJAABQOdHk2RkBQf+v+LFwQrLeL8+mU0o9LGOeUCS5z1tecpVkVnudLEdxp62kX/Xj4Q2Svd2rJuiV0TZZ7ZTRs+kKhpizVsYskNTsBSSOrJYr5hT+a3c0ebY30eOjXvCxX0ZX5KySGPi809MdzWKeG916t6S7B9wWCydkvDaNJk0VHP3+X9ut7Rr5uZRjn3PteznP2exz15rN3vKk5eeea1uG3a+4E5XVXf2VFRmfH0my+qZ3Dq9VLHy0pPdrzS4Z6wV45pK87Q4ABBMAACCgvpTu9BizSZG2Lw+41+2Q75N0d3+wIEfx8IaiVnXIDD+Mtki6M2dnvz982OAtkXibpDkyiinmqOBwwg1VrkgHDFaPKuEMH06UEmhUO3fSxPqMzn6c074MEuF73AojyR2CZO9QNJkdGoS9KiNHxjaUtB2TOiCls61GGh5ApTGUAwAAjLa+X2I3DgolsrlBRNK9UsQv4vHm9f2/NJuNiiSvLqizH03GZfRxr5S9XkaxooZ1RJL7ZHSF9/y+cGLhmAolJHkVKH32c8qXQdxp6w8lTKeMLvKqSHKdx2FJrTK6vqRt2dDPMq7NYWgTAIIJAABQe6zZXHD1gzX3pztIhSxf6E6oeWvR2xkcLnRLqvdK40t5/tDhRK2GEpJkB8x5cIgTfsQN2ujNJSF3stK2pgKGCcVLPp+yJyq1uphjAIBgAgAA1JJkUePeMztJJteKBdnMtd4wgu6S5wNwO3Rf8645Rf9iPFw4UcuhhHuclvR3ak0Xp3zZGnZjRVZQya07Y7uzaXsAlUQwAQAARltlV2iwdrXXmdo8otdx50Xo9jrXVxb9/HzhRK2HEqiEXneZ3SKrf0bE9PR/pvIuaQsAZUEwAQAAaodblbDA60w9N/K+mXZ6PbMlJT0/VzhBKIHiT8QDTCAKoJaxKgcAAKgdmWPhjX1ScWekr9f3YqX/Ypy9WoeLUAIAAA8VEwAAAAAAwDdUTAAAgNpktKgqKhKy55Rw9c05QdUEqpTtn/DSpA7QHgAqiYoJAABQO4ye7e9X2VW+v59cE10WspRo4Pu02t1/TGwDJ2YgZQxfMr00B4BKIpgAAAC1w60+cFfSMGaxr+8l3+obwy0lWgtM5lKTOo0TM2Bi4RVZx/NZGgVAJRFMAACAWtMpSbJa7VuHf7glQWs9nLB2f8a1BZySAWNS52dc62a4EYBKI5gAAAC1xZr7vUv1SpmbRn37w4USfcodToR0pGqOQWtyi6T+8v+4Ew34WTW2hjLY0PyMa538UQFQaQQTAACgtrS2PSWjLZIkY1sUc9aO2rYLDSX6lDOcsLaryo7EzvQlYwI+z4QZW5M/Grss48T6KX9UAFQawQQAAKhFd6ZXwDCKlRxOxJvXK+78XnFnx7CPLTaU6FOucMKaV/rfdwkVCjFn7aC5BUYko0Nr7epgn07Wm7dES4p+asJZGKiKEfcc6Bt+06vo1rv5cwKAYAIAAKBYkeQ+WW30SvDrZRRTInxP4YGEE1U83CGZuyTVVyyUKGc40dr2lGT6yu5vK/j58eb1ioc7ZPSQjL5ZtmPgdmj7JsFcUN7QY9Rt8wKKxoLPo1h4hWLhhKyelxQLTDgR0sqMazv5YwJgNIyjCQAAQEXEm9d7HftBXTbFnZgkyWiLIsmrcz8/3CHZxjzP7ZU1n3I74/k66sktioUPy9j73c6+Xae4c5WM+ZGs7VI0Ge9/VWetjD1DxiyW1XJ3qUSrYd+jG2L8VjZzaUUtkNVexZ2+692KJk/P89xfpH+dtgPu6XuNXhldVHDIYe09MopJmiOr55UIf18p2+HN+dAfuhjTIGvnS1ruBi/pjW8t6zlgzTYZ2+Jdu1LSU2U8jzI3pHRwEHfskA8d7njmDFmSccWd1ZIc7zxqlOw2GfNE+tjEwitkUufLhua7QyFs5qSf+4dc2SLvPhaxX66kosnwyI5ZRnVL/3wtAEAwAQAAxiJ7dMQv4QYXZysWTsjYNW6H3a7zOuix7B5rRjjQK2mnrLlf0banAtNkrcktijmS0bfT+2okxZ2Hsjqfmde6ZbRTKfMPQwY9pQjZ+2S1xq1aCfhwjmgyrITzkKzWuoGOWS6ru/oDKOueQ2ZA2+6UzA5F2zYEYh/dIU9eoGI6y34+AEAexs+N33DP0xtkQrdn337huXN14blncnQAAMjjhZf+Sy+89GqOvnxq4/e+fNkGWiiHhLNQ1lwp2UslzXerIjKDCHNAxnbJ2j01Ma4+Ht6QZ1+7JdMjq92SfWZANUVFOrvhRH/VhNkYmE56/v1ZoZD9C1nTMLiix3S681GY3TL2kcAtsxl32iT1JS2tA6qK4I/W9kVK6VbJrBniUXuUaFpCYyHIqJgAAABjg9tJ3Ddm9rdaAoDMqgmpWVKwgwm3iqD2Kgli4RWS9UIJ06loG6FENThhlsloDQ2BWkcwAQAAgMqJJPcpFn7YrZqwjYo7UX6Jr0LGfrH/it1Mg5RBtHOlrP1Jjnt6lGiaQwMF7W9ZR7ek2YM/O+YTijdup4FGhlU5AAAAUOH/cdr7vHk7JJkWGqTKuCum9A3hSBIclUn+zuqhgl+jzu6S7MM0ZlU4VORxRjFfEzQBAAAAKiqS3CfZO9wrttGd/wJVo79aopeVOMquJ8dt3QU/O7Z0rxJLr1KiySjRZGR1PU3qm+4Cjy9KQDABAACAynMnFE26lROpt2mQKmLkrYBj72AljrLL8Su7eY1mCeQH5bXCji9KwRwTAAAAGB3RZJhGqEKR5NWSrh7Vbba80KAT7/XoBxcfqfHW7Za0eMAt1nZz0gWQtd051rTkWJYJFRMAAAAARtfmC7s0bvJWRdpv17XPTq/dHc35Kzvl/8HUU+DxRQkIJgAAAAD40GdPbZLMBo2b+JuaDShyVUeEzCsc/CD2nHMcN6pfyoahHAAAAABGX3zp44q075LMMkkbVDfpFkXav6H3j2+qoSEeg39lr+QqDpGOr0i6WNKcrCEkvZJ+JaNdktk+ovcQ7bxGKbtAxs6XTIOkqZIash7VJdlDsmaX6uzDii3dW/R2Wjquk9Hflq9xzA+UaPx86edr43ZFOoY/viCYAAAAABAgRptktcy7PMGtoJi0TpH2TTURUITMK7I2q8NedlMV6fx7yX5KUn2ex9T//+3deZhU1b3v/8+qZlIZRAQRPYAmgFETBbo1TihO1yM2xmsSNVfynKuhG4FoRD0x0SQYNZJBEhWwG42//ISreEyiMni8xoFBo6SLRowSgajdhEHGpgdmutb9o3Z3V1ftXVNXdU3v1/PwaO2adq29q6rXp9b6LkkjZTVSsneozL9ExsyKO6CYVHWmAmaGpItkbe9grQUT7R7DJTNcRmMUMLerbNUfOxQKZI+tkk5svVRkl/MmTtFbhSYAAAAAkBGVJa9IWhfZiTbT1aVH7k/xiOz4p2NFmuGSvSVKKOFmnKx9QRP9D8Z1a2u+J2lcgs8RcjztLSrzL86DM7b9KhzJjASBK4IJAAAAAJlj7A+9O7R5EVCEjJKw67Nov3rL6P64w4mOG6eyqgW5fbK2O37refOmDsEEAAAAgMypLHlFijokPtcDipBREr69nfB8q2X1kIz5d80tNppbbGTMBMm+4NSaaC+ecMLYp8OO0WrJviCrh2Q1RT771dbnmltsZDXF/ZiaGzSp6szkX5p5pt3zhP7z2a9GCQvWyxf4bQq6z3vdjys6ihoTAAAAADIrtNZE7IAix2pQ2PWScQpR2g1pbsfHVFn8g4jtlaPnS5qv8lVXydrHIopVGt2u8lXvetacCE5ZuDju/XiqeI6kOSqrWuYUN23TbG6QFHsKhM80hNXnkIx1P97BGhh/cinC6YQS9vrUTLsIPX6WERMpxIgJAAAAAJkVe9SEW0CRGyMorFnujFTYKp9NX50Fr1CifUDxmnz2epeRBb1l7dQ0vPYXIvfTDIrvnBg9X1YPhWxZ4vr6Oi2UkJzjt1VSg3NckSKMmAAAAACQefGNmmjfmc6FERQtowfSa3XMUKJFRclHKl/1oKydF3bNOE2qOjOrCjo+VfwTST/xvD5qKGGXy6cpKX09wccaxJs19QgmAAAAAGReZckrKqtaHjH0P7beebfMaKKMmZlYW4+erzL/jc5KG23inWZR5r9XsmdLZrikL7ms1rHVWcHimLS95ugjJZZobsk1vKlyB8EEAAAAgCzpYCc8aiJUoQYUW50aEol6JyKYMHZY1HuUrfq9ZL/ptHW0W57o/EuPmKFEMaFEjiGYAAAgj7y25eiLVea3tASAnJSaT69CCyi+SOpexnwQUVwyOAIiUmvRTDs846+2fNXNCthfeQQfhBI5iuKXAAAAAPJRri8zml5eK3C4BQHWvuAxOqFzBfdlNqFE/mHEBAAAAIB81CDZwqw5EV8n/6rIERNhJlWdqYD9iUsNCUnaKqP/koy/3VSS8lVXKWBPlU/DZe3IJGqGeO1vSyjhti+EEjmOYAIAgDxy1aB9y2bdddlYWgJAbnaWq66VNS938FEKLZAYmNS9rD07cqNZ3e5iwHen+/QN84zmjr7V9XFDR2JM9E+WUceDCUKJvEcwAQAAACA7WE3rwL0LdYTEiZron+wsS5qIb7scgA1hly+MvE2UUCIdooUSRo95LpPavkBmg4yZkmSRUHQCakwAAAAAyLzyqmuTHPbfINnpOnLgZM0teaAgp20Y3aFJVWfGffuJ/gcljYxox7nFM8K2RY6W8AV+G2egcJWMvtexcyJKKGH1kGcoIUkBzQ7Z/97O4yBLMWICAAAAQOYlPlqCGhKhAULA/EmTqq5XRclHUW850f+gjO6PvML80b2Nw0IB6ztbkvdzTKo6UwHfnbIty4omKVYo8VTxT6I/gAkvdtqbN1n2IpgAAAAAkFnB2hLxjpYonEBiUtWZCuh+ydwQx62HK2DeVVnVf8ua5e2mdgQLUl4go3EuIyUkab3H9IwVksa1DwXsbE30j5DPvNtaTyK4hOcIGTtGATMm+rqv9haV+W9pfV5jHnSdYmHtNM8wweh+lfnv541DMAEAAAAAqRHfaInCGyHRbMbI6IYE7tFbMjfI6AaV+WeHdPIl43mf9fLZ690DADNL1l4UFhD0ltH9slYq84c9fsSTLIkINtob7gQQ1H4ocNSYAAAAAJA5sWtLUEMiuoYO3He1fNZ7+kfl6NdkzJQknqNBxkyQ1ascHsSDYAIAAABA5ljzS+8Od4EHEkV2uWRfiHGrT2XMBEmrE3jkrbJ6SHOLR8WsSVE5er4TTsT7+EvksxfEuQLGehkzkzcBmMoBAAAAIDPKq66V1YiwrRS1bBEMDW50/sUyP1gwMnCNZIaH1ZJokPSpZNdL5gOX1TeiC4YM8zXRP1lGV0saFrZix2oZLZfMa611JyQ5dS7mJPXa5xaP4g1SOAgmAAAAAGRGaG0Jq0My9hcEEh3QEiCkS0eCBiAKggkAAAAAna91JQ7bIGmmmgkkgEJFMAEAAACg81nfNCkwnRESAAgmAAAAAHSuiSuH68j+awgkAIhgAgAAAECne+rc9TQCgBYsFwoAAAAAADKGYAIAAAAAAGQMwQQAAAAAAMgYggkAAAAAAJAxBBMAAAAAACBjCCYAAAAAAEDGEEwAAAAAAICMIZgAAAAAAAAZQzABAAAAAAAyhmACAAAAAABkDMEEAAAAAADIGIIJAAAAAACQMQQTAAAAAAAgYwgmAAAAAABAxhBMAAAAAACAjCGYAAAAAAAAGUMwAQAAAAAAMoZgAgAAAAAAZAzBBAAAAAAAyBiCCQAAAAAAkDEEEwAAAAAAIGMIJgAAAAAAQMYQTAAAAAAAgIwhmAAAAAAAABlDMAEAAAAAADKGYAIAAAAAAGQMwQQAAAAAAMgYggkAAAAAAJAxBBMAAAAAACBjCCYAAAAAAEDGEEwAAAAAAICMIZgAAAAAAAAZQzABAAAAAAAyhmACAAAAAABkDMEEAAAAAADIGIIJAAAAAACQMQQTAAAAAAAgYwgmAAAAAABAxhBMAAAAAACAjCGYAAAAAAAAGUMwAQAAAAAAMoZgAgAAAAAAZAzBBAAAAAAAyBiCCQAAAAAAkDEEEwAAAAAAIGMIJgAAAAAAQMYQTAAAAAAAgIwhmAAAAAAAABlDMAEAAAAAADKGYAIAAAAAAGQMwQQAAAAAAMgYggkAAAAAAJAxBBMAAAAAACBjutAEAAAAyFkV4+fK2InBC2aVyhcW0ygAkFsYMQEAAIDOUVm6UJWlVpXX3ENjZJG5pc9xXABkEsEEAAAA0i/Y6S2lIbKQVc/g/5j7VTH+ChoEQGcjmAAAAMgHFaU3BX/1Ll2adfs2t/QMydzvdH5XqXzxr3OqbStLl6qy1Kqi9Ka8PHesecL5v94y9vu8mQB0NoIJAACAvPirzrTUVhiZdfsWMHdI6u30gp/KwdYdGdbG+WXSwr9IWuRcKlVlaTlvKACdieKXAAAA+SCgXjJSWwCQJeaWniFrbwheMKtUvrAyxZ3qMkllaX4VvVvbOF9Z84SMdabamImSKnlTAegsjJgAAABAOt0XEpYspjmyVLtRE3Y0oyYAdCaCCQAAAKTH3NIzZDXOubRF5Qun0yhZzOr5tgtmIg0CoLMQTAAAACA9QmtLWLOEBslykxY9L2ld8IIdnbfFPgFkHYIJAAAApIex40IuvUiD5MIxCwmQjAgmAHQKil8CAID0qSz9RNKIsK2TVL4oWFgvuIzkLbK6WLKjQ26zTtJ6SUtab9vxfSmX0cWyGhW2Tw2S2SCrakkvOnPtU/E62x7f6HyVLfrY5X6bJQ3yuN8WlS86yf35rrlHMr9qv9GGPq5NYO8XqXzR+NQf+2vuCXlt65Jq15ivOaJXvUrlC4vTcM46D28nqrI03ikODbKa5IxCiK2i9CYZVbgXL/V4XRXjr3CW9xwd0tbLJD2f9PsmoNdkNM25dDEfYgA6AyMmAABAhkKLa+6R1V9l7bSwUEJOx7BUUoUqSxd2OJCoHO+XVCGrm1w6nb0lO1rGTpSxr6uydGEwMEHHmIva/pdpHCk1t/QMVZYulLGvO++T0HDrYkkVmlv6XFKPHQyQ1rW+N4IBEwCkFSMmAABA+pQvOi0kIGj7Fb9i/FzJOr88m1VS4AUZ86rKFn3sLC95tWTGOZ2sUlWWLkzqV/3K8dMl+zNnNEGDjJbIapmM3mkdwVBRepOMGSHpGicgKZXVxaoojf/X7vJFpzmFHv/kBB/rZHS96yiJ9vc7qbWjmch9yxf/WtKv222rGD9XxmnT8kUmC45+26/t1q7v+Lnk8prdXnsqz9nwc9eap5zlSVMveK49H/N1VZaWy+pXbSMrQt4/kmT1iHMO36SK8U1J7a81y2WsE+CZizzbHQAIJgAAQI66s7XTY8xMlS28q921wQ75x5J+3RYsqFSV46cntKpDaPhh9Lykh107+23hw3RnicSfShokowpVlCrucCIYqlzfGjBY/UlzS2OHE8kEGtkuWDSxd0hnv5LTPgXmjn80OMJICk5Bsg+pfFF4aDDeGWVUKmOHJ/U8JrBBas22RtPwANKNqRwAAKCztfwS+0BEKBEuGEQsCl5I4Bfxymvuaful2TygskXfiauzX76oUkZXOkPZe8uoIqFpHWWLPpbR9c79W8KJMwoqlJDkjEBpsY5TPgUqSxe2hRJmlYzOd0aRuJ3H4yVNktGUpJ7L+j4IuTSIqU0ACCYAAED+seapuEc/WPNEawcpnuULgwU170/4eSLDhS2SejtD45O5f/RwIl9DCUmy7WoefMEJ3+EGHe3UklCwWOnC4jimCVUmfT6FFyq1upBjAIBgAgAA5JNFCc17D+0kGbcVC8KZW5xpBFuSrgcQ7ND93LlUmvAvxrHCiXwOJYLHaVRbp9as55RPWcM+kJYVVNxtCXneE2l7AOlEMAEAADpbeldosHac05l6qkOPE6yLsMXpXH8r4ft7hRP5HkogHRqCy+wmOPqnQ8zWtveU55K2AJASBBMAACB/BEcljHA6U+92vG+mZU7PbFRS93cLJwglkPiJuIECogDyGatyAACA/BE6F97Y11VZ2tHHa3mw5H8xDl+tI4hQAgAAByMmAAAAAABAxjBiAgAA5CejM7NiREJ4TYmglpoTjJpAlrJtBS9NYAPtASCdGDEBAADyh9E7bf0qe3XG98et0GU8S4nmfJ9W1W3HxA7nxMxJIdOXTAPNASCdCCYAAED+CI4+CK6kYczIjO6L1+obsZYSzQcmdKlJDeTEzDEV468IO57v0CgA0olgAgAA5JtVkiSrcRnr8MdaEjTfwwlr14VcGsEpmWNM4OyQS1uYbgQg3QgmAABAfrHmCef/eitg7uj0548VSrRIdTjhU2PWHINJi56X1Db8v7K0PMfPqsKaymB9w0IureJDBUC6EUwAAID8MmnhX2T0vCTJ2ImqKL2p05473lCiRSrDCWvXZ9mRWNb6f8bkeJ0JU1jFH40dE3JireBDBUC6EUwAAIB89HDrChhGFUmHE5XX3KPK0npVli6NedtEQ4kWqQonrPmsbb+TGKFQUXpTRG2BDgnp0Fo7LrdPJ+vULdGohO86t/SMnBoxEjwHWqbfNKh88a/5OAFAMAEAAJCoskUfy+oBZwh+bxlVaO74R+MPJErLVTneL5lfSeqdtlAileHEpIV/kUzLsPufxn3/ymvuUeV4v4yek9EjKTsGwQ5tSxHMEakNPTrdEiegGB33eVQx/gpVjJ8rq79KqsiZcMKnq0IuLePDBEBn6EITAACAtKi85h6nYx/RZVNlaYUkyeh5lS36jvv9x/slO9rjvg2y5pvBzrhXR33R86oYv1PGPhHs7Ntpqiy9UcYskLXrVb6osu1RS2+SsSfLmJGyuji4VKJVzH0MhhibZUOXVtQIWX2kytKWy1tUvugkj/t+0vrrtG13TctjNMjo/LhDDmsflVGFpEGy+qvmjn9aAet3aj60hS7GDJe1wyRdHAxeWp98cUrPAWuWyNiJzqVvSfpLCs+j0CdSa3BQWWqj3jTW8XQNWRZVqrJ0nKRS5zwaLdklMubV1mNTMf4KmcDZsr5hwakQNrTo57qoK1t4vsYEXlfQIpUvGt+xYxYyuqWtXgsAEEwAAIBCZJs6/BDB4OI0VYyfK2NvCHbY7TSng14R3mMNCQcaJC2TNU+ofOFfcqbJJi16XhWlktFvWl+rkVRZ+lxY5zP00hYZLVPA/H9Rg55k+OxjsrohOGolx6dzlC8ar7mlz8nqpmCgYy6W1a/aAigbPIdMu7ZdJpmlKl84PSdeY3DKkxOomFUpPx8AwIPJ5JNPffTN6TK+n4VvP/erQ3TuVwdzdAAA8LDy7xu18u+1Ln35wAOz7rpsOi3kYm7pGbLmW5K9RNKw4KiI0CDCbJCx62Xt6ryYV185frrHa90ima2yqpbs2+1GU6Slszt+btuoCfNAznTSvV/PFfLZ/y1rhkeO6DGrgvUoTLWMfTHnltmsLF0oqSVpmdRuVBEApBEjJgAAQGEIdhI/LpjXmy0BQOioCekaSbkdTARHEeTfSIKK8VdI1gklzCqVLySUANB5XxU0AQAAANKmbNHHsuaF4AU7OqdWqCgkxn6/7YJ9igYB0JkIJgAAAJDmvzjtY07dDklmIg2SZYIrprRM4VjEFA4Anf41QRMAAAAgrcoWfSzZh4IX7Ohg/QtkjbbREg2sxAEgEwgmAAAAkH7BgqKLgiMnAntpkCxi5KyAYx9iJQ4AmUDxSwAAAHSO8kXjaYQsVLboO5K+Q0MAyBRGTAAAAAAAgIwhmAAAAAAAABlDMAEAAAAAADKGYAIAAAAAAGQMwQQAAAAAAMgYggkAAAAAAJAxBBMAAAAAACBjCCYAAAAAAEDGEEwAAAAAAICMIZgAAAAAAAAZQzABAAAAAAAyhmACAAAAAABkDMEEAAAAAADIGIIJAAAAAACQMQQTAAAAAAAgY7rQBAAA5La/7eymv+3s3nLxZyrz/4xWAZDF6iTVyahO1tZJpk6ydbKmTtauUfeiv2r2qFqaCSgcBBMAAAAAOlNfSX1lJck4m0zwf42RDgekMv/nkt6T7HuS+avmFlfTbED+IpgAAAAAkG1OCf4z35Ekla1aKwWe1KDiOZpuAjQPkF8IJgAAyHHnHH9I5xx/KHjBBh6Ydddl02kVAFnrtg/7Sgf7Sr6+OmL6ygT6ypi+soETZc15MjpPUu/2d7KnS+YJban+qcr9T6q5+xw9/dVtNCaQHwgmAAAAAHSeJ79W59SZ8FbmHyWZ8yR7vmSukGz/4BW2v6x+Kt/Bn6rcP0eVxVNoUCD3EUwAAAAAyC7BmhLVkmZruvVpi3+y5LstOHLCYTVZZf6v6Yj9np4pWUejAbmL5UIBAAAAZK/pJqC5JbM0d/QZMoEbJbMs5NoL1cWs1MTq62koIHcRTAAAAADIDZXnvKC5oy+RVegUjj4ygT+qrIr6OkCOIpgAAAAAkFueKp6jgBkjaUPbRvMzwgkgNxFMAAAAAMg9T49eoUNF50j2z20bzc+Y1gHkHoIJAAAAALnpDyP3aG7J9e3CCRP4vW6pGkHjALmDYAIAAABAbjvU5daQaR191MU8TaMAuYNgAgAAAEBu+8PIPQqYW0O2XKhy/2waBsgNBBMAAAAAct/To1e0W63DarK+9/cTaBgg+xFMAAAAAMgPTxXPkcyy1stFByfTKED2I5gAAAAAkD9M85Ot/2/NbZpu6fMAWY43KQAAAID8UXnOC5JZG7xg+2uLn1ETQJYjmAAAAACQZwJPhnR5bqM9gOxGMAEAAAAgvwwqniOZHcEL9nSV+UfRKED2IpgAAAAAkF+mm4Bk/9K2wZxHowDZi2ACAAAAQB6y74X8//m0B5C9CCYAAAAA5CHz15ALjJgAshjBBAAAAID8M7e4WlKDc+kU3Vo9hEYBshPBBAAAAID8ZPReSM+HURNAliKYAAAAAJCfbGidicDZNAiQnQgmAAAAAOQn49va9v+2Lw0CZCeCCQAAAAD5ydq6tguGYALIUgQTAAAAAPITwQSQEwgmAAAAAOQn62sLJpjKAWQtggkAAAAA+alroC2YsCKYALIUwQQAAACAPNU9ZCoHwQSQrQgmAAAAAOSnJ79GMAHkAIIJAAAAAACQMQQTAAAAAAAgYwgmAAAAAABAxhBMAAAAAACAjCGYAAAAAAAAGUMwAQAAAAAAMoZgAgAAAAAAZAzBBAAAAAAAyBiCCQAAAAAAkDEEEwAAAAAAIGMIJgAAAAAAQMYQTAAAAAAAgIwhmAAAAAAAABlDMAEAAAAAADKGYAIAAAAAAGQMwQQAAAAAAMgYggkAAAAAAJAxmQ0mfGaf2+YjR5o5MgAAROH5Xenx3QoAAJCtMhpMGPka3bYfIpgAACAqr+9Kr+9WAACAbJXRYMIGrOsfT4cPE0wAABCN13el13crAABAtspoMOEzlhETAAAkweu70uu7FQAAIFtlNJgImCJGTAAAkASv70qv71YAAIBsldkaE/ZIk9t2RkwAABCdZ40Jj+9WAACAbJXRYKLZBNyncjBiAgCAqLy+K72+WwEAALJVl0w+eVFR953W5Ref+qb9HBmgwAz/6Qeu2yec218/GXcSDQTE+V1ZVNR9J60DAABySUZHTDxx+5gdknaEbw8ErPY0Ek4AkIb060YjAGH2NO5XIGDdrtrhfLcCAADkjC6Z3gFjtM5a9Y/4o6thv47tdRRHCChwPbsXxbzNo29s1b6DAdXsPqC9BwPasP2AHvnGYF15eh8aMAGvr63Xys+btP9wQJ/tPKDGA80a2Kerfj/hSzROltnT4BXe2/W0DgAAyDUZDyYCAbPeGHth+Pa6xv0ayvEBCkLNroOe1/3PkcfFvH/l8m0R2wglErfy8ybNW9n+x/avn9KLhslCdR6jCo3xraN1AABArvFlegeMT65/RNU1MJUDKBTVG/cmfd8/r94dsW3YgB40ahI+3rovYhtTabKT13dkIMCICQB5buLK4Xn9fECB8mV+F9z/iNrTuI+jAxS4UYOPiXmb7Y2HI7b16lFE4yXhi/rItoxnKg06n9d3pFfYDwB5o/nwVpWtWqbyqmvT+jzlVdeqbNUyNR/eSqMD6Zf5ERPNza7BxK49BBMAYtvReCRi2xknHk3DJGFL/aGIbfFMpUHn8/qO9PpOBYC88cyFjVLgLVnzssqqUh9QlFddq7KqZbLmZSnwVvD5AKRbxmtMfLFy97oTzut/WFLX0O37Dx7W9t1NGnBcT44SUKDiCRjcph/079WFxnOsrGnS5rpg4HBS3246d6j7Z6rblJhBfZjGkY22727S/oOH3a46/MXK3YyYAJD/jhycqS7dp0lmjKzGqMy/Tsb+UJUlr3QokLDml7IaEdxgG3Tk4EwaGyiQYOLFF7/dPPW8t5dJujz8uk3b9hBMAAXg4y3x15Sp2XVQQ/t1b73sNv1gQK+uEZ3z+n3NcRfEXFnTpHf+2ai1W/fp0+0H240kGNSnm740oLtKhvTUpDEneD7Gg0s2B1+bE5x8UX9YA/t01YLvDWsNApaua9CHm/e1e/xRg4/R1Wceq+9+vX/C7RgaLvzXql0RtTtmXDdYoVWFQ9vSbUrMwD5dXZ9j1OBj2h2DaJ59f4c++eKAPtt5oN3+9OpRpGEDeqhkaE9dP/K4uB6vYvk27Wg80rr6SuOBZm3YfkDrf35263F75YM6rdm0Vxu2H2i937ABPfT1U3rpJ+NOyov3y6Zte7yuWvbii99u5hMFQN575sJGlVXNlDTd2TLCGUGxXEYzEwooyquuldU0WTMm7JqZjJYACiiYkCQZLZWNDCY2b6/XqK+czFECCpRb4cXqjXt15WP/iHq/e1/aqHtf2thu2zdH9YsZTKysadL/eX+nXlvr2fHTlvpD2lJ/SCs2NGpB1S7dfulA1+kO4atbtHT0a3Yd1IOvbtKKDe5/62zYfkBjhvWOK6B57eM9Wrtlf0S44SW8XsS9L22MWni0euNeDf/pBxHbX7/jK3GFCAuqdnnuV+OBZlVv3KvqjXv13N926jvnHK+7Lj8x6mMuXd/gub8PLtns2uYtbXrrBQPy5n2xeXu993cpABSKIwdnqqjHj2UU8sdCywiKOAIK70BCsjqkZkZLAAUXTASatcznS+CPLwAFwa3wYiKjK0Id1TV6SZ1H39iq5/62U40H4v/BeUv9odYAJJ5aDF/UH9aU5z9v92t+uG+cFX30QM2ug5r3/k69vGZ3QvsqlyVUk10NJdr+raxp0s8Xb4r6Gt1Cisrl21S786AevzHxhaJvnfepZ9AjZxRKPtXK8PpuDDRrGZ8aAApGcNTELyQzPfLKsIDCxhlItN7d/oLREkDn8mXDTsy5e+w7kprCtx863KytOxo4SkCec6sTIY9VOXY0Hk7qOc4YdJTndbcvqFHl8m0Jd/RbPP7WFxHb3JYs3VJ/KGaH/cozvEd1PPv+Dl1fuV7zVu5IeF/D60WsrGlK6rVGWynl9bX1mvzc5wmFEqFeW7tHty+o8bz+1OPdl4GNFkpI0iXDe+fNe2XrjgYdOux67Juc71IAKBzBGhBROgtmTLCIZQhrXpaihBIStSWADMimCnFLJV0TvnHT9nqd2L83RwooQG6/zG9vSi6YOKlvN89Qwm3qRq8eRfrOOcfrwi/3ai0Y+ez7O/SCf1dEx3tL/SG9vra+3YiEaEuWDhvQQzcU99OYYb1bX+OfV+9W08Fmz+KUFcu3aeYb7iuWXXX6sSoeeoxGDDxK5w7tqR+//C/9sXpXu9uE14toKYiZqAE9u7puX1nTpB+9vNE1MAmvm/H62nq9sGqna6Dw2to9qli+zbV+R7RRL716FGnihQM0cvAxrW34+tp6fbbzQNRaILlmk/dIQqZxACg8rbUm3EZNJMtSWwIo6GDCaJlsZDCxYeMOlZzxbxwpII+5dWa9VoSYcd3g1s78jU9viJiOMOHc/hFFDsMLZrZ49v0drqHEsAE9NPumUyLu892v99eIgUdpwjP/jLhP08H4RjB4PXa0qQZeocRFw3qp7KITIsKMz3ZGjlgIH20wavAxrUUj/7x6d0RNDkmt14e3pZufL97kehyvOv3YiOkZV57eR1ee3sdzCsaCql0JhQm9ehTpkW8MjpiqErzcJ6/eKxs27vD+DgWAQnTk4Ex16TFNUip+yWS0BJAhvqzZkWb7ttv2nXV79cVOpnMA+cxt6L/bihAKG0Xh1hF2WyrULZSo2XVQj7lMwRjUp5trcNDCa0RDvG69YEDcK1rI+dXfLZS46vRj9fsJX4p7f8JHG4Tug1uo4hUMue17xfJtrsdw1OBjotaM+MnVJ7uOLNlSf0jPvr8j7jb6xlnHxb3iSi77YmejdtbtTeg7FADy3jMXNko2RWECoyWAgg8mHr/70lWS/G7Xra/dwZECCswx3WN/PLl1hsOXCvXyp9XuxSNvv3Rg1OAgdEnO8E54LL16FCVchPEX/705YtuwAT2idvjd2sVthZMWtbsip3V4BUNuFlTtct1+y/nRV8IY2q+7Lji1V9z75OXcUwpjWeko34V+5zsUAApTzFoTcWG0BEAwEWSkBe5/jO3kSAF5yqujP/S4HlHv51W80auWRLhFa+oitg3q0y3mlIqHXYKCb47qF9coCLeCmNE8+sZW1+U2Yy196Ra4uK1w0sKtoKhXLYlwz76/w3UfRw0+Jq5RDMVD3QMdr4KobgphtES0YMLruxMACkZKRk0wWgLIpC5ZtTeH9YK66jfhm/cdOKRPN+3Sl07uxxEDIEUp3hjP1IaVNU2unenzv9T2631LYPL5roOq3XlQ737W6NrhHzagh8ouGhBXOOC1qoQXt/Bk2IAeUcOT19e6F0eMNqLDraBo/zhHnvhr3KcWxLsSRrTAJNz+wwHX9igEn27apX0HDnl8kXcnmACAjtWaYLQEQDDR5okfjt00debbi91W59hQu4NgAshDH2/Z77o92tQDSdru8it/tJUw4gk1/li9K2I1i2jcCm22fma5TKeItqpEOK+RCJeeFn10wBcN7q8t2oiOL+oj2/Lo7vHtq9cqKSPjmNqSKLeinvEe81y3wXsax+LfTjt/M58kAApeh1boYLQEkGm+rNsjqxfcNq+v3aHd9fs4YkCBiPVL+o7GIxHb4v313CsMicewAT004dz+mnfLlz1DCS/xdvYl6ZMvDrhuPyXGlBG3+3kVsmzhFoCcEmeBzvBVUVp0tEhovI7p7sv798Lu+n3e0zgM0zgAoFVytSYYLQFkgS7ZtkPHN2rBzt56UlLEX7UfrNuiS8/5MkcNyCM1uw8kdT+3Yf2pNGxAD/XqUaRjuvs09LgeGtKvm0YMPCquDrfXkpqnJLAah9voAMVYVlSS/vpp5A8+0QpZeu1rZ3Eb+SJJZ5x4dMQ2t+kxsWqR5IMP1m3xuqqpX717mA8ABSmpUROMlgAIJlxMnz72yNSZS5+S7J3h1330z60qPv1k9e7ZgyMH5Im9B90DhlirXHh13DtixnWDE141w43XKIJ0P4bX9I9072tHrE1gKo/b9Jh819B0QB/9c6vHteap6dMvOcKnCACESKzWBKMlgCyRlWNgjxj7uNd1UX45ApCDvDqbQxMYXZAqTQeb0/r4iRR6TMarH+1x3Z7O6Q5eNR68Vk0J9+5nja6POWZYfLXLjs7zqRzRvvOifVcCQMFKaIUORksA2SIr/6KruHNsjaQK9z/SNmvf/kMcOSBPuA3PT7czBh3lur12V2o+Wz73mB6RzmUt/7x6t+foh3ROd/Cq67E6jpEYFcu3uR7/C07tFRFMea02ckoGAqzOsm//IX2wzrOuZYXzXQkACBdfrQlGSwBZJHt/agroMa+rGDUB5Aevzma6V1rwmiby5if1qelQHkxf/QuvkQi/f3d7Ro5hiUfNjaXro/89WLProBZUua+A8r++fnzEtnSPZslGUb/ronxHAkDBi2vUBKMlgGyStcHErLvHfmKt/uB2nX/tv7SjromjB+Q4r85mvKtrhHNb9tLN0H7dXZ9jS/0hPfrG1rgDgh+//C9VLN8W2ene3fFlLb3CE7eRCLcvqEl5/QWvopThLvxyL9ft1Rv3erZlza6DmvL85671MCac29+1wKjXKJR0T4/JlB11TfKv/Zf7n9JGf5h199hP+AQBgCiij5pgtARAMBE/6/P+Rei9NbUcPSDHfd6BFSEG9OzqGiw8uGRzu/CgYvk23b6gRn9evbvdbUu/1tf1cSs9bv/62no9+/4O/fjlf2ncrE804Zl/6o/VuzSgV+R+uBX0TDRsOfV499s/9c721n1bWdOkW+d9qtfWBmtLxFoW1M1Jfd3vs6BqV7vRGX9evVsPLtms2xe0nz1w7tCemnBuf8+2/PHL/2p9nJpdB1WxfJumPP+5a5By0bBenkuweo1CSef0mEyK9h1nxWgJAIgp6qgJRksA2aZLNu/cnDvHfjB15tvzJd0cfl3Nlt36x2fb9JVTT+AoAjmqI1MeTh90VGuHPNS8lTs0b+WOiO3Trjix3eVJY07Q0vUNrnUZXlu7R6+t3aN7X9oYcz/cVvGId+RGNJcM760/VkdOdWg80Kx7X9oYsW+9ehTpx/9+kqYu+DziPtGWZD13aE8N6tMtYvTClvpDmvDMPyNu/81R/SK2/WTcSXr/80bXsOGP1btcX0e4YQN66CdXn+x5/Y7GwwXzvvjHZ9tUs2W319Xz59w59gM+PQAgDu4rdDBaAshCWV/O3AYC98ta14p0731YoyPNAY4ikKOidZhjueqMY+OeHjFsQA/XVT5mXDc46WkjijIKItElO91ceXqfmEumhrrj0oGeowf2xgiALjst/lEHpw10f82zbzol6bb85qh+WjL1tKgrsWxvKoxg4khzQO996FHT0tpDNhC4n08OAIiT66gJRksABBNJmH33ZbXymfvcrmvad0jvraEoOZCrvDrMbtM0wg3t1113XDowruf5+im9PB9j9k2nJBQAyBmdcNXpx+qn10T+wu9V0POME49OuH3iCU4G9emmWTeeou9+vb/nbWKtfPKTcSfFFSoM6tNNIwYe5dmWS6ae5jmtw82owcdoxnWD9Ytv/FvM27qNxkj0uOWC99bUqGmfR7DlM/fNvvsy5jECQCLa15pgtASQpbrkwk7OunPsb6Y8+va3jVFJ+HWrP9msfxt4rIYOOo6jCeQYr4KN/Xt1jev+3/16f40YeJT+z/s79enOA+0eb9TgY3Tq8T10yfDeUesQDO3XXQu+N0yvr63X0vUN+mzngYjpHYP6dNPAPl116vE9dNrAHlFDgFSuHtESnMx7f6fe/KS+dSTGoD7d9KUB3VUypKcmjTkhorPeeKBZvXoUaUDPrurfq6uO7h47g14y9TRVLN+mpesbtGH7gdYwI/S5rjrj2KijGlpCjivP6KN3/tmoqpqmdm3Zq0eRhg3ooTNOPFrnntIzofoQmVhWtrPVbNmt1Z+4Lw9qrapmTxv7Gz41ACBBz1zYqLKqmZKZzmgJIHuZXNnRKb9beoUJ2Nfdrut5dHfdeNVIHd2jK0cUQGY7l7sOtnbGRw0+JmZHHvFpKfh5Ut9urqt25Lp9Bw5rwWur1bTPvSCs9ZkrZ//gkr9wJgBAEm55p5e69NikIwdOJpgAspPJpZ39/qNvP2WNvud23akn99M1Y07niAIAcs7i5Wv12Sb3IqHG6ukn7ho7kVYCgA4oq/qZ5pY8QEMA2cmXSzt7ONDtPll94XbdZ5t2qeqjjRxRAEBOqfpoo2coIasvDge63UcrAUAHUVsCyGo5FUxU3HPBdsmWe13/3oe1qt1ax1EFAOSE2q11eu/DaPUsbXnwuw8A0CFM4QCymi/XdnjWXZcuNDI/97r+zZUbtKdxP0cWAJDV9jTu15srN3heb2R+PuuuSxfSUgAAIN+ZXN3xqTPfWiKZq92uO/7YY3TdZV/VUd0phgkAyD77Dx7WS2/+XTv37PW4hX111rRLx9FSAACgEPhydcdNF1MuaZvbdTv37NWrK/6hgLUcYQBAVglYq1dX/CNKKKFtznccAABAQcjZYOKJ28du8qnI8w+3zdvr9eqKf3CEAQBZ5b9X/EObt9dH+WIuKn/i9rGbaCkAAFAofLm8849PG/OKjO7xuv6zTbv0xvvrOcoAgKzwxvvr9anXChySZHTP49PGvEJLAQCAQlKU6y/gb//3//9ryf/4392MdJHb9Tvq9qpx70GdenI/jjYAIGPeeH+91n62zfN6K/OL2dPGPkRLAQCAQmPy5YV8/7dL51hrb/O6/ksn99O/X/QV+YzhqAMAOk1LTYnPooyUMMY++cSdl06mtQAAQCHKq1761EffWiBjbvC6/qQBfXT1RV9htQ4AQKfYf/CwXo1RU0LSglnTxt5EawEAgEKVd8MHps586/9K5kqv648/9hhdfdFXdGyvozj6AIC02dO4P9bqG5Ls67OmXfo/aC0AAFDIfPn2gvYdbvymZF/3un7nnr3685t/V+3WOo4+ACAtarfW6c9v/j1mKBH8zgIAAChseVtwYerMt5+XdGO025z3tSEqOXMwZwEAIGWqPtqo9z6sjX4ja1+YddelN9JaAAAAeRxMSNL3f/vWHGvNbdFuc+rJ/XTpOcN0dA/qTgAAkrfvwGG99bcNUYtcSpIx5skn7ryEQpcAAAAtfx/l+wucMnPpw0b2x9Fu0/Po7rr0nC9r6KDjOCMAAAmr2bJbb/3tn2radzDq7YJLgl5yHy0GAADQpiDWzpz627fvltWvY91u5Gkn6byzhqpLkY8zAwAQ05HmgN5bU6PVn2yO5xv3nll3jv0NrQYAABD+Z1KBuH3m8msDaq6UdEK02/U8upvO+9pQfeXUEzg7AACe/vHZNr33YY2a9h2KddNtPhWVPz5tzCu0GgAAQCRTSC/2+4+/fbI9Yislc3Ws2w4ddJzOO2uI+vftyVkCAGi1o65J762pVc2W3XHc2r5qupjyJ24fu4mWAwAAcGcK8UV/f+bSB6zsT+O5bfHp/6azRwzS0Ud142wBgAK2b/8hfbBui/xr/xXnF6z5+RPTLvkZLQcAABDr76YCNfXRt8ZLplJGA+O5/dkjTtLZIwapd88enDUAUEAamg7og3Vb9MG6zfHdweoLyZbPuuvShbQeAABAbKaQX/ykX787oKvv0MPW6Hvx3ufML5+os0cM0nF9jubsAYA8trt+nz5Yt0Uf/XNr/F+qVk8fDnS7r+KeC7bTggAAAHH+DUUTSFN+t/QKNduHjVFJvPcZPqS/hg3pry+d3I8GBIA88ummXdpQu0Pra3fEfR9rVaUic9/sH1zyF1oQAAAgMQQTIab+9u27FbAPy5i4C0oc3aObhg/pr+FD+mvg8b1oRADIQV/sbND62h1aX7tT+w4civ+O1h6Sz9zHMqAAAADJI5gIM+U3bw4xPt9Dkm5O9L7H9z1Gwwb318kD+ujE/r1pTADIYlt3NGjT9npt2LhDO+v2JvMQ820gcP/suy+rpTUBAACSRzDhYfJv3z7bSHcYq/9I5v7duhbppAF9dNKAPjr5hGM14DiWHQWATNq+u0mbtu3R5u312ry9XocONyf1ONbqD9anx+bcOfYDWhUAAKDjCCZimPqbt0+TT3dImtSRxzmqe1f1O/ZoHdvraPXtfZT69jpKx/Y+Ssf2OopGBoAU2tO4X3sa9quucb/qGvZrT+M+7dqzT/sPHu7oQ1cooMdm3T32E1oZAAAgdQgm4jTpt28P7WLN7ZKdKCllwx98PqM+PY9St65F6talSF3D/tulSxGNDwAhjhxp1qEjzTp8uP1/Dx1uVn3TfgUCNpVP1ySZp44Y+3jFnWNraH0AAIDUI5hI0PTpb3fZ1Uc3WKsbJV1DiwBAXlosqxeOb9SC6dPHHqE5AAAA0odgogPunPnXk47o4I1WulFSMS0CADnNb6QFOqwXnvjh2E00BwAAQOcgmEiR23/z1uhAkRkrq4slXZLK6R4AgLRokrRURst8zfbtx+++dBVNAgAA0PkIJtJk8m/evtBXpItldYmkiyV1pVUAIKMOS1omo6WBZi2bc/fYd2gSAACAzCOY6ATf+tZ/FQ0897gRtqhouA1ohM9nhlsbGCGZ4ZL600IAkFI7jNG6QMCsNz6tk+x609y8/ouVu9e9+OK3m2keAACA7EIwkWHff3x5/+bmg8cXWV8va7r09NnmXgFrehmf6WUV6KWAPZpWAoAQPrPPyNdoA7bRZ2xjwBQ1GnukqdkEGouKuu984vYxO2gkAAAAAAAAAAAAAAAAAAAAAAAAAAAAAAAAAAAAAAAAAAAAAAAAAAAAAJnDcqEAAAAAgKzml5ZLuih8ezF92rzgowkAAACQbaqlIX5puV+yfml5tTSEVsldVdIs51jWVEuX0SI5HRDc5pd2O/9uo0WQCqRLAAAAiCcouKxZus5IX5N0pqS+IVevsNKHRdIfRkl+pyM6z0g3W2l+kXT/KKk2wY7sPCPd3HLZSvNLpAkciYQ7kY9IKg87Xsmqk3RfsfRkoh1ZSXNCNtUWS0M5Ojn5OVAckKpCt/mkkpb3fZrPZUZM5DFGTAAAACBqIOGXlgekN4w0xekYhHdyLzLSlIBUVSXN80u3tYQKRro5IN2U6POasBESxqVDgpgduW9IujdFoYScx5mTxP0Gh10eUi0Vc4RyT0A62WVbCS2DjupCEwAAAMCjY3tbIMGOqBNI3By2+YJUdGY5IrnJSicb9w6un9bJOSfG8V5Ni2JpDM2fvxgxAQAAgAguw+87ok8S9yGI6HhH7mVJM5wpGKlQJ2lyoncyHMt8MpgmQDowYgIAAADtVEuXeYyUqJVU4ZOqRklvOrcd0iyNMdJEMd0i6xRLP1Lwnyu/ZMM2reCXaQCdjWACAAAA7QSkH7hsXuOTrg0vYulcnientkQKR1kAAAoEUzkAAADQylmW85qwzXVuoUQ4Z7WGGbQiACARjJgAAABAq4A0MnyblZ6Ld7lPn/SnQHAliFD10e7jTB35WaypIC7TDrws9km/a5lukoiwZVFD96dO0keS3vVJf4q1PKIzxeUeZyUTL63TJqqlIc7qJRc4//qGPe+rPumNUVleMNJ5HbPCXoObl+J8IWus9GhJcFROIvtRHJAud/bjq2E1S2ol/d05ls8nupStgsvZTjDSg7FqoYQvZVktFTdL/2GkCyWd1fIaJS0oTiDUcx7nK0Y6PaS4bPj7p1bSxo6cO1XSLBMMKqO9znv9ke95N7WSni+OMrUo5L3zkIksoutlRqzHTPJcTslngctn3aMhx971fPFLt1npfGc1oiFh74d3iqSXkvl8y2as+QoAAIDQzv83JL0UFkzML5EmJPAYNWF/TP8oWqfL5fapsLhYKk11RzM0VJA00ykwGVc7egUTTqfuP+NZ1tNK84ukx1IVUKS6xkSVNC+BDmW86oql4xLosN+RyD4k06bxhmQtHc04O9u1PunWaB1Ov/SIggFWwu8X53XeH28Qk66pWT7p8jhe470JPGRKg4lUfxaEvbbl0QJYK303gede7JOmJhOsZSOmcgAAACD0j8NN4duMNK5aKk7gMW51fh2Vleb7pOez9fVWS0P80nIjPZtgZ+8iSS9VBUcHJKu301F5JJ5QwjkWNwek151OI9p3+u4NSFWJBiNOm1Y5HeKUq5ImBKTVcezXkID0YrV0mce5epnTYU8qxHNe5yvVrJKSjZ8FLccokee+Jp+OJ8EEAAAAWjm/Gof/Atc3ID3tjAKI5zHeLJaGFkumRJoQ6xc9J8hYkcKXsdgn/S6OjkhxQHqlI6uJGGmKX/ogvHPgk1ZbaXaMu5+V5HP3lTQnG8OJIul+SYtTuETpGivdEUfnf546HizcWxXnlBErfVdx/FLtTIV4Nt7gyXmvPZrGQ3SWc87HVCw96ZzDqfpFvlbSjFhTEHxShZXmd3IokbbPgrDX9oAzdSeVx3Oe8gBTOQAAANBOjCHca6z0jqSVRdLydA0jdhsqX5zCv12dWgiveMz1XiHpeWdZVL/a5oaXSJrk8Ytm1CkQ8U7tcJ731ZZ2dZ73cknlHp3byU7R0VS1c8qXC/UYvn5dPEPf4xFj+shiK/1XS42KOJe3/VFxEkVcE6iBUivplz7pVUlfDkgvhh9br3PdCTq+49x+jZX+bqSPJX3ikzaFTkcJOXfudQtWSpLo0HpMs0hLjYcE3kcdev7O/iyI8b5oOT7zJb0e+hnrhCclkh52+Szo0OdANqD4JQAAAMIDgCf9wXnsbn80n2WCf8BPCQT/uA4tJFiVKwXZnPn+Z8XbKXVe15uSZjidw/Cilhf5pUc60EGK+rzVUoVH52lOtbQ+3wrhJdBRvU3uoUSdle4I73zHubztf1anr9DoDJ9UERLo1VYFa2I8G9YZdlUiTVXwX0wt544/WHw2fDTJlcqTX9rz7LNghU+a5nbuOdv81dL6gPRG2NVXK8eDCaZyAAAAwO2PxAlxTq9oWV70kYD0hl+q8UuPJFKTorNVS8Uev7BPjueXcqdz6Ha78iTne8f8hX5UsDDitW7DwJ0VTQrVw24b3UKJcM4vzJNdrurbHMf0kQTVOaNEfhQ+ysjZz8khHdMHUvnEbueWoc5EVn4WFEtjYgViTjAS/jlwQR585wAAAACRHWFnOPKMBOsFDJFThDBdxQQ7yq3TaaXZiQyFdn4NDQ9u+jpLfiZiRbzTBpxw4nsuV13kVTAxnzkjHvq6Hct4pyk4dRTmu3Tcb05huLbCJ42MNnWlWHqyWDJOx/RNPoEK8rMgEQ3hz0cwAQAAgLxVHPw1/zjnF91EixrGXUywMxlpXPi2IunXSTzUTJdtNyb4x/i0RG4/SvK7daSdWgIFxUrnu2yuS/RYFkmPuW0PSNenYB9nO2FDymuxVEuX+aVH/NJyZ6SSDfu327luOZ9k2f9ZUOgIJgAAABBPQPFksVRaLB3nC3aCf+R0kNfE+MP/5mwaOeEUzwv/dXFxMh1H5xfw8PudlcBDrEmyjsHrLtvOLMBO5VddgoDnEj2WXmFPKobHl8RZDyIRVdIEv1Tj1Bm416kF4zZtoK9z3UVCtn8WFDyKXwIAACAhIcXfpJCVDiRd6TFfu7y6fcG/bPNRB+67MbxTWC1dFudw/IZknrBIWh6I3NynAE/Fs1zCiin+yGKEycqqsMd5nz0UZQUS5O5nQcFjxAQAAABa+aXbnCHgNt6RDqOk2hJpXkmwYOZ1LtM9+gaCVeMLQkDqlean6M+Z2imyZt5+y5KWhBJ8FuQrggkAAACEejikQ3ZvokUVnSHNleHbPeoBZAWb4s6DT9oU502T+kU+IJW4vIYPC/BcXVMoL7RZeshjakCdlWY7K36Yln8+aagTEk52rkd2fxYUPIIJAAAASB5zrpMsqrgyfEO2LE/o1lEwweVOE+YsBxg+f78ugboRff3BGgGJ+qHLa/i4AE/ZfxXK+9JjpMRinzSyRJoavuKHs6rOy8XSk+moc5EnHeFs+iwoeNSYAAAAQDT/ruByeB1Vnw0vZpTk9wd/aQ/99XmIX7o33mU7WzRL95iwbVZakuAuPVItVcU7D91Z5SQ85KnzSa8W4Ln5qiI7kjOKU3O+Zg0rXW4iN68olkr5eMqrz4KCxogJAAAARHOWX7otwfvc6rIt0aJyK9L4mipdtv1nItNW/NJtxqXIopH+lOjOBKQXq4L1OTxVS0OqpHkev5z/KosLi0rSu2nqyLzqUs8k4elH2c5IX3MJK56K577OeTMrhbuzMs8+37Lqs4BgAgAAAPA2p0qaVR1jOkZL59nlV2z5gksbdki1VBxvR8EvfeAU8Fwe3skolp50qU/QN56AwHn8RyTNcblqcfiQ+jj1NdKzfml5lTQhtJ2rpcv80r0BaZnXcP5Ef93NEifGeSy/4ZcWOceyJvT4OGHMr8LvE+9xzCH1Lp3ek+J5HzjnzZR07pyVTo73/VslzXOK6+7OhmWEs/CzoGAZmgAAAABqqzHxUpSb1Emq9ElvhE498EvfcIabf8djJYPFiQ47d0ZphP/BXyvplz7p1dARAs5+n2il8400zmUfIp6/WrosIL3osb8rJD3vC06x8Ld0qpyikz+Ue0BT55NGeo1ciKNtk7HYJ02NNlrC6TiVp2iFiTpJ9zmdubg5bVflcS79KXQefrV0WbM0SNK5znz/iGkrxdJxYa9xucv8fjkdzgWSPgnvJDqrXIx0Lp5rpV7OyIQznbaqlfRLt9fqnJsPp7BNK6NNP/F4L0jSjND3YrVU3Cx9xVm2d1wC+1dnpTtKgqFiPO/NmvDjYqX5RdIfRrVfRrg4EAwtznWmhEUU7/RJl4fs/5CANEnJ1V2JZoVPesBrulRnfRYk+Poi9tnZz0c9iqCGnk+/ysWwkmACAAAA6ew8r/FJ1yY61cD5I36ZUlM00zUYidEhSahz6ZO+Fa1OhEfbrpHU4NGpjiVmLYU0HU8VJ9GH8EuLlGRhwVjBRMtSmjE6bCl5Lue12DS8/a6L9gu7X/og2ddnpfnxLDMa73F1CramZLRDaDCRrvO1paNfLI2J8nmT9s+CJF5fu32OEsCl5D2aaUzlAAAAQMsfsy+7zNnvUGcgmVBCzjB9X7BWRUf3Z41P+p3Hc7zpk77VwWUnVzi/jr6ZxH0bnI7HjARe5wqfdHmuFXj0BVeG6OjynnVWusPjXLnWSvNTvNsbs6j9rk2y/SaXpHhaS7E0I0VtPSPJ903KZcFnQcEjmAAAAECo+5xh7LLSbJ9UkkQnpFbS5GJpTEeKMnags1AnabGzD2dH6yiMkt4sls6WNFmJ7esaK323o6/R6ej9yBecVvAjZ+h4XdhrWaHgbUqc53szzsd9OcHQI552nZzksax1OteLk+nwOa9/pNd0g1FSrdMBvy4FhVPXONMkrvXq7Ke4TWfEqkeQRPjSEmDFM+2mzkrfTWSnnbZOZrrAmpbPlfBwzSetVnqmIKzwSQ/E83mTzs+CBF9fxD47l9fEcT7l5Ko0TOUAAABATM5w+asV/PdvYcPK6yR9ZKUPJa2Md656IpxCdFea4NSO8OHMK6xUa6SP3eoJJPE85zr1Bi4Kf42S3g2vsREPj2HcUYeX5/G5dFmzdF1YTYfQUOBfTluv9Emrkwl+nKH5l0u6QNJgt1oVLSvFWOlDI22S9Emyz9fJ7VfcLP2Hyzm6xkrvFEkvddav9k69hcudz4Xwdq51Rp28a6W1RdI/QuuJZLt0fRaAYAIAAADICIIJAPDGVA4AAAAAAJAxBBMAAAAAACBjCCYAAAAAAEDGUGMCAAAASLFqaUizdI+RpiR411pJP+hIAU8AyDWMmAAAAABSLCCNTCKUkLOqwTRaEEAhIZgAAAAAAAAZQzABAAAApP6P7NVWmp3EXWslzaQFAQAAAAAAAAAAAAAAAAAAAAAAAAAAAAAAAAAAAAAAAAAAAAAAAAAAAAAAAAAAAAAAAAAAAAAAAAAAAAAAAAAAAAAAAAAAAAAAAAAAAAAAAAAAAAAAAAAAAAAAAAAAAAAAAAAAAAAAAAAAAAAAAAAAAAAAAAAAAAAAAAAAAAAAAAAAAAAAAAAAAAAAAAAAAAAAAAAAAAAAAAAAAAAAAAAAAAAAAAAAAAAAAAAAAAAAEOr/AU4BA68yrHNrAAAAAElFTkSuQmCC\" alt =\"Test picture\" style=\"width: 300px;\"/>"
   ]
  },
  {
   "cell_type": "markdown",
   "metadata": {},
   "source": [
    "\n",
    "На самом деле мы уже попробовали использовать цикл **for** на множествах и на списках. \\\n",
    "Теперь давайте систематически разберемся, как for используется с разными коллекциями"
   ]
  },
  {
   "cell_type": "markdown",
   "metadata": {},
   "source": [
    "### Списки, строки, множества и кортежи"
   ]
  },
  {
   "cell_type": "markdown",
   "metadata": {},
   "source": [
    "В общем, по индексированным последовательностям мы уже ходить умеем. В списках и кортежах это проход по элементам(подряд)\\\n",
    "а в строках это проход по буквам(в порядке следования)."
   ]
  },
  {
   "cell_type": "code",
   "execution_count": 60,
   "metadata": {},
   "outputs": [
    {
     "name": "stdout",
     "output_type": "stream",
     "text": [
      "T\n",
      "a\n",
      "k\n",
      "e\n",
      " \n",
      "a\n",
      " \n",
      "l\n",
      "o\n",
      "o\n",
      "k\n",
      " \n",
      "a\n",
      "r\n",
      "o\n",
      "u\n",
      "n\n",
      "d\n"
     ]
    }
   ],
   "source": [
    "x = 'Take a look around'\n",
    "for i in x:\n",
    "    print(i)"
   ]
  },
  {
   "cell_type": "code",
   "execution_count": 62,
   "metadata": {},
   "outputs": [
    {
     "name": "stdout",
     "output_type": "stream",
     "text": [
      "10\n"
     ]
    }
   ],
   "source": [
    "# Здесь мы прошлись по элементам списка и посчитали их сумму\n",
    "# В цикл вошли с total = 0 и на каждом элементе добавляли к total значение элемента\n",
    "x = [1,2,3,4]\n",
    "total = 0\n",
    "\n",
    "for i in x:\n",
    "    total+=i\n",
    "print(total)"
   ]
  },
  {
   "cell_type": "code",
   "execution_count": 68,
   "metadata": {},
   "outputs": [
    {
     "name": "stdout",
     "output_type": "stream",
     "text": [
      "175\n"
     ]
    }
   ],
   "source": [
    "# Здесь мы прошлись по элементам кортежа и посчитали сумму тех, которые делятся на 7 нацело\n",
    "# В цикл вошли с total = 0 и на каждом элементе добавляли к total значение элементов, удовлетворяющих условию\n",
    "\n",
    "x = (1,2,3,4,7,49,4,23,63,28,28)\n",
    "total = 0\n",
    "\n",
    "for i in x:\n",
    "    if i % 7 == 0:\n",
    "        total+=i\n",
    "print(total)"
   ]
  },
  {
   "cell_type": "code",
   "execution_count": 71,
   "metadata": {},
   "outputs": [
    {
     "name": "stdout",
     "output_type": "stream",
     "text": [
      "34\n",
      "{1, 2, 3, 4, 7, 49, 23, 28, 63}\n"
     ]
    }
   ],
   "source": [
    "# Здесь мы преобразовали кортеж из предыдущей ячейки в множество и посчитали сумму четных элементов\n",
    "# В цикл вошли с total = 0 и на каждом элементе добавляли к total значение элементов, удовлетворяющих условию\n",
    "x_set = set(x)\n",
    "total = 0\n",
    "\n",
    "for i in x_set:\n",
    "    if i % 2 == 0:\n",
    "        total+=i\n",
    "print(total)\n",
    "print(x_set)"
   ]
  },
  {
   "cell_type": "markdown",
   "metadata": {},
   "source": [
    "### Словари\n",
    "\n",
    "В случае словарей итерация (по умолчанию) происходит по ключам"
   ]
  },
  {
   "cell_type": "code",
   "execution_count": 72,
   "metadata": {},
   "outputs": [
    {
     "name": "stdout",
     "output_type": "stream",
     "text": [
      "foo\n",
      "bar\n",
      "baz\n"
     ]
    }
   ],
   "source": [
    "d = {'foo': 1, 'bar': 2, 'baz': 3}\n",
    "for k in d:\n",
    "    print(k)"
   ]
  },
  {
   "cell_type": "markdown",
   "metadata": {},
   "source": [
    "Но по ключам можно вынимать и соответствующие значения"
   ]
  },
  {
   "cell_type": "code",
   "execution_count": 73,
   "metadata": {},
   "outputs": [
    {
     "name": "stdout",
     "output_type": "stream",
     "text": [
      "1\n",
      "2\n",
      "3\n"
     ]
    }
   ],
   "source": [
    "for k in d:\n",
    "    print(d[k])"
   ]
  },
  {
   "cell_type": "markdown",
   "metadata": {},
   "source": [
    "Также можно напрямую указать, по чему мы итерируемся: по ключам, по значениям или по кортежам ключ-значение\\\n",
    "Помните методы **.values()** , **.keys()** и **.items()** ?"
   ]
  },
  {
   "cell_type": "code",
   "execution_count": 85,
   "metadata": {},
   "outputs": [
    {
     "name": "stdout",
     "output_type": "stream",
     "text": [
      "{'foo': 1, 'bar': 2, 'baz': 3}\n",
      "1\n",
      "2\n",
      "3\n"
     ]
    }
   ],
   "source": [
    "print(d)\n",
    "for v in d.values():\n",
    "    print(v)"
   ]
  },
  {
   "cell_type": "code",
   "execution_count": 86,
   "metadata": {},
   "outputs": [
    {
     "name": "stdout",
     "output_type": "stream",
     "text": [
      "{'foo': 1, 'bar': 2, 'baz': 3}\n",
      "foo\n",
      "bar\n",
      "baz\n"
     ]
    }
   ],
   "source": [
    "print(d)\n",
    "for v in d.keys():\n",
    "    print(v)"
   ]
  },
  {
   "cell_type": "code",
   "execution_count": 87,
   "metadata": {},
   "outputs": [
    {
     "name": "stdout",
     "output_type": "stream",
     "text": [
      "{'foo': 1, 'bar': 2, 'baz': 3}\n",
      "('foo', 1)\n",
      "('bar', 2)\n",
      "('baz', 3)\n"
     ]
    }
   ],
   "source": [
    "print(d)\n",
    "for v in d.items():\n",
    "    print(v)"
   ]
  },
  {
   "cell_type": "markdown",
   "metadata": {},
   "source": [
    "А еще можно \"распаковать\" эти кортежи-ключ значения (примерно так же, как мы сделали для **enumerate**)"
   ]
  },
  {
   "cell_type": "code",
   "execution_count": 88,
   "metadata": {},
   "outputs": [
    {
     "name": "stdout",
     "output_type": "stream",
     "text": [
      "k = foo , v = 1\n",
      "k = bar , v = 2\n",
      "k = baz , v = 3\n"
     ]
    }
   ],
   "source": [
    "d = {'foo': 1, 'bar': 2, 'baz': 3}\n",
    "for k, v in d.items():\n",
    "    print('k =', k, ', v =', v)"
   ]
  },
  {
   "cell_type": "markdown",
   "metadata": {},
   "source": [
    "Перед тем, как начать решать какие-то задачи, остается упомянуть крайне полезную функцию **range()**. \\\n",
    "Простыми словами, **range()** позволяет вам генерировать ряд чисел в рамках заданного диапазона. В зависимости от того, как много аргументов вы передаете функции, вы можете решить, где этот ряд чисел начнется и закончится, а также насколько велика разница будет между двумя числами."
   ]
  },
  {
   "cell_type": "markdown",
   "metadata": {},
   "source": [
    "Есть три способа вызова **range()**:\n",
    "\n",
    "* **range(стоп)** берет один аргумент\n",
    "* **range(старт, стоп)** берет два аргумента\n",
    "* **range(старт, стоп, шаг)** берет три аргумента\n",
    "\n",
    "На деле **range()** возвращает \"ленивый\" итерируемый объект (Да, сейчас что-то сложно). Понимать надо следующее:\\\n",
    "* По range() можно итерироваться (значит это итерируемый объект)\n",
    "* range() не держит все свои объекты в памяти, а достает их \"по требованию\" (прям как итератор!)\n",
    "* Но есть и ряд отличий, который делает range() похожим на последовательности (списки, кортежи и строки)"
   ]
  },
  {
   "cell_type": "code",
   "execution_count": 90,
   "metadata": {},
   "outputs": [
    {
     "name": "stdout",
     "output_type": "stream",
     "text": [
      "0\n",
      "1\n",
      "2\n"
     ]
    }
   ],
   "source": [
    "# Это как раз первый случай (мы вывели все целые числа ДО трех)\n",
    "for i in range(3):\n",
    "    print(i)"
   ]
  },
  {
   "cell_type": "code",
   "execution_count": 91,
   "metadata": {},
   "outputs": [
    {
     "name": "stdout",
     "output_type": "stream",
     "text": [
      "0\n",
      "1\n",
      "2\n",
      "3\n",
      "4\n",
      "5\n",
      "6\n",
      "7\n",
      "8\n",
      "9\n"
     ]
    }
   ],
   "source": [
    "# Это второй случай (мы вывели все целые числа от 0 до 10 не включая правый конец)\n",
    "for i in range(0, 10):\n",
    "    print(i)"
   ]
  },
  {
   "cell_type": "code",
   "execution_count": 92,
   "metadata": {},
   "outputs": [
    {
     "name": "stdout",
     "output_type": "stream",
     "text": [
      "0\n",
      "2\n",
      "4\n",
      "6\n",
      "8\n"
     ]
    }
   ],
   "source": [
    "# Ну а это третий случай (мы вывели все целые числа от 0 до 10 не включая правый конец с шагом 2)\n",
    "# То есть нулевое, второе, четвертое и т.д.\n",
    "for i in range(0, 10, 2):\n",
    "    print(i)"
   ]
  },
  {
   "cell_type": "markdown",
   "metadata": {},
   "source": [
    "Шаг здесь может быть положительным или отрицательным числом, но не может быть нулем! Отрицательное число будет означать уменьшение аргумента, то есть:"
   ]
  },
  {
   "cell_type": "code",
   "execution_count": 93,
   "metadata": {},
   "outputs": [
    {
     "name": "stdout",
     "output_type": "stream",
     "text": [
      "10\n",
      "9\n",
      "8\n",
      "7\n",
      "6\n",
      "5\n",
      "4\n",
      "3\n",
      "2\n",
      "1\n"
     ]
    }
   ],
   "source": [
    "for i in range(10, 0, -1):\n",
    "    print(i)"
   ]
  },
  {
   "cell_type": "markdown",
   "metadata": {},
   "source": [
    "А теперь отличие от итераторов! У range можно обратиться к элементу или даже срезу (как в списках)"
   ]
  },
  {
   "cell_type": "code",
   "execution_count": 95,
   "metadata": {},
   "outputs": [
    {
     "name": "stdout",
     "output_type": "stream",
     "text": [
      "1\n"
     ]
    }
   ],
   "source": [
    "print(range(3)[1])"
   ]
  },
  {
   "cell_type": "code",
   "execution_count": 96,
   "metadata": {},
   "outputs": [
    {
     "name": "stdout",
     "output_type": "stream",
     "text": [
      "range(2, 5)\n"
     ]
    }
   ],
   "source": [
    "print(range(10)[2:5])"
   ]
  },
  {
   "cell_type": "markdown",
   "metadata": {},
   "source": [
    "Немного истории: в Python 2 были функции **range** и **xrange**. Первая создавала список (прям настоящий список), а вторая - \\\n",
    "именно то, что теперь в Python 3 называется **range**"
   ]
  },
  {
   "cell_type": "markdown",
   "metadata": {},
   "source": [
    "### Задача 1\n",
    "Считайте с клавиатуры несколько чисел через пробел и выведите сумму их кубов\n",
    "\n",
    "**Вход:** 1 2 3 \\\n",
    "**Выход:** 36"
   ]
  },
  {
   "cell_type": "code",
   "execution_count": 3,
   "metadata": {},
   "outputs": [
    {
     "name": "stdin",
     "output_type": "stream",
     "text": [
      " 1 2 3 5\n"
     ]
    },
    {
     "name": "stdout",
     "output_type": "stream",
     "text": [
      "161\n"
     ]
    }
   ],
   "source": [
    "# Решение\n",
    "numbers = map(int,input().split())             \n",
    "x = 0\n",
    "for i in numbers:\n",
    "    x += i**3\n",
    "print(x)"
   ]
  },
  {
   "cell_type": "markdown",
   "metadata": {},
   "source": [
    "### Задача 2\n",
    "Считайте с клавиатуры две последовательности чисел через пробел и выведите список уникальных общих элементов этих двух последовательностей. Сделать это можно с помощью вложенного цикла for и, например, множеств.\n",
    "\n",
    "**Вход:** \n",
    "\n",
    "            Последовательность 1: 1 2 3 \n",
    "        \n",
    "            Последовательность 2: 2,2,4,7,4,3 \n",
    "            \n",
    "**Выход:** \n",
    "\n",
    "            Общие элементы: [2,3]"
   ]
  },
  {
   "cell_type": "markdown",
   "metadata": {},
   "source": [
    "Взяли и посчитали вложенными циклами"
   ]
  },
  {
   "cell_type": "code",
   "execution_count": 112,
   "metadata": {},
   "outputs": [
    {
     "name": "stdout",
     "output_type": "stream",
     "text": [
      "1 2 3 4 5\n",
      "2 2 3 3\n",
      "{2, 3}\n"
     ]
    }
   ],
   "source": [
    "common = set()\n",
    "\n",
    "list1 = list(map(int,input().split()))\n",
    "list2 = list(map(int,input().split()))\n",
    "\n",
    "for  elem1 in list1:\n",
    "    for elem2 in list2:\n",
    "        if elem1 == elem2:\n",
    "            common.add(elem1)\n",
    "            break\n",
    "\n",
    "print(common)"
   ]
  },
  {
   "cell_type": "markdown",
   "metadata": {},
   "source": [
    "Но можно было и без этого. Решать можно было в несколько строк с использованием функционала множеств"
   ]
  },
  {
   "cell_type": "code",
   "execution_count": 114,
   "metadata": {},
   "outputs": [
    {
     "name": "stdout",
     "output_type": "stream",
     "text": [
      "1 2 2 2 2 3 4 6 4 \n",
      "3 7 6 3 2\n"
     ]
    },
    {
     "data": {
      "text/plain": [
       "{2, 3, 6}"
      ]
     },
     "execution_count": 114,
     "metadata": {},
     "output_type": "execute_result"
    }
   ],
   "source": [
    "set1 = set(map(int,input().split()))\n",
    "set2 = set(map(int,input().split()))\n",
    "set1.intersection(set2)"
   ]
  },
  {
   "cell_type": "markdown",
   "metadata": {},
   "source": [
    "### Задача 3\n",
    "Дан список, содержащий строки, целые числа и числа с плавающей точкой. Разбить его на три списка так, чтобы в одном остались только строки, в другом - только целые числа, а в третьем - только числа с плавающей точкой. Заметьте, что при проверке типов название типа пишется без кавычек, например **int**.\n",
    "\n",
    "**Вход:** \n",
    "\n",
    "            Список 1: [1, 2, 5.6, 7.5, 'Boo', 1, 'RocknRoll']\n",
    "            \n",
    "**Выход:** \n",
    "\n",
    "            Список 1: [1, 2, 1]\n",
    "            Список 2: [5.6, 7.5]\n",
    "            Список 3: ['Boo', 'RocknRoll']"
   ]
  },
  {
   "cell_type": "code",
   "execution_count": 119,
   "metadata": {},
   "outputs": [
    {
     "name": "stdout",
     "output_type": "stream",
     "text": [
      "[1, 2, 1]\n",
      "[5.6, 7.5]\n",
      "['Boo', 'RocknRoll']\n"
     ]
    }
   ],
   "source": [
    "#Решение\n",
    "list1 = [1, 2, 5.6, 7.5, 'Boo', 1, 'RocknRoll']\n",
    "\n",
    "ints, floats, strings = [], [], []\n",
    "for i in list1:\n",
    "    if type(i)==int:\n",
    "        ints.append(i)\n",
    "    elif type(i)==float:\n",
    "        floats.append(i)\n",
    "    else:\n",
    "        strings.append(i)\n",
    "print(ints)\n",
    "print(floats)\n",
    "print(strings)"
   ]
  },
  {
   "cell_type": "markdown",
   "metadata": {},
   "source": [
    "### Генераторы списков и списковые включения. aka List Comprehensions\n",
    "Этот элемент языка считается его \"визитной карточкой\". Это своего рода метод быстро создать новый список, не применяя цикл for. Пусть мы, к примеру, хотим создать список с числами от 0 до 20"
   ]
  },
  {
   "cell_type": "code",
   "execution_count": 126,
   "metadata": {},
   "outputs": [
    {
     "data": {
      "text/plain": [
       "[0, 1, 2, 3, 4, 5, 6, 7, 8, 9, 10, 11, 12, 13, 14, 15, 16, 17, 18, 19]"
      ]
     },
     "execution_count": 126,
     "metadata": {},
     "output_type": "execute_result"
    }
   ],
   "source": [
    "a = []\n",
    "for i in range(20):\n",
    "    a.append(i)\n",
    "a"
   ]
  },
  {
   "cell_type": "markdown",
   "metadata": {},
   "source": [
    "Это же выражение можно записать с помощью спискового включения"
   ]
  },
  {
   "cell_type": "code",
   "execution_count": 131,
   "metadata": {},
   "outputs": [
    {
     "name": "stdout",
     "output_type": "stream",
     "text": [
      "<class 'list'>\n",
      "[0, 1, 2, 3, 4, 5, 6, 7, 8, 9, 10, 11, 12, 13, 14, 15, 16, 17, 18, 19]\n"
     ]
    }
   ],
   "source": [
    "a = [i for i in range(20)]\n",
    "print(type(a))\n",
    "print(a)"
   ]
  },
  {
   "cell_type": "markdown",
   "metadata": {},
   "source": [
    "Что мы видим? Во-первых, на выходе такой конструкцими мы получили лист (конечно, это же СПИСКОВОЕ включение). А во-вторых, все написано в одну строчку и , кажется следует вот такой конструкции:\n",
    "\n",
    "**new_list** = [**expression** for **member** in **iterable**]\n",
    "\n",
    "1. **expression** какое либо вычисление, вызов метода или любое другое допустимое выражение, которое возвращает значение. В приведенном выше примере выражение i * i является квадратом значения члена.\n",
    "2. **member** является объектом или значением в списке или итерируемым объекте (iterable). В приведенном выше примере значением элемента является i.\n",
    "3. **iterable** список, множество, последовательность, генератор или любой другой объект, который может возвращать свои элементы по одному. В приведенном выше примере iterable является range(20).\n",
    "\n",
    "Одним из основных преимуществ использования является то, что это единственный инструмент, который вы можете использовать в самых разных ситуациях. В дополнение к созданию стандартного списка, списки могут также использоваться для отображения и фильтрации. Вам не нужно использовать разные подходы для каждого сценария. Например, можно в раздел **expression** поставить функцию str(), которая превратит каждый элемент исходного списка в строку."
   ]
  },
  {
   "cell_type": "code",
   "execution_count": 134,
   "metadata": {},
   "outputs": [
    {
     "data": {
      "text/plain": [
       "['1', '2', '3', '4', '5', '45', '67', '8', '765', '854', '76']"
      ]
     },
     "execution_count": 134,
     "metadata": {},
     "output_type": "execute_result"
    }
   ],
   "source": [
    "lst = [1,2,3,4,5,45,67,8,765,854,76]\n",
    "x = [str(i) for i in lst]\n",
    "x"
   ]
  },
  {
   "cell_type": "markdown",
   "metadata": {},
   "source": [
    "Но и это еще не все. В списковое включение можно добавить какое нибудь условие (как мы это делали с **if**). Выглядеть это будет так:\n",
    "\n",
    "    new_list = [expression for member in iterable (if conditional)]\n",
    "\n",
    "Разберем на примере:"
   ]
  },
  {
   "cell_type": "code",
   "execution_count": 135,
   "metadata": {},
   "outputs": [
    {
     "data": {
      "text/plain": [
       "[2, 4, 8, 854, 76]"
      ]
     },
     "execution_count": 135,
     "metadata": {},
     "output_type": "execute_result"
    }
   ],
   "source": [
    "lst = [1,2,3,4,5,45,67,8,765,854,76]\n",
    "x = [i for i in lst if i%2 == 0] #Здесь я взял и включил в новый список только четные элементы\n",
    "x"
   ]
  },
  {
   "cell_type": "markdown",
   "metadata": {},
   "source": [
    "Более того - не зря в условии написано iterable, а не list. Значит можно попробовать проделать что-то подобное с любыми другими итерируемыми объектами. с кортежами все точно должно получиться:"
   ]
  },
  {
   "cell_type": "code",
   "execution_count": 141,
   "metadata": {},
   "outputs": [
    {
     "data": {
      "text/plain": [
       "['T',\n",
       " 'h',\n",
       " 'r',\n",
       " 'c',\n",
       " 'k',\n",
       " 't',\n",
       " ',',\n",
       " 'w',\n",
       " 'h',\n",
       " 'w',\n",
       " 's',\n",
       " 'n',\n",
       " 'm',\n",
       " 'd',\n",
       " 'T',\n",
       " 'd',\n",
       " ',',\n",
       " 'c',\n",
       " 'm',\n",
       " 'b',\n",
       " 'c',\n",
       " 'k',\n",
       " '\\n',\n",
       " 'f',\n",
       " 'r',\n",
       " 'm',\n",
       " 'M',\n",
       " 'r',\n",
       " 's',\n",
       " 'b',\n",
       " 'c',\n",
       " 's',\n",
       " 'h',\n",
       " 'm',\n",
       " 's',\n",
       " 's',\n",
       " 'd',\n",
       " 'h',\n",
       " 's',\n",
       " 'f',\n",
       " 'r',\n",
       " 'n',\n",
       " 'd',\n",
       " 's',\n",
       " '.']"
      ]
     },
     "execution_count": 141,
     "metadata": {},
     "output_type": "execute_result"
    }
   ],
   "source": [
    "# Предложение\n",
    "sentence = '''The rocket, who was named Ted, came back  \n",
    "            from Mars because he missed his friends.'''\n",
    "\n",
    "# Гласные английского языка и пробел\n",
    "vowels = 'aeiou '\n",
    "\n",
    "# достанем в список все символы строки, которые не являются гласными и пробелом.\n",
    "consonants = [i for i in sentence if i not in vowels]\n",
    "consonants"
   ]
  },
  {
   "cell_type": "markdown",
   "metadata": {},
   "source": [
    "А еще вот так можно было... Не зря же регулярные выражения проходили."
   ]
  },
  {
   "cell_type": "code",
   "execution_count": 142,
   "metadata": {},
   "outputs": [
    {
     "data": {
      "text/plain": [
       "['T',\n",
       " 'h',\n",
       " 'r',\n",
       " 'c',\n",
       " 'k',\n",
       " 't',\n",
       " ',',\n",
       " 'w',\n",
       " 'h',\n",
       " 'w',\n",
       " 's',\n",
       " 'n',\n",
       " 'm',\n",
       " 'd',\n",
       " 'T',\n",
       " 'd',\n",
       " ',',\n",
       " 'c',\n",
       " 'm',\n",
       " 'b',\n",
       " 'c',\n",
       " 'k',\n",
       " '\\n',\n",
       " 'f',\n",
       " 'r',\n",
       " 'm',\n",
       " 'M',\n",
       " 'r',\n",
       " 's',\n",
       " 'b',\n",
       " 'c',\n",
       " 's',\n",
       " 'h',\n",
       " 'm',\n",
       " 's',\n",
       " 's',\n",
       " 'd',\n",
       " 'h',\n",
       " 's',\n",
       " 'f',\n",
       " 'r',\n",
       " 'n',\n",
       " 'd',\n",
       " 's',\n",
       " '.']"
      ]
     },
     "execution_count": 142,
     "metadata": {},
     "output_type": "execute_result"
    }
   ],
   "source": [
    "import re\n",
    "re.findall(r'[^aeiou ]',sentence)"
   ]
  },
  {
   "cell_type": "markdown",
   "metadata": {},
   "source": [
    "Мы уже поняли, что можно поместить условие в конец оператора для простой фильтрации, но что, если хочется изменить значение элемента вместо его фильтрации? В этом случае полезно поместить условное выражение в начале выражения. Выглядит это вот так:\n",
    "\n",
    "    new_list = [expression (if conditional) for member in iterable]\n",
    "\n",
    "С помощью этого шаблона можно, например, использовать условную логику для выбора из нескольких возможных вариантов вывода. Допустим, у вас есть список цен, можно заменить отрицательные цены (это могут быть какие-то ошибки логирования) на 0 и оставить положительные значения без изменений:"
   ]
  },
  {
   "cell_type": "code",
   "execution_count": 143,
   "metadata": {},
   "outputs": [
    {
     "data": {
      "text/plain": [
       "[1.25, 0, 10.22, 3.78, 0, 1.16]"
      ]
     },
     "execution_count": 143,
     "metadata": {},
     "output_type": "execute_result"
    }
   ],
   "source": [
    "original_prices = [1.25, -9.45, 10.22, 3.78, -5.92, 1.16]\n",
    "prices = [i if i > 0 else 0 for i in original_prices]\n",
    "prices"
   ]
  },
  {
   "cell_type": "markdown",
   "metadata": {},
   "source": [
    "Здесь, наше выражение **i** содержит условный оператор, **if i> 0** else **0**. Это говорит Python выводить значение **i**, если число положительное, но менять **i** на **0**, если число отрицательное."
   ]
  },
  {
   "cell_type": "markdown",
   "metadata": {},
   "source": [
    "### Включения для множеств и словарей"
   ]
  },
  {
   "cell_type": "markdown",
   "metadata": {},
   "source": [
    "Хотя **list comprehension** в Python является распространенным инструментом, вы также можете создавать множественные и словарные представления (**set and dictionary comprehensions**). **set comprehension** почти точно такое же, как представление списка. Разница лишь в том, что заданные значения обеспечивают, чтобы выходные данные не содержали дубликатов. Вы можете создать **set comprehension**, используя фигурные скобки вместо скобок:"
   ]
  },
  {
   "cell_type": "code",
   "execution_count": 144,
   "metadata": {},
   "outputs": [
    {
     "data": {
      "text/plain": [
       "{'a', 'e', 'i', 'u'}"
      ]
     },
     "execution_count": 144,
     "metadata": {},
     "output_type": "execute_result"
    }
   ],
   "source": [
    "quote = \"life, uh, finds a way\"\n",
    "unique_vowels = {i for i in quote if i in 'aeiou'}\n",
    "unique_vowels"
   ]
  },
  {
   "cell_type": "markdown",
   "metadata": {},
   "source": [
    "Здесь мы вывели все уникальные гласные, которые встретились в строке"
   ]
  },
  {
   "cell_type": "markdown",
   "metadata": {},
   "source": [
    "**Dictionary comprehensions** , по сути, работает так же, но с дополнительным требованием определения ключа. Ключ отделяется двоеточием.\n"
   ]
  },
  {
   "cell_type": "code",
   "execution_count": 152,
   "metadata": {},
   "outputs": [
    {
     "data": {
      "text/plain": [
       "{0: 0, 1: 1, 2: 4, 3: 9, 4: 16, 5: 25, 6: 36, 7: 49, 8: 64, 9: 81}"
      ]
     },
     "execution_count": 152,
     "metadata": {},
     "output_type": "execute_result"
    }
   ],
   "source": [
    "squares = {i: i * i for i in range(10)}\n",
    "squares"
   ]
  },
  {
   "cell_type": "markdown",
   "metadata": {},
   "source": [
    "### Генераторы списков"
   ]
  },
  {
   "cell_type": "markdown",
   "metadata": {},
   "source": [
    "По сути, это то же самое, что списковое включение, но только возвращает оно не сам список, а генератор. "
   ]
  },
  {
   "cell_type": "code",
   "execution_count": 164,
   "metadata": {},
   "outputs": [
    {
     "data": {
      "text/plain": [
       "generator"
      ]
     },
     "execution_count": 164,
     "metadata": {},
     "output_type": "execute_result"
    }
   ],
   "source": [
    "type((i * i for i in range(10)))"
   ]
  },
  {
   "cell_type": "markdown",
   "metadata": {},
   "source": [
    "Проверим:"
   ]
  },
  {
   "cell_type": "code",
   "execution_count": 165,
   "metadata": {},
   "outputs": [],
   "source": [
    "x = (i * i for i in range(10))"
   ]
  },
  {
   "cell_type": "code",
   "execution_count": 166,
   "metadata": {},
   "outputs": [
    {
     "data": {
      "text/plain": [
       "0"
      ]
     },
     "execution_count": 166,
     "metadata": {},
     "output_type": "execute_result"
    }
   ],
   "source": [
    "next(x)"
   ]
  },
  {
   "cell_type": "code",
   "execution_count": 167,
   "metadata": {},
   "outputs": [
    {
     "data": {
      "text/plain": [
       "1"
      ]
     },
     "execution_count": 167,
     "metadata": {},
     "output_type": "execute_result"
    }
   ],
   "source": [
    "next(x)"
   ]
  },
  {
   "cell_type": "markdown",
   "metadata": {},
   "source": [
    "Так-так, функция next работает."
   ]
  },
  {
   "cell_type": "code",
   "execution_count": 168,
   "metadata": {},
   "outputs": [
    {
     "ename": "TypeError",
     "evalue": "'generator' object is not subscriptable",
     "output_type": "error",
     "traceback": [
      "\u001b[0;31m---------------------------------------------------------------------------\u001b[0m",
      "\u001b[0;31mTypeError\u001b[0m                                 Traceback (most recent call last)",
      "\u001b[0;32m<ipython-input-168-cedd7ac36334>\u001b[0m in \u001b[0;36m<module>\u001b[0;34m\u001b[0m\n\u001b[0;32m----> 1\u001b[0;31m \u001b[0mx\u001b[0m\u001b[0;34m[\u001b[0m\u001b[0;36m4\u001b[0m\u001b[0;34m]\u001b[0m\u001b[0;34m\u001b[0m\u001b[0;34m\u001b[0m\u001b[0m\n\u001b[0m",
      "\u001b[0;31mTypeError\u001b[0m: 'generator' object is not subscriptable"
     ]
    }
   ],
   "source": [
    "x[4]"
   ]
  },
  {
   "cell_type": "markdown",
   "metadata": {},
   "source": [
    "К элементам обращаться нельзя"
   ]
  },
  {
   "cell_type": "code",
   "execution_count": 170,
   "metadata": {},
   "outputs": [
    {
     "name": "stdout",
     "output_type": "stream",
     "text": [
      "0\n",
      "1\n",
      "4\n",
      "9\n",
      "16\n",
      "25\n",
      "36\n",
      "49\n",
      "64\n",
      "81\n"
     ]
    },
    {
     "ename": "StopIteration",
     "evalue": "",
     "output_type": "error",
     "traceback": [
      "\u001b[0;31m---------------------------------------------------------------------------\u001b[0m",
      "\u001b[0;31mStopIteration\u001b[0m                             Traceback (most recent call last)",
      "\u001b[0;32m<ipython-input-170-b75fcb94c0d0>\u001b[0m in \u001b[0;36m<module>\u001b[0;34m\u001b[0m\n\u001b[1;32m      1\u001b[0m \u001b[0mx\u001b[0m \u001b[0;34m=\u001b[0m \u001b[0;34m(\u001b[0m\u001b[0mi\u001b[0m \u001b[0;34m*\u001b[0m \u001b[0mi\u001b[0m \u001b[0;32mfor\u001b[0m \u001b[0mi\u001b[0m \u001b[0;32min\u001b[0m \u001b[0mrange\u001b[0m\u001b[0;34m(\u001b[0m\u001b[0;36m10\u001b[0m\u001b[0;34m)\u001b[0m\u001b[0;34m)\u001b[0m\u001b[0;34m\u001b[0m\u001b[0;34m\u001b[0m\u001b[0m\n\u001b[1;32m      2\u001b[0m \u001b[0;32mwhile\u001b[0m \u001b[0;32mTrue\u001b[0m\u001b[0;34m:\u001b[0m\u001b[0;34m\u001b[0m\u001b[0;34m\u001b[0m\u001b[0m\n\u001b[0;32m----> 3\u001b[0;31m     \u001b[0mprint\u001b[0m\u001b[0;34m(\u001b[0m\u001b[0mnext\u001b[0m\u001b[0;34m(\u001b[0m\u001b[0mx\u001b[0m\u001b[0;34m)\u001b[0m\u001b[0;34m)\u001b[0m\u001b[0;34m\u001b[0m\u001b[0;34m\u001b[0m\u001b[0m\n\u001b[0m",
      "\u001b[0;31mStopIteration\u001b[0m: "
     ]
    }
   ],
   "source": [
    "x = (i * i for i in range(10))\n",
    "while True:\n",
    "    print(next(x))"
   ]
  },
  {
   "cell_type": "markdown",
   "metadata": {},
   "source": [
    "**StopIteration!** Опять что-то знакомое) Получается, что генератор, это , на самом деле, какой-то вид итератора. Так оно и есть. Генератор это итератор, который можно получить с помощью генераторного выражения, например, (i * i for i in range(10)) или с помощью функции-генератора (но об этом в следующей серии."
   ]
  },
  {
   "cell_type": "markdown",
   "metadata": {},
   "source": [
    "\n",
    "Так а зачем все это нужно-то? А вот возьмите, например, и посчитайте сумму квадратов первого миллиона чисел"
   ]
  },
  {
   "cell_type": "code",
   "execution_count": 1,
   "metadata": {},
   "outputs": [
    {
     "name": "stdout",
     "output_type": "stream",
     "text": [
      "CPU times: user 3 µs, sys: 0 ns, total: 3 µs\n",
      "Wall time: 6.91 µs\n"
     ]
    },
    {
     "data": {
      "text/plain": [
       "333332833333500000"
      ]
     },
     "execution_count": 1,
     "metadata": {},
     "output_type": "execute_result"
    }
   ],
   "source": [
    "%time\n",
    "sum([i * i for i in range(1000000)])"
   ]
  },
  {
   "cell_type": "code",
   "execution_count": 2,
   "metadata": {},
   "outputs": [
    {
     "name": "stdout",
     "output_type": "stream",
     "text": [
      "CPU times: user 2 µs, sys: 0 ns, total: 2 µs\n",
      "Wall time: 3.81 µs\n"
     ]
    },
    {
     "data": {
      "text/plain": [
       "333332833333500000"
      ]
     },
     "execution_count": 2,
     "metadata": {},
     "output_type": "execute_result"
    }
   ],
   "source": [
    "%time\n",
    "sum(i * i for i in range(1000000))"
   ]
  },
  {
   "cell_type": "markdown",
   "metadata": {},
   "source": [
    "При использовании генератора время существенно меньше"
   ]
  },
  {
   "cell_type": "markdown",
   "metadata": {},
   "source": [
    "Ура, теоретическая часть закончилась. Теперь можно порешать задачи!"
   ]
  },
  {
   "cell_type": "code",
   "execution_count": null,
   "metadata": {},
   "outputs": [],
   "source": []
  }
 ],
 "metadata": {
  "kernelspec": {
   "display_name": "Python 3",
   "language": "python",
   "name": "python3"
  },
  "language_info": {
   "codemirror_mode": {
    "name": "ipython",
    "version": 3
   },
   "file_extension": ".py",
   "mimetype": "text/x-python",
   "name": "python",
   "nbconvert_exporter": "python",
   "pygments_lexer": "ipython3",
   "version": "3.7.4"
  }
 },
 "nbformat": 4,
 "nbformat_minor": 4
}
