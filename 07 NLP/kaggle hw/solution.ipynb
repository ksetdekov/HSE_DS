{
  "cells": [
    {
      "cell_type": "markdown",
      "metadata": {
        "colab_type": "text",
        "id": "view-in-github"
      },
      "source": [
        "<a href=\"https://colab.research.google.com/github/ksetdekov/HSE_DS/blob/master/07%20NLP/kaggle%20hw/solution.ipynb\" target=\"_parent\"><img src=\"https://colab.research.google.com/assets/colab-badge.svg\" alt=\"Open In Colab\"/></a>"
      ]
    },
    {
      "cell_type": "code",
      "execution_count": 1,
      "metadata": {
        "id": "4B_zG0Tdjkae"
      },
      "outputs": [],
      "source": [
        "# !pip3 install kaggle"
      ]
    },
    {
      "cell_type": "code",
      "execution_count": 2,
      "metadata": {
        "colab": {
          "base_uri": "https://localhost:8080/",
          "height": 72,
          "resources": {
            "http://localhost:8080/nbextensions/google.colab/files.js": {
              "data": "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",
              "headers": [
                [
                  "content-type",
                  "application/javascript"
                ]
              ],
              "ok": true,
              "status": 200,
              "status_text": ""
            }
          }
        },
        "id": "DhAbLhmfkphV",
        "outputId": "981c8a9b-fe1d-4510-d9cd-c97f6a1fc2ef"
      },
      "outputs": [
        {
          "data": {
            "text/html": [
              "\n",
              "     <input type=\"file\" id=\"files-c7187914-48de-44d0-98b5-de05efc8cb01\" name=\"files[]\" multiple disabled\n",
              "        style=\"border:none\" />\n",
              "     <output id=\"result-c7187914-48de-44d0-98b5-de05efc8cb01\">\n",
              "      Upload widget is only available when the cell has been executed in the\n",
              "      current browser session. Please rerun this cell to enable.\n",
              "      </output>\n",
              "      <script src=\"/nbextensions/google.colab/files.js\"></script> "
            ],
            "text/plain": [
              "<IPython.core.display.HTML object>"
            ]
          },
          "metadata": {},
          "output_type": "display_data"
        },
        {
          "name": "stdout",
          "output_type": "stream",
          "text": [
            "Saving kaggle.json to kaggle (1).json\n"
          ]
        },
        {
          "data": {
            "text/plain": [
              "{'kaggle.json': b'{\"username\":\"ksetdekov\",\"key\":\"8c4abff92599eb402d83c7a75a6e0341\"}'}"
            ]
          },
          "execution_count": 2,
          "metadata": {},
          "output_type": "execute_result"
        }
      ],
      "source": [
        "from google.colab import files\n",
        "files.upload()"
      ]
    },
    {
      "cell_type": "code",
      "execution_count": 3,
      "metadata": {
        "colab": {
          "base_uri": "https://localhost:8080/"
        },
        "id": "vUXpFnoyk1Fz",
        "outputId": "ba3147ff-01ee-4440-f48e-71ce68b8e3fc"
      },
      "outputs": [
        {
          "name": "stdout",
          "output_type": "stream",
          "text": [
            "mkdir: cannot create directory ‘/root/.kaggle’: File exists\n"
          ]
        }
      ],
      "source": [
        "!mkdir ~/.kaggle\n",
        "!cp kaggle.json ~/.kaggle/\n",
        "!chmod 600 ~/.kaggle/kaggle.json\n"
      ]
    },
    {
      "cell_type": "code",
      "execution_count": 4,
      "metadata": {
        "colab": {
          "base_uri": "https://localhost:8080/"
        },
        "id": "qrLiRxTRjkah",
        "outputId": "affa5a61-055f-4a47-d594-e4c07b39884a"
      },
      "outputs": [
        {
          "name": "stdout",
          "output_type": "stream",
          "text": [
            "Warning: Looks like you're using an outdated API Version, please consider updating (server 1.5.12 / client 1.5.4)\n",
            "sample_submission.csv: Skipping, found more recently modified local copy (use --force to force download)\n",
            "test_data.csv.zip: Skipping, found more recently modified local copy (use --force to force download)\n",
            "train_data.csv.zip: Skipping, found more recently modified local copy (use --force to force download)\n"
          ]
        }
      ],
      "source": [
        "!kaggle competitions download -c toxic-comments-classification-apdl-2021"
      ]
    },
    {
      "cell_type": "code",
      "execution_count": 5,
      "metadata": {
        "colab": {
          "base_uri": "https://localhost:8080/"
        },
        "id": "c98010yFlrY1",
        "outputId": "8686e841-1563-4dfc-9b30-6c4173db1e32"
      },
      "outputs": [
        {
          "name": "stdout",
          "output_type": "stream",
          "text": [
            " bow_v3.csv\t    kaggle.json   sample_submission.csv   train_data.csv.zip\n",
            "'kaggle (1).json'   sample_data   test_data.csv.zip\n"
          ]
        }
      ],
      "source": [
        "!ls"
      ]
    },
    {
      "cell_type": "code",
      "execution_count": 6,
      "metadata": {
        "id": "qCzDt8ztjkai"
      },
      "outputs": [],
      "source": [
        "import pandas as pd\n",
        "import numpy as np\n",
        "from sklearn.metrics import *\n",
        "from sklearn.model_selection import train_test_split\n",
        "from sklearn.pipeline import Pipeline"
      ]
    },
    {
      "cell_type": "code",
      "execution_count": 7,
      "metadata": {
        "id": "kq4MySLrjkai"
      },
      "outputs": [],
      "source": [
        "train = pd.read_csv('train_data.csv.zip', compression='zip')\n",
        "test = pd.read_csv('test_data.csv.zip', compression='zip')"
      ]
    },
    {
      "cell_type": "code",
      "execution_count": 8,
      "metadata": {
        "colab": {
          "base_uri": "https://localhost:8080/"
        },
        "id": "xfx1JW-djkaj",
        "outputId": "adb356e9-18d5-4934-dc82-8cef22d3f28a"
      },
      "outputs": [
        {
          "data": {
            "text/plain": [
              "count    10809.000000\n",
              "mean         0.333796\n",
              "std          0.471590\n",
              "min          0.000000\n",
              "25%          0.000000\n",
              "50%          0.000000\n",
              "75%          1.000000\n",
              "max          1.000000\n",
              "Name: toxic, dtype: float64"
            ]
          },
          "execution_count": 8,
          "metadata": {},
          "output_type": "execute_result"
        }
      ],
      "source": [
        "train.toxic.describe()"
      ]
    },
    {
      "cell_type": "code",
      "execution_count": 9,
      "metadata": {
        "colab": {
          "base_uri": "https://localhost:8080/",
          "height": 204
        },
        "id": "AEkJZgKjm2Wf",
        "outputId": "2915a9df-5f47-4f23-a09d-164ad0eb5dfb"
      },
      "outputs": [
        {
          "data": {
            "text/html": [
              "<div>\n",
              "<style scoped>\n",
              "    .dataframe tbody tr th:only-of-type {\n",
              "        vertical-align: middle;\n",
              "    }\n",
              "\n",
              "    .dataframe tbody tr th {\n",
              "        vertical-align: top;\n",
              "    }\n",
              "\n",
              "    .dataframe thead th {\n",
              "        text-align: right;\n",
              "    }\n",
              "</style>\n",
              "<table border=\"1\" class=\"dataframe\">\n",
              "  <thead>\n",
              "    <tr style=\"text-align: right;\">\n",
              "      <th></th>\n",
              "      <th>comment</th>\n",
              "      <th>toxic</th>\n",
              "    </tr>\n",
              "  </thead>\n",
              "  <tbody>\n",
              "    <tr>\n",
              "      <th>10685</th>\n",
              "      <td>И кто-то после этого смеет вякать про ужас хру...</td>\n",
              "      <td>0.0</td>\n",
              "    </tr>\n",
              "    <tr>\n",
              "      <th>8115</th>\n",
              "      <td>Жалость то какая, бедные кошки.\\n</td>\n",
              "      <td>0.0</td>\n",
              "    </tr>\n",
              "    <tr>\n",
              "      <th>1305</th>\n",
              "      <td>Прям любопытно, какое же слово было изначально.</td>\n",
              "      <td>0.0</td>\n",
              "    </tr>\n",
              "    <tr>\n",
              "      <th>5883</th>\n",
              "      <td>Там, где я был тогда, был только военный госпи...</td>\n",
              "      <td>0.0</td>\n",
              "    </tr>\n",
              "    <tr>\n",
              "      <th>10344</th>\n",
              "      <td>А мне очень понравился выпуск про КиШа, очень ...</td>\n",
              "      <td>0.0</td>\n",
              "    </tr>\n",
              "  </tbody>\n",
              "</table>\n",
              "</div>"
            ],
            "text/plain": [
              "                                                 comment  toxic\n",
              "10685  И кто-то после этого смеет вякать про ужас хру...    0.0\n",
              "8115                   Жалость то какая, бедные кошки.\\n    0.0\n",
              "1305     Прям любопытно, какое же слово было изначально.    0.0\n",
              "5883   Там, где я был тогда, был только военный госпи...    0.0\n",
              "10344  А мне очень понравился выпуск про КиШа, очень ...    0.0"
            ]
          },
          "execution_count": 9,
          "metadata": {},
          "output_type": "execute_result"
        }
      ],
      "source": [
        "train.sample(5)"
      ]
    },
    {
      "cell_type": "code",
      "execution_count": 10,
      "metadata": {
        "colab": {
          "base_uri": "https://localhost:8080/",
          "height": 204
        },
        "id": "Dbp0sKHhjkaj",
        "outputId": "9c6f0625-8ee7-4c7d-f8f6-7867c67b37b5"
      },
      "outputs": [
        {
          "data": {
            "text/html": [
              "<div>\n",
              "<style scoped>\n",
              "    .dataframe tbody tr th:only-of-type {\n",
              "        vertical-align: middle;\n",
              "    }\n",
              "\n",
              "    .dataframe tbody tr th {\n",
              "        vertical-align: top;\n",
              "    }\n",
              "\n",
              "    .dataframe thead th {\n",
              "        text-align: right;\n",
              "    }\n",
              "</style>\n",
              "<table border=\"1\" class=\"dataframe\">\n",
              "  <thead>\n",
              "    <tr style=\"text-align: right;\">\n",
              "      <th></th>\n",
              "      <th>comment_id</th>\n",
              "      <th>comment</th>\n",
              "    </tr>\n",
              "  </thead>\n",
              "  <tbody>\n",
              "    <tr>\n",
              "      <th>610</th>\n",
              "      <td>610</td>\n",
              "      <td>В банкомате камера,пишите заявление,хоть фото ...</td>\n",
              "    </tr>\n",
              "    <tr>\n",
              "      <th>574</th>\n",
              "      <td>574</td>\n",
              "      <td>о цене не сообщается SanDisk, если не ошибаюсь...</td>\n",
              "    </tr>\n",
              "    <tr>\n",
              "      <th>1367</th>\n",
              "      <td>1367</td>\n",
              "      <td>у меня увеличить уже давно не получается, все ...</td>\n",
              "    </tr>\n",
              "    <tr>\n",
              "      <th>3497</th>\n",
              "      <td>3497</td>\n",
              "      <td>Целью встречи стали переговоры о сохранении по...</td>\n",
              "    </tr>\n",
              "    <tr>\n",
              "      <th>3417</th>\n",
              "      <td>3417</td>\n",
              "      <td>То есть фильм все таки говно?\\n</td>\n",
              "    </tr>\n",
              "  </tbody>\n",
              "</table>\n",
              "</div>"
            ],
            "text/plain": [
              "      comment_id                                            comment\n",
              "610          610  В банкомате камера,пишите заявление,хоть фото ...\n",
              "574          574  о цене не сообщается SanDisk, если не ошибаюсь...\n",
              "1367        1367  у меня увеличить уже давно не получается, все ...\n",
              "3497        3497  Целью встречи стали переговоры о сохранении по...\n",
              "3417        3417                    То есть фильм все таки говно?\\n"
            ]
          },
          "execution_count": 10,
          "metadata": {},
          "output_type": "execute_result"
        }
      ],
      "source": [
        "test.sample(5)"
      ]
    },
    {
      "cell_type": "code",
      "execution_count": 11,
      "metadata": {
        "id": "n9DExo2nmzKA"
      },
      "outputs": [],
      "source": [
        "x_train, x_test, y_train, y_test = train_test_split(train.comment, train.toxic, random_state=0, stratify=train.toxic)"
      ]
    },
    {
      "cell_type": "code",
      "execution_count": 12,
      "metadata": {
        "colab": {
          "base_uri": "https://localhost:8080/"
        },
        "id": "Zs8CvFqEnaBd",
        "outputId": "45a5960a-e6c1-4472-90d2-9ee4aa3c8097"
      },
      "outputs": [
        {
          "data": {
            "text/plain": [
              "count    8106.000000\n",
              "mean        0.333827\n",
              "std         0.471608\n",
              "min         0.000000\n",
              "25%         0.000000\n",
              "50%         0.000000\n",
              "75%         1.000000\n",
              "max         1.000000\n",
              "Name: toxic, dtype: float64"
            ]
          },
          "execution_count": 12,
          "metadata": {},
          "output_type": "execute_result"
        }
      ],
      "source": [
        "y_train.describe()"
      ]
    },
    {
      "cell_type": "code",
      "execution_count": 13,
      "metadata": {
        "colab": {
          "base_uri": "https://localhost:8080/"
        },
        "id": "c5S812lrndy0",
        "outputId": "250f81e1-95bb-4479-9d79-5fcd7cd84386"
      },
      "outputs": [
        {
          "data": {
            "text/plain": [
              "count    2703.000000\n",
              "mean        0.333703\n",
              "std         0.471622\n",
              "min         0.000000\n",
              "25%         0.000000\n",
              "50%         0.000000\n",
              "75%         1.000000\n",
              "max         1.000000\n",
              "Name: toxic, dtype: float64"
            ]
          },
          "execution_count": 13,
          "metadata": {},
          "output_type": "execute_result"
        }
      ],
      "source": [
        "y_test.describe()"
      ]
    },
    {
      "cell_type": "markdown",
      "metadata": {
        "id": "XKNumZxTjkak"
      },
      "source": [
        "## Bag of words\n"
      ]
    },
    {
      "cell_type": "code",
      "execution_count": 14,
      "metadata": {
        "id": "M04I-krpjkam"
      },
      "outputs": [],
      "source": [
        "from sklearn.linear_model import LogisticRegression \n",
        "from sklearn.feature_extraction.text import CountVectorizer\n",
        "from nltk import ngrams"
      ]
    },
    {
      "cell_type": "code",
      "execution_count": 15,
      "metadata": {
        "id": "a2jNvxwZmrBF"
      },
      "outputs": [],
      "source": [
        "vec = CountVectorizer(ngram_range=(1, 2)) # строим BoW для слов\n",
        "bow = vec.fit_transform(x_train) \n",
        "vec2 = CountVectorizer(ngram_range=(1, 2)) # строим BoW для слов\n",
        "bow2 = vec2.fit_transform(train.comment) "
      ]
    },
    {
      "cell_type": "code",
      "execution_count": 16,
      "metadata": {
        "colab": {
          "base_uri": "https://localhost:8080/"
        },
        "id": "6FFn_QBaq7ie",
        "outputId": "d7aef37c-1e63-410e-803a-99e8e1e7d812"
      },
      "outputs": [
        {
          "data": {
            "text/plain": [
              "[('преступление', 170637),\n",
              " ('наказание', 116104),\n",
              " ('преступление наказание', 170640),\n",
              " ('именно', 76167),\n",
              " ('эти', 252150),\n",
              " ('неработающие', 126648),\n",
              " ('весы', 24138),\n",
              " ('показывают', 160063),\n",
              " ('что', 246112),\n",
              " ('работающих', 181878)]"
            ]
          },
          "execution_count": 16,
          "metadata": {},
          "output_type": "execute_result"
        }
      ],
      "source": [
        "list(vec2.vocabulary_.items())[:10]"
      ]
    },
    {
      "cell_type": "code",
      "execution_count": 17,
      "metadata": {
        "colab": {
          "base_uri": "https://localhost:8080/"
        },
        "id": "VKIQ959irG2z",
        "outputId": "76c8bfa7-650e-4119-8d4a-f3a560c1d02b"
      },
      "outputs": [
        {
          "data": {
            "text/plain": [
              "0.0002405542888719116"
            ]
          },
          "execution_count": 17,
          "metadata": {},
          "output_type": "execute_result"
        }
      ],
      "source": [
        "bow.mean()"
      ]
    },
    {
      "cell_type": "code",
      "execution_count": 18,
      "metadata": {
        "colab": {
          "base_uri": "https://localhost:8080/"
        },
        "id": "mllz7zPXq_pr",
        "outputId": "272f5c93-c499-4dc1-c0c7-cd17952fa96f"
      },
      "outputs": [
        {
          "data": {
            "text/plain": [
              "LogisticRegression(class_weight='balanced', max_iter=500, random_state=0)"
            ]
          },
          "execution_count": 18,
          "metadata": {},
          "output_type": "execute_result"
        }
      ],
      "source": [
        "clf = LogisticRegression(random_state=0, max_iter=500, class_weight='balanced')\n",
        "clf.fit(bow, y_train)"
      ]
    },
    {
      "cell_type": "code",
      "execution_count": 19,
      "metadata": {
        "colab": {
          "base_uri": "https://localhost:8080/"
        },
        "id": "SUmnMhk1qGWz",
        "outputId": "89cbb716-6f44-4498-bd11-5a372c9269eb"
      },
      "outputs": [
        {
          "data": {
            "text/plain": [
              "LogisticRegression(class_weight='balanced', max_iter=500, random_state=0)"
            ]
          },
          "execution_count": 19,
          "metadata": {},
          "output_type": "execute_result"
        }
      ],
      "source": [
        "clf2 = LogisticRegression(random_state=0, max_iter=500, class_weight='balanced')\n",
        "clf2.fit(bow2, train.toxic)"
      ]
    },
    {
      "cell_type": "code",
      "execution_count": 20,
      "metadata": {
        "colab": {
          "base_uri": "https://localhost:8080/"
        },
        "id": "E6xOKMPPsnp6",
        "outputId": "db35b85a-ad06-4dc8-c636-8529a288bf56"
      },
      "outputs": [
        {
          "name": "stdout",
          "output_type": "stream",
          "text": [
            "              precision    recall  f1-score   support\n",
            "\n",
            "         0.0       0.90      0.87      0.89      1858\n",
            "         1.0       0.74      0.79      0.76       845\n",
            "\n",
            "    accuracy                           0.85      2703\n",
            "   macro avg       0.82      0.83      0.82      2703\n",
            "weighted avg       0.85      0.85      0.85      2703\n",
            "\n"
          ]
        }
      ],
      "source": [
        "pred = clf.predict(vec.transform(x_test))\n",
        "print(classification_report(pred, y_test))"
      ]
    },
    {
      "cell_type": "code",
      "execution_count": 20,
      "metadata": {
        "id": "oXgp2BwMrGFL"
      },
      "outputs": [],
      "source": []
    },
    {
      "cell_type": "code",
      "execution_count": 21,
      "metadata": {
        "colab": {
          "base_uri": "https://localhost:8080/",
          "height": 419
        },
        "id": "ATUa2kLGt5Om",
        "outputId": "5a290fa8-d999-43aa-90cd-8abe0c9da9fd"
      },
      "outputs": [
        {
          "data": {
            "text/html": [
              "<div>\n",
              "<style scoped>\n",
              "    .dataframe tbody tr th:only-of-type {\n",
              "        vertical-align: middle;\n",
              "    }\n",
              "\n",
              "    .dataframe tbody tr th {\n",
              "        vertical-align: top;\n",
              "    }\n",
              "\n",
              "    .dataframe thead th {\n",
              "        text-align: right;\n",
              "    }\n",
              "</style>\n",
              "<table border=\"1\" class=\"dataframe\">\n",
              "  <thead>\n",
              "    <tr style=\"text-align: right;\">\n",
              "      <th></th>\n",
              "      <th>comment_id</th>\n",
              "      <th>comment</th>\n",
              "    </tr>\n",
              "  </thead>\n",
              "  <tbody>\n",
              "    <tr>\n",
              "      <th>0</th>\n",
              "      <td>0</td>\n",
              "      <td>В данном случае не пионервожатая, а техничка, ...</td>\n",
              "    </tr>\n",
              "    <tr>\n",
              "      <th>1</th>\n",
              "      <td>1</td>\n",
              "      <td>В данном посте рассматривается обычный ленточн...</td>\n",
              "    </tr>\n",
              "    <tr>\n",
              "      <th>2</th>\n",
              "      <td>2</td>\n",
              "      <td>Как я понимаю, у поверхностей отражаемость пог...</td>\n",
              "    </tr>\n",
              "    <tr>\n",
              "      <th>3</th>\n",
              "      <td>3</td>\n",
              "      <td>Австралийские пауки съедят все живое на планете))</td>\n",
              "    </tr>\n",
              "    <tr>\n",
              "      <th>4</th>\n",
              "      <td>4</td>\n",
              "      <td>У нас раньше Амур пиво целые бутылки принимал ...</td>\n",
              "    </tr>\n",
              "    <tr>\n",
              "      <th>...</th>\n",
              "      <td>...</td>\n",
              "      <td>...</td>\n",
              "    </tr>\n",
              "    <tr>\n",
              "      <th>3598</th>\n",
              "      <td>3598</td>\n",
              "      <td>Я всё жду, когда эта херня закончится\\n</td>\n",
              "    </tr>\n",
              "    <tr>\n",
              "      <th>3599</th>\n",
              "      <td>3599</td>\n",
              "      <td>Откуда такой акцент на Москве? У нас между про...</td>\n",
              "    </tr>\n",
              "    <tr>\n",
              "      <th>3600</th>\n",
              "      <td>3600</td>\n",
              "      <td>Кого угодно, но не этих двух отбросов: свинью ...</td>\n",
              "    </tr>\n",
              "    <tr>\n",
              "      <th>3601</th>\n",
              "      <td>3601</td>\n",
              "      <td>А как же радиоуправляемые машинки в клубах?\\n</td>\n",
              "    </tr>\n",
              "    <tr>\n",
              "      <th>3602</th>\n",
              "      <td>3602</td>\n",
              "      <td>Правильно. Кз 10 и версия драйверов 10.х без э...</td>\n",
              "    </tr>\n",
              "  </tbody>\n",
              "</table>\n",
              "<p>3603 rows × 2 columns</p>\n",
              "</div>"
            ],
            "text/plain": [
              "      comment_id                                            comment\n",
              "0              0  В данном случае не пионервожатая, а техничка, ...\n",
              "1              1  В данном посте рассматривается обычный ленточн...\n",
              "2              2  Как я понимаю, у поверхностей отражаемость пог...\n",
              "3              3  Австралийские пауки съедят все живое на планете))\n",
              "4              4  У нас раньше Амур пиво целые бутылки принимал ...\n",
              "...          ...                                                ...\n",
              "3598        3598            Я всё жду, когда эта херня закончится\\n\n",
              "3599        3599  Откуда такой акцент на Москве? У нас между про...\n",
              "3600        3600  Кого угодно, но не этих двух отбросов: свинью ...\n",
              "3601        3601      А как же радиоуправляемые машинки в клубах?\\n\n",
              "3602        3602  Правильно. Кз 10 и версия драйверов 10.х без э...\n",
              "\n",
              "[3603 rows x 2 columns]"
            ]
          },
          "execution_count": 21,
          "metadata": {},
          "output_type": "execute_result"
        }
      ],
      "source": [
        "test"
      ]
    },
    {
      "cell_type": "code",
      "execution_count": 22,
      "metadata": {
        "colab": {
          "base_uri": "https://localhost:8080/",
          "height": 419
        },
        "id": "K7PwhnB6vQXk",
        "outputId": "64f20bf6-82cf-4539-c655-54c0620b941e"
      },
      "outputs": [
        {
          "data": {
            "text/html": [
              "<div>\n",
              "<style scoped>\n",
              "    .dataframe tbody tr th:only-of-type {\n",
              "        vertical-align: middle;\n",
              "    }\n",
              "\n",
              "    .dataframe tbody tr th {\n",
              "        vertical-align: top;\n",
              "    }\n",
              "\n",
              "    .dataframe thead th {\n",
              "        text-align: right;\n",
              "    }\n",
              "</style>\n",
              "<table border=\"1\" class=\"dataframe\">\n",
              "  <thead>\n",
              "    <tr style=\"text-align: right;\">\n",
              "      <th></th>\n",
              "      <th>comment_id</th>\n",
              "      <th>toxic</th>\n",
              "    </tr>\n",
              "  </thead>\n",
              "  <tbody>\n",
              "    <tr>\n",
              "      <th>0</th>\n",
              "      <td>0</td>\n",
              "      <td>0</td>\n",
              "    </tr>\n",
              "    <tr>\n",
              "      <th>1</th>\n",
              "      <td>1</td>\n",
              "      <td>0</td>\n",
              "    </tr>\n",
              "    <tr>\n",
              "      <th>2</th>\n",
              "      <td>2</td>\n",
              "      <td>0</td>\n",
              "    </tr>\n",
              "    <tr>\n",
              "      <th>3</th>\n",
              "      <td>3</td>\n",
              "      <td>0</td>\n",
              "    </tr>\n",
              "    <tr>\n",
              "      <th>4</th>\n",
              "      <td>4</td>\n",
              "      <td>0</td>\n",
              "    </tr>\n",
              "    <tr>\n",
              "      <th>...</th>\n",
              "      <td>...</td>\n",
              "      <td>...</td>\n",
              "    </tr>\n",
              "    <tr>\n",
              "      <th>3598</th>\n",
              "      <td>3598</td>\n",
              "      <td>1</td>\n",
              "    </tr>\n",
              "    <tr>\n",
              "      <th>3599</th>\n",
              "      <td>3599</td>\n",
              "      <td>0</td>\n",
              "    </tr>\n",
              "    <tr>\n",
              "      <th>3600</th>\n",
              "      <td>3600</td>\n",
              "      <td>1</td>\n",
              "    </tr>\n",
              "    <tr>\n",
              "      <th>3601</th>\n",
              "      <td>3601</td>\n",
              "      <td>0</td>\n",
              "    </tr>\n",
              "    <tr>\n",
              "      <th>3602</th>\n",
              "      <td>3602</td>\n",
              "      <td>0</td>\n",
              "    </tr>\n",
              "  </tbody>\n",
              "</table>\n",
              "<p>3603 rows × 2 columns</p>\n",
              "</div>"
            ],
            "text/plain": [
              "      comment_id  toxic\n",
              "0              0      0\n",
              "1              1      0\n",
              "2              2      0\n",
              "3              3      0\n",
              "4              4      0\n",
              "...          ...    ...\n",
              "3598        3598      1\n",
              "3599        3599      0\n",
              "3600        3600      1\n",
              "3601        3601      0\n",
              "3602        3602      0\n",
              "\n",
              "[3603 rows x 2 columns]"
            ]
          },
          "execution_count": 22,
          "metadata": {},
          "output_type": "execute_result"
        }
      ],
      "source": [
        "bow_test_pred = test.copy()\n",
        "bow_test_pred['toxic'] = clf.predict(vec.transform(test.comment))\n",
        "bow_test_pred['toxic'] = bow_test_pred['toxic'].astype(int)\n",
        "bow_test_pred.drop('comment', axis=1, inplace=True)\n",
        "bow_test_pred"
      ]
    },
    {
      "cell_type": "code",
      "execution_count": 23,
      "metadata": {
        "colab": {
          "base_uri": "https://localhost:8080/",
          "height": 419
        },
        "id": "vYyOP_cpqTN2",
        "outputId": "39da0382-8eb7-44b8-8c07-73a77672f71c"
      },
      "outputs": [
        {
          "data": {
            "text/html": [
              "<div>\n",
              "<style scoped>\n",
              "    .dataframe tbody tr th:only-of-type {\n",
              "        vertical-align: middle;\n",
              "    }\n",
              "\n",
              "    .dataframe tbody tr th {\n",
              "        vertical-align: top;\n",
              "    }\n",
              "\n",
              "    .dataframe thead th {\n",
              "        text-align: right;\n",
              "    }\n",
              "</style>\n",
              "<table border=\"1\" class=\"dataframe\">\n",
              "  <thead>\n",
              "    <tr style=\"text-align: right;\">\n",
              "      <th></th>\n",
              "      <th>comment_id</th>\n",
              "      <th>toxic</th>\n",
              "    </tr>\n",
              "  </thead>\n",
              "  <tbody>\n",
              "    <tr>\n",
              "      <th>0</th>\n",
              "      <td>0</td>\n",
              "      <td>0</td>\n",
              "    </tr>\n",
              "    <tr>\n",
              "      <th>1</th>\n",
              "      <td>1</td>\n",
              "      <td>0</td>\n",
              "    </tr>\n",
              "    <tr>\n",
              "      <th>2</th>\n",
              "      <td>2</td>\n",
              "      <td>0</td>\n",
              "    </tr>\n",
              "    <tr>\n",
              "      <th>3</th>\n",
              "      <td>3</td>\n",
              "      <td>0</td>\n",
              "    </tr>\n",
              "    <tr>\n",
              "      <th>4</th>\n",
              "      <td>4</td>\n",
              "      <td>0</td>\n",
              "    </tr>\n",
              "    <tr>\n",
              "      <th>...</th>\n",
              "      <td>...</td>\n",
              "      <td>...</td>\n",
              "    </tr>\n",
              "    <tr>\n",
              "      <th>3598</th>\n",
              "      <td>3598</td>\n",
              "      <td>1</td>\n",
              "    </tr>\n",
              "    <tr>\n",
              "      <th>3599</th>\n",
              "      <td>3599</td>\n",
              "      <td>0</td>\n",
              "    </tr>\n",
              "    <tr>\n",
              "      <th>3600</th>\n",
              "      <td>3600</td>\n",
              "      <td>1</td>\n",
              "    </tr>\n",
              "    <tr>\n",
              "      <th>3601</th>\n",
              "      <td>3601</td>\n",
              "      <td>0</td>\n",
              "    </tr>\n",
              "    <tr>\n",
              "      <th>3602</th>\n",
              "      <td>3602</td>\n",
              "      <td>0</td>\n",
              "    </tr>\n",
              "  </tbody>\n",
              "</table>\n",
              "<p>3603 rows × 2 columns</p>\n",
              "</div>"
            ],
            "text/plain": [
              "      comment_id  toxic\n",
              "0              0      0\n",
              "1              1      0\n",
              "2              2      0\n",
              "3              3      0\n",
              "4              4      0\n",
              "...          ...    ...\n",
              "3598        3598      1\n",
              "3599        3599      0\n",
              "3600        3600      1\n",
              "3601        3601      0\n",
              "3602        3602      0\n",
              "\n",
              "[3603 rows x 2 columns]"
            ]
          },
          "execution_count": 23,
          "metadata": {},
          "output_type": "execute_result"
        }
      ],
      "source": [
        "bow_test_pred2 = test.copy()\n",
        "bow_test_pred2['toxic'] = clf2.predict(vec2.transform(test.comment))\n",
        "bow_test_pred2['toxic'] = bow_test_pred2['toxic'].astype(int)\n",
        "bow_test_pred2.drop('comment', axis=1, inplace=True)\n",
        "bow_test_pred2"
      ]
    },
    {
      "cell_type": "code",
      "execution_count": 24,
      "metadata": {
        "id": "-kO1VdCBuD9Z"
      },
      "outputs": [],
      "source": [
        "bow_test_pred.to_csv('bow_v1.csv', index=False)\n",
        "bow_test_pred2.to_csv('bow_v2.csv', index=False)"
      ]
    },
    {
      "cell_type": "code",
      "execution_count": 25,
      "metadata": {
        "colab": {
          "base_uri": "https://localhost:8080/"
        },
        "id": "ewDgmn71qsUY",
        "outputId": "61fcdd3a-b97d-45f6-e52b-f45f0e442d03"
      },
      "outputs": [
        {
          "data": {
            "text/plain": [
              "array([[2396,   81],\n",
              "       [  66, 1060]])"
            ]
          },
          "execution_count": 25,
          "metadata": {},
          "output_type": "execute_result"
        }
      ],
      "source": [
        "confusion_matrix(bow_test_pred.toxic, bow_test_pred2.toxic)"
      ]
    },
    {
      "cell_type": "code",
      "execution_count": 152,
      "metadata": {
        "colab": {
          "base_uri": "https://localhost:8080/"
        },
        "id": "uWViP2_mteGw",
        "outputId": "f0504d79-37ec-4d9f-e70b-8310dd38b62c"
      },
      "outputs": [
        {
          "name": "stdout",
          "output_type": "stream",
          "text": [
            "Warning: Looks like you're using an outdated API Version, please consider updating (server 1.5.12 / client 1.5.4)\n",
            "100% 23.6k/23.6k [00:09<00:00, 2.45kB/s]\n",
            "Successfully submitted to Toxic comments classification"
          ]
        }
      ],
      "source": [
        "# !kaggle competitions submit -c toxic-comments-classification-apdl-2021 -f bow_v2.csv -m \"kirill_setdekov first bow v2 submission all data\""
      ]
    },
    {
      "cell_type": "markdown",
      "metadata": {
        "id": "m1y4nUUSjkan"
      },
      "source": [
        "## TF-IDF\n"
      ]
    },
    {
      "cell_type": "code",
      "execution_count": 42,
      "metadata": {
        "id": "PdHzMkkM1Mi0"
      },
      "outputs": [],
      "source": [
        "from sklearn.feature_extraction.text import TfidfVectorizer"
      ]
    },
    {
      "cell_type": "code",
      "execution_count": 43,
      "metadata": {
        "colab": {
          "base_uri": "https://localhost:8080/"
        },
        "id": "e4x_NgMR1Pk_",
        "outputId": "099eb3a0-df40-4dde-f472-875758b7a551"
      },
      "outputs": [
        {
          "name": "stdout",
          "output_type": "stream",
          "text": [
            "              precision    recall  f1-score   support\n",
            "\n",
            "         0.0       0.97      0.79      0.87      2214\n",
            "         1.0       0.48      0.89      0.63       489\n",
            "\n",
            "    accuracy                           0.81      2703\n",
            "   macro avg       0.73      0.84      0.75      2703\n",
            "weighted avg       0.88      0.81      0.83      2703\n",
            "\n"
          ]
        }
      ],
      "source": [
        "vec = TfidfVectorizer(ngram_range=(1, 1))\n",
        "bow = vec.fit_transform(x_train)\n",
        "clf2 = LogisticRegression(random_state=1, max_iter = 500)\n",
        "clf2.fit(bow, y_train)\n",
        "pred = clf2.predict(vec.transform(x_test))\n",
        "print(classification_report(pred, y_test))"
      ]
    },
    {
      "cell_type": "code",
      "execution_count": 44,
      "metadata": {
        "colab": {
          "base_uri": "https://localhost:8080/",
          "height": 419
        },
        "id": "YuwBtYk32llx",
        "outputId": "9cc6215d-e619-4157-ef4d-b515758d97b3"
      },
      "outputs": [
        {
          "data": {
            "text/html": [
              "<div>\n",
              "<style scoped>\n",
              "    .dataframe tbody tr th:only-of-type {\n",
              "        vertical-align: middle;\n",
              "    }\n",
              "\n",
              "    .dataframe tbody tr th {\n",
              "        vertical-align: top;\n",
              "    }\n",
              "\n",
              "    .dataframe thead th {\n",
              "        text-align: right;\n",
              "    }\n",
              "</style>\n",
              "<table border=\"1\" class=\"dataframe\">\n",
              "  <thead>\n",
              "    <tr style=\"text-align: right;\">\n",
              "      <th></th>\n",
              "      <th>comment_id</th>\n",
              "      <th>toxic</th>\n",
              "    </tr>\n",
              "  </thead>\n",
              "  <tbody>\n",
              "    <tr>\n",
              "      <th>0</th>\n",
              "      <td>0</td>\n",
              "      <td>0</td>\n",
              "    </tr>\n",
              "    <tr>\n",
              "      <th>1</th>\n",
              "      <td>1</td>\n",
              "      <td>0</td>\n",
              "    </tr>\n",
              "    <tr>\n",
              "      <th>2</th>\n",
              "      <td>2</td>\n",
              "      <td>0</td>\n",
              "    </tr>\n",
              "    <tr>\n",
              "      <th>3</th>\n",
              "      <td>3</td>\n",
              "      <td>0</td>\n",
              "    </tr>\n",
              "    <tr>\n",
              "      <th>4</th>\n",
              "      <td>4</td>\n",
              "      <td>0</td>\n",
              "    </tr>\n",
              "    <tr>\n",
              "      <th>...</th>\n",
              "      <td>...</td>\n",
              "      <td>...</td>\n",
              "    </tr>\n",
              "    <tr>\n",
              "      <th>3598</th>\n",
              "      <td>3598</td>\n",
              "      <td>1</td>\n",
              "    </tr>\n",
              "    <tr>\n",
              "      <th>3599</th>\n",
              "      <td>3599</td>\n",
              "      <td>0</td>\n",
              "    </tr>\n",
              "    <tr>\n",
              "      <th>3600</th>\n",
              "      <td>3600</td>\n",
              "      <td>0</td>\n",
              "    </tr>\n",
              "    <tr>\n",
              "      <th>3601</th>\n",
              "      <td>3601</td>\n",
              "      <td>0</td>\n",
              "    </tr>\n",
              "    <tr>\n",
              "      <th>3602</th>\n",
              "      <td>3602</td>\n",
              "      <td>0</td>\n",
              "    </tr>\n",
              "  </tbody>\n",
              "</table>\n",
              "<p>3603 rows × 2 columns</p>\n",
              "</div>"
            ],
            "text/plain": [
              "      comment_id  toxic\n",
              "0              0      0\n",
              "1              1      0\n",
              "2              2      0\n",
              "3              3      0\n",
              "4              4      0\n",
              "...          ...    ...\n",
              "3598        3598      1\n",
              "3599        3599      0\n",
              "3600        3600      0\n",
              "3601        3601      0\n",
              "3602        3602      0\n",
              "\n",
              "[3603 rows x 2 columns]"
            ]
          },
          "execution_count": 44,
          "metadata": {},
          "output_type": "execute_result"
        }
      ],
      "source": [
        "tf_idf = test.copy()\n",
        "tf_idf['toxic'] = clf2.predict(vec.transform(test.comment))\n",
        "tf_idf['toxic'] = tf_idf['toxic'].astype(int)\n",
        "tf_idf.drop('comment', axis=1, inplace=True)\n",
        "tf_idf"
      ]
    },
    {
      "cell_type": "code",
      "execution_count": 45,
      "metadata": {
        "id": "sBcxeIW13GKK"
      },
      "outputs": [],
      "source": [
        "tf_idf.to_csv('tf_idf_v1.csv', index=False)"
      ]
    },
    {
      "cell_type": "code",
      "execution_count": 46,
      "metadata": {
        "id": "C75no4sx3KKE"
      },
      "outputs": [],
      "source": [
        "# !kaggle competitions submit -c toxic-comments-classification-apdl-2021 -f tf_idf_v1.csv -m \"kirill_setdekov tfidf v1 submission\""
      ]
    },
    {
      "cell_type": "markdown",
      "metadata": {
        "id": "vaijIZPyjkan"
      },
      "source": [
        "## Symbol n-Grams"
      ]
    },
    {
      "cell_type": "code",
      "execution_count": 47,
      "metadata": {
        "id": "q6cKN_zfjkao"
      },
      "outputs": [],
      "source": [
        "vec = CountVectorizer(analyzer='char', ngram_range=(1, 5))\n",
        "bowsimb = vec.fit_transform(x_train)\n"
      ]
    },
    {
      "cell_type": "code",
      "execution_count": 48,
      "metadata": {
        "colab": {
          "base_uri": "https://localhost:8080/"
        },
        "id": "qAmd2_2O4IVn",
        "outputId": "de63302b-effb-478d-a452-a7f3afcd41d1"
      },
      "outputs": [
        {
          "data": {
            "text/plain": [
              "MaxAbsScaler(copy=True)"
            ]
          },
          "execution_count": 48,
          "metadata": {},
          "output_type": "execute_result"
        }
      ],
      "source": [
        "from sklearn.preprocessing import MaxAbsScaler \n",
        "scaler = MaxAbsScaler()\n",
        "scaler.fit(bowsimb)"
      ]
    },
    {
      "cell_type": "code",
      "execution_count": 49,
      "metadata": {
        "id": "OuJORF0g4reD"
      },
      "outputs": [],
      "source": [
        "bowsimb = scaler.transform(bowsimb)"
      ]
    },
    {
      "cell_type": "code",
      "execution_count": 50,
      "metadata": {
        "colab": {
          "base_uri": "https://localhost:8080/"
        },
        "id": "FHAfWKOs3481",
        "outputId": "9cfbbe1d-f550-4450-a29d-628aa4dcdd73"
      },
      "outputs": [
        {
          "name": "stdout",
          "output_type": "stream",
          "text": [
            "              precision    recall  f1-score   support\n",
            "\n",
            "         0.0       0.97      0.87      0.91      2000\n",
            "         1.0       0.71      0.91      0.80       703\n",
            "\n",
            "    accuracy                           0.88      2703\n",
            "   macro avg       0.84      0.89      0.86      2703\n",
            "weighted avg       0.90      0.88      0.88      2703\n",
            "\n"
          ]
        }
      ],
      "source": [
        "clf3 = LogisticRegression(random_state=0,  max_iter=1000)\n",
        "clf3.fit(bowsimb, y_train)\n",
        "pred = clf3.predict(scaler.transform(vec.transform(x_test)))\n",
        "print(classification_report(pred, y_test))"
      ]
    },
    {
      "cell_type": "code",
      "execution_count": 51,
      "metadata": {
        "colab": {
          "base_uri": "https://localhost:8080/"
        },
        "id": "cHffE15J5R54",
        "outputId": "e427a1c1-ac39-4ac6-dfa9-49ab1f670ef2"
      },
      "outputs": [
        {
          "data": {
            "text/plain": [
              "('н', 0.6167060139647299)"
            ]
          },
          "execution_count": 51,
          "metadata": {},
          "output_type": "execute_result"
        }
      ],
      "source": [
        "importances = list(zip(vec.vocabulary_, clf.coef_[0]))\n",
        "importances[0]"
      ]
    },
    {
      "cell_type": "code",
      "execution_count": 52,
      "metadata": {
        "colab": {
          "base_uri": "https://localhost:8080/"
        },
        "id": "3HZaS_8R55N4",
        "outputId": "cdf26189-285b-4d1a-d222-8c90a45dfa06"
      },
      "outputs": [
        {
          "data": {
            "text/plain": [
              "[('з. чт', 2.4054134367150373),\n",
              " ('ы сол', 2.3919589599163023),\n",
              " ('ьерн', 2.2785810515459537),\n",
              " (' горш', -1.979976614624312),\n",
              " ('мотья', 1.7435157860781292),\n",
              " ('май, ', 1.7058523876067757),\n",
              " ('этой ', 1.6475416855681653),\n",
              " ('гора', 1.4710723026209482),\n",
              " ('совр', 1.4531765870631195),\n",
              " ('их ,', 1.4233307071907748),\n",
              " ('я не ', 1.3989481978199367),\n",
              " ('т да ', 1.3887901729354284),\n",
              " ('ьни м', 1.3499673463315913),\n",
              " ('т 8', 1.315935088940947),\n",
              " ('м у с', 1.312410067186944),\n",
              " ('нубу', 1.2604893126358026),\n",
              " ('тушин', -1.2165199192811813),\n",
              " ('оркут', -1.215621304958302),\n",
              " ('дура ', 1.2140363947432982),\n",
              " ('унта ', 1.2002130316125421)]"
            ]
          },
          "execution_count": 52,
          "metadata": {},
          "output_type": "execute_result"
        }
      ],
      "source": [
        "sorted_importances = sorted(importances, key = lambda x: -abs(x[1]))\n",
        "sorted_importances[:20]"
      ]
    },
    {
      "cell_type": "code",
      "execution_count": 53,
      "metadata": {
        "colab": {
          "base_uri": "https://localhost:8080/",
          "height": 419
        },
        "id": "oBDmVseM58rm",
        "outputId": "fcd952b2-b078-40c5-ecd2-c425874a198b"
      },
      "outputs": [
        {
          "data": {
            "text/html": [
              "<div>\n",
              "<style scoped>\n",
              "    .dataframe tbody tr th:only-of-type {\n",
              "        vertical-align: middle;\n",
              "    }\n",
              "\n",
              "    .dataframe tbody tr th {\n",
              "        vertical-align: top;\n",
              "    }\n",
              "\n",
              "    .dataframe thead th {\n",
              "        text-align: right;\n",
              "    }\n",
              "</style>\n",
              "<table border=\"1\" class=\"dataframe\">\n",
              "  <thead>\n",
              "    <tr style=\"text-align: right;\">\n",
              "      <th></th>\n",
              "      <th>comment_id</th>\n",
              "      <th>toxic</th>\n",
              "    </tr>\n",
              "  </thead>\n",
              "  <tbody>\n",
              "    <tr>\n",
              "      <th>0</th>\n",
              "      <td>0</td>\n",
              "      <td>0</td>\n",
              "    </tr>\n",
              "    <tr>\n",
              "      <th>1</th>\n",
              "      <td>1</td>\n",
              "      <td>0</td>\n",
              "    </tr>\n",
              "    <tr>\n",
              "      <th>2</th>\n",
              "      <td>2</td>\n",
              "      <td>0</td>\n",
              "    </tr>\n",
              "    <tr>\n",
              "      <th>3</th>\n",
              "      <td>3</td>\n",
              "      <td>0</td>\n",
              "    </tr>\n",
              "    <tr>\n",
              "      <th>4</th>\n",
              "      <td>4</td>\n",
              "      <td>0</td>\n",
              "    </tr>\n",
              "    <tr>\n",
              "      <th>...</th>\n",
              "      <td>...</td>\n",
              "      <td>...</td>\n",
              "    </tr>\n",
              "    <tr>\n",
              "      <th>3598</th>\n",
              "      <td>3598</td>\n",
              "      <td>1</td>\n",
              "    </tr>\n",
              "    <tr>\n",
              "      <th>3599</th>\n",
              "      <td>3599</td>\n",
              "      <td>0</td>\n",
              "    </tr>\n",
              "    <tr>\n",
              "      <th>3600</th>\n",
              "      <td>3600</td>\n",
              "      <td>0</td>\n",
              "    </tr>\n",
              "    <tr>\n",
              "      <th>3601</th>\n",
              "      <td>3601</td>\n",
              "      <td>0</td>\n",
              "    </tr>\n",
              "    <tr>\n",
              "      <th>3602</th>\n",
              "      <td>3602</td>\n",
              "      <td>0</td>\n",
              "    </tr>\n",
              "  </tbody>\n",
              "</table>\n",
              "<p>3603 rows × 2 columns</p>\n",
              "</div>"
            ],
            "text/plain": [
              "      comment_id  toxic\n",
              "0              0      0\n",
              "1              1      0\n",
              "2              2      0\n",
              "3              3      0\n",
              "4              4      0\n",
              "...          ...    ...\n",
              "3598        3598      1\n",
              "3599        3599      0\n",
              "3600        3600      0\n",
              "3601        3601      0\n",
              "3602        3602      0\n",
              "\n",
              "[3603 rows x 2 columns]"
            ]
          },
          "execution_count": 53,
          "metadata": {},
          "output_type": "execute_result"
        }
      ],
      "source": [
        "symbol_ngrams = test.copy()\n",
        "symbol_ngrams['toxic'] = clf3.predict(scaler.\n",
        "                                      transform(vec.transform(test.comment)))\n",
        "symbol_ngrams['toxic'] = tf_idf['toxic'].astype(int)\n",
        "symbol_ngrams.drop('comment', axis=1, inplace=True)\n",
        "symbol_ngrams"
      ]
    },
    {
      "cell_type": "code",
      "execution_count": 54,
      "metadata": {
        "id": "Oo6nL9x2633P"
      },
      "outputs": [],
      "source": [
        "symbol_ngrams.to_csv('symbol_ngrams_v1.csv', index=False)"
      ]
    },
    {
      "cell_type": "code",
      "execution_count": 55,
      "metadata": {
        "id": "zOx9bf8U7Y1F"
      },
      "outputs": [],
      "source": [
        "from sklearn.metrics import confusion_matrix"
      ]
    },
    {
      "cell_type": "code",
      "execution_count": 56,
      "metadata": {
        "colab": {
          "base_uri": "https://localhost:8080/"
        },
        "id": "40Bvhp5k7hWu",
        "outputId": "c009dfac-ecdf-4d68-f094-d160645929c6"
      },
      "outputs": [
        {
          "data": {
            "text/plain": [
              "array([[2918,    0],\n",
              "       [   0,  685]])"
            ]
          },
          "execution_count": 56,
          "metadata": {},
          "output_type": "execute_result"
        }
      ],
      "source": [
        "confusion_matrix(symbol_ngrams.toxic, tf_idf.toxic)"
      ]
    },
    {
      "cell_type": "code",
      "execution_count": 57,
      "metadata": {
        "id": "hDlkt69k7Ees"
      },
      "outputs": [],
      "source": [
        "# !kaggle competitions submit -c toxic-comments-classification-apdl-2021 -f symbol_ngrams_v1.csv -m \"kirill_setdekov symbol_ngrams_v1 v1 submission\""
      ]
    },
    {
      "cell_type": "markdown",
      "metadata": {
        "id": "7jiGSSWq8la7"
      },
      "source": [
        "#FastText"
      ]
    },
    {
      "cell_type": "code",
      "execution_count": 7,
      "metadata": {
        "colab": {
          "base_uri": "https://localhost:8080/"
        },
        "id": "cgsfsfWM8n1E",
        "outputId": "f93412da-2fba-4205-82e7-7594b1cb3824"
      },
      "outputs": [
        {
          "name": "stdout",
          "output_type": "stream",
          "text": [
            "Collecting fasttext\n",
            "  Downloading fasttext-0.9.2.tar.gz (68 kB)\n",
            "\u001b[?25l\r\u001b[K     |████▊                           | 10 kB 23.7 MB/s eta 0:00:01\r\u001b[K     |█████████▌                      | 20 kB 9.4 MB/s eta 0:00:01\r\u001b[K     |██████████████▎                 | 30 kB 8.1 MB/s eta 0:00:01\r\u001b[K     |███████████████████             | 40 kB 7.5 MB/s eta 0:00:01\r\u001b[K     |███████████████████████▉        | 51 kB 4.1 MB/s eta 0:00:01\r\u001b[K     |████████████████████████████▋   | 61 kB 4.4 MB/s eta 0:00:01\r\u001b[K     |████████████████████████████████| 68 kB 2.7 MB/s \n",
            "\u001b[?25hCollecting pybind11>=2.2\n",
            "  Using cached pybind11-2.8.0-py2.py3-none-any.whl (207 kB)\n",
            "Requirement already satisfied: setuptools>=0.7.0 in /usr/local/lib/python3.7/dist-packages (from fasttext) (57.4.0)\n",
            "Requirement already satisfied: numpy in /usr/local/lib/python3.7/dist-packages (from fasttext) (1.19.5)\n",
            "Building wheels for collected packages: fasttext\n",
            "  Building wheel for fasttext (setup.py) ... \u001b[?25l\u001b[?25hdone\n",
            "  Created wheel for fasttext: filename=fasttext-0.9.2-cp37-cp37m-linux_x86_64.whl size=3119085 sha256=735c99fbd5315605cd10b9a522e6fdfb760f3aa8f0ae77105b4d572b31285bd5\n",
            "  Stored in directory: /root/.cache/pip/wheels/4e/ca/bf/b020d2be95f7641801a6597a29c8f4f19e38f9c02a345bab9b\n",
            "Successfully built fasttext\n",
            "Installing collected packages: pybind11, fasttext\n",
            "Successfully installed fasttext-0.9.2 pybind11-2.8.0\n"
          ]
        }
      ],
      "source": [
        "!pip3 install fasttext\n",
        "import fasttext"
      ]
    },
    {
      "cell_type": "code",
      "execution_count": 12,
      "metadata": {
        "id": "e7Cz6ub783O3"
      },
      "outputs": [],
      "source": [
        "with open('ft_train_data.txt', 'w') as f:\n",
        "    for pair in list(zip(x_train, y_train)):\n",
        "        text, label = pair\n",
        "        f.write(f'__label__{int(label)} {text.lower()}\\n')\n",
        "        \n",
        "with open('ft_test_data.txt', 'w') as f:\n",
        "    for pair in list(zip(x_test, y_test)):\n",
        "        text, label = pair\n",
        "        f.write(f'__label__{int(label)} {text.lower()}\\n')"
      ]
    },
    {
      "cell_type": "code",
      "execution_count": 59,
      "metadata": {
        "id": "R9cekw91lBjA"
      },
      "outputs": [],
      "source": [
        "with open('ft_all.txt', 'w') as f:\n",
        "    for pair in list(zip(train.comment, train.toxic)):\n",
        "        text, label = pair\n",
        "        f.write(f'__label__{int(label)} {text.lower()}\\n')\n",
        "    "
      ]
    },
    {
      "cell_type": "code",
      "execution_count": 13,
      "metadata": {
        "colab": {
          "base_uri": "https://localhost:8080/"
        },
        "id": "upgT5oZ57JUH",
        "outputId": "e2085466-5da2-48e0-8104-2c2793a52b63"
      },
      "outputs": [
        {
          "name": "stdout",
          "output_type": "stream",
          "text": [
            "P@1: 0.8146503884572697\n",
            "R@1: 0.8146503884572697\n",
            "Number of examples: 2703\n"
          ]
        }
      ],
      "source": [
        "classifier = fasttext.train_supervised('ft_train_data.txt')#, 'model')\n",
        "result = classifier.test('ft_test_data.txt')\n",
        "print('P@1:', result[1])#.precision)\n",
        "print('R@1:', result[2])#.recall)\n",
        "print('Number of examples:', result[0])#.nexamples)"
      ]
    },
    {
      "cell_type": "code",
      "execution_count": 61,
      "metadata": {
        "id": "gzCaEetZlofT"
      },
      "outputs": [],
      "source": [
        "classifier2 = fasttext.train_supervised('ft_all.txt')#, 'model')\n"
      ]
    },
    {
      "cell_type": "code",
      "execution_count": 106,
      "metadata": {
        "colab": {
          "base_uri": "https://localhost:8080/"
        },
        "id": "s7jDJQP7nuZU",
        "outputId": "59c2086c-1e26-4be7-d2fe-27d79662bc70"
      },
      "outputs": [
        {
          "data": {
            "text/plain": [
              "3603"
            ]
          },
          "execution_count": 106,
          "metadata": {},
          "output_type": "execute_result"
        }
      ],
      "source": [
        "k = 0\n",
        "for item in [i.lower() for i in test.comment]:\n",
        "   item = item.replace(\"\\n\",\" \")\n",
        "   k +=1\n",
        "k"
      ]
    },
    {
      "cell_type": "code",
      "execution_count": 120,
      "metadata": {
        "id": "ZBc2I1m89_4q"
      },
      "outputs": [],
      "source": [
        "prediction = []\n",
        "for item in [i.lower() for i in test.comment]:\n",
        "   item = item.replace(\"\\n\",\" \")\n",
        "   prediction.append(classifier.predict(item))"
      ]
    },
    {
      "cell_type": "code",
      "execution_count": 121,
      "metadata": {
        "id": "OIEVWNh_mBA0"
      },
      "outputs": [],
      "source": [
        "prediction2 = []\n",
        "for item in [i.lower() for i in test.comment]:\n",
        "   item = item.replace(\"\\n\",\" \")\n",
        "   prediction2.append(classifier2.predict(item))"
      ]
    },
    {
      "cell_type": "code",
      "execution_count": 125,
      "metadata": {
        "id": "609xqV3L-kNq"
      },
      "outputs": [],
      "source": [
        "pred = [int(label[0][0].split('__')[2][0]) for label in prediction]\n",
        "pred2 = [int(label[0][0].split('__')[2][0]) for label in prediction2]\n"
      ]
    },
    {
      "cell_type": "code",
      "execution_count": 128,
      "metadata": {
        "colab": {
          "base_uri": "https://localhost:8080/",
          "height": 419
        },
        "id": "OJb3hjST_LRS",
        "outputId": "f33eeee4-264e-4f86-fb7f-0423fe20defe"
      },
      "outputs": [
        {
          "data": {
            "text/html": [
              "<div>\n",
              "<style scoped>\n",
              "    .dataframe tbody tr th:only-of-type {\n",
              "        vertical-align: middle;\n",
              "    }\n",
              "\n",
              "    .dataframe tbody tr th {\n",
              "        vertical-align: top;\n",
              "    }\n",
              "\n",
              "    .dataframe thead th {\n",
              "        text-align: right;\n",
              "    }\n",
              "</style>\n",
              "<table border=\"1\" class=\"dataframe\">\n",
              "  <thead>\n",
              "    <tr style=\"text-align: right;\">\n",
              "      <th></th>\n",
              "      <th>comment_id</th>\n",
              "      <th>toxic</th>\n",
              "    </tr>\n",
              "  </thead>\n",
              "  <tbody>\n",
              "    <tr>\n",
              "      <th>0</th>\n",
              "      <td>0</td>\n",
              "      <td>0</td>\n",
              "    </tr>\n",
              "    <tr>\n",
              "      <th>1</th>\n",
              "      <td>1</td>\n",
              "      <td>0</td>\n",
              "    </tr>\n",
              "    <tr>\n",
              "      <th>2</th>\n",
              "      <td>2</td>\n",
              "      <td>0</td>\n",
              "    </tr>\n",
              "    <tr>\n",
              "      <th>3</th>\n",
              "      <td>3</td>\n",
              "      <td>0</td>\n",
              "    </tr>\n",
              "    <tr>\n",
              "      <th>4</th>\n",
              "      <td>4</td>\n",
              "      <td>0</td>\n",
              "    </tr>\n",
              "    <tr>\n",
              "      <th>...</th>\n",
              "      <td>...</td>\n",
              "      <td>...</td>\n",
              "    </tr>\n",
              "    <tr>\n",
              "      <th>3598</th>\n",
              "      <td>3598</td>\n",
              "      <td>1</td>\n",
              "    </tr>\n",
              "    <tr>\n",
              "      <th>3599</th>\n",
              "      <td>3599</td>\n",
              "      <td>0</td>\n",
              "    </tr>\n",
              "    <tr>\n",
              "      <th>3600</th>\n",
              "      <td>3600</td>\n",
              "      <td>1</td>\n",
              "    </tr>\n",
              "    <tr>\n",
              "      <th>3601</th>\n",
              "      <td>3601</td>\n",
              "      <td>0</td>\n",
              "    </tr>\n",
              "    <tr>\n",
              "      <th>3602</th>\n",
              "      <td>3602</td>\n",
              "      <td>0</td>\n",
              "    </tr>\n",
              "  </tbody>\n",
              "</table>\n",
              "<p>3603 rows × 2 columns</p>\n",
              "</div>"
            ],
            "text/plain": [
              "      comment_id  toxic\n",
              "0              0      0\n",
              "1              1      0\n",
              "2              2      0\n",
              "3              3      0\n",
              "4              4      0\n",
              "...          ...    ...\n",
              "3598        3598      1\n",
              "3599        3599      0\n",
              "3600        3600      1\n",
              "3601        3601      0\n",
              "3602        3602      0\n",
              "\n",
              "[3603 rows x 2 columns]"
            ]
          },
          "execution_count": 128,
          "metadata": {},
          "output_type": "execute_result"
        }
      ],
      "source": [
        "fasttext_pred = test.copy()\n",
        "fasttext_pred['toxic'] = pred\n",
        "fasttext_pred.drop('comment', axis=1, inplace=True)\n",
        "fasttext_pred"
      ]
    },
    {
      "cell_type": "code",
      "execution_count": 129,
      "metadata": {
        "colab": {
          "base_uri": "https://localhost:8080/",
          "height": 419
        },
        "id": "mu4XFhqwmGLs",
        "outputId": "81e63e66-f813-4e48-fe2a-80156994df8d"
      },
      "outputs": [
        {
          "data": {
            "text/html": [
              "<div>\n",
              "<style scoped>\n",
              "    .dataframe tbody tr th:only-of-type {\n",
              "        vertical-align: middle;\n",
              "    }\n",
              "\n",
              "    .dataframe tbody tr th {\n",
              "        vertical-align: top;\n",
              "    }\n",
              "\n",
              "    .dataframe thead th {\n",
              "        text-align: right;\n",
              "    }\n",
              "</style>\n",
              "<table border=\"1\" class=\"dataframe\">\n",
              "  <thead>\n",
              "    <tr style=\"text-align: right;\">\n",
              "      <th></th>\n",
              "      <th>comment_id</th>\n",
              "      <th>toxic</th>\n",
              "    </tr>\n",
              "  </thead>\n",
              "  <tbody>\n",
              "    <tr>\n",
              "      <th>0</th>\n",
              "      <td>0</td>\n",
              "      <td>0</td>\n",
              "    </tr>\n",
              "    <tr>\n",
              "      <th>1</th>\n",
              "      <td>1</td>\n",
              "      <td>0</td>\n",
              "    </tr>\n",
              "    <tr>\n",
              "      <th>2</th>\n",
              "      <td>2</td>\n",
              "      <td>0</td>\n",
              "    </tr>\n",
              "    <tr>\n",
              "      <th>3</th>\n",
              "      <td>3</td>\n",
              "      <td>0</td>\n",
              "    </tr>\n",
              "    <tr>\n",
              "      <th>4</th>\n",
              "      <td>4</td>\n",
              "      <td>0</td>\n",
              "    </tr>\n",
              "    <tr>\n",
              "      <th>...</th>\n",
              "      <td>...</td>\n",
              "      <td>...</td>\n",
              "    </tr>\n",
              "    <tr>\n",
              "      <th>3598</th>\n",
              "      <td>3598</td>\n",
              "      <td>1</td>\n",
              "    </tr>\n",
              "    <tr>\n",
              "      <th>3599</th>\n",
              "      <td>3599</td>\n",
              "      <td>0</td>\n",
              "    </tr>\n",
              "    <tr>\n",
              "      <th>3600</th>\n",
              "      <td>3600</td>\n",
              "      <td>1</td>\n",
              "    </tr>\n",
              "    <tr>\n",
              "      <th>3601</th>\n",
              "      <td>3601</td>\n",
              "      <td>0</td>\n",
              "    </tr>\n",
              "    <tr>\n",
              "      <th>3602</th>\n",
              "      <td>3602</td>\n",
              "      <td>0</td>\n",
              "    </tr>\n",
              "  </tbody>\n",
              "</table>\n",
              "<p>3603 rows × 2 columns</p>\n",
              "</div>"
            ],
            "text/plain": [
              "      comment_id  toxic\n",
              "0              0      0\n",
              "1              1      0\n",
              "2              2      0\n",
              "3              3      0\n",
              "4              4      0\n",
              "...          ...    ...\n",
              "3598        3598      1\n",
              "3599        3599      0\n",
              "3600        3600      1\n",
              "3601        3601      0\n",
              "3602        3602      0\n",
              "\n",
              "[3603 rows x 2 columns]"
            ]
          },
          "execution_count": 129,
          "metadata": {},
          "output_type": "execute_result"
        }
      ],
      "source": [
        "fasttext_pred2 = test.copy()\n",
        "fasttext_pred2['toxic'] = pred2\n",
        "fasttext_pred2.drop('comment', axis=1, inplace=True)\n",
        "fasttext_pred2"
      ]
    },
    {
      "cell_type": "code",
      "execution_count": 130,
      "metadata": {
        "colab": {
          "base_uri": "https://localhost:8080/"
        },
        "id": "W_sCecrn_Nca",
        "outputId": "10eb1637-2e33-492a-946d-8bfd465574ba"
      },
      "outputs": [
        {
          "data": {
            "text/plain": [
              "array([[2652,  266],\n",
              "       [  54,  631]])"
            ]
          },
          "execution_count": 130,
          "metadata": {},
          "output_type": "execute_result"
        }
      ],
      "source": [
        "confusion_matrix(symbol_ngrams.toxic, fasttext_pred.toxic)"
      ]
    },
    {
      "cell_type": "code",
      "execution_count": 131,
      "metadata": {
        "colab": {
          "base_uri": "https://localhost:8080/"
        },
        "id": "nMgu4vjEpDEu",
        "outputId": "8faab7fd-cc6d-4847-bd3b-3e3b781c34ef"
      },
      "outputs": [
        {
          "data": {
            "text/plain": [
              "array([[2566,   44],\n",
              "       [ 140,  853]])"
            ]
          },
          "execution_count": 131,
          "metadata": {},
          "output_type": "execute_result"
        }
      ],
      "source": [
        "confusion_matrix(fasttext_pred2.toxic, fasttext_pred.toxic)"
      ]
    },
    {
      "cell_type": "code",
      "execution_count": null,
      "metadata": {
        "id": "TUuVFTii_lXK"
      },
      "outputs": [],
      "source": [
        "fasttext_pred.to_csv('fasttext_pred_v1.csv', index=False)"
      ]
    },
    {
      "cell_type": "code",
      "execution_count": 132,
      "metadata": {
        "id": "10UMss7OpIEm"
      },
      "outputs": [],
      "source": [
        "fasttext_pred2.to_csv('fasttext_pred_v2.csv', index=False)"
      ]
    },
    {
      "cell_type": "code",
      "execution_count": 133,
      "metadata": {
        "colab": {
          "base_uri": "https://localhost:8080/"
        },
        "id": "an9QwGR1_qaM",
        "outputId": "af3e2ef5-5592-4c78-8508-47f865d46be1"
      },
      "outputs": [
        {
          "name": "stdout",
          "output_type": "stream",
          "text": [
            "Warning: Looks like you're using an outdated API Version, please consider updating (server 1.5.12 / client 1.5.4)\n",
            "100% 23.6k/23.6k [00:07<00:00, 3.36kB/s]\n",
            "Successfully submitted to Toxic comments classification"
          ]
        }
      ],
      "source": [
        "!kaggle competitions submit -c toxic-comments-classification-apdl-2021 -f fasttext_pred_v2.csv -m \"kirill_setdekov fasttext_pred v2 submission\""
      ]
    },
    {
      "cell_type": "markdown",
      "metadata": {
        "id": "b4QfCrvSAzrj"
      },
      "source": [
        "## CNN"
      ]
    },
    {
      "cell_type": "code",
      "execution_count": 153,
      "metadata": {
        "id": "fJSempuE_zEl"
      },
      "outputs": [],
      "source": [
        "from torchtext.legacy import data"
      ]
    },
    {
      "cell_type": "code",
      "execution_count": null,
      "metadata": {
        "colab": {
          "base_uri": "https://localhost:8080/",
          "height": 419
        },
        "id": "vFNAtJa4B2ed",
        "outputId": "cd2fd19a-8a14-4bc2-f38e-f99022b31e39"
      },
      "outputs": [
        {
          "data": {
            "text/html": [
              "<div>\n",
              "<style scoped>\n",
              "    .dataframe tbody tr th:only-of-type {\n",
              "        vertical-align: middle;\n",
              "    }\n",
              "\n",
              "    .dataframe tbody tr th {\n",
              "        vertical-align: top;\n",
              "    }\n",
              "\n",
              "    .dataframe thead th {\n",
              "        text-align: right;\n",
              "    }\n",
              "</style>\n",
              "<table border=\"1\" class=\"dataframe\">\n",
              "  <thead>\n",
              "    <tr style=\"text-align: right;\">\n",
              "      <th></th>\n",
              "      <th>comment</th>\n",
              "      <th>toxic</th>\n",
              "    </tr>\n",
              "  </thead>\n",
              "  <tbody>\n",
              "    <tr>\n",
              "      <th>0</th>\n",
              "      <td>Преступление и наказание\\n</td>\n",
              "      <td>0.0</td>\n",
              "    </tr>\n",
              "    <tr>\n",
              "      <th>1</th>\n",
              "      <td>И именно эти неработающие весы показывают, что...</td>\n",
              "      <td>0.0</td>\n",
              "    </tr>\n",
              "    <tr>\n",
              "      <th>2</th>\n",
              "      <td>В Японии такие панельки, ебанько.\\n</td>\n",
              "      <td>0.0</td>\n",
              "    </tr>\n",
              "    <tr>\n",
              "      <th>3</th>\n",
              "      <td>Еще у нас выявляют трещины с помощью белой кра...</td>\n",
              "      <td>0.0</td>\n",
              "    </tr>\n",
              "    <tr>\n",
              "      <th>4</th>\n",
              "      <td>Дочитал до поезда в Норильск , дальше не стал\\n</td>\n",
              "      <td>0.0</td>\n",
              "    </tr>\n",
              "    <tr>\n",
              "      <th>...</th>\n",
              "      <td>...</td>\n",
              "      <td>...</td>\n",
              "    </tr>\n",
              "    <tr>\n",
              "      <th>10804</th>\n",
              "      <td>А у мамы в группе до самого выпуска из сада та...</td>\n",
              "      <td>0.0</td>\n",
              "    </tr>\n",
              "    <tr>\n",
              "      <th>10805</th>\n",
              "      <td>Сука тупой дегенарт. Вот на эти видео. Съеби у...</td>\n",
              "      <td>1.0</td>\n",
              "    </tr>\n",
              "    <tr>\n",
              "      <th>10806</th>\n",
              "      <td>В племенах украинцев, особенно западных, с дет...</td>\n",
              "      <td>1.0</td>\n",
              "    </tr>\n",
              "    <tr>\n",
              "      <th>10807</th>\n",
              "      <td>Пост про жадность, о том, как человек оплативш...</td>\n",
              "      <td>0.0</td>\n",
              "    </tr>\n",
              "    <tr>\n",
              "      <th>10808</th>\n",
              "      <td>Это не компенсация проезда к месту отдыха - он...</td>\n",
              "      <td>0.0</td>\n",
              "    </tr>\n",
              "  </tbody>\n",
              "</table>\n",
              "<p>10809 rows × 2 columns</p>\n",
              "</div>"
            ],
            "text/plain": [
              "                                                 comment  toxic\n",
              "0                             Преступление и наказание\\n    0.0\n",
              "1      И именно эти неработающие весы показывают, что...    0.0\n",
              "2                    В Японии такие панельки, ебанько.\\n    0.0\n",
              "3      Еще у нас выявляют трещины с помощью белой кра...    0.0\n",
              "4        Дочитал до поезда в Норильск , дальше не стал\\n    0.0\n",
              "...                                                  ...    ...\n",
              "10804  А у мамы в группе до самого выпуска из сада та...    0.0\n",
              "10805  Сука тупой дегенарт. Вот на эти видео. Съеби у...    1.0\n",
              "10806  В племенах украинцев, особенно западных, с дет...    1.0\n",
              "10807  Пост про жадность, о том, как человек оплативш...    0.0\n",
              "10808  Это не компенсация проезда к месту отдыха - он...    0.0\n",
              "\n",
              "[10809 rows x 2 columns]"
            ]
          },
          "execution_count": 213,
          "metadata": {},
          "output_type": "execute_result"
        }
      ],
      "source": [
        "pd.read_csv('train_data.csv.zip', compression='zip')"
      ]
    },
    {
      "cell_type": "code",
      "execution_count": 154,
      "metadata": {
        "colab": {
          "base_uri": "https://localhost:8080/"
        },
        "id": "VnqvBf70CTzF",
        "outputId": "d287002d-5adb-43c4-ef9c-1922646e04b8"
      },
      "outputs": [
        {
          "name": "stdout",
          "output_type": "stream",
          "text": [
            "Archive:  train_data.csv.zip\n",
            "  inflating: train_data.csv          \n",
            "Archive:  test_data.csv.zip\n",
            "  inflating: test_data.csv           \n"
          ]
        }
      ],
      "source": [
        "!unzip train_data.csv.zip\n",
        "!unzip test_data.csv.zip\n"
      ]
    },
    {
      "cell_type": "code",
      "execution_count": 155,
      "metadata": {
        "id": "FA205cKtA38j"
      },
      "outputs": [],
      "source": [
        "# классы Field и LabelField отвечают за то, как данные будут храниться и обрабатываться при считывании\n",
        "TEXT = data.Field(tokenize='spacy') # spacy -- значит, токенизацию будет делать модуль \n",
        "LABEL = data.LabelField()\n",
        "\n",
        "ds = data.TabularDataset(\n",
        "  path='train_data.csv', format='csv', \n",
        "  skip_header=True,\n",
        "  fields=[('comment', TEXT),\n",
        "        ('toxic', LABEL)]\n",
        ")"
      ]
    },
    {
      "cell_type": "code",
      "execution_count": 156,
      "metadata": {
        "colab": {
          "base_uri": "https://localhost:8080/",
          "height": 419
        },
        "id": "m4k0J4qmezzB",
        "outputId": "018bcd4a-b96a-4793-86cc-b100b5a98987"
      },
      "outputs": [
        {
          "data": {
            "text/html": [
              "<div>\n",
              "<style scoped>\n",
              "    .dataframe tbody tr th:only-of-type {\n",
              "        vertical-align: middle;\n",
              "    }\n",
              "\n",
              "    .dataframe tbody tr th {\n",
              "        vertical-align: top;\n",
              "    }\n",
              "\n",
              "    .dataframe thead th {\n",
              "        text-align: right;\n",
              "    }\n",
              "</style>\n",
              "<table border=\"1\" class=\"dataframe\">\n",
              "  <thead>\n",
              "    <tr style=\"text-align: right;\">\n",
              "      <th></th>\n",
              "      <th>comment_id</th>\n",
              "      <th>comment</th>\n",
              "    </tr>\n",
              "  </thead>\n",
              "  <tbody>\n",
              "    <tr>\n",
              "      <th>0</th>\n",
              "      <td>0</td>\n",
              "      <td>В данном случае не пионервожатая, а техничка, ...</td>\n",
              "    </tr>\n",
              "    <tr>\n",
              "      <th>1</th>\n",
              "      <td>1</td>\n",
              "      <td>В данном посте рассматривается обычный ленточн...</td>\n",
              "    </tr>\n",
              "    <tr>\n",
              "      <th>2</th>\n",
              "      <td>2</td>\n",
              "      <td>Как я понимаю, у поверхностей отражаемость пог...</td>\n",
              "    </tr>\n",
              "    <tr>\n",
              "      <th>3</th>\n",
              "      <td>3</td>\n",
              "      <td>Австралийские пауки съедят все живое на планете))</td>\n",
              "    </tr>\n",
              "    <tr>\n",
              "      <th>4</th>\n",
              "      <td>4</td>\n",
              "      <td>У нас раньше Амур пиво целые бутылки принимал ...</td>\n",
              "    </tr>\n",
              "    <tr>\n",
              "      <th>...</th>\n",
              "      <td>...</td>\n",
              "      <td>...</td>\n",
              "    </tr>\n",
              "    <tr>\n",
              "      <th>3598</th>\n",
              "      <td>3598</td>\n",
              "      <td>Я всё жду, когда эта херня закончится\\n</td>\n",
              "    </tr>\n",
              "    <tr>\n",
              "      <th>3599</th>\n",
              "      <td>3599</td>\n",
              "      <td>Откуда такой акцент на Москве? У нас между про...</td>\n",
              "    </tr>\n",
              "    <tr>\n",
              "      <th>3600</th>\n",
              "      <td>3600</td>\n",
              "      <td>Кого угодно, но не этих двух отбросов: свинью ...</td>\n",
              "    </tr>\n",
              "    <tr>\n",
              "      <th>3601</th>\n",
              "      <td>3601</td>\n",
              "      <td>А как же радиоуправляемые машинки в клубах?\\n</td>\n",
              "    </tr>\n",
              "    <tr>\n",
              "      <th>3602</th>\n",
              "      <td>3602</td>\n",
              "      <td>Правильно. Кз 10 и версия драйверов 10.х без э...</td>\n",
              "    </tr>\n",
              "  </tbody>\n",
              "</table>\n",
              "<p>3603 rows × 2 columns</p>\n",
              "</div>"
            ],
            "text/plain": [
              "      comment_id                                            comment\n",
              "0              0  В данном случае не пионервожатая, а техничка, ...\n",
              "1              1  В данном посте рассматривается обычный ленточн...\n",
              "2              2  Как я понимаю, у поверхностей отражаемость пог...\n",
              "3              3  Австралийские пауки съедят все живое на планете))\n",
              "4              4  У нас раньше Амур пиво целые бутылки принимал ...\n",
              "...          ...                                                ...\n",
              "3598        3598            Я всё жду, когда эта херня закончится\\n\n",
              "3599        3599  Откуда такой акцент на Москве? У нас между про...\n",
              "3600        3600  Кого угодно, но не этих двух отбросов: свинью ...\n",
              "3601        3601      А как же радиоуправляемые машинки в клубах?\\n\n",
              "3602        3602  Правильно. Кз 10 и версия драйверов 10.х без э...\n",
              "\n",
              "[3603 rows x 2 columns]"
            ]
          },
          "execution_count": 156,
          "metadata": {},
          "output_type": "execute_result"
        }
      ],
      "source": [
        "pd.read_csv('test_data.csv')"
      ]
    },
    {
      "cell_type": "code",
      "execution_count": 157,
      "metadata": {
        "id": "YYBrwOL6FBy6"
      },
      "outputs": [],
      "source": [
        "test = data.TabularDataset(\n",
        "  path='test_data.csv', format='csv', \n",
        "  skip_header=True,\n",
        "  fields=[('id', TEXT), ('comment', TEXT)]\n",
        ")"
      ]
    },
    {
      "cell_type": "code",
      "execution_count": 158,
      "metadata": {
        "colab": {
          "base_uri": "https://localhost:8080/"
        },
        "id": "FSqJ0c4WBktu",
        "outputId": "ef14ef18-16de-4b20-9879-5e7c681a6412"
      },
      "outputs": [
        {
          "data": {
            "text/plain": [
              "['Преступление', 'и', 'наказание']"
            ]
          },
          "execution_count": 158,
          "metadata": {},
          "output_type": "execute_result"
        }
      ],
      "source": [
        "next(ds.comment)"
      ]
    },
    {
      "cell_type": "code",
      "execution_count": 159,
      "metadata": {
        "colab": {
          "base_uri": "https://localhost:8080/",
          "height": 35
        },
        "id": "DMT-0oHkChSL",
        "outputId": "6af8d163-bd49-4fae-e2bb-dc3fb8e2e3f1"
      },
      "outputs": [
        {
          "data": {
            "application/vnd.google.colaboratory.intrinsic+json": {
              "type": "string"
            },
            "text/plain": [
              "'0.0'"
            ]
          },
          "execution_count": 159,
          "metadata": {},
          "output_type": "execute_result"
        }
      ],
      "source": [
        "next(ds.toxic)"
      ]
    },
    {
      "cell_type": "code",
      "execution_count": 160,
      "metadata": {
        "colab": {
          "base_uri": "https://localhost:8080/"
        },
        "id": "MtYG2JJGC1i-",
        "outputId": "1244b5be-427e-44d6-d3be-3703b33eaecc"
      },
      "outputs": [
        {
          "name": "stderr",
          "output_type": "stream",
          "text": [
            ".vector_cache/glove.6B.zip: 862MB [02:42, 5.30MB/s]                           \n",
            "100%|█████████▉| 399999/400000 [00:21<00:00, 18835.77it/s]\n"
          ]
        }
      ],
      "source": [
        "TEXT.build_vocab(ds, max_size=25000, vectors=\"glove.6B.100d\")\n",
        "LABEL.build_vocab(ds)"
      ]
    },
    {
      "cell_type": "code",
      "execution_count": 161,
      "metadata": {
        "colab": {
          "base_uri": "https://localhost:8080/"
        },
        "id": "XmibOBkmDNxs",
        "outputId": "787c5d05-2f94-48a7-9bd9-5aefd1ef1216"
      },
      "outputs": [
        {
          "data": {
            "text/plain": [
              "['<unk>',\n",
              " '<pad>',\n",
              " ',',\n",
              " '.',\n",
              " 'и',\n",
              " 'в',\n",
              " 'не',\n",
              " '-',\n",
              " 'на',\n",
              " 'что',\n",
              " '?',\n",
              " 'с',\n",
              " 'то',\n",
              " 'это',\n",
              " 'а',\n",
              " ')',\n",
              " 'как',\n",
              " 'по',\n",
              " 'за',\n",
              " 'у']"
            ]
          },
          "execution_count": 161,
          "metadata": {},
          "output_type": "execute_result"
        }
      ],
      "source": [
        "TEXT.vocab.itos[:20]"
      ]
    },
    {
      "cell_type": "code",
      "execution_count": 162,
      "metadata": {
        "colab": {
          "base_uri": "https://localhost:8080/"
        },
        "id": "VYbl8Fr_a6e0",
        "outputId": "3d84c4dd-66dc-41aa-bbf4-0289e5bc0d29"
      },
      "outputs": [
        {
          "data": {
            "text/plain": [
              "25002"
            ]
          },
          "execution_count": 162,
          "metadata": {},
          "output_type": "execute_result"
        }
      ],
      "source": [
        "len(TEXT.vocab.itos)"
      ]
    },
    {
      "cell_type": "code",
      "execution_count": 165,
      "metadata": {
        "id": "HsgpdJXsEGbN"
      },
      "outputs": [],
      "source": [
        "train, val = ds.split(split_ratio=0.9, stratified=True, strata_field='toxic') # дефолтное соотношение 0.7\n"
      ]
    },
    {
      "cell_type": "code",
      "execution_count": 166,
      "metadata": {
        "colab": {
          "base_uri": "https://localhost:8080/"
        },
        "id": "DEHl0cpnEuGu",
        "outputId": "397ace5d-45f8-4381-bebf-967987a42e47"
      },
      "outputs": [
        {
          "name": "stdout",
          "output_type": "stream",
          "text": [
            "9728\n",
            "1081\n",
            "3603\n"
          ]
        }
      ],
      "source": [
        "print(len(train))\n",
        "print(len(val))\n",
        "print(len(test))"
      ]
    },
    {
      "cell_type": "code",
      "execution_count": 167,
      "metadata": {
        "id": "VpsEtHg-FgJ0"
      },
      "outputs": [],
      "source": [
        "BATCH_SIZE  = 64\n",
        "\n",
        "train_iterator, valid_iterator, test_iterator = data.BucketIterator.splits(\n",
        "    (train, val, test), \n",
        "    batch_size=BATCH_SIZE, \n",
        "    sort=True,\n",
        "    sort_key=lambda x: len(x.comment), # сорируем тексты по длине, чтобы рядом оказывались предложения с одинаковой длиной и добавлялось меньше паддинга\n",
        "    repeat=False)"
      ]
    },
    {
      "cell_type": "code",
      "execution_count": 168,
      "metadata": {
        "colab": {
          "base_uri": "https://localhost:8080/"
        },
        "id": "I8U5dvWWFiTl",
        "outputId": "c7e17361-54bc-40a1-98de-8c1f5dea11d5"
      },
      "outputs": [
        {
          "name": "stdout",
          "output_type": "stream",
          "text": [
            "64\n",
            "64\n",
            "64\n",
            "64\n",
            "64\n",
            "64\n",
            "64\n",
            "64\n",
            "64\n",
            "64\n",
            "64\n",
            "64\n",
            "64\n",
            "64\n",
            "64\n",
            "64\n",
            "57\n"
          ]
        }
      ],
      "source": [
        "for i, batch in enumerate(valid_iterator):\n",
        "  print(batch.batch_size)\n",
        "  # pass"
      ]
    },
    {
      "cell_type": "code",
      "execution_count": 169,
      "metadata": {
        "colab": {
          "base_uri": "https://localhost:8080/"
        },
        "id": "O2gwBZcZFjoG",
        "outputId": "56248ad3-3812-4bdc-fbea-a639c981e7b1"
      },
      "outputs": [
        {
          "data": {
            "text/plain": [
              "dict_keys(['comment', 'toxic'])"
            ]
          },
          "execution_count": 169,
          "metadata": {},
          "output_type": "execute_result"
        }
      ],
      "source": [
        "batch.fields"
      ]
    },
    {
      "cell_type": "code",
      "execution_count": 170,
      "metadata": {
        "colab": {
          "base_uri": "https://localhost:8080/"
        },
        "id": "hQ85AC2EFtTe",
        "outputId": "19d4d32c-3e26-4e99-98ce-13ef11f0ec62"
      },
      "outputs": [
        {
          "data": {
            "text/plain": [
              "57"
            ]
          },
          "execution_count": 170,
          "metadata": {},
          "output_type": "execute_result"
        }
      ],
      "source": [
        "batch.batch_size"
      ]
    },
    {
      "cell_type": "code",
      "execution_count": 171,
      "metadata": {
        "colab": {
          "base_uri": "https://localhost:8080/"
        },
        "id": "etKoEPzsGO7l",
        "outputId": "8963929d-4921-436d-d705-34c60557693c"
      },
      "outputs": [
        {
          "data": {
            "text/plain": [
              "tensor([[ 2133, 14508,  2138,  ...,    22,  2523,    36],\n",
              "        [  207, 17726,    53,  ...,    26,    20,     0],\n",
              "        [15018,  9861,  2819,  ...,    51,     0,  1086],\n",
              "        ...,\n",
              "        [ 2082,     1,     1,  ...,     1,     1,     1],\n",
              "        [    5,     1,     1,  ...,     1,     1,     1],\n",
              "        [  721,     1,     1,  ...,     1,     1,     1]])"
            ]
          },
          "execution_count": 171,
          "metadata": {},
          "output_type": "execute_result"
        }
      ],
      "source": [
        "batch.comment"
      ]
    },
    {
      "cell_type": "code",
      "execution_count": 172,
      "metadata": {
        "colab": {
          "base_uri": "https://localhost:8080/"
        },
        "id": "-jHmxbhOGQxH",
        "outputId": "caa94d04-4fd2-4c16-d7bb-4ba9d82748bf"
      },
      "outputs": [
        {
          "data": {
            "text/plain": [
              "tensor([0, 0, 0, 1, 0, 0, 0, 0, 1, 0, 0, 1, 1, 0, 0, 0, 0, 0, 1, 0, 0, 0, 0, 0,\n",
              "        0, 1, 0, 0, 0, 0, 1, 0, 0, 0, 0, 0, 0, 0, 0, 0, 0, 1, 0, 0, 0, 0, 0, 0,\n",
              "        0, 1, 0, 0, 0, 0, 0, 0, 0])"
            ]
          },
          "execution_count": 172,
          "metadata": {},
          "output_type": "execute_result"
        }
      ],
      "source": [
        "batch.toxic"
      ]
    },
    {
      "cell_type": "code",
      "execution_count": 173,
      "metadata": {
        "colab": {
          "base_uri": "https://localhost:8080/"
        },
        "id": "dhdiZKe6bcJC",
        "outputId": "e248e1c3-485c-462b-9f06-ae284e87f039"
      },
      "outputs": [
        {
          "data": {
            "text/plain": [
              "57"
            ]
          },
          "execution_count": 173,
          "metadata": {},
          "output_type": "execute_result"
        }
      ],
      "source": [
        "len(batch.toxic)"
      ]
    },
    {
      "cell_type": "code",
      "execution_count": 174,
      "metadata": {
        "id": "mcx8M_PMGdDg"
      },
      "outputs": [],
      "source": [
        "import torch.nn as nn"
      ]
    },
    {
      "cell_type": "code",
      "execution_count": 175,
      "metadata": {
        "id": "v0-gEAY8GUxX"
      },
      "outputs": [],
      "source": [
        "class CNN(nn.Module):\n",
        "    def __init__(self, vocab_size, embedding_dim, n_filters, filter_sizes, output_dim, dropout_proba):\n",
        "        super().__init__()\n",
        "        \n",
        "        self.embedding = nn.Embedding(vocab_size, embedding_dim)\n",
        "        self.conv_0 = nn.Conv2d(in_channels=1, out_channels=n_filters, kernel_size=(filter_sizes[0], embedding_dim))\n",
        "        self.conv_1 = nn.Conv2d(in_channels=1, out_channels=n_filters, kernel_size=(filter_sizes[1], embedding_dim))\n",
        "        self.conv_2 = nn.Conv2d(in_channels=1, out_channels=n_filters, kernel_size=(filter_sizes[2], embedding_dim))\n",
        "        self.fc = nn.Linear(len(filter_sizes) * n_filters, output_dim)\n",
        "        self.dropout = nn.Dropout(dropout_proba)\n",
        "        \n",
        "    def forward(self, x):\n",
        "        #x = [sent len, batch size]\n",
        "        # print(x.shape)\n",
        "        x = x.permute(1, 0)\n",
        "                \n",
        "        #x = [batch size, sent len]\n",
        "        embedded = self.embedding(x)\n",
        "        #print(embedded.shape)\n",
        "                \n",
        "        #embedded = [batch size, sent len, emb dim]\n",
        "        embedded = embedded.unsqueeze(1)\n",
        "        \n",
        "        \n",
        "        #embedded = [batch size, 1, sent len, emb dim]\n",
        "        conv_0 = self.conv_0(embedded)\n",
        "        #print(conv_0.shape)\n",
        "        conv_0 = conv_0.squeeze(3)\n",
        "        #print(conv_0.shape)\n",
        "        conved_0 = F.relu(conv_0)\n",
        "        conved_1 = F.relu(self.conv_1(embedded).squeeze(3))\n",
        "        conved_2 = F.relu(self.conv_2(embedded).squeeze(3))\n",
        "            \n",
        "        #conv_n = [batch size, n_filters, sent len - filter_sizes[n]]\n",
        "        # print(conved_0.shape)\n",
        "        pool_0 = F.max_pool1d(conved_0, conved_0.shape[2])\n",
        "        # print(pool_0.shape)\n",
        "\n",
        "        pooled_0 = pool_0.squeeze(2)\n",
        "        # print(pooled_0.shape)\n",
        "        pooled_1 = F.max_pool1d(conved_1, conved_1.shape[2]).squeeze(2)\n",
        "        pooled_2 = F.max_pool1d(conved_2, conved_2.shape[2]).squeeze(2)\n",
        "        \n",
        "        #pooled_n = [batch size, n_filters]\n",
        "        cat = self.dropout(torch.cat((pooled_0, pooled_1, pooled_2), dim=1))\n",
        "\n",
        "        #cat = [batch size, n_filters * len(filter_sizes)]\n",
        "        return self.fc(cat)"
      ]
    },
    {
      "cell_type": "code",
      "execution_count": 176,
      "metadata": {
        "id": "QIxmCgTvGbfX"
      },
      "outputs": [],
      "source": [
        "import torch.nn.functional as F\n",
        "\n",
        "def binary_accuracy(preds, y):\n",
        "    rounded_preds = torch.round(F.sigmoid(preds))\n",
        "    correct = (rounded_preds == y).float()\n",
        "    acc = correct.sum() / len(correct)\n",
        "    return acc"
      ]
    },
    {
      "cell_type": "code",
      "execution_count": 177,
      "metadata": {
        "id": "eP6WPmUpGh1f"
      },
      "outputs": [],
      "source": [
        "def train_func(model, iterator, optimizer, criterion):\n",
        "    epoch_loss = 0\n",
        "    epoch_acc = 0\n",
        "    \n",
        "    model.train()\n",
        "    \n",
        "    for batch in iterator:\n",
        "        optimizer.zero_grad()\n",
        "        \n",
        "        predictions = model(batch.comment.cuda()).squeeze(1)\n",
        "\n",
        "        loss = criterion(predictions.float(), batch.toxic.float().cuda())\n",
        "        acc = binary_accuracy(predictions.float(), batch.toxic.float().cuda())\n",
        "        \n",
        "        loss.backward()\n",
        "        optimizer.step()\n",
        "        \n",
        "        epoch_loss += loss\n",
        "        epoch_acc += acc\n",
        "        \n",
        "    return epoch_loss / len(iterator), epoch_acc / len(iterator)"
      ]
    },
    {
      "cell_type": "code",
      "execution_count": 178,
      "metadata": {
        "id": "v_YEn7SiGrG3"
      },
      "outputs": [],
      "source": [
        "def evaluate_func(model, iterator, criterion):\n",
        "    epoch_loss = 0\n",
        "    epoch_acc = 0\n",
        "    \n",
        "    model.eval()\n",
        "    \n",
        "    with torch.no_grad():\n",
        "        for batch in iterator:\n",
        "            predictions = model(batch.comment.cuda()).squeeze(1)\n",
        "\n",
        "            loss = criterion(predictions.float(), batch.toxic.float().cuda())\n",
        "            acc = binary_accuracy(predictions.float(), batch.toxic.float().cuda())\n",
        "\n",
        "            epoch_loss += loss\n",
        "            epoch_acc += acc\n",
        "        \n",
        "    return epoch_loss / len(iterator), epoch_acc / len(iterator)"
      ]
    },
    {
      "cell_type": "code",
      "execution_count": 179,
      "metadata": {
        "id": "NHFYhJ5pGveX"
      },
      "outputs": [],
      "source": [
        "INPUT_DIM = len(TEXT.vocab)\n",
        "EMBEDDING_DIM = 100\n",
        "N_FILTERS = 100\n",
        "FILTER_SIZES = [2,3,4]\n",
        "OUTPUT_DIM = 1\n",
        "DROPOUT_PROBA = 0.5\n",
        "\n",
        "model = CNN(INPUT_DIM, EMBEDDING_DIM, N_FILTERS, FILTER_SIZES, OUTPUT_DIM, DROPOUT_PROBA)"
      ]
    },
    {
      "cell_type": "code",
      "execution_count": 180,
      "metadata": {
        "colab": {
          "base_uri": "https://localhost:8080/"
        },
        "id": "h0-WiD9mQwLd",
        "outputId": "241c2b6c-2b53-4d31-9347-f216daf63d6f"
      },
      "outputs": [
        {
          "data": {
            "text/plain": [
              "25002"
            ]
          },
          "execution_count": 180,
          "metadata": {},
          "output_type": "execute_result"
        }
      ],
      "source": [
        "INPUT_DIM"
      ]
    },
    {
      "cell_type": "code",
      "execution_count": 181,
      "metadata": {
        "colab": {
          "base_uri": "https://localhost:8080/"
        },
        "id": "7wM1sFtlGxQ_",
        "outputId": "8f7671a7-c228-46f4-f56a-b4575050c781"
      },
      "outputs": [
        {
          "data": {
            "text/plain": [
              "CNN(\n",
              "  (embedding): Embedding(25002, 100)\n",
              "  (conv_0): Conv2d(1, 100, kernel_size=(2, 100), stride=(1, 1))\n",
              "  (conv_1): Conv2d(1, 100, kernel_size=(3, 100), stride=(1, 1))\n",
              "  (conv_2): Conv2d(1, 100, kernel_size=(4, 100), stride=(1, 1))\n",
              "  (fc): Linear(in_features=300, out_features=1, bias=True)\n",
              "  (dropout): Dropout(p=0.5, inplace=False)\n",
              ")"
            ]
          },
          "execution_count": 181,
          "metadata": {},
          "output_type": "execute_result"
        }
      ],
      "source": [
        "model"
      ]
    },
    {
      "cell_type": "code",
      "execution_count": 182,
      "metadata": {
        "colab": {
          "base_uri": "https://localhost:8080/"
        },
        "id": "PCviQXowGy2C",
        "outputId": "f04ff8a6-0393-40bd-8d22-6111e8b6ca16"
      },
      "outputs": [
        {
          "data": {
            "text/plain": [
              "tensor([[ 0.0000,  0.0000,  0.0000,  ...,  0.0000,  0.0000,  0.0000],\n",
              "        [ 0.0000,  0.0000,  0.0000,  ...,  0.0000,  0.0000,  0.0000],\n",
              "        [-0.1077,  0.1105,  0.5981,  ..., -0.8316,  0.4529,  0.0826],\n",
              "        ...,\n",
              "        [ 0.0000,  0.0000,  0.0000,  ...,  0.0000,  0.0000,  0.0000],\n",
              "        [ 0.0000,  0.0000,  0.0000,  ...,  0.0000,  0.0000,  0.0000],\n",
              "        [ 0.0000,  0.0000,  0.0000,  ...,  0.0000,  0.0000,  0.0000]])"
            ]
          },
          "execution_count": 182,
          "metadata": {},
          "output_type": "execute_result"
        }
      ],
      "source": [
        "pretrained_embeddings = TEXT.vocab.vectors\n",
        "model.embedding.weight.data.copy_(pretrained_embeddings)"
      ]
    },
    {
      "cell_type": "code",
      "execution_count": 183,
      "metadata": {
        "id": "NUJ7l-xrG22X"
      },
      "outputs": [],
      "source": [
        "import torch.optim as optim"
      ]
    },
    {
      "cell_type": "code",
      "execution_count": 184,
      "metadata": {
        "id": "KvaxqkZNG4cI"
      },
      "outputs": [],
      "source": [
        "optimizer = optim.Adam(model.parameters()) # мы подали оптимизатору все параметры -- значит, эмбеддиги тоже будут дообучаться\n",
        "criterion = nn.BCEWithLogitsLoss() # бинарная кросс-энтропия с логитами\n",
        "\n",
        "model = model.cuda() # будем учить на gpu! =)"
      ]
    },
    {
      "cell_type": "code",
      "execution_count": 185,
      "metadata": {
        "colab": {
          "base_uri": "https://localhost:8080/"
        },
        "id": "kG5PJwxIZj7p",
        "outputId": "35634986-7362-4186-c80d-bcae9966d9f3"
      },
      "outputs": [
        {
          "data": {
            "text/plain": [
              "Embedding(25002, 100)"
            ]
          },
          "execution_count": 185,
          "metadata": {},
          "output_type": "execute_result"
        }
      ],
      "source": [
        "model.embedding"
      ]
    },
    {
      "cell_type": "code",
      "execution_count": 186,
      "metadata": {
        "id": "7eN1xMU-QeHx"
      },
      "outputs": [],
      "source": [
        "from torchsummary import summary\n",
        "\n",
        "# summary(model, (14))\n"
      ]
    },
    {
      "cell_type": "code",
      "execution_count": 187,
      "metadata": {
        "id": "Bumtc2iiTyRs"
      },
      "outputs": [],
      "source": [
        "import torch"
      ]
    },
    {
      "cell_type": "code",
      "execution_count": 188,
      "metadata": {
        "colab": {
          "base_uri": "https://localhost:8080/"
        },
        "id": "x-4l0_7AG6uv",
        "outputId": "84cfd66e-b81b-49e8-82c5-689fe3f6656c"
      },
      "outputs": [
        {
          "name": "stderr",
          "output_type": "stream",
          "text": [
            "/usr/local/lib/python3.7/dist-packages/torch/nn/functional.py:652: UserWarning: Named tensors and all their associated APIs are an experimental feature and subject to change. Please do not use them for anything important until they are released as stable. (Triggered internally at  /pytorch/c10/core/TensorImpl.h:1156.)\n",
            "  return torch.max_pool1d(input, kernel_size, stride, padding, dilation, ceil_mode)\n",
            "/usr/local/lib/python3.7/dist-packages/torch/nn/functional.py:1805: UserWarning: nn.functional.sigmoid is deprecated. Use torch.sigmoid instead.\n",
            "  warnings.warn(\"nn.functional.sigmoid is deprecated. Use torch.sigmoid instead.\")\n"
          ]
        },
        {
          "name": "stdout",
          "output_type": "stream",
          "text": [
            "Epoch: 01, Train Loss: 0.588, Train Acc: 67.42%, Val. Loss: 0.560, Val. Acc: 70.71%\n",
            "Epoch: 02, Train Loss: 0.446, Train Acc: 79.39%, Val. Loss: 0.516, Val. Acc: 77.84%\n",
            "Epoch: 03, Train Loss: 0.304, Train Acc: 88.07%, Val. Loss: 0.480, Val. Acc: 79.78%\n",
            "Epoch: 04, Train Loss: 0.183, Train Acc: 93.59%, Val. Loss: 0.471, Val. Acc: 81.63%\n",
            "Epoch: 05, Train Loss: 0.107, Train Acc: 96.48%, Val. Loss: 0.446, Val. Acc: 83.26%\n",
            "Epoch: 06, Train Loss: 0.067, Train Acc: 97.79%, Val. Loss: 0.393, Val. Acc: 85.85%\n",
            "Epoch: 07, Train Loss: 0.044, Train Acc: 98.58%, Val. Loss: 0.422, Val. Acc: 85.09%\n",
            "Epoch: 08, Train Loss: 0.026, Train Acc: 99.24%, Val. Loss: 0.466, Val. Acc: 85.01%\n"
          ]
        }
      ],
      "source": [
        "N_EPOCHS = 8\n",
        "\n",
        "for epoch in range(N_EPOCHS):\n",
        "    train_loss, train_acc = train_func(model, train_iterator, optimizer, criterion)\n",
        "    valid_loss, valid_acc = evaluate_func(model, valid_iterator, criterion)\n",
        "    \n",
        "    print(f'Epoch: {epoch+1:02}, Train Loss: {train_loss:.3f}, Train Acc: {train_acc*100:.2f}%, Val. Loss: {valid_loss:.3f}, Val. Acc: {valid_acc*100:.2f}%')"
      ]
    },
    {
      "cell_type": "code",
      "execution_count": 189,
      "metadata": {
        "colab": {
          "base_uri": "https://localhost:8080/"
        },
        "id": "d9him_d8d9GZ",
        "outputId": "586802e6-b91e-47cf-dbf5-a5d5169c5bd1"
      },
      "outputs": [
        {
          "data": {
            "text/plain": [
              "[<torchtext.legacy.data.example.Example at 0x7fc20119d410>,\n",
              " <torchtext.legacy.data.example.Example at 0x7fc20119da50>,\n",
              " <torchtext.legacy.data.example.Example at 0x7fc20119d610>,\n",
              " <torchtext.legacy.data.example.Example at 0x7fc20119ddd0>,\n",
              " <torchtext.legacy.data.example.Example at 0x7fc1795937d0>,\n",
              " <torchtext.legacy.data.example.Example at 0x7fc179593590>,\n",
              " <torchtext.legacy.data.example.Example at 0x7fc179593390>,\n",
              " <torchtext.legacy.data.example.Example at 0x7fc179593a50>,\n",
              " <torchtext.legacy.data.example.Example at 0x7fc179593a90>,\n",
              " <torchtext.legacy.data.example.Example at 0x7fc179593d50>,\n",
              " <torchtext.legacy.data.example.Example at 0x7fc179593450>,\n",
              " <torchtext.legacy.data.example.Example at 0x7fc179593ed0>,\n",
              " <torchtext.legacy.data.example.Example at 0x7fc179593490>,\n",
              " <torchtext.legacy.data.example.Example at 0x7fc179593e50>,\n",
              " <torchtext.legacy.data.example.Example at 0x7fc179593e90>,\n",
              " <torchtext.legacy.data.example.Example at 0x7fc179593550>,\n",
              " <torchtext.legacy.data.example.Example at 0x7fc1795935d0>,\n",
              " <torchtext.legacy.data.example.Example at 0x7fc179593050>,\n",
              " <torchtext.legacy.data.example.Example at 0x7fc179593710>,\n",
              " <torchtext.legacy.data.example.Example at 0x7fc179593110>,\n",
              " <torchtext.legacy.data.example.Example at 0x7fc179593950>,\n",
              " <torchtext.legacy.data.example.Example at 0x7fc179593790>,\n",
              " <torchtext.legacy.data.example.Example at 0x7fc179593210>,\n",
              " <torchtext.legacy.data.example.Example at 0x7fc179593650>,\n",
              " <torchtext.legacy.data.example.Example at 0x7fc179593690>,\n",
              " <torchtext.legacy.data.example.Example at 0x7fc179593350>,\n",
              " <torchtext.legacy.data.example.Example at 0x7fc179593d90>,\n",
              " <torchtext.legacy.data.example.Example at 0x7fc1795933d0>,\n",
              " <torchtext.legacy.data.example.Example at 0x7fc17959d650>,\n",
              " <torchtext.legacy.data.example.Example at 0x7fc17959d510>,\n",
              " <torchtext.legacy.data.example.Example at 0x7fc17959dc10>,\n",
              " <torchtext.legacy.data.example.Example at 0x7fc17959d150>,\n",
              " <torchtext.legacy.data.example.Example at 0x7fc17959de10>,\n",
              " <torchtext.legacy.data.example.Example at 0x7fc17959dd90>,\n",
              " <torchtext.legacy.data.example.Example at 0x7fc17959dd50>,\n",
              " <torchtext.legacy.data.example.Example at 0x7fc17959d5d0>,\n",
              " <torchtext.legacy.data.example.Example at 0x7fc17959dad0>,\n",
              " <torchtext.legacy.data.example.Example at 0x7fc17959d990>,\n",
              " <torchtext.legacy.data.example.Example at 0x7fc17959d210>,\n",
              " <torchtext.legacy.data.example.Example at 0x7fc17959d290>,\n",
              " <torchtext.legacy.data.example.Example at 0x7fc17959d810>,\n",
              " <torchtext.legacy.data.example.Example at 0x7fc17959d390>,\n",
              " <torchtext.legacy.data.example.Example at 0x7fc17959d4d0>,\n",
              " <torchtext.legacy.data.example.Example at 0x7fc17959da50>,\n",
              " <torchtext.legacy.data.example.Example at 0x7fc17959d610>,\n",
              " <torchtext.legacy.data.example.Example at 0x7fc17959d110>,\n",
              " <torchtext.legacy.data.example.Example at 0x7fc17959d1d0>,\n",
              " <torchtext.legacy.data.example.Example at 0x7fc17d361cd0>,\n",
              " <torchtext.legacy.data.example.Example at 0x7fc17d361e50>,\n",
              " <torchtext.legacy.data.example.Example at 0x7fc17d361d10>,\n",
              " <torchtext.legacy.data.example.Example at 0x7fc1795b4ed0>,\n",
              " <torchtext.legacy.data.example.Example at 0x7fc1795b4e90>,\n",
              " <torchtext.legacy.data.example.Example at 0x7fc17959d050>,\n",
              " <torchtext.legacy.data.example.Example at 0x7fc201128790>,\n",
              " <torchtext.legacy.data.example.Example at 0x7fc201128550>,\n",
              " <torchtext.legacy.data.example.Example at 0x7fc201128ed0>,\n",
              " <torchtext.legacy.data.example.Example at 0x7fc201128410>,\n",
              " <torchtext.legacy.data.example.Example at 0x7fc201128e10>,\n",
              " <torchtext.legacy.data.example.Example at 0x7fc201128cd0>,\n",
              " <torchtext.legacy.data.example.Example at 0x7fc1794bf050>,\n",
              " <torchtext.legacy.data.example.Example at 0x7fc1794bf190>,\n",
              " <torchtext.legacy.data.example.Example at 0x7fc1794bf310>,\n",
              " <torchtext.legacy.data.example.Example at 0x7fc1794bf290>,\n",
              " <torchtext.legacy.data.example.Example at 0x7fc1794bf410>,\n",
              " <torchtext.legacy.data.example.Example at 0x7fc1794bf390>,\n",
              " <torchtext.legacy.data.example.Example at 0x7fc1794bf490>,\n",
              " <torchtext.legacy.data.example.Example at 0x7fc1794bf590>,\n",
              " <torchtext.legacy.data.example.Example at 0x7fc1794bf650>,\n",
              " <torchtext.legacy.data.example.Example at 0x7fc1794bf750>,\n",
              " <torchtext.legacy.data.example.Example at 0x7fc1794bf850>,\n",
              " <torchtext.legacy.data.example.Example at 0x7fc1794bf7d0>,\n",
              " <torchtext.legacy.data.example.Example at 0x7fc1794bf8d0>,\n",
              " <torchtext.legacy.data.example.Example at 0x7fc1794bfa50>,\n",
              " <torchtext.legacy.data.example.Example at 0x7fc1794bfad0>,\n",
              " <torchtext.legacy.data.example.Example at 0x7fc1794bfb90>,\n",
              " <torchtext.legacy.data.example.Example at 0x7fc1794bfc10>,\n",
              " <torchtext.legacy.data.example.Example at 0x7fc1794bfb10>,\n",
              " <torchtext.legacy.data.example.Example at 0x7fc1794bfc90>,\n",
              " <torchtext.legacy.data.example.Example at 0x7fc1794bfdd0>,\n",
              " <torchtext.legacy.data.example.Example at 0x7fc1794bfd10>,\n",
              " <torchtext.legacy.data.example.Example at 0x7fc1794bfe50>,\n",
              " <torchtext.legacy.data.example.Example at 0x7fc1794bff50>,\n",
              " <torchtext.legacy.data.example.Example at 0x7fc1794bfed0>,\n",
              " <torchtext.legacy.data.example.Example at 0x7fc1794db390>,\n",
              " <torchtext.legacy.data.example.Example at 0x7fc1794db490>,\n",
              " <torchtext.legacy.data.example.Example at 0x7fc1794db510>,\n",
              " <torchtext.legacy.data.example.Example at 0x7fc1794db5d0>,\n",
              " <torchtext.legacy.data.example.Example at 0x7fc1794db650>,\n",
              " <torchtext.legacy.data.example.Example at 0x7fc1794db590>,\n",
              " <torchtext.legacy.data.example.Example at 0x7fc1794db6d0>,\n",
              " <torchtext.legacy.data.example.Example at 0x7fc1794db910>,\n",
              " <torchtext.legacy.data.example.Example at 0x7fc1794db7d0>,\n",
              " <torchtext.legacy.data.example.Example at 0x7fc1794dba10>,\n",
              " <torchtext.legacy.data.example.Example at 0x7fc1794dba90>,\n",
              " <torchtext.legacy.data.example.Example at 0x7fc1794db990>,\n",
              " <torchtext.legacy.data.example.Example at 0x7fc1794dbb90>,\n",
              " <torchtext.legacy.data.example.Example at 0x7fc1794dbb10>,\n",
              " <torchtext.legacy.data.example.Example at 0x7fc1794dbcd0>,\n",
              " <torchtext.legacy.data.example.Example at 0x7fc1794dbd50>,\n",
              " <torchtext.legacy.data.example.Example at 0x7fc1794dbdd0>,\n",
              " <torchtext.legacy.data.example.Example at 0x7fc1794dbc10>,\n",
              " <torchtext.legacy.data.example.Example at 0x7fc1794dbe50>,\n",
              " <torchtext.legacy.data.example.Example at 0x7fc1794dbf90>,\n",
              " <torchtext.legacy.data.example.Example at 0x7fc1794e9090>,\n",
              " <torchtext.legacy.data.example.Example at 0x7fc1794e9050>,\n",
              " <torchtext.legacy.data.example.Example at 0x7fc1794e9190>,\n",
              " <torchtext.legacy.data.example.Example at 0x7fc1794e9210>,\n",
              " <torchtext.legacy.data.example.Example at 0x7fc1794e9250>,\n",
              " <torchtext.legacy.data.example.Example at 0x7fc1794e92d0>,\n",
              " <torchtext.legacy.data.example.Example at 0x7fc1794e9350>,\n",
              " <torchtext.legacy.data.example.Example at 0x7fc1794e9450>,\n",
              " <torchtext.legacy.data.example.Example at 0x7fc1794e94d0>,\n",
              " <torchtext.legacy.data.example.Example at 0x7fc1794e9590>,\n",
              " <torchtext.legacy.data.example.Example at 0x7fc1794e9610>,\n",
              " <torchtext.legacy.data.example.Example at 0x7fc1794e9690>,\n",
              " <torchtext.legacy.data.example.Example at 0x7fc1794e9750>,\n",
              " <torchtext.legacy.data.example.Example at 0x7fc1794e9710>,\n",
              " <torchtext.legacy.data.example.Example at 0x7fc1794e9850>,\n",
              " <torchtext.legacy.data.example.Example at 0x7fc1794e97d0>,\n",
              " <torchtext.legacy.data.example.Example at 0x7fc1794e9990>,\n",
              " <torchtext.legacy.data.example.Example at 0x7fc1794e9950>,\n",
              " <torchtext.legacy.data.example.Example at 0x7fc1794e9a10>,\n",
              " <torchtext.legacy.data.example.Example at 0x7fc1794e9a90>,\n",
              " <torchtext.legacy.data.example.Example at 0x7fc1794e9b10>,\n",
              " <torchtext.legacy.data.example.Example at 0x7fc1794e9c10>,\n",
              " <torchtext.legacy.data.example.Example at 0x7fc1794e9cd0>,\n",
              " <torchtext.legacy.data.example.Example at 0x7fc1794e9d50>,\n",
              " <torchtext.legacy.data.example.Example at 0x7fc1794e9e50>,\n",
              " <torchtext.legacy.data.example.Example at 0x7fc1794e9b90>,\n",
              " <torchtext.legacy.data.example.Example at 0x7fc1794e9f90>,\n",
              " <torchtext.legacy.data.example.Example at 0x7fc179486150>,\n",
              " <torchtext.legacy.data.example.Example at 0x7fc1794861d0>,\n",
              " <torchtext.legacy.data.example.Example at 0x7fc179486190>,\n",
              " <torchtext.legacy.data.example.Example at 0x7fc179486250>,\n",
              " <torchtext.legacy.data.example.Example at 0x7fc179486390>,\n",
              " <torchtext.legacy.data.example.Example at 0x7fc179486410>,\n",
              " <torchtext.legacy.data.example.Example at 0x7fc179486350>,\n",
              " <torchtext.legacy.data.example.Example at 0x7fc179486510>,\n",
              " <torchtext.legacy.data.example.Example at 0x7fc179486490>,\n",
              " <torchtext.legacy.data.example.Example at 0x7fc179486590>,\n",
              " <torchtext.legacy.data.example.Example at 0x7fc179486690>,\n",
              " <torchtext.legacy.data.example.Example at 0x7fc179486610>,\n",
              " <torchtext.legacy.data.example.Example at 0x7fc179486710>,\n",
              " <torchtext.legacy.data.example.Example at 0x7fc20119df50>,\n",
              " <torchtext.legacy.data.example.Example at 0x7fc20119d190>,\n",
              " <torchtext.legacy.data.example.Example at 0x7fc20119da10>,\n",
              " <torchtext.legacy.data.example.Example at 0x7fc20119dd90>,\n",
              " <torchtext.legacy.data.example.Example at 0x7fc20119d910>,\n",
              " <torchtext.legacy.data.example.Example at 0x7fc20119d250>,\n",
              " <torchtext.legacy.data.example.Example at 0x7fc20119ded0>,\n",
              " <torchtext.legacy.data.example.Example at 0x7fc179593b10>,\n",
              " <torchtext.legacy.data.example.Example at 0x7fc179593f90>,\n",
              " <torchtext.legacy.data.example.Example at 0x7fc179593c50>,\n",
              " <torchtext.legacy.data.example.Example at 0x7fc179593e10>,\n",
              " <torchtext.legacy.data.example.Example at 0x7fc2f46b7c90>,\n",
              " <torchtext.legacy.data.example.Example at 0x7fc17c3d0090>,\n",
              " <torchtext.legacy.data.example.Example at 0x7fc17c3cbb50>,\n",
              " <torchtext.legacy.data.example.Example at 0x7fc179579350>,\n",
              " <torchtext.legacy.data.example.Example at 0x7fc179579f90>,\n",
              " <torchtext.legacy.data.example.Example at 0x7fc179579390>,\n",
              " <torchtext.legacy.data.example.Example at 0x7fc179579450>,\n",
              " <torchtext.legacy.data.example.Example at 0x7fc17d84d9d0>,\n",
              " <torchtext.legacy.data.example.Example at 0x7fc179579f50>,\n",
              " <torchtext.legacy.data.example.Example at 0x7fc179579490>,\n",
              " <torchtext.legacy.data.example.Example at 0x7fc179579fd0>,\n",
              " <torchtext.legacy.data.example.Example at 0x7fc179486850>,\n",
              " <torchtext.legacy.data.example.Example at 0x7fc179486810>,\n",
              " <torchtext.legacy.data.example.Example at 0x7fc179486990>,\n",
              " <torchtext.legacy.data.example.Example at 0x7fc179486a10>,\n",
              " <torchtext.legacy.data.example.Example at 0x7fc179486b10>,\n",
              " <torchtext.legacy.data.example.Example at 0x7fc179486c10>,\n",
              " <torchtext.legacy.data.example.Example at 0x7fc1794868d0>,\n",
              " <torchtext.legacy.data.example.Example at 0x7fc179486d10>,\n",
              " <torchtext.legacy.data.example.Example at 0x7fc179437290>,\n",
              " <torchtext.legacy.data.example.Example at 0x7fc179437310>,\n",
              " <torchtext.legacy.data.example.Example at 0x7fc1794373d0>,\n",
              " <torchtext.legacy.data.example.Example at 0x7fc179437490>,\n",
              " <torchtext.legacy.data.example.Example at 0x7fc179437510>,\n",
              " <torchtext.legacy.data.example.Example at 0x7fc179437590>,\n",
              " <torchtext.legacy.data.example.Example at 0x7fc179437890>,\n",
              " <torchtext.legacy.data.example.Example at 0x7fc179437950>,\n",
              " <torchtext.legacy.data.example.Example at 0x7fc1794379d0>,\n",
              " <torchtext.legacy.data.example.Example at 0x7fc179437e10>,\n",
              " <torchtext.legacy.data.example.Example at 0x7fc179437a50>,\n",
              " <torchtext.legacy.data.example.Example at 0x7fc179437e90>,\n",
              " <torchtext.legacy.data.example.Example at 0x7fc179437f10>,\n",
              " <torchtext.legacy.data.example.Example at 0x7fc179441050>,\n",
              " <torchtext.legacy.data.example.Example at 0x7fc1794410d0>,\n",
              " <torchtext.legacy.data.example.Example at 0x7fc179441090>,\n",
              " <torchtext.legacy.data.example.Example at 0x7fc1794411d0>,\n",
              " <torchtext.legacy.data.example.Example at 0x7fc179441310>,\n",
              " <torchtext.legacy.data.example.Example at 0x7fc1794413d0>,\n",
              " <torchtext.legacy.data.example.Example at 0x7fc179441450>,\n",
              " <torchtext.legacy.data.example.Example at 0x7fc179441510>,\n",
              " <torchtext.legacy.data.example.Example at 0x7fc179441790>,\n",
              " <torchtext.legacy.data.example.Example at 0x7fc179441390>,\n",
              " <torchtext.legacy.data.example.Example at 0x7fc1794418d0>,\n",
              " <torchtext.legacy.data.example.Example at 0x7fc179441c50>,\n",
              " <torchtext.legacy.data.example.Example at 0x7fc179441890>,\n",
              " <torchtext.legacy.data.example.Example at 0x7fc179441cd0>,\n",
              " <torchtext.legacy.data.example.Example at 0x7fc179441e10>,\n",
              " <torchtext.legacy.data.example.Example at 0x7fc179441f10>,\n",
              " <torchtext.legacy.data.example.Example at 0x7fc179441f90>,\n",
              " <torchtext.legacy.data.example.Example at 0x7fc179441e90>,\n",
              " <torchtext.legacy.data.example.Example at 0x7fc179457090>,\n",
              " <torchtext.legacy.data.example.Example at 0x7fc179457110>,\n",
              " <torchtext.legacy.data.example.Example at 0x7fc179457190>,\n",
              " <torchtext.legacy.data.example.Example at 0x7fc179457210>,\n",
              " <torchtext.legacy.data.example.Example at 0x7fc179457350>,\n",
              " <torchtext.legacy.data.example.Example at 0x7fc179457410>,\n",
              " <torchtext.legacy.data.example.Example at 0x7fc1794574d0>,\n",
              " <torchtext.legacy.data.example.Example at 0x7fc179457550>,\n",
              " <torchtext.legacy.data.example.Example at 0x7fc179457590>,\n",
              " <torchtext.legacy.data.example.Example at 0x7fc179457790>,\n",
              " <torchtext.legacy.data.example.Example at 0x7fc179457690>,\n",
              " <torchtext.legacy.data.example.Example at 0x7fc179457890>,\n",
              " <torchtext.legacy.data.example.Example at 0x7fc179457810>,\n",
              " <torchtext.legacy.data.example.Example at 0x7fc1794579d0>,\n",
              " <torchtext.legacy.data.example.Example at 0x7fc179457910>,\n",
              " <torchtext.legacy.data.example.Example at 0x7fc179457b50>,\n",
              " <torchtext.legacy.data.example.Example at 0x7fc179457a50>,\n",
              " <torchtext.legacy.data.example.Example at 0x7fc179457c50>,\n",
              " <torchtext.legacy.data.example.Example at 0x7fc179457d10>,\n",
              " <torchtext.legacy.data.example.Example at 0x7fc179457bd0>,\n",
              " <torchtext.legacy.data.example.Example at 0x7fc179457e10>,\n",
              " <torchtext.legacy.data.example.Example at 0x7fc179457d90>,\n",
              " <torchtext.legacy.data.example.Example at 0x7fc179457e90>,\n",
              " <torchtext.legacy.data.example.Example at 0x7fc179457f90>,\n",
              " <torchtext.legacy.data.example.Example at 0x7fc179457f10>,\n",
              " <torchtext.legacy.data.example.Example at 0x7fc1793f6050>,\n",
              " <torchtext.legacy.data.example.Example at 0x7fc1793f60d0>,\n",
              " <torchtext.legacy.data.example.Example at 0x7fc1793f61d0>,\n",
              " <torchtext.legacy.data.example.Example at 0x7fc1793f6150>,\n",
              " <torchtext.legacy.data.example.Example at 0x7fc1793f62d0>,\n",
              " <torchtext.legacy.data.example.Example at 0x7fc1793f6350>,\n",
              " <torchtext.legacy.data.example.Example at 0x7fc1793f6250>,\n",
              " <torchtext.legacy.data.example.Example at 0x7fc1793f6490>,\n",
              " <torchtext.legacy.data.example.Example at 0x7fc1793f6450>,\n",
              " <torchtext.legacy.data.example.Example at 0x7fc1793f65d0>,\n",
              " <torchtext.legacy.data.example.Example at 0x7fc1793f6690>,\n",
              " <torchtext.legacy.data.example.Example at 0x7fc1793f6710>,\n",
              " <torchtext.legacy.data.example.Example at 0x7fc1793f6790>,\n",
              " <torchtext.legacy.data.example.Example at 0x7fc1793f6850>,\n",
              " <torchtext.legacy.data.example.Example at 0x7fc1793f68d0>,\n",
              " <torchtext.legacy.data.example.Example at 0x7fc1793f6a10>,\n",
              " <torchtext.legacy.data.example.Example at 0x7fc1793f6810>,\n",
              " <torchtext.legacy.data.example.Example at 0x7fc1793f6a90>,\n",
              " <torchtext.legacy.data.example.Example at 0x7fc1793f6b90>,\n",
              " <torchtext.legacy.data.example.Example at 0x7fc1793f6c90>,\n",
              " <torchtext.legacy.data.example.Example at 0x7fc1793f6dd0>,\n",
              " <torchtext.legacy.data.example.Example at 0x7fc1793f6d10>,\n",
              " <torchtext.legacy.data.example.Example at 0x7fc1793f6f10>,\n",
              " <torchtext.legacy.data.example.Example at 0x7fc1793f6f90>,\n",
              " <torchtext.legacy.data.example.Example at 0x7fc1793f6e50>,\n",
              " <torchtext.legacy.data.example.Example at 0x7fc179417050>,\n",
              " <torchtext.legacy.data.example.Example at 0x7fc1794170d0>,\n",
              " <torchtext.legacy.data.example.Example at 0x7fc179417210>,\n",
              " <torchtext.legacy.data.example.Example at 0x7fc179417310>,\n",
              " <torchtext.legacy.data.example.Example at 0x7fc1794172d0>,\n",
              " <torchtext.legacy.data.example.Example at 0x7fc179417390>,\n",
              " <torchtext.legacy.data.example.Example at 0x7fc1794174d0>,\n",
              " <torchtext.legacy.data.example.Example at 0x7fc179417510>,\n",
              " <torchtext.legacy.data.example.Example at 0x7fc179417590>,\n",
              " <torchtext.legacy.data.example.Example at 0x7fc179417410>,\n",
              " <torchtext.legacy.data.example.Example at 0x7fc179417690>,\n",
              " <torchtext.legacy.data.example.Example at 0x7fc179417610>,\n",
              " <torchtext.legacy.data.example.Example at 0x7fc179417710>,\n",
              " <torchtext.legacy.data.example.Example at 0x7fc179417850>,\n",
              " <torchtext.legacy.data.example.Example at 0x7fc1794178d0>,\n",
              " <torchtext.legacy.data.example.Example at 0x7fc179417950>,\n",
              " <torchtext.legacy.data.example.Example at 0x7fc179417810>,\n",
              " <torchtext.legacy.data.example.Example at 0x7fc1794179d0>,\n",
              " <torchtext.legacy.data.example.Example at 0x7fc179417a90>,\n",
              " <torchtext.legacy.data.example.Example at 0x7fc179417b10>,\n",
              " <torchtext.legacy.data.example.Example at 0x7fc179417c10>,\n",
              " <torchtext.legacy.data.example.Example at 0x7fc179417cd0>,\n",
              " <torchtext.legacy.data.example.Example at 0x7fc179417d90>,\n",
              " <torchtext.legacy.data.example.Example at 0x7fc179417e50>,\n",
              " <torchtext.legacy.data.example.Example at 0x7fc179417f10>,\n",
              " <torchtext.legacy.data.example.Example at 0x7fc179417f90>,\n",
              " <torchtext.legacy.data.example.Example at 0x7fc1793ae0d0>,\n",
              " <torchtext.legacy.data.example.Example at 0x7fc1793ae150>,\n",
              " <torchtext.legacy.data.example.Example at 0x7fc1793ae1d0>,\n",
              " <torchtext.legacy.data.example.Example at 0x7fc1793ae250>,\n",
              " <torchtext.legacy.data.example.Example at 0x7fc1793ae410>,\n",
              " <torchtext.legacy.data.example.Example at 0x7fc1793ae4d0>,\n",
              " <torchtext.legacy.data.example.Example at 0x7fc1793ae2d0>,\n",
              " <torchtext.legacy.data.example.Example at 0x7fc1793ae550>,\n",
              " <torchtext.legacy.data.example.Example at 0x7fc1793ae610>,\n",
              " <torchtext.legacy.data.example.Example at 0x7fc1793ae750>,\n",
              " <torchtext.legacy.data.example.Example at 0x7fc1793ae710>,\n",
              " <torchtext.legacy.data.example.Example at 0x7fc1793ae890>,\n",
              " <torchtext.legacy.data.example.Example at 0x7fc1793ae990>,\n",
              " <torchtext.legacy.data.example.Example at 0x7fc1793aea10>,\n",
              " <torchtext.legacy.data.example.Example at 0x7fc1793aea90>,\n",
              " <torchtext.legacy.data.example.Example at 0x7fc1793aeb10>,\n",
              " <torchtext.legacy.data.example.Example at 0x7fc1793aeb90>,\n",
              " <torchtext.legacy.data.example.Example at 0x7fc1793aec50>,\n",
              " <torchtext.legacy.data.example.Example at 0x7fc1793aec10>,\n",
              " <torchtext.legacy.data.example.Example at 0x7fc1793aecd0>,\n",
              " <torchtext.legacy.data.example.Example at 0x7fc1793aee10>,\n",
              " <torchtext.legacy.data.example.Example at 0x7fc1793aed50>,\n",
              " <torchtext.legacy.data.example.Example at 0x7fc1793aee90>,\n",
              " <torchtext.legacy.data.example.Example at 0x7fc1793aefd0>,\n",
              " <torchtext.legacy.data.example.Example at 0x7fc1793c33d0>,\n",
              " <torchtext.legacy.data.example.Example at 0x7fc1793c3450>,\n",
              " <torchtext.legacy.data.example.Example at 0x7fc1793c3090>,\n",
              " <torchtext.legacy.data.example.Example at 0x7fc1793c34d0>,\n",
              " <torchtext.legacy.data.example.Example at 0x7fc1793c35d0>,\n",
              " <torchtext.legacy.data.example.Example at 0x7fc1793c3690>,\n",
              " <torchtext.legacy.data.example.Example at 0x7fc1793c37d0>,\n",
              " <torchtext.legacy.data.example.Example at 0x7fc1793c3850>,\n",
              " <torchtext.legacy.data.example.Example at 0x7fc1793c38d0>,\n",
              " <torchtext.legacy.data.example.Example at 0x7fc1793c3750>,\n",
              " <torchtext.legacy.data.example.Example at 0x7fc1793c39d0>,\n",
              " <torchtext.legacy.data.example.Example at 0x7fc1793c3cd0>,\n",
              " <torchtext.legacy.data.example.Example at 0x7fc1793c3a90>,\n",
              " <torchtext.legacy.data.example.Example at 0x7fc1793c3dd0>,\n",
              " <torchtext.legacy.data.example.Example at 0x7fc1793c3d50>,\n",
              " <torchtext.legacy.data.example.Example at 0x7fc1793c3ed0>,\n",
              " <torchtext.legacy.data.example.Example at 0x7fc1793c3f50>,\n",
              " <torchtext.legacy.data.example.Example at 0x7fc1793c3fd0>,\n",
              " <torchtext.legacy.data.example.Example at 0x7fc1793e2050>,\n",
              " <torchtext.legacy.data.example.Example at 0x7fc1793e2110>,\n",
              " <torchtext.legacy.data.example.Example at 0x7fc1793e21d0>,\n",
              " <torchtext.legacy.data.example.Example at 0x7fc1793e2290>,\n",
              " <torchtext.legacy.data.example.Example at 0x7fc1793e2090>,\n",
              " <torchtext.legacy.data.example.Example at 0x7fc1793e2310>,\n",
              " <torchtext.legacy.data.example.Example at 0x7fc1793e2410>,\n",
              " <torchtext.legacy.data.example.Example at 0x7fc1793e2490>,\n",
              " <torchtext.legacy.data.example.Example at 0x7fc1793e2390>,\n",
              " <torchtext.legacy.data.example.Example at 0x7fc1793e25d0>,\n",
              " <torchtext.legacy.data.example.Example at 0x7fc1793e2510>,\n",
              " <torchtext.legacy.data.example.Example at 0x7fc1793e2650>,\n",
              " <torchtext.legacy.data.example.Example at 0x7fc1793e26d0>,\n",
              " <torchtext.legacy.data.example.Example at 0x7fc1793e27d0>,\n",
              " <torchtext.legacy.data.example.Example at 0x7fc1793e2850>,\n",
              " <torchtext.legacy.data.example.Example at 0x7fc1793e2750>,\n",
              " <torchtext.legacy.data.example.Example at 0x7fc1793e2990>,\n",
              " <torchtext.legacy.data.example.Example at 0x7fc1793e2950>,\n",
              " <torchtext.legacy.data.example.Example at 0x7fc1793e2b90>,\n",
              " <torchtext.legacy.data.example.Example at 0x7fc1793e2a10>,\n",
              " <torchtext.legacy.data.example.Example at 0x7fc1793e2c90>,\n",
              " <torchtext.legacy.data.example.Example at 0x7fc1793e2d10>,\n",
              " <torchtext.legacy.data.example.Example at 0x7fc1793e2d90>,\n",
              " <torchtext.legacy.data.example.Example at 0x7fc1793e2e50>,\n",
              " <torchtext.legacy.data.example.Example at 0x7fc1793e2f10>,\n",
              " <torchtext.legacy.data.example.Example at 0x7fc1793e2ed0>,\n",
              " <torchtext.legacy.data.example.Example at 0x7fc179381050>,\n",
              " <torchtext.legacy.data.example.Example at 0x7fc179381090>,\n",
              " <torchtext.legacy.data.example.Example at 0x7fc179381190>,\n",
              " <torchtext.legacy.data.example.Example at 0x7fc1793810d0>,\n",
              " <torchtext.legacy.data.example.Example at 0x7fc179381210>,\n",
              " <torchtext.legacy.data.example.Example at 0x7fc1793813d0>,\n",
              " <torchtext.legacy.data.example.Example at 0x7fc179381450>,\n",
              " <torchtext.legacy.data.example.Example at 0x7fc179381310>,\n",
              " <torchtext.legacy.data.example.Example at 0x7fc179381590>,\n",
              " <torchtext.legacy.data.example.Example at 0x7fc179381610>,\n",
              " <torchtext.legacy.data.example.Example at 0x7fc179381510>,\n",
              " <torchtext.legacy.data.example.Example at 0x7fc179381690>,\n",
              " <torchtext.legacy.data.example.Example at 0x7fc179381710>,\n",
              " <torchtext.legacy.data.example.Example at 0x7fc179381790>,\n",
              " <torchtext.legacy.data.example.Example at 0x7fc179381910>,\n",
              " <torchtext.legacy.data.example.Example at 0x7fc179381810>,\n",
              " <torchtext.legacy.data.example.Example at 0x7fc179381a50>,\n",
              " <torchtext.legacy.data.example.Example at 0x7fc179381ad0>,\n",
              " <torchtext.legacy.data.example.Example at 0x7fc179381b90>,\n",
              " <torchtext.legacy.data.example.Example at 0x7fc179381c50>,\n",
              " <torchtext.legacy.data.example.Example at 0x7fc179381cd0>,\n",
              " <torchtext.legacy.data.example.Example at 0x7fc179381c10>,\n",
              " <torchtext.legacy.data.example.Example at 0x7fc179381dd0>,\n",
              " <torchtext.legacy.data.example.Example at 0x7fc179381d50>,\n",
              " <torchtext.legacy.data.example.Example at 0x7fc179381f10>,\n",
              " <torchtext.legacy.data.example.Example at 0x7fc179381f90>,\n",
              " <torchtext.legacy.data.example.Example at 0x7fc179381ed0>,\n",
              " <torchtext.legacy.data.example.Example at 0x7fc17939d050>,\n",
              " <torchtext.legacy.data.example.Example at 0x7fc17939d210>,\n",
              " <torchtext.legacy.data.example.Example at 0x7fc17939d310>,\n",
              " <torchtext.legacy.data.example.Example at 0x7fc17939d3d0>,\n",
              " <torchtext.legacy.data.example.Example at 0x7fc17939d490>,\n",
              " <torchtext.legacy.data.example.Example at 0x7fc17939d510>,\n",
              " <torchtext.legacy.data.example.Example at 0x7fc17939d590>,\n",
              " <torchtext.legacy.data.example.Example at 0x7fc17939d6d0>,\n",
              " <torchtext.legacy.data.example.Example at 0x7fc17939d290>,\n",
              " <torchtext.legacy.data.example.Example at 0x7fc17939d810>,\n",
              " <torchtext.legacy.data.example.Example at 0x7fc17939d8d0>,\n",
              " <torchtext.legacy.data.example.Example at 0x7fc17939d950>,\n",
              " <torchtext.legacy.data.example.Example at 0x7fc17939d890>,\n",
              " <torchtext.legacy.data.example.Example at 0x7fc17939da50>,\n",
              " <torchtext.legacy.data.example.Example at 0x7fc17939db50>,\n",
              " <torchtext.legacy.data.example.Example at 0x7fc17939dbd0>,\n",
              " <torchtext.legacy.data.example.Example at 0x7fc17939dc90>,\n",
              " <torchtext.legacy.data.example.Example at 0x7fc17939de10>,\n",
              " <torchtext.legacy.data.example.Example at 0x7fc17939dd50>,\n",
              " <torchtext.legacy.data.example.Example at 0x7fc17939de90>,\n",
              " <torchtext.legacy.data.example.Example at 0x7fc179331050>,\n",
              " <torchtext.legacy.data.example.Example at 0x7fc179331110>,\n",
              " <torchtext.legacy.data.example.Example at 0x7fc179331190>,\n",
              " <torchtext.legacy.data.example.Example at 0x7fc179331250>,\n",
              " <torchtext.legacy.data.example.Example at 0x7fc179331310>,\n",
              " <torchtext.legacy.data.example.Example at 0x7fc179331210>,\n",
              " <torchtext.legacy.data.example.Example at 0x7fc179331390>,\n",
              " <torchtext.legacy.data.example.Example at 0x7fc1793314d0>,\n",
              " <torchtext.legacy.data.example.Example at 0x7fc179331550>,\n",
              " <torchtext.legacy.data.example.Example at 0x7fc179331490>,\n",
              " <torchtext.legacy.data.example.Example at 0x7fc179331650>,\n",
              " <torchtext.legacy.data.example.Example at 0x7fc179331710>,\n",
              " <torchtext.legacy.data.example.Example at 0x7fc179331790>,\n",
              " <torchtext.legacy.data.example.Example at 0x7fc179331810>,\n",
              " <torchtext.legacy.data.example.Example at 0x7fc17934d1d0>,\n",
              " <torchtext.legacy.data.example.Example at 0x7fc17934d250>,\n",
              " <torchtext.legacy.data.example.Example at 0x7fc17934d2d0>,\n",
              " <torchtext.legacy.data.example.Example at 0x7fc17934d210>,\n",
              " <torchtext.legacy.data.example.Example at 0x7fc17934d410>,\n",
              " <torchtext.legacy.data.example.Example at 0x7fc17934d350>,\n",
              " <torchtext.legacy.data.example.Example at 0x7fc17934d550>,\n",
              " <torchtext.legacy.data.example.Example at 0x7fc17934d510>,\n",
              " <torchtext.legacy.data.example.Example at 0x7fc17934d7d0>,\n",
              " <torchtext.legacy.data.example.Example at 0x7fc17934d8d0>,\n",
              " <torchtext.legacy.data.example.Example at 0x7fc17934d950>,\n",
              " <torchtext.legacy.data.example.Example at 0x7fc17934d690>,\n",
              " <torchtext.legacy.data.example.Example at 0x7fc17934d9d0>,\n",
              " <torchtext.legacy.data.example.Example at 0x7fc17934dad0>,\n",
              " <torchtext.legacy.data.example.Example at 0x7fc17934db50>,\n",
              " <torchtext.legacy.data.example.Example at 0x7fc17934da50>,\n",
              " <torchtext.legacy.data.example.Example at 0x7fc17934dcd0>,\n",
              " <torchtext.legacy.data.example.Example at 0x7fc17934dc10>,\n",
              " <torchtext.legacy.data.example.Example at 0x7fc17934dd50>,\n",
              " <torchtext.legacy.data.example.Example at 0x7fc17934de50>,\n",
              " <torchtext.legacy.data.example.Example at 0x7fc17934df50>,\n",
              " <torchtext.legacy.data.example.Example at 0x7fc17934df90>,\n",
              " <torchtext.legacy.data.example.Example at 0x7fc17934ddd0>,\n",
              " <torchtext.legacy.data.example.Example at 0x7fc17935a110>,\n",
              " <torchtext.legacy.data.example.Example at 0x7fc17935a0d0>,\n",
              " <torchtext.legacy.data.example.Example at 0x7fc17935a250>,\n",
              " <torchtext.legacy.data.example.Example at 0x7fc17935a2d0>,\n",
              " <torchtext.legacy.data.example.Example at 0x7fc17935a410>,\n",
              " <torchtext.legacy.data.example.Example at 0x7fc17935a210>,\n",
              " <torchtext.legacy.data.example.Example at 0x7fc17935a590>,\n",
              " <torchtext.legacy.data.example.Example at 0x7fc17935a610>,\n",
              " <torchtext.legacy.data.example.Example at 0x7fc17935a490>,\n",
              " <torchtext.legacy.data.example.Example at 0x7fc17935a710>,\n",
              " <torchtext.legacy.data.example.Example at 0x7fc17935a890>,\n",
              " <torchtext.legacy.data.example.Example at 0x7fc17935a910>,\n",
              " <torchtext.legacy.data.example.Example at 0x7fc17935a9d0>,\n",
              " <torchtext.legacy.data.example.Example at 0x7fc17935aa90>,\n",
              " <torchtext.legacy.data.example.Example at 0x7fc17935ab50>,\n",
              " <torchtext.legacy.data.example.Example at 0x7fc17935ac10>,\n",
              " <torchtext.legacy.data.example.Example at 0x7fc17935ac90>,\n",
              " <torchtext.legacy.data.example.Example at 0x7fc17935abd0>,\n",
              " <torchtext.legacy.data.example.Example at 0x7fc17935ad90>,\n",
              " <torchtext.legacy.data.example.Example at 0x7fc17935ad10>,\n",
              " <torchtext.legacy.data.example.Example at 0x7fc17935aed0>,\n",
              " <torchtext.legacy.data.example.Example at 0x7fc17935ae10>,\n",
              " <torchtext.legacy.data.example.Example at 0x7fc17935afd0>,\n",
              " <torchtext.legacy.data.example.Example at 0x7fc1792ef050>,\n",
              " <torchtext.legacy.data.example.Example at 0x7fc1792ef150>,\n",
              " <torchtext.legacy.data.example.Example at 0x7fc1792ef1d0>,\n",
              " <torchtext.legacy.data.example.Example at 0x7fc1792ef310>,\n",
              " <torchtext.legacy.data.example.Example at 0x7fc1792ef290>,\n",
              " <torchtext.legacy.data.example.Example at 0x7fc1792ef450>,\n",
              " <torchtext.legacy.data.example.Example at 0x7fc1792ef4d0>,\n",
              " <torchtext.legacy.data.example.Example at 0x7fc1792ef550>,\n",
              " <torchtext.legacy.data.example.Example at 0x7fc1792ef410>,\n",
              " <torchtext.legacy.data.example.Example at 0x7fc1792ef5d0>,\n",
              " <torchtext.legacy.data.example.Example at 0x7fc1792ef690>,\n",
              " <torchtext.legacy.data.example.Example at 0x7fc1792ef7d0>,\n",
              " <torchtext.legacy.data.example.Example at 0x7fc1792ef910>,\n",
              " <torchtext.legacy.data.example.Example at 0x7fc1792ef990>,\n",
              " <torchtext.legacy.data.example.Example at 0x7fc1792ef750>,\n",
              " <torchtext.legacy.data.example.Example at 0x7fc1792efa10>,\n",
              " <torchtext.legacy.data.example.Example at 0x7fc1792efa90>,\n",
              " <torchtext.legacy.data.example.Example at 0x7fc1792efbd0>,\n",
              " <torchtext.legacy.data.example.Example at 0x7fc1792efc90>,\n",
              " <torchtext.legacy.data.example.Example at 0x7fc1792efd10>,\n",
              " <torchtext.legacy.data.example.Example at 0x7fc1792efd90>,\n",
              " <torchtext.legacy.data.example.Example at 0x7fc1792efe90>,\n",
              " <torchtext.legacy.data.example.Example at 0x7fc1792efe10>,\n",
              " <torchtext.legacy.data.example.Example at 0x7fc179306050>,\n",
              " <torchtext.legacy.data.example.Example at 0x7fc179306150>,\n",
              " <torchtext.legacy.data.example.Example at 0x7fc179306210>,\n",
              " <torchtext.legacy.data.example.Example at 0x7fc1793061d0>,\n",
              " <torchtext.legacy.data.example.Example at 0x7fc179306390>,\n",
              " <torchtext.legacy.data.example.Example at 0x7fc1793064d0>,\n",
              " <torchtext.legacy.data.example.Example at 0x7fc179306450>,\n",
              " <torchtext.legacy.data.example.Example at 0x7fc1793066d0>,\n",
              " <torchtext.legacy.data.example.Example at 0x7fc179306790>,\n",
              " <torchtext.legacy.data.example.Example at 0x7fc179306810>,\n",
              " <torchtext.legacy.data.example.Example at 0x7fc179306750>,\n",
              " <torchtext.legacy.data.example.Example at 0x7fc179306910>,\n",
              " <torchtext.legacy.data.example.Example at 0x7fc1793069d0>,\n",
              " <torchtext.legacy.data.example.Example at 0x7fc179306a50>,\n",
              " <torchtext.legacy.data.example.Example at 0x7fc179306ad0>,\n",
              " <torchtext.legacy.data.example.Example at 0x7fc179306890>,\n",
              " <torchtext.legacy.data.example.Example at 0x7fc179306c10>,\n",
              " <torchtext.legacy.data.example.Example at 0x7fc179306bd0>,\n",
              " <torchtext.legacy.data.example.Example at 0x7fc179306d10>,\n",
              " <torchtext.legacy.data.example.Example at 0x7fc179306d90>,\n",
              " <torchtext.legacy.data.example.Example at 0x7fc179306e10>,\n",
              " <torchtext.legacy.data.example.Example at 0x7fc179306f10>,\n",
              " <torchtext.legacy.data.example.Example at 0x7fc179306fd0>,\n",
              " <torchtext.legacy.data.example.Example at 0x7fc179318050>,\n",
              " <torchtext.legacy.data.example.Example at 0x7fc179318110>,\n",
              " <torchtext.legacy.data.example.Example at 0x7fc179318190>,\n",
              " <torchtext.legacy.data.example.Example at 0x7fc179318090>,\n",
              " <torchtext.legacy.data.example.Example at 0x7fc179318210>,\n",
              " <torchtext.legacy.data.example.Example at 0x7fc179318310>,\n",
              " <torchtext.legacy.data.example.Example at 0x7fc1793183d0>,\n",
              " <torchtext.legacy.data.example.Example at 0x7fc179318390>,\n",
              " <torchtext.legacy.data.example.Example at 0x7fc179318510>,\n",
              " <torchtext.legacy.data.example.Example at 0x7fc179318590>,\n",
              " <torchtext.legacy.data.example.Example at 0x7fc1793184d0>,\n",
              " <torchtext.legacy.data.example.Example at 0x7fc1793186d0>,\n",
              " <torchtext.legacy.data.example.Example at 0x7fc179318790>,\n",
              " <torchtext.legacy.data.example.Example at 0x7fc179318810>,\n",
              " <torchtext.legacy.data.example.Example at 0x7fc179318910>,\n",
              " <torchtext.legacy.data.example.Example at 0x7fc179318990>,\n",
              " <torchtext.legacy.data.example.Example at 0x7fc179318890>,\n",
              " <torchtext.legacy.data.example.Example at 0x7fc179318a10>,\n",
              " <torchtext.legacy.data.example.Example at 0x7fc179318b90>,\n",
              " <torchtext.legacy.data.example.Example at 0x7fc179318c10>,\n",
              " <torchtext.legacy.data.example.Example at 0x7fc179318c90>,\n",
              " <torchtext.legacy.data.example.Example at 0x7fc179318b50>,\n",
              " <torchtext.legacy.data.example.Example at 0x7fc179318d10>,\n",
              " <torchtext.legacy.data.example.Example at 0x7fc179318d90>,\n",
              " <torchtext.legacy.data.example.Example at 0x7fc179318e10>,\n",
              " <torchtext.legacy.data.example.Example at 0x7fc179318f50>,\n",
              " <torchtext.legacy.data.example.Example at 0x7fc1792ae190>,\n",
              " <torchtext.legacy.data.example.Example at 0x7fc1792ae250>,\n",
              " <torchtext.legacy.data.example.Example at 0x7fc1792ae2d0>,\n",
              " <torchtext.legacy.data.example.Example at 0x7fc1792ae350>,\n",
              " <torchtext.legacy.data.example.Example at 0x7fc1792ae210>,\n",
              " <torchtext.legacy.data.example.Example at 0x7fc1792ae490>,\n",
              " <torchtext.legacy.data.example.Example at 0x7fc1792ae5d0>,\n",
              " <torchtext.legacy.data.example.Example at 0x7fc1792ae3d0>,\n",
              " <torchtext.legacy.data.example.Example at 0x7fc1792ae650>,\n",
              " <torchtext.legacy.data.example.Example at 0x7fc1792ae790>,\n",
              " <torchtext.legacy.data.example.Example at 0x7fc1792ae850>,\n",
              " <torchtext.legacy.data.example.Example at 0x7fc1792ae8d0>,\n",
              " <torchtext.legacy.data.example.Example at 0x7fc1792ae810>,\n",
              " <torchtext.legacy.data.example.Example at 0x7fc1792aea50>,\n",
              " <torchtext.legacy.data.example.Example at 0x7fc1792aeb10>,\n",
              " <torchtext.legacy.data.example.Example at 0x7fc1792aeb90>,\n",
              " <torchtext.legacy.data.example.Example at 0x7fc1792aec10>,\n",
              " <torchtext.legacy.data.example.Example at 0x7fc1792aed50>,\n",
              " <torchtext.legacy.data.example.Example at 0x7fc1792aedd0>,\n",
              " <torchtext.legacy.data.example.Example at 0x7fc1792aea10>,\n",
              " <torchtext.legacy.data.example.Example at 0x7fc1792aef10>,\n",
              " <torchtext.legacy.data.example.Example at 0x7fc1792aeed0>,\n",
              " <torchtext.legacy.data.example.Example at 0x7fc1792aef90>,\n",
              " <torchtext.legacy.data.example.Example at 0x7fc1792cd110>,\n",
              " <torchtext.legacy.data.example.Example at 0x7fc1792cd050>,\n",
              " <torchtext.legacy.data.example.Example at 0x7fc1792cd190>,\n",
              " <torchtext.legacy.data.example.Example at 0x7fc1792cd310>,\n",
              " <torchtext.legacy.data.example.Example at 0x7fc1792cd450>,\n",
              " <torchtext.legacy.data.example.Example at 0x7fc1792cd3d0>,\n",
              " <torchtext.legacy.data.example.Example at 0x7fc1792cd4d0>,\n",
              " <torchtext.legacy.data.example.Example at 0x7fc1792cd5d0>,\n",
              " <torchtext.legacy.data.example.Example at 0x7fc1792cd890>,\n",
              " <torchtext.legacy.data.example.Example at 0x7fc1792cd950>,\n",
              " <torchtext.legacy.data.example.Example at 0x7fc1792cda10>,\n",
              " <torchtext.legacy.data.example.Example at 0x7fc1792cda90>,\n",
              " <torchtext.legacy.data.example.Example at 0x7fc1792cdb50>,\n",
              " <torchtext.legacy.data.example.Example at 0x7fc1792cdc10>,\n",
              " <torchtext.legacy.data.example.Example at 0x7fc1792cdc90>,\n",
              " <torchtext.legacy.data.example.Example at 0x7fc1792cd9d0>,\n",
              " <torchtext.legacy.data.example.Example at 0x7fc1792cdd10>,\n",
              " <torchtext.legacy.data.example.Example at 0x7fc1792cdd90>,\n",
              " <torchtext.legacy.data.example.Example at 0x7fc1792cde10>,\n",
              " <torchtext.legacy.data.example.Example at 0x7fc1792cde90>,\n",
              " <torchtext.legacy.data.example.Example at 0x7fc1792cdf90>,\n",
              " <torchtext.legacy.data.example.Example at 0x7fc1792e9090>,\n",
              " <torchtext.legacy.data.example.Example at 0x7fc1792e9110>,\n",
              " <torchtext.legacy.data.example.Example at 0x7fc1792e9190>,\n",
              " <torchtext.legacy.data.example.Example at 0x7fc1792e9210>,\n",
              " <torchtext.legacy.data.example.Example at 0x7fc1792e9850>,\n",
              " <torchtext.legacy.data.example.Example at 0x7fc1792e92d0>,\n",
              " <torchtext.legacy.data.example.Example at 0x7fc1792e9990>,\n",
              " <torchtext.legacy.data.example.Example at 0x7fc1792e9950>,\n",
              " <torchtext.legacy.data.example.Example at 0x7fc1792e9b10>,\n",
              " <torchtext.legacy.data.example.Example at 0x7fc1792e9a50>,\n",
              " <torchtext.legacy.data.example.Example at 0x7fc1792e9c10>,\n",
              " <torchtext.legacy.data.example.Example at 0x7fc1792e9b90>,\n",
              " <torchtext.legacy.data.example.Example at 0x7fc1792e9d50>,\n",
              " <torchtext.legacy.data.example.Example at 0x7fc1792e9dd0>,\n",
              " <torchtext.legacy.data.example.Example at 0x7fc1792e9c90>,\n",
              " <torchtext.legacy.data.example.Example at 0x7fc1792e9ed0>,\n",
              " <torchtext.legacy.data.example.Example at 0x7fc1792e9e50>,\n",
              " <torchtext.legacy.data.example.Example at 0x7fc17928b090>,\n",
              " <torchtext.legacy.data.example.Example at 0x7fc17928b190>,\n",
              " <torchtext.legacy.data.example.Example at 0x7fc17928b110>,\n",
              " <torchtext.legacy.data.example.Example at 0x7fc17928b210>,\n",
              " <torchtext.legacy.data.example.Example at 0x7fc17928b350>,\n",
              " <torchtext.legacy.data.example.Example at 0x7fc17928b290>,\n",
              " <torchtext.legacy.data.example.Example at 0x7fc17928b490>,\n",
              " <torchtext.legacy.data.example.Example at 0x7fc17928b450>,\n",
              " <torchtext.legacy.data.example.Example at 0x7fc17928b610>,\n",
              " <torchtext.legacy.data.example.Example at 0x7fc17928b510>,\n",
              " <torchtext.legacy.data.example.Example at 0x7fc17928b690>,\n",
              " <torchtext.legacy.data.example.Example at 0x7fc17928b710>,\n",
              " <torchtext.legacy.data.example.Example at 0x7fc17928b810>,\n",
              " <torchtext.legacy.data.example.Example at 0x7fc17928b890>,\n",
              " <torchtext.legacy.data.example.Example at 0x7fc17928b910>,\n",
              " <torchtext.legacy.data.example.Example at 0x7fc17928b790>,\n",
              " <torchtext.legacy.data.example.Example at 0x7fc17928ba50>,\n",
              " <torchtext.legacy.data.example.Example at 0x7fc17928ba10>,\n",
              " <torchtext.legacy.data.example.Example at 0x7fc17928bbd0>,\n",
              " <torchtext.legacy.data.example.Example at 0x7fc17928bcd0>,\n",
              " <torchtext.legacy.data.example.Example at 0x7fc17928bc90>,\n",
              " <torchtext.legacy.data.example.Example at 0x7fc17928be50>,\n",
              " <torchtext.legacy.data.example.Example at 0x7fc17928be90>,\n",
              " <torchtext.legacy.data.example.Example at 0x7fc17928bf10>,\n",
              " <torchtext.legacy.data.example.Example at 0x7fc17928bf90>,\n",
              " <torchtext.legacy.data.example.Example at 0x7fc1792a1050>,\n",
              " <torchtext.legacy.data.example.Example at 0x7fc1792a1090>,\n",
              " <torchtext.legacy.data.example.Example at 0x7fc1792a1190>,\n",
              " <torchtext.legacy.data.example.Example at 0x7fc1792a10d0>,\n",
              " <torchtext.legacy.data.example.Example at 0x7fc1792a1210>,\n",
              " <torchtext.legacy.data.example.Example at 0x7fc1792a1350>,\n",
              " <torchtext.legacy.data.example.Example at 0x7fc1792a1450>,\n",
              " <torchtext.legacy.data.example.Example at 0x7fc1792a1510>,\n",
              " <torchtext.legacy.data.example.Example at 0x7fc1792a14d0>,\n",
              " <torchtext.legacy.data.example.Example at 0x7fc1792a1650>,\n",
              " <torchtext.legacy.data.example.Example at 0x7fc1792a1610>,\n",
              " <torchtext.legacy.data.example.Example at 0x7fc1792a1790>,\n",
              " <torchtext.legacy.data.example.Example at 0x7fc1792a1850>,\n",
              " <torchtext.legacy.data.example.Example at 0x7fc1792a18d0>,\n",
              " <torchtext.legacy.data.example.Example at 0x7fc1792a1950>,\n",
              " <torchtext.legacy.data.example.Example at 0x7fc1792a1750>,\n",
              " <torchtext.legacy.data.example.Example at 0x7fc1792a1a90>,\n",
              " <torchtext.legacy.data.example.Example at 0x7fc1792a1a50>,\n",
              " <torchtext.legacy.data.example.Example at 0x7fc1792a1b90>,\n",
              " <torchtext.legacy.data.example.Example at 0x7fc1792a1b10>,\n",
              " <torchtext.legacy.data.example.Example at 0x7fc1792a1c10>,\n",
              " <torchtext.legacy.data.example.Example at 0x7fc1792a1d90>,\n",
              " <torchtext.legacy.data.example.Example at 0x7fc1792a1e10>,\n",
              " <torchtext.legacy.data.example.Example at 0x7fc1792a1ed0>,\n",
              " <torchtext.legacy.data.example.Example at 0x7fc1792a1d50>,\n",
              " <torchtext.legacy.data.example.Example at 0x7fc1792a1f50>,\n",
              " <torchtext.legacy.data.example.Example at 0x7fc179237050>,\n",
              " <torchtext.legacy.data.example.Example at 0x7fc179237090>,\n",
              " <torchtext.legacy.data.example.Example at 0x7fc179237110>,\n",
              " <torchtext.legacy.data.example.Example at 0x7fc179237290>,\n",
              " <torchtext.legacy.data.example.Example at 0x7fc179237350>,\n",
              " <torchtext.legacy.data.example.Example at 0x7fc1792373d0>,\n",
              " <torchtext.legacy.data.example.Example at 0x7fc179237550>,\n",
              " <torchtext.legacy.data.example.Example at 0x7fc179237610>,\n",
              " <torchtext.legacy.data.example.Example at 0x7fc179237390>,\n",
              " <torchtext.legacy.data.example.Example at 0x7fc179237750>,\n",
              " <torchtext.legacy.data.example.Example at 0x7fc179237690>,\n",
              " <torchtext.legacy.data.example.Example at 0x7fc179237850>,\n",
              " <torchtext.legacy.data.example.Example at 0x7fc179237910>,\n",
              " <torchtext.legacy.data.example.Example at 0x7fc179237990>,\n",
              " <torchtext.legacy.data.example.Example at 0x7fc179237a10>,\n",
              " <torchtext.legacy.data.example.Example at 0x7fc179237ad0>,\n",
              " <torchtext.legacy.data.example.Example at 0x7fc179237b90>,\n",
              " <torchtext.legacy.data.example.Example at 0x7fc179237950>,\n",
              " <torchtext.legacy.data.example.Example at 0x7fc179237c90>,\n",
              " <torchtext.legacy.data.example.Example at 0x7fc179237d50>,\n",
              " <torchtext.legacy.data.example.Example at 0x7fc179237dd0>,\n",
              " <torchtext.legacy.data.example.Example at 0x7fc179237e90>,\n",
              " <torchtext.legacy.data.example.Example at 0x7fc179237d10>,\n",
              " <torchtext.legacy.data.example.Example at 0x7fc179237f10>,\n",
              " <torchtext.legacy.data.example.Example at 0x7fc17924b050>,\n",
              " <torchtext.legacy.data.example.Example at 0x7fc17924b090>,\n",
              " <torchtext.legacy.data.example.Example at 0x7fc17924b150>,\n",
              " <torchtext.legacy.data.example.Example at 0x7fc17924b210>,\n",
              " <torchtext.legacy.data.example.Example at 0x7fc17924b290>,\n",
              " <torchtext.legacy.data.example.Example at 0x7fc17924b350>,\n",
              " <torchtext.legacy.data.example.Example at 0x7fc17924b410>,\n",
              " <torchtext.legacy.data.example.Example at 0x7fc17924b0d0>,\n",
              " <torchtext.legacy.data.example.Example at 0x7fc17924b510>,\n",
              " <torchtext.legacy.data.example.Example at 0x7fc17924b490>,\n",
              " <torchtext.legacy.data.example.Example at 0x7fc17924b5d0>,\n",
              " <torchtext.legacy.data.example.Example at 0x7fc17924b6d0>,\n",
              " <torchtext.legacy.data.example.Example at 0x7fc17924b750>,\n",
              " <torchtext.legacy.data.example.Example at 0x7fc17924b650>,\n",
              " <torchtext.legacy.data.example.Example at 0x7fc17924b7d0>,\n",
              " <torchtext.legacy.data.example.Example at 0x7fc17924b8d0>,\n",
              " <torchtext.legacy.data.example.Example at 0x7fc17924b850>,\n",
              " <torchtext.legacy.data.example.Example at 0x7fc17924b950>,\n",
              " <torchtext.legacy.data.example.Example at 0x7fc17924bad0>,\n",
              " <torchtext.legacy.data.example.Example at 0x7fc17924bb50>,\n",
              " <torchtext.legacy.data.example.Example at 0x7fc17924bbd0>,\n",
              " <torchtext.legacy.data.example.Example at 0x7fc17924b9d0>,\n",
              " <torchtext.legacy.data.example.Example at 0x7fc17924bc50>,\n",
              " <torchtext.legacy.data.example.Example at 0x7fc17924bcd0>,\n",
              " <torchtext.legacy.data.example.Example at 0x7fc17924bd50>,\n",
              " <torchtext.legacy.data.example.Example at 0x7fc17924be50>,\n",
              " <torchtext.legacy.data.example.Example at 0x7fc17924bf10>,\n",
              " <torchtext.legacy.data.example.Example at 0x7fc17924bed0>,\n",
              " <torchtext.legacy.data.example.Example at 0x7fc1792630d0>,\n",
              " <torchtext.legacy.data.example.Example at 0x7fc179263150>,\n",
              " <torchtext.legacy.data.example.Example at 0x7fc179263050>,\n",
              " <torchtext.legacy.data.example.Example at 0x7fc179263290>,\n",
              " <torchtext.legacy.data.example.Example at 0x7fc179263310>,\n",
              " <torchtext.legacy.data.example.Example at 0x7fc1792633d0>,\n",
              " <torchtext.legacy.data.example.Example at 0x7fc1792631d0>,\n",
              " <torchtext.legacy.data.example.Example at 0x7fc179263710>,\n",
              " <torchtext.legacy.data.example.Example at 0x7fc179263510>,\n",
              " <torchtext.legacy.data.example.Example at 0x7fc179263b10>,\n",
              " <torchtext.legacy.data.example.Example at 0x7fc1792639d0>,\n",
              " <torchtext.legacy.data.example.Example at 0x7fc179263b90>,\n",
              " <torchtext.legacy.data.example.Example at 0x7fc179263bd0>,\n",
              " <torchtext.legacy.data.example.Example at 0x7fc179263b50>,\n",
              " <torchtext.legacy.data.example.Example at 0x7fc179263c50>,\n",
              " <torchtext.legacy.data.example.Example at 0x7fc179263cd0>,\n",
              " <torchtext.legacy.data.example.Example at 0x7fc179263d50>,\n",
              " <torchtext.legacy.data.example.Example at 0x7fc179263ed0>,\n",
              " <torchtext.legacy.data.example.Example at 0x7fc179263e50>,\n",
              " <torchtext.legacy.data.example.Example at 0x7fc1791f8090>,\n",
              " <torchtext.legacy.data.example.Example at 0x7fc1791f80d0>,\n",
              " <torchtext.legacy.data.example.Example at 0x7fc1791f8110>,\n",
              " <torchtext.legacy.data.example.Example at 0x7fc1791f8210>,\n",
              " <torchtext.legacy.data.example.Example at 0x7fc1791f8190>,\n",
              " <torchtext.legacy.data.example.Example at 0x7fc1791f8290>,\n",
              " <torchtext.legacy.data.example.Example at 0x7fc1791f83d0>,\n",
              " <torchtext.legacy.data.example.Example at 0x7fc1791f8390>,\n",
              " <torchtext.legacy.data.example.Example at 0x7fc1791f8510>,\n",
              " <torchtext.legacy.data.example.Example at 0x7fc1791f8590>,\n",
              " <torchtext.legacy.data.example.Example at 0x7fc1791f8450>,\n",
              " <torchtext.legacy.data.example.Example at 0x7fc1791f86d0>,\n",
              " <torchtext.legacy.data.example.Example at 0x7fc1791f8910>,\n",
              " <torchtext.legacy.data.example.Example at 0x7fc1791f8850>,\n",
              " <torchtext.legacy.data.example.Example at 0x7fc1791f8a90>,\n",
              " <torchtext.legacy.data.example.Example at 0x7fc1791f8a10>,\n",
              " <torchtext.legacy.data.example.Example at 0x7fc1791f8b10>,\n",
              " <torchtext.legacy.data.example.Example at 0x7fc1791f8950>,\n",
              " <torchtext.legacy.data.example.Example at 0x7fc1791f8cd0>,\n",
              " <torchtext.legacy.data.example.Example at 0x7fc1791f8c90>,\n",
              " <torchtext.legacy.data.example.Example at 0x7fc1791f8e90>,\n",
              " <torchtext.legacy.data.example.Example at 0x7fc1791f8f10>,\n",
              " <torchtext.legacy.data.example.Example at 0x7fc1791f8e50>,\n",
              " <torchtext.legacy.data.example.Example at 0x7fc1791f8f90>,\n",
              " <torchtext.legacy.data.example.Example at 0x7fc1791f8310>,\n",
              " <torchtext.legacy.data.example.Example at 0x7fc17920f0d0>,\n",
              " <torchtext.legacy.data.example.Example at 0x7fc17920f050>,\n",
              " <torchtext.legacy.data.example.Example at 0x7fc17920f1d0>,\n",
              " <torchtext.legacy.data.example.Example at 0x7fc17920f150>,\n",
              " <torchtext.legacy.data.example.Example at 0x7fc17920f490>,\n",
              " <torchtext.legacy.data.example.Example at 0x7fc17920f510>,\n",
              " <torchtext.legacy.data.example.Example at 0x7fc17920f310>,\n",
              " <torchtext.legacy.data.example.Example at 0x7fc17920f6d0>,\n",
              " <torchtext.legacy.data.example.Example at 0x7fc17920f650>,\n",
              " <torchtext.legacy.data.example.Example at 0x7fc17920f750>,\n",
              " <torchtext.legacy.data.example.Example at 0x7fc17920f7d0>,\n",
              " <torchtext.legacy.data.example.Example at 0x7fc17920f8d0>,\n",
              " <torchtext.legacy.data.example.Example at 0x7fc17920f950>,\n",
              " <torchtext.legacy.data.example.Example at 0x7fc17920fa10>,\n",
              " <torchtext.legacy.data.example.Example at 0x7fc17920fad0>,\n",
              " <torchtext.legacy.data.example.Example at 0x7fc17920fa90>,\n",
              " <torchtext.legacy.data.example.Example at 0x7fc17920fb50>,\n",
              " <torchtext.legacy.data.example.Example at 0x7fc17920fc10>,\n",
              " <torchtext.legacy.data.example.Example at 0x7fc17920fd10>,\n",
              " <torchtext.legacy.data.example.Example at 0x7fc17920fd90>,\n",
              " <torchtext.legacy.data.example.Example at 0x7fc17920fe50>,\n",
              " <torchtext.legacy.data.example.Example at 0x7fc17920fed0>,\n",
              " <torchtext.legacy.data.example.Example at 0x7fc17920ff50>,\n",
              " <torchtext.legacy.data.example.Example at 0x7fc179227050>,\n",
              " <torchtext.legacy.data.example.Example at 0x7fc179227110>,\n",
              " <torchtext.legacy.data.example.Example at 0x7fc179227090>,\n",
              " <torchtext.legacy.data.example.Example at 0x7fc179227190>,\n",
              " <torchtext.legacy.data.example.Example at 0x7fc179227290>,\n",
              " <torchtext.legacy.data.example.Example at 0x7fc179227310>,\n",
              " <torchtext.legacy.data.example.Example at 0x7fc1792273d0>,\n",
              " <torchtext.legacy.data.example.Example at 0x7fc179227450>,\n",
              " <torchtext.legacy.data.example.Example at 0x7fc179227550>,\n",
              " <torchtext.legacy.data.example.Example at 0x7fc1792276d0>,\n",
              " <torchtext.legacy.data.example.Example at 0x7fc179227650>,\n",
              " <torchtext.legacy.data.example.Example at 0x7fc179227750>,\n",
              " <torchtext.legacy.data.example.Example at 0x7fc179227950>,\n",
              " <torchtext.legacy.data.example.Example at 0x7fc1792277d0>,\n",
              " <torchtext.legacy.data.example.Example at 0x7fc179227a90>,\n",
              " <torchtext.legacy.data.example.Example at 0x7fc179227b50>,\n",
              " <torchtext.legacy.data.example.Example at 0x7fc179227bd0>,\n",
              " <torchtext.legacy.data.example.Example at 0x7fc179227c90>,\n",
              " <torchtext.legacy.data.example.Example at 0x7fc179227d50>,\n",
              " <torchtext.legacy.data.example.Example at 0x7fc179227e50>,\n",
              " <torchtext.legacy.data.example.Example at 0x7fc179227f10>,\n",
              " <torchtext.legacy.data.example.Example at 0x7fc179227e10>,\n",
              " <torchtext.legacy.data.example.Example at 0x7fc1791ba0d0>,\n",
              " <torchtext.legacy.data.example.Example at 0x7fc1791ba190>,\n",
              " <torchtext.legacy.data.example.Example at 0x7fc1791ba150>,\n",
              " <torchtext.legacy.data.example.Example at 0x7fc1791ba290>,\n",
              " <torchtext.legacy.data.example.Example at 0x7fc1791ba450>,\n",
              " <torchtext.legacy.data.example.Example at 0x7fc1791ba4d0>,\n",
              " <torchtext.legacy.data.example.Example at 0x7fc1791ba550>,\n",
              " <torchtext.legacy.data.example.Example at 0x7fc1791ba390>,\n",
              " <torchtext.legacy.data.example.Example at 0x7fc1791ba690>,\n",
              " <torchtext.legacy.data.example.Example at 0x7fc1791ba790>,\n",
              " <torchtext.legacy.data.example.Example at 0x7fc1791ba650>,\n",
              " <torchtext.legacy.data.example.Example at 0x7fc1791ba810>,\n",
              " <torchtext.legacy.data.example.Example at 0x7fc1791ba910>,\n",
              " <torchtext.legacy.data.example.Example at 0x7fc1791ba890>,\n",
              " <torchtext.legacy.data.example.Example at 0x7fc1791baa10>,\n",
              " <torchtext.legacy.data.example.Example at 0x7fc1791ba990>,\n",
              " <torchtext.legacy.data.example.Example at 0x7fc1791baa90>,\n",
              " <torchtext.legacy.data.example.Example at 0x7fc1791bab90>,\n",
              " <torchtext.legacy.data.example.Example at 0x7fc1791bab10>,\n",
              " <torchtext.legacy.data.example.Example at 0x7fc1791bad50>,\n",
              " <torchtext.legacy.data.example.Example at 0x7fc1791bac90>,\n",
              " <torchtext.legacy.data.example.Example at 0x7fc1791bae90>,\n",
              " <torchtext.legacy.data.example.Example at 0x7fc1791baf50>,\n",
              " <torchtext.legacy.data.example.Example at 0x7fc1791baf10>,\n",
              " <torchtext.legacy.data.example.Example at 0x7fc1791d60d0>,\n",
              " <torchtext.legacy.data.example.Example at 0x7fc1791d6050>,\n",
              " <torchtext.legacy.data.example.Example at 0x7fc1791d6150>,\n",
              " <torchtext.legacy.data.example.Example at 0x7fc1791d61d0>,\n",
              " <torchtext.legacy.data.example.Example at 0x7fc1791d62d0>,\n",
              " <torchtext.legacy.data.example.Example at 0x7fc1791d6390>,\n",
              " <torchtext.legacy.data.example.Example at 0x7fc1791d6450>,\n",
              " <torchtext.legacy.data.example.Example at 0x7fc1791d64d0>,\n",
              " <torchtext.legacy.data.example.Example at 0x7fc1791d6410>,\n",
              " <torchtext.legacy.data.example.Example at 0x7fc1791d65d0>,\n",
              " <torchtext.legacy.data.example.Example at 0x7fc1791d6650>,\n",
              " <torchtext.legacy.data.example.Example at 0x7fc1791d66d0>,\n",
              " <torchtext.legacy.data.example.Example at 0x7fc1791d6750>,\n",
              " <torchtext.legacy.data.example.Example at 0x7fc1791d6850>,\n",
              " <torchtext.legacy.data.example.Example at 0x7fc1791d67d0>,\n",
              " <torchtext.legacy.data.example.Example at 0x7fc1791d6990>,\n",
              " <torchtext.legacy.data.example.Example at 0x7fc1791d6a50>,\n",
              " <torchtext.legacy.data.example.Example at 0x7fc1791d6950>,\n",
              " <torchtext.legacy.data.example.Example at 0x7fc1791d6b50>,\n",
              " <torchtext.legacy.data.example.Example at 0x7fc1791d6ad0>,\n",
              " <torchtext.legacy.data.example.Example at 0x7fc1791d6bd0>,\n",
              " <torchtext.legacy.data.example.Example at 0x7fc1791d6cd0>,\n",
              " <torchtext.legacy.data.example.Example at 0x7fc1791d6d90>,\n",
              " <torchtext.legacy.data.example.Example at 0x7fc1791d6f90>,\n",
              " <torchtext.legacy.data.example.Example at 0x7fc1791d6d50>,\n",
              " <torchtext.legacy.data.example.Example at 0x7fc17916d050>,\n",
              " <torchtext.legacy.data.example.Example at 0x7fc17916d1d0>,\n",
              " <torchtext.legacy.data.example.Example at 0x7fc17916d0d0>,\n",
              " <torchtext.legacy.data.example.Example at 0x7fc17916d250>,\n",
              " <torchtext.legacy.data.example.Example at 0x7fc17916d3d0>,\n",
              " <torchtext.legacy.data.example.Example at 0x7fc17916d450>,\n",
              " <torchtext.legacy.data.example.Example at 0x7fc17916d4d0>,\n",
              " <torchtext.legacy.data.example.Example at 0x7fc17916d590>,\n",
              " <torchtext.legacy.data.example.Example at 0x7fc17916d350>,\n",
              " <torchtext.legacy.data.example.Example at 0x7fc17916d690>,\n",
              " <torchtext.legacy.data.example.Example at 0x7fc17916d750>,\n",
              " <torchtext.legacy.data.example.Example at 0x7fc17916d610>,\n",
              " <torchtext.legacy.data.example.Example at 0x7fc17916d890>,\n",
              " <torchtext.legacy.data.example.Example at 0x7fc17916d910>,\n",
              " <torchtext.legacy.data.example.Example at 0x7fc17916d9d0>,\n",
              " <torchtext.legacy.data.example.Example at 0x7fc17916da10>,\n",
              " <torchtext.legacy.data.example.Example at 0x7fc17916da50>,\n",
              " <torchtext.legacy.data.example.Example at 0x7fc17916db90>,\n",
              " <torchtext.legacy.data.example.Example at 0x7fc17916dc10>,\n",
              " <torchtext.legacy.data.example.Example at 0x7fc179263810>,\n",
              " <torchtext.legacy.data.example.Example at 0x7fc179263790>,\n",
              " <torchtext.legacy.data.example.Example at 0x7fc179263910>,\n",
              " <torchtext.legacy.data.example.Example at 0x7fc179263890>,\n",
              " <torchtext.legacy.data.example.Example at 0x7fc179263a10>,\n",
              " <torchtext.legacy.data.example.Example at 0x7fc17916dd50>,\n",
              " <torchtext.legacy.data.example.Example at 0x7fc17916dc90>,\n",
              " <torchtext.legacy.data.example.Example at 0x7fc17916df10>,\n",
              " <torchtext.legacy.data.example.Example at 0x7fc17918d250>,\n",
              " <torchtext.legacy.data.example.Example at 0x7fc17918d290>,\n",
              " <torchtext.legacy.data.example.Example at 0x7fc17918d350>,\n",
              " <torchtext.legacy.data.example.Example at 0x7fc17918d2d0>,\n",
              " <torchtext.legacy.data.example.Example at 0x7fc17918d3d0>,\n",
              " <torchtext.legacy.data.example.Example at 0x7fc17918d410>,\n",
              " <torchtext.legacy.data.example.Example at 0x7fc17918d610>,\n",
              " <torchtext.legacy.data.example.Example at 0x7fc17918d690>,\n",
              " <torchtext.legacy.data.example.Example at 0x7fc17918d790>,\n",
              " <torchtext.legacy.data.example.Example at 0x7fc17918d810>,\n",
              " <torchtext.legacy.data.example.Example at 0x7fc17918d510>,\n",
              " <torchtext.legacy.data.example.Example at 0x7fc17918d990>,\n",
              " <torchtext.legacy.data.example.Example at 0x7fc17918da50>,\n",
              " <torchtext.legacy.data.example.Example at 0x7fc17918d910>,\n",
              " <torchtext.legacy.data.example.Example at 0x7fc17918db90>,\n",
              " <torchtext.legacy.data.example.Example at 0x7fc17918dc50>,\n",
              " <torchtext.legacy.data.example.Example at 0x7fc17918dc10>,\n",
              " <torchtext.legacy.data.example.Example at 0x7fc17918dcd0>,\n",
              " <torchtext.legacy.data.example.Example at 0x7fc17918ddd0>,\n",
              " <torchtext.legacy.data.example.Example at 0x7fc17918de50>,\n",
              " <torchtext.legacy.data.example.Example at 0x7fc17918dd10>,\n",
              " <torchtext.legacy.data.example.Example at 0x7fc17918dfd0>,\n",
              " <torchtext.legacy.data.example.Example at 0x7fc17919c050>,\n",
              " <torchtext.legacy.data.example.Example at 0x7fc17919c090>,\n",
              " <torchtext.legacy.data.example.Example at 0x7fc17919c190>,\n",
              " <torchtext.legacy.data.example.Example at 0x7fc17dfabed0>,\n",
              " <torchtext.legacy.data.example.Example at 0x7fc17919c110>,\n",
              " <torchtext.legacy.data.example.Example at 0x7fc17919c210>,\n",
              " <torchtext.legacy.data.example.Example at 0x7fc17919c310>,\n",
              " <torchtext.legacy.data.example.Example at 0x7fc17919c3d0>,\n",
              " <torchtext.legacy.data.example.Example at 0x7fc17919c550>,\n",
              " <torchtext.legacy.data.example.Example at 0x7fc17919c4d0>,\n",
              " <torchtext.legacy.data.example.Example at 0x7fc17919c5d0>,\n",
              " <torchtext.legacy.data.example.Example at 0x7fc17919c650>,\n",
              " <torchtext.legacy.data.example.Example at 0x7fc1791f8790>,\n",
              " <torchtext.legacy.data.example.Example at 0x7fc17919c750>,\n",
              " <torchtext.legacy.data.example.Example at 0x7fc17919c810>,\n",
              " <torchtext.legacy.data.example.Example at 0x7fc17919c8d0>,\n",
              " <torchtext.legacy.data.example.Example at 0x7fc17919c950>,\n",
              " <torchtext.legacy.data.example.Example at 0x7fc17919c990>,\n",
              " <torchtext.legacy.data.example.Example at 0x7fc17919cb10>,\n",
              " <torchtext.legacy.data.example.Example at 0x7fc17919ca10>,\n",
              " <torchtext.legacy.data.example.Example at 0x7fc17919cc50>,\n",
              " <torchtext.legacy.data.example.Example at 0x7fc17919cd10>,\n",
              " <torchtext.legacy.data.example.Example at 0x7fc17919cdd0>,\n",
              " <torchtext.legacy.data.example.Example at 0x7fc17919ce10>,\n",
              " <torchtext.legacy.data.example.Example at 0x7fc17919ced0>,\n",
              " <torchtext.legacy.data.example.Example at 0x7fc17919ce50>,\n",
              " <torchtext.legacy.data.example.Example at 0x7fc17919cfd0>,\n",
              " <torchtext.legacy.data.example.Example at 0x7fc179133090>,\n",
              " <torchtext.legacy.data.example.Example at 0x7fc179133150>,\n",
              " <torchtext.legacy.data.example.Example at 0x7fc179133210>,\n",
              " <torchtext.legacy.data.example.Example at 0x7fc1791331d0>,\n",
              " <torchtext.legacy.data.example.Example at 0x7fc179133310>,\n",
              " <torchtext.legacy.data.example.Example at 0x7fc179133390>,\n",
              " <torchtext.legacy.data.example.Example at 0x7fc179133410>,\n",
              " <torchtext.legacy.data.example.Example at 0x7fc1791334d0>,\n",
              " <torchtext.legacy.data.example.Example at 0x7fc179133290>,\n",
              " <torchtext.legacy.data.example.Example at 0x7fc179133550>,\n",
              " <torchtext.legacy.data.example.Example at 0x7fc179133650>,\n",
              " <torchtext.legacy.data.example.Example at 0x7fc1791336d0>,\n",
              " <torchtext.legacy.data.example.Example at 0x7fc1791335d0>,\n",
              " <torchtext.legacy.data.example.Example at 0x7fc1791337d0>,\n",
              " <torchtext.legacy.data.example.Example at 0x7fc179133950>,\n",
              " <torchtext.legacy.data.example.Example at 0x7fc179133750>,\n",
              " <torchtext.legacy.data.example.Example at 0x7fc179133a90>,\n",
              " <torchtext.legacy.data.example.Example at 0x7fc179133b50>,\n",
              " <torchtext.legacy.data.example.Example at 0x7fc179133a50>,\n",
              " <torchtext.legacy.data.example.Example at 0x7fc179133c90>,\n",
              " <torchtext.legacy.data.example.Example at 0x7fc179133c50>,\n",
              " <torchtext.legacy.data.example.Example at 0x7fc179133d90>,\n",
              " <torchtext.legacy.data.example.Example at 0x7fc179133e10>,\n",
              " <torchtext.legacy.data.example.Example at 0x7fc179133e90>,\n",
              " <torchtext.legacy.data.example.Example at 0x7fc179133f50>,\n",
              " <torchtext.legacy.data.example.Example at 0x7fc17914d050>,\n",
              " <torchtext.legacy.data.example.Example at 0x7fc17914d110>,\n",
              " <torchtext.legacy.data.example.Example at 0x7fc17914d450>,\n",
              " <torchtext.legacy.data.example.Example at 0x7fc17914d4d0>,\n",
              " <torchtext.legacy.data.example.Example at 0x7fc17914d550>,\n",
              " <torchtext.legacy.data.example.Example at 0x7fc17914d250>,\n",
              " <torchtext.legacy.data.example.Example at 0x7fc17914d690>,\n",
              " <torchtext.legacy.data.example.Example at 0x7fc17914d5d0>,\n",
              " <torchtext.legacy.data.example.Example at 0x7fc17914d790>,\n",
              " <torchtext.legacy.data.example.Example at 0x7fc17914d9d0>,\n",
              " <torchtext.legacy.data.example.Example at 0x7fc17914db50>,\n",
              " <torchtext.legacy.data.example.Example at 0x7fc17914dc10>,\n",
              " <torchtext.legacy.data.example.Example at 0x7fc17914dbd0>,\n",
              " <torchtext.legacy.data.example.Example at 0x7fc17914de10>,\n",
              " <torchtext.legacy.data.example.Example at 0x7fc17914dd90>,\n",
              " <torchtext.legacy.data.example.Example at 0x7fc17914df10>,\n",
              " <torchtext.legacy.data.example.Example at 0x7fc17914de90>,\n",
              " <torchtext.legacy.data.example.Example at 0x7fc17914df90>,\n",
              " <torchtext.legacy.data.example.Example at 0x7fc17914da50>,\n",
              " <torchtext.legacy.data.example.Example at 0x7fc179166290>,\n",
              " <torchtext.legacy.data.example.Example at 0x7fc179166310>,\n",
              " <torchtext.legacy.data.example.Example at 0x7fc1791663d0>,\n",
              " <torchtext.legacy.data.example.Example at 0x7fc179166390>,\n",
              " <torchtext.legacy.data.example.Example at 0x7fc179166510>,\n",
              " <torchtext.legacy.data.example.Example at 0x7fc1791664d0>,\n",
              " <torchtext.legacy.data.example.Example at 0x7fc179166590>,\n",
              " <torchtext.legacy.data.example.Example at 0x7fc179166610>,\n",
              " <torchtext.legacy.data.example.Example at 0x7fc179166690>,\n",
              " <torchtext.legacy.data.example.Example at 0x7fc179166710>,\n",
              " <torchtext.legacy.data.example.Example at 0x7fc179166810>,\n",
              " <torchtext.legacy.data.example.Example at 0x7fc179166890>,\n",
              " <torchtext.legacy.data.example.Example at 0x7fc179166950>,\n",
              " <torchtext.legacy.data.example.Example at 0x7fc179166a10>,\n",
              " <torchtext.legacy.data.example.Example at 0x7fc179166990>,\n",
              " <torchtext.legacy.data.example.Example at 0x7fc179166b10>,\n",
              " <torchtext.legacy.data.example.Example at 0x7fc179166a90>,\n",
              " <torchtext.legacy.data.example.Example at 0x7fc179166c50>,\n",
              " <torchtext.legacy.data.example.Example at 0x7fc179166cd0>,\n",
              " <torchtext.legacy.data.example.Example at 0x7fc179166c10>,\n",
              " <torchtext.legacy.data.example.Example at 0x7fc179166d50>,\n",
              " <torchtext.legacy.data.example.Example at 0x7fc179166dd0>,\n",
              " <torchtext.legacy.data.example.Example at 0x7fc179166e50>,\n",
              " <torchtext.legacy.data.example.Example at 0x7fc179166f50>,\n",
              " <torchtext.legacy.data.example.Example at 0x7fc179166fd0>,\n",
              " <torchtext.legacy.data.example.Example at 0x7fc1790fb090>,\n",
              " <torchtext.legacy.data.example.Example at 0x7fc1790fb050>,\n",
              " <torchtext.legacy.data.example.Example at 0x7fc1790fb190>,\n",
              " <torchtext.legacy.data.example.Example at 0x7fc1790fb250>,\n",
              " <torchtext.legacy.data.example.Example at 0x7fc1790fb2d0>,\n",
              " <torchtext.legacy.data.example.Example at 0x7fc1790fb350>,\n",
              " <torchtext.legacy.data.example.Example at 0x7fc1790fb3d0>,\n",
              " <torchtext.legacy.data.example.Example at 0x7fc1790fb110>,\n",
              " <torchtext.legacy.data.example.Example at 0x7fc1790fb4d0>,\n",
              " <torchtext.legacy.data.example.Example at 0x7fc1790fb550>,\n",
              " <torchtext.legacy.data.example.Example at 0x7fc1790fb650>,\n",
              " <torchtext.legacy.data.example.Example at 0x7fc1790fb790>,\n",
              " <torchtext.legacy.data.example.Example at 0x7fc1790fb810>,\n",
              " <torchtext.legacy.data.example.Example at 0x7fc1790fb5d0>,\n",
              " <torchtext.legacy.data.example.Example at 0x7fc1790fb9d0>,\n",
              " <torchtext.legacy.data.example.Example at 0x7fc1790fb910>,\n",
              " <torchtext.legacy.data.example.Example at 0x7fc1790fbb10>,\n",
              " <torchtext.legacy.data.example.Example at 0x7fc1790fbe50>,\n",
              " <torchtext.legacy.data.example.Example at 0x7fc1790fbed0>,\n",
              " <torchtext.legacy.data.example.Example at 0x7fc1790fba50>,\n",
              " <torchtext.legacy.data.example.Example at 0x7fc17910f050>,\n",
              " <torchtext.legacy.data.example.Example at 0x7fc17910f0d0>,\n",
              " <torchtext.legacy.data.example.Example at 0x7fc17910f210>,\n",
              " <torchtext.legacy.data.example.Example at 0x7fc17910f2d0>,\n",
              " <torchtext.legacy.data.example.Example at 0x7fc17910f350>,\n",
              " <torchtext.legacy.data.example.Example at 0x7fc17910f290>,\n",
              " ...]"
            ]
          },
          "execution_count": 189,
          "metadata": {},
          "output_type": "execute_result"
        }
      ],
      "source": [
        "test.examples"
      ]
    },
    {
      "cell_type": "code",
      "execution_count": 190,
      "metadata": {
        "id": "zFmT0RM2V_Jp"
      },
      "outputs": [],
      "source": [
        "model.eval()\n",
        "cnn_res = []\n",
        "with torch.no_grad():\n",
        "    for batch in test_iterator:\n",
        "        predictions = model(batch.comment.cuda())\n",
        "        cnn_res.append(predictions)\n",
        "        "
      ]
    },
    {
      "cell_type": "code",
      "execution_count": 190,
      "metadata": {
        "id": "73_8igp9WSKJ"
      },
      "outputs": [],
      "source": []
    },
    {
      "cell_type": "code",
      "execution_count": 191,
      "metadata": {
        "id": "nWqvfMAdiMQ7"
      },
      "outputs": [],
      "source": [
        "testout = pd.read_csv('test_data.csv.zip', compression='zip')"
      ]
    },
    {
      "cell_type": "code",
      "execution_count": 192,
      "metadata": {
        "colab": {
          "base_uri": "https://localhost:8080/",
          "height": 419
        },
        "id": "ErodJOysXi8h",
        "outputId": "047ba954-1ec7-42e0-9045-cc4705a5a0d5"
      },
      "outputs": [
        {
          "data": {
            "text/html": [
              "<div>\n",
              "<style scoped>\n",
              "    .dataframe tbody tr th:only-of-type {\n",
              "        vertical-align: middle;\n",
              "    }\n",
              "\n",
              "    .dataframe tbody tr th {\n",
              "        vertical-align: top;\n",
              "    }\n",
              "\n",
              "    .dataframe thead th {\n",
              "        text-align: right;\n",
              "    }\n",
              "</style>\n",
              "<table border=\"1\" class=\"dataframe\">\n",
              "  <thead>\n",
              "    <tr style=\"text-align: right;\">\n",
              "      <th></th>\n",
              "      <th>comment_id</th>\n",
              "      <th>toxic</th>\n",
              "    </tr>\n",
              "  </thead>\n",
              "  <tbody>\n",
              "    <tr>\n",
              "      <th>0</th>\n",
              "      <td>0</td>\n",
              "      <td>-6.444256</td>\n",
              "    </tr>\n",
              "    <tr>\n",
              "      <th>1</th>\n",
              "      <td>1</td>\n",
              "      <td>2.917760</td>\n",
              "    </tr>\n",
              "    <tr>\n",
              "      <th>2</th>\n",
              "      <td>2</td>\n",
              "      <td>0.926207</td>\n",
              "    </tr>\n",
              "    <tr>\n",
              "      <th>3</th>\n",
              "      <td>3</td>\n",
              "      <td>-4.977346</td>\n",
              "    </tr>\n",
              "    <tr>\n",
              "      <th>4</th>\n",
              "      <td>4</td>\n",
              "      <td>4.183296</td>\n",
              "    </tr>\n",
              "    <tr>\n",
              "      <th>...</th>\n",
              "      <td>...</td>\n",
              "      <td>...</td>\n",
              "    </tr>\n",
              "    <tr>\n",
              "      <th>3598</th>\n",
              "      <td>3598</td>\n",
              "      <td>-6.071583</td>\n",
              "    </tr>\n",
              "    <tr>\n",
              "      <th>3599</th>\n",
              "      <td>3599</td>\n",
              "      <td>-3.199416</td>\n",
              "    </tr>\n",
              "    <tr>\n",
              "      <th>3600</th>\n",
              "      <td>3600</td>\n",
              "      <td>-2.508766</td>\n",
              "    </tr>\n",
              "    <tr>\n",
              "      <th>3601</th>\n",
              "      <td>3601</td>\n",
              "      <td>-6.233222</td>\n",
              "    </tr>\n",
              "    <tr>\n",
              "      <th>3602</th>\n",
              "      <td>3602</td>\n",
              "      <td>2.658040</td>\n",
              "    </tr>\n",
              "  </tbody>\n",
              "</table>\n",
              "<p>3603 rows × 2 columns</p>\n",
              "</div>"
            ],
            "text/plain": [
              "      comment_id     toxic\n",
              "0              0 -6.444256\n",
              "1              1  2.917760\n",
              "2              2  0.926207\n",
              "3              3 -4.977346\n",
              "4              4  4.183296\n",
              "...          ...       ...\n",
              "3598        3598 -6.071583\n",
              "3599        3599 -3.199416\n",
              "3600        3600 -2.508766\n",
              "3601        3601 -6.233222\n",
              "3602        3602  2.658040\n",
              "\n",
              "[3603 rows x 2 columns]"
            ]
          },
          "execution_count": 192,
          "metadata": {},
          "output_type": "execute_result"
        }
      ],
      "source": [
        "cnnpred = testout.copy()\n",
        "cnnpred['toxic'] = [float(item) for sublist in cnn_res for item in sublist]\n",
        "cnnpred.drop('comment', axis=1, inplace=True)\n",
        "cnnpred"
      ]
    },
    {
      "cell_type": "code",
      "execution_count": 196,
      "metadata": {
        "colab": {
          "base_uri": "https://localhost:8080/",
          "height": 419
        },
        "id": "8roUcKR8iSzU",
        "outputId": "8a2ae88e-503e-429f-a759-251864191125"
      },
      "outputs": [
        {
          "data": {
            "text/html": [
              "<div>\n",
              "<style scoped>\n",
              "    .dataframe tbody tr th:only-of-type {\n",
              "        vertical-align: middle;\n",
              "    }\n",
              "\n",
              "    .dataframe tbody tr th {\n",
              "        vertical-align: top;\n",
              "    }\n",
              "\n",
              "    .dataframe thead th {\n",
              "        text-align: right;\n",
              "    }\n",
              "</style>\n",
              "<table border=\"1\" class=\"dataframe\">\n",
              "  <thead>\n",
              "    <tr style=\"text-align: right;\">\n",
              "      <th></th>\n",
              "      <th>comment_id</th>\n",
              "      <th>toxic</th>\n",
              "    </tr>\n",
              "  </thead>\n",
              "  <tbody>\n",
              "    <tr>\n",
              "      <th>0</th>\n",
              "      <td>0</td>\n",
              "      <td>0</td>\n",
              "    </tr>\n",
              "    <tr>\n",
              "      <th>1</th>\n",
              "      <td>1</td>\n",
              "      <td>1</td>\n",
              "    </tr>\n",
              "    <tr>\n",
              "      <th>2</th>\n",
              "      <td>2</td>\n",
              "      <td>1</td>\n",
              "    </tr>\n",
              "    <tr>\n",
              "      <th>3</th>\n",
              "      <td>3</td>\n",
              "      <td>0</td>\n",
              "    </tr>\n",
              "    <tr>\n",
              "      <th>4</th>\n",
              "      <td>4</td>\n",
              "      <td>1</td>\n",
              "    </tr>\n",
              "    <tr>\n",
              "      <th>...</th>\n",
              "      <td>...</td>\n",
              "      <td>...</td>\n",
              "    </tr>\n",
              "    <tr>\n",
              "      <th>3598</th>\n",
              "      <td>3598</td>\n",
              "      <td>0</td>\n",
              "    </tr>\n",
              "    <tr>\n",
              "      <th>3599</th>\n",
              "      <td>3599</td>\n",
              "      <td>0</td>\n",
              "    </tr>\n",
              "    <tr>\n",
              "      <th>3600</th>\n",
              "      <td>3600</td>\n",
              "      <td>0</td>\n",
              "    </tr>\n",
              "    <tr>\n",
              "      <th>3601</th>\n",
              "      <td>3601</td>\n",
              "      <td>0</td>\n",
              "    </tr>\n",
              "    <tr>\n",
              "      <th>3602</th>\n",
              "      <td>3602</td>\n",
              "      <td>1</td>\n",
              "    </tr>\n",
              "  </tbody>\n",
              "</table>\n",
              "<p>3603 rows × 2 columns</p>\n",
              "</div>"
            ],
            "text/plain": [
              "      comment_id  toxic\n",
              "0              0      0\n",
              "1              1      1\n",
              "2              2      1\n",
              "3              3      0\n",
              "4              4      1\n",
              "...          ...    ...\n",
              "3598        3598      0\n",
              "3599        3599      0\n",
              "3600        3600      0\n",
              "3601        3601      0\n",
              "3602        3602      1\n",
              "\n",
              "[3603 rows x 2 columns]"
            ]
          },
          "execution_count": 196,
          "metadata": {},
          "output_type": "execute_result"
        }
      ],
      "source": [
        "cnnpred['toxic'] = (cnnpred['toxic'] > 0).astype(int)\n",
        "cnnpred"
      ]
    },
    {
      "cell_type": "code",
      "execution_count": 197,
      "metadata": {
        "id": "EgLBXlbVjAYK"
      },
      "outputs": [],
      "source": [
        "cnnpred.to_csv('cnnpred_v4.csv', index=False)"
      ]
    },
    {
      "cell_type": "code",
      "execution_count": 198,
      "metadata": {
        "colab": {
          "base_uri": "https://localhost:8080/"
        },
        "id": "KuZRxJski12g",
        "outputId": "db005c39-a68f-4685-9001-1446fc2eef8f"
      },
      "outputs": [
        {
          "name": "stdout",
          "output_type": "stream",
          "text": [
            "Warning: Looks like you're using an outdated API Version, please consider updating (server 1.5.12 / client 1.5.4)\n",
            "100% 23.6k/23.6k [00:04<00:00, 4.90kB/s]\n",
            "Successfully submitted to Toxic comments classification"
          ]
        }
      ],
      "source": [
        "!kaggle competitions submit -c toxic-comments-classification-apdl-2021 -f cnnpred_v4.csv -m \"kirill_setdekov cnn v4 with threshold 0\""
      ]
    },
    {
      "cell_type": "code",
      "execution_count": null,
      "metadata": {
        "id": "XR3z5XPFjFoB"
      },
      "outputs": [],
      "source": []
    },
    {
      "cell_type": "markdown",
      "metadata": {
        "id": "d65b_Exogd72"
      },
      "source": [
        "# word2vec\n",
        "\n",
        "\n",
        "> not done, skip this model\n",
        "\n"
      ]
    },
    {
      "cell_type": "code",
      "execution_count": null,
      "metadata": {
        "id": "YZ4GG9oShSBc"
      },
      "outputs": [],
      "source": [
        "! wget https://nlp.stanford.edu/data/glove.6B.zip"
      ]
    },
    {
      "cell_type": "code",
      "execution_count": null,
      "metadata": {
        "id": "C4wqmSghgmUt"
      },
      "outputs": [],
      "source": [
        "with open(\"alice.txt\", 'r', encoding='utf-8') as f:\n",
        "    text = f.read()\n",
        "\n",
        "text = re.sub('\\n', ' ', text)\n",
        "sents = sent_tokenize(text)\n",
        "\n",
        "punct = '!\"#$%&()*+,-./:;<=>?@[\\]^_`{|}~„“«»†*—/\\-‘’'\n",
        "clean_sents = []\n",
        "\n",
        "for sent in sents:\n",
        "    s = [w.lower().strip(punct) for w in sent.split()]\n",
        "    clean_sents.append(s)\n",
        "    \n",
        "print(clean_sents[:2])"
      ]
    },
    {
      "cell_type": "code",
      "execution_count": null,
      "metadata": {
        "id": "pGLQocTmgiE5"
      },
      "outputs": [],
      "source": [
        "model_path = \"movie_reviews.model\"\n",
        "\n",
        "print(\"Saving model...\")\n",
        "model_en.save(model_path)"
      ]
    },
    {
      "cell_type": "code",
      "execution_count": null,
      "metadata": {
        "id": "v4eBoym7ggy_"
      },
      "outputs": [],
      "source": [
        "model = word2vec.Word2Vec.load(model_path)\n",
        "\n",
        "model.build_vocab(clean_sents, update=True)\n",
        "model.train(clean_sents, total_examples=model.corpus_count, epochs=5)"
      ]
    },
    {
      "cell_type": "markdown",
      "metadata": {
        "id": "yN3mwOUKxY0H"
      },
      "source": [
        "# bow on random forest\n",
        "\n",
        "![photo_2021-10-24_13-09-26.jpg](data:image/jpeg;base64,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)"
      ]
    },
    {
      "cell_type": "code",
      "execution_count": 26,
      "metadata": {
        "colab": {
          "base_uri": "https://localhost:8080/"
        },
        "id": "zPCER8ua6cGA",
        "outputId": "6fef4071-b273-4578-9362-246357879216"
      },
      "outputs": [
        {
          "name": "stdout",
          "output_type": "stream",
          "text": [
            "Requirement already satisfied: pymystem3 in /usr/local/lib/python3.7/dist-packages (0.2.0)\n",
            "Requirement already satisfied: requests in /usr/local/lib/python3.7/dist-packages (from pymystem3) (2.23.0)\n",
            "Requirement already satisfied: idna<3,>=2.5 in /usr/local/lib/python3.7/dist-packages (from requests->pymystem3) (2.10)\n",
            "Requirement already satisfied: chardet<4,>=3.0.2 in /usr/local/lib/python3.7/dist-packages (from requests->pymystem3) (3.0.4)\n",
            "Requirement already satisfied: certifi>=2017.4.17 in /usr/local/lib/python3.7/dist-packages (from requests->pymystem3) (2021.5.30)\n",
            "Requirement already satisfied: urllib3!=1.25.0,!=1.25.1,<1.26,>=1.21.1 in /usr/local/lib/python3.7/dist-packages (from requests->pymystem3) (1.24.3)\n"
          ]
        }
      ],
      "source": [
        "! pip install  pymystem3"
      ]
    },
    {
      "cell_type": "code",
      "execution_count": 27,
      "metadata": {
        "colab": {
          "base_uri": "https://localhost:8080/"
        },
        "id": "Q0-9Le6L8JsV",
        "outputId": "a28be8fd-f0d1-40c9-bebc-bb4ca303349a"
      },
      "outputs": [
        {
          "name": "stdout",
          "output_type": "stream",
          "text": [
            "Collecting pymorphy2\n",
            "  Using cached pymorphy2-0.9.1-py3-none-any.whl (55 kB)\n",
            "Collecting dawg-python>=0.7.1\n",
            "  Using cached DAWG_Python-0.7.2-py2.py3-none-any.whl (11 kB)\n",
            "Collecting docopt>=0.6\n",
            "  Using cached docopt-0.6.2-py2.py3-none-any.whl\n",
            "Collecting pymorphy2-dicts-ru<3.0,>=2.4\n",
            "  Using cached pymorphy2_dicts_ru-2.4.417127.4579844-py2.py3-none-any.whl (8.2 MB)\n",
            "Installing collected packages: pymorphy2-dicts-ru, docopt, dawg-python, pymorphy2\n",
            "  Attempting uninstall: pymorphy2-dicts-ru\n",
            "    Found existing installation: pymorphy2-dicts-ru 2.4.417127.4579844\n",
            "    Uninstalling pymorphy2-dicts-ru-2.4.417127.4579844:\n",
            "      Successfully uninstalled pymorphy2-dicts-ru-2.4.417127.4579844\n",
            "  Attempting uninstall: docopt\n",
            "    Found existing installation: docopt 0.6.2\n",
            "    Uninstalling docopt-0.6.2:\n",
            "      Successfully uninstalled docopt-0.6.2\n",
            "  Attempting uninstall: dawg-python\n",
            "    Found existing installation: DAWG-Python 0.7.2\n",
            "    Uninstalling DAWG-Python-0.7.2:\n",
            "      Successfully uninstalled DAWG-Python-0.7.2\n",
            "  Attempting uninstall: pymorphy2\n",
            "    Found existing installation: pymorphy2 0.9.1\n",
            "    Uninstalling pymorphy2-0.9.1:\n",
            "      Successfully uninstalled pymorphy2-0.9.1\n",
            "Successfully installed dawg-python-0.7.2 docopt-0.6.2 pymorphy2-0.9.1 pymorphy2-dicts-ru-2.4.417127.4579844\n"
          ]
        }
      ],
      "source": [
        "! pip install --force-reinstall  pymorphy2 \n"
      ]
    },
    {
      "cell_type": "code",
      "execution_count": 28,
      "metadata": {
        "colab": {
          "base_uri": "https://localhost:8080/"
        },
        "id": "f_gjalFO8muW",
        "outputId": "c1bf21f5-0137-43fa-dc91-03e5b02a7260"
      },
      "outputs": [
        {
          "name": "stdout",
          "output_type": "stream",
          "text": [
            "Requirement already satisfied: pymorphy2-dicts-ru in /usr/local/lib/python3.7/dist-packages (2.4.417127.4579844)\n"
          ]
        }
      ],
      "source": [
        "!pip install  pymorphy2-dicts-ru"
      ]
    },
    {
      "cell_type": "code",
      "execution_count": 29,
      "metadata": {
        "id": "hkhbbrKU8HmS"
      },
      "outputs": [],
      "source": [
        "import pymorphy2\n",
        "import re\n",
        "\n",
        "morph = pymorphy2.MorphAnalyzer()"
      ]
    },
    {
      "cell_type": "code",
      "execution_count": 30,
      "metadata": {
        "id": "cBO7s8kd8AGe"
      },
      "outputs": [],
      "source": [
        "\n",
        "# убираем все небуквенные символы\n",
        "regex = re.compile(\"[А-Яа-яA-z]+\")\n",
        "\n",
        "def words_only(text, regex=regex):\n",
        "    try:\n",
        "        return regex.findall(text.lower())\n",
        "    except:\n",
        "        return []"
      ]
    },
    {
      "cell_type": "code",
      "execution_count": 31,
      "metadata": {
        "colab": {
          "base_uri": "https://localhost:8080/"
        },
        "id": "rrs13sj67EO2",
        "outputId": "ee032a51-1e80-4c55-fb2d-872c0b8bfdd9"
      },
      "outputs": [
        {
          "name": "stdout",
          "output_type": "stream",
          "text": [
            "Parse(word='куколдыш', tag=OpencorporaTag('NOUN,anim,masc,Sgtm,Surn sing,nomn'), normal_form='куколдыш', score=0.14285714285714285, methods_stack=((FakeDictionary(), 'куколдыш', 84, 0), (KnownSuffixAnalyzer(min_word_length=4, score_multiplier=0.5), 'лдыш')))\n",
            "Parse(word='иди', tag=OpencorporaTag('VERB,impf,intr sing,impr,excl'), normal_form='идти', score=1.0, methods_stack=((DictionaryAnalyzer(), 'иди', 1696, 13),))\n",
            "Parse(word='значение', tag=OpencorporaTag('NOUN,inan,neut sing,accs'), normal_form='значение', score=0.625, methods_stack=((DictionaryAnalyzer(), 'значение', 77, 6),))\n",
            "Parse(word='выучи,', tag=OpencorporaTag('UNKN'), normal_form='выучи,', score=1.0, methods_stack=((UnknAnalyzer(), 'выучи,'),))\n",
            "Parse(word='мурло', tag=OpencorporaTag('NOUN,inan,neut,Sgtm sing,nomn'), normal_form='мурло', score=0.5, methods_stack=((DictionaryAnalyzer(), 'мурло', 110, 0),))\n",
            "Parse(word='скоро', tag=OpencorporaTag('ADVB'), normal_form='скоро', score=0.964285, methods_stack=((DictionaryAnalyzer(), 'скоро', 3, 0),))\n",
            "Parse(word='и', tag=OpencorporaTag('CONJ'), normal_form='и', score=0.998263, methods_stack=((DictionaryAnalyzer(), 'и', 20, 0),))\n",
            "Parse(word='тебе', tag=OpencorporaTag('NPRO,2per sing,datv'), normal_form='ты', score=0.970731, methods_stack=((DictionaryAnalyzer(), 'тебе', 3049, 2),))\n",
            "Parse(word='пиздарики', tag=OpencorporaTag('NOUN,inan,masc plur,nomn'), normal_form='пиздарик', score=0.2, methods_stack=((DictionaryAnalyzer(), 'дарики', 19, 6), (UnknownPrefixAnalyzer(score_multiplier=0.5), 'пиз')))\n",
            "Parse(word='наступят.', tag=OpencorporaTag('UNKN'), normal_form='наступят.', score=1.0, methods_stack=((UnknAnalyzer(), 'наступят.'),))\n",
            "Parse(word='что', tag=OpencorporaTag('CONJ'), normal_form='что', score=0.922033, methods_stack=((DictionaryAnalyzer(), 'что', 3185, 0),))\n",
            "Parse(word='сделаешь,', tag=OpencorporaTag('UNKN'), normal_form='сделаешь,', score=1.0, methods_stack=((UnknAnalyzer(), 'сделаешь,'),))\n",
            "Parse(word='насрешь', tag=OpencorporaTag('VERB,impf,tran sing,2per,pres,indc'), normal_form='насресть', score=0.33653846153846156, methods_stack=((DictionaryAnalyzer(), 'ешь', 1447, 3), (UnknownPrefixAnalyzer(score_multiplier=0.5), 'наср')))\n",
            "Parse(word='под', tag=OpencorporaTag('PREP'), normal_form='под', score=0.977989, methods_stack=((DictionaryAnalyzer(), 'под', 393, 0),))\n",
            "Parse(word='дверью,', tag=OpencorporaTag('UNKN'), normal_form='дверью,', score=1.0, methods_stack=((UnknAnalyzer(), 'дверью,'),))\n",
            "Parse(word='чмо?', tag=OpencorporaTag('UNKN'), normal_form='чмо?', score=1.0, methods_stack=((UnknAnalyzer(), 'ЧМО?'),))\n"
          ]
        }
      ],
      "source": [
        "for i in train.comment[10].split():\n",
        "  lemmas = morph.parse(i)\n",
        "  print(lemmas[0])"
      ]
    },
    {
      "cell_type": "code",
      "execution_count": 32,
      "metadata": {
        "id": "IE3ufccOBX9B"
      },
      "outputs": [],
      "source": [
        "from functools import lru_cache\n"
      ]
    },
    {
      "cell_type": "code",
      "execution_count": 33,
      "metadata": {
        "id": "aQIooBnBBOYx"
      },
      "outputs": [],
      "source": [
        "@lru_cache(maxsize=128)\n",
        "def lemmatize_word(token, pymorphy=morph):\n",
        "    return pymorphy.parse(token)[0].normal_form\n",
        "\n",
        "def lemmatize_text(text):\n",
        "    return [lemmatize_word(w) for w in text]"
      ]
    },
    {
      "cell_type": "code",
      "execution_count": 34,
      "metadata": {
        "colab": {
          "base_uri": "https://localhost:8080/"
        },
        "id": "rmBgq9MpBe0n",
        "outputId": "b33e0ecf-b5ab-4112-e480-bf6cb78f3237"
      },
      "outputs": [
        {
          "name": "stdout",
          "output_type": "stream",
          "text": [
            "['куколдыш', 'идти', 'значение', 'выучить', 'мурло', 'скоро', 'и', 'ты', 'пиздарик', 'наступить', 'что', 'сделать', 'насресть', 'под', 'дверь', 'чмо']\n"
          ]
        }
      ],
      "source": [
        "tokens = words_only(train.comment[10])\n",
        "\n",
        "print(lemmatize_text(tokens))"
      ]
    },
    {
      "cell_type": "code",
      "execution_count": 35,
      "metadata": {
        "id": "ZC6Z4KfBBpam"
      },
      "outputs": [],
      "source": [
        "from nltk.corpus import stopwords\n"
      ]
    },
    {
      "cell_type": "code",
      "execution_count": 36,
      "metadata": {
        "id": "kddHWX6jBulN"
      },
      "outputs": [],
      "source": [
        "import nltk"
      ]
    },
    {
      "cell_type": "code",
      "execution_count": 37,
      "metadata": {
        "colab": {
          "base_uri": "https://localhost:8080/"
        },
        "id": "MJLtEZ1_Bs0l",
        "outputId": "e99468b1-d05a-44fb-d82b-e2c9ab0fc318"
      },
      "outputs": [
        {
          "name": "stdout",
          "output_type": "stream",
          "text": [
            "[nltk_data] Downloading package stopwords to /root/nltk_data...\n",
            "[nltk_data]   Package stopwords is already up-to-date!\n"
          ]
        },
        {
          "data": {
            "text/plain": [
              "True"
            ]
          },
          "execution_count": 37,
          "metadata": {},
          "output_type": "execute_result"
        }
      ],
      "source": [
        "nltk.download('stopwords')"
      ]
    },
    {
      "cell_type": "code",
      "execution_count": 38,
      "metadata": {
        "id": "jRyYfud6Bk6H"
      },
      "outputs": [],
      "source": [
        "mystopwords = stopwords.words('russian') \n",
        "\n",
        "def remove_stopwords(lemmas, stopwords = mystopwords):\n",
        "    return [w for w in lemmas if not w in stopwords]"
      ]
    },
    {
      "cell_type": "code",
      "execution_count": 39,
      "metadata": {
        "colab": {
          "base_uri": "https://localhost:8080/"
        },
        "id": "JSgdKVD5B5W-",
        "outputId": "e631951b-f9a7-4c2b-9384-76909a829ea4"
      },
      "outputs": [
        {
          "name": "stdout",
          "output_type": "stream",
          "text": [
            "куколдыш идти значение выучить мурло скоро пиздарик наступить сделать насресть дверь чмо\n"
          ]
        }
      ],
      "source": [
        "lemmas = lemmatize_text(tokens)\n",
        "\n",
        "print(*remove_stopwords(lemmas))"
      ]
    },
    {
      "cell_type": "code",
      "execution_count": 40,
      "metadata": {
        "id": "mDBU0veJCAXh"
      },
      "outputs": [],
      "source": [
        "def remove_stopwords(lemmas, stopwords = mystopwords):\n",
        "    return [w for w in lemmas if not w in stopwords and len(w) > 3]"
      ]
    },
    {
      "cell_type": "code",
      "execution_count": 41,
      "metadata": {
        "colab": {
          "base_uri": "https://localhost:8080/"
        },
        "id": "rZzAtGI5CBUz",
        "outputId": "64b65302-6551-498d-8fd2-04dbc78e44ff"
      },
      "outputs": [
        {
          "name": "stdout",
          "output_type": "stream",
          "text": [
            "куколдыш идти значение выучить мурло скоро пиздарик наступить сделать насресть дверь\n"
          ]
        }
      ],
      "source": [
        "print(*remove_stopwords(lemmas))"
      ]
    },
    {
      "cell_type": "code",
      "execution_count": 42,
      "metadata": {
        "id": "I1xitya2CGLR"
      },
      "outputs": [],
      "source": [
        "def clean_text(text):\n",
        "    tokens = words_only(text)\n",
        "    lemmas = lemmatize_text(tokens)\n",
        "    \n",
        "    return remove_stopwords(lemmas)"
      ]
    },
    {
      "cell_type": "code",
      "execution_count": 43,
      "metadata": {
        "colab": {
          "base_uri": "https://localhost:8080/"
        },
        "id": "b7kL05DiCIRS",
        "outputId": "2829e92e-9b9b-4df3-e65a-af6ac2384e89"
      },
      "outputs": [
        {
          "name": "stdout",
          "output_type": "stream",
          "text": [
            "преступление наказание\n",
            "именно неработающий весы показывать работать\n",
            "япония панелька ебанько\n",
            "выявлять трещина помощь белый краска магнитная краска прислонять большой магнит трещина проявляться знать метод называться труба проверять\n",
            "дочитать поезд норильск далёкий стать\n",
            "весь нужно перестать бухать вывести остаток токсин организм внезапно жизнь начинать играть новый краска чистый физиология психология хотя отказ транк доступный транк легализовать наркотик скорее весь прич депрессия таковой существовать вообще принцип просто состояние который индивид начинать вгонять оправдявый вступление тропа саморазрушение депрессия край полежать дать вино дать гкий наркотик тяжёлый депрессия просто деструктивизм сознательный аморализация надежда найда пойма нужно выплакаться жилетка состояние просто щелчок палец выйти затягивать многий затягивать самый вчерашний каприз становиться настоящий личностный проблема просто делать нужно\n",
            "независимый оператор хохол пытаться промутить\n",
            "ответ батя говорить аккале\n",
            "схуй эсэсэр коммунистический режим дебилушко юмор китай ебета хвост грива хлипкий социализм сэсэр простоять сотня\n",
            "полетать красавец попадаться женщина наоборот\n",
            "куколдыш идти значение выучить мурло скоро пиздарик наступить сделать насресть дверь\n",
            "страшно крутой тачка принести счастие честно знать мочь принести\n",
            "свынок укатываться кропивач твой ранимый анус никто тронуть\n",
            "орать десять жопа ебать начать хуесос хотя наверняка понравиться\n",
            "хотя марцинкевич блядь строка перчеркнуть выше написать\n",
            "красиво подробный\n",
            "сторона модератор никто звать картинка удалить\n",
            "мочь бугор давно пофига частность большой половина killing floor христианский demon hunter христианский металл living sacrifice правда назвать скорее металл факт факт\n",
            "нищий нацист коммунист гитлер немец очередь стоять негр араб помогать помогать мера\n",
            "упоминание давыдов голополосов вызывать баттхерта пикабушник правильно\n"
          ]
        }
      ],
      "source": [
        "for i in range(20):\n",
        "  print(* clean_text(train.comment[i]))"
      ]
    },
    {
      "cell_type": "code",
      "execution_count": 44,
      "metadata": {
        "id": "9Q92IqXQDD4L"
      },
      "outputs": [],
      "source": [
        "from tqdm.auto import trange"
      ]
    },
    {
      "cell_type": "code",
      "execution_count": 45,
      "metadata": {
        "colab": {
          "base_uri": "https://localhost:8080/",
          "height": 49,
          "referenced_widgets": [
            "9a78c10031304a48a027e32dde64388b",
            "6b016d8b10a247bfa2e103f7d13b59f9",
            "87cc6fa48ce44e0399db3ee14462944f",
            "d1cedc715e834e88891961c4c955f0c8",
            "6f6015a461a4463abd0d5e7aa5e38cf4",
            "5c68ef99b15a4452b7c13e146652f4a1",
            "c8b75cc5a0a949cfaee966b40831b637",
            "298c9e0a0fd7491f85c0bfef49f4458b",
            "b167a793a22e4ab0967f64f8e07ed3f3",
            "1127d847e7f54d6ab79e8c657201cf69",
            "496d631a45b8489783e5b899ebee8233"
          ]
        },
        "id": "20RiGBsuCgV8",
        "outputId": "9d8f6692-8136-47b0-a2bf-4a23fd446e61"
      },
      "outputs": [
        {
          "data": {
            "application/vnd.jupyter.widget-view+json": {
              "model_id": "9a78c10031304a48a027e32dde64388b",
              "version_major": 2,
              "version_minor": 0
            },
            "text/plain": [
              "loop:   0%|          | 0/10809 [00:00<?, ?it/s]"
            ]
          },
          "metadata": {},
          "output_type": "display_data"
        }
      ],
      "source": [
        "new_comments = []\n",
        "for i in trange(len(train.comment), desc='loop'):\n",
        "  new_comments.append(\" \".join(clean_text(train.comment[i])))\n"
      ]
    },
    {
      "cell_type": "code",
      "execution_count": 46,
      "metadata": {
        "colab": {
          "base_uri": "https://localhost:8080/"
        },
        "id": "C8a7ICjPDzeQ",
        "outputId": "bb6702f4-8291-47ff-b216-6849c1077f4f"
      },
      "outputs": [
        {
          "data": {
            "text/plain": [
              "['преступление наказание',\n",
              " 'именно неработающий весы показывать работать',\n",
              " 'япония панелька ебанько',\n",
              " 'выявлять трещина помощь белый краска магнитная краска прислонять большой магнит трещина проявляться знать метод называться труба проверять',\n",
              " 'дочитать поезд норильск далёкий стать',\n",
              " 'весь нужно перестать бухать вывести остаток токсин организм внезапно жизнь начинать играть новый краска чистый физиология психология хотя отказ транк доступный транк легализовать наркотик скорее весь прич депрессия таковой существовать вообще принцип просто состояние который индивид начинать вгонять оправдявый вступление тропа саморазрушение депрессия край полежать дать вино дать гкий наркотик тяжёлый депрессия просто деструктивизм сознательный аморализация надежда найда пойма нужно выплакаться жилетка состояние просто щелчок палец выйти затягивать многий затягивать самый вчерашний каприз становиться настоящий личностный проблема просто делать нужно',\n",
              " 'независимый оператор хохол пытаться промутить',\n",
              " 'ответ батя говорить аккале',\n",
              " 'схуй эсэсэр коммунистический режим дебилушко юмор китай ебета хвост грива хлипкий социализм сэсэр простоять сотня',\n",
              " 'полетать красавец попадаться женщина наоборот']"
            ]
          },
          "execution_count": 46,
          "metadata": {},
          "output_type": "execute_result"
        }
      ],
      "source": [
        "new_comments[:10]"
      ]
    },
    {
      "cell_type": "code",
      "execution_count": 47,
      "metadata": {
        "id": "pmgzfElBx9kk"
      },
      "outputs": [],
      "source": [
        "vec3 = CountVectorizer(ngram_range=(1, 2)) # строим BoW для слов\n",
        "bow3 = vec3.fit_transform(new_comments) "
      ]
    },
    {
      "cell_type": "code",
      "execution_count": 48,
      "metadata": {
        "colab": {
          "base_uri": "https://localhost:8080/"
        },
        "id": "qXyEBMLZx9kl",
        "outputId": "d50faf01-0a36-4a8e-db7d-45c43ebe3c0d"
      },
      "outputs": [
        {
          "data": {
            "text/plain": [
              "[('тяжёлый', 147571),\n",
              " ('деструктивизм', 30158),\n",
              " ('сознательный', 134042),\n",
              " ('аморализация', 3427),\n",
              " ('надежда', 69603),\n",
              " ('найда', 70280),\n",
              " ('пойма', 97666),\n",
              " ('выплакаться', 21037),\n",
              " ('жилетка', 37146),\n",
              " ('щелчок', 161656),\n",
              " ('палец', 89005),\n",
              " ('выйти', 20633),\n",
              " ('затягивать', 41691),\n",
              " ('многий', 65910),\n",
              " ('самый', 124255),\n",
              " ('вчерашний', 19763),\n",
              " ('каприз', 49214),\n",
              " ('становиться', 137778),\n",
              " ('настоящий', 72325),\n",
              " ('личностный', 59828)]"
            ]
          },
          "execution_count": 48,
          "metadata": {},
          "output_type": "execute_result"
        }
      ],
      "source": [
        "list(vec3.vocabulary_.items())[100:120]"
      ]
    },
    {
      "cell_type": "code",
      "execution_count": 49,
      "metadata": {
        "colab": {
          "base_uri": "https://localhost:8080/"
        },
        "id": "xixfWF_hx9kl",
        "outputId": "61cd019d-a215-4699-ee6b-bcfcd42a2330"
      },
      "outputs": [
        {
          "data": {
            "text/plain": [
              "<10809x163748 sparse matrix of type '<class 'numpy.int64'>'\n",
              "\twith 295815 stored elements in Compressed Sparse Row format>"
            ]
          },
          "execution_count": 49,
          "metadata": {},
          "output_type": "execute_result"
        }
      ],
      "source": [
        "bow3"
      ]
    },
    {
      "cell_type": "code",
      "execution_count": 49,
      "metadata": {
        "id": "snacFA_SEF5N"
      },
      "outputs": [],
      "source": []
    },
    {
      "cell_type": "code",
      "execution_count": 50,
      "metadata": {
        "colab": {
          "base_uri": "https://localhost:8080/"
        },
        "id": "2ciKpB-xx9kl",
        "outputId": "46ac66b6-1d4d-481a-8be0-7d7ab55715ba"
      },
      "outputs": [
        {
          "data": {
            "text/plain": [
              "LogisticRegression(class_weight='balanced', max_iter=500, random_state=0)"
            ]
          },
          "execution_count": 50,
          "metadata": {},
          "output_type": "execute_result"
        }
      ],
      "source": [
        "clf3 = LogisticRegression(random_state=0, max_iter=500, class_weight='balanced')\n",
        "clf3.fit(bow3, train.toxic)"
      ]
    },
    {
      "cell_type": "code",
      "execution_count": 51,
      "metadata": {
        "colab": {
          "base_uri": "https://localhost:8080/"
        },
        "id": "tnek0owYx9kl",
        "outputId": "a1199b85-4267-4fce-9a82-a9fa53bf5543"
      },
      "outputs": [
        {
          "name": "stdout",
          "output_type": "stream",
          "text": [
            "              precision    recall  f1-score   support\n",
            "\n",
            "         0.0       0.99      1.00      1.00      7148\n",
            "         1.0       1.00      0.98      0.99      3661\n",
            "\n",
            "    accuracy                           0.99     10809\n",
            "   macro avg       1.00      0.99      0.99     10809\n",
            "weighted avg       0.99      0.99      0.99     10809\n",
            "\n"
          ]
        }
      ],
      "source": [
        "pred = clf3.predict(bow3)\n",
        "print(classification_report(pred, train.toxic))"
      ]
    },
    {
      "cell_type": "code",
      "execution_count": 51,
      "metadata": {
        "id": "bRm3tw9Ux9km"
      },
      "outputs": [],
      "source": []
    },
    {
      "cell_type": "code",
      "execution_count": 52,
      "metadata": {
        "colab": {
          "base_uri": "https://localhost:8080/",
          "height": 419
        },
        "id": "OK9C5OBhx9km",
        "outputId": "66a4c5be-9b1d-488c-a682-74949977ddd5"
      },
      "outputs": [
        {
          "data": {
            "text/html": [
              "<div>\n",
              "<style scoped>\n",
              "    .dataframe tbody tr th:only-of-type {\n",
              "        vertical-align: middle;\n",
              "    }\n",
              "\n",
              "    .dataframe tbody tr th {\n",
              "        vertical-align: top;\n",
              "    }\n",
              "\n",
              "    .dataframe thead th {\n",
              "        text-align: right;\n",
              "    }\n",
              "</style>\n",
              "<table border=\"1\" class=\"dataframe\">\n",
              "  <thead>\n",
              "    <tr style=\"text-align: right;\">\n",
              "      <th></th>\n",
              "      <th>comment_id</th>\n",
              "      <th>comment</th>\n",
              "    </tr>\n",
              "  </thead>\n",
              "  <tbody>\n",
              "    <tr>\n",
              "      <th>0</th>\n",
              "      <td>0</td>\n",
              "      <td>В данном случае не пионервожатая, а техничка, ...</td>\n",
              "    </tr>\n",
              "    <tr>\n",
              "      <th>1</th>\n",
              "      <td>1</td>\n",
              "      <td>В данном посте рассматривается обычный ленточн...</td>\n",
              "    </tr>\n",
              "    <tr>\n",
              "      <th>2</th>\n",
              "      <td>2</td>\n",
              "      <td>Как я понимаю, у поверхностей отражаемость пог...</td>\n",
              "    </tr>\n",
              "    <tr>\n",
              "      <th>3</th>\n",
              "      <td>3</td>\n",
              "      <td>Австралийские пауки съедят все живое на планете))</td>\n",
              "    </tr>\n",
              "    <tr>\n",
              "      <th>4</th>\n",
              "      <td>4</td>\n",
              "      <td>У нас раньше Амур пиво целые бутылки принимал ...</td>\n",
              "    </tr>\n",
              "    <tr>\n",
              "      <th>...</th>\n",
              "      <td>...</td>\n",
              "      <td>...</td>\n",
              "    </tr>\n",
              "    <tr>\n",
              "      <th>3598</th>\n",
              "      <td>3598</td>\n",
              "      <td>Я всё жду, когда эта херня закончится\\n</td>\n",
              "    </tr>\n",
              "    <tr>\n",
              "      <th>3599</th>\n",
              "      <td>3599</td>\n",
              "      <td>Откуда такой акцент на Москве? У нас между про...</td>\n",
              "    </tr>\n",
              "    <tr>\n",
              "      <th>3600</th>\n",
              "      <td>3600</td>\n",
              "      <td>Кого угодно, но не этих двух отбросов: свинью ...</td>\n",
              "    </tr>\n",
              "    <tr>\n",
              "      <th>3601</th>\n",
              "      <td>3601</td>\n",
              "      <td>А как же радиоуправляемые машинки в клубах?\\n</td>\n",
              "    </tr>\n",
              "    <tr>\n",
              "      <th>3602</th>\n",
              "      <td>3602</td>\n",
              "      <td>Правильно. Кз 10 и версия драйверов 10.х без э...</td>\n",
              "    </tr>\n",
              "  </tbody>\n",
              "</table>\n",
              "<p>3603 rows × 2 columns</p>\n",
              "</div>"
            ],
            "text/plain": [
              "      comment_id                                            comment\n",
              "0              0  В данном случае не пионервожатая, а техничка, ...\n",
              "1              1  В данном посте рассматривается обычный ленточн...\n",
              "2              2  Как я понимаю, у поверхностей отражаемость пог...\n",
              "3              3  Австралийские пауки съедят все живое на планете))\n",
              "4              4  У нас раньше Амур пиво целые бутылки принимал ...\n",
              "...          ...                                                ...\n",
              "3598        3598            Я всё жду, когда эта херня закончится\\n\n",
              "3599        3599  Откуда такой акцент на Москве? У нас между про...\n",
              "3600        3600  Кого угодно, но не этих двух отбросов: свинью ...\n",
              "3601        3601      А как же радиоуправляемые машинки в клубах?\\n\n",
              "3602        3602  Правильно. Кз 10 и версия драйверов 10.х без э...\n",
              "\n",
              "[3603 rows x 2 columns]"
            ]
          },
          "execution_count": 52,
          "metadata": {},
          "output_type": "execute_result"
        }
      ],
      "source": [
        "test"
      ]
    },
    {
      "cell_type": "code",
      "execution_count": 53,
      "metadata": {
        "colab": {
          "base_uri": "https://localhost:8080/",
          "height": 49,
          "referenced_widgets": [
            "0ac35da9dd22436a9d301bc8bded99ad",
            "b896c65f3b7847a495c5a835aa11349d",
            "c2d079824d1f44be9a51d308b87050c5",
            "d9046d333a3b4311a483747f9ee4612f",
            "e72170c649964956ba73b1aaec818535",
            "421091216cbd40de9fb06db126b1b223",
            "c18f4c05f1184fa193b51b54a997667d",
            "2f90f1c5f435442eb184c305177c04e9",
            "eb4e93dee049435ab3dcaf60704a1045",
            "b0674172464f4aa8abd710d0a2190759",
            "96d9acce6f40486fb9a55b90542382e7"
          ]
        },
        "id": "Kbb2ytHXEnTr",
        "outputId": "e27d8643-0d8f-4194-9de5-53bb944902b6"
      },
      "outputs": [
        {
          "data": {
            "application/vnd.jupyter.widget-view+json": {
              "model_id": "0ac35da9dd22436a9d301bc8bded99ad",
              "version_major": 2,
              "version_minor": 0
            },
            "text/plain": [
              "loop:   0%|          | 0/3603 [00:00<?, ?it/s]"
            ]
          },
          "metadata": {},
          "output_type": "display_data"
        }
      ],
      "source": [
        "new_commentstest = []\n",
        "for i in trange(len(test.comment), desc='loop'):\n",
        "  new_commentstest.append(\" \".join(clean_text(test.comment[i])))"
      ]
    },
    {
      "cell_type": "code",
      "execution_count": 54,
      "metadata": {
        "colab": {
          "base_uri": "https://localhost:8080/",
          "height": 204
        },
        "id": "A2kVZqKcFAcX",
        "outputId": "c4e0b13b-2e54-4d45-f1ec-356811223a36"
      },
      "outputs": [
        {
          "data": {
            "text/html": [
              "<div>\n",
              "<style scoped>\n",
              "    .dataframe tbody tr th:only-of-type {\n",
              "        vertical-align: middle;\n",
              "    }\n",
              "\n",
              "    .dataframe tbody tr th {\n",
              "        vertical-align: top;\n",
              "    }\n",
              "\n",
              "    .dataframe thead th {\n",
              "        text-align: right;\n",
              "    }\n",
              "</style>\n",
              "<table border=\"1\" class=\"dataframe\">\n",
              "  <thead>\n",
              "    <tr style=\"text-align: right;\">\n",
              "      <th></th>\n",
              "      <th>comment_id</th>\n",
              "      <th>comment</th>\n",
              "      <th>newcomment</th>\n",
              "    </tr>\n",
              "  </thead>\n",
              "  <tbody>\n",
              "    <tr>\n",
              "      <th>3598</th>\n",
              "      <td>3598</td>\n",
              "      <td>Я всё жду, когда эта херня закончится\\n</td>\n",
              "      <td>ждать херня закончиться</td>\n",
              "    </tr>\n",
              "    <tr>\n",
              "      <th>3599</th>\n",
              "      <td>3599</td>\n",
              "      <td>Откуда такой акцент на Москве? У нас между про...</td>\n",
              "      <td>откуда акцент москва прочить многонациональный...</td>\n",
              "    </tr>\n",
              "    <tr>\n",
              "      <th>3600</th>\n",
              "      <td>3600</td>\n",
              "      <td>Кого угодно, но не этих двух отбросов: свинью ...</td>\n",
              "      <td>угодный отброс свинья недоразвитый даун</td>\n",
              "    </tr>\n",
              "    <tr>\n",
              "      <th>3601</th>\n",
              "      <td>3601</td>\n",
              "      <td>А как же радиоуправляемые машинки в клубах?\\n</td>\n",
              "      <td>радиоуправляемый машинка клуб</td>\n",
              "    </tr>\n",
              "    <tr>\n",
              "      <th>3602</th>\n",
              "      <td>3602</td>\n",
              "      <td>Правильно. Кз 10 и версия драйверов 10.х без э...</td>\n",
              "      <td>правильно версия драйвер работать</td>\n",
              "    </tr>\n",
              "  </tbody>\n",
              "</table>\n",
              "</div>"
            ],
            "text/plain": [
              "      comment_id  ...                                         newcomment\n",
              "3598        3598  ...                            ждать херня закончиться\n",
              "3599        3599  ...  откуда акцент москва прочить многонациональный...\n",
              "3600        3600  ...            угодный отброс свинья недоразвитый даун\n",
              "3601        3601  ...                      радиоуправляемый машинка клуб\n",
              "3602        3602  ...                  правильно версия драйвер работать\n",
              "\n",
              "[5 rows x 3 columns]"
            ]
          },
          "execution_count": 54,
          "metadata": {},
          "output_type": "execute_result"
        }
      ],
      "source": [
        "bow_test_pred3 = test.copy()\n",
        "bow_test_pred3['newcomment'] = new_commentstest\n",
        "bow_test_pred3.tail()"
      ]
    },
    {
      "cell_type": "code",
      "execution_count": 54,
      "metadata": {
        "id": "7aXDG6SRGZo6"
      },
      "outputs": [],
      "source": []
    },
    {
      "cell_type": "code",
      "execution_count": 55,
      "metadata": {
        "colab": {
          "base_uri": "https://localhost:8080/",
          "height": 419
        },
        "id": "xZGnnfKDx9km",
        "outputId": "5642a395-743c-44c0-eb91-d8c24e992f22"
      },
      "outputs": [
        {
          "data": {
            "text/html": [
              "<div>\n",
              "<style scoped>\n",
              "    .dataframe tbody tr th:only-of-type {\n",
              "        vertical-align: middle;\n",
              "    }\n",
              "\n",
              "    .dataframe tbody tr th {\n",
              "        vertical-align: top;\n",
              "    }\n",
              "\n",
              "    .dataframe thead th {\n",
              "        text-align: right;\n",
              "    }\n",
              "</style>\n",
              "<table border=\"1\" class=\"dataframe\">\n",
              "  <thead>\n",
              "    <tr style=\"text-align: right;\">\n",
              "      <th></th>\n",
              "      <th>comment_id</th>\n",
              "      <th>toxic</th>\n",
              "    </tr>\n",
              "  </thead>\n",
              "  <tbody>\n",
              "    <tr>\n",
              "      <th>0</th>\n",
              "      <td>0</td>\n",
              "      <td>0</td>\n",
              "    </tr>\n",
              "    <tr>\n",
              "      <th>1</th>\n",
              "      <td>1</td>\n",
              "      <td>0</td>\n",
              "    </tr>\n",
              "    <tr>\n",
              "      <th>2</th>\n",
              "      <td>2</td>\n",
              "      <td>0</td>\n",
              "    </tr>\n",
              "    <tr>\n",
              "      <th>3</th>\n",
              "      <td>3</td>\n",
              "      <td>0</td>\n",
              "    </tr>\n",
              "    <tr>\n",
              "      <th>4</th>\n",
              "      <td>4</td>\n",
              "      <td>0</td>\n",
              "    </tr>\n",
              "    <tr>\n",
              "      <th>...</th>\n",
              "      <td>...</td>\n",
              "      <td>...</td>\n",
              "    </tr>\n",
              "    <tr>\n",
              "      <th>3598</th>\n",
              "      <td>3598</td>\n",
              "      <td>1</td>\n",
              "    </tr>\n",
              "    <tr>\n",
              "      <th>3599</th>\n",
              "      <td>3599</td>\n",
              "      <td>0</td>\n",
              "    </tr>\n",
              "    <tr>\n",
              "      <th>3600</th>\n",
              "      <td>3600</td>\n",
              "      <td>1</td>\n",
              "    </tr>\n",
              "    <tr>\n",
              "      <th>3601</th>\n",
              "      <td>3601</td>\n",
              "      <td>0</td>\n",
              "    </tr>\n",
              "    <tr>\n",
              "      <th>3602</th>\n",
              "      <td>3602</td>\n",
              "      <td>0</td>\n",
              "    </tr>\n",
              "  </tbody>\n",
              "</table>\n",
              "<p>3603 rows × 2 columns</p>\n",
              "</div>"
            ],
            "text/plain": [
              "      comment_id  toxic\n",
              "0              0      0\n",
              "1              1      0\n",
              "2              2      0\n",
              "3              3      0\n",
              "4              4      0\n",
              "...          ...    ...\n",
              "3598        3598      1\n",
              "3599        3599      0\n",
              "3600        3600      1\n",
              "3601        3601      0\n",
              "3602        3602      0\n",
              "\n",
              "[3603 rows x 2 columns]"
            ]
          },
          "execution_count": 55,
          "metadata": {},
          "output_type": "execute_result"
        }
      ],
      "source": [
        "bow_test_pred3['toxic'] = clf3.predict(vec3.transform(bow_test_pred3.newcomment))\n",
        "bow_test_pred3['toxic'] = bow_test_pred3['toxic'].astype(int)\n",
        "bow_test_pred3.drop('comment', axis=1, inplace=True)\n",
        "bow_test_pred3.drop('newcomment', axis=1, inplace=True)\n",
        "\n",
        "bow_test_pred3"
      ]
    },
    {
      "cell_type": "code",
      "execution_count": 56,
      "metadata": {
        "colab": {
          "base_uri": "https://localhost:8080/"
        },
        "id": "9HwKBVcex9kn",
        "outputId": "047704da-9622-47ee-afba-0755f069d450"
      },
      "outputs": [
        {
          "data": {
            "text/plain": [
              "array([[2220,  242],\n",
              "       [ 246,  895]])"
            ]
          },
          "execution_count": 56,
          "metadata": {},
          "output_type": "execute_result"
        }
      ],
      "source": [
        "confusion_matrix(bow_test_pred2.toxic, bow_test_pred3.toxic)"
      ]
    },
    {
      "cell_type": "code",
      "execution_count": 57,
      "metadata": {
        "id": "vK3UgSi0G8h6"
      },
      "outputs": [],
      "source": [
        "bow_test_pred3.to_csv('bow_v3.csv', index=False)"
      ]
    },
    {
      "cell_type": "code",
      "execution_count": 58,
      "metadata": {
        "id": "_6gy_SliHF4C"
      },
      "outputs": [],
      "source": [
        "# !kaggle competitions submit -c toxic-comments-classification-apdl-2021 -f bow_v3.csv -m \"kirill_setdekov bow3 with preprocessing\""
      ]
    },
    {
      "cell_type": "code",
      "execution_count": 59,
      "metadata": {
        "colab": {
          "base_uri": "https://localhost:8080/"
        },
        "id": "ZlxRH5tZKwSt",
        "outputId": "4409a3e0-819f-4f6a-b221-4d6b663a0e46"
      },
      "outputs": [
        {
          "name": "stdout",
          "output_type": "stream",
          "text": [
            "Requirement already satisfied: scikit-learn==0.24 in /usr/local/lib/python3.7/dist-packages (0.24.0)\n",
            "Requirement already satisfied: joblib>=0.11 in /usr/local/lib/python3.7/dist-packages (from scikit-learn==0.24) (1.0.1)\n",
            "Requirement already satisfied: threadpoolctl>=2.0.0 in /usr/local/lib/python3.7/dist-packages (from scikit-learn==0.24) (3.0.0)\n",
            "Requirement already satisfied: scipy>=0.19.1 in /usr/local/lib/python3.7/dist-packages (from scikit-learn==0.24) (1.4.1)\n",
            "Requirement already satisfied: numpy>=1.13.3 in /usr/local/lib/python3.7/dist-packages (from scikit-learn==0.24) (1.19.5)\n"
          ]
        }
      ],
      "source": [
        "!pip install scikit-learn==0.24"
      ]
    },
    {
      "cell_type": "code",
      "execution_count": 60,
      "metadata": {
        "id": "EcEaXdYGJlqN"
      },
      "outputs": [],
      "source": [
        "from sklearn.ensemble import RandomForestClassifier\n",
        "from sklearn.experimental import enable_halving_search_cv  # noqa\n",
        "from sklearn.model_selection import HalvingGridSearchCV"
      ]
    },
    {
      "cell_type": "markdown",
      "metadata": {
        "id": "J3IJermzWpRP"
      },
      "source": [
        "nor run -too slow"
      ]
    },
    {
      "cell_type": "code",
      "execution_count": 71,
      "metadata": {
        "id": "T3NVis93JV0c"
      },
      "outputs": [],
      "source": [
        "# rnd_reg = RandomForestClassifier( )\n",
        "\n",
        "# # hyper-parameter space\n",
        "# param_grid_RF = {\n",
        "#     'n_estimators' : [10,20,50,100,200,500,1000],\n",
        "#     'max_features' : [0.6,0.8,\"auto\",\"sqrt\"],\n",
        "# }\n",
        "\n",
        "# search_two = HalvingGridSearchCV(rnd_reg, param_grid_RF, factor=5, scoring='accuracy',\n",
        "#                       n_jobs=-1, random_state=0, verbose=2).fit(bow3, train.toxic)\n",
        "\n",
        "# search_two.best_params_"
      ]
    },
    {
      "cell_type": "code",
      "execution_count": 69,
      "metadata": {
        "id": "UEpigvRSOFTf"
      },
      "outputs": [],
      "source": [
        "rnd_reg_2 = RandomForestClassifier(n_estimators=1000, verbose=5, n_jobs=-1)"
      ]
    },
    {
      "cell_type": "code",
      "execution_count": 70,
      "metadata": {
        "colab": {
          "base_uri": "https://localhost:8080/"
        },
        "id": "t8GLsHVVJ9qq",
        "outputId": "6911ba1c-7a08-4b03-e6b8-8dfb16d87ab3"
      },
      "outputs": [
        {
          "name": "stderr",
          "output_type": "stream",
          "text": [
            "[Parallel(n_jobs=-1)]: Using backend ThreadingBackend with 2 concurrent workers.\n"
          ]
        },
        {
          "name": "stdout",
          "output_type": "stream",
          "text": [
            "building tree 1 of 1000\n",
            "building tree 2 of 1000\n",
            "building tree 3 of 1000\n",
            "building tree 4 of 1000\n",
            "building tree 5 of 1000\n",
            "building tree 6 of 1000\n",
            "building tree 7 of 1000\n",
            "building tree 8 of 1000\n",
            "building tree 9 of 1000\n",
            "building tree 10 of 1000\n",
            "building tree 11 of 1000\n",
            "building tree 12 of 1000\n",
            "building tree 13 of 1000\n",
            "building tree 14 of 1000\n",
            "building tree 15 of 1000\n"
          ]
        },
        {
          "name": "stderr",
          "output_type": "stream",
          "text": [
            "[Parallel(n_jobs=-1)]: Done  14 tasks      | elapsed:    9.3s\n"
          ]
        },
        {
          "name": "stdout",
          "output_type": "stream",
          "text": [
            "building tree 16 of 1000\n",
            "building tree 17 of 1000\n",
            "building tree 18 of 1000\n",
            "building tree 19 of 1000\n",
            "building tree 20 of 1000\n",
            "building tree 21 of 1000\n",
            "building tree 22 of 1000\n",
            "building tree 23 of 1000\n",
            "building tree 24 of 1000\n",
            "building tree 25 of 1000\n",
            "building tree 26 of 1000\n",
            "building tree 27 of 1000\n",
            "building tree 28 of 1000\n",
            "building tree 29 of 1000\n",
            "building tree 30 of 1000\n",
            "building tree 31 of 1000\n",
            "building tree 32 of 1000\n",
            "building tree 33 of 1000\n",
            "building tree 34 of 1000\n",
            "building tree 35 of 1000\n",
            "building tree 36 of 1000\n",
            "building tree 37 of 1000\n",
            "building tree 38 of 1000\n",
            "building tree 39 of 1000\n",
            "building tree 40 of 1000\n",
            "building tree 41 of 1000\n",
            "building tree 42 of 1000\n",
            "building tree 43 of 1000\n",
            "building tree 44 of 1000\n",
            "building tree 45 of 1000\n",
            "building tree 46 of 1000\n",
            "building tree 47 of 1000\n",
            "building tree 48 of 1000\n",
            "building tree 49 of 1000\n",
            "building tree 50 of 1000\n",
            "building tree 51 of 1000\n",
            "building tree 52 of 1000\n",
            "building tree 53 of 1000\n",
            "building tree 54 of 1000\n",
            "building tree 55 of 1000\n",
            "building tree 56 of 1000\n",
            "building tree 57 of 1000\n",
            "building tree 58 of 1000\n",
            "building tree 59 of 1000\n",
            "building tree 60 of 1000\n",
            "building tree 61 of 1000\n",
            "building tree 62 of 1000\n",
            "building tree 63 of 1000\n",
            "building tree 64 of 1000\n",
            "building tree 65 of 1000\n",
            "building tree 66 of 1000\n",
            "building tree 67 of 1000\n",
            "building tree 68 of 1000\n",
            "building tree 69 of 1000\n"
          ]
        },
        {
          "name": "stderr",
          "output_type": "stream",
          "text": [
            "[Parallel(n_jobs=-1)]: Done  68 tasks      | elapsed:   42.8s\n"
          ]
        },
        {
          "name": "stdout",
          "output_type": "stream",
          "text": [
            "building tree 70 of 1000\n",
            "building tree 71 of 1000\n",
            "building tree 72 of 1000\n",
            "building tree 73 of 1000\n",
            "building tree 74 of 1000\n",
            "building tree 75 of 1000\n",
            "building tree 76 of 1000\n",
            "building tree 77 of 1000\n",
            "building tree 78 of 1000\n",
            "building tree 79 of 1000\n",
            "building tree 80 of 1000\n",
            "building tree 81 of 1000\n",
            "building tree 82 of 1000\n",
            "building tree 83 of 1000\n",
            "building tree 84 of 1000\n",
            "building tree 85 of 1000\n",
            "building tree 86 of 1000\n",
            "building tree 87 of 1000\n",
            "building tree 88 of 1000\n",
            "building tree 89 of 1000\n",
            "building tree 90 of 1000\n",
            "building tree 91 of 1000\n",
            "building tree 92 of 1000\n",
            "building tree 93 of 1000\n",
            "building tree 94 of 1000\n",
            "building tree 95 of 1000\n",
            "building tree 96 of 1000\n",
            "building tree 97 of 1000\n",
            "building tree 98 of 1000\n",
            "building tree 99 of 1000\n",
            "building tree 100 of 1000\n",
            "building tree 101 of 1000\n",
            "building tree 102 of 1000\n",
            "building tree 103 of 1000\n",
            "building tree 104 of 1000\n",
            "building tree 105 of 1000\n",
            "building tree 106 of 1000\n",
            "building tree 107 of 1000\n",
            "building tree 108 of 1000\n",
            "building tree 109 of 1000\n",
            "building tree 110 of 1000\n",
            "building tree 111 of 1000\n",
            "building tree 112 of 1000\n",
            "building tree 113 of 1000\n",
            "building tree 114 of 1000\n",
            "building tree 115 of 1000\n",
            "building tree 116 of 1000\n",
            "building tree 117 of 1000\n",
            "building tree 118 of 1000\n",
            "building tree 119 of 1000\n",
            "building tree 120 of 1000\n",
            "building tree 121 of 1000\n",
            "building tree 122 of 1000\n",
            "building tree 123 of 1000\n",
            "building tree 124 of 1000\n",
            "building tree 125 of 1000\n",
            "building tree 126 of 1000\n",
            "building tree 127 of 1000\n",
            "building tree 128 of 1000\n",
            "building tree 129 of 1000\n",
            "building tree 130 of 1000\n",
            "building tree 131 of 1000\n",
            "building tree 132 of 1000\n",
            "building tree 133 of 1000\n",
            "building tree 134 of 1000\n",
            "building tree 135 of 1000\n",
            "building tree 136 of 1000\n",
            "building tree 137 of 1000\n",
            "building tree 138 of 1000\n",
            "building tree 139 of 1000\n",
            "building tree 140 of 1000\n",
            "building tree 141 of 1000\n",
            "building tree 142 of 1000\n",
            "building tree 143 of 1000\n",
            "building tree 144 of 1000\n",
            "building tree 145 of 1000\n",
            "building tree 146 of 1000\n",
            "building tree 147 of 1000\n",
            "building tree 148 of 1000\n",
            "building tree 149 of 1000\n",
            "building tree 150 of 1000\n",
            "building tree 151 of 1000\n",
            "building tree 152 of 1000\n",
            "building tree 153 of 1000\n",
            "building tree 154 of 1000\n",
            "building tree 155 of 1000\n",
            "building tree 156 of 1000\n",
            "building tree 157 of 1000\n",
            "building tree 158 of 1000\n",
            "building tree 159 of 1000\n"
          ]
        },
        {
          "name": "stderr",
          "output_type": "stream",
          "text": [
            "[Parallel(n_jobs=-1)]: Done 158 tasks      | elapsed:  1.7min\n"
          ]
        },
        {
          "name": "stdout",
          "output_type": "stream",
          "text": [
            "building tree 160 of 1000\n",
            "building tree 161 of 1000\n",
            "building tree 162 of 1000\n",
            "building tree 163 of 1000\n",
            "building tree 164 of 1000\n",
            "building tree 165 of 1000\n",
            "building tree 166 of 1000\n",
            "building tree 167 of 1000\n",
            "building tree 168 of 1000\n",
            "building tree 169 of 1000\n",
            "building tree 170 of 1000\n",
            "building tree 171 of 1000\n",
            "building tree 172 of 1000\n",
            "building tree 173 of 1000\n",
            "building tree 174 of 1000\n",
            "building tree 175 of 1000\n",
            "building tree 176 of 1000\n",
            "building tree 177 of 1000\n",
            "building tree 178 of 1000\n",
            "building tree 179 of 1000\n",
            "building tree 180 of 1000\n",
            "building tree 181 of 1000\n",
            "building tree 182 of 1000\n",
            "building tree 183 of 1000\n",
            "building tree 184 of 1000\n",
            "building tree 185 of 1000\n",
            "building tree 186 of 1000\n",
            "building tree 187 of 1000\n",
            "building tree 188 of 1000\n",
            "building tree 189 of 1000\n",
            "building tree 190 of 1000\n",
            "building tree 191 of 1000\n",
            "building tree 192 of 1000\n",
            "building tree 193 of 1000\n",
            "building tree 194 of 1000\n",
            "building tree 195 of 1000\n",
            "building tree 196 of 1000\n",
            "building tree 197 of 1000\n",
            "building tree 198 of 1000\n",
            "building tree 199 of 1000\n",
            "building tree 200 of 1000\n",
            "building tree 201 of 1000\n",
            "building tree 202 of 1000\n",
            "building tree 203 of 1000\n",
            "building tree 204 of 1000\n",
            "building tree 205 of 1000\n",
            "building tree 206 of 1000\n",
            "building tree 207 of 1000\n",
            "building tree 208 of 1000\n",
            "building tree 209 of 1000\n",
            "building tree 210 of 1000\n",
            "building tree 211 of 1000\n",
            "building tree 212 of 1000\n",
            "building tree 213 of 1000\n",
            "building tree 214 of 1000\n",
            "building tree 215 of 1000\n",
            "building tree 216 of 1000\n",
            "building tree 217 of 1000\n",
            "building tree 218 of 1000\n",
            "building tree 219 of 1000\n",
            "building tree 220 of 1000\n",
            "building tree 221 of 1000\n",
            "building tree 222 of 1000\n",
            "building tree 223 of 1000\n",
            "building tree 224 of 1000\n",
            "building tree 225 of 1000\n",
            "building tree 226 of 1000\n",
            "building tree 227 of 1000\n",
            "building tree 228 of 1000\n",
            "building tree 229 of 1000\n",
            "building tree 230 of 1000\n",
            "building tree 231 of 1000\n",
            "building tree 232 of 1000\n",
            "building tree 233 of 1000\n",
            "building tree 234 of 1000\n",
            "building tree 235 of 1000\n",
            "building tree 236 of 1000\n",
            "building tree 237 of 1000\n",
            "building tree 238 of 1000\n",
            "building tree 239 of 1000\n",
            "building tree 240 of 1000\n",
            "building tree 241 of 1000\n",
            "building tree 242 of 1000\n",
            "building tree 243 of 1000\n",
            "building tree 244 of 1000\n",
            "building tree 245 of 1000\n",
            "building tree 246 of 1000\n",
            "building tree 247 of 1000\n",
            "building tree 248 of 1000\n",
            "building tree 249 of 1000\n",
            "building tree 250 of 1000\n",
            "building tree 251 of 1000\n",
            "building tree 252 of 1000\n",
            "building tree 253 of 1000\n",
            "building tree 254 of 1000\n",
            "building tree 255 of 1000\n",
            "building tree 256 of 1000\n",
            "building tree 257 of 1000\n",
            "building tree 258 of 1000\n",
            "building tree 259 of 1000\n",
            "building tree 260 of 1000\n",
            "building tree 261 of 1000\n",
            "building tree 262 of 1000\n",
            "building tree 263 of 1000\n",
            "building tree 264 of 1000\n",
            "building tree 265 of 1000\n",
            "building tree 266 of 1000\n",
            "building tree 267 of 1000\n",
            "building tree 268 of 1000\n",
            "building tree 269 of 1000\n",
            "building tree 270 of 1000\n",
            "building tree 271 of 1000\n",
            "building tree 272 of 1000\n",
            "building tree 273 of 1000\n",
            "building tree 274 of 1000\n",
            "building tree 275 of 1000\n",
            "building tree 276 of 1000\n",
            "building tree 277 of 1000\n",
            "building tree 278 of 1000\n",
            "building tree 279 of 1000\n",
            "building tree 280 of 1000\n",
            "building tree 281 of 1000\n",
            "building tree 282 of 1000\n",
            "building tree 283 of 1000\n",
            "building tree 284 of 1000\n",
            "building tree 285 of 1000\n"
          ]
        },
        {
          "name": "stderr",
          "output_type": "stream",
          "text": [
            "[Parallel(n_jobs=-1)]: Done 284 tasks      | elapsed:  3.0min\n"
          ]
        },
        {
          "name": "stdout",
          "output_type": "stream",
          "text": [
            "building tree 286 of 1000\n",
            "building tree 287 of 1000\n",
            "building tree 288 of 1000\n",
            "building tree 289 of 1000\n",
            "building tree 290 of 1000\n",
            "building tree 291 of 1000\n",
            "building tree 292 of 1000\n",
            "building tree 293 of 1000\n",
            "building tree 294 of 1000\n",
            "building tree 295 of 1000\n",
            "building tree 296 of 1000\n",
            "building tree 297 of 1000\n",
            "building tree 298 of 1000\n",
            "building tree 299 of 1000\n",
            "building tree 300 of 1000\n",
            "building tree 301 of 1000\n",
            "building tree 302 of 1000\n",
            "building tree 303 of 1000\n",
            "building tree 304 of 1000\n",
            "building tree 305 of 1000\n",
            "building tree 306 of 1000\n",
            "building tree 307 of 1000\n",
            "building tree 308 of 1000\n",
            "building tree 309 of 1000\n",
            "building tree 310 of 1000\n",
            "building tree 311 of 1000\n",
            "building tree 312 of 1000\n",
            "building tree 313 of 1000\n",
            "building tree 314 of 1000\n",
            "building tree 315 of 1000\n",
            "building tree 316 of 1000\n",
            "building tree 317 of 1000\n",
            "building tree 318 of 1000\n",
            "building tree 319 of 1000\n",
            "building tree 320 of 1000\n",
            "building tree 321 of 1000\n",
            "building tree 322 of 1000\n",
            "building tree 323 of 1000\n",
            "building tree 324 of 1000\n",
            "building tree 325 of 1000\n",
            "building tree 326 of 1000\n",
            "building tree 327 of 1000\n",
            "building tree 328 of 1000\n",
            "building tree 329 of 1000\n",
            "building tree 330 of 1000\n",
            "building tree 331 of 1000\n",
            "building tree 332 of 1000\n",
            "building tree 333 of 1000\n",
            "building tree 334 of 1000\n",
            "building tree 335 of 1000\n",
            "building tree 336 of 1000\n",
            "building tree 337 of 1000\n",
            "building tree 338 of 1000\n",
            "building tree 339 of 1000\n",
            "building tree 340 of 1000\n",
            "building tree 341 of 1000\n",
            "building tree 342 of 1000\n",
            "building tree 343 of 1000\n",
            "building tree 344 of 1000\n",
            "building tree 345 of 1000\n",
            "building tree 346 of 1000\n",
            "building tree 347 of 1000\n",
            "building tree 348 of 1000\n",
            "building tree 349 of 1000\n",
            "building tree 350 of 1000\n",
            "building tree 351 of 1000\n",
            "building tree 352 of 1000\n",
            "building tree 353 of 1000\n",
            "building tree 354 of 1000\n",
            "building tree 355 of 1000\n",
            "building tree 356 of 1000\n",
            "building tree 357 of 1000\n",
            "building tree 358 of 1000\n",
            "building tree 359 of 1000\n",
            "building tree 360 of 1000\n",
            "building tree 361 of 1000\n",
            "building tree 362 of 1000\n",
            "building tree 363 of 1000\n",
            "building tree 364 of 1000\n",
            "building tree 365 of 1000\n",
            "building tree 366 of 1000\n",
            "building tree 367 of 1000\n",
            "building tree 368 of 1000\n",
            "building tree 369 of 1000\n",
            "building tree 370 of 1000\n",
            "building tree 371 of 1000\n",
            "building tree 372 of 1000\n",
            "building tree 373 of 1000\n",
            "building tree 374 of 1000\n",
            "building tree 375 of 1000\n",
            "building tree 376 of 1000\n",
            "building tree 377 of 1000\n",
            "building tree 378 of 1000\n",
            "building tree 379 of 1000\n",
            "building tree 380 of 1000\n",
            "building tree 381 of 1000\n",
            "building tree 382 of 1000\n",
            "building tree 383 of 1000\n",
            "building tree 384 of 1000\n",
            "building tree 385 of 1000\n",
            "building tree 386 of 1000\n",
            "building tree 387 of 1000\n",
            "building tree 388 of 1000\n",
            "building tree 389 of 1000\n",
            "building tree 390 of 1000\n",
            "building tree 391 of 1000\n",
            "building tree 392 of 1000\n",
            "building tree 393 of 1000\n",
            "building tree 394 of 1000\n",
            "building tree 395 of 1000\n",
            "building tree 396 of 1000\n",
            "building tree 397 of 1000\n",
            "building tree 398 of 1000\n",
            "building tree 399 of 1000\n",
            "building tree 400 of 1000\n",
            "building tree 401 of 1000\n",
            "building tree 402 of 1000\n",
            "building tree 403 of 1000\n",
            "building tree 404 of 1000\n",
            "building tree 405 of 1000\n",
            "building tree 406 of 1000\n",
            "building tree 407 of 1000\n",
            "building tree 408 of 1000\n",
            "building tree 409 of 1000\n",
            "building tree 410 of 1000\n",
            "building tree 411 of 1000\n",
            "building tree 412 of 1000\n",
            "building tree 413 of 1000\n",
            "building tree 414 of 1000\n",
            "building tree 415 of 1000\n",
            "building tree 416 of 1000\n",
            "building tree 417 of 1000\n",
            "building tree 418 of 1000\n",
            "building tree 419 of 1000\n",
            "building tree 420 of 1000\n",
            "building tree 421 of 1000\n",
            "building tree 422 of 1000\n",
            "building tree 423 of 1000\n",
            "building tree 424 of 1000\n",
            "building tree 425 of 1000\n",
            "building tree 426 of 1000\n",
            "building tree 427 of 1000\n",
            "building tree 428 of 1000\n",
            "building tree 429 of 1000\n",
            "building tree 430 of 1000\n",
            "building tree 431 of 1000\n",
            "building tree 432 of 1000\n",
            "building tree 433 of 1000\n",
            "building tree 434 of 1000\n",
            "building tree 435 of 1000\n",
            "building tree 436 of 1000\n",
            "building tree 437 of 1000\n",
            "building tree 438 of 1000\n",
            "building tree 439 of 1000\n",
            "building tree 440 of 1000\n",
            "building tree 441 of 1000\n",
            "building tree 442 of 1000\n",
            "building tree 443 of 1000\n",
            "building tree 444 of 1000\n",
            "building tree 445 of 1000\n",
            "building tree 446 of 1000\n",
            "building tree 447 of 1000\n"
          ]
        },
        {
          "name": "stderr",
          "output_type": "stream",
          "text": [
            "[Parallel(n_jobs=-1)]: Done 446 tasks      | elapsed:  4.7min\n"
          ]
        },
        {
          "name": "stdout",
          "output_type": "stream",
          "text": [
            "building tree 448 of 1000\n",
            "building tree 449 of 1000\n",
            "building tree 450 of 1000\n",
            "building tree 451 of 1000\n",
            "building tree 452 of 1000\n",
            "building tree 453 of 1000\n",
            "building tree 454 of 1000\n",
            "building tree 455 of 1000\n",
            "building tree 456 of 1000\n",
            "building tree 457 of 1000\n",
            "building tree 458 of 1000\n",
            "building tree 459 of 1000\n",
            "building tree 460 of 1000\n",
            "building tree 461 of 1000\n",
            "building tree 462 of 1000\n",
            "building tree 463 of 1000\n",
            "building tree 464 of 1000\n",
            "building tree 465 of 1000\n",
            "building tree 466 of 1000\n",
            "building tree 467 of 1000\n",
            "building tree 468 of 1000\n",
            "building tree 469 of 1000\n",
            "building tree 470 of 1000\n",
            "building tree 471 of 1000\n",
            "building tree 472 of 1000\n",
            "building tree 473 of 1000\n",
            "building tree 474 of 1000\n",
            "building tree 475 of 1000\n",
            "building tree 476 of 1000\n",
            "building tree 477 of 1000\n",
            "building tree 478 of 1000\n",
            "building tree 479 of 1000\n",
            "building tree 480 of 1000\n",
            "building tree 481 of 1000\n",
            "building tree 482 of 1000\n",
            "building tree 483 of 1000\n",
            "building tree 484 of 1000\n",
            "building tree 485 of 1000\n",
            "building tree 486 of 1000\n",
            "building tree 487 of 1000\n",
            "building tree 488 of 1000\n",
            "building tree 489 of 1000\n",
            "building tree 490 of 1000\n",
            "building tree 491 of 1000\n",
            "building tree 492 of 1000\n",
            "building tree 493 of 1000\n",
            "building tree 494 of 1000\n",
            "building tree 495 of 1000\n",
            "building tree 496 of 1000\n",
            "building tree 497 of 1000\n",
            "building tree 498 of 1000\n",
            "building tree 499 of 1000\n",
            "building tree 500 of 1000\n",
            "building tree 501 of 1000\n",
            "building tree 502 of 1000\n",
            "building tree 503 of 1000\n",
            "building tree 504 of 1000\n",
            "building tree 505 of 1000\n",
            "building tree 506 of 1000\n",
            "building tree 507 of 1000\n",
            "building tree 508 of 1000\n",
            "building tree 509 of 1000\n",
            "building tree 510 of 1000\n",
            "building tree 511 of 1000\n",
            "building tree 512 of 1000\n",
            "building tree 513 of 1000\n",
            "building tree 514 of 1000\n",
            "building tree 515 of 1000\n",
            "building tree 516 of 1000\n",
            "building tree 517 of 1000\n",
            "building tree 518 of 1000\n",
            "building tree 519 of 1000\n",
            "building tree 520 of 1000\n",
            "building tree 521 of 1000\n",
            "building tree 522 of 1000\n",
            "building tree 523 of 1000\n",
            "building tree 524 of 1000\n",
            "building tree 525 of 1000\n",
            "building tree 526 of 1000\n",
            "building tree 527 of 1000\n",
            "building tree 528 of 1000\n",
            "building tree 529 of 1000\n",
            "building tree 530 of 1000\n",
            "building tree 531 of 1000\n",
            "building tree 532 of 1000\n",
            "building tree 533 of 1000\n",
            "building tree 534 of 1000\n",
            "building tree 535 of 1000\n",
            "building tree 536 of 1000\n",
            "building tree 537 of 1000\n",
            "building tree 538 of 1000\n",
            "building tree 539 of 1000\n",
            "building tree 540 of 1000\n",
            "building tree 541 of 1000\n",
            "building tree 542 of 1000\n",
            "building tree 543 of 1000\n",
            "building tree 544 of 1000\n",
            "building tree 545 of 1000\n",
            "building tree 546 of 1000\n",
            "building tree 547 of 1000\n",
            "building tree 548 of 1000\n",
            "building tree 549 of 1000\n",
            "building tree 550 of 1000\n",
            "building tree 551 of 1000\n",
            "building tree 552 of 1000\n",
            "building tree 553 of 1000\n",
            "building tree 554 of 1000\n",
            "building tree 555 of 1000\n",
            "building tree 556 of 1000\n",
            "building tree 557 of 1000\n",
            "building tree 558 of 1000\n",
            "building tree 559 of 1000\n",
            "building tree 560 of 1000\n",
            "building tree 561 of 1000\n",
            "building tree 562 of 1000\n",
            "building tree 563 of 1000\n",
            "building tree 564 of 1000\n",
            "building tree 565 of 1000\n",
            "building tree 566 of 1000\n",
            "building tree 567 of 1000\n",
            "building tree 568 of 1000\n",
            "building tree 569 of 1000\n",
            "building tree 570 of 1000\n",
            "building tree 571 of 1000\n",
            "building tree 572 of 1000\n",
            "building tree 573 of 1000\n",
            "building tree 574 of 1000\n",
            "building tree 575 of 1000\n",
            "building tree 576 of 1000\n",
            "building tree 577 of 1000\n",
            "building tree 578 of 1000\n",
            "building tree 579 of 1000\n",
            "building tree 580 of 1000\n",
            "building tree 581 of 1000\n",
            "building tree 582 of 1000\n",
            "building tree 583 of 1000\n",
            "building tree 584 of 1000\n",
            "building tree 585 of 1000\n",
            "building tree 586 of 1000\n",
            "building tree 587 of 1000\n",
            "building tree 588 of 1000\n",
            "building tree 589 of 1000\n",
            "building tree 590 of 1000\n",
            "building tree 591 of 1000\n",
            "building tree 592 of 1000\n",
            "building tree 593 of 1000\n",
            "building tree 594 of 1000\n",
            "building tree 595 of 1000\n",
            "building tree 596 of 1000\n",
            "building tree 597 of 1000\n",
            "building tree 598 of 1000\n",
            "building tree 599 of 1000\n",
            "building tree 600 of 1000\n",
            "building tree 601 of 1000\n",
            "building tree 602 of 1000\n",
            "building tree 603 of 1000\n",
            "building tree 604 of 1000\n",
            "building tree 605 of 1000\n",
            "building tree 606 of 1000\n",
            "building tree 607 of 1000\n",
            "building tree 608 of 1000\n",
            "building tree 609 of 1000\n",
            "building tree 610 of 1000\n",
            "building tree 611 of 1000\n",
            "building tree 612 of 1000\n",
            "building tree 613 of 1000\n",
            "building tree 614 of 1000\n",
            "building tree 615 of 1000\n",
            "building tree 616 of 1000\n",
            "building tree 617 of 1000\n",
            "building tree 618 of 1000\n",
            "building tree 619 of 1000\n",
            "building tree 620 of 1000\n",
            "building tree 621 of 1000\n",
            "building tree 622 of 1000\n",
            "building tree 623 of 1000\n",
            "building tree 624 of 1000\n",
            "building tree 625 of 1000\n",
            "building tree 626 of 1000\n",
            "building tree 627 of 1000\n",
            "building tree 628 of 1000\n",
            "building tree 629 of 1000\n",
            "building tree 630 of 1000\n",
            "building tree 631 of 1000\n",
            "building tree 632 of 1000\n",
            "building tree 633 of 1000\n",
            "building tree 634 of 1000\n",
            "building tree 635 of 1000\n",
            "building tree 636 of 1000\n",
            "building tree 637 of 1000\n",
            "building tree 638 of 1000\n",
            "building tree 639 of 1000\n",
            "building tree 640 of 1000\n",
            "building tree 641 of 1000\n",
            "building tree 642 of 1000\n",
            "building tree 643 of 1000\n",
            "building tree 644 of 1000\n",
            "building tree 645 of 1000\n"
          ]
        },
        {
          "name": "stderr",
          "output_type": "stream",
          "text": [
            "[Parallel(n_jobs=-1)]: Done 644 tasks      | elapsed:  6.8min\n"
          ]
        },
        {
          "name": "stdout",
          "output_type": "stream",
          "text": [
            "building tree 646 of 1000\n",
            "building tree 647 of 1000\n",
            "building tree 648 of 1000\n",
            "building tree 649 of 1000\n",
            "building tree 650 of 1000\n",
            "building tree 651 of 1000\n",
            "building tree 652 of 1000\n",
            "building tree 653 of 1000\n",
            "building tree 654 of 1000\n",
            "building tree 655 of 1000\n",
            "building tree 656 of 1000\n",
            "building tree 657 of 1000\n",
            "building tree 658 of 1000\n",
            "building tree 659 of 1000\n",
            "building tree 660 of 1000\n",
            "building tree 661 of 1000\n",
            "building tree 662 of 1000\n",
            "building tree 663 of 1000\n",
            "building tree 664 of 1000\n",
            "building tree 665 of 1000\n",
            "building tree 666 of 1000\n",
            "building tree 667 of 1000\n",
            "building tree 668 of 1000\n",
            "building tree 669 of 1000\n",
            "building tree 670 of 1000\n",
            "building tree 671 of 1000\n",
            "building tree 672 of 1000\n",
            "building tree 673 of 1000\n",
            "building tree 674 of 1000\n",
            "building tree 675 of 1000\n",
            "building tree 676 of 1000\n",
            "building tree 677 of 1000\n",
            "building tree 678 of 1000\n",
            "building tree 679 of 1000\n",
            "building tree 680 of 1000\n",
            "building tree 681 of 1000\n",
            "building tree 682 of 1000\n",
            "building tree 683 of 1000\n",
            "building tree 684 of 1000\n",
            "building tree 685 of 1000\n",
            "building tree 686 of 1000\n",
            "building tree 687 of 1000\n",
            "building tree 688 of 1000\n",
            "building tree 689 of 1000\n",
            "building tree 690 of 1000\n",
            "building tree 691 of 1000\n",
            "building tree 692 of 1000\n",
            "building tree 693 of 1000\n",
            "building tree 694 of 1000\n",
            "building tree 695 of 1000\n",
            "building tree 696 of 1000\n",
            "building tree 697 of 1000\n",
            "building tree 698 of 1000\n",
            "building tree 699 of 1000\n",
            "building tree 700 of 1000\n",
            "building tree 701 of 1000\n",
            "building tree 702 of 1000\n",
            "building tree 703 of 1000\n",
            "building tree 704 of 1000\n",
            "building tree 705 of 1000\n",
            "building tree 706 of 1000\n",
            "building tree 707 of 1000\n",
            "building tree 708 of 1000\n",
            "building tree 709 of 1000\n",
            "building tree 710 of 1000\n",
            "building tree 711 of 1000\n",
            "building tree 712 of 1000\n",
            "building tree 713 of 1000\n",
            "building tree 714 of 1000\n",
            "building tree 715 of 1000\n",
            "building tree 716 of 1000\n",
            "building tree 717 of 1000\n",
            "building tree 718 of 1000\n",
            "building tree 719 of 1000\n",
            "building tree 720 of 1000\n",
            "building tree 721 of 1000\n",
            "building tree 722 of 1000\n",
            "building tree 723 of 1000\n",
            "building tree 724 of 1000\n",
            "building tree 725 of 1000\n",
            "building tree 726 of 1000\n",
            "building tree 727 of 1000\n",
            "building tree 728 of 1000\n",
            "building tree 729 of 1000\n",
            "building tree 730 of 1000\n",
            "building tree 731 of 1000\n",
            "building tree 732 of 1000\n",
            "building tree 733 of 1000\n",
            "building tree 734 of 1000\n",
            "building tree 735 of 1000\n",
            "building tree 736 of 1000\n",
            "building tree 737 of 1000\n",
            "building tree 738 of 1000\n",
            "building tree 739 of 1000\n",
            "building tree 740 of 1000\n",
            "building tree 741 of 1000\n",
            "building tree 742 of 1000\n",
            "building tree 743 of 1000\n",
            "building tree 744 of 1000\n",
            "building tree 745 of 1000\n",
            "building tree 746 of 1000\n",
            "building tree 747 of 1000\n",
            "building tree 748 of 1000\n",
            "building tree 749 of 1000\n",
            "building tree 750 of 1000\n",
            "building tree 751 of 1000\n",
            "building tree 752 of 1000\n",
            "building tree 753 of 1000\n",
            "building tree 754 of 1000\n",
            "building tree 755 of 1000\n",
            "building tree 756 of 1000\n",
            "building tree 757 of 1000\n",
            "building tree 758 of 1000\n",
            "building tree 759 of 1000\n",
            "building tree 760 of 1000\n",
            "building tree 761 of 1000\n",
            "building tree 762 of 1000\n",
            "building tree 763 of 1000\n",
            "building tree 764 of 1000\n",
            "building tree 765 of 1000\n",
            "building tree 766 of 1000\n",
            "building tree 767 of 1000\n",
            "building tree 768 of 1000\n",
            "building tree 769 of 1000\n",
            "building tree 770 of 1000\n",
            "building tree 771 of 1000\n",
            "building tree 772 of 1000\n",
            "building tree 773 of 1000\n",
            "building tree 774 of 1000\n",
            "building tree 775 of 1000\n",
            "building tree 776 of 1000\n",
            "building tree 777 of 1000\n",
            "building tree 778 of 1000\n",
            "building tree 779 of 1000\n",
            "building tree 780 of 1000\n",
            "building tree 781 of 1000\n",
            "building tree 782 of 1000\n",
            "building tree 783 of 1000\n",
            "building tree 784 of 1000\n",
            "building tree 785 of 1000\n",
            "building tree 786 of 1000\n",
            "building tree 787 of 1000\n",
            "building tree 788 of 1000\n",
            "building tree 789 of 1000\n",
            "building tree 790 of 1000\n",
            "building tree 791 of 1000\n",
            "building tree 792 of 1000\n",
            "building tree 793 of 1000\n",
            "building tree 794 of 1000\n",
            "building tree 795 of 1000\n",
            "building tree 796 of 1000\n",
            "building tree 797 of 1000\n",
            "building tree 798 of 1000\n",
            "building tree 799 of 1000\n",
            "building tree 800 of 1000\n",
            "building tree 801 of 1000\n",
            "building tree 802 of 1000\n",
            "building tree 803 of 1000\n",
            "building tree 804 of 1000\n",
            "building tree 805 of 1000\n",
            "building tree 806 of 1000\n",
            "building tree 807 of 1000\n",
            "building tree 808 of 1000\n",
            "building tree 809 of 1000\n",
            "building tree 810 of 1000\n",
            "building tree 811 of 1000\n",
            "building tree 812 of 1000\n",
            "building tree 813 of 1000\n",
            "building tree 814 of 1000\n",
            "building tree 815 of 1000\n",
            "building tree 816 of 1000\n",
            "building tree 817 of 1000\n",
            "building tree 818 of 1000\n",
            "building tree 819 of 1000\n",
            "building tree 820 of 1000\n",
            "building tree 821 of 1000\n",
            "building tree 822 of 1000\n",
            "building tree 823 of 1000\n",
            "building tree 824 of 1000\n",
            "building tree 825 of 1000\n",
            "building tree 826 of 1000\n",
            "building tree 827 of 1000\n",
            "building tree 828 of 1000\n",
            "building tree 829 of 1000\n",
            "building tree 830 of 1000\n",
            "building tree 831 of 1000\n",
            "building tree 832 of 1000\n",
            "building tree 833 of 1000\n",
            "building tree 834 of 1000\n",
            "building tree 835 of 1000\n",
            "building tree 836 of 1000\n",
            "building tree 837 of 1000\n",
            "building tree 838 of 1000\n",
            "building tree 839 of 1000\n",
            "building tree 840 of 1000\n",
            "building tree 841 of 1000\n",
            "building tree 842 of 1000\n",
            "building tree 843 of 1000\n",
            "building tree 844 of 1000\n",
            "building tree 845 of 1000\n",
            "building tree 846 of 1000\n",
            "building tree 847 of 1000\n",
            "building tree 848 of 1000\n",
            "building tree 849 of 1000\n",
            "building tree 850 of 1000\n",
            "building tree 851 of 1000\n",
            "building tree 852 of 1000\n",
            "building tree 853 of 1000\n",
            "building tree 854 of 1000\n",
            "building tree 855 of 1000\n",
            "building tree 856 of 1000\n",
            "building tree 857 of 1000\n",
            "building tree 858 of 1000\n",
            "building tree 859 of 1000\n",
            "building tree 860 of 1000\n",
            "building tree 861 of 1000\n",
            "building tree 862 of 1000\n",
            "building tree 863 of 1000\n",
            "building tree 864 of 1000\n",
            "building tree 865 of 1000\n",
            "building tree 866 of 1000\n",
            "building tree 867 of 1000\n",
            "building tree 868 of 1000\n",
            "building tree 869 of 1000\n",
            "building tree 870 of 1000\n",
            "building tree 871 of 1000\n",
            "building tree 872 of 1000\n",
            "building tree 873 of 1000\n",
            "building tree 874 of 1000\n",
            "building tree 875 of 1000\n",
            "building tree 876 of 1000\n",
            "building tree 877 of 1000\n",
            "building tree 878 of 1000\n",
            "building tree 879 of 1000\n"
          ]
        },
        {
          "name": "stderr",
          "output_type": "stream",
          "text": [
            "[Parallel(n_jobs=-1)]: Done 878 tasks      | elapsed:  9.2min\n"
          ]
        },
        {
          "name": "stdout",
          "output_type": "stream",
          "text": [
            "building tree 880 of 1000\n",
            "building tree 881 of 1000\n",
            "building tree 882 of 1000\n",
            "building tree 883 of 1000\n",
            "building tree 884 of 1000\n",
            "building tree 885 of 1000\n",
            "building tree 886 of 1000\n",
            "building tree 887 of 1000\n",
            "building tree 888 of 1000\n",
            "building tree 889 of 1000\n",
            "building tree 890 of 1000\n",
            "building tree 891 of 1000\n",
            "building tree 892 of 1000\n",
            "building tree 893 of 1000\n",
            "building tree 894 of 1000\n",
            "building tree 895 of 1000\n",
            "building tree 896 of 1000\n",
            "building tree 897 of 1000\n",
            "building tree 898 of 1000\n",
            "building tree 899 of 1000\n",
            "building tree 900 of 1000\n",
            "building tree 901 of 1000\n",
            "building tree 902 of 1000\n",
            "building tree 903 of 1000\n",
            "building tree 904 of 1000\n",
            "building tree 905 of 1000\n",
            "building tree 906 of 1000\n",
            "building tree 907 of 1000\n",
            "building tree 908 of 1000\n",
            "building tree 909 of 1000\n",
            "building tree 910 of 1000\n",
            "building tree 911 of 1000\n",
            "building tree 912 of 1000\n",
            "building tree 913 of 1000\n",
            "building tree 914 of 1000\n",
            "building tree 915 of 1000\n",
            "building tree 916 of 1000\n",
            "building tree 917 of 1000\n",
            "building tree 918 of 1000\n",
            "building tree 919 of 1000\n",
            "building tree 920 of 1000\n",
            "building tree 921 of 1000\n",
            "building tree 922 of 1000\n",
            "building tree 923 of 1000\n",
            "building tree 924 of 1000\n",
            "building tree 925 of 1000\n",
            "building tree 926 of 1000\n",
            "building tree 927 of 1000\n",
            "building tree 928 of 1000\n",
            "building tree 929 of 1000\n",
            "building tree 930 of 1000\n",
            "building tree 931 of 1000\n",
            "building tree 932 of 1000\n",
            "building tree 933 of 1000\n",
            "building tree 934 of 1000\n",
            "building tree 935 of 1000\n",
            "building tree 936 of 1000\n",
            "building tree 937 of 1000\n",
            "building tree 938 of 1000\n",
            "building tree 939 of 1000\n",
            "building tree 940 of 1000\n",
            "building tree 941 of 1000\n",
            "building tree 942 of 1000\n",
            "building tree 943 of 1000\n",
            "building tree 944 of 1000\n",
            "building tree 945 of 1000\n",
            "building tree 946 of 1000\n",
            "building tree 947 of 1000\n",
            "building tree 948 of 1000\n",
            "building tree 949 of 1000\n",
            "building tree 950 of 1000\n",
            "building tree 951 of 1000\n",
            "building tree 952 of 1000\n",
            "building tree 953 of 1000\n",
            "building tree 954 of 1000\n",
            "building tree 955 of 1000\n",
            "building tree 956 of 1000\n",
            "building tree 957 of 1000\n",
            "building tree 958 of 1000\n",
            "building tree 959 of 1000\n",
            "building tree 960 of 1000\n",
            "building tree 961 of 1000\n",
            "building tree 962 of 1000\n",
            "building tree 963 of 1000\n",
            "building tree 964 of 1000\n",
            "building tree 965 of 1000\n",
            "building tree 966 of 1000\n",
            "building tree 967 of 1000\n",
            "building tree 968 of 1000\n",
            "building tree 969 of 1000\n",
            "building tree 970 of 1000\n",
            "building tree 971 of 1000\n",
            "building tree 972 of 1000\n",
            "building tree 973 of 1000\n",
            "building tree 974 of 1000\n",
            "building tree 975 of 1000\n",
            "building tree 976 of 1000\n",
            "building tree 977 of 1000\n",
            "building tree 978 of 1000\n",
            "building tree 979 of 1000\n",
            "building tree 980 of 1000\n",
            "building tree 981 of 1000\n",
            "building tree 982 of 1000\n",
            "building tree 983 of 1000\n",
            "building tree 984 of 1000\n",
            "building tree 985 of 1000\n",
            "building tree 986 of 1000\n",
            "building tree 987 of 1000\n",
            "building tree 988 of 1000\n",
            "building tree 989 of 1000\n",
            "building tree 990 of 1000\n",
            "building tree 991 of 1000\n",
            "building tree 992 of 1000\n",
            "building tree 993 of 1000\n",
            "building tree 994 of 1000\n",
            "building tree 995 of 1000\n",
            "building tree 996 of 1000\n",
            "building tree 997 of 1000\n",
            "building tree 998 of 1000\n",
            "building tree 999 of 1000\n",
            "building tree 1000 of 1000\n"
          ]
        },
        {
          "name": "stderr",
          "output_type": "stream",
          "text": [
            "[Parallel(n_jobs=-1)]: Done 1000 out of 1000 | elapsed: 10.5min finished\n"
          ]
        }
      ],
      "source": [
        "search_no = rnd_reg_2.fit(bow3, train.toxic)"
      ]
    },
    {
      "cell_type": "code",
      "execution_count": 72,
      "metadata": {
        "colab": {
          "base_uri": "https://localhost:8080/",
          "height": 204
        },
        "id": "Rv1kneGvWw8a",
        "outputId": "fca96c08-d5d1-4ae5-8eae-fc537bc30a66"
      },
      "outputs": [
        {
          "data": {
            "text/html": [
              "<div>\n",
              "<style scoped>\n",
              "    .dataframe tbody tr th:only-of-type {\n",
              "        vertical-align: middle;\n",
              "    }\n",
              "\n",
              "    .dataframe tbody tr th {\n",
              "        vertical-align: top;\n",
              "    }\n",
              "\n",
              "    .dataframe thead th {\n",
              "        text-align: right;\n",
              "    }\n",
              "</style>\n",
              "<table border=\"1\" class=\"dataframe\">\n",
              "  <thead>\n",
              "    <tr style=\"text-align: right;\">\n",
              "      <th></th>\n",
              "      <th>comment_id</th>\n",
              "      <th>comment</th>\n",
              "      <th>newcomment</th>\n",
              "    </tr>\n",
              "  </thead>\n",
              "  <tbody>\n",
              "    <tr>\n",
              "      <th>3598</th>\n",
              "      <td>3598</td>\n",
              "      <td>Я всё жду, когда эта херня закончится\\n</td>\n",
              "      <td>ждать херня закончиться</td>\n",
              "    </tr>\n",
              "    <tr>\n",
              "      <th>3599</th>\n",
              "      <td>3599</td>\n",
              "      <td>Откуда такой акцент на Москве? У нас между про...</td>\n",
              "      <td>откуда акцент москва прочить многонациональный...</td>\n",
              "    </tr>\n",
              "    <tr>\n",
              "      <th>3600</th>\n",
              "      <td>3600</td>\n",
              "      <td>Кого угодно, но не этих двух отбросов: свинью ...</td>\n",
              "      <td>угодный отброс свинья недоразвитый даун</td>\n",
              "    </tr>\n",
              "    <tr>\n",
              "      <th>3601</th>\n",
              "      <td>3601</td>\n",
              "      <td>А как же радиоуправляемые машинки в клубах?\\n</td>\n",
              "      <td>радиоуправляемый машинка клуб</td>\n",
              "    </tr>\n",
              "    <tr>\n",
              "      <th>3602</th>\n",
              "      <td>3602</td>\n",
              "      <td>Правильно. Кз 10 и версия драйверов 10.х без э...</td>\n",
              "      <td>правильно версия драйвер работать</td>\n",
              "    </tr>\n",
              "  </tbody>\n",
              "</table>\n",
              "</div>"
            ],
            "text/plain": [
              "      comment_id  ...                                         newcomment\n",
              "3598        3598  ...                            ждать херня закончиться\n",
              "3599        3599  ...  откуда акцент москва прочить многонациональный...\n",
              "3600        3600  ...            угодный отброс свинья недоразвитый даун\n",
              "3601        3601  ...                      радиоуправляемый машинка клуб\n",
              "3602        3602  ...                  правильно версия драйвер работать\n",
              "\n",
              "[5 rows x 3 columns]"
            ]
          },
          "execution_count": 72,
          "metadata": {},
          "output_type": "execute_result"
        }
      ],
      "source": [
        "bow_test_pred4 = test.copy()\n",
        "bow_test_pred4['newcomment'] = new_commentstest\n",
        "bow_test_pred4.tail()"
      ]
    },
    {
      "cell_type": "code",
      "execution_count": null,
      "metadata": {
        "id": "o7Hje-avWw8a"
      },
      "outputs": [],
      "source": []
    },
    {
      "cell_type": "code",
      "execution_count": 73,
      "metadata": {
        "colab": {
          "base_uri": "https://localhost:8080/",
          "height": 572
        },
        "id": "ur2tFSXHWw8b",
        "outputId": "c51b7f50-608e-4e4d-e450-8b51cfcb9209"
      },
      "outputs": [
        {
          "name": "stderr",
          "output_type": "stream",
          "text": [
            "[Parallel(n_jobs=2)]: Using backend ThreadingBackend with 2 concurrent workers.\n",
            "[Parallel(n_jobs=2)]: Done  14 tasks      | elapsed:    0.1s\n",
            "[Parallel(n_jobs=2)]: Done  68 tasks      | elapsed:    0.4s\n",
            "[Parallel(n_jobs=2)]: Done 158 tasks      | elapsed:    1.0s\n",
            "[Parallel(n_jobs=2)]: Done 284 tasks      | elapsed:    1.7s\n",
            "[Parallel(n_jobs=2)]: Done 446 tasks      | elapsed:    2.7s\n",
            "[Parallel(n_jobs=2)]: Done 644 tasks      | elapsed:    3.8s\n",
            "[Parallel(n_jobs=2)]: Done 878 tasks      | elapsed:    5.1s\n",
            "[Parallel(n_jobs=2)]: Done 1000 out of 1000 | elapsed:    5.8s finished\n"
          ]
        },
        {
          "data": {
            "text/html": [
              "<div>\n",
              "<style scoped>\n",
              "    .dataframe tbody tr th:only-of-type {\n",
              "        vertical-align: middle;\n",
              "    }\n",
              "\n",
              "    .dataframe tbody tr th {\n",
              "        vertical-align: top;\n",
              "    }\n",
              "\n",
              "    .dataframe thead th {\n",
              "        text-align: right;\n",
              "    }\n",
              "</style>\n",
              "<table border=\"1\" class=\"dataframe\">\n",
              "  <thead>\n",
              "    <tr style=\"text-align: right;\">\n",
              "      <th></th>\n",
              "      <th>comment_id</th>\n",
              "      <th>toxic</th>\n",
              "    </tr>\n",
              "  </thead>\n",
              "  <tbody>\n",
              "    <tr>\n",
              "      <th>0</th>\n",
              "      <td>0</td>\n",
              "      <td>0</td>\n",
              "    </tr>\n",
              "    <tr>\n",
              "      <th>1</th>\n",
              "      <td>1</td>\n",
              "      <td>0</td>\n",
              "    </tr>\n",
              "    <tr>\n",
              "      <th>2</th>\n",
              "      <td>2</td>\n",
              "      <td>0</td>\n",
              "    </tr>\n",
              "    <tr>\n",
              "      <th>3</th>\n",
              "      <td>3</td>\n",
              "      <td>0</td>\n",
              "    </tr>\n",
              "    <tr>\n",
              "      <th>4</th>\n",
              "      <td>4</td>\n",
              "      <td>0</td>\n",
              "    </tr>\n",
              "    <tr>\n",
              "      <th>...</th>\n",
              "      <td>...</td>\n",
              "      <td>...</td>\n",
              "    </tr>\n",
              "    <tr>\n",
              "      <th>3598</th>\n",
              "      <td>3598</td>\n",
              "      <td>1</td>\n",
              "    </tr>\n",
              "    <tr>\n",
              "      <th>3599</th>\n",
              "      <td>3599</td>\n",
              "      <td>0</td>\n",
              "    </tr>\n",
              "    <tr>\n",
              "      <th>3600</th>\n",
              "      <td>3600</td>\n",
              "      <td>1</td>\n",
              "    </tr>\n",
              "    <tr>\n",
              "      <th>3601</th>\n",
              "      <td>3601</td>\n",
              "      <td>0</td>\n",
              "    </tr>\n",
              "    <tr>\n",
              "      <th>3602</th>\n",
              "      <td>3602</td>\n",
              "      <td>0</td>\n",
              "    </tr>\n",
              "  </tbody>\n",
              "</table>\n",
              "<p>3603 rows × 2 columns</p>\n",
              "</div>"
            ],
            "text/plain": [
              "      comment_id  toxic\n",
              "0              0      0\n",
              "1              1      0\n",
              "2              2      0\n",
              "3              3      0\n",
              "4              4      0\n",
              "...          ...    ...\n",
              "3598        3598      1\n",
              "3599        3599      0\n",
              "3600        3600      1\n",
              "3601        3601      0\n",
              "3602        3602      0\n",
              "\n",
              "[3603 rows x 2 columns]"
            ]
          },
          "execution_count": 73,
          "metadata": {},
          "output_type": "execute_result"
        }
      ],
      "source": [
        "bow_test_pred4['toxic'] = search_no.predict(vec3.transform(bow_test_pred4.newcomment))\n",
        "bow_test_pred4['toxic'] = bow_test_pred4['toxic'].astype(int)\n",
        "bow_test_pred4.drop('comment', axis=1, inplace=True)\n",
        "bow_test_pred4.drop('newcomment', axis=1, inplace=True)\n",
        "\n",
        "bow_test_pred4"
      ]
    },
    {
      "cell_type": "code",
      "execution_count": 74,
      "metadata": {
        "colab": {
          "base_uri": "https://localhost:8080/"
        },
        "id": "HtCLREiRW723",
        "outputId": "78357d4b-2e08-4ea5-c4e8-68e0d8b9e60d"
      },
      "outputs": [
        {
          "data": {
            "text/plain": [
              "array([[2448,  383],\n",
              "       [  18,  754]])"
            ]
          },
          "execution_count": 74,
          "metadata": {},
          "output_type": "execute_result"
        }
      ],
      "source": [
        "confusion_matrix(bow_test_pred4.toxic, bow_test_pred3.toxic)"
      ]
    },
    {
      "cell_type": "code",
      "execution_count": 76,
      "metadata": {
        "id": "zd4rSZDMXJFZ"
      },
      "outputs": [],
      "source": [
        "bow_test_pred4.to_csv('bow_v4.csv', index=False)"
      ]
    },
    {
      "cell_type": "code",
      "execution_count": 77,
      "metadata": {
        "colab": {
          "base_uri": "https://localhost:8080/"
        },
        "id": "N35AlsCcXJFZ",
        "outputId": "e678f2ad-97a2-4f6c-e4e4-60faf59c6e10"
      },
      "outputs": [
        {
          "name": "stdout",
          "output_type": "stream",
          "text": [
            "Warning: Looks like you're using an outdated API Version, please consider updating (server 1.5.12 / client 1.5.4)\n",
            "100% 23.6k/23.6k [00:04<00:00, 5.15kB/s]\n",
            "Successfully submitted to Toxic comments classification"
          ]
        }
      ],
      "source": [
        "!kaggle competitions submit -c toxic-comments-classification-apdl-2021 -f bow_v4.csv -m \"kirill_setdekov bow4 with preprocessing and RF\""
      ]
    },
    {
      "cell_type": "code",
      "execution_count": null,
      "metadata": {
        "id": "DI72fUtmXQZf"
      },
      "outputs": [],
      "source": []
    }
  ],
  "metadata": {
    "accelerator": "GPU",
    "colab": {
      "include_colab_link": true,
      "name": "solution.ipynb",
      "provenance": []
    },
    "interpreter": {
      "hash": "102ece9fb22a5dbc66cd17e6acdf387ff87bc94873c1952b7c22cf1bcacef674"
    },
    "kernelspec": {
      "display_name": "Python 3.8.10 64-bit ('base': conda)",
      "name": "python3"
    },
    "language_info": {
      "codemirror_mode": {
        "name": "ipython",
        "version": 3
      },
      "file_extension": ".py",
      "mimetype": "text/x-python",
      "name": "python",
      "nbconvert_exporter": "python",
      "pygments_lexer": "ipython3",
      "version": "3.8.10"
    },
    "orig_nbformat": 4,
    "widgets": {
      "application/vnd.jupyter.widget-state+json": {
        "0ac35da9dd22436a9d301bc8bded99ad": {
          "model_module": "@jupyter-widgets/controls",
          "model_module_version": "1.5.0",
          "model_name": "HBoxModel",
          "state": {
            "_dom_classes": [],
            "_model_module": "@jupyter-widgets/controls",
            "_model_module_version": "1.5.0",
            "_model_name": "HBoxModel",
            "_view_count": null,
            "_view_module": "@jupyter-widgets/controls",
            "_view_module_version": "1.5.0",
            "_view_name": "HBoxView",
            "box_style": "",
            "children": [
              "IPY_MODEL_c2d079824d1f44be9a51d308b87050c5",
              "IPY_MODEL_d9046d333a3b4311a483747f9ee4612f",
              "IPY_MODEL_e72170c649964956ba73b1aaec818535"
            ],
            "layout": "IPY_MODEL_b896c65f3b7847a495c5a835aa11349d"
          }
        },
        "1127d847e7f54d6ab79e8c657201cf69": {
          "model_module": "@jupyter-widgets/controls",
          "model_module_version": "1.5.0",
          "model_name": "DescriptionStyleModel",
          "state": {
            "_model_module": "@jupyter-widgets/controls",
            "_model_module_version": "1.5.0",
            "_model_name": "DescriptionStyleModel",
            "_view_count": null,
            "_view_module": "@jupyter-widgets/base",
            "_view_module_version": "1.2.0",
            "_view_name": "StyleView",
            "description_width": ""
          }
        },
        "298c9e0a0fd7491f85c0bfef49f4458b": {
          "model_module": "@jupyter-widgets/controls",
          "model_module_version": "1.5.0",
          "model_name": "ProgressStyleModel",
          "state": {
            "_model_module": "@jupyter-widgets/controls",
            "_model_module_version": "1.5.0",
            "_model_name": "ProgressStyleModel",
            "_view_count": null,
            "_view_module": "@jupyter-widgets/base",
            "_view_module_version": "1.2.0",
            "_view_name": "StyleView",
            "bar_color": null,
            "description_width": ""
          }
        },
        "2f90f1c5f435442eb184c305177c04e9": {
          "model_module": "@jupyter-widgets/controls",
          "model_module_version": "1.5.0",
          "model_name": "ProgressStyleModel",
          "state": {
            "_model_module": "@jupyter-widgets/controls",
            "_model_module_version": "1.5.0",
            "_model_name": "ProgressStyleModel",
            "_view_count": null,
            "_view_module": "@jupyter-widgets/base",
            "_view_module_version": "1.2.0",
            "_view_name": "StyleView",
            "bar_color": null,
            "description_width": ""
          }
        },
        "421091216cbd40de9fb06db126b1b223": {
          "model_module": "@jupyter-widgets/controls",
          "model_module_version": "1.5.0",
          "model_name": "DescriptionStyleModel",
          "state": {
            "_model_module": "@jupyter-widgets/controls",
            "_model_module_version": "1.5.0",
            "_model_name": "DescriptionStyleModel",
            "_view_count": null,
            "_view_module": "@jupyter-widgets/base",
            "_view_module_version": "1.2.0",
            "_view_name": "StyleView",
            "description_width": ""
          }
        },
        "496d631a45b8489783e5b899ebee8233": {
          "model_module": "@jupyter-widgets/base",
          "model_module_version": "1.2.0",
          "model_name": "LayoutModel",
          "state": {
            "_model_module": "@jupyter-widgets/base",
            "_model_module_version": "1.2.0",
            "_model_name": "LayoutModel",
            "_view_count": null,
            "_view_module": "@jupyter-widgets/base",
            "_view_module_version": "1.2.0",
            "_view_name": "LayoutView",
            "align_content": null,
            "align_items": null,
            "align_self": null,
            "border": null,
            "bottom": null,
            "display": null,
            "flex": null,
            "flex_flow": null,
            "grid_area": null,
            "grid_auto_columns": null,
            "grid_auto_flow": null,
            "grid_auto_rows": null,
            "grid_column": null,
            "grid_gap": null,
            "grid_row": null,
            "grid_template_areas": null,
            "grid_template_columns": null,
            "grid_template_rows": null,
            "height": null,
            "justify_content": null,
            "justify_items": null,
            "left": null,
            "margin": null,
            "max_height": null,
            "max_width": null,
            "min_height": null,
            "min_width": null,
            "object_fit": null,
            "object_position": null,
            "order": null,
            "overflow": null,
            "overflow_x": null,
            "overflow_y": null,
            "padding": null,
            "right": null,
            "top": null,
            "visibility": null,
            "width": null
          }
        },
        "5c68ef99b15a4452b7c13e146652f4a1": {
          "model_module": "@jupyter-widgets/controls",
          "model_module_version": "1.5.0",
          "model_name": "DescriptionStyleModel",
          "state": {
            "_model_module": "@jupyter-widgets/controls",
            "_model_module_version": "1.5.0",
            "_model_name": "DescriptionStyleModel",
            "_view_count": null,
            "_view_module": "@jupyter-widgets/base",
            "_view_module_version": "1.2.0",
            "_view_name": "StyleView",
            "description_width": ""
          }
        },
        "6b016d8b10a247bfa2e103f7d13b59f9": {
          "model_module": "@jupyter-widgets/base",
          "model_module_version": "1.2.0",
          "model_name": "LayoutModel",
          "state": {
            "_model_module": "@jupyter-widgets/base",
            "_model_module_version": "1.2.0",
            "_model_name": "LayoutModel",
            "_view_count": null,
            "_view_module": "@jupyter-widgets/base",
            "_view_module_version": "1.2.0",
            "_view_name": "LayoutView",
            "align_content": null,
            "align_items": null,
            "align_self": null,
            "border": null,
            "bottom": null,
            "display": null,
            "flex": null,
            "flex_flow": null,
            "grid_area": null,
            "grid_auto_columns": null,
            "grid_auto_flow": null,
            "grid_auto_rows": null,
            "grid_column": null,
            "grid_gap": null,
            "grid_row": null,
            "grid_template_areas": null,
            "grid_template_columns": null,
            "grid_template_rows": null,
            "height": null,
            "justify_content": null,
            "justify_items": null,
            "left": null,
            "margin": null,
            "max_height": null,
            "max_width": null,
            "min_height": null,
            "min_width": null,
            "object_fit": null,
            "object_position": null,
            "order": null,
            "overflow": null,
            "overflow_x": null,
            "overflow_y": null,
            "padding": null,
            "right": null,
            "top": null,
            "visibility": null,
            "width": null
          }
        },
        "6f6015a461a4463abd0d5e7aa5e38cf4": {
          "model_module": "@jupyter-widgets/controls",
          "model_module_version": "1.5.0",
          "model_name": "HTMLModel",
          "state": {
            "_dom_classes": [],
            "_model_module": "@jupyter-widgets/controls",
            "_model_module_version": "1.5.0",
            "_model_name": "HTMLModel",
            "_view_count": null,
            "_view_module": "@jupyter-widgets/controls",
            "_view_module_version": "1.5.0",
            "_view_name": "HTMLView",
            "description": "",
            "description_tooltip": null,
            "layout": "IPY_MODEL_496d631a45b8489783e5b899ebee8233",
            "placeholder": "​",
            "style": "IPY_MODEL_1127d847e7f54d6ab79e8c657201cf69",
            "value": " 10809/10809 [00:56&lt;00:00, 189.08it/s]"
          }
        },
        "87cc6fa48ce44e0399db3ee14462944f": {
          "model_module": "@jupyter-widgets/controls",
          "model_module_version": "1.5.0",
          "model_name": "HTMLModel",
          "state": {
            "_dom_classes": [],
            "_model_module": "@jupyter-widgets/controls",
            "_model_module_version": "1.5.0",
            "_model_name": "HTMLModel",
            "_view_count": null,
            "_view_module": "@jupyter-widgets/controls",
            "_view_module_version": "1.5.0",
            "_view_name": "HTMLView",
            "description": "",
            "description_tooltip": null,
            "layout": "IPY_MODEL_c8b75cc5a0a949cfaee966b40831b637",
            "placeholder": "​",
            "style": "IPY_MODEL_5c68ef99b15a4452b7c13e146652f4a1",
            "value": "loop: 100%"
          }
        },
        "96d9acce6f40486fb9a55b90542382e7": {
          "model_module": "@jupyter-widgets/base",
          "model_module_version": "1.2.0",
          "model_name": "LayoutModel",
          "state": {
            "_model_module": "@jupyter-widgets/base",
            "_model_module_version": "1.2.0",
            "_model_name": "LayoutModel",
            "_view_count": null,
            "_view_module": "@jupyter-widgets/base",
            "_view_module_version": "1.2.0",
            "_view_name": "LayoutView",
            "align_content": null,
            "align_items": null,
            "align_self": null,
            "border": null,
            "bottom": null,
            "display": null,
            "flex": null,
            "flex_flow": null,
            "grid_area": null,
            "grid_auto_columns": null,
            "grid_auto_flow": null,
            "grid_auto_rows": null,
            "grid_column": null,
            "grid_gap": null,
            "grid_row": null,
            "grid_template_areas": null,
            "grid_template_columns": null,
            "grid_template_rows": null,
            "height": null,
            "justify_content": null,
            "justify_items": null,
            "left": null,
            "margin": null,
            "max_height": null,
            "max_width": null,
            "min_height": null,
            "min_width": null,
            "object_fit": null,
            "object_position": null,
            "order": null,
            "overflow": null,
            "overflow_x": null,
            "overflow_y": null,
            "padding": null,
            "right": null,
            "top": null,
            "visibility": null,
            "width": null
          }
        },
        "9a78c10031304a48a027e32dde64388b": {
          "model_module": "@jupyter-widgets/controls",
          "model_module_version": "1.5.0",
          "model_name": "HBoxModel",
          "state": {
            "_dom_classes": [],
            "_model_module": "@jupyter-widgets/controls",
            "_model_module_version": "1.5.0",
            "_model_name": "HBoxModel",
            "_view_count": null,
            "_view_module": "@jupyter-widgets/controls",
            "_view_module_version": "1.5.0",
            "_view_name": "HBoxView",
            "box_style": "",
            "children": [
              "IPY_MODEL_87cc6fa48ce44e0399db3ee14462944f",
              "IPY_MODEL_d1cedc715e834e88891961c4c955f0c8",
              "IPY_MODEL_6f6015a461a4463abd0d5e7aa5e38cf4"
            ],
            "layout": "IPY_MODEL_6b016d8b10a247bfa2e103f7d13b59f9"
          }
        },
        "b0674172464f4aa8abd710d0a2190759": {
          "model_module": "@jupyter-widgets/controls",
          "model_module_version": "1.5.0",
          "model_name": "DescriptionStyleModel",
          "state": {
            "_model_module": "@jupyter-widgets/controls",
            "_model_module_version": "1.5.0",
            "_model_name": "DescriptionStyleModel",
            "_view_count": null,
            "_view_module": "@jupyter-widgets/base",
            "_view_module_version": "1.2.0",
            "_view_name": "StyleView",
            "description_width": ""
          }
        },
        "b167a793a22e4ab0967f64f8e07ed3f3": {
          "model_module": "@jupyter-widgets/base",
          "model_module_version": "1.2.0",
          "model_name": "LayoutModel",
          "state": {
            "_model_module": "@jupyter-widgets/base",
            "_model_module_version": "1.2.0",
            "_model_name": "LayoutModel",
            "_view_count": null,
            "_view_module": "@jupyter-widgets/base",
            "_view_module_version": "1.2.0",
            "_view_name": "LayoutView",
            "align_content": null,
            "align_items": null,
            "align_self": null,
            "border": null,
            "bottom": null,
            "display": null,
            "flex": null,
            "flex_flow": null,
            "grid_area": null,
            "grid_auto_columns": null,
            "grid_auto_flow": null,
            "grid_auto_rows": null,
            "grid_column": null,
            "grid_gap": null,
            "grid_row": null,
            "grid_template_areas": null,
            "grid_template_columns": null,
            "grid_template_rows": null,
            "height": null,
            "justify_content": null,
            "justify_items": null,
            "left": null,
            "margin": null,
            "max_height": null,
            "max_width": null,
            "min_height": null,
            "min_width": null,
            "object_fit": null,
            "object_position": null,
            "order": null,
            "overflow": null,
            "overflow_x": null,
            "overflow_y": null,
            "padding": null,
            "right": null,
            "top": null,
            "visibility": null,
            "width": null
          }
        },
        "b896c65f3b7847a495c5a835aa11349d": {
          "model_module": "@jupyter-widgets/base",
          "model_module_version": "1.2.0",
          "model_name": "LayoutModel",
          "state": {
            "_model_module": "@jupyter-widgets/base",
            "_model_module_version": "1.2.0",
            "_model_name": "LayoutModel",
            "_view_count": null,
            "_view_module": "@jupyter-widgets/base",
            "_view_module_version": "1.2.0",
            "_view_name": "LayoutView",
            "align_content": null,
            "align_items": null,
            "align_self": null,
            "border": null,
            "bottom": null,
            "display": null,
            "flex": null,
            "flex_flow": null,
            "grid_area": null,
            "grid_auto_columns": null,
            "grid_auto_flow": null,
            "grid_auto_rows": null,
            "grid_column": null,
            "grid_gap": null,
            "grid_row": null,
            "grid_template_areas": null,
            "grid_template_columns": null,
            "grid_template_rows": null,
            "height": null,
            "justify_content": null,
            "justify_items": null,
            "left": null,
            "margin": null,
            "max_height": null,
            "max_width": null,
            "min_height": null,
            "min_width": null,
            "object_fit": null,
            "object_position": null,
            "order": null,
            "overflow": null,
            "overflow_x": null,
            "overflow_y": null,
            "padding": null,
            "right": null,
            "top": null,
            "visibility": null,
            "width": null
          }
        },
        "c18f4c05f1184fa193b51b54a997667d": {
          "model_module": "@jupyter-widgets/base",
          "model_module_version": "1.2.0",
          "model_name": "LayoutModel",
          "state": {
            "_model_module": "@jupyter-widgets/base",
            "_model_module_version": "1.2.0",
            "_model_name": "LayoutModel",
            "_view_count": null,
            "_view_module": "@jupyter-widgets/base",
            "_view_module_version": "1.2.0",
            "_view_name": "LayoutView",
            "align_content": null,
            "align_items": null,
            "align_self": null,
            "border": null,
            "bottom": null,
            "display": null,
            "flex": null,
            "flex_flow": null,
            "grid_area": null,
            "grid_auto_columns": null,
            "grid_auto_flow": null,
            "grid_auto_rows": null,
            "grid_column": null,
            "grid_gap": null,
            "grid_row": null,
            "grid_template_areas": null,
            "grid_template_columns": null,
            "grid_template_rows": null,
            "height": null,
            "justify_content": null,
            "justify_items": null,
            "left": null,
            "margin": null,
            "max_height": null,
            "max_width": null,
            "min_height": null,
            "min_width": null,
            "object_fit": null,
            "object_position": null,
            "order": null,
            "overflow": null,
            "overflow_x": null,
            "overflow_y": null,
            "padding": null,
            "right": null,
            "top": null,
            "visibility": null,
            "width": null
          }
        },
        "c2d079824d1f44be9a51d308b87050c5": {
          "model_module": "@jupyter-widgets/controls",
          "model_module_version": "1.5.0",
          "model_name": "HTMLModel",
          "state": {
            "_dom_classes": [],
            "_model_module": "@jupyter-widgets/controls",
            "_model_module_version": "1.5.0",
            "_model_name": "HTMLModel",
            "_view_count": null,
            "_view_module": "@jupyter-widgets/controls",
            "_view_module_version": "1.5.0",
            "_view_name": "HTMLView",
            "description": "",
            "description_tooltip": null,
            "layout": "IPY_MODEL_c18f4c05f1184fa193b51b54a997667d",
            "placeholder": "​",
            "style": "IPY_MODEL_421091216cbd40de9fb06db126b1b223",
            "value": "loop: 100%"
          }
        },
        "c8b75cc5a0a949cfaee966b40831b637": {
          "model_module": "@jupyter-widgets/base",
          "model_module_version": "1.2.0",
          "model_name": "LayoutModel",
          "state": {
            "_model_module": "@jupyter-widgets/base",
            "_model_module_version": "1.2.0",
            "_model_name": "LayoutModel",
            "_view_count": null,
            "_view_module": "@jupyter-widgets/base",
            "_view_module_version": "1.2.0",
            "_view_name": "LayoutView",
            "align_content": null,
            "align_items": null,
            "align_self": null,
            "border": null,
            "bottom": null,
            "display": null,
            "flex": null,
            "flex_flow": null,
            "grid_area": null,
            "grid_auto_columns": null,
            "grid_auto_flow": null,
            "grid_auto_rows": null,
            "grid_column": null,
            "grid_gap": null,
            "grid_row": null,
            "grid_template_areas": null,
            "grid_template_columns": null,
            "grid_template_rows": null,
            "height": null,
            "justify_content": null,
            "justify_items": null,
            "left": null,
            "margin": null,
            "max_height": null,
            "max_width": null,
            "min_height": null,
            "min_width": null,
            "object_fit": null,
            "object_position": null,
            "order": null,
            "overflow": null,
            "overflow_x": null,
            "overflow_y": null,
            "padding": null,
            "right": null,
            "top": null,
            "visibility": null,
            "width": null
          }
        },
        "d1cedc715e834e88891961c4c955f0c8": {
          "model_module": "@jupyter-widgets/controls",
          "model_module_version": "1.5.0",
          "model_name": "FloatProgressModel",
          "state": {
            "_dom_classes": [],
            "_model_module": "@jupyter-widgets/controls",
            "_model_module_version": "1.5.0",
            "_model_name": "FloatProgressModel",
            "_view_count": null,
            "_view_module": "@jupyter-widgets/controls",
            "_view_module_version": "1.5.0",
            "_view_name": "ProgressView",
            "bar_style": "success",
            "description": "",
            "description_tooltip": null,
            "layout": "IPY_MODEL_b167a793a22e4ab0967f64f8e07ed3f3",
            "max": 10809,
            "min": 0,
            "orientation": "horizontal",
            "style": "IPY_MODEL_298c9e0a0fd7491f85c0bfef49f4458b",
            "value": 10809
          }
        },
        "d9046d333a3b4311a483747f9ee4612f": {
          "model_module": "@jupyter-widgets/controls",
          "model_module_version": "1.5.0",
          "model_name": "FloatProgressModel",
          "state": {
            "_dom_classes": [],
            "_model_module": "@jupyter-widgets/controls",
            "_model_module_version": "1.5.0",
            "_model_name": "FloatProgressModel",
            "_view_count": null,
            "_view_module": "@jupyter-widgets/controls",
            "_view_module_version": "1.5.0",
            "_view_name": "ProgressView",
            "bar_style": "success",
            "description": "",
            "description_tooltip": null,
            "layout": "IPY_MODEL_eb4e93dee049435ab3dcaf60704a1045",
            "max": 3603,
            "min": 0,
            "orientation": "horizontal",
            "style": "IPY_MODEL_2f90f1c5f435442eb184c305177c04e9",
            "value": 3603
          }
        },
        "e72170c649964956ba73b1aaec818535": {
          "model_module": "@jupyter-widgets/controls",
          "model_module_version": "1.5.0",
          "model_name": "HTMLModel",
          "state": {
            "_dom_classes": [],
            "_model_module": "@jupyter-widgets/controls",
            "_model_module_version": "1.5.0",
            "_model_name": "HTMLModel",
            "_view_count": null,
            "_view_module": "@jupyter-widgets/controls",
            "_view_module_version": "1.5.0",
            "_view_name": "HTMLView",
            "description": "",
            "description_tooltip": null,
            "layout": "IPY_MODEL_96d9acce6f40486fb9a55b90542382e7",
            "placeholder": "​",
            "style": "IPY_MODEL_b0674172464f4aa8abd710d0a2190759",
            "value": " 3603/3603 [00:19&lt;00:00, 226.11it/s]"
          }
        },
        "eb4e93dee049435ab3dcaf60704a1045": {
          "model_module": "@jupyter-widgets/base",
          "model_module_version": "1.2.0",
          "model_name": "LayoutModel",
          "state": {
            "_model_module": "@jupyter-widgets/base",
            "_model_module_version": "1.2.0",
            "_model_name": "LayoutModel",
            "_view_count": null,
            "_view_module": "@jupyter-widgets/base",
            "_view_module_version": "1.2.0",
            "_view_name": "LayoutView",
            "align_content": null,
            "align_items": null,
            "align_self": null,
            "border": null,
            "bottom": null,
            "display": null,
            "flex": null,
            "flex_flow": null,
            "grid_area": null,
            "grid_auto_columns": null,
            "grid_auto_flow": null,
            "grid_auto_rows": null,
            "grid_column": null,
            "grid_gap": null,
            "grid_row": null,
            "grid_template_areas": null,
            "grid_template_columns": null,
            "grid_template_rows": null,
            "height": null,
            "justify_content": null,
            "justify_items": null,
            "left": null,
            "margin": null,
            "max_height": null,
            "max_width": null,
            "min_height": null,
            "min_width": null,
            "object_fit": null,
            "object_position": null,
            "order": null,
            "overflow": null,
            "overflow_x": null,
            "overflow_y": null,
            "padding": null,
            "right": null,
            "top": null,
            "visibility": null,
            "width": null
          }
        }
      }
    }
  },
  "nbformat": 4,
  "nbformat_minor": 0
}
