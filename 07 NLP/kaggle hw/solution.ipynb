{
  "nbformat": 4,
  "nbformat_minor": 0,
  "metadata": {
    "interpreter": {
      "hash": "102ece9fb22a5dbc66cd17e6acdf387ff87bc94873c1952b7c22cf1bcacef674"
    },
    "kernelspec": {
      "display_name": "Python 3.8.10 64-bit ('base': conda)",
      "name": "python3"
    },
    "language_info": {
      "codemirror_mode": {
        "name": "ipython",
        "version": 3
      },
      "file_extension": ".py",
      "mimetype": "text/x-python",
      "name": "python",
      "nbconvert_exporter": "python",
      "pygments_lexer": "ipython3",
      "version": "3.8.10"
    },
    "orig_nbformat": 4,
    "colab": {
      "name": "solution.ipynb",
      "provenance": [],
      "include_colab_link": true
    },
    "accelerator": "GPU"
  },
  "cells": [
    {
      "cell_type": "markdown",
      "metadata": {
        "id": "view-in-github",
        "colab_type": "text"
      },
      "source": [
        "<a href=\"https://colab.research.google.com/github/ksetdekov/HSE_DS/blob/master/07%20NLP/kaggle%20hw/solution.ipynb\" target=\"_parent\"><img src=\"https://colab.research.google.com/assets/colab-badge.svg\" alt=\"Open In Colab\"/></a>"
      ]
    },
    {
      "cell_type": "code",
      "metadata": {
        "id": "4B_zG0Tdjkae"
      },
      "source": [
        "# !pip3 install kaggle"
      ],
      "execution_count": 2,
      "outputs": []
    },
    {
      "cell_type": "code",
      "metadata": {
        "id": "DhAbLhmfkphV",
        "outputId": "04e10fe0-ae5e-4f77-ba03-f513446e632a",
        "colab": {
          "resources": {
            "http://localhost:8080/nbextensions/google.colab/files.js": {
              "data": "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",
              "ok": true,
              "headers": [
                [
                  "content-type",
                  "application/javascript"
                ]
              ],
              "status": 200,
              "status_text": ""
            }
          },
          "base_uri": "https://localhost:8080/",
          "height": 89
        }
      },
      "source": [
        "from google.colab import files\n",
        "files.upload()"
      ],
      "execution_count": 3,
      "outputs": [
        {
          "output_type": "display_data",
          "data": {
            "text/html": [
              "\n",
              "     <input type=\"file\" id=\"files-75c08188-6698-45d6-927a-9ee8d74b6893\" name=\"files[]\" multiple disabled\n",
              "        style=\"border:none\" />\n",
              "     <output id=\"result-75c08188-6698-45d6-927a-9ee8d74b6893\">\n",
              "      Upload widget is only available when the cell has been executed in the\n",
              "      current browser session. Please rerun this cell to enable.\n",
              "      </output>\n",
              "      <script src=\"/nbextensions/google.colab/files.js\"></script> "
            ],
            "text/plain": [
              "<IPython.core.display.HTML object>"
            ]
          },
          "metadata": {}
        },
        {
          "output_type": "stream",
          "name": "stdout",
          "text": [
            "Saving kaggle.json to kaggle.json\n"
          ]
        },
        {
          "output_type": "execute_result",
          "data": {
            "text/plain": [
              "{'kaggle.json': b'{\"username\":\"ksetdekov\",\"key\":\"8c4abff92599eb402d83c7a75a6e0341\"}'}"
            ]
          },
          "metadata": {},
          "execution_count": 3
        }
      ]
    },
    {
      "cell_type": "code",
      "metadata": {
        "id": "vUXpFnoyk1Fz"
      },
      "source": [
        "!mkdir ~/.kaggle\n",
        "!cp kaggle.json ~/.kaggle/\n",
        "!chmod 600 ~/.kaggle/kaggle.json\n"
      ],
      "execution_count": 4,
      "outputs": []
    },
    {
      "cell_type": "code",
      "metadata": {
        "id": "qrLiRxTRjkah",
        "outputId": "4baad499-6dbf-412c-b967-73e23386f240",
        "colab": {
          "base_uri": "https://localhost:8080/"
        }
      },
      "source": [
        "!kaggle competitions download -c toxic-comments-classification-apdl-2021"
      ],
      "execution_count": 5,
      "outputs": [
        {
          "output_type": "stream",
          "name": "stdout",
          "text": [
            "Warning: Looks like you're using an outdated API Version, please consider updating (server 1.5.12 / client 1.5.4)\n",
            "Downloading sample_submission.csv to /content\n",
            "  0% 0.00/23.6k [00:00<?, ?B/s]\n",
            "100% 23.6k/23.6k [00:00<00:00, 20.8MB/s]\n",
            "Downloading train_data.csv.zip to /content\n",
            "  0% 0.00/1.12M [00:00<?, ?B/s]\n",
            "100% 1.12M/1.12M [00:00<00:00, 76.0MB/s]\n",
            "Downloading test_data.csv.zip to /content\n",
            "  0% 0.00/402k [00:00<?, ?B/s]\n",
            "100% 402k/402k [00:00<00:00, 56.1MB/s]\n"
          ]
        }
      ]
    },
    {
      "cell_type": "code",
      "metadata": {
        "id": "c98010yFlrY1",
        "outputId": "206df4e8-314a-46c5-d59a-9ee00841867b",
        "colab": {
          "base_uri": "https://localhost:8080/"
        }
      },
      "source": [
        "!ls"
      ],
      "execution_count": 6,
      "outputs": [
        {
          "output_type": "stream",
          "name": "stdout",
          "text": [
            "kaggle.json  sample_submission.csv  train_data.csv.zip\n",
            "sample_data  test_data.csv.zip\n"
          ]
        }
      ]
    },
    {
      "cell_type": "code",
      "metadata": {
        "id": "qCzDt8ztjkai"
      },
      "source": [
        "import pandas as pd\n",
        "import numpy as np\n",
        "from sklearn.metrics import *\n",
        "from sklearn.model_selection import train_test_split\n",
        "from sklearn.pipeline import Pipeline"
      ],
      "execution_count": 7,
      "outputs": []
    },
    {
      "cell_type": "code",
      "metadata": {
        "id": "kq4MySLrjkai"
      },
      "source": [
        "train = pd.read_csv('train_data.csv.zip', compression='zip')\n",
        "test = pd.read_csv('test_data.csv.zip', compression='zip')"
      ],
      "execution_count": 8,
      "outputs": []
    },
    {
      "cell_type": "code",
      "metadata": {
        "id": "xfx1JW-djkaj",
        "outputId": "4ba9bb60-0bc8-4929-d057-11fa2c730650",
        "colab": {
          "base_uri": "https://localhost:8080/"
        }
      },
      "source": [
        "train.toxic.describe()"
      ],
      "execution_count": 9,
      "outputs": [
        {
          "output_type": "execute_result",
          "data": {
            "text/plain": [
              "count    10809.000000\n",
              "mean         0.333796\n",
              "std          0.471590\n",
              "min          0.000000\n",
              "25%          0.000000\n",
              "50%          0.000000\n",
              "75%          1.000000\n",
              "max          1.000000\n",
              "Name: toxic, dtype: float64"
            ]
          },
          "metadata": {},
          "execution_count": 9
        }
      ]
    },
    {
      "cell_type": "code",
      "metadata": {
        "id": "AEkJZgKjm2Wf",
        "outputId": "bdf900a4-ca2c-40ad-aeee-e496d193b2aa",
        "colab": {
          "base_uri": "https://localhost:8080/",
          "height": 204
        }
      },
      "source": [
        "train.sample(5)"
      ],
      "execution_count": 10,
      "outputs": [
        {
          "output_type": "execute_result",
          "data": {
            "text/html": [
              "<div>\n",
              "<style scoped>\n",
              "    .dataframe tbody tr th:only-of-type {\n",
              "        vertical-align: middle;\n",
              "    }\n",
              "\n",
              "    .dataframe tbody tr th {\n",
              "        vertical-align: top;\n",
              "    }\n",
              "\n",
              "    .dataframe thead th {\n",
              "        text-align: right;\n",
              "    }\n",
              "</style>\n",
              "<table border=\"1\" class=\"dataframe\">\n",
              "  <thead>\n",
              "    <tr style=\"text-align: right;\">\n",
              "      <th></th>\n",
              "      <th>comment</th>\n",
              "      <th>toxic</th>\n",
              "    </tr>\n",
              "  </thead>\n",
              "  <tbody>\n",
              "    <tr>\n",
              "      <th>7458</th>\n",
              "      <td>Куда ты там скрины кидаешь шизик?\\n</td>\n",
              "      <td>1.0</td>\n",
              "    </tr>\n",
              "    <tr>\n",
              "      <th>10808</th>\n",
              "      <td>Это не компенсация проезда к месту отдыха - он...</td>\n",
              "      <td>0.0</td>\n",
              "    </tr>\n",
              "    <tr>\n",
              "      <th>2578</th>\n",
              "      <td>Да, я использую VPN. В таком случае, у клиента...</td>\n",
              "      <td>0.0</td>\n",
              "    </tr>\n",
              "    <tr>\n",
              "      <th>2485</th>\n",
              "      <td>Ну вот главврач и старается уменьшить вероятно...</td>\n",
              "      <td>0.0</td>\n",
              "    </tr>\n",
              "    <tr>\n",
              "      <th>2032</th>\n",
              "      <td>Что-то размером с ВолгоБалт, может даже какая-...</td>\n",
              "      <td>0.0</td>\n",
              "    </tr>\n",
              "  </tbody>\n",
              "</table>\n",
              "</div>"
            ],
            "text/plain": [
              "                                                 comment  toxic\n",
              "7458                 Куда ты там скрины кидаешь шизик?\\n    1.0\n",
              "10808  Это не компенсация проезда к месту отдыха - он...    0.0\n",
              "2578   Да, я использую VPN. В таком случае, у клиента...    0.0\n",
              "2485   Ну вот главврач и старается уменьшить вероятно...    0.0\n",
              "2032   Что-то размером с ВолгоБалт, может даже какая-...    0.0"
            ]
          },
          "metadata": {},
          "execution_count": 10
        }
      ]
    },
    {
      "cell_type": "code",
      "metadata": {
        "id": "Dbp0sKHhjkaj",
        "outputId": "f397072a-ecc1-4d64-a8c2-bc0f80605592",
        "colab": {
          "base_uri": "https://localhost:8080/",
          "height": 204
        }
      },
      "source": [
        "test.sample(5)"
      ],
      "execution_count": 11,
      "outputs": [
        {
          "output_type": "execute_result",
          "data": {
            "text/html": [
              "<div>\n",
              "<style scoped>\n",
              "    .dataframe tbody tr th:only-of-type {\n",
              "        vertical-align: middle;\n",
              "    }\n",
              "\n",
              "    .dataframe tbody tr th {\n",
              "        vertical-align: top;\n",
              "    }\n",
              "\n",
              "    .dataframe thead th {\n",
              "        text-align: right;\n",
              "    }\n",
              "</style>\n",
              "<table border=\"1\" class=\"dataframe\">\n",
              "  <thead>\n",
              "    <tr style=\"text-align: right;\">\n",
              "      <th></th>\n",
              "      <th>comment_id</th>\n",
              "      <th>comment</th>\n",
              "    </tr>\n",
              "  </thead>\n",
              "  <tbody>\n",
              "    <tr>\n",
              "      <th>949</th>\n",
              "      <td>949</td>\n",
              "      <td>По цвету - красиво, но непонятно, что хотел ск...</td>\n",
              "    </tr>\n",
              "    <tr>\n",
              "      <th>3293</th>\n",
              "      <td>3293</td>\n",
              "      <td>оследние пару недель у него веселые стримы был...</td>\n",
              "    </tr>\n",
              "    <tr>\n",
              "      <th>3171</th>\n",
              "      <td>3171</td>\n",
              "      <td>Хохлы-объебосы порвались, лол\\n</td>\n",
              "    </tr>\n",
              "    <tr>\n",
              "      <th>3133</th>\n",
              "      <td>3133</td>\n",
              "      <td>В целом, согласен. Экономические и типа того (...</td>\n",
              "    </tr>\n",
              "    <tr>\n",
              "      <th>2671</th>\n",
              "      <td>2671</td>\n",
              "      <td>Эээ, не: Толян - порашный пацан.\\n</td>\n",
              "    </tr>\n",
              "  </tbody>\n",
              "</table>\n",
              "</div>"
            ],
            "text/plain": [
              "      comment_id                                            comment\n",
              "949          949  По цвету - красиво, но непонятно, что хотел ск...\n",
              "3293        3293  оследние пару недель у него веселые стримы был...\n",
              "3171        3171                    Хохлы-объебосы порвались, лол\\n\n",
              "3133        3133  В целом, согласен. Экономические и типа того (...\n",
              "2671        2671                 Эээ, не: Толян - порашный пацан.\\n"
            ]
          },
          "metadata": {},
          "execution_count": 11
        }
      ]
    },
    {
      "cell_type": "code",
      "metadata": {
        "id": "n9DExo2nmzKA"
      },
      "source": [
        "x_train, x_test, y_train, y_test = train_test_split(train.comment, train.toxic, random_state=0, stratify=train.toxic)"
      ],
      "execution_count": 12,
      "outputs": []
    },
    {
      "cell_type": "code",
      "metadata": {
        "id": "Zs8CvFqEnaBd",
        "outputId": "cc42404c-75ff-4ac7-cd92-241ec2885bff",
        "colab": {
          "base_uri": "https://localhost:8080/"
        }
      },
      "source": [
        "y_train.describe()"
      ],
      "execution_count": 13,
      "outputs": [
        {
          "output_type": "execute_result",
          "data": {
            "text/plain": [
              "count    8106.000000\n",
              "mean        0.333827\n",
              "std         0.471608\n",
              "min         0.000000\n",
              "25%         0.000000\n",
              "50%         0.000000\n",
              "75%         1.000000\n",
              "max         1.000000\n",
              "Name: toxic, dtype: float64"
            ]
          },
          "metadata": {},
          "execution_count": 13
        }
      ]
    },
    {
      "cell_type": "code",
      "metadata": {
        "id": "c5S812lrndy0",
        "outputId": "f20c94b0-b09f-40c7-dc5e-649c8068fa0c",
        "colab": {
          "base_uri": "https://localhost:8080/"
        }
      },
      "source": [
        "y_test.describe()"
      ],
      "execution_count": 14,
      "outputs": [
        {
          "output_type": "execute_result",
          "data": {
            "text/plain": [
              "count    2703.000000\n",
              "mean        0.333703\n",
              "std         0.471622\n",
              "min         0.000000\n",
              "25%         0.000000\n",
              "50%         0.000000\n",
              "75%         1.000000\n",
              "max         1.000000\n",
              "Name: toxic, dtype: float64"
            ]
          },
          "metadata": {},
          "execution_count": 14
        }
      ]
    },
    {
      "cell_type": "markdown",
      "metadata": {
        "id": "XKNumZxTjkak"
      },
      "source": [
        "## Bag of words\n"
      ]
    },
    {
      "cell_type": "code",
      "metadata": {
        "id": "M04I-krpjkam"
      },
      "source": [
        "from sklearn.linear_model import LogisticRegression \n",
        "from sklearn.feature_extraction.text import CountVectorizer\n",
        "from nltk import ngrams"
      ],
      "execution_count": 15,
      "outputs": []
    },
    {
      "cell_type": "code",
      "metadata": {
        "id": "a2jNvxwZmrBF"
      },
      "source": [
        "vec = CountVectorizer(ngram_range=(1, 2)) # строим BoW для слов\n",
        "bow = vec.fit_transform(x_train) "
      ],
      "execution_count": 16,
      "outputs": []
    },
    {
      "cell_type": "code",
      "metadata": {
        "id": "6FFn_QBaq7ie",
        "outputId": "72e35db7-5e35-4a3d-e26e-b4b3dae77b5b",
        "colab": {
          "base_uri": "https://localhost:8080/"
        }
      },
      "source": [
        "list(vec.vocabulary_.items())[:10]"
      ],
      "execution_count": 17,
      "outputs": [
        {
          "output_type": "execute_result",
          "data": {
            "text/plain": [
              "[('ну', 103517),\n",
              " ('один', 107149),\n",
              " ('из', 57664),\n",
              " ('взял', 19194),\n",
              " ('карту', 65379),\n",
              " ('воспользовался', 23097),\n",
              " ('уже', 182088),\n",
              " ('профит', 140715),\n",
              " ('девочке', 36530),\n",
              " ('все', 24531)]"
            ]
          },
          "metadata": {},
          "execution_count": 17
        }
      ]
    },
    {
      "cell_type": "code",
      "metadata": {
        "id": "VKIQ959irG2z",
        "outputId": "d6540370-c566-46fd-a8a8-2a16c3796707",
        "colab": {
          "base_uri": "https://localhost:8080/"
        }
      },
      "source": [
        "bow.mean()"
      ],
      "execution_count": 18,
      "outputs": [
        {
          "output_type": "execute_result",
          "data": {
            "text/plain": [
              "0.0002405542888719116"
            ]
          },
          "metadata": {},
          "execution_count": 18
        }
      ]
    },
    {
      "cell_type": "code",
      "metadata": {
        "id": "mllz7zPXq_pr",
        "outputId": "8b662361-9bfb-40b1-ac33-e678daa67357",
        "colab": {
          "base_uri": "https://localhost:8080/"
        }
      },
      "source": [
        "clf = LogisticRegression(random_state=0, max_iter=500, class_weight='balanced')\n",
        "clf.fit(bow, y_train)"
      ],
      "execution_count": 19,
      "outputs": [
        {
          "output_type": "execute_result",
          "data": {
            "text/plain": [
              "LogisticRegression(C=1.0, class_weight='balanced', dual=False,\n",
              "                   fit_intercept=True, intercept_scaling=1, l1_ratio=None,\n",
              "                   max_iter=500, multi_class='auto', n_jobs=None, penalty='l2',\n",
              "                   random_state=0, solver='lbfgs', tol=0.0001, verbose=0,\n",
              "                   warm_start=False)"
            ]
          },
          "metadata": {},
          "execution_count": 19
        }
      ]
    },
    {
      "cell_type": "code",
      "metadata": {
        "id": "E6xOKMPPsnp6",
        "outputId": "8848b9ef-9553-4cf7-f885-4be2a6d65247",
        "colab": {
          "base_uri": "https://localhost:8080/"
        }
      },
      "source": [
        "pred = clf.predict(vec.transform(x_test))\n",
        "print(classification_report(pred, y_test))"
      ],
      "execution_count": 20,
      "outputs": [
        {
          "output_type": "stream",
          "name": "stdout",
          "text": [
            "              precision    recall  f1-score   support\n",
            "\n",
            "         0.0       0.90      0.87      0.89      1858\n",
            "         1.0       0.74      0.79      0.76       845\n",
            "\n",
            "    accuracy                           0.85      2703\n",
            "   macro avg       0.82      0.83      0.82      2703\n",
            "weighted avg       0.85      0.85      0.85      2703\n",
            "\n"
          ]
        }
      ]
    },
    {
      "cell_type": "code",
      "metadata": {
        "id": "ATUa2kLGt5Om",
        "outputId": "5611f9bb-d1df-420e-9352-987239d27709",
        "colab": {
          "base_uri": "https://localhost:8080/",
          "height": 419
        }
      },
      "source": [
        "test"
      ],
      "execution_count": 21,
      "outputs": [
        {
          "output_type": "execute_result",
          "data": {
            "text/html": [
              "<div>\n",
              "<style scoped>\n",
              "    .dataframe tbody tr th:only-of-type {\n",
              "        vertical-align: middle;\n",
              "    }\n",
              "\n",
              "    .dataframe tbody tr th {\n",
              "        vertical-align: top;\n",
              "    }\n",
              "\n",
              "    .dataframe thead th {\n",
              "        text-align: right;\n",
              "    }\n",
              "</style>\n",
              "<table border=\"1\" class=\"dataframe\">\n",
              "  <thead>\n",
              "    <tr style=\"text-align: right;\">\n",
              "      <th></th>\n",
              "      <th>comment_id</th>\n",
              "      <th>comment</th>\n",
              "    </tr>\n",
              "  </thead>\n",
              "  <tbody>\n",
              "    <tr>\n",
              "      <th>0</th>\n",
              "      <td>0</td>\n",
              "      <td>В данном случае не пионервожатая, а техничка, ...</td>\n",
              "    </tr>\n",
              "    <tr>\n",
              "      <th>1</th>\n",
              "      <td>1</td>\n",
              "      <td>В данном посте рассматривается обычный ленточн...</td>\n",
              "    </tr>\n",
              "    <tr>\n",
              "      <th>2</th>\n",
              "      <td>2</td>\n",
              "      <td>Как я понимаю, у поверхностей отражаемость пог...</td>\n",
              "    </tr>\n",
              "    <tr>\n",
              "      <th>3</th>\n",
              "      <td>3</td>\n",
              "      <td>Австралийские пауки съедят все живое на планете))</td>\n",
              "    </tr>\n",
              "    <tr>\n",
              "      <th>4</th>\n",
              "      <td>4</td>\n",
              "      <td>У нас раньше Амур пиво целые бутылки принимал ...</td>\n",
              "    </tr>\n",
              "    <tr>\n",
              "      <th>...</th>\n",
              "      <td>...</td>\n",
              "      <td>...</td>\n",
              "    </tr>\n",
              "    <tr>\n",
              "      <th>3598</th>\n",
              "      <td>3598</td>\n",
              "      <td>Я всё жду, когда эта херня закончится\\n</td>\n",
              "    </tr>\n",
              "    <tr>\n",
              "      <th>3599</th>\n",
              "      <td>3599</td>\n",
              "      <td>Откуда такой акцент на Москве? У нас между про...</td>\n",
              "    </tr>\n",
              "    <tr>\n",
              "      <th>3600</th>\n",
              "      <td>3600</td>\n",
              "      <td>Кого угодно, но не этих двух отбросов: свинью ...</td>\n",
              "    </tr>\n",
              "    <tr>\n",
              "      <th>3601</th>\n",
              "      <td>3601</td>\n",
              "      <td>А как же радиоуправляемые машинки в клубах?\\n</td>\n",
              "    </tr>\n",
              "    <tr>\n",
              "      <th>3602</th>\n",
              "      <td>3602</td>\n",
              "      <td>Правильно. Кз 10 и версия драйверов 10.х без э...</td>\n",
              "    </tr>\n",
              "  </tbody>\n",
              "</table>\n",
              "<p>3603 rows × 2 columns</p>\n",
              "</div>"
            ],
            "text/plain": [
              "      comment_id                                            comment\n",
              "0              0  В данном случае не пионервожатая, а техничка, ...\n",
              "1              1  В данном посте рассматривается обычный ленточн...\n",
              "2              2  Как я понимаю, у поверхностей отражаемость пог...\n",
              "3              3  Австралийские пауки съедят все живое на планете))\n",
              "4              4  У нас раньше Амур пиво целые бутылки принимал ...\n",
              "...          ...                                                ...\n",
              "3598        3598            Я всё жду, когда эта херня закончится\\n\n",
              "3599        3599  Откуда такой акцент на Москве? У нас между про...\n",
              "3600        3600  Кого угодно, но не этих двух отбросов: свинью ...\n",
              "3601        3601      А как же радиоуправляемые машинки в клубах?\\n\n",
              "3602        3602  Правильно. Кз 10 и версия драйверов 10.х без э...\n",
              "\n",
              "[3603 rows x 2 columns]"
            ]
          },
          "metadata": {},
          "execution_count": 21
        }
      ]
    },
    {
      "cell_type": "code",
      "metadata": {
        "id": "K7PwhnB6vQXk",
        "outputId": "202cc0b1-0043-4b55-82e0-3b11c4bf0a9f",
        "colab": {
          "base_uri": "https://localhost:8080/",
          "height": 419
        }
      },
      "source": [
        "bow_test_pred = test.copy()\n",
        "bow_test_pred['toxic'] = clf.predict(vec.transform(test.comment))\n",
        "bow_test_pred['toxic'] = bow_test_pred['toxic'].astype(int)\n",
        "bow_test_pred.drop('comment', axis=1, inplace=True)\n",
        "bow_test_pred"
      ],
      "execution_count": 22,
      "outputs": [
        {
          "output_type": "execute_result",
          "data": {
            "text/html": [
              "<div>\n",
              "<style scoped>\n",
              "    .dataframe tbody tr th:only-of-type {\n",
              "        vertical-align: middle;\n",
              "    }\n",
              "\n",
              "    .dataframe tbody tr th {\n",
              "        vertical-align: top;\n",
              "    }\n",
              "\n",
              "    .dataframe thead th {\n",
              "        text-align: right;\n",
              "    }\n",
              "</style>\n",
              "<table border=\"1\" class=\"dataframe\">\n",
              "  <thead>\n",
              "    <tr style=\"text-align: right;\">\n",
              "      <th></th>\n",
              "      <th>comment_id</th>\n",
              "      <th>toxic</th>\n",
              "    </tr>\n",
              "  </thead>\n",
              "  <tbody>\n",
              "    <tr>\n",
              "      <th>0</th>\n",
              "      <td>0</td>\n",
              "      <td>0</td>\n",
              "    </tr>\n",
              "    <tr>\n",
              "      <th>1</th>\n",
              "      <td>1</td>\n",
              "      <td>0</td>\n",
              "    </tr>\n",
              "    <tr>\n",
              "      <th>2</th>\n",
              "      <td>2</td>\n",
              "      <td>0</td>\n",
              "    </tr>\n",
              "    <tr>\n",
              "      <th>3</th>\n",
              "      <td>3</td>\n",
              "      <td>0</td>\n",
              "    </tr>\n",
              "    <tr>\n",
              "      <th>4</th>\n",
              "      <td>4</td>\n",
              "      <td>0</td>\n",
              "    </tr>\n",
              "    <tr>\n",
              "      <th>...</th>\n",
              "      <td>...</td>\n",
              "      <td>...</td>\n",
              "    </tr>\n",
              "    <tr>\n",
              "      <th>3598</th>\n",
              "      <td>3598</td>\n",
              "      <td>1</td>\n",
              "    </tr>\n",
              "    <tr>\n",
              "      <th>3599</th>\n",
              "      <td>3599</td>\n",
              "      <td>0</td>\n",
              "    </tr>\n",
              "    <tr>\n",
              "      <th>3600</th>\n",
              "      <td>3600</td>\n",
              "      <td>1</td>\n",
              "    </tr>\n",
              "    <tr>\n",
              "      <th>3601</th>\n",
              "      <td>3601</td>\n",
              "      <td>0</td>\n",
              "    </tr>\n",
              "    <tr>\n",
              "      <th>3602</th>\n",
              "      <td>3602</td>\n",
              "      <td>0</td>\n",
              "    </tr>\n",
              "  </tbody>\n",
              "</table>\n",
              "<p>3603 rows × 2 columns</p>\n",
              "</div>"
            ],
            "text/plain": [
              "      comment_id  toxic\n",
              "0              0      0\n",
              "1              1      0\n",
              "2              2      0\n",
              "3              3      0\n",
              "4              4      0\n",
              "...          ...    ...\n",
              "3598        3598      1\n",
              "3599        3599      0\n",
              "3600        3600      1\n",
              "3601        3601      0\n",
              "3602        3602      0\n",
              "\n",
              "[3603 rows x 2 columns]"
            ]
          },
          "metadata": {},
          "execution_count": 22
        }
      ]
    },
    {
      "cell_type": "code",
      "metadata": {
        "id": "-kO1VdCBuD9Z"
      },
      "source": [
        "bow_test_pred.to_csv('bow_v1.csv', index=False)"
      ],
      "execution_count": 23,
      "outputs": []
    },
    {
      "cell_type": "code",
      "metadata": {
        "id": "uWViP2_mteGw"
      },
      "source": [
        "# !kaggle competitions submit -c toxic-comments-classification-apdl-2021 -f bow_v1.csv -m \"kirill_setdekov first bow v1 submission\""
      ],
      "execution_count": 24,
      "outputs": []
    },
    {
      "cell_type": "markdown",
      "metadata": {
        "id": "m1y4nUUSjkan"
      },
      "source": [
        "## TF-IDF\n"
      ]
    },
    {
      "cell_type": "code",
      "metadata": {
        "id": "PdHzMkkM1Mi0"
      },
      "source": [
        "from sklearn.feature_extraction.text import TfidfVectorizer"
      ],
      "execution_count": 25,
      "outputs": []
    },
    {
      "cell_type": "code",
      "metadata": {
        "id": "e4x_NgMR1Pk_",
        "outputId": "8471756b-b4d9-4ef1-f365-e310ad4586e1",
        "colab": {
          "base_uri": "https://localhost:8080/"
        }
      },
      "source": [
        "vec = TfidfVectorizer(ngram_range=(1, 1))\n",
        "bow = vec.fit_transform(x_train)\n",
        "clf2 = LogisticRegression(random_state=1, max_iter = 500)\n",
        "clf2.fit(bow, y_train)\n",
        "pred = clf2.predict(vec.transform(x_test))\n",
        "print(classification_report(pred, y_test))"
      ],
      "execution_count": 26,
      "outputs": [
        {
          "output_type": "stream",
          "name": "stdout",
          "text": [
            "              precision    recall  f1-score   support\n",
            "\n",
            "         0.0       0.97      0.79      0.87      2214\n",
            "         1.0       0.48      0.89      0.63       489\n",
            "\n",
            "    accuracy                           0.81      2703\n",
            "   macro avg       0.73      0.84      0.75      2703\n",
            "weighted avg       0.88      0.81      0.83      2703\n",
            "\n"
          ]
        }
      ]
    },
    {
      "cell_type": "code",
      "metadata": {
        "id": "YuwBtYk32llx",
        "outputId": "0cc1c94d-c665-4adf-99ca-3d9ed98437fd",
        "colab": {
          "base_uri": "https://localhost:8080/",
          "height": 419
        }
      },
      "source": [
        "tf_idf = test.copy()\n",
        "tf_idf['toxic'] = clf2.predict(vec.transform(test.comment))\n",
        "tf_idf['toxic'] = tf_idf['toxic'].astype(int)\n",
        "tf_idf.drop('comment', axis=1, inplace=True)\n",
        "tf_idf"
      ],
      "execution_count": 27,
      "outputs": [
        {
          "output_type": "execute_result",
          "data": {
            "text/html": [
              "<div>\n",
              "<style scoped>\n",
              "    .dataframe tbody tr th:only-of-type {\n",
              "        vertical-align: middle;\n",
              "    }\n",
              "\n",
              "    .dataframe tbody tr th {\n",
              "        vertical-align: top;\n",
              "    }\n",
              "\n",
              "    .dataframe thead th {\n",
              "        text-align: right;\n",
              "    }\n",
              "</style>\n",
              "<table border=\"1\" class=\"dataframe\">\n",
              "  <thead>\n",
              "    <tr style=\"text-align: right;\">\n",
              "      <th></th>\n",
              "      <th>comment_id</th>\n",
              "      <th>toxic</th>\n",
              "    </tr>\n",
              "  </thead>\n",
              "  <tbody>\n",
              "    <tr>\n",
              "      <th>0</th>\n",
              "      <td>0</td>\n",
              "      <td>0</td>\n",
              "    </tr>\n",
              "    <tr>\n",
              "      <th>1</th>\n",
              "      <td>1</td>\n",
              "      <td>0</td>\n",
              "    </tr>\n",
              "    <tr>\n",
              "      <th>2</th>\n",
              "      <td>2</td>\n",
              "      <td>0</td>\n",
              "    </tr>\n",
              "    <tr>\n",
              "      <th>3</th>\n",
              "      <td>3</td>\n",
              "      <td>0</td>\n",
              "    </tr>\n",
              "    <tr>\n",
              "      <th>4</th>\n",
              "      <td>4</td>\n",
              "      <td>0</td>\n",
              "    </tr>\n",
              "    <tr>\n",
              "      <th>...</th>\n",
              "      <td>...</td>\n",
              "      <td>...</td>\n",
              "    </tr>\n",
              "    <tr>\n",
              "      <th>3598</th>\n",
              "      <td>3598</td>\n",
              "      <td>1</td>\n",
              "    </tr>\n",
              "    <tr>\n",
              "      <th>3599</th>\n",
              "      <td>3599</td>\n",
              "      <td>0</td>\n",
              "    </tr>\n",
              "    <tr>\n",
              "      <th>3600</th>\n",
              "      <td>3600</td>\n",
              "      <td>0</td>\n",
              "    </tr>\n",
              "    <tr>\n",
              "      <th>3601</th>\n",
              "      <td>3601</td>\n",
              "      <td>0</td>\n",
              "    </tr>\n",
              "    <tr>\n",
              "      <th>3602</th>\n",
              "      <td>3602</td>\n",
              "      <td>0</td>\n",
              "    </tr>\n",
              "  </tbody>\n",
              "</table>\n",
              "<p>3603 rows × 2 columns</p>\n",
              "</div>"
            ],
            "text/plain": [
              "      comment_id  toxic\n",
              "0              0      0\n",
              "1              1      0\n",
              "2              2      0\n",
              "3              3      0\n",
              "4              4      0\n",
              "...          ...    ...\n",
              "3598        3598      1\n",
              "3599        3599      0\n",
              "3600        3600      0\n",
              "3601        3601      0\n",
              "3602        3602      0\n",
              "\n",
              "[3603 rows x 2 columns]"
            ]
          },
          "metadata": {},
          "execution_count": 27
        }
      ]
    },
    {
      "cell_type": "code",
      "metadata": {
        "id": "sBcxeIW13GKK"
      },
      "source": [
        "tf_idf.to_csv('tf_idf_v1.csv', index=False)"
      ],
      "execution_count": 28,
      "outputs": []
    },
    {
      "cell_type": "code",
      "metadata": {
        "id": "C75no4sx3KKE"
      },
      "source": [
        "# !kaggle competitions submit -c toxic-comments-classification-apdl-2021 -f tf_idf_v1.csv -m \"kirill_setdekov tfidf v1 submission\""
      ],
      "execution_count": 29,
      "outputs": []
    },
    {
      "cell_type": "markdown",
      "metadata": {
        "id": "vaijIZPyjkan"
      },
      "source": [
        "## Symbol n-Grams"
      ]
    },
    {
      "cell_type": "code",
      "metadata": {
        "id": "q6cKN_zfjkao"
      },
      "source": [
        "vec = CountVectorizer(analyzer='char', ngram_range=(1, 5))\n",
        "bowsimb = vec.fit_transform(x_train)\n"
      ],
      "execution_count": 30,
      "outputs": []
    },
    {
      "cell_type": "code",
      "metadata": {
        "id": "qAmd2_2O4IVn",
        "outputId": "b33d1998-7e90-407a-beb8-cf031c25410c",
        "colab": {
          "base_uri": "https://localhost:8080/"
        }
      },
      "source": [
        "from sklearn.preprocessing import MaxAbsScaler \n",
        "scaler = MaxAbsScaler()\n",
        "scaler.fit(bowsimb)"
      ],
      "execution_count": 31,
      "outputs": [
        {
          "output_type": "execute_result",
          "data": {
            "text/plain": [
              "MaxAbsScaler(copy=True)"
            ]
          },
          "metadata": {},
          "execution_count": 31
        }
      ]
    },
    {
      "cell_type": "code",
      "metadata": {
        "id": "OuJORF0g4reD"
      },
      "source": [
        "bowsimb = scaler.transform(bowsimb)"
      ],
      "execution_count": 32,
      "outputs": []
    },
    {
      "cell_type": "code",
      "metadata": {
        "id": "FHAfWKOs3481",
        "outputId": "13888f62-7be4-47c8-d9aa-31914dd071a2",
        "colab": {
          "base_uri": "https://localhost:8080/"
        }
      },
      "source": [
        "clf3 = LogisticRegression(random_state=0,  max_iter=1000)\n",
        "clf3.fit(bowsimb, y_train)\n",
        "pred = clf3.predict(scaler.transform(vec.transform(x_test)))\n",
        "print(classification_report(pred, y_test))"
      ],
      "execution_count": 33,
      "outputs": [
        {
          "output_type": "stream",
          "name": "stdout",
          "text": [
            "              precision    recall  f1-score   support\n",
            "\n",
            "         0.0       0.97      0.87      0.91      2000\n",
            "         1.0       0.71      0.91      0.80       703\n",
            "\n",
            "    accuracy                           0.88      2703\n",
            "   macro avg       0.84      0.89      0.86      2703\n",
            "weighted avg       0.90      0.88      0.88      2703\n",
            "\n"
          ]
        }
      ]
    },
    {
      "cell_type": "code",
      "metadata": {
        "id": "cHffE15J5R54",
        "outputId": "04def65f-439b-46a8-c30d-d3543694e4c1",
        "colab": {
          "base_uri": "https://localhost:8080/"
        }
      },
      "source": [
        "importances = list(zip(vec.vocabulary_, clf.coef_[0]))\n",
        "importances[0]"
      ],
      "execution_count": 34,
      "outputs": [
        {
          "output_type": "execute_result",
          "data": {
            "text/plain": [
              "('н', 0.6167060139647299)"
            ]
          },
          "metadata": {},
          "execution_count": 34
        }
      ]
    },
    {
      "cell_type": "code",
      "metadata": {
        "id": "3HZaS_8R55N4",
        "outputId": "dc633a1d-5e22-407f-fb4b-d574c04bd8ad",
        "colab": {
          "base_uri": "https://localhost:8080/"
        }
      },
      "source": [
        "sorted_importances = sorted(importances, key = lambda x: -abs(x[1]))\n",
        "sorted_importances[:20]"
      ],
      "execution_count": 35,
      "outputs": [
        {
          "output_type": "execute_result",
          "data": {
            "text/plain": [
              "[('з. чт', 2.4054134367150373),\n",
              " ('ы сол', 2.3919589599163023),\n",
              " ('ьерн', 2.2785810515459537),\n",
              " (' горш', -1.979976614624312),\n",
              " ('мотья', 1.7435157860781292),\n",
              " ('май, ', 1.7058523876067757),\n",
              " ('этой ', 1.6475416855681653),\n",
              " ('гора', 1.4710723026209482),\n",
              " ('совр', 1.4531765870631195),\n",
              " ('их ,', 1.4233307071907748),\n",
              " ('я не ', 1.3989481978199367),\n",
              " ('т да ', 1.3887901729354284),\n",
              " ('ьни м', 1.3499673463315913),\n",
              " ('т 8', 1.315935088940947),\n",
              " ('м у с', 1.312410067186944),\n",
              " ('нубу', 1.2604893126358026),\n",
              " ('тушин', -1.2165199192811813),\n",
              " ('оркут', -1.215621304958302),\n",
              " ('дура ', 1.2140363947432982),\n",
              " ('унта ', 1.2002130316125421)]"
            ]
          },
          "metadata": {},
          "execution_count": 35
        }
      ]
    },
    {
      "cell_type": "code",
      "metadata": {
        "id": "oBDmVseM58rm",
        "outputId": "110c92a2-86e1-4fce-b24f-7e4ae2c41e69",
        "colab": {
          "base_uri": "https://localhost:8080/",
          "height": 419
        }
      },
      "source": [
        "symbol_ngrams = test.copy()\n",
        "symbol_ngrams['toxic'] = clf3.predict(scaler.\n",
        "                                      transform(vec.transform(test.comment)))\n",
        "symbol_ngrams['toxic'] = tf_idf['toxic'].astype(int)\n",
        "symbol_ngrams.drop('comment', axis=1, inplace=True)\n",
        "symbol_ngrams"
      ],
      "execution_count": 36,
      "outputs": [
        {
          "output_type": "execute_result",
          "data": {
            "text/html": [
              "<div>\n",
              "<style scoped>\n",
              "    .dataframe tbody tr th:only-of-type {\n",
              "        vertical-align: middle;\n",
              "    }\n",
              "\n",
              "    .dataframe tbody tr th {\n",
              "        vertical-align: top;\n",
              "    }\n",
              "\n",
              "    .dataframe thead th {\n",
              "        text-align: right;\n",
              "    }\n",
              "</style>\n",
              "<table border=\"1\" class=\"dataframe\">\n",
              "  <thead>\n",
              "    <tr style=\"text-align: right;\">\n",
              "      <th></th>\n",
              "      <th>comment_id</th>\n",
              "      <th>toxic</th>\n",
              "    </tr>\n",
              "  </thead>\n",
              "  <tbody>\n",
              "    <tr>\n",
              "      <th>0</th>\n",
              "      <td>0</td>\n",
              "      <td>0</td>\n",
              "    </tr>\n",
              "    <tr>\n",
              "      <th>1</th>\n",
              "      <td>1</td>\n",
              "      <td>0</td>\n",
              "    </tr>\n",
              "    <tr>\n",
              "      <th>2</th>\n",
              "      <td>2</td>\n",
              "      <td>0</td>\n",
              "    </tr>\n",
              "    <tr>\n",
              "      <th>3</th>\n",
              "      <td>3</td>\n",
              "      <td>0</td>\n",
              "    </tr>\n",
              "    <tr>\n",
              "      <th>4</th>\n",
              "      <td>4</td>\n",
              "      <td>0</td>\n",
              "    </tr>\n",
              "    <tr>\n",
              "      <th>...</th>\n",
              "      <td>...</td>\n",
              "      <td>...</td>\n",
              "    </tr>\n",
              "    <tr>\n",
              "      <th>3598</th>\n",
              "      <td>3598</td>\n",
              "      <td>1</td>\n",
              "    </tr>\n",
              "    <tr>\n",
              "      <th>3599</th>\n",
              "      <td>3599</td>\n",
              "      <td>0</td>\n",
              "    </tr>\n",
              "    <tr>\n",
              "      <th>3600</th>\n",
              "      <td>3600</td>\n",
              "      <td>0</td>\n",
              "    </tr>\n",
              "    <tr>\n",
              "      <th>3601</th>\n",
              "      <td>3601</td>\n",
              "      <td>0</td>\n",
              "    </tr>\n",
              "    <tr>\n",
              "      <th>3602</th>\n",
              "      <td>3602</td>\n",
              "      <td>0</td>\n",
              "    </tr>\n",
              "  </tbody>\n",
              "</table>\n",
              "<p>3603 rows × 2 columns</p>\n",
              "</div>"
            ],
            "text/plain": [
              "      comment_id  toxic\n",
              "0              0      0\n",
              "1              1      0\n",
              "2              2      0\n",
              "3              3      0\n",
              "4              4      0\n",
              "...          ...    ...\n",
              "3598        3598      1\n",
              "3599        3599      0\n",
              "3600        3600      0\n",
              "3601        3601      0\n",
              "3602        3602      0\n",
              "\n",
              "[3603 rows x 2 columns]"
            ]
          },
          "metadata": {},
          "execution_count": 36
        }
      ]
    },
    {
      "cell_type": "code",
      "metadata": {
        "id": "Oo6nL9x2633P"
      },
      "source": [
        "symbol_ngrams.to_csv('symbol_ngrams_v1.csv', index=False)"
      ],
      "execution_count": 37,
      "outputs": []
    },
    {
      "cell_type": "code",
      "metadata": {
        "id": "zOx9bf8U7Y1F"
      },
      "source": [
        "from sklearn.metrics import confusion_matrix"
      ],
      "execution_count": 38,
      "outputs": []
    },
    {
      "cell_type": "code",
      "metadata": {
        "id": "40Bvhp5k7hWu",
        "outputId": "8c07cefa-7b8a-4cd2-f07d-8701213b1467",
        "colab": {
          "base_uri": "https://localhost:8080/"
        }
      },
      "source": [
        "confusion_matrix(symbol_ngrams.toxic, tf_idf.toxic)"
      ],
      "execution_count": 39,
      "outputs": [
        {
          "output_type": "execute_result",
          "data": {
            "text/plain": [
              "array([[2918,    0],\n",
              "       [   0,  685]])"
            ]
          },
          "metadata": {},
          "execution_count": 39
        }
      ]
    },
    {
      "cell_type": "code",
      "metadata": {
        "id": "hDlkt69k7Ees"
      },
      "source": [
        "# !kaggle competitions submit -c toxic-comments-classification-apdl-2021 -f symbol_ngrams_v1.csv -m \"kirill_setdekov symbol_ngrams_v1 v1 submission\""
      ],
      "execution_count": 40,
      "outputs": []
    },
    {
      "cell_type": "markdown",
      "metadata": {
        "id": "7jiGSSWq8la7"
      },
      "source": [
        "#FastText"
      ]
    },
    {
      "cell_type": "code",
      "metadata": {
        "id": "cgsfsfWM8n1E",
        "outputId": "2c251e2c-7bde-48a1-815b-54f1a29cfaaa",
        "colab": {
          "base_uri": "https://localhost:8080/"
        }
      },
      "source": [
        "!pip3 install fasttext\n",
        "import fasttext"
      ],
      "execution_count": 41,
      "outputs": [
        {
          "output_type": "stream",
          "name": "stdout",
          "text": [
            "Collecting fasttext\n",
            "  Downloading fasttext-0.9.2.tar.gz (68 kB)\n",
            "\u001b[?25l\r\u001b[K     |████▊                           | 10 kB 34.5 MB/s eta 0:00:01\r\u001b[K     |█████████▌                      | 20 kB 8.7 MB/s eta 0:00:01\r\u001b[K     |██████████████▎                 | 30 kB 7.9 MB/s eta 0:00:01\r\u001b[K     |███████████████████             | 40 kB 7.6 MB/s eta 0:00:01\r\u001b[K     |███████████████████████▉        | 51 kB 4.1 MB/s eta 0:00:01\r\u001b[K     |████████████████████████████▋   | 61 kB 4.3 MB/s eta 0:00:01\r\u001b[K     |████████████████████████████████| 68 kB 2.9 MB/s \n",
            "\u001b[?25hCollecting pybind11>=2.2\n",
            "  Using cached pybind11-2.8.0-py2.py3-none-any.whl (207 kB)\n",
            "Requirement already satisfied: setuptools>=0.7.0 in /usr/local/lib/python3.7/dist-packages (from fasttext) (57.4.0)\n",
            "Requirement already satisfied: numpy in /usr/local/lib/python3.7/dist-packages (from fasttext) (1.19.5)\n",
            "Building wheels for collected packages: fasttext\n",
            "  Building wheel for fasttext (setup.py) ... \u001b[?25l\u001b[?25hdone\n",
            "  Created wheel for fasttext: filename=fasttext-0.9.2-cp37-cp37m-linux_x86_64.whl size=3119042 sha256=374434ef7be700242ae71cae53500120da5af4bfcab359384f3cae2d294374c5\n",
            "  Stored in directory: /root/.cache/pip/wheels/4e/ca/bf/b020d2be95f7641801a6597a29c8f4f19e38f9c02a345bab9b\n",
            "Successfully built fasttext\n",
            "Installing collected packages: pybind11, fasttext\n",
            "Successfully installed fasttext-0.9.2 pybind11-2.8.0\n"
          ]
        }
      ]
    },
    {
      "cell_type": "code",
      "metadata": {
        "id": "e7Cz6ub783O3"
      },
      "source": [
        "with open('ft_train_data.txt', 'w') as f:\n",
        "    for pair in list(zip(x_train, y_train)):\n",
        "        text, label = pair\n",
        "        f.write(f'__label__{label} {text.lower()}\\n')\n",
        "        \n",
        "with open('ft_test_data.txt', 'w') as f:\n",
        "    for pair in list(zip(x_test, y_test)):\n",
        "        text, label = pair\n",
        "        f.write(f'__label__{label} {text.lower()}\\n')"
      ],
      "execution_count": 42,
      "outputs": []
    },
    {
      "cell_type": "code",
      "metadata": {
        "id": "upgT5oZ57JUH",
        "outputId": "acf8a6a8-4139-4519-b23c-37de81532a69",
        "colab": {
          "base_uri": "https://localhost:8080/"
        }
      },
      "source": [
        "classifier = fasttext.train_supervised('ft_train_data.txt')#, 'model')\n",
        "result = classifier.test('ft_test_data.txt')\n",
        "print('P@1:', result[1])#.precision)\n",
        "print('R@1:', result[2])#.recall)\n",
        "print('Number of examples:', result[0])#.nexamples)"
      ],
      "execution_count": 43,
      "outputs": [
        {
          "output_type": "stream",
          "name": "stdout",
          "text": [
            "P@1: 0.8146503884572697\n",
            "R@1: 0.8146503884572697\n",
            "Number of examples: 2703\n"
          ]
        }
      ]
    },
    {
      "cell_type": "code",
      "metadata": {
        "id": "ZBc2I1m89_4q"
      },
      "source": [
        "prediction = []\n",
        "for item in [i.lower() for i in test.comment]:\n",
        "   item = item.replace(\"\\n\",\" \")\n",
        "   prediction.append(classifier.predict(item)[0])"
      ],
      "execution_count": 44,
      "outputs": []
    },
    {
      "cell_type": "code",
      "metadata": {
        "id": "609xqV3L-kNq"
      },
      "source": [
        "pred = [int(label[0].split('__')[2][0]) for label in prediction]\n"
      ],
      "execution_count": 45,
      "outputs": []
    },
    {
      "cell_type": "code",
      "metadata": {
        "id": "OJb3hjST_LRS",
        "outputId": "197480ac-3bb5-4046-cb57-0afc8f2eaf34",
        "colab": {
          "base_uri": "https://localhost:8080/",
          "height": 419
        }
      },
      "source": [
        "fasttext_pred = test.copy()\n",
        "fasttext_pred['toxic'] = pred\n",
        "fasttext_pred.drop('comment', axis=1, inplace=True)\n",
        "fasttext_pred"
      ],
      "execution_count": 46,
      "outputs": [
        {
          "output_type": "execute_result",
          "data": {
            "text/html": [
              "<div>\n",
              "<style scoped>\n",
              "    .dataframe tbody tr th:only-of-type {\n",
              "        vertical-align: middle;\n",
              "    }\n",
              "\n",
              "    .dataframe tbody tr th {\n",
              "        vertical-align: top;\n",
              "    }\n",
              "\n",
              "    .dataframe thead th {\n",
              "        text-align: right;\n",
              "    }\n",
              "</style>\n",
              "<table border=\"1\" class=\"dataframe\">\n",
              "  <thead>\n",
              "    <tr style=\"text-align: right;\">\n",
              "      <th></th>\n",
              "      <th>comment_id</th>\n",
              "      <th>toxic</th>\n",
              "    </tr>\n",
              "  </thead>\n",
              "  <tbody>\n",
              "    <tr>\n",
              "      <th>0</th>\n",
              "      <td>0</td>\n",
              "      <td>0</td>\n",
              "    </tr>\n",
              "    <tr>\n",
              "      <th>1</th>\n",
              "      <td>1</td>\n",
              "      <td>0</td>\n",
              "    </tr>\n",
              "    <tr>\n",
              "      <th>2</th>\n",
              "      <td>2</td>\n",
              "      <td>0</td>\n",
              "    </tr>\n",
              "    <tr>\n",
              "      <th>3</th>\n",
              "      <td>3</td>\n",
              "      <td>0</td>\n",
              "    </tr>\n",
              "    <tr>\n",
              "      <th>4</th>\n",
              "      <td>4</td>\n",
              "      <td>0</td>\n",
              "    </tr>\n",
              "    <tr>\n",
              "      <th>...</th>\n",
              "      <td>...</td>\n",
              "      <td>...</td>\n",
              "    </tr>\n",
              "    <tr>\n",
              "      <th>3598</th>\n",
              "      <td>3598</td>\n",
              "      <td>1</td>\n",
              "    </tr>\n",
              "    <tr>\n",
              "      <th>3599</th>\n",
              "      <td>3599</td>\n",
              "      <td>0</td>\n",
              "    </tr>\n",
              "    <tr>\n",
              "      <th>3600</th>\n",
              "      <td>3600</td>\n",
              "      <td>1</td>\n",
              "    </tr>\n",
              "    <tr>\n",
              "      <th>3601</th>\n",
              "      <td>3601</td>\n",
              "      <td>0</td>\n",
              "    </tr>\n",
              "    <tr>\n",
              "      <th>3602</th>\n",
              "      <td>3602</td>\n",
              "      <td>0</td>\n",
              "    </tr>\n",
              "  </tbody>\n",
              "</table>\n",
              "<p>3603 rows × 2 columns</p>\n",
              "</div>"
            ],
            "text/plain": [
              "      comment_id  toxic\n",
              "0              0      0\n",
              "1              1      0\n",
              "2              2      0\n",
              "3              3      0\n",
              "4              4      0\n",
              "...          ...    ...\n",
              "3598        3598      1\n",
              "3599        3599      0\n",
              "3600        3600      1\n",
              "3601        3601      0\n",
              "3602        3602      0\n",
              "\n",
              "[3603 rows x 2 columns]"
            ]
          },
          "metadata": {},
          "execution_count": 46
        }
      ]
    },
    {
      "cell_type": "code",
      "metadata": {
        "id": "W_sCecrn_Nca",
        "outputId": "2d409ba5-50c8-4838-dc8d-9c9a714d2665",
        "colab": {
          "base_uri": "https://localhost:8080/"
        }
      },
      "source": [
        "confusion_matrix(symbol_ngrams.toxic, fasttext_pred.toxic)"
      ],
      "execution_count": 47,
      "outputs": [
        {
          "output_type": "execute_result",
          "data": {
            "text/plain": [
              "array([[2652,  266],\n",
              "       [  54,  631]])"
            ]
          },
          "metadata": {},
          "execution_count": 47
        }
      ]
    },
    {
      "cell_type": "code",
      "metadata": {
        "id": "TUuVFTii_lXK"
      },
      "source": [
        "fasttext_pred.to_csv('fasttext_pred_v1.csv', index=False)"
      ],
      "execution_count": 48,
      "outputs": []
    },
    {
      "cell_type": "code",
      "metadata": {
        "id": "an9QwGR1_qaM"
      },
      "source": [
        "# !kaggle competitions submit -c toxic-comments-classification-apdl-2021 -f fasttext_pred_v1.csv -m \"kirill_setdekov fasttext_pred v1 submission\""
      ],
      "execution_count": 49,
      "outputs": []
    },
    {
      "cell_type": "markdown",
      "metadata": {
        "id": "b4QfCrvSAzrj"
      },
      "source": [
        "## CNN"
      ]
    },
    {
      "cell_type": "code",
      "metadata": {
        "id": "fJSempuE_zEl"
      },
      "source": [
        "from torchtext.legacy import data"
      ],
      "execution_count": 212,
      "outputs": []
    },
    {
      "cell_type": "code",
      "metadata": {
        "id": "vFNAtJa4B2ed",
        "outputId": "cd2fd19a-8a14-4bc2-f38e-f99022b31e39",
        "colab": {
          "base_uri": "https://localhost:8080/",
          "height": 419
        }
      },
      "source": [
        "pd.read_csv('train_data.csv.zip', compression='zip')"
      ],
      "execution_count": 213,
      "outputs": [
        {
          "output_type": "execute_result",
          "data": {
            "text/html": [
              "<div>\n",
              "<style scoped>\n",
              "    .dataframe tbody tr th:only-of-type {\n",
              "        vertical-align: middle;\n",
              "    }\n",
              "\n",
              "    .dataframe tbody tr th {\n",
              "        vertical-align: top;\n",
              "    }\n",
              "\n",
              "    .dataframe thead th {\n",
              "        text-align: right;\n",
              "    }\n",
              "</style>\n",
              "<table border=\"1\" class=\"dataframe\">\n",
              "  <thead>\n",
              "    <tr style=\"text-align: right;\">\n",
              "      <th></th>\n",
              "      <th>comment</th>\n",
              "      <th>toxic</th>\n",
              "    </tr>\n",
              "  </thead>\n",
              "  <tbody>\n",
              "    <tr>\n",
              "      <th>0</th>\n",
              "      <td>Преступление и наказание\\n</td>\n",
              "      <td>0.0</td>\n",
              "    </tr>\n",
              "    <tr>\n",
              "      <th>1</th>\n",
              "      <td>И именно эти неработающие весы показывают, что...</td>\n",
              "      <td>0.0</td>\n",
              "    </tr>\n",
              "    <tr>\n",
              "      <th>2</th>\n",
              "      <td>В Японии такие панельки, ебанько.\\n</td>\n",
              "      <td>0.0</td>\n",
              "    </tr>\n",
              "    <tr>\n",
              "      <th>3</th>\n",
              "      <td>Еще у нас выявляют трещины с помощью белой кра...</td>\n",
              "      <td>0.0</td>\n",
              "    </tr>\n",
              "    <tr>\n",
              "      <th>4</th>\n",
              "      <td>Дочитал до поезда в Норильск , дальше не стал\\n</td>\n",
              "      <td>0.0</td>\n",
              "    </tr>\n",
              "    <tr>\n",
              "      <th>...</th>\n",
              "      <td>...</td>\n",
              "      <td>...</td>\n",
              "    </tr>\n",
              "    <tr>\n",
              "      <th>10804</th>\n",
              "      <td>А у мамы в группе до самого выпуска из сада та...</td>\n",
              "      <td>0.0</td>\n",
              "    </tr>\n",
              "    <tr>\n",
              "      <th>10805</th>\n",
              "      <td>Сука тупой дегенарт. Вот на эти видео. Съеби у...</td>\n",
              "      <td>1.0</td>\n",
              "    </tr>\n",
              "    <tr>\n",
              "      <th>10806</th>\n",
              "      <td>В племенах украинцев, особенно западных, с дет...</td>\n",
              "      <td>1.0</td>\n",
              "    </tr>\n",
              "    <tr>\n",
              "      <th>10807</th>\n",
              "      <td>Пост про жадность, о том, как человек оплативш...</td>\n",
              "      <td>0.0</td>\n",
              "    </tr>\n",
              "    <tr>\n",
              "      <th>10808</th>\n",
              "      <td>Это не компенсация проезда к месту отдыха - он...</td>\n",
              "      <td>0.0</td>\n",
              "    </tr>\n",
              "  </tbody>\n",
              "</table>\n",
              "<p>10809 rows × 2 columns</p>\n",
              "</div>"
            ],
            "text/plain": [
              "                                                 comment  toxic\n",
              "0                             Преступление и наказание\\n    0.0\n",
              "1      И именно эти неработающие весы показывают, что...    0.0\n",
              "2                    В Японии такие панельки, ебанько.\\n    0.0\n",
              "3      Еще у нас выявляют трещины с помощью белой кра...    0.0\n",
              "4        Дочитал до поезда в Норильск , дальше не стал\\n    0.0\n",
              "...                                                  ...    ...\n",
              "10804  А у мамы в группе до самого выпуска из сада та...    0.0\n",
              "10805  Сука тупой дегенарт. Вот на эти видео. Съеби у...    1.0\n",
              "10806  В племенах украинцев, особенно западных, с дет...    1.0\n",
              "10807  Пост про жадность, о том, как человек оплативш...    0.0\n",
              "10808  Это не компенсация проезда к месту отдыха - он...    0.0\n",
              "\n",
              "[10809 rows x 2 columns]"
            ]
          },
          "metadata": {},
          "execution_count": 213
        }
      ]
    },
    {
      "cell_type": "code",
      "metadata": {
        "id": "VnqvBf70CTzF",
        "outputId": "ccdca218-dbfe-4ffd-98a8-cb338b463ddb",
        "colab": {
          "base_uri": "https://localhost:8080/"
        }
      },
      "source": [
        "!unzip train_data.csv.zip\n",
        "!unzip test_data.csv.zip\n"
      ],
      "execution_count": 214,
      "outputs": [
        {
          "output_type": "stream",
          "name": "stdout",
          "text": [
            "Archive:  train_data.csv.zip\n",
            "replace train_data.csv? [y]es, [n]o, [A]ll, [N]one, [r]ename: y\n",
            "  inflating: train_data.csv          \n",
            "Archive:  test_data.csv.zip\n",
            "replace test_data.csv? [y]es, [n]o, [A]ll, [N]one, [r]ename: y\n",
            "  inflating: test_data.csv           \n"
          ]
        }
      ]
    },
    {
      "cell_type": "code",
      "metadata": {
        "id": "FA205cKtA38j"
      },
      "source": [
        "# классы Field и LabelField отвечают за то, как данные будут храниться и обрабатываться при считывании\n",
        "TEXT = data.Field(tokenize='spacy') # spacy -- значит, токенизацию будет делать модуль \n",
        "LABEL = data.LabelField()\n",
        "\n",
        "ds = data.TabularDataset(\n",
        "  path='train_data.csv', format='csv', \n",
        "  skip_header=True,\n",
        "  fields=[('comment', TEXT),\n",
        "        ('toxic', LABEL)]\n",
        ")"
      ],
      "execution_count": 215,
      "outputs": []
    },
    {
      "cell_type": "code",
      "metadata": {
        "id": "m4k0J4qmezzB",
        "outputId": "96850115-e8c6-4174-d4ec-220d77057006",
        "colab": {
          "base_uri": "https://localhost:8080/",
          "height": 419
        }
      },
      "source": [
        "pd.read_csv('test_data.csv')"
      ],
      "execution_count": 293,
      "outputs": [
        {
          "output_type": "execute_result",
          "data": {
            "text/html": [
              "<div>\n",
              "<style scoped>\n",
              "    .dataframe tbody tr th:only-of-type {\n",
              "        vertical-align: middle;\n",
              "    }\n",
              "\n",
              "    .dataframe tbody tr th {\n",
              "        vertical-align: top;\n",
              "    }\n",
              "\n",
              "    .dataframe thead th {\n",
              "        text-align: right;\n",
              "    }\n",
              "</style>\n",
              "<table border=\"1\" class=\"dataframe\">\n",
              "  <thead>\n",
              "    <tr style=\"text-align: right;\">\n",
              "      <th></th>\n",
              "      <th>comment_id</th>\n",
              "      <th>comment</th>\n",
              "    </tr>\n",
              "  </thead>\n",
              "  <tbody>\n",
              "    <tr>\n",
              "      <th>0</th>\n",
              "      <td>0</td>\n",
              "      <td>В данном случае не пионервожатая, а техничка, ...</td>\n",
              "    </tr>\n",
              "    <tr>\n",
              "      <th>1</th>\n",
              "      <td>1</td>\n",
              "      <td>В данном посте рассматривается обычный ленточн...</td>\n",
              "    </tr>\n",
              "    <tr>\n",
              "      <th>2</th>\n",
              "      <td>2</td>\n",
              "      <td>Как я понимаю, у поверхностей отражаемость пог...</td>\n",
              "    </tr>\n",
              "    <tr>\n",
              "      <th>3</th>\n",
              "      <td>3</td>\n",
              "      <td>Австралийские пауки съедят все живое на планете))</td>\n",
              "    </tr>\n",
              "    <tr>\n",
              "      <th>4</th>\n",
              "      <td>4</td>\n",
              "      <td>У нас раньше Амур пиво целые бутылки принимал ...</td>\n",
              "    </tr>\n",
              "    <tr>\n",
              "      <th>...</th>\n",
              "      <td>...</td>\n",
              "      <td>...</td>\n",
              "    </tr>\n",
              "    <tr>\n",
              "      <th>3598</th>\n",
              "      <td>3598</td>\n",
              "      <td>Я всё жду, когда эта херня закончится\\n</td>\n",
              "    </tr>\n",
              "    <tr>\n",
              "      <th>3599</th>\n",
              "      <td>3599</td>\n",
              "      <td>Откуда такой акцент на Москве? У нас между про...</td>\n",
              "    </tr>\n",
              "    <tr>\n",
              "      <th>3600</th>\n",
              "      <td>3600</td>\n",
              "      <td>Кого угодно, но не этих двух отбросов: свинью ...</td>\n",
              "    </tr>\n",
              "    <tr>\n",
              "      <th>3601</th>\n",
              "      <td>3601</td>\n",
              "      <td>А как же радиоуправляемые машинки в клубах?\\n</td>\n",
              "    </tr>\n",
              "    <tr>\n",
              "      <th>3602</th>\n",
              "      <td>3602</td>\n",
              "      <td>Правильно. Кз 10 и версия драйверов 10.х без э...</td>\n",
              "    </tr>\n",
              "  </tbody>\n",
              "</table>\n",
              "<p>3603 rows × 2 columns</p>\n",
              "</div>"
            ],
            "text/plain": [
              "      comment_id                                            comment\n",
              "0              0  В данном случае не пионервожатая, а техничка, ...\n",
              "1              1  В данном посте рассматривается обычный ленточн...\n",
              "2              2  Как я понимаю, у поверхностей отражаемость пог...\n",
              "3              3  Австралийские пауки съедят все живое на планете))\n",
              "4              4  У нас раньше Амур пиво целые бутылки принимал ...\n",
              "...          ...                                                ...\n",
              "3598        3598            Я всё жду, когда эта херня закончится\\n\n",
              "3599        3599  Откуда такой акцент на Москве? У нас между про...\n",
              "3600        3600  Кого угодно, но не этих двух отбросов: свинью ...\n",
              "3601        3601      А как же радиоуправляемые машинки в клубах?\\n\n",
              "3602        3602  Правильно. Кз 10 и версия драйверов 10.х без э...\n",
              "\n",
              "[3603 rows x 2 columns]"
            ]
          },
          "metadata": {},
          "execution_count": 293
        }
      ]
    },
    {
      "cell_type": "code",
      "metadata": {
        "id": "YYBrwOL6FBy6"
      },
      "source": [
        "test = data.TabularDataset(\n",
        "  path='test_data.csv', format='csv', \n",
        "  skip_header=True,\n",
        "  fields=[('id', TEXT), ('comment', TEXT)]\n",
        ")"
      ],
      "execution_count": 294,
      "outputs": []
    },
    {
      "cell_type": "code",
      "metadata": {
        "id": "FSqJ0c4WBktu",
        "outputId": "08328598-af36-4d97-c87c-9b01d8acd221",
        "colab": {
          "base_uri": "https://localhost:8080/"
        }
      },
      "source": [
        "next(ds.comment)"
      ],
      "execution_count": 217,
      "outputs": [
        {
          "output_type": "execute_result",
          "data": {
            "text/plain": [
              "['Преступление', 'и', 'наказание']"
            ]
          },
          "metadata": {},
          "execution_count": 217
        }
      ]
    },
    {
      "cell_type": "code",
      "metadata": {
        "id": "DMT-0oHkChSL",
        "outputId": "1040bbaf-1986-4826-e36e-b5aaf633423d",
        "colab": {
          "base_uri": "https://localhost:8080/",
          "height": 35
        }
      },
      "source": [
        "next(ds.toxic)"
      ],
      "execution_count": 218,
      "outputs": [
        {
          "output_type": "execute_result",
          "data": {
            "application/vnd.google.colaboratory.intrinsic+json": {
              "type": "string"
            },
            "text/plain": [
              "'0.0'"
            ]
          },
          "metadata": {},
          "execution_count": 218
        }
      ]
    },
    {
      "cell_type": "code",
      "metadata": {
        "id": "MtYG2JJGC1i-"
      },
      "source": [
        "TEXT.build_vocab(ds, max_size=25000, vectors=\"glove.6B.100d\")\n",
        "LABEL.build_vocab(ds)"
      ],
      "execution_count": 219,
      "outputs": []
    },
    {
      "cell_type": "code",
      "metadata": {
        "id": "XmibOBkmDNxs",
        "outputId": "0cf9748b-0c8a-452b-e0d3-adaa9e265c3d",
        "colab": {
          "base_uri": "https://localhost:8080/"
        }
      },
      "source": [
        "TEXT.vocab.itos[:20]"
      ],
      "execution_count": 220,
      "outputs": [
        {
          "output_type": "execute_result",
          "data": {
            "text/plain": [
              "['<unk>',\n",
              " '<pad>',\n",
              " ',',\n",
              " '.',\n",
              " 'и',\n",
              " 'в',\n",
              " 'не',\n",
              " '-',\n",
              " 'на',\n",
              " 'что',\n",
              " '?',\n",
              " 'с',\n",
              " 'то',\n",
              " 'это',\n",
              " 'а',\n",
              " ')',\n",
              " 'как',\n",
              " 'по',\n",
              " 'за',\n",
              " 'у']"
            ]
          },
          "metadata": {},
          "execution_count": 220
        }
      ]
    },
    {
      "cell_type": "code",
      "metadata": {
        "id": "VYbl8Fr_a6e0",
        "outputId": "a47fb39c-7a31-4934-98ef-9c8b9318e4cf",
        "colab": {
          "base_uri": "https://localhost:8080/"
        }
      },
      "source": [
        "len(TEXT.vocab.itos)"
      ],
      "execution_count": 270,
      "outputs": [
        {
          "output_type": "execute_result",
          "data": {
            "text/plain": [
              "25002"
            ]
          },
          "metadata": {},
          "execution_count": 270
        }
      ]
    },
    {
      "cell_type": "code",
      "metadata": {
        "id": "HsgpdJXsEGbN"
      },
      "source": [
        "train, val = ds.split() # дефолтное соотношение 0.7\n"
      ],
      "execution_count": 221,
      "outputs": []
    },
    {
      "cell_type": "code",
      "metadata": {
        "id": "DEHl0cpnEuGu",
        "outputId": "eb516c5d-e5e5-4ed2-c195-e67db68e9133",
        "colab": {
          "base_uri": "https://localhost:8080/"
        }
      },
      "source": [
        "print(len(train))\n",
        "print(len(val))\n",
        "print(len(test))"
      ],
      "execution_count": 222,
      "outputs": [
        {
          "output_type": "stream",
          "name": "stdout",
          "text": [
            "7566\n",
            "3243\n",
            "3603\n"
          ]
        }
      ]
    },
    {
      "cell_type": "code",
      "metadata": {
        "id": "VpsEtHg-FgJ0"
      },
      "source": [
        "BATCH_SIZE  = 64\n",
        "\n",
        "train_iterator, valid_iterator, test_iterator = data.BucketIterator.splits(\n",
        "    (train, val, test), \n",
        "    batch_size=BATCH_SIZE, \n",
        "    sort=True,\n",
        "    sort_key=lambda x: len(x.comment), # сорируем тексты по длине, чтобы рядом оказывались предложения с одинаковой длиной и добавлялось меньше паддинга\n",
        "    repeat=False)"
      ],
      "execution_count": 352,
      "outputs": []
    },
    {
      "cell_type": "code",
      "metadata": {
        "id": "I8U5dvWWFiTl",
        "outputId": "8586cca5-44db-4344-aea6-9613d137f867",
        "colab": {
          "base_uri": "https://localhost:8080/"
        }
      },
      "source": [
        "for i, batch in enumerate(valid_iterator):\n",
        "  print(batch.batch_size)\n",
        "  # pass"
      ],
      "execution_count": 353,
      "outputs": [
        {
          "output_type": "stream",
          "name": "stdout",
          "text": [
            "64\n",
            "64\n",
            "64\n",
            "64\n",
            "64\n",
            "64\n",
            "64\n",
            "64\n",
            "64\n",
            "64\n",
            "64\n",
            "64\n",
            "64\n",
            "64\n",
            "64\n",
            "64\n",
            "64\n",
            "64\n",
            "64\n",
            "64\n",
            "64\n",
            "64\n",
            "64\n",
            "64\n",
            "64\n",
            "64\n",
            "64\n",
            "64\n",
            "64\n",
            "64\n",
            "64\n",
            "64\n",
            "64\n",
            "64\n",
            "64\n",
            "64\n",
            "64\n",
            "64\n",
            "64\n",
            "64\n",
            "64\n",
            "64\n",
            "64\n",
            "64\n",
            "64\n",
            "64\n",
            "64\n",
            "64\n",
            "64\n",
            "64\n",
            "43\n"
          ]
        }
      ]
    },
    {
      "cell_type": "code",
      "metadata": {
        "id": "O2gwBZcZFjoG",
        "outputId": "50e76593-9bf9-422e-89f1-794de98ef824",
        "colab": {
          "base_uri": "https://localhost:8080/"
        }
      },
      "source": [
        "batch.fields"
      ],
      "execution_count": 354,
      "outputs": [
        {
          "output_type": "execute_result",
          "data": {
            "text/plain": [
              "dict_keys(['comment', 'toxic'])"
            ]
          },
          "metadata": {},
          "execution_count": 354
        }
      ]
    },
    {
      "cell_type": "code",
      "metadata": {
        "id": "hQ85AC2EFtTe",
        "outputId": "eed0df26-94b0-4c90-ac6c-faa5090b496c",
        "colab": {
          "base_uri": "https://localhost:8080/"
        }
      },
      "source": [
        "batch.batch_size"
      ],
      "execution_count": 355,
      "outputs": [
        {
          "output_type": "execute_result",
          "data": {
            "text/plain": [
              "43"
            ]
          },
          "metadata": {},
          "execution_count": 355
        }
      ]
    },
    {
      "cell_type": "code",
      "metadata": {
        "id": "etKoEPzsGO7l",
        "outputId": "4db0244c-bc67-4141-fa15-1bbaf4836b2e",
        "colab": {
          "base_uri": "https://localhost:8080/"
        }
      },
      "source": [
        "batch.comment"
      ],
      "execution_count": 356,
      "outputs": [
        {
          "output_type": "execute_result",
          "data": {
            "text/plain": [
              "tensor([[24762,   156, 14164,  ...,  9454,   951,     0],\n",
              "        [    2,  1105,     2,  ...,   983,     0,  6026],\n",
              "        [   16,  3500,     9,  ...,     2,     7,     9],\n",
              "        ...,\n",
              "        [    7,     1,     1,  ...,     1,     1,     1],\n",
              "        [10052,     1,     1,  ...,     1,     1,     1],\n",
              "        [    3,     1,     1,  ...,     1,     1,     1]])"
            ]
          },
          "metadata": {},
          "execution_count": 356
        }
      ]
    },
    {
      "cell_type": "code",
      "metadata": {
        "id": "-jHmxbhOGQxH",
        "outputId": "9c4d63c1-23a5-4ecf-83dc-a189013fa74b",
        "colab": {
          "base_uri": "https://localhost:8080/"
        }
      },
      "source": [
        "batch.toxic"
      ],
      "execution_count": 357,
      "outputs": [
        {
          "output_type": "execute_result",
          "data": {
            "text/plain": [
              "tensor([1, 0, 0, 1, 1, 1, 0, 1, 1, 1, 0, 0, 1, 1, 0, 1, 1, 0, 0, 0, 1, 0, 0, 0,\n",
              "        1, 0, 0, 0, 0, 0, 1, 0, 0, 0, 0, 1, 1, 1, 0, 0, 0, 1, 0])"
            ]
          },
          "metadata": {},
          "execution_count": 357
        }
      ]
    },
    {
      "cell_type": "code",
      "metadata": {
        "id": "dhdiZKe6bcJC",
        "outputId": "9bd6dc19-6b84-472d-8b55-6273d0bf8ced",
        "colab": {
          "base_uri": "https://localhost:8080/"
        }
      },
      "source": [
        "len(batch.toxic)"
      ],
      "execution_count": 358,
      "outputs": [
        {
          "output_type": "execute_result",
          "data": {
            "text/plain": [
              "43"
            ]
          },
          "metadata": {},
          "execution_count": 358
        }
      ]
    },
    {
      "cell_type": "code",
      "metadata": {
        "id": "mcx8M_PMGdDg"
      },
      "source": [
        "import torch.nn as nn"
      ],
      "execution_count": 359,
      "outputs": []
    },
    {
      "cell_type": "code",
      "metadata": {
        "id": "v0-gEAY8GUxX"
      },
      "source": [
        "class CNN(nn.Module):\n",
        "    def __init__(self, vocab_size, embedding_dim, n_filters, filter_sizes, output_dim, dropout_proba):\n",
        "        super().__init__()\n",
        "        \n",
        "        self.embedding = nn.Embedding(vocab_size, embedding_dim)\n",
        "        self.conv_0 = nn.Conv2d(in_channels=1, out_channels=n_filters, kernel_size=(filter_sizes[0], embedding_dim))\n",
        "        self.conv_1 = nn.Conv2d(in_channels=1, out_channels=n_filters, kernel_size=(filter_sizes[1], embedding_dim))\n",
        "        self.conv_2 = nn.Conv2d(in_channels=1, out_channels=n_filters, kernel_size=(filter_sizes[2], embedding_dim))\n",
        "        self.fc = nn.Linear(len(filter_sizes) * n_filters, output_dim)\n",
        "        self.dropout = nn.Dropout(dropout_proba)\n",
        "        \n",
        "    def forward(self, x):\n",
        "        #x = [sent len, batch size]\n",
        "        # print(x.shape)\n",
        "        x = x.permute(1, 0)\n",
        "                \n",
        "        #x = [batch size, sent len]\n",
        "        embedded = self.embedding(x)\n",
        "        #print(embedded.shape)\n",
        "                \n",
        "        #embedded = [batch size, sent len, emb dim]\n",
        "        embedded = embedded.unsqueeze(1)\n",
        "        \n",
        "        \n",
        "        #embedded = [batch size, 1, sent len, emb dim]\n",
        "        conv_0 = self.conv_0(embedded)\n",
        "        #print(conv_0.shape)\n",
        "        conv_0 = conv_0.squeeze(3)\n",
        "        #print(conv_0.shape)\n",
        "        conved_0 = F.relu(conv_0)\n",
        "        conved_1 = F.relu(self.conv_1(embedded).squeeze(3))\n",
        "        conved_2 = F.relu(self.conv_2(embedded).squeeze(3))\n",
        "            \n",
        "        #conv_n = [batch size, n_filters, sent len - filter_sizes[n]]\n",
        "        # print(conved_0.shape)\n",
        "        pool_0 = F.max_pool1d(conved_0, conved_0.shape[2])\n",
        "        # print(pool_0.shape)\n",
        "\n",
        "        pooled_0 = pool_0.squeeze(2)\n",
        "        # print(pooled_0.shape)\n",
        "        pooled_1 = F.max_pool1d(conved_1, conved_1.shape[2]).squeeze(2)\n",
        "        pooled_2 = F.max_pool1d(conved_2, conved_2.shape[2]).squeeze(2)\n",
        "        \n",
        "        #pooled_n = [batch size, n_filters]\n",
        "        cat = self.dropout(torch.cat((pooled_0, pooled_1, pooled_2), dim=1))\n",
        "\n",
        "        #cat = [batch size, n_filters * len(filter_sizes)]\n",
        "        return self.fc(cat)"
      ],
      "execution_count": 360,
      "outputs": []
    },
    {
      "cell_type": "code",
      "metadata": {
        "id": "QIxmCgTvGbfX"
      },
      "source": [
        "import torch.nn.functional as F\n",
        "\n",
        "def binary_accuracy(preds, y):\n",
        "    rounded_preds = torch.round(F.sigmoid(preds))\n",
        "    correct = (rounded_preds == y).float()\n",
        "    acc = correct.sum() / len(correct)\n",
        "    return acc"
      ],
      "execution_count": 361,
      "outputs": []
    },
    {
      "cell_type": "code",
      "metadata": {
        "id": "eP6WPmUpGh1f"
      },
      "source": [
        "def train_func(model, iterator, optimizer, criterion):\n",
        "    epoch_loss = 0\n",
        "    epoch_acc = 0\n",
        "    \n",
        "    model.train()\n",
        "    \n",
        "    for batch in iterator:\n",
        "        optimizer.zero_grad()\n",
        "        \n",
        "        predictions = model(batch.comment.cuda()).squeeze(1)\n",
        "\n",
        "        loss = criterion(predictions.float(), batch.toxic.float().cuda())\n",
        "        acc = binary_accuracy(predictions.float(), batch.toxic.float().cuda())\n",
        "        \n",
        "        loss.backward()\n",
        "        optimizer.step()\n",
        "        \n",
        "        epoch_loss += loss\n",
        "        epoch_acc += acc\n",
        "        \n",
        "    return epoch_loss / len(iterator), epoch_acc / len(iterator)"
      ],
      "execution_count": 362,
      "outputs": []
    },
    {
      "cell_type": "code",
      "metadata": {
        "id": "v_YEn7SiGrG3"
      },
      "source": [
        "def evaluate_func(model, iterator, criterion):\n",
        "    epoch_loss = 0\n",
        "    epoch_acc = 0\n",
        "    \n",
        "    model.eval()\n",
        "    \n",
        "    with torch.no_grad():\n",
        "        for batch in iterator:\n",
        "            predictions = model(batch.comment.cuda()).squeeze(1)\n",
        "\n",
        "            loss = criterion(predictions.float(), batch.toxic.float().cuda())\n",
        "            acc = binary_accuracy(predictions.float(), batch.toxic.float().cuda())\n",
        "\n",
        "            epoch_loss += loss\n",
        "            epoch_acc += acc\n",
        "        \n",
        "    return epoch_loss / len(iterator), epoch_acc / len(iterator)"
      ],
      "execution_count": 363,
      "outputs": []
    },
    {
      "cell_type": "code",
      "metadata": {
        "id": "NHFYhJ5pGveX"
      },
      "source": [
        "INPUT_DIM = len(TEXT.vocab)\n",
        "EMBEDDING_DIM = 100\n",
        "N_FILTERS = 100\n",
        "FILTER_SIZES = [2,3,4]\n",
        "OUTPUT_DIM = 1\n",
        "DROPOUT_PROBA = 0.5\n",
        "\n",
        "model = CNN(INPUT_DIM, EMBEDDING_DIM, N_FILTERS, FILTER_SIZES, OUTPUT_DIM, DROPOUT_PROBA)"
      ],
      "execution_count": 364,
      "outputs": []
    },
    {
      "cell_type": "code",
      "metadata": {
        "id": "h0-WiD9mQwLd",
        "outputId": "fb453036-0fc4-425b-8e1d-365590e033aa",
        "colab": {
          "base_uri": "https://localhost:8080/"
        }
      },
      "source": [
        "INPUT_DIM"
      ],
      "execution_count": 365,
      "outputs": [
        {
          "output_type": "execute_result",
          "data": {
            "text/plain": [
              "25002"
            ]
          },
          "metadata": {},
          "execution_count": 365
        }
      ]
    },
    {
      "cell_type": "code",
      "metadata": {
        "id": "7wM1sFtlGxQ_",
        "outputId": "3fa60e2f-b5db-4d05-c097-1f9b2fab8b32",
        "colab": {
          "base_uri": "https://localhost:8080/"
        }
      },
      "source": [
        "model"
      ],
      "execution_count": 366,
      "outputs": [
        {
          "output_type": "execute_result",
          "data": {
            "text/plain": [
              "CNN(\n",
              "  (embedding): Embedding(25002, 100)\n",
              "  (conv_0): Conv2d(1, 100, kernel_size=(2, 100), stride=(1, 1))\n",
              "  (conv_1): Conv2d(1, 100, kernel_size=(3, 100), stride=(1, 1))\n",
              "  (conv_2): Conv2d(1, 100, kernel_size=(4, 100), stride=(1, 1))\n",
              "  (fc): Linear(in_features=300, out_features=1, bias=True)\n",
              "  (dropout): Dropout(p=0.5, inplace=False)\n",
              ")"
            ]
          },
          "metadata": {},
          "execution_count": 366
        }
      ]
    },
    {
      "cell_type": "code",
      "metadata": {
        "id": "PCviQXowGy2C",
        "outputId": "487ed0f8-8499-477c-a288-22ff45847496",
        "colab": {
          "base_uri": "https://localhost:8080/"
        }
      },
      "source": [
        "pretrained_embeddings = TEXT.vocab.vectors\n",
        "model.embedding.weight.data.copy_(pretrained_embeddings)"
      ],
      "execution_count": 367,
      "outputs": [
        {
          "output_type": "execute_result",
          "data": {
            "text/plain": [
              "tensor([[ 0.0000,  0.0000,  0.0000,  ...,  0.0000,  0.0000,  0.0000],\n",
              "        [ 0.0000,  0.0000,  0.0000,  ...,  0.0000,  0.0000,  0.0000],\n",
              "        [-0.1077,  0.1105,  0.5981,  ..., -0.8316,  0.4529,  0.0826],\n",
              "        ...,\n",
              "        [ 0.0000,  0.0000,  0.0000,  ...,  0.0000,  0.0000,  0.0000],\n",
              "        [ 0.0000,  0.0000,  0.0000,  ...,  0.0000,  0.0000,  0.0000],\n",
              "        [ 0.0000,  0.0000,  0.0000,  ...,  0.0000,  0.0000,  0.0000]])"
            ]
          },
          "metadata": {},
          "execution_count": 367
        }
      ]
    },
    {
      "cell_type": "code",
      "metadata": {
        "id": "NUJ7l-xrG22X"
      },
      "source": [
        "import torch.optim as optim"
      ],
      "execution_count": 368,
      "outputs": []
    },
    {
      "cell_type": "code",
      "metadata": {
        "id": "KvaxqkZNG4cI"
      },
      "source": [
        "optimizer = optim.Adam(model.parameters()) # мы подали оптимизатору все параметры -- значит, эмбеддиги тоже будут дообучаться\n",
        "criterion = nn.BCEWithLogitsLoss() # бинарная кросс-энтропия с логитами\n",
        "\n",
        "model = model.cuda() # будем учить на gpu! =)"
      ],
      "execution_count": 369,
      "outputs": []
    },
    {
      "cell_type": "code",
      "metadata": {
        "id": "kG5PJwxIZj7p",
        "outputId": "1390b46f-01dd-4905-afff-32fe5be643c2",
        "colab": {
          "base_uri": "https://localhost:8080/"
        }
      },
      "source": [
        "model.embedding"
      ],
      "execution_count": 370,
      "outputs": [
        {
          "output_type": "execute_result",
          "data": {
            "text/plain": [
              "Embedding(25002, 100)"
            ]
          },
          "metadata": {},
          "execution_count": 370
        }
      ]
    },
    {
      "cell_type": "code",
      "metadata": {
        "id": "7eN1xMU-QeHx"
      },
      "source": [
        "from torchsummary import summary\n",
        "\n",
        "# summary(model, (14))\n"
      ],
      "execution_count": 371,
      "outputs": []
    },
    {
      "cell_type": "code",
      "metadata": {
        "id": "Bumtc2iiTyRs"
      },
      "source": [
        "import torch"
      ],
      "execution_count": 372,
      "outputs": []
    },
    {
      "cell_type": "code",
      "metadata": {
        "id": "x-4l0_7AG6uv",
        "outputId": "1f26b3e1-e6cc-4731-8de0-63bf847e82fe",
        "colab": {
          "base_uri": "https://localhost:8080/"
        }
      },
      "source": [
        "N_EPOCHS = 5\n",
        "\n",
        "for epoch in range(N_EPOCHS):\n",
        "    train_loss, train_acc = train_func(model, train_iterator, optimizer, criterion)\n",
        "    valid_loss, valid_acc = evaluate_func(model, valid_iterator, criterion)\n",
        "    \n",
        "    print(f'Epoch: {epoch+1:02}, Train Loss: {train_loss:.3f}, Train Acc: {train_acc*100:.2f}%, Val. Loss: {valid_loss:.3f}, Val. Acc: {valid_acc*100:.2f}%')"
      ],
      "execution_count": 373,
      "outputs": [
        {
          "output_type": "stream",
          "name": "stderr",
          "text": [
            "/usr/local/lib/python3.7/dist-packages/torch/nn/functional.py:1805: UserWarning: nn.functional.sigmoid is deprecated. Use torch.sigmoid instead.\n",
            "  warnings.warn(\"nn.functional.sigmoid is deprecated. Use torch.sigmoid instead.\")\n"
          ]
        },
        {
          "output_type": "stream",
          "name": "stdout",
          "text": [
            "Epoch: 01, Train Loss: 0.589, Train Acc: 67.89%, Val. Loss: 0.580, Val. Acc: 68.86%\n",
            "Epoch: 02, Train Loss: 0.515, Train Acc: 74.34%, Val. Loss: 0.506, Val. Acc: 74.76%\n",
            "Epoch: 03, Train Loss: 0.338, Train Acc: 86.19%, Val. Loss: 0.464, Val. Acc: 80.15%\n",
            "Epoch: 04, Train Loss: 0.177, Train Acc: 93.33%, Val. Loss: 0.464, Val. Acc: 81.81%\n",
            "Epoch: 05, Train Loss: 0.091, Train Acc: 96.75%, Val. Loss: 0.451, Val. Acc: 83.92%\n"
          ]
        }
      ]
    },
    {
      "cell_type": "code",
      "metadata": {
        "id": "d9him_d8d9GZ",
        "outputId": "e204ffe5-6d99-45ae-aef8-58620eab450d",
        "colab": {
          "base_uri": "https://localhost:8080/"
        }
      },
      "source": [
        "test.examples"
      ],
      "execution_count": 374,
      "outputs": [
        {
          "output_type": "execute_result",
          "data": {
            "text/plain": [
              "[<torchtext.legacy.data.example.Example at 0x7fcbb4764fd0>,\n",
              " <torchtext.legacy.data.example.Example at 0x7fcbb3f255d0>,\n",
              " <torchtext.legacy.data.example.Example at 0x7fcbb336c290>,\n",
              " <torchtext.legacy.data.example.Example at 0x7fcbb336c210>,\n",
              " <torchtext.legacy.data.example.Example at 0x7fcbb336c5d0>,\n",
              " <torchtext.legacy.data.example.Example at 0x7fcbb336c1d0>,\n",
              " <torchtext.legacy.data.example.Example at 0x7fcbb336c510>,\n",
              " <torchtext.legacy.data.example.Example at 0x7fcbb336c490>,\n",
              " <torchtext.legacy.data.example.Example at 0x7fcbb336c0d0>,\n",
              " <torchtext.legacy.data.example.Example at 0x7fcbb336c810>,\n",
              " <torchtext.legacy.data.example.Example at 0x7fcbb336c650>,\n",
              " <torchtext.legacy.data.example.Example at 0x7fcbb336c090>,\n",
              " <torchtext.legacy.data.example.Example at 0x7fcbb336c6d0>,\n",
              " <torchtext.legacy.data.example.Example at 0x7fcbb336c150>,\n",
              " <torchtext.legacy.data.example.Example at 0x7fcbb336c890>,\n",
              " <torchtext.legacy.data.example.Example at 0x7fcbb4e3e1d0>,\n",
              " <torchtext.legacy.data.example.Example at 0x7fcbb4e3eb10>,\n",
              " <torchtext.legacy.data.example.Example at 0x7fcbb4c68450>,\n",
              " <torchtext.legacy.data.example.Example at 0x7fcbb4e3ef90>,\n",
              " <torchtext.legacy.data.example.Example at 0x7fcbb4e3e9d0>,\n",
              " <torchtext.legacy.data.example.Example at 0x7fcbb4e3e990>,\n",
              " <torchtext.legacy.data.example.Example at 0x7fcbb4f37f10>,\n",
              " <torchtext.legacy.data.example.Example at 0x7fcbb41402d0>,\n",
              " <torchtext.legacy.data.example.Example at 0x7fcbb4140d50>,\n",
              " <torchtext.legacy.data.example.Example at 0x7fcbb4140650>,\n",
              " <torchtext.legacy.data.example.Example at 0x7fcbb4140e10>,\n",
              " <torchtext.legacy.data.example.Example at 0x7fcbb4140590>,\n",
              " <torchtext.legacy.data.example.Example at 0x7fcbb4140c50>,\n",
              " <torchtext.legacy.data.example.Example at 0x7fcbb4140510>,\n",
              " <torchtext.legacy.data.example.Example at 0x7fcbb4140d90>,\n",
              " <torchtext.legacy.data.example.Example at 0x7fcbb4140790>,\n",
              " <torchtext.legacy.data.example.Example at 0x7fcb9b0916d0>,\n",
              " <torchtext.legacy.data.example.Example at 0x7fcb9b0912d0>,\n",
              " <torchtext.legacy.data.example.Example at 0x7fcb9b091710>,\n",
              " <torchtext.legacy.data.example.Example at 0x7fcb9b0918d0>,\n",
              " <torchtext.legacy.data.example.Example at 0x7fcbb32b20d0>,\n",
              " <torchtext.legacy.data.example.Example at 0x7fcbb32b21d0>,\n",
              " <torchtext.legacy.data.example.Example at 0x7fcbb32b22d0>,\n",
              " <torchtext.legacy.data.example.Example at 0x7fcbb32b2390>,\n",
              " <torchtext.legacy.data.example.Example at 0x7fcbb32b2450>,\n",
              " <torchtext.legacy.data.example.Example at 0x7fcbb32b24d0>,\n",
              " <torchtext.legacy.data.example.Example at 0x7fcbb32b2550>,\n",
              " <torchtext.legacy.data.example.Example at 0x7fcbb32b2210>,\n",
              " <torchtext.legacy.data.example.Example at 0x7fcbb32b25d0>,\n",
              " <torchtext.legacy.data.example.Example at 0x7fcbb32b2710>,\n",
              " <torchtext.legacy.data.example.Example at 0x7fcbb32b2650>,\n",
              " <torchtext.legacy.data.example.Example at 0x7fcbb32b2790>,\n",
              " <torchtext.legacy.data.example.Example at 0x7fcbb32b2890>,\n",
              " <torchtext.legacy.data.example.Example at 0x7fcbb32b2990>,\n",
              " <torchtext.legacy.data.example.Example at 0x7fcbb32b2a10>,\n",
              " <torchtext.legacy.data.example.Example at 0x7fcbb32b2a90>,\n",
              " <torchtext.legacy.data.example.Example at 0x7fcbb32b2b90>,\n",
              " <torchtext.legacy.data.example.Example at 0x7fcbb32b2810>,\n",
              " <torchtext.legacy.data.example.Example at 0x7fcbb32b2c90>,\n",
              " <torchtext.legacy.data.example.Example at 0x7fcbb32b2e10>,\n",
              " <torchtext.legacy.data.example.Example at 0x7fcbb32b2ed0>,\n",
              " <torchtext.legacy.data.example.Example at 0x7fcbb32b2f50>,\n",
              " <torchtext.legacy.data.example.Example at 0x7fcbb32b2e90>,\n",
              " <torchtext.legacy.data.example.Example at 0x7fcbb32b6090>,\n",
              " <torchtext.legacy.data.example.Example at 0x7fcbb32b6210>,\n",
              " <torchtext.legacy.data.example.Example at 0x7fcbb32b6150>,\n",
              " <torchtext.legacy.data.example.Example at 0x7fcbb32b62d0>,\n",
              " <torchtext.legacy.data.example.Example at 0x7fcbb32b6250>,\n",
              " <torchtext.legacy.data.example.Example at 0x7fcbb32b63d0>,\n",
              " <torchtext.legacy.data.example.Example at 0x7fcbb32b6350>,\n",
              " <torchtext.legacy.data.example.Example at 0x7fcbb32b6450>,\n",
              " <torchtext.legacy.data.example.Example at 0x7fcbb32b6550>,\n",
              " <torchtext.legacy.data.example.Example at 0x7fcbb32b6810>,\n",
              " <torchtext.legacy.data.example.Example at 0x7fcbb32b6910>,\n",
              " <torchtext.legacy.data.example.Example at 0x7fcbb32b6a10>,\n",
              " <torchtext.legacy.data.example.Example at 0x7fcbb32b6990>,\n",
              " <torchtext.legacy.data.example.Example at 0x7fcbb32b6a90>,\n",
              " <torchtext.legacy.data.example.Example at 0x7fcbb32b6c10>,\n",
              " <torchtext.legacy.data.example.Example at 0x7fcbb32b6b10>,\n",
              " <torchtext.legacy.data.example.Example at 0x7fcbb32b6b50>,\n",
              " <torchtext.legacy.data.example.Example at 0x7fcbb32b6ad0>,\n",
              " <torchtext.legacy.data.example.Example at 0x7fcbb32b6bd0>,\n",
              " <torchtext.legacy.data.example.Example at 0x7fcbb32b6c50>,\n",
              " <torchtext.legacy.data.example.Example at 0x7fcbb32b6f90>,\n",
              " <torchtext.legacy.data.example.Example at 0x7fcbb32b6d50>,\n",
              " <torchtext.legacy.data.example.Example at 0x7fcbb32b6fd0>,\n",
              " <torchtext.legacy.data.example.Example at 0x7fcbb32ba050>,\n",
              " <torchtext.legacy.data.example.Example at 0x7fcbb32ba450>,\n",
              " <torchtext.legacy.data.example.Example at 0x7fcbb32ba0d0>,\n",
              " <torchtext.legacy.data.example.Example at 0x7fcbb32ba550>,\n",
              " <torchtext.legacy.data.example.Example at 0x7fcbb32ba5d0>,\n",
              " <torchtext.legacy.data.example.Example at 0x7fcbb32ba690>,\n",
              " <torchtext.legacy.data.example.Example at 0x7fcbb32ba4d0>,\n",
              " <torchtext.legacy.data.example.Example at 0x7fcbb32ba710>,\n",
              " <torchtext.legacy.data.example.Example at 0x7fcbb32ba790>,\n",
              " <torchtext.legacy.data.example.Example at 0x7fcbb32ba9d0>,\n",
              " <torchtext.legacy.data.example.Example at 0x7fcbb32ba890>,\n",
              " <torchtext.legacy.data.example.Example at 0x7fcbb582b710>,\n",
              " <torchtext.legacy.data.example.Example at 0x7fcbb71ce310>,\n",
              " <torchtext.legacy.data.example.Example at 0x7fcbb4b11850>,\n",
              " <torchtext.legacy.data.example.Example at 0x7fcbb4665c90>,\n",
              " <torchtext.legacy.data.example.Example at 0x7fcbb4194950>,\n",
              " <torchtext.legacy.data.example.Example at 0x7fcbb50e8c50>,\n",
              " <torchtext.legacy.data.example.Example at 0x7fcbb4153410>,\n",
              " <torchtext.legacy.data.example.Example at 0x7fcbb4153250>,\n",
              " <torchtext.legacy.data.example.Example at 0x7fcbb3368b50>,\n",
              " <torchtext.legacy.data.example.Example at 0x7fcbb3368cd0>,\n",
              " <torchtext.legacy.data.example.Example at 0x7fcbb3368d50>,\n",
              " <torchtext.legacy.data.example.Example at 0x7fcbb42bdd10>,\n",
              " <torchtext.legacy.data.example.Example at 0x7fcbb42bded0>,\n",
              " <torchtext.legacy.data.example.Example at 0x7fcbb3f25e10>,\n",
              " <torchtext.legacy.data.example.Example at 0x7fcbb45f39d0>,\n",
              " <torchtext.legacy.data.example.Example at 0x7fcbb3691e10>,\n",
              " <torchtext.legacy.data.example.Example at 0x7fcbb3691050>,\n",
              " <torchtext.legacy.data.example.Example at 0x7fcbb337d690>,\n",
              " <torchtext.legacy.data.example.Example at 0x7fcbb33636d0>,\n",
              " <torchtext.legacy.data.example.Example at 0x7fcbb3363850>,\n",
              " <torchtext.legacy.data.example.Example at 0x7fcbb3363a10>,\n",
              " <torchtext.legacy.data.example.Example at 0x7fcbb33638d0>,\n",
              " <torchtext.legacy.data.example.Example at 0x7fcbb3a38850>,\n",
              " <torchtext.legacy.data.example.Example at 0x7fcbb3a38c90>,\n",
              " <torchtext.legacy.data.example.Example at 0x7fcbb3a38e50>,\n",
              " <torchtext.legacy.data.example.Example at 0x7fcbb498f410>,\n",
              " <torchtext.legacy.data.example.Example at 0x7fcbb4f6e550>,\n",
              " <torchtext.legacy.data.example.Example at 0x7fcb9b0e4590>,\n",
              " <torchtext.legacy.data.example.Example at 0x7fcb9b0e4990>,\n",
              " <torchtext.legacy.data.example.Example at 0x7fcb9b0e4150>,\n",
              " <torchtext.legacy.data.example.Example at 0x7fcbb4140310>,\n",
              " <torchtext.legacy.data.example.Example at 0x7fcb9b0e48d0>,\n",
              " <torchtext.legacy.data.example.Example at 0x7fcb9b0e4190>,\n",
              " <torchtext.legacy.data.example.Example at 0x7fcb9b0e4210>,\n",
              " <torchtext.legacy.data.example.Example at 0x7fcb9b0e4a10>,\n",
              " <torchtext.legacy.data.example.Example at 0x7fcb9b0e4390>,\n",
              " <torchtext.legacy.data.example.Example at 0x7fcb9b0e4fd0>,\n",
              " <torchtext.legacy.data.example.Example at 0x7fcbb3fdb550>,\n",
              " <torchtext.legacy.data.example.Example at 0x7fcbb3d73850>,\n",
              " <torchtext.legacy.data.example.Example at 0x7fcbb3d73810>,\n",
              " <torchtext.legacy.data.example.Example at 0x7fcbb3d73610>,\n",
              " <torchtext.legacy.data.example.Example at 0x7fcbb52a2b50>,\n",
              " <torchtext.legacy.data.example.Example at 0x7fcbb61dc150>,\n",
              " <torchtext.legacy.data.example.Example at 0x7fcbb4400c10>,\n",
              " <torchtext.legacy.data.example.Example at 0x7fcbb4400d10>,\n",
              " <torchtext.legacy.data.example.Example at 0x7fcbb3262950>,\n",
              " <torchtext.legacy.data.example.Example at 0x7fcbb3512d10>,\n",
              " <torchtext.legacy.data.example.Example at 0x7fcbb3512e50>,\n",
              " <torchtext.legacy.data.example.Example at 0x7fcbb550f7d0>,\n",
              " <torchtext.legacy.data.example.Example at 0x7fcbb550fd50>,\n",
              " <torchtext.legacy.data.example.Example at 0x7fcbb550f050>,\n",
              " <torchtext.legacy.data.example.Example at 0x7fcbb550ff10>,\n",
              " <torchtext.legacy.data.example.Example at 0x7fcbb550fa90>,\n",
              " <torchtext.legacy.data.example.Example at 0x7fcbb550f150>,\n",
              " <torchtext.legacy.data.example.Example at 0x7fcbb550fe10>,\n",
              " <torchtext.legacy.data.example.Example at 0x7fcbb550fd90>,\n",
              " <torchtext.legacy.data.example.Example at 0x7fcbb4cc66d0>,\n",
              " <torchtext.legacy.data.example.Example at 0x7fcbb4cc6910>,\n",
              " <torchtext.legacy.data.example.Example at 0x7fcbb52e59d0>,\n",
              " <torchtext.legacy.data.example.Example at 0x7fcbb59b4c10>,\n",
              " <torchtext.legacy.data.example.Example at 0x7fcbb3fba310>,\n",
              " <torchtext.legacy.data.example.Example at 0x7fcbb3fba7d0>,\n",
              " <torchtext.legacy.data.example.Example at 0x7fcbb54029d0>,\n",
              " <torchtext.legacy.data.example.Example at 0x7fcbb4240390>,\n",
              " <torchtext.legacy.data.example.Example at 0x7fcbb3f0a3d0>,\n",
              " <torchtext.legacy.data.example.Example at 0x7fcbb3f0a550>,\n",
              " <torchtext.legacy.data.example.Example at 0x7fcbb4d7ecd0>,\n",
              " <torchtext.legacy.data.example.Example at 0x7fcbb4d7e4d0>,\n",
              " <torchtext.legacy.data.example.Example at 0x7fcbb335bed0>,\n",
              " <torchtext.legacy.data.example.Example at 0x7fcbb335bf90>,\n",
              " <torchtext.legacy.data.example.Example at 0x7fcbb5033210>,\n",
              " <torchtext.legacy.data.example.Example at 0x7fcbb4b56cd0>,\n",
              " <torchtext.legacy.data.example.Example at 0x7fcbb4b56890>,\n",
              " <torchtext.legacy.data.example.Example at 0x7fcbb4b56390>,\n",
              " <torchtext.legacy.data.example.Example at 0x7fcbb4bfcd90>,\n",
              " <torchtext.legacy.data.example.Example at 0x7fcbb515c890>,\n",
              " <torchtext.legacy.data.example.Example at 0x7fcbb515c250>,\n",
              " <torchtext.legacy.data.example.Example at 0x7fcbb3605c50>,\n",
              " <torchtext.legacy.data.example.Example at 0x7fcbb32bab50>,\n",
              " <torchtext.legacy.data.example.Example at 0x7fcbb32baa50>,\n",
              " <torchtext.legacy.data.example.Example at 0x7fcbb32bac90>,\n",
              " <torchtext.legacy.data.example.Example at 0x7fcbb338a210>,\n",
              " <torchtext.legacy.data.example.Example at 0x7fcbb338a290>,\n",
              " <torchtext.legacy.data.example.Example at 0x7fcbb338a350>,\n",
              " <torchtext.legacy.data.example.Example at 0x7fcbb338a410>,\n",
              " <torchtext.legacy.data.example.Example at 0x7fcbb338a490>,\n",
              " <torchtext.legacy.data.example.Example at 0x7fcbb338a510>,\n",
              " <torchtext.legacy.data.example.Example at 0x7fcbb338a810>,\n",
              " <torchtext.legacy.data.example.Example at 0x7fcbb338a8d0>,\n",
              " <torchtext.legacy.data.example.Example at 0x7fcbb338a950>,\n",
              " <torchtext.legacy.data.example.Example at 0x7fcbb338ad90>,\n",
              " <torchtext.legacy.data.example.Example at 0x7fcbb338a9d0>,\n",
              " <torchtext.legacy.data.example.Example at 0x7fcbb338ae10>,\n",
              " <torchtext.legacy.data.example.Example at 0x7fcbb338ae90>,\n",
              " <torchtext.legacy.data.example.Example at 0x7fcbb338af90>,\n",
              " <torchtext.legacy.data.example.Example at 0x7fcbb338f0d0>,\n",
              " <torchtext.legacy.data.example.Example at 0x7fcbb338f150>,\n",
              " <torchtext.legacy.data.example.Example at 0x7fcbb338f250>,\n",
              " <torchtext.legacy.data.example.Example at 0x7fcbb338f190>,\n",
              " <torchtext.legacy.data.example.Example at 0x7fcbb338f450>,\n",
              " <torchtext.legacy.data.example.Example at 0x7fcbb338f4d0>,\n",
              " <torchtext.legacy.data.example.Example at 0x7fcbb338f390>,\n",
              " <torchtext.legacy.data.example.Example at 0x7fcbb338f610>,\n",
              " <torchtext.legacy.data.example.Example at 0x7fcbb338f550>,\n",
              " <torchtext.legacy.data.example.Example at 0x7fcbb338f950>,\n",
              " <torchtext.legacy.data.example.Example at 0x7fcbb338fcd0>,\n",
              " <torchtext.legacy.data.example.Example at 0x7fcbb338f710>,\n",
              " <torchtext.legacy.data.example.Example at 0x7fcbb338fd50>,\n",
              " <torchtext.legacy.data.example.Example at 0x7fcbb338fc90>,\n",
              " <torchtext.legacy.data.example.Example at 0x7fcbb338fd90>,\n",
              " <torchtext.legacy.data.example.Example at 0x7fcbb338fe10>,\n",
              " <torchtext.legacy.data.example.Example at 0x7fcbb338ff90>,\n",
              " <torchtext.legacy.data.example.Example at 0x7fcbb338fd10>,\n",
              " <torchtext.legacy.data.example.Example at 0x7fcbb3395150>,\n",
              " <torchtext.legacy.data.example.Example at 0x7fcbb3395050>,\n",
              " <torchtext.legacy.data.example.Example at 0x7fcbb3395090>,\n",
              " <torchtext.legacy.data.example.Example at 0x7fcbb33953d0>,\n",
              " <torchtext.legacy.data.example.Example at 0x7fcbb3395290>,\n",
              " <torchtext.legacy.data.example.Example at 0x7fcbb3395550>,\n",
              " <torchtext.legacy.data.example.Example at 0x7fcbb33955d0>,\n",
              " <torchtext.legacy.data.example.Example at 0x7fcbb3395410>,\n",
              " <torchtext.legacy.data.example.Example at 0x7fcbb3395610>,\n",
              " <torchtext.legacy.data.example.Example at 0x7fcbb3395510>,\n",
              " <torchtext.legacy.data.example.Example at 0x7fcbb3395710>,\n",
              " <torchtext.legacy.data.example.Example at 0x7fcbb3395690>,\n",
              " <torchtext.legacy.data.example.Example at 0x7fcbb3395a50>,\n",
              " <torchtext.legacy.data.example.Example at 0x7fcbb3395790>,\n",
              " <torchtext.legacy.data.example.Example at 0x7fcbb3395bd0>,\n",
              " <torchtext.legacy.data.example.Example at 0x7fcbb3395ad0>,\n",
              " <torchtext.legacy.data.example.Example at 0x7fcbb3395cd0>,\n",
              " <torchtext.legacy.data.example.Example at 0x7fcbb3395b90>,\n",
              " <torchtext.legacy.data.example.Example at 0x7fcbb3395c50>,\n",
              " <torchtext.legacy.data.example.Example at 0x7fcbb3395c90>,\n",
              " <torchtext.legacy.data.example.Example at 0x7fcbb3395c10>,\n",
              " <torchtext.legacy.data.example.Example at 0x7fcbb3395d10>,\n",
              " <torchtext.legacy.data.example.Example at 0x7fcbb3395e10>,\n",
              " <torchtext.legacy.data.example.Example at 0x7fcbb3395d90>,\n",
              " <torchtext.legacy.data.example.Example at 0x7fcbb3395f10>,\n",
              " <torchtext.legacy.data.example.Example at 0x7fcbb339e090>,\n",
              " <torchtext.legacy.data.example.Example at 0x7fcbb339e050>,\n",
              " <torchtext.legacy.data.example.Example at 0x7fcbb339e190>,\n",
              " <torchtext.legacy.data.example.Example at 0x7fcbb339e150>,\n",
              " <torchtext.legacy.data.example.Example at 0x7fcbb339e1d0>,\n",
              " <torchtext.legacy.data.example.Example at 0x7fcbb339e0d0>,\n",
              " <torchtext.legacy.data.example.Example at 0x7fcbb339e510>,\n",
              " <torchtext.legacy.data.example.Example at 0x7fcbb339e250>,\n",
              " <torchtext.legacy.data.example.Example at 0x7fcbb339e450>,\n",
              " <torchtext.legacy.data.example.Example at 0x7fcbb339e710>,\n",
              " <torchtext.legacy.data.example.Example at 0x7fcbb339e790>,\n",
              " <torchtext.legacy.data.example.Example at 0x7fcbb339e810>,\n",
              " <torchtext.legacy.data.example.Example at 0x7fcbb339e890>,\n",
              " <torchtext.legacy.data.example.Example at 0x7fcbb339e750>,\n",
              " <torchtext.legacy.data.example.Example at 0x7fcbb339e8d0>,\n",
              " <torchtext.legacy.data.example.Example at 0x7fcbb339e990>,\n",
              " <torchtext.legacy.data.example.Example at 0x7fcbb339e950>,\n",
              " <torchtext.legacy.data.example.Example at 0x7fcbb339ea50>,\n",
              " <torchtext.legacy.data.example.Example at 0x7fcbb339eb50>,\n",
              " <torchtext.legacy.data.example.Example at 0x7fcbb3362710>,\n",
              " <torchtext.legacy.data.example.Example at 0x7fcbb336c310>,\n",
              " <torchtext.legacy.data.example.Example at 0x7fcb9b0e47d0>,\n",
              " <torchtext.legacy.data.example.Example at 0x7fcb9b0e4550>,\n",
              " <torchtext.legacy.data.example.Example at 0x7fcbb339ebd0>,\n",
              " <torchtext.legacy.data.example.Example at 0x7fcbb339ee90>,\n",
              " <torchtext.legacy.data.example.Example at 0x7fcbb339ee50>,\n",
              " <torchtext.legacy.data.example.Example at 0x7fcbb33a7050>,\n",
              " <torchtext.legacy.data.example.Example at 0x7fcbb33a7150>,\n",
              " <torchtext.legacy.data.example.Example at 0x7fcbb33a7110>,\n",
              " <torchtext.legacy.data.example.Example at 0x7fcbb33a71d0>,\n",
              " <torchtext.legacy.data.example.Example at 0x7fcbb33a7310>,\n",
              " <torchtext.legacy.data.example.Example at 0x7fcbb33a7350>,\n",
              " <torchtext.legacy.data.example.Example at 0x7fcbb33a73d0>,\n",
              " <torchtext.legacy.data.example.Example at 0x7fcbb3368090>,\n",
              " <torchtext.legacy.data.example.Example at 0x7fcbb33a7250>,\n",
              " <torchtext.legacy.data.example.Example at 0x7fcbb33a74d0>,\n",
              " <torchtext.legacy.data.example.Example at 0x7fcbb33a7450>,\n",
              " <torchtext.legacy.data.example.Example at 0x7fcbb33a7610>,\n",
              " <torchtext.legacy.data.example.Example at 0x7fcbb33a7690>,\n",
              " <torchtext.legacy.data.example.Example at 0x7fcbb33a7710>,\n",
              " <torchtext.legacy.data.example.Example at 0x7fcbb33a75d0>,\n",
              " <torchtext.legacy.data.example.Example at 0x7fcbb33a7790>,\n",
              " <torchtext.legacy.data.example.Example at 0x7fcbb33a7850>,\n",
              " <torchtext.legacy.data.example.Example at 0x7fcbb33a78d0>,\n",
              " <torchtext.legacy.data.example.Example at 0x7fcbb33a7990>,\n",
              " <torchtext.legacy.data.example.Example at 0x7fcbb33a7a50>,\n",
              " <torchtext.legacy.data.example.Example at 0x7fcbb33a7b10>,\n",
              " <torchtext.legacy.data.example.Example at 0x7fcbb33a7bd0>,\n",
              " <torchtext.legacy.data.example.Example at 0x7fcbb33a7c90>,\n",
              " <torchtext.legacy.data.example.Example at 0x7fcbb33a7d10>,\n",
              " <torchtext.legacy.data.example.Example at 0x7fcbb33a7e10>,\n",
              " <torchtext.legacy.data.example.Example at 0x7fcbb33a7e90>,\n",
              " <torchtext.legacy.data.example.Example at 0x7fcbb33a7f10>,\n",
              " <torchtext.legacy.data.example.Example at 0x7fcbb33a7f90>,\n",
              " <torchtext.legacy.data.example.Example at 0x7fcbb33ae290>,\n",
              " <torchtext.legacy.data.example.Example at 0x7fcbb33ae150>,\n",
              " <torchtext.legacy.data.example.Example at 0x7fcbb33ae0d0>,\n",
              " <torchtext.legacy.data.example.Example at 0x7fcbb33ae1d0>,\n",
              " <torchtext.legacy.data.example.Example at 0x7fcbb33ae490>,\n",
              " <torchtext.legacy.data.example.Example at 0x7fcbb33ae3d0>,\n",
              " <torchtext.legacy.data.example.Example at 0x7fcbb33ae590>,\n",
              " <torchtext.legacy.data.example.Example at 0x7fcbb33ae710>,\n",
              " <torchtext.legacy.data.example.Example at 0x7fcbb33ae5d0>,\n",
              " <torchtext.legacy.data.example.Example at 0x7fcbb33ae650>,\n",
              " <torchtext.legacy.data.example.Example at 0x7fcbb33ae6d0>,\n",
              " <torchtext.legacy.data.example.Example at 0x7fcbb33ae750>,\n",
              " <torchtext.legacy.data.example.Example at 0x7fcbb33ae7d0>,\n",
              " <torchtext.legacy.data.example.Example at 0x7fcbb33aea90>,\n",
              " <torchtext.legacy.data.example.Example at 0x7fcbb33ae850>,\n",
              " <torchtext.legacy.data.example.Example at 0x7fcbb33aeb10>,\n",
              " <torchtext.legacy.data.example.Example at 0x7fcbb33aea50>,\n",
              " <torchtext.legacy.data.example.Example at 0x7fcbb33aeb90>,\n",
              " <torchtext.legacy.data.example.Example at 0x7fcbb33aead0>,\n",
              " <torchtext.legacy.data.example.Example at 0x7fcbb33aee10>,\n",
              " <torchtext.legacy.data.example.Example at 0x7fcbb33b6110>,\n",
              " <torchtext.legacy.data.example.Example at 0x7fcbb33b6190>,\n",
              " <torchtext.legacy.data.example.Example at 0x7fcbb33b6150>,\n",
              " <torchtext.legacy.data.example.Example at 0x7fcbb33b6210>,\n",
              " <torchtext.legacy.data.example.Example at 0x7fcbb33b6310>,\n",
              " <torchtext.legacy.data.example.Example at 0x7fcbb33b63d0>,\n",
              " <torchtext.legacy.data.example.Example at 0x7fcbb33b6510>,\n",
              " <torchtext.legacy.data.example.Example at 0x7fcbb33b6590>,\n",
              " <torchtext.legacy.data.example.Example at 0x7fcbb33b6610>,\n",
              " <torchtext.legacy.data.example.Example at 0x7fcbb33b6490>,\n",
              " <torchtext.legacy.data.example.Example at 0x7fcbb33b6710>,\n",
              " <torchtext.legacy.data.example.Example at 0x7fcbb33b6a10>,\n",
              " <torchtext.legacy.data.example.Example at 0x7fcbb33b67d0>,\n",
              " <torchtext.legacy.data.example.Example at 0x7fcbb33b6b10>,\n",
              " <torchtext.legacy.data.example.Example at 0x7fcbb33b6a90>,\n",
              " <torchtext.legacy.data.example.Example at 0x7fcbb33b6c10>,\n",
              " <torchtext.legacy.data.example.Example at 0x7fcbb33b6c90>,\n",
              " <torchtext.legacy.data.example.Example at 0x7fcbb33b6d10>,\n",
              " <torchtext.legacy.data.example.Example at 0x7fcbb33b6b90>,\n",
              " <torchtext.legacy.data.example.Example at 0x7fcbb33b6e10>,\n",
              " <torchtext.legacy.data.example.Example at 0x7fcbb33b6ed0>,\n",
              " <torchtext.legacy.data.example.Example at 0x7fcbb33b6f90>,\n",
              " <torchtext.legacy.data.example.Example at 0x7fcbb33b6d90>,\n",
              " <torchtext.legacy.data.example.Example at 0x7fcbb33bc050>,\n",
              " <torchtext.legacy.data.example.Example at 0x7fcbb33bc150>,\n",
              " <torchtext.legacy.data.example.Example at 0x7fcbb33bc1d0>,\n",
              " <torchtext.legacy.data.example.Example at 0x7fcbb33bc0d0>,\n",
              " <torchtext.legacy.data.example.Example at 0x7fcbb33bc310>,\n",
              " <torchtext.legacy.data.example.Example at 0x7fcbb33bc250>,\n",
              " <torchtext.legacy.data.example.Example at 0x7fcbb33bc390>,\n",
              " <torchtext.legacy.data.example.Example at 0x7fcbb33bc410>,\n",
              " <torchtext.legacy.data.example.Example at 0x7fcbb33bc510>,\n",
              " <torchtext.legacy.data.example.Example at 0x7fcbb33bc590>,\n",
              " <torchtext.legacy.data.example.Example at 0x7fcbb33bc490>,\n",
              " <torchtext.legacy.data.example.Example at 0x7fcbb33bc6d0>,\n",
              " <torchtext.legacy.data.example.Example at 0x7fcbb33bc690>,\n",
              " <torchtext.legacy.data.example.Example at 0x7fcbb33bc8d0>,\n",
              " <torchtext.legacy.data.example.Example at 0x7fcbb33bc750>,\n",
              " <torchtext.legacy.data.example.Example at 0x7fcbb33bc9d0>,\n",
              " <torchtext.legacy.data.example.Example at 0x7fcbb33bca50>,\n",
              " <torchtext.legacy.data.example.Example at 0x7fcbb33bcad0>,\n",
              " <torchtext.legacy.data.example.Example at 0x7fcbb33bcb90>,\n",
              " <torchtext.legacy.data.example.Example at 0x7fcbb33bcc50>,\n",
              " <torchtext.legacy.data.example.Example at 0x7fcbb33bcc10>,\n",
              " <torchtext.legacy.data.example.Example at 0x7fcbb33bcd50>,\n",
              " <torchtext.legacy.data.example.Example at 0x7fcbb33bccd0>,\n",
              " <torchtext.legacy.data.example.Example at 0x7fcbb33bce90>,\n",
              " <torchtext.legacy.data.example.Example at 0x7fcbb33bcdd0>,\n",
              " <torchtext.legacy.data.example.Example at 0x7fcbb33bcf10>,\n",
              " <torchtext.legacy.data.example.Example at 0x7fcbb33c3110>,\n",
              " <torchtext.legacy.data.example.Example at 0x7fcbb33c3190>,\n",
              " <torchtext.legacy.data.example.Example at 0x7fcbb33c3050>,\n",
              " <torchtext.legacy.data.example.Example at 0x7fcbb33c32d0>,\n",
              " <torchtext.legacy.data.example.Example at 0x7fcbb33c3350>,\n",
              " <torchtext.legacy.data.example.Example at 0x7fcbb33c3250>,\n",
              " <torchtext.legacy.data.example.Example at 0x7fcbb33c33d0>,\n",
              " <torchtext.legacy.data.example.Example at 0x7fcbb33c3450>,\n",
              " <torchtext.legacy.data.example.Example at 0x7fcbb33c34d0>,\n",
              " <torchtext.legacy.data.example.Example at 0x7fcbb33c3650>,\n",
              " <torchtext.legacy.data.example.Example at 0x7fcbb33c3550>,\n",
              " <torchtext.legacy.data.example.Example at 0x7fcbb33c3790>,\n",
              " <torchtext.legacy.data.example.Example at 0x7fcbb33c3810>,\n",
              " <torchtext.legacy.data.example.Example at 0x7fcbb33c38d0>,\n",
              " <torchtext.legacy.data.example.Example at 0x7fcbb33c3990>,\n",
              " <torchtext.legacy.data.example.Example at 0x7fcbb33c3a10>,\n",
              " <torchtext.legacy.data.example.Example at 0x7fcbb33c3950>,\n",
              " <torchtext.legacy.data.example.Example at 0x7fcbb33c3b10>,\n",
              " <torchtext.legacy.data.example.Example at 0x7fcbb33c3a90>,\n",
              " <torchtext.legacy.data.example.Example at 0x7fcbb33c3c50>,\n",
              " <torchtext.legacy.data.example.Example at 0x7fcbb33c3cd0>,\n",
              " <torchtext.legacy.data.example.Example at 0x7fcbb33c3c10>,\n",
              " <torchtext.legacy.data.example.Example at 0x7fcbb33c3d50>,\n",
              " <torchtext.legacy.data.example.Example at 0x7fcbb33c3f10>,\n",
              " <torchtext.legacy.data.example.Example at 0x7fcbb330f050>,\n",
              " <torchtext.legacy.data.example.Example at 0x7fcbb330f110>,\n",
              " <torchtext.legacy.data.example.Example at 0x7fcbb330f1d0>,\n",
              " <torchtext.legacy.data.example.Example at 0x7fcbb330f250>,\n",
              " <torchtext.legacy.data.example.Example at 0x7fcbb330f2d0>,\n",
              " <torchtext.legacy.data.example.Example at 0x7fcbb330f410>,\n",
              " <torchtext.legacy.data.example.Example at 0x7fcbb330f090>,\n",
              " <torchtext.legacy.data.example.Example at 0x7fcbb330f550>,\n",
              " <torchtext.legacy.data.example.Example at 0x7fcbb330f610>,\n",
              " <torchtext.legacy.data.example.Example at 0x7fcbb330f690>,\n",
              " <torchtext.legacy.data.example.Example at 0x7fcbb330f5d0>,\n",
              " <torchtext.legacy.data.example.Example at 0x7fcbb330f790>,\n",
              " <torchtext.legacy.data.example.Example at 0x7fcbb330f890>,\n",
              " <torchtext.legacy.data.example.Example at 0x7fcbb330f910>,\n",
              " <torchtext.legacy.data.example.Example at 0x7fcbb330f9d0>,\n",
              " <torchtext.legacy.data.example.Example at 0x7fcbb330fb50>,\n",
              " <torchtext.legacy.data.example.Example at 0x7fcbb330fa90>,\n",
              " <torchtext.legacy.data.example.Example at 0x7fcbb330fbd0>,\n",
              " <torchtext.legacy.data.example.Example at 0x7fcbb330fd50>,\n",
              " <torchtext.legacy.data.example.Example at 0x7fcbb330fe10>,\n",
              " <torchtext.legacy.data.example.Example at 0x7fcbb330fe90>,\n",
              " <torchtext.legacy.data.example.Example at 0x7fcbb330ff50>,\n",
              " <torchtext.legacy.data.example.Example at 0x7fcbb3316050>,\n",
              " <torchtext.legacy.data.example.Example at 0x7fcbb3316090>,\n",
              " <torchtext.legacy.data.example.Example at 0x7fcbb33160d0>,\n",
              " <torchtext.legacy.data.example.Example at 0x7fcbb3316210>,\n",
              " <torchtext.legacy.data.example.Example at 0x7fcbb3316290>,\n",
              " <torchtext.legacy.data.example.Example at 0x7fcbb33161d0>,\n",
              " <torchtext.legacy.data.example.Example at 0x7fcbb3316390>,\n",
              " <torchtext.legacy.data.example.Example at 0x7fcbb3316450>,\n",
              " <torchtext.legacy.data.example.Example at 0x7fcbb33164d0>,\n",
              " <torchtext.legacy.data.example.Example at 0x7fcbb3316550>,\n",
              " <torchtext.legacy.data.example.Example at 0x7fcbb3316ed0>,\n",
              " <torchtext.legacy.data.example.Example at 0x7fcbb3316f50>,\n",
              " <torchtext.legacy.data.example.Example at 0x7fcbb3316fd0>,\n",
              " <torchtext.legacy.data.example.Example at 0x7fcbb331d050>,\n",
              " <torchtext.legacy.data.example.Example at 0x7fcbb331d150>,\n",
              " <torchtext.legacy.data.example.Example at 0x7fcbb331d090>,\n",
              " <torchtext.legacy.data.example.Example at 0x7fcbb331d290>,\n",
              " <torchtext.legacy.data.example.Example at 0x7fcbb331d250>,\n",
              " <torchtext.legacy.data.example.Example at 0x7fcbb331d510>,\n",
              " <torchtext.legacy.data.example.Example at 0x7fcbb331d610>,\n",
              " <torchtext.legacy.data.example.Example at 0x7fcbb331d690>,\n",
              " <torchtext.legacy.data.example.Example at 0x7fcbb331d3d0>,\n",
              " <torchtext.legacy.data.example.Example at 0x7fcbb331d710>,\n",
              " <torchtext.legacy.data.example.Example at 0x7fcbb331d810>,\n",
              " <torchtext.legacy.data.example.Example at 0x7fcbb331d890>,\n",
              " <torchtext.legacy.data.example.Example at 0x7fcbb331d790>,\n",
              " <torchtext.legacy.data.example.Example at 0x7fcbb331da10>,\n",
              " <torchtext.legacy.data.example.Example at 0x7fcbb331d950>,\n",
              " <torchtext.legacy.data.example.Example at 0x7fcbb331da90>,\n",
              " <torchtext.legacy.data.example.Example at 0x7fcbb331db90>,\n",
              " <torchtext.legacy.data.example.Example at 0x7fcbb331dc90>,\n",
              " <torchtext.legacy.data.example.Example at 0x7fcbb331dcd0>,\n",
              " <torchtext.legacy.data.example.Example at 0x7fcbb331db10>,\n",
              " <torchtext.legacy.data.example.Example at 0x7fcbb331de10>,\n",
              " <torchtext.legacy.data.example.Example at 0x7fcbb331ddd0>,\n",
              " <torchtext.legacy.data.example.Example at 0x7fcbb331df50>,\n",
              " <torchtext.legacy.data.example.Example at 0x7fcbb331dfd0>,\n",
              " <torchtext.legacy.data.example.Example at 0x7fcbb3320150>,\n",
              " <torchtext.legacy.data.example.Example at 0x7fcbb3320050>,\n",
              " <torchtext.legacy.data.example.Example at 0x7fcbb33202d0>,\n",
              " <torchtext.legacy.data.example.Example at 0x7fcbb3320350>,\n",
              " <torchtext.legacy.data.example.Example at 0x7fcbb33201d0>,\n",
              " <torchtext.legacy.data.example.Example at 0x7fcbb3320450>,\n",
              " <torchtext.legacy.data.example.Example at 0x7fcbb33205d0>,\n",
              " <torchtext.legacy.data.example.Example at 0x7fcbb3320650>,\n",
              " <torchtext.legacy.data.example.Example at 0x7fcbb3320710>,\n",
              " <torchtext.legacy.data.example.Example at 0x7fcbb33207d0>,\n",
              " <torchtext.legacy.data.example.Example at 0x7fcbb3320890>,\n",
              " <torchtext.legacy.data.example.Example at 0x7fcbb3320950>,\n",
              " <torchtext.legacy.data.example.Example at 0x7fcbb33209d0>,\n",
              " <torchtext.legacy.data.example.Example at 0x7fcbb3320910>,\n",
              " <torchtext.legacy.data.example.Example at 0x7fcbb3320ad0>,\n",
              " <torchtext.legacy.data.example.Example at 0x7fcbb3320a50>,\n",
              " <torchtext.legacy.data.example.Example at 0x7fcbb3320c10>,\n",
              " <torchtext.legacy.data.example.Example at 0x7fcbb3320b50>,\n",
              " <torchtext.legacy.data.example.Example at 0x7fcbb3320d10>,\n",
              " <torchtext.legacy.data.example.Example at 0x7fcbb3320c90>,\n",
              " <torchtext.legacy.data.example.Example at 0x7fcbb3320e50>,\n",
              " <torchtext.legacy.data.example.Example at 0x7fcbb3320ed0>,\n",
              " <torchtext.legacy.data.example.Example at 0x7fcbb3329050>,\n",
              " <torchtext.legacy.data.example.Example at 0x7fcbb3329090>,\n",
              " <torchtext.legacy.data.example.Example at 0x7fcbb3329190>,\n",
              " <torchtext.legacy.data.example.Example at 0x7fcbb3329210>,\n",
              " <torchtext.legacy.data.example.Example at 0x7fcbb3329290>,\n",
              " <torchtext.legacy.data.example.Example at 0x7fcbb3329150>,\n",
              " <torchtext.legacy.data.example.Example at 0x7fcbb3329310>,\n",
              " <torchtext.legacy.data.example.Example at 0x7fcbb33293d0>,\n",
              " <torchtext.legacy.data.example.Example at 0x7fcbb3329510>,\n",
              " <torchtext.legacy.data.example.Example at 0x7fcbb3329650>,\n",
              " <torchtext.legacy.data.example.Example at 0x7fcbb33296d0>,\n",
              " <torchtext.legacy.data.example.Example at 0x7fcbb3329490>,\n",
              " <torchtext.legacy.data.example.Example at 0x7fcbb3329750>,\n",
              " <torchtext.legacy.data.example.Example at 0x7fcbb33297d0>,\n",
              " <torchtext.legacy.data.example.Example at 0x7fcbb3329910>,\n",
              " <torchtext.legacy.data.example.Example at 0x7fcbb33299d0>,\n",
              " <torchtext.legacy.data.example.Example at 0x7fcbb3329a50>,\n",
              " <torchtext.legacy.data.example.Example at 0x7fcbb3329ad0>,\n",
              " <torchtext.legacy.data.example.Example at 0x7fcbb3329bd0>,\n",
              " <torchtext.legacy.data.example.Example at 0x7fcbb3329d90>,\n",
              " <torchtext.legacy.data.example.Example at 0x7fcbb3329d10>,\n",
              " <torchtext.legacy.data.example.Example at 0x7fcbb3329f50>,\n",
              " <torchtext.legacy.data.example.Example at 0x7fcbb3329ed0>,\n",
              " <torchtext.legacy.data.example.Example at 0x7fcbb3329f90>,\n",
              " <torchtext.legacy.data.example.Example at 0x7fcbb332f290>,\n",
              " <torchtext.legacy.data.example.Example at 0x7fcbb332f410>,\n",
              " <torchtext.legacy.data.example.Example at 0x7fcbb332f390>,\n",
              " <torchtext.legacy.data.example.Example at 0x7fcbb332f610>,\n",
              " <torchtext.legacy.data.example.Example at 0x7fcbb332f4d0>,\n",
              " <torchtext.legacy.data.example.Example at 0x7fcbb332f550>,\n",
              " <torchtext.legacy.data.example.Example at 0x7fcbb332f690>,\n",
              " <torchtext.legacy.data.example.Example at 0x7fcbb332f650>,\n",
              " <torchtext.legacy.data.example.Example at 0x7fcbb332f050>,\n",
              " <torchtext.legacy.data.example.Example at 0x7fcbb332f910>,\n",
              " <torchtext.legacy.data.example.Example at 0x7fcbb332f990>,\n",
              " <torchtext.legacy.data.example.Example at 0x7fcbb332f5d0>,\n",
              " <torchtext.legacy.data.example.Example at 0x7fcbb332f8d0>,\n",
              " <torchtext.legacy.data.example.Example at 0x7fcbb332fa90>,\n",
              " <torchtext.legacy.data.example.Example at 0x7fcbb332f9d0>,\n",
              " <torchtext.legacy.data.example.Example at 0x7fcbb332fa50>,\n",
              " <torchtext.legacy.data.example.Example at 0x7fcbb332fc90>,\n",
              " <torchtext.legacy.data.example.Example at 0x7fcbb332fd90>,\n",
              " <torchtext.legacy.data.example.Example at 0x7fcbb332fc50>,\n",
              " <torchtext.legacy.data.example.Example at 0x7fcbb332f950>,\n",
              " <torchtext.legacy.data.example.Example at 0x7fcbb332fcd0>,\n",
              " <torchtext.legacy.data.example.Example at 0x7fcbb332fdd0>,\n",
              " <torchtext.legacy.data.example.Example at 0x7fcbb332fd50>,\n",
              " <torchtext.legacy.data.example.Example at 0x7fcbb332fe50>,\n",
              " <torchtext.legacy.data.example.Example at 0x7fcbb3335090>,\n",
              " <torchtext.legacy.data.example.Example at 0x7fcbb3335150>,\n",
              " <torchtext.legacy.data.example.Example at 0x7fcbb3335110>,\n",
              " <torchtext.legacy.data.example.Example at 0x7fcbb3335290>,\n",
              " <torchtext.legacy.data.example.Example at 0x7fcbb3335310>,\n",
              " <torchtext.legacy.data.example.Example at 0x7fcbb3335250>,\n",
              " <torchtext.legacy.data.example.Example at 0x7fcbb3335450>,\n",
              " <torchtext.legacy.data.example.Example at 0x7fcbb3335510>,\n",
              " <torchtext.legacy.data.example.Example at 0x7fcbb3335590>,\n",
              " <torchtext.legacy.data.example.Example at 0x7fcbb3335610>,\n",
              " <torchtext.legacy.data.example.Example at 0x7fcbb3335710>,\n",
              " <torchtext.legacy.data.example.Example at 0x7fcbb3335690>,\n",
              " <torchtext.legacy.data.example.Example at 0x7fcbb33357d0>,\n",
              " <torchtext.legacy.data.example.Example at 0x7fcbb3335950>,\n",
              " <torchtext.legacy.data.example.Example at 0x7fcbb33359d0>,\n",
              " <torchtext.legacy.data.example.Example at 0x7fcbb3335a50>,\n",
              " <torchtext.legacy.data.example.Example at 0x7fcbb3335910>,\n",
              " <torchtext.legacy.data.example.Example at 0x7fcbb3335ad0>,\n",
              " <torchtext.legacy.data.example.Example at 0x7fcbb3335b50>,\n",
              " <torchtext.legacy.data.example.Example at 0x7fcbb3335bd0>,\n",
              " <torchtext.legacy.data.example.Example at 0x7fcbb3335d10>,\n",
              " <torchtext.legacy.data.example.Example at 0x7fcbb3335f10>,\n",
              " <torchtext.legacy.data.example.Example at 0x7fcbb3335fd0>,\n",
              " <torchtext.legacy.data.example.Example at 0x7fcbb3338150>,\n",
              " <torchtext.legacy.data.example.Example at 0x7fcbb3338050>,\n",
              " <torchtext.legacy.data.example.Example at 0x7fcbb33380d0>,\n",
              " <torchtext.legacy.data.example.Example at 0x7fcbb3338350>,\n",
              " <torchtext.legacy.data.example.Example at 0x7fcbb3338290>,\n",
              " <torchtext.legacy.data.example.Example at 0x7fcbb3338090>,\n",
              " <torchtext.legacy.data.example.Example at 0x7fcbb3338310>,\n",
              " <torchtext.legacy.data.example.Example at 0x7fcbb3338650>,\n",
              " <torchtext.legacy.data.example.Example at 0x7fcbb3338510>,\n",
              " <torchtext.legacy.data.example.Example at 0x7fcbb3338590>,\n",
              " <torchtext.legacy.data.example.Example at 0x7fcbb33386d0>,\n",
              " <torchtext.legacy.data.example.Example at 0x7fcbb3338710>,\n",
              " <torchtext.legacy.data.example.Example at 0x7fcbb33389d0>,\n",
              " <torchtext.legacy.data.example.Example at 0x7fcbb3338a50>,\n",
              " <torchtext.legacy.data.example.Example at 0x7fcbb3338ad0>,\n",
              " <torchtext.legacy.data.example.Example at 0x7fcbb3338a10>,\n",
              " <torchtext.legacy.data.example.Example at 0x7fcbb3338a90>,\n",
              " <torchtext.legacy.data.example.Example at 0x7fcbb33388d0>,\n",
              " <torchtext.legacy.data.example.Example at 0x7fcbb3338dd0>,\n",
              " <torchtext.legacy.data.example.Example at 0x7fcbb3338b90>,\n",
              " <torchtext.legacy.data.example.Example at 0x7fcbb3338e50>,\n",
              " <torchtext.legacy.data.example.Example at 0x7fcbb3338d90>,\n",
              " <torchtext.legacy.data.example.Example at 0x7fcbb3338ed0>,\n",
              " <torchtext.legacy.data.example.Example at 0x7fcbb3338e10>,\n",
              " <torchtext.legacy.data.example.Example at 0x7fcbb33420d0>,\n",
              " <torchtext.legacy.data.example.Example at 0x7fcbb3342210>,\n",
              " <torchtext.legacy.data.example.Example at 0x7fcbb3342190>,\n",
              " <torchtext.legacy.data.example.Example at 0x7fcbb3342290>,\n",
              " <torchtext.legacy.data.example.Example at 0x7fcbb3342390>,\n",
              " <torchtext.legacy.data.example.Example at 0x7fcbb3342650>,\n",
              " <torchtext.legacy.data.example.Example at 0x7fcbb3342710>,\n",
              " <torchtext.legacy.data.example.Example at 0x7fcbb33427d0>,\n",
              " <torchtext.legacy.data.example.Example at 0x7fcbb3342850>,\n",
              " <torchtext.legacy.data.example.Example at 0x7fcbb3342910>,\n",
              " <torchtext.legacy.data.example.Example at 0x7fcbb33429d0>,\n",
              " <torchtext.legacy.data.example.Example at 0x7fcbb3342a50>,\n",
              " <torchtext.legacy.data.example.Example at 0x7fcbb3342790>,\n",
              " <torchtext.legacy.data.example.Example at 0x7fcbb3342ad0>,\n",
              " <torchtext.legacy.data.example.Example at 0x7fcbb3342b50>,\n",
              " <torchtext.legacy.data.example.Example at 0x7fcbb3342bd0>,\n",
              " <torchtext.legacy.data.example.Example at 0x7fcbb3342c50>,\n",
              " <torchtext.legacy.data.example.Example at 0x7fcbb3342d50>,\n",
              " <torchtext.legacy.data.example.Example at 0x7fcbb3342e10>,\n",
              " <torchtext.legacy.data.example.Example at 0x7fcbb3342e90>,\n",
              " <torchtext.legacy.data.example.Example at 0x7fcbb3342f10>,\n",
              " <torchtext.legacy.data.example.Example at 0x7fcbb3342f90>,\n",
              " <torchtext.legacy.data.example.Example at 0x7fcb985c7610>,\n",
              " <torchtext.legacy.data.example.Example at 0x7fcb985c7050>,\n",
              " <torchtext.legacy.data.example.Example at 0x7fcb985c7750>,\n",
              " <torchtext.legacy.data.example.Example at 0x7fcb985c7710>,\n",
              " <torchtext.legacy.data.example.Example at 0x7fcb985c78d0>,\n",
              " <torchtext.legacy.data.example.Example at 0x7fcb985c7810>,\n",
              " <torchtext.legacy.data.example.Example at 0x7fcb985c79d0>,\n",
              " <torchtext.legacy.data.example.Example at 0x7fcb985c7950>,\n",
              " <torchtext.legacy.data.example.Example at 0x7fcb985c7b10>,\n",
              " <torchtext.legacy.data.example.Example at 0x7fcb985c7b90>,\n",
              " <torchtext.legacy.data.example.Example at 0x7fcb985c7a50>,\n",
              " <torchtext.legacy.data.example.Example at 0x7fcb985c7c90>,\n",
              " <torchtext.legacy.data.example.Example at 0x7fcb985c7c10>,\n",
              " <torchtext.legacy.data.example.Example at 0x7fcb985c7e10>,\n",
              " <torchtext.legacy.data.example.Example at 0x7fcb985c7f10>,\n",
              " <torchtext.legacy.data.example.Example at 0x7fcb985c7e90>,\n",
              " <torchtext.legacy.data.example.Example at 0x7fcb985c7f90>,\n",
              " <torchtext.legacy.data.example.Example at 0x7fcb985c9110>,\n",
              " <torchtext.legacy.data.example.Example at 0x7fcb985c9050>,\n",
              " <torchtext.legacy.data.example.Example at 0x7fcb985c9250>,\n",
              " <torchtext.legacy.data.example.Example at 0x7fcb985c9210>,\n",
              " <torchtext.legacy.data.example.Example at 0x7fcb985c93d0>,\n",
              " <torchtext.legacy.data.example.Example at 0x7fcb985c92d0>,\n",
              " <torchtext.legacy.data.example.Example at 0x7fcb985c9450>,\n",
              " <torchtext.legacy.data.example.Example at 0x7fcb985c94d0>,\n",
              " <torchtext.legacy.data.example.Example at 0x7fcb985c95d0>,\n",
              " <torchtext.legacy.data.example.Example at 0x7fcb985c9650>,\n",
              " <torchtext.legacy.data.example.Example at 0x7fcb985c96d0>,\n",
              " <torchtext.legacy.data.example.Example at 0x7fcb985c9550>,\n",
              " <torchtext.legacy.data.example.Example at 0x7fcb985c9810>,\n",
              " <torchtext.legacy.data.example.Example at 0x7fcb985c97d0>,\n",
              " <torchtext.legacy.data.example.Example at 0x7fcb985c9990>,\n",
              " <torchtext.legacy.data.example.Example at 0x7fcb985c9a90>,\n",
              " <torchtext.legacy.data.example.Example at 0x7fcb985c9a50>,\n",
              " <torchtext.legacy.data.example.Example at 0x7fcb985c9c10>,\n",
              " <torchtext.legacy.data.example.Example at 0x7fcb985c9c50>,\n",
              " <torchtext.legacy.data.example.Example at 0x7fcb985c9cd0>,\n",
              " <torchtext.legacy.data.example.Example at 0x7fcb985c9d50>,\n",
              " <torchtext.legacy.data.example.Example at 0x7fcb985c9dd0>,\n",
              " <torchtext.legacy.data.example.Example at 0x7fcb985c9b10>,\n",
              " <torchtext.legacy.data.example.Example at 0x7fcb985c9f10>,\n",
              " <torchtext.legacy.data.example.Example at 0x7fcb985c9e50>,\n",
              " <torchtext.legacy.data.example.Example at 0x7fcb985c9f90>,\n",
              " <torchtext.legacy.data.example.Example at 0x7fcb985ce110>,\n",
              " <torchtext.legacy.data.example.Example at 0x7fcb985ce210>,\n",
              " <torchtext.legacy.data.example.Example at 0x7fcb985ce310>,\n",
              " <torchtext.legacy.data.example.Example at 0x7fcb985ce290>,\n",
              " <torchtext.legacy.data.example.Example at 0x7fcb985ce410>,\n",
              " <torchtext.legacy.data.example.Example at 0x7fcb985ce3d0>,\n",
              " <torchtext.legacy.data.example.Example at 0x7fcb985ce550>,\n",
              " <torchtext.legacy.data.example.Example at 0x7fcb985ce590>,\n",
              " <torchtext.legacy.data.example.Example at 0x7fcb985ce690>,\n",
              " <torchtext.legacy.data.example.Example at 0x7fcb985ce710>,\n",
              " <torchtext.legacy.data.example.Example at 0x7fcb985ce510>,\n",
              " <torchtext.legacy.data.example.Example at 0x7fcb985ce850>,\n",
              " <torchtext.legacy.data.example.Example at 0x7fcb985ce810>,\n",
              " <torchtext.legacy.data.example.Example at 0x7fcb985ce950>,\n",
              " <torchtext.legacy.data.example.Example at 0x7fcb985ce910>,\n",
              " <torchtext.legacy.data.example.Example at 0x7fcb985ce9d0>,\n",
              " <torchtext.legacy.data.example.Example at 0x7fcb985ceb50>,\n",
              " <torchtext.legacy.data.example.Example at 0x7fcb985cec10>,\n",
              " <torchtext.legacy.data.example.Example at 0x7fcb985cec90>,\n",
              " <torchtext.legacy.data.example.Example at 0x7fcb985ceb10>,\n",
              " <torchtext.legacy.data.example.Example at 0x7fcb985ced10>,\n",
              " <torchtext.legacy.data.example.Example at 0x7fcb985ced90>,\n",
              " <torchtext.legacy.data.example.Example at 0x7fcb985cee10>,\n",
              " <torchtext.legacy.data.example.Example at 0x7fcb985ceed0>,\n",
              " <torchtext.legacy.data.example.Example at 0x7fcb985d5050>,\n",
              " <torchtext.legacy.data.example.Example at 0x7fcb985d5110>,\n",
              " <torchtext.legacy.data.example.Example at 0x7fcb985d5190>,\n",
              " <torchtext.legacy.data.example.Example at 0x7fcb985d5310>,\n",
              " <torchtext.legacy.data.example.Example at 0x7fcb985d53d0>,\n",
              " <torchtext.legacy.data.example.Example at 0x7fcb985d5150>,\n",
              " <torchtext.legacy.data.example.Example at 0x7fcb985d5510>,\n",
              " <torchtext.legacy.data.example.Example at 0x7fcb985d5450>,\n",
              " <torchtext.legacy.data.example.Example at 0x7fcb985d5610>,\n",
              " <torchtext.legacy.data.example.Example at 0x7fcb985d56d0>,\n",
              " <torchtext.legacy.data.example.Example at 0x7fcb985d5750>,\n",
              " <torchtext.legacy.data.example.Example at 0x7fcb985d57d0>,\n",
              " <torchtext.legacy.data.example.Example at 0x7fcb985d5890>,\n",
              " <torchtext.legacy.data.example.Example at 0x7fcb985d5950>,\n",
              " <torchtext.legacy.data.example.Example at 0x7fcb985d5710>,\n",
              " <torchtext.legacy.data.example.Example at 0x7fcb985d5a50>,\n",
              " <torchtext.legacy.data.example.Example at 0x7fcb985d5b10>,\n",
              " <torchtext.legacy.data.example.Example at 0x7fcb985d5b90>,\n",
              " <torchtext.legacy.data.example.Example at 0x7fcb985d5c50>,\n",
              " <torchtext.legacy.data.example.Example at 0x7fcb985d5ad0>,\n",
              " <torchtext.legacy.data.example.Example at 0x7fcb985d5cd0>,\n",
              " <torchtext.legacy.data.example.Example at 0x7fcb985d5dd0>,\n",
              " <torchtext.legacy.data.example.Example at 0x7fcb985d5d50>,\n",
              " <torchtext.legacy.data.example.Example at 0x7fcb985d5ed0>,\n",
              " <torchtext.legacy.data.example.Example at 0x7fcb985d5f90>,\n",
              " <torchtext.legacy.data.example.Example at 0x7fcb985da050>,\n",
              " <torchtext.legacy.data.example.Example at 0x7fcb985da110>,\n",
              " <torchtext.legacy.data.example.Example at 0x7fcb985da1d0>,\n",
              " <torchtext.legacy.data.example.Example at 0x7fcb985da090>,\n",
              " <torchtext.legacy.data.example.Example at 0x7fcb985da2d0>,\n",
              " <torchtext.legacy.data.example.Example at 0x7fcb985da250>,\n",
              " <torchtext.legacy.data.example.Example at 0x7fcb985da390>,\n",
              " <torchtext.legacy.data.example.Example at 0x7fcb985da490>,\n",
              " <torchtext.legacy.data.example.Example at 0x7fcb985da510>,\n",
              " <torchtext.legacy.data.example.Example at 0x7fcb985da410>,\n",
              " <torchtext.legacy.data.example.Example at 0x7fcb985da590>,\n",
              " <torchtext.legacy.data.example.Example at 0x7fcb985da690>,\n",
              " <torchtext.legacy.data.example.Example at 0x7fcb985da610>,\n",
              " <torchtext.legacy.data.example.Example at 0x7fcb985da710>,\n",
              " <torchtext.legacy.data.example.Example at 0x7fcb985da890>,\n",
              " <torchtext.legacy.data.example.Example at 0x7fcb985da910>,\n",
              " <torchtext.legacy.data.example.Example at 0x7fcb985da990>,\n",
              " <torchtext.legacy.data.example.Example at 0x7fcb985da790>,\n",
              " <torchtext.legacy.data.example.Example at 0x7fcb985daa10>,\n",
              " <torchtext.legacy.data.example.Example at 0x7fcb985daa90>,\n",
              " <torchtext.legacy.data.example.Example at 0x7fcb985dab10>,\n",
              " <torchtext.legacy.data.example.Example at 0x7fcb985dac10>,\n",
              " <torchtext.legacy.data.example.Example at 0x7fcb985dacd0>,\n",
              " <torchtext.legacy.data.example.Example at 0x7fcb985dac90>,\n",
              " <torchtext.legacy.data.example.Example at 0x7fcb985dae50>,\n",
              " <torchtext.legacy.data.example.Example at 0x7fcb985daed0>,\n",
              " <torchtext.legacy.data.example.Example at 0x7fcb985dadd0>,\n",
              " <torchtext.legacy.data.example.Example at 0x7fcb985e0050>,\n",
              " <torchtext.legacy.data.example.Example at 0x7fcb985e00d0>,\n",
              " <torchtext.legacy.data.example.Example at 0x7fcb985e0190>,\n",
              " <torchtext.legacy.data.example.Example at 0x7fcb985e0090>,\n",
              " <torchtext.legacy.data.example.Example at 0x7fcb985e04d0>,\n",
              " <torchtext.legacy.data.example.Example at 0x7fcb985e02d0>,\n",
              " <torchtext.legacy.data.example.Example at 0x7fcb985e0550>,\n",
              " <torchtext.legacy.data.example.Example at 0x7fcb985e05d0>,\n",
              " <torchtext.legacy.data.example.Example at 0x7fcb985e0650>,\n",
              " <torchtext.legacy.data.example.Example at 0x7fcb985e0790>,\n",
              " <torchtext.legacy.data.example.Example at 0x7fcb985e06d0>,\n",
              " <torchtext.legacy.data.example.Example at 0x7fcb985e0810>,\n",
              " <torchtext.legacy.data.example.Example at 0x7fcb985e0890>,\n",
              " <torchtext.legacy.data.example.Example at 0x7fcb985e0910>,\n",
              " <torchtext.legacy.data.example.Example at 0x7fcb985e0a90>,\n",
              " <torchtext.legacy.data.example.Example at 0x7fcb985e0a10>,\n",
              " <torchtext.legacy.data.example.Example at 0x7fcb985e0c10>,\n",
              " <torchtext.legacy.data.example.Example at 0x7fcb985e0b90>,\n",
              " <torchtext.legacy.data.example.Example at 0x7fcb985e0c90>,\n",
              " <torchtext.legacy.data.example.Example at 0x7fcb985e0d90>,\n",
              " <torchtext.legacy.data.example.Example at 0x7fcb985e0d10>,\n",
              " <torchtext.legacy.data.example.Example at 0x7fcb985e0e10>,\n",
              " <torchtext.legacy.data.example.Example at 0x7fcb985e0e90>,\n",
              " <torchtext.legacy.data.example.Example at 0x7fcb985e0f10>,\n",
              " <torchtext.legacy.data.example.Example at 0x7fcb985e6090>,\n",
              " <torchtext.legacy.data.example.Example at 0x7fcb985e6110>,\n",
              " <torchtext.legacy.data.example.Example at 0x7fcb985e6050>,\n",
              " <torchtext.legacy.data.example.Example at 0x7fcb985e6250>,\n",
              " <torchtext.legacy.data.example.Example at 0x7fcb985e6390>,\n",
              " <torchtext.legacy.data.example.Example at 0x7fcb985e6310>,\n",
              " <torchtext.legacy.data.example.Example at 0x7fcb985e64d0>,\n",
              " <torchtext.legacy.data.example.Example at 0x7fcb985e6490>,\n",
              " <torchtext.legacy.data.example.Example at 0x7fcb985e6550>,\n",
              " <torchtext.legacy.data.example.Example at 0x7fcb985e6690>,\n",
              " <torchtext.legacy.data.example.Example at 0x7fcb985e67d0>,\n",
              " <torchtext.legacy.data.example.Example at 0x7fcb985e6750>,\n",
              " <torchtext.legacy.data.example.Example at 0x7fcb985e6990>,\n",
              " <torchtext.legacy.data.example.Example at 0x7fcb985e6a10>,\n",
              " <torchtext.legacy.data.example.Example at 0x7fcb985e6950>,\n",
              " <torchtext.legacy.data.example.Example at 0x7fcb985e6a90>,\n",
              " <torchtext.legacy.data.example.Example at 0x7fcb985e6b90>,\n",
              " <torchtext.legacy.data.example.Example at 0x7fcb985e6b10>,\n",
              " <torchtext.legacy.data.example.Example at 0x7fcb985e6c90>,\n",
              " <torchtext.legacy.data.example.Example at 0x7fcb985e6d10>,\n",
              " <torchtext.legacy.data.example.Example at 0x7fcb985e6c10>,\n",
              " <torchtext.legacy.data.example.Example at 0x7fcb985e6f90>,\n",
              " <torchtext.legacy.data.example.Example at 0x7fcb985ed050>,\n",
              " <torchtext.legacy.data.example.Example at 0x7fcb985ed090>,\n",
              " <torchtext.legacy.data.example.Example at 0x7fcb985ed210>,\n",
              " <torchtext.legacy.data.example.Example at 0x7fcb985ed190>,\n",
              " <torchtext.legacy.data.example.Example at 0x7fcb985ed290>,\n",
              " <torchtext.legacy.data.example.Example at 0x7fcb985ed310>,\n",
              " <torchtext.legacy.data.example.Example at 0x7fcb985ed410>,\n",
              " <torchtext.legacy.data.example.Example at 0x7fcb985ed490>,\n",
              " <torchtext.legacy.data.example.Example at 0x7fcb985ed550>,\n",
              " <torchtext.legacy.data.example.Example at 0x7fcb985ed610>,\n",
              " <torchtext.legacy.data.example.Example at 0x7fcb985ed5d0>,\n",
              " <torchtext.legacy.data.example.Example at 0x7fcb985ed690>,\n",
              " <torchtext.legacy.data.example.Example at 0x7fcb985ed750>,\n",
              " <torchtext.legacy.data.example.Example at 0x7fcb985ed850>,\n",
              " <torchtext.legacy.data.example.Example at 0x7fcb985ed8d0>,\n",
              " <torchtext.legacy.data.example.Example at 0x7fcb985ed990>,\n",
              " <torchtext.legacy.data.example.Example at 0x7fcb985eda10>,\n",
              " <torchtext.legacy.data.example.Example at 0x7fcb985eda90>,\n",
              " <torchtext.legacy.data.example.Example at 0x7fcb985edb50>,\n",
              " <torchtext.legacy.data.example.Example at 0x7fcb985edc10>,\n",
              " <torchtext.legacy.data.example.Example at 0x7fcb985edb10>,\n",
              " <torchtext.legacy.data.example.Example at 0x7fcb985edc90>,\n",
              " <torchtext.legacy.data.example.Example at 0x7fcb985edd90>,\n",
              " <torchtext.legacy.data.example.Example at 0x7fcb985ede10>,\n",
              " <torchtext.legacy.data.example.Example at 0x7fcb985eded0>,\n",
              " <torchtext.legacy.data.example.Example at 0x7fcb985edf50>,\n",
              " <torchtext.legacy.data.example.Example at 0x7fcb985f2090>,\n",
              " <torchtext.legacy.data.example.Example at 0x7fcb985f2210>,\n",
              " <torchtext.legacy.data.example.Example at 0x7fcb985f2190>,\n",
              " <torchtext.legacy.data.example.Example at 0x7fcb985f2290>,\n",
              " <torchtext.legacy.data.example.Example at 0x7fcb985f2490>,\n",
              " <torchtext.legacy.data.example.Example at 0x7fcb985f2310>,\n",
              " <torchtext.legacy.data.example.Example at 0x7fcb985f25d0>,\n",
              " <torchtext.legacy.data.example.Example at 0x7fcb985f2690>,\n",
              " <torchtext.legacy.data.example.Example at 0x7fcb985f2710>,\n",
              " <torchtext.legacy.data.example.Example at 0x7fcb985f27d0>,\n",
              " <torchtext.legacy.data.example.Example at 0x7fcb985f2890>,\n",
              " <torchtext.legacy.data.example.Example at 0x7fcb985f2990>,\n",
              " <torchtext.legacy.data.example.Example at 0x7fcb985f2a50>,\n",
              " <torchtext.legacy.data.example.Example at 0x7fcb985f2950>,\n",
              " <torchtext.legacy.data.example.Example at 0x7fcb985f2bd0>,\n",
              " <torchtext.legacy.data.example.Example at 0x7fcb985f2c90>,\n",
              " <torchtext.legacy.data.example.Example at 0x7fcb985f2c50>,\n",
              " <torchtext.legacy.data.example.Example at 0x7fcb985f2d90>,\n",
              " <torchtext.legacy.data.example.Example at 0x7fcb985f2f50>,\n",
              " <torchtext.legacy.data.example.Example at 0x7fcb985f2fd0>,\n",
              " <torchtext.legacy.data.example.Example at 0x7fcb985f8090>,\n",
              " <torchtext.legacy.data.example.Example at 0x7fcb985f8050>,\n",
              " <torchtext.legacy.data.example.Example at 0x7fcb985f81d0>,\n",
              " <torchtext.legacy.data.example.Example at 0x7fcb985f82d0>,\n",
              " <torchtext.legacy.data.example.Example at 0x7fcb985f8190>,\n",
              " <torchtext.legacy.data.example.Example at 0x7fcb985f8350>,\n",
              " <torchtext.legacy.data.example.Example at 0x7fcb985f8450>,\n",
              " <torchtext.legacy.data.example.Example at 0x7fcb985f83d0>,\n",
              " <torchtext.legacy.data.example.Example at 0x7fcb985f8550>,\n",
              " <torchtext.legacy.data.example.Example at 0x7fcb985f84d0>,\n",
              " <torchtext.legacy.data.example.Example at 0x7fcb985f85d0>,\n",
              " <torchtext.legacy.data.example.Example at 0x7fcb985f86d0>,\n",
              " <torchtext.legacy.data.example.Example at 0x7fcb985f8650>,\n",
              " <torchtext.legacy.data.example.Example at 0x7fcb985f8890>,\n",
              " <torchtext.legacy.data.example.Example at 0x7fcb985f87d0>,\n",
              " <torchtext.legacy.data.example.Example at 0x7fcb985f89d0>,\n",
              " <torchtext.legacy.data.example.Example at 0x7fcb985f8a90>,\n",
              " <torchtext.legacy.data.example.Example at 0x7fcb985f8a50>,\n",
              " <torchtext.legacy.data.example.Example at 0x7fcb985f8bd0>,\n",
              " <torchtext.legacy.data.example.Example at 0x7fcb985f8b10>,\n",
              " <torchtext.legacy.data.example.Example at 0x7fcb985f8c50>,\n",
              " <torchtext.legacy.data.example.Example at 0x7fcb985f8cd0>,\n",
              " <torchtext.legacy.data.example.Example at 0x7fcb985f8dd0>,\n",
              " <torchtext.legacy.data.example.Example at 0x7fcb985f8e90>,\n",
              " <torchtext.legacy.data.example.Example at 0x7fcb985f8f50>,\n",
              " <torchtext.legacy.data.example.Example at 0x7fcb985f8fd0>,\n",
              " <torchtext.legacy.data.example.Example at 0x7fcb985fc050>,\n",
              " <torchtext.legacy.data.example.Example at 0x7fcb985fc110>,\n",
              " <torchtext.legacy.data.example.Example at 0x7fcb985fc190>,\n",
              " <torchtext.legacy.data.example.Example at 0x7fcb985fc210>,\n",
              " <torchtext.legacy.data.example.Example at 0x7fcb985fc290>,\n",
              " <torchtext.legacy.data.example.Example at 0x7fcb985fc390>,\n",
              " <torchtext.legacy.data.example.Example at 0x7fcb985fc310>,\n",
              " <torchtext.legacy.data.example.Example at 0x7fcb985fc4d0>,\n",
              " <torchtext.legacy.data.example.Example at 0x7fcb985fc590>,\n",
              " <torchtext.legacy.data.example.Example at 0x7fcb985fc490>,\n",
              " <torchtext.legacy.data.example.Example at 0x7fcb985fc690>,\n",
              " <torchtext.legacy.data.example.Example at 0x7fcb985fc610>,\n",
              " <torchtext.legacy.data.example.Example at 0x7fcb985fc710>,\n",
              " <torchtext.legacy.data.example.Example at 0x7fcb985fc810>,\n",
              " <torchtext.legacy.data.example.Example at 0x7fcb985fc8d0>,\n",
              " <torchtext.legacy.data.example.Example at 0x7fcb985fcad0>,\n",
              " <torchtext.legacy.data.example.Example at 0x7fcb985fc890>,\n",
              " <torchtext.legacy.data.example.Example at 0x7fcb985fcb50>,\n",
              " <torchtext.legacy.data.example.Example at 0x7fcb985fccd0>,\n",
              " <torchtext.legacy.data.example.Example at 0x7fcb985fcbd0>,\n",
              " <torchtext.legacy.data.example.Example at 0x7fcb985fcd50>,\n",
              " <torchtext.legacy.data.example.Example at 0x7fcb985fced0>,\n",
              " <torchtext.legacy.data.example.Example at 0x7fcb985fcf50>,\n",
              " <torchtext.legacy.data.example.Example at 0x7fcb985fcfd0>,\n",
              " <torchtext.legacy.data.example.Example at 0x7fcb9ab78f50>,\n",
              " <torchtext.legacy.data.example.Example at 0x7fcb9ab78fd0>,\n",
              " <torchtext.legacy.data.example.Example at 0x7fcb9ab78e50>,\n",
              " <torchtext.legacy.data.example.Example at 0x7fcb9ab78dd0>,\n",
              " <torchtext.legacy.data.example.Example at 0x7fcb9ab78ed0>,\n",
              " <torchtext.legacy.data.example.Example at 0x7fcb9ab78c90>,\n",
              " <torchtext.legacy.data.example.Example at 0x7fcb9ab78c10>,\n",
              " <torchtext.legacy.data.example.Example at 0x7fcb9ab78b50>,\n",
              " <torchtext.legacy.data.example.Example at 0x7fcb9ab78b10>,\n",
              " <torchtext.legacy.data.example.Example at 0x7fcb9ab78ad0>,\n",
              " <torchtext.legacy.data.example.Example at 0x7fcb9ab78990>,\n",
              " <torchtext.legacy.data.example.Example at 0x7fcb9ab78910>,\n",
              " <torchtext.legacy.data.example.Example at 0x7fcb9ab78890>,\n",
              " <torchtext.legacy.data.example.Example at 0x7fcb9ab787d0>,\n",
              " <torchtext.legacy.data.example.Example at 0x7fcb9ab78810>,\n",
              " <torchtext.legacy.data.example.Example at 0x7fcb9ab786d0>,\n",
              " <torchtext.legacy.data.example.Example at 0x7fcb9ab78750>,\n",
              " <torchtext.legacy.data.example.Example at 0x7fcb9ab785d0>,\n",
              " <torchtext.legacy.data.example.Example at 0x7fcb9ab78650>,\n",
              " <torchtext.legacy.data.example.Example at 0x7fcb9ab78490>,\n",
              " <torchtext.legacy.data.example.Example at 0x7fcb9ab780d0>,\n",
              " <torchtext.legacy.data.example.Example at 0x7fcb9ab78550>,\n",
              " <torchtext.legacy.data.example.Example at 0x7fcb9ab72f90>,\n",
              " <torchtext.legacy.data.example.Example at 0x7fcb9ab72fd0>,\n",
              " <torchtext.legacy.data.example.Example at 0x7fcb9ab72f10>,\n",
              " <torchtext.legacy.data.example.Example at 0x7fcb9ab72e50>,\n",
              " <torchtext.legacy.data.example.Example at 0x7fcb9ab72cd0>,\n",
              " <torchtext.legacy.data.example.Example at 0x7fcb9ab72c50>,\n",
              " <torchtext.legacy.data.example.Example at 0x7fcb9ab72b90>,\n",
              " <torchtext.legacy.data.example.Example at 0x7fcb9ab72ad0>,\n",
              " <torchtext.legacy.data.example.Example at 0x7fcb9ab72dd0>,\n",
              " <torchtext.legacy.data.example.Example at 0x7fcb9ab72950>,\n",
              " <torchtext.legacy.data.example.Example at 0x7fcb9ab728d0>,\n",
              " <torchtext.legacy.data.example.Example at 0x7fcb9ab729d0>,\n",
              " <torchtext.legacy.data.example.Example at 0x7fcb9ab72750>,\n",
              " <torchtext.legacy.data.example.Example at 0x7fcb9ab72690>,\n",
              " <torchtext.legacy.data.example.Example at 0x7fcb9ab726d0>,\n",
              " <torchtext.legacy.data.example.Example at 0x7fcb9ab72590>,\n",
              " <torchtext.legacy.data.example.Example at 0x7fcb9ab72510>,\n",
              " <torchtext.legacy.data.example.Example at 0x7fcb9ab72490>,\n",
              " <torchtext.legacy.data.example.Example at 0x7fcb9ab72610>,\n",
              " <torchtext.legacy.data.example.Example at 0x7fcb9ab72310>,\n",
              " <torchtext.legacy.data.example.Example at 0x7fcb9ab72390>,\n",
              " <torchtext.legacy.data.example.Example at 0x7fcb9ab72290>,\n",
              " <torchtext.legacy.data.example.Example at 0x7fcb9ab72190>,\n",
              " <torchtext.legacy.data.example.Example at 0x7fcb9ab72210>,\n",
              " <torchtext.legacy.data.example.Example at 0x7fcb9ab72110>,\n",
              " <torchtext.legacy.data.example.Example at 0x7fcb9ab6dfd0>,\n",
              " <torchtext.legacy.data.example.Example at 0x7fcb9ab6df50>,\n",
              " <torchtext.legacy.data.example.Example at 0x7fcb9ab6ded0>,\n",
              " <torchtext.legacy.data.example.Example at 0x7fcb9ab6dd50>,\n",
              " <torchtext.legacy.data.example.Example at 0x7fcb9ab6ddd0>,\n",
              " <torchtext.legacy.data.example.Example at 0x7fcb9ab6dcd0>,\n",
              " <torchtext.legacy.data.example.Example at 0x7fcb9ab6dc50>,\n",
              " <torchtext.legacy.data.example.Example at 0x7fcb9ab6db50>,\n",
              " <torchtext.legacy.data.example.Example at 0x7fcb9ab6da90>,\n",
              " <torchtext.legacy.data.example.Example at 0x7fcb9ab6d9d0>,\n",
              " <torchtext.legacy.data.example.Example at 0x7fcb9ab6db10>,\n",
              " <torchtext.legacy.data.example.Example at 0x7fcb9ab6d950>,\n",
              " <torchtext.legacy.data.example.Example at 0x7fcb9ab6d8d0>,\n",
              " <torchtext.legacy.data.example.Example at 0x7fcb9ab6d750>,\n",
              " <torchtext.legacy.data.example.Example at 0x7fcb9ab6d850>,\n",
              " <torchtext.legacy.data.example.Example at 0x7fcb9ab6d610>,\n",
              " <torchtext.legacy.data.example.Example at 0x7fcb9ab6d550>,\n",
              " <torchtext.legacy.data.example.Example at 0x7fcb9ab6d490>,\n",
              " <torchtext.legacy.data.example.Example at 0x7fcb9ab6d450>,\n",
              " <torchtext.legacy.data.example.Example at 0x7fcb9ab6d390>,\n",
              " <torchtext.legacy.data.example.Example at 0x7fcb9ab6d410>,\n",
              " <torchtext.legacy.data.example.Example at 0x7fcb9ab6d290>,\n",
              " <torchtext.legacy.data.example.Example at 0x7fcb9ab6d210>,\n",
              " <torchtext.legacy.data.example.Example at 0x7fcb9ab6d150>,\n",
              " <torchtext.legacy.data.example.Example at 0x7fcb9ab6d090>,\n",
              " <torchtext.legacy.data.example.Example at 0x7fcb9ab6d0d0>,\n",
              " <torchtext.legacy.data.example.Example at 0x7fcb9ab68f50>,\n",
              " <torchtext.legacy.data.example.Example at 0x7fcb9ab68ed0>,\n",
              " <torchtext.legacy.data.example.Example at 0x7fcb9ab68e50>,\n",
              " <torchtext.legacy.data.example.Example at 0x7fcb9ab68d90>,\n",
              " <torchtext.legacy.data.example.Example at 0x7fcb9ab68fd0>,\n",
              " <torchtext.legacy.data.example.Example at 0x7fcb9ab68d10>,\n",
              " <torchtext.legacy.data.example.Example at 0x7fcb9ab68c10>,\n",
              " <torchtext.legacy.data.example.Example at 0x7fcb9ab68b90>,\n",
              " <torchtext.legacy.data.example.Example at 0x7fcb9ab68c90>,\n",
              " <torchtext.legacy.data.example.Example at 0x7fcb9ab68a90>,\n",
              " <torchtext.legacy.data.example.Example at 0x7fcb9ab68910>,\n",
              " <torchtext.legacy.data.example.Example at 0x7fcb9ab68b10>,\n",
              " <torchtext.legacy.data.example.Example at 0x7fcb9ab687d0>,\n",
              " <torchtext.legacy.data.example.Example at 0x7fcb9ab68710>,\n",
              " <torchtext.legacy.data.example.Example at 0x7fcb9ab68810>,\n",
              " <torchtext.legacy.data.example.Example at 0x7fcb9ab685d0>,\n",
              " <torchtext.legacy.data.example.Example at 0x7fcb9ab68610>,\n",
              " <torchtext.legacy.data.example.Example at 0x7fcb9ab684d0>,\n",
              " <torchtext.legacy.data.example.Example at 0x7fcb9ab68450>,\n",
              " <torchtext.legacy.data.example.Example at 0x7fcb9ab683d0>,\n",
              " <torchtext.legacy.data.example.Example at 0x7fcb9ab68310>,\n",
              " <torchtext.legacy.data.example.Example at 0x7fcb9ab68250>,\n",
              " <torchtext.legacy.data.example.Example at 0x7fcb9ab68190>,\n",
              " <torchtext.legacy.data.example.Example at 0x7fcb9ab5a210>,\n",
              " <torchtext.legacy.data.example.Example at 0x7fcb9ab5a290>,\n",
              " <torchtext.legacy.data.example.Example at 0x7fcb9ab5a310>,\n",
              " <torchtext.legacy.data.example.Example at 0x7fcb9ab5a250>,\n",
              " <torchtext.legacy.data.example.Example at 0x7fcb9ab5a450>,\n",
              " <torchtext.legacy.data.example.Example at 0x7fcb9ab5a390>,\n",
              " <torchtext.legacy.data.example.Example at 0x7fcb9ab5a550>,\n",
              " <torchtext.legacy.data.example.Example at 0x7fcb9ab5a750>,\n",
              " <torchtext.legacy.data.example.Example at 0x7fcb9ab5a810>,\n",
              " <torchtext.legacy.data.example.Example at 0x7fcb9ab5a910>,\n",
              " <torchtext.legacy.data.example.Example at 0x7fcb9ab5a8d0>,\n",
              " <torchtext.legacy.data.example.Example at 0x7fcb9ab5aa90>,\n",
              " <torchtext.legacy.data.example.Example at 0x7fcb9ab5aa10>,\n",
              " <torchtext.legacy.data.example.Example at 0x7fcb9ab5ab90>,\n",
              " <torchtext.legacy.data.example.Example at 0x7fcb9ab5ab10>,\n",
              " <torchtext.legacy.data.example.Example at 0x7fcb9ab5ac10>,\n",
              " <torchtext.legacy.data.example.Example at 0x7fcb9ab5ad10>,\n",
              " <torchtext.legacy.data.example.Example at 0x7fcb9ab5af90>,\n",
              " <torchtext.legacy.data.example.Example at 0x7fcb9ab4afd0>,\n",
              " <torchtext.legacy.data.example.Example at 0x7fcb9ab4af10>,\n",
              " <torchtext.legacy.data.example.Example at 0x7fcb9ab4af50>,\n",
              " <torchtext.legacy.data.example.Example at 0x7fcb9ab4add0>,\n",
              " <torchtext.legacy.data.example.Example at 0x7fcb9ab4ae10>,\n",
              " <torchtext.legacy.data.example.Example at 0x7fcb9ab4ad50>,\n",
              " <torchtext.legacy.data.example.Example at 0x7fcb9ab4acd0>,\n",
              " <torchtext.legacy.data.example.Example at 0x7fcb9ab4ac50>,\n",
              " <torchtext.legacy.data.example.Example at 0x7fcb9ab4abd0>,\n",
              " <torchtext.legacy.data.example.Example at 0x7fcb9ab4aad0>,\n",
              " <torchtext.legacy.data.example.Example at 0x7fcb9ab4aa50>,\n",
              " <torchtext.legacy.data.example.Example at 0x7fcb9ab4a990>,\n",
              " <torchtext.legacy.data.example.Example at 0x7fcb9ab4a8d0>,\n",
              " <torchtext.legacy.data.example.Example at 0x7fcb9ab4a950>,\n",
              " <torchtext.legacy.data.example.Example at 0x7fcb9ab4a7d0>,\n",
              " <torchtext.legacy.data.example.Example at 0x7fcb9ab4a850>,\n",
              " <torchtext.legacy.data.example.Example at 0x7fcb9ab4a690>,\n",
              " <torchtext.legacy.data.example.Example at 0x7fcb9ab4a610>,\n",
              " <torchtext.legacy.data.example.Example at 0x7fcb9ab4a6d0>,\n",
              " <torchtext.legacy.data.example.Example at 0x7fcb9ab4a590>,\n",
              " <torchtext.legacy.data.example.Example at 0x7fcb9ab4a510>,\n",
              " <torchtext.legacy.data.example.Example at 0x7fcb9ab4a490>,\n",
              " <torchtext.legacy.data.example.Example at 0x7fcb9ab4a390>,\n",
              " <torchtext.legacy.data.example.Example at 0x7fcb9ab4a310>,\n",
              " <torchtext.legacy.data.example.Example at 0x7fcb9ab4a290>,\n",
              " <torchtext.legacy.data.example.Example at 0x7fcb9ab4a410>,\n",
              " <torchtext.legacy.data.example.Example at 0x7fcb9ab4a190>,\n",
              " <torchtext.legacy.data.example.Example at 0x7fcb9ab4a0d0>,\n",
              " <torchtext.legacy.data.example.Example at 0x7fcb9ab4a050>,\n",
              " <torchtext.legacy.data.example.Example at 0x7fcb9925cf90>,\n",
              " <torchtext.legacy.data.example.Example at 0x7fcb9925cf10>,\n",
              " <torchtext.legacy.data.example.Example at 0x7fcb9925cfd0>,\n",
              " <torchtext.legacy.data.example.Example at 0x7fcb9925ce10>,\n",
              " <torchtext.legacy.data.example.Example at 0x7fcb9925cd90>,\n",
              " <torchtext.legacy.data.example.Example at 0x7fcb9925cc90>,\n",
              " <torchtext.legacy.data.example.Example at 0x7fcb9925cb50>,\n",
              " <torchtext.legacy.data.example.Example at 0x7fcb9925cad0>,\n",
              " <torchtext.legacy.data.example.Example at 0x7fcb9925cd10>,\n",
              " <torchtext.legacy.data.example.Example at 0x7fcb9925c910>,\n",
              " <torchtext.legacy.data.example.Example at 0x7fcb9925c9d0>,\n",
              " <torchtext.legacy.data.example.Example at 0x7fcb9925c7d0>,\n",
              " <torchtext.legacy.data.example.Example at 0x7fcb9925c490>,\n",
              " <torchtext.legacy.data.example.Example at 0x7fcb9925c410>,\n",
              " <torchtext.legacy.data.example.Example at 0x7fcb9925c890>,\n",
              " <torchtext.legacy.data.example.Example at 0x7fcb9925c2d0>,\n",
              " <torchtext.legacy.data.example.Example at 0x7fcb9925c250>,\n",
              " <torchtext.legacy.data.example.Example at 0x7fcb9925c110>,\n",
              " <torchtext.legacy.data.example.Example at 0x7fcb9925c050>,\n",
              " <torchtext.legacy.data.example.Example at 0x7fcb99255f90>,\n",
              " <torchtext.legacy.data.example.Example at 0x7fcb99255fd0>,\n",
              " ...]"
            ]
          },
          "metadata": {},
          "execution_count": 374
        }
      ]
    },
    {
      "cell_type": "code",
      "metadata": {
        "id": "zFmT0RM2V_Jp"
      },
      "source": [
        "model.eval()\n",
        "cnn_res = []\n",
        "with torch.no_grad():\n",
        "    for batch in test_iterator:\n",
        "        predictions = model(batch.comment.cuda())\n",
        "        cnn_res.append(predictions)\n",
        "        "
      ],
      "execution_count": 375,
      "outputs": []
    },
    {
      "cell_type": "code",
      "metadata": {
        "id": "73_8igp9WSKJ"
      },
      "source": [
        ""
      ],
      "execution_count": 375,
      "outputs": []
    },
    {
      "cell_type": "code",
      "metadata": {
        "id": "nWqvfMAdiMQ7"
      },
      "source": [
        "testout = pd.read_csv('test_data.csv.zip', compression='zip')"
      ],
      "execution_count": 376,
      "outputs": []
    },
    {
      "cell_type": "code",
      "metadata": {
        "id": "ErodJOysXi8h",
        "outputId": "f4cc5a55-48b9-4d86-e099-5a05d069e73f",
        "colab": {
          "base_uri": "https://localhost:8080/",
          "height": 419
        }
      },
      "source": [
        "cnnpred = testout.copy()\n",
        "cnnpred['toxic'] = [float(item) for sublist in cnn_res for item in sublist]\n",
        "cnnpred.drop('comment', axis=1, inplace=True)\n",
        "cnnpred"
      ],
      "execution_count": 377,
      "outputs": [
        {
          "output_type": "execute_result",
          "data": {
            "text/html": [
              "<div>\n",
              "<style scoped>\n",
              "    .dataframe tbody tr th:only-of-type {\n",
              "        vertical-align: middle;\n",
              "    }\n",
              "\n",
              "    .dataframe tbody tr th {\n",
              "        vertical-align: top;\n",
              "    }\n",
              "\n",
              "    .dataframe thead th {\n",
              "        text-align: right;\n",
              "    }\n",
              "</style>\n",
              "<table border=\"1\" class=\"dataframe\">\n",
              "  <thead>\n",
              "    <tr style=\"text-align: right;\">\n",
              "      <th></th>\n",
              "      <th>comment_id</th>\n",
              "      <th>toxic</th>\n",
              "    </tr>\n",
              "  </thead>\n",
              "  <tbody>\n",
              "    <tr>\n",
              "      <th>0</th>\n",
              "      <td>0</td>\n",
              "      <td>-2.958906</td>\n",
              "    </tr>\n",
              "    <tr>\n",
              "      <th>1</th>\n",
              "      <td>1</td>\n",
              "      <td>4.002089</td>\n",
              "    </tr>\n",
              "    <tr>\n",
              "      <th>2</th>\n",
              "      <td>2</td>\n",
              "      <td>-0.402201</td>\n",
              "    </tr>\n",
              "    <tr>\n",
              "      <th>3</th>\n",
              "      <td>3</td>\n",
              "      <td>-2.432245</td>\n",
              "    </tr>\n",
              "    <tr>\n",
              "      <th>4</th>\n",
              "      <td>4</td>\n",
              "      <td>3.103574</td>\n",
              "    </tr>\n",
              "    <tr>\n",
              "      <th>...</th>\n",
              "      <td>...</td>\n",
              "      <td>...</td>\n",
              "    </tr>\n",
              "    <tr>\n",
              "      <th>3598</th>\n",
              "      <td>3598</td>\n",
              "      <td>-5.010084</td>\n",
              "    </tr>\n",
              "    <tr>\n",
              "      <th>3599</th>\n",
              "      <td>3599</td>\n",
              "      <td>1.808309</td>\n",
              "    </tr>\n",
              "    <tr>\n",
              "      <th>3600</th>\n",
              "      <td>3600</td>\n",
              "      <td>-0.488773</td>\n",
              "    </tr>\n",
              "    <tr>\n",
              "      <th>3601</th>\n",
              "      <td>3601</td>\n",
              "      <td>-0.287333</td>\n",
              "    </tr>\n",
              "    <tr>\n",
              "      <th>3602</th>\n",
              "      <td>3602</td>\n",
              "      <td>2.719202</td>\n",
              "    </tr>\n",
              "  </tbody>\n",
              "</table>\n",
              "<p>3603 rows × 2 columns</p>\n",
              "</div>"
            ],
            "text/plain": [
              "      comment_id     toxic\n",
              "0              0 -2.958906\n",
              "1              1  4.002089\n",
              "2              2 -0.402201\n",
              "3              3 -2.432245\n",
              "4              4  3.103574\n",
              "...          ...       ...\n",
              "3598        3598 -5.010084\n",
              "3599        3599  1.808309\n",
              "3600        3600 -0.488773\n",
              "3601        3601 -0.287333\n",
              "3602        3602  2.719202\n",
              "\n",
              "[3603 rows x 2 columns]"
            ]
          },
          "metadata": {},
          "execution_count": 377
        }
      ]
    },
    {
      "cell_type": "code",
      "metadata": {
        "id": "8roUcKR8iSzU",
        "outputId": "b854b834-0f04-476d-c74f-7f908121ee38",
        "colab": {
          "base_uri": "https://localhost:8080/",
          "height": 419
        }
      },
      "source": [
        "cnnpred['toxic'] = (cnnpred['toxic'] > 0.5).astype(int)\n",
        "cnnpred"
      ],
      "execution_count": 381,
      "outputs": [
        {
          "output_type": "execute_result",
          "data": {
            "text/html": [
              "<div>\n",
              "<style scoped>\n",
              "    .dataframe tbody tr th:only-of-type {\n",
              "        vertical-align: middle;\n",
              "    }\n",
              "\n",
              "    .dataframe tbody tr th {\n",
              "        vertical-align: top;\n",
              "    }\n",
              "\n",
              "    .dataframe thead th {\n",
              "        text-align: right;\n",
              "    }\n",
              "</style>\n",
              "<table border=\"1\" class=\"dataframe\">\n",
              "  <thead>\n",
              "    <tr style=\"text-align: right;\">\n",
              "      <th></th>\n",
              "      <th>comment_id</th>\n",
              "      <th>toxic</th>\n",
              "    </tr>\n",
              "  </thead>\n",
              "  <tbody>\n",
              "    <tr>\n",
              "      <th>0</th>\n",
              "      <td>0</td>\n",
              "      <td>1</td>\n",
              "    </tr>\n",
              "    <tr>\n",
              "      <th>1</th>\n",
              "      <td>1</td>\n",
              "      <td>0</td>\n",
              "    </tr>\n",
              "    <tr>\n",
              "      <th>2</th>\n",
              "      <td>2</td>\n",
              "      <td>1</td>\n",
              "    </tr>\n",
              "    <tr>\n",
              "      <th>3</th>\n",
              "      <td>3</td>\n",
              "      <td>1</td>\n",
              "    </tr>\n",
              "    <tr>\n",
              "      <th>4</th>\n",
              "      <td>4</td>\n",
              "      <td>0</td>\n",
              "    </tr>\n",
              "    <tr>\n",
              "      <th>...</th>\n",
              "      <td>...</td>\n",
              "      <td>...</td>\n",
              "    </tr>\n",
              "    <tr>\n",
              "      <th>3598</th>\n",
              "      <td>3598</td>\n",
              "      <td>1</td>\n",
              "    </tr>\n",
              "    <tr>\n",
              "      <th>3599</th>\n",
              "      <td>3599</td>\n",
              "      <td>0</td>\n",
              "    </tr>\n",
              "    <tr>\n",
              "      <th>3600</th>\n",
              "      <td>3600</td>\n",
              "      <td>1</td>\n",
              "    </tr>\n",
              "    <tr>\n",
              "      <th>3601</th>\n",
              "      <td>3601</td>\n",
              "      <td>1</td>\n",
              "    </tr>\n",
              "    <tr>\n",
              "      <th>3602</th>\n",
              "      <td>3602</td>\n",
              "      <td>0</td>\n",
              "    </tr>\n",
              "  </tbody>\n",
              "</table>\n",
              "<p>3603 rows × 2 columns</p>\n",
              "</div>"
            ],
            "text/plain": [
              "      comment_id  toxic\n",
              "0              0      1\n",
              "1              1      0\n",
              "2              2      1\n",
              "3              3      1\n",
              "4              4      0\n",
              "...          ...    ...\n",
              "3598        3598      1\n",
              "3599        3599      0\n",
              "3600        3600      1\n",
              "3601        3601      1\n",
              "3602        3602      0\n",
              "\n",
              "[3603 rows x 2 columns]"
            ]
          },
          "metadata": {},
          "execution_count": 381
        }
      ]
    },
    {
      "cell_type": "code",
      "metadata": {
        "id": "EgLBXlbVjAYK"
      },
      "source": [
        "cnnpred.to_csv('cnnpred_v2.csv', index=False)"
      ],
      "execution_count": 382,
      "outputs": []
    },
    {
      "cell_type": "code",
      "metadata": {
        "id": "KuZRxJski12g",
        "outputId": "baaa9537-6fc5-4bcd-8517-7a60d7c75a66",
        "colab": {
          "base_uri": "https://localhost:8080/"
        }
      },
      "source": [
        "!kaggle competitions submit -c toxic-comments-classification-apdl-2021 -f cnnpred_v1.csv -m \"kirill_setdekov cnn v2 submission\""
      ],
      "execution_count": 383,
      "outputs": [
        {
          "output_type": "stream",
          "name": "stdout",
          "text": [
            "Warning: Looks like you're using an outdated API Version, please consider updating (server 1.5.12 / client 1.5.4)\n",
            "100% 23.6k/23.6k [00:09<00:00, 2.64kB/s]\n",
            "400 - Bad Request\n"
          ]
        }
      ]
    },
    {
      "cell_type": "code",
      "metadata": {
        "id": "XR3z5XPFjFoB"
      },
      "source": [
        ""
      ],
      "execution_count": 380,
      "outputs": []
    }
  ]
}