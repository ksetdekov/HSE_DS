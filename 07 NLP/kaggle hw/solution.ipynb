{
 "cells": [
  {
   "cell_type": "code",
   "execution_count": 6,
   "metadata": {},
   "outputs": [
    {
     "name": "stdout",
     "output_type": "stream",
     "text": [
      "Requirement already satisfied: kaggle in c:\\users\\ksetd\\anaconda3\\lib\\site-packages (1.5.12)\n",
      "Requirement already satisfied: python-dateutil in c:\\users\\ksetd\\anaconda3\\lib\\site-packages (from kaggle) (2.8.1)\n",
      "Requirement already satisfied: tqdm in c:\\users\\ksetd\\anaconda3\\lib\\site-packages (from kaggle) (4.61.0)\n",
      "Requirement already satisfied: requests in c:\\users\\ksetd\\anaconda3\\lib\\site-packages (from kaggle) (2.25.1)\n",
      "Requirement already satisfied: python-slugify in c:\\users\\ksetd\\anaconda3\\lib\\site-packages (from kaggle) (5.0.2)\n",
      "Requirement already satisfied: six>=1.10 in c:\\users\\ksetd\\anaconda3\\lib\\site-packages (from kaggle) (1.16.0)\n",
      "Requirement already satisfied: urllib3 in c:\\users\\ksetd\\anaconda3\\lib\\site-packages (from kaggle) (1.26.5)\n",
      "Requirement already satisfied: certifi in c:\\users\\ksetd\\anaconda3\\lib\\site-packages (from kaggle) (2021.5.30)\n",
      "Requirement already satisfied: text-unidecode>=1.3 in c:\\users\\ksetd\\anaconda3\\lib\\site-packages (from python-slugify->kaggle) (1.3)\n",
      "Requirement already satisfied: chardet<5,>=3.0.2 in c:\\users\\ksetd\\anaconda3\\lib\\site-packages (from requests->kaggle) (4.0.0)\n",
      "Requirement already satisfied: idna<3,>=2.5 in c:\\users\\ksetd\\anaconda3\\lib\\site-packages (from requests->kaggle) (2.10)\n"
     ]
    }
   ],
   "source": [
    "!pip3 install kaggle"
   ]
  },
  {
   "cell_type": "code",
   "execution_count": 13,
   "metadata": {},
   "outputs": [
    {
     "name": "stdout",
     "output_type": "stream",
     "text": [
      "toxic-comments-classification-apdl-2021.zip: Skipping, found more recently modified local copy (use --force to force download)\n",
      "Archive:  toxic-comments-classification-apdl-2021.zip\n",
      "  inflating: data/sample_submission.csv  \n",
      "  inflating: data/test_data.csv      \n",
      "  inflating: data/train_data.csv     \n"
     ]
    }
   ],
   "source": [
    "!kaggle competitions download -c toxic-comments-classification-apdl-2021\n",
    "!unzip toxic-comments-classification-apdl-2021.zip -d data"
   ]
  },
  {
   "cell_type": "code",
   "execution_count": null,
   "metadata": {},
   "outputs": [],
   "source": []
  }
 ],
 "metadata": {
  "interpreter": {
   "hash": "102ece9fb22a5dbc66cd17e6acdf387ff87bc94873c1952b7c22cf1bcacef674"
  },
  "kernelspec": {
   "display_name": "Python 3.8.10 64-bit ('base': conda)",
   "name": "python3"
  },
  "language_info": {
   "codemirror_mode": {
    "name": "ipython",
    "version": 3
   },
   "file_extension": ".py",
   "mimetype": "text/x-python",
   "name": "python",
   "nbconvert_exporter": "python",
   "pygments_lexer": "ipython3",
   "version": "3.8.10"
  },
  "orig_nbformat": 4
 },
 "nbformat": 4,
 "nbformat_minor": 2
}
