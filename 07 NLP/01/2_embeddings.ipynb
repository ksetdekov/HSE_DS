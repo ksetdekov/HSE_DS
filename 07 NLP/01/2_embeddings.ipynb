{
  "nbformat": 4,
  "nbformat_minor": 0,
  "metadata": {
    "colab": {
      "name": "2_embeddings.ipynb",
      "provenance": []
    },
    "kernelspec": {
      "display_name": "Python 3",
      "language": "python",
      "name": "python3"
    },
    "language_info": {
      "codemirror_mode": {
        "name": "ipython",
        "version": 3
      },
      "file_extension": ".py",
      "mimetype": "text/x-python",
      "name": "python",
      "nbconvert_exporter": "python",
      "pygments_lexer": "ipython3",
      "version": "3.8.5"
    },
    "widgets": {
      "application/vnd.jupyter.widget-state+json": {
        "6c00ff5a44ed4b3cae9b8e7751b0c260": {
          "model_module": "@jupyter-widgets/controls",
          "model_name": "HBoxModel",
          "model_module_version": "1.5.0",
          "state": {
            "_view_name": "HBoxView",
            "_dom_classes": [],
            "_model_name": "HBoxModel",
            "_view_module": "@jupyter-widgets/controls",
            "_model_module_version": "1.5.0",
            "_view_count": null,
            "_view_module_version": "1.5.0",
            "box_style": "",
            "layout": "IPY_MODEL_6646dcbe4016422cb9a76fbea15c7437",
            "_model_module": "@jupyter-widgets/controls",
            "children": [
              "IPY_MODEL_4a3d69d4f15340fcbb129226108910d2",
              "IPY_MODEL_ce62130789374e8a8ecadb6f58ca15d6",
              "IPY_MODEL_f72ed0fe0eb34056a084a1593678476c"
            ]
          }
        },
        "6646dcbe4016422cb9a76fbea15c7437": {
          "model_module": "@jupyter-widgets/base",
          "model_name": "LayoutModel",
          "model_module_version": "1.2.0",
          "state": {
            "_view_name": "LayoutView",
            "grid_template_rows": null,
            "right": null,
            "justify_content": null,
            "_view_module": "@jupyter-widgets/base",
            "overflow": null,
            "_model_module_version": "1.2.0",
            "_view_count": null,
            "flex_flow": null,
            "width": null,
            "min_width": null,
            "border": null,
            "align_items": null,
            "bottom": null,
            "_model_module": "@jupyter-widgets/base",
            "top": null,
            "grid_column": null,
            "overflow_y": null,
            "overflow_x": null,
            "grid_auto_flow": null,
            "grid_area": null,
            "grid_template_columns": null,
            "flex": null,
            "_model_name": "LayoutModel",
            "justify_items": null,
            "grid_row": null,
            "max_height": null,
            "align_content": null,
            "visibility": null,
            "align_self": null,
            "height": null,
            "min_height": null,
            "padding": null,
            "grid_auto_rows": null,
            "grid_gap": null,
            "max_width": null,
            "order": null,
            "_view_module_version": "1.2.0",
            "grid_template_areas": null,
            "object_position": null,
            "object_fit": null,
            "grid_auto_columns": null,
            "margin": null,
            "display": null,
            "left": null
          }
        },
        "4a3d69d4f15340fcbb129226108910d2": {
          "model_module": "@jupyter-widgets/controls",
          "model_name": "HTMLModel",
          "model_module_version": "1.5.0",
          "state": {
            "_view_name": "HTMLView",
            "style": "IPY_MODEL_bab648b953ff4a59b2ee4b3b555282ac",
            "_dom_classes": [],
            "description": "",
            "_model_name": "HTMLModel",
            "placeholder": "​",
            "_view_module": "@jupyter-widgets/controls",
            "_model_module_version": "1.5.0",
            "value": "100%",
            "_view_count": null,
            "_view_module_version": "1.5.0",
            "description_tooltip": null,
            "_model_module": "@jupyter-widgets/controls",
            "layout": "IPY_MODEL_39b2b371b47b4198bdb10124f068cb62"
          }
        },
        "ce62130789374e8a8ecadb6f58ca15d6": {
          "model_module": "@jupyter-widgets/controls",
          "model_name": "FloatProgressModel",
          "model_module_version": "1.5.0",
          "state": {
            "_view_name": "ProgressView",
            "style": "IPY_MODEL_e08be117c62542b1b6f54cb2a9a1ac8c",
            "_dom_classes": [],
            "description": "",
            "_model_name": "FloatProgressModel",
            "bar_style": "success",
            "max": 50000,
            "_view_module": "@jupyter-widgets/controls",
            "_model_module_version": "1.5.0",
            "value": 50000,
            "_view_count": null,
            "_view_module_version": "1.5.0",
            "orientation": "horizontal",
            "min": 0,
            "description_tooltip": null,
            "_model_module": "@jupyter-widgets/controls",
            "layout": "IPY_MODEL_73c092a470a84eff8beb68c88ef639bf"
          }
        },
        "f72ed0fe0eb34056a084a1593678476c": {
          "model_module": "@jupyter-widgets/controls",
          "model_name": "HTMLModel",
          "model_module_version": "1.5.0",
          "state": {
            "_view_name": "HTMLView",
            "style": "IPY_MODEL_e91efe1d63264861900d68c4f7909989",
            "_dom_classes": [],
            "description": "",
            "_model_name": "HTMLModel",
            "placeholder": "​",
            "_view_module": "@jupyter-widgets/controls",
            "_model_module_version": "1.5.0",
            "value": " 50000/50000 [02:20&lt;00:00, 328.87it/s]",
            "_view_count": null,
            "_view_module_version": "1.5.0",
            "description_tooltip": null,
            "_model_module": "@jupyter-widgets/controls",
            "layout": "IPY_MODEL_1441581363824d43b3b8041eacc2253a"
          }
        },
        "bab648b953ff4a59b2ee4b3b555282ac": {
          "model_module": "@jupyter-widgets/controls",
          "model_name": "DescriptionStyleModel",
          "model_module_version": "1.5.0",
          "state": {
            "_view_name": "StyleView",
            "_model_name": "DescriptionStyleModel",
            "description_width": "",
            "_view_module": "@jupyter-widgets/base",
            "_model_module_version": "1.5.0",
            "_view_count": null,
            "_view_module_version": "1.2.0",
            "_model_module": "@jupyter-widgets/controls"
          }
        },
        "39b2b371b47b4198bdb10124f068cb62": {
          "model_module": "@jupyter-widgets/base",
          "model_name": "LayoutModel",
          "model_module_version": "1.2.0",
          "state": {
            "_view_name": "LayoutView",
            "grid_template_rows": null,
            "right": null,
            "justify_content": null,
            "_view_module": "@jupyter-widgets/base",
            "overflow": null,
            "_model_module_version": "1.2.0",
            "_view_count": null,
            "flex_flow": null,
            "width": null,
            "min_width": null,
            "border": null,
            "align_items": null,
            "bottom": null,
            "_model_module": "@jupyter-widgets/base",
            "top": null,
            "grid_column": null,
            "overflow_y": null,
            "overflow_x": null,
            "grid_auto_flow": null,
            "grid_area": null,
            "grid_template_columns": null,
            "flex": null,
            "_model_name": "LayoutModel",
            "justify_items": null,
            "grid_row": null,
            "max_height": null,
            "align_content": null,
            "visibility": null,
            "align_self": null,
            "height": null,
            "min_height": null,
            "padding": null,
            "grid_auto_rows": null,
            "grid_gap": null,
            "max_width": null,
            "order": null,
            "_view_module_version": "1.2.0",
            "grid_template_areas": null,
            "object_position": null,
            "object_fit": null,
            "grid_auto_columns": null,
            "margin": null,
            "display": null,
            "left": null
          }
        },
        "e08be117c62542b1b6f54cb2a9a1ac8c": {
          "model_module": "@jupyter-widgets/controls",
          "model_name": "ProgressStyleModel",
          "model_module_version": "1.5.0",
          "state": {
            "_view_name": "StyleView",
            "_model_name": "ProgressStyleModel",
            "description_width": "",
            "_view_module": "@jupyter-widgets/base",
            "_model_module_version": "1.5.0",
            "_view_count": null,
            "_view_module_version": "1.2.0",
            "bar_color": null,
            "_model_module": "@jupyter-widgets/controls"
          }
        },
        "73c092a470a84eff8beb68c88ef639bf": {
          "model_module": "@jupyter-widgets/base",
          "model_name": "LayoutModel",
          "model_module_version": "1.2.0",
          "state": {
            "_view_name": "LayoutView",
            "grid_template_rows": null,
            "right": null,
            "justify_content": null,
            "_view_module": "@jupyter-widgets/base",
            "overflow": null,
            "_model_module_version": "1.2.0",
            "_view_count": null,
            "flex_flow": null,
            "width": null,
            "min_width": null,
            "border": null,
            "align_items": null,
            "bottom": null,
            "_model_module": "@jupyter-widgets/base",
            "top": null,
            "grid_column": null,
            "overflow_y": null,
            "overflow_x": null,
            "grid_auto_flow": null,
            "grid_area": null,
            "grid_template_columns": null,
            "flex": null,
            "_model_name": "LayoutModel",
            "justify_items": null,
            "grid_row": null,
            "max_height": null,
            "align_content": null,
            "visibility": null,
            "align_self": null,
            "height": null,
            "min_height": null,
            "padding": null,
            "grid_auto_rows": null,
            "grid_gap": null,
            "max_width": null,
            "order": null,
            "_view_module_version": "1.2.0",
            "grid_template_areas": null,
            "object_position": null,
            "object_fit": null,
            "grid_auto_columns": null,
            "margin": null,
            "display": null,
            "left": null
          }
        },
        "e91efe1d63264861900d68c4f7909989": {
          "model_module": "@jupyter-widgets/controls",
          "model_name": "DescriptionStyleModel",
          "model_module_version": "1.5.0",
          "state": {
            "_view_name": "StyleView",
            "_model_name": "DescriptionStyleModel",
            "description_width": "",
            "_view_module": "@jupyter-widgets/base",
            "_model_module_version": "1.5.0",
            "_view_count": null,
            "_view_module_version": "1.2.0",
            "_model_module": "@jupyter-widgets/controls"
          }
        },
        "1441581363824d43b3b8041eacc2253a": {
          "model_module": "@jupyter-widgets/base",
          "model_name": "LayoutModel",
          "model_module_version": "1.2.0",
          "state": {
            "_view_name": "LayoutView",
            "grid_template_rows": null,
            "right": null,
            "justify_content": null,
            "_view_module": "@jupyter-widgets/base",
            "overflow": null,
            "_model_module_version": "1.2.0",
            "_view_count": null,
            "flex_flow": null,
            "width": null,
            "min_width": null,
            "border": null,
            "align_items": null,
            "bottom": null,
            "_model_module": "@jupyter-widgets/base",
            "top": null,
            "grid_column": null,
            "overflow_y": null,
            "overflow_x": null,
            "grid_auto_flow": null,
            "grid_area": null,
            "grid_template_columns": null,
            "flex": null,
            "_model_name": "LayoutModel",
            "justify_items": null,
            "grid_row": null,
            "max_height": null,
            "align_content": null,
            "visibility": null,
            "align_self": null,
            "height": null,
            "min_height": null,
            "padding": null,
            "grid_auto_rows": null,
            "grid_gap": null,
            "max_width": null,
            "order": null,
            "_view_module_version": "1.2.0",
            "grid_template_areas": null,
            "object_position": null,
            "object_fit": null,
            "grid_auto_columns": null,
            "margin": null,
            "display": null,
            "left": null
          }
        }
      }
    }
  },
  "cells": [
    {
      "cell_type": "markdown",
      "metadata": {
        "id": "ypt7ymI8X-rM"
      },
      "source": [
        "<h1><center>Векторные представления слов</center></h1>\n",
        "\n"
      ]
    },
    {
      "cell_type": "markdown",
      "metadata": {
        "id": "Z3sSyfHaX-rN"
      },
      "source": [
        "![w2v](https://cdn-images-1.medium.com/max/2600/1*sXNXYfAqfLUeiDXPCo130w.png)"
      ]
    },
    {
      "cell_type": "markdown",
      "metadata": {
        "id": "0oH_UDyFX-rO"
      },
      "source": [
        "Есть три сценария работы с векторными представлениями:\n",
        "- Взять предобученную модель\n",
        "- Обучить свою модель \n",
        "- Взять предобученную модель и дообучить ее\n",
        "\n",
        "\n",
        "## Предобученные модели: RusVectōrēs\n",
        "\n",
        "\n",
        "На сайте [RusVectōrēs](https://rusvectores.org/ru/) собраны предобученные на различных данных модели для русского языка, а также можно поискать наиболее близкие слова к заданному, посчитать семантическую близость нескольких слов и порешать примеры с помощью «калькулятора семантической близости».\n",
        "\n",
        "\n",
        "Для других языков также можно найти предобученные модели — например, модели [fastText](https://fasttext.cc/docs/en/english-vectors.html) и [GloVe](https://nlp.stanford.edu/projects/glove/) (о них чуть дальше)."
      ]
    },
    {
      "cell_type": "markdown",
      "metadata": {
        "id": "yXNm8flVX-rP"
      },
      "source": [
        "## Gensim\n",
        "\n",
        "Использовать предобученную модель или обучить свою можно с помощью библиотеки `gensim`. Вот [ее документация](https://radimrehurek.com/gensim/models/word2vec.html).\n",
        "\n",
        "### Как использовать готовую модель\n",
        "\n",
        "Модели word2vec бывают разных форматов:\n",
        "\n",
        "* .vec.gz — обычный текстовый файл \n",
        "* .bin.gz — бинарный файл\n",
        "\n",
        "Загружаются они с помощью одного и того же класса `KeyedVectors`, меняется только параметр `binary` у функции `load_word2vec_format`. \n",
        "\n",
        "Если же векторы обучены **не** с помощью word2vec, то для загрузки нужно использовать функцию `load`. Т.е. для загрузки предобученных моделей *glove, fasttext, bpe* и любых других нужна именно она.\n",
        "\n",
        "Скачаем с RusVectōrēs модель для русского языка, обученную на НКРЯ : https://rusvectores.org/ru/models/"
      ]
    },
    {
      "cell_type": "code",
      "metadata": {
        "colab": {
          "base_uri": "https://localhost:8080/"
        },
        "id": "sTLnNKaNX-rP",
        "outputId": "907e5ba4-ccb6-4cb7-9f2e-b1048377ddb4"
      },
      "source": [
        "import re\n",
        "import gensim\n",
        "import logging\n",
        "import nltk.data \n",
        "import pandas as pd\n",
        "from nltk.corpus import stopwords\n",
        "from gensim.models import word2vec\n",
        "from nltk.tokenize import sent_tokenize, RegexpTokenizer\n",
        "nltk.download('punkt')"
      ],
      "execution_count": 1,
      "outputs": [
        {
          "output_type": "stream",
          "name": "stdout",
          "text": [
            "[nltk_data] Downloading package punkt to /root/nltk_data...\n",
            "[nltk_data]   Unzipping tokenizers/punkt.zip.\n"
          ]
        },
        {
          "output_type": "execute_result",
          "data": {
            "text/plain": [
              "True"
            ]
          },
          "metadata": {},
          "execution_count": 1
        }
      ]
    },
    {
      "cell_type": "markdown",
      "metadata": {
        "id": "0Ce8JzeIUu-M"
      },
      "source": [
        "mystem - модель для контекста"
      ]
    },
    {
      "cell_type": "code",
      "metadata": {
        "colab": {
          "base_uri": "https://localhost:8080/"
        },
        "id": "hzmv_0M9TTAf",
        "outputId": "b387cb98-14a4-498c-f8cf-d3356c314b50"
      },
      "source": [
        "!wget https://rusvectores.org/static/models/rusvectores2/ruscorpora_mystem_cbow_300_2_2015.bin.gz"
      ],
      "execution_count": 2,
      "outputs": [
        {
          "output_type": "stream",
          "name": "stdout",
          "text": [
            "--2021-10-23 13:24:15--  https://rusvectores.org/static/models/rusvectores2/ruscorpora_mystem_cbow_300_2_2015.bin.gz\n",
            "Resolving rusvectores.org (rusvectores.org)... 116.203.104.23\n",
            "Connecting to rusvectores.org (rusvectores.org)|116.203.104.23|:443... connected.\n",
            "HTTP request sent, awaiting response... 200 OK\n",
            "Length: 317128925 (302M) [application/x-gzip]\n",
            "Saving to: ‘ruscorpora_mystem_cbow_300_2_2015.bin.gz’\n",
            "\n",
            "ruscorpora_mystem_c 100%[===================>] 302.44M  17.2MB/s    in 18s     \n",
            "\n",
            "2021-10-23 13:24:34 (16.6 MB/s) - ‘ruscorpora_mystem_cbow_300_2_2015.bin.gz’ saved [317128925/317128925]\n",
            "\n"
          ]
        }
      ]
    },
    {
      "cell_type": "code",
      "metadata": {
        "id": "mkuCawyFX-rW"
      },
      "source": [
        "model_path = 'ruscorpora_mystem_cbow_300_2_2015.bin.gz'\n",
        "\n",
        "model_ru = gensim.models.KeyedVectors.load_word2vec_format(model_path, binary=True)"
      ],
      "execution_count": 3,
      "outputs": []
    },
    {
      "cell_type": "code",
      "metadata": {
        "id": "H4D0hMgkX-rY"
      },
      "source": [
        "words = ['день_S', 'ночь_S', 'человек_S', 'семантика_S', 'биткоин_S']"
      ],
      "execution_count": 4,
      "outputs": []
    },
    {
      "cell_type": "markdown",
      "metadata": {
        "id": "jbTShU9aX-ra"
      },
      "source": [
        "Частеречные тэги нужны, поскольку это специфика скачанной модели - она была натренирована на словах, аннотированных их частями речи (и лемматизированных). **Важно!** В названиях моделей на `rusvectores` указано, какой набор тегов они используют (mystem, upos и т.д.)\n",
        "\n",
        "Попросим у модели 10 ближайших соседей для каждого слова и коэффициент косинусной близости для каждого:"
      ]
    },
    {
      "cell_type": "code",
      "metadata": {
        "colab": {
          "base_uri": "https://localhost:8080/"
        },
        "id": "7hkdwUQ6VgKl",
        "outputId": "5a3ade92-c5c4-4a56-f5d7-b4350a6fe38f"
      },
      "source": [
        "model_ru['день_S']"
      ],
      "execution_count": 5,
      "outputs": [
        {
          "output_type": "execute_result",
          "data": {
            "text/plain": [
              "array([-2.58077830e-02,  9.70898289e-03,  1.94196142e-02, -2.33228188e-02,\n",
              "        2.01762430e-02,  7.27508515e-02, -1.44437514e-02,  3.31663229e-02,\n",
              "        1.24260169e-02,  2.83341166e-02,  4.75758612e-02, -6.74994662e-02,\n",
              "       -4.56242338e-02, -3.82362120e-02, -4.08975147e-02, -1.93592049e-02,\n",
              "       -5.46496436e-02,  6.05990365e-02,  1.86657477e-02,  1.17075525e-03,\n",
              "        1.45885618e-02,  6.61382377e-02,  1.13405257e-01, -8.19413271e-03,\n",
              "        7.24334344e-02, -4.19386663e-02, -1.37156220e-02,  2.54961550e-02,\n",
              "        8.49658623e-02, -7.62579450e-03, -7.05886930e-02,  1.13083599e-02,\n",
              "        1.76929813e-02,  4.63401824e-02, -2.40237657e-02,  4.37417664e-02,\n",
              "       -3.30210850e-02,  8.13574996e-03, -2.76510771e-02, -1.81294065e-02,\n",
              "       -1.09475121e-01, -5.03193773e-02, -3.00475135e-02,  5.72709963e-02,\n",
              "        1.91356093e-02,  5.41937500e-02,  5.65757416e-02,  1.61090903e-02,\n",
              "       -1.94211546e-02, -7.92414770e-02,  4.73475195e-02, -1.39359400e-01,\n",
              "       -3.52074392e-02,  6.72884583e-02,  8.30058977e-02, -8.95632952e-02,\n",
              "       -5.90093099e-02, -1.19917793e-02,  1.20782569e-01,  6.22319011e-03,\n",
              "       -5.18272966e-02, -1.07886195e-02, -2.87789572e-02,  4.82277013e-03,\n",
              "       -2.30121035e-02, -1.29967526e-01,  5.91163449e-02,  3.33381891e-02,\n",
              "        6.38459635e-04, -1.84594225e-02,  2.58637257e-02,  2.43380331e-02,\n",
              "       -8.54034051e-02,  2.55371295e-02,  8.71944986e-03, -7.19348416e-02,\n",
              "       -6.58907220e-02, -8.91821310e-02,  6.15056343e-02, -4.35328856e-02,\n",
              "        7.59934410e-02,  7.21082389e-02,  2.62713954e-02, -3.46543565e-02,\n",
              "        4.27282006e-02, -1.18809679e-04, -9.54782292e-02,  1.55995535e-02,\n",
              "       -2.20026020e-02, -7.14318231e-02,  3.89865935e-02,  6.43170550e-02,\n",
              "        6.21261895e-02,  8.85778144e-02,  1.58112310e-02, -4.28302772e-02,\n",
              "        6.07937686e-02,  2.21176203e-02, -1.06003702e-01, -2.81941667e-02,\n",
              "       -1.44231515e-02,  5.07102497e-02,  3.87375839e-02,  3.11916508e-02,\n",
              "       -1.82393771e-02, -4.89799753e-02,  6.12056628e-02, -4.18315753e-02,\n",
              "       -2.00993661e-02, -8.76840577e-02,  6.43424243e-02,  4.88708131e-02,\n",
              "       -4.74324487e-02, -6.93516359e-02, -4.74783629e-02, -3.21247652e-02,\n",
              "       -5.54559529e-02,  2.00752392e-02, -1.04963528e-02, -8.19135159e-02,\n",
              "        1.66937262e-02,  2.64643766e-02, -1.51915357e-01, -8.13716464e-03,\n",
              "       -4.10890020e-02,  1.40078068e-01, -4.84387539e-02, -7.85832778e-02,\n",
              "       -3.67129967e-02, -6.95937425e-02,  1.53076183e-03,  6.50020391e-02,\n",
              "       -3.98385711e-03, -6.01322427e-02,  3.44607271e-02,  4.80378838e-03,\n",
              "       -1.11079045e-01, -1.20340347e-01, -5.52818999e-02,  6.20386079e-02,\n",
              "        1.02676027e-01,  7.53949815e-03,  3.49593051e-02,  8.80381688e-02,\n",
              "       -5.85209951e-02, -6.96515590e-02,  4.01767194e-02, -8.70037004e-02,\n",
              "        3.02758925e-02,  8.76715779e-03,  4.76004183e-02,  4.22877371e-02,\n",
              "        5.42625487e-02,  5.32811098e-02, -4.19937819e-02, -9.21866372e-02,\n",
              "       -1.88529864e-02, -1.77997758e-03,  2.59323437e-02,  5.18883392e-02,\n",
              "        9.43298743e-04, -2.25879513e-02, -1.02993198e-01,  1.04743885e-02,\n",
              "        1.87779944e-02,  5.49862394e-03,  1.10033438e-01, -3.25169340e-02,\n",
              "       -9.93499998e-03, -1.21976428e-01,  3.78490463e-02,  7.35332211e-03,\n",
              "        4.54608537e-02,  1.46814600e-01, -4.23800871e-02, -2.11027078e-02,\n",
              "       -5.62883429e-02, -4.61478420e-02,  1.95668656e-02,  8.90783742e-02,\n",
              "       -9.97284893e-03, -3.49526256e-02,  1.03941159e-02, -5.57549149e-02,\n",
              "       -4.96494845e-02, -4.69070487e-02, -7.06362054e-02, -3.03012468e-02,\n",
              "       -1.05956391e-01,  5.91594093e-02, -1.09907715e-02,  1.58233996e-02,\n",
              "        3.91663462e-02, -1.13975639e-02,  2.14214642e-02,  5.57124913e-02,\n",
              "       -5.26516512e-02,  5.22755869e-02, -9.27674863e-03, -2.04710178e-02,\n",
              "       -9.62752700e-02, -9.00235251e-02, -7.20042437e-02, -5.70133850e-02,\n",
              "       -1.51277091e-02,  5.91755472e-02,  2.11575497e-02,  8.22618306e-02,\n",
              "       -9.25923362e-02, -5.13561768e-03,  6.48972392e-02, -4.77684066e-02,\n",
              "       -7.58469403e-02,  5.75753748e-02,  7.16611696e-03,  6.50430610e-03,\n",
              "        6.33490458e-02, -1.17547363e-01,  7.87863657e-02,  5.98374866e-02,\n",
              "        2.15039868e-03, -8.13036337e-02, -2.16318714e-03, -4.60583270e-02,\n",
              "        2.85146851e-02,  4.03225869e-02, -4.54862379e-02, -3.53436284e-02,\n",
              "        3.29775251e-02,  5.98669536e-02, -3.37645747e-02, -8.39742869e-02,\n",
              "        3.62364249e-03, -4.08622026e-02, -4.77446169e-02, -3.79615687e-02,\n",
              "        1.01642318e-01, -3.99249941e-02,  9.61365551e-02, -4.93549258e-02,\n",
              "       -6.07962720e-02,  9.43952519e-03, -1.38325557e-01,  2.46788170e-02,\n",
              "        1.84136014e-02,  2.98946612e-02,  4.88012843e-02,  1.70112848e-02,\n",
              "       -2.76113804e-02, -1.02591477e-02, -4.40204097e-03, -1.03449404e-01,\n",
              "       -7.79474713e-03, -6.32358268e-02,  4.82041202e-02,  4.44415957e-02,\n",
              "        6.66422173e-02, -5.14092334e-02, -4.25086319e-02, -1.12684295e-01,\n",
              "        1.92611180e-02, -8.99588391e-02, -1.83694111e-03,  2.55850377e-03,\n",
              "       -3.79503295e-02,  1.05630308e-01, -1.88559797e-02,  1.91774815e-02,\n",
              "        3.87130789e-02, -7.77015612e-02, -1.00088812e-01,  8.09464455e-02,\n",
              "        5.50556369e-02,  3.08835953e-02,  7.86355697e-03, -3.72998193e-02,\n",
              "        2.54844292e-03,  2.51306277e-02,  4.19713221e-02,  1.32589504e-01,\n",
              "       -1.72885843e-02,  7.58236693e-03,  4.70732003e-02, -5.69858551e-02,\n",
              "        3.53341214e-02, -7.49896243e-02, -1.81919858e-01,  2.55213827e-02,\n",
              "        1.03098385e-01,  9.72072482e-02, -2.45664641e-02, -5.40326312e-02,\n",
              "       -3.55372429e-02, -7.08062798e-02, -1.39350612e-02,  4.49802540e-02,\n",
              "       -5.91208525e-02,  1.00762788e-02,  5.81952222e-02,  5.49663790e-02],\n",
              "      dtype=float32)"
            ]
          },
          "metadata": {},
          "execution_count": 5
        }
      ]
    },
    {
      "cell_type": "code",
      "metadata": {
        "colab": {
          "base_uri": "https://localhost:8080/"
        },
        "id": "9Uer5sHyX-ra",
        "outputId": "a9e0c73d-b626-4501-8152-5cf5b0820bad"
      },
      "source": [
        "for word in words:\n",
        "    # есть ли слово в модели? \n",
        "    if word in model_ru:\n",
        "        print(word)\n",
        "        # выдаем 10 ближайших соседей слова:\n",
        "        for word, sim in model_ru.most_similar(positive=[word], topn=10):\n",
        "            # слово + коэффициент косинусной близости\n",
        "            print(word, ': ', sim)\n",
        "        print('\\n')\n",
        "    else:\n",
        "        # Увы!\n",
        "        print(f'Увы, слова \"{word}\" нет в модели!')"
      ],
      "execution_count": 6,
      "outputs": [
        {
          "output_type": "stream",
          "name": "stdout",
          "text": [
            "день_S\n",
            "неделя_S :  0.7165195941925049\n",
            "месяц_S :  0.631048858165741\n",
            "вечер_S :  0.5828739404678345\n",
            "утро_S :  0.5676207542419434\n",
            "час_S :  0.5605547428131104\n",
            "минута_S :  0.5297019481658936\n",
            "гекатомбеон_S :  0.4897990822792053\n",
            "денек_S :  0.48224714398384094\n",
            "полчаса_S :  0.48217129707336426\n",
            "ночь_S :  0.478074848651886\n",
            "\n",
            "\n",
            "ночь_S\n",
            "вечер_S :  0.6946247816085815\n",
            "утро_S :  0.57301926612854\n",
            "ноченька_S :  0.5582467317581177\n",
            "рассвет_S :  0.5553582906723022\n",
            "ночка_S :  0.5351512432098389\n",
            "полдень_S :  0.5334426164627075\n",
            "полночь_S :  0.478694349527359\n",
            "день_S :  0.4780748784542084\n",
            "сумерки_S :  0.4390218257904053\n",
            "фундерфун_S :  0.4340824782848358\n",
            "\n",
            "\n",
            "человек_S\n",
            "женщина_S :  0.5979775190353394\n",
            "парень_S :  0.4991787374019623\n",
            "мужчина_S :  0.4767409563064575\n",
            "мужик_S :  0.47384002804756165\n",
            "россиянин_S :  0.47190436720848083\n",
            "народ_S :  0.4654741883277893\n",
            "согражданин_S :  0.45378512144088745\n",
            "горожанин_S :  0.44368088245391846\n",
            "девушка_S :  0.44314485788345337\n",
            "иностранец_S :  0.43849867582321167\n",
            "\n",
            "\n",
            "семантика_S\n",
            "семантический_A :  0.5334584712982178\n",
            "понятие_S :  0.5030269622802734\n",
            "сочетаемость_S :  0.4817051291465759\n",
            "актант_S :  0.47596412897109985\n",
            "хронотоп_S :  0.46330299973487854\n",
            "метафора_S :  0.46158894896507263\n",
            "мышление_S :  0.4610119163990021\n",
            "парадигма_S :  0.45796656608581543\n",
            "лексема_S :  0.45688074827194214\n",
            "смысловой_A :  0.4543077349662781\n",
            "\n",
            "\n",
            "Увы, слова \"биткоин_S\" нет в модели!\n"
          ]
        }
      ]
    },
    {
      "cell_type": "code",
      "metadata": {
        "colab": {
          "base_uri": "https://localhost:8080/",
          "height": 306
        },
        "id": "8cA-wQiZTTAg",
        "outputId": "6978b49e-6a6c-44ce-a911-87e146604706"
      },
      "source": [
        "model_ru['биткоин_S']"
      ],
      "execution_count": 7,
      "outputs": [
        {
          "output_type": "error",
          "ename": "KeyError",
          "evalue": "ignored",
          "traceback": [
            "\u001b[0;31m---------------------------------------------------------------------------\u001b[0m",
            "\u001b[0;31mKeyError\u001b[0m                                  Traceback (most recent call last)",
            "\u001b[0;32m<ipython-input-7-86f583aeefee>\u001b[0m in \u001b[0;36m<module>\u001b[0;34m()\u001b[0m\n\u001b[0;32m----> 1\u001b[0;31m \u001b[0mmodel_ru\u001b[0m\u001b[0;34m[\u001b[0m\u001b[0;34m'биткоин_S'\u001b[0m\u001b[0;34m]\u001b[0m\u001b[0;34m\u001b[0m\u001b[0;34m\u001b[0m\u001b[0m\n\u001b[0m",
            "\u001b[0;32m/usr/local/lib/python3.7/dist-packages/gensim/models/keyedvectors.py\u001b[0m in \u001b[0;36m__getitem__\u001b[0;34m(self, entities)\u001b[0m\n\u001b[1;32m    335\u001b[0m         \u001b[0;32mif\u001b[0m \u001b[0misinstance\u001b[0m\u001b[0;34m(\u001b[0m\u001b[0mentities\u001b[0m\u001b[0;34m,\u001b[0m \u001b[0mstring_types\u001b[0m\u001b[0;34m)\u001b[0m\u001b[0;34m:\u001b[0m\u001b[0;34m\u001b[0m\u001b[0;34m\u001b[0m\u001b[0m\n\u001b[1;32m    336\u001b[0m             \u001b[0;31m# allow calls like trained_model['office'], as a shorthand for trained_model[['office']]\u001b[0m\u001b[0;34m\u001b[0m\u001b[0;34m\u001b[0m\u001b[0;34m\u001b[0m\u001b[0m\n\u001b[0;32m--> 337\u001b[0;31m             \u001b[0;32mreturn\u001b[0m \u001b[0mself\u001b[0m\u001b[0;34m.\u001b[0m\u001b[0mget_vector\u001b[0m\u001b[0;34m(\u001b[0m\u001b[0mentities\u001b[0m\u001b[0;34m)\u001b[0m\u001b[0;34m\u001b[0m\u001b[0;34m\u001b[0m\u001b[0m\n\u001b[0m\u001b[1;32m    338\u001b[0m \u001b[0;34m\u001b[0m\u001b[0m\n\u001b[1;32m    339\u001b[0m         \u001b[0;32mreturn\u001b[0m \u001b[0mvstack\u001b[0m\u001b[0;34m(\u001b[0m\u001b[0;34m[\u001b[0m\u001b[0mself\u001b[0m\u001b[0;34m.\u001b[0m\u001b[0mget_vector\u001b[0m\u001b[0;34m(\u001b[0m\u001b[0mentity\u001b[0m\u001b[0;34m)\u001b[0m \u001b[0;32mfor\u001b[0m \u001b[0mentity\u001b[0m \u001b[0;32min\u001b[0m \u001b[0mentities\u001b[0m\u001b[0;34m]\u001b[0m\u001b[0;34m)\u001b[0m\u001b[0;34m\u001b[0m\u001b[0;34m\u001b[0m\u001b[0m\n",
            "\u001b[0;32m/usr/local/lib/python3.7/dist-packages/gensim/models/keyedvectors.py\u001b[0m in \u001b[0;36mget_vector\u001b[0;34m(self, word)\u001b[0m\n\u001b[1;32m    453\u001b[0m \u001b[0;34m\u001b[0m\u001b[0m\n\u001b[1;32m    454\u001b[0m     \u001b[0;32mdef\u001b[0m \u001b[0mget_vector\u001b[0m\u001b[0;34m(\u001b[0m\u001b[0mself\u001b[0m\u001b[0;34m,\u001b[0m \u001b[0mword\u001b[0m\u001b[0;34m)\u001b[0m\u001b[0;34m:\u001b[0m\u001b[0;34m\u001b[0m\u001b[0;34m\u001b[0m\u001b[0m\n\u001b[0;32m--> 455\u001b[0;31m         \u001b[0;32mreturn\u001b[0m \u001b[0mself\u001b[0m\u001b[0;34m.\u001b[0m\u001b[0mword_vec\u001b[0m\u001b[0;34m(\u001b[0m\u001b[0mword\u001b[0m\u001b[0;34m)\u001b[0m\u001b[0;34m\u001b[0m\u001b[0;34m\u001b[0m\u001b[0m\n\u001b[0m\u001b[1;32m    456\u001b[0m \u001b[0;34m\u001b[0m\u001b[0m\n\u001b[1;32m    457\u001b[0m     \u001b[0;32mdef\u001b[0m \u001b[0mwords_closer_than\u001b[0m\u001b[0;34m(\u001b[0m\u001b[0mself\u001b[0m\u001b[0;34m,\u001b[0m \u001b[0mw1\u001b[0m\u001b[0;34m,\u001b[0m \u001b[0mw2\u001b[0m\u001b[0;34m)\u001b[0m\u001b[0;34m:\u001b[0m\u001b[0;34m\u001b[0m\u001b[0;34m\u001b[0m\u001b[0m\n",
            "\u001b[0;32m/usr/local/lib/python3.7/dist-packages/gensim/models/keyedvectors.py\u001b[0m in \u001b[0;36mword_vec\u001b[0;34m(self, word, use_norm)\u001b[0m\n\u001b[1;32m    450\u001b[0m             \u001b[0;32mreturn\u001b[0m \u001b[0mresult\u001b[0m\u001b[0;34m\u001b[0m\u001b[0;34m\u001b[0m\u001b[0m\n\u001b[1;32m    451\u001b[0m         \u001b[0;32melse\u001b[0m\u001b[0;34m:\u001b[0m\u001b[0;34m\u001b[0m\u001b[0;34m\u001b[0m\u001b[0m\n\u001b[0;32m--> 452\u001b[0;31m             \u001b[0;32mraise\u001b[0m \u001b[0mKeyError\u001b[0m\u001b[0;34m(\u001b[0m\u001b[0;34m\"word '%s' not in vocabulary\"\u001b[0m \u001b[0;34m%\u001b[0m \u001b[0mword\u001b[0m\u001b[0;34m)\u001b[0m\u001b[0;34m\u001b[0m\u001b[0;34m\u001b[0m\u001b[0m\n\u001b[0m\u001b[1;32m    453\u001b[0m \u001b[0;34m\u001b[0m\u001b[0m\n\u001b[1;32m    454\u001b[0m     \u001b[0;32mdef\u001b[0m \u001b[0mget_vector\u001b[0m\u001b[0;34m(\u001b[0m\u001b[0mself\u001b[0m\u001b[0;34m,\u001b[0m \u001b[0mword\u001b[0m\u001b[0;34m)\u001b[0m\u001b[0;34m:\u001b[0m\u001b[0;34m\u001b[0m\u001b[0;34m\u001b[0m\u001b[0m\n",
            "\u001b[0;31mKeyError\u001b[0m: \"word 'биткоин_S' not in vocabulary\""
          ]
        }
      ]
    },
    {
      "cell_type": "markdown",
      "metadata": {
        "id": "1GqDmAcJX-rc"
      },
      "source": [
        "Находим косинусную близость пары слов:"
      ]
    },
    {
      "cell_type": "code",
      "metadata": {
        "colab": {
          "base_uri": "https://localhost:8080/"
        },
        "id": "MDFjOSJjX-rd",
        "outputId": "cf75a9dd-d31f-4b55-a28f-a43dfcb4980d"
      },
      "source": [
        "print(model_ru.similarity('человек_S', 'обезьяна_S'))"
      ],
      "execution_count": 8,
      "outputs": [
        {
          "output_type": "stream",
          "name": "stdout",
          "text": [
            "0.23895611\n"
          ]
        }
      ]
    },
    {
      "cell_type": "code",
      "metadata": {
        "colab": {
          "base_uri": "https://localhost:8080/"
        },
        "id": "qyNC6qlpXXMr",
        "outputId": "12ae204e-c9f5-419f-9ea4-cd8f264861ed"
      },
      "source": [
        "print(model_ru.similarity('добро_S', 'добродетель_S'))"
      ],
      "execution_count": 9,
      "outputs": [
        {
          "output_type": "stream",
          "name": "stdout",
          "text": [
            "0.27628684\n"
          ]
        }
      ]
    },
    {
      "cell_type": "markdown",
      "metadata": {
        "id": "B0w4pQooX-rf"
      },
      "source": [
        "Построим аналогии: \n",
        "* *король: мужчина = королева: женщина* \n",
        " $\\Rightarrow$ \n",
        "* *король - мужчина + женщина = королева*\n",
        "\n",
        "\n",
        "Что получится, если вычесть из пиццы Италию и прибавить Сибирь?\n",
        "\n",
        "* positive — вектора, которые мы складываем\n",
        "* negative — вектора, которые вычитаем"
      ]
    },
    {
      "cell_type": "code",
      "metadata": {
        "colab": {
          "base_uri": "https://localhost:8080/"
        },
        "id": "N0L5_TCQX-rf",
        "outputId": "921a91c1-2cb9-4889-df96-36c03b94f883"
      },
      "source": [
        "print(model_ru.most_similar(positive=['пицца_S', 'сибирь_S'], negative=['италия_S'])[0][0])"
      ],
      "execution_count": 10,
      "outputs": [
        {
          "output_type": "stream",
          "name": "stdout",
          "text": [
            "пельмень_S\n"
          ]
        }
      ]
    },
    {
      "cell_type": "code",
      "metadata": {
        "colab": {
          "base_uri": "https://localhost:8080/",
          "height": 89
        },
        "id": "DrN2Jc31X-rh",
        "outputId": "4da404bc-e969-4d08-9c1f-fc616aa5fb4e"
      },
      "source": [
        "model_ru.doesnt_match('пицца_S пельмень_S хот-дог_S ананас_S'.split())"
      ],
      "execution_count": 11,
      "outputs": [
        {
          "output_type": "stream",
          "name": "stderr",
          "text": [
            "/usr/local/lib/python3.7/dist-packages/gensim/models/keyedvectors.py:895: FutureWarning: arrays to stack must be passed as a \"sequence\" type such as list or tuple. Support for non-sequence iterables such as generators is deprecated as of NumPy 1.16 and will raise an error in the future.\n",
            "  vectors = vstack(self.word_vec(word, use_norm=True) for word in used_words).astype(REAL)\n"
          ]
        },
        {
          "output_type": "execute_result",
          "data": {
            "application/vnd.google.colaboratory.intrinsic+json": {
              "type": "string"
            },
            "text/plain": [
              "'ананас_S'"
            ]
          },
          "metadata": {},
          "execution_count": 11
        }
      ]
    },
    {
      "cell_type": "markdown",
      "metadata": {
        "id": "OhoKNNFbTTAj"
      },
      "source": [
        "## Предобученные модели: GloVe\n",
        "\n",
        "Скачаем модель с сайта: https://nlp.stanford.edu/projects/glove/"
      ]
    },
    {
      "cell_type": "code",
      "metadata": {
        "colab": {
          "base_uri": "https://localhost:8080/"
        },
        "id": "8jHh_-mLTTAj",
        "outputId": "dbaa5951-fb94-40bd-a1c7-7e0170c80165"
      },
      "source": [
        "! wget https://nlp.stanford.edu/data/glove.6B.zip"
      ],
      "execution_count": 12,
      "outputs": [
        {
          "output_type": "stream",
          "name": "stdout",
          "text": [
            "--2021-10-23 13:45:00--  https://nlp.stanford.edu/data/glove.6B.zip\n",
            "Resolving nlp.stanford.edu (nlp.stanford.edu)... 171.64.67.140\n",
            "Connecting to nlp.stanford.edu (nlp.stanford.edu)|171.64.67.140|:443... connected.\n",
            "HTTP request sent, awaiting response... 301 Moved Permanently\n",
            "Location: http://downloads.cs.stanford.edu/nlp/data/glove.6B.zip [following]\n",
            "--2021-10-23 13:45:00--  http://downloads.cs.stanford.edu/nlp/data/glove.6B.zip\n",
            "Resolving downloads.cs.stanford.edu (downloads.cs.stanford.edu)... 171.64.64.22\n",
            "Connecting to downloads.cs.stanford.edu (downloads.cs.stanford.edu)|171.64.64.22|:80... connected.\n",
            "HTTP request sent, awaiting response... 200 OK\n",
            "Length: 862182613 (822M) [application/zip]\n",
            "Saving to: ‘glove.6B.zip’\n",
            "\n",
            "glove.6B.zip        100%[===================>] 822.24M  5.18MB/s    in 2m 44s  \n",
            "\n",
            "2021-10-23 13:47:44 (5.01 MB/s) - ‘glove.6B.zip’ saved [862182613/862182613]\n",
            "\n"
          ]
        }
      ]
    },
    {
      "cell_type": "code",
      "metadata": {
        "colab": {
          "base_uri": "https://localhost:8080/"
        },
        "id": "LCgLGGN_TTAk",
        "outputId": "a84ac84d-f058-4d16-b9f6-dd9af0dd5fd3"
      },
      "source": [
        "!unzip glove.6B.zip"
      ],
      "execution_count": 13,
      "outputs": [
        {
          "output_type": "stream",
          "name": "stdout",
          "text": [
            "Archive:  glove.6B.zip\n",
            "  inflating: glove.6B.50d.txt        \n",
            "  inflating: glove.6B.100d.txt       \n",
            "  inflating: glove.6B.200d.txt       \n",
            "  inflating: glove.6B.300d.txt       \n"
          ]
        }
      ]
    },
    {
      "cell_type": "code",
      "metadata": {
        "colab": {
          "base_uri": "https://localhost:8080/"
        },
        "id": "MESzFRdVTTAk",
        "outputId": "a3a3fac9-f8e3-49e9-e01f-84987118d82d"
      },
      "source": [
        "! head -n 1 glove.6B.100d.txt"
      ],
      "execution_count": 14,
      "outputs": [
        {
          "output_type": "stream",
          "name": "stdout",
          "text": [
            "the -0.038194 -0.24487 0.72812 -0.39961 0.083172 0.043953 -0.39141 0.3344 -0.57545 0.087459 0.28787 -0.06731 0.30906 -0.26384 -0.13231 -0.20757 0.33395 -0.33848 -0.31743 -0.48336 0.1464 -0.37304 0.34577 0.052041 0.44946 -0.46971 0.02628 -0.54155 -0.15518 -0.14107 -0.039722 0.28277 0.14393 0.23464 -0.31021 0.086173 0.20397 0.52624 0.17164 -0.082378 -0.71787 -0.41531 0.20335 -0.12763 0.41367 0.55187 0.57908 -0.33477 -0.36559 -0.54857 -0.062892 0.26584 0.30205 0.99775 -0.80481 -3.0243 0.01254 -0.36942 2.2167 0.72201 -0.24978 0.92136 0.034514 0.46745 1.1079 -0.19358 -0.074575 0.23353 -0.052062 -0.22044 0.057162 -0.15806 -0.30798 -0.41625 0.37972 0.15006 -0.53212 -0.2055 -1.2526 0.071624 0.70565 0.49744 -0.42063 0.26148 -1.538 -0.30223 -0.073438 -0.28312 0.37104 -0.25217 0.016215 -0.017099 -0.38984 0.87424 -0.72569 -0.51058 -0.52028 -0.1459 0.8278 0.27062\n"
          ]
        }
      ]
    },
    {
      "cell_type": "code",
      "metadata": {
        "colab": {
          "base_uri": "https://localhost:8080/"
        },
        "id": "bVuTg_sKTTAl",
        "outputId": "2c94565e-727e-4681-c263-2d67f0d6f417"
      },
      "source": [
        "import numpy as np\n",
        "\n",
        "glove = {}\n",
        "with open('glove.6B.200d.txt', 'r') as f:\n",
        "    for line in f:\n",
        "        word, embedding = line.split(' ',1)\n",
        "        wordEmbedding = np.array([float(value) for value in embedding[1:].split(' ')])\n",
        "        glove[word] = wordEmbedding\n",
        "\n",
        "print(len(glove))"
      ],
      "execution_count": 16,
      "outputs": [
        {
          "output_type": "stream",
          "name": "stdout",
          "text": [
            "400000\n"
          ]
        }
      ]
    },
    {
      "cell_type": "code",
      "metadata": {
        "colab": {
          "base_uri": "https://localhost:8080/"
        },
        "id": "7qOE2wE5TTAl",
        "outputId": "cff20c6a-3b34-4f33-dc90-80c3f9ca3393"
      },
      "source": [
        "len(glove['hello'])"
      ],
      "execution_count": 17,
      "outputs": [
        {
          "output_type": "execute_result",
          "data": {
            "text/plain": [
              "200"
            ]
          },
          "metadata": {},
          "execution_count": 17
        }
      ]
    },
    {
      "cell_type": "markdown",
      "metadata": {
        "id": "Zc8KAObwaeuM"
      },
      "source": [
        "это 200 элементов для вектора, который выдается по этому слово"
      ]
    },
    {
      "cell_type": "markdown",
      "metadata": {
        "id": "PnVDrI6CTTAl"
      },
      "source": [
        "## Предобученные модели: fastText\n",
        "\n",
        "примерно - word2vec на символьных нграммах\n",
        "\n",
        "FastText использует не только векторы слов, но и векторы n-грам. В корпусе каждое слово автоматически представляется в виде набора символьных n-грамм. Скажем, если мы установим n=3, то вектор для слова \"where\" будет представлен суммой векторов следующих триграм: \"<wh\", \"whe\", \"her\", \"ere\", \"re>\" (где \"<\" и \">\" символы, обозначающие начало и конец слова). Благодаря этому мы можем также получать вектора для слов, отсутствуюших в словаре, а также эффективно работать с текстами, содержащими ошибки и опечатки.\n",
        "\n",
        "* [Статья](https://aclweb.org/anthology/Q17-1010)\n",
        "* [Сайт](https://fasttext.cc/)\n",
        "* [Руководство](https://fasttext.cc/docs/en/support.html)\n",
        "* [Репозиторий](https://github.com/facebookresearch/fasttext)\n",
        "\n",
        "Есть библиотека `fasttext` для питона (с готовыми моделями можно работать и через `gensim`).\n",
        "\n",
        "На сайте проекта можно найти предобученные модели для 157 языков (в том числе русского): https://fasttext.cc/docs/en/crawl-vectors.html"
      ]
    },
    {
      "cell_type": "code",
      "metadata": {
        "colab": {
          "base_uri": "https://localhost:8080/"
        },
        "id": "VlGZ1JuybO0I",
        "outputId": "2c8bb6d7-189d-4570-ceca-4a3e8d426f2f"
      },
      "source": [
        "!pip3 install fasttext==0.9.2"
      ],
      "execution_count": 23,
      "outputs": [
        {
          "output_type": "stream",
          "name": "stdout",
          "text": [
            "Requirement already satisfied: fasttext==0.9.2 in /usr/local/lib/python3.7/dist-packages (0.9.2)\n",
            "Requirement already satisfied: numpy in /usr/local/lib/python3.7/dist-packages (from fasttext==0.9.2) (1.19.5)\n",
            "Requirement already satisfied: setuptools>=0.7.0 in /usr/local/lib/python3.7/dist-packages (from fasttext==0.9.2) (57.4.0)\n",
            "Requirement already satisfied: pybind11>=2.2 in /usr/local/lib/python3.7/dist-packages (from fasttext==0.9.2) (2.8.0)\n"
          ]
        }
      ]
    },
    {
      "cell_type": "code",
      "metadata": {
        "colab": {
          "base_uri": "https://localhost:8080/",
          "height": 544
        },
        "id": "vmTTTWqrTTAm",
        "outputId": "1b25ad21-390d-4dfe-cf21-dde955f6f6c8"
      },
      "source": [
        "import fasttext\n",
        "\n",
        "!wget https://dl.fbaipublicfiles.com/fasttext/vectors-crawl/cc.ru.300.bin.gz\n"
      ],
      "execution_count": 24,
      "outputs": [
        {
          "output_type": "stream",
          "name": "stdout",
          "text": [
            "--2021-10-23 13:57:18--  https://dl.fbaipublicfiles.com/fasttext/vectors-crawl/cc.ru.300.bin.gz\n",
            "Resolving dl.fbaipublicfiles.com (dl.fbaipublicfiles.com)... 172.67.9.4, 104.22.75.142, 104.22.74.142, ...\n",
            "Connecting to dl.fbaipublicfiles.com (dl.fbaipublicfiles.com)|172.67.9.4|:443... connected.\n",
            "HTTP request sent, awaiting response... 200 OK\n",
            "Length: 4496459151 (4.2G) [application/octet-stream]\n",
            "Saving to: ‘cc.ru.300.bin.gz’\n",
            "\n",
            "cc.ru.300.bin.gz    100%[===================>]   4.19G  30.1MB/s    in 79s     \n",
            "\n",
            "2021-10-23 13:58:37 (54.3 MB/s) - ‘cc.ru.300.bin.gz’ saved [4496459151/4496459151]\n",
            "\n"
          ]
        },
        {
          "output_type": "stream",
          "name": "stderr",
          "text": [
            "Warning : `load_model` does not return WordVectorModel or SupervisedModel any more, but a `FastText` object which is very similar.\n"
          ]
        },
        {
          "output_type": "error",
          "ename": "ValueError",
          "evalue": "ignored",
          "traceback": [
            "\u001b[0;31m---------------------------------------------------------------------------\u001b[0m",
            "\u001b[0;31mValueError\u001b[0m                                Traceback (most recent call last)",
            "\u001b[0;32m<ipython-input-24-d05f6db75818>\u001b[0m in \u001b[0;36m<module>\u001b[0;34m()\u001b[0m\n\u001b[1;32m      2\u001b[0m \u001b[0;34m\u001b[0m\u001b[0m\n\u001b[1;32m      3\u001b[0m \u001b[0mget_ipython\u001b[0m\u001b[0;34m(\u001b[0m\u001b[0;34m)\u001b[0m\u001b[0;34m.\u001b[0m\u001b[0msystem\u001b[0m\u001b[0;34m(\u001b[0m\u001b[0;34m'wget https://dl.fbaipublicfiles.com/fasttext/vectors-crawl/cc.ru.300.bin.gz'\u001b[0m\u001b[0;34m)\u001b[0m\u001b[0;34m\u001b[0m\u001b[0;34m\u001b[0m\u001b[0m\n\u001b[0;32m----> 4\u001b[0;31m \u001b[0mft\u001b[0m \u001b[0;34m=\u001b[0m \u001b[0mfasttext\u001b[0m\u001b[0;34m.\u001b[0m\u001b[0mload_model\u001b[0m\u001b[0;34m(\u001b[0m\u001b[0;34m'cc.ru.300.bin'\u001b[0m\u001b[0;34m)\u001b[0m\u001b[0;34m\u001b[0m\u001b[0;34m\u001b[0m\u001b[0m\n\u001b[0m",
            "\u001b[0;32m/usr/local/lib/python3.7/dist-packages/fasttext/FastText.py\u001b[0m in \u001b[0;36mload_model\u001b[0;34m(path)\u001b[0m\n\u001b[1;32m    439\u001b[0m     \u001b[0;34m\"\"\"Load a model given a filepath and return a model object.\"\"\"\u001b[0m\u001b[0;34m\u001b[0m\u001b[0;34m\u001b[0m\u001b[0m\n\u001b[1;32m    440\u001b[0m     \u001b[0meprint\u001b[0m\u001b[0;34m(\u001b[0m\u001b[0;34m\"Warning : `load_model` does not return WordVectorModel or SupervisedModel any more, but a `FastText` object which is very similar.\"\u001b[0m\u001b[0;34m)\u001b[0m\u001b[0;34m\u001b[0m\u001b[0;34m\u001b[0m\u001b[0m\n\u001b[0;32m--> 441\u001b[0;31m     \u001b[0;32mreturn\u001b[0m \u001b[0m_FastText\u001b[0m\u001b[0;34m(\u001b[0m\u001b[0mmodel_path\u001b[0m\u001b[0;34m=\u001b[0m\u001b[0mpath\u001b[0m\u001b[0;34m)\u001b[0m\u001b[0;34m\u001b[0m\u001b[0;34m\u001b[0m\u001b[0m\n\u001b[0m\u001b[1;32m    442\u001b[0m \u001b[0;34m\u001b[0m\u001b[0m\n\u001b[1;32m    443\u001b[0m \u001b[0;34m\u001b[0m\u001b[0m\n",
            "\u001b[0;32m/usr/local/lib/python3.7/dist-packages/fasttext/FastText.py\u001b[0m in \u001b[0;36m__init__\u001b[0;34m(self, model_path, args)\u001b[0m\n\u001b[1;32m     96\u001b[0m         \u001b[0mself\u001b[0m\u001b[0;34m.\u001b[0m\u001b[0mf\u001b[0m \u001b[0;34m=\u001b[0m \u001b[0mfasttext\u001b[0m\u001b[0;34m.\u001b[0m\u001b[0mfasttext\u001b[0m\u001b[0;34m(\u001b[0m\u001b[0;34m)\u001b[0m\u001b[0;34m\u001b[0m\u001b[0;34m\u001b[0m\u001b[0m\n\u001b[1;32m     97\u001b[0m         \u001b[0;32mif\u001b[0m \u001b[0mmodel_path\u001b[0m \u001b[0;32mis\u001b[0m \u001b[0;32mnot\u001b[0m \u001b[0;32mNone\u001b[0m\u001b[0;34m:\u001b[0m\u001b[0;34m\u001b[0m\u001b[0;34m\u001b[0m\u001b[0m\n\u001b[0;32m---> 98\u001b[0;31m             \u001b[0mself\u001b[0m\u001b[0;34m.\u001b[0m\u001b[0mf\u001b[0m\u001b[0;34m.\u001b[0m\u001b[0mloadModel\u001b[0m\u001b[0;34m(\u001b[0m\u001b[0mmodel_path\u001b[0m\u001b[0;34m)\u001b[0m\u001b[0;34m\u001b[0m\u001b[0;34m\u001b[0m\u001b[0m\n\u001b[0m\u001b[1;32m     99\u001b[0m         \u001b[0mself\u001b[0m\u001b[0;34m.\u001b[0m\u001b[0m_words\u001b[0m \u001b[0;34m=\u001b[0m \u001b[0;32mNone\u001b[0m\u001b[0;34m\u001b[0m\u001b[0;34m\u001b[0m\u001b[0m\n\u001b[1;32m    100\u001b[0m         \u001b[0mself\u001b[0m\u001b[0;34m.\u001b[0m\u001b[0m_labels\u001b[0m \u001b[0;34m=\u001b[0m \u001b[0;32mNone\u001b[0m\u001b[0;34m\u001b[0m\u001b[0;34m\u001b[0m\u001b[0m\n",
            "\u001b[0;31mValueError\u001b[0m: cc.ru.300.bin cannot be opened for loading!"
          ]
        }
      ]
    },
    {
      "cell_type": "code",
      "metadata": {
        "id": "IOtOftdAdyCa"
      },
      "source": [
        "!gzip -dk cc.ru.300.bin.gz"
      ],
      "execution_count": 34,
      "outputs": []
    },
    {
      "cell_type": "code",
      "metadata": {
        "colab": {
          "base_uri": "https://localhost:8080/"
        },
        "id": "fFftopBgdAlR",
        "outputId": "fdf8b84c-eba7-4881-9d5b-54129b98bf6a"
      },
      "source": [
        "ft = fasttext.load_model('cc.ru.300.bin')\n",
        "ft.get_dimension()"
      ],
      "execution_count": 35,
      "outputs": [
        {
          "output_type": "execute_result",
          "data": {
            "text/plain": [
              "300"
            ]
          },
          "metadata": {},
          "execution_count": 35
        }
      ]
    },
    {
      "cell_type": "markdown",
      "metadata": {
        "id": "l5uzfMo3cxO2"
      },
      "source": [
        "для многоязычной  - MUSE fast text"
      ]
    },
    {
      "cell_type": "code",
      "metadata": {
        "colab": {
          "base_uri": "https://localhost:8080/"
        },
        "id": "-ygVKasuTTAm",
        "outputId": "9cbcbd0c-ce43-428b-9379-be129f8b42f0"
      },
      "source": [
        "! ls"
      ],
      "execution_count": 36,
      "outputs": [
        {
          "output_type": "stream",
          "name": "stdout",
          "text": [
            "cc.ru.300.bin\t   glove.6B.200d.txt  glove.6B.zip\n",
            "cc.ru.300.bin.gz   glove.6B.300d.txt  ruscorpora_mystem_cbow_300_2_2015.bin.gz\n",
            "glove.6B.100d.txt  glove.6B.50d.txt   sample_data\n"
          ]
        }
      ]
    },
    {
      "cell_type": "code",
      "metadata": {
        "colab": {
          "base_uri": "https://localhost:8080/"
        },
        "id": "InzfSZRrTTAm",
        "outputId": "0c9dd24c-69a9-44a1-a28b-198d32586843"
      },
      "source": [
        "ft['модель']"
      ],
      "execution_count": 37,
      "outputs": [
        {
          "output_type": "execute_result",
          "data": {
            "text/plain": [
              "array([ 3.90226841e-02,  2.94893887e-02,  7.75389597e-02,  5.80755584e-02,\n",
              "       -2.04796474e-02, -2.60778125e-02, -4.31554951e-02, -7.66336499e-03,\n",
              "        7.35045224e-03,  8.39629862e-03, -3.03267990e-03,  6.59276769e-02,\n",
              "        2.52222875e-03, -1.30695077e-02,  4.03538942e-02,  1.97116341e-02,\n",
              "        7.49906823e-02,  3.26768160e-02, -1.30058741e-02,  5.22828884e-02,\n",
              "        5.06116338e-02, -7.52337575e-02, -3.59434858e-02,  4.87469845e-02,\n",
              "        1.21515250e-05,  2.44456176e-02, -6.05776981e-02,  3.70115340e-02,\n",
              "        3.57847698e-02, -1.98335946e-02,  5.92223294e-02, -6.81746677e-02,\n",
              "       -1.24129206e-02, -3.59787606e-02, -4.27804003e-03,  4.76003997e-02,\n",
              "       -7.42428824e-02, -1.28765211e-01, -1.36825100e-01,  9.66134109e-03,\n",
              "       -5.21074906e-02,  1.38343694e-02, -2.73327827e-02,  5.51195256e-02,\n",
              "        2.06264984e-02,  5.95376752e-02,  2.22954024e-02,  7.45679426e-04,\n",
              "       -5.00567667e-02,  4.27671038e-02, -2.68213451e-02,  1.15477806e-02,\n",
              "       -2.37321910e-02,  3.29448245e-02, -3.59060019e-02, -6.77625239e-02,\n",
              "        1.04473326e-02,  1.50889102e-02, -2.78114676e-02, -9.76028666e-02,\n",
              "       -3.43934074e-02, -1.04172770e-02, -3.95480804e-02,  8.23004544e-03,\n",
              "        4.43044715e-02, -5.16277030e-02, -1.58495817e-03,  1.30589223e-02,\n",
              "        2.92139989e-03,  8.11357237e-03,  2.42509153e-02,  1.58560872e-02,\n",
              "        1.11486539e-02,  3.76834609e-02,  1.30302114e-02, -3.58502977e-02,\n",
              "        3.56120542e-02, -5.51831089e-02, -2.32887710e-03,  4.76860767e-03,\n",
              "       -4.78371978e-03,  2.99577117e-02, -3.09092756e-02, -6.36521801e-02,\n",
              "        2.03362219e-02,  2.66498933e-03, -8.36646780e-02, -7.17537245e-03,\n",
              "        8.98520052e-02,  6.66208640e-02, -8.96188617e-02,  5.34536690e-03,\n",
              "       -9.03579406e-03,  8.92835259e-02,  2.78102700e-02, -1.20203774e-02,\n",
              "       -2.41292827e-03, -1.15023619e-02, -3.44534665e-02, -2.43556350e-02,\n",
              "       -7.05607096e-03, -4.11733650e-02,  1.92692038e-02,  1.19909272e-03,\n",
              "       -1.21868670e-03, -5.36188670e-02,  5.19845784e-02,  2.51053344e-03,\n",
              "       -6.82635009e-02,  1.17374798e-02, -9.05148908e-02,  4.99660224e-02,\n",
              "        1.12783313e-01,  1.24725781e-03, -2.74479073e-02, -8.96990314e-05,\n",
              "        6.92080036e-02,  1.45684648e-03, -2.41988879e-02, -3.05815246e-02,\n",
              "        5.17066428e-03,  7.69108161e-03, -5.95876239e-02, -3.95577922e-02,\n",
              "       -5.22434339e-03,  3.09095122e-02, -2.98223142e-02, -7.57112056e-02,\n",
              "        4.94429357e-02,  5.03483489e-02,  4.14576894e-03, -3.37062441e-02,\n",
              "       -3.80479768e-02, -3.73744667e-02,  7.57561484e-03,  2.64757015e-02,\n",
              "        3.25574283e-03,  2.18765642e-02,  4.24088500e-02, -3.50630693e-02,\n",
              "        5.54031208e-02, -8.53787642e-03,  1.19881807e-02, -1.30064994e-01,\n",
              "       -5.70928156e-02, -7.49739036e-02, -4.37675416e-02, -2.35290714e-02,\n",
              "        4.50193062e-02, -9.09404084e-03, -4.47827242e-02, -1.77210849e-02,\n",
              "       -1.05877578e-01, -2.54368186e-02, -1.35848140e-02,  1.31518561e-02,\n",
              "        9.84252430e-03,  1.03610352e-01,  8.95494297e-02,  8.20680708e-03,\n",
              "        5.17309010e-02,  3.53422575e-02,  2.93518547e-02, -2.68315640e-03,\n",
              "        2.45563984e-02, -1.37855113e-02, -8.25848505e-02, -2.55577751e-02,\n",
              "        6.90167472e-02, -1.15719941e-02, -5.48847876e-02, -1.04961231e-01,\n",
              "       -2.70559490e-02, -3.56582142e-02, -5.01041189e-02, -2.91199442e-02,\n",
              "       -2.19394565e-02, -6.56976998e-02, -3.12608741e-02, -3.23637240e-02,\n",
              "       -7.50813708e-02,  8.37855563e-02,  4.47793305e-02, -2.74285376e-02,\n",
              "        4.54183817e-02, -2.78103482e-02,  6.49284497e-02, -2.38500033e-02,\n",
              "       -6.63511455e-03,  9.03142020e-02,  4.88595525e-03,  5.21496907e-02,\n",
              "       -5.44826463e-02, -1.13993289e-03,  8.48236308e-02, -5.48246168e-02,\n",
              "        1.53390333e-01, -5.71697950e-04,  1.42700663e-02, -1.30275860e-02,\n",
              "        8.65012687e-03,  1.22714564e-02,  1.69300865e-02,  2.29607075e-02,\n",
              "       -7.44452775e-02,  1.51818572e-02,  7.68800527e-02, -6.26277253e-02,\n",
              "        1.95666961e-02, -5.96546941e-02,  2.62541715e-02,  2.89816558e-02,\n",
              "        5.54927848e-02,  1.97875500e-02,  1.77371211e-03,  7.34284669e-02,\n",
              "        4.84075435e-02,  8.13406426e-03, -3.19512337e-02, -3.59821431e-02,\n",
              "        2.43038242e-03, -2.33888905e-02, -7.13486224e-02,  3.22470479e-02,\n",
              "        6.24932116e-03,  3.05196736e-02, -7.63035566e-02,  2.74270605e-02,\n",
              "       -2.94636339e-02,  7.15403408e-02,  4.15845476e-02,  5.25651593e-03,\n",
              "       -7.12789819e-02,  1.43155335e-02, -8.60781893e-02,  5.22206712e-04,\n",
              "       -6.64970353e-02, -1.76892467e-02, -1.44125810e-02, -1.12688266e-01,\n",
              "       -7.95892905e-03,  2.14078669e-02,  2.14393754e-02,  5.67282131e-03,\n",
              "        3.80397029e-02,  4.51862812e-02, -5.92934974e-02,  2.56342590e-02,\n",
              "       -1.34147201e-02, -2.59316415e-02,  7.45109171e-02,  3.16312276e-02,\n",
              "       -1.19421585e-02,  1.85775813e-02,  1.57254320e-02,  1.73833873e-02,\n",
              "       -6.95936903e-02, -4.40367265e-03, -3.95593718e-02, -1.94147956e-02,\n",
              "        4.49333750e-02, -1.81070566e-02, -5.35898767e-02,  4.37325016e-02,\n",
              "        6.83941832e-03, -3.00847143e-02, -1.11508211e-02,  4.33934405e-02,\n",
              "       -1.91740710e-02,  7.54076838e-02, -4.10673320e-02,  5.50695919e-02,\n",
              "        5.69503196e-02, -3.72967497e-02,  9.86716524e-03, -2.55110618e-02,\n",
              "       -2.46207975e-02, -2.20296606e-02, -2.08327528e-02,  9.03372467e-03,\n",
              "       -8.93854573e-02, -1.17132045e-01, -2.37822570e-02,  2.06042416e-02,\n",
              "       -4.70974110e-02,  4.29784134e-03,  2.73348554e-03, -3.65018807e-02,\n",
              "       -5.95521331e-02, -2.10720743e-03,  8.33550282e-03, -6.47981092e-02,\n",
              "        7.08063394e-02, -2.68884492e-03, -4.61591482e-02,  2.17411760e-02,\n",
              "       -7.07311854e-02,  6.36055395e-02,  1.93226598e-02,  1.78099480e-02],\n",
              "      dtype=float32)"
            ]
          },
          "metadata": {},
          "execution_count": 37
        }
      ]
    },
    {
      "cell_type": "markdown",
      "metadata": {
        "id": "vat2kvKzTTAm"
      },
      "source": [
        "У fasttext есть все те же методы, что в gensim, но называются они иначе:"
      ]
    },
    {
      "cell_type": "code",
      "metadata": {
        "id": "5DZsA7McTTAn",
        "outputId": "4320870a-0a50-47a5-a0c7-ff4b394430c6"
      },
      "source": [
        "ft.get_nearest_neighbors('чай')"
      ],
      "execution_count": null,
      "outputs": [
        {
          "data": {
            "text/plain": [
              "[(0.764227032661438, 'кофе'),\n",
              " (0.739784836769104, 'Чай'),\n",
              " (0.7071998119354248, 'чая'),\n",
              " (0.7018463015556335, 'чаи'),\n",
              " (0.6877091526985168, 'свежезаваренный'),\n",
              " (0.6864805221557617, 'напиток'),\n",
              " (0.6854358911514282, 'каркадэ'),\n",
              " (0.6772830486297607, 'чай.'),\n",
              " (0.667264461517334, 'чай-'),\n",
              " (0.6647352576255798, 'чаёк')]"
            ]
          },
          "execution_count": 19,
          "metadata": {},
          "output_type": "execute_result"
        }
      ]
    },
    {
      "cell_type": "code",
      "metadata": {
        "id": "x_0bEqMLTTAn",
        "outputId": "4668761c-3c91-4c75-fd85-7989e5959bea"
      },
      "source": [
        "ft.get_analogies(\"женщина\", \"мужчина\", \"актер\")"
      ],
      "execution_count": null,
      "outputs": [
        {
          "data": {
            "text/plain": [
              "[(0.8757159113883972, 'актриса'),\n",
              " (0.7068515419960022, 'артистка'),\n",
              " (0.694389820098877, 'киноактриса'),\n",
              " (0.6874823570251465, 'Актриса'),\n",
              " (0.6860095262527466, 'кинозвезда'),\n",
              " (0.6789741516113281, 'певица'),\n",
              " (0.6663230061531067, 'красавица-актриса'),\n",
              " (0.6603893637657166, 'актриса.'),\n",
              " (0.6569409966468811, 'Киноактриса'),\n",
              " (0.6488985419273376, 'актрисса')]"
            ]
          },
          "execution_count": 20,
          "metadata": {},
          "output_type": "execute_result"
        }
      ]
    },
    {
      "cell_type": "markdown",
      "metadata": {
        "id": "OXmFtykoTTAn"
      },
      "source": [
        "Важная особенность: так как модель обучена на символьных n-граммах, нет проблемы OOV (out of vocabulary) слов:"
      ]
    },
    {
      "cell_type": "code",
      "metadata": {
        "id": "OvmVat7JTTAn",
        "outputId": "87fc979f-99d5-4811-b461-ed61833cd016"
      },
      "source": [
        "ft.get_nearest_neighbors('книжонка')"
      ],
      "execution_count": null,
      "outputs": [
        {
          "data": {
            "text/plain": [
              "[(0.7441761493682861, 'книженция'),\n",
              " (0.7169104218482971, 'книжица'),\n",
              " (0.6966618895530701, 'брошюрка'),\n",
              " (0.6812918782234192, 'книжонку'),\n",
              " (0.6812120079994202, 'книжонок'),\n",
              " (0.6565592288970947, 'книжонки'),\n",
              " (0.6502901911735535, 'книжонке'),\n",
              " (0.6479876637458801, 'книжечка'),\n",
              " (0.6242943406105042, 'статейка'),\n",
              " (0.6214005351066589, 'книга-то')]"
            ]
          },
          "execution_count": 21,
          "metadata": {},
          "output_type": "execute_result"
        }
      ]
    },
    {
      "cell_type": "code",
      "metadata": {
        "id": "PEsBsXJiTTAo",
        "outputId": "e0b2f50e-fa7b-4589-d4cd-d46b1df0c787"
      },
      "source": [
        "ft.get_nearest_neighbors('компютер')"
      ],
      "execution_count": null,
      "outputs": [
        {
          "data": {
            "text/plain": [
              "[(0.7335842251777649, 'компъютер'),\n",
              " (0.7109572291374207, 'компютера'),\n",
              " (0.7098245024681091, 'компьютер'),\n",
              " (0.6971184015274048, 'компютерный'),\n",
              " (0.6874867081642151, 'копьютер'),\n",
              " (0.674636960029602, 'копм'),\n",
              " (0.6739663481712341, 'Компютер'),\n",
              " (0.6691707968711853, 'компутер'),\n",
              " (0.6670798063278198, 'компютеру'),\n",
              " (0.6656312346458435, 'комп')]"
            ]
          },
          "execution_count": 22,
          "metadata": {},
          "output_type": "execute_result"
        }
      ]
    },
    {
      "cell_type": "code",
      "metadata": {
        "id": "IRNbfEoTTTAo"
      },
      "source": [
        ""
      ],
      "execution_count": null,
      "outputs": []
    },
    {
      "cell_type": "code",
      "metadata": {
        "id": "_kK2VQAiTTAo"
      },
      "source": [
        ""
      ],
      "execution_count": null,
      "outputs": []
    },
    {
      "cell_type": "markdown",
      "metadata": {
        "id": "ZNHMtmbqX-rl"
      },
      "source": [
        "## Как обучить свою модель: word2vec\n",
        "\n",
        "В качестве обучающих данных возьмем англоязычные отзывы о фильмах с сайта IMDB (данные взяты отсюда http://ai.stanford.edu/~amaas/data/sentiment/)."
      ]
    },
    {
      "cell_type": "code",
      "metadata": {
        "collapsed": true,
        "colab": {
          "base_uri": "https://localhost:8080/"
        },
        "id": "HJpW-c17TTAo",
        "outputId": "688d4b79-d85d-4408-be5e-6c26df363792"
      },
      "source": [
        "# если у вас линукс / мак / collab или ещё какая-то среда, в которой работает wget, можно так:\n",
        "!wget --no-check-certificate 'https://docs.google.com/uc?export=download&id=1_QWwA3TmNu2T5tDqUUaCXsg9T78WADm-' -O imdb_data.csv"
      ],
      "execution_count": 38,
      "outputs": [
        {
          "output_type": "stream",
          "name": "stdout",
          "text": [
            "--2021-10-23 14:09:34--  https://docs.google.com/uc?export=download&id=1_QWwA3TmNu2T5tDqUUaCXsg9T78WADm-\n",
            "Resolving docs.google.com (docs.google.com)... 74.125.137.102, 74.125.137.139, 74.125.137.101, ...\n",
            "Connecting to docs.google.com (docs.google.com)|74.125.137.102|:443... connected.\n",
            "HTTP request sent, awaiting response... 302 Moved Temporarily\n",
            "Location: https://doc-14-94-docs.googleusercontent.com/docs/securesc/ha0ro937gcuc7l7deffksulhg5h7mbp1/u2luc7st3hvj8jlnft8c6pquoss7j1kj/1634998125000/10227726563468148216/*/1_QWwA3TmNu2T5tDqUUaCXsg9T78WADm-?e=download [following]\n",
            "Warning: wildcards not supported in HTTP.\n",
            "--2021-10-23 14:09:40--  https://doc-14-94-docs.googleusercontent.com/docs/securesc/ha0ro937gcuc7l7deffksulhg5h7mbp1/u2luc7st3hvj8jlnft8c6pquoss7j1kj/1634998125000/10227726563468148216/*/1_QWwA3TmNu2T5tDqUUaCXsg9T78WADm-?e=download\n",
            "Resolving doc-14-94-docs.googleusercontent.com (doc-14-94-docs.googleusercontent.com)... 142.250.141.132, 2607:f8b0:4023:c0b::84\n",
            "Connecting to doc-14-94-docs.googleusercontent.com (doc-14-94-docs.googleusercontent.com)|142.250.141.132|:443... connected.\n",
            "HTTP request sent, awaiting response... 200 OK\n",
            "Length: 66212309 (63M) [text/csv]\n",
            "Saving to: ‘imdb_data.csv’\n",
            "\n",
            "imdb_data.csv       100%[===================>]  63.14M  40.3MB/s    in 1.6s    \n",
            "\n",
            "2021-10-23 14:09:42 (40.3 MB/s) - ‘imdb_data.csv’ saved [66212309/66212309]\n",
            "\n"
          ]
        }
      ]
    },
    {
      "cell_type": "code",
      "metadata": {
        "id": "RD1CrWk_TTAp"
      },
      "source": [
        "import pandas as pd\n",
        "\n",
        "pd.set_option('display.max_columns', None)  \n",
        "pd.set_option('display.expand_frame_repr', False)\n",
        "pd.set_option('max_colwidth', 800)"
      ],
      "execution_count": 39,
      "outputs": []
    },
    {
      "cell_type": "code",
      "metadata": {
        "colab": {
          "base_uri": "https://localhost:8080/"
        },
        "id": "B2wv-vSxX-ro",
        "outputId": "243d0774-6758-4249-b4a7-79527f2c033b"
      },
      "source": [
        "data = pd.read_csv(\"imdb_data.csv\")\n",
        "\n",
        "len(data)"
      ],
      "execution_count": 40,
      "outputs": [
        {
          "output_type": "execute_result",
          "data": {
            "text/plain": [
              "50000"
            ]
          },
          "metadata": {},
          "execution_count": 40
        }
      ]
    },
    {
      "cell_type": "code",
      "metadata": {
        "colab": {
          "base_uri": "https://localhost:8080/",
          "height": 459
        },
        "id": "eEGmrh-nX-rq",
        "outputId": "4d94dbcc-0f85-433d-e18d-ef1bb328ee62"
      },
      "source": [
        "data.head()"
      ],
      "execution_count": 41,
      "outputs": [
        {
          "output_type": "execute_result",
          "data": {
            "text/html": [
              "<div>\n",
              "<style scoped>\n",
              "    .dataframe tbody tr th:only-of-type {\n",
              "        vertical-align: middle;\n",
              "    }\n",
              "\n",
              "    .dataframe tbody tr th {\n",
              "        vertical-align: top;\n",
              "    }\n",
              "\n",
              "    .dataframe thead th {\n",
              "        text-align: right;\n",
              "    }\n",
              "</style>\n",
              "<table border=\"1\" class=\"dataframe\">\n",
              "  <thead>\n",
              "    <tr style=\"text-align: right;\">\n",
              "      <th></th>\n",
              "      <th>review</th>\n",
              "      <th>sentiment</th>\n",
              "    </tr>\n",
              "  </thead>\n",
              "  <tbody>\n",
              "    <tr>\n",
              "      <th>0</th>\n",
              "      <td>One of the other reviewers has mentioned that after watching just 1 Oz episode you'll be hooked. They are right, as this is exactly what happened with me.&lt;br /&gt;&lt;br /&gt;The first thing that struck me about Oz was its brutality and unflinching scenes of violence, which set in right from the word GO. Trust me, this is not a show for the faint hearted or timid. This show pulls no punches with regards to drugs, sex or violence. Its is hardcore, in the classic use of the word.&lt;br /&gt;&lt;br /&gt;It is called OZ as that is the nickname given to the Oswald Maximum Security State Penitentary. It focuses mainly on Emerald City, an experimental section of the prison where all the cells have glass fronts and face inwards, so privacy is not high on the agenda. Em City is home to many..Aryans, Muslims, gangst...</td>\n",
              "      <td>positive</td>\n",
              "    </tr>\n",
              "    <tr>\n",
              "      <th>1</th>\n",
              "      <td>A wonderful little production. &lt;br /&gt;&lt;br /&gt;The filming technique is very unassuming- very old-time-BBC fashion and gives a comforting, and sometimes discomforting, sense of realism to the entire piece. &lt;br /&gt;&lt;br /&gt;The actors are extremely well chosen- Michael Sheen not only \"has got all the polari\" but he has all the voices down pat too! You can truly see the seamless editing guided by the references to Williams' diary entries, not only is it well worth the watching but it is a terrificly written and performed piece. A masterful production about one of the great master's of comedy and his life. &lt;br /&gt;&lt;br /&gt;The realism really comes home with the little things: the fantasy of the guard which, rather than use the traditional 'dream' techniques remains solid then disappears. It plays on ou...</td>\n",
              "      <td>positive</td>\n",
              "    </tr>\n",
              "    <tr>\n",
              "      <th>2</th>\n",
              "      <td>I thought this was a wonderful way to spend time on a too hot summer weekend, sitting in the air conditioned theater and watching a light-hearted comedy. The plot is simplistic, but the dialogue is witty and the characters are likable (even the well bread suspected serial killer). While some may be disappointed when they realize this is not Match Point 2: Risk Addiction, I thought it was proof that Woody Allen is still fully in control of the style many of us have grown to love.&lt;br /&gt;&lt;br /&gt;This was the most I'd laughed at one of Woody's comedies in years (dare I say a decade?). While I've never been impressed with Scarlet Johanson, in this she managed to tone down her \"sexy\" image and jumped right into a average, but spirited young woman.&lt;br /&gt;&lt;br /&gt;This may not be the crown jewel of h...</td>\n",
              "      <td>positive</td>\n",
              "    </tr>\n",
              "    <tr>\n",
              "      <th>3</th>\n",
              "      <td>Basically there's a family where a little boy (Jake) thinks there's a zombie in his closet &amp; his parents are fighting all the time.&lt;br /&gt;&lt;br /&gt;This movie is slower than a soap opera... and suddenly, Jake decides to become Rambo and kill the zombie.&lt;br /&gt;&lt;br /&gt;OK, first of all when you're going to make a film you must Decide if its a thriller or a drama! As a drama the movie is watchable. Parents are divorcing &amp; arguing like in real life. And then we have Jake with his closet which totally ruins all the film! I expected to see a BOOGEYMAN similar movie, and instead i watched a drama with some meaningless thriller spots.&lt;br /&gt;&lt;br /&gt;3 out of 10 just for the well playing parents &amp; descent dialogs. As for the shots with Jake: just ignore them.</td>\n",
              "      <td>negative</td>\n",
              "    </tr>\n",
              "    <tr>\n",
              "      <th>4</th>\n",
              "      <td>Petter Mattei's \"Love in the Time of Money\" is a visually stunning film to watch. Mr. Mattei offers us a vivid portrait about human relations. This is a movie that seems to be telling us what money, power and success do to people in the different situations we encounter. &lt;br /&gt;&lt;br /&gt;This being a variation on the Arthur Schnitzler's play about the same theme, the director transfers the action to the present time New York where all these different characters meet and connect. Each one is connected in one way, or another to the next person, but no one seems to know the previous point of contact. Stylishly, the film has a sophisticated luxurious look. We are taken to see how these people live and the world they live in their own habitat.&lt;br /&gt;&lt;br /&gt;The only thing one gets out of all these ...</td>\n",
              "      <td>positive</td>\n",
              "    </tr>\n",
              "  </tbody>\n",
              "</table>\n",
              "</div>"
            ],
            "text/plain": [
              "                                                                                                                                                                                                                                                                                                                                                                                                                                                                                                                                                                                                                                                                                                                                                                                                                            review sentiment\n",
              "0  One of the other reviewers has mentioned that after watching just 1 Oz episode you'll be hooked. They are right, as this is exactly what happened with me.<br /><br />The first thing that struck me about Oz was its brutality and unflinching scenes of violence, which set in right from the word GO. Trust me, this is not a show for the faint hearted or timid. This show pulls no punches with regards to drugs, sex or violence. Its is hardcore, in the classic use of the word.<br /><br />It is called OZ as that is the nickname given to the Oswald Maximum Security State Penitentary. It focuses mainly on Emerald City, an experimental section of the prison where all the cells have glass fronts and face inwards, so privacy is not high on the agenda. Em City is home to many..Aryans, Muslims, gangst...  positive\n",
              "1  A wonderful little production. <br /><br />The filming technique is very unassuming- very old-time-BBC fashion and gives a comforting, and sometimes discomforting, sense of realism to the entire piece. <br /><br />The actors are extremely well chosen- Michael Sheen not only \"has got all the polari\" but he has all the voices down pat too! You can truly see the seamless editing guided by the references to Williams' diary entries, not only is it well worth the watching but it is a terrificly written and performed piece. A masterful production about one of the great master's of comedy and his life. <br /><br />The realism really comes home with the little things: the fantasy of the guard which, rather than use the traditional 'dream' techniques remains solid then disappears. It plays on ou...  positive\n",
              "2  I thought this was a wonderful way to spend time on a too hot summer weekend, sitting in the air conditioned theater and watching a light-hearted comedy. The plot is simplistic, but the dialogue is witty and the characters are likable (even the well bread suspected serial killer). While some may be disappointed when they realize this is not Match Point 2: Risk Addiction, I thought it was proof that Woody Allen is still fully in control of the style many of us have grown to love.<br /><br />This was the most I'd laughed at one of Woody's comedies in years (dare I say a decade?). While I've never been impressed with Scarlet Johanson, in this she managed to tone down her \"sexy\" image and jumped right into a average, but spirited young woman.<br /><br />This may not be the crown jewel of h...  positive\n",
              "3                                                     Basically there's a family where a little boy (Jake) thinks there's a zombie in his closet & his parents are fighting all the time.<br /><br />This movie is slower than a soap opera... and suddenly, Jake decides to become Rambo and kill the zombie.<br /><br />OK, first of all when you're going to make a film you must Decide if its a thriller or a drama! As a drama the movie is watchable. Parents are divorcing & arguing like in real life. And then we have Jake with his closet which totally ruins all the film! I expected to see a BOOGEYMAN similar movie, and instead i watched a drama with some meaningless thriller spots.<br /><br />3 out of 10 just for the well playing parents & descent dialogs. As for the shots with Jake: just ignore them.  negative\n",
              "4  Petter Mattei's \"Love in the Time of Money\" is a visually stunning film to watch. Mr. Mattei offers us a vivid portrait about human relations. This is a movie that seems to be telling us what money, power and success do to people in the different situations we encounter. <br /><br />This being a variation on the Arthur Schnitzler's play about the same theme, the director transfers the action to the present time New York where all these different characters meet and connect. Each one is connected in one way, or another to the next person, but no one seems to know the previous point of contact. Stylishly, the film has a sophisticated luxurious look. We are taken to see how these people live and the world they live in their own habitat.<br /><br />The only thing one gets out of all these ...  positive"
            ]
          },
          "metadata": {},
          "execution_count": 41
        }
      ]
    },
    {
      "cell_type": "markdown",
      "metadata": {
        "id": "oIZaQ3kYX-rt"
      },
      "source": [
        "Убираем из данных ссылки, html-разметку и небуквенные символы, а затем приведем все к нижнему регистру и токенизируем. На выходе получается массив из предложений, каждое из которых представляет собой массив слов. Здесь используется токенизатор из библиотеки `nltk`. "
      ]
    },
    {
      "cell_type": "code",
      "metadata": {
        "id": "rRrVD8ASTTAp"
      },
      "source": [
        "from bs4 import BeautifulSoup\n",
        "from tqdm.notebook import tqdm\n",
        "from multiprocessing import Pool\n",
        "import warnings\n",
        "warnings.filterwarnings(\"ignore\")"
      ],
      "execution_count": 42,
      "outputs": []
    },
    {
      "cell_type": "code",
      "metadata": {
        "id": "f5I5M3CeTTAq"
      },
      "source": [
        "tokenizer = nltk.data.load('tokenizers/punkt/english.pickle')"
      ],
      "execution_count": 43,
      "outputs": []
    },
    {
      "cell_type": "code",
      "metadata": {
        "id": "irbunSOfX-rt"
      },
      "source": [
        "def review_to_wordlist(review, remove_stopwords=False ):\n",
        "    # убираем ссылки вне тегов\n",
        "    review = re.sub(r\"http[s]?://(?:[a-zA-Z]|[0-9]|[$-_@.&+]|[!*\\(\\),]|(?:%[0-9a-fA-F][0-9a-fA-F]))+\", \" \", review)\n",
        "    review_text = BeautifulSoup(review, \"lxml\").get_text()\n",
        "    review_text = re.sub(\"[^a-zA-Z]\",\" \", review_text)\n",
        "    words = review_text.lower().split()\n",
        "    if remove_stopwords:\n",
        "        stops = stopwords.words(\"english\")\n",
        "        words = [w for w in words if not w in stops]\n",
        "    return(words)\n",
        "\n",
        "def review_to_sentences(review, tokenizer=tokenizer, remove_stopwords=False):\n",
        "    raw_sentences = tokenizer.tokenize(review.strip())\n",
        "    sentences = []\n",
        "    for raw_sentence in raw_sentences:\n",
        "        if len(raw_sentence) > 0:\n",
        "            sentences.append(review_to_wordlist(raw_sentence, remove_stopwords))\n",
        "    return sentences"
      ],
      "execution_count": 44,
      "outputs": []
    },
    {
      "cell_type": "code",
      "metadata": {
        "colab": {
          "base_uri": "https://localhost:8080/",
          "height": 103,
          "referenced_widgets": [
            "6c00ff5a44ed4b3cae9b8e7751b0c260",
            "6646dcbe4016422cb9a76fbea15c7437",
            "4a3d69d4f15340fcbb129226108910d2",
            "ce62130789374e8a8ecadb6f58ca15d6",
            "f72ed0fe0eb34056a084a1593678476c",
            "bab648b953ff4a59b2ee4b3b555282ac",
            "39b2b371b47b4198bdb10124f068cb62",
            "e08be117c62542b1b6f54cb2a9a1ac8c",
            "73c092a470a84eff8beb68c88ef639bf",
            "e91efe1d63264861900d68c4f7909989",
            "1441581363824d43b3b8041eacc2253a"
          ]
        },
        "id": "ZcdUfxn9TTAq",
        "outputId": "fa90f7af-0979-429a-8a7a-c69e585eb29e"
      },
      "source": [
        "with Pool(4) as p:\n",
        "    sentences = list(tqdm(p.imap(review_to_sentences, data[\"review\"]), total=len(data)))\n",
        "\n",
        "print(len(sentences))\n",
        "print(*sentences[:3])"
      ],
      "execution_count": 45,
      "outputs": [
        {
          "output_type": "display_data",
          "data": {
            "application/vnd.jupyter.widget-view+json": {
              "model_id": "6c00ff5a44ed4b3cae9b8e7751b0c260",
              "version_minor": 0,
              "version_major": 2
            },
            "text/plain": [
              "  0%|          | 0/50000 [00:00<?, ?it/s]"
            ]
          },
          "metadata": {}
        },
        {
          "output_type": "stream",
          "name": "stdout",
          "text": [
            "50000\n",
            "[['one', 'of', 'the', 'other', 'reviewers', 'has', 'mentioned', 'that', 'after', 'watching', 'just', 'oz', 'episode', 'you', 'll', 'be', 'hooked'], ['they', 'are', 'right', 'as', 'this', 'is', 'exactly', 'what', 'happened', 'with', 'me', 'the', 'first', 'thing', 'that', 'struck', 'me', 'about', 'oz', 'was', 'its', 'brutality', 'and', 'unflinching', 'scenes', 'of', 'violence', 'which', 'set', 'in', 'right', 'from', 'the', 'word', 'go'], ['trust', 'me', 'this', 'is', 'not', 'a', 'show', 'for', 'the', 'faint', 'hearted', 'or', 'timid'], ['this', 'show', 'pulls', 'no', 'punches', 'with', 'regards', 'to', 'drugs', 'sex', 'or', 'violence'], ['its', 'is', 'hardcore', 'in', 'the', 'classic', 'use', 'of', 'the', 'word', 'it', 'is', 'called', 'oz', 'as', 'that', 'is', 'the', 'nickname', 'given', 'to', 'the', 'oswald', 'maximum', 'security', 'state', 'penitentary'], ['it', 'focuses', 'mainly', 'on', 'emerald', 'city', 'an', 'experimental', 'section', 'of', 'the', 'prison', 'where', 'all', 'the', 'cells', 'have', 'glass', 'fronts', 'and', 'face', 'inwards', 'so', 'privacy', 'is', 'not', 'high', 'on', 'the', 'agenda'], ['em', 'city', 'is', 'home', 'to', 'many', 'aryans', 'muslims', 'gangstas', 'latinos', 'christians', 'italians', 'irish', 'and', 'more', 'so', 'scuffles', 'death', 'stares', 'dodgy', 'dealings', 'and', 'shady', 'agreements', 'are', 'never', 'far', 'away', 'i', 'would', 'say', 'the', 'main', 'appeal', 'of', 'the', 'show', 'is', 'due', 'to', 'the', 'fact', 'that', 'it', 'goes', 'where', 'other', 'shows', 'wouldn', 't', 'dare'], ['forget', 'pretty', 'pictures', 'painted', 'for', 'mainstream', 'audiences', 'forget', 'charm', 'forget', 'romance', 'oz', 'doesn', 't', 'mess', 'around'], ['the', 'first', 'episode', 'i', 'ever', 'saw', 'struck', 'me', 'as', 'so', 'nasty', 'it', 'was', 'surreal', 'i', 'couldn', 't', 'say', 'i', 'was', 'ready', 'for', 'it', 'but', 'as', 'i', 'watched', 'more', 'i', 'developed', 'a', 'taste', 'for', 'oz', 'and', 'got', 'accustomed', 'to', 'the', 'high', 'levels', 'of', 'graphic', 'violence'], ['not', 'just', 'violence', 'but', 'injustice', 'crooked', 'guards', 'who', 'll', 'be', 'sold', 'out', 'for', 'a', 'nickel', 'inmates', 'who', 'll', 'kill', 'on', 'order', 'and', 'get', 'away', 'with', 'it', 'well', 'mannered', 'middle', 'class', 'inmates', 'being', 'turned', 'into', 'prison', 'bitches', 'due', 'to', 'their', 'lack', 'of', 'street', 'skills', 'or', 'prison', 'experience', 'watching', 'oz', 'you', 'may', 'become', 'comfortable', 'with', 'what', 'is', 'uncomfortable', 'viewing', 'thats', 'if', 'you', 'can', 'get', 'in', 'touch', 'with', 'your', 'darker', 'side']] [['a', 'wonderful', 'little', 'production'], ['the', 'filming', 'technique', 'is', 'very', 'unassuming', 'very', 'old', 'time', 'bbc', 'fashion', 'and', 'gives', 'a', 'comforting', 'and', 'sometimes', 'discomforting', 'sense', 'of', 'realism', 'to', 'the', 'entire', 'piece'], ['the', 'actors', 'are', 'extremely', 'well', 'chosen', 'michael', 'sheen', 'not', 'only', 'has', 'got', 'all', 'the', 'polari', 'but', 'he', 'has', 'all', 'the', 'voices', 'down', 'pat', 'too'], ['you', 'can', 'truly', 'see', 'the', 'seamless', 'editing', 'guided', 'by', 'the', 'references', 'to', 'williams', 'diary', 'entries', 'not', 'only', 'is', 'it', 'well', 'worth', 'the', 'watching', 'but', 'it', 'is', 'a', 'terrificly', 'written', 'and', 'performed', 'piece'], ['a', 'masterful', 'production', 'about', 'one', 'of', 'the', 'great', 'master', 's', 'of', 'comedy', 'and', 'his', 'life'], ['the', 'realism', 'really', 'comes', 'home', 'with', 'the', 'little', 'things', 'the', 'fantasy', 'of', 'the', 'guard', 'which', 'rather', 'than', 'use', 'the', 'traditional', 'dream', 'techniques', 'remains', 'solid', 'then', 'disappears'], ['it', 'plays', 'on', 'our', 'knowledge', 'and', 'our', 'senses', 'particularly', 'with', 'the', 'scenes', 'concerning', 'orton', 'and', 'halliwell', 'and', 'the', 'sets', 'particularly', 'of', 'their', 'flat', 'with', 'halliwell', 's', 'murals', 'decorating', 'every', 'surface', 'are', 'terribly', 'well', 'done']] [['i', 'thought', 'this', 'was', 'a', 'wonderful', 'way', 'to', 'spend', 'time', 'on', 'a', 'too', 'hot', 'summer', 'weekend', 'sitting', 'in', 'the', 'air', 'conditioned', 'theater', 'and', 'watching', 'a', 'light', 'hearted', 'comedy'], ['the', 'plot', 'is', 'simplistic', 'but', 'the', 'dialogue', 'is', 'witty', 'and', 'the', 'characters', 'are', 'likable', 'even', 'the', 'well', 'bread', 'suspected', 'serial', 'killer'], ['while', 'some', 'may', 'be', 'disappointed', 'when', 'they', 'realize', 'this', 'is', 'not', 'match', 'point', 'risk', 'addiction', 'i', 'thought', 'it', 'was', 'proof', 'that', 'woody', 'allen', 'is', 'still', 'fully', 'in', 'control', 'of', 'the', 'style', 'many', 'of', 'us', 'have', 'grown', 'to', 'love', 'this', 'was', 'the', 'most', 'i', 'd', 'laughed', 'at', 'one', 'of', 'woody', 's', 'comedies', 'in', 'years', 'dare', 'i', 'say', 'a', 'decade'], ['while', 'i', 've', 'never', 'been', 'impressed', 'with', 'scarlet', 'johanson', 'in', 'this', 'she', 'managed', 'to', 'tone', 'down', 'her', 'sexy', 'image', 'and', 'jumped', 'right', 'into', 'a', 'average', 'but', 'spirited', 'young', 'woman', 'this', 'may', 'not', 'be', 'the', 'crown', 'jewel', 'of', 'his', 'career', 'but', 'it', 'was', 'wittier', 'than', 'devil', 'wears', 'prada', 'and', 'more', 'interesting', 'than', 'superman', 'a', 'great', 'comedy', 'to', 'go', 'see', 'with', 'friends']]\n"
          ]
        }
      ]
    },
    {
      "cell_type": "code",
      "metadata": {
        "colab": {
          "base_uri": "https://localhost:8080/"
        },
        "id": "pgpK9u0YTTAq",
        "outputId": "4bb81a72-bce5-463b-a45f-b27b18ce8238"
      },
      "source": [
        "flat_sentences = [item for sublist in sentences for item in sublist]\n",
        "len(flat_sentences)"
      ],
      "execution_count": 46,
      "outputs": [
        {
          "output_type": "execute_result",
          "data": {
            "text/plain": [
              "536641"
            ]
          },
          "metadata": {},
          "execution_count": 46
        }
      ]
    },
    {
      "cell_type": "code",
      "metadata": {
        "id": "Cqb_NOteX-rz"
      },
      "source": [
        "# это понадобится нам позже для обучения модели fasttext\n",
        "\n",
        "with open('clean_text.txt', 'w') as f:\n",
        "    for s in flat_sentences:\n",
        "        f.write(' '.join(s))\n",
        "        f.write('\\n')"
      ],
      "execution_count": 47,
      "outputs": []
    },
    {
      "cell_type": "markdown",
      "metadata": {
        "id": "qqFhuv7XX-r1"
      },
      "source": [
        "Обучаем и сохраняем модель. \n",
        "\n",
        "\n",
        "Основные параметры:\n",
        "* данные должны быть итерируемым объектом \n",
        "* size — размер вектора, \n",
        "* window — размер окна наблюдения,\n",
        "* min_count — мин. частотность слова в корпусе,\n",
        "* sg — используемый алгоритм обучения (0 — CBOW, 1 — Skip-gram),\n",
        "* sample — порог для downsampling'a высокочастотных слов,\n",
        "* workers — количество потоков,\n",
        "* alpha — learning rate,\n",
        "* iter — количество итераций,\n",
        "* max_vocab_size — позволяет выставить ограничение по памяти при создании словаря (т.е. если ограничение превышается, то низкочастотные слова будут выбрасываться). Для сравнения: 10 млн слов = 1Гб RAM.\n",
        "\n",
        "**Важно!** Обратите внимание, что тренировка модели не включает предобработку! Это значит, что избавляться от пунктуации, приводить слова к нижнему регистру, лемматизировать их, проставлять частеречные теги придется до тренировки модели (если, конечно, это необходимо для вашей задачи). Т.е. в каком виде слова будут в исходном тексте, в таком они будут и в модели."
      ]
    },
    {
      "cell_type": "code",
      "metadata": {
        "colab": {
          "base_uri": "https://localhost:8080/"
        },
        "id": "OB2FqIioX-r1",
        "outputId": "6d69ebfd-ab5c-47cc-fe78-f53790e39fb7"
      },
      "source": [
        "print(\"Training model...\")\n",
        "\n",
        "%time model_en = word2vec.Word2Vec(flat_sentences, workers=4, size=300, min_count=10, window=10, sample=1e-3)"
      ],
      "execution_count": 48,
      "outputs": [
        {
          "output_type": "stream",
          "name": "stdout",
          "text": [
            "Training model...\n",
            "CPU times: user 3min 51s, sys: 597 ms, total: 3min 51s\n",
            "Wall time: 2min 3s\n"
          ]
        }
      ]
    },
    {
      "cell_type": "markdown",
      "metadata": {
        "id": "HFU6SYAZX-r3"
      },
      "source": [
        "Смотрим, сколько в модели слов."
      ]
    },
    {
      "cell_type": "code",
      "metadata": {
        "colab": {
          "base_uri": "https://localhost:8080/"
        },
        "id": "HA3P0CUYX-r4",
        "outputId": "c573c103-ab59-44d3-cce1-46e02ee9f1a2"
      },
      "source": [
        "print(len(model_en.wv.vocab))"
      ],
      "execution_count": 49,
      "outputs": [
        {
          "output_type": "stream",
          "name": "stdout",
          "text": [
            "27864\n"
          ]
        }
      ]
    },
    {
      "cell_type": "markdown",
      "metadata": {
        "id": "2mU9sbGYX-r8"
      },
      "source": [
        "Попробуем оценить модель вручную, аналогично тому, как проверяли предобученные модели."
      ]
    },
    {
      "cell_type": "code",
      "metadata": {
        "colab": {
          "base_uri": "https://localhost:8080/"
        },
        "id": "n8OQxmUyX-r9",
        "outputId": "79343227-fdac-4edd-93b4-96f3eb15fd49"
      },
      "source": [
        "print(model_en.wv.most_similar(positive=[\"woman\", \"actor\"], negative=[\"man\"], topn=1))"
      ],
      "execution_count": 50,
      "outputs": [
        {
          "output_type": "stream",
          "name": "stdout",
          "text": [
            "[('actress', 0.8023377656936646)]\n"
          ]
        }
      ]
    },
    {
      "cell_type": "code",
      "metadata": {
        "colab": {
          "base_uri": "https://localhost:8080/"
        },
        "id": "RHoRd_3tTTAs",
        "outputId": "ddde3757-dd83-4e55-cb89-2a22355d1b9a"
      },
      "source": [
        "print(model_en.wv.most_similar(positive=[\"dogs\", \"man\"], negative=[\"dog\"], topn=1))"
      ],
      "execution_count": 51,
      "outputs": [
        {
          "output_type": "stream",
          "name": "stdout",
          "text": [
            "[('men', 0.6455494165420532)]\n"
          ]
        }
      ]
    },
    {
      "cell_type": "code",
      "metadata": {
        "colab": {
          "base_uri": "https://localhost:8080/"
        },
        "id": "4gctNA-PTTAs",
        "outputId": "60a4c683-389d-471e-c483-2dec4e429dda"
      },
      "source": [
        "print(model_en.wv.most_similar(\"usa\", topn=3))"
      ],
      "execution_count": 52,
      "outputs": [
        {
          "output_type": "stream",
          "name": "stdout",
          "text": [
            "[('japan', 0.7548781633377075), ('europe', 0.7534406185150146), ('uk', 0.7517483234405518)]\n"
          ]
        }
      ]
    },
    {
      "cell_type": "code",
      "metadata": {
        "colab": {
          "base_uri": "https://localhost:8080/"
        },
        "id": "j4k1uS0MTTAs",
        "outputId": "834b416a-753a-4830-d83e-c605b9aaf99f"
      },
      "source": [
        "print(model_en.wv.doesnt_match(\"comedy thriller western novel\".split()))"
      ],
      "execution_count": 53,
      "outputs": [
        {
          "output_type": "stream",
          "name": "stdout",
          "text": [
            "novel\n"
          ]
        }
      ]
    },
    {
      "cell_type": "markdown",
      "metadata": {
        "id": "eRkyLK5KTTAt"
      },
      "source": [
        "### Почему важно, на каких данных обучалась модель?"
      ]
    },
    {
      "cell_type": "markdown",
      "metadata": {
        "id": "e4uUjX7rTTAt"
      },
      "source": [
        "Посмотрим на ближайшие по смыслу слова к слову \"star\":\n",
        "- в модели, обученной на обзорах фильмов\n",
        "- в модели, обученной на Википедии"
      ]
    },
    {
      "cell_type": "code",
      "metadata": {
        "colab": {
          "base_uri": "https://localhost:8080/"
        },
        "id": "Y5aWtDj8TTAt",
        "outputId": "5d3d1fab-edcf-42d0-ae8b-a477898b3ccf"
      },
      "source": [
        "print(*model_en.wv.most_similar(\"star\", topn=10), sep='\\n')"
      ],
      "execution_count": 54,
      "outputs": [
        {
          "output_type": "stream",
          "name": "stdout",
          "text": [
            "('stars', 0.6105850338935852)\n",
            "('hudson', 0.4662517309188843)\n",
            "('stardom', 0.45635271072387695)\n",
            "('fame', 0.43262040615081787)\n",
            "('starred', 0.4268522262573242)\n",
            "('singer', 0.4174981713294983)\n",
            "('hardware', 0.41623455286026)\n",
            "('tyrone', 0.40937817096710205)\n",
            "('lucas', 0.39602380990982056)\n",
            "('performer', 0.39494168758392334)\n"
          ]
        }
      ]
    },
    {
      "cell_type": "code",
      "metadata": {
        "colab": {
          "base_uri": "https://localhost:8080/"
        },
        "id": "YFhq47zmTTAt",
        "outputId": "8edf5c5c-38c6-45e7-e4ab-5095f4963509"
      },
      "source": [
        "model_en.similarity('star', 'celebrity')"
      ],
      "execution_count": 55,
      "outputs": [
        {
          "output_type": "execute_result",
          "data": {
            "text/plain": [
              "0.3461027"
            ]
          },
          "metadata": {},
          "execution_count": 55
        }
      ]
    },
    {
      "cell_type": "code",
      "metadata": {
        "colab": {
          "base_uri": "https://localhost:8080/"
        },
        "id": "reuA3JNGTTAt",
        "outputId": "d571d1b1-63c8-4381-b403-57fdc4c91f18"
      },
      "source": [
        "model_en.similarity('star', 'sky')"
      ],
      "execution_count": 56,
      "outputs": [
        {
          "output_type": "execute_result",
          "data": {
            "text/plain": [
              "0.12867767"
            ]
          },
          "metadata": {},
          "execution_count": 56
        }
      ]
    },
    {
      "cell_type": "code",
      "metadata": {
        "colab": {
          "base_uri": "https://localhost:8080/"
        },
        "id": "Ars5FbACTTAu",
        "outputId": "1931c923-e2b7-48a7-ac21-fbaaa79d6d63"
      },
      "source": [
        "model_en.similarity('star', 'shine')"
      ],
      "execution_count": 57,
      "outputs": [
        {
          "output_type": "execute_result",
          "data": {
            "text/plain": [
              "0.1928493"
            ]
          },
          "metadata": {},
          "execution_count": 57
        }
      ]
    },
    {
      "cell_type": "markdown",
      "metadata": {
        "id": "qxjsflhNTTAu"
      },
      "source": [
        "Скачаем предобученную модель fastText для английского:"
      ]
    },
    {
      "cell_type": "code",
      "metadata": {
        "id": "hojrzoZ6TTAu"
      },
      "source": [
        "import fasttext.util\n",
        "#fasttext.util.download_model('en', if_exists='ignore') \n",
        "\n",
        "# ft_eng = fasttext.load_model('cc.en.300.bin')"
      ],
      "execution_count": 58,
      "outputs": []
    },
    {
      "cell_type": "code",
      "metadata": {
        "id": "V93Uik3hTTAu"
      },
      "source": [
        "from sklearn.metrics.pairwise import cosine_similarity"
      ],
      "execution_count": 59,
      "outputs": []
    },
    {
      "cell_type": "code",
      "metadata": {
        "colab": {
          "base_uri": "https://localhost:8080/"
        },
        "id": "nUTFXYw7TTAu",
        "outputId": "babfa841-a37b-4825-bd94-c5a2fadcda0c"
      },
      "source": [
        "cosine_similarity([ft['star']], [ft['celebrity']])"
      ],
      "execution_count": 60,
      "outputs": [
        {
          "output_type": "execute_result",
          "data": {
            "text/plain": [
              "array([[0.42477164]], dtype=float32)"
            ]
          },
          "metadata": {},
          "execution_count": 60
        }
      ]
    },
    {
      "cell_type": "code",
      "metadata": {
        "colab": {
          "base_uri": "https://localhost:8080/"
        },
        "id": "Otr6G_tVTTAv",
        "outputId": "2a790e86-d4f4-4979-8b4e-b141115bb76b"
      },
      "source": [
        "cosine_similarity([ft['star']], [ft['sky']])"
      ],
      "execution_count": 61,
      "outputs": [
        {
          "output_type": "execute_result",
          "data": {
            "text/plain": [
              "array([[0.5612967]], dtype=float32)"
            ]
          },
          "metadata": {},
          "execution_count": 61
        }
      ]
    },
    {
      "cell_type": "code",
      "metadata": {
        "colab": {
          "base_uri": "https://localhost:8080/"
        },
        "id": "JRBRXMO7TTAv",
        "outputId": "39874078-36b0-44e4-8c3d-f0ce154f36b7"
      },
      "source": [
        "cosine_similarity([ft['star']], [ft['shine']])"
      ],
      "execution_count": 62,
      "outputs": [
        {
          "output_type": "execute_result",
          "data": {
            "text/plain": [
              "array([[0.49348694]], dtype=float32)"
            ]
          },
          "metadata": {},
          "execution_count": 62
        }
      ]
    },
    {
      "cell_type": "markdown",
      "metadata": {
        "id": "juR4NX0wX-r_"
      },
      "source": [
        "### Как дообучить существующую модель\n",
        "\n",
        "При тренировке модели \"с нуля\" веса инициализируются случайно, однако можно использовать для инициализации векторов веса из предобученной модели, таким образом как бы дообучая ее.\n",
        "\n",
        "Сначала посмотрим близость какой-нибудь пары слов в имеющейся модели, чтобы потом сравнить результат с дообученной."
      ]
    },
    {
      "cell_type": "code",
      "metadata": {
        "colab": {
          "base_uri": "https://localhost:8080/"
        },
        "id": "U3F1N5PnTTAv",
        "outputId": "eafbd6ad-8b7e-4f82-fb23-a94ec3db575d"
      },
      "source": [
        "model_en.wv.similarity('white', 'rabbit')"
      ],
      "execution_count": 63,
      "outputs": [
        {
          "output_type": "execute_result",
          "data": {
            "text/plain": [
              "0.25052112"
            ]
          },
          "metadata": {},
          "execution_count": 63
        }
      ]
    },
    {
      "cell_type": "markdown",
      "metadata": {
        "id": "Mxsz8DKMX-sD"
      },
      "source": [
        "В качестве дополнительных данных для обучения возьмем английский текст «Алисы в Зазеркалье»."
      ]
    },
    {
      "cell_type": "code",
      "metadata": {
        "colab": {
          "base_uri": "https://localhost:8080/"
        },
        "id": "yHuXJgB_X-sI",
        "outputId": "8a85eb0d-6f93-4447-b836-3137e5469074"
      },
      "source": [
        "with open(\"alice.txt\", 'r', encoding='utf-8') as f:\n",
        "    text = f.read()\n",
        "\n",
        "text = re.sub('\\n', ' ', text)\n",
        "sents = sent_tokenize(text)\n",
        "\n",
        "punct = '!\"#$%&()*+,-./:;<=>?@[\\]^_`{|}~„“«»†*—/\\-‘’'\n",
        "clean_sents = []\n",
        "\n",
        "for sent in sents:\n",
        "    s = [w.lower().strip(punct) for w in sent.split()]\n",
        "    clean_sents.append(s)\n",
        "    \n",
        "print(clean_sents[:2])"
      ],
      "execution_count": 65,
      "outputs": [
        {
          "output_type": "stream",
          "name": "stdout",
          "text": [
            "[['through', 'the', 'looking-glass', 'by', 'lewis', 'carroll', 'chapter', 'i', 'looking-glass', 'house', 'one', 'thing', 'was', 'certain', 'that', 'the', 'white', 'kitten', 'had', 'had', 'nothing', 'to', 'do', 'with', 'it', '', 'it', 'was', 'the', 'black', 'kitten’s', 'fault', 'entirely'], ['for', 'the', 'white', 'kitten', 'had', 'been', 'having', 'its', 'face', 'washed', 'by', 'the', 'old', 'cat', 'for', 'the', 'last', 'quarter', 'of', 'an', 'hour', 'and', 'bearing', 'it', 'pretty', 'well', 'considering', 'so', 'you', 'see', 'that', 'it', 'couldn’t', 'have', 'had', 'any', 'hand', 'in', 'the', 'mischief']]\n"
          ]
        }
      ]
    },
    {
      "cell_type": "markdown",
      "metadata": {
        "id": "dH8f7GNBX-sK"
      },
      "source": [
        "Чтобы дообучить модель, надо сначала ее сохранить, а потом загрузить. Все параметры тренировки (размер вектора, мин. частота слова и т.п.) будут взяты из загруженной модели, т.е. задать их заново нельзя.\n",
        "\n",
        "**NB!** Дообучить можно только полную модель, а `KeyedVectors` — нельзя. Поэтому сохранять модель нужно в соотвествующем формате. Подробнее о разнице [вот тут](https://radimrehurek.com/gensim/models/keyedvectors.html)."
      ]
    },
    {
      "cell_type": "code",
      "metadata": {
        "colab": {
          "base_uri": "https://localhost:8080/"
        },
        "id": "Rv--44TmX-sL",
        "outputId": "db4282de-e347-42e2-c4af-d60786fbd0a8"
      },
      "source": [
        "model_path = \"movie_reviews.model\"\n",
        "\n",
        "print(\"Saving model...\")\n",
        "model_en.save(model_path)"
      ],
      "execution_count": 66,
      "outputs": [
        {
          "output_type": "stream",
          "name": "stdout",
          "text": [
            "Saving model...\n"
          ]
        }
      ]
    },
    {
      "cell_type": "code",
      "metadata": {
        "colab": {
          "base_uri": "https://localhost:8080/"
        },
        "id": "f6eZwBQzX-sQ",
        "outputId": "b56aa2be-8dcf-48fb-e4bf-3194c97366b3"
      },
      "source": [
        "model = word2vec.Word2Vec.load(model_path)\n",
        "\n",
        "model.build_vocab(clean_sents, update=True)\n",
        "model.train(clean_sents, total_examples=model.corpus_count, epochs=5)"
      ],
      "execution_count": 67,
      "outputs": [
        {
          "output_type": "execute_result",
          "data": {
            "text/plain": [
              "(96998, 150225)"
            ]
          },
          "metadata": {},
          "execution_count": 67
        }
      ]
    },
    {
      "cell_type": "markdown",
      "metadata": {
        "id": "nMLhISWiX-sS"
      },
      "source": [
        "\"Белый\" и \"кролик\" стали ближе друг к другу!"
      ]
    },
    {
      "cell_type": "code",
      "metadata": {
        "colab": {
          "base_uri": "https://localhost:8080/"
        },
        "id": "qKgUPVnpTTAx",
        "outputId": "7191ee26-18a4-4d29-b015-e4cb741b8cc1"
      },
      "source": [
        "model.wv.similarity('white', 'rabbit')"
      ],
      "execution_count": 68,
      "outputs": [
        {
          "output_type": "execute_result",
          "data": {
            "text/plain": [
              "0.27432016"
            ]
          },
          "metadata": {},
          "execution_count": 68
        }
      ]
    },
    {
      "cell_type": "markdown",
      "metadata": {
        "id": "nmQRfN35TTAx"
      },
      "source": [
        "## Как обучить свою модель: fastText\n",
        "\n",
        "Выше мы записали предобработанные данные IMDB в текстовый файл, теперь мы можем использовать его для обучения модели fastText."
      ]
    },
    {
      "cell_type": "code",
      "metadata": {
        "colab": {
          "base_uri": "https://localhost:8080/",
          "height": 316
        },
        "id": "ba-ua4S4TTAx",
        "outputId": "aa077294-8285-4442-b4ad-d8178da13e54"
      },
      "source": [
        "import fasttext\n",
        "\n",
        "# так можно обучить свою модель \n",
        "ft_model = fasttext.train_unsupervised('clean_text.txt', minn=3, maxn=4, dim=300)"
      ],
      "execution_count": 1,
      "outputs": [
        {
          "output_type": "error",
          "ename": "KeyboardInterrupt",
          "evalue": "ignored",
          "traceback": [
            "\u001b[0;31m---------------------------------------------------------------------------\u001b[0m",
            "\u001b[0;31mKeyboardInterrupt\u001b[0m                         Traceback (most recent call last)",
            "\u001b[0;32m<ipython-input-1-acfde4c644a2>\u001b[0m in \u001b[0;36m<module>\u001b[0;34m()\u001b[0m\n\u001b[1;32m      2\u001b[0m \u001b[0;34m\u001b[0m\u001b[0m\n\u001b[1;32m      3\u001b[0m \u001b[0;31m# так можно обучить свою модель\u001b[0m\u001b[0;34m\u001b[0m\u001b[0;34m\u001b[0m\u001b[0;34m\u001b[0m\u001b[0m\n\u001b[0;32m----> 4\u001b[0;31m \u001b[0mft_model\u001b[0m \u001b[0;34m=\u001b[0m \u001b[0mfasttext\u001b[0m\u001b[0;34m.\u001b[0m\u001b[0mtrain_unsupervised\u001b[0m\u001b[0;34m(\u001b[0m\u001b[0;34m'clean_text.txt'\u001b[0m\u001b[0;34m,\u001b[0m \u001b[0mminn\u001b[0m\u001b[0;34m=\u001b[0m\u001b[0;36m3\u001b[0m\u001b[0;34m,\u001b[0m \u001b[0mmaxn\u001b[0m\u001b[0;34m=\u001b[0m\u001b[0;36m4\u001b[0m\u001b[0;34m,\u001b[0m \u001b[0mdim\u001b[0m\u001b[0;34m=\u001b[0m\u001b[0;36m300\u001b[0m\u001b[0;34m)\u001b[0m\u001b[0;34m\u001b[0m\u001b[0;34m\u001b[0m\u001b[0m\n\u001b[0m",
            "\u001b[0;32m/usr/local/lib/python3.7/dist-packages/fasttext/FastText.py\u001b[0m in \u001b[0;36mtrain_unsupervised\u001b[0;34m(*kargs, **kwargs)\u001b[0m\n\u001b[1;32m    557\u001b[0m     \u001b[0ma\u001b[0m \u001b[0;34m=\u001b[0m \u001b[0m_build_args\u001b[0m\u001b[0;34m(\u001b[0m\u001b[0margs\u001b[0m\u001b[0;34m,\u001b[0m \u001b[0mmanually_set_args\u001b[0m\u001b[0;34m)\u001b[0m\u001b[0;34m\u001b[0m\u001b[0;34m\u001b[0m\u001b[0m\n\u001b[1;32m    558\u001b[0m     \u001b[0mft\u001b[0m \u001b[0;34m=\u001b[0m \u001b[0m_FastText\u001b[0m\u001b[0;34m(\u001b[0m\u001b[0margs\u001b[0m\u001b[0;34m=\u001b[0m\u001b[0ma\u001b[0m\u001b[0;34m)\u001b[0m\u001b[0;34m\u001b[0m\u001b[0;34m\u001b[0m\u001b[0m\n\u001b[0;32m--> 559\u001b[0;31m     \u001b[0mfasttext\u001b[0m\u001b[0;34m.\u001b[0m\u001b[0mtrain\u001b[0m\u001b[0;34m(\u001b[0m\u001b[0mft\u001b[0m\u001b[0;34m.\u001b[0m\u001b[0mf\u001b[0m\u001b[0;34m,\u001b[0m \u001b[0ma\u001b[0m\u001b[0;34m)\u001b[0m\u001b[0;34m\u001b[0m\u001b[0;34m\u001b[0m\u001b[0m\n\u001b[0m\u001b[1;32m    560\u001b[0m     \u001b[0mft\u001b[0m\u001b[0;34m.\u001b[0m\u001b[0mset_args\u001b[0m\u001b[0;34m(\u001b[0m\u001b[0mft\u001b[0m\u001b[0;34m.\u001b[0m\u001b[0mf\u001b[0m\u001b[0;34m.\u001b[0m\u001b[0mgetArgs\u001b[0m\u001b[0;34m(\u001b[0m\u001b[0;34m)\u001b[0m\u001b[0;34m)\u001b[0m\u001b[0;34m\u001b[0m\u001b[0;34m\u001b[0m\u001b[0m\n\u001b[1;32m    561\u001b[0m     \u001b[0;32mreturn\u001b[0m \u001b[0mft\u001b[0m\u001b[0;34m\u001b[0m\u001b[0;34m\u001b[0m\u001b[0m\n",
            "\u001b[0;31mKeyboardInterrupt\u001b[0m: "
          ]
        }
      ]
    },
    {
      "cell_type": "code",
      "metadata": {
        "id": "OLFBDCOlTTAx",
        "outputId": "484b385f-886f-480b-ce5f-13ed004c0bd8"
      },
      "source": [
        "ft_model.get_word_vector(\"movie\")"
      ],
      "execution_count": null,
      "outputs": [
        {
          "data": {
            "text/plain": [
              "array([ 0.10647972,  0.00348743,  0.00400553, -0.2220917 ,  0.02774876,\n",
              "        0.28113014,  0.04588589, -0.00953584, -0.14305185,  0.06663238,\n",
              "       -0.01932244,  0.06766095, -0.06964523, -0.00879823, -0.2754987 ,\n",
              "        0.00865352, -0.02323557, -0.25205076, -0.12951218,  0.03342189,\n",
              "        0.00371615, -0.05362495,  0.01820608,  0.1001416 , -0.00959393,\n",
              "       -0.18463574,  0.3780635 , -0.02545302, -0.18444885,  0.12707062,\n",
              "       -0.10905846,  0.16443293,  0.15409584, -0.11409819,  0.24385491,\n",
              "       -0.00680395, -0.17201523, -0.11899467, -0.1555182 , -0.09888287,\n",
              "       -0.0370929 ,  0.07110037, -0.18011254, -0.13228868,  0.06374579,\n",
              "        0.11771804,  0.12609613, -0.0567237 ,  0.18499018,  0.1786773 ,\n",
              "        0.14431344, -0.04145625, -0.05425412, -0.19320773, -0.00719959,\n",
              "       -0.13159607, -0.15365084, -0.0127184 ,  0.0429236 , -0.0468537 ,\n",
              "       -0.16655543,  0.14787091,  0.00640271,  0.10557158,  0.3033813 ,\n",
              "        0.21118031,  0.0810559 , -0.15322076,  0.05768304,  0.03156255,\n",
              "        0.08934344, -0.17603667, -0.28397682,  0.02493125,  0.12160244,\n",
              "        0.07438196,  0.02870641,  0.15328582, -0.2951915 ,  0.11127534,\n",
              "        0.22485904,  0.05506345,  0.23298828, -0.12812184,  0.0363166 ,\n",
              "       -0.11760419, -0.2728406 ,  0.06310979,  0.0163185 , -0.00276489,\n",
              "       -0.14891374,  0.05296465, -0.06690532,  0.12462053, -0.13946794,\n",
              "       -0.23445657, -0.00574374,  0.15062457, -0.00894643, -0.01967534,\n",
              "       -0.07374644,  0.00181053, -0.03458458, -0.0748456 ,  0.16700003,\n",
              "        0.12362601, -0.09110783, -0.05691807,  0.03763324, -0.0379038 ,\n",
              "       -0.0340135 ,  0.01718459, -0.00142723,  0.06471407,  0.14001875,\n",
              "       -0.01078935,  0.2020977 ,  0.02244384, -0.01641017,  0.03489206,\n",
              "       -0.03143051,  0.06208009, -0.01247452,  0.02434204,  0.0880824 ,\n",
              "        0.1341468 , -0.03408279, -0.03738172,  0.11721347, -0.0487804 ,\n",
              "        0.04758214, -0.19982706,  0.15834196, -0.05561088,  0.19729088,\n",
              "       -0.21621099, -0.00298688, -0.09032749, -0.03335881,  0.06356947,\n",
              "       -0.00336576,  0.15146399, -0.17335647, -0.0827271 , -0.14458625,\n",
              "       -0.36312377,  0.12627144, -0.0016868 ,  0.09096746,  0.02144508,\n",
              "       -0.00956393, -0.18888775,  0.02414494,  0.12479188,  0.1224603 ,\n",
              "        0.13554408, -0.10544685,  0.18642114,  0.12462015,  0.14837256,\n",
              "        0.13810405, -0.10096337, -0.07447851, -0.04384645,  0.00678429,\n",
              "        0.0138451 ,  0.03518347, -0.25854912, -0.10484967, -0.03255135,\n",
              "        0.02545583,  0.00079106,  0.04044076,  0.3164993 ,  0.04806856,\n",
              "       -0.01576148,  0.11982085, -0.23312406, -0.07089883,  0.08599098,\n",
              "       -0.0584241 ,  0.21747057,  0.01652784, -0.04547612, -0.00425825,\n",
              "        0.08570202, -0.10009172, -0.01164426, -0.13189556, -0.03768274,\n",
              "       -0.11670502, -0.13645473,  0.23310612, -0.11002111, -0.04876021,\n",
              "        0.23654036, -0.17239796, -0.06510314, -0.11531647, -0.07209118,\n",
              "        0.08668107,  0.14282747, -0.12921567, -0.01978053,  0.01892957,\n",
              "       -0.17166983, -0.03767522, -0.04455657, -0.12475715,  0.1205698 ,\n",
              "       -0.0223694 ,  0.17989808, -0.2546117 , -0.1500342 , -0.17565282,\n",
              "        0.11773366,  0.01775845, -0.06116071,  0.0283902 ,  0.03569905,\n",
              "        0.25115395,  0.02294705, -0.05371798,  0.03680886,  0.13164642,\n",
              "        0.09370206,  0.1172943 ,  0.22707926,  0.06699484,  0.14266716,\n",
              "       -0.13867424,  0.09012312, -0.02852494, -0.19918357, -0.09251253,\n",
              "       -0.20748758, -0.18582642,  0.08112054,  0.00262597,  0.0477021 ,\n",
              "        0.10119045,  0.09308492, -0.07188187,  0.24025121,  0.16576168,\n",
              "       -0.21916008,  0.23559944, -0.03360926,  0.23927112,  0.06010748,\n",
              "       -0.10249438,  0.14544252,  0.12475874, -0.26403013, -0.08486622,\n",
              "       -0.18960364, -0.02308721, -0.00917426, -0.05708581, -0.18267463,\n",
              "        0.20308118, -0.13605209,  0.29976863, -0.15766624, -0.12814009,\n",
              "        0.04926346, -0.03348718, -0.03875241, -0.17668977, -0.09978857,\n",
              "        0.17115428,  0.19755273,  0.01411418, -0.06554732, -0.19383872,\n",
              "       -0.06060887,  0.02333008,  0.23856847, -0.03785389, -0.03472081,\n",
              "        0.3516929 , -0.06610451,  0.2795676 , -0.00958802, -0.05536084,\n",
              "       -0.00367441,  0.00242285, -0.19740188, -0.1464423 , -0.00957965,\n",
              "       -0.16542217, -0.05397834,  0.00693617, -0.19925623,  0.04394748,\n",
              "        0.16893867, -0.01976188,  0.19094467, -0.11328156, -0.19202887],\n",
              "      dtype=float32)"
            ]
          },
          "execution_count": 53,
          "metadata": {},
          "output_type": "execute_result"
        }
      ]
    },
    {
      "cell_type": "code",
      "metadata": {
        "colab": {
          "base_uri": "https://localhost:8080/",
          "height": 187
        },
        "id": "TsZnXqH8X-st",
        "outputId": "983fcc63-9a13-43fb-a4be-3dfd55d70863"
      },
      "source": [
        "ft_model.get_nearest_neighbors('actor')"
      ],
      "execution_count": null,
      "outputs": [
        {
          "data": {
            "text/plain": [
              "[(0.6824725270271301, 'charactor'),\n",
              " (0.6627753973007202, 'ctor'),\n",
              " (0.6476548314094543, 'actors'),\n",
              " (0.630966067314148, 'tractor'),\n",
              " (0.5709237456321716, 'actress'),\n",
              " (0.5643734931945801, 'reactor'),\n",
              " (0.5564367771148682, 'benefactor'),\n",
              " (0.5310477018356323, 'hector'),\n",
              " (0.5144302845001221, 'contractor'),\n",
              " (0.5066649913787842, 'factor')]"
            ]
          },
          "execution_count": 54,
          "metadata": {},
          "output_type": "execute_result"
        }
      ]
    },
    {
      "cell_type": "code",
      "metadata": {
        "colab": {
          "base_uri": "https://localhost:8080/",
          "height": 187
        },
        "id": "iKR3FzCFX-sv",
        "outputId": "a673203f-8cd8-4dc1-b4fd-79b8f8fe83cb"
      },
      "source": [
        "ft_model.get_analogies(\"woman\", \"man\", \"actor\")"
      ],
      "execution_count": null,
      "outputs": [
        {
          "data": {
            "text/plain": [
              "[(0.6606210470199585, 'actress'),\n",
              " (0.5363813042640686, 'actresses'),\n",
              " (0.48164188861846924, 'ctor'),\n",
              " (0.4782077372074127, 'actors'),\n",
              " (0.46812912821769714, 'charactor'),\n",
              " (0.4576756954193115, 'seductress'),\n",
              " (0.4522528052330017, 'tractor'),\n",
              " (0.4366052448749542, 'hector'),\n",
              " (0.42155134677886963, 'womaniser'),\n",
              " (0.40410301089286804, 'abductor')]"
            ]
          },
          "execution_count": 55,
          "metadata": {},
          "output_type": "execute_result"
        }
      ]
    },
    {
      "cell_type": "markdown",
      "metadata": {
        "id": "PDfmWsHETTAy"
      },
      "source": [
        "OOV:"
      ]
    },
    {
      "cell_type": "code",
      "metadata": {
        "colab": {
          "base_uri": "https://localhost:8080/",
          "height": 187
        },
        "id": "ttAgMPC_X-sx",
        "outputId": "9bbec1ad-d83a-4e75-df98-94356598a671"
      },
      "source": [
        "ft_model.get_nearest_neighbors('actr')"
      ],
      "execution_count": null,
      "outputs": [
        {
          "data": {
            "text/plain": [
              "[(0.7510600090026855, 'actresses'),\n",
              " (0.747826099395752, 'actress'),\n",
              " (0.6713401675224304, 'actors'),\n",
              " (0.6301003098487854, 'actor'),\n",
              " (0.50783771276474, 'acting'),\n",
              " (0.4529079794883728, 'xd'),\n",
              " (0.4442768394947052, 'gzsz'),\n",
              " (0.44143927097320557, 'act'),\n",
              " (0.4292294681072235, 'acharya'),\n",
              " (0.42825278639793396, 'nb')]"
            ]
          },
          "execution_count": 56,
          "metadata": {},
          "output_type": "execute_result"
        }
      ]
    },
    {
      "cell_type": "code",
      "metadata": {
        "colab": {
          "base_uri": "https://localhost:8080/",
          "height": 187
        },
        "id": "V9alEdz0X-s0",
        "scrolled": true,
        "outputId": "1126182a-8abd-471c-9346-59e852625c22"
      },
      "source": [
        "ft_model.get_nearest_neighbors('moviegeek')"
      ],
      "execution_count": null,
      "outputs": [
        {
          "data": {
            "text/plain": [
              "[(0.6236038208007812, 'eek'),\n",
              " (0.612317681312561, 'movie'),\n",
              " (0.5866702795028687, 'geek'),\n",
              " (0.5764365792274475, 'moviegoer'),\n",
              " (0.571036696434021, 'moviemaking'),\n",
              " (0.5661671161651611, 'movies'),\n",
              " (0.5481372475624084, 'creek'),\n",
              " (0.5346364974975586, 'moviegoers'),\n",
              " (0.5314581394195557, 'cq'),\n",
              " (0.5229887366294861, 'bwp')]"
            ]
          },
          "execution_count": 57,
          "metadata": {},
          "output_type": "execute_result"
        }
      ]
    },
    {
      "cell_type": "markdown",
      "metadata": {
        "id": "CXKnPffPX-sY"
      },
      "source": [
        "## Оценка\n",
        "\n",
        "Мы научились обучать модели, научились загружать готовые, а как понять, какая модель лучше? Или вот, например, мы обучили модель, а как понять, насколько она хорошая? Рассмотрим два метода: с помощью метрик, основанных на подготовленных данных, и визуализации.\n",
        "\n",
        "Для этого существуют специальные наборы данных для оценки качества дистрибутивных моделей. Основных два: один измеряет точность решения задач на аналогии (про Сибирь и пельмени), а второй используется для оценки коэффициента семантической близости. \n",
        "\n",
        "### Word Similarity\n",
        "\n",
        "Этот метод заключается в том, чтобы оценить, насколько представления о семантической близости слов в модели соотносятся с \"представлениями\" людей.\n",
        "\n",
        "| слово 1    | слово 2    | близость | \n",
        "|------------|------------|----------|\n",
        "| кошка      | собака     | 0.7      |  \n",
        "| чашка      | кружка     | 0.9      |       \n",
        "\n",
        "Для каждой пары слов из заранее заданного набора данных мы можем посчитать косинусное расстояние, и получить список таких значений близости. При этом у нас уже есть список значений близостей, сделанный людьми. Мы можем сравнить эти два списка и понять, насколько они похожи (например, посчитав корреляцию). Эта мера схожести должна говорить о том, насколько модель хорошо моделирует расстояния до слова.\n",
        "\n",
        "### Аналогии\n",
        "\n",
        "Другая популярная задача для \"внутренней\" оценки называется задачей поиска аналогий. Как мы уже разбирали выше, с помощью простых арифметических операций мы можем модифицировать значение слова. Если заранее собрать набор слов-модификаторов, а также слов, которые мы хотим получить в результаты модификации, то на основе подсчёта количества \"попаданий\" в желаемое слово мы можем оценить, насколько хорошо работает модель.\n",
        "\n",
        "В качестве слов-модификаторов мы можем использовать семантические аналогии. Скажем, если у нас есть некоторое отношение \"страна-столица\", то для оценки модели мы можем использовать пары наподобие \"Россия-Москва\", \"Норвегия-Осло\", и т.д. Набор данных будет выглядеть следующм образом:\n",
        "\n",
        "| слово 1    | слово 2    | отношение     | \n",
        "|------------|------------|---------------|\n",
        "| Россия     | Москва     | страна-столица|  \n",
        "| Норвегия   | Осло       | страна-столица|\n",
        "\n",
        "Рассматривая случайные две пары из этого набора, мы хотим, имея триплет (Россия, Москва, Норвегия) хотим получить слово \"Осло\", т.е. найти такое слово, которое будет находиться в том же отношении со словом \"Норвегия\", как \"Россия\" находится с Москвой. \n",
        "\n",
        "Данные для русского языка можно скачать на странице с моделями на RusVectores. Посчитаем качество нашей модели НКРЯ на датасете про аналогии:"
      ]
    },
    {
      "cell_type": "code",
      "metadata": {
        "id": "z54TWXlcX-sb"
      },
      "source": [
        "res = model_ru.accuracy('ru_analogy_tagged.txt')"
      ],
      "execution_count": null,
      "outputs": []
    },
    {
      "cell_type": "code",
      "metadata": {
        "id": "J7hTSdz-TTAz",
        "outputId": "63e76e8b-57b8-4bb7-de3d-4fba664a6993"
      },
      "source": [
        "!less ru_analogy_tagged.txt"
      ],
      "execution_count": null,
      "outputs": [
        {
          "name": "stdout",
          "output_type": "stream",
          "text": [
            ": capital-common-countries\n",
            "афины_S греция_S багдад_S ирак_S\n",
            "афины_S греция_S бангкок_S таиланд_S\n",
            "афины_S греция_S пекин_S китай_S\n",
            "афины_S греция_S берлин_S германия_S\n",
            "афины_S греция_S берн_S швейцария_S\n",
            "афины_S греция_S каир_S египет_S\n",
            "афины_S греция_S канберра_S австралия_S\n",
            "афины_S греция_S ханой_S вьетнам_S\n",
            "афины_S греция_S гавана_S куба_S\n",
            "афины_S греция_S хельсинки_S финляндия_S\n",
            "афины_S греция_S исламабад_S пакистан_S\n",
            "афины_S греция_S кабул_S афганистан_S\n",
            "афины_S греция_S лондон_S англия_S\n",
            "афины_S греция_S мадрид_S испания_S\n",
            "афины_S греция_S москва_S россия_S\n",
            "афины_S греция_S осло_S норвегия_S\n",
            "афины_S греция_S оттава_S канада_S\n",
            "афины_S греция_S париж_S франция_S\n",
            "афины_S греция_S рим_S италия_S\n",
            "афины_S греция_S стокгольм_S швеция_S\n",
            "афины_S греция_S тегеран_S иран_S\n",
            "афины_S греция_S токио_S япония_S\n",
            "\u001b[Kбагдад_S ирак_S бангкок_S таиланд_S\n",
            ":\u001b[K"
          ]
        }
      ]
    },
    {
      "cell_type": "code",
      "metadata": {
        "colab": {
          "base_uri": "https://localhost:8080/",
          "height": 54
        },
        "id": "tWNppFBeX-sd",
        "outputId": "8d2a2fdf-0d2d-4963-9d68-544caf08c773"
      },
      "source": [
        "print(res[4]['incorrect'][:10])"
      ],
      "execution_count": null,
      "outputs": [
        {
          "name": "stdout",
          "output_type": "stream",
          "text": [
            "[('МАЛЬЧИК_S', 'ДЕВОЧКА_S', 'ДЕД_S', 'БАБКА_S'), ('МАЛЬЧИК_S', 'ДЕВОЧКА_S', 'КОРОЛЬ_S', 'КОРОЛЕВА_S'), ('МАЛЬЧИК_S', 'ДЕВОЧКА_S', 'ПРИНЦ_S', 'ПРИНЦЕССА_S'), ('МАЛЬЧИК_S', 'ДЕВОЧКА_S', 'ОТЧИМ_S', 'МАЧЕХА_S'), ('МАЛЬЧИК_S', 'ДЕВОЧКА_S', 'ПАСЫНОК_S', 'ПАДЧЕРИЦА_S'), ('БРАТ_S', 'СЕСТРА_S', 'ДЕД_S', 'БАБКА_S'), ('БРАТ_S', 'СЕСТРА_S', 'ОТЧИМ_S', 'МАЧЕХА_S'), ('БРАТ_S', 'СЕСТРА_S', 'ПАСЫНОК_S', 'ПАДЧЕРИЦА_S'), ('ПАПА_S', 'МАМА_S', 'ДЕД_S', 'БАБКА_S'), ('ПАПА_S', 'МАМА_S', 'ОТЧИМ_S', 'МАЧЕХА_S')]\n"
          ]
        }
      ]
    },
    {
      "cell_type": "code",
      "metadata": {
        "id": "9_1Nlxz2TTA0",
        "outputId": "281f5f1f-b605-4ab1-b104-a8d720848ead"
      },
      "source": [
        "print(model_ru.most_similar(positive=['мальчик_S', 'бабка_S'], negative=['девочка_S'])[0][0])"
      ],
      "execution_count": null,
      "outputs": [
        {
          "name": "stdout",
          "output_type": "stream",
          "text": [
            "бабушка_S\n"
          ]
        }
      ]
    },
    {
      "cell_type": "code",
      "metadata": {
        "id": "sRpx2f6zTTA0",
        "outputId": "90f25057-4479-412e-d78c-03e8116a8de9"
      },
      "source": [
        "len(res[4]['incorrect']), len(res[4]['correct'])"
      ],
      "execution_count": null,
      "outputs": [
        {
          "data": {
            "text/plain": [
              "(88, 218)"
            ]
          },
          "execution_count": 62,
          "metadata": {},
          "output_type": "execute_result"
        }
      ]
    },
    {
      "cell_type": "markdown",
      "metadata": {
        "id": "BwIt0qmhlXTp"
      },
      "source": [
        "## доп вещи"
      ]
    },
    {
      "cell_type": "markdown",
      "metadata": {
        "id": "UEToxEfSkGUV"
      },
      "source": [
        "#### ворд 2 век\n",
        "на препроцессинге - убрать лучше лишние символы.\n",
        "\n",
        "можно задать - mincount - на уровне обучения. gensim сможет выкинуть.\n",
        "\n",
        "может \n",
        "\n",
        "#### pymorpy \n",
        "\n",
        "и морфологический анализ"
      ]
    },
    {
      "cell_type": "markdown",
      "metadata": {
        "id": "Sv0wxUXIX-se"
      },
      "source": [
        "## Визуализация\n",
        "\n",
        "На полученную модель можно посмотреть, визуализировав ее, например, на плоскости.\n",
        "### t-SNE\n",
        "\n",
        "**t-SNE**  (*t-distributed Stochastic Neighbor Embedding*) — техника нелинейного снижения размерности и визуализации многомерных переменных. Она разработана специально для данных высокой размерности Л. ван дер Маатеном и Д. Хинтоном, [вот их статья](http://jmlr.org/papers/volume9/vandermaaten08a/vandermaaten08a.pdf). t-SNE — это итеративный алгоритм, основанный на вычислении попарных расстояний между всеми объектами (в том числе поэтому он довольно медленный).\n",
        "\n",
        "\n",
        "Изобразим на плоскости 1000 самых частотных слов из коллекции текстов про кино:"
      ]
    },
    {
      "cell_type": "code",
      "metadata": {
        "id": "0nBOo2IoTTA0"
      },
      "source": [
        "model_path = \"movie_reviews.model\"\n",
        "\n",
        "model = word2vec.Word2Vec.load(model_path)"
      ],
      "execution_count": null,
      "outputs": []
    },
    {
      "cell_type": "code",
      "metadata": {
        "colab": {
          "base_uri": "https://localhost:8080/",
          "height": 105,
          "referenced_widgets": [
            "eaa1b3091a1940ffa38c77d43e9a6b0f"
          ]
        },
        "id": "5UH91gFyX-sf",
        "outputId": "91b0537a-6e9b-47af-c462-9c09e7f8df4b"
      },
      "source": [
        "from nltk import FreqDist\n",
        "from tqdm import tqdm_notebook as tqdm\n",
        "from sklearn.manifold import TSNE\n",
        "\n",
        "top_words = []\n",
        "\n",
        "\n",
        "fd = FreqDist()\n",
        "for s in tqdm(flat_sentences):\n",
        "    fd.update(s)\n",
        "\n",
        "for w in fd.most_common(1000):\n",
        "    top_words.append(w[0])\n",
        "    \n",
        "print(top_words[:50:])\n",
        "top_words_vec = model[top_words]"
      ],
      "execution_count": null,
      "outputs": [
        {
          "data": {
            "application/vnd.jupyter.widget-view+json": {
              "model_id": "eaa1b3091a1940ffa38c77d43e9a6b0f",
              "version_major": 2,
              "version_minor": 0
            },
            "text/plain": [
              "HBox(children=(FloatProgress(value=0.0, max=536641.0), HTML(value='')))"
            ]
          },
          "metadata": {},
          "output_type": "display_data"
        },
        {
          "name": "stdout",
          "output_type": "stream",
          "text": [
            "\n",
            "['the', 'and', 'a', 'of', 'to', 'is', 'it', 'in', 'i', 'this', 'that', 's', 'was', 'as', 'movie', 'for', 'with', 'but', 'film', 'you', 't', 'on', 'not', 'he', 'are', 'his', 'have', 'one', 'be', 'all', 'at', 'they', 'by', 'an', 'who', 'so', 'from', 'like', 'there', 'or', 'just', 'her', 'out', 'about', 'if', 'has', 'what', 'some', 'good', 'can']\n"
          ]
        }
      ]
    },
    {
      "cell_type": "code",
      "metadata": {
        "colab": {
          "base_uri": "https://localhost:8080/",
          "height": 51
        },
        "id": "74FvTsuuX-sg",
        "outputId": "0f629f24-1cd1-471a-9f1f-129792c28e1f"
      },
      "source": [
        "%%time\n",
        "tsne = TSNE(n_components=2, random_state=0)\n",
        "top_words_tsne = tsne.fit_transform(top_words_vec)"
      ],
      "execution_count": null,
      "outputs": [
        {
          "name": "stdout",
          "output_type": "stream",
          "text": [
            "CPU times: user 26.9 s, sys: 379 ms, total: 27.3 s\n",
            "Wall time: 4.19 s\n"
          ]
        }
      ]
    },
    {
      "cell_type": "code",
      "metadata": {
        "colab": {
          "base_uri": "https://localhost:8080/",
          "height": 617
        },
        "id": "R0A__XKwX-si",
        "outputId": "6e212d18-d4bd-4dce-fcf4-4ddf1e1627ec"
      },
      "source": [
        "from bokeh.models import ColumnDataSource, LabelSet\n",
        "from bokeh.plotting import figure, show, output_file\n",
        "from bokeh.io import output_notebook\n",
        "output_notebook()\n",
        "\n",
        "p = figure(tools=\"pan,wheel_zoom,reset,save\",\n",
        "           toolbar_location=\"above\",\n",
        "           title=\"word2vec T-SNE (eng model, top1000 words)\")\n",
        "\n",
        "source = ColumnDataSource(data=dict(x1=top_words_tsne[:,0],\n",
        "                                    x2=top_words_tsne[:,1],\n",
        "                                    names=top_words))\n",
        "\n",
        "p.scatter(x=\"x1\", y=\"x2\", size=8, source=source)\n",
        "\n",
        "labels = LabelSet(x=\"x1\", y=\"x2\", text=\"names\", y_offset=6,\n",
        "                  text_font_size=\"8pt\", text_color=\"#555555\",\n",
        "                  source=source, text_align='center')\n",
        "p.add_layout(labels)\n",
        "\n",
        "show(p)"
      ],
      "execution_count": null,
      "outputs": [
        {
          "data": {
            "text/html": [
              "\n",
              "    <div class=\"bk-root\">\n",
              "        <a href=\"https://bokeh.org\" target=\"_blank\" class=\"bk-logo bk-logo-small bk-logo-notebook\"></a>\n",
              "        <span id=\"1001\">Loading BokehJS ...</span>\n",
              "    </div>"
            ]
          },
          "metadata": {},
          "output_type": "display_data"
        },
        {
          "data": {
            "application/javascript": [
              "\n",
              "(function(root) {\n",
              "  function now() {\n",
              "    return new Date();\n",
              "  }\n",
              "\n",
              "  var force = true;\n",
              "\n",
              "  if (typeof root._bokeh_onload_callbacks === \"undefined\" || force === true) {\n",
              "    root._bokeh_onload_callbacks = [];\n",
              "    root._bokeh_is_loading = undefined;\n",
              "  }\n",
              "\n",
              "  var JS_MIME_TYPE = 'application/javascript';\n",
              "  var HTML_MIME_TYPE = 'text/html';\n",
              "  var EXEC_MIME_TYPE = 'application/vnd.bokehjs_exec.v0+json';\n",
              "  var CLASS_NAME = 'output_bokeh rendered_html';\n",
              "\n",
              "  /**\n",
              "   * Render data to the DOM node\n",
              "   */\n",
              "  function render(props, node) {\n",
              "    var script = document.createElement(\"script\");\n",
              "    node.appendChild(script);\n",
              "  }\n",
              "\n",
              "  /**\n",
              "   * Handle when an output is cleared or removed\n",
              "   */\n",
              "  function handleClearOutput(event, handle) {\n",
              "    var cell = handle.cell;\n",
              "\n",
              "    var id = cell.output_area._bokeh_element_id;\n",
              "    var server_id = cell.output_area._bokeh_server_id;\n",
              "    // Clean up Bokeh references\n",
              "    if (id != null && id in Bokeh.index) {\n",
              "      Bokeh.index[id].model.document.clear();\n",
              "      delete Bokeh.index[id];\n",
              "    }\n",
              "\n",
              "    if (server_id !== undefined) {\n",
              "      // Clean up Bokeh references\n",
              "      var cmd = \"from bokeh.io.state import curstate; print(curstate().uuid_to_server['\" + server_id + \"'].get_sessions()[0].document.roots[0]._id)\";\n",
              "      cell.notebook.kernel.execute(cmd, {\n",
              "        iopub: {\n",
              "          output: function(msg) {\n",
              "            var id = msg.content.text.trim();\n",
              "            if (id in Bokeh.index) {\n",
              "              Bokeh.index[id].model.document.clear();\n",
              "              delete Bokeh.index[id];\n",
              "            }\n",
              "          }\n",
              "        }\n",
              "      });\n",
              "      // Destroy server and session\n",
              "      var cmd = \"import bokeh.io.notebook as ion; ion.destroy_server('\" + server_id + \"')\";\n",
              "      cell.notebook.kernel.execute(cmd);\n",
              "    }\n",
              "  }\n",
              "\n",
              "  /**\n",
              "   * Handle when a new output is added\n",
              "   */\n",
              "  function handleAddOutput(event, handle) {\n",
              "    var output_area = handle.output_area;\n",
              "    var output = handle.output;\n",
              "\n",
              "    // limit handleAddOutput to display_data with EXEC_MIME_TYPE content only\n",
              "    if ((output.output_type != \"display_data\") || (!output.data.hasOwnProperty(EXEC_MIME_TYPE))) {\n",
              "      return\n",
              "    }\n",
              "\n",
              "    var toinsert = output_area.element.find(\".\" + CLASS_NAME.split(' ')[0]);\n",
              "\n",
              "    if (output.metadata[EXEC_MIME_TYPE][\"id\"] !== undefined) {\n",
              "      toinsert[toinsert.length - 1].firstChild.textContent = output.data[JS_MIME_TYPE];\n",
              "      // store reference to embed id on output_area\n",
              "      output_area._bokeh_element_id = output.metadata[EXEC_MIME_TYPE][\"id\"];\n",
              "    }\n",
              "    if (output.metadata[EXEC_MIME_TYPE][\"server_id\"] !== undefined) {\n",
              "      var bk_div = document.createElement(\"div\");\n",
              "      bk_div.innerHTML = output.data[HTML_MIME_TYPE];\n",
              "      var script_attrs = bk_div.children[0].attributes;\n",
              "      for (var i = 0; i < script_attrs.length; i++) {\n",
              "        toinsert[toinsert.length - 1].firstChild.setAttribute(script_attrs[i].name, script_attrs[i].value);\n",
              "        toinsert[toinsert.length - 1].firstChild.textContent = bk_div.children[0].textContent\n",
              "      }\n",
              "      // store reference to server id on output_area\n",
              "      output_area._bokeh_server_id = output.metadata[EXEC_MIME_TYPE][\"server_id\"];\n",
              "    }\n",
              "  }\n",
              "\n",
              "  function register_renderer(events, OutputArea) {\n",
              "\n",
              "    function append_mime(data, metadata, element) {\n",
              "      // create a DOM node to render to\n",
              "      var toinsert = this.create_output_subarea(\n",
              "        metadata,\n",
              "        CLASS_NAME,\n",
              "        EXEC_MIME_TYPE\n",
              "      );\n",
              "      this.keyboard_manager.register_events(toinsert);\n",
              "      // Render to node\n",
              "      var props = {data: data, metadata: metadata[EXEC_MIME_TYPE]};\n",
              "      render(props, toinsert[toinsert.length - 1]);\n",
              "      element.append(toinsert);\n",
              "      return toinsert\n",
              "    }\n",
              "\n",
              "    /* Handle when an output is cleared or removed */\n",
              "    events.on('clear_output.CodeCell', handleClearOutput);\n",
              "    events.on('delete.Cell', handleClearOutput);\n",
              "\n",
              "    /* Handle when a new output is added */\n",
              "    events.on('output_added.OutputArea', handleAddOutput);\n",
              "\n",
              "    /**\n",
              "     * Register the mime type and append_mime function with output_area\n",
              "     */\n",
              "    OutputArea.prototype.register_mime_type(EXEC_MIME_TYPE, append_mime, {\n",
              "      /* Is output safe? */\n",
              "      safe: true,\n",
              "      /* Index of renderer in `output_area.display_order` */\n",
              "      index: 0\n",
              "    });\n",
              "  }\n",
              "\n",
              "  // register the mime type if in Jupyter Notebook environment and previously unregistered\n",
              "  if (root.Jupyter !== undefined) {\n",
              "    var events = require('base/js/events');\n",
              "    var OutputArea = require('notebook/js/outputarea').OutputArea;\n",
              "\n",
              "    if (OutputArea.prototype.mime_types().indexOf(EXEC_MIME_TYPE) == -1) {\n",
              "      register_renderer(events, OutputArea);\n",
              "    }\n",
              "  }\n",
              "\n",
              "  \n",
              "  if (typeof (root._bokeh_timeout) === \"undefined\" || force === true) {\n",
              "    root._bokeh_timeout = Date.now() + 5000;\n",
              "    root._bokeh_failed_load = false;\n",
              "  }\n",
              "\n",
              "  var NB_LOAD_WARNING = {'data': {'text/html':\n",
              "     \"<div style='background-color: #fdd'>\\n\"+\n",
              "     \"<p>\\n\"+\n",
              "     \"BokehJS does not appear to have successfully loaded. If loading BokehJS from CDN, this \\n\"+\n",
              "     \"may be due to a slow or bad network connection. Possible fixes:\\n\"+\n",
              "     \"</p>\\n\"+\n",
              "     \"<ul>\\n\"+\n",
              "     \"<li>re-rerun `output_notebook()` to attempt to load from CDN again, or</li>\\n\"+\n",
              "     \"<li>use INLINE resources instead, as so:</li>\\n\"+\n",
              "     \"</ul>\\n\"+\n",
              "     \"<code>\\n\"+\n",
              "     \"from bokeh.resources import INLINE\\n\"+\n",
              "     \"output_notebook(resources=INLINE)\\n\"+\n",
              "     \"</code>\\n\"+\n",
              "     \"</div>\"}};\n",
              "\n",
              "  function display_loaded() {\n",
              "    var el = document.getElementById(\"1001\");\n",
              "    if (el != null) {\n",
              "      el.textContent = \"BokehJS is loading...\";\n",
              "    }\n",
              "    if (root.Bokeh !== undefined) {\n",
              "      if (el != null) {\n",
              "        el.textContent = \"BokehJS \" + root.Bokeh.version + \" successfully loaded.\";\n",
              "      }\n",
              "    } else if (Date.now() < root._bokeh_timeout) {\n",
              "      setTimeout(display_loaded, 100)\n",
              "    }\n",
              "  }\n",
              "\n",
              "\n",
              "  function run_callbacks() {\n",
              "    try {\n",
              "      root._bokeh_onload_callbacks.forEach(function(callback) {\n",
              "        if (callback != null)\n",
              "          callback();\n",
              "      });\n",
              "    } finally {\n",
              "      delete root._bokeh_onload_callbacks\n",
              "    }\n",
              "    console.debug(\"Bokeh: all callbacks have finished\");\n",
              "  }\n",
              "\n",
              "  function load_libs(css_urls, js_urls, callback) {\n",
              "    if (css_urls == null) css_urls = [];\n",
              "    if (js_urls == null) js_urls = [];\n",
              "\n",
              "    root._bokeh_onload_callbacks.push(callback);\n",
              "    if (root._bokeh_is_loading > 0) {\n",
              "      console.debug(\"Bokeh: BokehJS is being loaded, scheduling callback at\", now());\n",
              "      return null;\n",
              "    }\n",
              "    if (js_urls == null || js_urls.length === 0) {\n",
              "      run_callbacks();\n",
              "      return null;\n",
              "    }\n",
              "    console.debug(\"Bokeh: BokehJS not loaded, scheduling load and callback at\", now());\n",
              "    root._bokeh_is_loading = css_urls.length + js_urls.length;\n",
              "\n",
              "    function on_load() {\n",
              "      root._bokeh_is_loading--;\n",
              "      if (root._bokeh_is_loading === 0) {\n",
              "        console.debug(\"Bokeh: all BokehJS libraries/stylesheets loaded\");\n",
              "        run_callbacks()\n",
              "      }\n",
              "    }\n",
              "\n",
              "    function on_error() {\n",
              "      console.error(\"failed to load \" + url);\n",
              "    }\n",
              "\n",
              "    for (var i = 0; i < css_urls.length; i++) {\n",
              "      var url = css_urls[i];\n",
              "      const element = document.createElement(\"link\");\n",
              "      element.onload = on_load;\n",
              "      element.onerror = on_error;\n",
              "      element.rel = \"stylesheet\";\n",
              "      element.type = \"text/css\";\n",
              "      element.href = url;\n",
              "      console.debug(\"Bokeh: injecting link tag for BokehJS stylesheet: \", url);\n",
              "      document.body.appendChild(element);\n",
              "    }\n",
              "\n",
              "    const hashes = {\"https://cdn.bokeh.org/bokeh/release/bokeh-2.0.2.min.js\": \"ufR9RFnRs6lniiaFvtJziE0YeidtAgBRH6ux2oUItHw5WTvE1zuk9uzhUU/FJXDp\", \"https://cdn.bokeh.org/bokeh/release/bokeh-widgets-2.0.2.min.js\": \"8QM/PGWBT+IssZuRcDcjzwIh1mkOmJSoNMmyYDZbCfXJg3Ap1lEvdVgFuSAwhb/J\", \"https://cdn.bokeh.org/bokeh/release/bokeh-tables-2.0.2.min.js\": \"Jm8cH3Rg0P6UeZhVY5cLy1WzKajUT9KImCY+76hEqrcJt59/d8GPvFHjCkYgnSIn\", \"https://cdn.bokeh.org/bokeh/release/bokeh-gl-2.0.2.min.js\": \"Ozhzj+SI7ywm74aOI/UajcWz+C0NjsPunEVyVIrxzYkB+jA+2tUw8x5xJCbVtK5I\"};\n",
              "\n",
              "    for (var i = 0; i < js_urls.length; i++) {\n",
              "      var url = js_urls[i];\n",
              "      var element = document.createElement('script');\n",
              "      element.onload = on_load;\n",
              "      element.onerror = on_error;\n",
              "      element.async = false;\n",
              "      element.src = url;\n",
              "      if (url in hashes) {\n",
              "        element.crossOrigin = \"anonymous\";\n",
              "        element.integrity = \"sha384-\" + hashes[url];\n",
              "      }\n",
              "      console.debug(\"Bokeh: injecting script tag for BokehJS library: \", url);\n",
              "      document.head.appendChild(element);\n",
              "    }\n",
              "  };\n",
              "\n",
              "  function inject_raw_css(css) {\n",
              "    const element = document.createElement(\"style\");\n",
              "    element.appendChild(document.createTextNode(css));\n",
              "    document.body.appendChild(element);\n",
              "  }\n",
              "\n",
              "  \n",
              "  var js_urls = [\"https://cdn.bokeh.org/bokeh/release/bokeh-2.0.2.min.js\", \"https://cdn.bokeh.org/bokeh/release/bokeh-widgets-2.0.2.min.js\", \"https://cdn.bokeh.org/bokeh/release/bokeh-tables-2.0.2.min.js\", \"https://cdn.bokeh.org/bokeh/release/bokeh-gl-2.0.2.min.js\"];\n",
              "  var css_urls = [];\n",
              "  \n",
              "\n",
              "  var inline_js = [\n",
              "    function(Bokeh) {\n",
              "      Bokeh.set_log_level(\"info\");\n",
              "    },\n",
              "    function(Bokeh) {\n",
              "    \n",
              "    \n",
              "    }\n",
              "  ];\n",
              "\n",
              "  function run_inline_js() {\n",
              "    \n",
              "    if (root.Bokeh !== undefined || force === true) {\n",
              "      \n",
              "    for (var i = 0; i < inline_js.length; i++) {\n",
              "      inline_js[i].call(root, root.Bokeh);\n",
              "    }\n",
              "    if (force === true) {\n",
              "        display_loaded();\n",
              "      }} else if (Date.now() < root._bokeh_timeout) {\n",
              "      setTimeout(run_inline_js, 100);\n",
              "    } else if (!root._bokeh_failed_load) {\n",
              "      console.log(\"Bokeh: BokehJS failed to load within specified timeout.\");\n",
              "      root._bokeh_failed_load = true;\n",
              "    } else if (force !== true) {\n",
              "      var cell = $(document.getElementById(\"1001\")).parents('.cell').data().cell;\n",
              "      cell.output_area.append_execute_result(NB_LOAD_WARNING)\n",
              "    }\n",
              "\n",
              "  }\n",
              "\n",
              "  if (root._bokeh_is_loading === 0) {\n",
              "    console.debug(\"Bokeh: BokehJS loaded, going straight to plotting\");\n",
              "    run_inline_js();\n",
              "  } else {\n",
              "    load_libs(css_urls, js_urls, function() {\n",
              "      console.debug(\"Bokeh: BokehJS plotting callback run at\", now());\n",
              "      run_inline_js();\n",
              "    });\n",
              "  }\n",
              "}(window));"
            ],
            "application/vnd.bokehjs_load.v0+json": "\n(function(root) {\n  function now() {\n    return new Date();\n  }\n\n  var force = true;\n\n  if (typeof root._bokeh_onload_callbacks === \"undefined\" || force === true) {\n    root._bokeh_onload_callbacks = [];\n    root._bokeh_is_loading = undefined;\n  }\n\n  \n\n  \n  if (typeof (root._bokeh_timeout) === \"undefined\" || force === true) {\n    root._bokeh_timeout = Date.now() + 5000;\n    root._bokeh_failed_load = false;\n  }\n\n  var NB_LOAD_WARNING = {'data': {'text/html':\n     \"<div style='background-color: #fdd'>\\n\"+\n     \"<p>\\n\"+\n     \"BokehJS does not appear to have successfully loaded. If loading BokehJS from CDN, this \\n\"+\n     \"may be due to a slow or bad network connection. Possible fixes:\\n\"+\n     \"</p>\\n\"+\n     \"<ul>\\n\"+\n     \"<li>re-rerun `output_notebook()` to attempt to load from CDN again, or</li>\\n\"+\n     \"<li>use INLINE resources instead, as so:</li>\\n\"+\n     \"</ul>\\n\"+\n     \"<code>\\n\"+\n     \"from bokeh.resources import INLINE\\n\"+\n     \"output_notebook(resources=INLINE)\\n\"+\n     \"</code>\\n\"+\n     \"</div>\"}};\n\n  function display_loaded() {\n    var el = document.getElementById(\"1001\");\n    if (el != null) {\n      el.textContent = \"BokehJS is loading...\";\n    }\n    if (root.Bokeh !== undefined) {\n      if (el != null) {\n        el.textContent = \"BokehJS \" + root.Bokeh.version + \" successfully loaded.\";\n      }\n    } else if (Date.now() < root._bokeh_timeout) {\n      setTimeout(display_loaded, 100)\n    }\n  }\n\n\n  function run_callbacks() {\n    try {\n      root._bokeh_onload_callbacks.forEach(function(callback) {\n        if (callback != null)\n          callback();\n      });\n    } finally {\n      delete root._bokeh_onload_callbacks\n    }\n    console.debug(\"Bokeh: all callbacks have finished\");\n  }\n\n  function load_libs(css_urls, js_urls, callback) {\n    if (css_urls == null) css_urls = [];\n    if (js_urls == null) js_urls = [];\n\n    root._bokeh_onload_callbacks.push(callback);\n    if (root._bokeh_is_loading > 0) {\n      console.debug(\"Bokeh: BokehJS is being loaded, scheduling callback at\", now());\n      return null;\n    }\n    if (js_urls == null || js_urls.length === 0) {\n      run_callbacks();\n      return null;\n    }\n    console.debug(\"Bokeh: BokehJS not loaded, scheduling load and callback at\", now());\n    root._bokeh_is_loading = css_urls.length + js_urls.length;\n\n    function on_load() {\n      root._bokeh_is_loading--;\n      if (root._bokeh_is_loading === 0) {\n        console.debug(\"Bokeh: all BokehJS libraries/stylesheets loaded\");\n        run_callbacks()\n      }\n    }\n\n    function on_error() {\n      console.error(\"failed to load \" + url);\n    }\n\n    for (var i = 0; i < css_urls.length; i++) {\n      var url = css_urls[i];\n      const element = document.createElement(\"link\");\n      element.onload = on_load;\n      element.onerror = on_error;\n      element.rel = \"stylesheet\";\n      element.type = \"text/css\";\n      element.href = url;\n      console.debug(\"Bokeh: injecting link tag for BokehJS stylesheet: \", url);\n      document.body.appendChild(element);\n    }\n\n    const hashes = {\"https://cdn.bokeh.org/bokeh/release/bokeh-2.0.2.min.js\": \"ufR9RFnRs6lniiaFvtJziE0YeidtAgBRH6ux2oUItHw5WTvE1zuk9uzhUU/FJXDp\", \"https://cdn.bokeh.org/bokeh/release/bokeh-widgets-2.0.2.min.js\": \"8QM/PGWBT+IssZuRcDcjzwIh1mkOmJSoNMmyYDZbCfXJg3Ap1lEvdVgFuSAwhb/J\", \"https://cdn.bokeh.org/bokeh/release/bokeh-tables-2.0.2.min.js\": \"Jm8cH3Rg0P6UeZhVY5cLy1WzKajUT9KImCY+76hEqrcJt59/d8GPvFHjCkYgnSIn\", \"https://cdn.bokeh.org/bokeh/release/bokeh-gl-2.0.2.min.js\": \"Ozhzj+SI7ywm74aOI/UajcWz+C0NjsPunEVyVIrxzYkB+jA+2tUw8x5xJCbVtK5I\"};\n\n    for (var i = 0; i < js_urls.length; i++) {\n      var url = js_urls[i];\n      var element = document.createElement('script');\n      element.onload = on_load;\n      element.onerror = on_error;\n      element.async = false;\n      element.src = url;\n      if (url in hashes) {\n        element.crossOrigin = \"anonymous\";\n        element.integrity = \"sha384-\" + hashes[url];\n      }\n      console.debug(\"Bokeh: injecting script tag for BokehJS library: \", url);\n      document.head.appendChild(element);\n    }\n  };\n\n  function inject_raw_css(css) {\n    const element = document.createElement(\"style\");\n    element.appendChild(document.createTextNode(css));\n    document.body.appendChild(element);\n  }\n\n  \n  var js_urls = [\"https://cdn.bokeh.org/bokeh/release/bokeh-2.0.2.min.js\", \"https://cdn.bokeh.org/bokeh/release/bokeh-widgets-2.0.2.min.js\", \"https://cdn.bokeh.org/bokeh/release/bokeh-tables-2.0.2.min.js\", \"https://cdn.bokeh.org/bokeh/release/bokeh-gl-2.0.2.min.js\"];\n  var css_urls = [];\n  \n\n  var inline_js = [\n    function(Bokeh) {\n      Bokeh.set_log_level(\"info\");\n    },\n    function(Bokeh) {\n    \n    \n    }\n  ];\n\n  function run_inline_js() {\n    \n    if (root.Bokeh !== undefined || force === true) {\n      \n    for (var i = 0; i < inline_js.length; i++) {\n      inline_js[i].call(root, root.Bokeh);\n    }\n    if (force === true) {\n        display_loaded();\n      }} else if (Date.now() < root._bokeh_timeout) {\n      setTimeout(run_inline_js, 100);\n    } else if (!root._bokeh_failed_load) {\n      console.log(\"Bokeh: BokehJS failed to load within specified timeout.\");\n      root._bokeh_failed_load = true;\n    } else if (force !== true) {\n      var cell = $(document.getElementById(\"1001\")).parents('.cell').data().cell;\n      cell.output_area.append_execute_result(NB_LOAD_WARNING)\n    }\n\n  }\n\n  if (root._bokeh_is_loading === 0) {\n    console.debug(\"Bokeh: BokehJS loaded, going straight to plotting\");\n    run_inline_js();\n  } else {\n    load_libs(css_urls, js_urls, function() {\n      console.debug(\"Bokeh: BokehJS plotting callback run at\", now());\n      run_inline_js();\n    });\n  }\n}(window));"
          },
          "metadata": {},
          "output_type": "display_data"
        },
        {
          "data": {
            "text/html": [
              "\n",
              "\n",
              "\n",
              "\n",
              "\n",
              "\n",
              "  <div class=\"bk-root\" id=\"f5caf406-c333-4540-8d15-9893be6237af\" data-root-id=\"1002\"></div>\n"
            ]
          },
          "metadata": {},
          "output_type": "display_data"
        },
        {
          "data": {
            "application/javascript": [
              "(function(root) {\n",
              "  function embed_document(root) {\n",
              "    \n",
              "  var docs_json = {\"b351551d-6777-48c7-89f0-2664289e2650\":{\"roots\":{\"references\":[{\"attributes\":{\"below\":[{\"id\":\"1013\"}],\"center\":[{\"id\":\"1016\"},{\"id\":\"1020\"},{\"id\":\"1036\"}],\"left\":[{\"id\":\"1017\"}],\"renderers\":[{\"id\":\"1034\"}],\"title\":{\"id\":\"1003\"},\"toolbar\":{\"id\":\"1025\"},\"toolbar_location\":\"above\",\"x_range\":{\"id\":\"1005\"},\"x_scale\":{\"id\":\"1009\"},\"y_range\":{\"id\":\"1007\"},\"y_scale\":{\"id\":\"1011\"}},\"id\":\"1002\",\"subtype\":\"Figure\",\"type\":\"Plot\"},{\"attributes\":{},\"id\":\"1007\",\"type\":\"DataRange1d\"},{\"attributes\":{\"data\":{\"names\":[\"the\",\"and\",\"a\",\"of\",\"to\",\"is\",\"it\",\"in\",\"i\",\"this\",\"that\",\"s\",\"was\",\"as\",\"movie\",\"for\",\"with\",\"but\",\"film\",\"you\",\"t\",\"on\",\"not\",\"he\",\"are\",\"his\",\"have\",\"one\",\"be\",\"all\",\"at\",\"they\",\"by\",\"an\",\"who\",\"so\",\"from\",\"like\",\"there\",\"or\",\"just\",\"her\",\"out\",\"about\",\"if\",\"has\",\"what\",\"some\",\"good\",\"can\",\"when\",\"more\",\"very\",\"she\",\"up\",\"no\",\"time\",\"my\",\"even\",\"would\",\"which\",\"only\",\"story\",\"really\",\"see\",\"their\",\"had\",\"me\",\"well\",\"we\",\"were\",\"than\",\"much\",\"bad\",\"get\",\"been\",\"other\",\"do\",\"people\",\"great\",\"will\",\"also\",\"into\",\"because\",\"how\",\"don\",\"him\",\"first\",\"most\",\"made\",\"its\",\"them\",\"then\",\"make\",\"way\",\"could\",\"too\",\"movies\",\"any\",\"after\",\"characters\",\"think\",\"watch\",\"character\",\"films\",\"two\",\"many\",\"seen\",\"being\",\"love\",\"never\",\"plot\",\"life\",\"acting\",\"where\",\"show\",\"did\",\"best\",\"know\",\"little\",\"over\",\"off\",\"ever\",\"man\",\"does\",\"your\",\"better\",\"end\",\"here\",\"scene\",\"still\",\"say\",\"these\",\"why\",\"scenes\",\"while\",\"ve\",\"m\",\"something\",\"such\",\"go\",\"should\",\"through\",\"back\",\"real\",\"those\",\"now\",\"thing\",\"watching\",\"re\",\"actors\",\"doesn\",\"director\",\"didn\",\"years\",\"funny\",\"though\",\"old\",\"another\",\"work\",\"before\",\"actually\",\"nothing\",\"makes\",\"look\",\"find\",\"going\",\"same\",\"new\",\"lot\",\"every\",\"few\",\"part\",\"again\",\"world\",\"down\",\"cast\",\"us\",\"things\",\"want\",\"quite\",\"pretty\",\"horror\",\"around\",\"seems\",\"young\",\"take\",\"big\",\"however\",\"got\",\"thought\",\"fact\",\"enough\",\"long\",\"both\",\"give\",\"may\",\"own\",\"d\",\"between\",\"comedy\",\"series\",\"must\",\"right\",\"action\",\"music\",\"without\",\"guy\",\"times\",\"saw\",\"original\",\"always\",\"isn\",\"come\",\"role\",\"almost\",\"gets\",\"point\",\"interesting\",\"done\",\"whole\",\"least\",\"far\",\"bit\",\"script\",\"family\",\"minutes\",\"feel\",\"ll\",\"am\",\"might\",\"making\",\"anything\",\"since\",\"tv\",\"last\",\"probably\",\"performance\",\"kind\",\"away\",\"girl\",\"yet\",\"fun\",\"anyone\",\"woman\",\"worst\",\"sure\",\"rather\",\"hard\",\"day\",\"each\",\"played\",\"found\",\"looking\",\"screen\",\"our\",\"although\",\"especially\",\"believe\",\"dvd\",\"having\",\"trying\",\"course\",\"everything\",\"set\",\"goes\",\"book\",\"ending\",\"comes\",\"put\",\"maybe\",\"place\",\"shows\",\"let\",\"three\",\"worth\",\"different\",\"actor\",\"once\",\"main\",\"someone\",\"sense\",\"american\",\"reason\",\"play\",\"effects\",\"looks\",\"true\",\"money\",\"watched\",\"wasn\",\"year\",\"everyone\",\"job\",\"together\",\"war\",\"high\",\"plays\",\"audience\",\"instead\",\"during\",\"half\",\"said\",\"later\",\"takes\",\"special\",\"john\",\"night\",\"seem\",\"beautiful\",\"left\",\"himself\",\"black\",\"seeing\",\"wife\",\"version\",\"shot\",\"excellent\",\"idea\",\"house\",\"star\",\"else\",\"mind\",\"death\",\"fan\",\"father\",\"used\",\"nice\",\"budget\",\"simply\",\"poor\",\"short\",\"completely\",\"second\",\"men\",\"read\",\"less\",\"along\",\"top\",\"dead\",\"home\",\"help\",\"line\",\"hollywood\",\"kids\",\"either\",\"boring\",\"friends\",\"camera\",\"production\",\"try\",\"wrong\",\"enjoy\",\"low\",\"classic\",\"use\",\"given\",\"women\",\"need\",\"full\",\"school\",\"stupid\",\"next\",\"until\",\"performances\",\"rest\",\"truly\",\"couple\",\"video\",\"awful\",\"sex\",\"start\",\"recommend\",\"tell\",\"terrible\",\"mean\",\"remember\",\"getting\",\"won\",\"came\",\"understand\",\"perhaps\",\"name\",\"moments\",\"face\",\"keep\",\"person\",\"itself\",\"human\",\"wonderful\",\"mother\",\"playing\",\"style\",\"episode\",\"small\",\"others\",\"boy\",\"perfect\",\"early\",\"doing\",\"stars\",\"head\",\"often\",\"written\",\"definitely\",\"lines\",\"children\",\"dialogue\",\"gives\",\"piece\",\"couldn\",\"went\",\"case\",\"yes\",\"finally\",\"absolutely\",\"live\",\"laugh\",\"title\",\"oh\",\"friend\",\"certainly\",\"lost\",\"liked\",\"become\",\"entertaining\",\"worse\",\"sort\",\"cinema\",\"loved\",\"picture\",\"called\",\"hope\",\"felt\",\"mr\",\"guys\",\"overall\",\"based\",\"entire\",\"supposed\",\"several\",\"drama\",\"sound\",\"problem\",\"white\",\"against\",\"waste\",\"beginning\",\"dark\",\"fans\",\"game\",\"totally\",\"care\",\"humor\",\"wanted\",\"direction\",\"under\",\"seemed\",\"evil\",\"lives\",\"lead\",\"despite\",\"guess\",\"final\",\"example\",\"turn\",\"already\",\"throughout\",\"becomes\",\"killer\",\"b\",\"able\",\"unfortunately\",\"son\",\"quality\",\"days\",\"history\",\"heart\",\"side\",\"fine\",\"michael\",\"flick\",\"wants\",\"writing\",\"horrible\",\"amazing\",\"run\",\"today\",\"art\",\"town\",\"act\",\"works\",\"close\",\"kill\",\"god\",\"child\",\"matter\",\"etc\",\"viewer\",\"tries\",\"past\",\"genre\",\"enjoyed\",\"turns\",\"brilliant\",\"behind\",\"gave\",\"car\",\"parts\",\"stuff\",\"eyes\",\"favorite\",\"girls\",\"directed\",\"hand\",\"kid\",\"late\",\"city\",\"hour\",\"expect\",\"soon\",\"actress\",\"obviously\",\"themselves\",\"sometimes\",\"thinking\",\"killed\",\"myself\",\"starts\",\"stop\",\"decent\",\"type\",\"self\",\"daughter\",\"highly\",\"group\",\"says\",\"blood\",\"voice\",\"anyway\",\"writer\",\"known\",\"took\",\"heard\",\"happens\",\"except\",\"fight\",\"feeling\",\"experience\",\"coming\",\"slow\",\"moment\",\"stories\",\"leave\",\"police\",\"told\",\"extremely\",\"score\",\"violence\",\"hero\",\"involved\",\"chance\",\"strong\",\"lack\",\"hit\",\"ok\",\"hilarious\",\"cannot\",\"wouldn\",\"happen\",\"wonder\",\"roles\",\"particularly\",\"living\",\"including\",\"hell\",\"save\",\"brother\",\"murder\",\"crap\",\"looked\",\"cool\",\"david\",\"simple\",\"please\",\"age\",\"cut\",\"obvious\",\"complete\",\"happened\",\"song\",\"serious\",\"gore\",\"james\",\"attempt\",\"ago\",\"taken\",\"shown\",\"robert\",\"english\",\"husband\",\"reality\",\"seriously\",\"released\",\"jokes\",\"opening\",\"interest\",\"alone\",\"none\",\"across\",\"sad\",\"possible\",\"exactly\",\"career\",\"hours\",\"number\",\"saying\",\"usually\",\"talent\",\"cinematography\",\"view\",\"documentary\",\"annoying\",\"relationship\",\"running\",\"yourself\",\"order\",\"wish\",\"huge\",\"whose\",\"shots\",\"body\",\"light\",\"taking\",\"country\",\"ridiculous\",\"power\",\"middle\",\"call\",\"important\",\"level\",\"ends\",\"female\",\"started\",\"major\",\"four\",\"word\",\"jack\",\"turned\",\"opinion\",\"change\",\"scary\",\"mostly\",\"usual\",\"happy\",\"ones\",\"room\",\"beyond\",\"silly\",\"rating\",\"words\",\"somewhat\",\"novel\",\"knows\",\"talking\",\"knew\",\"disappointed\",\"strange\",\"o\",\"apparently\",\"non\",\"upon\",\"attention\",\"modern\",\"single\",\"finds\",\"due\",\"basically\",\"cheap\",\"television\",\"musical\",\"earth\",\"problems\",\"miss\",\"clich\",\"episodes\",\"clearly\",\"local\",\"thriller\",\"king\",\"five\",\"british\",\"talk\",\"class\",\"events\",\"aren\",\"sequence\",\"team\",\"french\",\"moving\",\"ten\",\"fast\",\"straight\",\"tells\",\"review\",\"predictable\",\"die\",\"comic\",\"entertainment\",\"songs\",\"space\",\"whether\",\"george\",\"future\",\"dialog\",\"add\",\"above\",\"sets\",\"easily\",\"enjoyable\",\"near\",\"appears\",\"haven\",\"soundtrack\",\"hate\",\"bring\",\"giving\",\"lots\",\"romantic\",\"similar\",\"supporting\",\"message\",\"release\",\"mention\",\"within\",\"eye\",\"sequel\",\"filmed\",\"e\",\"falls\",\"sister\",\"rock\",\"monster\",\"clear\",\"needs\",\"dull\",\"bunch\",\"suspense\",\"surprised\",\"showing\",\"easy\",\"sorry\",\"tried\",\"certain\",\"working\",\"ways\",\"theme\",\"theater\",\"parents\",\"among\",\"storyline\",\"named\",\"lady\",\"stay\",\"fall\",\"effort\",\"stand\",\"minute\",\"gone\",\"feature\",\"dr\",\"tale\",\"dog\",\"using\",\"buy\",\"comments\",\"typical\",\"mystery\",\"th\",\"editing\",\"subject\",\"deal\",\"avoid\",\"oscar\",\"doubt\",\"richard\",\"peter\",\"fantastic\",\"feels\",\"kept\",\"nearly\",\"realistic\",\"viewers\",\"general\",\"viewing\",\"elements\",\"okay\",\"points\",\"herself\",\"greatest\",\"check\",\"means\",\"famous\",\"crime\",\"imagine\",\"rent\",\"paul\",\"red\",\"actual\",\"form\",\"follow\",\"period\",\"material\",\"believable\",\"tom\",\"move\",\"brought\",\"somehow\",\"forget\",\"begins\",\"animation\",\"leads\",\"doctor\",\"reviews\",\"surprise\",\"figure\",\"america\",\"weak\",\"hear\",\"sit\",\"average\",\"open\",\"york\",\"deep\",\"sequences\",\"fi\",\"killing\",\"atmosphere\",\"wait\",\"imdb\",\"eventually\",\"premise\",\"learn\",\"sci\",\"whatever\",\"expected\",\"dance\",\"lame\",\"indeed\",\"boys\",\"particular\",\"poorly\",\"note\",\"box\",\"truth\",\"situation\",\"hot\",\"shame\",\"third\",\"season\",\"free\",\"society\",\"decided\",\"difficult\",\"romance\",\"lee\",\"needed\",\"crew\",\"acted\",\"gay\",\"leaves\",\"emotional\",\"unless\",\"western\",\"possibly\",\"footage\",\"sexual\",\"de\",\"credits\",\"write\",\"forced\",\"became\",\"memorable\",\"reading\",\"begin\",\"air\",\"meet\",\"otherwise\",\"question\",\"male\",\"street\",\"nature\",\"meets\",\"beauty\",\"plus\",\"cheesy\",\"hands\",\"screenplay\",\"masterpiece\",\"superb\",\"effect\",\"features\",\"stage\",\"interested\",\"island\",\"perfectly\",\"laughs\",\"whom\",\"comment\",\"forward\",\"cop\",\"weird\",\"nor\",\"inside\",\"badly\",\"previous\",\"sounds\",\"japanese\",\"personal\",\"quickly\",\"total\",\"crazy\",\"baby\",\"mark\",\"keeps\",\"disney\",\"result\",\"towards\",\"girlfriend\",\"battle\",\"writers\",\"fire\",\"setting\",\"joe\",\"worked\",\"background\",\"earlier\",\"incredibly\",\"mess\",\"copy\",\"dumb\",\"unique\",\"bill\",\"business\",\"realize\",\"directors\",\"powerful\",\"water\",\"dramatic\",\"older\",\"rate\",\"dream\",\"c\",\"joke\",\"pay\",\"following\",\"plenty\",\"directing\",\"ask\",\"creepy\",\"various\",\"development\",\"appear\",\"front\",\"brings\",\"rich\",\"admit\",\"political\",\"apart\",\"cover\",\"leading\",\"fairly\",\"reasons\",\"portrayed\",\"spent\",\"era\",\"gun\",\"present\",\"telling\",\"party\",\"outside\",\"fighting\",\"wasted\",\"zombie\",\"william\",\"fails\",\"deserves\",\"success\",\"break\",\"twist\",\"secret\",\"meant\",\"list\",\"return\",\"expecting\",\"create\",\"attempts\",\"missing\",\"ideas\",\"ended\"],\"x1\":{\"__ndarray__\":\"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\",\"dtype\":\"float32\",\"shape\":[1000]},\"x2\":{\"__ndarray__\":\"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\",\"dtype\":\"float32\",\"shape\":[1000]}},\"selected\":{\"id\":\"1044\"},\"selection_policy\":{\"id\":\"1043\"}},\"id\":\"1030\",\"type\":\"ColumnDataSource\"},{\"attributes\":{},\"id\":\"1005\",\"type\":\"DataRange1d\"},{\"attributes\":{\"data_source\":{\"id\":\"1030\"},\"glyph\":{\"id\":\"1032\"},\"hover_glyph\":null,\"muted_glyph\":null,\"nonselection_glyph\":{\"id\":\"1033\"},\"selection_glyph\":null,\"view\":{\"id\":\"1035\"}},\"id\":\"1034\",\"type\":\"GlyphRenderer\"},{\"attributes\":{},\"id\":\"1009\",\"type\":\"LinearScale\"},{\"attributes\":{},\"id\":\"1011\",\"type\":\"LinearScale\"},{\"attributes\":{\"fill_alpha\":{\"value\":0.1},\"fill_color\":{\"value\":\"#1f77b4\"},\"line_alpha\":{\"value\":0.1},\"line_color\":{\"value\":\"#1f77b4\"},\"size\":{\"units\":\"screen\",\"value\":8},\"x\":{\"field\":\"x1\"},\"y\":{\"field\":\"x2\"}},\"id\":\"1033\",\"type\":\"Scatter\"},{\"attributes\":{\"formatter\":{\"id\":\"1042\"},\"ticker\":{\"id\":\"1014\"}},\"id\":\"1013\",\"type\":\"LinearAxis\"},{\"attributes\":{},\"id\":\"1040\",\"type\":\"BasicTickFormatter\"},{\"attributes\":{},\"id\":\"1014\",\"type\":\"BasicTicker\"},{\"attributes\":{\"source\":{\"id\":\"1030\"}},\"id\":\"1035\",\"type\":\"CDSView\"},{\"attributes\":{\"axis\":{\"id\":\"1013\"},\"ticker\":null},\"id\":\"1016\",\"type\":\"Grid\"},{\"attributes\":{\"formatter\":{\"id\":\"1040\"},\"ticker\":{\"id\":\"1018\"}},\"id\":\"1017\",\"type\":\"LinearAxis\"},{\"attributes\":{\"fill_color\":{\"value\":\"#1f77b4\"},\"line_color\":{\"value\":\"#1f77b4\"},\"size\":{\"units\":\"screen\",\"value\":8},\"x\":{\"field\":\"x1\"},\"y\":{\"field\":\"x2\"}},\"id\":\"1032\",\"type\":\"Scatter\"},{\"attributes\":{},\"id\":\"1018\",\"type\":\"BasicTicker\"},{\"attributes\":{},\"id\":\"1042\",\"type\":\"BasicTickFormatter\"},{\"attributes\":{},\"id\":\"1043\",\"type\":\"UnionRenderers\"},{\"attributes\":{\"source\":{\"id\":\"1030\"},\"text\":{\"field\":\"names\"},\"text_align\":\"center\",\"text_color\":{\"value\":\"#555555\"},\"text_font_size\":{\"value\":\"8pt\"},\"x\":{\"field\":\"x1\"},\"y\":{\"field\":\"x2\"},\"y_offset\":{\"value\":6}},\"id\":\"1036\",\"type\":\"LabelSet\"},{\"attributes\":{\"axis\":{\"id\":\"1017\"},\"dimension\":1,\"ticker\":null},\"id\":\"1020\",\"type\":\"Grid\"},{\"attributes\":{},\"id\":\"1021\",\"type\":\"PanTool\"},{\"attributes\":{},\"id\":\"1044\",\"type\":\"Selection\"},{\"attributes\":{},\"id\":\"1022\",\"type\":\"WheelZoomTool\"},{\"attributes\":{},\"id\":\"1023\",\"type\":\"ResetTool\"},{\"attributes\":{},\"id\":\"1024\",\"type\":\"SaveTool\"},{\"attributes\":{\"active_drag\":\"auto\",\"active_inspect\":\"auto\",\"active_multi\":null,\"active_scroll\":\"auto\",\"active_tap\":\"auto\",\"tools\":[{\"id\":\"1021\"},{\"id\":\"1022\"},{\"id\":\"1023\"},{\"id\":\"1024\"}]},\"id\":\"1025\",\"type\":\"Toolbar\"},{\"attributes\":{\"text\":\"word2vec T-SNE (eng model, top1000 words)\"},\"id\":\"1003\",\"type\":\"Title\"}],\"root_ids\":[\"1002\"]},\"title\":\"Bokeh Application\",\"version\":\"2.0.2\"}};\n",
              "  var render_items = [{\"docid\":\"b351551d-6777-48c7-89f0-2664289e2650\",\"root_ids\":[\"1002\"],\"roots\":{\"1002\":\"f5caf406-c333-4540-8d15-9893be6237af\"}}];\n",
              "  root.Bokeh.embed.embed_items_notebook(docs_json, render_items);\n",
              "\n",
              "  }\n",
              "  if (root.Bokeh !== undefined) {\n",
              "    embed_document(root);\n",
              "  } else {\n",
              "    var attempts = 0;\n",
              "    var timer = setInterval(function(root) {\n",
              "      if (root.Bokeh !== undefined) {\n",
              "        clearInterval(timer);\n",
              "        embed_document(root);\n",
              "      } else {\n",
              "        attempts++;\n",
              "        if (attempts > 100) {\n",
              "          clearInterval(timer);\n",
              "          console.log(\"Bokeh: ERROR: Unable to run BokehJS code because BokehJS library is missing\");\n",
              "        }\n",
              "      }\n",
              "    }, 10, root)\n",
              "  }\n",
              "})(window);"
            ],
            "application/vnd.bokehjs_exec.v0+json": ""
          },
          "metadata": {
            "application/vnd.bokehjs_exec.v0+json": {
              "id": "1002"
            }
          },
          "output_type": "display_data"
        }
      ]
    },
    {
      "cell_type": "markdown",
      "metadata": {
        "id": "2Szes63RX-sl"
      },
      "source": [
        "Чтобы вычислить преобразование t-SNE быстрее (и иногда еще и эффективнее), можно сперва снизить размерность исходных данных с помощью, например, SVD, и потом применять t-SNE:"
      ]
    },
    {
      "cell_type": "code",
      "metadata": {
        "id": "p0R7hvIfX-sm"
      },
      "source": [
        "from sklearn.decomposition import TruncatedSVD\n",
        "\n",
        "svd_50 = TruncatedSVD(n_components=50)\n",
        "top_words_vec_50 = svd_50.fit_transform(top_words_vec)\n",
        "top_words_tsne2 = TSNE(n_components=2, random_state=0).fit_transform(top_words_vec_50)"
      ],
      "execution_count": null,
      "outputs": []
    },
    {
      "cell_type": "code",
      "metadata": {
        "colab": {
          "base_uri": "https://localhost:8080/",
          "height": 617
        },
        "id": "zpUJyJibX-sn",
        "outputId": "1c577f96-6f95-4bae-c327-98966e2e9a52"
      },
      "source": [
        "output_notebook()\n",
        "\n",
        "p = figure(tools=\"pan,wheel_zoom,reset,save\",\n",
        "           toolbar_location=\"above\",\n",
        "           title=\"word2vec T-SNE (eng model, top1000 words, +SVD)\")\n",
        "\n",
        "source = ColumnDataSource(data=dict(x1=top_words_tsne2[:,0],\n",
        "                                    x2=top_words_tsne2[:,1],\n",
        "                                    names=top_words))\n",
        "\n",
        "p.scatter(x=\"x1\", y=\"x2\", size=8, source=source)\n",
        "\n",
        "labels = LabelSet(x=\"x1\", y=\"x2\", text=\"names\", y_offset=6,\n",
        "                  text_font_size=\"8pt\", text_color=\"#555555\",\n",
        "                  source=source, text_align='center')\n",
        "p.add_layout(labels)\n",
        "\n",
        "show(p)"
      ],
      "execution_count": null,
      "outputs": [
        {
          "data": {
            "text/html": [
              "\n",
              "    <div class=\"bk-root\">\n",
              "        <a href=\"https://bokeh.org\" target=\"_blank\" class=\"bk-logo bk-logo-small bk-logo-notebook\"></a>\n",
              "        <span id=\"1087\">Loading BokehJS ...</span>\n",
              "    </div>"
            ]
          },
          "metadata": {},
          "output_type": "display_data"
        },
        {
          "data": {
            "application/javascript": [
              "\n",
              "(function(root) {\n",
              "  function now() {\n",
              "    return new Date();\n",
              "  }\n",
              "\n",
              "  var force = true;\n",
              "\n",
              "  if (typeof root._bokeh_onload_callbacks === \"undefined\" || force === true) {\n",
              "    root._bokeh_onload_callbacks = [];\n",
              "    root._bokeh_is_loading = undefined;\n",
              "  }\n",
              "\n",
              "  var JS_MIME_TYPE = 'application/javascript';\n",
              "  var HTML_MIME_TYPE = 'text/html';\n",
              "  var EXEC_MIME_TYPE = 'application/vnd.bokehjs_exec.v0+json';\n",
              "  var CLASS_NAME = 'output_bokeh rendered_html';\n",
              "\n",
              "  /**\n",
              "   * Render data to the DOM node\n",
              "   */\n",
              "  function render(props, node) {\n",
              "    var script = document.createElement(\"script\");\n",
              "    node.appendChild(script);\n",
              "  }\n",
              "\n",
              "  /**\n",
              "   * Handle when an output is cleared or removed\n",
              "   */\n",
              "  function handleClearOutput(event, handle) {\n",
              "    var cell = handle.cell;\n",
              "\n",
              "    var id = cell.output_area._bokeh_element_id;\n",
              "    var server_id = cell.output_area._bokeh_server_id;\n",
              "    // Clean up Bokeh references\n",
              "    if (id != null && id in Bokeh.index) {\n",
              "      Bokeh.index[id].model.document.clear();\n",
              "      delete Bokeh.index[id];\n",
              "    }\n",
              "\n",
              "    if (server_id !== undefined) {\n",
              "      // Clean up Bokeh references\n",
              "      var cmd = \"from bokeh.io.state import curstate; print(curstate().uuid_to_server['\" + server_id + \"'].get_sessions()[0].document.roots[0]._id)\";\n",
              "      cell.notebook.kernel.execute(cmd, {\n",
              "        iopub: {\n",
              "          output: function(msg) {\n",
              "            var id = msg.content.text.trim();\n",
              "            if (id in Bokeh.index) {\n",
              "              Bokeh.index[id].model.document.clear();\n",
              "              delete Bokeh.index[id];\n",
              "            }\n",
              "          }\n",
              "        }\n",
              "      });\n",
              "      // Destroy server and session\n",
              "      var cmd = \"import bokeh.io.notebook as ion; ion.destroy_server('\" + server_id + \"')\";\n",
              "      cell.notebook.kernel.execute(cmd);\n",
              "    }\n",
              "  }\n",
              "\n",
              "  /**\n",
              "   * Handle when a new output is added\n",
              "   */\n",
              "  function handleAddOutput(event, handle) {\n",
              "    var output_area = handle.output_area;\n",
              "    var output = handle.output;\n",
              "\n",
              "    // limit handleAddOutput to display_data with EXEC_MIME_TYPE content only\n",
              "    if ((output.output_type != \"display_data\") || (!output.data.hasOwnProperty(EXEC_MIME_TYPE))) {\n",
              "      return\n",
              "    }\n",
              "\n",
              "    var toinsert = output_area.element.find(\".\" + CLASS_NAME.split(' ')[0]);\n",
              "\n",
              "    if (output.metadata[EXEC_MIME_TYPE][\"id\"] !== undefined) {\n",
              "      toinsert[toinsert.length - 1].firstChild.textContent = output.data[JS_MIME_TYPE];\n",
              "      // store reference to embed id on output_area\n",
              "      output_area._bokeh_element_id = output.metadata[EXEC_MIME_TYPE][\"id\"];\n",
              "    }\n",
              "    if (output.metadata[EXEC_MIME_TYPE][\"server_id\"] !== undefined) {\n",
              "      var bk_div = document.createElement(\"div\");\n",
              "      bk_div.innerHTML = output.data[HTML_MIME_TYPE];\n",
              "      var script_attrs = bk_div.children[0].attributes;\n",
              "      for (var i = 0; i < script_attrs.length; i++) {\n",
              "        toinsert[toinsert.length - 1].firstChild.setAttribute(script_attrs[i].name, script_attrs[i].value);\n",
              "        toinsert[toinsert.length - 1].firstChild.textContent = bk_div.children[0].textContent\n",
              "      }\n",
              "      // store reference to server id on output_area\n",
              "      output_area._bokeh_server_id = output.metadata[EXEC_MIME_TYPE][\"server_id\"];\n",
              "    }\n",
              "  }\n",
              "\n",
              "  function register_renderer(events, OutputArea) {\n",
              "\n",
              "    function append_mime(data, metadata, element) {\n",
              "      // create a DOM node to render to\n",
              "      var toinsert = this.create_output_subarea(\n",
              "        metadata,\n",
              "        CLASS_NAME,\n",
              "        EXEC_MIME_TYPE\n",
              "      );\n",
              "      this.keyboard_manager.register_events(toinsert);\n",
              "      // Render to node\n",
              "      var props = {data: data, metadata: metadata[EXEC_MIME_TYPE]};\n",
              "      render(props, toinsert[toinsert.length - 1]);\n",
              "      element.append(toinsert);\n",
              "      return toinsert\n",
              "    }\n",
              "\n",
              "    /* Handle when an output is cleared or removed */\n",
              "    events.on('clear_output.CodeCell', handleClearOutput);\n",
              "    events.on('delete.Cell', handleClearOutput);\n",
              "\n",
              "    /* Handle when a new output is added */\n",
              "    events.on('output_added.OutputArea', handleAddOutput);\n",
              "\n",
              "    /**\n",
              "     * Register the mime type and append_mime function with output_area\n",
              "     */\n",
              "    OutputArea.prototype.register_mime_type(EXEC_MIME_TYPE, append_mime, {\n",
              "      /* Is output safe? */\n",
              "      safe: true,\n",
              "      /* Index of renderer in `output_area.display_order` */\n",
              "      index: 0\n",
              "    });\n",
              "  }\n",
              "\n",
              "  // register the mime type if in Jupyter Notebook environment and previously unregistered\n",
              "  if (root.Jupyter !== undefined) {\n",
              "    var events = require('base/js/events');\n",
              "    var OutputArea = require('notebook/js/outputarea').OutputArea;\n",
              "\n",
              "    if (OutputArea.prototype.mime_types().indexOf(EXEC_MIME_TYPE) == -1) {\n",
              "      register_renderer(events, OutputArea);\n",
              "    }\n",
              "  }\n",
              "\n",
              "  \n",
              "  if (typeof (root._bokeh_timeout) === \"undefined\" || force === true) {\n",
              "    root._bokeh_timeout = Date.now() + 5000;\n",
              "    root._bokeh_failed_load = false;\n",
              "  }\n",
              "\n",
              "  var NB_LOAD_WARNING = {'data': {'text/html':\n",
              "     \"<div style='background-color: #fdd'>\\n\"+\n",
              "     \"<p>\\n\"+\n",
              "     \"BokehJS does not appear to have successfully loaded. If loading BokehJS from CDN, this \\n\"+\n",
              "     \"may be due to a slow or bad network connection. Possible fixes:\\n\"+\n",
              "     \"</p>\\n\"+\n",
              "     \"<ul>\\n\"+\n",
              "     \"<li>re-rerun `output_notebook()` to attempt to load from CDN again, or</li>\\n\"+\n",
              "     \"<li>use INLINE resources instead, as so:</li>\\n\"+\n",
              "     \"</ul>\\n\"+\n",
              "     \"<code>\\n\"+\n",
              "     \"from bokeh.resources import INLINE\\n\"+\n",
              "     \"output_notebook(resources=INLINE)\\n\"+\n",
              "     \"</code>\\n\"+\n",
              "     \"</div>\"}};\n",
              "\n",
              "  function display_loaded() {\n",
              "    var el = document.getElementById(\"1087\");\n",
              "    if (el != null) {\n",
              "      el.textContent = \"BokehJS is loading...\";\n",
              "    }\n",
              "    if (root.Bokeh !== undefined) {\n",
              "      if (el != null) {\n",
              "        el.textContent = \"BokehJS \" + root.Bokeh.version + \" successfully loaded.\";\n",
              "      }\n",
              "    } else if (Date.now() < root._bokeh_timeout) {\n",
              "      setTimeout(display_loaded, 100)\n",
              "    }\n",
              "  }\n",
              "\n",
              "\n",
              "  function run_callbacks() {\n",
              "    try {\n",
              "      root._bokeh_onload_callbacks.forEach(function(callback) {\n",
              "        if (callback != null)\n",
              "          callback();\n",
              "      });\n",
              "    } finally {\n",
              "      delete root._bokeh_onload_callbacks\n",
              "    }\n",
              "    console.debug(\"Bokeh: all callbacks have finished\");\n",
              "  }\n",
              "\n",
              "  function load_libs(css_urls, js_urls, callback) {\n",
              "    if (css_urls == null) css_urls = [];\n",
              "    if (js_urls == null) js_urls = [];\n",
              "\n",
              "    root._bokeh_onload_callbacks.push(callback);\n",
              "    if (root._bokeh_is_loading > 0) {\n",
              "      console.debug(\"Bokeh: BokehJS is being loaded, scheduling callback at\", now());\n",
              "      return null;\n",
              "    }\n",
              "    if (js_urls == null || js_urls.length === 0) {\n",
              "      run_callbacks();\n",
              "      return null;\n",
              "    }\n",
              "    console.debug(\"Bokeh: BokehJS not loaded, scheduling load and callback at\", now());\n",
              "    root._bokeh_is_loading = css_urls.length + js_urls.length;\n",
              "\n",
              "    function on_load() {\n",
              "      root._bokeh_is_loading--;\n",
              "      if (root._bokeh_is_loading === 0) {\n",
              "        console.debug(\"Bokeh: all BokehJS libraries/stylesheets loaded\");\n",
              "        run_callbacks()\n",
              "      }\n",
              "    }\n",
              "\n",
              "    function on_error() {\n",
              "      console.error(\"failed to load \" + url);\n",
              "    }\n",
              "\n",
              "    for (var i = 0; i < css_urls.length; i++) {\n",
              "      var url = css_urls[i];\n",
              "      const element = document.createElement(\"link\");\n",
              "      element.onload = on_load;\n",
              "      element.onerror = on_error;\n",
              "      element.rel = \"stylesheet\";\n",
              "      element.type = \"text/css\";\n",
              "      element.href = url;\n",
              "      console.debug(\"Bokeh: injecting link tag for BokehJS stylesheet: \", url);\n",
              "      document.body.appendChild(element);\n",
              "    }\n",
              "\n",
              "    const hashes = {\"https://cdn.bokeh.org/bokeh/release/bokeh-2.0.2.min.js\": \"ufR9RFnRs6lniiaFvtJziE0YeidtAgBRH6ux2oUItHw5WTvE1zuk9uzhUU/FJXDp\", \"https://cdn.bokeh.org/bokeh/release/bokeh-widgets-2.0.2.min.js\": \"8QM/PGWBT+IssZuRcDcjzwIh1mkOmJSoNMmyYDZbCfXJg3Ap1lEvdVgFuSAwhb/J\", \"https://cdn.bokeh.org/bokeh/release/bokeh-tables-2.0.2.min.js\": \"Jm8cH3Rg0P6UeZhVY5cLy1WzKajUT9KImCY+76hEqrcJt59/d8GPvFHjCkYgnSIn\", \"https://cdn.bokeh.org/bokeh/release/bokeh-gl-2.0.2.min.js\": \"Ozhzj+SI7ywm74aOI/UajcWz+C0NjsPunEVyVIrxzYkB+jA+2tUw8x5xJCbVtK5I\"};\n",
              "\n",
              "    for (var i = 0; i < js_urls.length; i++) {\n",
              "      var url = js_urls[i];\n",
              "      var element = document.createElement('script');\n",
              "      element.onload = on_load;\n",
              "      element.onerror = on_error;\n",
              "      element.async = false;\n",
              "      element.src = url;\n",
              "      if (url in hashes) {\n",
              "        element.crossOrigin = \"anonymous\";\n",
              "        element.integrity = \"sha384-\" + hashes[url];\n",
              "      }\n",
              "      console.debug(\"Bokeh: injecting script tag for BokehJS library: \", url);\n",
              "      document.head.appendChild(element);\n",
              "    }\n",
              "  };\n",
              "\n",
              "  function inject_raw_css(css) {\n",
              "    const element = document.createElement(\"style\");\n",
              "    element.appendChild(document.createTextNode(css));\n",
              "    document.body.appendChild(element);\n",
              "  }\n",
              "\n",
              "  \n",
              "  var js_urls = [\"https://cdn.bokeh.org/bokeh/release/bokeh-2.0.2.min.js\", \"https://cdn.bokeh.org/bokeh/release/bokeh-widgets-2.0.2.min.js\", \"https://cdn.bokeh.org/bokeh/release/bokeh-tables-2.0.2.min.js\", \"https://cdn.bokeh.org/bokeh/release/bokeh-gl-2.0.2.min.js\"];\n",
              "  var css_urls = [];\n",
              "  \n",
              "\n",
              "  var inline_js = [\n",
              "    function(Bokeh) {\n",
              "      Bokeh.set_log_level(\"info\");\n",
              "    },\n",
              "    function(Bokeh) {\n",
              "    \n",
              "    \n",
              "    }\n",
              "  ];\n",
              "\n",
              "  function run_inline_js() {\n",
              "    \n",
              "    if (root.Bokeh !== undefined || force === true) {\n",
              "      \n",
              "    for (var i = 0; i < inline_js.length; i++) {\n",
              "      inline_js[i].call(root, root.Bokeh);\n",
              "    }\n",
              "    if (force === true) {\n",
              "        display_loaded();\n",
              "      }} else if (Date.now() < root._bokeh_timeout) {\n",
              "      setTimeout(run_inline_js, 100);\n",
              "    } else if (!root._bokeh_failed_load) {\n",
              "      console.log(\"Bokeh: BokehJS failed to load within specified timeout.\");\n",
              "      root._bokeh_failed_load = true;\n",
              "    } else if (force !== true) {\n",
              "      var cell = $(document.getElementById(\"1087\")).parents('.cell').data().cell;\n",
              "      cell.output_area.append_execute_result(NB_LOAD_WARNING)\n",
              "    }\n",
              "\n",
              "  }\n",
              "\n",
              "  if (root._bokeh_is_loading === 0) {\n",
              "    console.debug(\"Bokeh: BokehJS loaded, going straight to plotting\");\n",
              "    run_inline_js();\n",
              "  } else {\n",
              "    load_libs(css_urls, js_urls, function() {\n",
              "      console.debug(\"Bokeh: BokehJS plotting callback run at\", now());\n",
              "      run_inline_js();\n",
              "    });\n",
              "  }\n",
              "}(window));"
            ],
            "application/vnd.bokehjs_load.v0+json": "\n(function(root) {\n  function now() {\n    return new Date();\n  }\n\n  var force = true;\n\n  if (typeof root._bokeh_onload_callbacks === \"undefined\" || force === true) {\n    root._bokeh_onload_callbacks = [];\n    root._bokeh_is_loading = undefined;\n  }\n\n  \n\n  \n  if (typeof (root._bokeh_timeout) === \"undefined\" || force === true) {\n    root._bokeh_timeout = Date.now() + 5000;\n    root._bokeh_failed_load = false;\n  }\n\n  var NB_LOAD_WARNING = {'data': {'text/html':\n     \"<div style='background-color: #fdd'>\\n\"+\n     \"<p>\\n\"+\n     \"BokehJS does not appear to have successfully loaded. If loading BokehJS from CDN, this \\n\"+\n     \"may be due to a slow or bad network connection. Possible fixes:\\n\"+\n     \"</p>\\n\"+\n     \"<ul>\\n\"+\n     \"<li>re-rerun `output_notebook()` to attempt to load from CDN again, or</li>\\n\"+\n     \"<li>use INLINE resources instead, as so:</li>\\n\"+\n     \"</ul>\\n\"+\n     \"<code>\\n\"+\n     \"from bokeh.resources import INLINE\\n\"+\n     \"output_notebook(resources=INLINE)\\n\"+\n     \"</code>\\n\"+\n     \"</div>\"}};\n\n  function display_loaded() {\n    var el = document.getElementById(\"1087\");\n    if (el != null) {\n      el.textContent = \"BokehJS is loading...\";\n    }\n    if (root.Bokeh !== undefined) {\n      if (el != null) {\n        el.textContent = \"BokehJS \" + root.Bokeh.version + \" successfully loaded.\";\n      }\n    } else if (Date.now() < root._bokeh_timeout) {\n      setTimeout(display_loaded, 100)\n    }\n  }\n\n\n  function run_callbacks() {\n    try {\n      root._bokeh_onload_callbacks.forEach(function(callback) {\n        if (callback != null)\n          callback();\n      });\n    } finally {\n      delete root._bokeh_onload_callbacks\n    }\n    console.debug(\"Bokeh: all callbacks have finished\");\n  }\n\n  function load_libs(css_urls, js_urls, callback) {\n    if (css_urls == null) css_urls = [];\n    if (js_urls == null) js_urls = [];\n\n    root._bokeh_onload_callbacks.push(callback);\n    if (root._bokeh_is_loading > 0) {\n      console.debug(\"Bokeh: BokehJS is being loaded, scheduling callback at\", now());\n      return null;\n    }\n    if (js_urls == null || js_urls.length === 0) {\n      run_callbacks();\n      return null;\n    }\n    console.debug(\"Bokeh: BokehJS not loaded, scheduling load and callback at\", now());\n    root._bokeh_is_loading = css_urls.length + js_urls.length;\n\n    function on_load() {\n      root._bokeh_is_loading--;\n      if (root._bokeh_is_loading === 0) {\n        console.debug(\"Bokeh: all BokehJS libraries/stylesheets loaded\");\n        run_callbacks()\n      }\n    }\n\n    function on_error() {\n      console.error(\"failed to load \" + url);\n    }\n\n    for (var i = 0; i < css_urls.length; i++) {\n      var url = css_urls[i];\n      const element = document.createElement(\"link\");\n      element.onload = on_load;\n      element.onerror = on_error;\n      element.rel = \"stylesheet\";\n      element.type = \"text/css\";\n      element.href = url;\n      console.debug(\"Bokeh: injecting link tag for BokehJS stylesheet: \", url);\n      document.body.appendChild(element);\n    }\n\n    const hashes = {\"https://cdn.bokeh.org/bokeh/release/bokeh-2.0.2.min.js\": \"ufR9RFnRs6lniiaFvtJziE0YeidtAgBRH6ux2oUItHw5WTvE1zuk9uzhUU/FJXDp\", \"https://cdn.bokeh.org/bokeh/release/bokeh-widgets-2.0.2.min.js\": \"8QM/PGWBT+IssZuRcDcjzwIh1mkOmJSoNMmyYDZbCfXJg3Ap1lEvdVgFuSAwhb/J\", \"https://cdn.bokeh.org/bokeh/release/bokeh-tables-2.0.2.min.js\": \"Jm8cH3Rg0P6UeZhVY5cLy1WzKajUT9KImCY+76hEqrcJt59/d8GPvFHjCkYgnSIn\", \"https://cdn.bokeh.org/bokeh/release/bokeh-gl-2.0.2.min.js\": \"Ozhzj+SI7ywm74aOI/UajcWz+C0NjsPunEVyVIrxzYkB+jA+2tUw8x5xJCbVtK5I\"};\n\n    for (var i = 0; i < js_urls.length; i++) {\n      var url = js_urls[i];\n      var element = document.createElement('script');\n      element.onload = on_load;\n      element.onerror = on_error;\n      element.async = false;\n      element.src = url;\n      if (url in hashes) {\n        element.crossOrigin = \"anonymous\";\n        element.integrity = \"sha384-\" + hashes[url];\n      }\n      console.debug(\"Bokeh: injecting script tag for BokehJS library: \", url);\n      document.head.appendChild(element);\n    }\n  };\n\n  function inject_raw_css(css) {\n    const element = document.createElement(\"style\");\n    element.appendChild(document.createTextNode(css));\n    document.body.appendChild(element);\n  }\n\n  \n  var js_urls = [\"https://cdn.bokeh.org/bokeh/release/bokeh-2.0.2.min.js\", \"https://cdn.bokeh.org/bokeh/release/bokeh-widgets-2.0.2.min.js\", \"https://cdn.bokeh.org/bokeh/release/bokeh-tables-2.0.2.min.js\", \"https://cdn.bokeh.org/bokeh/release/bokeh-gl-2.0.2.min.js\"];\n  var css_urls = [];\n  \n\n  var inline_js = [\n    function(Bokeh) {\n      Bokeh.set_log_level(\"info\");\n    },\n    function(Bokeh) {\n    \n    \n    }\n  ];\n\n  function run_inline_js() {\n    \n    if (root.Bokeh !== undefined || force === true) {\n      \n    for (var i = 0; i < inline_js.length; i++) {\n      inline_js[i].call(root, root.Bokeh);\n    }\n    if (force === true) {\n        display_loaded();\n      }} else if (Date.now() < root._bokeh_timeout) {\n      setTimeout(run_inline_js, 100);\n    } else if (!root._bokeh_failed_load) {\n      console.log(\"Bokeh: BokehJS failed to load within specified timeout.\");\n      root._bokeh_failed_load = true;\n    } else if (force !== true) {\n      var cell = $(document.getElementById(\"1087\")).parents('.cell').data().cell;\n      cell.output_area.append_execute_result(NB_LOAD_WARNING)\n    }\n\n  }\n\n  if (root._bokeh_is_loading === 0) {\n    console.debug(\"Bokeh: BokehJS loaded, going straight to plotting\");\n    run_inline_js();\n  } else {\n    load_libs(css_urls, js_urls, function() {\n      console.debug(\"Bokeh: BokehJS plotting callback run at\", now());\n      run_inline_js();\n    });\n  }\n}(window));"
          },
          "metadata": {},
          "output_type": "display_data"
        },
        {
          "data": {
            "text/html": [
              "\n",
              "\n",
              "\n",
              "\n",
              "\n",
              "\n",
              "  <div class=\"bk-root\" id=\"806dd76a-4f3c-48b5-a481-c6b2bdfc5306\" data-root-id=\"1088\"></div>\n"
            ]
          },
          "metadata": {},
          "output_type": "display_data"
        },
        {
          "data": {
            "application/javascript": [
              "(function(root) {\n",
              "  function embed_document(root) {\n",
              "    \n",
              "  var docs_json = {\"11c2ad07-7368-4a00-9e53-40a528657c5f\":{\"roots\":{\"references\":[{\"attributes\":{\"below\":[{\"id\":\"1099\"}],\"center\":[{\"id\":\"1102\"},{\"id\":\"1106\"},{\"id\":\"1122\"}],\"left\":[{\"id\":\"1103\"}],\"renderers\":[{\"id\":\"1120\"}],\"title\":{\"id\":\"1089\"},\"toolbar\":{\"id\":\"1111\"},\"toolbar_location\":\"above\",\"x_range\":{\"id\":\"1091\"},\"x_scale\":{\"id\":\"1095\"},\"y_range\":{\"id\":\"1093\"},\"y_scale\":{\"id\":\"1097\"}},\"id\":\"1088\",\"subtype\":\"Figure\",\"type\":\"Plot\"},{\"attributes\":{},\"id\":\"1133\",\"type\":\"BasicTickFormatter\"},{\"attributes\":{},\"id\":\"1136\",\"type\":\"UnionRenderers\"},{\"attributes\":{\"source\":{\"id\":\"1116\"}},\"id\":\"1121\",\"type\":\"CDSView\"},{\"attributes\":{},\"id\":\"1097\",\"type\":\"LinearScale\"},{\"attributes\":{},\"id\":\"1095\",\"type\":\"LinearScale\"},{\"attributes\":{\"data_source\":{\"id\":\"1116\"},\"glyph\":{\"id\":\"1118\"},\"hover_glyph\":null,\"muted_glyph\":null,\"nonselection_glyph\":{\"id\":\"1119\"},\"selection_glyph\":null,\"view\":{\"id\":\"1121\"}},\"id\":\"1120\",\"type\":\"GlyphRenderer\"},{\"attributes\":{\"text\":\"word2vec T-SNE (eng model, top1000 words, +SVD)\"},\"id\":\"1089\",\"type\":\"Title\"},{\"attributes\":{},\"id\":\"1093\",\"type\":\"DataRange1d\"},{\"attributes\":{},\"id\":\"1137\",\"type\":\"Selection\"},{\"attributes\":{},\"id\":\"1135\",\"type\":\"BasicTickFormatter\"},{\"attributes\":{},\"id\":\"1100\",\"type\":\"BasicTicker\"},{\"attributes\":{\"fill_alpha\":{\"value\":0.1},\"fill_color\":{\"value\":\"#1f77b4\"},\"line_alpha\":{\"value\":0.1},\"line_color\":{\"value\":\"#1f77b4\"},\"size\":{\"units\":\"screen\",\"value\":8},\"x\":{\"field\":\"x1\"},\"y\":{\"field\":\"x2\"}},\"id\":\"1119\",\"type\":\"Scatter\"},{\"attributes\":{\"axis\":{\"id\":\"1099\"},\"ticker\":null},\"id\":\"1102\",\"type\":\"Grid\"},{\"attributes\":{\"formatter\":{\"id\":\"1133\"},\"ticker\":{\"id\":\"1104\"}},\"id\":\"1103\",\"type\":\"LinearAxis\"},{\"attributes\":{\"data\":{\"names\":[\"the\",\"and\",\"a\",\"of\",\"to\",\"is\",\"it\",\"in\",\"i\",\"this\",\"that\",\"s\",\"was\",\"as\",\"movie\",\"for\",\"with\",\"but\",\"film\",\"you\",\"t\",\"on\",\"not\",\"he\",\"are\",\"his\",\"have\",\"one\",\"be\",\"all\",\"at\",\"they\",\"by\",\"an\",\"who\",\"so\",\"from\",\"like\",\"there\",\"or\",\"just\",\"her\",\"out\",\"about\",\"if\",\"has\",\"what\",\"some\",\"good\",\"can\",\"when\",\"more\",\"very\",\"she\",\"up\",\"no\",\"time\",\"my\",\"even\",\"would\",\"which\",\"only\",\"story\",\"really\",\"see\",\"their\",\"had\",\"me\",\"well\",\"we\",\"were\",\"than\",\"much\",\"bad\",\"get\",\"been\",\"other\",\"do\",\"people\",\"great\",\"will\",\"also\",\"into\",\"because\",\"how\",\"don\",\"him\",\"first\",\"most\",\"made\",\"its\",\"them\",\"then\",\"make\",\"way\",\"could\",\"too\",\"movies\",\"any\",\"after\",\"characters\",\"think\",\"watch\",\"character\",\"films\",\"two\",\"many\",\"seen\",\"being\",\"love\",\"never\",\"plot\",\"life\",\"acting\",\"where\",\"show\",\"did\",\"best\",\"know\",\"little\",\"over\",\"off\",\"ever\",\"man\",\"does\",\"your\",\"better\",\"end\",\"here\",\"scene\",\"still\",\"say\",\"these\",\"why\",\"scenes\",\"while\",\"ve\",\"m\",\"something\",\"such\",\"go\",\"should\",\"through\",\"back\",\"real\",\"those\",\"now\",\"thing\",\"watching\",\"re\",\"actors\",\"doesn\",\"director\",\"didn\",\"years\",\"funny\",\"though\",\"old\",\"another\",\"work\",\"before\",\"actually\",\"nothing\",\"makes\",\"look\",\"find\",\"going\",\"same\",\"new\",\"lot\",\"every\",\"few\",\"part\",\"again\",\"world\",\"down\",\"cast\",\"us\",\"things\",\"want\",\"quite\",\"pretty\",\"horror\",\"around\",\"seems\",\"young\",\"take\",\"big\",\"however\",\"got\",\"thought\",\"fact\",\"enough\",\"long\",\"both\",\"give\",\"may\",\"own\",\"d\",\"between\",\"comedy\",\"series\",\"must\",\"right\",\"action\",\"music\",\"without\",\"guy\",\"times\",\"saw\",\"original\",\"always\",\"isn\",\"come\",\"role\",\"almost\",\"gets\",\"point\",\"interesting\",\"done\",\"whole\",\"least\",\"far\",\"bit\",\"script\",\"family\",\"minutes\",\"feel\",\"ll\",\"am\",\"might\",\"making\",\"anything\",\"since\",\"tv\",\"last\",\"probably\",\"performance\",\"kind\",\"away\",\"girl\",\"yet\",\"fun\",\"anyone\",\"woman\",\"worst\",\"sure\",\"rather\",\"hard\",\"day\",\"each\",\"played\",\"found\",\"looking\",\"screen\",\"our\",\"although\",\"especially\",\"believe\",\"dvd\",\"having\",\"trying\",\"course\",\"everything\",\"set\",\"goes\",\"book\",\"ending\",\"comes\",\"put\",\"maybe\",\"place\",\"shows\",\"let\",\"three\",\"worth\",\"different\",\"actor\",\"once\",\"main\",\"someone\",\"sense\",\"american\",\"reason\",\"play\",\"effects\",\"looks\",\"true\",\"money\",\"watched\",\"wasn\",\"year\",\"everyone\",\"job\",\"together\",\"war\",\"high\",\"plays\",\"audience\",\"instead\",\"during\",\"half\",\"said\",\"later\",\"takes\",\"special\",\"john\",\"night\",\"seem\",\"beautiful\",\"left\",\"himself\",\"black\",\"seeing\",\"wife\",\"version\",\"shot\",\"excellent\",\"idea\",\"house\",\"star\",\"else\",\"mind\",\"death\",\"fan\",\"father\",\"used\",\"nice\",\"budget\",\"simply\",\"poor\",\"short\",\"completely\",\"second\",\"men\",\"read\",\"less\",\"along\",\"top\",\"dead\",\"home\",\"help\",\"line\",\"hollywood\",\"kids\",\"either\",\"boring\",\"friends\",\"camera\",\"production\",\"try\",\"wrong\",\"enjoy\",\"low\",\"classic\",\"use\",\"given\",\"women\",\"need\",\"full\",\"school\",\"stupid\",\"next\",\"until\",\"performances\",\"rest\",\"truly\",\"couple\",\"video\",\"awful\",\"sex\",\"start\",\"recommend\",\"tell\",\"terrible\",\"mean\",\"remember\",\"getting\",\"won\",\"came\",\"understand\",\"perhaps\",\"name\",\"moments\",\"face\",\"keep\",\"person\",\"itself\",\"human\",\"wonderful\",\"mother\",\"playing\",\"style\",\"episode\",\"small\",\"others\",\"boy\",\"perfect\",\"early\",\"doing\",\"stars\",\"head\",\"often\",\"written\",\"definitely\",\"lines\",\"children\",\"dialogue\",\"gives\",\"piece\",\"couldn\",\"went\",\"case\",\"yes\",\"finally\",\"absolutely\",\"live\",\"laugh\",\"title\",\"oh\",\"friend\",\"certainly\",\"lost\",\"liked\",\"become\",\"entertaining\",\"worse\",\"sort\",\"cinema\",\"loved\",\"picture\",\"called\",\"hope\",\"felt\",\"mr\",\"guys\",\"overall\",\"based\",\"entire\",\"supposed\",\"several\",\"drama\",\"sound\",\"problem\",\"white\",\"against\",\"waste\",\"beginning\",\"dark\",\"fans\",\"game\",\"totally\",\"care\",\"humor\",\"wanted\",\"direction\",\"under\",\"seemed\",\"evil\",\"lives\",\"lead\",\"despite\",\"guess\",\"final\",\"example\",\"turn\",\"already\",\"throughout\",\"becomes\",\"killer\",\"b\",\"able\",\"unfortunately\",\"son\",\"quality\",\"days\",\"history\",\"heart\",\"side\",\"fine\",\"michael\",\"flick\",\"wants\",\"writing\",\"horrible\",\"amazing\",\"run\",\"today\",\"art\",\"town\",\"act\",\"works\",\"close\",\"kill\",\"god\",\"child\",\"matter\",\"etc\",\"viewer\",\"tries\",\"past\",\"genre\",\"enjoyed\",\"turns\",\"brilliant\",\"behind\",\"gave\",\"car\",\"parts\",\"stuff\",\"eyes\",\"favorite\",\"girls\",\"directed\",\"hand\",\"kid\",\"late\",\"city\",\"hour\",\"expect\",\"soon\",\"actress\",\"obviously\",\"themselves\",\"sometimes\",\"thinking\",\"killed\",\"myself\",\"starts\",\"stop\",\"decent\",\"type\",\"self\",\"daughter\",\"highly\",\"group\",\"says\",\"blood\",\"voice\",\"anyway\",\"writer\",\"known\",\"took\",\"heard\",\"happens\",\"except\",\"fight\",\"feeling\",\"experience\",\"coming\",\"slow\",\"moment\",\"stories\",\"leave\",\"police\",\"told\",\"extremely\",\"score\",\"violence\",\"hero\",\"involved\",\"chance\",\"strong\",\"lack\",\"hit\",\"ok\",\"hilarious\",\"cannot\",\"wouldn\",\"happen\",\"wonder\",\"roles\",\"particularly\",\"living\",\"including\",\"hell\",\"save\",\"brother\",\"murder\",\"crap\",\"looked\",\"cool\",\"david\",\"simple\",\"please\",\"age\",\"cut\",\"obvious\",\"complete\",\"happened\",\"song\",\"serious\",\"gore\",\"james\",\"attempt\",\"ago\",\"taken\",\"shown\",\"robert\",\"english\",\"husband\",\"reality\",\"seriously\",\"released\",\"jokes\",\"opening\",\"interest\",\"alone\",\"none\",\"across\",\"sad\",\"possible\",\"exactly\",\"career\",\"hours\",\"number\",\"saying\",\"usually\",\"talent\",\"cinematography\",\"view\",\"documentary\",\"annoying\",\"relationship\",\"running\",\"yourself\",\"order\",\"wish\",\"huge\",\"whose\",\"shots\",\"body\",\"light\",\"taking\",\"country\",\"ridiculous\",\"power\",\"middle\",\"call\",\"important\",\"level\",\"ends\",\"female\",\"started\",\"major\",\"four\",\"word\",\"jack\",\"turned\",\"opinion\",\"change\",\"scary\",\"mostly\",\"usual\",\"happy\",\"ones\",\"room\",\"beyond\",\"silly\",\"rating\",\"words\",\"somewhat\",\"novel\",\"knows\",\"talking\",\"knew\",\"disappointed\",\"strange\",\"o\",\"apparently\",\"non\",\"upon\",\"attention\",\"modern\",\"single\",\"finds\",\"due\",\"basically\",\"cheap\",\"television\",\"musical\",\"earth\",\"problems\",\"miss\",\"clich\",\"episodes\",\"clearly\",\"local\",\"thriller\",\"king\",\"five\",\"british\",\"talk\",\"class\",\"events\",\"aren\",\"sequence\",\"team\",\"french\",\"moving\",\"ten\",\"fast\",\"straight\",\"tells\",\"review\",\"predictable\",\"die\",\"comic\",\"entertainment\",\"songs\",\"space\",\"whether\",\"george\",\"future\",\"dialog\",\"add\",\"above\",\"sets\",\"easily\",\"enjoyable\",\"near\",\"appears\",\"haven\",\"soundtrack\",\"hate\",\"bring\",\"giving\",\"lots\",\"romantic\",\"similar\",\"supporting\",\"message\",\"release\",\"mention\",\"within\",\"eye\",\"sequel\",\"filmed\",\"e\",\"falls\",\"sister\",\"rock\",\"monster\",\"clear\",\"needs\",\"dull\",\"bunch\",\"suspense\",\"surprised\",\"showing\",\"easy\",\"sorry\",\"tried\",\"certain\",\"working\",\"ways\",\"theme\",\"theater\",\"parents\",\"among\",\"storyline\",\"named\",\"lady\",\"stay\",\"fall\",\"effort\",\"stand\",\"minute\",\"gone\",\"feature\",\"dr\",\"tale\",\"dog\",\"using\",\"buy\",\"comments\",\"typical\",\"mystery\",\"th\",\"editing\",\"subject\",\"deal\",\"avoid\",\"oscar\",\"doubt\",\"richard\",\"peter\",\"fantastic\",\"feels\",\"kept\",\"nearly\",\"realistic\",\"viewers\",\"general\",\"viewing\",\"elements\",\"okay\",\"points\",\"herself\",\"greatest\",\"check\",\"means\",\"famous\",\"crime\",\"imagine\",\"rent\",\"paul\",\"red\",\"actual\",\"form\",\"follow\",\"period\",\"material\",\"believable\",\"tom\",\"move\",\"brought\",\"somehow\",\"forget\",\"begins\",\"animation\",\"leads\",\"doctor\",\"reviews\",\"surprise\",\"figure\",\"america\",\"weak\",\"hear\",\"sit\",\"average\",\"open\",\"york\",\"deep\",\"sequences\",\"fi\",\"killing\",\"atmosphere\",\"wait\",\"imdb\",\"eventually\",\"premise\",\"learn\",\"sci\",\"whatever\",\"expected\",\"dance\",\"lame\",\"indeed\",\"boys\",\"particular\",\"poorly\",\"note\",\"box\",\"truth\",\"situation\",\"hot\",\"shame\",\"third\",\"season\",\"free\",\"society\",\"decided\",\"difficult\",\"romance\",\"lee\",\"needed\",\"crew\",\"acted\",\"gay\",\"leaves\",\"emotional\",\"unless\",\"western\",\"possibly\",\"footage\",\"sexual\",\"de\",\"credits\",\"write\",\"forced\",\"became\",\"memorable\",\"reading\",\"begin\",\"air\",\"meet\",\"otherwise\",\"question\",\"male\",\"street\",\"nature\",\"meets\",\"beauty\",\"plus\",\"cheesy\",\"hands\",\"screenplay\",\"masterpiece\",\"superb\",\"effect\",\"features\",\"stage\",\"interested\",\"island\",\"perfectly\",\"laughs\",\"whom\",\"comment\",\"forward\",\"cop\",\"weird\",\"nor\",\"inside\",\"badly\",\"previous\",\"sounds\",\"japanese\",\"personal\",\"quickly\",\"total\",\"crazy\",\"baby\",\"mark\",\"keeps\",\"disney\",\"result\",\"towards\",\"girlfriend\",\"battle\",\"writers\",\"fire\",\"setting\",\"joe\",\"worked\",\"background\",\"earlier\",\"incredibly\",\"mess\",\"copy\",\"dumb\",\"unique\",\"bill\",\"business\",\"realize\",\"directors\",\"powerful\",\"water\",\"dramatic\",\"older\",\"rate\",\"dream\",\"c\",\"joke\",\"pay\",\"following\",\"plenty\",\"directing\",\"ask\",\"creepy\",\"various\",\"development\",\"appear\",\"front\",\"brings\",\"rich\",\"admit\",\"political\",\"apart\",\"cover\",\"leading\",\"fairly\",\"reasons\",\"portrayed\",\"spent\",\"era\",\"gun\",\"present\",\"telling\",\"party\",\"outside\",\"fighting\",\"wasted\",\"zombie\",\"william\",\"fails\",\"deserves\",\"success\",\"break\",\"twist\",\"secret\",\"meant\",\"list\",\"return\",\"expecting\",\"create\",\"attempts\",\"missing\",\"ideas\",\"ended\"],\"x1\":{\"__ndarray__\":\"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\",\"dtype\":\"float32\",\"shape\":[1000]},\"x2\":{\"__ndarray__\":\"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\",\"dtype\":\"float32\",\"shape\":[1000]}},\"selected\":{\"id\":\"1137\"},\"selection_policy\":{\"id\":\"1136\"}},\"id\":\"1116\",\"type\":\"ColumnDataSource\"},{\"attributes\":{},\"id\":\"1104\",\"type\":\"BasicTicker\"},{\"attributes\":{},\"id\":\"1091\",\"type\":\"DataRange1d\"},{\"attributes\":{\"axis\":{\"id\":\"1103\"},\"dimension\":1,\"ticker\":null},\"id\":\"1106\",\"type\":\"Grid\"},{\"attributes\":{\"source\":{\"id\":\"1116\"},\"text\":{\"field\":\"names\"},\"text_align\":\"center\",\"text_color\":{\"value\":\"#555555\"},\"text_font_size\":{\"value\":\"8pt\"},\"x\":{\"field\":\"x1\"},\"y\":{\"field\":\"x2\"},\"y_offset\":{\"value\":6}},\"id\":\"1122\",\"type\":\"LabelSet\"},{\"attributes\":{\"formatter\":{\"id\":\"1135\"},\"ticker\":{\"id\":\"1100\"}},\"id\":\"1099\",\"type\":\"LinearAxis\"},{\"attributes\":{},\"id\":\"1107\",\"type\":\"PanTool\"},{\"attributes\":{},\"id\":\"1108\",\"type\":\"WheelZoomTool\"},{\"attributes\":{},\"id\":\"1109\",\"type\":\"ResetTool\"},{\"attributes\":{\"fill_color\":{\"value\":\"#1f77b4\"},\"line_color\":{\"value\":\"#1f77b4\"},\"size\":{\"units\":\"screen\",\"value\":8},\"x\":{\"field\":\"x1\"},\"y\":{\"field\":\"x2\"}},\"id\":\"1118\",\"type\":\"Scatter\"},{\"attributes\":{\"active_drag\":\"auto\",\"active_inspect\":\"auto\",\"active_multi\":null,\"active_scroll\":\"auto\",\"active_tap\":\"auto\",\"tools\":[{\"id\":\"1107\"},{\"id\":\"1108\"},{\"id\":\"1109\"},{\"id\":\"1110\"}]},\"id\":\"1111\",\"type\":\"Toolbar\"},{\"attributes\":{},\"id\":\"1110\",\"type\":\"SaveTool\"}],\"root_ids\":[\"1088\"]},\"title\":\"Bokeh Application\",\"version\":\"2.0.2\"}};\n",
              "  var render_items = [{\"docid\":\"11c2ad07-7368-4a00-9e53-40a528657c5f\",\"root_ids\":[\"1088\"],\"roots\":{\"1088\":\"806dd76a-4f3c-48b5-a481-c6b2bdfc5306\"}}];\n",
              "  root.Bokeh.embed.embed_items_notebook(docs_json, render_items);\n",
              "\n",
              "  }\n",
              "  if (root.Bokeh !== undefined) {\n",
              "    embed_document(root);\n",
              "  } else {\n",
              "    var attempts = 0;\n",
              "    var timer = setInterval(function(root) {\n",
              "      if (root.Bokeh !== undefined) {\n",
              "        clearInterval(timer);\n",
              "        embed_document(root);\n",
              "      } else {\n",
              "        attempts++;\n",
              "        if (attempts > 100) {\n",
              "          clearInterval(timer);\n",
              "          console.log(\"Bokeh: ERROR: Unable to run BokehJS code because BokehJS library is missing\");\n",
              "        }\n",
              "      }\n",
              "    }, 10, root)\n",
              "  }\n",
              "})(window);"
            ],
            "application/vnd.bokehjs_exec.v0+json": ""
          },
          "metadata": {
            "application/vnd.bokehjs_exec.v0+json": {
              "id": "1088"
            }
          },
          "output_type": "display_data"
        }
      ]
    },
    {
      "cell_type": "markdown",
      "metadata": {
        "id": "8hBXPv70n-my"
      },
      "source": [
        "word2vec - нужен и правый и левый контекст\n",
        "\n",
        "\n",
        "а RNN - это может только по левому контексту работать."
      ]
    },
    {
      "cell_type": "code",
      "metadata": {
        "id": "vahKqScvoh3J"
      },
      "source": [
        ""
      ],
      "execution_count": null,
      "outputs": []
    }
  ]
}