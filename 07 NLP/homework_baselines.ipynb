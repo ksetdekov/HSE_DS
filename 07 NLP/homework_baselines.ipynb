{
 "cells": [
  {
   "cell_type": "code",
   "execution_count": 16,
   "id": "9030c990",
   "metadata": {},
   "outputs": [],
   "source": [
    "import pandas as pd\n",
    "import numpy as np\n",
    "\n",
    "from sklearn.model_selection import train_test_split\n",
    "from sklearn.metrics import *"
   ]
  },
  {
   "cell_type": "markdown",
   "id": "03b1075d",
   "metadata": {},
   "source": [
    "Sample dummy submission:"
   ]
  },
  {
   "cell_type": "code",
   "execution_count": 108,
   "id": "f20b688e",
   "metadata": {},
   "outputs": [],
   "source": [
    "train = pd.read_csv('train_data.csv')\n",
    "test = pd.read_csv('test_data.csv')"
   ]
  },
  {
   "cell_type": "markdown",
   "id": "4d26ea8d",
   "metadata": {},
   "source": [
    "File with answers:"
   ]
  },
  {
   "cell_type": "code",
   "execution_count": 128,
   "id": "c049a727",
   "metadata": {},
   "outputs": [],
   "source": [
    "y_test = pd.read_csv('test_data_labels.csv')"
   ]
  },
  {
   "cell_type": "code",
   "execution_count": 117,
   "id": "60db0a26",
   "metadata": {},
   "outputs": [
    {
     "data": {
      "text/html": [
       "<div>\n",
       "<style scoped>\n",
       "    .dataframe tbody tr th:only-of-type {\n",
       "        vertical-align: middle;\n",
       "    }\n",
       "\n",
       "    .dataframe tbody tr th {\n",
       "        vertical-align: top;\n",
       "    }\n",
       "\n",
       "    .dataframe thead th {\n",
       "        text-align: right;\n",
       "    }\n",
       "</style>\n",
       "<table border=\"1\" class=\"dataframe\">\n",
       "  <thead>\n",
       "    <tr style=\"text-align: right;\">\n",
       "      <th></th>\n",
       "      <th>comment_id</th>\n",
       "      <th>toxic</th>\n",
       "    </tr>\n",
       "  </thead>\n",
       "  <tbody>\n",
       "    <tr>\n",
       "      <th>2930</th>\n",
       "      <td>2930</td>\n",
       "      <td>0</td>\n",
       "    </tr>\n",
       "  </tbody>\n",
       "</table>\n",
       "</div>"
      ],
      "text/plain": [
       "      comment_id  toxic\n",
       "2930        2930      0"
      ]
     },
     "execution_count": 117,
     "metadata": {},
     "output_type": "execute_result"
    }
   ],
   "source": [
    "y_test.sample()"
   ]
  },
  {
   "cell_type": "code",
   "execution_count": 129,
   "id": "0669e67d",
   "metadata": {},
   "outputs": [],
   "source": [
    "y_test = list(y_test['toxic'])"
   ]
  },
  {
   "cell_type": "code",
   "execution_count": 109,
   "id": "131258a1",
   "metadata": {},
   "outputs": [
    {
     "data": {
      "text/html": [
       "<div>\n",
       "<style scoped>\n",
       "    .dataframe tbody tr th:only-of-type {\n",
       "        vertical-align: middle;\n",
       "    }\n",
       "\n",
       "    .dataframe tbody tr th {\n",
       "        vertical-align: top;\n",
       "    }\n",
       "\n",
       "    .dataframe thead th {\n",
       "        text-align: right;\n",
       "    }\n",
       "</style>\n",
       "<table border=\"1\" class=\"dataframe\">\n",
       "  <thead>\n",
       "    <tr style=\"text-align: right;\">\n",
       "      <th></th>\n",
       "      <th>comment_id</th>\n",
       "      <th>toxic</th>\n",
       "    </tr>\n",
       "  </thead>\n",
       "  <tbody>\n",
       "    <tr>\n",
       "      <th>0</th>\n",
       "      <td>0</td>\n",
       "      <td>0</td>\n",
       "    </tr>\n",
       "    <tr>\n",
       "      <th>1</th>\n",
       "      <td>1</td>\n",
       "      <td>1</td>\n",
       "    </tr>\n",
       "    <tr>\n",
       "      <th>2</th>\n",
       "      <td>2</td>\n",
       "      <td>0</td>\n",
       "    </tr>\n",
       "    <tr>\n",
       "      <th>3</th>\n",
       "      <td>3</td>\n",
       "      <td>1</td>\n",
       "    </tr>\n",
       "    <tr>\n",
       "      <th>4</th>\n",
       "      <td>4</td>\n",
       "      <td>1</td>\n",
       "    </tr>\n",
       "  </tbody>\n",
       "</table>\n",
       "</div>"
      ],
      "text/plain": [
       "   comment_id  toxic\n",
       "0           0      0\n",
       "1           1      1\n",
       "2           2      0\n",
       "3           3      1\n",
       "4           4      1"
      ]
     },
     "execution_count": 109,
     "metadata": {},
     "output_type": "execute_result"
    }
   ],
   "source": [
    "sample_submission = [[i, randint(0,1)] for i in range(len(test))]\n",
    "sample_submission = pd.DataFrame(sample_submission, columns=['comment_id', 'toxic'])\n",
    "\n",
    "sample_submission.head()"
   ]
  },
  {
   "cell_type": "code",
   "execution_count": 84,
   "id": "e0574dbb",
   "metadata": {},
   "outputs": [],
   "source": [
    "sample_submission.to_csv('sample_submission.csv', index=False)"
   ]
  },
  {
   "cell_type": "code",
   "execution_count": 112,
   "id": "7d489405",
   "metadata": {},
   "outputs": [],
   "source": [
    "train['toxic'] = train.toxic.astype(int)"
   ]
  },
  {
   "cell_type": "code",
   "execution_count": 118,
   "id": "9d5782de",
   "metadata": {},
   "outputs": [],
   "source": [
    "y_train = train['toxic']"
   ]
  },
  {
   "cell_type": "markdown",
   "id": "e02e2872",
   "metadata": {},
   "source": [
    "##  baseline 1: no preprocessing + bow -> 4"
   ]
  },
  {
   "cell_type": "code",
   "execution_count": 119,
   "id": "27a39c66",
   "metadata": {},
   "outputs": [],
   "source": [
    "from sklearn.linear_model import LogisticRegression \n",
    "from sklearn.feature_extraction.text import CountVectorizer"
   ]
  },
  {
   "cell_type": "code",
   "execution_count": 120,
   "id": "ceb7fddd",
   "metadata": {},
   "outputs": [],
   "source": [
    "vec = CountVectorizer(ngram_range=(1, 1)) # строим BoW для слов\n",
    "bow = vec.fit_transform(train['comment'])"
   ]
  },
  {
   "cell_type": "code",
   "execution_count": 121,
   "id": "62211fe4",
   "metadata": {},
   "outputs": [
    {
     "data": {
      "text/plain": [
       "[('преступление', 37547),\n",
       " ('наказание', 25277),\n",
       " ('именно', 16896),\n",
       " ('эти', 56140),\n",
       " ('неработающие', 27026),\n",
       " ('весы', 6226),\n",
       " ('показывают', 34999),\n",
       " ('что', 54839),\n",
       " ('работающих', 40401),\n",
       " ('нет', 27146)]"
      ]
     },
     "execution_count": 121,
     "metadata": {},
     "output_type": "execute_result"
    }
   ],
   "source": [
    "list(vec.vocabulary_.items())[:10]"
   ]
  },
  {
   "cell_type": "code",
   "execution_count": 122,
   "id": "1c0b19df",
   "metadata": {},
   "outputs": [
    {
     "data": {
      "text/plain": [
       "LogisticRegression(max_iter=500, random_state=42)"
      ]
     },
     "execution_count": 122,
     "metadata": {},
     "output_type": "execute_result"
    }
   ],
   "source": [
    "clf = LogisticRegression(random_state=42, max_iter=500)\n",
    "clf.fit(bow, y_train)"
   ]
  },
  {
   "cell_type": "code",
   "execution_count": 130,
   "id": "066d598f",
   "metadata": {},
   "outputs": [
    {
     "name": "stdout",
     "output_type": "stream",
     "text": [
      "              precision    recall  f1-score   support\n",
      "\n",
      "           0       0.94      0.85      0.89      2628\n",
      "           1       0.68      0.85      0.75       975\n",
      "\n",
      "    accuracy                           0.85      3603\n",
      "   macro avg       0.81      0.85      0.82      3603\n",
      "weighted avg       0.87      0.85      0.85      3603\n",
      "\n"
     ]
    }
   ],
   "source": [
    "pred = clf.predict(vec.transform(test['comment']))\n",
    "print(classification_report(pred, y_test))"
   ]
  },
  {
   "cell_type": "code",
   "execution_count": 131,
   "id": "aef06e5b",
   "metadata": {},
   "outputs": [
    {
     "data": {
      "text/plain": [
       "0.848737163474882"
      ]
     },
     "execution_count": 131,
     "metadata": {},
     "output_type": "execute_result"
    }
   ],
   "source": [
    "accuracy_score(pred, y_test)"
   ]
  },
  {
   "cell_type": "code",
   "execution_count": 90,
   "id": "2675f038",
   "metadata": {},
   "outputs": [
    {
     "data": {
      "text/html": [
       "<div>\n",
       "<style scoped>\n",
       "    .dataframe tbody tr th:only-of-type {\n",
       "        vertical-align: middle;\n",
       "    }\n",
       "\n",
       "    .dataframe tbody tr th {\n",
       "        vertical-align: top;\n",
       "    }\n",
       "\n",
       "    .dataframe thead th {\n",
       "        text-align: right;\n",
       "    }\n",
       "</style>\n",
       "<table border=\"1\" class=\"dataframe\">\n",
       "  <thead>\n",
       "    <tr style=\"text-align: right;\">\n",
       "      <th></th>\n",
       "      <th>comment_id</th>\n",
       "      <th>toxic</th>\n",
       "    </tr>\n",
       "  </thead>\n",
       "  <tbody>\n",
       "    <tr>\n",
       "      <th>0</th>\n",
       "      <td>0</td>\n",
       "      <td>0</td>\n",
       "    </tr>\n",
       "    <tr>\n",
       "      <th>1</th>\n",
       "      <td>1</td>\n",
       "      <td>0</td>\n",
       "    </tr>\n",
       "    <tr>\n",
       "      <th>2</th>\n",
       "      <td>2</td>\n",
       "      <td>0</td>\n",
       "    </tr>\n",
       "    <tr>\n",
       "      <th>3</th>\n",
       "      <td>3</td>\n",
       "      <td>0</td>\n",
       "    </tr>\n",
       "    <tr>\n",
       "      <th>4</th>\n",
       "      <td>4</td>\n",
       "      <td>0</td>\n",
       "    </tr>\n",
       "  </tbody>\n",
       "</table>\n",
       "</div>"
      ],
      "text/plain": [
       "   comment_id  toxic\n",
       "0           0      0\n",
       "1           1      0\n",
       "2           2      0\n",
       "3           3      0\n",
       "4           4      0"
      ]
     },
     "execution_count": 90,
     "metadata": {},
     "output_type": "execute_result"
    }
   ],
   "source": [
    "baseline_4 = [[i, pred[i]] for i in range(len(test))]\n",
    "baseline_4 = pd.DataFrame(baseline_4, columns=['comment_id', 'toxic'])\n",
    "\n",
    "baseline_4.head()"
   ]
  },
  {
   "cell_type": "code",
   "execution_count": 92,
   "id": "c11adf11",
   "metadata": {},
   "outputs": [],
   "source": [
    "baseline_4.to_csv('baseline_4.csv', index=False)"
   ]
  },
  {
   "cell_type": "markdown",
   "id": "8aa5c4b1",
   "metadata": {},
   "source": [
    "## baseline 2: preprocessing + bow -> 5"
   ]
  },
  {
   "cell_type": "code",
   "execution_count": 30,
   "id": "4a75b52c",
   "metadata": {},
   "outputs": [],
   "source": [
    "from sklearn.feature_extraction.text import TfidfVectorizer"
   ]
  },
  {
   "cell_type": "code",
   "execution_count": 22,
   "id": "a2958b5a",
   "metadata": {},
   "outputs": [],
   "source": [
    "import re\n",
    "from pymorphy2 import MorphAnalyzer\n",
    "from functools import lru_cache\n",
    "from nltk.corpus import stopwords\n",
    "\n",
    "m = MorphAnalyzer()\n",
    "regex = re.compile(\"[А-Яа-яA-z]+\")\n",
    "\n",
    "def words_only(text, regex=regex):\n",
    "    try:\n",
    "        return regex.findall(text.lower())\n",
    "    except:\n",
    "        return []"
   ]
  },
  {
   "cell_type": "code",
   "execution_count": 23,
   "id": "58a2fee8",
   "metadata": {},
   "outputs": [],
   "source": [
    "@lru_cache(maxsize=128)\n",
    "def lemmatize_word(token, pymorphy=m):\n",
    "    return pymorphy.parse(token)[0].normal_form\n",
    "\n",
    "def lemmatize_text(text):\n",
    "    return [lemmatize_word(w) for w in text]\n",
    "\n",
    "\n",
    "mystopwords = stopwords.words('russian') \n",
    "def remove_stopwords(lemmas, stopwords = mystopwords):\n",
    "    return [w for w in lemmas if not w in stopwords and len(w) > 3]\n",
    "\n",
    "def clean_text(text):\n",
    "    tokens = words_only(text)\n",
    "    lemmas = lemmatize_text(tokens)\n",
    "    \n",
    "    return ' '.join(remove_stopwords(lemmas))"
   ]
  },
  {
   "cell_type": "code",
   "execution_count": 26,
   "id": "829675f2",
   "metadata": {},
   "outputs": [
    {
     "name": "stderr",
     "output_type": "stream",
     "text": [
      "100%|██████████| 10809/10809 [00:34<00:00, 314.29it/s]\n"
     ]
    },
    {
     "data": {
      "text/html": [
       "<div>\n",
       "<style scoped>\n",
       "    .dataframe tbody tr th:only-of-type {\n",
       "        vertical-align: middle;\n",
       "    }\n",
       "\n",
       "    .dataframe tbody tr th {\n",
       "        vertical-align: top;\n",
       "    }\n",
       "\n",
       "    .dataframe thead th {\n",
       "        text-align: right;\n",
       "    }\n",
       "</style>\n",
       "<table border=\"1\" class=\"dataframe\">\n",
       "  <thead>\n",
       "    <tr style=\"text-align: right;\">\n",
       "      <th></th>\n",
       "      <th>comment</th>\n",
       "      <th>toxic</th>\n",
       "      <th>lemmas</th>\n",
       "    </tr>\n",
       "  </thead>\n",
       "  <tbody>\n",
       "    <tr>\n",
       "      <th>8848</th>\n",
       "      <td>Видимо за очень дешево и черти где. У нас в Тю...</td>\n",
       "      <td>0</td>\n",
       "      <td>видимо очень дёшево чёрт тюмень вообще продава...</td>\n",
       "    </tr>\n",
       "    <tr>\n",
       "      <th>2605</th>\n",
       "      <td>Ебать, безумие какое. Может чувак набухался и ...</td>\n",
       "      <td>1</td>\n",
       "      <td>ебать безумие мочь чувак набухаться решить суи...</td>\n",
       "    </tr>\n",
       "    <tr>\n",
       "      <th>3879</th>\n",
       "      <td>Спасибо за информацию. Я недавно делала немецк...</td>\n",
       "      <td>0</td>\n",
       "      <td>спасибо информация недавно делать немецкий заг...</td>\n",
       "    </tr>\n",
       "    <tr>\n",
       "      <th>8426</th>\n",
       "      <td>Это вам повезло похоже. Город с конца декабря ...</td>\n",
       "      <td>0</td>\n",
       "      <td>повезти похоже город конец декабрь февраль сто...</td>\n",
       "    </tr>\n",
       "    <tr>\n",
       "      <th>3068</th>\n",
       "      <td>Бутылированный хохол 100\\n</td>\n",
       "      <td>1</td>\n",
       "      <td>бутылировать хохол</td>\n",
       "    </tr>\n",
       "  </tbody>\n",
       "</table>\n",
       "</div>"
      ],
      "text/plain": [
       "                                                comment  toxic  \\\n",
       "8848  Видимо за очень дешево и черти где. У нас в Тю...      0   \n",
       "2605  Ебать, безумие какое. Может чувак набухался и ...      1   \n",
       "3879  Спасибо за информацию. Я недавно делала немецк...      0   \n",
       "8426  Это вам повезло похоже. Город с конца декабря ...      0   \n",
       "3068                         Бутылированный хохол 100\\n      1   \n",
       "\n",
       "                                                 lemmas  \n",
       "8848  видимо очень дёшево чёрт тюмень вообще продава...  \n",
       "2605  ебать безумие мочь чувак набухаться решить суи...  \n",
       "3879  спасибо информация недавно делать немецкий заг...  \n",
       "8426  повезти похоже город конец декабрь февраль сто...  \n",
       "3068                                 бутылировать хохол  "
      ]
     },
     "execution_count": 26,
     "metadata": {},
     "output_type": "execute_result"
    }
   ],
   "source": [
    "from tqdm import tqdm\n",
    "\n",
    "lemmas = list(tqdm(map(clean_text, train['comment']), total=len(train)))\n",
    "    \n",
    "train['lemmas'] = lemmas\n",
    "train.sample(5)"
   ]
  },
  {
   "cell_type": "code",
   "execution_count": 27,
   "id": "a3817bcc",
   "metadata": {},
   "outputs": [
    {
     "name": "stderr",
     "output_type": "stream",
     "text": [
      "100%|██████████| 3603/3603 [00:11<00:00, 310.68it/s]\n"
     ]
    }
   ],
   "source": [
    "lemmas_test = list(tqdm(map(clean_text, test['comment']), total=len(test)))\n",
    "    \n",
    "test['lemmas'] = lemmas_test"
   ]
  },
  {
   "cell_type": "code",
   "execution_count": 93,
   "id": "d9866256",
   "metadata": {},
   "outputs": [
    {
     "data": {
      "text/plain": [
       "0.8573411046350263"
      ]
     },
     "execution_count": 93,
     "metadata": {},
     "output_type": "execute_result"
    }
   ],
   "source": [
    "vec = CountVectorizer(ngram_range=(1, 2)) # строим BoW для слов\n",
    "bow = vec.fit_transform(train['lemmas'])\n",
    "\n",
    "clf = LogisticRegression(random_state=42, max_iter=500)\n",
    "clf.fit(bow, y_train)\n",
    "\n",
    "pred = clf.predict(vec.transform(test['lemmas']))\n",
    "accuracy_score(pred, y_test)"
   ]
  },
  {
   "cell_type": "code",
   "execution_count": 95,
   "id": "90a149d0",
   "metadata": {},
   "outputs": [],
   "source": [
    "baseline_5 = [[i, pred[i]] for i in range(len(test))]\n",
    "baseline_5 = pd.DataFrame(baseline_5, columns=['comment_id', 'toxic'])\n",
    "\n",
    "baseline_5.to_csv('baseline_5.csv', index=False)"
   ]
  },
  {
   "cell_type": "markdown",
   "id": "c7ab4b0c",
   "metadata": {},
   "source": [
    "## baseline 3: preproc + fasttext -> 6"
   ]
  },
  {
   "cell_type": "code",
   "execution_count": 34,
   "id": "a7f34ece",
   "metadata": {},
   "outputs": [],
   "source": [
    "import fasttext"
   ]
  },
  {
   "cell_type": "code",
   "execution_count": 39,
   "id": "a88b8d58",
   "metadata": {},
   "outputs": [],
   "source": [
    "with open('train_ft.txt', 'w') as f:\n",
    "    for pair in list(zip(train['lemmas'], train['toxic'])):\n",
    "        text, label = pair\n",
    "        f.write(f'__label__{label} {text.lower()}\\n')"
   ]
  },
  {
   "cell_type": "code",
   "execution_count": 41,
   "id": "7380403f",
   "metadata": {},
   "outputs": [],
   "source": [
    "with open('test_ft.txt', 'w') as f:\n",
    "    for pair in list(zip(test['lemmas'], test['toxic'])):\n",
    "        text, label = pair\n",
    "        f.write(f'__label__{label} {text.lower()}\\n')"
   ]
  },
  {
   "cell_type": "code",
   "execution_count": 99,
   "id": "941a3a02",
   "metadata": {},
   "outputs": [
    {
     "name": "stdout",
     "output_type": "stream",
     "text": [
      "P@1: 0.8739938939772411\n",
      "R@1: 0.8739938939772411\n",
      "Number of examples: 3603\n"
     ]
    }
   ],
   "source": [
    "classifier = fasttext.train_supervised('train_ft.txt')#, 'model')\n",
    "result = classifier.test('test_ft.txt')\n",
    "print('P@1:', result[1])#.precision)\n",
    "print('R@1:', result[2])#.recall)\n",
    "print('Number of examples:', result[0])#.nexamples)"
   ]
  },
  {
   "cell_type": "code",
   "execution_count": 100,
   "id": "45b6b5bc",
   "metadata": {},
   "outputs": [
    {
     "data": {
      "text/plain": [
       "0.8739938939772411"
      ]
     },
     "execution_count": 100,
     "metadata": {},
     "output_type": "execute_result"
    }
   ],
   "source": [
    "pred = classifier.predict(list(test['lemmas']))[0]\n",
    "pred = [int(label[0][-1]) for label in pred]\n",
    "\n",
    "accuracy_score(list(y_test), pred)"
   ]
  },
  {
   "cell_type": "code",
   "execution_count": 101,
   "id": "82b8cc2c",
   "metadata": {},
   "outputs": [],
   "source": [
    "baseline_6 = [[i, pred[i]] for i in range(len(test))]\n",
    "baseline_6 = pd.DataFrame(baseline_6, columns=['comment_id', 'toxic'])\n",
    "\n",
    "baseline_6.to_csv('baseline_6.csv', index=False)"
   ]
  }
 ],
 "metadata": {
  "kernelspec": {
   "display_name": "Python 3",
   "language": "python",
   "name": "python3"
  },
  "language_info": {
   "codemirror_mode": {
    "name": "ipython",
    "version": 3
   },
   "file_extension": ".py",
   "mimetype": "text/x-python",
   "name": "python",
   "nbconvert_exporter": "python",
   "pygments_lexer": "ipython3",
   "version": "3.8.5"
  }
 },
 "nbformat": 4,
 "nbformat_minor": 5
}
