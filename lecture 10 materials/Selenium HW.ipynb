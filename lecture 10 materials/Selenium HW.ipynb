{
 "cells": [
  {
   "cell_type": "markdown",
   "metadata": {},
   "source": [
    "# ДЗ по SELENIUM\n",
    "\n",
    "## Первая часть кода открывает сайт IMDB и выгружает список топ250 фильмов\n",
    "\n",
    "Это выполняет домашннее задание по SQL:\n",
    "\n",
    "Создайте sql-таблицу об известных людях, странах и т.д. В ней должно содержаться не менее 5 колонок с типами данных (text, float, integer) и не менее трех строк. Сохраните таблицу в файле с расширением .sqlite или .sqlite3. \n",
    "\n",
    "## Вторая часть - используя Selenium переходит по каждой из ссылок и сохраняет информацию о каждом фильме из списка, после этого находит того, кто снял больше всего фильмов\n"
   ]
  },
  {
   "cell_type": "code",
   "execution_count": 1,
   "metadata": {},
   "outputs": [],
   "source": [
    "import os\n",
    "import re\n",
    "import sqlite3\n",
    "\n",
    "import pandas as pd\n",
    "from bs4 import BeautifulSoup\n",
    "from selenium import webdriver as wb\n",
    "from time import sleep"
   ]
  },
  {
   "cell_type": "code",
   "execution_count": 2,
   "metadata": {},
   "outputs": [],
   "source": [
    "\n",
    "driver = wb.Chrome('../chromedriver_win32/chromedriver.exe')\n",
    "\n",
    "driver.implicitly_wait(2)\n",
    "driver.get(\"https://www.imdb.com/chart/top/?ref_=nv_mv_250\")\n",
    "\n",
    "soup = BeautifulSoup(driver.page_source, 'lxml')\n",
    "df_250 = pd.DataFrame(columns=['title', 'year', 'rating', 'rating_count', 'link'])\n",
    "\n",
    "table_films = soup.find_all('tbody', {'class': 'lister-list'})[0]\n",
    "for elem in table_films.find_all('tr'):\n",
    "    title_cell = elem.find_all('td', {'class': 'titleColumn'})[0]\n",
    "    title = title_cell.a.text\n",
    "    #     print(title)\n",
    "    link = title_cell.find('a').get('href')\n",
    "    #     print(link)\n",
    "    date_text = elem.find_all('td', {'class': 'titleColumn'})[0].span.text\n",
    "    date_int = int(re.findall(r'\\d+', date_text)[0])\n",
    "    #     print(date_int)\n",
    "    rating_cell = elem.find_all('td', {'class': 'ratingColumn imdbRating'})[0]\n",
    "    rating = float(rating_cell.text.strip().replace(',', '.'))\n",
    "    count_info = (rating_cell.find('strong').get('title'))\n",
    "    num_rating = (re.findall(r'(?:\\d+\\s)+(?:\\d+)', count_info))\n",
    "    num_rating = int(\"\".join(num_rating[0].split()))\n",
    "    #     print(num_rating)\n",
    "    #     print(rating)\n",
    "    row_to_add = [title, date_int, rating, num_rating, link]\n",
    "    #     print(row_to_add)\n",
    "    our_one_row = pd.DataFrame([row_to_add], columns=['title', 'year', 'rating', 'rating_count', 'link'])\n",
    "    df_250 = df_250.append(our_one_row, ignore_index=True)  # add it to a temporary df\n",
    "\n",
    "if not os.path.exists('movie.sqlite'):\n",
    "    conn = sqlite3.connect('movie.sqlite')\n",
    "    cur = conn.cursor()\n",
    "    # crating a new table with our structure\n",
    "    cur.executescript(\n",
    "        '''CREATE TABLE \"top250\" (\n",
    "        \"title\" TEXT,\n",
    "        \"year\"  INTEGER,\n",
    "        \"rating\"   NUMERIC,\n",
    "        \"rating_count\"  INTEGER,\n",
    "        \"link\"    TEXT,\n",
    "        PRIMARY KEY (title, year));\n",
    "    ''')\n",
    "    conn.commit()\n",
    "    cur.close()\n",
    "\n",
    "# open connection and write from pandas to sqlite\n",
    "conn = sqlite3.connect('movie.sqlite')\n",
    "df_250.to_sql('top250', conn, if_exists='replace', index=False)\n",
    "conn.commit()\n"
   ]
  },
  {
   "cell_type": "markdown",
   "metadata": {},
   "source": [
    "## Проверим, записалось ли что-то в БД"
   ]
  },
  {
   "cell_type": "code",
   "execution_count": 3,
   "metadata": {},
   "outputs": [
    {
     "data": {
      "text/html": [
       "<div>\n",
       "<style scoped>\n",
       "    .dataframe tbody tr th:only-of-type {\n",
       "        vertical-align: middle;\n",
       "    }\n",
       "\n",
       "    .dataframe tbody tr th {\n",
       "        vertical-align: top;\n",
       "    }\n",
       "\n",
       "    .dataframe thead th {\n",
       "        text-align: right;\n",
       "    }\n",
       "</style>\n",
       "<table border=\"1\" class=\"dataframe\">\n",
       "  <thead>\n",
       "    <tr style=\"text-align: right;\">\n",
       "      <th></th>\n",
       "      <th>title</th>\n",
       "      <th>year</th>\n",
       "      <th>rating</th>\n",
       "      <th>rating_count</th>\n",
       "      <th>link</th>\n",
       "    </tr>\n",
       "  </thead>\n",
       "  <tbody>\n",
       "    <tr>\n",
       "      <th>0</th>\n",
       "      <td>Побег из Шоушенка</td>\n",
       "      <td>1994</td>\n",
       "      <td>9.2</td>\n",
       "      <td>2298438</td>\n",
       "      <td>/title/tt0111161/?pf_rd_m=A2FGELUUNOQJNL&amp;pf_rd...</td>\n",
       "    </tr>\n",
       "    <tr>\n",
       "      <th>1</th>\n",
       "      <td>Крестный отец</td>\n",
       "      <td>1972</td>\n",
       "      <td>9.1</td>\n",
       "      <td>1586270</td>\n",
       "      <td>/title/tt0068646/?pf_rd_m=A2FGELUUNOQJNL&amp;pf_rd...</td>\n",
       "    </tr>\n",
       "    <tr>\n",
       "      <th>2</th>\n",
       "      <td>Крестный отец 2</td>\n",
       "      <td>1974</td>\n",
       "      <td>9.0</td>\n",
       "      <td>1108300</td>\n",
       "      <td>/title/tt0071562/?pf_rd_m=A2FGELUUNOQJNL&amp;pf_rd...</td>\n",
       "    </tr>\n",
       "    <tr>\n",
       "      <th>3</th>\n",
       "      <td>Темный рыцарь</td>\n",
       "      <td>2008</td>\n",
       "      <td>9.0</td>\n",
       "      <td>2262484</td>\n",
       "      <td>/title/tt0468569/?pf_rd_m=A2FGELUUNOQJNL&amp;pf_rd...</td>\n",
       "    </tr>\n",
       "    <tr>\n",
       "      <th>4</th>\n",
       "      <td>12 разгневанных мужчин</td>\n",
       "      <td>1957</td>\n",
       "      <td>8.9</td>\n",
       "      <td>675343</td>\n",
       "      <td>/title/tt0050083/?pf_rd_m=A2FGELUUNOQJNL&amp;pf_rd...</td>\n",
       "    </tr>\n",
       "  </tbody>\n",
       "</table>\n",
       "</div>"
      ],
      "text/plain": [
       "                    title  year  rating  rating_count  \\\n",
       "0       Побег из Шоушенка  1994     9.2       2298438   \n",
       "1           Крестный отец  1972     9.1       1586270   \n",
       "2         Крестный отец 2  1974     9.0       1108300   \n",
       "3           Темный рыцарь  2008     9.0       2262484   \n",
       "4  12 разгневанных мужчин  1957     8.9        675343   \n",
       "\n",
       "                                                link  \n",
       "0  /title/tt0111161/?pf_rd_m=A2FGELUUNOQJNL&pf_rd...  \n",
       "1  /title/tt0068646/?pf_rd_m=A2FGELUUNOQJNL&pf_rd...  \n",
       "2  /title/tt0071562/?pf_rd_m=A2FGELUUNOQJNL&pf_rd...  \n",
       "3  /title/tt0468569/?pf_rd_m=A2FGELUUNOQJNL&pf_rd...  \n",
       "4  /title/tt0050083/?pf_rd_m=A2FGELUUNOQJNL&pf_rd...  "
      ]
     },
     "execution_count": 3,
     "metadata": {},
     "output_type": "execute_result"
    }
   ],
   "source": [
    "pd.read_sql('select * from top250 limit 5', conn)"
   ]
  },
  {
   "cell_type": "markdown",
   "metadata": {},
   "source": [
    "## Задача моя на задание - найти какие режиссеры сняли больше всего фильмов из топ250"
   ]
  },
  {
   "cell_type": "code",
   "execution_count": 4,
   "metadata": {},
   "outputs": [
    {
     "data": {
      "text/plain": [
       "<sqlite3.Cursor at 0x1b698141650>"
      ]
     },
     "execution_count": 4,
     "metadata": {},
     "output_type": "execute_result"
    }
   ],
   "source": [
    "def get_director_by_n_film(topn):\n",
    "    chr_driver = wb.Chrome('../chromedriver_win32/chromedriver.exe')\n",
    "    chr_driver.implicitly_wait(1)\n",
    "    chr_driver.get(\"https://www.imdb.com/chart/top/?ref_=nv_mv_250\")\n",
    "\n",
    "    film_link = f'//*[@id=\"main\"]/div/span/div/div/div[3]/table/tbody/tr[{topn}]/td[2]/a'\n",
    "    fld = chr_driver.find_element_by_xpath(film_link)\n",
    "    fld.click()\n",
    "    try:\n",
    "        director = chr_driver.find_element_by_xpath('//*[@id=\"title-overview-widget\"]/div[2]/div[1]/div[2]/a').text\n",
    "    except:\n",
    "        director = chr_driver.find_element_by_xpath(\n",
    "            '//*[@id=\"title-overview-widget\"]/div[2]/div[2]/div[1]/div[2]/a').text\n",
    "\n",
    "    chr_driver.quit()\n",
    "    return director\n",
    "\n",
    "\n",
    "conn = sqlite3.connect('movie.sqlite')  # friends db\n",
    "cur = conn.cursor()\n",
    "\n",
    "cur.execute('''CREATE TABLE IF NOT EXISTS Directors (id INTEGER PRIMARY KEY, \n",
    "                                                    director TEXT)''')\n"
   ]
  },
  {
   "cell_type": "markdown",
   "metadata": {},
   "source": [
    "Проверим на одном"
   ]
  },
  {
   "cell_type": "code",
   "execution_count": 5,
   "metadata": {},
   "outputs": [
    {
     "data": {
      "text/plain": [
       "'Akira Kurosawa'"
      ]
     },
     "execution_count": 5,
     "metadata": {},
     "output_type": "execute_result"
    }
   ],
   "source": [
    "get_director_by_n_film(134)"
   ]
  },
  {
   "cell_type": "code",
   "execution_count": 6,
   "metadata": {},
   "outputs": [
    {
     "name": "stdout",
     "output_type": "stream",
     "text": [
      "1 Frank Darabont\n",
      "2 Francis Ford Coppola\n",
      "3 Francis Ford Coppola\n"
     ]
    }
   ],
   "source": [
    "positions = range(3)\n",
    "# positions = range(250) ## - нужно запустить эту строку для обновления всех данных, работает медленно\n",
    "\n",
    "for pos in positions:\n",
    "    try:\n",
    "        cur_director = get_director_by_n_film(pos + 1)\n",
    "    except:\n",
    "        cur_director = \"\"\n",
    "    cur.execute('''REPLACE INTO Directors\n",
    "                            (id, director) VALUES (?, ?)''', (pos + 1, cur_director))\n",
    "    conn.commit()\n",
    "    print(pos + 1, cur_director)\n"
   ]
  },
  {
   "cell_type": "code",
   "execution_count": 7,
   "metadata": {},
   "outputs": [
    {
     "data": {
      "text/html": [
       "<div>\n",
       "<style scoped>\n",
       "    .dataframe tbody tr th:only-of-type {\n",
       "        vertical-align: middle;\n",
       "    }\n",
       "\n",
       "    .dataframe tbody tr th {\n",
       "        vertical-align: top;\n",
       "    }\n",
       "\n",
       "    .dataframe thead th {\n",
       "        text-align: right;\n",
       "    }\n",
       "</style>\n",
       "<table border=\"1\" class=\"dataframe\">\n",
       "  <thead>\n",
       "    <tr style=\"text-align: right;\">\n",
       "      <th></th>\n",
       "      <th>Director</th>\n",
       "      <th>number of films</th>\n",
       "    </tr>\n",
       "  </thead>\n",
       "  <tbody>\n",
       "    <tr>\n",
       "      <th>0</th>\n",
       "      <td>Stanley Kubrick</td>\n",
       "      <td>7</td>\n",
       "    </tr>\n",
       "    <tr>\n",
       "      <th>1</th>\n",
       "      <td>Martin Scorsese</td>\n",
       "      <td>7</td>\n",
       "    </tr>\n",
       "    <tr>\n",
       "      <th>2</th>\n",
       "      <td>Christopher Nolan</td>\n",
       "      <td>7</td>\n",
       "    </tr>\n",
       "    <tr>\n",
       "      <th>3</th>\n",
       "      <td>Steven Spielberg</td>\n",
       "      <td>6</td>\n",
       "    </tr>\n",
       "    <tr>\n",
       "      <th>4</th>\n",
       "      <td>Charles Chaplin</td>\n",
       "      <td>6</td>\n",
       "    </tr>\n",
       "    <tr>\n",
       "      <th>5</th>\n",
       "      <td>Alfred Hitchcock</td>\n",
       "      <td>6</td>\n",
       "    </tr>\n",
       "    <tr>\n",
       "      <th>6</th>\n",
       "      <td>Akira Kurosawa</td>\n",
       "      <td>6</td>\n",
       "    </tr>\n",
       "    <tr>\n",
       "      <th>7</th>\n",
       "      <td>Quentin Tarantino</td>\n",
       "      <td>5</td>\n",
       "    </tr>\n",
       "    <tr>\n",
       "      <th>8</th>\n",
       "      <td>Hayao Miyazaki</td>\n",
       "      <td>5</td>\n",
       "    </tr>\n",
       "    <tr>\n",
       "      <th>9</th>\n",
       "      <td>Billy Wilder</td>\n",
       "      <td>5</td>\n",
       "    </tr>\n",
       "  </tbody>\n",
       "</table>\n",
       "</div>"
      ],
      "text/plain": [
       "            Director  number of films\n",
       "0    Stanley Kubrick                7\n",
       "1    Martin Scorsese                7\n",
       "2  Christopher Nolan                7\n",
       "3   Steven Spielberg                6\n",
       "4    Charles Chaplin                6\n",
       "5   Alfred Hitchcock                6\n",
       "6     Akira Kurosawa                6\n",
       "7  Quentin Tarantino                5\n",
       "8     Hayao Miyazaki                5\n",
       "9       Billy Wilder                5"
      ]
     },
     "execution_count": 7,
     "metadata": {},
     "output_type": "execute_result"
    }
   ],
   "source": [
    "top_directors = cur.execute(\n",
    "    \"SELECT director, count(*) from directors GROUP by director ORDER by count(*) DESC LIMIT 10\")\n",
    "top10 = pd.DataFrame(top_directors, columns=['Director', 'number of films'])\n",
    "top10"
   ]
  },
  {
   "cell_type": "markdown",
   "metadata": {},
   "source": [
    "Первое место делят:"
   ]
  },
  {
   "cell_type": "code",
   "execution_count": 8,
   "metadata": {},
   "outputs": [
    {
     "data": {
      "text/html": [
       "<div>\n",
       "<style scoped>\n",
       "    .dataframe tbody tr th:only-of-type {\n",
       "        vertical-align: middle;\n",
       "    }\n",
       "\n",
       "    .dataframe tbody tr th {\n",
       "        vertical-align: top;\n",
       "    }\n",
       "\n",
       "    .dataframe thead th {\n",
       "        text-align: right;\n",
       "    }\n",
       "</style>\n",
       "<table border=\"1\" class=\"dataframe\">\n",
       "  <thead>\n",
       "    <tr style=\"text-align: right;\">\n",
       "      <th></th>\n",
       "      <th>Director</th>\n",
       "      <th>number of films</th>\n",
       "    </tr>\n",
       "  </thead>\n",
       "  <tbody>\n",
       "    <tr>\n",
       "      <th>0</th>\n",
       "      <td>Stanley Kubrick</td>\n",
       "      <td>7</td>\n",
       "    </tr>\n",
       "    <tr>\n",
       "      <th>1</th>\n",
       "      <td>Martin Scorsese</td>\n",
       "      <td>7</td>\n",
       "    </tr>\n",
       "    <tr>\n",
       "      <th>2</th>\n",
       "      <td>Christopher Nolan</td>\n",
       "      <td>7</td>\n",
       "    </tr>\n",
       "  </tbody>\n",
       "</table>\n",
       "</div>"
      ],
      "text/plain": [
       "            Director  number of films\n",
       "0    Stanley Kubrick                7\n",
       "1    Martin Scorsese                7\n",
       "2  Christopher Nolan                7"
      ]
     },
     "execution_count": 8,
     "metadata": {},
     "output_type": "execute_result"
    }
   ],
   "source": [
    "top10[top10['number of films'] == max(top10['number of films'])]"
   ]
  },
  {
   "cell_type": "code",
   "execution_count": 9,
   "metadata": {},
   "outputs": [],
   "source": [
    "conn.close()"
   ]
  }
 ],
 "metadata": {
  "kernelspec": {
   "display_name": "Python 3",
   "language": "python",
   "name": "python3"
  },
  "language_info": {
   "codemirror_mode": {
    "name": "ipython",
    "version": 3
   },
   "file_extension": ".py",
   "mimetype": "text/x-python",
   "name": "python",
   "nbconvert_exporter": "python",
   "pygments_lexer": "ipython3",
   "version": "3.8.5"
  }
 },
 "nbformat": 4,
 "nbformat_minor": 4
}
