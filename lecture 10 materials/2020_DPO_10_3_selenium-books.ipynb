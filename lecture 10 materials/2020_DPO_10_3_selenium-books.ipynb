{
 "cells": [
  {
   "cell_type": "markdown",
   "metadata": {},
   "source": [
    "# Python для анализа данных\n",
    "\n",
    "*Алла Тамбовцева, НИУ ВШЭ*\n",
    "\n",
    "дополнения: *Ян Пиле, НИУ ВШЭ*"
   ]
  },
  {
   "cell_type": "markdown",
   "metadata": {},
   "source": [
    "Посмотрим на другие примеры использования `selenium`. \n",
    "\n",
    "**Пример.** Зайдем на сайт книжного магазина и найдем все книги про Python. Загрузим библиотеку, веб-драйвер и откроем страницу в браузере через Python."
   ]
  },
  {
   "cell_type": "code",
   "execution_count": 1,
   "metadata": {},
   "outputs": [],
   "source": [
    "from selenium import webdriver as wb\n",
    "br = wb.Chrome('../chromedriver_win32/chromedriver.exe')\n",
    "\n",
    "# открываем страницу в Chrome в автоматическом режиме\n",
    "br.get(\"http://www.biblio-globus.ru/\")"
   ]
  },
  {
   "cell_type": "markdown",
   "metadata": {},
   "source": [
    "Найдем с помощью CSS Selector'а (*SelectorGadget*) поле для ввода названия книги или автора. "
   ]
  },
  {
   "cell_type": "code",
   "execution_count": 2,
   "metadata": {},
   "outputs": [],
   "source": [
    "field = br.find_element_by_css_selector(\"input\")"
   ]
  },
  {
   "cell_type": "markdown",
   "metadata": {},
   "source": [
    "Сохраним запрос:"
   ]
  },
  {
   "cell_type": "code",
   "execution_count": 3,
   "metadata": {},
   "outputs": [],
   "source": [
    "author = \"Python\"  # переменная author - условность"
   ]
  },
  {
   "cell_type": "markdown",
   "metadata": {},
   "source": [
    "Введем запрос в поле для поиска (`.send_keys`) и подождем чуть-чуть:"
   ]
  },
  {
   "cell_type": "code",
   "execution_count": 4,
   "metadata": {},
   "outputs": [],
   "source": [
    "field.send_keys(author)\n",
    "br.implicitly_wait(2)  # подождем пару секунд"
   ]
  },
  {
   "cell_type": "markdown",
   "metadata": {},
   "source": [
    "Теперь найдем кнопку для поиска (значок *лупа* рядом со строкой поиска) через CSS Selector:"
   ]
  },
  {
   "cell_type": "code",
   "execution_count": 5,
   "metadata": {},
   "outputs": [],
   "source": [
    "submit = br.find_element_by_css_selector(\"#search_submit\")"
   ]
  },
  {
   "cell_type": "markdown",
   "metadata": {},
   "source": [
    "Кликнем на нее:"
   ]
  },
  {
   "cell_type": "code",
   "execution_count": 6,
   "metadata": {},
   "outputs": [],
   "source": [
    "submit.click()"
   ]
  },
  {
   "cell_type": "markdown",
   "metadata": {},
   "source": [
    "Сохраним первую страницу с результатами в переменную `page1`."
   ]
  },
  {
   "cell_type": "code",
   "execution_count": 7,
   "metadata": {},
   "outputs": [],
   "source": [
    "page1 = br.page_source"
   ]
  },
  {
   "cell_type": "code",
   "execution_count": 8,
   "metadata": {},
   "outputs": [
    {
     "data": {
      "text/plain": [
       "'<html xmlns=\"http://www.w3.org/1999/xhtml\"><head><title>\\n\\t\\n\\tРезультаты поиска по запросу: «Python»\\n\\n</title><meta http-equiv=\"Content-Type\" content=\"application/xhtml+xml; charset=utf-8\"><meta name=\"description\"><meta name=\"keywords\"><meta name=\"robots\">\\n\\t<link rel=\"stylesheet\" type=\"text/css\" href=\"/search/Content/Site.css?v=77\" media=\"screen\">\\n    <link rel=\"stylesheet\" type=\"text/css\" href=\"/search/Content/jquery-ui-1.8.16.custom.css\" media=\"screen\">\\n    <link rel=\"stylesheet\" href=\"https://use.fontawesome.com/releases/v5.7.0/css/all.css\" integrity=\"sha384-lZN37f5QGtY3VHgisS14W3ExzMWZxybE1SJSEsQp9S+oqd12jhcu+A56Ebc1zFSJ\" crossorigin=\"anonymous\">\\n    <link rel=\"stylesheet\" type=\"text/css\" href=\"/search/Content/eventCalendar_theme_responsive.css\" media=\"screen\">\\n    <link rel=\"stylesheet\" type=\"text/css\" href=\"/search/Content/eventCalendar.css\" media=\"screen\">\\n    <link rel=\"stylesheet\" href=\"/search/Content/owl/assets/owl.carousel.css\">\\n    <link rel=\"stylesheet\" href=\"/search/Content/owl/assets/owl.theme.default.css\">\\n\\n    <link rel=\"stylesheet\" type=\"text/css\" href=\"/search/Content/jstree.css\" media=\"screen\">\\n    \\n    <script async=\"\" src=\"https://buttons-config.sharethis.com/js/5bfbed37a0286b00115a8f0d.js\"></script><script src=\"https://code.jquery.com/jquery-1.11.2.min.js\" type=\"text/javascript\"></script>\\n    <script src=\"/search/Scripts/jquery-ui-1.8.16.custom.min.js\" type=\"text/javascript\"></script> \\n    <script src=\"/search/Scripts/jquery.eventCalendar.min.js\" type=\"text/javascript\"></script>\\n\\t<script src=\"//platform-api.sharethis.com/js/sharethis.js#property=5bfbed37a0286b00115a8f0d&amp;product=inline-follow-buttons\"></script>\\n    \\n    <script src=\"/search/Scripts/jstree.js\" type=\"text/javascript\"></script> \\n    \\n\\n\\n    <!-- Include js plugin -->\\n    <script src=\"/search/Content/owl/owl.carousel.js\"></script>\\n\\n    <script type=\"text/javascript\">\\n        $(document).ready(function () {\\n\\n\\n            $(\"#html_1\").jstree().bind(\"select_node.jstree\", function (e, data) {\\n                data.instance.toggle_node(data.node);\\n                var href = data.node.a_attr.href;\\n                document.location.href = href;\\n            });\\n\\n            $(\"#html_2\").jstree().bind(\"select_node.jstree\", function (e, data) {\\n                data.instance.toggle_node(data.node);\\n                var href = data.node.a_attr.href;\\n                document.location.href = href;\\n            });\\n\\n            $(\"#html_3\").jstree().bind(\"select_node.jstree\", function (e, data) {\\n                data.instance.toggle_node(data.node);\\n                var href = data.node.a_attr.href;\\n                document.location.href = href;\\n            });\\n\\n            $(\"#html_4\").jstree().bind(\"select_node.jstree\", function (e, data) {\\n                data.instance.toggle_node(data.node);\\n                var href = data.node.a_attr.href;\\n                document.location.href = href;\\n            });\\n\\n            $(\"#html_5\").jstree().bind(\"select_node.jstree\", function (e, data) {\\n                data.instance.toggle_node(data.node);\\n                var href = data.node.a_attr.href;\\n                document.location.href = href;\\n            });\\n\\n\\n            $(\"#html_6\").jstree().bind(\"select_node.jstree\", function (e, data) {\\n                data.instance.toggle_node(data.node);\\n                var href = data.node.a_attr.href;\\n                document.location.href = href;\\n            });\\n\\n            $(\"#html_7\").jstree().bind(\"select_node.jstree\", function (e, data) {\\n                data.instance.toggle_node(data.node);\\n                var href = data.node.a_attr.href;\\n                document.location.href = href;\\n            });\\n\\n            $(\"#html_8\").jstree().bind(\"select_node.jstree\", function (e, data) {\\n                data.instance.toggle_node(data.node);\\n                var href = data.node.a_attr.href;\\n                document.location.href = href;\\n            });\\n\\n            $(\"#html_9\").jstree().bind(\"select_node.jstree\", function (e, data) {\\n                data.instance.toggle_node(data.node);\\n                var href = data.node.a_attr.href;\\n                document.location.href = href;\\n            });\\n\\n            $(\"#html_10\").jstree().bind(\"select_node.jstree\", function (e, data) {\\n                data.instance.toggle_node(data.node);\\n                var href = data.node.a_attr.href;\\n                document.location.href = href;\\n            });\\n\\n            $(\"#html_11\").jstree().bind(\"select_node.jstree\", function (e, data) {\\n                data.instance.toggle_node(data.node);\\n                var href = data.node.a_attr.href;\\n                document.location.href = href;\\n            });\\n        \\n            $(\"#owl-example\").owlCarousel({\\n                items: 1,\\n                thumbs: true,\\n                nav: false,\\n                dots: false,\\n                loop: true,\\n                autoplay: true,\\n                thumbsPrerendered: true\\n            });\\n\\n            $(\"#events\").on(\\'click\\', \\'.switch_btn\\', function () {\\n                var currentId = this.id.replace(\"event_\", \"\");\\n                var full_desrc = \\'#full_description_\\' + currentId;\\n                var desrc = \\'#description_\\' + currentId;\\n                $(full_desrc).slideToggle(\"slow\");\\n                //$(desrc).slideToggle(\"slow\");\\n                var btn_text_id = \\'#event_\\' + currentId;\\n                var btn_text = $(btn_text_id).html();\\n                if (btn_text == \\'<div class=\"event_less\">Свернуть</div>\\') {\\n                    $(btn_text_id).html(\\'<div class=\"event_more\">Подробнее</div>\\');\\n                }\\n                else {\\n                    $(btn_text_id).html(\\'<div class=\"event_less\">Свернуть</div>\\');\\n                }\\n            });\\n        });\\n    </script>\\n    \\n    <style>\\n        .ui-autocomplete-loading {\\n            background: white url(\"images/ui-anim_basic_16x16.gif\") right center no-repeat;\\n        }\\n    </style>\\n\\n<!--\\n  <script type=\"text/javascript\">\\n      $(function () {\\n          $(\"#search_field\").autocomplete({\\n              source: function (request, response) {\\n                  $.ajax({\\n                      url: \"/search/Catalog/GetSearchString\",\\n                      type: \"POST\",\\n                      dataType: \"json\",\\n                      data: {query: request.term, maxResult: 10},\\n \\t                  success: function (data) {\\n \\t                        response($.map(data, function (item) {\\n \\t                            return { label: item.Value, value: item.Value, id: item.TypeId }\\n \\t                        }))\\n \\t                  }\\n                  });\\n              },\\n              minLength: 3,\\n              select: function( event, ui ) {\\n                if(ui.item)\\n                {\\n                    window.location = \\'http://www.biblio-globus.ru/service/catalog/products?query=\\' + encodeURIComponent(ui.item.value) + \\'&page=1\\';\\n                }\\n              }\\n          });\\n      });\\n  </script>\\n -->\\n \\n</head>\\n\\n<body>\\n<table class=\"wrapper\">\\n<tbody><tr>\\n    <td class=\"left_column\"><div align=\"center\"><a href=\"http://www.biblio-globus.ru/\" id=\"logo\">\\n    <img src=\"/search/Content/Images/logo.jpg\" alt=\"\"></a></div>\\n        <div class=\"column_top_wrapper\">\\n            <div class=\"column_top\"></div>\\n        </div>\\n    </td>\\n    <td class=\"top_bg\">\\n        <div id=\"header_photo\">\\n        \\n        </div>\\n        <div class=\"top_nav\">\\n            <table width=\"100%\">\\n                <tbody><tr>\\n\\t\\t\\t\\t<td><a href=\"http://www.biblio-globus.ru/content.aspx?page_id=40\" id=\"shops_button\"></a></td>\\n                    <td><a href=\"http://www.bgshop.ru/\" target=\"_blank\" id=\"ecommerce_button\"></a></td>\\n                    <!-- <td><a href=\"http://www.biblio-globus.ru/content.aspx?page_id=5\" id=\"departments_button\"></a></td> \\n\\t\\t\\t\\t\\t<td><a href=\"http://digest.biblio-globus.ru/\" id=\"digest_button\"></a></td>-->\\n                    \\n                    <td><a href=\"http://www.biblio-globus.ru/content.aspx?page_id=14\" id=\"vendors_button\"></a></td>\\n                    <!-- <td><a href=\"http://www.biblio-globus.ru/content.aspx?page_id=306\" id=\"services_button\"></a></td> -->\\n                    <td><a href=\"http://www.biblio-globus.ru/content.aspx?page_id=15\" id=\"company_button\"></a></td>\\n                </tr>\\n            </tbody></table>\\n        </div>\\n    </td>\\n</tr>\\n<tr>\\n\\n\\n    <td class=\"left_column\" valign=\"top\">\\n\\n \\n\\n    <table width=\"100%\" border=\"0\" cellspacing=\"0\" cellpadding=\"0\" id=\"Table2\">\\n  <tbody><tr>\\n    <td valign=\"top\" align=\"center\" width=\"18%\">\\n\\n<br></td></tr>\\n  <tr>\\n    <td valign=\"top\" align=\"center\" width=\"18%\">\\n      \\n<div class=\"left_nav_divider\"></div>\\n          \\n          </td></tr>\\n\\t\\t\\t<tr>\\n\\t\\t\\t\\t<td width=\"18%\" align=\"center\" valign=\"top\"><img src=\"http://www.biblio-globus.ru/img/1px.gif\" width=\"195\" height=\"1\"><br>\\n\\n<table width=\"80%\" border=\"0\" cellspacing=\"3\" cellpadding=\"3\" id=\"Table3\">\\n<tbody>\\t\\t\\n\\n\\t\\t<tr>\\n\\t\\t<td colspan=\"3\" class=\"zag1\" style=\"color:#3a83bf;\">ИНФОРМАЦИЯ</td></tr>\\n\\t\\t<tr align=\"left\">\\n\\t\\t<td width=\"5%\"><img alt=\"\" src=\"http://www.biblio-globus.ru/img/strl.gif\" width=\"5\" height=\"5\"></td>\\n\\t\\t<td><a class=\"menu\" href=\"http://www.biblio-globus.ru/content.aspx?page_id=527\">Литературная афиша</a></td></tr>\\n\\t\\t<tr align=\"left\">\\n\\t\\t<td width=\"5%\"><img alt=\"\" src=\"http://www.biblio-globus.ru/img/strl.gif\" width=\"5\" height=\"5\"></td>\\n\\t\\t<td><a class=\"menu\" href=\"http://www.biblio-globus.ru/content.aspx?page_id=214\">Литературная гостиная им. И.Д. Сытина (клубные встречи)</a></td></tr>\\n\\t\\t\\n\\t\\t<tr align=\"left\">\\n\\t\\t<td width=\"5%\"><img alt=\"\" src=\"http://www.biblio-globus.ru/img/strl.gif\" width=\"5\" height=\"5\"></td>\\n\\t\\t<td><a class=\"menu\" href=\"http://www.biblio-globus.ru/content.aspx?page_id=491\">Книжная летопись Великой Отечественной войны</a> <sup style=\"color:red\">new</sup> \\n\\t\\t</td></tr>\\n\\t\\t<tr align=\"left\">\\n\\t\\t<td width=\"5%\"><img alt=\"\" src=\"http://www.biblio-globus.ru/img/strl.gif\" width=\"5\" height=\"5\"></td>\\n\\t\\t<td><a class=\"menu\" href=\"http://www.biblio-globus.ru/content.aspx?page_id=29\">Библио-новости</a></td></tr>\\n\\t\\t<tr align=\"left\">\\n\\t\\t<td width=\"5%\"><img alt=\"\" src=\"http://www.biblio-globus.ru/img/strl.gif\" width=\"5\" height=\"5\"></td>\\n\\t\\t<td><a class=\"menu\" href=\"http://www.biblio-globus.ru/content.aspx?page_id=513\">Наши гости о нас</a></td></tr>\\n\\t\\t<tr align=\"left\">\\n\\t\\t<td width=\"5%\"><img alt=\"\" src=\"http://www.biblio-globus.ru/img/strl.gif\" width=\"5\" height=\"5\"></td>\\n\\t\\t<td><a class=\"menu\" href=\"http://www.biblio-globus.ru/content.aspx?page_id=528\">Активация клубной (дисконтной) карты</a> <sup style=\"color:red\">new</sup></td></tr>\\n\\t\\t<tr align=\"left\">\\n\\t\\t<td width=\"5%\"><img alt=\"\" src=\"http://www.biblio-globus.ru/img/strl.gif\" width=\"5\" height=\"5\"></td>\\n\\t\\t<td><a class=\"menu\" href=\"http://www.biblio-globus.ru/content.aspx?page_id=104\">Подарочная карта</a></td></tr>\\n\\t\\t<tr align=\"left\">\\n\\t\\t<td width=\"5%\"><img alt=\"\" src=\"http://www.biblio-globus.ru/img/strl.gif\" width=\"5\" height=\"5\"></td>\\n\\t\\t<td><a class=\"menu\" href=\"http://www.biblio-globus.ru/content.aspx?page_id=46\">Личный кабинет</a></td></tr>\\n\\t\\t<tr align=\"left\">\\n\\t\\t<td width=\"5%\"><img alt=\"\" src=\"http://www.biblio-globus.ru/img/strl.gif\" width=\"5\" height=\"5\"></td>\\n\\t\\t<td><a class=\"menu\" href=\"http://service.biblio-globus.ru/librariancabinet/\" target=\"_blank\">Кабинет юридического лица</a></td></tr>\\n\\t\\t<tr align=\"left\">\\n\\t\\t<td width=\"5%\"><img alt=\"\" src=\"http://www.biblio-globus.ru/img/strl.gif\" width=\"5\" height=\"5\"></td>\\n\\t\\t<td><a class=\"menu\" href=\"http://www.biblio-globus.ru/content.aspx?page_id=31\">Персональное и корпоративное обслуживание</a></td></tr>\\n</tbody>\\n</table>\\n\\t\\t\\t\\t\\t\\n<table width=\"100%\" border=\"0\" cellspacing=\"0\" cellpadding=\"0\" id=\"Table4\">\\n<tbody>\\n\\n<tr align=\"center\">\\n<td>\\n<div class=\"left_nav_divider\"></div>\\n</td>\\n</tr>\\n\\n\\n\\n\\n\\n\\n\\t\\t\\t\\t\\t\\t<tr align=\"center\">\\n\\t\\t<td>\\n\\t\\t\\n\\t\\t\\n\\t\\t\\n\\t\\t\\n\\t\\t\\n\\t\\t\\n\\t\\t<div align=\"left\" style=\"width:170px; margin-left:10px; margin-top:40px;\">\\n\\t\\t<div style=\"width:170px; padding:0; font-family:Tahoma; font-size:11px; text-align:left; height:24px; margin-left:0px; margin-right:0; margin-top:0; margin-bottom:20px\"><img alt=\"\" src=\"http://www.biblio-globus.ru/images/social/social_title.jpg\"></div>\\n\\t\\t\\n\\t\\t<img style=\"vertical-align:middle; margin:0 10px 0 0;\" src=\"http://www.biblio-globus.ru/images/_today/vk_bgbg.jpg\" alt=\"Библио Глобус\" border=\"0\"><a href=\"http://vk.com/biblioglobus_msk\" target=\"_blank\" class=\"social_vkontakte\"> \\n\\t\\tмы в Вконтакте</a>\\t\\n\\t\\t<a href=\"http://www.facebook.com/biblio.globus/\" target=\"_blank\" class=\"social_facebook\"> \\n\\t\\tмы в Facebook</a>\\t\\t\\n\\t\\t<a href=\"http://twitter.com/Biblio_Globus/\" target=\"_blank\" class=\"social_twitter\"> \\n\\t\\tмы в Twitter</a>\\n\\t\\t\\n<a href=\"https://instagram.com/biblio.globus/\" target=\"_blank\" class=\"social_inst\"> \\n\\t\\tмы в Instagram</a>\\n\\n<a href=\"https://ok.ru/group/55673286951161\" target=\"_blank\" class=\"social_ok\">мы в Одноклассниках</a>\\n\\n       \\n\\t\\t<a href=\"http://www.youtube.com/user/BiblioGlobusStore/\" target=\"_blank\" class=\"social_you\"> \\n\\t\\tмы в YouTube</a>\\n\\n\\n\\n\\t\\t</div>\\t\\n\\t\\t\\n\\t\\t\\n\\t\\t<br><br><a href=\"http://www.biblio-globus.ru/content.aspx?page_id=328\" style=\"width:170px; text-align:left; height:24px;  margin-top:30px;\"><img src=\"http://www.biblio-globus.ru/images/nashi_nagr.jpg\" alt=\"\" border=\"0\"></a>\\n\\t\\t\\n\\t\\t\\n\\t\\t<div style=\"width:170px; padding:0; margin:15px 0 20px 0px; font-family:Tahoma; font-size:11px; text-align:left;\">\\n\\t\\t  <img style=\"border:2px solid #ccc; margin-bottom:3px;\" src=\"http://www.biblio-globus.ru/images/1_16042010.jpg\" alt=\"\"><br>\\n\\t\\t  <b>Благодарность Президента РФ</b> за большой вклад в развитие \\n\\t\\t\\tотечественной книжной торговли и активную культурно-просветительскую \\n\\t\\t\\tдеятельность.\\n\\t\\t</div>\\t\\n\\t\\t\\n\\t\\t<div style=\"width:174px; padding:0; font-family:Tahoma; font-size:11px; text-align:left; height:316px; margin-left:0px; margin-right:0; margin-top:0; margin-bottom:20px\">\\n\\t\\t  <img style=\"border:2px solid #ccc; margin-bottom:3px;\" src=\"http://www.biblio-globus.ru/images/_today/Record28122011.jpg\" alt=\"\"><br>\\n          Внесен в Российскую <b>«Книгу рекордов и достижений»</b> в номинации \\n\\t\\t\\t«Самое большое количество издательской продукции, проданное в \\n\\t\\t\\tрозницу за один день»<br><br>\\n\\t\\t\\t<a href=\"http://www.biblio-globus.ru/content.aspx?page_id=328\">Посмотреть все награды &gt;&gt;</a>\\n        </div>\\n\\t\\t</td>\\n\\t\\t</tr></tbody></table><br>\\n\\t\\t\\t\\t</td>\\n\\t\\t\\t</tr></tbody></table>\\n    \\n  \\n    <div class=\"decor2_wrapper\">\\n        <div class=\"decor2\"></div>\\n    </div>\\n\\n    </td>\\n    <td class=\"column_right\" valign=\"top\">\\n        <div class=\"content\">\\n            \\n\\n<div id=\"main_wrapper\">\\n    <!-- Поиск по сайту -->\\n<div class=\"header_1\">Поиск в книжном магазине «Библио-Глобус»</div>\\n\\n<form action=\"/search/Catalog/Products\" name=\"\" method=\"post\">\\n    <table cellpadding=\"0\" cellspacing=\"0\" width=\"100%\">\\n        <tbody><tr>\\n            <td><input type=\"text\" name=\"query\" id=\"search_field\" value=\"Python\"></td>\\n            <td align=\"right\" width=\"63\"><input type=\"submit\" id=\"search_button\" value=\"\"></td>\\n        </tr>\\n    </tbody></table>\\n</form>\\n\\n    <div class=\"header_1_2\">Результаты поиска</div>\\n    <div class=\"info\">Вы искали: «<b>Python</b>»<br> \\n    Найдено наименований: <b>113</b></div>\\n\\n    <table cellpadding=\"0\" cellspacing=\"0\" width=\"100%\">\\n        \\n        <tbody><tr>\\n        <td width=\"100\" valign=\"top\">\\n        <div class=\"type\">Книга</div>\\n            <a href=\"/search/catalog/details/10720510\" class=\"preview_image\">\\n                \\n                    <div class=\"new\">Новинка</div>\\n                \\n\\n                <img src=\"http://static.biblio-globus.ru/images/ImageHandler.ashx?fileName=10720510.jpg&amp;width=80\" alt=\"\">\\n            </a>\\n        </td>\\n        <td valign=\"top\">\\n            <div class=\"details_1\">\\n                <div class=\"author\">В. А. Дронов</div>\\n                <a href=\"/search/catalog/details/10720510\" class=\"name\">Для веб-программистов. Django 3.0. Практика создания веб-сайтов на Python</a>\\n                   \\n                \\n                    <div class=\"title_data green\">\\n                        В наличии\\n                    </div>\\n                \\n                    <div class=\"placement\"><b>Расположение в торговом зале:</b> <br>Уровень 1, зал № 07, секция 08, шкаф 76, полка 02</div>\\n                \\n                <div class=\"title_data price\">Цена: <span>1459,00</span> руб.</div>\\n\\t\\t\\n\\n            </div>\\n        </td>\\n        <td valign=\"top\" width=\"270\">\\n        \\n            <a class=\"place\" target=\"_blank\" href=\"http://www.biblio-globus.ru/content.aspx?page_id=103\">Посмотреть место в зале</a>\\n        \\n            <a class=\"im\" target=\"_blank\" href=\"https://www.bgshop.ru/catalog/getfulldescription?id=10720510\">Заказать в интернет-магазине</a>\\n        \\n        </td>\\n        </tr>\\n        <tr>\\n            <td colspan=\"3\">\\n                <div class=\"divider\"></div>\\n            </td>\\n        </tr>\\n        \\n        <tr>\\n        <td width=\"100\" valign=\"top\">\\n        <div class=\"type\">Книга</div>\\n            <a href=\"/search/catalog/details/10548788\" class=\"preview_image\">\\n                \\n                    <div class=\"bestseller\">Лидер продаж</div>\\n                \\n\\n                <img src=\"http://static.biblio-globus.ru/images/ImageHandler.ashx?fileName=10548788.jpg&amp;width=80\" alt=\"\">\\n            </a>\\n        </td>\\n        <td valign=\"top\">\\n            <div class=\"details_1\">\\n                <div class=\"author\">М. Лутц</div>\\n                <a href=\"/search/catalog/details/10548788\" class=\"name\">Python : Карманный справочник</a>\\n                   \\n                \\n                    <div class=\"title_data green\">\\n                        В наличии\\n                    </div>\\n                \\n                    <div class=\"placement\"><b>Расположение в торговом зале:</b> <br>Уровень 1, зал № 07, секция 08, шкаф 76, полка 05</div>\\n                \\n                <div class=\"title_data price\">Цена: <span>689,00</span> руб.</div>\\n\\t\\t\\n\\n            </div>\\n        </td>\\n        <td valign=\"top\" width=\"270\">\\n        \\n            <a class=\"place\" target=\"_blank\" href=\"http://www.biblio-globus.ru/content.aspx?page_id=103\">Посмотреть место в зале</a>\\n        \\n            <a class=\"im\" target=\"_blank\" href=\"https://www.bgshop.ru/catalog/getfulldescription?id=10548788\">Заказать в интернет-магазине</a>\\n        \\n        </td>\\n        </tr>\\n        <tr>\\n            <td colspan=\"3\">\\n                <div class=\"divider\"></div>\\n            </td>\\n        </tr>\\n        \\n        <tr>\\n        <td width=\"100\" valign=\"top\">\\n        <div class=\"type\">Книга</div>\\n            <a href=\"/search/catalog/details/10569801\" class=\"preview_image\">\\n                \\n                    <div class=\"bestseller\">Лидер продаж</div>\\n                \\n\\n                <img src=\"http://static.biblio-globus.ru/images/ImageHandler.ashx?fileName=10569801.jpg&amp;width=80\" alt=\"\">\\n            </a>\\n        </td>\\n        <td valign=\"top\">\\n            <div class=\"details_1\">\\n                <div class=\"author\">М. Доусон</div>\\n                <a href=\"/search/catalog/details/10569801\" class=\"name\">Программируем на Python</a>\\n                   \\n                \\n                    <div class=\"title_data green\">\\n                        В наличии\\n                    </div>\\n                \\n                    <div class=\"placement\"><b>Расположение в торговом зале:</b> <br>Уровень 1, зал № 07, секция 08, шкаф 76, полка 04</div>\\n                \\n                <div class=\"title_data price\">Цена: <span>1309,00</span> руб.</div>\\n\\t\\t\\n\\n            </div>\\n        </td>\\n        <td valign=\"top\" width=\"270\">\\n        \\n            <a class=\"place\" target=\"_blank\" href=\"http://www.biblio-globus.ru/content.aspx?page_id=103\">Посмотреть место в зале</a>\\n        \\n            <a class=\"im\" target=\"_blank\" href=\"https://www.bgshop.ru/catalog/getfulldescription?id=10569801\">Заказать в интернет-магазине</a>\\n        \\n        </td>\\n        </tr>\\n        <tr>\\n            <td colspan=\"3\">\\n                <div class=\"divider\"></div>\\n            </td>\\n        </tr>\\n        \\n        <tr>\\n        <td width=\"100\" valign=\"top\">\\n        <div class=\"type\">Книга</div>\\n            <a href=\"/search/catalog/details/10713630\" class=\"preview_image\">\\n                \\n                    <div class=\"bestseller\">Лидер продаж</div>\\n                \\n\\n                <img src=\"http://static.biblio-globus.ru/images/ImageHandler.ashx?fileName=10713630.jpg&amp;width=80\" alt=\"\">\\n            </a>\\n        </td>\\n        <td valign=\"top\">\\n            <div class=\"details_1\">\\n                <div class=\"author\">Мюллер , Массарон Дж. П. , Л.</div>\\n                <a href=\"/search/catalog/details/10713630\" class=\"name\">Python и наука о данных для чайников, 2-е издание</a>\\n                   \\n                \\n                    <div class=\"title_data green\">\\n                        В наличии\\n                    </div>\\n                \\n                    <div class=\"placement\"><b>Расположение в торговом зале:</b> <br>Уровень 1, зал № 07, секция 08, шкаф 76, полка 04</div>\\n                \\n                <div class=\"title_data price\">Цена: <span>1369,00</span> руб.</div>\\n\\t\\t\\n\\n            </div>\\n        </td>\\n        <td valign=\"top\" width=\"270\">\\n        \\n            <a class=\"place\" target=\"_blank\" href=\"http://www.biblio-globus.ru/content.aspx?page_id=103\">Посмотреть место в зале</a>\\n        \\n            <a class=\"im\" target=\"_blank\" href=\"https://www.bgshop.ru/catalog/getfulldescription?id=10713630\">Заказать в интернет-магазине</a>\\n        \\n        </td>\\n        </tr>\\n        <tr>\\n            <td colspan=\"3\">\\n                <div class=\"divider\"></div>\\n            </td>\\n        </tr>\\n        \\n        <tr>\\n        <td width=\"100\" valign=\"top\">\\n        <div class=\"type\">Книга</div>\\n            <a href=\"/search/catalog/details/10655159\" class=\"preview_image\">\\n                \\n                    <div class=\"bestseller\">Лидер продаж</div>\\n                \\n\\n                <img src=\"http://static.biblio-globus.ru/images/ImageHandler.ashx?fileName=10655159.jpg&amp;width=80\" alt=\"\">\\n            </a>\\n        </td>\\n        <td valign=\"top\">\\n            <div class=\"details_1\">\\n                <div class=\"author\">Э.  Фримен</div>\\n                <a href=\"/search/catalog/details/10655159\" class=\"name\">Учимся программировать с примерами на Python</a>\\n                   \\n                \\n                    <div class=\"title_data green\">\\n                        В наличии\\n                    </div>\\n                \\n                    <div class=\"placement\"><b>Расположение в торговом зале:</b> <br>Уровень 1, зал № 07, секция 08, шкаф 76, полка 05</div>\\n                \\n                <div class=\"title_data price\">Цена: <span>1709,00</span> руб.</div>\\n\\t\\t\\n\\n            </div>\\n        </td>\\n        <td valign=\"top\" width=\"270\">\\n        \\n            <a class=\"place\" target=\"_blank\" href=\"http://www.biblio-globus.ru/content.aspx?page_id=103\">Посмотреть место в зале</a>\\n        \\n            <a class=\"im\" target=\"_blank\" href=\"https://www.bgshop.ru/catalog/getfulldescription?id=10655159\">Заказать в интернет-магазине</a>\\n        \\n        </td>\\n        </tr>\\n        <tr>\\n            <td colspan=\"3\">\\n                <div class=\"divider\"></div>\\n            </td>\\n        </tr>\\n        \\n        <tr>\\n        <td width=\"100\" valign=\"top\">\\n        <div class=\"type\">Книга</div>\\n            <a href=\"/search/catalog/details/10508455\" class=\"preview_image\">\\n                \\n                    <div class=\"bestseller\">Лидер продаж</div>\\n                \\n\\n                <img src=\"http://static.biblio-globus.ru/images/ImageHandler.ashx?fileName=10508455.jpg&amp;width=80\" alt=\"\">\\n            </a>\\n        </td>\\n        <td valign=\"top\">\\n            <div class=\"details_1\">\\n                <div class=\"author\">Б. Любанович</div>\\n                <a href=\"/search/catalog/details/10508455\" class=\"name\">Простой Python. Современный стиль программирования</a>\\n                   \\n                \\n                    <div class=\"title_data green\">\\n                        В наличии\\n                    </div>\\n                \\n                    <div class=\"placement\"><b>Расположение в торговом зале:</b> <br>Уровень 1, зал № 07, секция 08, шкаф 76, полка 03</div>\\n                \\n                <div class=\"title_data price\">Цена: <span>1579,00</span> руб.</div>\\n\\t\\t\\n\\n            </div>\\n        </td>\\n        <td valign=\"top\" width=\"270\">\\n        \\n            <a class=\"place\" target=\"_blank\" href=\"http://www.biblio-globus.ru/content.aspx?page_id=103\">Посмотреть место в зале</a>\\n        \\n            <a class=\"im\" target=\"_blank\" href=\"https://www.bgshop.ru/catalog/getfulldescription?id=10508455\">Заказать в интернет-магазине</a>\\n        \\n        </td>\\n        </tr>\\n        <tr>\\n            <td colspan=\"3\">\\n                <div class=\"divider\"></div>\\n            </td>\\n        </tr>\\n        \\n        <tr>\\n        <td width=\"100\" valign=\"top\">\\n        <div class=\"type\">Книга</div>\\n            <a href=\"/search/catalog/details/10655163\" class=\"preview_image\">\\n                \\n                    <div class=\"bestseller\">Лидер продаж</div>\\n                \\n\\n                <img src=\"http://static.biblio-globus.ru/images/ImageHandler.ashx?fileName=10655163.jpg&amp;width=80\" alt=\"\">\\n            </a>\\n        </td>\\n        <td valign=\"top\">\\n            <div class=\"details_1\">\\n                <div class=\"author\">М. Харрисон</div>\\n                <a href=\"/search/catalog/details/10655163\" class=\"name\">Машинное обучение: карманный справочник. Краткое руководство по методам структурированного машинного обучения на Python</a>\\n                   \\n                \\n                    <div class=\"title_data green\">\\n                        В наличии\\n                    </div>\\n                \\n                    <div class=\"placement\"><b>Расположение в торговом зале:</b> <br>Уровень 1, зал № 07, секция 08, шкаф 85, полка 05</div>\\n                \\n                <div class=\"title_data price\">Цена: <span>919,00</span> руб.</div>\\n\\t\\t\\n\\n            </div>\\n        </td>\\n        <td valign=\"top\" width=\"270\">\\n        \\n            <a class=\"place\" target=\"_blank\" href=\"http://www.biblio-globus.ru/content.aspx?page_id=103\">Посмотреть место в зале</a>\\n        \\n            <a class=\"im\" target=\"_blank\" href=\"https://www.bgshop.ru/catalog/getfulldescription?id=10655163\">Заказать в интернет-магазине</a>\\n        \\n        </td>\\n        </tr>\\n        <tr>\\n            <td colspan=\"3\">\\n                <div class=\"divider\"></div>\\n            </td>\\n        </tr>\\n        \\n        <tr>\\n        <td width=\"100\" valign=\"top\">\\n        <div class=\"type\">Книга</div>\\n            <a href=\"/search/catalog/details/10590845\" class=\"preview_image\">\\n                \\n                    <div class=\"bestseller\">Лидер продаж</div>\\n                \\n\\n                <img src=\"http://static.biblio-globus.ru/images/ImageHandler.ashx?fileName=10590845.jpg&amp;width=80\" alt=\"\">\\n            </a>\\n        </td>\\n        <td valign=\"top\">\\n            <div class=\"details_1\">\\n                <div class=\"author\">К. Элбон</div>\\n                <a href=\"/search/catalog/details/10590845\" class=\"name\">Машинное обучение с использованием Python. Сборник рецептов</a>\\n                   \\n                \\n                    <div class=\"title_data green\">\\n                        В наличии\\n                    </div>\\n                \\n                    <div class=\"placement\"><b>Расположение в торговом зале:</b> <br>Уровень 1, зал № 07, секция 08, шкаф 85, полка 05</div>\\n                \\n                <div class=\"title_data price\">Цена: <span>979,00</span> руб.</div>\\n\\t\\t\\n\\n            </div>\\n        </td>\\n        <td valign=\"top\" width=\"270\">\\n        \\n            <a class=\"place\" target=\"_blank\" href=\"http://www.biblio-globus.ru/content.aspx?page_id=103\">Посмотреть место в зале</a>\\n        \\n            <a class=\"im\" target=\"_blank\" href=\"https://www.bgshop.ru/catalog/getfulldescription?id=10590845\">Заказать в интернет-магазине</a>\\n        \\n        </td>\\n        </tr>\\n        <tr>\\n            <td colspan=\"3\">\\n                <div class=\"divider\"></div>\\n            </td>\\n        </tr>\\n        \\n        <tr>\\n        <td width=\"100\" valign=\"top\">\\n        <div class=\"type\">Книга</div>\\n            <a href=\"/search/catalog/details/10577094\" class=\"preview_image\">\\n                \\n                    <div class=\"bestseller\">Лидер продаж</div>\\n                \\n\\n                <img src=\"http://static.biblio-globus.ru/images/ImageHandler.ashx?fileName=10577094.jpg&amp;width=80\" alt=\"\">\\n            </a>\\n        </td>\\n        <td valign=\"top\">\\n            <div class=\"details_1\">\\n                <div class=\"author\">Дж. Мюллер</div>\\n                <a href=\"/search/catalog/details/10577094\" class=\"name\">Python для чайников</a>\\n                   \\n                \\n                    <div class=\"title_data green\">\\n                        В наличии\\n                    </div>\\n                \\n                    <div class=\"placement\"><b>Расположение в торговом зале:</b> <br>Уровень 1, зал № 07, секция 08, шкаф 76, полка 04</div>\\n                \\n                <div class=\"title_data price\">Цена: <span>919,00</span> руб.</div>\\n\\t\\t\\n\\n            </div>\\n        </td>\\n        <td valign=\"top\" width=\"270\">\\n        \\n            <a class=\"place\" target=\"_blank\" href=\"http://www.biblio-globus.ru/content.aspx?page_id=103\">Посмотреть место в зале</a>\\n        \\n            <a class=\"im\" target=\"_blank\" href=\"https://www.bgshop.ru/catalog/getfulldescription?id=10577094\">Заказать в интернет-магазине</a>\\n        \\n        </td>\\n        </tr>\\n        <tr>\\n            <td colspan=\"3\">\\n                <div class=\"divider\"></div>\\n            </td>\\n        </tr>\\n        \\n        <tr>\\n        <td width=\"100\" valign=\"top\">\\n        <div class=\"type\">Книга</div>\\n            <a href=\"/search/catalog/details/10532193\" class=\"preview_image\">\\n                \\n                    <div class=\"bestseller\">Лидер продаж</div>\\n                \\n\\n                <img src=\"http://static.biblio-globus.ru/images/ImageHandler.ashx?fileName=10532193.jpg&amp;width=80\" alt=\"\">\\n            </a>\\n        </td>\\n        <td valign=\"top\">\\n            <div class=\"details_1\">\\n                <div class=\"author\">Н. Седер</div>\\n                <a href=\"/search/catalog/details/10532193\" class=\"name\">Python. Экспресс-курс</a>\\n                   \\n                \\n                    <div class=\"title_data green\">\\n                        В наличии\\n                    </div>\\n                \\n                    <div class=\"placement\"><b>Расположение в торговом зале:</b> <br>Уровень 1, зал № 07, секция 08, шкаф 76, полка 04</div>\\n                \\n                <div class=\"title_data price\">Цена: <span>1259,00</span> руб.</div>\\n\\t\\t\\n\\n            </div>\\n        </td>\\n        <td valign=\"top\" width=\"270\">\\n        \\n            <a class=\"place\" target=\"_blank\" href=\"http://www.biblio-globus.ru/content.aspx?page_id=103\">Посмотреть место в зале</a>\\n        \\n            <a class=\"im\" target=\"_blank\" href=\"https://www.bgshop.ru/catalog/getfulldescription?id=10532193\">Заказать в интернет-магазине</a>\\n        \\n        </td>\\n        </tr>\\n        <tr>\\n            <td colspan=\"3\">\\n                <div class=\"divider\"></div>\\n            </td>\\n        </tr>\\n        \\n        </tbody></table>\\n        <ul class=\"pagination\"><div class=\"current_page\">1<span class=\"left_corner\"></span></div><a class=\"page\" href=\"products?query=Python&amp;page=2\">2<span class=\"left_corner\"></span></a><a class=\"page\" href=\"products?query=Python&amp;page=3\">3<span class=\"left_corner\"></span></a><a class=\"next_page\" href=\"products?query=Python&amp;page=2\">Следующая</a><a class=\"next_page\" href=\"products?query=Python&amp;page=12\">Последняя</a> </ul>\\n        \\n    </div>\\n\\n            <div class=\"clearer\"></div>\\n        </div>\\n    </td>\\n</tr>\\n<tr>\\n    <!-- footer -->\\n    \\n    <td colspan=\"2\">\\n        <table class=\"footer\">\\n            <tbody><tr>\\n                <td width=\"217\" valign=\"top\">\\n&nbsp;\\n                </td>\\n                <td valign=\"top\">\\n                    <div class=\"footer_part_1\">\\n                        2020 OOO Торговый Дом «БИБЛИО-ГЛОБУС»\\n                        <br><br>\\n                        телефон: (495) 781-1900<br>\\n                        e-mail: <a href=\"mailto:web.logist@bgshop.ru\">mail@biblio-globus.ru</a>\\n                        <br><br>\\n                        Адрес: Мясницкая ул., д. 6/3, стр. 1.<br>\\n                        Проезд до станций метро: \"Лубянка\",<br>\\n                        \"Кузнецкий мост\", \"Китай-город\".\\n                        <br><br>\\n                        <!-- <a href=\"http://www.biblio-globus.ru/content.aspx?page_id=40\">карта проезда</a> -->\\n                        \\n                    </div>\\n                </td>\\n                <td valign=\"top\">\\n                    <div class=\"footer_part_2\">\\n                        Часы работы:\\n                        <br><br>\\n                        Будни: 9.00 - 21.00<br>\\n                        Выходные: 10.00 - 21.00<br>\\n                        Без перерыва.\\n                        <br><br>\\n                        <a href=\"http://www.biblio-globus.ru/content.aspx?page_id=103\">карта магазина</a>\\n                    </div>\\n                </td>\\n                <td valign=\"top\">\\n                    <div class=\"footer_part_3\">\\n                        Справки о наличии книг:\\n                        <br><br>\\n                        7 (495) 781-19-00<br>\\n                        7 (495) 624-46-80<br>\\n                        <br><br>\\n                        Интернет-магазин:<br>\\n                        <a href=\"http://www.bgshop.ru/\" target=\"_blank\">www.bgshop.ru</a><br>\\n\\t\\t\\t\\t\\t\\t<!--\\n\\t\\t\\t\\t\\t\\tПрием заказов на курьерскую доставку и самовывоз<br />\\n\\t\\t\\t\\t\\t\\tС 10.00-19.00<br />\\n\\t\\t\\t\\t\\t\\tтелефон Call-центра интернет-магазина:<br />(495)&nbsp;781-19-12&nbsp;доб.&nbsp;(2307;&nbsp;2348)\\n\\t\\t\\t\\t\\t\\t-->\\n\\t\\t\\t\\t\\t\\t\\n                    </div>\\n                </td>\\n            </tr>\\n        </tbody></table>\\n    </td>\\n    <!-- footer -->\\n</tr>\\n</tbody></table>\\n\\n\\n\\n<iframe src=\"https://c.sharethis.mgr.consensu.org/portal-v2.html\" id=\"st_gdpr_iframe\" title=\"GDPR Consent Management\" style=\"width: 0px; height: 0px; position: absolute; left: -5000px;\"></iframe></body></html>'"
      ]
     },
     "execution_count": 8,
     "metadata": {},
     "output_type": "execute_result"
    }
   ],
   "source": [
    "page1"
   ]
  },
  {
   "cell_type": "markdown",
   "metadata": {},
   "source": [
    "Теперь обработаем эту страницу через `BeautifulSoup`:"
   ]
  },
  {
   "cell_type": "code",
   "execution_count": 9,
   "metadata": {},
   "outputs": [],
   "source": [
    "from bs4 import BeautifulSoup"
   ]
  },
  {
   "cell_type": "code",
   "execution_count": 10,
   "metadata": {},
   "outputs": [],
   "source": [
    "soup1 = BeautifulSoup(page1, 'lxml')"
   ]
  },
  {
   "cell_type": "markdown",
   "metadata": {},
   "source": [
    "Найдем все названия книг на этой странице. По исходному коду можно увидеть, что они имеют тэг `a` с атрибутом `class`, равным `name`:"
   ]
  },
  {
   "cell_type": "code",
   "execution_count": 11,
   "metadata": {},
   "outputs": [
    {
     "data": {
      "text/plain": [
       "[<a class=\"name\" href=\"/search/catalog/details/10720510\">Для веб-программистов. Django 3.0. Практика создания веб-сайтов на Python</a>,\n",
       " <a class=\"name\" href=\"/search/catalog/details/10548788\">Python : Карманный справочник</a>,\n",
       " <a class=\"name\" href=\"/search/catalog/details/10569801\">Программируем на Python</a>,\n",
       " <a class=\"name\" href=\"/search/catalog/details/10713630\">Python и наука о данных для чайников, 2-е издание</a>,\n",
       " <a class=\"name\" href=\"/search/catalog/details/10655159\">Учимся программировать с примерами на Python</a>,\n",
       " <a class=\"name\" href=\"/search/catalog/details/10508455\">Простой Python. Современный стиль программирования</a>,\n",
       " <a class=\"name\" href=\"/search/catalog/details/10655163\">Машинное обучение: карманный справочник. Краткое руководство по методам структурированного машинного обучения на Python</a>,\n",
       " <a class=\"name\" href=\"/search/catalog/details/10590845\">Машинное обучение с использованием Python. Сборник рецептов</a>,\n",
       " <a class=\"name\" href=\"/search/catalog/details/10577094\">Python для чайников</a>,\n",
       " <a class=\"name\" href=\"/search/catalog/details/10532193\">Python. Экспресс-курс</a>]"
      ]
     },
     "execution_count": 11,
     "metadata": {},
     "output_type": "execute_result"
    }
   ],
   "source": [
    "soup1.find_all('a', {'class':'name'})"
   ]
  },
  {
   "cell_type": "markdown",
   "metadata": {},
   "source": [
    "С помощью списковых включений выберем из ссылок с тэгом `<a>` текст (так мы уже делали, и не раз)."
   ]
  },
  {
   "cell_type": "code",
   "execution_count": 12,
   "metadata": {},
   "outputs": [],
   "source": [
    "books1 = [b.text for b in soup1.find_all('a', {'class':'name'})]"
   ]
  },
  {
   "cell_type": "code",
   "execution_count": 13,
   "metadata": {},
   "outputs": [
    {
     "data": {
      "text/plain": [
       "['Для веб-программистов. Django 3.0. Практика создания веб-сайтов на Python',\n",
       " 'Python : Карманный справочник',\n",
       " 'Программируем на Python',\n",
       " 'Python и наука о данных для чайников, 2-е издание',\n",
       " 'Учимся программировать с примерами на Python',\n",
       " 'Простой Python. Современный стиль программирования',\n",
       " 'Машинное обучение: карманный справочник. Краткое руководство по методам структурированного машинного обучения на Python',\n",
       " 'Машинное обучение с использованием Python. Сборник рецептов',\n",
       " 'Python для чайников',\n",
       " 'Python. Экспресс-курс']"
      ]
     },
     "execution_count": 13,
     "metadata": {},
     "output_type": "execute_result"
    }
   ],
   "source": [
    "books1"
   ]
  },
  {
   "cell_type": "markdown",
   "metadata": {},
   "source": [
    "Теперь аналогичным образом сгрузим информацию об авторах:"
   ]
  },
  {
   "cell_type": "code",
   "execution_count": 14,
   "metadata": {},
   "outputs": [],
   "source": [
    "authors1 = [a.text for a in soup1.find_all('div', {'class': 'author'})]"
   ]
  },
  {
   "cell_type": "markdown",
   "metadata": {},
   "source": [
    "Сгрузим расположение:"
   ]
  },
  {
   "cell_type": "code",
   "execution_count": 15,
   "metadata": {},
   "outputs": [],
   "source": [
    "place1 = [p.text for p in soup1.find_all('div', {'class':'placement'})]"
   ]
  },
  {
   "cell_type": "code",
   "execution_count": 16,
   "metadata": {},
   "outputs": [
    {
     "data": {
      "text/plain": [
       "['Расположение в торговом зале: Уровень 1, зал № 07, секция 08, шкаф 76, полка 02',\n",
       " 'Расположение в торговом зале: Уровень 1, зал № 07, секция 08, шкаф 76, полка 05',\n",
       " 'Расположение в торговом зале: Уровень 1, зал № 07, секция 08, шкаф 76, полка 04',\n",
       " 'Расположение в торговом зале: Уровень 1, зал № 07, секция 08, шкаф 76, полка 04',\n",
       " 'Расположение в торговом зале: Уровень 1, зал № 07, секция 08, шкаф 76, полка 05',\n",
       " 'Расположение в торговом зале: Уровень 1, зал № 07, секция 08, шкаф 76, полка 03',\n",
       " 'Расположение в торговом зале: Уровень 1, зал № 07, секция 08, шкаф 85, полка 05',\n",
       " 'Расположение в торговом зале: Уровень 1, зал № 07, секция 08, шкаф 85, полка 05',\n",
       " 'Расположение в торговом зале: Уровень 1, зал № 07, секция 08, шкаф 76, полка 04',\n",
       " 'Расположение в торговом зале: Уровень 1, зал № 07, секция 08, шкаф 76, полка 04']"
      ]
     },
     "execution_count": 16,
     "metadata": {},
     "output_type": "execute_result"
    }
   ],
   "source": [
    "place1"
   ]
  },
  {
   "cell_type": "markdown",
   "metadata": {},
   "source": [
    "И, конечно, цену:"
   ]
  },
  {
   "cell_type": "code",
   "execution_count": 17,
   "metadata": {},
   "outputs": [],
   "source": [
    "price1 = [p.text for p in soup1.find_all('div', \n",
    "                                         {'class':'title_data price'})]"
   ]
  },
  {
   "cell_type": "code",
   "execution_count": 18,
   "metadata": {},
   "outputs": [
    {
     "data": {
      "text/plain": [
       "['Цена: 1459,00 руб.',\n",
       " 'Цена: 689,00 руб.',\n",
       " 'Цена: 1309,00 руб.',\n",
       " 'Цена: 1369,00 руб.',\n",
       " 'Цена: 1709,00 руб.',\n",
       " 'Цена: 1579,00 руб.',\n",
       " 'Цена: 919,00 руб.',\n",
       " 'Цена: 979,00 руб.',\n",
       " 'Цена: 919,00 руб.',\n",
       " 'Цена: 1259,00 руб.']"
      ]
     },
     "execution_count": 18,
     "metadata": {},
     "output_type": "execute_result"
    }
   ],
   "source": [
    "price1"
   ]
  },
  {
   "cell_type": "markdown",
   "metadata": {},
   "source": [
    "Осталось пройтись по всем страницам, которые были выданы в результате поиска. Для примера перейдем на страницу 2 и на этом остановимся."
   ]
  },
  {
   "cell_type": "code",
   "execution_count": 19,
   "metadata": {},
   "outputs": [],
   "source": [
    "next_p = br.find_element_by_css_selector('.next_page')"
   ]
  },
  {
   "cell_type": "code",
   "execution_count": 20,
   "metadata": {},
   "outputs": [],
   "source": [
    "next_p.click()"
   ]
  },
  {
   "cell_type": "markdown",
   "metadata": {},
   "source": [
    "Проделаем то же самое, что и с первой страницей. По-хорошему нужно написать функцию, которая будет искать на странице названия книг, их расположение и цену. Но оставим это в качестве задания читателю :)"
   ]
  },
  {
   "cell_type": "code",
   "execution_count": 21,
   "metadata": {},
   "outputs": [],
   "source": [
    "page2 = br.page_source\n",
    "soup2 = BeautifulSoup(page2, 'lxml')\n",
    "books2 = [b.text for b in soup2.find_all('a', {'class':'name'})]\n",
    "author2 = [a.text for a in soup2.find_all('div', {'class': 'author'})]\n",
    "place2 = [p.text for p in soup2.find_all('div', {'class':'placement'})]\n",
    "price2 = [p.text for p in soup2.find_all('div', {'class':'title_data price'})]"
   ]
  },
  {
   "cell_type": "markdown",
   "metadata": {},
   "source": [
    "Расширим списки результатов с первой страницы данными, полученными со второй страницы, используя метод `.extend()`."
   ]
  },
  {
   "cell_type": "code",
   "execution_count": 22,
   "metadata": {},
   "outputs": [],
   "source": [
    "books1.extend(books2)\n",
    "authors1.extend(books2)\n",
    "place1.extend(place2)\n",
    "price1.extend(price2)"
   ]
  },
  {
   "cell_type": "markdown",
   "metadata": {},
   "source": [
    "Осталось импортировать библиотеку `pandas` и создать датафрейм."
   ]
  },
  {
   "cell_type": "code",
   "execution_count": 23,
   "metadata": {},
   "outputs": [],
   "source": [
    "import pandas as pd"
   ]
  },
  {
   "cell_type": "markdown",
   "metadata": {},
   "source": [
    "Для разнообразия создадим датафрейм не из списка списков, а из словаря. Ключами словаря будут названия столбцов в таблице, а значениями – списки с сохраненной информацией (названия книг, цены и проч.)."
   ]
  },
  {
   "cell_type": "code",
   "execution_count": 24,
   "metadata": {},
   "outputs": [],
   "source": [
    "df = pd.DataFrame({'book': books1, 'author': authors1,\n",
    "                   'placement': place1, 'price': price1})"
   ]
  },
  {
   "cell_type": "code",
   "execution_count": 25,
   "metadata": {},
   "outputs": [
    {
     "data": {
      "text/html": [
       "<div>\n",
       "<style scoped>\n",
       "    .dataframe tbody tr th:only-of-type {\n",
       "        vertical-align: middle;\n",
       "    }\n",
       "\n",
       "    .dataframe tbody tr th {\n",
       "        vertical-align: top;\n",
       "    }\n",
       "\n",
       "    .dataframe thead th {\n",
       "        text-align: right;\n",
       "    }\n",
       "</style>\n",
       "<table border=\"1\" class=\"dataframe\">\n",
       "  <thead>\n",
       "    <tr style=\"text-align: right;\">\n",
       "      <th></th>\n",
       "      <th>book</th>\n",
       "      <th>author</th>\n",
       "      <th>placement</th>\n",
       "      <th>price</th>\n",
       "    </tr>\n",
       "  </thead>\n",
       "  <tbody>\n",
       "    <tr>\n",
       "      <th>0</th>\n",
       "      <td>Для веб-программистов. Django 3.0. Практика со...</td>\n",
       "      <td>В. А. Дронов</td>\n",
       "      <td>Расположение в торговом зале: Уровень 1, зал №...</td>\n",
       "      <td>Цена: 1459,00 руб.</td>\n",
       "    </tr>\n",
       "    <tr>\n",
       "      <th>1</th>\n",
       "      <td>Python : Карманный справочник</td>\n",
       "      <td>М. Лутц</td>\n",
       "      <td>Расположение в торговом зале: Уровень 1, зал №...</td>\n",
       "      <td>Цена: 689,00 руб.</td>\n",
       "    </tr>\n",
       "    <tr>\n",
       "      <th>2</th>\n",
       "      <td>Программируем на Python</td>\n",
       "      <td>М. Доусон</td>\n",
       "      <td>Расположение в торговом зале: Уровень 1, зал №...</td>\n",
       "      <td>Цена: 1309,00 руб.</td>\n",
       "    </tr>\n",
       "    <tr>\n",
       "      <th>3</th>\n",
       "      <td>Python и наука о данных для чайников, 2-е издание</td>\n",
       "      <td>Мюллер , Массарон Дж. П. , Л.</td>\n",
       "      <td>Расположение в торговом зале: Уровень 1, зал №...</td>\n",
       "      <td>Цена: 1369,00 руб.</td>\n",
       "    </tr>\n",
       "    <tr>\n",
       "      <th>4</th>\n",
       "      <td>Учимся программировать с примерами на Python</td>\n",
       "      <td>Э.  Фримен</td>\n",
       "      <td>Расположение в торговом зале: Уровень 1, зал №...</td>\n",
       "      <td>Цена: 1709,00 руб.</td>\n",
       "    </tr>\n",
       "  </tbody>\n",
       "</table>\n",
       "</div>"
      ],
      "text/plain": [
       "                                                book  \\\n",
       "0  Для веб-программистов. Django 3.0. Практика со...   \n",
       "1                      Python : Карманный справочник   \n",
       "2                            Программируем на Python   \n",
       "3  Python и наука о данных для чайников, 2-е издание   \n",
       "4       Учимся программировать с примерами на Python   \n",
       "\n",
       "                          author  \\\n",
       "0                   В. А. Дронов   \n",
       "1                        М. Лутц   \n",
       "2                      М. Доусон   \n",
       "3  Мюллер , Массарон Дж. П. , Л.   \n",
       "4                     Э.  Фримен   \n",
       "\n",
       "                                           placement               price  \n",
       "0  Расположение в торговом зале: Уровень 1, зал №...  Цена: 1459,00 руб.  \n",
       "1  Расположение в торговом зале: Уровень 1, зал №...   Цена: 689,00 руб.  \n",
       "2  Расположение в торговом зале: Уровень 1, зал №...  Цена: 1309,00 руб.  \n",
       "3  Расположение в торговом зале: Уровень 1, зал №...  Цена: 1369,00 руб.  \n",
       "4  Расположение в торговом зале: Уровень 1, зал №...  Цена: 1709,00 руб.  "
      ]
     },
     "execution_count": 25,
     "metadata": {},
     "output_type": "execute_result"
    }
   ],
   "source": [
    "df.head()"
   ]
  },
  {
   "cell_type": "markdown",
   "metadata": {},
   "source": [
    "Давайте приведем столбец с ценой к числовому типу. Уберем слова *Цена* и *руб*, а потом сконвертируем строки в числа с плавающей точкой. Напишем функцию `get_price()`,"
   ]
  },
  {
   "cell_type": "code",
   "execution_count": 29,
   "metadata": {},
   "outputs": [
    {
     "data": {
      "text/plain": [
       "'1459,00'"
      ]
     },
     "execution_count": 29,
     "metadata": {},
     "output_type": "execute_result"
    }
   ],
   "source": [
    "df['price'][0][6:13] #лучше регуляркой"
   ]
  },
  {
   "cell_type": "code",
   "execution_count": null,
   "metadata": {},
   "outputs": [],
   "source": []
  },
  {
   "cell_type": "code",
   "execution_count": 30,
   "metadata": {},
   "outputs": [],
   "source": [
    "def get_price(price):\n",
    "    book_price = price.split(' ')[1]  # разобьем строку по пробелу и возьмем второй элемент\n",
    "    book_price = book_price.replace(',', '.')  # заменим запятую на точку\n",
    "    price_num = float(book_price)  # сконвертируем в float\n",
    "    return price_num"
   ]
  },
  {
   "cell_type": "code",
   "execution_count": 31,
   "metadata": {},
   "outputs": [],
   "source": [
    "import re\n",
    "def preis(x):\n",
    "    return float('.'.join(re.findall(r'\\d+',x)))"
   ]
  },
  {
   "cell_type": "code",
   "execution_count": 32,
   "metadata": {},
   "outputs": [
    {
     "data": {
      "text/plain": [
       "1459.0"
      ]
     },
     "execution_count": 32,
     "metadata": {},
     "output_type": "execute_result"
    }
   ],
   "source": [
    "# проверка\n",
    "get_price(df.price[0])"
   ]
  },
  {
   "cell_type": "code",
   "execution_count": 33,
   "metadata": {},
   "outputs": [
    {
     "data": {
      "text/plain": [
       "1459.0"
      ]
     },
     "execution_count": 33,
     "metadata": {},
     "output_type": "execute_result"
    }
   ],
   "source": [
    "preis(df.price[0])"
   ]
  },
  {
   "cell_type": "markdown",
   "metadata": {},
   "source": [
    "Всё отлично работает! Применим функцию к столбцу *price* и создадим новый столбец *nprice*."
   ]
  },
  {
   "cell_type": "code",
   "execution_count": 34,
   "metadata": {},
   "outputs": [],
   "source": [
    "df['nprice'] = df.price.apply(preis)"
   ]
  },
  {
   "cell_type": "markdown",
   "metadata": {},
   "source": [
    "####  !!! это apply на колонку функцию - так хорошо"
   ]
  },
  {
   "cell_type": "code",
   "execution_count": 35,
   "metadata": {},
   "outputs": [
    {
     "data": {
      "text/html": [
       "<div>\n",
       "<style scoped>\n",
       "    .dataframe tbody tr th:only-of-type {\n",
       "        vertical-align: middle;\n",
       "    }\n",
       "\n",
       "    .dataframe tbody tr th {\n",
       "        vertical-align: top;\n",
       "    }\n",
       "\n",
       "    .dataframe thead th {\n",
       "        text-align: right;\n",
       "    }\n",
       "</style>\n",
       "<table border=\"1\" class=\"dataframe\">\n",
       "  <thead>\n",
       "    <tr style=\"text-align: right;\">\n",
       "      <th></th>\n",
       "      <th>book</th>\n",
       "      <th>author</th>\n",
       "      <th>placement</th>\n",
       "      <th>price</th>\n",
       "      <th>nprice</th>\n",
       "    </tr>\n",
       "  </thead>\n",
       "  <tbody>\n",
       "    <tr>\n",
       "      <th>0</th>\n",
       "      <td>Для веб-программистов. Django 3.0. Практика со...</td>\n",
       "      <td>В. А. Дронов</td>\n",
       "      <td>Расположение в торговом зале: Уровень 1, зал №...</td>\n",
       "      <td>Цена: 1459,00 руб.</td>\n",
       "      <td>1459.0</td>\n",
       "    </tr>\n",
       "    <tr>\n",
       "      <th>1</th>\n",
       "      <td>Python : Карманный справочник</td>\n",
       "      <td>М. Лутц</td>\n",
       "      <td>Расположение в торговом зале: Уровень 1, зал №...</td>\n",
       "      <td>Цена: 689,00 руб.</td>\n",
       "      <td>689.0</td>\n",
       "    </tr>\n",
       "    <tr>\n",
       "      <th>2</th>\n",
       "      <td>Программируем на Python</td>\n",
       "      <td>М. Доусон</td>\n",
       "      <td>Расположение в торговом зале: Уровень 1, зал №...</td>\n",
       "      <td>Цена: 1309,00 руб.</td>\n",
       "      <td>1309.0</td>\n",
       "    </tr>\n",
       "    <tr>\n",
       "      <th>3</th>\n",
       "      <td>Python и наука о данных для чайников, 2-е издание</td>\n",
       "      <td>Мюллер , Массарон Дж. П. , Л.</td>\n",
       "      <td>Расположение в торговом зале: Уровень 1, зал №...</td>\n",
       "      <td>Цена: 1369,00 руб.</td>\n",
       "      <td>1369.0</td>\n",
       "    </tr>\n",
       "    <tr>\n",
       "      <th>4</th>\n",
       "      <td>Учимся программировать с примерами на Python</td>\n",
       "      <td>Э.  Фримен</td>\n",
       "      <td>Расположение в торговом зале: Уровень 1, зал №...</td>\n",
       "      <td>Цена: 1709,00 руб.</td>\n",
       "      <td>1709.0</td>\n",
       "    </tr>\n",
       "  </tbody>\n",
       "</table>\n",
       "</div>"
      ],
      "text/plain": [
       "                                                book  \\\n",
       "0  Для веб-программистов. Django 3.0. Практика со...   \n",
       "1                      Python : Карманный справочник   \n",
       "2                            Программируем на Python   \n",
       "3  Python и наука о данных для чайников, 2-е издание   \n",
       "4       Учимся программировать с примерами на Python   \n",
       "\n",
       "                          author  \\\n",
       "0                   В. А. Дронов   \n",
       "1                        М. Лутц   \n",
       "2                      М. Доусон   \n",
       "3  Мюллер , Массарон Дж. П. , Л.   \n",
       "4                     Э.  Фримен   \n",
       "\n",
       "                                           placement               price  \\\n",
       "0  Расположение в торговом зале: Уровень 1, зал №...  Цена: 1459,00 руб.   \n",
       "1  Расположение в торговом зале: Уровень 1, зал №...   Цена: 689,00 руб.   \n",
       "2  Расположение в торговом зале: Уровень 1, зал №...  Цена: 1309,00 руб.   \n",
       "3  Расположение в торговом зале: Уровень 1, зал №...  Цена: 1369,00 руб.   \n",
       "4  Расположение в торговом зале: Уровень 1, зал №...  Цена: 1709,00 руб.   \n",
       "\n",
       "   nprice  \n",
       "0  1459.0  \n",
       "1   689.0  \n",
       "2  1309.0  \n",
       "3  1369.0  \n",
       "4  1709.0  "
      ]
     },
     "execution_count": 35,
     "metadata": {},
     "output_type": "execute_result"
    }
   ],
   "source": [
    "df.head()"
   ]
  },
  {
   "cell_type": "markdown",
   "metadata": {},
   "source": [
    "Теперь можем расположить книги по цене в порядке возрастания:"
   ]
  },
  {
   "cell_type": "code",
   "execution_count": 41,
   "metadata": {
    "scrolled": true
   },
   "outputs": [
    {
     "data": {
      "text/html": [
       "<div>\n",
       "<style scoped>\n",
       "    .dataframe tbody tr th:only-of-type {\n",
       "        vertical-align: middle;\n",
       "    }\n",
       "\n",
       "    .dataframe tbody tr th {\n",
       "        vertical-align: top;\n",
       "    }\n",
       "\n",
       "    .dataframe thead th {\n",
       "        text-align: right;\n",
       "    }\n",
       "</style>\n",
       "<table border=\"1\" class=\"dataframe\">\n",
       "  <thead>\n",
       "    <tr style=\"text-align: right;\">\n",
       "      <th></th>\n",
       "      <th>book</th>\n",
       "      <th>author</th>\n",
       "      <th>placement</th>\n",
       "      <th>price</th>\n",
       "      <th>nprice</th>\n",
       "    </tr>\n",
       "  </thead>\n",
       "  <tbody>\n",
       "    <tr>\n",
       "      <th>12</th>\n",
       "      <td>Программирование на Python для начинающих</td>\n",
       "      <td>Программирование на Python для начинающих</td>\n",
       "      <td>Расположение в торговом зале: Уровень 1, зал №...</td>\n",
       "      <td>Цена: 579,00 руб.</td>\n",
       "      <td>579.0</td>\n",
       "    </tr>\n",
       "    <tr>\n",
       "      <th>16</th>\n",
       "      <td>Численные методы: Вычислительный практикум. Пр...</td>\n",
       "      <td>Численные методы: Вычислительный практикум. Пр...</td>\n",
       "      <td>Расположение в торговом зале: Уровень 1, зал №...</td>\n",
       "      <td>Цена: 649,00 руб.</td>\n",
       "      <td>649.0</td>\n",
       "    </tr>\n",
       "    <tr>\n",
       "      <th>1</th>\n",
       "      <td>Python : Карманный справочник</td>\n",
       "      <td>М. Лутц</td>\n",
       "      <td>Расположение в торговом зале: Уровень 1, зал №...</td>\n",
       "      <td>Цена: 689,00 руб.</td>\n",
       "      <td>689.0</td>\n",
       "    </tr>\n",
       "    <tr>\n",
       "      <th>18</th>\n",
       "      <td>Легкий способ выучить Python 3 еще глубже</td>\n",
       "      <td>Легкий способ выучить Python 3 еще глубже</td>\n",
       "      <td>Расположение в торговом зале: Уровень 1, зал №...</td>\n",
       "      <td>Цена: 789,00 руб.</td>\n",
       "      <td>789.0</td>\n",
       "    </tr>\n",
       "    <tr>\n",
       "      <th>6</th>\n",
       "      <td>Машинное обучение: карманный справочник. Кратк...</td>\n",
       "      <td>М. Харрисон</td>\n",
       "      <td>Расположение в торговом зале: Уровень 1, зал №...</td>\n",
       "      <td>Цена: 919,00 руб.</td>\n",
       "      <td>919.0</td>\n",
       "    </tr>\n",
       "    <tr>\n",
       "      <th>8</th>\n",
       "      <td>Python для чайников</td>\n",
       "      <td>Дж. Мюллер</td>\n",
       "      <td>Расположение в торговом зале: Уровень 1, зал №...</td>\n",
       "      <td>Цена: 919,00 руб.</td>\n",
       "      <td>919.0</td>\n",
       "    </tr>\n",
       "    <tr>\n",
       "      <th>7</th>\n",
       "      <td>Машинное обучение с использованием Python. Сбо...</td>\n",
       "      <td>К. Элбон</td>\n",
       "      <td>Расположение в торговом зале: Уровень 1, зал №...</td>\n",
       "      <td>Цена: 979,00 руб.</td>\n",
       "      <td>979.0</td>\n",
       "    </tr>\n",
       "    <tr>\n",
       "      <th>9</th>\n",
       "      <td>Python. Экспресс-курс</td>\n",
       "      <td>Н. Седер</td>\n",
       "      <td>Расположение в торговом зале: Уровень 1, зал №...</td>\n",
       "      <td>Цена: 1259,00 руб.</td>\n",
       "      <td>1259.0</td>\n",
       "    </tr>\n",
       "    <tr>\n",
       "      <th>11</th>\n",
       "      <td>Python для детей : самоучитель по программиров...</td>\n",
       "      <td>Python для детей : самоучитель по программиров...</td>\n",
       "      <td>Расположение в торговом зале: Уровень 1, зал №...</td>\n",
       "      <td>Цена: 1299,00 руб.</td>\n",
       "      <td>1299.0</td>\n",
       "    </tr>\n",
       "    <tr>\n",
       "      <th>2</th>\n",
       "      <td>Программируем на Python</td>\n",
       "      <td>М. Доусон</td>\n",
       "      <td>Расположение в торговом зале: Уровень 1, зал №...</td>\n",
       "      <td>Цена: 1309,00 руб.</td>\n",
       "      <td>1309.0</td>\n",
       "    </tr>\n",
       "    <tr>\n",
       "      <th>3</th>\n",
       "      <td>Python и наука о данных для чайников, 2-е издание</td>\n",
       "      <td>Мюллер , Массарон Дж. П. , Л.</td>\n",
       "      <td>Расположение в торговом зале: Уровень 1, зал №...</td>\n",
       "      <td>Цена: 1369,00 руб.</td>\n",
       "      <td>1369.0</td>\n",
       "    </tr>\n",
       "    <tr>\n",
       "      <th>0</th>\n",
       "      <td>Для веб-программистов. Django 3.0. Практика со...</td>\n",
       "      <td>В. А. Дронов</td>\n",
       "      <td>Расположение в торговом зале: Уровень 1, зал №...</td>\n",
       "      <td>Цена: 1459,00 руб.</td>\n",
       "      <td>1459.0</td>\n",
       "    </tr>\n",
       "    <tr>\n",
       "      <th>5</th>\n",
       "      <td>Простой Python. Современный стиль программиров...</td>\n",
       "      <td>Б. Любанович</td>\n",
       "      <td>Расположение в торговом зале: Уровень 1, зал №...</td>\n",
       "      <td>Цена: 1579,00 руб.</td>\n",
       "      <td>1579.0</td>\n",
       "    </tr>\n",
       "    <tr>\n",
       "      <th>15</th>\n",
       "      <td>Python для программирования криптовалют</td>\n",
       "      <td>Python для программирования криптовалют</td>\n",
       "      <td>Расположение в торговом зале: Уровень 1, зал №...</td>\n",
       "      <td>Цена: 1709,00 руб.</td>\n",
       "      <td>1709.0</td>\n",
       "    </tr>\n",
       "    <tr>\n",
       "      <th>4</th>\n",
       "      <td>Учимся программировать с примерами на Python</td>\n",
       "      <td>Э.  Фримен</td>\n",
       "      <td>Расположение в торговом зале: Уровень 1, зал №...</td>\n",
       "      <td>Цена: 1709,00 руб.</td>\n",
       "      <td>1709.0</td>\n",
       "    </tr>\n",
       "    <tr>\n",
       "      <th>17</th>\n",
       "      <td>Программирование на Python: базовый курс</td>\n",
       "      <td>Программирование на Python: базовый курс</td>\n",
       "      <td>Расположение в торговом зале: Уровень 1, зал №...</td>\n",
       "      <td>Цена: 1709,00 руб.</td>\n",
       "      <td>1709.0</td>\n",
       "    </tr>\n",
       "    <tr>\n",
       "      <th>10</th>\n",
       "      <td>Python для сложных задач: наука о данных и маш...</td>\n",
       "      <td>Python для сложных задач: наука о данных и маш...</td>\n",
       "      <td>Расположение в торговом зале: Уровень 1, зал №...</td>\n",
       "      <td>Цена: 1799,00 руб.</td>\n",
       "      <td>1799.0</td>\n",
       "    </tr>\n",
       "    <tr>\n",
       "      <th>19</th>\n",
       "      <td>Изучение робототехники с помощью Python</td>\n",
       "      <td>Изучение робототехники с помощью Python</td>\n",
       "      <td>Расположение в торговом зале: Уровень 1, зал №...</td>\n",
       "      <td>Цена: 2039,00 руб.</td>\n",
       "      <td>2039.0</td>\n",
       "    </tr>\n",
       "    <tr>\n",
       "      <th>14</th>\n",
       "      <td>Прикладное машинное обучение без учителя с исп...</td>\n",
       "      <td>Прикладное машинное обучение без учителя с исп...</td>\n",
       "      <td>Расположение в торговом зале: Уровень 1, зал №...</td>\n",
       "      <td>Цена: 2279,00 руб.</td>\n",
       "      <td>2279.0</td>\n",
       "    </tr>\n",
       "    <tr>\n",
       "      <th>13</th>\n",
       "      <td>Программирование на Python 3</td>\n",
       "      <td>Программирование на Python 3</td>\n",
       "      <td>Расположение в торговом зале: Уровень 1, зал №...</td>\n",
       "      <td>Цена: 3059,00 руб.</td>\n",
       "      <td>3059.0</td>\n",
       "    </tr>\n",
       "  </tbody>\n",
       "</table>\n",
       "</div>"
      ],
      "text/plain": [
       "                                                 book  \\\n",
       "12          Программирование на Python для начинающих   \n",
       "16  Численные методы: Вычислительный практикум. Пр...   \n",
       "1                       Python : Карманный справочник   \n",
       "18          Легкий способ выучить Python 3 еще глубже   \n",
       "6   Машинное обучение: карманный справочник. Кратк...   \n",
       "8                                 Python для чайников   \n",
       "7   Машинное обучение с использованием Python. Сбо...   \n",
       "9                               Python. Экспресс-курс   \n",
       "11  Python для детей : самоучитель по программиров...   \n",
       "2                             Программируем на Python   \n",
       "3   Python и наука о данных для чайников, 2-е издание   \n",
       "0   Для веб-программистов. Django 3.0. Практика со...   \n",
       "5   Простой Python. Современный стиль программиров...   \n",
       "15            Python для программирования криптовалют   \n",
       "4        Учимся программировать с примерами на Python   \n",
       "17           Программирование на Python: базовый курс   \n",
       "10  Python для сложных задач: наука о данных и маш...   \n",
       "19            Изучение робототехники с помощью Python   \n",
       "14  Прикладное машинное обучение без учителя с исп...   \n",
       "13                       Программирование на Python 3   \n",
       "\n",
       "                                               author  \\\n",
       "12          Программирование на Python для начинающих   \n",
       "16  Численные методы: Вычислительный практикум. Пр...   \n",
       "1                                             М. Лутц   \n",
       "18          Легкий способ выучить Python 3 еще глубже   \n",
       "6                                         М. Харрисон   \n",
       "8                                          Дж. Мюллер   \n",
       "7                                            К. Элбон   \n",
       "9                                            Н. Седер   \n",
       "11  Python для детей : самоучитель по программиров...   \n",
       "2                                           М. Доусон   \n",
       "3                       Мюллер , Массарон Дж. П. , Л.   \n",
       "0                                        В. А. Дронов   \n",
       "5                                        Б. Любанович   \n",
       "15            Python для программирования криптовалют   \n",
       "4                                          Э.  Фримен   \n",
       "17           Программирование на Python: базовый курс   \n",
       "10  Python для сложных задач: наука о данных и маш...   \n",
       "19            Изучение робототехники с помощью Python   \n",
       "14  Прикладное машинное обучение без учителя с исп...   \n",
       "13                       Программирование на Python 3   \n",
       "\n",
       "                                            placement               price  \\\n",
       "12  Расположение в торговом зале: Уровень 1, зал №...   Цена: 579,00 руб.   \n",
       "16  Расположение в торговом зале: Уровень 1, зал №...   Цена: 649,00 руб.   \n",
       "1   Расположение в торговом зале: Уровень 1, зал №...   Цена: 689,00 руб.   \n",
       "18  Расположение в торговом зале: Уровень 1, зал №...   Цена: 789,00 руб.   \n",
       "6   Расположение в торговом зале: Уровень 1, зал №...   Цена: 919,00 руб.   \n",
       "8   Расположение в торговом зале: Уровень 1, зал №...   Цена: 919,00 руб.   \n",
       "7   Расположение в торговом зале: Уровень 1, зал №...   Цена: 979,00 руб.   \n",
       "9   Расположение в торговом зале: Уровень 1, зал №...  Цена: 1259,00 руб.   \n",
       "11  Расположение в торговом зале: Уровень 1, зал №...  Цена: 1299,00 руб.   \n",
       "2   Расположение в торговом зале: Уровень 1, зал №...  Цена: 1309,00 руб.   \n",
       "3   Расположение в торговом зале: Уровень 1, зал №...  Цена: 1369,00 руб.   \n",
       "0   Расположение в торговом зале: Уровень 1, зал №...  Цена: 1459,00 руб.   \n",
       "5   Расположение в торговом зале: Уровень 1, зал №...  Цена: 1579,00 руб.   \n",
       "15  Расположение в торговом зале: Уровень 1, зал №...  Цена: 1709,00 руб.   \n",
       "4   Расположение в торговом зале: Уровень 1, зал №...  Цена: 1709,00 руб.   \n",
       "17  Расположение в торговом зале: Уровень 1, зал №...  Цена: 1709,00 руб.   \n",
       "10  Расположение в торговом зале: Уровень 1, зал №...  Цена: 1799,00 руб.   \n",
       "19  Расположение в торговом зале: Уровень 1, зал №...  Цена: 2039,00 руб.   \n",
       "14  Расположение в торговом зале: Уровень 1, зал №...  Цена: 2279,00 руб.   \n",
       "13  Расположение в торговом зале: Уровень 1, зал №...  Цена: 3059,00 руб.   \n",
       "\n",
       "    nprice  \n",
       "12   579.0  \n",
       "16   649.0  \n",
       "1    689.0  \n",
       "18   789.0  \n",
       "6    919.0  \n",
       "8    919.0  \n",
       "7    979.0  \n",
       "9   1259.0  \n",
       "11  1299.0  \n",
       "2   1309.0  \n",
       "3   1369.0  \n",
       "0   1459.0  \n",
       "5   1579.0  \n",
       "15  1709.0  \n",
       "4   1709.0  \n",
       "17  1709.0  \n",
       "10  1799.0  \n",
       "19  2039.0  \n",
       "14  2279.0  \n",
       "13  3059.0  "
      ]
     },
     "execution_count": 41,
     "metadata": {},
     "output_type": "execute_result"
    }
   ],
   "source": [
    "df.sort_values('nprice')"
   ]
  },
  {
   "cell_type": "markdown",
   "metadata": {},
   "source": [
    "И сохраним всю таблицу в csv-файл:"
   ]
  },
  {
   "cell_type": "code",
   "execution_count": 40,
   "metadata": {},
   "outputs": [],
   "source": [
    "df.to_csv(\"books.csv\", index=False, encoding='utf-8')"
   ]
  },
  {
   "cell_type": "code",
   "execution_count": null,
   "metadata": {},
   "outputs": [],
   "source": []
  }
 ],
 "metadata": {
  "kernelspec": {
   "display_name": "Python 3",
   "language": "python",
   "name": "python3"
  },
  "language_info": {
   "codemirror_mode": {
    "name": "ipython",
    "version": 3
   },
   "file_extension": ".py",
   "mimetype": "text/x-python",
   "name": "python",
   "nbconvert_exporter": "python",
   "pygments_lexer": "ipython3",
   "version": "3.8.3"
  }
 },
 "nbformat": 4,
 "nbformat_minor": 2
}
