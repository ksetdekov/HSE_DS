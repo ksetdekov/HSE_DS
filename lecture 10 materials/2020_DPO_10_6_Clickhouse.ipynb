{
 "cells": [
  {
   "cell_type": "markdown",
   "metadata": {},
   "source": [
    "# Python для анализа данных\n",
    "\n",
    "## Библиотеки для работы с данными в табличном формате: pandas. SQL для Python. Работа с Clickhouse. \n",
    "\n",
    "Автор: *Ян Пиле, НИУ ВШЭ*"
   ]
  },
  {
   "cell_type": "markdown",
   "metadata": {},
   "source": [
    "Мы с вами уже немного поработали с запросами данных из интернета, причем как непосредственно с сайтов, так и через некоторые API. Давайте теперь попробуем поработать с SQL прямо из Python."
   ]
  },
  {
   "cell_type": "markdown",
   "metadata": {},
   "source": [
    "### Порешаем задачи"
   ]
  },
  {
   "cell_type": "code",
   "execution_count": null,
   "metadata": {},
   "outputs": [],
   "source": [
    "import json # Чтобы разбирать поля\n",
    "import requests # чтобы отправлять запрос к базе\n",
    "import pandas as pd # чтобы в табличном виде хранить результаты запроса"
   ]
  },
  {
   "cell_type": "markdown",
   "metadata": {},
   "source": [
    "Нужно написать функцию, которая будет отправлять текст SQL-запроса, в нашем случае - запроса к ClickHouse, на сервер, а по выполнении запроса забирать его результаты в каком-то виде."
   ]
  },
  {
   "cell_type": "code",
   "execution_count": null,
   "metadata": {},
   "outputs": [],
   "source": [
    "# имена явки пароли. если хотите, чтобы считалось с вашего логина, вставьте сюда свои логин и пароль\n",
    "USER = 'student'\n",
    "PASS = 'dpo_python_2020'\n",
    "HOST = 'http://hse.beslan.pro:8080/'\n",
    "\n",
    "def get_clickhouse_data(query,\n",
    "                        host=HOST, \n",
    "                        USER = USER, \n",
    "                        PASS = PASS, \n",
    "                        connection_timeout = 1500, \n",
    "                        dictify=True, \n",
    "                        **kwargs):\n",
    "    NUMBER_OF_TRIES = 5  # Количество попыток запуска\n",
    "    DELAY = 10           #время ожидания между запусками\n",
    "    import time\n",
    "    params = kwargs      #если вдруг нам нужно в функцию положить какие-то параметры\n",
    "    if dictify:\n",
    "        query += \"\\n FORMAT JSONEachRow\"   # dictify = True отдает каждую строку в виде JSON'a\n",
    "\n",
    "    for i in range(NUMBER_OF_TRIES):\n",
    "\n",
    "        headers = {'Accept-Encoding': 'gzip'}\n",
    "\n",
    "        r = requests.post(host, \n",
    "                          params = params, \n",
    "                          auth=(USER, PASS), \n",
    "                          timeout = connection_timeout, \n",
    "                          data=query\n",
    "                          )              # отправили запрос на сервер\n",
    "\n",
    "        if r.status_code == 200 and not dictify:    \n",
    "            return r.iter_lines()         # генератор :)\n",
    "        elif r.status_code == 200 and dictify:\n",
    "            return (json.loads(x) for x in r.iter_lines()) # генератор :)\n",
    "        \n",
    "        else:\n",
    "            print('ATTENTION: try #%d failed' % i)\n",
    "            if i != (NUMBER_OF_TRIES - 1):\n",
    "                print(r.text)\n",
    "                time.sleep(DELAY * (i + 1))\n",
    "            else:\n",
    "                raise(ValueError, r.text)"
   ]
  },
  {
   "cell_type": "markdown",
   "metadata": {},
   "source": [
    "Функция ниже преобразует полученные нами данные из генератора в pd.Dataframe"
   ]
  },
  {
   "cell_type": "code",
   "execution_count": 4,
   "metadata": {},
   "outputs": [],
   "source": [
    "query = \"\"\"\n",
    "select  *\n",
    "from default.events\n",
    "limit 10\n",
    "\"\"\""
   ]
  },
  {
   "cell_type": "code",
   "execution_count": null,
   "metadata": {},
   "outputs": [],
   "source": [
    "d = get_clickhouse_data(query, dictify=True)"
   ]
  },
  {
   "cell_type": "code",
   "execution_count": null,
   "metadata": {},
   "outputs": [],
   "source": [
    "next(d)"
   ]
  },
  {
   "cell_type": "code",
   "execution_count": 3,
   "metadata": {},
   "outputs": [],
   "source": [
    "def get_data(query):\n",
    "    return pd.DataFrame(list(get_clickhouse_data(query, dictify=True)))"
   ]
  },
  {
   "cell_type": "code",
   "execution_count": null,
   "metadata": {},
   "outputs": [],
   "source": [
    "get_data(query)"
   ]
  },
  {
   "cell_type": "markdown",
   "metadata": {},
   "source": []
  },
  {
   "cell_type": "markdown",
   "metadata": {},
   "source": [
    "Предлагаю немного разобраться в структуре нашей базы. Давайте достанем по 5-10 строк каждой из таблиц и посмотри, что же в них лежит. В events, например, уложены AppPlatform - Платформа (операционная система мобильного устройства), events - количество событий, произошедших в эту дату (будем, например, считать, что события это клики и каждый из них платный), EventDate - Дата события, DeviceID - идентификатор устройства."
   ]
  },
  {
   "cell_type": "code",
   "execution_count": 10,
   "metadata": {},
   "outputs": [],
   "source": [
    "# впуливаем сюда запрос\n",
    "query = \"\"\"\n",
    "select  *\n",
    "from default.events\n",
    "limit 10\n",
    "\"\"\""
   ]
  },
  {
   "cell_type": "code",
   "execution_count": 11,
   "metadata": {},
   "outputs": [],
   "source": [
    "f = get_data(query)"
   ]
  },
  {
   "cell_type": "code",
   "execution_count": 12,
   "metadata": {},
   "outputs": [
    {
     "data": {
      "text/html": [
       "<div>\n",
       "<style scoped>\n",
       "    .dataframe tbody tr th:only-of-type {\n",
       "        vertical-align: middle;\n",
       "    }\n",
       "\n",
       "    .dataframe tbody tr th {\n",
       "        vertical-align: top;\n",
       "    }\n",
       "\n",
       "    .dataframe thead th {\n",
       "        text-align: right;\n",
       "    }\n",
       "</style>\n",
       "<table border=\"1\" class=\"dataframe\">\n",
       "  <thead>\n",
       "    <tr style=\"text-align: right;\">\n",
       "      <th></th>\n",
       "      <th>AppPlatform</th>\n",
       "      <th>events</th>\n",
       "      <th>EventDate</th>\n",
       "      <th>DeviceID</th>\n",
       "    </tr>\n",
       "  </thead>\n",
       "  <tbody>\n",
       "    <tr>\n",
       "      <th>0</th>\n",
       "      <td>android</td>\n",
       "      <td>8</td>\n",
       "      <td>2019-09-29</td>\n",
       "      <td>7429291373250434008</td>\n",
       "    </tr>\n",
       "    <tr>\n",
       "      <th>1</th>\n",
       "      <td>android</td>\n",
       "      <td>175</td>\n",
       "      <td>2019-09-15</td>\n",
       "      <td>7429291824672902510</td>\n",
       "    </tr>\n",
       "    <tr>\n",
       "      <th>2</th>\n",
       "      <td>android</td>\n",
       "      <td>0</td>\n",
       "      <td>2019-09-17</td>\n",
       "      <td>7429291824672902510</td>\n",
       "    </tr>\n",
       "    <tr>\n",
       "      <th>3</th>\n",
       "      <td>android</td>\n",
       "      <td>0</td>\n",
       "      <td>2019-09-26</td>\n",
       "      <td>7429291824672902510</td>\n",
       "    </tr>\n",
       "    <tr>\n",
       "      <th>4</th>\n",
       "      <td>android</td>\n",
       "      <td>4</td>\n",
       "      <td>2019-04-29</td>\n",
       "      <td>7429292273953361459</td>\n",
       "    </tr>\n",
       "    <tr>\n",
       "      <th>5</th>\n",
       "      <td>android</td>\n",
       "      <td>38</td>\n",
       "      <td>2019-08-20</td>\n",
       "      <td>7429293114537639018</td>\n",
       "    </tr>\n",
       "    <tr>\n",
       "      <th>6</th>\n",
       "      <td>android</td>\n",
       "      <td>38</td>\n",
       "      <td>2019-05-21</td>\n",
       "      <td>7429298825563999474</td>\n",
       "    </tr>\n",
       "    <tr>\n",
       "      <th>7</th>\n",
       "      <td>android</td>\n",
       "      <td>4</td>\n",
       "      <td>2019-05-26</td>\n",
       "      <td>7429298825563999474</td>\n",
       "    </tr>\n",
       "    <tr>\n",
       "      <th>8</th>\n",
       "      <td>android</td>\n",
       "      <td>100</td>\n",
       "      <td>2019-08-07</td>\n",
       "      <td>7429300397574411770</td>\n",
       "    </tr>\n",
       "    <tr>\n",
       "      <th>9</th>\n",
       "      <td>android</td>\n",
       "      <td>26</td>\n",
       "      <td>2019-01-31</td>\n",
       "      <td>7429301272237917347</td>\n",
       "    </tr>\n",
       "  </tbody>\n",
       "</table>\n",
       "</div>"
      ],
      "text/plain": [
       "  AppPlatform  events   EventDate             DeviceID\n",
       "0     android       8  2019-09-29  7429291373250434008\n",
       "1     android     175  2019-09-15  7429291824672902510\n",
       "2     android       0  2019-09-17  7429291824672902510\n",
       "3     android       0  2019-09-26  7429291824672902510\n",
       "4     android       4  2019-04-29  7429292273953361459\n",
       "5     android      38  2019-08-20  7429293114537639018\n",
       "6     android      38  2019-05-21  7429298825563999474\n",
       "7     android       4  2019-05-26  7429298825563999474\n",
       "8     android     100  2019-08-07  7429300397574411770\n",
       "9     android      26  2019-01-31  7429301272237917347"
      ]
     },
     "execution_count": 12,
     "metadata": {},
     "output_type": "execute_result"
    }
   ],
   "source": [
    "f"
   ]
  },
  {
   "cell_type": "markdown",
   "metadata": {},
   "source": [
    "Только что мы научились превращать результат нашего SQL-запроса в PANDAS-dataframe."
   ]
  },
  {
   "cell_type": "markdown",
   "metadata": {},
   "source": [
    "В devices, например, уложены UserID - идентификатор пользователя, DeviceID - идентификатор устройства."
   ]
  },
  {
   "cell_type": "code",
   "execution_count": null,
   "metadata": {},
   "outputs": [],
   "source": [
    "query = \"\"\"\n",
    "SELECT *\n",
    "from devices\n",
    "limit 10\n",
    "\"\"\"\n",
    "get_data(query)"
   ]
  },
  {
   "cell_type": "markdown",
   "metadata": {},
   "source": [
    "Проверим, однозначное ли это соответствие (может ли у человека быть два устройства и могут ли с одного устройства сидеть два человека)"
   ]
  },
  {
   "cell_type": "code",
   "execution_count": null,
   "metadata": {},
   "outputs": [],
   "source": [
    "query = \"\"\"\n",
    "SELECT UserID, uniqExact(DeviceID) as cnt\n",
    "from devices\n",
    "group by UserID\n",
    "having cnt>1\n",
    "\"\"\"\n",
    "get_data(query)"
   ]
  },
  {
   "cell_type": "code",
   "execution_count": null,
   "metadata": {},
   "outputs": [],
   "source": [
    "query = \"\"\"\n",
    "SELECT DeviceID, uniqExact(UserID) as cnt\n",
    "from devices\n",
    "group by DeviceID\n",
    "having cnt>1\n",
    "\"\"\"\n",
    "get_data(query)"
   ]
  },
  {
   "cell_type": "markdown",
   "metadata": {},
   "source": [
    "Видим, что оба запроса возвращают пустой результат. Это означает, что соответствие между UserID и DeviceID взаимно-однозначное. Это позволит нам избежать многих проблем впоследствии. "
   ]
  },
  {
   "cell_type": "markdown",
   "metadata": {},
   "source": [
    "В checks хранится стоимость всех покупок одного UserID за день, BuyDate - дата покупки, Rub - стоимость покупки"
   ]
  },
  {
   "cell_type": "code",
   "execution_count": 8,
   "metadata": {},
   "outputs": [
    {
     "data": {
      "text/html": [
       "<div>\n",
       "<style scoped>\n",
       "    .dataframe tbody tr th:only-of-type {\n",
       "        vertical-align: middle;\n",
       "    }\n",
       "\n",
       "    .dataframe tbody tr th {\n",
       "        vertical-align: top;\n",
       "    }\n",
       "\n",
       "    .dataframe thead th {\n",
       "        text-align: right;\n",
       "    }\n",
       "</style>\n",
       "<table border=\"1\" class=\"dataframe\">\n",
       "  <thead>\n",
       "    <tr style=\"text-align: right;\">\n",
       "      <th></th>\n",
       "      <th>Rub</th>\n",
       "      <th>BuyDate</th>\n",
       "      <th>UserID</th>\n",
       "    </tr>\n",
       "  </thead>\n",
       "  <tbody>\n",
       "    <tr>\n",
       "      <th>0</th>\n",
       "      <td>181063</td>\n",
       "      <td>2019-06-04</td>\n",
       "      <td>15605251414578189718</td>\n",
       "    </tr>\n",
       "    <tr>\n",
       "      <th>1</th>\n",
       "      <td>66318</td>\n",
       "      <td>2019-09-16</td>\n",
       "      <td>9613023063681218234</td>\n",
       "    </tr>\n",
       "    <tr>\n",
       "      <th>2</th>\n",
       "      <td>56327</td>\n",
       "      <td>2019-01-18</td>\n",
       "      <td>10398072986532593332</td>\n",
       "    </tr>\n",
       "    <tr>\n",
       "      <th>3</th>\n",
       "      <td>48758</td>\n",
       "      <td>2019-08-19</td>\n",
       "      <td>16967914029594691558</td>\n",
       "    </tr>\n",
       "    <tr>\n",
       "      <th>4</th>\n",
       "      <td>42945</td>\n",
       "      <td>2019-09-13</td>\n",
       "      <td>3216678490746804369</td>\n",
       "    </tr>\n",
       "    <tr>\n",
       "      <th>5</th>\n",
       "      <td>38989</td>\n",
       "      <td>2019-05-31</td>\n",
       "      <td>287271529430059152</td>\n",
       "    </tr>\n",
       "    <tr>\n",
       "      <th>6</th>\n",
       "      <td>38555</td>\n",
       "      <td>2019-04-03</td>\n",
       "      <td>6890024450198999904</td>\n",
       "    </tr>\n",
       "    <tr>\n",
       "      <th>7</th>\n",
       "      <td>38189</td>\n",
       "      <td>2019-03-22</td>\n",
       "      <td>17121049924398614106</td>\n",
       "    </tr>\n",
       "    <tr>\n",
       "      <th>8</th>\n",
       "      <td>35769</td>\n",
       "      <td>2019-02-05</td>\n",
       "      <td>9002023542637148786</td>\n",
       "    </tr>\n",
       "    <tr>\n",
       "      <th>9</th>\n",
       "      <td>34396</td>\n",
       "      <td>2019-02-26</td>\n",
       "      <td>5050480259433864828</td>\n",
       "    </tr>\n",
       "  </tbody>\n",
       "</table>\n",
       "</div>"
      ],
      "text/plain": [
       "      Rub     BuyDate                UserID\n",
       "0  181063  2019-06-04  15605251414578189718\n",
       "1   66318  2019-09-16   9613023063681218234\n",
       "2   56327  2019-01-18  10398072986532593332\n",
       "3   48758  2019-08-19  16967914029594691558\n",
       "4   42945  2019-09-13   3216678490746804369\n",
       "5   38989  2019-05-31    287271529430059152\n",
       "6   38555  2019-04-03   6890024450198999904\n",
       "7   38189  2019-03-22  17121049924398614106\n",
       "8   35769  2019-02-05   9002023542637148786\n",
       "9   34396  2019-02-26   5050480259433864828"
      ]
     },
     "execution_count": 8,
     "metadata": {},
     "output_type": "execute_result"
    }
   ],
   "source": [
    "query = \"\"\"\n",
    "SELECT Rub, BuyDate, UserID\n",
    "from checks\n",
    "order by Rub desc\n",
    "limit 10\n",
    "\"\"\"\n",
    "get_data(query)"
   ]
  },
  {
   "cell_type": "markdown",
   "metadata": {},
   "source": [
    "Проверим, есть ли записи, у которых набору UserID-BuyDate соответствует несколько записей"
   ]
  },
  {
   "cell_type": "code",
   "execution_count": null,
   "metadata": {},
   "outputs": [],
   "source": [
    "query = \"\"\"\n",
    "SELECT BuyDate, UserID, count(*) as cnt\n",
    "from checks\n",
    "group by BuyDate, UserID\n",
    "having cnt>1\n",
    "\"\"\"\n",
    "get_data(query)"
   ]
  },
  {
   "cell_type": "markdown",
   "metadata": {},
   "source": [
    "Нам снова повезло! На каждого человека и каждый день в таблицу пишется суммарная стоимость его покупок. Теперь посмотрим на таблицу installs. \n",
    "\n",
    "В ней InstallationDate - дата установки, InstallCost - стоимость установки, Platform - Платформа (операционная система мобильного устройства), DeviceID - идентификатор устройства и Source - источник трафика (откуда человек пришел устанавливать приложение: сам нашел в поисковике, из рекламы, перешел по реферальной ссылке и т.д.)"
   ]
  },
  {
   "cell_type": "code",
   "execution_count": null,
   "metadata": {},
   "outputs": [],
   "source": [
    "query = \"\"\"\n",
    "SELECT *\n",
    "from installs\n",
    "limit 10\n",
    "\"\"\"\n",
    "get_data(query)"
   ]
  },
  {
   "cell_type": "markdown",
   "metadata": {},
   "source": [
    "Давайте сформулируем несколько задач, которые мы на этих данных хотим решить."
   ]
  },
  {
   "cell_type": "markdown",
   "metadata": {},
   "source": [
    "### В течение какого срока установка, в среднем, окупается, в зависимости от:\n",
    "* платформы \n",
    "* источника трафика \n",
    "\n",
    "Воспользуйтесь тем периодом данных, который сочтете обоснованным для формулировки вывода"
   ]
  },
  {
   "cell_type": "markdown",
   "metadata": {},
   "source": [
    "Давайте посмотрим среднюю стоимость установки в зависимости от источника трафика. Будем считать, что GMV мы считаем в валюте Rub\\*5, а стоимость одного события равна 0.5 у.е."
   ]
  },
  {
   "cell_type": "markdown",
   "metadata": {},
   "source": [
    "Для начала достанем информацию, которая касается установок приложения и приклеим к ней информацию о том, какой UserID какие установки совершил. Для этого надо сделать join таблиц installs и devices. Я предлагаю считать данные за 1 квартал 2019 (почему бы и нет). В отображении остаывим 10 записей, чтобы экран не заполнять лишним. Join сделаем inner, предполагая, что нет таких DeviceID, которые никому не принадлежат (хотя вообще говоря, это стоит проверить)"
   ]
  },
  {
   "cell_type": "code",
   "execution_count": null,
   "metadata": {},
   "outputs": [],
   "source": [
    "query = \"\"\"\n",
    "select a.Source as Source, \n",
    "    a.InstallationDate as InstallationDate, \n",
    "    a.InstallCost as InstallCost, \n",
    "    a.DeviceID as DeviceID,\n",
    "    b.UserID as UserID\n",
    "from installs as a\n",
    "inner join devices as b\n",
    "on a.DeviceID = b.DeviceID\n",
    "where InstallationDate between '2019-01-01' and '2019-03-31'\n",
    "limit 10\n",
    "\"\"\"\n",
    "\n",
    "res = get_data(query)\n",
    "res"
   ]
  },
  {
   "cell_type": "markdown",
   "metadata": {},
   "source": [
    "Теперь нам нужно посчитать суммарную стоимость всех заказов, которые указанный UserID сделал за этот квартал (это как раз один из двух источников нашей доходной части), а расходную часть - InstallCost- мы уже достали. Здесь необходимо делать left join, потому что могут быть люди, которые ничего не купили за этот период, хоть и установили приложение. Значит наше условие ограничения на left join должно брать только те покупки людей, которые произошли от даты установки до конца квартала, а также оставлять записи, в которых не было ни одной покупки, это можно обеспечить условием BuyDate is null (в правой таблице не нашлось ни одной покупки). После того, как мы эту информацию приджойнили, посчитаем на каждый факт установки суммарную стоимость всех покупок с помощью функции sum(). Мы также хотим, чтоб при суммировании у тех, кто не купил ничего в поле GMV - Gross Merchandise Value (суммарный оборот заказов)- стоял ноль. Для этого мы сначала переведем содержимое поля Rub в интересующую нас валюту (мы договорились умножать его на 5), а потом суммировать не само получившееся значение, а coalesce(Rub\\*5,0) эта функция возвращает первое непустое значение из списка своих аргументов. Получается, что если поле Rub заполнено, она вернет Rub\\*5, а если человек ничего не купил, то она вернет 0, как раз этого мы и добивались. Стоит заметить, что в качестве левой таблицы для join'а мы вставили наш предыдущий запрос."
   ]
  },
  {
   "cell_type": "code",
   "execution_count": null,
   "metadata": {},
   "outputs": [],
   "source": [
    "query = \"\"\"\n",
    "select a.Source as Source, \n",
    "        a.InstallationDate as InstallationDate, \n",
    "        a.InstallCost as InstallCost, \n",
    "        a.DeviceID as DeviceID,\n",
    "        b.UserID as UserID,\n",
    "        sum(coalesce(b.Rub*5, 0)) as GMV\n",
    "from  (select a.Source as Source, \n",
    "        a.InstallationDate as InstallationDate, \n",
    "        a.InstallCost as InstallCost, \n",
    "        a.DeviceID as DeviceID,\n",
    "        b.UserID as UserID\n",
    "    from installs as a\n",
    "    inner join devices as b\n",
    "    on a.DeviceID = b.DeviceID\n",
    "    where InstallationDate between '2019-01-01' and '2019-03-31') as a\n",
    "left join checks as b\n",
    "    on a.UserID = b.UserID\n",
    "where (b.BuyDate >= a.InstallationDate\n",
    "    and b.BuyDate<='2019-03-31')\n",
    "    or b.BuyDate is null\n",
    "group by a.Source , \n",
    "        a.InstallationDate, \n",
    "        a.InstallCost, \n",
    "        a.DeviceID,\n",
    "        b.UserID\n",
    "limit 10\n",
    "\"\"\"\n",
    "\n",
    "res = get_data(query)\n",
    "res"
   ]
  },
  {
   "cell_type": "markdown",
   "metadata": {},
   "source": [
    "Остается предпоследний шаг: таким же образом собрать информацию о произошедших событиях (они лежат в поле events таблицы events и мы договорились, что стоимость одного события - 0.5 у.е.). Полностью повторим логику, которая у нас была до этого. Только в этот раз попробуем в функцию sum() не подставлять coalesce. Если мы уверены, что в каждом Source произошло хотя бы одно событие, то в итоговом результате наша сумма будет точно ненулевой. "
   ]
  },
  {
   "cell_type": "code",
   "execution_count": null,
   "metadata": {},
   "outputs": [],
   "source": [
    "query = \"\"\"\n",
    "select a.Source as Source, \n",
    "            a.InstallationDate as InstallationDate, \n",
    "            a.InstallCost as InstallCost, \n",
    "            a.DeviceID as DeviceID,\n",
    "            a.UserID as UserID,\n",
    "            a.GMV as GMV,\n",
    "            sum(events*0.5) as events_revenue\n",
    "from   (select a.Source as Source, \n",
    "            a.InstallationDate as InstallationDate, \n",
    "            a.InstallCost as InstallCost, \n",
    "            a.DeviceID as DeviceID,\n",
    "            b.UserID as UserID,\n",
    "            sum(coalesce(b.Rub*5, 0)) as GMV\n",
    "    from  (select a.Source as Source, \n",
    "            a.InstallationDate as InstallationDate, \n",
    "            a.InstallCost as InstallCost, \n",
    "            a.DeviceID as DeviceID,\n",
    "            b.UserID as UserID\n",
    "        from installs as a\n",
    "        inner join devices as b\n",
    "        on a.DeviceID = b.DeviceID\n",
    "        where InstallationDate between '2019-01-01' and '2019-03-31') as a\n",
    "    left join checks as b\n",
    "        on a.UserID = b.UserID\n",
    "    where (b.BuyDate >= a.InstallationDate\n",
    "        and b.BuyDate<='2019-03-31')\n",
    "        or b.BuyDate is null\n",
    "    group by a.Source , \n",
    "            a.InstallationDate, \n",
    "            a.InstallCost, \n",
    "            a.DeviceID,\n",
    "            b.UserID) as a\n",
    "left join events as b\n",
    "on a.DeviceID = b.DeviceID\n",
    "where (b.EventDate >= a.InstallationDate\n",
    "        and b.EventDate<='2019-03-31')\n",
    "        or b.EventDate is null\n",
    "group by a.Source as Source, \n",
    "            a.InstallationDate as InstallationDate, \n",
    "            a.InstallCost as InstallCost, \n",
    "            a.DeviceID as DeviceID,\n",
    "            a.UserID as UserID,\n",
    "            a.GMV as GMV\n",
    "limit 10\n",
    "\"\"\"\n",
    "\n",
    "res = get_data(query)\n",
    "res"
   ]
  },
  {
   "cell_type": "markdown",
   "metadata": {},
   "source": [
    "Ну и теперь произведем финальный шаг: суммируем все по источникам трафика и сразу посчитаем ROI - суммарный доход/суммарные затраты"
   ]
  },
  {
   "cell_type": "code",
   "execution_count": null,
   "metadata": {},
   "outputs": [],
   "source": [
    "query = \"\"\"\n",
    "\n",
    "select Source, uniqExact(UserID) as users,\n",
    "    SUM(InstallCost) AS InstallCost,\n",
    "    sum(GMV) as GMV,\n",
    "    SUM(events_revenue) AS events_revenue\n",
    "from  (select a.Source as Source, \n",
    "                a.InstallationDate as InstallationDate, \n",
    "                a.InstallCost as InstallCost, \n",
    "                a.DeviceID as DeviceID,\n",
    "                a.UserID as UserID,\n",
    "                a.GMV as GMV,\n",
    "                sum(events*0.5) as events_revenue\n",
    "    from   (select a.Source as Source, \n",
    "                a.InstallationDate as InstallationDate, \n",
    "                a.InstallCost as InstallCost, \n",
    "                a.DeviceID as DeviceID,\n",
    "                b.UserID as UserID,\n",
    "                sum(coalesce(b.Rub*5, 0)) as GMV\n",
    "        from  (select a.Source as Source, \n",
    "                a.InstallationDate as InstallationDate, \n",
    "                a.InstallCost as InstallCost, \n",
    "                a.DeviceID as DeviceID,\n",
    "                b.UserID as UserID\n",
    "            from installs as a\n",
    "            inner join devices as b\n",
    "            on a.DeviceID = b.DeviceID\n",
    "            where InstallationDate between '2019-01-01' and '2019-03-31') as a\n",
    "        left join checks as b\n",
    "            on a.UserID = b.UserID\n",
    "        where (b.BuyDate >= a.InstallationDate\n",
    "            and b.BuyDate<='2019-03-31')\n",
    "            or b.BuyDate is null\n",
    "        group by a.Source , \n",
    "                a.InstallationDate, \n",
    "                a.InstallCost, \n",
    "                a.DeviceID,\n",
    "                b.UserID) as a\n",
    "    left join events as b\n",
    "    on a.DeviceID = b.DeviceID\n",
    "    where (b.EventDate >= a.InstallationDate\n",
    "            and b.EventDate<='2019-03-31')\n",
    "            or b.EventDate is null\n",
    "    group by a.Source as Source, \n",
    "                a.InstallationDate as InstallationDate, \n",
    "                a.InstallCost as InstallCost, \n",
    "                a.DeviceID as DeviceID,\n",
    "                a.UserID as UserID,\n",
    "                a.GMV as GMV\n",
    "    )\n",
    "group by Source\n",
    "\"\"\"\n",
    "res = get_data(query)\n",
    "res"
   ]
  },
  {
   "cell_type": "markdown",
   "metadata": {},
   "source": [
    "С помощью pandas приведем поля к нужному нам формату (По умолчанию Clickhouse выплевывает результаты в строковом формате)"
   ]
  },
  {
   "cell_type": "code",
   "execution_count": null,
   "metadata": {},
   "outputs": [],
   "source": [
    "res = res.astype({'users':int, 'InstallCost':float, 'GMV':float, 'events_revenue':float})"
   ]
  },
  {
   "cell_type": "markdown",
   "metadata": {},
   "source": [
    "Также посчитаем доходную часть"
   ]
  },
  {
   "cell_type": "code",
   "execution_count": null,
   "metadata": {},
   "outputs": [],
   "source": [
    "res['Profit'] = res['GMV'] + res['events_revenue']"
   ]
  },
  {
   "cell_type": "markdown",
   "metadata": {},
   "source": [
    "И, наконец, посчитаем ROI"
   ]
  },
  {
   "cell_type": "code",
   "execution_count": null,
   "metadata": {},
   "outputs": [],
   "source": [
    "res['ROI'] = res['Profit']/res['InstallCost']\n",
    "res"
   ]
  },
  {
   "cell_type": "markdown",
   "metadata": {},
   "source": [
    "Что мы видим на примере данных:\n",
    "    \n",
    "    1. Бесплатные каналы привлечения приносят большую часть наш доходов\n",
    "    2. Среди платных каналов не окупилось всего два, да и то крайне малые.\n",
    "    3. Крупные платные каналы Source9 и Source14 имеют сильно отличающийся ROI - можно поразбираться, почему так\n",
    "    \n",
    "Аналогичное распределение можно построить по платформам (iOS/Android), предлагаю сделать это самостоятельно.\n",
    "Также на этих данных можно построить так называемую RFM-сегментацию пользователей, прочитать можно тут:\n",
    "\n",
    "https://www.owox.ru/blog/use-cases/rfm-analysis/\n",
    "\n",
    "https://en.wikipedia.org/wiki/RFM_(market_research)\n",
    "    \n",
    "    "
   ]
  },
  {
   "cell_type": "code",
   "execution_count": null,
   "metadata": {},
   "outputs": [],
   "source": []
  },
  {
   "cell_type": "code",
   "execution_count": null,
   "metadata": {},
   "outputs": [],
   "source": []
  }
 ],
 "metadata": {
  "kernelspec": {
   "display_name": "Python 3",
   "language": "python",
   "name": "python3"
  },
  "language_info": {
   "codemirror_mode": {
    "name": "ipython",
    "version": 3
   },
   "file_extension": ".py",
   "mimetype": "text/x-python",
   "name": "python",
   "nbconvert_exporter": "python",
   "pygments_lexer": "ipython3",
   "version": "3.8.5"
  }
 },
 "nbformat": 4,
 "nbformat_minor": 2
}
