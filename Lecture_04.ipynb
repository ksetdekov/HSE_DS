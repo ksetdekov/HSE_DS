{
 "cells": [
  {
   "cell_type": "markdown",
   "metadata": {},
   "source": [
    "# FOR loops"
   ]
  },
  {
   "cell_type": "code",
   "execution_count": 1,
   "metadata": {},
   "outputs": [
    {
     "name": "stdout",
     "output_type": "stream",
     "text": [
      "1\n",
      "2\n",
      "3\n",
      "4\n",
      "5\n",
      "6\n",
      "7\n",
      "8\n",
      "9\n",
      "10\n"
     ]
    }
   ],
   "source": [
    "i = 1\n",
    "while i<=10:\n",
    "    print(i)\n",
    "    i+=1"
   ]
  },
  {
   "cell_type": "code",
   "execution_count": 3,
   "metadata": {},
   "outputs": [
    {
     "name": "stdout",
     "output_type": "stream",
     "text": [
      "1\n",
      "2\n",
      "3\n",
      "4\n",
      "5\n",
      "6\n",
      "7\n",
      "8\n",
      "9\n",
      "10\n",
      "11\n",
      "12\n",
      "13\n",
      "14\n"
     ]
    }
   ],
   "source": [
    "i = 1\n",
    "while True:\n",
    "    print(i)\n",
    "    i += 1\n",
    "    if i == 15:\n",
    "        break"
   ]
  },
  {
   "cell_type": "code",
   "execution_count": 4,
   "metadata": {},
   "outputs": [
    {
     "name": "stdout",
     "output_type": "stream",
     "text": [
      "1\n",
      "2\n",
      "3\n",
      "end\n"
     ]
    }
   ],
   "source": [
    "for num in [1, 2, 3]:\n",
    "    print (num)\n",
    "else:\n",
    "    print('end')  # print at end"
   ]
  },
  {
   "cell_type": "markdown",
   "metadata": {},
   "source": [
    "### итерации"
   ]
  },
  {
   "cell_type": "markdown",
   "metadata": {},
   "source": [
    "**Итерация** - это общий термин, который описывает процедуру взятия элементов чего-то по очереди.\n",
    "\n",
    "В более общем смысле, это последовательность инструкций, которая повторяется определенное количество раз или до выполнения указанного условия.\n",
    "\n",
    "**Итерируемый объект** (iterable) - это объект, который способен возвращать элементы по одному(не обязательно по порядку). Кроме того, это объект, из которого можно получить итератор.\n",
    "\n",
    "Примеры итерируемых объектов:\n",
    "\n",
    "* все последовательности: список, строка, кортеж\n",
    "* словари и множества\n",
    "* файлы"
   ]
  },
  {
   "cell_type": "code",
   "execution_count": 5,
   "metadata": {},
   "outputs": [
    {
     "name": "stdout",
     "output_type": "stream",
     "text": [
      "<class 'set'>\n",
      "<class 'set_iterator'>\n",
      "1\n",
      "2\n",
      "3\n",
      "4\n",
      "5\n"
     ]
    }
   ],
   "source": [
    "s = {1,2,3,4,5}\n",
    "print(type(s))\n",
    "print(type(iter(s)))\n",
    "for i in iter(s):\n",
    "    print(i)"
   ]
  },
  {
   "cell_type": "markdown",
   "metadata": {},
   "source": [
    "### добавление итератора"
   ]
  },
  {
   "cell_type": "code",
   "execution_count": 11,
   "metadata": {},
   "outputs": [
    {
     "name": "stdout",
     "output_type": "stream",
     "text": [
      "<set_iterator object at 0x0000013886DA47C8>\n",
      "1\n",
      "2\n"
     ]
    }
   ],
   "source": [
    "s = {1,2,3,4,5}\n",
    "s_iter = iter(s)\n",
    "print(s_iter)\n",
    "print(next(s_iter))\n",
    "print(next(s_iter))\n"
   ]
  },
  {
   "cell_type": "code",
   "execution_count": 13,
   "metadata": {},
   "outputs": [
    {
     "data": {
      "application/javascript": [
       "let numbers = [10, 12, 15, 18, 20];\n",
       "for (let i = 0; i < numbers.length; i += 1) {\n",
       "    console.log(numbers[i])\n",
       "}\n"
      ],
      "text/plain": [
       "<IPython.core.display.Javascript object>"
      ]
     },
     "metadata": {},
     "output_type": "display_data"
    }
   ],
   "source": [
    "%%js\n",
    "let numbers = [10, 12, 15, 18, 20];\n",
    "for (let i = 0; i < numbers.length; i += 1) {\n",
    "    console.log(numbers[i])\n",
    "}"
   ]
  },
  {
   "cell_type": "markdown",
   "metadata": {},
   "source": [
    "## выдать индекс тоже, enumerate"
   ]
  },
  {
   "cell_type": "code",
   "execution_count": 14,
   "metadata": {},
   "outputs": [
    {
     "name": "stdout",
     "output_type": "stream",
     "text": [
      "(0, 1)\n",
      "(1, 2)\n",
      "(2, 3)\n",
      "(3, 4)\n",
      "(4, 5)\n",
      "(5, 6)\n"
     ]
    }
   ],
   "source": [
    "set_of_numbers = {1,2,3,4,5,6}\n",
    "for i in enumerate(set_of_numbers):\n",
    "    print(i)"
   ]
  },
  {
   "cell_type": "code",
   "execution_count": 15,
   "metadata": {},
   "outputs": [
    {
     "name": "stdout",
     "output_type": "stream",
     "text": [
      "1\n",
      "2\n",
      "3\n",
      "4\n"
     ]
    }
   ],
   "source": [
    "a = '1 2 3 4'\n",
    "b = a.split()\n",
    "for i in b:\n",
    "    print(i)"
   ]
  },
  {
   "cell_type": "markdown",
   "metadata": {},
   "source": [
    "## sum calculate"
   ]
  },
  {
   "cell_type": "code",
   "execution_count": 16,
   "metadata": {},
   "outputs": [
    {
     "name": "stdout",
     "output_type": "stream",
     "text": [
      "18 сумма\n"
     ]
    }
   ],
   "source": [
    "x = [1, 3, 4, 10]\n",
    "total = 0\n",
    "for num in x:\n",
    "    total += num\n",
    "print(total, 'сумма')"
   ]
  },
  {
   "cell_type": "code",
   "execution_count": 18,
   "metadata": {},
   "outputs": [
    {
     "name": "stdout",
     "output_type": "stream",
     "text": [
      "34\n",
      "{1, 2, 3, 4, 7, 49, 23, 28, 63}\n"
     ]
    }
   ],
   "source": [
    "# Здесь мы преобразовали кортеж из предыдущей ячейки в множество и посчитали сумму четных элементов\n",
    "# В цикл вошли с total = 0 и на каждом элементе добавляли к total значение элементов, удовлетворяющих условию\n",
    "x = [1,2,3,4,7,49,4,23,63,28,28]\n",
    "\n",
    "x_set = set(x)\n",
    "\n",
    "total = 0\n",
    "\n",
    "for i in x_set:\n",
    "    if i % 2 == 0:\n",
    "        total+=i\n",
    "print(total)\n",
    "print(x_set)"
   ]
  },
  {
   "cell_type": "markdown",
   "metadata": {},
   "source": [
    "#### итерации словарей"
   ]
  },
  {
   "cell_type": "code",
   "execution_count": 21,
   "metadata": {},
   "outputs": [
    {
     "name": "stdout",
     "output_type": "stream",
     "text": [
      "foo\n",
      "bar\n",
      "baz\n",
      "1\n",
      "2\n",
      "3\n",
      "(0, 'foo')\n",
      "(1, 'bar')\n",
      "(2, 'baz')\n"
     ]
    }
   ],
   "source": [
    "d = {'foo': 1, 'bar': 2, 'baz': 3}\n",
    "for key in d:\n",
    "    print(key)\n",
    "# elements\n",
    "\n",
    "for k in d:\n",
    "    print(d[k])\n",
    "\n",
    "for i in enumerate(d):\n",
    "    print(i)"
   ]
  },
  {
   "cell_type": "code",
   "execution_count": 23,
   "metadata": {},
   "outputs": [
    {
     "name": "stdout",
     "output_type": "stream",
     "text": [
      "(0, 'foo')\n",
      "(1, 'bar')\n",
      "(2, 'baz')\n"
     ]
    }
   ],
   "source": [
    "for i in enumerate(d):\n",
    "    print(i)"
   ]
  },
  {
   "cell_type": "code",
   "execution_count": 24,
   "metadata": {},
   "outputs": [
    {
     "name": "stdout",
     "output_type": "stream",
     "text": [
      "1\n",
      "2\n",
      "3\n"
     ]
    }
   ],
   "source": [
    "for v in d.values():\n",
    "    print(v)"
   ]
  },
  {
   "cell_type": "code",
   "execution_count": 25,
   "metadata": {},
   "outputs": [
    {
     "name": "stdout",
     "output_type": "stream",
     "text": [
      "foo\n",
      "bar\n",
      "baz\n"
     ]
    }
   ],
   "source": [
    "for v in d.keys():\n",
    "    print(v)"
   ]
  },
  {
   "cell_type": "code",
   "execution_count": 26,
   "metadata": {},
   "outputs": [
    {
     "name": "stdout",
     "output_type": "stream",
     "text": [
      "('foo', 1)\n",
      "('bar', 2)\n",
      "('baz', 3)\n"
     ]
    }
   ],
   "source": [
    "for v in d.items():\n",
    "    print(v)"
   ]
  },
  {
   "cell_type": "code",
   "execution_count": 28,
   "metadata": {},
   "outputs": [
    {
     "name": "stdout",
     "output_type": "stream",
     "text": [
      "k = foo, v = 1\n",
      "k = bar, v = 2\n",
      "k = baz, v = 3\n"
     ]
    }
   ],
   "source": [
    "d = {'foo': 1, 'bar': 2, 'baz': 3}\n",
    "for k, v in d.items():\n",
    "    print('k = ', k, ', v = ', v, sep = '')"
   ]
  },
  {
   "cell_type": "markdown",
   "metadata": {},
   "source": [
    "### range"
   ]
  },
  {
   "cell_type": "markdown",
   "metadata": {},
   "source": [
    "Есть три способа вызова **range()**:\n",
    "\n",
    "* **range(стоп)** берет один аргумент\n",
    "* **range(старт, стоп)** берет два аргумента\n",
    "* **range(старт, стоп, шаг)** берет три аргумента"
   ]
  },
  {
   "cell_type": "code",
   "execution_count": 29,
   "metadata": {},
   "outputs": [
    {
     "name": "stdout",
     "output_type": "stream",
     "text": [
      "0\n",
      "1\n",
      "2\n"
     ]
    }
   ],
   "source": [
    "# Это как раз первый случай (мы вывели все целые числа ДО трех)\n",
    "for i in range(3):\n",
    "    print(i)"
   ]
  },
  {
   "cell_type": "code",
   "execution_count": null,
   "metadata": {},
   "outputs": [],
   "source": []
  }
 ],
 "metadata": {
  "kernelspec": {
   "display_name": "Python 3",
   "language": "python",
   "name": "python3"
  },
  "language_info": {
   "codemirror_mode": {
    "name": "ipython",
    "version": 3
   },
   "file_extension": ".py",
   "mimetype": "text/x-python",
   "name": "python",
   "nbconvert_exporter": "python",
   "pygments_lexer": "ipython3",
   "version": "3.7.4"
  }
 },
 "nbformat": 4,
 "nbformat_minor": 4
}
