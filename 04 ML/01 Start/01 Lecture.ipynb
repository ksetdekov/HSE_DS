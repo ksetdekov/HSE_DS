{
 "cells": [
  {
   "cell_type": "markdown",
   "metadata": {},
   "source": [
    "# Что такое машинное обучение"
   ]
  },
  {
   "cell_type": "markdown",
   "metadata": {},
   "source": [
    "нет алгоритма, как дейтсовать"
   ]
  },
  {
   "cell_type": "markdown",
   "metadata": {},
   "source": [
    "###  сколько часов в минутах?"
   ]
  },
  {
   "cell_type": "code",
   "execution_count": 1,
   "metadata": {},
   "outputs": [
    {
     "data": {
      "text/plain": [
       "600"
      ]
     },
     "execution_count": 1,
     "metadata": {},
     "output_type": "execute_result"
    }
   ],
   "source": [
    "x = 10\n",
    "f = 60*x\n",
    "f"
   ]
  },
  {
   "cell_type": "markdown",
   "metadata": {},
   "source": [
    "### как долго будет падение?\n",
    "кинули с высоты x"
   ]
  },
  {
   "cell_type": "code",
   "execution_count": 5,
   "metadata": {},
   "outputs": [
    {
     "data": {
      "text/plain": [
       "4.5175395145262565"
      ]
     },
     "execution_count": 5,
     "metadata": {},
     "output_type": "execute_result"
    }
   ],
   "source": [
    "import numpy as np\n",
    "g =9.8\n",
    "x = 100\n",
    "f = np.sqrt(2*x/g)\n",
    "f"
   ]
  },
  {
   "cell_type": "markdown",
   "metadata": {},
   "source": [
    "## Примеры задач?"
   ]
  },
  {
   "cell_type": "markdown",
   "metadata": {},
   "source": [
    "* кто на фото, кот или пес\n",
    "* анализ эмоционально окраса текста"
   ]
  },
  {
   "cell_type": "markdown",
   "metadata": {},
   "source": [
    "### ML vs Классическое"
   ]
  },
  {
   "cell_type": "markdown",
   "metadata": {},
   "source": [
    "* данные + алгоритм -> ответ\n",
    "* данные + ответ -> алгоритм или правило для решения"
   ]
  },
  {
   "cell_type": "markdown",
   "metadata": {},
   "source": [
    "https://thispersondoesnotexist.com/"
   ]
  },
  {
   "cell_type": "markdown",
   "metadata": {},
   "source": [
    "## Терминология"
   ]
  },
  {
   "cell_type": "markdown",
   "metadata": {},
   "source": [
    "задача, сколько стоит дом"
   ]
  },
  {
   "cell_type": "markdown",
   "metadata": {},
   "source": [
    "* x - объект (sample) - совокупность признаков\n",
    "* X - пространство всех возможных объектов\n",
    "* y - целевая переменная (target) для одного конеретного - соимость одного дома\n",
    "* Y - пространство всех возможных ответов (например все положительные вещественные числа)"
   ]
  },
  {
   "cell_type": "markdown",
   "metadata": {},
   "source": [
    "### обучающая выборка"
   ]
  },
  {
   "cell_type": "markdown",
   "metadata": {},
   "source": [
    "$xiyi $"
   ]
  },
  {
   "cell_type": "markdown",
   "metadata": {},
   "source": [
    "### алгоритм"
   ]
  },
  {
   "cell_type": "markdown",
   "metadata": {},
   "source": [
    "$a(x):X\\rightarrow Y$"
   ]
  },
  {
   "cell_type": "markdown",
   "metadata": {},
   "source": [
    "выдает из пространства X ответ из пространства Y для конкретного x"
   ]
  },
  {
   "cell_type": "markdown",
   "metadata": {},
   "source": [
    "### функция потерь"
   ]
  },
  {
   "cell_type": "markdown",
   "metadata": {},
   "source": [
    "$L(a,x) = (a(x)-y)^2$ пример"
   ]
  },
  {
   "cell_type": "markdown",
   "metadata": {},
   "source": [
    "### функционал качества - для всей модели\n",
    "метрика качества алгоритма\n",
    "$$Q(a,X) =\\frac{1}{l} \\sum^{l}_{i=1}(a(x_i)-y_i)^2$$"
   ]
  },
  {
   "cell_type": "markdown",
   "metadata": {},
   "source": [
    "должен соовтетствовать требованиям бизнеса"
   ]
  },
  {
   "cell_type": "markdown",
   "metadata": {},
   "source": [
    "### обучение алгоритма\n",
    "1. есть выборка и функционал\n",
    "2. возьмем семейство алгоритмов \n",
    "    1. пример все линейные модели\n",
    "    2. из чего выбираем алгоритм\n",
    "3. обучение - поиск оптимального алгоритма из семейства, опираясь на функционал качества"
   ]
  },
  {
   "cell_type": "markdown",
   "metadata": {},
   "source": [
    "### обучение с учителем и без\n",
    "* есть правильные ответы\n",
    "* есть ствойство"
   ]
  },
  {
   "cell_type": "markdown",
   "metadata": {},
   "source": [
    "#### 1 Классификация\n",
    "есть число классов $Y={1,...,K}$"
   ]
  },
  {
   "cell_type": "markdown",
   "metadata": {},
   "source": [
    "1. credit scoring\n",
    "2. sentiment analysis\n",
    "3. image segmentation"
   ]
  },
  {
   "cell_type": "markdown",
   "metadata": {},
   "source": [
    "#### 2 Linear regression\n"
   ]
  },
  {
   "cell_type": "markdown",
   "metadata": {},
   "source": [
    "#### 3 Кластеризация"
   ]
  },
  {
   "cell_type": "markdown",
   "metadata": {},
   "source": [
    "## способы разметки данных\n",
    "1. заплатить людям\n",
    "2. эксперименты/физические симуляции\n",
    "3. обучить классификатор"
   ]
  },
  {
   "cell_type": "code",
   "execution_count": null,
   "metadata": {},
   "outputs": [],
   "source": []
  }
 ],
 "metadata": {
  "kernelspec": {
   "display_name": "Python 3",
   "language": "python",
   "name": "python3"
  },
  "language_info": {
   "codemirror_mode": {
    "name": "ipython",
    "version": 3
   },
   "file_extension": ".py",
   "mimetype": "text/x-python",
   "name": "python",
   "nbconvert_exporter": "python",
   "pygments_lexer": "ipython3",
   "version": "3.8.3"
  }
 },
 "nbformat": 4,
 "nbformat_minor": 4
}
