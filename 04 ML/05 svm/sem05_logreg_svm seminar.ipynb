{
  "nbformat": 4,
  "nbformat_minor": 0,
  "metadata": {
    "kernelspec": {
      "display_name": "Python 3",
      "language": "python",
      "name": "python3"
    },
    "language_info": {
      "codemirror_mode": {
        "name": "ipython",
        "version": 3
      },
      "file_extension": ".py",
      "mimetype": "text/x-python",
      "name": "python",
      "nbconvert_exporter": "python",
      "pygments_lexer": "ipython3",
      "version": "3.7.3"
    },
    "colab": {
      "name": "sem05_logreg_svm.ipynb",
      "provenance": [],
      "toc_visible": true
    }
  },
  "cells": [
    {
      "cell_type": "markdown",
      "metadata": {
        "id": "4zdC8cEMSW4N"
      },
      "source": [
        "# Семинар 5"
      ]
    },
    {
      "cell_type": "code",
      "metadata": {
        "id": "cd_8BJ33SW4Q"
      },
      "source": [
        "import matplotlib.pyplot as plt\n",
        "import numpy as np\n",
        "import pandas as pd\n",
        "from sklearn.model_selection import train_test_split\n",
        "\n",
        "%matplotlib inline"
      ],
      "execution_count": 1,
      "outputs": []
    },
    {
      "cell_type": "code",
      "metadata": {
        "id": "fLQuaa41SW4Q"
      },
      "source": [
        "plt.rcParams['figure.figsize'] = (15, 7)"
      ],
      "execution_count": 2,
      "outputs": []
    },
    {
      "cell_type": "markdown",
      "metadata": {
        "id": "uPk2EhTzSW4R"
      },
      "source": [
        "## Линейная классификация\n",
        "\n",
        "### Постановка задачи классификации\n",
        "\n",
        "Пусть задана обучающая выборка $X = \\left\\{ \\left( x_i, y_i \\right) \\right\\}_{i=1}^l, x_i \\in \\mathbb{X}, y_i \\in \\mathbb{Y},$ — $l$ пар объект-ответ, где\n",
        "$\\mathbb{X}$ — пространство объектов,\n",
        "$\\mathbb{Y}$ — пространство ответов.\n",
        "\n",
        "\n",
        "### Логистическая регрессия\n",
        "\n",
        "Рассмотрим в качестве верхней оценки пороговой функции потерь логистическую функцию:\n",
        "\n",
        "$$\\tilde{L}(M) = \\log (1 + \\exp(-M)).$$\n",
        "\n",
        "Таким образом, необходимо решить следующую оптимизационную задачу:\n",
        "$$\\frac{1}{l} \\sum_{i=1}^l \\tilde{L} (M_i) = \\frac{1}{l} \\sum_{i=1}^l \\log (1 + \\exp (-y_i \\langle w, x_i \\rangle)) \\to \\min_w$$\n",
        "\n",
        "Получившийся метод обучения называется **логистической регрессией**.\n",
        "\n",
        "Одно из полезных свойств логистической регрессии, которое будет изучено нами несколько позднее, — тот факт, что она позволяет предсказывать помимо метки класса ещё и вероятность принадлежности каждому из них, что может быть полезным в некоторых задачах.\n",
        "\n",
        "**Пример**: Вы работаете в банке и хотите выдавать кредиты только тем клиентам, которые вернут его с вероятностью не меньше 0.9.\n",
        "\n",
        "Попробуем сконструировать функцию потерь из других соображений.\n",
        "Если алгоритм $b(x) \\in [0, 1]$ действительно выдает вероятности, то\n",
        "они должны согласовываться с выборкой.\n",
        "С точки зрения алгоритма вероятность того, что в выборке встретится объект $x_i$ с классом $y_i$,\n",
        "равна $b(x_i)^{[y_i = +1]} (1 - b(x_i))^{[y_i = -1]}$.\n",
        "\n",
        "Исходя из этого, можно записать правдоподобие выборки (т.е. вероятность получить такую выборку\n",
        "с точки зрения алгоритма):\n",
        "$$\n",
        "    Q(a, X)\n",
        "    =\n",
        "    \\prod_{i = 1}^{\\ell}\n",
        "        b(x_i)^{[y_i = +1]} (1 - b(x_i))^{[y_i = -1]}.\n",
        "$$\n",
        "Данное правдоподобие можно использовать как функционал для обучения алгоритма --\n",
        "с той лишь оговоркой, что удобнее оптимизировать его логарифм:\n",
        "$$\n",
        "    -\\sum_{i = 1}^{\\ell} \\left(\n",
        "        [y_i = +1] \\log b(x_i)\n",
        "        +\n",
        "        [y_i = -1] \\log (1 - b(x_i))\n",
        "    \\right)\n",
        "    \\to\n",
        "    \\min\n",
        "$$\n",
        "Данная функция потерь называется логарифмической (log-loss).\n",
        "\n",
        "Мы хотим предсказывать вероятности, то есть, чтобы наш алгоритм предсказывал числа в интервале [0, 1]. Этого легко достичь, если положить $b(x) = \\sigma(\\langle w, x \\rangle)$,\n",
        "где в качестве $\\sigma$ может выступать любая монотонно неубывающая функция\n",
        "с областью значений $[0, 1]$.\n",
        "Мы будем использовать сигмоидную функцию: $\\sigma(z) = \\frac{1}{1 + \\exp(-z)}$.\n",
        "Таким образом, чем больше скалярное произведение $\\langle w, x \\rangle$,\n",
        "тем больше будет предсказанная вероятность.\n",
        "\n",
        "Подставим трансформированный ответ линейной модели в логарифмическую функцию потерь:\n",
        "\\begin{align*}\n",
        "    -\\sum_{i = 1}^{\\ell} &\\left(\n",
        "        [y_i = +1]\n",
        "        \\log \\frac{1}{1 + \\exp(-\\langle w, x_i \\rangle)}\n",
        "        +\n",
        "        [y_i = -1]\n",
        "        \\log \\frac{\\exp(-\\langle w, x_i \\rangle)}{1 + \\exp(-\\langle w, x_i \\rangle)}\n",
        "    \\right)\n",
        "    =\\\\\n",
        "    &=\n",
        "    -\\sum_{i = 1}^{\\ell} \\left(\n",
        "        [y_i = +1]\n",
        "        \\log \\frac{1}{1 + \\exp(-\\langle w, x_i \\rangle)}\n",
        "        +\n",
        "        [y_i = -1]\n",
        "        \\log \\frac{1}{1 + \\exp(\\langle w, x_i \\rangle)}\n",
        "    \\right)\n",
        "    =\\\\\n",
        "    &=\n",
        "    \\sum_{i = 1}^{\\ell} \\left(\n",
        "        [y_i = +1]\n",
        "        \\log (1 + \\exp(-\\langle w, x_i \\rangle))\n",
        "        +\n",
        "        [y_i = -1]\n",
        "        \\log (1 + \\exp(\\langle w, x_i \\rangle))\n",
        "    \\right)\n",
        "    =\\\\\n",
        "    &=\n",
        "    \\sum_{i = 1}^{\\ell}\n",
        "        \\log \\left(\n",
        "            1 + \\exp(-y_i \\langle w, x_i \\rangle)\n",
        "        \\right).\n",
        "\\end{align*}\n",
        "\n",
        "Полученная функция в точности представляет собой логистические потери,\n",
        "упомянутые в начале.\n",
        "Линейная модель классификации, настроенная путём минимизации данного функционала,\n",
        "называется логистической регрессией.\n",
        "Как видно из приведенных рассуждений, она оптимизирует\n",
        "правдоподобие выборки и дает корректные оценки вероятности принадлежности к положительному классу.\n",
        "\n",
        "\n",
        "### Пример обучения логистической регрессии\n",
        "#### Определение спама по тексту электронного письма\n",
        "\n",
        "Попробуем при помощи моделей линейной классификации построить алгоритм, отделяющий спам от нормальной почты. Для экспериментов воспользуемся небольшим набором данных с [UCI](https://archive.ics.uci.edu/ml/datasets.html). Объекты в датасете соответствуют письмам, которые описаны признаками на основе текста письма, спам — положительный пример для классификации, хорошее письмо — отрицательный пример.\n"
      ]
    },
    {
      "cell_type": "code",
      "metadata": {
        "colab": {
          "base_uri": "https://localhost:8080/"
        },
        "id": "1LakX52JSW4S",
        "outputId": "0c426c37-cc34-4c68-ea07-c72bddc6f635"
      },
      "source": [
        "spam_data = pd.read_csv('spam_data.csv')\n",
        "spam_data.columns"
      ],
      "execution_count": 5,
      "outputs": [
        {
          "output_type": "execute_result",
          "data": {
            "text/plain": [
              "Index(['word_freq_make', 'word_freq_address', 'word_freq_all', 'word_freq_3d',\n",
              "       'word_freq_our', 'word_freq_over', 'word_freq_remove',\n",
              "       'word_freq_internet', 'word_freq_order', 'word_freq_mail',\n",
              "       'word_freq_receive', 'word_freq_will', 'word_freq_people',\n",
              "       'word_freq_report', 'word_freq_addresses', 'word_freq_free',\n",
              "       'word_freq_business', 'word_freq_email', 'word_freq_you',\n",
              "       'word_freq_credit', 'word_freq_your', 'word_freq_font', 'word_freq_000',\n",
              "       'word_freq_money', 'word_freq_hp', 'word_freq_hpl', 'word_freq_george',\n",
              "       'word_freq_650', 'word_freq_lab', 'word_freq_labs', 'word_freq_telnet',\n",
              "       'word_freq_857', 'word_freq_data', 'word_freq_415', 'word_freq_85',\n",
              "       'word_freq_technology', 'word_freq_1999', 'word_freq_parts',\n",
              "       'word_freq_pm', 'word_freq_direct', 'word_freq_cs', 'word_freq_meeting',\n",
              "       'word_freq_original', 'word_freq_project', 'word_freq_re',\n",
              "       'word_freq_edu', 'word_freq_table', 'word_freq_conference',\n",
              "       'char_freq_;', 'char_freq_(', 'char_freq_[', 'char_freq_!',\n",
              "       'char_freq_$', 'char_freq_#', 'capital_run_length_average',\n",
              "       'capital_run_length_longest', 'capital_run_length_total', 'spam'],\n",
              "      dtype='object')"
            ]
          },
          "metadata": {
            "tags": []
          },
          "execution_count": 5
        }
      ]
    },
    {
      "cell_type": "code",
      "metadata": {
        "colab": {
          "base_uri": "https://localhost:8080/"
        },
        "id": "TUXok88iSW4T",
        "outputId": "dd28be7e-d95c-4300-ce95-b0d9b2f354ca"
      },
      "source": [
        "X, y = spam_data.iloc[:, :-1].values, spam_data.iloc[:, -1].values\n",
        "X.shape, y.shape"
      ],
      "execution_count": 6,
      "outputs": [
        {
          "output_type": "execute_result",
          "data": {
            "text/plain": [
              "((4601, 57), (4601,))"
            ]
          },
          "metadata": {
            "tags": []
          },
          "execution_count": 6
        }
      ]
    },
    {
      "cell_type": "code",
      "metadata": {
        "colab": {
          "base_uri": "https://localhost:8080/"
        },
        "id": "zGPGwu2tWnxi",
        "outputId": "f66846dc-03f1-4d61-c6ec-1b693907e1a0"
      },
      "source": [
        "spam_data['spam'].value_counts()"
      ],
      "execution_count": 10,
      "outputs": [
        {
          "output_type": "execute_result",
          "data": {
            "text/plain": [
              "0    2788\n",
              "1    1813\n",
              "Name: spam, dtype: int64"
            ]
          },
          "metadata": {
            "tags": []
          },
          "execution_count": 10
        }
      ]
    },
    {
      "cell_type": "markdown",
      "metadata": {
        "id": "VHOFcbvwSW4T"
      },
      "source": [
        "### Обучение логистической регрессии"
      ]
    },
    {
      "cell_type": "markdown",
      "metadata": {
        "id": "RpwMoKXpSW4U"
      },
      "source": [
        "Разделим выборку на обучающую и тестовую в отношении 80/20 и обучим логистическую регрессию при помощи объекта [LogisticRegression](http://scikit-learn.org/stable/modules/generated/sklearn.linear_model.LogisticRegression.html)."
      ]
    },
    {
      "cell_type": "code",
      "metadata": {
        "id": "vbKMdNxPSW4U"
      },
      "source": [
        "from sklearn.linear_model import LogisticRegression\n",
        "\n",
        "X_train = X[:int(len(X) * 0.8)]\n",
        "y_train = y[:int(len(X) * 0.8)]\n",
        "X_test = X[int(len(X) * 0.8):]\n",
        "y_test = y[int(len(X) * 0.8):]"
      ],
      "execution_count": 7,
      "outputs": []
    },
    {
      "cell_type": "code",
      "metadata": {
        "id": "i31WpoTtVBOR"
      },
      "source": [
        "??LogisticRegression"
      ],
      "execution_count": 8,
      "outputs": []
    },
    {
      "cell_type": "code",
      "metadata": {
        "colab": {
          "base_uri": "https://localhost:8080/"
        },
        "id": "491IOxtASW4V",
        "outputId": "2cab39ac-b666-4c34-c45b-05d531e2e269"
      },
      "source": [
        "lr = LogisticRegression(max_iter=3000, solver='lbfgs', random_state=13)\n",
        "lr.fit(X_train, y_train)"
      ],
      "execution_count": 11,
      "outputs": [
        {
          "output_type": "execute_result",
          "data": {
            "text/plain": [
              "LogisticRegression(C=1.0, class_weight=None, dual=False, fit_intercept=True,\n",
              "                   intercept_scaling=1, l1_ratio=None, max_iter=3000,\n",
              "                   multi_class='auto', n_jobs=None, penalty='l2',\n",
              "                   random_state=13, solver='lbfgs', tol=0.0001, verbose=0,\n",
              "                   warm_start=False)"
            ]
          },
          "metadata": {
            "tags": []
          },
          "execution_count": 11
        }
      ]
    },
    {
      "cell_type": "code",
      "metadata": {
        "id": "iDwkMbeUYh5C"
      },
      "source": [
        "def pred_with_th(X, model, th=0.5):\n",
        "  th = min(max(0, th),1)\n",
        "  probs = model.predict_proba(X)\n",
        "  labels = np.zeros(X.shape[0])\n",
        "  labels = probs > th\n",
        "  return labels "
      ],
      "execution_count": 12,
      "outputs": []
    },
    {
      "cell_type": "markdown",
      "metadata": {
        "id": "81BxbK72SW4V"
      },
      "source": [
        "Вычислим долю правильных ответов при помощи соответствующей функции из модуля [sklearn.metrics](http://scikit-learn.org/stable/modules/classes.html#module-sklearn.metrics)."
      ]
    },
    {
      "cell_type": "code",
      "metadata": {
        "colab": {
          "base_uri": "https://localhost:8080/"
        },
        "id": "9PuS8peqSW4V",
        "outputId": "d2aafe6e-c534-4c5a-a957-7bbe63e0c3bc"
      },
      "source": [
        "from sklearn.metrics import accuracy_score\n",
        "print(accuracy_score(y_train, lr.predict(X_train)))\n",
        "print(accuracy_score(y_test, lr.predict(X_test)))"
      ],
      "execution_count": 13,
      "outputs": [
        {
          "output_type": "stream",
          "text": [
            "0.93125\n",
            "0.7958740499457112\n"
          ],
          "name": "stdout"
        }
      ]
    },
    {
      "cell_type": "markdown",
      "metadata": {
        "id": "ih0mdcuESW4W"
      },
      "source": [
        "В чем проблема?"
      ]
    },
    {
      "cell_type": "code",
      "metadata": {
        "id": "uA8lYegeZ_si"
      },
      "source": [
        "X_train = X[:int(len(X) * 0.8)]\n",
        "y_train = y[:int(len(X) * 0.8)]\n",
        "X_test = X[int(len(X) * 0.8):]\n",
        "y_test = y[int(len(X) * 0.8):]"
      ],
      "execution_count": 16,
      "outputs": []
    },
    {
      "cell_type": "code",
      "metadata": {
        "colab": {
          "base_uri": "https://localhost:8080/"
        },
        "id": "1hpEVIx7aF68",
        "outputId": "ad553a5f-f9bc-47f5-fd53-998e4968440d"
      },
      "source": [
        "y_train.mean(), y_test.mean()"
      ],
      "execution_count": 17,
      "outputs": [
        {
          "output_type": "execute_result",
          "data": {
            "text/plain": [
              "(0.24239130434782608, 1.0)"
            ]
          },
          "metadata": {
            "tags": []
          },
          "execution_count": 17
        }
      ]
    },
    {
      "cell_type": "code",
      "metadata": {
        "colab": {
          "base_uri": "https://localhost:8080/"
        },
        "id": "l4or1eUeSW4W",
        "outputId": "fae20705-5e78-48a5-80db-be610b412d7f"
      },
      "source": [
        "X_train, X_test, y_train, y_test = train_test_split(X, y, test_size=0.2, random_state=13)\n",
        "y_train.mean(), y_test.mean()"
      ],
      "execution_count": 14,
      "outputs": [
        {
          "output_type": "execute_result",
          "data": {
            "text/plain": [
              "(0.39565217391304347, 0.38762214983713356)"
            ]
          },
          "metadata": {
            "tags": []
          },
          "execution_count": 14
        }
      ]
    },
    {
      "cell_type": "code",
      "metadata": {
        "colab": {
          "base_uri": "https://localhost:8080/"
        },
        "id": "OvdNyQ2NSW4W",
        "outputId": "550e76e2-b19e-411b-b099-332f0244e463"
      },
      "source": [
        "X_train, X_test, y_train, y_test = train_test_split(X, y, test_size=0.2, stratify=y, random_state=13)\n",
        "y_train.mean(), y_test.mean()"
      ],
      "execution_count": 18,
      "outputs": [
        {
          "output_type": "execute_result",
          "data": {
            "text/plain": [
              "(0.39402173913043476, 0.3941368078175896)"
            ]
          },
          "metadata": {
            "tags": []
          },
          "execution_count": 18
        }
      ]
    },
    {
      "cell_type": "code",
      "metadata": {
        "colab": {
          "base_uri": "https://localhost:8080/"
        },
        "id": "nZdROgliSW4X",
        "outputId": "cc955cab-24df-4dfe-b4f2-dfd869da71f3"
      },
      "source": [
        "# training\n",
        "lr = LogisticRegression(max_iter=3000, solver='lbfgs')\n",
        "lr.fit(X_train, y_train)"
      ],
      "execution_count": 19,
      "outputs": [
        {
          "output_type": "execute_result",
          "data": {
            "text/plain": [
              "LogisticRegression(C=1.0, class_weight=None, dual=False, fit_intercept=True,\n",
              "                   intercept_scaling=1, l1_ratio=None, max_iter=3000,\n",
              "                   multi_class='auto', n_jobs=None, penalty='l2',\n",
              "                   random_state=None, solver='lbfgs', tol=0.0001, verbose=0,\n",
              "                   warm_start=False)"
            ]
          },
          "metadata": {
            "tags": []
          },
          "execution_count": 19
        }
      ]
    },
    {
      "cell_type": "code",
      "metadata": {
        "colab": {
          "base_uri": "https://localhost:8080/"
        },
        "id": "3uYsGXSwSW4X",
        "outputId": "f30a8ff1-e37e-4fbd-d6fe-c2b42d282c39"
      },
      "source": [
        "print(accuracy_score(y_train, lr.predict(X_train)))\n",
        "print(accuracy_score(y_test, lr.predict(X_test)))"
      ],
      "execution_count": 20,
      "outputs": [
        {
          "output_type": "stream",
          "text": [
            "0.9375\n",
            "0.9120521172638436\n"
          ],
          "name": "stdout"
        }
      ]
    },
    {
      "cell_type": "code",
      "metadata": {
        "colab": {
          "base_uri": "https://localhost:8080/"
        },
        "id": "lFqb0ytva_c2",
        "outputId": "c34d2b98-6cd3-48de-d3f6-2774799d00e3"
      },
      "source": [
        "lr.predict_proba(X_train).sum(axis=1)"
      ],
      "execution_count": 24,
      "outputs": [
        {
          "output_type": "execute_result",
          "data": {
            "text/plain": [
              "array([1., 1., 1., ..., 1., 1., 1.])"
            ]
          },
          "metadata": {
            "tags": []
          },
          "execution_count": 24
        }
      ]
    },
    {
      "cell_type": "markdown",
      "metadata": {
        "id": "BrqCVf1oSW4Y"
      },
      "source": [
        "Теперь будем смотреть на AUC-ROC:"
      ]
    },
    {
      "cell_type": "code",
      "metadata": {
        "colab": {
          "base_uri": "https://localhost:8080/"
        },
        "id": "-xZXWLMsSW4Z",
        "outputId": "b4f9d563-2663-4fe8-932d-4872920582f3"
      },
      "source": [
        "from sklearn.metrics import roc_auc_score\n",
        "print(roc_auc_score(y_train, lr.predict_proba(X_train)[:, 1]))\n",
        "print(roc_auc_score(y_test, lr.predict_proba(X_test)[:, 1]))"
      ],
      "execution_count": 21,
      "outputs": [
        {
          "output_type": "stream",
          "text": [
            "0.9792709138704191\n",
            "0.959082516267267\n"
          ],
          "name": "stdout"
        }
      ]
    },
    {
      "cell_type": "markdown",
      "metadata": {
        "id": "9PDj22itSW4Z"
      },
      "source": [
        "Давайте попробуем сделать лучше. У нашего алгоритма есть разные гиперпараметры: способ регуляризации, коэффициент регуляризации. Запустим поиск по сетке гиперпараметров, алгоритм переберет все возможные комбинации, посчитает метрику для каждого набора и выдаст лучший набор."
      ]
    },
    {
      "cell_type": "code",
      "metadata": {
        "colab": {
          "base_uri": "https://localhost:8080/"
        },
        "id": "OnzYeyvqSW4a",
        "outputId": "36ca6eb8-d5ab-445b-9141-7ee2dc2ac998"
      },
      "source": [
        "np.logspace(-5, 1, 5)"
      ],
      "execution_count": 28,
      "outputs": [
        {
          "output_type": "execute_result",
          "data": {
            "text/plain": [
              "array([1.00000000e-05, 3.16227766e-04, 1.00000000e-02, 3.16227766e-01,\n",
              "       1.00000000e+01])"
            ]
          },
          "metadata": {
            "tags": []
          },
          "execution_count": 28
        }
      ]
    },
    {
      "cell_type": "code",
      "metadata": {
        "colab": {
          "base_uri": "https://localhost:8080/"
        },
        "id": "Lz4NB4xPbceh",
        "outputId": "9f4f3eea-9367-49b0-e230-69c62baf4056"
      },
      "source": [
        "np.linspace(10**(-5), 10, 5)"
      ],
      "execution_count": 29,
      "outputs": [
        {
          "output_type": "execute_result",
          "data": {
            "text/plain": [
              "array([1.0000000e-05, 2.5000075e+00, 5.0000050e+00, 7.5000025e+00,\n",
              "       1.0000000e+01])"
            ]
          },
          "metadata": {
            "tags": []
          },
          "execution_count": 29
        }
      ]
    },
    {
      "cell_type": "markdown",
      "metadata": {
        "id": "MBxY5HyxSW4a"
      },
      "source": [
        "То, какая метрика будет использоваться, определяется параметром `'scoring'`."
      ]
    },
    {
      "cell_type": "code",
      "metadata": {
        "colab": {
          "base_uri": "https://localhost:8080/"
        },
        "id": "QKPKr6mCSW4b",
        "outputId": "ffffd730-fe6d-46bf-e0bd-071b092c902e"
      },
      "source": [
        "from sklearn.metrics import SCORERS\n",
        "sorted(SCORERS.keys())"
      ],
      "execution_count": 30,
      "outputs": [
        {
          "output_type": "execute_result",
          "data": {
            "text/plain": [
              "['accuracy',\n",
              " 'adjusted_mutual_info_score',\n",
              " 'adjusted_rand_score',\n",
              " 'average_precision',\n",
              " 'balanced_accuracy',\n",
              " 'completeness_score',\n",
              " 'explained_variance',\n",
              " 'f1',\n",
              " 'f1_macro',\n",
              " 'f1_micro',\n",
              " 'f1_samples',\n",
              " 'f1_weighted',\n",
              " 'fowlkes_mallows_score',\n",
              " 'homogeneity_score',\n",
              " 'jaccard',\n",
              " 'jaccard_macro',\n",
              " 'jaccard_micro',\n",
              " 'jaccard_samples',\n",
              " 'jaccard_weighted',\n",
              " 'max_error',\n",
              " 'mutual_info_score',\n",
              " 'neg_brier_score',\n",
              " 'neg_log_loss',\n",
              " 'neg_mean_absolute_error',\n",
              " 'neg_mean_gamma_deviance',\n",
              " 'neg_mean_poisson_deviance',\n",
              " 'neg_mean_squared_error',\n",
              " 'neg_mean_squared_log_error',\n",
              " 'neg_median_absolute_error',\n",
              " 'neg_root_mean_squared_error',\n",
              " 'normalized_mutual_info_score',\n",
              " 'precision',\n",
              " 'precision_macro',\n",
              " 'precision_micro',\n",
              " 'precision_samples',\n",
              " 'precision_weighted',\n",
              " 'r2',\n",
              " 'recall',\n",
              " 'recall_macro',\n",
              " 'recall_micro',\n",
              " 'recall_samples',\n",
              " 'recall_weighted',\n",
              " 'roc_auc',\n",
              " 'roc_auc_ovo',\n",
              " 'roc_auc_ovo_weighted',\n",
              " 'roc_auc_ovr',\n",
              " 'roc_auc_ovr_weighted',\n",
              " 'v_measure_score']"
            ]
          },
          "metadata": {
            "tags": []
          },
          "execution_count": 30
        }
      ]
    },
    {
      "cell_type": "code",
      "metadata": {
        "id": "Snv9whmIdcid"
      },
      "source": [
        "from sklearn.model_selection import GridSearchCV"
      ],
      "execution_count": 31,
      "outputs": []
    },
    {
      "cell_type": "code",
      "metadata": {
        "id": "9QAfF_bGdi0z"
      },
      "source": [
        "GridSearchCV()"
      ],
      "execution_count": null,
      "outputs": []
    },
    {
      "cell_type": "code",
      "metadata": {
        "id": "2q0nKgdoSW4b"
      },
      "source": [
        "from sklearn.model_selection import GridSearchCV\n",
        "grid_searcher = GridSearchCV(\n",
        "    LogisticRegression(max_iter=3000, solver='liblinear', random_state=13),\n",
        "    param_grid={\n",
        "        'C': np.logspace(-5, 1, 6),\n",
        "        'penalty': ['l1', 'l2']\n",
        "    },\n",
        "    cv=5,\n",
        "    scoring='roc_auc',\n",
        "    n_jobs=-1,\n",
        "    verbose=5\n",
        ")"
      ],
      "execution_count": 32,
      "outputs": []
    },
    {
      "cell_type": "code",
      "metadata": {
        "colab": {
          "base_uri": "https://localhost:8080/"
        },
        "id": "m2dcXPJPd7Hl",
        "outputId": "e8d99097-594a-48ed-b1cc-cc9716a78f3a"
      },
      "source": [
        "np.logspace(-5, 1, 6).shape"
      ],
      "execution_count": 34,
      "outputs": [
        {
          "output_type": "execute_result",
          "data": {
            "text/plain": [
              "(6,)"
            ]
          },
          "metadata": {
            "tags": []
          },
          "execution_count": 34
        }
      ]
    },
    {
      "cell_type": "markdown",
      "metadata": {
        "id": "IZ01EKN-SW4c"
      },
      "source": [
        "Параметр `cv=5` говорит, что во время поиска оптимальных параметров будет использоваться кросс-валидация с 5 фолдами. Давайте вспомним, что это такое: \n",
        "\n",
        "![alt text](https://scikit-learn.org/stable/_images/grid_search_cross_validation.png)\n",
        "\n",
        "*Source: https://scikit-learn.org/stable/modules/cross_validation.html*\n",
        "\n",
        "В нашем случае, выборка будет разделена на 5 частей, и на каждой из 5 итераций часть данных будет становиться тестовой выборкой, а другая часть - обучающей. Посчитав метрики на каждой итерации, мы сможем усреднить их в конце и получить достаточно точную оценку качества нашего алгоритма."
      ]
    },
    {
      "cell_type": "code",
      "metadata": {
        "colab": {
          "base_uri": "https://localhost:8080/"
        },
        "id": "S8393U7dSW4c",
        "outputId": "91c8d439-426c-4e25-8204-28e73cf72e2d"
      },
      "source": [
        "%%time\n",
        "\n",
        "grid_searcher.fit(X_train, y_train);"
      ],
      "execution_count": 33,
      "outputs": [
        {
          "output_type": "stream",
          "text": [
            "Fitting 5 folds for each of 12 candidates, totalling 60 fits\n"
          ],
          "name": "stdout"
        },
        {
          "output_type": "stream",
          "text": [
            "[Parallel(n_jobs=-1)]: Using backend LokyBackend with 2 concurrent workers.\n",
            "[Parallel(n_jobs=-1)]: Done  14 tasks      | elapsed:    1.2s\n"
          ],
          "name": "stderr"
        },
        {
          "output_type": "stream",
          "text": [
            "CPU times: user 225 ms, sys: 48.2 ms, total: 274 ms\n",
            "Wall time: 2.62 s\n"
          ],
          "name": "stdout"
        },
        {
          "output_type": "stream",
          "text": [
            "[Parallel(n_jobs=-1)]: Done  60 out of  60 | elapsed:    2.5s finished\n"
          ],
          "name": "stderr"
        },
        {
          "output_type": "execute_result",
          "data": {
            "text/plain": [
              "GridSearchCV(cv=5, error_score=nan,\n",
              "             estimator=LogisticRegression(C=1.0, class_weight=None, dual=False,\n",
              "                                          fit_intercept=True,\n",
              "                                          intercept_scaling=1, l1_ratio=None,\n",
              "                                          max_iter=3000, multi_class='auto',\n",
              "                                          n_jobs=None, penalty='l2',\n",
              "                                          random_state=13, solver='liblinear',\n",
              "                                          tol=0.0001, verbose=0,\n",
              "                                          warm_start=False),\n",
              "             iid='deprecated', n_jobs=-1,\n",
              "             param_grid={'C': array([1.00000000e-05, 1.58489319e-04, 2.51188643e-03, 3.98107171e-02,\n",
              "       6.30957344e-01, 1.00000000e+01]),\n",
              "                         'penalty': ['l1', 'l2']},\n",
              "             pre_dispatch='2*n_jobs', refit=True, return_train_score=False,\n",
              "             scoring='roc_auc', verbose=5)"
            ]
          },
          "metadata": {
            "tags": []
          },
          "execution_count": 33
        }
      ]
    },
    {
      "cell_type": "code",
      "metadata": {
        "id": "xJlUDvHGeSVI"
      },
      "source": [
        "best_model = grid_searcher.best_estimator_"
      ],
      "execution_count": 36,
      "outputs": []
    },
    {
      "cell_type": "markdown",
      "metadata": {
        "id": "t6Mwt8XJSW4d"
      },
      "source": [
        "Посмотрим на результаты лучшей модели."
      ]
    },
    {
      "cell_type": "code",
      "metadata": {
        "colab": {
          "base_uri": "https://localhost:8080/"
        },
        "id": "ftpqDfBvSW4d",
        "outputId": "a6196a11-b822-43f4-d02a-8c515d054c08"
      },
      "source": [
        "print(roc_auc_score(y_train, grid_searcher.predict_proba(X_train)[:, 1]))\n",
        "print(roc_auc_score(y_test, grid_searcher.predict_proba(X_test)[:, 1]))"
      ],
      "execution_count": 37,
      "outputs": [
        {
          "output_type": "stream",
          "text": [
            "0.9797957321787536\n",
            "0.9601686463856551\n"
          ],
          "name": "stdout"
        }
      ]
    },
    {
      "cell_type": "markdown",
      "metadata": {
        "id": "sLm6CGNQSW4d"
      },
      "source": [
        "Полные результаты поиска гиперпараметров:"
      ]
    },
    {
      "cell_type": "code",
      "metadata": {
        "colab": {
          "base_uri": "https://localhost:8080/",
          "height": 664
        },
        "id": "1EwoSrZ5SW4e",
        "outputId": "35771b4f-9e1f-4f5a-941d-dae5592d9166"
      },
      "source": [
        "pd.DataFrame(grid_searcher.cv_results_)"
      ],
      "execution_count": 38,
      "outputs": [
        {
          "output_type": "execute_result",
          "data": {
            "text/html": [
              "<div>\n",
              "<style scoped>\n",
              "    .dataframe tbody tr th:only-of-type {\n",
              "        vertical-align: middle;\n",
              "    }\n",
              "\n",
              "    .dataframe tbody tr th {\n",
              "        vertical-align: top;\n",
              "    }\n",
              "\n",
              "    .dataframe thead th {\n",
              "        text-align: right;\n",
              "    }\n",
              "</style>\n",
              "<table border=\"1\" class=\"dataframe\">\n",
              "  <thead>\n",
              "    <tr style=\"text-align: right;\">\n",
              "      <th></th>\n",
              "      <th>mean_fit_time</th>\n",
              "      <th>std_fit_time</th>\n",
              "      <th>mean_score_time</th>\n",
              "      <th>std_score_time</th>\n",
              "      <th>param_C</th>\n",
              "      <th>param_penalty</th>\n",
              "      <th>params</th>\n",
              "      <th>split0_test_score</th>\n",
              "      <th>split1_test_score</th>\n",
              "      <th>split2_test_score</th>\n",
              "      <th>split3_test_score</th>\n",
              "      <th>split4_test_score</th>\n",
              "      <th>mean_test_score</th>\n",
              "      <th>std_test_score</th>\n",
              "      <th>rank_test_score</th>\n",
              "    </tr>\n",
              "  </thead>\n",
              "  <tbody>\n",
              "    <tr>\n",
              "      <th>0</th>\n",
              "      <td>0.009100</td>\n",
              "      <td>0.001268</td>\n",
              "      <td>0.003039</td>\n",
              "      <td>0.000044</td>\n",
              "      <td>1e-05</td>\n",
              "      <td>l1</td>\n",
              "      <td>{'C': 1e-05, 'penalty': 'l1'}</td>\n",
              "      <td>0.747449</td>\n",
              "      <td>0.766457</td>\n",
              "      <td>0.788754</td>\n",
              "      <td>0.773601</td>\n",
              "      <td>0.730134</td>\n",
              "      <td>0.761279</td>\n",
              "      <td>0.020469</td>\n",
              "      <td>12</td>\n",
              "    </tr>\n",
              "    <tr>\n",
              "      <th>1</th>\n",
              "      <td>0.016491</td>\n",
              "      <td>0.002699</td>\n",
              "      <td>0.004468</td>\n",
              "      <td>0.003114</td>\n",
              "      <td>1e-05</td>\n",
              "      <td>l2</td>\n",
              "      <td>{'C': 1e-05, 'penalty': 'l2'}</td>\n",
              "      <td>0.853920</td>\n",
              "      <td>0.845400</td>\n",
              "      <td>0.847766</td>\n",
              "      <td>0.855969</td>\n",
              "      <td>0.819283</td>\n",
              "      <td>0.844467</td>\n",
              "      <td>0.013173</td>\n",
              "      <td>10</td>\n",
              "    </tr>\n",
              "    <tr>\n",
              "      <th>2</th>\n",
              "      <td>0.011038</td>\n",
              "      <td>0.000997</td>\n",
              "      <td>0.003154</td>\n",
              "      <td>0.000277</td>\n",
              "      <td>0.000158489</td>\n",
              "      <td>l1</td>\n",
              "      <td>{'C': 0.00015848931924611142, 'penalty': 'l1'}</td>\n",
              "      <td>0.807623</td>\n",
              "      <td>0.800166</td>\n",
              "      <td>0.822251</td>\n",
              "      <td>0.810109</td>\n",
              "      <td>0.783354</td>\n",
              "      <td>0.804701</td>\n",
              "      <td>0.012822</td>\n",
              "      <td>11</td>\n",
              "    </tr>\n",
              "    <tr>\n",
              "      <th>3</th>\n",
              "      <td>0.024759</td>\n",
              "      <td>0.003065</td>\n",
              "      <td>0.002863</td>\n",
              "      <td>0.000131</td>\n",
              "      <td>0.000158489</td>\n",
              "      <td>l2</td>\n",
              "      <td>{'C': 0.00015848931924611142, 'penalty': 'l2'}</td>\n",
              "      <td>0.910809</td>\n",
              "      <td>0.910020</td>\n",
              "      <td>0.920782</td>\n",
              "      <td>0.923968</td>\n",
              "      <td>0.894580</td>\n",
              "      <td>0.912032</td>\n",
              "      <td>0.010287</td>\n",
              "      <td>8</td>\n",
              "    </tr>\n",
              "    <tr>\n",
              "      <th>4</th>\n",
              "      <td>0.015270</td>\n",
              "      <td>0.005803</td>\n",
              "      <td>0.002957</td>\n",
              "      <td>0.000080</td>\n",
              "      <td>0.00251189</td>\n",
              "      <td>l1</td>\n",
              "      <td>{'C': 0.0025118864315095794, 'penalty': 'l1'}</td>\n",
              "      <td>0.895183</td>\n",
              "      <td>0.879488</td>\n",
              "      <td>0.895775</td>\n",
              "      <td>0.898048</td>\n",
              "      <td>0.873110</td>\n",
              "      <td>0.888321</td>\n",
              "      <td>0.010066</td>\n",
              "      <td>9</td>\n",
              "    </tr>\n",
              "    <tr>\n",
              "      <th>5</th>\n",
              "      <td>0.050225</td>\n",
              "      <td>0.021429</td>\n",
              "      <td>0.003762</td>\n",
              "      <td>0.001585</td>\n",
              "      <td>0.00251189</td>\n",
              "      <td>l2</td>\n",
              "      <td>{'C': 0.0025118864315095794, 'penalty': 'l2'}</td>\n",
              "      <td>0.951446</td>\n",
              "      <td>0.956827</td>\n",
              "      <td>0.954538</td>\n",
              "      <td>0.954523</td>\n",
              "      <td>0.952165</td>\n",
              "      <td>0.953900</td>\n",
              "      <td>0.001918</td>\n",
              "      <td>7</td>\n",
              "    </tr>\n",
              "    <tr>\n",
              "      <th>6</th>\n",
              "      <td>0.019940</td>\n",
              "      <td>0.002419</td>\n",
              "      <td>0.003180</td>\n",
              "      <td>0.000326</td>\n",
              "      <td>0.0398107</td>\n",
              "      <td>l1</td>\n",
              "      <td>{'C': 0.03981071705534969, 'penalty': 'l1'}</td>\n",
              "      <td>0.964288</td>\n",
              "      <td>0.969530</td>\n",
              "      <td>0.960275</td>\n",
              "      <td>0.962927</td>\n",
              "      <td>0.970690</td>\n",
              "      <td>0.965542</td>\n",
              "      <td>0.003964</td>\n",
              "      <td>6</td>\n",
              "    </tr>\n",
              "    <tr>\n",
              "      <th>7</th>\n",
              "      <td>0.058486</td>\n",
              "      <td>0.013591</td>\n",
              "      <td>0.003087</td>\n",
              "      <td>0.000152</td>\n",
              "      <td>0.0398107</td>\n",
              "      <td>l2</td>\n",
              "      <td>{'C': 0.03981071705534969, 'penalty': 'l2'}</td>\n",
              "      <td>0.971641</td>\n",
              "      <td>0.975043</td>\n",
              "      <td>0.962935</td>\n",
              "      <td>0.964999</td>\n",
              "      <td>0.973744</td>\n",
              "      <td>0.969672</td>\n",
              "      <td>0.004827</td>\n",
              "      <td>5</td>\n",
              "    </tr>\n",
              "    <tr>\n",
              "      <th>8</th>\n",
              "      <td>0.021890</td>\n",
              "      <td>0.002675</td>\n",
              "      <td>0.002899</td>\n",
              "      <td>0.000132</td>\n",
              "      <td>0.630957</td>\n",
              "      <td>l1</td>\n",
              "      <td>{'C': 0.630957344480193, 'penalty': 'l1'}</td>\n",
              "      <td>0.975414</td>\n",
              "      <td>0.979419</td>\n",
              "      <td>0.967373</td>\n",
              "      <td>0.971965</td>\n",
              "      <td>0.982132</td>\n",
              "      <td>0.975261</td>\n",
              "      <td>0.005246</td>\n",
              "      <td>1</td>\n",
              "    </tr>\n",
              "    <tr>\n",
              "      <th>9</th>\n",
              "      <td>0.093863</td>\n",
              "      <td>0.038499</td>\n",
              "      <td>0.003230</td>\n",
              "      <td>0.000209</td>\n",
              "      <td>0.630957</td>\n",
              "      <td>l2</td>\n",
              "      <td>{'C': 0.630957344480193, 'penalty': 'l2'}</td>\n",
              "      <td>0.975978</td>\n",
              "      <td>0.978707</td>\n",
              "      <td>0.967040</td>\n",
              "      <td>0.970311</td>\n",
              "      <td>0.980980</td>\n",
              "      <td>0.974603</td>\n",
              "      <td>0.005197</td>\n",
              "      <td>3</td>\n",
              "    </tr>\n",
              "    <tr>\n",
              "      <th>10</th>\n",
              "      <td>0.025545</td>\n",
              "      <td>0.003543</td>\n",
              "      <td>0.002979</td>\n",
              "      <td>0.000221</td>\n",
              "      <td>10</td>\n",
              "      <td>l1</td>\n",
              "      <td>{'C': 10.0, 'penalty': 'l1'}</td>\n",
              "      <td>0.973504</td>\n",
              "      <td>0.974741</td>\n",
              "      <td>0.968409</td>\n",
              "      <td>0.972715</td>\n",
              "      <td>0.982047</td>\n",
              "      <td>0.974283</td>\n",
              "      <td>0.004429</td>\n",
              "      <td>4</td>\n",
              "    </tr>\n",
              "    <tr>\n",
              "      <th>11</th>\n",
              "      <td>0.117871</td>\n",
              "      <td>0.044142</td>\n",
              "      <td>0.002907</td>\n",
              "      <td>0.000285</td>\n",
              "      <td>10</td>\n",
              "      <td>l2</td>\n",
              "      <td>{'C': 10.0, 'penalty': 'l2'}</td>\n",
              "      <td>0.975591</td>\n",
              "      <td>0.978151</td>\n",
              "      <td>0.967620</td>\n",
              "      <td>0.972097</td>\n",
              "      <td>0.982434</td>\n",
              "      <td>0.975179</td>\n",
              "      <td>0.005065</td>\n",
              "      <td>2</td>\n",
              "    </tr>\n",
              "  </tbody>\n",
              "</table>\n",
              "</div>"
            ],
            "text/plain": [
              "    mean_fit_time  std_fit_time  ...  std_test_score  rank_test_score\n",
              "0        0.009100      0.001268  ...        0.020469               12\n",
              "1        0.016491      0.002699  ...        0.013173               10\n",
              "2        0.011038      0.000997  ...        0.012822               11\n",
              "3        0.024759      0.003065  ...        0.010287                8\n",
              "4        0.015270      0.005803  ...        0.010066                9\n",
              "5        0.050225      0.021429  ...        0.001918                7\n",
              "6        0.019940      0.002419  ...        0.003964                6\n",
              "7        0.058486      0.013591  ...        0.004827                5\n",
              "8        0.021890      0.002675  ...        0.005246                1\n",
              "9        0.093863      0.038499  ...        0.005197                3\n",
              "10       0.025545      0.003543  ...        0.004429                4\n",
              "11       0.117871      0.044142  ...        0.005065                2\n",
              "\n",
              "[12 rows x 15 columns]"
            ]
          },
          "metadata": {
            "tags": []
          },
          "execution_count": 38
        }
      ]
    },
    {
      "cell_type": "markdown",
      "metadata": {
        "id": "IhRS4kNKSW4e"
      },
      "source": [
        "Лучшие гиперпараметры:"
      ]
    },
    {
      "cell_type": "code",
      "metadata": {
        "colab": {
          "base_uri": "https://localhost:8080/"
        },
        "id": "QMHouCWESW4e",
        "outputId": "c278b1ba-c5d6-4ac1-de8e-6827ad3c99e1"
      },
      "source": [
        "grid_searcher.best_params_"
      ],
      "execution_count": 39,
      "outputs": [
        {
          "output_type": "execute_result",
          "data": {
            "text/plain": [
              "{'C': 0.630957344480193, 'penalty': 'l1'}"
            ]
          },
          "metadata": {
            "tags": []
          },
          "execution_count": 39
        }
      ]
    },
    {
      "cell_type": "markdown",
      "metadata": {
        "id": "V1-iHrGvSW4f"
      },
      "source": [
        "Лучший скор модели на кросс-валидации:"
      ]
    },
    {
      "cell_type": "code",
      "metadata": {
        "colab": {
          "base_uri": "https://localhost:8080/"
        },
        "id": "nLDJMMgsSW4g",
        "outputId": "81049a2a-cf83-4d8c-f6b8-15e8e5c1b577"
      },
      "source": [
        "grid_searcher.best_score_"
      ],
      "execution_count": 40,
      "outputs": [
        {
          "output_type": "execute_result",
          "data": {
            "text/plain": [
              "0.9752605535797123"
            ]
          },
          "metadata": {
            "tags": []
          },
          "execution_count": 40
        }
      ]
    },
    {
      "cell_type": "markdown",
      "metadata": {
        "id": "TycrWkqlSW4g"
      },
      "source": [
        "Мы также можем выделить лучшую модель:"
      ]
    },
    {
      "cell_type": "code",
      "metadata": {
        "colab": {
          "base_uri": "https://localhost:8080/"
        },
        "id": "sbgaKyDtSW4o",
        "outputId": "929d7e8b-a8c6-4867-95e1-f5a94fc62aa4"
      },
      "source": [
        "lr = grid_searcher.best_estimator_"
      ],
      "execution_count": 41,
      "outputs": [
        {
          "output_type": "execute_result",
          "data": {
            "text/plain": [
              "LogisticRegression(C=0.630957344480193, class_weight=None, dual=False,\n",
              "                   fit_intercept=True, intercept_scaling=1, l1_ratio=None,\n",
              "                   max_iter=3000, multi_class='auto', n_jobs=None, penalty='l1',\n",
              "                   random_state=13, solver='liblinear', tol=0.0001, verbose=0,\n",
              "                   warm_start=False)"
            ]
          },
          "metadata": {
            "tags": []
          },
          "execution_count": 41
        }
      ]
    },
    {
      "cell_type": "markdown",
      "metadata": {
        "id": "ixc2QH12SW4o"
      },
      "source": [
        "Оценку модели на кросс-валидации мы можем получить и без перебора гиперпараметров:"
      ]
    },
    {
      "cell_type": "code",
      "metadata": {
        "colab": {
          "base_uri": "https://localhost:8080/"
        },
        "id": "UifukPf_SW4p",
        "outputId": "2c0311d3-4dec-4d3e-afe7-7402725495e1"
      },
      "source": [
        "from sklearn.model_selection import cross_val_score\n",
        "cv_score = cross_val_score(lr, X_train, y_train, scoring='roc_auc', cv=5)\n",
        "print(cv_score)\n",
        "print(cv_score.mean())"
      ],
      "execution_count": 42,
      "outputs": [
        {
          "output_type": "stream",
          "text": [
            "[0.97541364 0.97941859 0.96737282 0.97196536 0.98213236]\n",
            "0.9752605535797123\n"
          ],
          "name": "stdout"
        }
      ]
    },
    {
      "cell_type": "markdown",
      "metadata": {
        "id": "J-HRfWXbSW4q"
      },
      "source": [
        "Вместо перебора по сетке можно перебирать гиперпараметры, сгенерированные из заданного распределения."
      ]
    },
    {
      "cell_type": "code",
      "metadata": {
        "id": "IERyU2ybSW4q"
      },
      "source": [
        "from scipy.stats import uniform\n",
        "from sklearn.model_selection import RandomizedSearchCV\n",
        "#lr = LogisticRegression(max_iter=3000, solver='liblinear', random_state=13)\n",
        "lr = SVC(C=C, kernel='rbf')\n",
        "distributions = dict(C=uniform(loc=0.0001, scale=10))\n",
        "clf = RandomizedSearchCV(lr, distributions, n_iter=50, cv=5, verbose=5, scoring='roc_auc', random_state=13, n_jobs=-1)"
      ],
      "execution_count": 60,
      "outputs": []
    },
    {
      "cell_type": "code",
      "metadata": {
        "colab": {
          "base_uri": "https://localhost:8080/",
          "height": 397
        },
        "id": "BQ9ZegN3SW4r",
        "outputId": "dcb20cb3-66c4-4d7a-c40f-8ef436a58789"
      },
      "source": [
        "%%time\n",
        "clf.fit(X_train, y_train)"
      ],
      "execution_count": 61,
      "outputs": [
        {
          "output_type": "stream",
          "text": [
            "Fitting 5 folds for each of 50 candidates, totalling 250 fits\n"
          ],
          "name": "stdout"
        },
        {
          "output_type": "stream",
          "text": [
            "[Parallel(n_jobs=-1)]: Using backend LokyBackend with 2 concurrent workers.\n"
          ],
          "name": "stderr"
        },
        {
          "output_type": "error",
          "ename": "KeyboardInterrupt",
          "evalue": "ignored",
          "traceback": [
            "\u001b[0;31m---------------------------------------------------------------------------\u001b[0m",
            "\u001b[0;31mKeyboardInterrupt\u001b[0m                         Traceback (most recent call last)",
            "\u001b[0;32m<ipython-input-61-145cd8dd7d35>\u001b[0m in \u001b[0;36m<module>\u001b[0;34m()\u001b[0m\n\u001b[0;32m----> 1\u001b[0;31m \u001b[0mget_ipython\u001b[0m\u001b[0;34m(\u001b[0m\u001b[0;34m)\u001b[0m\u001b[0;34m.\u001b[0m\u001b[0mrun_cell_magic\u001b[0m\u001b[0;34m(\u001b[0m\u001b[0;34m'time'\u001b[0m\u001b[0;34m,\u001b[0m \u001b[0;34m''\u001b[0m\u001b[0;34m,\u001b[0m \u001b[0;34m'clf.fit(X_train, y_train)'\u001b[0m\u001b[0;34m)\u001b[0m\u001b[0;34m\u001b[0m\u001b[0;34m\u001b[0m\u001b[0m\n\u001b[0m",
            "\u001b[0;32m/usr/local/lib/python3.7/dist-packages/IPython/core/interactiveshell.py\u001b[0m in \u001b[0;36mrun_cell_magic\u001b[0;34m(self, magic_name, line, cell)\u001b[0m\n\u001b[1;32m   2115\u001b[0m             \u001b[0mmagic_arg_s\u001b[0m \u001b[0;34m=\u001b[0m \u001b[0mself\u001b[0m\u001b[0;34m.\u001b[0m\u001b[0mvar_expand\u001b[0m\u001b[0;34m(\u001b[0m\u001b[0mline\u001b[0m\u001b[0;34m,\u001b[0m \u001b[0mstack_depth\u001b[0m\u001b[0;34m)\u001b[0m\u001b[0;34m\u001b[0m\u001b[0;34m\u001b[0m\u001b[0m\n\u001b[1;32m   2116\u001b[0m             \u001b[0;32mwith\u001b[0m \u001b[0mself\u001b[0m\u001b[0;34m.\u001b[0m\u001b[0mbuiltin_trap\u001b[0m\u001b[0;34m:\u001b[0m\u001b[0;34m\u001b[0m\u001b[0;34m\u001b[0m\u001b[0m\n\u001b[0;32m-> 2117\u001b[0;31m                 \u001b[0mresult\u001b[0m \u001b[0;34m=\u001b[0m \u001b[0mfn\u001b[0m\u001b[0;34m(\u001b[0m\u001b[0mmagic_arg_s\u001b[0m\u001b[0;34m,\u001b[0m \u001b[0mcell\u001b[0m\u001b[0;34m)\u001b[0m\u001b[0;34m\u001b[0m\u001b[0;34m\u001b[0m\u001b[0m\n\u001b[0m\u001b[1;32m   2118\u001b[0m             \u001b[0;32mreturn\u001b[0m \u001b[0mresult\u001b[0m\u001b[0;34m\u001b[0m\u001b[0;34m\u001b[0m\u001b[0m\n\u001b[1;32m   2119\u001b[0m \u001b[0;34m\u001b[0m\u001b[0m\n",
            "\u001b[0;32m<decorator-gen-53>\u001b[0m in \u001b[0;36mtime\u001b[0;34m(self, line, cell, local_ns)\u001b[0m\n",
            "\u001b[0;32m/usr/local/lib/python3.7/dist-packages/IPython/core/magic.py\u001b[0m in \u001b[0;36m<lambda>\u001b[0;34m(f, *a, **k)\u001b[0m\n\u001b[1;32m    186\u001b[0m     \u001b[0;31m# but it's overkill for just that one bit of state.\u001b[0m\u001b[0;34m\u001b[0m\u001b[0;34m\u001b[0m\u001b[0;34m\u001b[0m\u001b[0m\n\u001b[1;32m    187\u001b[0m     \u001b[0;32mdef\u001b[0m \u001b[0mmagic_deco\u001b[0m\u001b[0;34m(\u001b[0m\u001b[0marg\u001b[0m\u001b[0;34m)\u001b[0m\u001b[0;34m:\u001b[0m\u001b[0;34m\u001b[0m\u001b[0;34m\u001b[0m\u001b[0m\n\u001b[0;32m--> 188\u001b[0;31m         \u001b[0mcall\u001b[0m \u001b[0;34m=\u001b[0m \u001b[0;32mlambda\u001b[0m \u001b[0mf\u001b[0m\u001b[0;34m,\u001b[0m \u001b[0;34m*\u001b[0m\u001b[0ma\u001b[0m\u001b[0;34m,\u001b[0m \u001b[0;34m**\u001b[0m\u001b[0mk\u001b[0m\u001b[0;34m:\u001b[0m \u001b[0mf\u001b[0m\u001b[0;34m(\u001b[0m\u001b[0;34m*\u001b[0m\u001b[0ma\u001b[0m\u001b[0;34m,\u001b[0m \u001b[0;34m**\u001b[0m\u001b[0mk\u001b[0m\u001b[0;34m)\u001b[0m\u001b[0;34m\u001b[0m\u001b[0;34m\u001b[0m\u001b[0m\n\u001b[0m\u001b[1;32m    189\u001b[0m \u001b[0;34m\u001b[0m\u001b[0m\n\u001b[1;32m    190\u001b[0m         \u001b[0;32mif\u001b[0m \u001b[0mcallable\u001b[0m\u001b[0;34m(\u001b[0m\u001b[0marg\u001b[0m\u001b[0;34m)\u001b[0m\u001b[0;34m:\u001b[0m\u001b[0;34m\u001b[0m\u001b[0;34m\u001b[0m\u001b[0m\n",
            "\u001b[0;32m/usr/local/lib/python3.7/dist-packages/IPython/core/magics/execution.py\u001b[0m in \u001b[0;36mtime\u001b[0;34m(self, line, cell, local_ns)\u001b[0m\n\u001b[1;32m   1187\u001b[0m         \u001b[0;32mif\u001b[0m \u001b[0mmode\u001b[0m\u001b[0;34m==\u001b[0m\u001b[0;34m'eval'\u001b[0m\u001b[0;34m:\u001b[0m\u001b[0;34m\u001b[0m\u001b[0;34m\u001b[0m\u001b[0m\n\u001b[1;32m   1188\u001b[0m             \u001b[0mst\u001b[0m \u001b[0;34m=\u001b[0m \u001b[0mclock2\u001b[0m\u001b[0;34m(\u001b[0m\u001b[0;34m)\u001b[0m\u001b[0;34m\u001b[0m\u001b[0;34m\u001b[0m\u001b[0m\n\u001b[0;32m-> 1189\u001b[0;31m             \u001b[0mout\u001b[0m \u001b[0;34m=\u001b[0m \u001b[0meval\u001b[0m\u001b[0;34m(\u001b[0m\u001b[0mcode\u001b[0m\u001b[0;34m,\u001b[0m \u001b[0mglob\u001b[0m\u001b[0;34m,\u001b[0m \u001b[0mlocal_ns\u001b[0m\u001b[0;34m)\u001b[0m\u001b[0;34m\u001b[0m\u001b[0;34m\u001b[0m\u001b[0m\n\u001b[0m\u001b[1;32m   1190\u001b[0m             \u001b[0mend\u001b[0m \u001b[0;34m=\u001b[0m \u001b[0mclock2\u001b[0m\u001b[0;34m(\u001b[0m\u001b[0;34m)\u001b[0m\u001b[0;34m\u001b[0m\u001b[0;34m\u001b[0m\u001b[0m\n\u001b[1;32m   1191\u001b[0m         \u001b[0;32melse\u001b[0m\u001b[0;34m:\u001b[0m\u001b[0;34m\u001b[0m\u001b[0;34m\u001b[0m\u001b[0m\n",
            "\u001b[0;32m<timed eval>\u001b[0m in \u001b[0;36m<module>\u001b[0;34m()\u001b[0m\n",
            "\u001b[0;32m/usr/local/lib/python3.7/dist-packages/sklearn/model_selection/_search.py\u001b[0m in \u001b[0;36mfit\u001b[0;34m(self, X, y, groups, **fit_params)\u001b[0m\n\u001b[1;32m    708\u001b[0m                 \u001b[0;32mreturn\u001b[0m \u001b[0mresults\u001b[0m\u001b[0;34m\u001b[0m\u001b[0;34m\u001b[0m\u001b[0m\n\u001b[1;32m    709\u001b[0m \u001b[0;34m\u001b[0m\u001b[0m\n\u001b[0;32m--> 710\u001b[0;31m             \u001b[0mself\u001b[0m\u001b[0;34m.\u001b[0m\u001b[0m_run_search\u001b[0m\u001b[0;34m(\u001b[0m\u001b[0mevaluate_candidates\u001b[0m\u001b[0;34m)\u001b[0m\u001b[0;34m\u001b[0m\u001b[0;34m\u001b[0m\u001b[0m\n\u001b[0m\u001b[1;32m    711\u001b[0m \u001b[0;34m\u001b[0m\u001b[0m\n\u001b[1;32m    712\u001b[0m         \u001b[0;31m# For multi-metric evaluation, store the best_index_, best_params_ and\u001b[0m\u001b[0;34m\u001b[0m\u001b[0;34m\u001b[0m\u001b[0;34m\u001b[0m\u001b[0m\n",
            "\u001b[0;32m/usr/local/lib/python3.7/dist-packages/sklearn/model_selection/_search.py\u001b[0m in \u001b[0;36m_run_search\u001b[0;34m(self, evaluate_candidates)\u001b[0m\n\u001b[1;32m   1482\u001b[0m         evaluate_candidates(ParameterSampler(\n\u001b[1;32m   1483\u001b[0m             \u001b[0mself\u001b[0m\u001b[0;34m.\u001b[0m\u001b[0mparam_distributions\u001b[0m\u001b[0;34m,\u001b[0m \u001b[0mself\u001b[0m\u001b[0;34m.\u001b[0m\u001b[0mn_iter\u001b[0m\u001b[0;34m,\u001b[0m\u001b[0;34m\u001b[0m\u001b[0;34m\u001b[0m\u001b[0m\n\u001b[0;32m-> 1484\u001b[0;31m             random_state=self.random_state))\n\u001b[0m",
            "\u001b[0;32m/usr/local/lib/python3.7/dist-packages/sklearn/model_selection/_search.py\u001b[0m in \u001b[0;36mevaluate_candidates\u001b[0;34m(candidate_params)\u001b[0m\n\u001b[1;32m    687\u001b[0m                                \u001b[0;32mfor\u001b[0m \u001b[0mparameters\u001b[0m\u001b[0;34m,\u001b[0m \u001b[0;34m(\u001b[0m\u001b[0mtrain\u001b[0m\u001b[0;34m,\u001b[0m \u001b[0mtest\u001b[0m\u001b[0;34m)\u001b[0m\u001b[0;34m\u001b[0m\u001b[0;34m\u001b[0m\u001b[0m\n\u001b[1;32m    688\u001b[0m                                in product(candidate_params,\n\u001b[0;32m--> 689\u001b[0;31m                                           cv.split(X, y, groups)))\n\u001b[0m\u001b[1;32m    690\u001b[0m \u001b[0;34m\u001b[0m\u001b[0m\n\u001b[1;32m    691\u001b[0m                 \u001b[0;32mif\u001b[0m \u001b[0mlen\u001b[0m\u001b[0;34m(\u001b[0m\u001b[0mout\u001b[0m\u001b[0;34m)\u001b[0m \u001b[0;34m<\u001b[0m \u001b[0;36m1\u001b[0m\u001b[0;34m:\u001b[0m\u001b[0;34m\u001b[0m\u001b[0;34m\u001b[0m\u001b[0m\n",
            "\u001b[0;32m/usr/local/lib/python3.7/dist-packages/joblib/parallel.py\u001b[0m in \u001b[0;36m__call__\u001b[0;34m(self, iterable)\u001b[0m\n\u001b[1;32m   1052\u001b[0m \u001b[0;34m\u001b[0m\u001b[0m\n\u001b[1;32m   1053\u001b[0m             \u001b[0;32mwith\u001b[0m \u001b[0mself\u001b[0m\u001b[0;34m.\u001b[0m\u001b[0m_backend\u001b[0m\u001b[0;34m.\u001b[0m\u001b[0mretrieval_context\u001b[0m\u001b[0;34m(\u001b[0m\u001b[0;34m)\u001b[0m\u001b[0;34m:\u001b[0m\u001b[0;34m\u001b[0m\u001b[0;34m\u001b[0m\u001b[0m\n\u001b[0;32m-> 1054\u001b[0;31m                 \u001b[0mself\u001b[0m\u001b[0;34m.\u001b[0m\u001b[0mretrieve\u001b[0m\u001b[0;34m(\u001b[0m\u001b[0;34m)\u001b[0m\u001b[0;34m\u001b[0m\u001b[0;34m\u001b[0m\u001b[0m\n\u001b[0m\u001b[1;32m   1055\u001b[0m             \u001b[0;31m# Make sure that we get a last message telling us we are done\u001b[0m\u001b[0;34m\u001b[0m\u001b[0;34m\u001b[0m\u001b[0;34m\u001b[0m\u001b[0m\n\u001b[1;32m   1056\u001b[0m             \u001b[0melapsed_time\u001b[0m \u001b[0;34m=\u001b[0m \u001b[0mtime\u001b[0m\u001b[0;34m.\u001b[0m\u001b[0mtime\u001b[0m\u001b[0;34m(\u001b[0m\u001b[0;34m)\u001b[0m \u001b[0;34m-\u001b[0m \u001b[0mself\u001b[0m\u001b[0;34m.\u001b[0m\u001b[0m_start_time\u001b[0m\u001b[0;34m\u001b[0m\u001b[0;34m\u001b[0m\u001b[0m\n",
            "\u001b[0;32m/usr/local/lib/python3.7/dist-packages/joblib/parallel.py\u001b[0m in \u001b[0;36mretrieve\u001b[0;34m(self)\u001b[0m\n\u001b[1;32m    931\u001b[0m             \u001b[0;32mtry\u001b[0m\u001b[0;34m:\u001b[0m\u001b[0;34m\u001b[0m\u001b[0;34m\u001b[0m\u001b[0m\n\u001b[1;32m    932\u001b[0m                 \u001b[0;32mif\u001b[0m \u001b[0mgetattr\u001b[0m\u001b[0;34m(\u001b[0m\u001b[0mself\u001b[0m\u001b[0;34m.\u001b[0m\u001b[0m_backend\u001b[0m\u001b[0;34m,\u001b[0m \u001b[0;34m'supports_timeout'\u001b[0m\u001b[0;34m,\u001b[0m \u001b[0;32mFalse\u001b[0m\u001b[0;34m)\u001b[0m\u001b[0;34m:\u001b[0m\u001b[0;34m\u001b[0m\u001b[0;34m\u001b[0m\u001b[0m\n\u001b[0;32m--> 933\u001b[0;31m                     \u001b[0mself\u001b[0m\u001b[0;34m.\u001b[0m\u001b[0m_output\u001b[0m\u001b[0;34m.\u001b[0m\u001b[0mextend\u001b[0m\u001b[0;34m(\u001b[0m\u001b[0mjob\u001b[0m\u001b[0;34m.\u001b[0m\u001b[0mget\u001b[0m\u001b[0;34m(\u001b[0m\u001b[0mtimeout\u001b[0m\u001b[0;34m=\u001b[0m\u001b[0mself\u001b[0m\u001b[0;34m.\u001b[0m\u001b[0mtimeout\u001b[0m\u001b[0;34m)\u001b[0m\u001b[0;34m)\u001b[0m\u001b[0;34m\u001b[0m\u001b[0;34m\u001b[0m\u001b[0m\n\u001b[0m\u001b[1;32m    934\u001b[0m                 \u001b[0;32melse\u001b[0m\u001b[0;34m:\u001b[0m\u001b[0;34m\u001b[0m\u001b[0;34m\u001b[0m\u001b[0m\n\u001b[1;32m    935\u001b[0m                     \u001b[0mself\u001b[0m\u001b[0;34m.\u001b[0m\u001b[0m_output\u001b[0m\u001b[0;34m.\u001b[0m\u001b[0mextend\u001b[0m\u001b[0;34m(\u001b[0m\u001b[0mjob\u001b[0m\u001b[0;34m.\u001b[0m\u001b[0mget\u001b[0m\u001b[0;34m(\u001b[0m\u001b[0;34m)\u001b[0m\u001b[0;34m)\u001b[0m\u001b[0;34m\u001b[0m\u001b[0;34m\u001b[0m\u001b[0m\n",
            "\u001b[0;32m/usr/local/lib/python3.7/dist-packages/joblib/_parallel_backends.py\u001b[0m in \u001b[0;36mwrap_future_result\u001b[0;34m(future, timeout)\u001b[0m\n\u001b[1;32m    540\u001b[0m         AsyncResults.get from multiprocessing.\"\"\"\n\u001b[1;32m    541\u001b[0m         \u001b[0;32mtry\u001b[0m\u001b[0;34m:\u001b[0m\u001b[0;34m\u001b[0m\u001b[0;34m\u001b[0m\u001b[0m\n\u001b[0;32m--> 542\u001b[0;31m             \u001b[0;32mreturn\u001b[0m \u001b[0mfuture\u001b[0m\u001b[0;34m.\u001b[0m\u001b[0mresult\u001b[0m\u001b[0;34m(\u001b[0m\u001b[0mtimeout\u001b[0m\u001b[0;34m=\u001b[0m\u001b[0mtimeout\u001b[0m\u001b[0;34m)\u001b[0m\u001b[0;34m\u001b[0m\u001b[0;34m\u001b[0m\u001b[0m\n\u001b[0m\u001b[1;32m    543\u001b[0m         \u001b[0;32mexcept\u001b[0m \u001b[0mCfTimeoutError\u001b[0m \u001b[0;32mas\u001b[0m \u001b[0me\u001b[0m\u001b[0;34m:\u001b[0m\u001b[0;34m\u001b[0m\u001b[0;34m\u001b[0m\u001b[0m\n\u001b[1;32m    544\u001b[0m             \u001b[0;32mraise\u001b[0m \u001b[0mTimeoutError\u001b[0m \u001b[0;32mfrom\u001b[0m \u001b[0me\u001b[0m\u001b[0;34m\u001b[0m\u001b[0;34m\u001b[0m\u001b[0m\n",
            "\u001b[0;32m/usr/lib/python3.7/concurrent/futures/_base.py\u001b[0m in \u001b[0;36mresult\u001b[0;34m(self, timeout)\u001b[0m\n\u001b[1;32m    428\u001b[0m                 \u001b[0;32mreturn\u001b[0m \u001b[0mself\u001b[0m\u001b[0;34m.\u001b[0m\u001b[0m__get_result\u001b[0m\u001b[0;34m(\u001b[0m\u001b[0;34m)\u001b[0m\u001b[0;34m\u001b[0m\u001b[0;34m\u001b[0m\u001b[0m\n\u001b[1;32m    429\u001b[0m \u001b[0;34m\u001b[0m\u001b[0m\n\u001b[0;32m--> 430\u001b[0;31m             \u001b[0mself\u001b[0m\u001b[0;34m.\u001b[0m\u001b[0m_condition\u001b[0m\u001b[0;34m.\u001b[0m\u001b[0mwait\u001b[0m\u001b[0;34m(\u001b[0m\u001b[0mtimeout\u001b[0m\u001b[0;34m)\u001b[0m\u001b[0;34m\u001b[0m\u001b[0;34m\u001b[0m\u001b[0m\n\u001b[0m\u001b[1;32m    431\u001b[0m \u001b[0;34m\u001b[0m\u001b[0m\n\u001b[1;32m    432\u001b[0m             \u001b[0;32mif\u001b[0m \u001b[0mself\u001b[0m\u001b[0;34m.\u001b[0m\u001b[0m_state\u001b[0m \u001b[0;32min\u001b[0m \u001b[0;34m[\u001b[0m\u001b[0mCANCELLED\u001b[0m\u001b[0;34m,\u001b[0m \u001b[0mCANCELLED_AND_NOTIFIED\u001b[0m\u001b[0;34m]\u001b[0m\u001b[0;34m:\u001b[0m\u001b[0;34m\u001b[0m\u001b[0;34m\u001b[0m\u001b[0m\n",
            "\u001b[0;32m/usr/lib/python3.7/threading.py\u001b[0m in \u001b[0;36mwait\u001b[0;34m(self, timeout)\u001b[0m\n\u001b[1;32m    294\u001b[0m         \u001b[0;32mtry\u001b[0m\u001b[0;34m:\u001b[0m    \u001b[0;31m# restore state no matter what (e.g., KeyboardInterrupt)\u001b[0m\u001b[0;34m\u001b[0m\u001b[0;34m\u001b[0m\u001b[0m\n\u001b[1;32m    295\u001b[0m             \u001b[0;32mif\u001b[0m \u001b[0mtimeout\u001b[0m \u001b[0;32mis\u001b[0m \u001b[0;32mNone\u001b[0m\u001b[0;34m:\u001b[0m\u001b[0;34m\u001b[0m\u001b[0;34m\u001b[0m\u001b[0m\n\u001b[0;32m--> 296\u001b[0;31m                 \u001b[0mwaiter\u001b[0m\u001b[0;34m.\u001b[0m\u001b[0macquire\u001b[0m\u001b[0;34m(\u001b[0m\u001b[0;34m)\u001b[0m\u001b[0;34m\u001b[0m\u001b[0;34m\u001b[0m\u001b[0m\n\u001b[0m\u001b[1;32m    297\u001b[0m                 \u001b[0mgotit\u001b[0m \u001b[0;34m=\u001b[0m \u001b[0;32mTrue\u001b[0m\u001b[0;34m\u001b[0m\u001b[0;34m\u001b[0m\u001b[0m\n\u001b[1;32m    298\u001b[0m             \u001b[0;32melse\u001b[0m\u001b[0;34m:\u001b[0m\u001b[0;34m\u001b[0m\u001b[0;34m\u001b[0m\u001b[0m\n",
            "\u001b[0;31mKeyboardInterrupt\u001b[0m: "
          ]
        }
      ]
    },
    {
      "cell_type": "code",
      "metadata": {
        "colab": {
          "base_uri": "https://localhost:8080/"
        },
        "id": "-6PXRVGtSW4r",
        "outputId": "b28680f3-b351-49cd-9dc4-99f4aece6029"
      },
      "source": [
        "clf.best_score_"
      ],
      "execution_count": 51,
      "outputs": [
        {
          "output_type": "execute_result",
          "data": {
            "text/plain": [
              "0.9753687954229164"
            ]
          },
          "metadata": {
            "tags": []
          },
          "execution_count": 51
        }
      ]
    },
    {
      "cell_type": "code",
      "metadata": {
        "colab": {
          "base_uri": "https://localhost:8080/"
        },
        "id": "45-ijIvGSW4s",
        "outputId": "cea71c73-8e6d-4d95-fcd6-d76de25b289a"
      },
      "source": [
        "print(roc_auc_score(y_train, clf.predict_proba(X_train)[:, 1]))\n",
        "print(roc_auc_score(y_test, clf.predict_proba(X_test)[:, 1]))"
      ],
      "execution_count": 52,
      "outputs": [
        {
          "output_type": "stream",
          "text": [
            "0.9802837482603989\n",
            "0.9596008965510431\n"
          ],
          "name": "stdout"
        }
      ]
    },
    {
      "cell_type": "markdown",
      "metadata": {
        "id": "SN_Bz_mOSW4s"
      },
      "source": [
        "Для некоторых моделей из `sklearn` можно сразу применить кросс-валидацию:"
      ]
    },
    {
      "cell_type": "code",
      "metadata": {
        "id": "pHHFu1KKSW4s"
      },
      "source": [
        "from sklearn.linear_model import LogisticRegressionCV\n",
        "lr = LogisticRegressionCV(max_iter=3000, solver='lbfgs', cv=5, random_state=13)\n",
        "lr.fit(X_train, y_train)"
      ],
      "execution_count": null,
      "outputs": []
    },
    {
      "cell_type": "code",
      "metadata": {
        "id": "j2w_vEagSW4u"
      },
      "source": [
        "lr.C_"
      ],
      "execution_count": null,
      "outputs": []
    },
    {
      "cell_type": "code",
      "metadata": {
        "id": "4HJoS3i7SW4u"
      },
      "source": [
        "print(roc_auc_score(y_train, lr.predict_proba(X_train)[:, 1]))\n",
        "print(roc_auc_score(y_test, lr.predict_proba(X_test)[:, 1]))"
      ],
      "execution_count": null,
      "outputs": []
    },
    {
      "cell_type": "markdown",
      "metadata": {
        "id": "sXlNtaUsSW4u"
      },
      "source": [
        "# SVM\n",
        "\n",
        "Рассмотрим теперь другой подход к построению функции потерь,\n",
        "основанный на максимизации зазора между классами.\n",
        "Будем рассматривать линейные классификаторы вида\n",
        "$$\n",
        "    a(x) = sign (\\langle w, x \\rangle + b), \\qquad w \\in R^d, b \\in R.\n",
        "$$\n",
        "\n",
        "### Разделимый случай\n",
        "Будем считать, что существуют такие параметры $w_*$ и $b_*$,\n",
        "что соответствующий им классификатор $a(x)$ не допускает ни одной ошибки\n",
        "на обучающей выборке.\n",
        "В этом случае говорят, что выборка __линейно разделима__.\n",
        "\n",
        "Пусть задан некоторый классификатор $a(x) = sign (\\langle w, x \\rangle + b)$.\n",
        "Заметим, что если одновременно умножить параметры $w$ и $b$\n",
        "на одну и ту же положительную константу,\n",
        "то классификатор не изменится.\n",
        "Распорядимся этой свободой выбора и отнормируем параметры так, что\n",
        "\n",
        "\\begin{equation}\n",
        "\\label{eq:svmNormCond}\n",
        "    \\min_{x \\in X} | \\langle w, x \\rangle + b| = 1.\n",
        "\\end{equation}\n",
        "\n",
        "Можно показать, что расстояние от произвольной точки $x_0 \\in R^d$ до гиперплоскости,\n",
        "определяемой данным классификатором, равно\n",
        "\n",
        "$$\n",
        "    \\rho(x_0, a)\n",
        "    =\n",
        "    \\frac{\n",
        "        |\\langle w, x \\rangle + b|\n",
        "    }{\n",
        "        \\|w\\|\n",
        "    }.\n",
        "$$\n",
        "\n",
        "Тогда расстояние от гиперплоскости до ближайшего объекта обучающей выборки равно\n",
        "\n",
        "$$\n",
        "    \\min_{x \\in X}\n",
        "    \\frac{\n",
        "        |\\langle w, x \\rangle + b|\n",
        "    }{\n",
        "        \\|w\\|\n",
        "    }\n",
        "    =\n",
        "    \\frac{1}{\\|w\\|} \\min_{x \\in X} |\\langle w, x \\rangle + b|\n",
        "    =\n",
        "    \\frac{1}{\\|w\\|}.\n",
        "$$\n",
        "\n",
        "Данная величина также называется __отступом (margin)__.\n",
        "\n",
        "Таким образом, если классификатор без ошибок разделяет обучающую выборку,\n",
        "то ширина его разделяющей полосы равна $\\frac{2}{\\|w\\|}$.\n",
        "Известно, что максимизация ширины разделяющей полосы приводит\n",
        "к повышению обобщающей способности классификатора.\n",
        "Вспомним также, что на повышение обобщающей способности направлена и регуляризация,\n",
        "которая штрафует большую норму весов -- а чем больше норма весов,\n",
        "тем меньше ширина разделяющей полосы.\n",
        "\n",
        "Итак, требуется построить классификатор, идеально разделяющий обучающую выборку,\n",
        "и при этом имеющий максимальный отступ.\n",
        "Запишем соответствующую оптимизационную задачу,\n",
        "которая и будет определять метод опорных векторов для линейно разделимой выборки (hard margin support vector machine):\n",
        "\\begin{equation}\n",
        "\\label{eq:svmSep}\n",
        "    \\left\\{\n",
        "        \\begin{aligned}\n",
        "            & \\frac{1}{2} \\|w\\|^2 \\to \\min_{w, b} \\\\\n",
        "            & y_i \\left(\n",
        "                \\langle w, x_i \\rangle + b\n",
        "            \\right) \\geq 1, \\quad i = 1, \\dots, \\ell.\n",
        "        \\end{aligned}\n",
        "    \\right.\n",
        "\\end{equation}\n",
        "\n",
        "\n",
        "### Неразделимый случай\n",
        "Рассмотрим теперь общий случай, когда выборку\n",
        "невозможно идеально разделить гиперплоскостью.\n",
        "Это означает, что какие бы $w$ и $b$ мы не взяли,\n",
        "хотя бы одно из ограничений в предыдущей задаче будет нарушено:\n",
        "\n",
        "$$\n",
        "    \\exists x_i \\in X:\\\n",
        "    y_i \\left(\n",
        "        \\langle w, x_i \\rangle + b\n",
        "    \\right) < 1.\n",
        "$$\n",
        "\n",
        "Сделаем эти ограничения \"мягкими\", введя штраф $\\xi_i \\geq 0$ за их нарушение:\n",
        "\n",
        "$$\n",
        "    y_i \\left(\n",
        "        \\langle w, x_i \\rangle + b\n",
        "    \\right) \\geq 1 - \\xi_i, \\quad i = 1, \\dots, \\ell.\n",
        "$$\n",
        "\n",
        "Отметим, что если отступ объекта лежит между нулем и\n",
        "единицей ($0 \\leq y_i \\left( \\langle w, x_i \\rangle + b \\right) < 1$),\n",
        "то объект верно классифицируется, но имеет ненулевой штраф $\\xi > 0$.\n",
        "Таким образом, мы штрафуем объекты за попадание внутрь разделяющей полосы.\n",
        "\n",
        "Величина $\\frac{1}{\\|w\\|}$ в данном случае называется мягким отступом (soft margin).\n",
        "С одной стороны, мы хотим максимизировать отступ, с другой -- минимизировать\n",
        "штраф за неидеальное разделение выборки $\\sum_{i = 1}^{\\ell} \\xi_i$.\n",
        "Эти две задачи противоречат друг другу: как правило, излишняя подгонка под\n",
        "выборку приводит к маленькому отступу, и наоборот -- максимизация отступа\n",
        "приводит к большой ошибке на обучении.\n",
        "В качестве компромисса будем минимизировать взвешенную сумму двух указанных величин.\n",
        "Приходим к оптимизационной задаче,\n",
        "соответствующей методу опорных векторов для линейно неразделимой выборки (soft margin support vector machine)\n",
        "\\begin{equation}\n",
        "\\label{eq:svmUnsep}\n",
        "    \\left\\{\n",
        "        \\begin{aligned}\n",
        "            & \\frac{1}{2} \\|w\\|^2 + C \\sum_{i = 1}^{\\ell} \\xi_i \\to \\min_{w, b, \\xi} \\\\\n",
        "            & y_i \\left(\n",
        "                \\langle w, x_i \\rangle + b\n",
        "            \\right) \\geq 1 - \\xi_i, \\quad i = 1, \\dots, \\ell, \\\\\n",
        "            & \\xi_i \\geq 0, \\quad i = 1, \\dots, \\ell.\n",
        "        \\end{aligned}\n",
        "    \\right.\n",
        "\\end{equation}\n",
        "Чем больше здесь параметр $C$, тем сильнее мы будем настраиваться на обучающую выборку."
      ]
    },
    {
      "cell_type": "markdown",
      "metadata": {
        "id": "TEq-IojESW4v"
      },
      "source": [
        "Исследуем зависимость положения разделяющей гиперплоскости в методе опорных векторов в зависимости от значения гиперпараметра $C$."
      ]
    },
    {
      "cell_type": "markdown",
      "metadata": {
        "id": "dqrRKdmISW4v"
      },
      "source": [
        "Сгенерируем двумерную искуственную выборку из двух различных нормальных распределений:"
      ]
    },
    {
      "cell_type": "code",
      "metadata": {
        "colab": {
          "base_uri": "https://localhost:8080/",
          "height": 430
        },
        "id": "FnhgnvIWSW4v",
        "outputId": "ab8f09f6-7ff4-4aff-a442-1851a763862d"
      },
      "source": [
        "class_size=500\n",
        "\n",
        "mean0 = [7, 5]\n",
        "cov0 = [[4, 0], [0, 1]]  # diagonal covariance\n",
        "mean1 = [0, 0]\n",
        "cov1 = [[4, 0], [0, 2]]\n",
        "data0 = np.random.multivariate_normal(mean0, cov0, class_size)\n",
        "data1 = np.random.multivariate_normal(mean1, cov1, class_size)\n",
        "data = np.vstack((data0, data1))\n",
        "y = np.hstack((-np.ones(class_size), np.ones(class_size)))\n",
        "\n",
        "plt.scatter(data0[:, 0], data0[:, 1], c='red', s=50)\n",
        "plt.scatter(data1[:, 0], data1[:, 1], c='green', s=50)\n",
        "plt.legend(['y = -1', 'y = 1'])\n",
        "axes = plt.gca()\n",
        "axes.set_xlim([-5,15])\n",
        "axes.set_ylim([-5,10])\n",
        "plt.show()"
      ],
      "execution_count": 53,
      "outputs": [
        {
          "output_type": "display_data",
          "data": {
            "image/png": "[encoded data removed]",
            "text/plain": [
              "<Figure size 1080x504 with 1 Axes>"
            ]
          },
          "metadata": {
            "tags": [],
            "needs_background": "light"
          }
        }
      ]
    },
    {
      "cell_type": "code",
      "metadata": {
        "colab": {
          "base_uri": "https://localhost:8080/"
        },
        "id": "J2nCY2DBSW4v",
        "outputId": "10db10bd-3013-47d0-888e-083cb8535e66"
      },
      "source": [
        "from sklearn.svm import SVC\n",
        "\n",
        "SVM_classifier = SVC(C=0.01, kernel='linear') # changing C here\n",
        "SVM_classifier.fit(data, y)"
      ],
      "execution_count": 55,
      "outputs": [
        {
          "output_type": "execute_result",
          "data": {
            "text/plain": [
              "SVC(C=0.01, break_ties=False, cache_size=200, class_weight=None, coef0=0.0,\n",
              "    decision_function_shape='ovr', degree=3, gamma='scale', kernel='linear',\n",
              "    max_iter=-1, probability=False, random_state=None, shrinking=True,\n",
              "    tol=0.001, verbose=False)"
            ]
          },
          "metadata": {
            "tags": []
          },
          "execution_count": 55
        }
      ]
    },
    {
      "cell_type": "code",
      "metadata": {
        "colab": {
          "base_uri": "https://localhost:8080/",
          "height": 430
        },
        "id": "xJTbok-kSW4v",
        "outputId": "5022bc1a-e8ba-46cd-9d2c-6e19ae792cb5"
      },
      "source": [
        "w_1 = SVM_classifier.coef_[0][0]\n",
        "w_2 = SVM_classifier.coef_[0][1]\n",
        "w_0 = SVM_classifier.intercept_[0]\n",
        "\n",
        "plt.scatter(data0[:, 0], data0[:, 1], c='red', s=50)\n",
        "plt.scatter(data1[:, 0], data1[:, 1], c='green', s=50)\n",
        "plt.legend(['y = -1', 'y = 1'])\n",
        "x_arr = np.linspace(-10, 15, 3000)\n",
        "plt.plot(x_arr, -(w_0 + w_1 * x_arr) / w_2)\n",
        "axes = plt.gca()\n",
        "axes.set_xlim([-5,15])\n",
        "axes.set_ylim([-5,10])\n",
        "plt.show()"
      ],
      "execution_count": 56,
      "outputs": [
        {
          "output_type": "display_data",
          "data": {
            "image/png": "[encoded data removed]",
            "text/plain": [
              "<Figure size 1080x504 with 1 Axes>"
            ]
          },
          "metadata": {
            "tags": [],
            "needs_background": "light"
          }
        }
      ]
    },
    {
      "cell_type": "code",
      "metadata": {
        "colab": {
          "base_uri": "https://localhost:8080/",
          "height": 430
        },
        "id": "yIJqVNKSSW4w",
        "outputId": "b7611ad6-872d-439a-ed36-510dcd8a2c3f"
      },
      "source": [
        "plt.scatter(data0[:, 0], data0[:, 1], c='red', s=50, label='y = -1')\n",
        "plt.scatter(data1[:, 0], data1[:, 1], c='green', s=50, label='y = +1')\n",
        "#plt.legend(['y = -1', 'y = 1'])\n",
        "x_arr = np.linspace(-10, 15, 3000)\n",
        "colors = ['red', 'orange', 'green', 'blue', 'magenta']\n",
        "\n",
        "for i, C in enumerate([0.0001, 0.01,  1, 100, 10000]):\n",
        "    SVM_classifier = SVC(C=C, kernel='linear')\n",
        "    SVM_classifier.fit(data, y)\n",
        "    w_1 = SVM_classifier.coef_[0][0]\n",
        "    w_2 = SVM_classifier.coef_[0][1]\n",
        "    w_0 = SVM_classifier.intercept_[0]\n",
        "    plt.plot(x_arr, -(w_0 + w_1 * x_arr) / w_2, color=colors[i], label='C='+str(C))\n",
        "\n",
        "axes = plt.gca()\n",
        "axes.set_xlim([-5,15])\n",
        "axes.set_ylim([-5,10])\n",
        "plt.legend(loc=0)\n",
        "plt.show()"
      ],
      "execution_count": 57,
      "outputs": [
        {
          "output_type": "display_data",
          "data": {
            "image/png": "[encoded data removed]",
            "text/plain": [
              "<Figure size 1080x504 with 1 Axes>"
            ]
          },
          "metadata": {
            "tags": [],
            "needs_background": "light"
          }
        }
      ]
    },
    {
      "cell_type": "markdown",
      "metadata": {
        "id": "mPaWJHrLSW4y"
      },
      "source": [
        "Гиперпараметр $C$ отвечает за то, что является более приоритетным для классификатора, — \"подгонка\" под обучающую выборку или максимизация ширины разделяющей полосы.\n",
        " - При больших значениях $C$ классификатор сильно настраивается на обучение, тем самым сужая разделяющую полосу.\n",
        " - При маленьких значениях $C$ классификатор расширяет разделяющую полосу, при этом допуская ошибки на некоторых объектах обучающей выборки."
      ]
    }
  ]
}