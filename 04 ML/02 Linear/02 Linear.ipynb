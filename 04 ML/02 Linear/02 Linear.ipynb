{
 "cells": [
  {
   "cell_type": "markdown",
   "metadata": {},
   "source": [
    "# pandas, linear regression"
   ]
  },
  {
   "cell_type": "markdown",
   "metadata": {},
   "source": [
    "* регрессия - линию провести\n",
    "* классификация - конечное чило ответов или бинарная калссификация\n",
    "* много классовая классификация - от 1 до К классов "
   ]
  },
  {
   "cell_type": "markdown",
   "metadata": {},
   "source": [
    "* классификация с пересекающими классами - (какая тема в статье? математика, биология, экономика)"
   ]
  },
  {
   "cell_type": "markdown",
   "metadata": {},
   "source": [
    "* ранжирования - набор документов $d_1, ..., d_n$, есть запрос $q$ оценка релевантности $a(q,d)$ и выдать список по этой функции"
   ]
  },
  {
   "cell_type": "markdown",
   "metadata": {},
   "source": [
    "* кластеризация - $Y$ отсутствует, нет овтетов, нужно найти группы похожи объектов.\n",
    "* сколько таких групп, как измерить качество?"
   ]
  },
  {
   "cell_type": "markdown",
   "metadata": {},
   "source": [
    "# типы признаков"
   ]
  },
  {
   "cell_type": "markdown",
   "metadata": {},
   "source": [
    "#### бинарные признаки $D_j = {0,1}$"
   ]
  },
  {
   "cell_type": "markdown",
   "metadata": {},
   "source": [
    "* доход клиента выше среднего по городу?\n",
    "* цвет фрукта - зеленый?"
   ]
  },
  {
   "cell_type": "markdown",
   "metadata": {},
   "source": [
    "#### вещественные признаки\n",
    "* $D_j = R$\n",
    "* возраст,\n",
    "* площадь\n",
    "* количество звонков в колл центр"
   ]
  },
  {
   "cell_type": "markdown",
   "metadata": {},
   "source": [
    "#### категориальные признаки\n",
    "* $D_j = R$ - неупорядоченное множество - или упорядоченное\n",
    "* цвет глаз\n",
    "* город\n",
    "* образование\n",
    "* нуждается в обработке"
   ]
  },
  {
   "cell_type": "markdown",
   "metadata": {},
   "source": [
    "#### порядковые признаки\n",
    "* $D_j = R$ -  упорядоченное множество\n",
    "* звание\n",
    "* тип населенного пункта\n",
    "* образование\n",
    "* тип роли в фильме"
   ]
  },
  {
   "cell_type": "markdown",
   "metadata": {},
   "source": [
    "## другие типы\n",
    "* тексты\n",
    "* картинки\n",
    "* видео\n",
    "* звук\n",
    "* временные ряды\n",
    "* графы"
   ]
  },
  {
   "cell_type": "markdown",
   "metadata": {},
   "source": [
    "# линейная регрессия"
   ]
  },
  {
   "cell_type": "markdown",
   "metadata": {},
   "source": [
    "* одномерное (парная регрессия) - scatter plot\n",
    "    * $a(x) = w_1 x + w_0$\n",
    "* 2 признака \n",
    "    * $a(x) = w_2 x+w_1 x + w_0$\n",
    "* много признаков\n",
    "    * d признаков - d+1 параметр\n",
    "    * $w_0$ - bias\n",
    "    * $w_i$ - weight\n",
    "    * $a(x) = w_0 + \\langle w,x\\rangle$\n",
    "    * $a(x) = \\langle w,x\\rangle$ если считать что есть 1 признак"
   ]
  },
  {
   "cell_type": "markdown",
   "metadata": {},
   "source": [
    "#### проблемы\n",
    "* нет гарантий, что целевая пременно зависит линейно\n",
    "* надо формировать признаки так чтобы модель подходила"
   ]
  },
  {
   "cell_type": "markdown",
   "metadata": {},
   "source": [
    "#### предсказание стоимость жилья\n",
    "* a(x) = w_o + w_1 (площадь) + w_2 (район) + w_3 (расстояние) - но не все признаки линейны, один категориальынй"
   ]
  },
  {
   "cell_type": "markdown",
   "metadata": {},
   "source": [
    "#### кодирование карегориальных признаков\n",
    "* занчения признака район : U = (u, ..., u_m)\n",
    "* новые признаки - вектор из m значений, где может быть только 1 единица\n",
    "* one-hot кодирование\n"
   ]
  },
  {
   "cell_type": "markdown",
   "metadata": {},
   "source": [
    "#### разбивка непрерывного на категориальные бакеты\n",
    "* ставим 1, если значение принадлежит бакету\n"
   ]
  },
  {
   "cell_type": "markdown",
   "metadata": {},
   "source": [
    "#### разбивка как?\n",
    "* на перцентили\n",
    "* так чтобы не потерять лишнее\n",
    "* смотреть на данные"
   ]
  },
  {
   "cell_type": "markdown",
   "metadata": {},
   "source": [
    "можно кодированием перейти в классификацию.\n",
    "* разбить целевую переменную на группы и пытаться классифицировать\n",
    "* классификацию можно перевезти в числа"
   ]
  },
  {
   "cell_type": "markdown",
   "metadata": {},
   "source": [
    "# измерение ошибки\n",
    "### функция  потерь\n",
    "* частый выбор - квадратичная функция\n",
    "    * MSE - среднеквадратичная ошибка - сильнее штрафует так как градиент на больших значениях больше, чем MAE\n",
    "* абсолютаная ошибка\n",
    "    * MAE - слабее штрафукт за большие отклонения"
   ]
  },
  {
   "cell_type": "markdown",
   "metadata": {},
   "source": [
    "### в векторном виде"
   ]
  },
  {
   "cell_type": "markdown",
   "metadata": {},
   "source": [
    "$a(x) = \\langle w,x\\rangle$\n",
    "$$\\frac{1}{l}\\sum_{i=1}^l (\\langle w,x\\rangle - y_i)^2 \\rightarrow min$$"
   ]
  },
  {
   "cell_type": "markdown",
   "metadata": {},
   "source": [
    "## матрица\n",
    "X - матрица, где строка - объект, где по колонкам - признаки"
   ]
  },
  {
   "cell_type": "markdown",
   "metadata": {},
   "source": [
    "вектор размера d, представим как матрица d x 1"
   ]
  },
  {
   "cell_type": "markdown",
   "metadata": {},
   "source": [
    "$a(x) = \\langle w,x\\rangle$"
   ]
  },
  {
   "cell_type": "markdown",
   "metadata": {},
   "source": [
    "Xw-y посчитаем вектор"
   ]
  },
  {
   "cell_type": "markdown",
   "metadata": {},
   "source": [
    "вычислим ошибку. Используем норму - $||z||= \\text{корень суммы квадратов}$"
   ]
  },
  {
   "cell_type": "markdown",
   "metadata": {},
   "source": [
    "среднеквадратичная ошибка = \n",
    "$$\\frac{1}{l}||Xw-y||^2 = \\frac{1}{l}\\sum_{i=1}^l (\\langle w,x\\rangle - y_i)^2 $$"
   ]
  },
  {
   "cell_type": "markdown",
   "metadata": {},
   "source": [
    "# обобщающая способность"
   ]
  },
  {
   "cell_type": "markdown",
   "metadata": {},
   "source": [
    "* overfitting - отлично на обучении, плохо на новых\n",
    "* generalization - норм на обучении, норм на тесте\n"
   ]
  },
  {
   "cell_type": "markdown",
   "metadata": {},
   "source": [
    "* меньше выборка тест - тест не репрезентативный\n",
    "* слишком большой тест - модель модель не обучиться\n",
    "\n",
    "* 70/30 80/10 90/10"
   ]
  },
  {
   "cell_type": "markdown",
   "metadata": {},
   "source": [
    "#### кросс валидация - 80/20, например\n",
    "5 раз провели - в итоге всю выборку проверили"
   ]
  },
  {
   "cell_type": "markdown",
   "metadata": {},
   "source": [
    "* n - fold\n",
    "* обычно n=3, 5, 10\n",
    "* потом результаты осреднили - ошибки усреднили\n",
    "* leave one out (n = l(число объектов))\n",
    "\n"
   ]
  },
  {
   "cell_type": "markdown",
   "metadata": {},
   "source": [
    "если устраивает кросс-валидация - можно обучить по всему датасету"
   ]
  },
  {
   "cell_type": "markdown",
   "metadata": {},
   "source": [
    "# регуляризация модели"
   ]
  },
  {
   "cell_type": "markdown",
   "metadata": {},
   "source": [
    "* нелинейная задача - мы сделали линейную\n",
    "* попробовать как полином\n",
    "* но мы ошиблись и переобучились"
   ]
  },
  {
   "cell_type": "markdown",
   "metadata": {},
   "source": [
    "### симптомы переобучения\n",
    "* большие коэффициенты\n",
    "* эмпирические наблюдения"
   ]
  },
  {
   "cell_type": "markdown",
   "metadata": {},
   "source": [
    "## регуляризация - штрафуем за большие веса\n",
    "### ridge регрессия"
   ]
  },
  {
   "cell_type": "markdown",
   "metadata": {},
   "source": [
    "* регуляризатор $||w||^2 = \\sum _{j=1} w_i^2$"
   ]
  },
  {
   "cell_type": "markdown",
   "metadata": {},
   "source": [
    "$$\\frac{1}{l}\\sum_{i=1}^l (\\langle w,x\\rangle - y_i)^2+\\lambda ||w||^2 \\rightarrow min$$"
   ]
  },
  {
   "cell_type": "markdown",
   "metadata": {},
   "source": [
    "* $\\lambda$ - коэффициент регуляризации, гиперпараметр, не слишком большое, не слишком малое"
   ]
  },
  {
   "cell_type": "markdown",
   "metadata": {},
   "source": [
    "для любого симейства функций можно брать такой регуляризатор\n",
    "* классический подход, чтобы фичи были стандартизированные/ или с дисперсией в 1 или от 0 до 1"
   ]
  },
  {
   "cell_type": "markdown",
   "metadata": {},
   "source": [
    "### лассо регуляризация\n",
    "* least absolute shrinkage and selection operator\n",
    "\n",
    "$$\\frac{1}{l}\\sum_{i=1}^l (\\langle w,x\\rangle - y_i)^2+\\lambda \\sum_{j=1}^d|w| \\rightarrow min$$"
   ]
  },
  {
   "cell_type": "markdown",
   "metadata": {},
   "source": [
    "* некоторые веса зануляются. приводит к отбору признаков"
   ]
  },
  {
   "cell_type": "markdown",
   "metadata": {},
   "source": [
    "## регуляризаторы\n",
    "* $||z||_2$ L_2 норма - сумма квадратов\n",
    "* $||z||_1$ L_1 норма - сумма модулей"
   ]
  },
  {
   "cell_type": "markdown",
   "metadata": {},
   "source": [
    "# Гиперапараметры \n",
    "* **гиперпараметр**\n",
    "* gridserarchcv - это оно\n",
    "* как выбрать?\n",
    "    * нельзя по обучающей выборке - переобучение\n",
    "    * нужно использовать дополнительные данные (валидация)"
   ]
  },
  {
   "cell_type": "markdown",
   "metadata": {},
   "source": [
    "### обучающая\n",
    "### валидационная выборка - подбор гиперпараметров на ней\n",
    "### test - финальная выборка для тестирования"
   ]
  },
  {
   "cell_type": "markdown",
   "metadata": {},
   "source": [
    "# масштабирование признкаов"
   ]
  },
  {
   "cell_type": "markdown",
   "metadata": {},
   "source": [
    "* сдвинуть и поделить на среднее и стандартотклон\n",
    "* правильнее масштабировать и совет регуляризовывать модель"
   ]
  },
  {
   "cell_type": "markdown",
   "metadata": {},
   "source": [
    "$$W = (X^T X+\\lambda I)^{-1} X^T y$$ - лассо"
   ]
  },
  {
   "cell_type": "markdown",
   "metadata": {},
   "source": [
    "$$W = (X^T X)^{-1} X^T y$$ это для обычной"
   ]
  },
  {
   "cell_type": "markdown",
   "metadata": {},
   "source": [
    "$\\lambda I$ корректирвует собственное значение и помогает матрице быть обратимой"
   ]
  },
  {
   "cell_type": "markdown",
   "metadata": {},
   "source": [
    "# семинар"
   ]
  },
  {
   "cell_type": "code",
   "execution_count": null,
   "metadata": {},
   "outputs": [],
   "source": []
  }
 ],
 "metadata": {
  "kernelspec": {
   "display_name": "Python 3",
   "language": "python",
   "name": "python3"
  },
  "language_info": {
   "codemirror_mode": {
    "name": "ipython",
    "version": 3
   },
   "file_extension": ".py",
   "mimetype": "text/x-python",
   "name": "python",
   "nbconvert_exporter": "python",
   "pygments_lexer": "ipython3",
   "version": "3.8.3"
  }
 },
 "nbformat": 4,
 "nbformat_minor": 4
}
