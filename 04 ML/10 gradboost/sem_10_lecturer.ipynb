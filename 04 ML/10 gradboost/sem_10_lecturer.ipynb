{
  "nbformat": 4,
  "nbformat_minor": 0,
  "metadata": {
    "anaconda-cloud": {},
    "kernelspec": {
      "display_name": "Python 3",
      "language": "python",
      "name": "python3"
    },
    "language_info": {
      "codemirror_mode": {
        "name": "ipython",
        "version": 3
      },
      "file_extension": ".py",
      "mimetype": "text/x-python",
      "name": "python",
      "nbconvert_exporter": "python",
      "pygments_lexer": "ipython3",
      "version": "3.8.5"
    },
    "colab": {
      "name": "Копия блокнота \"sem_10_empty.ipynb\"",
      "provenance": []
    }
  },
  "cells": [
    {
      "cell_type": "markdown",
      "metadata": {
        "id": "hNAL4qt0wf-4"
      },
      "source": [
        "## Современные библиотеки градиентного бустинга\n",
        "\n",
        "Ранее мы использовали наивную версию градиентного бустинга из scikit-learn, [придуманную](https://projecteuclid.org/download/pdf_1/euclid.aos/1013203451) в 1999 году Фридманом. С тех пор было предложено много реализаций, которые оказываются лучше на практике. На сегодняшний день популярны три библиотеки, реализующие градиентный бустинг:\n",
        "* **XGBoost**. После выхода быстро набрала популярность и оставалась стандартом до конца 2016 года. Одними из основных особенностей имплементации были оптимизированность построения деревьев, а также различные регуляризации модели.\n",
        "* **LightGBM**. Отличительной чертой является быстрота построения композиции. Например, используется следующий трюк для ускорения обучения: при построении вершины дерева вместо перебора по всем значениям признака производится перебор значений гистограммы этого признака. Таким образом, вместо $O(\\ell)$ требуется $O(\\text{#bins})$. Кроме того, в отличие от других библиотек, которые строят дерево по уровням, LightGBM использует стратегию best-first, т.е. на каждом шаге строит вершину, дающую наибольшее уменьшение функционала. Таким образом, каждое дерево является цепочкой с прикрепленными листьями.\n",
        "* **CatBoost**. Библиотека от компании Яндекс. Позволяет автоматически обрабатывать категориальные признаки (даже если их значения представлены в виде строк). Кроме того, алгоритм является менее чувствительным к выбору конкретных гиперпараметров. За счёт этого уменьшается время, которое тратит человек на подбор оптимальных гиперпараметров."
      ]
    },
    {
      "cell_type": "markdown",
      "metadata": {
        "id": "zpr1jKtjwf_W"
      },
      "source": [
        "### Основные параметры\n",
        "\n",
        "(lightgbm/catboost)\n",
        "\n",
        "* `objective` – функционал, на который будет настраиваться композиция\n",
        "* `eta` / `learning_rate` – темп (скорость) обучения\n",
        "* `num_iterations` / `n_estimators`  – число итераций бустинга\n",
        "\n",
        "#### Параметры, отвечающие за сложность деревьев\n",
        "* `max_depth` – максимальная глубина \n",
        "* `max_leaves` / num_leaves – максимальное число вершин в дереве\n",
        "* `gamma` / `min_gain_to_split` – порог на уменьшение функции ошибки при расщеплении в дереве\n",
        "* `min_data_in_leaf` – минимальное число объектов в листе\n",
        "* `min_sum_hessian_in_leaf` – минимальная сумма весов объектов в листе, минимальное число объектов, при котором делается расщепление \n",
        "* `lambda` – коэффициент регуляризации (L2)\n",
        "* `subsample` / `bagging_fraction` – какую часть объектов обучения использовать для построения одного дерева \n",
        "* `colsample_bytree` / `feature_fraction` – какую часть признаков использовать для построения одного дерева \n",
        "\n",
        "Подбор всех этих параметров — настоящее искусство. Но начать их настройку можно с самых главных параметров: `learning_rate` и `n_estimators`. Обычно один из них фиксируют, а оставшийся из этих двух параметров подбирают (например, фиксируют `n_estimators=1000` и подбирают `learning_rate`). Следующим по важности является `max_depth`. В силу того, что мы заинтересованы в неглубоких деревьях, обычно его перебирают из диапазона [3; 7]."
      ]
    },
    {
      "cell_type": "code",
      "metadata": {
        "id": "zPQjh0mIwf_X"
      },
      "source": [
        "%matplotlib inline\n",
        "import numpy as np\n",
        "import matplotlib.pyplot as plt\n",
        "import pandas as pd\n",
        "\n",
        "\n",
        "plt.style.use('seaborn')\n",
        "%matplotlib inline\n",
        "plt.rcParams['figure.figsize'] = (8, 5)"
      ],
      "execution_count": null,
      "outputs": []
    },
    {
      "cell_type": "code",
      "metadata": {
        "scrolled": true,
        "id": "XeUln6pDwf_a",
        "colab": {
          "base_uri": "https://localhost:8080/"
        },
        "outputId": "c7979cff-8568-40bf-c731-c403e9e61895"
      },
      "source": [
        "# !pip install catboost\n",
        "# !pip install lightgbm\n",
        "# !pip install xgboost"
      ],
      "execution_count": null,
      "outputs": [
        {
          "output_type": "stream",
          "text": [
            "Requirement already satisfied: xgboost in /usr/local/lib/python3.7/dist-packages (0.90)\n",
            "Requirement already satisfied: scipy in /usr/local/lib/python3.7/dist-packages (from xgboost) (1.4.1)\n",
            "Requirement already satisfied: numpy in /usr/local/lib/python3.7/dist-packages (from xgboost) (1.19.5)\n"
          ],
          "name": "stdout"
        }
      ]
    },
    {
      "cell_type": "code",
      "metadata": {
        "id": "dpua9ZLjwf_b",
        "colab": {
          "base_uri": "https://localhost:8080/"
        },
        "outputId": "7bc4746b-6414-48ac-9cf8-29980f5dd1f7"
      },
      "source": [
        "!pip install mlxtend"
      ],
      "execution_count": null,
      "outputs": [
        {
          "output_type": "stream",
          "text": [
            "Requirement already satisfied: mlxtend in /usr/local/lib/python3.7/dist-packages (0.14.0)\n",
            "Requirement already satisfied: matplotlib>=1.5.1 in /usr/local/lib/python3.7/dist-packages (from mlxtend) (3.2.2)\n",
            "Requirement already satisfied: scipy>=0.17 in /usr/local/lib/python3.7/dist-packages (from mlxtend) (1.4.1)\n",
            "Requirement already satisfied: setuptools in /usr/local/lib/python3.7/dist-packages (from mlxtend) (57.0.0)\n",
            "Requirement already satisfied: numpy>=1.10.4 in /usr/local/lib/python3.7/dist-packages (from mlxtend) (1.19.5)\n",
            "Requirement already satisfied: pandas>=0.17.1 in /usr/local/lib/python3.7/dist-packages (from mlxtend) (1.1.5)\n",
            "Requirement already satisfied: scikit-learn>=0.18 in /usr/local/lib/python3.7/dist-packages (from mlxtend) (0.22.2.post1)\n",
            "Requirement already satisfied: cycler>=0.10 in /usr/local/lib/python3.7/dist-packages (from matplotlib>=1.5.1->mlxtend) (0.10.0)\n",
            "Requirement already satisfied: kiwisolver>=1.0.1 in /usr/local/lib/python3.7/dist-packages (from matplotlib>=1.5.1->mlxtend) (1.3.1)\n",
            "Requirement already satisfied: pyparsing!=2.0.4,!=2.1.2,!=2.1.6,>=2.0.1 in /usr/local/lib/python3.7/dist-packages (from matplotlib>=1.5.1->mlxtend) (2.4.7)\n",
            "Requirement already satisfied: python-dateutil>=2.1 in /usr/local/lib/python3.7/dist-packages (from matplotlib>=1.5.1->mlxtend) (2.8.1)\n",
            "Requirement already satisfied: pytz>=2017.2 in /usr/local/lib/python3.7/dist-packages (from pandas>=0.17.1->mlxtend) (2018.9)\n",
            "Requirement already satisfied: joblib>=0.11 in /usr/local/lib/python3.7/dist-packages (from scikit-learn>=0.18->mlxtend) (1.0.1)\n",
            "Requirement already satisfied: six in /usr/local/lib/python3.7/dist-packages (from cycler>=0.10->matplotlib>=1.5.1->mlxtend) (1.15.0)\n"
          ],
          "name": "stdout"
        }
      ]
    },
    {
      "cell_type": "code",
      "metadata": {
        "id": "wXK6GlDlwf_c"
      },
      "source": [
        "from sklearn.datasets import make_classification\n",
        "from sklearn.model_selection import train_test_split\n",
        "\n",
        "X, y = make_classification(n_samples=500, n_features=2, n_informative=2,\n",
        "                           n_redundant=0, n_repeated=0,\n",
        "                           n_classes=2, n_clusters_per_class=2,\n",
        "                           flip_y=0.05, class_sep=0.8, random_state=241)\n",
        "\n",
        "X_train, X_test, y_train, y_test = train_test_split(X, y, test_size=0.3, random_state=241)"
      ],
      "execution_count": null,
      "outputs": []
    },
    {
      "cell_type": "code",
      "metadata": {
        "id": "WsAn89f324v8"
      },
      "source": [
        ""
      ],
      "execution_count": null,
      "outputs": []
    },
    {
      "cell_type": "code",
      "metadata": {
        "id": "ZceVQteVwf_v",
        "colab": {
          "base_uri": "https://localhost:8080/",
          "height": 265
        },
        "outputId": "83687ba8-a62b-42c6-97b5-60afba0c67f7"
      },
      "source": [
        "plt.scatter(X[:, 0], X[:, 1], c=y, cmap='YlGn');"
      ],
      "execution_count": null,
      "outputs": [
        {
          "output_type": "display_data",
          "data": {
            "image/png": "[encoded data removed]",
            "text/plain": [
              "<Figure size 432x288 with 1 Axes>"
            ]
          },
          "metadata": {
            "tags": [],
            "needs_background": "light"
          }
        }
      ]
    },
    {
      "cell_type": "markdown",
      "metadata": {
        "id": "fDtBZ3ZQwf_x"
      },
      "source": [
        "## Catboost"
      ]
    },
    {
      "cell_type": "code",
      "metadata": {
        "collapsed": true,
        "jupyter": {
          "outputs_hidden": true
        },
        "id": "ZvD1qnHKwf_x"
      },
      "source": [
        "from catboost import CatBoostClassifier\n",
        "??CatBoostClassifier"
      ],
      "execution_count": null,
      "outputs": []
    },
    {
      "cell_type": "markdown",
      "metadata": {
        "id": "93h4Hm1vwf_y"
      },
      "source": [
        "#### Задание 1. \n",
        "- Обучите CatBoostClassifier с дефолтными параметрами, используя 300 деревьев. \n",
        "- Нарисуйте decision boundary\n",
        "- Посчитайте roc_auc_score"
      ]
    },
    {
      "cell_type": "code",
      "metadata": {
        "id": "BfXgweF13DE6"
      },
      "source": [
        ""
      ],
      "execution_count": null,
      "outputs": []
    },
    {
      "cell_type": "code",
      "metadata": {
        "id": "E_4YXoS4wf_y",
        "colab": {
          "base_uri": "https://localhost:8080/",
          "height": 336
        },
        "outputId": "182d8cb7-31c6-41ca-957a-d6220e7d4c12"
      },
      "source": [
        "from sklearn.metrics import roc_auc_score\n",
        "from mlxtend.plotting import plot_decision_regions\n",
        "\n",
        "fig, ax = plt.subplots(1,1)\n",
        "clf = CatBoostClassifier(iterations=200, logging_level='Silent')\n",
        "clf.fit(X_train, y_train)\n",
        "plot_decision_regions(X_test, y_test, clf, ax=ax)\n",
        "print(roc_auc_score(y_test, clf.predict_proba(X_test)[:,1]))"
      ],
      "execution_count": null,
      "outputs": [
        {
          "output_type": "stream",
          "text": [
            "0.9196301564722617\n"
          ],
          "name": "stdout"
        },
        {
          "output_type": "stream",
          "text": [
            "/usr/local/lib/python3.7/dist-packages/mlxtend/plotting/decision_regions.py:244: MatplotlibDeprecationWarning: Passing unsupported keyword arguments to axis() will raise a TypeError in 3.3.\n",
            "  ax.axis(xmin=xx.min(), xmax=xx.max(), y_min=yy.min(), y_max=yy.max())\n"
          ],
          "name": "stderr"
        },
        {
          "output_type": "display_data",
          "data": {
            "image/png": "[encoded data removed]",
            "text/plain": [
              "<Figure size 432x288 with 1 Axes>"
            ]
          },
          "metadata": {
            "tags": [],
            "needs_background": "light"
          }
        }
      ]
    },
    {
      "cell_type": "code",
      "metadata": {
        "id": "XNRFiSg9wf_z",
        "colab": {
          "base_uri": "https://localhost:8080/"
        },
        "outputId": "0ad2f149-1df1-4631-d568-1c033347bbaa"
      },
      "source": [
        "y_test_pred = clf.predict_proba(X_test)[:, 1]\n",
        "roc_auc_score(y_test, y_test_pred)"
      ],
      "execution_count": null,
      "outputs": [
        {
          "output_type": "execute_result",
          "data": {
            "text/plain": [
              "0.9196301564722617"
            ]
          },
          "metadata": {
            "tags": []
          },
          "execution_count": 13
        }
      ]
    },
    {
      "cell_type": "markdown",
      "metadata": {
        "id": "zMSVN-9Uwf_z"
      },
      "source": [
        "### Learning rate\n",
        "\n",
        "Default is 0.03\n",
        "\n",
        "#### Задание 2. \n",
        "- Обучите CatBoostClassifier с разными значениями `learning_rate`. \n",
        "- Посчитайте roc_auc_score на тестовой и тренировочной выборках\n",
        "- Написуйте график зависимости roc_auc от скорости обучения (learning_rate)"
      ]
    },
    {
      "cell_type": "code",
      "metadata": {
        "id": "Cm7bdPPPwf_0",
        "colab": {
          "base_uri": "https://localhost:8080/",
          "height": 976
        },
        "outputId": "88a0d6c8-5296-431c-91bf-8e47fdc5ac1a"
      },
      "source": [
        "lrs = np.arange(0.001, 1.1, 0.005)\n",
        "quals_train = [] # to store roc auc on trian\n",
        "quals_test = [] # to store roc auc on test\n",
        "\n",
        "for l in lrs:\n",
        "  clf = CatBoostClassifier(iterations=150, logging_level='Silent',\n",
        "                           learning_rate=l)\n",
        "  clf.fit(X_train, y_train)\n",
        "  q_train = roc_auc_score(y_train, clf.predict_proba(X_train)[:,1]) \n",
        "  q_test = roc_auc_score(y_test, clf.predict_proba(X_test)[:,1])\n",
        "  quals_train.append(q_train)\n",
        "  quals_test.append(q_test)\n",
        "    # YOUR CODE HERE\n",
        "\n",
        "plt.plot(lrs, quals_train, marker='.', label='train')\n",
        "plt.plot(lrs, quals_test, marker='.', label='test')\n",
        "plt.xlabel('LR')\n",
        "plt.ylabel('AUC-ROC')\n",
        "plt.legend()\n",
        "# YOUR CODE HERE (make the plot)"
      ],
      "execution_count": null,
      "outputs": [
        {
          "output_type": "stream",
          "text": [
            "learning rate is greater than 1. You probably need to decrease learning rate.\n",
            "learning rate is greater than 1. You probably need to decrease learning rate.\n",
            "learning rate is greater than 1. You probably need to decrease learning rate.\n",
            "learning rate is greater than 1. You probably need to decrease learning rate.\n",
            "learning rate is greater than 1. You probably need to decrease learning rate.\n",
            "learning rate is greater than 1. You probably need to decrease learning rate.\n",
            "learning rate is greater than 1. You probably need to decrease learning rate.\n",
            "learning rate is greater than 1. You probably need to decrease learning rate.\n",
            "learning rate is greater than 1. You probably need to decrease learning rate.\n",
            "learning rate is greater than 1. You probably need to decrease learning rate.\n",
            "learning rate is greater than 1. You probably need to decrease learning rate.\n",
            "learning rate is greater than 1. You probably need to decrease learning rate.\n",
            "learning rate is greater than 1. You probably need to decrease learning rate.\n",
            "learning rate is greater than 1. You probably need to decrease learning rate.\n",
            "learning rate is greater than 1. You probably need to decrease learning rate.\n",
            "learning rate is greater than 1. You probably need to decrease learning rate.\n",
            "learning rate is greater than 1. You probably need to decrease learning rate.\n",
            "learning rate is greater than 1. You probably need to decrease learning rate.\n",
            "learning rate is greater than 1. You probably need to decrease learning rate.\n",
            "learning rate is greater than 1. You probably need to decrease learning rate.\n",
            "learning rate is greater than 1. You probably need to decrease learning rate.\n",
            "learning rate is greater than 1. You probably need to decrease learning rate.\n",
            "learning rate is greater than 1. You probably need to decrease learning rate.\n",
            "learning rate is greater than 1. You probably need to decrease learning rate.\n",
            "learning rate is greater than 1. You probably need to decrease learning rate.\n",
            "learning rate is greater than 1. You probably need to decrease learning rate.\n",
            "learning rate is greater than 1. You probably need to decrease learning rate.\n",
            "learning rate is greater than 1. You probably need to decrease learning rate.\n",
            "learning rate is greater than 1. You probably need to decrease learning rate.\n",
            "learning rate is greater than 1. You probably need to decrease learning rate.\n",
            "learning rate is greater than 1. You probably need to decrease learning rate.\n",
            "learning rate is greater than 1. You probably need to decrease learning rate.\n",
            "learning rate is greater than 1. You probably need to decrease learning rate.\n",
            "learning rate is greater than 1. You probably need to decrease learning rate.\n",
            "learning rate is greater than 1. You probably need to decrease learning rate.\n",
            "learning rate is greater than 1. You probably need to decrease learning rate.\n",
            "learning rate is greater than 1. You probably need to decrease learning rate.\n",
            "learning rate is greater than 1. You probably need to decrease learning rate.\n",
            "learning rate is greater than 1. You probably need to decrease learning rate.\n",
            "learning rate is greater than 1. You probably need to decrease learning rate.\n"
          ],
          "name": "stderr"
        },
        {
          "output_type": "execute_result",
          "data": {
            "text/plain": [
              "<matplotlib.legend.Legend at 0x7ff74a8a2710>"
            ]
          },
          "metadata": {
            "tags": []
          },
          "execution_count": 15
        },
        {
          "output_type": "display_data",
          "data": {
            "image/png": "[encoded data removed]",
            "text/plain": [
              "<Figure size 432x288 with 1 Axes>"
            ]
          },
          "metadata": {
            "tags": [],
            "needs_background": "light"
          }
        }
      ]
    },
    {
      "cell_type": "markdown",
      "metadata": {
        "id": "Hp-4E4Uxwf_0"
      },
      "source": [
        "### Number of trees\n",
        "\n",
        "Важно также подобрать количество деревьев\n",
        "\n",
        "#### Задание 3. \n",
        "- Обучите CatBoostClassifier с разными значениями `iterations`. \n",
        "- Посчитайте roc_auc_score на тестовой и тренировочной выборках\n",
        "- Написуйте график зависимости roc_auc от размера копозиции"
      ]
    },
    {
      "cell_type": "code",
      "metadata": {
        "id": "bv4OCjZOwf_0",
        "colab": {
          "base_uri": "https://localhost:8080/",
          "height": 296
        },
        "outputId": "fe41f546-5803-471e-9ce3-5ba08daae044"
      },
      "source": [
        "%%timeit \n",
        "n_trees = [1, 5, 10, 100, 200, 300, 400, 500, 600, 700]\n",
        "quals_train = []\n",
        "quals_test = []\n",
        "for n in n_trees:\n",
        "  clf = CatBoostClassifier(iterations=n, logging_level='Silent', learning_rate=0.02)\n",
        "  clf.fit(X_train, y_train)\n",
        "  q_train = roc_auc_score(y_train, clf.predict_proba(X_train)[:,1]) \n",
        "  q_test = roc_auc_score(y_test, clf.predict_proba(X_test)[:,1])\n",
        "\n",
        "  quals_train.append(q_train)\n",
        "  quals_test.append(q_test)\n",
        "    # YOUR CODE HERE\n",
        "\n",
        "plt.plot(n_trees, quals_train, marker='.', label='train')\n",
        "plt.plot(n_trees, quals_test, marker='.', label='test')\n",
        "plt.xlabel('N trees')\n",
        "plt.ylabel('AUC-ROC')\n",
        "plt.legend()"
      ],
      "execution_count": null,
      "outputs": [
        {
          "output_type": "stream",
          "text": [
            "1 loop, best of 5: 3.2 s per loop\n"
          ],
          "name": "stdout"
        },
        {
          "output_type": "display_data",
          "data": {
            "image/png": "[encoded data removed]",
            "text/plain": [
              "<Figure size 432x288 with 1 Axes>"
            ]
          },
          "metadata": {
            "tags": [],
            "needs_background": "light"
          }
        }
      ]
    },
    {
      "cell_type": "code",
      "metadata": {
        "id": "fDp-6c3_wf_0",
        "outputId": "7f2a898a-f0cb-402e-e83d-be620e584862"
      },
      "source": [
        "plt.plot(n_trees, quals_train, marker='.', label='train')\n",
        "plt.plot(n_trees, quals_test, marker='.', label='test')\n",
        "plt.xlabel('Number of trees')\n",
        "plt.ylabel('AUC-ROC')\n",
        "plt.legend()\n",
        "\n",
        "plt.show()"
      ],
      "execution_count": null,
      "outputs": [
        {
          "output_type": "display_data",
          "data": {
            "image/png": "[encoded data removed]",
            "text/plain": [
              "<Figure size 576x360 with 1 Axes>"
            ]
          },
          "metadata": {
            "tags": [],
            "needs_background": "light"
          }
        }
      ]
    },
    {
      "cell_type": "markdown",
      "metadata": {
        "id": "aGEq4-3Zwf_1"
      },
      "source": [
        "### Staged prediction\n",
        "\n",
        "Как сделать то же самое, но быстрее. Для этого в библиотеке CatBoost есть метод `staged_predict_proba`"
      ]
    },
    {
      "cell_type": "code",
      "metadata": {
        "id": "IgRGqvEHwf_1",
        "colab": {
          "base_uri": "https://localhost:8080/"
        },
        "outputId": "56890daa-22c5-4d3c-fcb3-8612eba05c4a"
      },
      "source": [
        "%%timeit\n",
        "\n",
        "# train the model with max trees\n",
        "clf = CatBoostClassifier(iterations=700, \n",
        "                         logging_level='Silent',\n",
        "                         learning_rate = 0.01)\n",
        "clf.fit(X_train, y_train)\n",
        "\n",
        "# obtain staged predictiond on test\n",
        "predictions_test = clf.staged_predict_proba(\n",
        "    data=X_test,\n",
        "    ntree_start=0, \n",
        "    ntree_end=700, \n",
        "    eval_period=25\n",
        ")\n",
        "\n",
        "# obtain staged predictiond on train\n",
        "predictions_train = clf.staged_predict_proba(\n",
        "    data=X_train,\n",
        "    ntree_start=0, \n",
        "    ntree_end=700, \n",
        "    eval_period=25\n",
        ")\n",
        "\n",
        "# calculate roc_auc\n",
        "quals_train = []\n",
        "quals_test = []\n",
        "n_trees = []\n",
        "for iteration, (test_pred, train_pred) in enumerate(zip(predictions_test, predictions_train)):\n",
        "    n_trees.append((iteration+1)*25)\n",
        "    quals_test.append(roc_auc_score(y_test, test_pred[:, 1]))\n",
        "    quals_train.append(roc_auc_score(y_train, train_pred[:, 1]))"
      ],
      "execution_count": null,
      "outputs": [
        {
          "output_type": "stream",
          "text": [
            "1 loop, best of 5: 820 ms per loop\n"
          ],
          "name": "stdout"
        }
      ]
    },
    {
      "cell_type": "code",
      "metadata": {
        "id": "OCrIbwRTwf_3",
        "colab": {
          "base_uri": "https://localhost:8080/",
          "height": 279
        },
        "outputId": "9d7d1f7d-2e4f-47b3-8e2f-633242107739"
      },
      "source": [
        "plt.plot(n_trees, quals_train, marker='.', label='train')\n",
        "plt.plot(n_trees, quals_test, marker='.', label='test')\n",
        "plt.xlabel('Number of trees')\n",
        "plt.ylabel('AUC-ROC')\n",
        "plt.legend()\n",
        "\n",
        "plt.show()"
      ],
      "execution_count": null,
      "outputs": [
        {
          "output_type": "display_data",
          "data": {
            "image/png": "[encoded data removed]",
            "text/plain": [
              "<Figure size 432x288 with 1 Axes>"
            ]
          },
          "metadata": {
            "tags": [],
            "needs_background": "light"
          }
        }
      ]
    },
    {
      "cell_type": "markdown",
      "metadata": {
        "id": "Wo8Np348wf_3"
      },
      "source": [
        "## LightGBM"
      ]
    },
    {
      "cell_type": "code",
      "metadata": {
        "collapsed": true,
        "jupyter": {
          "outputs_hidden": true
        },
        "id": "3cTvsa88wf_3"
      },
      "source": [
        "from lightgbm import LGBMClassifier\n",
        "??LGBMClassifier"
      ],
      "execution_count": null,
      "outputs": []
    },
    {
      "cell_type": "markdown",
      "metadata": {
        "id": "_wfusqLhwf_4"
      },
      "source": [
        "#### Задание 4. \n",
        "- Обучите LGBMClassifier с дефолтными параметрами, используя 300 деревьев. \n",
        "- Нарисуйте decision boundary\n",
        "- Посчитайте roc_auc_score"
      ]
    },
    {
      "cell_type": "code",
      "metadata": {
        "id": "avJw5vCpwf_4",
        "colab": {
          "base_uri": "https://localhost:8080/",
          "height": 336
        },
        "outputId": "2965ec37-ea0f-4161-a6e5-5490f80ef408"
      },
      "source": [
        "clf = LGBMClassifier(n_estimators=200)\n",
        "clf.fit(X_train, y_train)\n",
        "plot_decision_regions(X_test, y_test, clf)\n",
        "print(roc_auc_score(y_test, clf.predict_proba(X_test)[:,1]))"
      ],
      "execution_count": null,
      "outputs": [
        {
          "output_type": "stream",
          "text": [
            "0.8668207681365576\n"
          ],
          "name": "stdout"
        },
        {
          "output_type": "stream",
          "text": [
            "/usr/local/lib/python3.7/dist-packages/mlxtend/plotting/decision_regions.py:244: MatplotlibDeprecationWarning: Passing unsupported keyword arguments to axis() will raise a TypeError in 3.3.\n",
            "  ax.axis(xmin=xx.min(), xmax=xx.max(), y_min=yy.min(), y_max=yy.max())\n"
          ],
          "name": "stderr"
        },
        {
          "output_type": "display_data",
          "data": {
            "image/png": "[encoded data removed]",
            "text/plain": [
              "<Figure size 432x288 with 1 Axes>"
            ]
          },
          "metadata": {
            "tags": [],
            "needs_background": "light"
          }
        }
      ]
    },
    {
      "cell_type": "code",
      "metadata": {
        "id": "hY5vQ7Uxwf_4",
        "colab": {
          "base_uri": "https://localhost:8080/",
          "height": 296
        },
        "outputId": "4b1c40cb-c9c4-4658-865b-04b9f5d7e029"
      },
      "source": [
        "n_trees = [1, 5, 10, 100, 200, 300, 400, 500, 600, 700]\n",
        "quals_train = []\n",
        "quals_test = []\n",
        "for n in n_trees:\n",
        "    clf = LGBMClassifier(n_estimators=n)\n",
        "    clf.fit(X_train, y_train)\n",
        "    q_train = roc_auc_score(y_train, clf.predict_proba(X_train)[:, 1])\n",
        "    q_test = roc_auc_score(y_test, clf.predict_proba(X_test)[:, 1])\n",
        "    quals_train.append(q_train)\n",
        "    quals_test.append(q_test)\n",
        "    \n",
        "plt.plot(n_trees, quals_train, marker='.', label='train')\n",
        "plt.plot(n_trees, quals_test, marker='.', label='test')\n",
        "plt.xlabel('Number of trees')\n",
        "plt.ylabel('AUC-ROC')\n",
        "plt.legend()"
      ],
      "execution_count": null,
      "outputs": [
        {
          "output_type": "execute_result",
          "data": {
            "text/plain": [
              "<matplotlib.legend.Legend at 0x7ff74a66d150>"
            ]
          },
          "metadata": {
            "tags": []
          },
          "execution_count": 24
        },
        {
          "output_type": "display_data",
          "data": {
            "image/png": "[encoded data removed]",
            "text/plain": [
              "<Figure size 432x288 with 1 Axes>"
            ]
          },
          "metadata": {
            "tags": [],
            "needs_background": "light"
          }
        }
      ]
    },
    {
      "cell_type": "markdown",
      "metadata": {
        "id": "t4Yeik1Fwf_5"
      },
      "source": [
        "Теперь попробуем взять фиксированное количество деревьев, но будем менять максимальнyю глубину"
      ]
    },
    {
      "cell_type": "code",
      "metadata": {
        "id": "CvGCnX9Kwf_5",
        "colab": {
          "base_uri": "https://localhost:8080/",
          "height": 296
        },
        "outputId": "e537fc18-a118-40f3-ebe7-d17cc0af8acf"
      },
      "source": [
        "depth = list(range(1, 17, 2))\n",
        "quals_train = []\n",
        "quals_test = []\n",
        "for d in depth:\n",
        "    lgb = LGBMClassifier(n_estimators=100, max_depth=d)\n",
        "    lgb.fit(X_train, y_train)\n",
        "    q_train = roc_auc_score(y_train, lgb.predict_proba(X_train)[:, 1])\n",
        "    q_test = roc_auc_score(y_test, lgb.predict_proba(X_test)[:, 1])\n",
        "    quals_train.append(q_train)\n",
        "    quals_test.append(q_test)\n",
        "    \n",
        "plt.plot(depth, quals_train, marker='.', label='train')\n",
        "plt.plot(depth, quals_test, marker='.', label='test')\n",
        "plt.xlabel('Depth of trees')\n",
        "plt.ylabel('AUC-ROC')\n",
        "plt.legend()"
      ],
      "execution_count": null,
      "outputs": [
        {
          "output_type": "execute_result",
          "data": {
            "text/plain": [
              "<matplotlib.legend.Legend at 0x7ff748c8a450>"
            ]
          },
          "metadata": {
            "tags": []
          },
          "execution_count": 28
        },
        {
          "output_type": "display_data",
          "data": {
            "image/png": "[encoded data removed]",
            "text/plain": [
              "<Figure size 432x288 with 1 Axes>"
            ]
          },
          "metadata": {
            "tags": [],
            "needs_background": "light"
          }
        }
      ]
    },
    {
      "cell_type": "markdown",
      "metadata": {
        "id": "4Z-PKw4rwf_8"
      },
      "source": [
        "И сравним с Catboost:\n",
        "\n",
        "#### Задание 5. \n",
        "- Обучите CatBoostClassifier с разной глубиной\n",
        "- Посчитайте roc_auc_score, \n",
        "- Сравните лучший результат с LGBM"
      ]
    },
    {
      "cell_type": "code",
      "metadata": {
        "id": "62yBVKxwwf_8",
        "outputId": "fce2c5e0-140f-4984-a562-580e14ba9d67"
      },
      "source": [
        "depth = list(range(1, 17, 2))\n",
        "\n",
        "quals_train = []\n",
        "quals_test = []\n",
        "\n"
      ],
      "execution_count": null,
      "outputs": [
        {
          "output_type": "execute_result",
          "data": {
            "text/plain": [
              "<matplotlib.legend.Legend at 0x7f89f70ab730>"
            ]
          },
          "metadata": {
            "tags": []
          },
          "execution_count": 32
        },
        {
          "output_type": "display_data",
          "data": {
            "image/png": "[encoded data removed]",
            "text/plain": [
              "<Figure size 576x360 with 1 Axes>"
            ]
          },
          "metadata": {
            "tags": [],
            "needs_background": "light"
          }
        }
      ]
    },
    {
      "cell_type": "markdown",
      "metadata": {
        "id": "wHsmXplCwf_9"
      },
      "source": [
        "Теперь, когда у нас получились отличные модели, нужно их сохранить!"
      ]
    },
    {
      "cell_type": "code",
      "metadata": {
        "id": "8gDKtx2-wf_9"
      },
      "source": [
        "clf = CatBoostClassifier(n_estimators=200, learning_rate=0.01, \n",
        "                         max_depth=5, logging_level=\"Silent\")\n",
        "clf.fit(X_train, y_train)\n",
        "clf.save_model('catboost.cbm', format='cbm');"
      ],
      "execution_count": null,
      "outputs": []
    },
    {
      "cell_type": "code",
      "metadata": {
        "id": "XAJpXm89wf_9",
        "outputId": "5ec1d987-bbd6-4f48-9cb3-bce1c2df8851"
      },
      "source": [
        "lgb = LGBMClassifier(n_estimators=100, max_depth=3)\n",
        "lgb.fit(X_train, y_train)\n",
        "lgb.booster_.save_model('lightgbm.txt')"
      ],
      "execution_count": null,
      "outputs": [
        {
          "output_type": "execute_result",
          "data": {
            "text/plain": [
              "<lightgbm.basic.Booster at 0x7f89f709da60>"
            ]
          },
          "metadata": {
            "tags": []
          },
          "execution_count": 34
        }
      ]
    },
    {
      "cell_type": "markdown",
      "metadata": {
        "id": "RqF87GSWwf_-"
      },
      "source": [
        "И загрузим обратно, когда понадобится их применить"
      ]
    },
    {
      "cell_type": "code",
      "metadata": {
        "id": "89hylyrMwf_-"
      },
      "source": [
        "lgb = LGBMClassifier(model_file='lightgbm.txt')\n",
        "\n",
        "clf = clf.load_model('catboost.cbm')"
      ],
      "execution_count": null,
      "outputs": []
    },
    {
      "cell_type": "markdown",
      "metadata": {
        "id": "nD9iycGBwf_-"
      },
      "source": [
        "## Блендинг и Стекинг"
      ]
    },
    {
      "cell_type": "markdown",
      "metadata": {
        "id": "xknMjUjRwf_-"
      },
      "source": [
        "Блендинг представляет из себя \"мета-алгоритм\", предсказание которого строится как взвешенная сумма базовых алгоритмов. \n",
        "\n",
        "Рассмотрим простой пример блендинга бустинга и линейной регрессии."
      ]
    },
    {
      "cell_type": "code",
      "metadata": {
        "id": "MKSzUqxlwf_-"
      },
      "source": [
        "from sklearn.datasets import load_boston\n",
        "from sklearn.metrics import mean_squared_error\n",
        "\n",
        "data = load_boston()\n",
        "X = pd.DataFrame(data.data, columns=data.feature_names)\n",
        "y = data.target\n",
        "\n",
        "X_train, X_test, y_train, y_test = train_test_split(X, y, test_size=0.3, random_state=10)"
      ],
      "execution_count": null,
      "outputs": []
    },
    {
      "cell_type": "markdown",
      "metadata": {
        "id": "0MKnfMclwf__"
      },
      "source": [
        "#### Задание 6. \n",
        "- Обучите CatBoostRegressor со следующими гиперпараметрами:\n",
        "`iterations=100, max_depth=4, learning_rate=0.01, loss_function='RMSE'`\n",
        "- Посчитайте предсказание и RMSE на тестовой и тренировочной выборках"
      ]
    },
    {
      "cell_type": "code",
      "metadata": {
        "id": "0E2MQ_jhwgAB",
        "colab": {
          "base_uri": "https://localhost:8080/"
        },
        "outputId": "8783d339-4f5b-4e94-da81-45c9f1f262b1"
      },
      "source": [
        "from catboost import CatBoostRegressor\n",
        "cbm = CatBoostRegressor(iterations=100, max_depth=5, learning_rate=0.02,\n",
        "                        loss_function='RMSE', logging_level='Silent')\n",
        "cbm.fit(X_train, y_train)\n",
        "\n",
        "y_pred_cbm = cbm.predict(X_test)\n",
        "y_train_pred_cbm = cbm.predict(X_train)\n",
        "\n",
        "print(\"Train RMSE = %.4f\" % mean_squared_error(y_train, y_train_pred_cbm))\n",
        "print(\"Test RMSE = %.4f\" % mean_squared_error(y_test, y_pred_cbm))"
      ],
      "execution_count": null,
      "outputs": [
        {
          "output_type": "stream",
          "text": [
            "Train RMSE = 14.8901\n",
            "Test RMSE = 25.2513\n"
          ],
          "name": "stdout"
        }
      ]
    },
    {
      "cell_type": "markdown",
      "metadata": {
        "id": "CaC3JXm0wgAB"
      },
      "source": [
        "#### Задание 7. \n",
        "- Отмасштабируйте данные (StandardScaler) и обучите линейную регрессию\n",
        "- Посчитайте предсказание и RMSE на тестовой и тренировочной выборках"
      ]
    },
    {
      "cell_type": "code",
      "metadata": {
        "id": "S5H9N8j9wgAJ",
        "colab": {
          "base_uri": "https://localhost:8080/"
        },
        "outputId": "7b8fd496-f1d1-4448-fd64-e2792a4249c6"
      },
      "source": [
        "from sklearn.linear_model import LinearRegression\n",
        "from sklearn.preprocessing import StandardScaler\n",
        "\n",
        "lr = LinearRegression(normalize=True)\n",
        "lr.fit(X_train, y_train)\n",
        "y_pred_lr = lr.predict(X_test)\n",
        "y_train_lr = lr.predict(X_train)\n",
        "\n",
        "print(\"Train RMSE = %.4f\" % mean_squared_error(y_train, y_train_lr))\n",
        "print(\"Test RMSE = %.4f\" % mean_squared_error(y_test, y_pred_lr))"
      ],
      "execution_count": null,
      "outputs": [
        {
          "output_type": "stream",
          "text": [
            "Train RMSE = 19.4597\n",
            "Test RMSE = 29.3266\n"
          ],
          "name": "stdout"
        }
      ]
    },
    {
      "cell_type": "markdown",
      "metadata": {
        "id": "Bs6NNsf0wgAM"
      },
      "source": [
        "#### Блендинг\n",
        "\n",
        "Будем считать, что новый алгоритм $a(x)$ представим как\n",
        "$$\n",
        "    a(x)\n",
        "    =\n",
        "    \\sum_{n = 1}^{N}\n",
        "    w_n b_n(x),\n",
        "$$\n",
        "где $\\sum\\limits_{n=1}^N w_n =1$\n",
        "\n",
        "Нам нужно обучить линейную регрессию на предсказаниях двух обченных выше алгоритмов"
      ]
    },
    {
      "cell_type": "markdown",
      "metadata": {
        "id": "-n2_JqqFwgAM"
      },
      "source": [
        "#### Задание 8. \n"
      ]
    },
    {
      "cell_type": "code",
      "metadata": {
        "id": "IxWywzKawgAM",
        "colab": {
          "base_uri": "https://localhost:8080/"
        },
        "outputId": "59fcb216-4d69-4753-dec3-a6544d988c02"
      },
      "source": [
        "predictions_train = pd.DataFrame([y_train_lr, y_train_pred_cbm]).T\n",
        "predictions_test =  pd.DataFrame([y_pred_lr, y_pred_cbm]).T\n",
        "\n",
        "lr_blend = LinearRegression()\n",
        "lr_blend.fit(predictions_train, y_train)\n",
        "\n",
        "y_pred_blend = lr_blend.predict(predictions_test)\n",
        "y_train_blend = lr_blend.predict(predictions_train)\n",
        "\n",
        "print(\"Train RMSE = %.4f\" % mean_squared_error(y_train, y_train_blend))\n",
        "print(\"Test RMSE = %.4f\" % mean_squared_error(y_test, y_pred_blend))"
      ],
      "execution_count": null,
      "outputs": [
        {
          "output_type": "stream",
          "text": [
            "Train RMSE = 8.8826\n",
            "Test RMSE = 15.7705\n"
          ],
          "name": "stdout"
        }
      ]
    },
    {
      "cell_type": "markdown",
      "metadata": {
        "id": "ows-IROJwgAN"
      },
      "source": [
        "#### Стекинг\n",
        "\n",
        "Теперь обучим более сложную функцию композиции\n",
        "\n",
        "$$\n",
        " a(x) = f(b_1(x), b_2(x))\n",
        "$$\n",
        "\n",
        "где $f()$ это обученная модель градиентного бустинга"
      ]
    },
    {
      "cell_type": "markdown",
      "metadata": {
        "id": "zmHWt-x9wgAN"
      },
      "source": [
        "#### Задание 9. \n"
      ]
    },
    {
      "cell_type": "code",
      "metadata": {
        "id": "ootzkJrQwgAN",
        "colab": {
          "base_uri": "https://localhost:8080/"
        },
        "outputId": "412cf243-b163-4798-9076-5c2b5bc9b847"
      },
      "source": [
        "from lightgbm import LGBMRegressor\n",
        "\n",
        "lgb_stack = LGBMRegressor(n_estimators=100, max_depth=2)\n",
        "lgb_stack.fit(predictions_train, y_train)\n",
        "\n",
        "y_pred_stack = lgb_stack.predict(predictions_test)\n",
        "mean_squared_error(y_test, y_pred_stack)"
      ],
      "execution_count": null,
      "outputs": [
        {
          "output_type": "execute_result",
          "data": {
            "text/plain": [
              "15.438996639074093"
            ]
          },
          "metadata": {
            "tags": []
          },
          "execution_count": 37
        }
      ]
    },
    {
      "cell_type": "markdown",
      "metadata": {
        "id": "gIfkjcXQwgAN"
      },
      "source": [
        "В итоге получаем качество на тестовой выборке лучше, чем у каждого алгоритма в отдельности."
      ]
    },
    {
      "cell_type": "markdown",
      "metadata": {
        "id": "IJAjCXhgwgAN"
      },
      "source": [
        "Полезные ссылки:\n",
        "\n",
        "* [Видео про стекинг](https://www.coursera.org/lecture/competitive-data-science/stacking-Qdtt6)"
      ]
    },
    {
      "cell_type": "markdown",
      "metadata": {
        "id": "atOoM5y1wgAN"
      },
      "source": [
        "## XGBoost"
      ]
    },
    {
      "cell_type": "code",
      "metadata": {
        "id": "-U5jVVsVwgAO"
      },
      "source": [
        "# based on https://www.analyticsvidhya.com/blog/2016/03/complete-guide-parameter-tuning-xgboost-with-codes-python/\n",
        "\n",
        "import pandas as pd\n",
        "import numpy as np\n",
        "from sklearn.model_selection import GridSearchCV  \n",
        "from sklearn import metrics"
      ],
      "execution_count": null,
      "outputs": []
    },
    {
      "cell_type": "code",
      "metadata": {
        "id": "KI8x6hFowgAO"
      },
      "source": [
        "titanic = pd.read_csv('titanic.csv')"
      ],
      "execution_count": null,
      "outputs": []
    },
    {
      "cell_type": "code",
      "metadata": {
        "id": "e78ZJgbRwgAO",
        "outputId": "d68976ae-0663-4898-e411-bcee38ac31bf"
      },
      "source": [
        "X = titanic[['Pclass', 'Age', 'SibSp', 'Fare']]\n",
        "y = titanic.Survived.values\n",
        "X_train, X_test, y_train, y_test = train_test_split(X, y, test_size=0.2, random_state=42)\n",
        "X_train.shape, y_train.shape, X_test.shape, y_test.shape"
      ],
      "execution_count": null,
      "outputs": [
        {
          "output_type": "execute_result",
          "data": {
            "text/plain": [
              "((712, 4), (712,), (179, 4), (179,))"
            ]
          },
          "metadata": {
            "tags": []
          },
          "execution_count": 45
        }
      ]
    },
    {
      "cell_type": "code",
      "metadata": {
        "collapsed": true,
        "jupyter": {
          "outputs_hidden": true
        },
        "id": "St_op82TwgAO",
        "outputId": "d9a9c108-2d6a-41d6-a625-21d717198f6d"
      },
      "source": [
        "from xgboost.sklearn import XGBClassifier\n",
        "??XGBClassifier"
      ],
      "execution_count": null,
      "outputs": [
        {
          "output_type": "display_data",
          "data": {
            "text/plain": [
              "\u001b[0;31mInit signature:\u001b[0m\n",
              "\u001b[0mXGBClassifier\u001b[0m\u001b[0;34m(\u001b[0m\u001b[0;34m\u001b[0m\n",
              "\u001b[0;34m\u001b[0m    \u001b[0;34m*\u001b[0m\u001b[0;34m,\u001b[0m\u001b[0;34m\u001b[0m\n",
              "\u001b[0;34m\u001b[0m    \u001b[0mobjective\u001b[0m\u001b[0;34m=\u001b[0m\u001b[0;34m'binary:logistic'\u001b[0m\u001b[0;34m,\u001b[0m\u001b[0;34m\u001b[0m\n",
              "\u001b[0;34m\u001b[0m    \u001b[0muse_label_encoder\u001b[0m\u001b[0;34m=\u001b[0m\u001b[0;32mTrue\u001b[0m\u001b[0;34m,\u001b[0m\u001b[0;34m\u001b[0m\n",
              "\u001b[0;34m\u001b[0m    \u001b[0;34m**\u001b[0m\u001b[0mkwargs\u001b[0m\u001b[0;34m,\u001b[0m\u001b[0;34m\u001b[0m\n",
              "\u001b[0;34m\u001b[0m\u001b[0;34m)\u001b[0m\u001b[0;34m\u001b[0m\u001b[0;34m\u001b[0m\u001b[0m\n",
              "\u001b[0;31mDocstring:\u001b[0m     \n",
              "Implementation of the scikit-learn API for XGBoost classification.\n",
              "\n",
              "\n",
              "Parameters\n",
              "----------\n",
              "\n",
              "    n_estimators : int\n",
              "        Number of boosting rounds.\n",
              "    use_label_encoder : bool\n",
              "        (Deprecated) Use the label encoder from scikit-learn to encode the labels. For new code,\n",
              "        we recommend that you set this parameter to False.\n",
              "\n",
              "    max_depth : int\n",
              "        Maximum tree depth for base learners.\n",
              "    learning_rate : float\n",
              "        Boosting learning rate (xgb's \"eta\")\n",
              "    verbosity : int\n",
              "        The degree of verbosity. Valid values are 0 (silent) - 3 (debug).\n",
              "    objective : string or callable\n",
              "        Specify the learning task and the corresponding learning objective or\n",
              "        a custom objective function to be used (see note below).\n",
              "    booster: string\n",
              "        Specify which booster to use: gbtree, gblinear or dart.\n",
              "    tree_method: string\n",
              "        Specify which tree method to use.  Default to auto.  If this parameter\n",
              "        is set to default, XGBoost will choose the most conservative option\n",
              "        available.  It's recommended to study this option from parameters\n",
              "        document.\n",
              "    n_jobs : int\n",
              "        Number of parallel threads used to run xgboost.  When used with other Scikit-Learn\n",
              "        algorithms like grid search, you may choose which algorithm to parallelize and\n",
              "        balance the threads.  Creating thread contention will significantly slow dowm both\n",
              "        algorithms.\n",
              "    gamma : float\n",
              "        Minimum loss reduction required to make a further partition on a leaf\n",
              "        node of the tree.\n",
              "    min_child_weight : float\n",
              "        Minimum sum of instance weight(hessian) needed in a child.\n",
              "    max_delta_step : int\n",
              "        Maximum delta step we allow each tree's weight estimation to be.\n",
              "    subsample : float\n",
              "        Subsample ratio of the training instance.\n",
              "    colsample_bytree : float\n",
              "        Subsample ratio of columns when constructing each tree.\n",
              "    colsample_bylevel : float\n",
              "        Subsample ratio of columns for each level.\n",
              "    colsample_bynode : float\n",
              "        Subsample ratio of columns for each split.\n",
              "    reg_alpha : float (xgb's alpha)\n",
              "        L1 regularization term on weights\n",
              "    reg_lambda : float (xgb's lambda)\n",
              "        L2 regularization term on weights\n",
              "    scale_pos_weight : float\n",
              "        Balancing of positive and negative weights.\n",
              "    base_score:\n",
              "        The initial prediction score of all instances, global bias.\n",
              "    random_state : int\n",
              "        Random number seed.\n",
              "\n",
              "        .. note::\n",
              "\n",
              "           Using gblinear booster with shotgun updater is nondeterministic as\n",
              "           it uses Hogwild algorithm.\n",
              "\n",
              "    missing : float, default np.nan\n",
              "        Value in the data which needs to be present as a missing value.\n",
              "    num_parallel_tree: int\n",
              "        Used for boosting random forest.\n",
              "    monotone_constraints : str\n",
              "        Constraint of variable monotonicity.  See tutorial for more\n",
              "        information.\n",
              "    interaction_constraints : str\n",
              "        Constraints for interaction representing permitted interactions.  The\n",
              "        constraints must be specified in the form of a nest list, e.g. [[0, 1],\n",
              "        [2, 3, 4]], where each inner list is a group of indices of features\n",
              "        that are allowed to interact with each other.  See tutorial for more\n",
              "        information\n",
              "    importance_type: string, default \"gain\"\n",
              "        The feature importance type for the feature_importances\\_ property:\n",
              "        either \"gain\", \"weight\", \"cover\", \"total_gain\" or \"total_cover\".\n",
              "\n",
              "    \\*\\*kwargs : dict, optional\n",
              "        Keyword arguments for XGBoost Booster object.  Full documentation of\n",
              "        parameters can be found here:\n",
              "        https://github.com/dmlc/xgboost/blob/master/doc/parameter.rst.\n",
              "        Attempting to set a parameter via the constructor args and \\*\\*kwargs\n",
              "        dict simultaneously will result in a TypeError.\n",
              "\n",
              "        .. note:: \\*\\*kwargs unsupported by scikit-learn\n",
              "\n",
              "            \\*\\*kwargs is unsupported by scikit-learn.  We do not guarantee\n",
              "            that parameters passed via this argument will interact properly\n",
              "            with scikit-learn.\n",
              "\n",
              "        .. note::  Custom objective function\n",
              "\n",
              "            A custom objective function can be provided for the ``objective``\n",
              "            parameter. In this case, it should have the signature\n",
              "            ``objective(y_true, y_pred) -> grad, hess``:\n",
              "\n",
              "            y_true: array_like of shape [n_samples]\n",
              "                The target values\n",
              "            y_pred: array_like of shape [n_samples]\n",
              "                The predicted values\n",
              "\n",
              "            grad: array_like of shape [n_samples]\n",
              "                The value of the gradient for each sample point.\n",
              "            hess: array_like of shape [n_samples]\n",
              "                The value of the second derivative for each sample point\n",
              "\u001b[0;31mSource:\u001b[0m        \n",
              "\u001b[0;32mclass\u001b[0m \u001b[0mXGBClassifier\u001b[0m\u001b[0;34m(\u001b[0m\u001b[0mXGBModel\u001b[0m\u001b[0;34m,\u001b[0m \u001b[0mXGBClassifierBase\u001b[0m\u001b[0;34m)\u001b[0m\u001b[0;34m:\u001b[0m\u001b[0;34m\u001b[0m\n",
              "\u001b[0;34m\u001b[0m    \u001b[0;31m# pylint: disable=missing-docstring,invalid-name,too-many-instance-attributes\u001b[0m\u001b[0;34m\u001b[0m\n",
              "\u001b[0;34m\u001b[0m    \u001b[0;34m@\u001b[0m\u001b[0m_deprecate_positional_args\u001b[0m\u001b[0;34m\u001b[0m\n",
              "\u001b[0;34m\u001b[0m    \u001b[0;32mdef\u001b[0m \u001b[0m__init__\u001b[0m\u001b[0;34m(\u001b[0m\u001b[0mself\u001b[0m\u001b[0;34m,\u001b[0m \u001b[0;34m*\u001b[0m\u001b[0;34m,\u001b[0m \u001b[0mobjective\u001b[0m\u001b[0;34m=\u001b[0m\u001b[0;34m\"binary:logistic\"\u001b[0m\u001b[0;34m,\u001b[0m \u001b[0muse_label_encoder\u001b[0m\u001b[0;34m=\u001b[0m\u001b[0;32mTrue\u001b[0m\u001b[0;34m,\u001b[0m \u001b[0;34m**\u001b[0m\u001b[0mkwargs\u001b[0m\u001b[0;34m)\u001b[0m\u001b[0;34m:\u001b[0m\u001b[0;34m\u001b[0m\n",
              "\u001b[0;34m\u001b[0m        \u001b[0mself\u001b[0m\u001b[0;34m.\u001b[0m\u001b[0muse_label_encoder\u001b[0m \u001b[0;34m=\u001b[0m \u001b[0muse_label_encoder\u001b[0m\u001b[0;34m\u001b[0m\n",
              "\u001b[0;34m\u001b[0m        \u001b[0msuper\u001b[0m\u001b[0;34m(\u001b[0m\u001b[0;34m)\u001b[0m\u001b[0;34m.\u001b[0m\u001b[0m__init__\u001b[0m\u001b[0;34m(\u001b[0m\u001b[0mobjective\u001b[0m\u001b[0;34m=\u001b[0m\u001b[0mobjective\u001b[0m\u001b[0;34m,\u001b[0m \u001b[0;34m**\u001b[0m\u001b[0mkwargs\u001b[0m\u001b[0;34m)\u001b[0m\u001b[0;34m\u001b[0m\n",
              "\u001b[0;34m\u001b[0m\u001b[0;34m\u001b[0m\n",
              "\u001b[0;34m\u001b[0m    \u001b[0;34m@\u001b[0m\u001b[0m_deprecate_positional_args\u001b[0m\u001b[0;34m\u001b[0m\n",
              "\u001b[0;34m\u001b[0m    \u001b[0;32mdef\u001b[0m \u001b[0mfit\u001b[0m\u001b[0;34m(\u001b[0m\u001b[0mself\u001b[0m\u001b[0;34m,\u001b[0m \u001b[0mX\u001b[0m\u001b[0;34m,\u001b[0m \u001b[0my\u001b[0m\u001b[0;34m,\u001b[0m \u001b[0;34m*\u001b[0m\u001b[0;34m,\u001b[0m \u001b[0msample_weight\u001b[0m\u001b[0;34m=\u001b[0m\u001b[0;32mNone\u001b[0m\u001b[0;34m,\u001b[0m \u001b[0mbase_margin\u001b[0m\u001b[0;34m=\u001b[0m\u001b[0;32mNone\u001b[0m\u001b[0;34m,\u001b[0m\u001b[0;34m\u001b[0m\n",
              "\u001b[0;34m\u001b[0m            \u001b[0meval_set\u001b[0m\u001b[0;34m=\u001b[0m\u001b[0;32mNone\u001b[0m\u001b[0;34m,\u001b[0m \u001b[0meval_metric\u001b[0m\u001b[0;34m=\u001b[0m\u001b[0;32mNone\u001b[0m\u001b[0;34m,\u001b[0m\u001b[0;34m\u001b[0m\n",
              "\u001b[0;34m\u001b[0m            \u001b[0mearly_stopping_rounds\u001b[0m\u001b[0;34m=\u001b[0m\u001b[0;32mNone\u001b[0m\u001b[0;34m,\u001b[0m \u001b[0mverbose\u001b[0m\u001b[0;34m=\u001b[0m\u001b[0;32mTrue\u001b[0m\u001b[0;34m,\u001b[0m \u001b[0mxgb_model\u001b[0m\u001b[0;34m=\u001b[0m\u001b[0;32mNone\u001b[0m\u001b[0;34m,\u001b[0m\u001b[0;34m\u001b[0m\n",
              "\u001b[0;34m\u001b[0m            \u001b[0msample_weight_eval_set\u001b[0m\u001b[0;34m=\u001b[0m\u001b[0;32mNone\u001b[0m\u001b[0;34m,\u001b[0m \u001b[0mfeature_weights\u001b[0m\u001b[0;34m=\u001b[0m\u001b[0;32mNone\u001b[0m\u001b[0;34m,\u001b[0m \u001b[0mcallbacks\u001b[0m\u001b[0;34m=\u001b[0m\u001b[0;32mNone\u001b[0m\u001b[0;34m)\u001b[0m\u001b[0;34m:\u001b[0m\u001b[0;34m\u001b[0m\n",
              "\u001b[0;34m\u001b[0m        \u001b[0;31m# pylint: disable = attribute-defined-outside-init,arguments-differ,too-many-statements\u001b[0m\u001b[0;34m\u001b[0m\n",
              "\u001b[0;34m\u001b[0m\u001b[0;34m\u001b[0m\n",
              "\u001b[0;34m\u001b[0m        \u001b[0mcan_use_label_encoder\u001b[0m \u001b[0;34m=\u001b[0m \u001b[0;32mTrue\u001b[0m\u001b[0;34m\u001b[0m\n",
              "\u001b[0;34m\u001b[0m        \u001b[0mlabel_encoding_check_error\u001b[0m \u001b[0;34m=\u001b[0m \u001b[0;34m(\u001b[0m\u001b[0;34m\u001b[0m\n",
              "\u001b[0;34m\u001b[0m                \u001b[0;34m'The label must consist of integer labels of form 0, 1, 2, ..., [num_class - 1].'\u001b[0m\u001b[0;34m)\u001b[0m\u001b[0;34m\u001b[0m\n",
              "\u001b[0;34m\u001b[0m        \u001b[0mlabel_encoder_deprecation_msg\u001b[0m \u001b[0;34m=\u001b[0m \u001b[0;34m(\u001b[0m\u001b[0;34m\u001b[0m\n",
              "\u001b[0;34m\u001b[0m                \u001b[0;34m'The use of label encoder in XGBClassifier is deprecated and will be '\u001b[0m \u001b[0;34m+\u001b[0m\u001b[0;34m\u001b[0m\n",
              "\u001b[0;34m\u001b[0m                \u001b[0;34m'removed in a future release. To remove this warning, do the '\u001b[0m \u001b[0;34m+\u001b[0m\u001b[0;34m\u001b[0m\n",
              "\u001b[0;34m\u001b[0m                \u001b[0;34m'following: 1) Pass option use_label_encoder=False when constructing '\u001b[0m \u001b[0;34m+\u001b[0m\u001b[0;34m\u001b[0m\n",
              "\u001b[0;34m\u001b[0m                \u001b[0;34m'XGBClassifier object; and 2) Encode your labels (y) as integers '\u001b[0m \u001b[0;34m+\u001b[0m\u001b[0;34m\u001b[0m\n",
              "\u001b[0;34m\u001b[0m                \u001b[0;34m'starting with 0, i.e. 0, 1, 2, ..., [num_class - 1].'\u001b[0m\u001b[0;34m)\u001b[0m\u001b[0;34m\u001b[0m\n",
              "\u001b[0;34m\u001b[0m\u001b[0;34m\u001b[0m\n",
              "\u001b[0;34m\u001b[0m        \u001b[0mevals_result\u001b[0m \u001b[0;34m=\u001b[0m \u001b[0;34m{\u001b[0m\u001b[0;34m}\u001b[0m\u001b[0;34m\u001b[0m\n",
              "\u001b[0;34m\u001b[0m        \u001b[0;32mif\u001b[0m \u001b[0m_is_cudf_df\u001b[0m\u001b[0;34m(\u001b[0m\u001b[0my\u001b[0m\u001b[0;34m)\u001b[0m \u001b[0;32mor\u001b[0m \u001b[0m_is_cudf_ser\u001b[0m\u001b[0;34m(\u001b[0m\u001b[0my\u001b[0m\u001b[0;34m)\u001b[0m\u001b[0;34m:\u001b[0m\u001b[0;34m\u001b[0m\n",
              "\u001b[0;34m\u001b[0m            \u001b[0;32mimport\u001b[0m \u001b[0mcupy\u001b[0m \u001b[0;32mas\u001b[0m \u001b[0mcp\u001b[0m  \u001b[0;31m# pylint: disable=E0401\u001b[0m\u001b[0;34m\u001b[0m\n",
              "\u001b[0;34m\u001b[0m            \u001b[0mself\u001b[0m\u001b[0;34m.\u001b[0m\u001b[0mclasses_\u001b[0m \u001b[0;34m=\u001b[0m \u001b[0mcp\u001b[0m\u001b[0;34m.\u001b[0m\u001b[0munique\u001b[0m\u001b[0;34m(\u001b[0m\u001b[0my\u001b[0m\u001b[0;34m.\u001b[0m\u001b[0mvalues\u001b[0m\u001b[0;34m)\u001b[0m\u001b[0;34m\u001b[0m\n",
              "\u001b[0;34m\u001b[0m            \u001b[0mself\u001b[0m\u001b[0;34m.\u001b[0m\u001b[0mn_classes_\u001b[0m \u001b[0;34m=\u001b[0m \u001b[0mlen\u001b[0m\u001b[0;34m(\u001b[0m\u001b[0mself\u001b[0m\u001b[0;34m.\u001b[0m\u001b[0mclasses_\u001b[0m\u001b[0;34m)\u001b[0m\u001b[0;34m\u001b[0m\n",
              "\u001b[0;34m\u001b[0m            \u001b[0mcan_use_label_encoder\u001b[0m \u001b[0;34m=\u001b[0m \u001b[0;32mFalse\u001b[0m\u001b[0;34m\u001b[0m\n",
              "\u001b[0;34m\u001b[0m            \u001b[0mexpected_classes\u001b[0m \u001b[0;34m=\u001b[0m \u001b[0mcp\u001b[0m\u001b[0;34m.\u001b[0m\u001b[0marange\u001b[0m\u001b[0;34m(\u001b[0m\u001b[0mself\u001b[0m\u001b[0;34m.\u001b[0m\u001b[0mn_classes_\u001b[0m\u001b[0;34m)\u001b[0m\u001b[0;34m\u001b[0m\n",
              "\u001b[0;34m\u001b[0m            \u001b[0;32mif\u001b[0m \u001b[0;34m(\u001b[0m\u001b[0mself\u001b[0m\u001b[0;34m.\u001b[0m\u001b[0mclasses_\u001b[0m\u001b[0;34m.\u001b[0m\u001b[0mshape\u001b[0m \u001b[0;34m!=\u001b[0m \u001b[0mexpected_classes\u001b[0m\u001b[0;34m.\u001b[0m\u001b[0mshape\u001b[0m \u001b[0;32mor\u001b[0m\u001b[0;34m\u001b[0m\n",
              "\u001b[0;34m\u001b[0m                    \u001b[0;32mnot\u001b[0m \u001b[0;34m(\u001b[0m\u001b[0mself\u001b[0m\u001b[0;34m.\u001b[0m\u001b[0mclasses_\u001b[0m \u001b[0;34m==\u001b[0m \u001b[0mexpected_classes\u001b[0m\u001b[0;34m)\u001b[0m\u001b[0;34m.\u001b[0m\u001b[0mall\u001b[0m\u001b[0;34m(\u001b[0m\u001b[0;34m)\u001b[0m\u001b[0;34m)\u001b[0m\u001b[0;34m:\u001b[0m\u001b[0;34m\u001b[0m\n",
              "\u001b[0;34m\u001b[0m                \u001b[0;32mraise\u001b[0m \u001b[0mValueError\u001b[0m\u001b[0;34m(\u001b[0m\u001b[0mlabel_encoding_check_error\u001b[0m\u001b[0;34m)\u001b[0m\u001b[0;34m\u001b[0m\n",
              "\u001b[0;34m\u001b[0m        \u001b[0;32melif\u001b[0m \u001b[0m_is_cupy_array\u001b[0m\u001b[0;34m(\u001b[0m\u001b[0my\u001b[0m\u001b[0;34m)\u001b[0m\u001b[0;34m:\u001b[0m\u001b[0;34m\u001b[0m\n",
              "\u001b[0;34m\u001b[0m            \u001b[0;32mimport\u001b[0m \u001b[0mcupy\u001b[0m \u001b[0;32mas\u001b[0m \u001b[0mcp\u001b[0m  \u001b[0;31m# pylint: disable=E0401\u001b[0m\u001b[0;34m\u001b[0m\n",
              "\u001b[0;34m\u001b[0m            \u001b[0mself\u001b[0m\u001b[0;34m.\u001b[0m\u001b[0mclasses_\u001b[0m \u001b[0;34m=\u001b[0m \u001b[0mcp\u001b[0m\u001b[0;34m.\u001b[0m\u001b[0munique\u001b[0m\u001b[0;34m(\u001b[0m\u001b[0my\u001b[0m\u001b[0;34m)\u001b[0m\u001b[0;34m\u001b[0m\n",
              "\u001b[0;34m\u001b[0m            \u001b[0mself\u001b[0m\u001b[0;34m.\u001b[0m\u001b[0mn_classes_\u001b[0m \u001b[0;34m=\u001b[0m \u001b[0mlen\u001b[0m\u001b[0;34m(\u001b[0m\u001b[0mself\u001b[0m\u001b[0;34m.\u001b[0m\u001b[0mclasses_\u001b[0m\u001b[0;34m)\u001b[0m\u001b[0;34m\u001b[0m\n",
              "\u001b[0;34m\u001b[0m            \u001b[0mcan_use_label_encoder\u001b[0m \u001b[0;34m=\u001b[0m \u001b[0;32mFalse\u001b[0m\u001b[0;34m\u001b[0m\n",
              "\u001b[0;34m\u001b[0m            \u001b[0mexpected_classes\u001b[0m \u001b[0;34m=\u001b[0m \u001b[0mcp\u001b[0m\u001b[0;34m.\u001b[0m\u001b[0marange\u001b[0m\u001b[0;34m(\u001b[0m\u001b[0mself\u001b[0m\u001b[0;34m.\u001b[0m\u001b[0mn_classes_\u001b[0m\u001b[0;34m)\u001b[0m\u001b[0;34m\u001b[0m\n",
              "\u001b[0;34m\u001b[0m            \u001b[0;32mif\u001b[0m \u001b[0;34m(\u001b[0m\u001b[0mself\u001b[0m\u001b[0;34m.\u001b[0m\u001b[0mclasses_\u001b[0m\u001b[0;34m.\u001b[0m\u001b[0mshape\u001b[0m \u001b[0;34m!=\u001b[0m \u001b[0mexpected_classes\u001b[0m\u001b[0;34m.\u001b[0m\u001b[0mshape\u001b[0m \u001b[0;32mor\u001b[0m\u001b[0;34m\u001b[0m\n",
              "\u001b[0;34m\u001b[0m                    \u001b[0;32mnot\u001b[0m \u001b[0;34m(\u001b[0m\u001b[0mself\u001b[0m\u001b[0;34m.\u001b[0m\u001b[0mclasses_\u001b[0m \u001b[0;34m==\u001b[0m \u001b[0mexpected_classes\u001b[0m\u001b[0;34m)\u001b[0m\u001b[0;34m.\u001b[0m\u001b[0mall\u001b[0m\u001b[0;34m(\u001b[0m\u001b[0;34m)\u001b[0m\u001b[0;34m)\u001b[0m\u001b[0;34m:\u001b[0m\u001b[0;34m\u001b[0m\n",
              "\u001b[0;34m\u001b[0m                \u001b[0;32mraise\u001b[0m \u001b[0mValueError\u001b[0m\u001b[0;34m(\u001b[0m\u001b[0mlabel_encoding_check_error\u001b[0m\u001b[0;34m)\u001b[0m\u001b[0;34m\u001b[0m\n",
              "\u001b[0;34m\u001b[0m        \u001b[0;32melse\u001b[0m\u001b[0;34m:\u001b[0m\u001b[0;34m\u001b[0m\n",
              "\u001b[0;34m\u001b[0m            \u001b[0mself\u001b[0m\u001b[0;34m.\u001b[0m\u001b[0mclasses_\u001b[0m \u001b[0;34m=\u001b[0m \u001b[0mnp\u001b[0m\u001b[0;34m.\u001b[0m\u001b[0munique\u001b[0m\u001b[0;34m(\u001b[0m\u001b[0my\u001b[0m\u001b[0;34m)\u001b[0m\u001b[0;34m\u001b[0m\n",
              "\u001b[0;34m\u001b[0m            \u001b[0mself\u001b[0m\u001b[0;34m.\u001b[0m\u001b[0mn_classes_\u001b[0m \u001b[0;34m=\u001b[0m \u001b[0mlen\u001b[0m\u001b[0;34m(\u001b[0m\u001b[0mself\u001b[0m\u001b[0;34m.\u001b[0m\u001b[0mclasses_\u001b[0m\u001b[0;34m)\u001b[0m\u001b[0;34m\u001b[0m\n",
              "\u001b[0;34m\u001b[0m            \u001b[0;32mif\u001b[0m \u001b[0;32mnot\u001b[0m \u001b[0mself\u001b[0m\u001b[0;34m.\u001b[0m\u001b[0muse_label_encoder\u001b[0m \u001b[0;32mand\u001b[0m \u001b[0;34m(\u001b[0m\u001b[0;34m\u001b[0m\n",
              "\u001b[0;34m\u001b[0m                    \u001b[0;32mnot\u001b[0m \u001b[0mnp\u001b[0m\u001b[0;34m.\u001b[0m\u001b[0marray_equal\u001b[0m\u001b[0;34m(\u001b[0m\u001b[0mself\u001b[0m\u001b[0;34m.\u001b[0m\u001b[0mclasses_\u001b[0m\u001b[0;34m,\u001b[0m \u001b[0mnp\u001b[0m\u001b[0;34m.\u001b[0m\u001b[0marange\u001b[0m\u001b[0;34m(\u001b[0m\u001b[0mself\u001b[0m\u001b[0;34m.\u001b[0m\u001b[0mn_classes_\u001b[0m\u001b[0;34m)\u001b[0m\u001b[0;34m)\u001b[0m\u001b[0;34m)\u001b[0m\u001b[0;34m:\u001b[0m\u001b[0;34m\u001b[0m\n",
              "\u001b[0;34m\u001b[0m                \u001b[0;32mraise\u001b[0m \u001b[0mValueError\u001b[0m\u001b[0;34m(\u001b[0m\u001b[0mlabel_encoding_check_error\u001b[0m\u001b[0;34m)\u001b[0m\u001b[0;34m\u001b[0m\n",
              "\u001b[0;34m\u001b[0m\u001b[0;34m\u001b[0m\n",
              "\u001b[0;34m\u001b[0m        \u001b[0mxgb_options\u001b[0m \u001b[0;34m=\u001b[0m \u001b[0mself\u001b[0m\u001b[0;34m.\u001b[0m\u001b[0mget_xgb_params\u001b[0m\u001b[0;34m(\u001b[0m\u001b[0;34m)\u001b[0m\u001b[0;34m\u001b[0m\n",
              "\u001b[0;34m\u001b[0m\u001b[0;34m\u001b[0m\n",
              "\u001b[0;34m\u001b[0m        \u001b[0;32mif\u001b[0m \u001b[0mcallable\u001b[0m\u001b[0;34m(\u001b[0m\u001b[0mself\u001b[0m\u001b[0;34m.\u001b[0m\u001b[0mobjective\u001b[0m\u001b[0;34m)\u001b[0m\u001b[0;34m:\u001b[0m\u001b[0;34m\u001b[0m\n",
              "\u001b[0;34m\u001b[0m            \u001b[0mobj\u001b[0m \u001b[0;34m=\u001b[0m \u001b[0m_objective_decorator\u001b[0m\u001b[0;34m(\u001b[0m\u001b[0mself\u001b[0m\u001b[0;34m.\u001b[0m\u001b[0mobjective\u001b[0m\u001b[0;34m)\u001b[0m\u001b[0;34m\u001b[0m\n",
              "\u001b[0;34m\u001b[0m            \u001b[0;31m# Use default value. Is it really not used ?\u001b[0m\u001b[0;34m\u001b[0m\n",
              "\u001b[0;34m\u001b[0m            \u001b[0mxgb_options\u001b[0m\u001b[0;34m[\u001b[0m\u001b[0;34m\"objective\"\u001b[0m\u001b[0;34m]\u001b[0m \u001b[0;34m=\u001b[0m \u001b[0;34m\"binary:logistic\"\u001b[0m\u001b[0;34m\u001b[0m\n",
              "\u001b[0;34m\u001b[0m        \u001b[0;32melse\u001b[0m\u001b[0;34m:\u001b[0m\u001b[0;34m\u001b[0m\n",
              "\u001b[0;34m\u001b[0m            \u001b[0mobj\u001b[0m \u001b[0;34m=\u001b[0m \u001b[0;32mNone\u001b[0m\u001b[0;34m\u001b[0m\n",
              "\u001b[0;34m\u001b[0m\u001b[0;34m\u001b[0m\n",
              "\u001b[0;34m\u001b[0m        \u001b[0;32mif\u001b[0m \u001b[0mself\u001b[0m\u001b[0;34m.\u001b[0m\u001b[0mn_classes_\u001b[0m \u001b[0;34m>\u001b[0m \u001b[0;36m2\u001b[0m\u001b[0;34m:\u001b[0m\u001b[0;34m\u001b[0m\n",
              "\u001b[0;34m\u001b[0m            \u001b[0;31m# Switch to using a multiclass objective in the underlying\u001b[0m\u001b[0;34m\u001b[0m\n",
              "\u001b[0;34m\u001b[0m            \u001b[0;31m# XGB instance\u001b[0m\u001b[0;34m\u001b[0m\n",
              "\u001b[0;34m\u001b[0m            \u001b[0mxgb_options\u001b[0m\u001b[0;34m[\u001b[0m\u001b[0;34m'objective'\u001b[0m\u001b[0;34m]\u001b[0m \u001b[0;34m=\u001b[0m \u001b[0;34m'multi:softprob'\u001b[0m\u001b[0;34m\u001b[0m\n",
              "\u001b[0;34m\u001b[0m            \u001b[0mxgb_options\u001b[0m\u001b[0;34m[\u001b[0m\u001b[0;34m'num_class'\u001b[0m\u001b[0;34m]\u001b[0m \u001b[0;34m=\u001b[0m \u001b[0mself\u001b[0m\u001b[0;34m.\u001b[0m\u001b[0mn_classes_\u001b[0m\u001b[0;34m\u001b[0m\n",
              "\u001b[0;34m\u001b[0m\u001b[0;34m\u001b[0m\n",
              "\u001b[0;34m\u001b[0m        \u001b[0mfeval\u001b[0m \u001b[0;34m=\u001b[0m \u001b[0meval_metric\u001b[0m \u001b[0;32mif\u001b[0m \u001b[0mcallable\u001b[0m\u001b[0;34m(\u001b[0m\u001b[0meval_metric\u001b[0m\u001b[0;34m)\u001b[0m \u001b[0;32melse\u001b[0m \u001b[0;32mNone\u001b[0m\u001b[0;34m\u001b[0m\n",
              "\u001b[0;34m\u001b[0m        \u001b[0;32mif\u001b[0m \u001b[0meval_metric\u001b[0m \u001b[0;32mis\u001b[0m \u001b[0;32mnot\u001b[0m \u001b[0;32mNone\u001b[0m\u001b[0;34m:\u001b[0m\u001b[0;34m\u001b[0m\n",
              "\u001b[0;34m\u001b[0m            \u001b[0;32mif\u001b[0m \u001b[0mcallable\u001b[0m\u001b[0;34m(\u001b[0m\u001b[0meval_metric\u001b[0m\u001b[0;34m)\u001b[0m\u001b[0;34m:\u001b[0m\u001b[0;34m\u001b[0m\n",
              "\u001b[0;34m\u001b[0m                \u001b[0meval_metric\u001b[0m \u001b[0;34m=\u001b[0m \u001b[0;32mNone\u001b[0m\u001b[0;34m\u001b[0m\n",
              "\u001b[0;34m\u001b[0m            \u001b[0;32melse\u001b[0m\u001b[0;34m:\u001b[0m\u001b[0;34m\u001b[0m\n",
              "\u001b[0;34m\u001b[0m                \u001b[0mxgb_options\u001b[0m\u001b[0;34m.\u001b[0m\u001b[0mupdate\u001b[0m\u001b[0;34m(\u001b[0m\u001b[0;34m{\u001b[0m\u001b[0;34m\"eval_metric\"\u001b[0m\u001b[0;34m:\u001b[0m \u001b[0meval_metric\u001b[0m\u001b[0;34m}\u001b[0m\u001b[0;34m)\u001b[0m\u001b[0;34m\u001b[0m\n",
              "\u001b[0;34m\u001b[0m\u001b[0;34m\u001b[0m\n",
              "\u001b[0;34m\u001b[0m        \u001b[0;32mif\u001b[0m \u001b[0mself\u001b[0m\u001b[0;34m.\u001b[0m\u001b[0muse_label_encoder\u001b[0m\u001b[0;34m:\u001b[0m\u001b[0;34m\u001b[0m\n",
              "\u001b[0;34m\u001b[0m            \u001b[0;32mif\u001b[0m \u001b[0;32mnot\u001b[0m \u001b[0mcan_use_label_encoder\u001b[0m\u001b[0;34m:\u001b[0m\u001b[0;34m\u001b[0m\n",
              "\u001b[0;34m\u001b[0m                \u001b[0;32mraise\u001b[0m \u001b[0mValueError\u001b[0m\u001b[0;34m(\u001b[0m\u001b[0;34m'The option use_label_encoder=True is incompatible with inputs '\u001b[0m \u001b[0;34m+\u001b[0m\u001b[0;34m\u001b[0m\n",
              "\u001b[0;34m\u001b[0m                                 \u001b[0;34m'of type cuDF or cuPy. Please set use_label_encoder=False when '\u001b[0m \u001b[0;34m+\u001b[0m\u001b[0;34m\u001b[0m\n",
              "\u001b[0;34m\u001b[0m                                 \u001b[0;34m'constructing XGBClassifier object. NOTE: '\u001b[0m \u001b[0;34m+\u001b[0m\u001b[0;34m\u001b[0m\n",
              "\u001b[0;34m\u001b[0m                                 \u001b[0mlabel_encoder_deprecation_msg\u001b[0m\u001b[0;34m)\u001b[0m\u001b[0;34m\u001b[0m\n",
              "\u001b[0;34m\u001b[0m            \u001b[0mwarnings\u001b[0m\u001b[0;34m.\u001b[0m\u001b[0mwarn\u001b[0m\u001b[0;34m(\u001b[0m\u001b[0mlabel_encoder_deprecation_msg\u001b[0m\u001b[0;34m,\u001b[0m \u001b[0mUserWarning\u001b[0m\u001b[0;34m)\u001b[0m\u001b[0;34m\u001b[0m\n",
              "\u001b[0;34m\u001b[0m            \u001b[0mself\u001b[0m\u001b[0;34m.\u001b[0m\u001b[0m_le\u001b[0m \u001b[0;34m=\u001b[0m \u001b[0mXGBoostLabelEncoder\u001b[0m\u001b[0;34m(\u001b[0m\u001b[0;34m)\u001b[0m\u001b[0;34m.\u001b[0m\u001b[0mfit\u001b[0m\u001b[0;34m(\u001b[0m\u001b[0my\u001b[0m\u001b[0;34m)\u001b[0m\u001b[0;34m\u001b[0m\n",
              "\u001b[0;34m\u001b[0m            \u001b[0mlabel_transform\u001b[0m \u001b[0;34m=\u001b[0m \u001b[0mself\u001b[0m\u001b[0;34m.\u001b[0m\u001b[0m_le\u001b[0m\u001b[0;34m.\u001b[0m\u001b[0mtransform\u001b[0m\u001b[0;34m\u001b[0m\n",
              "\u001b[0;34m\u001b[0m        \u001b[0;32melse\u001b[0m\u001b[0;34m:\u001b[0m\u001b[0;34m\u001b[0m\n",
              "\u001b[0;34m\u001b[0m            \u001b[0mlabel_transform\u001b[0m \u001b[0;34m=\u001b[0m \u001b[0;34m(\u001b[0m\u001b[0;32mlambda\u001b[0m \u001b[0mx\u001b[0m\u001b[0;34m:\u001b[0m \u001b[0mx\u001b[0m\u001b[0;34m)\u001b[0m\u001b[0;34m\u001b[0m\n",
              "\u001b[0;34m\u001b[0m\u001b[0;34m\u001b[0m\n",
              "\u001b[0;34m\u001b[0m        \u001b[0;32mif\u001b[0m \u001b[0mlen\u001b[0m\u001b[0;34m(\u001b[0m\u001b[0mX\u001b[0m\u001b[0;34m.\u001b[0m\u001b[0mshape\u001b[0m\u001b[0;34m)\u001b[0m \u001b[0;34m!=\u001b[0m \u001b[0;36m2\u001b[0m\u001b[0;34m:\u001b[0m\u001b[0;34m\u001b[0m\n",
              "\u001b[0;34m\u001b[0m            \u001b[0;31m# Simply raise an error here since there might be many\u001b[0m\u001b[0;34m\u001b[0m\n",
              "\u001b[0;34m\u001b[0m            \u001b[0;31m# different ways of reshaping\u001b[0m\u001b[0;34m\u001b[0m\n",
              "\u001b[0;34m\u001b[0m            \u001b[0;32mraise\u001b[0m \u001b[0mValueError\u001b[0m\u001b[0;34m(\u001b[0m\u001b[0;34m\u001b[0m\n",
              "\u001b[0;34m\u001b[0m                \u001b[0;34m'Please reshape the input data X into 2-dimensional matrix.'\u001b[0m\u001b[0;34m)\u001b[0m\u001b[0;34m\u001b[0m\n",
              "\u001b[0;34m\u001b[0m\u001b[0;34m\u001b[0m\n",
              "\u001b[0;34m\u001b[0m        \u001b[0mself\u001b[0m\u001b[0;34m.\u001b[0m\u001b[0m_features_count\u001b[0m \u001b[0;34m=\u001b[0m \u001b[0mX\u001b[0m\u001b[0;34m.\u001b[0m\u001b[0mshape\u001b[0m\u001b[0;34m[\u001b[0m\u001b[0;36m1\u001b[0m\u001b[0;34m]\u001b[0m\u001b[0;34m\u001b[0m\n",
              "\u001b[0;34m\u001b[0m        \u001b[0mself\u001b[0m\u001b[0;34m.\u001b[0m\u001b[0mn_features_in_\u001b[0m \u001b[0;34m=\u001b[0m \u001b[0mself\u001b[0m\u001b[0;34m.\u001b[0m\u001b[0m_features_count\u001b[0m\u001b[0;34m\u001b[0m\n",
              "\u001b[0;34m\u001b[0m\u001b[0;34m\u001b[0m\n",
              "\u001b[0;34m\u001b[0m        \u001b[0mtrain_dmatrix\u001b[0m\u001b[0;34m,\u001b[0m \u001b[0mevals\u001b[0m \u001b[0;34m=\u001b[0m \u001b[0mself\u001b[0m\u001b[0;34m.\u001b[0m\u001b[0m_wrap_evaluation_matrices\u001b[0m\u001b[0;34m(\u001b[0m\u001b[0;34m\u001b[0m\n",
              "\u001b[0;34m\u001b[0m            \u001b[0mX\u001b[0m\u001b[0;34m,\u001b[0m \u001b[0my\u001b[0m\u001b[0;34m,\u001b[0m \u001b[0mgroup\u001b[0m\u001b[0;34m=\u001b[0m\u001b[0;32mNone\u001b[0m\u001b[0;34m,\u001b[0m \u001b[0msample_weight\u001b[0m\u001b[0;34m=\u001b[0m\u001b[0msample_weight\u001b[0m\u001b[0;34m,\u001b[0m \u001b[0mbase_margin\u001b[0m\u001b[0;34m=\u001b[0m\u001b[0mbase_margin\u001b[0m\u001b[0;34m,\u001b[0m\u001b[0;34m\u001b[0m\n",
              "\u001b[0;34m\u001b[0m            \u001b[0mfeature_weights\u001b[0m\u001b[0;34m=\u001b[0m\u001b[0mfeature_weights\u001b[0m\u001b[0;34m,\u001b[0m\u001b[0;34m\u001b[0m\n",
              "\u001b[0;34m\u001b[0m            \u001b[0meval_set\u001b[0m\u001b[0;34m=\u001b[0m\u001b[0meval_set\u001b[0m\u001b[0;34m,\u001b[0m \u001b[0msample_weight_eval_set\u001b[0m\u001b[0;34m=\u001b[0m\u001b[0msample_weight_eval_set\u001b[0m\u001b[0;34m,\u001b[0m\u001b[0;34m\u001b[0m\n",
              "\u001b[0;34m\u001b[0m            \u001b[0meval_group\u001b[0m\u001b[0;34m=\u001b[0m\u001b[0;32mNone\u001b[0m\u001b[0;34m,\u001b[0m \u001b[0mlabel_transform\u001b[0m\u001b[0;34m=\u001b[0m\u001b[0mlabel_transform\u001b[0m\u001b[0;34m)\u001b[0m\u001b[0;34m\u001b[0m\n",
              "\u001b[0;34m\u001b[0m\u001b[0;34m\u001b[0m\n",
              "\u001b[0;34m\u001b[0m        \u001b[0mself\u001b[0m\u001b[0;34m.\u001b[0m\u001b[0m_Booster\u001b[0m \u001b[0;34m=\u001b[0m \u001b[0mtrain\u001b[0m\u001b[0;34m(\u001b[0m\u001b[0mxgb_options\u001b[0m\u001b[0;34m,\u001b[0m \u001b[0mtrain_dmatrix\u001b[0m\u001b[0;34m,\u001b[0m\u001b[0;34m\u001b[0m\n",
              "\u001b[0;34m\u001b[0m                              \u001b[0mself\u001b[0m\u001b[0;34m.\u001b[0m\u001b[0mget_num_boosting_rounds\u001b[0m\u001b[0;34m(\u001b[0m\u001b[0;34m)\u001b[0m\u001b[0;34m,\u001b[0m\u001b[0;34m\u001b[0m\n",
              "\u001b[0;34m\u001b[0m                              \u001b[0mevals\u001b[0m\u001b[0;34m=\u001b[0m\u001b[0mevals\u001b[0m\u001b[0;34m,\u001b[0m\u001b[0;34m\u001b[0m\n",
              "\u001b[0;34m\u001b[0m                              \u001b[0mearly_stopping_rounds\u001b[0m\u001b[0;34m=\u001b[0m\u001b[0mearly_stopping_rounds\u001b[0m\u001b[0;34m,\u001b[0m\u001b[0;34m\u001b[0m\n",
              "\u001b[0;34m\u001b[0m                              \u001b[0mevals_result\u001b[0m\u001b[0;34m=\u001b[0m\u001b[0mevals_result\u001b[0m\u001b[0;34m,\u001b[0m \u001b[0mobj\u001b[0m\u001b[0;34m=\u001b[0m\u001b[0mobj\u001b[0m\u001b[0;34m,\u001b[0m \u001b[0mfeval\u001b[0m\u001b[0;34m=\u001b[0m\u001b[0mfeval\u001b[0m\u001b[0;34m,\u001b[0m\u001b[0;34m\u001b[0m\n",
              "\u001b[0;34m\u001b[0m                              \u001b[0mverbose_eval\u001b[0m\u001b[0;34m=\u001b[0m\u001b[0mverbose\u001b[0m\u001b[0;34m,\u001b[0m \u001b[0mxgb_model\u001b[0m\u001b[0;34m=\u001b[0m\u001b[0mxgb_model\u001b[0m\u001b[0;34m,\u001b[0m\u001b[0;34m\u001b[0m\n",
              "\u001b[0;34m\u001b[0m                              \u001b[0mcallbacks\u001b[0m\u001b[0;34m=\u001b[0m\u001b[0mcallbacks\u001b[0m\u001b[0;34m)\u001b[0m\u001b[0;34m\u001b[0m\n",
              "\u001b[0;34m\u001b[0m\u001b[0;34m\u001b[0m\n",
              "\u001b[0;34m\u001b[0m        \u001b[0mself\u001b[0m\u001b[0;34m.\u001b[0m\u001b[0mobjective\u001b[0m \u001b[0;34m=\u001b[0m \u001b[0mxgb_options\u001b[0m\u001b[0;34m[\u001b[0m\u001b[0;34m\"objective\"\u001b[0m\u001b[0;34m]\u001b[0m\u001b[0;34m\u001b[0m\n",
              "\u001b[0;34m\u001b[0m        \u001b[0mself\u001b[0m\u001b[0;34m.\u001b[0m\u001b[0m_set_evaluation_result\u001b[0m\u001b[0;34m(\u001b[0m\u001b[0mevals_result\u001b[0m\u001b[0;34m)\u001b[0m\u001b[0;34m\u001b[0m\n",
              "\u001b[0;34m\u001b[0m\u001b[0;34m\u001b[0m\n",
              "\u001b[0;34m\u001b[0m        \u001b[0;32mif\u001b[0m \u001b[0mearly_stopping_rounds\u001b[0m \u001b[0;32mis\u001b[0m \u001b[0;32mnot\u001b[0m \u001b[0;32mNone\u001b[0m\u001b[0;34m:\u001b[0m\u001b[0;34m\u001b[0m\n",
              "\u001b[0;34m\u001b[0m            \u001b[0mself\u001b[0m\u001b[0;34m.\u001b[0m\u001b[0mbest_score\u001b[0m \u001b[0;34m=\u001b[0m \u001b[0mself\u001b[0m\u001b[0;34m.\u001b[0m\u001b[0m_Booster\u001b[0m\u001b[0;34m.\u001b[0m\u001b[0mbest_score\u001b[0m\u001b[0;34m\u001b[0m\n",
              "\u001b[0;34m\u001b[0m            \u001b[0mself\u001b[0m\u001b[0;34m.\u001b[0m\u001b[0mbest_iteration\u001b[0m \u001b[0;34m=\u001b[0m \u001b[0mself\u001b[0m\u001b[0;34m.\u001b[0m\u001b[0m_Booster\u001b[0m\u001b[0;34m.\u001b[0m\u001b[0mbest_iteration\u001b[0m\u001b[0;34m\u001b[0m\n",
              "\u001b[0;34m\u001b[0m            \u001b[0mself\u001b[0m\u001b[0;34m.\u001b[0m\u001b[0mbest_ntree_limit\u001b[0m \u001b[0;34m=\u001b[0m \u001b[0mself\u001b[0m\u001b[0;34m.\u001b[0m\u001b[0m_Booster\u001b[0m\u001b[0;34m.\u001b[0m\u001b[0mbest_ntree_limit\u001b[0m\u001b[0;34m\u001b[0m\n",
              "\u001b[0;34m\u001b[0m\u001b[0;34m\u001b[0m\n",
              "\u001b[0;34m\u001b[0m        \u001b[0;32mreturn\u001b[0m \u001b[0mself\u001b[0m\u001b[0;34m\u001b[0m\n",
              "\u001b[0;34m\u001b[0m\u001b[0;34m\u001b[0m\n",
              "\u001b[0;34m\u001b[0m    \u001b[0mfit\u001b[0m\u001b[0;34m.\u001b[0m\u001b[0m__doc__\u001b[0m \u001b[0;34m=\u001b[0m \u001b[0mXGBModel\u001b[0m\u001b[0;34m.\u001b[0m\u001b[0mfit\u001b[0m\u001b[0;34m.\u001b[0m\u001b[0m__doc__\u001b[0m\u001b[0;34m.\u001b[0m\u001b[0mreplace\u001b[0m\u001b[0;34m(\u001b[0m\u001b[0;34m\u001b[0m\n",
              "\u001b[0;34m\u001b[0m        \u001b[0;34m'Fit gradient boosting model'\u001b[0m\u001b[0;34m,\u001b[0m\u001b[0;34m\u001b[0m\n",
              "\u001b[0;34m\u001b[0m        \u001b[0;34m'Fit gradient boosting classifier'\u001b[0m\u001b[0;34m,\u001b[0m \u001b[0;36m1\u001b[0m\u001b[0;34m)\u001b[0m\u001b[0;34m\u001b[0m\n",
              "\u001b[0;34m\u001b[0m\u001b[0;34m\u001b[0m\n",
              "\u001b[0;34m\u001b[0m    \u001b[0;32mdef\u001b[0m \u001b[0mpredict\u001b[0m\u001b[0;34m(\u001b[0m\u001b[0mself\u001b[0m\u001b[0;34m,\u001b[0m \u001b[0mdata\u001b[0m\u001b[0;34m,\u001b[0m \u001b[0moutput_margin\u001b[0m\u001b[0;34m=\u001b[0m\u001b[0;32mFalse\u001b[0m\u001b[0;34m,\u001b[0m \u001b[0mntree_limit\u001b[0m\u001b[0;34m=\u001b[0m\u001b[0;32mNone\u001b[0m\u001b[0;34m,\u001b[0m\u001b[0;34m\u001b[0m\n",
              "\u001b[0;34m\u001b[0m                \u001b[0mvalidate_features\u001b[0m\u001b[0;34m=\u001b[0m\u001b[0;32mTrue\u001b[0m\u001b[0;34m,\u001b[0m \u001b[0mbase_margin\u001b[0m\u001b[0;34m=\u001b[0m\u001b[0;32mNone\u001b[0m\u001b[0;34m)\u001b[0m\u001b[0;34m:\u001b[0m\u001b[0;34m\u001b[0m\n",
              "\u001b[0;34m\u001b[0m        \u001b[0;34m\"\"\"\u001b[0m\n",
              "\u001b[0;34m        Predict with `data`.\u001b[0m\n",
              "\u001b[0;34m\u001b[0m\n",
              "\u001b[0;34m        .. note:: This function is not thread safe.\u001b[0m\n",
              "\u001b[0;34m\u001b[0m\n",
              "\u001b[0;34m          For each booster object, predict can only be called from one thread.\u001b[0m\n",
              "\u001b[0;34m          If you want to run prediction using multiple thread, call\u001b[0m\n",
              "\u001b[0;34m          ``xgb.copy()`` to make copies of model object and then call\u001b[0m\n",
              "\u001b[0;34m          ``predict()``.\u001b[0m\n",
              "\u001b[0;34m\u001b[0m\n",
              "\u001b[0;34m          .. code-block:: python\u001b[0m\n",
              "\u001b[0;34m\u001b[0m\n",
              "\u001b[0;34m            preds = bst.predict(dtest, ntree_limit=num_round)\u001b[0m\n",
              "\u001b[0;34m\u001b[0m\n",
              "\u001b[0;34m        Parameters\u001b[0m\n",
              "\u001b[0;34m        ----------\u001b[0m\n",
              "\u001b[0;34m        data : array_like\u001b[0m\n",
              "\u001b[0;34m            Feature matrix.\u001b[0m\n",
              "\u001b[0;34m        output_margin : bool\u001b[0m\n",
              "\u001b[0;34m            Whether to output the raw untransformed margin value.\u001b[0m\n",
              "\u001b[0;34m        ntree_limit : int\u001b[0m\n",
              "\u001b[0;34m            Limit number of trees in the prediction; defaults to\u001b[0m\n",
              "\u001b[0;34m            best_ntree_limit if defined (i.e. it has been trained with early\u001b[0m\n",
              "\u001b[0;34m            stopping), otherwise 0 (use all trees).\u001b[0m\n",
              "\u001b[0;34m        validate_features : bool\u001b[0m\n",
              "\u001b[0;34m            When this is True, validate that the Booster's and data's\u001b[0m\n",
              "\u001b[0;34m            feature_names are identical.  Otherwise, it is assumed that the\u001b[0m\n",
              "\u001b[0;34m            feature_names are the same.\u001b[0m\n",
              "\u001b[0;34m\u001b[0m\n",
              "\u001b[0;34m        Returns\u001b[0m\n",
              "\u001b[0;34m        -------\u001b[0m\n",
              "\u001b[0;34m        prediction : numpy array\u001b[0m\n",
              "\u001b[0;34m        \"\"\"\u001b[0m\u001b[0;34m\u001b[0m\n",
              "\u001b[0;34m\u001b[0m        \u001b[0mtest_dmatrix\u001b[0m \u001b[0;34m=\u001b[0m \u001b[0mDMatrix\u001b[0m\u001b[0;34m(\u001b[0m\u001b[0mdata\u001b[0m\u001b[0;34m,\u001b[0m \u001b[0mbase_margin\u001b[0m\u001b[0;34m=\u001b[0m\u001b[0mbase_margin\u001b[0m\u001b[0;34m,\u001b[0m\u001b[0;34m\u001b[0m\n",
              "\u001b[0;34m\u001b[0m                               \u001b[0mmissing\u001b[0m\u001b[0;34m=\u001b[0m\u001b[0mself\u001b[0m\u001b[0;34m.\u001b[0m\u001b[0mmissing\u001b[0m\u001b[0;34m,\u001b[0m \u001b[0mnthread\u001b[0m\u001b[0;34m=\u001b[0m\u001b[0mself\u001b[0m\u001b[0;34m.\u001b[0m\u001b[0mn_jobs\u001b[0m\u001b[0;34m)\u001b[0m\u001b[0;34m\u001b[0m\n",
              "\u001b[0;34m\u001b[0m        \u001b[0;32mif\u001b[0m \u001b[0mntree_limit\u001b[0m \u001b[0;32mis\u001b[0m \u001b[0;32mNone\u001b[0m\u001b[0;34m:\u001b[0m\u001b[0;34m\u001b[0m\n",
              "\u001b[0;34m\u001b[0m            \u001b[0mntree_limit\u001b[0m \u001b[0;34m=\u001b[0m \u001b[0mgetattr\u001b[0m\u001b[0;34m(\u001b[0m\u001b[0mself\u001b[0m\u001b[0;34m,\u001b[0m \u001b[0;34m\"best_ntree_limit\"\u001b[0m\u001b[0;34m,\u001b[0m \u001b[0;36m0\u001b[0m\u001b[0;34m)\u001b[0m\u001b[0;34m\u001b[0m\n",
              "\u001b[0;34m\u001b[0m        \u001b[0mclass_probs\u001b[0m \u001b[0;34m=\u001b[0m \u001b[0mself\u001b[0m\u001b[0;34m.\u001b[0m\u001b[0mget_booster\u001b[0m\u001b[0;34m(\u001b[0m\u001b[0;34m)\u001b[0m\u001b[0;34m.\u001b[0m\u001b[0mpredict\u001b[0m\u001b[0;34m(\u001b[0m\u001b[0;34m\u001b[0m\n",
              "\u001b[0;34m\u001b[0m            \u001b[0mtest_dmatrix\u001b[0m\u001b[0;34m,\u001b[0m\u001b[0;34m\u001b[0m\n",
              "\u001b[0;34m\u001b[0m            \u001b[0moutput_margin\u001b[0m\u001b[0;34m=\u001b[0m\u001b[0moutput_margin\u001b[0m\u001b[0;34m,\u001b[0m\u001b[0;34m\u001b[0m\n",
              "\u001b[0;34m\u001b[0m            \u001b[0mntree_limit\u001b[0m\u001b[0;34m=\u001b[0m\u001b[0mntree_limit\u001b[0m\u001b[0;34m,\u001b[0m\u001b[0;34m\u001b[0m\n",
              "\u001b[0;34m\u001b[0m            \u001b[0mvalidate_features\u001b[0m\u001b[0;34m=\u001b[0m\u001b[0mvalidate_features\u001b[0m\u001b[0;34m)\u001b[0m\u001b[0;34m\u001b[0m\n",
              "\u001b[0;34m\u001b[0m        \u001b[0;32mif\u001b[0m \u001b[0moutput_margin\u001b[0m\u001b[0;34m:\u001b[0m\u001b[0;34m\u001b[0m\n",
              "\u001b[0;34m\u001b[0m            \u001b[0;31m# If output_margin is active, simply return the scores\u001b[0m\u001b[0;34m\u001b[0m\n",
              "\u001b[0;34m\u001b[0m            \u001b[0;32mreturn\u001b[0m \u001b[0mclass_probs\u001b[0m\u001b[0;34m\u001b[0m\n",
              "\u001b[0;34m\u001b[0m\u001b[0;34m\u001b[0m\n",
              "\u001b[0;34m\u001b[0m        \u001b[0;32mif\u001b[0m \u001b[0mlen\u001b[0m\u001b[0;34m(\u001b[0m\u001b[0mclass_probs\u001b[0m\u001b[0;34m.\u001b[0m\u001b[0mshape\u001b[0m\u001b[0;34m)\u001b[0m \u001b[0;34m>\u001b[0m \u001b[0;36m1\u001b[0m\u001b[0;34m:\u001b[0m\u001b[0;34m\u001b[0m\n",
              "\u001b[0;34m\u001b[0m            \u001b[0mcolumn_indexes\u001b[0m \u001b[0;34m=\u001b[0m \u001b[0mnp\u001b[0m\u001b[0;34m.\u001b[0m\u001b[0margmax\u001b[0m\u001b[0;34m(\u001b[0m\u001b[0mclass_probs\u001b[0m\u001b[0;34m,\u001b[0m \u001b[0maxis\u001b[0m\u001b[0;34m=\u001b[0m\u001b[0;36m1\u001b[0m\u001b[0;34m)\u001b[0m\u001b[0;34m\u001b[0m\n",
              "\u001b[0;34m\u001b[0m        \u001b[0;32melse\u001b[0m\u001b[0;34m:\u001b[0m\u001b[0;34m\u001b[0m\n",
              "\u001b[0;34m\u001b[0m            \u001b[0mcolumn_indexes\u001b[0m \u001b[0;34m=\u001b[0m \u001b[0mnp\u001b[0m\u001b[0;34m.\u001b[0m\u001b[0mrepeat\u001b[0m\u001b[0;34m(\u001b[0m\u001b[0;36m0\u001b[0m\u001b[0;34m,\u001b[0m \u001b[0mclass_probs\u001b[0m\u001b[0;34m.\u001b[0m\u001b[0mshape\u001b[0m\u001b[0;34m[\u001b[0m\u001b[0;36m0\u001b[0m\u001b[0;34m]\u001b[0m\u001b[0;34m)\u001b[0m\u001b[0;34m\u001b[0m\n",
              "\u001b[0;34m\u001b[0m            \u001b[0mcolumn_indexes\u001b[0m\u001b[0;34m[\u001b[0m\u001b[0mclass_probs\u001b[0m \u001b[0;34m>\u001b[0m \u001b[0;36m0.5\u001b[0m\u001b[0;34m]\u001b[0m \u001b[0;34m=\u001b[0m \u001b[0;36m1\u001b[0m\u001b[0;34m\u001b[0m\n",
              "\u001b[0;34m\u001b[0m\u001b[0;34m\u001b[0m\n",
              "\u001b[0;34m\u001b[0m        \u001b[0;32mif\u001b[0m \u001b[0mhasattr\u001b[0m\u001b[0;34m(\u001b[0m\u001b[0mself\u001b[0m\u001b[0;34m,\u001b[0m \u001b[0;34m'_le'\u001b[0m\u001b[0;34m)\u001b[0m\u001b[0;34m:\u001b[0m\u001b[0;34m\u001b[0m\n",
              "\u001b[0;34m\u001b[0m            \u001b[0;32mreturn\u001b[0m \u001b[0mself\u001b[0m\u001b[0;34m.\u001b[0m\u001b[0m_le\u001b[0m\u001b[0;34m.\u001b[0m\u001b[0minverse_transform\u001b[0m\u001b[0;34m(\u001b[0m\u001b[0mcolumn_indexes\u001b[0m\u001b[0;34m)\u001b[0m\u001b[0;34m\u001b[0m\n",
              "\u001b[0;34m\u001b[0m        \u001b[0;32mreturn\u001b[0m \u001b[0mcolumn_indexes\u001b[0m\u001b[0;34m\u001b[0m\n",
              "\u001b[0;34m\u001b[0m\u001b[0;34m\u001b[0m\n",
              "\u001b[0;34m\u001b[0m    \u001b[0;32mdef\u001b[0m \u001b[0mpredict_proba\u001b[0m\u001b[0;34m(\u001b[0m\u001b[0mself\u001b[0m\u001b[0;34m,\u001b[0m \u001b[0mX\u001b[0m\u001b[0;34m,\u001b[0m \u001b[0mntree_limit\u001b[0m\u001b[0;34m=\u001b[0m\u001b[0;32mNone\u001b[0m\u001b[0;34m,\u001b[0m \u001b[0mvalidate_features\u001b[0m\u001b[0;34m=\u001b[0m\u001b[0;32mFalse\u001b[0m\u001b[0;34m,\u001b[0m\u001b[0;34m\u001b[0m\n",
              "\u001b[0;34m\u001b[0m                      \u001b[0mbase_margin\u001b[0m\u001b[0;34m=\u001b[0m\u001b[0;32mNone\u001b[0m\u001b[0;34m)\u001b[0m\u001b[0;34m:\u001b[0m\u001b[0;34m\u001b[0m\n",
              "\u001b[0;34m\u001b[0m        \u001b[0;34m\"\"\" Predict the probability of each `X` example being of a given class.\u001b[0m\n",
              "\u001b[0;34m\u001b[0m\n",
              "\u001b[0;34m        .. note:: This function is not thread safe\u001b[0m\n",
              "\u001b[0;34m\u001b[0m\n",
              "\u001b[0;34m            For each booster object, predict can only be called from one\u001b[0m\n",
              "\u001b[0;34m            thread.  If you want to run prediction using multiple thread, call\u001b[0m\n",
              "\u001b[0;34m            ``xgb.copy()`` to make copies of model object and then call predict\u001b[0m\n",
              "\u001b[0;34m\u001b[0m\n",
              "\u001b[0;34m        Parameters\u001b[0m\n",
              "\u001b[0;34m        ----------\u001b[0m\n",
              "\u001b[0;34m        X : array_like\u001b[0m\n",
              "\u001b[0;34m            Feature matrix.\u001b[0m\n",
              "\u001b[0;34m        ntree_limit : int\u001b[0m\n",
              "\u001b[0;34m            Limit number of trees in the prediction; defaults to best_ntree_limit if\u001b[0m\n",
              "\u001b[0;34m            defined (i.e. it has been trained with early stopping), otherwise 0 (use all\u001b[0m\n",
              "\u001b[0;34m            trees).\u001b[0m\n",
              "\u001b[0;34m        validate_features : bool\u001b[0m\n",
              "\u001b[0;34m            When this is True, validate that the Booster's and data's feature_names are\u001b[0m\n",
              "\u001b[0;34m            identical.  Otherwise, it is assumed that the feature_names are the same.\u001b[0m\n",
              "\u001b[0;34m\u001b[0m\n",
              "\u001b[0;34m        Returns\u001b[0m\n",
              "\u001b[0;34m        -------\u001b[0m\n",
              "\u001b[0;34m        prediction : numpy array\u001b[0m\n",
              "\u001b[0;34m            a numpy array with the probability of each data example being of a given class.\u001b[0m\n",
              "\u001b[0;34m        \"\"\"\u001b[0m\u001b[0;34m\u001b[0m\n",
              "\u001b[0;34m\u001b[0m        \u001b[0mtest_dmatrix\u001b[0m \u001b[0;34m=\u001b[0m \u001b[0mDMatrix\u001b[0m\u001b[0;34m(\u001b[0m\u001b[0mX\u001b[0m\u001b[0;34m,\u001b[0m \u001b[0mbase_margin\u001b[0m\u001b[0;34m=\u001b[0m\u001b[0mbase_margin\u001b[0m\u001b[0;34m,\u001b[0m\u001b[0;34m\u001b[0m\n",
              "\u001b[0;34m\u001b[0m                               \u001b[0mmissing\u001b[0m\u001b[0;34m=\u001b[0m\u001b[0mself\u001b[0m\u001b[0;34m.\u001b[0m\u001b[0mmissing\u001b[0m\u001b[0;34m,\u001b[0m \u001b[0mnthread\u001b[0m\u001b[0;34m=\u001b[0m\u001b[0mself\u001b[0m\u001b[0;34m.\u001b[0m\u001b[0mn_jobs\u001b[0m\u001b[0;34m)\u001b[0m\u001b[0;34m\u001b[0m\n",
              "\u001b[0;34m\u001b[0m        \u001b[0;32mif\u001b[0m \u001b[0mntree_limit\u001b[0m \u001b[0;32mis\u001b[0m \u001b[0;32mNone\u001b[0m\u001b[0;34m:\u001b[0m\u001b[0;34m\u001b[0m\n",
              "\u001b[0;34m\u001b[0m            \u001b[0mntree_limit\u001b[0m \u001b[0;34m=\u001b[0m \u001b[0mgetattr\u001b[0m\u001b[0;34m(\u001b[0m\u001b[0mself\u001b[0m\u001b[0;34m,\u001b[0m \u001b[0;34m\"best_ntree_limit\"\u001b[0m\u001b[0;34m,\u001b[0m \u001b[0;36m0\u001b[0m\u001b[0;34m)\u001b[0m\u001b[0;34m\u001b[0m\n",
              "\u001b[0;34m\u001b[0m        \u001b[0mclass_probs\u001b[0m \u001b[0;34m=\u001b[0m \u001b[0mself\u001b[0m\u001b[0;34m.\u001b[0m\u001b[0mget_booster\u001b[0m\u001b[0;34m(\u001b[0m\u001b[0;34m)\u001b[0m\u001b[0;34m.\u001b[0m\u001b[0mpredict\u001b[0m\u001b[0;34m(\u001b[0m\u001b[0mtest_dmatrix\u001b[0m\u001b[0;34m,\u001b[0m\u001b[0;34m\u001b[0m\n",
              "\u001b[0;34m\u001b[0m                                                 \u001b[0mntree_limit\u001b[0m\u001b[0;34m=\u001b[0m\u001b[0mntree_limit\u001b[0m\u001b[0;34m,\u001b[0m\u001b[0;34m\u001b[0m\n",
              "\u001b[0;34m\u001b[0m                                                 \u001b[0mvalidate_features\u001b[0m\u001b[0;34m=\u001b[0m\u001b[0mvalidate_features\u001b[0m\u001b[0;34m)\u001b[0m\u001b[0;34m\u001b[0m\n",
              "\u001b[0;34m\u001b[0m        \u001b[0;32mif\u001b[0m \u001b[0mself\u001b[0m\u001b[0;34m.\u001b[0m\u001b[0mobjective\u001b[0m \u001b[0;34m==\u001b[0m \u001b[0;34m\"multi:softprob\"\u001b[0m\u001b[0;34m:\u001b[0m\u001b[0;34m\u001b[0m\n",
              "\u001b[0;34m\u001b[0m            \u001b[0;32mreturn\u001b[0m \u001b[0mclass_probs\u001b[0m\u001b[0;34m\u001b[0m\n",
              "\u001b[0;34m\u001b[0m        \u001b[0mclassone_probs\u001b[0m \u001b[0;34m=\u001b[0m \u001b[0mclass_probs\u001b[0m\u001b[0;34m\u001b[0m\n",
              "\u001b[0;34m\u001b[0m        \u001b[0mclasszero_probs\u001b[0m \u001b[0;34m=\u001b[0m \u001b[0;36m1.0\u001b[0m \u001b[0;34m-\u001b[0m \u001b[0mclassone_probs\u001b[0m\u001b[0;34m\u001b[0m\n",
              "\u001b[0;34m\u001b[0m        \u001b[0;32mreturn\u001b[0m \u001b[0mnp\u001b[0m\u001b[0;34m.\u001b[0m\u001b[0mvstack\u001b[0m\u001b[0;34m(\u001b[0m\u001b[0;34m(\u001b[0m\u001b[0mclasszero_probs\u001b[0m\u001b[0;34m,\u001b[0m \u001b[0mclassone_probs\u001b[0m\u001b[0;34m)\u001b[0m\u001b[0;34m)\u001b[0m\u001b[0;34m.\u001b[0m\u001b[0mtranspose\u001b[0m\u001b[0;34m(\u001b[0m\u001b[0;34m)\u001b[0m\u001b[0;34m\u001b[0m\n",
              "\u001b[0;34m\u001b[0m\u001b[0;34m\u001b[0m\n",
              "\u001b[0;34m\u001b[0m    \u001b[0;32mdef\u001b[0m \u001b[0mevals_result\u001b[0m\u001b[0;34m(\u001b[0m\u001b[0mself\u001b[0m\u001b[0;34m)\u001b[0m\u001b[0;34m:\u001b[0m\u001b[0;34m\u001b[0m\n",
              "\u001b[0;34m\u001b[0m        \u001b[0;34m\"\"\"Return the evaluation results.\u001b[0m\n",
              "\u001b[0;34m\u001b[0m\n",
              "\u001b[0;34m        If **eval_set** is passed to the `fit` function, you can call\u001b[0m\n",
              "\u001b[0;34m        ``evals_result()`` to get evaluation results for all passed **eval_sets**.\u001b[0m\n",
              "\u001b[0;34m        When **eval_metric** is also passed to the `fit` function, the\u001b[0m\n",
              "\u001b[0;34m        **evals_result** will contain the **eval_metrics** passed to the `fit` function.\u001b[0m\n",
              "\u001b[0;34m\u001b[0m\n",
              "\u001b[0;34m        Returns\u001b[0m\n",
              "\u001b[0;34m        -------\u001b[0m\n",
              "\u001b[0;34m        evals_result : dictionary\u001b[0m\n",
              "\u001b[0;34m\u001b[0m\n",
              "\u001b[0;34m        Example\u001b[0m\n",
              "\u001b[0;34m        -------\u001b[0m\n",
              "\u001b[0;34m\u001b[0m\n",
              "\u001b[0;34m        .. code-block:: python\u001b[0m\n",
              "\u001b[0;34m\u001b[0m\n",
              "\u001b[0;34m            param_dist = {'objective':'binary:logistic', 'n_estimators':2}\u001b[0m\n",
              "\u001b[0;34m\u001b[0m\n",
              "\u001b[0;34m            clf = xgb.XGBClassifier(**param_dist)\u001b[0m\n",
              "\u001b[0;34m\u001b[0m\n",
              "\u001b[0;34m            clf.fit(X_train, y_train,\u001b[0m\n",
              "\u001b[0;34m                    eval_set=[(X_train, y_train), (X_test, y_test)],\u001b[0m\n",
              "\u001b[0;34m                    eval_metric='logloss',\u001b[0m\n",
              "\u001b[0;34m                    verbose=True)\u001b[0m\n",
              "\u001b[0;34m\u001b[0m\n",
              "\u001b[0;34m            evals_result = clf.evals_result()\u001b[0m\n",
              "\u001b[0;34m\u001b[0m\n",
              "\u001b[0;34m        The variable **evals_result** will contain\u001b[0m\n",
              "\u001b[0;34m\u001b[0m\n",
              "\u001b[0;34m        .. code-block:: python\u001b[0m\n",
              "\u001b[0;34m\u001b[0m\n",
              "\u001b[0;34m            {'validation_0': {'logloss': ['0.604835', '0.531479']},\u001b[0m\n",
              "\u001b[0;34m            'validation_1': {'logloss': ['0.41965', '0.17686']}}\u001b[0m\n",
              "\u001b[0;34m        \"\"\"\u001b[0m\u001b[0;34m\u001b[0m\n",
              "\u001b[0;34m\u001b[0m        \u001b[0;32mif\u001b[0m \u001b[0mself\u001b[0m\u001b[0;34m.\u001b[0m\u001b[0mevals_result_\u001b[0m\u001b[0;34m:\u001b[0m\u001b[0;34m\u001b[0m\n",
              "\u001b[0;34m\u001b[0m            \u001b[0mevals_result\u001b[0m \u001b[0;34m=\u001b[0m \u001b[0mself\u001b[0m\u001b[0;34m.\u001b[0m\u001b[0mevals_result_\u001b[0m\u001b[0;34m\u001b[0m\n",
              "\u001b[0;34m\u001b[0m        \u001b[0;32melse\u001b[0m\u001b[0;34m:\u001b[0m\u001b[0;34m\u001b[0m\n",
              "\u001b[0;34m\u001b[0m            \u001b[0;32mraise\u001b[0m \u001b[0mXGBoostError\u001b[0m\u001b[0;34m(\u001b[0m\u001b[0;34m'No results.'\u001b[0m\u001b[0;34m)\u001b[0m\u001b[0;34m\u001b[0m\n",
              "\u001b[0;34m\u001b[0m\u001b[0;34m\u001b[0m\n",
              "\u001b[0;34m\u001b[0m        \u001b[0;32mreturn\u001b[0m \u001b[0mevals_result\u001b[0m\u001b[0;34m\u001b[0m\u001b[0;34m\u001b[0m\u001b[0m\n",
              "\u001b[0;31mFile:\u001b[0m           ~/anaconda3/lib/python3.8/site-packages/xgboost/sklearn.py\n",
              "\u001b[0;31mType:\u001b[0m           type\n",
              "\u001b[0;31mSubclasses:\u001b[0m     XGBRFClassifier\n"
            ]
          },
          "metadata": {
            "tags": []
          }
        }
      ]
    },
    {
      "cell_type": "code",
      "metadata": {
        "id": "fTtKL_kjwgAO"
      },
      "source": [
        "def modelfit(alg, dtrain, y, X_test=None, y_test=None, test=True):    \n",
        "\n",
        "    #Fit the algorithm on the data\n",
        "    alg.fit(dtrain, y, eval_metric='auc')\n",
        "        \n",
        "    #Predict training set:\n",
        "    dtrain_predictions = alg.predict(dtrain)\n",
        "    dtrain_predprob = alg.predict_proba(dtrain)[:,1]\n",
        "        \n",
        "    #Print model report:\n",
        "    print (\"\\nModel Report\")\n",
        "    print (\"Accuracy (Train): %.4g\" % metrics.accuracy_score(y, dtrain_predictions))\n",
        "    print (\"AUC Score (Train): %f\" % metrics.roc_auc_score(y, dtrain_predprob))\n",
        "    if test:\n",
        "        dtest_predictions = alg.predict(X_test)\n",
        "        dtest_predprob = alg.predict_proba(X_test)[:,1]\n",
        "        print (\"Accuracy (Test): %.4g\" % metrics.accuracy_score(y_test, dtest_predictions))\n",
        "        print (\"AUC Score (Test): %f\" % metrics.roc_auc_score(y_test, dtest_predprob))\n",
        "    # plot feature importance          \n",
        "    feat_imp = pd.Series(alg.get_booster().get_fscore()).sort_values(ascending=False)\n",
        "    feat_imp.plot(kind='bar', title='Feature Importances')\n",
        "    plt.ylabel('Feature Importance Score')"
      ],
      "execution_count": null,
      "outputs": []
    },
    {
      "cell_type": "markdown",
      "metadata": {
        "id": "EQcCuONwwgAP"
      },
      "source": [
        "These parameters are used to define the optimization objective the metric to be calculated at each step.\n",
        "\n",
        "\n",
        "<table><tr>\n",
        "<td> <img src=\"https://github.com/AKuzina/ml_dpo/blob/main/practicals/xgb.png?raw=1\" alt=\"Drawing\" style=\"width: 700px;\"/> </td>\n",
        "</tr></table>"
      ]
    },
    {
      "cell_type": "code",
      "metadata": {
        "id": "XkTYIJuOwgAP"
      },
      "source": [
        "xgb1 = XGBClassifier(objective='binary:logistic',\n",
        "                     eval_metric='auc',\n",
        "                     learning_rate =0.1, \n",
        "                     n_estimators=1000,\n",
        "                     booster='gbtree',\n",
        "                     seed=27)"
      ],
      "execution_count": null,
      "outputs": []
    },
    {
      "cell_type": "code",
      "metadata": {
        "id": "Xw9y_NBHwgAP",
        "outputId": "cbe18c3e-d058-4436-f4df-d334b3e2577b"
      },
      "source": [
        "modelfit(xgb1, X_train, y_train, X_test, y_test)"
      ],
      "execution_count": null,
      "outputs": [
        {
          "output_type": "stream",
          "text": [
            "/Users/annakuzina/anaconda3/lib/python3.8/site-packages/xgboost/sklearn.py:888: UserWarning: The use of label encoder in XGBClassifier is deprecated and will be removed in a future release. To remove this warning, do the following: 1) Pass option use_label_encoder=False when constructing XGBClassifier object; and 2) Encode your labels (y) as integers starting with 0, i.e. 0, 1, 2, ..., [num_class - 1].\n",
            "  warnings.warn(label_encoder_deprecation_msg, UserWarning)\n"
          ],
          "name": "stderr"
        },
        {
          "output_type": "stream",
          "text": [
            "\n",
            "Model Report\n",
            "Accuracy (Train): 0.9551\n",
            "AUC Score (Train): 0.994147\n",
            "Accuracy (Test): 0.6816\n",
            "AUC Score (Test): 0.750193\n"
          ],
          "name": "stdout"
        },
        {
          "output_type": "display_data",
          "data": {
            "image/png": "[encoded data removed]",
            "text/plain": [
              "<Figure size 576x360 with 1 Axes>"
            ]
          },
          "metadata": {
            "tags": [],
            "needs_background": "light"
          }
        }
      ]
    },
    {
      "cell_type": "markdown",
      "metadata": {
        "id": "9jIMLJmAwgAP"
      },
      "source": [
        "#### Задание 10. \n",
        "- Задайте сетку для перечисленных ниже параметров\n",
        "\n",
        "`max_depth` - Maximum tree depth for base learners.\n",
        "\n",
        "`gamma`  - Minimum loss reduction required to make a further partition on a leaf node of the tree.\n",
        "\n",
        "`subsample` -  Subsample ratio of the training instance.\n",
        "\n",
        "`colsample_bytree` - Subsample ratio of columns when constructing each tree.\n",
        "\n",
        "`reg_alpha` - L1 regularization term on weights\n",
        "\n",
        "- Запустите поиск, используя `GridSearchCV` c 5 фолдами. Используйте смесь из 100 деревьев."
      ]
    },
    {
      "cell_type": "code",
      "metadata": {
        "id": "T5fVVpoQwgAP",
        "outputId": "dc4e5454-9c5d-4add-ff40-3b5b21d4c3c1"
      },
      "source": [
        "param_grid = {\n",
        "# YOUR CODE HERE\n",
        "}\n",
        "\n",
        "gsearch1 = # YOUR CODE HERE"
      ],
      "execution_count": null,
      "outputs": [
        {
          "output_type": "stream",
          "text": [
            "Fitting 5 folds for each of 144 candidates, totalling 720 fits\n"
          ],
          "name": "stdout"
        },
        {
          "output_type": "stream",
          "text": [
            "[Parallel(n_jobs=12)]: Using backend LokyBackend with 12 concurrent workers.\n",
            "[Parallel(n_jobs=12)]: Done  17 tasks      | elapsed:    5.0s\n",
            "[Parallel(n_jobs=12)]: Done 138 tasks      | elapsed:   19.0s\n",
            "[Parallel(n_jobs=12)]: Done 341 tasks      | elapsed:   46.9s\n",
            "[Parallel(n_jobs=12)]: Done 624 tasks      | elapsed:  1.4min\n",
            "[Parallel(n_jobs=12)]: Done 720 out of 720 | elapsed:  1.6min finished\n",
            "/Users/annakuzina/anaconda3/lib/python3.8/site-packages/xgboost/sklearn.py:888: UserWarning: The use of label encoder in XGBClassifier is deprecated and will be removed in a future release. To remove this warning, do the following: 1) Pass option use_label_encoder=False when constructing XGBClassifier object; and 2) Encode your labels (y) as integers starting with 0, i.e. 0, 1, 2, ..., [num_class - 1].\n",
            "  warnings.warn(label_encoder_deprecation_msg, UserWarning)\n"
          ],
          "name": "stderr"
        },
        {
          "output_type": "execute_result",
          "data": {
            "text/plain": [
              "GridSearchCV(cv=5,\n",
              "             estimator=XGBClassifier(base_score=None, booster='gbtree',\n",
              "                                     colsample_bylevel=None,\n",
              "                                     colsample_bynode=None,\n",
              "                                     colsample_bytree=None, eval_metric='auc',\n",
              "                                     gamma=None, gpu_id=None,\n",
              "                                     importance_type='gain',\n",
              "                                     interaction_constraints=None,\n",
              "                                     learning_rate=0.3, max_delta_step=None,\n",
              "                                     max_depth=None, min_child_weight=None,\n",
              "                                     missing=nan, monotone_constraints=None,\n",
              "                                     n_...=None,\n",
              "                                     num_parallel_tree=None, random_state=None,\n",
              "                                     reg_alpha=None, reg_lambda=None,\n",
              "                                     scale_pos_weight=None, seed=27,\n",
              "                                     subsample=None, tree_method=None,\n",
              "                                     validate_parameters=None, verbosity=None),\n",
              "             n_jobs=12,\n",
              "             param_grid={'colsample_bytree': [0.75, 1], 'gamma': [0, 0.1, 0.2],\n",
              "                         'max_depth': [2, 4, 6],\n",
              "                         'reg_alpha': [1e-05, 0.1, 1, 100],\n",
              "                         'subsample': [0.8, 1]},\n",
              "             scoring='roc_auc', verbose=2)"
            ]
          },
          "metadata": {
            "tags": []
          },
          "execution_count": 53
        }
      ]
    },
    {
      "cell_type": "code",
      "metadata": {
        "id": "JwenseIfwgAP",
        "outputId": "f98fcffe-2fd5-4d64-e62e-90d2d5da2c36"
      },
      "source": [
        "gsearch1.best_params_, gsearch1.best_score_"
      ],
      "execution_count": null,
      "outputs": [
        {
          "output_type": "execute_result",
          "data": {
            "text/plain": [
              "({'colsample_bytree': 1,\n",
              "  'gamma': 0.2,\n",
              "  'max_depth': 2,\n",
              "  'reg_alpha': 1,\n",
              "  'subsample': 1},\n",
              " 0.7427453595741172)"
            ]
          },
          "metadata": {
            "tags": []
          },
          "execution_count": 54
        }
      ]
    },
    {
      "cell_type": "markdown",
      "metadata": {
        "id": "T1PGLsQCwgAQ"
      },
      "source": [
        "Теперь можем взять больше деревьев, но меньше lr"
      ]
    },
    {
      "cell_type": "code",
      "metadata": {
        "id": "TLc0rV-twgAQ",
        "outputId": "1ccd32c0-0e98-4f1f-c0c3-2379a3fc7c0c"
      },
      "source": [
        "xgb_best = XGBClassifier(objective='binary:logistic',\n",
        "                         eval_metric='auc',\n",
        "                         learning_rate =0.01, \n",
        "                         n_estimators=1000,\n",
        "                         booster='gbtree',\n",
        "                         seed=27,\n",
        "                         max_depth = gsearch1.best_params_['max_depth'],\n",
        "                         gamma = gsearch1.best_params_['gamma'], \n",
        "                         subsample = gsearch1.best_params_['subsample'],\n",
        "                         colsample_bytree = gsearch1.best_params_['colsample_bytree'],\n",
        "                         reg_alpha = gsearch1.best_params_['reg_alpha']\n",
        "                        )\n",
        "modelfit(xgb_best, X_train, y_train, X_test, y_test)"
      ],
      "execution_count": null,
      "outputs": [
        {
          "output_type": "stream",
          "text": [
            "\n",
            "Model Report\n",
            "Accuracy (Train): 0.736\n",
            "AUC Score (Train): 0.805953\n",
            "Accuracy (Test): 0.7318\n",
            "AUC Score (Test): 0.822458\n"
          ],
          "name": "stdout"
        },
        {
          "output_type": "display_data",
          "data": {
            "image/png": "[encoded data removed]",
            "text/plain": [
              "<Figure size 576x360 with 1 Axes>"
            ]
          },
          "metadata": {
            "tags": [],
            "needs_background": "light"
          }
        }
      ]
    },
    {
      "cell_type": "markdown",
      "metadata": {
        "id": "G1b8p9FKwgAR"
      },
      "source": [
        "## Важность признаков\n",
        "\n",
        "В курсе мы подробно обсуждаем, как добиваться хорошего качества решения задачи: имея выборку $X, y$, построить алгоритм с наименьшей ошибкой. Однако заказчику часто важно понимать, как работает алгоритм, почему он делает такие предсказания. Обсудим несколько мотиваций.\n",
        "\t\n",
        "#### Доверие алгоритму\n",
        "Например, в банках на основе решений, принятых алгоритмом, выполняются финансовые операции, и менеджер, ответственный за эти операции, будет готов использовать алгоритм, только если он понимает, что его решения обоснованы. По этой причине в банках очень часто используют простые линейные алгоритмы. Другой пример из области медицины: поскольку цена ошибки может быть очень велика, врачи готовы использовать только интерпретируемые алгоритмы.\n",
        "\t\n",
        "#### Отсутствие дискриминации (fairness) \n",
        "Вновь пример с банком: алгоритм кредитного скоринга не должен учитывать расовую принадлежность (racial bias) заемщика или его пол (gender bias). Между тем, такие зависимости часто могут присутствовать в датасете (исторические данные), на котором обучался алгоритм.  Еще один пример: известно, что нейросетевые векторы слов содержат gender bias. Если эти вектора использовались при построении системы поиска по резюме для рекрутера, то, например, по запросу `technical skill` он может видеть женские резюме в конце ранжированного списка.\n",
        "\t\n",
        "#### Учет контекста\n",
        "Данные, на которых обучается алгоритм, не отображают всю предметную область. Интерпретация алгоритма позволит оценить, насколько найденные зависимости связаны с реальной жизнью. Если предсказания интерпретируемы, это также говорит о высокой обобщающей способности алгоритма. \n",
        "\n",
        "Теперь обсудим несколько вариантов, как можно оценивать важность признаков."
      ]
    },
    {
      "cell_type": "markdown",
      "metadata": {
        "id": "OWU9RNDcwgAR"
      },
      "source": [
        "### Веса линейной модели\n",
        "\n",
        "Самый простой способ, который уже был рассмотрен на семинаре про линейные модели: после построения модели каждому признаку будет соответствовать свой вес - если признаки масштабированы, то чем он больше по модулю, тем важнее признак, а знак будет говорить о положительном или отрицательном влиянии на величину целевой переменной."
      ]
    },
    {
      "cell_type": "code",
      "metadata": {
        "id": "LDnjJGBlwgAR"
      },
      "source": [
        "from sklearn.datasets import load_boston\n",
        "from sklearn.metrics import mean_squared_error\n",
        "\n",
        "data = load_boston()\n",
        "X = pd.DataFrame(data.data, columns=data.feature_names)\n",
        "y = data.target\n",
        "\n",
        "X_train, X_test, y_train, y_test = train_test_split(X, y, test_size=0.3, random_state=10)"
      ],
      "execution_count": null,
      "outputs": []
    },
    {
      "cell_type": "markdown",
      "metadata": {
        "id": "q7GNd-DpwgAR"
      },
      "source": [
        "### FSTR (Feature strength)\n",
        "\n",
        "[Fstr](https://catboost.ai/docs/concepts/fstr.html) говорит, что важность признака &mdash; это то, насколько в среднем меняется ответ модели при изменении значения данного признака (изменении значения разбиения).\n",
        "\n",
        "Рассчитать его можно так:\n",
        "\n",
        "$$feature\\_importance_{F} = \\sum_{tree, leaves_F} (v_1 - avr)^2\\cdot c_1 +(v_2 - avr)^2\\cdot c_2 = \\left(v_1 - v_2\\right)^2\\frac{c_1c_2}{c_1 + c_2}\\\\\n",
        "\\qquad avr = \\frac{v_1 \\cdot c_1 + v_2 \\cdot c_2}{c_1 + c_2}.$$\n",
        "\n",
        "Мы сравниваем листы, отличающиеся значением сплита в узле на пути к ним: если условие сплита выполняется, объект попадает в левое поддерево, иначе &mdash; в правое. \n",
        "\n",
        "$c_1, c_2$ - число объектов обучающего датасета, попавших в левое и правое поддерево соответственно, либо суммарный вес этих объектов, если используются веса; $v_1, v_2$ - значение модели в левом и правом поддереве (например, среднее)\n",
        "\n",
        "\n",
        "Далее значения $feature\\_importance$ нормируются, и получаются величины, которые суммируются в 100."
      ]
    },
    {
      "cell_type": "code",
      "metadata": {
        "id": "PSMkYZk0wgAR"
      },
      "source": [
        "clf = CatBoostClassifier(n_estimators=200, learning_rate=0.01, \n",
        "                         max_depth=5, logging_level=\"Silent\")\n",
        "\n",
        "# load the trained catboost model\n",
        "clf = clf.load_model('catboost.cbm')"
      ],
      "execution_count": null,
      "outputs": []
    },
    {
      "cell_type": "code",
      "metadata": {
        "id": "nsLZMwIgwgAS",
        "outputId": "12ece590-1ede-4dd2-b45c-c4000805f592"
      },
      "source": [
        "for val, name in sorted(zip(cbm.feature_importances_, data.feature_names))[::-1]:\n",
        "    print(name, val)"
      ],
      "execution_count": null,
      "outputs": [
        {
          "output_type": "stream",
          "text": [
            "LSTAT 44.57842395824728\n",
            "RM 36.850858175652654\n",
            "NOX 3.473133901367306\n",
            "PTRATIO 3.3887271637105134\n",
            "DIS 2.23667053074621\n",
            "INDUS 1.9016830079470277\n",
            "TAX 1.7781003730136429\n",
            "CRIM 1.5774334311195715\n",
            "AGE 1.4213295189456003\n",
            "RAD 1.3943420902109485\n",
            "B 0.6521915521536685\n",
            "CHAS 0.6057385942178969\n",
            "ZN 0.14136770266764145\n"
          ],
          "name": "stdout"
        }
      ]
    },
    {
      "cell_type": "code",
      "metadata": {
        "id": "xpb5l1VjwgAS",
        "outputId": "ead110fe-274c-4d71-b314-12b2925292af"
      },
      "source": [
        "feature_importances = pd.DataFrame({'importance':cbm.feature_importances_}, index=data.feature_names)\n",
        "feature_importances.sort_values('importance').plot.bar();"
      ],
      "execution_count": null,
      "outputs": [
        {
          "output_type": "display_data",
          "data": {
            "image/png": "[encoded data removed]",
            "text/plain": [
              "<Figure size 576x360 with 1 Axes>"
            ]
          },
          "metadata": {
            "tags": [],
            "needs_background": "light"
          }
        }
      ]
    },
    {
      "cell_type": "code",
      "metadata": {
        "id": "mXTl8gOnwgAS",
        "outputId": "8720dea0-aa30-4676-b83c-c99a4894a7f7"
      },
      "source": [
        "print(data.DESCR)"
      ],
      "execution_count": null,
      "outputs": [
        {
          "output_type": "stream",
          "text": [
            ".. _boston_dataset:\n",
            "\n",
            "Boston house prices dataset\n",
            "---------------------------\n",
            "\n",
            "**Data Set Characteristics:**  \n",
            "\n",
            "    :Number of Instances: 506 \n",
            "\n",
            "    :Number of Attributes: 13 numeric/categorical predictive. Median Value (attribute 14) is usually the target.\n",
            "\n",
            "    :Attribute Information (in order):\n",
            "        - CRIM     per capita crime rate by town\n",
            "        - ZN       proportion of residential land zoned for lots over 25,000 sq.ft.\n",
            "        - INDUS    proportion of non-retail business acres per town\n",
            "        - CHAS     Charles River dummy variable (= 1 if tract bounds river; 0 otherwise)\n",
            "        - NOX      nitric oxides concentration (parts per 10 million)\n",
            "        - RM       average number of rooms per dwelling\n",
            "        - AGE      proportion of owner-occupied units built prior to 1940\n",
            "        - DIS      weighted distances to five Boston employment centres\n",
            "        - RAD      index of accessibility to radial highways\n",
            "        - TAX      full-value property-tax rate per $10,000\n",
            "        - PTRATIO  pupil-teacher ratio by town\n",
            "        - B        1000(Bk - 0.63)^2 where Bk is the proportion of blacks by town\n",
            "        - LSTAT    % lower status of the population\n",
            "        - MEDV     Median value of owner-occupied homes in $1000's\n",
            "\n",
            "    :Missing Attribute Values: None\n",
            "\n",
            "    :Creator: Harrison, D. and Rubinfeld, D.L.\n",
            "\n",
            "This is a copy of UCI ML housing dataset.\n",
            "https://archive.ics.uci.edu/ml/machine-learning-databases/housing/\n",
            "\n",
            "\n",
            "This dataset was taken from the StatLib library which is maintained at Carnegie Mellon University.\n",
            "\n",
            "The Boston house-price data of Harrison, D. and Rubinfeld, D.L. 'Hedonic\n",
            "prices and the demand for clean air', J. Environ. Economics & Management,\n",
            "vol.5, 81-102, 1978.   Used in Belsley, Kuh & Welsch, 'Regression diagnostics\n",
            "...', Wiley, 1980.   N.B. Various transformations are used in the table on\n",
            "pages 244-261 of the latter.\n",
            "\n",
            "The Boston house-price data has been used in many machine learning papers that address regression\n",
            "problems.   \n",
            "     \n",
            ".. topic:: References\n",
            "\n",
            "   - Belsley, Kuh & Welsch, 'Regression diagnostics: Identifying Influential Data and Sources of Collinearity', Wiley, 1980. 244-261.\n",
            "   - Quinlan,R. (1993). Combining Instance-Based and Model-Based Learning. In Proceedings on the Tenth International Conference of Machine Learning, 236-243, University of Massachusetts, Amherst. Morgan Kaufmann.\n",
            "\n"
          ],
          "name": "stdout"
        }
      ]
    },
    {
      "cell_type": "markdown",
      "metadata": {
        "id": "aoPdnUydwgAS"
      },
      "source": [
        "### Impurity-based feature importances\n",
        "\n",
        "Важность признака рассчитывается как (нормированное) общее снижение критерия информативности за счет этого признака."
      ]
    },
    {
      "cell_type": "markdown",
      "metadata": {
        "id": "IsbseN15wgAS"
      },
      "source": [
        "Приведем простейший пример, как можно получить такую оценку в sklearn-реализации RandomForest"
      ]
    },
    {
      "cell_type": "code",
      "metadata": {
        "id": "Ebs2-vfvwgAT",
        "outputId": "88225c75-82ce-4f3f-b15f-5051182c35f0"
      },
      "source": [
        "from sklearn.ensemble import RandomForestRegressor\n",
        "\n",
        "clf = RandomForestRegressor(n_estimators=100, oob_score=True)\n",
        "clf.fit(X_train, y_train)\n",
        "\n",
        "clf.feature_importances_"
      ],
      "execution_count": null,
      "outputs": [
        {
          "output_type": "execute_result",
          "data": {
            "text/plain": [
              "array([0.0347918 , 0.00057852, 0.00634385, 0.00144822, 0.02079838,\n",
              "       0.39185139, 0.01321998, 0.06027615, 0.00416488, 0.01309993,\n",
              "       0.01469631, 0.01288812, 0.42584248])"
            ]
          },
          "metadata": {
            "tags": []
          },
          "execution_count": 114
        }
      ]
    },
    {
      "cell_type": "code",
      "metadata": {
        "id": "DoO7dtn-wgAU",
        "outputId": "31c8d5d4-3949-453b-d04c-7ce692379c00"
      },
      "source": [
        "feature_importances = pd.DataFrame({'importance':clf.feature_importances_}, index=X_train.columns)\n",
        "feature_importances.sort_values('importance').plot.bar();"
      ],
      "execution_count": null,
      "outputs": [
        {
          "output_type": "display_data",
          "data": {
            "image/png": "[encoded data removed]",
            "text/plain": [
              "<Figure size 576x360 with 1 Axes>"
            ]
          },
          "metadata": {
            "tags": [],
            "needs_background": "light"
          }
        }
      ]
    },
    {
      "cell_type": "code",
      "metadata": {
        "id": "Gqy-swdjwgAU"
      },
      "source": [
        ""
      ],
      "execution_count": null,
      "outputs": []
    }
  ]
}