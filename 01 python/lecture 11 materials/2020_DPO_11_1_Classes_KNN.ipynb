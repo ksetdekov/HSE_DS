{
 "cells": [
  {
   "cell_type": "markdown",
   "metadata": {},
   "source": [
    "# Введение в классы в Python\n",
    "\n",
    "Автор - Рогович Татьяна Владимировна, HSE\n"
   ]
  },
  {
   "cell_type": "markdown",
   "metadata": {},
   "source": [
    "# Метод k-ближайших соседей (KNN)\n",
    "\n",
    "Давайте перейдем к более прикладным задачам и сначала познакомимся с методом k-ближайщих соседей. Потом его реализуем в виде класса.\n",
    "\n",
    "`kNN` расшифровывается как `k Nearest Neighbor` или `k Ближайших Соседей` — это один из самых простых алгоритмов классификации, также иногда используемый в задачах регрессии. Задача классификации в машинном обучении — это задача отнесения объекта к одному из заранее определенных классов на основании его формализованных признаков. Каждый из объектов в этой задаче представляется в виде вектора в N-мерном пространстве, каждое измерение в котором представляет собой описание одного из признаков объекта. Допустим нам нужно классифицировать мониторы: измерениями в нашем пространстве параметров будут величина диагонали в дюймах, соотношение сторон, максимальное разрешение, наличие HDMI-интерфейса, стоимость и др. \n",
    "\n",
    "\n",
    "## Теория\n",
    "\n",
    "Идея за алгоритмом KNN довольно простая. Он просто считает расстояние от новой точки, до всех известных обучающих точек. Расстояние может быть найдено разными способами. Далее выбирает к-ближайщих точек, где к - целое число. И в конце, на основе классов, к которому принадлежит большинство отобранных точек, присваивает класс новой точке.\n",
    "\n",
    "Давайте посмотрим на работу алгоритма на основе простого примера. Допустим у нас есть выборка по двум переменным, который изображен на рисунке ниже.\n",
    "\n",
    "![image.png](1.png)\n",
    "\n",
    "Нашей задачей будет классифицировать новую точку 'X' в один из классов: `Фиолетовый` или `Красный`. Координаты нашей точки будет равны: x = 45 и y = 50. Пусть количество соседей (K) равно `3`. Алгоритм КНН посчитает расстояния от точки Х до всех остальных точек. Затем он находит, ближайщие по расстоянию до точки Х, точки. Они показаны на рисунке ниже. Три ближайшие точки находятся внутри круга.\n",
    "\n",
    "![image.png](2.png)\n",
    "\n",
    "Последний шагом алгоритма будет присвоить новой точке класс большинства ближайшех точек вокруг. На изображении выше, видно что две из трех ближайщех точек принадлежат классу `Красные` и одна точка принадлежит классу `Фиолетовые`. Поэтому новая точка будет классифицирована как `Красный`."
   ]
  },
  {
   "cell_type": "markdown",
   "metadata": {},
   "source": [
    "## Датасет\n",
    "\n",
    "В качестве датасета мы будем использовать знаменитый датасет `iris`. Датасет состоит из четырех аттрибутов: `sepal-width`, `sepal-length`, `petal-width` и `petal-length`. Это аттрибуты конкретных типов расстения Ирис. Задачей является предсказать к какому типу Ириса относится конкретное расстение. Есть три класса в нашем датасете: `Iris-setosa`, `Iris-versicolor` и `Iris-virginica`.\n",
    "\n",
    "Каждое расстение имеет уникальные \"фичи\": `sepal length` (длина чашелистика), `sepal width` (ширина чашелистика), `petal length` (длина лепестка) и `petal width` (ширина лепестка). \n",
    "\n",
    "Импортируем датасет и загрузим его в пандас:"
   ]
  },
  {
   "cell_type": "code",
   "execution_count": 1,
   "metadata": {},
   "outputs": [],
   "source": [
    "import numpy as np\n",
    "import pandas as pd\n",
    "\n",
    "url = \"https://archive.ics.uci.edu/ml/machine-learning-databases/iris/iris.data\"\n",
    "\n",
    "# Назовем колонки датасета\n",
    "names = ['sepal-length', 'sepal-width', 'petal-length', 'petal-width', 'Class']\n",
    "\n",
    "# создадим датасет\n",
    "dataset = pd.read_csv(url, names=names)"
   ]
  },
  {
   "cell_type": "markdown",
   "metadata": {},
   "source": [
    "Давайте посмотрим как он выглядит и какие у него есть значения:"
   ]
  },
  {
   "cell_type": "code",
   "execution_count": 2,
   "metadata": {},
   "outputs": [
    {
     "data": {
      "text/html": [
       "<div>\n",
       "<style scoped>\n",
       "    .dataframe tbody tr th:only-of-type {\n",
       "        vertical-align: middle;\n",
       "    }\n",
       "\n",
       "    .dataframe tbody tr th {\n",
       "        vertical-align: top;\n",
       "    }\n",
       "\n",
       "    .dataframe thead th {\n",
       "        text-align: right;\n",
       "    }\n",
       "</style>\n",
       "<table border=\"1\" class=\"dataframe\">\n",
       "  <thead>\n",
       "    <tr style=\"text-align: right;\">\n",
       "      <th></th>\n",
       "      <th>sepal-length</th>\n",
       "      <th>sepal-width</th>\n",
       "      <th>petal-length</th>\n",
       "      <th>petal-width</th>\n",
       "      <th>Class</th>\n",
       "    </tr>\n",
       "  </thead>\n",
       "  <tbody>\n",
       "    <tr>\n",
       "      <td>0</td>\n",
       "      <td>5.1</td>\n",
       "      <td>3.5</td>\n",
       "      <td>1.4</td>\n",
       "      <td>0.2</td>\n",
       "      <td>Iris-setosa</td>\n",
       "    </tr>\n",
       "    <tr>\n",
       "      <td>1</td>\n",
       "      <td>4.9</td>\n",
       "      <td>3.0</td>\n",
       "      <td>1.4</td>\n",
       "      <td>0.2</td>\n",
       "      <td>Iris-setosa</td>\n",
       "    </tr>\n",
       "    <tr>\n",
       "      <td>2</td>\n",
       "      <td>4.7</td>\n",
       "      <td>3.2</td>\n",
       "      <td>1.3</td>\n",
       "      <td>0.2</td>\n",
       "      <td>Iris-setosa</td>\n",
       "    </tr>\n",
       "    <tr>\n",
       "      <td>3</td>\n",
       "      <td>4.6</td>\n",
       "      <td>3.1</td>\n",
       "      <td>1.5</td>\n",
       "      <td>0.2</td>\n",
       "      <td>Iris-setosa</td>\n",
       "    </tr>\n",
       "    <tr>\n",
       "      <td>4</td>\n",
       "      <td>5.0</td>\n",
       "      <td>3.6</td>\n",
       "      <td>1.4</td>\n",
       "      <td>0.2</td>\n",
       "      <td>Iris-setosa</td>\n",
       "    </tr>\n",
       "  </tbody>\n",
       "</table>\n",
       "</div>"
      ],
      "text/plain": [
       "   sepal-length  sepal-width  petal-length  petal-width        Class\n",
       "0           5.1          3.5           1.4          0.2  Iris-setosa\n",
       "1           4.9          3.0           1.4          0.2  Iris-setosa\n",
       "2           4.7          3.2           1.3          0.2  Iris-setosa\n",
       "3           4.6          3.1           1.5          0.2  Iris-setosa\n",
       "4           5.0          3.6           1.4          0.2  Iris-setosa"
      ]
     },
     "execution_count": 2,
     "metadata": {},
     "output_type": "execute_result"
    }
   ],
   "source": [
    "dataset.head()"
   ]
  },
  {
   "cell_type": "markdown",
   "metadata": {},
   "source": [
    "Дальше разобъем датасет на `фичи` и `метки`. У нас 4 колонки с данными, предсказывать будем только по первым двум."
   ]
  },
  {
   "cell_type": "code",
   "execution_count": 3,
   "metadata": {},
   "outputs": [],
   "source": [
    "X = dataset.iloc[:, :-3].values\n",
    "y = dataset.iloc[:, 4].values"
   ]
  },
  {
   "cell_type": "code",
   "execution_count": 4,
   "metadata": {},
   "outputs": [
    {
     "data": {
      "text/plain": [
       "array([[5.1, 3.5],\n",
       "       [4.9, 3. ],\n",
       "       [4.7, 3.2],\n",
       "       [4.6, 3.1],\n",
       "       [5. , 3.6],\n",
       "       [5.4, 3.9],\n",
       "       [4.6, 3.4],\n",
       "       [5. , 3.4],\n",
       "       [4.4, 2.9],\n",
       "       [4.9, 3.1],\n",
       "       [5.4, 3.7],\n",
       "       [4.8, 3.4],\n",
       "       [4.8, 3. ],\n",
       "       [4.3, 3. ],\n",
       "       [5.8, 4. ],\n",
       "       [5.7, 4.4],\n",
       "       [5.4, 3.9],\n",
       "       [5.1, 3.5],\n",
       "       [5.7, 3.8],\n",
       "       [5.1, 3.8],\n",
       "       [5.4, 3.4],\n",
       "       [5.1, 3.7],\n",
       "       [4.6, 3.6],\n",
       "       [5.1, 3.3],\n",
       "       [4.8, 3.4],\n",
       "       [5. , 3. ],\n",
       "       [5. , 3.4],\n",
       "       [5.2, 3.5],\n",
       "       [5.2, 3.4],\n",
       "       [4.7, 3.2],\n",
       "       [4.8, 3.1],\n",
       "       [5.4, 3.4],\n",
       "       [5.2, 4.1],\n",
       "       [5.5, 4.2],\n",
       "       [4.9, 3.1],\n",
       "       [5. , 3.2],\n",
       "       [5.5, 3.5],\n",
       "       [4.9, 3.1],\n",
       "       [4.4, 3. ],\n",
       "       [5.1, 3.4],\n",
       "       [5. , 3.5],\n",
       "       [4.5, 2.3],\n",
       "       [4.4, 3.2],\n",
       "       [5. , 3.5],\n",
       "       [5.1, 3.8],\n",
       "       [4.8, 3. ],\n",
       "       [5.1, 3.8],\n",
       "       [4.6, 3.2],\n",
       "       [5.3, 3.7],\n",
       "       [5. , 3.3],\n",
       "       [7. , 3.2],\n",
       "       [6.4, 3.2],\n",
       "       [6.9, 3.1],\n",
       "       [5.5, 2.3],\n",
       "       [6.5, 2.8],\n",
       "       [5.7, 2.8],\n",
       "       [6.3, 3.3],\n",
       "       [4.9, 2.4],\n",
       "       [6.6, 2.9],\n",
       "       [5.2, 2.7],\n",
       "       [5. , 2. ],\n",
       "       [5.9, 3. ],\n",
       "       [6. , 2.2],\n",
       "       [6.1, 2.9],\n",
       "       [5.6, 2.9],\n",
       "       [6.7, 3.1],\n",
       "       [5.6, 3. ],\n",
       "       [5.8, 2.7],\n",
       "       [6.2, 2.2],\n",
       "       [5.6, 2.5],\n",
       "       [5.9, 3.2],\n",
       "       [6.1, 2.8],\n",
       "       [6.3, 2.5],\n",
       "       [6.1, 2.8],\n",
       "       [6.4, 2.9],\n",
       "       [6.6, 3. ],\n",
       "       [6.8, 2.8],\n",
       "       [6.7, 3. ],\n",
       "       [6. , 2.9],\n",
       "       [5.7, 2.6],\n",
       "       [5.5, 2.4],\n",
       "       [5.5, 2.4],\n",
       "       [5.8, 2.7],\n",
       "       [6. , 2.7],\n",
       "       [5.4, 3. ],\n",
       "       [6. , 3.4],\n",
       "       [6.7, 3.1],\n",
       "       [6.3, 2.3],\n",
       "       [5.6, 3. ],\n",
       "       [5.5, 2.5],\n",
       "       [5.5, 2.6],\n",
       "       [6.1, 3. ],\n",
       "       [5.8, 2.6],\n",
       "       [5. , 2.3],\n",
       "       [5.6, 2.7],\n",
       "       [5.7, 3. ],\n",
       "       [5.7, 2.9],\n",
       "       [6.2, 2.9],\n",
       "       [5.1, 2.5],\n",
       "       [5.7, 2.8],\n",
       "       [6.3, 3.3],\n",
       "       [5.8, 2.7],\n",
       "       [7.1, 3. ],\n",
       "       [6.3, 2.9],\n",
       "       [6.5, 3. ],\n",
       "       [7.6, 3. ],\n",
       "       [4.9, 2.5],\n",
       "       [7.3, 2.9],\n",
       "       [6.7, 2.5],\n",
       "       [7.2, 3.6],\n",
       "       [6.5, 3.2],\n",
       "       [6.4, 2.7],\n",
       "       [6.8, 3. ],\n",
       "       [5.7, 2.5],\n",
       "       [5.8, 2.8],\n",
       "       [6.4, 3.2],\n",
       "       [6.5, 3. ],\n",
       "       [7.7, 3.8],\n",
       "       [7.7, 2.6],\n",
       "       [6. , 2.2],\n",
       "       [6.9, 3.2],\n",
       "       [5.6, 2.8],\n",
       "       [7.7, 2.8],\n",
       "       [6.3, 2.7],\n",
       "       [6.7, 3.3],\n",
       "       [7.2, 3.2],\n",
       "       [6.2, 2.8],\n",
       "       [6.1, 3. ],\n",
       "       [6.4, 2.8],\n",
       "       [7.2, 3. ],\n",
       "       [7.4, 2.8],\n",
       "       [7.9, 3.8],\n",
       "       [6.4, 2.8],\n",
       "       [6.3, 2.8],\n",
       "       [6.1, 2.6],\n",
       "       [7.7, 3. ],\n",
       "       [6.3, 3.4],\n",
       "       [6.4, 3.1],\n",
       "       [6. , 3. ],\n",
       "       [6.9, 3.1],\n",
       "       [6.7, 3.1],\n",
       "       [6.9, 3.1],\n",
       "       [5.8, 2.7],\n",
       "       [6.8, 3.2],\n",
       "       [6.7, 3.3],\n",
       "       [6.7, 3. ],\n",
       "       [6.3, 2.5],\n",
       "       [6.5, 3. ],\n",
       "       [6.2, 3.4],\n",
       "       [5.9, 3. ]])"
      ]
     },
     "execution_count": 4,
     "metadata": {},
     "output_type": "execute_result"
    }
   ],
   "source": [
    "X"
   ]
  },
  {
   "cell_type": "code",
   "execution_count": 5,
   "metadata": {},
   "outputs": [
    {
     "data": {
      "text/plain": [
       "array(['Iris-setosa', 'Iris-setosa', 'Iris-setosa', 'Iris-setosa',\n",
       "       'Iris-setosa', 'Iris-setosa', 'Iris-setosa', 'Iris-setosa',\n",
       "       'Iris-setosa', 'Iris-setosa', 'Iris-setosa', 'Iris-setosa',\n",
       "       'Iris-setosa', 'Iris-setosa', 'Iris-setosa', 'Iris-setosa',\n",
       "       'Iris-setosa', 'Iris-setosa', 'Iris-setosa', 'Iris-setosa',\n",
       "       'Iris-setosa', 'Iris-setosa', 'Iris-setosa', 'Iris-setosa',\n",
       "       'Iris-setosa', 'Iris-setosa', 'Iris-setosa', 'Iris-setosa',\n",
       "       'Iris-setosa', 'Iris-setosa', 'Iris-setosa', 'Iris-setosa',\n",
       "       'Iris-setosa', 'Iris-setosa', 'Iris-setosa', 'Iris-setosa',\n",
       "       'Iris-setosa', 'Iris-setosa', 'Iris-setosa', 'Iris-setosa',\n",
       "       'Iris-setosa', 'Iris-setosa', 'Iris-setosa', 'Iris-setosa',\n",
       "       'Iris-setosa', 'Iris-setosa', 'Iris-setosa', 'Iris-setosa',\n",
       "       'Iris-setosa', 'Iris-setosa', 'Iris-versicolor', 'Iris-versicolor',\n",
       "       'Iris-versicolor', 'Iris-versicolor', 'Iris-versicolor',\n",
       "       'Iris-versicolor', 'Iris-versicolor', 'Iris-versicolor',\n",
       "       'Iris-versicolor', 'Iris-versicolor', 'Iris-versicolor',\n",
       "       'Iris-versicolor', 'Iris-versicolor', 'Iris-versicolor',\n",
       "       'Iris-versicolor', 'Iris-versicolor', 'Iris-versicolor',\n",
       "       'Iris-versicolor', 'Iris-versicolor', 'Iris-versicolor',\n",
       "       'Iris-versicolor', 'Iris-versicolor', 'Iris-versicolor',\n",
       "       'Iris-versicolor', 'Iris-versicolor', 'Iris-versicolor',\n",
       "       'Iris-versicolor', 'Iris-versicolor', 'Iris-versicolor',\n",
       "       'Iris-versicolor', 'Iris-versicolor', 'Iris-versicolor',\n",
       "       'Iris-versicolor', 'Iris-versicolor', 'Iris-versicolor',\n",
       "       'Iris-versicolor', 'Iris-versicolor', 'Iris-versicolor',\n",
       "       'Iris-versicolor', 'Iris-versicolor', 'Iris-versicolor',\n",
       "       'Iris-versicolor', 'Iris-versicolor', 'Iris-versicolor',\n",
       "       'Iris-versicolor', 'Iris-versicolor', 'Iris-versicolor',\n",
       "       'Iris-versicolor', 'Iris-versicolor', 'Iris-versicolor',\n",
       "       'Iris-virginica', 'Iris-virginica', 'Iris-virginica',\n",
       "       'Iris-virginica', 'Iris-virginica', 'Iris-virginica',\n",
       "       'Iris-virginica', 'Iris-virginica', 'Iris-virginica',\n",
       "       'Iris-virginica', 'Iris-virginica', 'Iris-virginica',\n",
       "       'Iris-virginica', 'Iris-virginica', 'Iris-virginica',\n",
       "       'Iris-virginica', 'Iris-virginica', 'Iris-virginica',\n",
       "       'Iris-virginica', 'Iris-virginica', 'Iris-virginica',\n",
       "       'Iris-virginica', 'Iris-virginica', 'Iris-virginica',\n",
       "       'Iris-virginica', 'Iris-virginica', 'Iris-virginica',\n",
       "       'Iris-virginica', 'Iris-virginica', 'Iris-virginica',\n",
       "       'Iris-virginica', 'Iris-virginica', 'Iris-virginica',\n",
       "       'Iris-virginica', 'Iris-virginica', 'Iris-virginica',\n",
       "       'Iris-virginica', 'Iris-virginica', 'Iris-virginica',\n",
       "       'Iris-virginica', 'Iris-virginica', 'Iris-virginica',\n",
       "       'Iris-virginica', 'Iris-virginica', 'Iris-virginica',\n",
       "       'Iris-virginica', 'Iris-virginica', 'Iris-virginica',\n",
       "       'Iris-virginica', 'Iris-virginica'], dtype=object)"
      ]
     },
     "execution_count": 5,
     "metadata": {},
     "output_type": "execute_result"
    }
   ],
   "source": [
    "y"
   ]
  },
  {
   "cell_type": "markdown",
   "metadata": {},
   "source": [
    "Массив `X` содержит значения первых двух колонок, а `y` содержит метки классов. Предсказывать мы будем по `sepal-length` и `sepal-width`.\n",
    "\n",
    "Давайте построим визуализацию алгоритма с помощью `mathplotlib`"
   ]
  },
  {
   "cell_type": "code",
   "execution_count": 6,
   "metadata": {},
   "outputs": [
    {
     "data": {
      "image/png": "[encoded data removed]",
      "text/plain": [
       "<Figure size 432x288 with 1 Axes>"
      ]
     },
     "metadata": {
      "needs_background": "light"
     },
     "output_type": "display_data"
    }
   ],
   "source": [
    "import matplotlib.pyplot as plt\n",
    "%matplotlib inline\n",
    "\n",
    "plt.figure()\n",
    "plt.scatter(X[:, 0], X[:, 1])\n",
    "plt.title(\"Iris Sepal-length vs Sepal-width\")\n",
    "plt.show()"
   ]
  },
  {
   "cell_type": "markdown",
   "metadata": {},
   "source": [
    "### Train Test Split\n",
    "\n",
    "Чтобы не произошло переобучения, мы разделим наш датасет на тренировочную и тестовую выборки, что позволит нам определить насколько хорошо работает наш алгоритм. Таким образом, алгоритм оттестируется на `неизвестных` ему данных, и поэтому может быть применем к реальным приложениям."
   ]
  },
  {
   "cell_type": "code",
   "execution_count": 11,
   "metadata": {},
   "outputs": [],
   "source": [
    "from sklearn.model_selection import train_test_split\n",
    "\n",
    "X_train, X_test, y_train, y_test = train_test_split(X, y, test_size=0.2, random_state=13)"
   ]
  },
  {
   "cell_type": "markdown",
   "metadata": {},
   "source": [
    "Мы использовали функцию `train_tes_split` из модуля `sklearn`. Код выше разделил датасет на 80% обучающих данных и 20% тестовых данных. Это означает что из 150 записей, обучающая выборка будет состоять из примерно 120 элементов, а тестовая из 30."
   ]
  },
  {
   "cell_type": "code",
   "execution_count": 12,
   "metadata": {},
   "outputs": [
    {
     "data": {
      "text/plain": [
       "array([[6.4, 3.1],\n",
       "       [5.2, 4.1],\n",
       "       [5.4, 3.4],\n",
       "       [6.9, 3.1],\n",
       "       [6.3, 2.5],\n",
       "       [6.2, 2.9],\n",
       "       [5.1, 3.3],\n",
       "       [5.6, 3. ],\n",
       "       [6.2, 2.2],\n",
       "       [4.8, 3. ],\n",
       "       [5.2, 3.5],\n",
       "       [6.1, 2.6],\n",
       "       [5.7, 2.9],\n",
       "       [7.2, 3.2],\n",
       "       [6.5, 3.2],\n",
       "       [7.2, 3.6],\n",
       "       [5.1, 3.4],\n",
       "       [5. , 2.3],\n",
       "       [4.4, 3.2],\n",
       "       [6.5, 2.8],\n",
       "       [5.7, 3.8],\n",
       "       [5.7, 3. ],\n",
       "       [5.9, 3.2],\n",
       "       [6.8, 3.2],\n",
       "       [4.9, 3.1],\n",
       "       [5.5, 2.4],\n",
       "       [4.7, 3.2],\n",
       "       [5.6, 2.5],\n",
       "       [6.4, 2.7],\n",
       "       [6.3, 3.3],\n",
       "       [4.6, 3.1],\n",
       "       [5. , 3.5],\n",
       "       [6.3, 2.9],\n",
       "       [6.3, 3.3],\n",
       "       [7.3, 2.9],\n",
       "       [6.5, 3. ],\n",
       "       [5. , 3.6],\n",
       "       [4.9, 2.5],\n",
       "       [5. , 2. ],\n",
       "       [6.7, 3. ],\n",
       "       [5.3, 3.7],\n",
       "       [5.4, 3.4],\n",
       "       [5. , 3.2],\n",
       "       [7. , 3.2],\n",
       "       [4.9, 2.4],\n",
       "       [5.8, 2.7],\n",
       "       [6.7, 2.5],\n",
       "       [7.6, 3. ],\n",
       "       [5.5, 2.3],\n",
       "       [5.9, 3. ],\n",
       "       [5.6, 2.8],\n",
       "       [6. , 2.2],\n",
       "       [5. , 3.4],\n",
       "       [6.5, 3. ],\n",
       "       [6.7, 3.1],\n",
       "       [5. , 3. ],\n",
       "       [5.8, 2.6],\n",
       "       [7.1, 3. ],\n",
       "       [5.7, 2.8],\n",
       "       [4.3, 3. ],\n",
       "       [4.9, 3.1],\n",
       "       [6.3, 2.5],\n",
       "       [5.2, 2.7],\n",
       "       [5.2, 3.4],\n",
       "       [5.5, 2.4],\n",
       "       [6.7, 3.1],\n",
       "       [4.5, 2.3],\n",
       "       [6.4, 2.8],\n",
       "       [5.5, 2.5],\n",
       "       [4.6, 3.2],\n",
       "       [6.7, 3.3],\n",
       "       [5.1, 3.5],\n",
       "       [5.4, 3.9],\n",
       "       [5.1, 3.8],\n",
       "       [5.6, 2.7],\n",
       "       [5.5, 3.5],\n",
       "       [6. , 2.2],\n",
       "       [5.9, 3. ],\n",
       "       [7.9, 3.8],\n",
       "       [6.7, 3. ],\n",
       "       [5.4, 3.7],\n",
       "       [6. , 2.7],\n",
       "       [4.4, 3. ],\n",
       "       [6.7, 3.1],\n",
       "       [5.7, 2.6],\n",
       "       [6.4, 3.2],\n",
       "       [4.6, 3.4],\n",
       "       [7.2, 3. ],\n",
       "       [5. , 3.4],\n",
       "       [6.1, 2.8],\n",
       "       [4.8, 3. ],\n",
       "       [5.7, 2.5],\n",
       "       [6.3, 3.4],\n",
       "       [5. , 3.3],\n",
       "       [6. , 3.4],\n",
       "       [5.6, 3. ],\n",
       "       [7.7, 2.8],\n",
       "       [6.4, 3.2],\n",
       "       [6.9, 3.2],\n",
       "       [7.7, 3.8],\n",
       "       [4.9, 3.1],\n",
       "       [4.6, 3.6],\n",
       "       [6.6, 2.9],\n",
       "       [6.8, 2.8],\n",
       "       [5. , 3.5],\n",
       "       [4.8, 3.4],\n",
       "       [4.8, 3.4],\n",
       "       [4.9, 3. ],\n",
       "       [5.8, 2.7],\n",
       "       [6.9, 3.1],\n",
       "       [4.7, 3.2],\n",
       "       [6.9, 3.1],\n",
       "       [6.6, 3. ],\n",
       "       [6.1, 2.8],\n",
       "       [6.2, 3.4],\n",
       "       [6.2, 2.8],\n",
       "       [5.1, 2.5],\n",
       "       [5.4, 3.9],\n",
       "       [6.4, 2.9],\n",
       "       [5.8, 2.7]])"
      ]
     },
     "execution_count": 12,
     "metadata": {},
     "output_type": "execute_result"
    }
   ],
   "source": [
    "X_train"
   ]
  },
  {
   "cell_type": "code",
   "execution_count": 13,
   "metadata": {},
   "outputs": [
    {
     "name": "stdout",
     "output_type": "stream",
     "text": [
      "120 120\n"
     ]
    }
   ],
   "source": [
    "print(len(X_train),len(y_train))"
   ]
  },
  {
   "cell_type": "code",
   "execution_count": 14,
   "metadata": {},
   "outputs": [
    {
     "name": "stdout",
     "output_type": "stream",
     "text": [
      "30 30\n"
     ]
    }
   ],
   "source": [
    "print(len(X_test),len(y_test))"
   ]
  },
  {
   "cell_type": "markdown",
   "metadata": {},
   "source": [
    "## Простая реализация KNN\n",
    "\n",
    "Теперь, имея обучающую выборку, можно реализовать и сам алгоритм классификации:"
   ]
  },
  {
   "cell_type": "code",
   "execution_count": 15,
   "metadata": {},
   "outputs": [],
   "source": [
    "def dist (a, b):\n",
    "    return ((a[0] - b[0])**2 + (a[1] - b[1])**2)**0.5"
   ]
  },
  {
   "cell_type": "markdown",
   "metadata": {},
   "source": [
    "В качестве способам нахождения расстояния от искомой точки до ближайщих соседей, будем использовать `евклидово расстояние`. Для определения расстояния между объектами можно использовать не только евклидово расстояние: также применяются манхэттенское расстояние, косинусная мера, критерий корелляции Пирсона и др."
   ]
  },
  {
   "cell_type": "code",
   "execution_count": 16,
   "metadata": {},
   "outputs": [],
   "source": [
    "def predict(X_train, y_train, x_test, k):\n",
    "    # создадим список для расстояний и словарь k-значений рядом\n",
    "    distances = []\n",
    "    targets = {}\n",
    "\n",
    "    for i in range(len(X_train)):\n",
    "        # пройдем по всем точкам и посчитаем расстояние до них от тестовой точки\n",
    "        distances.append([dist(x_test,X_train[i]), i])\n",
    "\n",
    "    # отсортируем расстояния\n",
    "    distances = sorted(distances)\n",
    "    \n",
    "    # создадим словарь с k ближайщими значениями\n",
    "    for i in range(k):\n",
    "        index = distances[i][1]\n",
    "        if targets.get(y_train[index]) != None:\n",
    "            targets[y_train[index]] += 1\n",
    "        else:\n",
    "            targets[y_train[index]] = 1\n",
    "        \n",
    "    # вернем самую часто встречающаюся метку\n",
    "    return max(targets,key=targets.get)"
   ]
  },
  {
   "cell_type": "markdown",
   "metadata": {},
   "source": [
    "Мы создали изначально список `distances` и словарь `targets`. В `distances` мы будем хранить расстояния от искомой точки, до всех остальных + индекс этой точки. А в `targets` ближайщие `k` соседей от нашей искомой точки.\n",
    "\n",
    "После нахождения всех расстояний, мы сортируем массив по возрастанию дальности точек. Потом мы берем первые `k` точек в начале списка `distances` и записываем количество встречающихся лейблов в этих `k` точках.\n",
    "\n",
    "И возвращаем лейбл, который встречается чаще всего."
   ]
  },
  {
   "cell_type": "code",
   "execution_count": 17,
   "metadata": {},
   "outputs": [],
   "source": [
    "# Создадим список с будущими предсказаниями\n",
    "predictions = []\n",
    "# количество соседей\n",
    "k = 7\n",
    "# идем по все тестовым данным\n",
    "for i in range(len(X_test)):\n",
    "    predictions.append(predict(X_train, y_train, X_test[i], k))"
   ]
  },
  {
   "cell_type": "markdown",
   "metadata": {},
   "source": [
    "Давайте посмотрим, какие предсказания мы получили"
   ]
  },
  {
   "cell_type": "code",
   "execution_count": 18,
   "metadata": {},
   "outputs": [
    {
     "name": "stdout",
     "output_type": "stream",
     "text": [
      "['Iris-versicolor', 'Iris-versicolor', 'Iris-setosa', 'Iris-versicolor', 'Iris-virginica', 'Iris-setosa', 'Iris-virginica', 'Iris-virginica', 'Iris-setosa', 'Iris-versicolor', 'Iris-versicolor', 'Iris-virginica', 'Iris-virginica', 'Iris-setosa', 'Iris-versicolor', 'Iris-setosa', 'Iris-versicolor', 'Iris-virginica', 'Iris-versicolor', 'Iris-setosa', 'Iris-versicolor', 'Iris-setosa', 'Iris-setosa', 'Iris-virginica', 'Iris-versicolor', 'Iris-virginica', 'Iris-setosa', 'Iris-virginica', 'Iris-versicolor', 'Iris-virginica']\n"
     ]
    }
   ],
   "source": [
    "print(predictions)"
   ]
  },
  {
   "cell_type": "markdown",
   "metadata": {},
   "source": [
    "А вот что должно было быть"
   ]
  },
  {
   "cell_type": "code",
   "execution_count": 19,
   "metadata": {},
   "outputs": [
    {
     "name": "stdout",
     "output_type": "stream",
     "text": [
      "['Iris-versicolor' 'Iris-versicolor' 'Iris-setosa' 'Iris-virginica'\n",
      " 'Iris-virginica' 'Iris-setosa' 'Iris-virginica' 'Iris-virginica'\n",
      " 'Iris-setosa' 'Iris-versicolor' 'Iris-virginica' 'Iris-virginica'\n",
      " 'Iris-versicolor' 'Iris-setosa' 'Iris-virginica' 'Iris-setosa'\n",
      " 'Iris-virginica' 'Iris-virginica' 'Iris-versicolor' 'Iris-setosa'\n",
      " 'Iris-versicolor' 'Iris-setosa' 'Iris-setosa' 'Iris-virginica'\n",
      " 'Iris-versicolor' 'Iris-virginica' 'Iris-setosa' 'Iris-virginica'\n",
      " 'Iris-versicolor' 'Iris-virginica']\n"
     ]
    }
   ],
   "source": [
    "print(y_test)"
   ]
  },
  {
   "cell_type": "markdown",
   "metadata": {},
   "source": [
    "Визуализируем изначальные метки. Переведем текстовые значения меток в численные."
   ]
  },
  {
   "cell_type": "code",
   "execution_count": 20,
   "metadata": {},
   "outputs": [],
   "source": [
    "colors = []\n",
    "for c in y:\n",
    "    if c == \"Iris-setosa\":\n",
    "        colors.append(0)\n",
    "    elif c == \"Iris-versicolor\":\n",
    "        colors.append(1)\n",
    "    else:\n",
    "        colors.append(2)"
   ]
  },
  {
   "cell_type": "markdown",
   "metadata": {},
   "source": [
    "Обучающие данные"
   ]
  },
  {
   "cell_type": "code",
   "execution_count": 21,
   "metadata": {},
   "outputs": [
    {
     "data": {
      "image/png": "[encoded data removed]",
      "text/plain": [
       "<Figure size 432x288 with 1 Axes>"
      ]
     },
     "metadata": {
      "needs_background": "light"
     },
     "output_type": "display_data"
    }
   ],
   "source": [
    "import matplotlib\n",
    "import matplotlib.pyplot as plt\n",
    "\n",
    "plt.scatter(X[:, 0], X[:, 1], c=colors)\n",
    "plt.title(\"Iris Training Dataset\")\n",
    "plt.show()"
   ]
  },
  {
   "cell_type": "markdown",
   "metadata": {},
   "source": [
    "Покрасим, предсказанные данные"
   ]
  },
  {
   "cell_type": "code",
   "execution_count": 22,
   "metadata": {},
   "outputs": [],
   "source": [
    "colors = []\n",
    "for c in predictions:\n",
    "    if c == \"Iris-setosa\":\n",
    "        colors.append(0)\n",
    "    elif c == \"Iris-versicolor\":\n",
    "        colors.append(1)\n",
    "    else:\n",
    "        colors.append(2)\n",
    "        \n",
    "colors_actual = []\n",
    "for c in y_test:\n",
    "    if c == \"Iris-setosa\":\n",
    "        colors_actual.append(0)\n",
    "    elif c == \"Iris-versicolor\":\n",
    "        colors_actual.append(1)\n",
    "    else:\n",
    "        colors_actual.append(2)"
   ]
  },
  {
   "cell_type": "code",
   "execution_count": 23,
   "metadata": {},
   "outputs": [],
   "source": [
    "colors_actual = []\n",
    "for c in y_test:\n",
    "    if c == \"Iris-setosa\":\n",
    "        colors_actual.append(0)\n",
    "    elif c == \"Iris-versicolor\":\n",
    "        colors_actual.append(1)\n",
    "    else:\n",
    "        colors_actual.append(2)"
   ]
  },
  {
   "cell_type": "code",
   "execution_count": 24,
   "metadata": {},
   "outputs": [
    {
     "data": {
      "image/png": "[encoded data removed]",
      "text/plain": [
       "<Figure size 432x288 with 1 Axes>"
      ]
     },
     "metadata": {
      "needs_background": "light"
     },
     "output_type": "display_data"
    }
   ],
   "source": [
    "plt.scatter(X_test[:,0],X_test[:,1], c=colors)\n",
    "plt.title(\"Iris Predicted\")\n",
    "plt.show()"
   ]
  },
  {
   "cell_type": "code",
   "execution_count": 25,
   "metadata": {},
   "outputs": [
    {
     "data": {
      "image/png": "[encoded data removed]",
      "text/plain": [
       "<Figure size 432x288 with 1 Axes>"
      ]
     },
     "metadata": {
      "needs_background": "light"
     },
     "output_type": "display_data"
    }
   ],
   "source": [
    "plt.scatter(X_test[:,0],X_test[:,1], c=colors_actual)\n",
    "plt.title(\"Iris Actual\")\n",
    "plt.show()"
   ]
  },
  {
   "cell_type": "markdown",
   "metadata": {},
   "source": [
    "А теперь посчитаем, насколько качественно работает наш алгоритм:"
   ]
  },
  {
   "cell_type": "code",
   "execution_count": 26,
   "metadata": {},
   "outputs": [
    {
     "name": "stdout",
     "output_type": "stream",
     "text": [
      "25 / 30\n"
     ]
    },
    {
     "data": {
      "text/plain": [
       "0.8333333333333334"
      ]
     },
     "execution_count": 26,
     "metadata": {},
     "output_type": "execute_result"
    }
   ],
   "source": [
    "correct = 0\n",
    "for i in range(len(y_test)):\n",
    "    if y_test[i] == predictions[i]:\n",
    "        correct += 1\n",
    "        \n",
    "print(correct, '/', len(y_test))\n",
    "correct/len(y_test)"
   ]
  },
  {
   "cell_type": "markdown",
   "metadata": {},
   "source": [
    "Из 30 значений, 22 оказалось верным, что дает нам 73% правильности классификации"
   ]
  },
  {
   "cell_type": "markdown",
   "metadata": {},
   "source": [
    "## Реализация KNN в виде класса\n",
    "\n",
    "У нас уже есть все нужные нам функции, поэтому реализуем КНН в виде класса. Он у нас будет состоять из конструктора, где мы инициализруем переменные, функции `dist`, которая возвращает евклидово расстояние, функции `fit`, которая будет подготовливать наш классификатор и функции `predict`, которая будет возвращать нам предсказанные значения. Также создадим функцию `score` и функцию `plot`. Первая будет считает процент корректности предсказанных данных, а вторая рисовать графики."
   ]
  },
  {
   "cell_type": "code",
   "execution_count": 27,
   "metadata": {},
   "outputs": [],
   "source": [
    "class KNN:\n",
    "    \"\"\"\n",
    "    k-NN классификатор\n",
    "\n",
    "    Возвращает: предсказания k-NN\n",
    "    \"\"\"\n",
    "\n",
    "    def __init__(self):\n",
    "        self.X_train = None\n",
    "        self.y_train = None\n",
    "        self.k = None\n",
    "        self.predictions = []\n",
    "    \n",
    "    @staticmethod\n",
    "    def _dist(a, b):\n",
    "        \"\"\"\n",
    "        Расстояние евклида\n",
    "        Принимает на вход два вектора\n",
    "\n",
    "        Возвращает: число с плавающей точкой\n",
    "        \"\"\"\n",
    "        return ((a[0] - b[0])**2 + (a[1] - b[1])**2)**0.5\n",
    "    \n",
    "    @staticmethod\n",
    "    def score(y_test, predictions):\n",
    "        \"\"\"\n",
    "        Принимает на вход два массива с данными: тестовый и предсказанный\n",
    "\n",
    "        Возвращает: число с плавающей точкой\n",
    "        \"\"\"\n",
    "        correct = 0\n",
    "        for i in range(len(y_test)):\n",
    "            if y_test[i] == predictions[i]:\n",
    "                correct += 1\n",
    "        return correct/len(y_test)\n",
    "    \n",
    "    def plot(self, y_test):\n",
    "        colors = []\n",
    "        for c in y_test:\n",
    "            if c == \"Iris-setosa\":\n",
    "                colors.append(0)\n",
    "            elif c == \"Iris-versicolor\":\n",
    "                colors.append(1)\n",
    "            else:\n",
    "                colors.append(2)\n",
    "                        \n",
    "                \n",
    "        plt.scatter(X_test[:,0], X_test[:,1], c=colors)\n",
    "        plt.title(\"Real Data\")\n",
    "        plt.show()\n",
    "        \n",
    "        colors = []\n",
    "        i = 0\n",
    "        for c in self.predictions:\n",
    "            if c == \"Iris-setosa\":\n",
    "                colors.append(0)\n",
    "            elif c == \"Iris-versicolor\":\n",
    "                colors.append(1)\n",
    "            else:\n",
    "                colors.append(2)\n",
    "            \n",
    "        plt.scatter(X_test[:,0], X_test[:,1], c=colors)\n",
    "        plt.title(\"Predicted\")\n",
    "        plt.show()\n",
    "        \n",
    "\n",
    "    def fit(self, X_train, y_train, k):\n",
    "        \"\"\"\n",
    "        Принимает на вход два массива с данными: тренировочный Х и тренировочные лейблы\n",
    "        и k - количество соседей\n",
    "        \n",
    "        \"\"\"\n",
    "        self.X_train = X_train\n",
    "        self.y_train = y_train\n",
    "        self.k = k\n",
    "\n",
    "    def predict(self, X_test):\n",
    "        \"\"\"\n",
    "        Принимает на вход двумерный массив искомых точек\n",
    "\n",
    "        Возвращает: список предсказаний\n",
    "        \"\"\"\n",
    "        \n",
    "        for i in range(len(X_test)):\n",
    "            distances = []\n",
    "            targets = {}\n",
    "\n",
    "            for j in range(len(X_train)):\n",
    "                # пройдем по всем точкам и посчитаем расстояние до них от тестовой точки\n",
    "                distances.append([self._dist(X_test[i], X_train[j]), j])\n",
    "\n",
    "            # отсортируем расстояния\n",
    "            distances = sorted(distances)\n",
    "\n",
    "            # создадим словарь с k ближайщими значениями\n",
    "            for j in range(self.k):\n",
    "                index = distances[j][1]\n",
    "                if targets.get(y_train[index]) != None:\n",
    "                    targets[y_train[index]] += 1\n",
    "                else:\n",
    "                    targets[y_train[index]] = 1\n",
    "\n",
    "            # вернем самую часто встречающаюся метку\n",
    "            self.predictions.append(max(targets,key=targets.get))\n",
    "\n",
    "        return self.predictions"
   ]
  },
  {
   "cell_type": "markdown",
   "metadata": {},
   "source": [
    "А теперь попробую его в деле на том же датасете"
   ]
  },
  {
   "cell_type": "code",
   "execution_count": 28,
   "metadata": {},
   "outputs": [
    {
     "name": "stdout",
     "output_type": "stream",
     "text": [
      "['Iris-versicolor', 'Iris-versicolor', 'Iris-setosa', 'Iris-versicolor', 'Iris-virginica', 'Iris-setosa', 'Iris-virginica', 'Iris-virginica', 'Iris-setosa', 'Iris-versicolor', 'Iris-versicolor', 'Iris-virginica', 'Iris-virginica', 'Iris-setosa', 'Iris-versicolor', 'Iris-setosa', 'Iris-versicolor', 'Iris-virginica', 'Iris-versicolor', 'Iris-setosa', 'Iris-versicolor', 'Iris-setosa', 'Iris-setosa', 'Iris-virginica', 'Iris-versicolor', 'Iris-virginica', 'Iris-setosa', 'Iris-virginica', 'Iris-versicolor', 'Iris-virginica']\n",
      "0.8333333333333334\n"
     ]
    }
   ],
   "source": [
    "knn = KNN()\n",
    "knn.fit(X_train,y_train,7)\n",
    "\n",
    "pred = knn.predict(X_test)\n",
    "print(pred)\n",
    "print(knn.score(y_test,pred))"
   ]
  },
  {
   "cell_type": "markdown",
   "metadata": {},
   "source": [
    "В нашем классе мы использовали статические методы `__dist`, `score`. Давайте построим график с помощью метода экземпляра класса:"
   ]
  },
  {
   "cell_type": "code",
   "execution_count": 29,
   "metadata": {},
   "outputs": [
    {
     "data": {
      "image/png": "[encoded data removed]",
      "text/plain": [
       "<Figure size 432x288 with 1 Axes>"
      ]
     },
     "metadata": {
      "needs_background": "light"
     },
     "output_type": "display_data"
    },
    {
     "data": {
      "image/png": "[encoded data removed]",
      "text/plain": [
       "<Figure size 432x288 with 1 Axes>"
      ]
     },
     "metadata": {
      "needs_background": "light"
     },
     "output_type": "display_data"
    }
   ],
   "source": [
    "knn.plot(y_test)"
   ]
  },
  {
   "cell_type": "markdown",
   "metadata": {},
   "source": [
    "## Класс KNN с другой функций расстояние\n",
    "\n",
    "Давайт создадим второй класс КНН, который теперь использует другую функцию расстояния. Создавать второй класс с нуля не будем, а воспользуемся свойством классов - наследование. В новой классе поменяем только функцию расстояния, а все остальное оставим таким же. Для нахождения косинусной меры, используем функцию `cosine` из библиотеки `scipy` "
   ]
  },
  {
   "cell_type": "code",
   "execution_count": 30,
   "metadata": {},
   "outputs": [],
   "source": [
    "from scipy.spatial import distance\n",
    "\n",
    "class cosKNN(KNN):\n",
    "    \n",
    "    @staticmethod\n",
    "    def _dist(a,b):\n",
    "        \"\"\"\n",
    "        Через косинусную меру\n",
    "\n",
    "        возвращаетs: число с плавающей точкой\n",
    "        \"\"\"\n",
    "        return distance.cosine(a,b)"
   ]
  },
  {
   "cell_type": "code",
   "execution_count": 31,
   "metadata": {},
   "outputs": [
    {
     "name": "stdout",
     "output_type": "stream",
     "text": [
      "0.7\n"
     ]
    }
   ],
   "source": [
    "cos_kNN = cosKNN()\n",
    "cos_kNN.fit(X_train,y_train,7)\n",
    "pred = cos_kNN.predict(X_test)\n",
    "print(cosKNN.score(y_test,pred))"
   ]
  },
  {
   "cell_type": "code",
   "execution_count": 32,
   "metadata": {},
   "outputs": [
    {
     "data": {
      "image/png": "[encoded data removed]",
      "text/plain": [
       "<Figure size 432x288 with 1 Axes>"
      ]
     },
     "metadata": {
      "needs_background": "light"
     },
     "output_type": "display_data"
    },
    {
     "data": {
      "image/png": "[encoded data removed]",
      "text/plain": [
       "<Figure size 432x288 with 1 Axes>"
      ]
     },
     "metadata": {
      "needs_background": "light"
     },
     "output_type": "display_data"
    }
   ],
   "source": [
    "cos_kNN.plot(y_test)"
   ]
  },
  {
   "cell_type": "markdown",
   "metadata": {},
   "source": [
    "## Класс KNN с поддержкой нескольких функций расстояния\n",
    "\n",
    "Выше мы создали два класса, один из которых наследовался с новой функцией расстояния (метрикой). Но это все можно было реализовать в рамках нашего одного базового класса. Давайте применим все наши знания о классах и создадим его,также модицифируем метод `score` и `dist`."
   ]
  },
  {
   "cell_type": "code",
   "execution_count": 33,
   "metadata": {},
   "outputs": [],
   "source": [
    "class ultimateKNN:\n",
    "    \"\"\"\n",
    "    k-NN классификатор\n",
    "\n",
    "    Возвращает: предсказания k-NN\n",
    "    \"\"\"\n",
    "\n",
    "    def __init__(self):\n",
    "        self.X_train = None\n",
    "        self.y_train = None\n",
    "        self.k = None\n",
    "        self.metric = None\n",
    "        self.predictions = []\n",
    "    \n",
    "    def __dist(self, a, b):\n",
    "        \"\"\"\n",
    "        Расстояние евклида или косинусная мера\n",
    "        Принимает на вход два вектора\n",
    "\n",
    "        Возвращает: число с плавающей точкой\n",
    "        \"\"\"\n",
    "        if self.metric == \"eucl\":\n",
    "            return ((a[0] - b[0])**2 + (a[1] - b[1])**2)**0.5\n",
    "        elif self.metric == \"cos\":\n",
    "            return distance.cosine(a,b)\n",
    "    \n",
    "    def score(self, y_test):\n",
    "        \"\"\"\n",
    "        Принимает на вход два массива с данными: тестовый и предсказанный\n",
    "\n",
    "        Возвращает: число с плавающей точкой\n",
    "        \"\"\"\n",
    "        k = 0\n",
    "        for i in range(len(y_test)):\n",
    "            if y_test[i] == self.predictions[i]:\n",
    "                k += 1\n",
    "        return k/len(y_test)\n",
    "    \n",
    "    def plot(self, y_test):\n",
    "        colors = []\n",
    "        for c in y_test:\n",
    "            if c == \"Iris-setosa\":\n",
    "                colors.append(0)\n",
    "            elif c == \"Iris-versicolor\":\n",
    "                colors.append(1)\n",
    "            else:\n",
    "                colors.append(2)\n",
    "        Xx = []\n",
    "        Yy = []\n",
    "        for i in X_test:\n",
    "            Xx.append(i[0])\n",
    "            Yy.append(i[1])\n",
    "            \n",
    "                \n",
    "        plt.scatter(Xx, Yy, c=colors)\n",
    "        plt.title(\"Iris Real Data\")\n",
    "        plt.show()\n",
    "        \n",
    "        colors = []\n",
    "        for c in self.predictions:\n",
    "            if c == \"Iris-setosa\":\n",
    "                colors.append(0)\n",
    "            elif c == \"Iris-versicolor\":\n",
    "                colors.append(1)\n",
    "            else:\n",
    "                colors.append(2)\n",
    "            \n",
    "        plt.scatter(Xx,Yy, c=colors)\n",
    "        plt.title(\"Iris Predicted\")\n",
    "        plt.show()\n",
    "\n",
    "    def fit(self, X_train, y_train, k, metric = \"eucl\"):\n",
    "        \"\"\"\n",
    "        Принимает на вход два массива с данными: тестовый Х и тестовый лейблы\n",
    "        и k - количество соседей\n",
    "        \n",
    "        \"\"\"\n",
    "        self.X_train = X_train\n",
    "        self.y_train = y_train\n",
    "        self.k = k\n",
    "        self.metric = metric\n",
    "\n",
    "    def predict(self, X_test):\n",
    "        \"\"\"\n",
    "        Принимает на вход двумерный массив искомых точек\n",
    "\n",
    "        Возвращает: список предсказаний\n",
    "        \"\"\"\n",
    "        \n",
    "        for i in range(len(X_test)):\n",
    "            distances = []\n",
    "            targets = {}\n",
    "\n",
    "            for j in range(len(X_train)):\n",
    "                # пройдем по всем точкам и посчитаем расстояние до них от тестовой точки\n",
    "                distances.append([self.__dist(X_test[i], X_train[j]), j])\n",
    "\n",
    "            # отсортируем расстояния\n",
    "            distances = sorted(distances)\n",
    "\n",
    "            # создадим словарь с k ближайщими значениями\n",
    "            for j in range(self.k):\n",
    "                index = distances[j][1]\n",
    "                if targets.get(y_train[index]) != None:\n",
    "                    targets[y_train[index]] += 1\n",
    "                else:\n",
    "                    targets[y_train[index]] = 1\n",
    "\n",
    "            # вернем самую часто встречающаюся метку\n",
    "            self.predictions.append(max(targets,key=targets.get))\n",
    "\n",
    "        return self.predictions"
   ]
  },
  {
   "cell_type": "code",
   "execution_count": 34,
   "metadata": {},
   "outputs": [
    {
     "name": "stdout",
     "output_type": "stream",
     "text": [
      "['Iris-versicolor', 'Iris-versicolor', 'Iris-setosa', 'Iris-versicolor', 'Iris-virginica', 'Iris-setosa', 'Iris-virginica', 'Iris-virginica', 'Iris-setosa', 'Iris-versicolor', 'Iris-versicolor', 'Iris-virginica', 'Iris-virginica', 'Iris-setosa', 'Iris-versicolor', 'Iris-setosa', 'Iris-versicolor', 'Iris-virginica', 'Iris-versicolor', 'Iris-setosa', 'Iris-versicolor', 'Iris-setosa', 'Iris-setosa', 'Iris-virginica', 'Iris-versicolor', 'Iris-virginica', 'Iris-setosa', 'Iris-virginica', 'Iris-versicolor', 'Iris-virginica']\n",
      "0.8333333333333334\n"
     ]
    }
   ],
   "source": [
    "ult_kNN = ultimateKNN()\n",
    "ult_kNN.fit(X_train,y_train,7)\n",
    "print(ult_kNN.predict(X_test))\n",
    "print(ult_kNN.score(y_test))"
   ]
  },
  {
   "cell_type": "code",
   "execution_count": 35,
   "metadata": {},
   "outputs": [
    {
     "data": {
      "image/png": "[encoded data removed]",
      "text/plain": [
       "<Figure size 432x288 with 1 Axes>"
      ]
     },
     "metadata": {
      "needs_background": "light"
     },
     "output_type": "display_data"
    },
    {
     "data": {
      "image/png": "[encoded data removed]",
      "text/plain": [
       "<Figure size 432x288 with 1 Axes>"
      ]
     },
     "metadata": {
      "needs_background": "light"
     },
     "output_type": "display_data"
    }
   ],
   "source": [
    "ult_kNN.plot(y_test)"
   ]
  },
  {
   "cell_type": "markdown",
   "metadata": {},
   "source": [
    "Мы создали класс, который в зависимости от указанной метрики выбирает способ подсчета расстояния до точек. Если мы ничего не задаем или задаем `eucl`, то будем считать через расстояние евклида, иначе через косинусную меру."
   ]
  },
  {
   "cell_type": "code",
   "execution_count": 36,
   "metadata": {},
   "outputs": [
    {
     "name": "stdout",
     "output_type": "stream",
     "text": [
      "['Iris-virginica', 'Iris-versicolor', 'Iris-setosa', 'Iris-versicolor', 'Iris-versicolor', 'Iris-setosa', 'Iris-virginica', 'Iris-virginica', 'Iris-setosa', 'Iris-virginica', 'Iris-virginica', 'Iris-virginica', 'Iris-virginica', 'Iris-setosa', 'Iris-versicolor', 'Iris-setosa', 'Iris-virginica', 'Iris-virginica', 'Iris-virginica', 'Iris-setosa', 'Iris-versicolor', 'Iris-setosa', 'Iris-setosa', 'Iris-virginica', 'Iris-versicolor', 'Iris-virginica', 'Iris-setosa', 'Iris-virginica', 'Iris-virginica', 'Iris-versicolor']\n",
      "0.7\n"
     ]
    }
   ],
   "source": [
    "ult_kNN = ultimateKNN()\n",
    "ult_kNN.fit(X_train,y_train,7,'cos')\n",
    "print(ult_kNN.predict(X_test))\n",
    "print(ult_kNN.score(y_test))"
   ]
  },
  {
   "cell_type": "code",
   "execution_count": 37,
   "metadata": {},
   "outputs": [
    {
     "data": {
      "image/png": "[encoded data removed]",
      "text/plain": [
       "<Figure size 432x288 with 1 Axes>"
      ]
     },
     "metadata": {
      "needs_background": "light"
     },
     "output_type": "display_data"
    },
    {
     "data": {
      "image/png": "[encoded data removed]",
      "text/plain": [
       "<Figure size 432x288 with 1 Axes>"
      ]
     },
     "metadata": {
      "needs_background": "light"
     },
     "output_type": "display_data"
    }
   ],
   "source": [
    "ult_kNN.plot(y_test)"
   ]
  },
  {
   "cell_type": "markdown",
   "metadata": {},
   "source": [
    "Давайте теперь сделаем сетку - построим несколько кнн классификаторов с разными `k` и посмотрим какой из них круче:"
   ]
  },
  {
   "cell_type": "code",
   "execution_count": 38,
   "metadata": {},
   "outputs": [
    {
     "name": "stdout",
     "output_type": "stream",
     "text": [
      "k = 1 , Score: 0.8333333333333334\n",
      "k = 2 , Score: 0.8333333333333334\n",
      "k = 3 , Score: 0.8333333333333334\n",
      "k = 4 , Score: 0.8333333333333334\n",
      "k = 5 , Score: 0.8333333333333334\n",
      "k = 6 , Score: 0.8333333333333334\n",
      "k = 7 , Score: 0.8333333333333334\n",
      "k = 8 , Score: 0.8\n",
      "k = 9 , Score: 0.7666666666666667\n"
     ]
    }
   ],
   "source": [
    "for i in range(1,10):\n",
    "    knn = ultimateKNN()\n",
    "    knn.fit(X_train,y_train,i)\n",
    "    knn.predict(X_test)\n",
    "    print(\"k = \" + str(i), \", Score: \" + str(knn.score(y_test)))"
   ]
  },
  {
   "cell_type": "code",
   "execution_count": 39,
   "metadata": {},
   "outputs": [
    {
     "name": "stdout",
     "output_type": "stream",
     "text": [
      "k = 1 , Score: 0.6333333333333333\n",
      "k = 2 , Score: 0.6333333333333333\n",
      "k = 3 , Score: 0.8\n",
      "k = 4 , Score: 0.7\n",
      "k = 5 , Score: 0.7666666666666667\n",
      "k = 6 , Score: 0.7\n",
      "k = 7 , Score: 0.7\n",
      "k = 8 , Score: 0.6666666666666666\n",
      "k = 9 , Score: 0.7\n"
     ]
    }
   ],
   "source": [
    "for i in range(1,10):\n",
    "    knn = ultimateKNN()\n",
    "    knn.fit(X_train,y_train,i,\"cos\")\n",
    "    knn.predict(X_test)\n",
    "    print(\"k = \" + str(i), \", Score: \" + str(knn.score(y_test)))"
   ]
  },
  {
   "cell_type": "markdown",
   "metadata": {},
   "source": [
    "Как мы видим, евклидово расстояние на нашем датасете работает лучше."
   ]
  },
  {
   "cell_type": "markdown",
   "metadata": {},
   "source": [
    "# Заключение\n",
    "\n",
    "Мы познакомились с классами и создали в качестве примера класс, который реализует метод kNN. kNN — один из простейших алгоритмов классификации, у которого все же есть свои недостатки. Помимо точности классификации, проблемой этого классификатора является скорость классификации: если в обучающей выборке `N` объектов, в тестовой выборке `M` объектов, а размерность пространства — `K`, то количество операций для классификации тестовой выборки может быть оценено как `O(K\\*M\\*N)`. "
   ]
  },
  {
   "cell_type": "code",
   "execution_count": null,
   "metadata": {},
   "outputs": [],
   "source": []
  }
 ],
 "metadata": {
  "kernelspec": {
   "display_name": "Python 3",
   "language": "python",
   "name": "python3"
  },
  "language_info": {
   "codemirror_mode": {
    "name": "ipython",
    "version": 3
   },
   "file_extension": ".py",
   "mimetype": "text/x-python",
   "name": "python",
   "nbconvert_exporter": "python",
   "pygments_lexer": "ipython3",
   "version": "3.7.4"
  }
 },
 "nbformat": 4,
 "nbformat_minor": 2
}
