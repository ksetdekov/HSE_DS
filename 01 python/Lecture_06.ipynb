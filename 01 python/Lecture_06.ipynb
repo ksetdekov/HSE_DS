{
 "cells": [
  {
   "cell_type": "markdown",
   "metadata": {},
   "source": [
    "# про декораторы"
   ]
  },
  {
   "cell_type": "markdown",
   "metadata": {},
   "source": [
    "в объектах все :\n",
    "* числа\n",
    "* строки\n",
    "* классы\n",
    "* функции"
   ]
  },
  {
   "cell_type": "markdown",
   "metadata": {},
   "source": [
    "### функции высших порядков - функции на вход принимают другие функции и возвращают на выходе функции"
   ]
  },
  {
   "cell_type": "markdown",
   "metadata": {},
   "source": [
    "#### определять функции внутри других"
   ]
  },
  {
   "cell_type": "code",
   "execution_count": 1,
   "metadata": {},
   "outputs": [
    {
     "name": "stdout",
     "output_type": "stream",
     "text": [
      "test\n"
     ]
    }
   ],
   "source": [
    "def wrapper_f():\n",
    "    def hello_world():\n",
    "        print('test')\n",
    "    hello_world()\n",
    "wrapper_f()\n",
    "\n",
    "def hello_world_1():\n",
    "    print('test')\n",
    "hello_world = hello_world_1"
   ]
  },
  {
   "cell_type": "code",
   "execution_count": 2,
   "metadata": {},
   "outputs": [
    {
     "name": "stdout",
     "output_type": "stream",
     "text": [
      "получена функция <function hello_world_1 at 0x0000023B7F3639D0>\n",
      "test\n"
     ]
    },
    {
     "data": {
      "text/plain": [
       "<function __main__.hello_world_1()>"
      ]
     },
     "execution_count": 2,
     "metadata": {},
     "output_type": "execute_result"
    }
   ],
   "source": [
    "def higher_order(func):\n",
    "    print(f'получена функция {func}')\n",
    "    func()\n",
    "    return func\n",
    "\n",
    "higher_order(hello_world)"
   ]
  },
  {
   "cell_type": "markdown",
   "metadata": {},
   "source": [
    "#### пример"
   ]
  },
  {
   "cell_type": "code",
   "execution_count": 3,
   "metadata": {},
   "outputs": [],
   "source": [
    "def decorator_function(func):\n",
    "    def wrapper():\n",
    "        print('Функция-обёртка!')\n",
    "        print('Оборачиваемая функция: {}'.format(func))\n",
    "        print('Выполняем обёрнутую функцию...')\n",
    "        func()\n",
    "        print('Выходим из обёртки')\n",
    "    return wrapper"
   ]
  },
  {
   "cell_type": "code",
   "execution_count": 4,
   "metadata": {},
   "outputs": [],
   "source": [
    "@decorator_function\n",
    "def hello_world():\n",
    "    print('hello world')"
   ]
  },
  {
   "cell_type": "code",
   "execution_count": 5,
   "metadata": {},
   "outputs": [
    {
     "name": "stdout",
     "output_type": "stream",
     "text": [
      "Функция-обёртка!\n",
      "Оборачиваемая функция: <function hello_world at 0x0000023B7F363430>\n",
      "Выполняем обёрнутую функцию...\n",
      "hello world\n",
      "Выходим из обёртки\n"
     ]
    }
   ],
   "source": [
    "hello_world()"
   ]
  },
  {
   "cell_type": "code",
   "execution_count": 6,
   "metadata": {},
   "outputs": [
    {
     "name": "stdout",
     "output_type": "stream",
     "text": [
      "test\n"
     ]
    }
   ],
   "source": [
    "hello_world_1()"
   ]
  },
  {
   "cell_type": "code",
   "execution_count": 7,
   "metadata": {},
   "outputs": [
    {
     "name": "stdout",
     "output_type": "stream",
     "text": [
      "Функция-обёртка!\n",
      "Оборачиваемая функция: <function hello_world_1 at 0x0000023B7F3639D0>\n",
      "Выполняем обёрнутую функцию...\n",
      "test\n",
      "Выходим из обёртки\n"
     ]
    }
   ],
   "source": [
    "hello_world = decorator_function(hello_world_1)\n",
    "hello_world()"
   ]
  },
  {
   "cell_type": "markdown",
   "metadata": {},
   "source": [
    "### использование декоратора для обертки в бенчмарк запроса"
   ]
  },
  {
   "cell_type": "code",
   "execution_count": 8,
   "metadata": {},
   "outputs": [
    {
     "name": "stdout",
     "output_type": "stream",
     "text": [
      "[*] Время выполнения: 0.6836259365081787 секунд.\n",
      "[*] Время выполнения: 0.5436699390411377 секунд.\n",
      "[*] Время выполнения: 0.5227141380310059 секунд.\n",
      "[*] Время выполнения: 0.5183618068695068 секунд.\n",
      "[*] Время выполнения: 0.5445256233215332 секунд.\n",
      "[*] Время выполнения: 0.5444567203521729 секунд.\n",
      "[*] Время выполнения: 0.5556299686431885 секунд.\n",
      "[*] Время выполнения: 0.5183873176574707 секунд.\n",
      "535 ms ± 14 ms per loop (mean ± std. dev. of 7 runs, 1 loop each)\n"
     ]
    }
   ],
   "source": [
    "%%timeit\n",
    "def benchmark(func):\n",
    "    import time\n",
    "    \n",
    "    def wrapper():\n",
    "        start = time.time()\n",
    "        func()\n",
    "        end = time.time()\n",
    "        print(f'[*] Время выполнения: {end-start} секунд.')\n",
    "    return wrapper\n",
    "\n",
    "@benchmark\n",
    "def fetch_webpage():\n",
    "    import requests\n",
    "    webpage = requests.get('https://www.kenrockwell.com/')\n",
    "\n",
    "fetch_webpage()"
   ]
  },
  {
   "cell_type": "markdown",
   "metadata": {},
   "source": [
    "## декоратор с переменными"
   ]
  },
  {
   "cell_type": "code",
   "execution_count": 9,
   "metadata": {},
   "outputs": [
    {
     "name": "stdout",
     "output_type": "stream",
     "text": [
      "[*] Среднее время выполнения: 0.19495186805725098 секунд.\n"
     ]
    }
   ],
   "source": [
    "def benchmark(iters):\n",
    "    def actual_decorator(func):\n",
    "        import time\n",
    "        \n",
    "        def wrapper(*args, **kwargs):\n",
    "            total = 0\n",
    "            for i in range(iters):\n",
    "                start = time.time()\n",
    "                return_value = func(*args, **kwargs)\n",
    "                end = time.time()\n",
    "                total = total + (end-start)\n",
    "            print('[*] Среднее время выполнения: {} секунд.'.format(total/iters))\n",
    "            return return_value\n",
    "\n",
    "        return wrapper\n",
    "    return actual_decorator\n",
    "\n",
    "\n",
    "@benchmark(iters=10)\n",
    "def fetch_webpage(url):\n",
    "    import requests\n",
    "    webpage = requests.get(url)\n",
    "    return webpage.text\n",
    "\n",
    "webpage = fetch_webpage('https://google.com')\n",
    "# print(webpage)"
   ]
  },
  {
   "cell_type": "code",
   "execution_count": 10,
   "metadata": {},
   "outputs": [
    {
     "name": "stdout",
     "output_type": "stream",
     "text": [
      "6 из-за обертки вывелось\n"
     ]
    },
    {
     "data": {
      "text/plain": [
       "6"
      ]
     },
     "execution_count": 10,
     "metadata": {},
     "output_type": "execute_result"
    }
   ],
   "source": [
    "a = [1, 2, 3]\n",
    "\n",
    "def outputter(func):\n",
    "    def wrapper(*args):\n",
    "        return_value = func(*args)\n",
    "        print(return_value, 'из-за обертки вывелось')\n",
    "        return return_value\n",
    "    return wrapper\n",
    "    \n",
    "@outputter\n",
    "def mysum(list_ar):\n",
    "    sum_ = 0\n",
    "    for i in list_ar:\n",
    "        sum_ += i\n",
    "    return sum_\n",
    "\n",
    "mysum(a)"
   ]
  },
  {
   "cell_type": "code",
   "execution_count": 11,
   "metadata": {},
   "outputs": [
    {
     "name": "stdout",
     "output_type": "stream",
     "text": [
      "Сумма = 6 сумма посчиталась от списка, который имел строки\n"
     ]
    },
    {
     "data": {
      "text/plain": [
       "6"
      ]
     },
     "execution_count": 11,
     "metadata": {},
     "output_type": "execute_result"
    }
   ],
   "source": [
    "a = [1, '2', 3]\n",
    "\n",
    "def outputter(func):\n",
    "    def wrapper(bad_inp):\n",
    "        listargs = [int(s) for s in bad_inp]\n",
    "        return_value = func(listargs)\n",
    "        print(f'Сумма = {return_value} сумма посчиталась от списка, который имел строки')\n",
    "        return return_value\n",
    "    return wrapper\n",
    "    \n",
    "@outputter\n",
    "def mysum(list_ar):\n",
    "    sum_ = 0\n",
    "    for i in list_ar:\n",
    "        sum_ += i\n",
    "    return sum_\n",
    "\n",
    "mysum(a)"
   ]
  },
  {
   "cell_type": "markdown",
   "metadata": {},
   "source": [
    "# Алгоритмы"
   ]
  },
  {
   "cell_type": "markdown",
   "metadata": {},
   "source": [
    "## наивная рекурсия"
   ]
  },
  {
   "cell_type": "code",
   "execution_count": 12,
   "metadata": {},
   "outputs": [
    {
     "data": {
      "text/plain": [
       "233"
      ]
     },
     "execution_count": 12,
     "metadata": {},
     "output_type": "execute_result"
    }
   ],
   "source": [
    "def naive_fi(month):\n",
    "    if month == 0 or month == 1:\n",
    "        return 1\n",
    "    else:\n",
    "        return naive_fi(month - 1) + naive_fi(month - 2)\n",
    "naive_fi(12)"
   ]
  },
  {
   "cell_type": "code",
   "execution_count": 16,
   "metadata": {},
   "outputs": [
    {
     "name": "stdout",
     "output_type": "stream",
     "text": [
      "4.01 ms ± 714 µs per loop (mean ± std. dev. of 7 runs, 100 loops each)\n"
     ]
    }
   ],
   "source": [
    "%%timeit\n",
    "naive_fi(20)"
   ]
  },
  {
   "cell_type": "markdown",
   "metadata": {},
   "source": [
    "**одни вещи пересчитываются по много раз**"
   ]
  },
  {
   "cell_type": "code",
   "execution_count": 17,
   "metadata": {},
   "outputs": [
    {
     "data": {
      "text/plain": [
       "10946"
      ]
     },
     "execution_count": 17,
     "metadata": {},
     "output_type": "execute_result"
    }
   ],
   "source": [
    "def dynamic_alg(month):\n",
    "    num_bun_month = [0]*(month +2)\n",
    "    num_bun_month[1] = 1\n",
    "    for i in range(2, month + 2):\n",
    "        num_bun_month[i] = num_bun_month[i-1] + num_bun_month[i-2]\n",
    "    return num_bun_month[-1]\n",
    "\n",
    "dynamic_alg(20)"
   ]
  },
  {
   "cell_type": "code",
   "execution_count": 18,
   "metadata": {},
   "outputs": [
    {
     "name": "stdout",
     "output_type": "stream",
     "text": [
      "3.97 µs ± 29.7 ns per loop (mean ± std. dev. of 7 runs, 100000 loops each)\n"
     ]
    }
   ],
   "source": [
    "%%timeit\n",
    "dynamic_alg(20)"
   ]
  },
  {
   "cell_type": "markdown",
   "metadata": {},
   "source": [
    "#### в 1000 раз быстрее"
   ]
  },
  {
   "cell_type": "markdown",
   "metadata": {},
   "source": [
    "## O(n) 'О большое' нотация"
   ]
  },
  {
   "cell_type": "markdown",
   "metadata": {},
   "source": []
  }
 ],
 "metadata": {
  "kernelspec": {
   "display_name": "Python 3",
   "language": "python",
   "name": "python3"
  },
  "language_info": {
   "codemirror_mode": {
    "name": "ipython",
    "version": 3
   },
   "file_extension": ".py",
   "mimetype": "text/x-python",
   "name": "python",
   "nbconvert_exporter": "python",
   "pygments_lexer": "ipython3",
   "version": "3.8.3"
  }
 },
 "nbformat": 4,
 "nbformat_minor": 4
}
