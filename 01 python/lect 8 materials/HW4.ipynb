{
 "cells": [
  {
   "cell_type": "markdown",
   "metadata": {
    "id": "BHOQLR7A64Aq"
   },
   "source": [
    "# Python для анализа данных\n",
    "\n",
    "## ДЗ 4\n",
    "\n",
    "*Придумывал: Ян Пиле, НИУ ВШЭ*  "
   ]
  },
  {
   "cell_type": "markdown",
   "metadata": {
    "id": "moUrKElu64At"
   },
   "source": [
    "## Задача 1\n",
    "\n",
    "Дана страница https://ru.wikipedia.org/wiki/Премия_«Оскар»_за_лучший_фильм#Достижения_по_другим_номинациям_Оскара\n",
    "\n",
    "Используя удобные для вас модули Python (Например requests, bs4 и pandas, но можно и любые другие) сгрузить в удобную для вас структуру данных (например pandas-табличку) данные о номинантах и победителях премии Оскар за лучший фильм за всю историю существования премии. Заметьте, на страничке эта информация в нескольких таблицах. По данным ответьте на вопросы. P.S. Результат нужно именно посчитать, если на странице в явном виде указан ответ на вопрос, просто выгрузить этот ответ нельзя:\n",
    "\n",
    "    1. Сколько раз были номинированы фильмы, созданные при участии Стивена Спилберга?\n",
    "    2. Фильмы какой компании получили больше Оскаров за лучший фильм: Warner Bros. или Paramount Pictures и насколько больше?"
   ]
  },
  {
   "cell_type": "code",
   "execution_count": 1,
   "metadata": {
    "colab": {
     "base_uri": "https://localhost:8080/",
     "height": 1000
    },
    "id": "rEVg0EiY7DSJ",
    "outputId": "5b147981-7d67-499f-ba76-610c635d7abb"
   },
   "outputs": [],
   "source": [
    "import requests\n",
    "import pandas as pd\n",
    "from bs4 import BeautifulSoup\n",
    "import numpy as np\n"
   ]
  },
  {
   "cell_type": "code",
   "execution_count": 2,
   "metadata": {
    "colab": {
     "base_uri": "https://localhost:8080/",
     "height": 1000
    },
    "id": "AsFSKcREHZAz",
    "outputId": "43a72388-d417-4028-ed28-9eb62c86e07f"
   },
   "outputs": [],
   "source": [
    "text = requests.get('https://ru.wikipedia.org/wiki/%D0%9F%D1%80%D0%B5%D0%BC%D0%B8%D1%8F_%C2%AB%D0%9E%D1%81%D0%BA%D0%B0%D1%80%C2%BB_%D0%B7%D0%B0_%D0%BB%D1%83%D1%87%D1%88%D0%B8%D0%B9_%D1%84%D0%B8%D0%BB%D1%8C%D0%BC#%D0%94%D0%BE%D1%81%D1%82%D0%B8%D0%B6%D0%B5%D0%BD%D0%B8%D1%8F_%D0%BF%D0%BE_%D0%B4%D1%80%D1%83%D0%B3%D0%B8%D0%BC_%D0%BD%D0%BE%D0%BC%D0%B8%D0%BD%D0%B0%D1%86%D0%B8%D1%8F%D0%BC_%D0%9E%D1%81%D0%BA%D0%B0%D1%80%D0%B0')\n",
    "tree_new = BeautifulSoup(text.text, features='xml')\n",
    "table = tree_new.body.find_all('table', {'class':'wikitable'})\n",
    "\n",
    "df_sum = pd.DataFrame(columns=['year', 'film', 'company', 'producer', 'links'])\n",
    "# iterate over 10 tables for years\n",
    "for i_table in range(10):\n",
    "    df = pd.DataFrame(columns=['year', 'film', 'company', 'producer', 'links'])\n",
    "    onetable = table[i_table]\n",
    "    # iterate over all rows\n",
    "    for elem in onetable.tbody.find_all('tr'):\n",
    "\n",
    "            row_to_add = []\n",
    "            for columns in elem.find_all('td'):\n",
    "                row_to_add.append(columns.text.strip()) # add to a list all texts of a column\n",
    "            # deal with different column counts\n",
    "            if len(row_to_add) ==0:\n",
    "                row_to_add = ['','','','','']\n",
    "            elif len(row_to_add) == 3:\n",
    "                row_to_add = ['', *row_to_add, '']\n",
    "            elif len(row_to_add) == 1:\n",
    "                row_to_add = [*row_to_add, '','','','']\n",
    "            elif len(row_to_add) == 4:\n",
    "                row_to_add = ['',*row_to_add] \n",
    "\n",
    "            \n",
    "            # convert a row into a pd data frame\n",
    "            our_one_row = pd.DataFrame([row_to_add], columns=['year', 'film', 'company', 'producer', 'links'])\n",
    "            df = df.append(our_one_row) # add it to a temporary df\n",
    "\n",
    "\n",
    "    # reset index and remove firs row (there were headings)\n",
    "    df.reset_index(drop=True, inplace=True)\n",
    "    df.drop([0], inplace=True)\n",
    "    df_sum = df_sum.append(df)  # append it to big table\n",
    "df_sum.reset_index(drop=True, inplace=True)\n"
   ]
  },
  {
   "cell_type": "code",
   "execution_count": 3,
   "metadata": {},
   "outputs": [
    {
     "data": {
      "text/html": [
       "<div>\n",
       "<style scoped>\n",
       "    .dataframe tbody tr th:only-of-type {\n",
       "        vertical-align: middle;\n",
       "    }\n",
       "\n",
       "    .dataframe tbody tr th {\n",
       "        vertical-align: top;\n",
       "    }\n",
       "\n",
       "    .dataframe thead th {\n",
       "        text-align: right;\n",
       "    }\n",
       "</style>\n",
       "<table border=\"1\" class=\"dataframe\">\n",
       "  <thead>\n",
       "    <tr style=\"text-align: right;\">\n",
       "      <th></th>\n",
       "      <th>year</th>\n",
       "      <th>film</th>\n",
       "      <th>company</th>\n",
       "      <th>producer</th>\n",
       "      <th>links</th>\n",
       "    </tr>\n",
       "  </thead>\n",
       "  <tbody>\n",
       "    <tr>\n",
       "      <th>0</th>\n",
       "      <td>1929 (1-я)</td>\n",
       "      <td>★ «Крылья»</td>\n",
       "      <td>Paramount Pictures, Famous Players-Lasky</td>\n",
       "      <td>Люсьен Хаббард</td>\n",
       "      <td>[# 1]</td>\n",
       "    </tr>\n",
       "    <tr>\n",
       "      <th>1</th>\n",
       "      <td>1929 (1-я)</td>\n",
       "      <td>«Рэкет»</td>\n",
       "      <td>Caddo, Paramount</td>\n",
       "      <td>Говард Хьюз</td>\n",
       "      <td>[# 1]</td>\n",
       "    </tr>\n",
       "    <tr>\n",
       "      <th>2</th>\n",
       "      <td>1929 (1-я)</td>\n",
       "      <td>«Седьмое небо»</td>\n",
       "      <td>Fox Film Corporation</td>\n",
       "      <td>Уильям Фокс</td>\n",
       "      <td>[# 1]</td>\n",
       "    </tr>\n",
       "    <tr>\n",
       "      <th>3</th>\n",
       "      <td>1930-I (2-я)</td>\n",
       "      <td>★ «Бродвейская мелодия»</td>\n",
       "      <td>Metro-Goldwyn-Mayer</td>\n",
       "      <td>Ирвинг Талберг, Лоуренс Уэйнгартен</td>\n",
       "      <td>[# 2]</td>\n",
       "    </tr>\n",
       "    <tr>\n",
       "      <th>4</th>\n",
       "      <td>1930-I (2-я)</td>\n",
       "      <td>«Алиби»</td>\n",
       "      <td>Feature Productions, United Artists</td>\n",
       "      <td>Роланд Уэст</td>\n",
       "      <td>[# 2]</td>\n",
       "    </tr>\n",
       "    <tr>\n",
       "      <th>5</th>\n",
       "      <td>1930-I (2-я)</td>\n",
       "      <td>«Голливудское ревю 1929 года»</td>\n",
       "      <td>Metro-Goldwyn-Mayer</td>\n",
       "      <td>Гарри Рапф</td>\n",
       "      <td>[# 2]</td>\n",
       "    </tr>\n",
       "    <tr>\n",
       "      <th>6</th>\n",
       "      <td>1930-I (2-я)</td>\n",
       "      <td>«В старой Аризоне»</td>\n",
       "      <td>Fox Film Corporation</td>\n",
       "      <td>Уинфилд Шихэн</td>\n",
       "      <td>[# 2]</td>\n",
       "    </tr>\n",
       "    <tr>\n",
       "      <th>7</th>\n",
       "      <td>1930-I (2-я)</td>\n",
       "      <td>«Патриот»</td>\n",
       "      <td>Paramount Pictures</td>\n",
       "      <td>Эрнст Любич</td>\n",
       "      <td>[# 2]</td>\n",
       "    </tr>\n",
       "    <tr>\n",
       "      <th>8</th>\n",
       "      <td>1930-II (3-я)</td>\n",
       "      <td>★ «На западном фронте без перемен»</td>\n",
       "      <td>Universal</td>\n",
       "      <td>Карл Леммле-мл.</td>\n",
       "      <td>[# 3]</td>\n",
       "    </tr>\n",
       "    <tr>\n",
       "      <th>9</th>\n",
       "      <td>1930-II (3-я)</td>\n",
       "      <td>«Казённый дом»</td>\n",
       "      <td>Metro-Goldwyn-Mayer</td>\n",
       "      <td>Ирвинг Талберг</td>\n",
       "      <td>[# 3]</td>\n",
       "    </tr>\n",
       "    <tr>\n",
       "      <th>10</th>\n",
       "      <td>1930-II (3-я)</td>\n",
       "      <td>«Дизраэли»</td>\n",
       "      <td>Warner Bros.</td>\n",
       "      <td>Джек Уорнер, Дэррил Фрэнсис Занук</td>\n",
       "      <td>[# 3]</td>\n",
       "    </tr>\n",
       "    <tr>\n",
       "      <th>11</th>\n",
       "      <td>1930-II (3-я)</td>\n",
       "      <td>«Парад любви»</td>\n",
       "      <td>Paramount</td>\n",
       "      <td>Эрнст Любич</td>\n",
       "      <td>[# 3]</td>\n",
       "    </tr>\n",
       "    <tr>\n",
       "      <th>12</th>\n",
       "      <td>1930-II (3-я)</td>\n",
       "      <td>«Развод»</td>\n",
       "      <td>Metro-Goldwyn-Mayer</td>\n",
       "      <td>Роберт Леонард</td>\n",
       "      <td>[# 3]</td>\n",
       "    </tr>\n",
       "    <tr>\n",
       "      <th>13</th>\n",
       "      <td>1931 (4-я)</td>\n",
       "      <td>★ «Симаррон»</td>\n",
       "      <td>RKO Radio Pictures</td>\n",
       "      <td>Уильям Лебарон</td>\n",
       "      <td>[# 4]</td>\n",
       "    </tr>\n",
       "    <tr>\n",
       "      <th>14</th>\n",
       "      <td>1931 (4-я)</td>\n",
       "      <td>«Ист Линн»</td>\n",
       "      <td>Fox Film Corporation</td>\n",
       "      <td>Уинфилд Шихэн</td>\n",
       "      <td>[# 4]</td>\n",
       "    </tr>\n",
       "    <tr>\n",
       "      <th>15</th>\n",
       "      <td>1931 (4-я)</td>\n",
       "      <td>«Первая полоса»</td>\n",
       "      <td>Caddo, United Artists</td>\n",
       "      <td>Говард Хьюз</td>\n",
       "      <td>[# 4]</td>\n",
       "    </tr>\n",
       "    <tr>\n",
       "      <th>16</th>\n",
       "      <td>1931 (4-я)</td>\n",
       "      <td>«Скиппи»</td>\n",
       "      <td>Paramount</td>\n",
       "      <td>Адольф Цукор</td>\n",
       "      <td>[# 4]</td>\n",
       "    </tr>\n",
       "    <tr>\n",
       "      <th>17</th>\n",
       "      <td>1931 (4-я)</td>\n",
       "      <td>«Рожок торговца»</td>\n",
       "      <td>Metro-Goldwyn-Mayer</td>\n",
       "      <td>Ирвинг Талберг</td>\n",
       "      <td>[# 4]</td>\n",
       "    </tr>\n",
       "    <tr>\n",
       "      <th>18</th>\n",
       "      <td>1932 (5-я)</td>\n",
       "      <td>★ «Гранд-отель»</td>\n",
       "      <td>Metro-Goldwyn-Mayer</td>\n",
       "      <td>Ирвинг Тальберг</td>\n",
       "      <td>[# 5]</td>\n",
       "    </tr>\n",
       "    <tr>\n",
       "      <th>19</th>\n",
       "      <td>1932 (5-я)</td>\n",
       "      <td>«Эрроусмит»</td>\n",
       "      <td>Goldwyn, United Artists</td>\n",
       "      <td>Сэмюэл Голдвин</td>\n",
       "      <td>[# 5]</td>\n",
       "    </tr>\n",
       "  </tbody>\n",
       "</table>\n",
       "</div>"
      ],
      "text/plain": [
       "             year                                film  \\\n",
       "0      1929 (1-я)                          ★ «Крылья»   \n",
       "1      1929 (1-я)                             «Рэкет»   \n",
       "2      1929 (1-я)                      «Седьмое небо»   \n",
       "3    1930-I (2-я)             ★ «Бродвейская мелодия»   \n",
       "4    1930-I (2-я)                             «Алиби»   \n",
       "5    1930-I (2-я)       «Голливудское ревю 1929 года»   \n",
       "6    1930-I (2-я)                  «В старой Аризоне»   \n",
       "7    1930-I (2-я)                           «Патриот»   \n",
       "8   1930-II (3-я)  ★ «На западном фронте без перемен»   \n",
       "9   1930-II (3-я)                      «Казённый дом»   \n",
       "10  1930-II (3-я)                          «Дизраэли»   \n",
       "11  1930-II (3-я)                       «Парад любви»   \n",
       "12  1930-II (3-я)                            «Развод»   \n",
       "13     1931 (4-я)                        ★ «Симаррон»   \n",
       "14     1931 (4-я)                          «Ист Линн»   \n",
       "15     1931 (4-я)                     «Первая полоса»   \n",
       "16     1931 (4-я)                            «Скиппи»   \n",
       "17     1931 (4-я)                    «Рожок торговца»   \n",
       "18     1932 (5-я)                     ★ «Гранд-отель»   \n",
       "19     1932 (5-я)                         «Эрроусмит»   \n",
       "\n",
       "                                     company  \\\n",
       "0   Paramount Pictures, Famous Players-Lasky   \n",
       "1                           Caddo, Paramount   \n",
       "2                       Fox Film Corporation   \n",
       "3                        Metro-Goldwyn-Mayer   \n",
       "4        Feature Productions, United Artists   \n",
       "5                        Metro-Goldwyn-Mayer   \n",
       "6                       Fox Film Corporation   \n",
       "7                         Paramount Pictures   \n",
       "8                                  Universal   \n",
       "9                        Metro-Goldwyn-Mayer   \n",
       "10                              Warner Bros.   \n",
       "11                                 Paramount   \n",
       "12                       Metro-Goldwyn-Mayer   \n",
       "13                        RKO Radio Pictures   \n",
       "14                      Fox Film Corporation   \n",
       "15                     Caddo, United Artists   \n",
       "16                                 Paramount   \n",
       "17                       Metro-Goldwyn-Mayer   \n",
       "18                       Metro-Goldwyn-Mayer   \n",
       "19                   Goldwyn, United Artists   \n",
       "\n",
       "                              producer  links  \n",
       "0                       Люсьен Хаббард  [# 1]  \n",
       "1                          Говард Хьюз  [# 1]  \n",
       "2                          Уильям Фокс  [# 1]  \n",
       "3   Ирвинг Талберг, Лоуренс Уэйнгартен  [# 2]  \n",
       "4                          Роланд Уэст  [# 2]  \n",
       "5                           Гарри Рапф  [# 2]  \n",
       "6                        Уинфилд Шихэн  [# 2]  \n",
       "7                          Эрнст Любич  [# 2]  \n",
       "8                      Карл Леммле-мл.  [# 3]  \n",
       "9                       Ирвинг Талберг  [# 3]  \n",
       "10   Джек Уорнер, Дэррил Фрэнсис Занук  [# 3]  \n",
       "11                         Эрнст Любич  [# 3]  \n",
       "12                      Роберт Леонард  [# 3]  \n",
       "13                      Уильям Лебарон  [# 4]  \n",
       "14                       Уинфилд Шихэн  [# 4]  \n",
       "15                         Говард Хьюз  [# 4]  \n",
       "16                        Адольф Цукор  [# 4]  \n",
       "17                      Ирвинг Талберг  [# 4]  \n",
       "18                     Ирвинг Тальберг  [# 5]  \n",
       "19                      Сэмюэл Голдвин  [# 5]  "
      ]
     },
     "execution_count": 3,
     "metadata": {},
     "output_type": "execute_result"
    }
   ],
   "source": [
    "df_sum.year[df_sum['year']==\"\"] = np.NaN\n",
    "df_sum.links[df_sum['links']==\"\"] = np.NaN\n",
    "\n",
    "df_sum = df_sum.fillna(method='ffill')\n",
    "\n",
    "df_sum.head(20)\n"
   ]
  },
  {
   "cell_type": "code",
   "execution_count": 4,
   "metadata": {},
   "outputs": [
    {
     "data": {
      "text/html": [
       "<div>\n",
       "<style scoped>\n",
       "    .dataframe tbody tr th:only-of-type {\n",
       "        vertical-align: middle;\n",
       "    }\n",
       "\n",
       "    .dataframe tbody tr th {\n",
       "        vertical-align: top;\n",
       "    }\n",
       "\n",
       "    .dataframe thead th {\n",
       "        text-align: right;\n",
       "    }\n",
       "</style>\n",
       "<table border=\"1\" class=\"dataframe\">\n",
       "  <thead>\n",
       "    <tr style=\"text-align: right;\">\n",
       "      <th></th>\n",
       "      <th>year</th>\n",
       "      <th>film</th>\n",
       "      <th>company</th>\n",
       "      <th>producer</th>\n",
       "      <th>links</th>\n",
       "    </tr>\n",
       "  </thead>\n",
       "  <tbody>\n",
       "    <tr>\n",
       "      <th>559</th>\n",
       "      <td>2020 (92-я)</td>\n",
       "      <td>«Джокер»</td>\n",
       "      <td></td>\n",
       "      <td>Тодд Филлипс, Брэдли Купер и Эмма Тиллинджер К...</td>\n",
       "      <td>[# 87]</td>\n",
       "    </tr>\n",
       "    <tr>\n",
       "      <th>560</th>\n",
       "      <td>2020 (92-я)</td>\n",
       "      <td>«Маленькие женщины»</td>\n",
       "      <td></td>\n",
       "      <td>Эми Паскаль</td>\n",
       "      <td>[# 87]</td>\n",
       "    </tr>\n",
       "    <tr>\n",
       "      <th>561</th>\n",
       "      <td>2020 (92-я)</td>\n",
       "      <td>«Брачная история»</td>\n",
       "      <td></td>\n",
       "      <td>Ноа Баумбах и Дэвид Хейман</td>\n",
       "      <td>[# 87]</td>\n",
       "    </tr>\n",
       "    <tr>\n",
       "      <th>562</th>\n",
       "      <td>2020 (92-я)</td>\n",
       "      <td>«1917»</td>\n",
       "      <td></td>\n",
       "      <td>Сэм Мендес, Пиппа Харрис, Джейн‑Энн Тенггрен и...</td>\n",
       "      <td>[# 87]</td>\n",
       "    </tr>\n",
       "    <tr>\n",
       "      <th>563</th>\n",
       "      <td>2020 (92-я)</td>\n",
       "      <td>«Однажды в Голливуде»</td>\n",
       "      <td></td>\n",
       "      <td>Дэвид Хейман, Шеннон Макинтош и Квентин Тарантино</td>\n",
       "      <td>[# 87]</td>\n",
       "    </tr>\n",
       "  </tbody>\n",
       "</table>\n",
       "</div>"
      ],
      "text/plain": [
       "            year                   film company  \\\n",
       "559  2020 (92-я)               «Джокер»           \n",
       "560  2020 (92-я)    «Маленькие женщины»           \n",
       "561  2020 (92-я)      «Брачная история»           \n",
       "562  2020 (92-я)                 «1917»           \n",
       "563  2020 (92-я)  «Однажды в Голливуде»           \n",
       "\n",
       "                                              producer   links  \n",
       "559  Тодд Филлипс, Брэдли Купер и Эмма Тиллинджер К...  [# 87]  \n",
       "560                                        Эми Паскаль  [# 87]  \n",
       "561                         Ноа Баумбах и Дэвид Хейман  [# 87]  \n",
       "562  Сэм Мендес, Пиппа Харрис, Джейн‑Энн Тенггрен и...  [# 87]  \n",
       "563  Дэвид Хейман, Шеннон Макинтош и Квентин Тарантино  [# 87]  "
      ]
     },
     "execution_count": 4,
     "metadata": {},
     "output_type": "execute_result"
    }
   ],
   "source": [
    "df_sum.tail()"
   ]
  },
  {
   "cell_type": "markdown",
   "metadata": {},
   "source": [
    "### Сколько было Спилберга?"
   ]
  },
  {
   "cell_type": "code",
   "execution_count": 5,
   "metadata": {},
   "outputs": [],
   "source": [
    "def comma_and_split(input_text):\n",
    "    \"\"\"this functions splits names of producers and returns a list of names\"\"\"\n",
    "    input_text = input_text.replace('\\xa0', ' ')\n",
    "    result = []\n",
    "    for elements in input_text.split(', '):\n",
    "        for k in elements.split(' и '):\n",
    "            result.append(k)\n",
    "    return(result)\n"
   ]
  },
  {
   "cell_type": "code",
   "execution_count": 6,
   "metadata": {},
   "outputs": [
    {
     "name": "stdout",
     "output_type": "stream",
     "text": [
      "Стивен Спилберг был продюсером фильмов, которые номинировались  10 раз\n"
     ]
    }
   ],
   "source": [
    "producer_count = {}\n",
    "for row in df_sum.itertuples():\n",
    "    all_prods = comma_and_split(row.producer)\n",
    "    for one_producer in all_prods:\n",
    "        producer_count[one_producer] = producer_count.get(one_producer, 0) + 1\n",
    "        \n",
    "# print(producer_count)\n",
    "print('Стивен Спилберг был продюсером фильмов, которые номинировались ', producer_count['Стивен Спилберг'], 'раз')"
   ]
  },
  {
   "cell_type": "markdown",
   "metadata": {},
   "source": [
    "### Warner vs Paramount"
   ]
  },
  {
   "cell_type": "code",
   "execution_count": 7,
   "metadata": {},
   "outputs": [
    {
     "name": "stdout",
     "output_type": "stream",
     "text": [
      "Warner Bros. издали 10 фильмов, которые выиграли Оскар\n",
      "Paramount Pictures издали 9 фильмов, которые выиграли Оскар\n",
      "\n",
      "Но, если считать название Paramount и дочернюю компанию Paramount Vantage, суммарно -  12 фильмов\n",
      "Что на 2 больше, чем у Warner Bros.\n"
     ]
    }
   ],
   "source": [
    "companies_oscar ={}\n",
    "\n",
    "# проходим по всем строкам df\n",
    "# если есть звездочка в названии фильма - то собираем разбитые по , и \"и\" названии компаний\n",
    "for row in df_sum.itertuples():\n",
    "    if row.film.find('★') != -1:\n",
    "        all_companies = comma_and_split(row.company)\n",
    "        for one_company in all_companies:\n",
    "            companies_oscar[one_company] = companies_oscar.get(one_company, 0) + 1\n",
    "\n",
    "# for k, v in companies_oscar.items():\n",
    "#     print(k, v)\n",
    "\n",
    "# выводим значениям из словаря\n",
    "\n",
    "print('Warner Bros. издали', companies_oscar['Warner Bros.'], 'фильмов, которые выиграли Оскар')\n",
    "print('Paramount Pictures издали', companies_oscar['Paramount Pictures'], 'фильмов, которые выиграли Оскар')\n",
    "print()\n",
    "all_paramount = companies_oscar['Paramount Pictures'] + companies_oscar['Paramount'] + companies_oscar['Paramount Vantage']\n",
    "print('Но, если считать название Paramount и дочернюю компанию Paramount Vantage, суммарно - ', all_paramount, 'фильмов')\n",
    "print('Что на', all_paramount - companies_oscar['Warner Bros.'], 'больше, чем у Warner Bros.')\n"
   ]
  },
  {
   "cell_type": "markdown",
   "metadata": {
    "id": "8GTgQUrS64A7"
   },
   "source": [
    "## Задача 2\n",
    "\n",
    "Дана страница https://ru.wikipedia.org/wiki/Премия_«Оскар»_за_лучшую_женскую_роль\n",
    "\n",
    "Используя удобные для вас модули Python (Например requests, bs4 и pandas, но можно и любые другие) сгрузить в удобную для вас структуру данных (например pandas-табличку) данные о номинантах и победителях премии Оскар за лучшую женскую роль за всю историю существования премии. Заметьте, на страничке эта информация в нескольких таблицах. По данным ответьте на вопросы. P.S. Результат нужно именно посчитать, если на странице в явном виде указан ответ на вопрос, просто выгрузить этот ответ нельзя:\n",
    "\n",
    "    1. Какая актриса чаще всего номинировалась на Оскар?\n",
    "    2. Насколько отличается количество номинаций самой часто номинировавшейся актрисы и второй по частоте?"
   ]
  },
  {
   "cell_type": "markdown",
   "metadata": {
    "id": "5fiOw4ki64BD"
   },
   "source": [
    "## Задача 3\n",
    "\n",
    "Дана страница https://www.worldometers.info/world-population/world-population-by-year/\n",
    "\n",
    "На ней представлены данные о росте численности населения Земли. Используя удобные для вас модули Python (Например requests, bs4 и pandas, но можно и любые другие) сгрузить в удобную для вас структуру данных (например pandas-табличку) необходимые данные и нарисовать графики ежегодного прироста городского населения и ежегодного прироста общего населения, начиная с 1951 года. Если вы сгрузили данные в pandas-dataframe, графики можно построить так:"
   ]
  },
  {
   "cell_type": "code",
   "execution_count": 8,
   "metadata": {
    "id": "gvc7vLCc64BE",
    "outputId": "ce285e38-e8f5-48ba-8bc9-b9cf34762da8"
   },
   "outputs": [
    {
     "data": {
      "text/html": [
       "<div>\n",
       "<style scoped>\n",
       "    .dataframe tbody tr th:only-of-type {\n",
       "        vertical-align: middle;\n",
       "    }\n",
       "\n",
       "    .dataframe tbody tr th {\n",
       "        vertical-align: top;\n",
       "    }\n",
       "\n",
       "    .dataframe thead th {\n",
       "        text-align: right;\n",
       "    }\n",
       "</style>\n",
       "<table border=\"1\" class=\"dataframe\">\n",
       "  <thead>\n",
       "    <tr style=\"text-align: right;\">\n",
       "      <th></th>\n",
       "      <th>dt</th>\n",
       "      <th>value</th>\n",
       "    </tr>\n",
       "  </thead>\n",
       "  <tbody>\n",
       "    <tr>\n",
       "      <th>0</th>\n",
       "      <td>2020-01-01</td>\n",
       "      <td>1233</td>\n",
       "    </tr>\n",
       "    <tr>\n",
       "      <th>1</th>\n",
       "      <td>2020-02-01</td>\n",
       "      <td>23142</td>\n",
       "    </tr>\n",
       "    <tr>\n",
       "      <th>2</th>\n",
       "      <td>2020-03-01</td>\n",
       "      <td>11445</td>\n",
       "    </tr>\n",
       "    <tr>\n",
       "      <th>3</th>\n",
       "      <td>2020-04-01</td>\n",
       "      <td>32555</td>\n",
       "    </tr>\n",
       "    <tr>\n",
       "      <th>4</th>\n",
       "      <td>2020-05-01</td>\n",
       "      <td>22234</td>\n",
       "    </tr>\n",
       "  </tbody>\n",
       "</table>\n",
       "</div>"
      ],
      "text/plain": [
       "           dt  value\n",
       "0  2020-01-01   1233\n",
       "1  2020-02-01  23142\n",
       "2  2020-03-01  11445\n",
       "3  2020-04-01  32555\n",
       "4  2020-05-01  22234"
      ]
     },
     "execution_count": 8,
     "metadata": {},
     "output_type": "execute_result"
    }
   ],
   "source": [
    "import pandas as pd\n",
    "data = {'dt':['2020-01-01','2020-02-01','2020-03-01','2020-04-01','2020-05-01'],\n",
    "'value':[1233, 23142,11445,32555,22234]}\n",
    "df = pd.DataFrame(data)\n",
    "df"
   ]
  },
  {
   "cell_type": "code",
   "execution_count": 9,
   "metadata": {
    "id": "-qZgf-4764BP",
    "outputId": "11fef2cd-aecb-415a-9d21-7d5408020267"
   },
   "outputs": [
    {
     "data": {
      "image/png": "[encoded data removed]",
      "text/plain": [
       "<Figure size 432x288 with 1 Axes>"
      ]
     },
     "metadata": {
      "needs_background": "light"
     },
     "output_type": "display_data"
    }
   ],
   "source": [
    "p = df.plot(x='dt', y='value')"
   ]
  },
  {
   "cell_type": "code",
   "execution_count": null,
   "metadata": {
    "id": "oPJMbOj064BY"
   },
   "outputs": [],
   "source": []
  }
 ],
 "metadata": {
  "colab": {
   "name": "HW4.ipynb",
   "provenance": []
  },
  "kernelspec": {
   "display_name": "Python 3",
   "language": "python",
   "name": "python3"
  },
  "language_info": {
   "codemirror_mode": {
    "name": "ipython",
    "version": 3
   },
   "file_extension": ".py",
   "mimetype": "text/x-python",
   "name": "python",
   "nbconvert_exporter": "python",
   "pygments_lexer": "ipython3",
   "version": "3.8.3"
  }
 },
 "nbformat": 4,
 "nbformat_minor": 1
}
