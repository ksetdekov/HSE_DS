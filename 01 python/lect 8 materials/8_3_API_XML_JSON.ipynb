{
  "nbformat": 4,
  "nbformat_minor": 0,
  "metadata": {
    "kernelspec": {
      "display_name": "Python 3",
      "language": "python",
      "name": "python3"
    },
    "language_info": {
      "codemirror_mode": {
        "name": "ipython",
        "version": 3
      },
      "file_extension": ".py",
      "mimetype": "text/x-python",
      "name": "python",
      "nbconvert_exporter": "python",
      "pygments_lexer": "ipython3",
      "version": "3.6.5"
    },
    "colab": {
      "name": "8_3_API_XML_JSON.ipynb",
      "provenance": [],
      "collapsed_sections": [
        "X37AqsEOvI6u"
      ]
    }
  },
  "cells": [
    {
      "cell_type": "markdown",
      "metadata": {
        "id": "UBNXL9zAvI1z"
      },
      "source": [
        "# Python для анализа данных\n",
        "\n",
        "## Использование API. Работа с форматами XML и JSON\n",
        "\n",
        "*На основе лекции Ильи Щурова, НИУ ВШЭ*  \n",
        "*Дополнения: Татьяна Рогович, НИУ ВШЭ*  \n"
      ]
    },
    {
      "cell_type": "markdown",
      "metadata": {
        "id": "RI1rHDzQvI12"
      },
      "source": [
        "# XML"
      ]
    },
    {
      "cell_type": "markdown",
      "metadata": {
        "id": "dkobPLOOvI13"
      },
      "source": [
        "До этого мы с вами собирали данные вручную, обращаясь к html страницам, размеченным для отображения в браузере. Но данные также можно собирать и через API -  — application program interface. Обычный интерфейс — это способ взаимодействия человека с программой, а API — одной программы с другой. Например, вашего скрипта на Python с удалённым веб-сервером. \n",
        "\n",
        "Для хранения веб-страниц, которые читают люди, используется язык HTML. Для хранения произвольных структурированных данных, которыми обмениваются между собой программы, используются другие языки — в частности, язык XML, похожий на HTML. Вернее было бы сказать, что XML это метаязык, то есть способ описания языков. В отличие от HTML, набор тегов в XML-документе может быть произвольным (и определяется разработчиком конкретного диалекта XML). Например, если бы мы хотели описать в виде XML некоторую студенческую группу, это могло бы выглядеть так:\n",
        "\n",
        "```xml\n",
        "<group>\n",
        "    <number>134</number>\n",
        "    <student>\n",
        "        <firstname>Виталий</firstname>\n",
        "        <lastname>Иванов</lastname>\n",
        "    </student>\n",
        "    <student>\n",
        "        <firstname>Мария</firstname>\n",
        "        <lastname>Петрова</lastname>\n",
        "    </student>\n",
        "</group>\n",
        "```"
      ]
    },
    {
      "cell_type": "markdown",
      "metadata": {
        "id": "11tBfZQivI15"
      },
      "source": [
        "Для обработки XML-файлов можно использовать тот же пакет *Beautiful Soup*, который мы уже использовали для работы с HTML. Единственное различие — нужно указать дополнительный параметр `feautres=\"xml\"` при вызове функции `BeautifulSoup` — чтобы он не искал в документе HTML-теги."
      ]
    },
    {
      "cell_type": "code",
      "metadata": {
        "id": "iVQf5ik2vI17"
      },
      "source": [
        "group = \"\"\"<group>\n",
        "<number>134</number>\n",
        "<student>\n",
        "<firstname>Виталий</firstname>\n",
        "<lastname>Иванов</lastname>\n",
        "</student>\n",
        "<student>\n",
        "<firstname>Мария</firstname>\n",
        "<lastname>Петрова</lastname>\n",
        "</student>\n",
        "</group>\"\"\""
      ],
      "execution_count": null,
      "outputs": []
    },
    {
      "cell_type": "code",
      "metadata": {
        "id": "2fkE6VJ2vI2H",
        "outputId": "406619e8-f34c-4e4e-aa1d-6de6ebda41bc",
        "colab": {
          "base_uri": "https://localhost:8080/",
          "height": 386
        }
      },
      "source": [
        "from bs4 import BeautifulSoup\n",
        "\n",
        "obj = BeautifulSoup(group, features=\"xml\")\n",
        "print(obj.prettify())"
      ],
      "execution_count": null,
      "outputs": [
        {
          "output_type": "stream",
          "text": [
            "<?xml version=\"1.0\" encoding=\"utf-8\"?>\n",
            "<group>\n",
            " <number>\n",
            "  134\n",
            " </number>\n",
            " <student>\n",
            "  <firstname>\n",
            "   Виталий\n",
            "  </firstname>\n",
            "  <lastname>\n",
            "   Иванов\n",
            "  </lastname>\n",
            " </student>\n",
            " <student>\n",
            "  <firstname>\n",
            "   Мария\n",
            "  </firstname>\n",
            "  <lastname>\n",
            "   Петрова\n",
            "  </lastname>\n",
            " </student>\n",
            "</group>\n"
          ],
          "name": "stdout"
        }
      ]
    },
    {
      "cell_type": "markdown",
      "metadata": {
        "id": "ox-GKIcCvI2P"
      },
      "source": [
        "Номер группы можно найти, например, вот так - для каждого объекта через точку указываем его атрибут, в который надо спуститься. "
      ]
    },
    {
      "cell_type": "code",
      "metadata": {
        "id": "ODvTPSO5vI2R",
        "outputId": "f945cd31-8533-4f2c-f50c-1b5d8999e74d",
        "colab": {
          "base_uri": "https://localhost:8080/",
          "height": 35
        }
      },
      "source": [
        "obj.group.number.text # последний атрибут текст, точно также как делали в html"
      ],
      "execution_count": null,
      "outputs": [
        {
          "output_type": "execute_result",
          "data": {
            "application/vnd.google.colaboratory.intrinsic+json": {
              "type": "string"
            },
            "text/plain": [
              "'134'"
            ]
          },
          "metadata": {
            "tags": []
          },
          "execution_count": 3
        }
      ]
    },
    {
      "cell_type": "markdown",
      "metadata": {
        "id": "wxYOsBFHvI2b"
      },
      "source": [
        "Но это работает только тогда, когда тэг уникальный. В других случаях, парсер всегда будет попадать в первый child-тэг, который он встретил по пути вниз."
      ]
    },
    {
      "cell_type": "code",
      "metadata": {
        "id": "sTP2s-SvvI2c",
        "outputId": "d1452833-4448-4a49-f4a5-896ee0497450",
        "colab": {
          "base_uri": "https://localhost:8080/",
          "height": 35
        }
      },
      "source": [
        "obj.group.student.lastname.text # до Петровой так не добраться"
      ],
      "execution_count": null,
      "outputs": [
        {
          "output_type": "execute_result",
          "data": {
            "application/vnd.google.colaboratory.intrinsic+json": {
              "type": "string"
            },
            "text/plain": [
              "'Иванов'"
            ]
          },
          "metadata": {
            "tags": []
          },
          "execution_count": 4
        }
      ]
    },
    {
      "cell_type": "markdown",
      "metadata": {
        "id": "A64i4FccvI2l"
      },
      "source": [
        "Перечислить всех студентов можно с помощью цикла (похожая структура у нас была и в обработке html)."
      ]
    },
    {
      "cell_type": "code",
      "metadata": {
        "id": "U3LrXiE6vI2n",
        "outputId": "389ced56-321f-492e-8cce-cb4c233f64f0",
        "colab": {
          "base_uri": "https://localhost:8080/",
          "height": 50
        }
      },
      "source": [
        "for student in obj.group.find_all('student'):\n",
        "    print(student.lastname.text, student.firstname.text)"
      ],
      "execution_count": null,
      "outputs": [
        {
          "output_type": "stream",
          "text": [
            "Иванов Виталий\n",
            "Петрова Мария\n"
          ],
          "name": "stdout"
        }
      ]
    },
    {
      "cell_type": "markdown",
      "metadata": {
        "id": "BnKcJxKTvI2v"
      },
      "source": [
        "По сути, главное отличие xml от html, что работать вы будете не со стандартизированными структурами. Поэтому перед работой придется поиграть в детективов - запросить данные и внимательно изучить расположение узлов, чтобы понять, какие тэги вас интересуют.\n",
        "\n",
        "XML легко представить в виде дерева, где есть главный узел (parent) и его \"дети\".\n",
        "\n",
        "![](data:image/svg+xml;base64,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)  \n",
        "*Источник: Python for Everybody, C.Severance*"
      ]
    },
    {
      "cell_type": "markdown",
      "metadata": {
        "id": "6tyksBKzvI2x"
      },
      "source": [
        "Кроме BS парсить xml можно и с помощью других библиотек. Например, ElementTree.\n"
      ]
    },
    {
      "cell_type": "code",
      "metadata": {
        "id": "H6CL7up8vI2y"
      },
      "source": [
        "import xml.etree.ElementTree as ET\n"
      ],
      "execution_count": null,
      "outputs": []
    },
    {
      "cell_type": "code",
      "metadata": {
        "id": "cO6yslWevI2_",
        "outputId": "4a64ed40-cc74-4f44-be04-d3b016ffe9b1",
        "colab": {
          "base_uri": "https://localhost:8080/",
          "height": 67
        }
      },
      "source": [
        "tree = ET.fromstring(group)\n",
        "list(tree) # посмотрим, что внутри"
      ],
      "execution_count": null,
      "outputs": [
        {
          "output_type": "execute_result",
          "data": {
            "text/plain": [
              "[<Element 'number' at 0x7f3b35943d68>,\n",
              " <Element 'student' at 0x7f3b35943db8>,\n",
              " <Element 'student' at 0x7f3b35943ef8>]"
            ]
          },
          "metadata": {
            "tags": []
          },
          "execution_count": 7
        }
      ]
    },
    {
      "cell_type": "markdown",
      "metadata": {
        "id": "klz8L4HBvI3I"
      },
      "source": [
        "Cинтаксис очень похож на BS. Добрались до первой фамилии."
      ]
    },
    {
      "cell_type": "code",
      "metadata": {
        "id": "XCrfx5ubvI3J",
        "outputId": "56785a9f-12fe-4282-ad57-9be5f6a8348a",
        "colab": {
          "base_uri": "https://localhost:8080/",
          "height": 35
        }
      },
      "source": [
        "tree.find('student').find('lastname').text"
      ],
      "execution_count": null,
      "outputs": [
        {
          "output_type": "execute_result",
          "data": {
            "application/vnd.google.colaboratory.intrinsic+json": {
              "type": "string"
            },
            "text/plain": [
              "'Иванов'"
            ]
          },
          "metadata": {
            "tags": []
          },
          "execution_count": 8
        }
      ]
    },
    {
      "cell_type": "code",
      "metadata": {
        "id": "eP-Xv8PBvI3Q",
        "outputId": "68635009-b9f1-48cd-b7af-28f264fd771e",
        "colab": {
          "base_uri": "https://localhost:8080/",
          "height": 50
        }
      },
      "source": [
        "for element in tree.findall('student'):\n",
        "    print(element.find('lastname').text)"
      ],
      "execution_count": null,
      "outputs": [
        {
          "output_type": "stream",
          "text": [
            "Иванов\n",
            "Петрова\n"
          ],
          "name": "stdout"
        }
      ]
    },
    {
      "cell_type": "markdown",
      "metadata": {
        "id": "QT_tnhJvvI3Y"
      },
      "source": [
        "Можно немного упростить код, включив дочерний тэг в findall."
      ]
    },
    {
      "cell_type": "code",
      "metadata": {
        "id": "cD9CFmI9vI3a",
        "outputId": "64dcaec1-496c-4c56-c594-a70884d5cef9",
        "colab": {
          "base_uri": "https://localhost:8080/",
          "height": 50
        }
      },
      "source": [
        "for element in tree.findall('student/lastname'):\n",
        "    print(element.text)"
      ],
      "execution_count": null,
      "outputs": [
        {
          "output_type": "stream",
          "text": [
            "Иванов\n",
            "Петрова\n"
          ],
          "name": "stdout"
        }
      ]
    },
    {
      "cell_type": "markdown",
      "metadata": {
        "id": "eHILjB-cvI3i"
      },
      "source": [
        "# Задача\n",
        "По ссылке данные в формате xml.\n",
        "http://py4e-data.dr-chuck.net/comments_42.xml\n",
        "\n",
        "Посчитайте все комментарии в этом документе (поля count)."
      ]
    },
    {
      "cell_type": "code",
      "metadata": {
        "id": "4crjqS9KvYtE",
        "outputId": "7c7c1962-3468-4a7c-9d3c-9327b40a1f50",
        "colab": {
          "base_uri": "https://localhost:8080/",
          "height": 187
        }
      },
      "source": [
        "import requests\n",
        "text = requests.get('http://py4e-data.dr-chuck.net/comments_42.xml').text\n",
        "text"
      ],
      "execution_count": null,
      "outputs": [
        {
          "output_type": "execute_result",
          "data": {
            "application/vnd.google.colaboratory.intrinsic+json": {
              "type": "string"
            },
            "text/plain": [
              "'<?xml version=\"1.0\" encoding=\"UTF-8\"?>\\n<commentinfo>\\n  <note>This file contains the sample data for testing</note>\\n\\n  <comments>\\n    <comment>\\n       <name>Romina</name>\\n       <count>97</count>\\n    </comment>\\n    <comment>\\n       <name>Laurie</name>\\n       <count>97</count>\\n    </comment>\\n    <comment>\\n       <name>Bayli</name>\\n       <count>90</count>\\n    </comment>\\n    <comment>\\n       <name>Siyona</name>\\n       <count>90</count>\\n    </comment>\\n    <comment>\\n       <name>Taisha</name>\\n       <count>88</count>\\n    </comment>\\n    <comment>\\n       <name>Alanda</name>\\n       <count>87</count>\\n    </comment>\\n    <comment>\\n       <name>Ameelia</name>\\n       <count>87</count>\\n    </comment>\\n    <comment>\\n       <name>Prasheeta</name>\\n       <count>80</count>\\n    </comment>\\n    <comment>\\n       <name>Asif</name>\\n       <count>79</count>\\n    </comment>\\n    <comment>\\n       <name>Risa</name>\\n       <count>79</count>\\n    </comment>\\n    <comment>\\n       <name>Zi</name>\\n       <count>78</count>\\n    </comment>\\n    <comment>\\n       <name>Danyil</name>\\n       <count>76</count>\\n    </comment>\\n    <comment>\\n       <name>Ediomi</name>\\n       <count>76</count>\\n    </comment>\\n    <comment>\\n       <name>Barry</name>\\n       <count>72</count>\\n    </comment>\\n    <comment>\\n       <name>Lance</name>\\n       <count>72</count>\\n    </comment>\\n    <comment>\\n       <name>Hattie</name>\\n       <count>66</count>\\n    </comment>\\n    <comment>\\n       <name>Mathu</name>\\n       <count>66</count>\\n    </comment>\\n    <comment>\\n       <name>Bowie</name>\\n       <count>65</count>\\n    </comment>\\n    <comment>\\n       <name>Samara</name>\\n       <count>65</count>\\n    </comment>\\n    <comment>\\n       <name>Uchenna</name>\\n       <count>64</count>\\n    </comment>\\n    <comment>\\n       <name>Shauni</name>\\n       <count>61</count>\\n    </comment>\\n    <comment>\\n       <name>Georgia</name>\\n       <count>61</count>\\n    </comment>\\n    <comment>\\n       <name>Rivan</name>\\n       <count>59</count>\\n    </comment>\\n    <comment>\\n       <name>Kenan</name>\\n       <count>58</count>\\n    </comment>\\n    <comment>\\n       <name>Hassan</name>\\n       <count>57</count>\\n    </comment>\\n    <comment>\\n       <name>Isma</name>\\n       <count>57</count>\\n    </comment>\\n    <comment>\\n       <name>Samanthalee</name>\\n       <count>54</count>\\n    </comment>\\n    <comment>\\n       <name>Alexa</name>\\n       <count>51</count>\\n    </comment>\\n    <comment>\\n       <name>Caine</name>\\n       <count>49</count>\\n    </comment>\\n    <comment>\\n       <name>Grady</name>\\n       <count>47</count>\\n    </comment>\\n    <comment>\\n       <name>Anne</name>\\n       <count>40</count>\\n    </comment>\\n    <comment>\\n       <name>Rihan</name>\\n       <count>38</count>\\n    </comment>\\n    <comment>\\n       <name>Alexei</name>\\n       <count>37</count>\\n    </comment>\\n    <comment>\\n       <name>Indie</name>\\n       <count>36</count>\\n    </comment>\\n    <comment>\\n       <name>Rhuairidh</name>\\n       <count>36</count>\\n    </comment>\\n    <comment>\\n       <name>Annoushka</name>\\n       <count>32</count>\\n    </comment>\\n    <comment>\\n       <name>Kenzi</name>\\n       <count>25</count>\\n    </comment>\\n    <comment>\\n       <name>Shahd</name>\\n       <count>24</count>\\n    </comment>\\n    <comment>\\n       <name>Irvine</name>\\n       <count>22</count>\\n    </comment>\\n    <comment>\\n       <name>Carys</name>\\n       <count>21</count>\\n    </comment>\\n    <comment>\\n       <name>Skye</name>\\n       <count>19</count>\\n    </comment>\\n    <comment>\\n       <name>Atiya</name>\\n       <count>18</count>\\n    </comment>\\n    <comment>\\n       <name>Rohan</name>\\n       <count>18</count>\\n    </comment>\\n    <comment>\\n       <name>Nuala</name>\\n       <count>14</count>\\n    </comment>\\n    <comment>\\n       <name>Maram</name>\\n       <count>12</count>\\n    </comment>\\n    <comment>\\n       <name>Carlo</name>\\n       <count>12</count>\\n    </comment>\\n    <comment>\\n       <name>Japleen</name>\\n       <count>9</count>\\n    </comment>\\n    <comment>\\n       <name>Breeanna</name>\\n       <count>7</count>\\n    </comment>\\n    <comment>\\n       <name>Zaaine</name>\\n       <count>3</count>\\n    </comment>\\n    <comment>\\n       <name>Inika</name>\\n       <count>2</count>\\n    </comment>\\n  </comments>\\n</commentinfo>\\n'"
            ]
          },
          "metadata": {
            "tags": []
          },
          "execution_count": 11
        }
      ]
    },
    {
      "cell_type": "code",
      "metadata": {
        "id": "4tQkzQPJvYys",
        "outputId": "b015ae1c-204d-4ccd-bed9-8573dd9ef99c",
        "colab": {
          "base_uri": "https://localhost:8080/",
          "height": 34
        }
      },
      "source": [
        "obj = BeautifulSoup(text, features=\"xml\")\n",
        "\n",
        "total = 0\n",
        "for id in obj.commentinfo.comments.find_all('comment'):\n",
        "    total += int(id.count.text)\n",
        "print(total)"
      ],
      "execution_count": null,
      "outputs": [
        {
          "output_type": "stream",
          "text": [
            "2553\n"
          ],
          "name": "stdout"
        }
      ]
    },
    {
      "cell_type": "code",
      "metadata": {
        "id": "_87sdMePvI3j",
        "outputId": "03eade05-c0a8-4109-ab97-ffe02209ce2b",
        "colab": {
          "base_uri": "https://localhost:8080/",
          "height": 874
        }
      },
      "source": [
        "import requests\n",
        "data = requests.get('http://py4e-data.dr-chuck.net/comments_42.xml').text\n",
        "\n",
        "tree = ET.fromstring(data)\n",
        "\n",
        "total = 0\n",
        "for element in tree.findall('comments/comment/count'):\n",
        "    total += int(element.text)\n",
        "    print(element.text)\n",
        "    \n",
        "print(total)"
      ],
      "execution_count": null,
      "outputs": [
        {
          "output_type": "stream",
          "text": [
            "97\n",
            "97\n",
            "90\n",
            "90\n",
            "88\n",
            "87\n",
            "87\n",
            "80\n",
            "79\n",
            "79\n",
            "78\n",
            "76\n",
            "76\n",
            "72\n",
            "72\n",
            "66\n",
            "66\n",
            "65\n",
            "65\n",
            "64\n",
            "61\n",
            "61\n",
            "59\n",
            "58\n",
            "57\n",
            "57\n",
            "54\n",
            "51\n",
            "49\n",
            "47\n",
            "40\n",
            "38\n",
            "37\n",
            "36\n",
            "36\n",
            "32\n",
            "25\n",
            "24\n",
            "22\n",
            "21\n",
            "19\n",
            "18\n",
            "18\n",
            "14\n",
            "12\n",
            "12\n",
            "9\n",
            "7\n",
            "3\n",
            "2\n",
            "2553\n"
          ],
          "name": "stdout"
        }
      ]
    },
    {
      "cell_type": "markdown",
      "metadata": {
        "id": "Fpfnk3j0vI3s"
      },
      "source": [
        "# Реальный пример: wiki API"
      ]
    },
    {
      "cell_type": "markdown",
      "metadata": {
        "id": "3f50tW60vI3w"
      },
      "source": [
        "Допустим, нам потребовалось получить список всех статей из некоторой категории в Википедии. Мы могли бы открыть эту категорию в браузере и дальше действовать теми методами, которые обсуждались выше. Однако, на наше счастье разработчики Википедии сделали удобное API. Чтобы научиться с ним работать, придётся познакомиться с [документацией](https://www.mediawiki.org/wiki/API:Main_page) (так будет с любым API), но это кажется сложным только в первый раз. Ну хорошо, в первые 10 раз. Или 20. Потом будет проще.\n",
        "\n",
        "Многие API будут требовать токена (например, ваш google логин-пароль для работы с гугл-документами), но мы сейчас работаем с открытым интерфейсом.\n",
        "\n",
        "Итак, приступим. Взаимодействие с сервером при помощи API происходит с помощью отправки специальным образом сформированных запросов и получения ответа в одном из машинночитаемых форматов. Нас будет интересовать формат XML, хотя бывают и другие (позже мы познакомимся с JSON). А вот такой запрос мы можем отправить:\n",
        "\n",
        "https://en.wikipedia.org/w/api.php?action=query&list=categorymembers&cmtitle=Category:Physics&cmsort=timestamp&cmdir=desc&format=xmlfm\n",
        "\n",
        "Строка `https://en.wikipedia.org/w/api.php` (до знака вопроса) — это *точка входа* в API. Всё, что идёт после знака вопроса — это, собственно, запрос. Он представляет собой что-то вроде словаря и состоит из пар «ключ=значение», разделяемых амперсандом `&`. Некоторые символы приходится кодировать специальным образом.\n",
        "\n",
        "Например, в адресе выше сказано, что мы хотим сделать запрос (`action=query`), перечислить элементы категории `list=categorymembers`, в качестве категории, которая нас интересует, указана `Category:Physics` (`cmtitle=Category:Physics`) и указаны некоторые другие параметры. Если кликнуть по этой ссылке, откроется примерно такая штука:\n",
        "\n",
        "```xml\n",
        "<?xml version=\"1.0\"?>\n",
        "<api batchcomplete=\"\">\n",
        "  <continue cmcontinue=\"2015-05-30 19:37:50|1653925\" continue=\"-||\" />\n",
        "  <query>\n",
        "    <categorymembers>\n",
        "      <cm pageid=\"24293838\" ns=\"0\" title=\"Wigner rotation\" />\n",
        "      <cm pageid=\"48583145\" ns=\"0\" title=\"Northwest Nuclear Consortium\" />\n",
        "      <cm pageid=\"48407923\" ns=\"0\" title=\"Hume Feldman\" />\n",
        "      <cm pageid=\"48249441\" ns=\"0\" title=\"Phase Stretch Transform\" />\n",
        "      <cm pageid=\"47723069\" ns=\"0\" title=\"Epicatalysis\" />\n",
        "      <cm pageid=\"2237966\" ns=\"14\" title=\"Category:Surface science\" />\n",
        "      <cm pageid=\"2143601\" ns=\"14\" title=\"Category:Interaction\" />\n",
        "      <cm pageid=\"10844347\" ns=\"14\" title=\"Category:Physical systems\" />\n",
        "      <cm pageid=\"18726608\" ns=\"14\" title=\"Category:Physical quantities\" />\n",
        "      <cm pageid=\"22688097\" ns=\"0\" title=\"Branches of physics\" />\n",
        "    </categorymembers>\n",
        "  </query>\n",
        "</api>\n",
        "```"
      ]
    },
    {
      "cell_type": "markdown",
      "metadata": {
        "id": "dYeQnDIZvI3y"
      },
      "source": [
        "Мы видим здесь разные теги, и видим, что нас интересуют теги `<cm>`, находящиеся внутри тега `<categorymembers>`.\n",
        "\n",
        "Давайте сделаем соответствующий запрос с помощью Python. Для этого нам понадобится уже знакомый модуль `requests`."
      ]
    },
    {
      "cell_type": "code",
      "metadata": {
        "id": "o7jstvk_vI3z"
      },
      "source": [
        "url = \"https://en.wikipedia.org/w/api.php\"\n",
        "params = {\n",
        "    'action':'query',\n",
        "    'list':'categorymembers',\n",
        "    'cmtitle': 'Category:Physics',\n",
        "    'format': 'xml'\n",
        "}\n",
        "\n",
        "g = requests.get(url, params=params)"
      ],
      "execution_count": null,
      "outputs": []
    },
    {
      "cell_type": "markdown",
      "metadata": {
        "id": "iC04w_gqvI36"
      },
      "source": [
        "Как видно, список параметров мы передаем в виде обычного словаря. Посмотрим, что получилось."
      ]
    },
    {
      "cell_type": "code",
      "metadata": {
        "id": "MTl4wK0vvI37",
        "outputId": "970420a4-b46e-4533-8742-b4a56bfc17b8",
        "colab": {
          "base_uri": "https://localhost:8080/",
          "height": 34
        }
      },
      "source": [
        "g.ok"
      ],
      "execution_count": null,
      "outputs": [
        {
          "output_type": "execute_result",
          "data": {
            "text/plain": [
              "True"
            ]
          },
          "metadata": {
            "tags": []
          },
          "execution_count": 58
        }
      ]
    },
    {
      "cell_type": "code",
      "metadata": {
        "id": "KSbAetmCvI4C"
      },
      "source": [
        "?g.ok # возвращает ошибку, если сервер или клиент не отвечает"
      ],
      "execution_count": null,
      "outputs": []
    },
    {
      "cell_type": "markdown",
      "metadata": {
        "id": "gQJliKMSvI4l"
      },
      "source": [
        "Всё хорошо. Теперь используем *Beautiful Soup* для обработки этого XML."
      ]
    },
    {
      "cell_type": "code",
      "metadata": {
        "id": "8POURD2vvI4m"
      },
      "source": [
        "data = BeautifulSoup(g.text, features='xml')"
      ],
      "execution_count": null,
      "outputs": []
    },
    {
      "cell_type": "code",
      "metadata": {
        "id": "TZxqYkkuvI4w",
        "outputId": "32290d02-bb8f-48fd-b2ac-5a2f6defc25f",
        "colab": {
          "base_uri": "https://localhost:8080/",
          "height": 339
        }
      },
      "source": [
        "print(data.prettify())"
      ],
      "execution_count": null,
      "outputs": [
        {
          "output_type": "stream",
          "text": [
            "<?xml version=\"1.0\" encoding=\"utf-8\"?>\n",
            "<api batchcomplete=\"\">\n",
            " <continue cmcontinue=\"page|3f294b3531042f3133454b41294f394543042f393333314541454b4737392d0441314f4b392d044129474739433501251101dc31|49418115\" continue=\"-||\"/>\n",
            " <query>\n",
            "  <categorymembers>\n",
            "   <cm ns=\"0\" pageid=\"22939\" title=\"Physics\"/>\n",
            "   <cm ns=\"0\" pageid=\"24489\" title=\"Outline of physics\"/>\n",
            "   <cm ns=\"100\" pageid=\"1653925\" title=\"Portal:Physics\"/>\n",
            "   <cm ns=\"0\" pageid=\"62446002\" title=\"Chemical gardening\"/>\n",
            "   <cm ns=\"0\" pageid=\"48520204\" title=\"Computational anatomy\"/>\n",
            "   <cm ns=\"0\" pageid=\"53790076\" title=\"Conformon\"/>\n",
            "   <cm ns=\"0\" pageid=\"55823152\" title=\"Diffeomorphometry\"/>\n",
            "   <cm ns=\"0\" pageid=\"51084847\" title=\"Dispersive medium\"/>\n",
            "   <cm ns=\"0\" pageid=\"21348562\" title=\"Homeokinetics\"/>\n",
            "   <cm ns=\"0\" pageid=\"24012524\" title=\"Kopp–Etchells effect\"/>\n",
            "  </categorymembers>\n",
            " </query>\n",
            "</api>\n"
          ],
          "name": "stdout"
        }
      ]
    },
    {
      "cell_type": "markdown",
      "metadata": {
        "id": "V_GopeyGvI45"
      },
      "source": [
        "Найдём все вхождения тега `<cm>` и выведем их атрибут `title`:"
      ]
    },
    {
      "cell_type": "code",
      "metadata": {
        "id": "1aVfQ2Q_vI46",
        "outputId": "c66be5f7-15eb-4fef-d844-56ec7abe18cc",
        "colab": {
          "base_uri": "https://localhost:8080/",
          "height": 185
        }
      },
      "source": [
        "for cm in data.api.query.categorymembers(\"cm\"):\n",
        "    print(cm['title'], cm['pageid'])\n"
      ],
      "execution_count": null,
      "outputs": [
        {
          "output_type": "stream",
          "text": [
            "Physics 22939\n",
            "Outline of physics 24489\n",
            "Portal:Physics 1653925\n",
            "Chemical gardening 62446002\n",
            "Computational anatomy 48520204\n",
            "Conformon 53790076\n",
            "Diffeomorphometry 55823152\n",
            "Dispersive medium 51084847\n",
            "Homeokinetics 21348562\n",
            "Kopp–Etchells effect 24012524\n"
          ],
          "name": "stdout"
        }
      ]
    },
    {
      "cell_type": "markdown",
      "metadata": {
        "id": "kdaOOXv8vI5C"
      },
      "source": [
        "Можно было упростить поиск `<cm>`, не указывая «полный путь» к ним:"
      ]
    },
    {
      "cell_type": "code",
      "metadata": {
        "id": "nML-TOvSvI5D",
        "outputId": "d427bf15-eeeb-47d4-9707-770c31a44e3b",
        "colab": {
          "base_uri": "https://localhost:8080/",
          "height": 185
        }
      },
      "source": [
        "for cm in data(\"cm\"):\n",
        "    print(cm['title'])"
      ],
      "execution_count": null,
      "outputs": [
        {
          "output_type": "stream",
          "text": [
            "Physics\n",
            "Outline of physics\n",
            "Portal:Physics\n",
            "Chemical gardening\n",
            "Computational anatomy\n",
            "Conformon\n",
            "Diffeomorphometry\n",
            "Dispersive medium\n",
            "Homeokinetics\n",
            "Kopp–Etchells effect\n"
          ],
          "name": "stdout"
        }
      ]
    },
    {
      "cell_type": "markdown",
      "metadata": {
        "id": "iWJ-G-NxvI5X"
      },
      "source": [
        "По умолчанию сервер вернул нам список из 10 элементов. Если мы хотим больше, нужно воспользоваться элементом `continue` — это своего рода гиперссылка на следующие 10 элементов."
      ]
    },
    {
      "cell_type": "code",
      "metadata": {
        "id": "SpoJdIfuvI5Y",
        "outputId": "da9854a1-baa1-4fc4-8205-a2828ff6b62d",
        "colab": {
          "base_uri": "https://localhost:8080/",
          "height": 52
        }
      },
      "source": [
        "data.find(\"continue\")['cmcontinue']"
      ],
      "execution_count": null,
      "outputs": [
        {
          "output_type": "execute_result",
          "data": {
            "application/vnd.google.colaboratory.intrinsic+json": {
              "type": "string"
            },
            "text/plain": [
              "'page|3f294b3531042f3133454b41294f394543042f393333314541454b4737392d0441314f4b392d044129474739433501251101dc31|49418115'"
            ]
          },
          "metadata": {
            "tags": []
          },
          "execution_count": 67
        }
      ]
    },
    {
      "cell_type": "markdown",
      "metadata": {
        "id": "Gsz7-w0XvI5g"
      },
      "source": [
        "Мне пришлось использовать метод `find()` вместо того, чтобы просто написать `data.continue`, потому что `continue` в Python имеет специальный смысл.\n",
        "\n",
        "Теперь добавим `cmcontinue` в наш запрос и выполним его ещё раз:"
      ]
    },
    {
      "cell_type": "code",
      "metadata": {
        "id": "62mWT7g2vI5i"
      },
      "source": [
        "params['cmcontinue'] = data.api(\"continue\")[0]['cmcontinue']"
      ],
      "execution_count": null,
      "outputs": []
    },
    {
      "cell_type": "code",
      "metadata": {
        "id": "2Oe6BlvcvI5r",
        "outputId": "864f18d4-a139-48e0-e431-4940d5a7f07f",
        "colab": {
          "base_uri": "https://localhost:8080/",
          "height": 185
        }
      },
      "source": [
        "g = requests.get(url, params=params)\n",
        "data = BeautifulSoup(g.text, features='xml')\n",
        "for cm in data.api.query.categorymembers(\"cm\"):\n",
        "    print(cm['title'])"
      ],
      "execution_count": null,
      "outputs": [
        {
          "output_type": "stream",
          "text": [
            "Large deformation diffeomorphic metric mapping\n",
            "Microfluidic cell culture\n",
            "Nonlinear frictiophoresis\n",
            "Perpendicular paramagnetic bond\n",
            "Phase stretch transform\n",
            "Physical metallurgy\n",
            "Quantum physics\n",
            "Category:Concepts in physics\n",
            "Category:Subfields of physics\n",
            "Category:Physicists\n"
          ],
          "name": "stdout"
        }
      ]
    },
    {
      "cell_type": "markdown",
      "metadata": {
        "id": "pwVl-CNlvI56"
      },
      "source": [
        "Мы получили следующие 10 элементов из категории. Продолжая таким образом, можно выкачать её даже целиком (правда, для этого потребуется много времени).\n",
        "\n",
        "Аналогичным образом реализована работа с разнообразными другими API, имеющимися на разных сайтах. Где-то API является полностью открытым (как в Википедии), где-то вам потребуется зарегистрироваться и получить application id и какой-нибудь ключ для доступа к API, где-то попросят даже заплатить (например, автоматический поиск в Google стоит что-то вроде 5 долларов за 100 запросов). Есть API, которые позволяют только читать информацию, а бывают и такие, которые позволяют её править. Например, можно написать скрипт, который будет автоматически сохранять какую-то информацию в Google Spreadsheets. Всякий раз при использовании API вам придётся изучить его документацию, но это в любом случае проще, чем обрабатывать HTML-код. Иногда удаётся упростить доступ к API, используя специальные библиотеки."
      ]
    },
    {
      "cell_type": "markdown",
      "metadata": {
        "id": "zNjuvGNhvI57"
      },
      "source": [
        "# JSON\n",
        "\n",
        "Другой популярный формат, в котором клиент может отдать вам данные - json. JSON расшифровывается как JavaScript Object Notation и изначально возник как подмножество языка JavaScript (пусть вас не вводит в заблуждение название, этот язык ничего не имеет общего с Java), используемое для описания объектов, но впоследствии стал использоваться и в других языках программирования, включая Python. Различные API могут поддерживать либо XML, либо JSON, либо и то, и другое, так что нам полезно научиться работать с обоими типами данных (например, wiki api могла бы выгрузить нам данные и в формате json при соответствующем запросе)."
      ]
    },
    {
      "cell_type": "code",
      "metadata": {
        "id": "d3oYOnAqvI59",
        "outputId": "4a7ba112-afa7-4ba2-ce4f-e60e340eb25b",
        "colab": {
          "base_uri": "https://localhost:8080/",
          "height": 34
        }
      },
      "source": [
        "url = \"https://en.wikipedia.org/w/api.php\"\n",
        "params = {\n",
        "    'action':'query',\n",
        "    'list':'categorymembers',\n",
        "    'cmtitle': 'Category:Physics',\n",
        "    'format': 'json' # поменяли формат на json\n",
        "}\n",
        "\n",
        "j = requests.get(url, params=params)\n",
        "j.ok"
      ],
      "execution_count": null,
      "outputs": [
        {
          "output_type": "execute_result",
          "data": {
            "text/plain": [
              "True"
            ]
          },
          "metadata": {
            "tags": []
          },
          "execution_count": 70
        }
      ]
    },
    {
      "cell_type": "code",
      "metadata": {
        "id": "qf5w-h3ivI6G",
        "outputId": "1152bf12-757e-422b-b5ea-5145e916b767",
        "colab": {
          "base_uri": "https://localhost:8080/",
          "height": 136
        }
      },
      "source": [
        "j.text"
      ],
      "execution_count": null,
      "outputs": [
        {
          "output_type": "execute_result",
          "data": {
            "application/vnd.google.colaboratory.intrinsic+json": {
              "type": "string"
            },
            "text/plain": [
              "'{\"batchcomplete\":\"\",\"continue\":{\"cmcontinue\":\"page|3f294b3531042f3133454b41294f394543042f393333314541454b4737392d0441314f4b392d044129474739433501251101dc31|49418115\",\"continue\":\"-||\"},\"query\":{\"categorymembers\":[{\"pageid\":22939,\"ns\":0,\"title\":\"Physics\"},{\"pageid\":24489,\"ns\":0,\"title\":\"Outline of physics\"},{\"pageid\":1653925,\"ns\":100,\"title\":\"Portal:Physics\"},{\"pageid\":62446002,\"ns\":0,\"title\":\"Chemical gardening\"},{\"pageid\":48520204,\"ns\":0,\"title\":\"Computational anatomy\"},{\"pageid\":53790076,\"ns\":0,\"title\":\"Conformon\"},{\"pageid\":55823152,\"ns\":0,\"title\":\"Diffeomorphometry\"},{\"pageid\":51084847,\"ns\":0,\"title\":\"Dispersive medium\"},{\"pageid\":21348562,\"ns\":0,\"title\":\"Homeokinetics\"},{\"pageid\":24012524,\"ns\":0,\"title\":\"Kopp\\\\u2013Etchells effect\"}]}}'"
            ]
          },
          "metadata": {
            "tags": []
          },
          "execution_count": 71
        }
      ]
    },
    {
      "cell_type": "markdown",
      "metadata": {
        "id": "f9qZk1zbvI6L"
      },
      "source": [
        "Посмотрим, что достали. Уже сразу видно, что структура у данных совсем другая.\n",
        "\n",
        "JSON очень похож на описание объекта в Python и смысл квадратных и фигурных скобок такой же. Правда, есть и отличия: например, в Python одинарные и двойные кавычки ничем не отличаются, а в JSON можно использовать только двойные. Мы видим, что полученный нами JSON представляет собой словарь, значения которого — строки или числа, а также списки или словари, значения которых в свою очередь также могут быть строками, числами, списками, словарями и т.д. То есть получается такая довольно сложная структура данных.\n",
        "\n",
        "В данный момент тот факт, что перед нами сложная структура данных, видим только мы — с точки зрения Python, j.text это просто такая строка. Однако в модуле requests есть метод, позволяющий сразу выдать питоновский объект (словарь или список), если результат запроса возвращён в формате JSON. Так что нам не придётся использовать никакие дополнительные библиотеки."
      ]
    },
    {
      "cell_type": "code",
      "metadata": {
        "id": "Uk7pr6aPvI6N"
      },
      "source": [
        "j_data = j.json()"
      ],
      "execution_count": null,
      "outputs": []
    },
    {
      "cell_type": "code",
      "metadata": {
        "id": "gRxHCuJhvI6S",
        "outputId": "feda5640-9193-4ff7-8813-2edf018d4a4a",
        "colab": {
          "base_uri": "https://localhost:8080/",
          "height": 255
        }
      },
      "source": [
        "j_data # получили честный питоновский словарь"
      ],
      "execution_count": null,
      "outputs": [
        {
          "output_type": "execute_result",
          "data": {
            "text/plain": [
              "{'batchcomplete': '',\n",
              " 'continue': {'cmcontinue': 'page|3f294b3531042f3133454b41294f394543042f393333314541454b4737392d0441314f4b392d044129474739433501251101dc31|49418115',\n",
              "  'continue': '-||'},\n",
              " 'query': {'categorymembers': [{'ns': 0, 'pageid': 22939, 'title': 'Physics'},\n",
              "   {'ns': 0, 'pageid': 24489, 'title': 'Outline of physics'},\n",
              "   {'ns': 100, 'pageid': 1653925, 'title': 'Portal:Physics'},\n",
              "   {'ns': 0, 'pageid': 62446002, 'title': 'Chemical gardening'},\n",
              "   {'ns': 0, 'pageid': 48520204, 'title': 'Computational anatomy'},\n",
              "   {'ns': 0, 'pageid': 53790076, 'title': 'Conformon'},\n",
              "   {'ns': 0, 'pageid': 55823152, 'title': 'Diffeomorphometry'},\n",
              "   {'ns': 0, 'pageid': 51084847, 'title': 'Dispersive medium'},\n",
              "   {'ns': 0, 'pageid': 21348562, 'title': 'Homeokinetics'},\n",
              "   {'ns': 0, 'pageid': 24012524, 'title': 'Kopp–Etchells effect'}]}}"
            ]
          },
          "metadata": {
            "tags": []
          },
          "execution_count": 73
        }
      ]
    },
    {
      "cell_type": "markdown",
      "metadata": {
        "id": "OuqDPRUZvI6Z"
      },
      "source": [
        "Содержательная информация хранится по ключу 'query'. А уже внутри есть ключ 'categorymembers', значением которого является список всех категорий. Каждая категория отображается в виде словаря, записями которого являются разные параметры категории (например, 'title' соответствует названию, а pageid — внутреннему идентификатору в системе).\n",
        "\n"
      ]
    },
    {
      "cell_type": "code",
      "metadata": {
        "id": "4J44jEv0vI6a",
        "outputId": "c01efead-f575-4c11-de8c-e1c8cda49da7",
        "colab": {
          "base_uri": "https://localhost:8080/",
          "height": 34
        }
      },
      "source": [
        "type(j_data['query']['categorymembers']) # привычный нам список"
      ],
      "execution_count": null,
      "outputs": [
        {
          "output_type": "execute_result",
          "data": {
            "text/plain": [
              "list"
            ]
          },
          "metadata": {
            "tags": []
          },
          "execution_count": 74
        }
      ]
    },
    {
      "cell_type": "code",
      "metadata": {
        "id": "8NyMxa35QDSq",
        "outputId": "39dcfd0c-0637-47d1-c570-d8940075046e",
        "colab": {
          "base_uri": "https://localhost:8080/",
          "height": 343
        }
      },
      "source": [
        "import pandas as pd\n",
        "df = pd.DataFrame(j_data['query']['categorymembers'])\n",
        "df"
      ],
      "execution_count": null,
      "outputs": [
        {
          "output_type": "execute_result",
          "data": {
            "text/html": [
              "<div>\n",
              "<style scoped>\n",
              "    .dataframe tbody tr th:only-of-type {\n",
              "        vertical-align: middle;\n",
              "    }\n",
              "\n",
              "    .dataframe tbody tr th {\n",
              "        vertical-align: top;\n",
              "    }\n",
              "\n",
              "    .dataframe thead th {\n",
              "        text-align: right;\n",
              "    }\n",
              "</style>\n",
              "<table border=\"1\" class=\"dataframe\">\n",
              "  <thead>\n",
              "    <tr style=\"text-align: right;\">\n",
              "      <th></th>\n",
              "      <th>pageid</th>\n",
              "      <th>ns</th>\n",
              "      <th>title</th>\n",
              "    </tr>\n",
              "  </thead>\n",
              "  <tbody>\n",
              "    <tr>\n",
              "      <th>0</th>\n",
              "      <td>22939</td>\n",
              "      <td>0</td>\n",
              "      <td>Physics</td>\n",
              "    </tr>\n",
              "    <tr>\n",
              "      <th>1</th>\n",
              "      <td>24489</td>\n",
              "      <td>0</td>\n",
              "      <td>Outline of physics</td>\n",
              "    </tr>\n",
              "    <tr>\n",
              "      <th>2</th>\n",
              "      <td>1653925</td>\n",
              "      <td>100</td>\n",
              "      <td>Portal:Physics</td>\n",
              "    </tr>\n",
              "    <tr>\n",
              "      <th>3</th>\n",
              "      <td>62446002</td>\n",
              "      <td>0</td>\n",
              "      <td>Chemical gardening</td>\n",
              "    </tr>\n",
              "    <tr>\n",
              "      <th>4</th>\n",
              "      <td>48520204</td>\n",
              "      <td>0</td>\n",
              "      <td>Computational anatomy</td>\n",
              "    </tr>\n",
              "    <tr>\n",
              "      <th>5</th>\n",
              "      <td>53790076</td>\n",
              "      <td>0</td>\n",
              "      <td>Conformon</td>\n",
              "    </tr>\n",
              "    <tr>\n",
              "      <th>6</th>\n",
              "      <td>55823152</td>\n",
              "      <td>0</td>\n",
              "      <td>Diffeomorphometry</td>\n",
              "    </tr>\n",
              "    <tr>\n",
              "      <th>7</th>\n",
              "      <td>51084847</td>\n",
              "      <td>0</td>\n",
              "      <td>Dispersive medium</td>\n",
              "    </tr>\n",
              "    <tr>\n",
              "      <th>8</th>\n",
              "      <td>21348562</td>\n",
              "      <td>0</td>\n",
              "      <td>Homeokinetics</td>\n",
              "    </tr>\n",
              "    <tr>\n",
              "      <th>9</th>\n",
              "      <td>24012524</td>\n",
              "      <td>0</td>\n",
              "      <td>Kopp–Etchells effect</td>\n",
              "    </tr>\n",
              "  </tbody>\n",
              "</table>\n",
              "</div>"
            ],
            "text/plain": [
              "     pageid   ns                  title\n",
              "0     22939    0                Physics\n",
              "1     24489    0     Outline of physics\n",
              "2   1653925  100         Portal:Physics\n",
              "3  62446002    0     Chemical gardening\n",
              "4  48520204    0  Computational anatomy\n",
              "5  53790076    0              Conformon\n",
              "6  55823152    0      Diffeomorphometry\n",
              "7  51084847    0      Dispersive medium\n",
              "8  21348562    0          Homeokinetics\n",
              "9  24012524    0   Kopp–Etchells effect"
            ]
          },
          "metadata": {
            "tags": []
          },
          "execution_count": 77
        }
      ]
    },
    {
      "cell_type": "code",
      "metadata": {
        "id": "ecFk67VWvI6g",
        "outputId": "524673be-8695-45e3-e623-4fdcc09da625",
        "colab": {
          "base_uri": "https://localhost:8080/",
          "height": 185
        }
      },
      "source": [
        "for cm in j_data['query']['categorymembers']: # пройдемся по нему привычным нам циклом\n",
        "    print(cm['title'])"
      ],
      "execution_count": null,
      "outputs": [
        {
          "output_type": "stream",
          "text": [
            "Physics\n",
            "Outline of physics\n",
            "Portal:Physics\n",
            "Chemical gardening\n",
            "Computational anatomy\n",
            "Conformon\n",
            "Diffeomorphometry\n",
            "Dispersive medium\n",
            "Homeokinetics\n",
            "Kopp–Etchells effect\n"
          ],
          "name": "stdout"
        }
      ]
    },
    {
      "cell_type": "markdown",
      "metadata": {
        "id": "RIdGsyyqvI6l"
      },
      "source": [
        "Преимущества JSON в том, что мы получаем готовый объект Python и нет необходимости использовать какие-то дополнительные библиотеки для того, чтобы с ним работать. Недостатком является то же самое: зачастую поиск информации в XML-файле может проводиться более эффективно, чем в JSON. Продемонстрируем это на уже рассмотренном примере. Чтобы получить список всех тегов <cm>, в которых хранилась информация об элементах категории в XML, мы использовали полный «путь»:\n",
        "\n",
        "```python\n",
        "for cm in data.api.query.categorymembers(\"cm\"):\n",
        "    print(cm['title'])\n",
        "```\n",
        "\n",
        "Однако, это можно бы сделать (в данном случае) гораздо короче. Если посмотреть на XML, то можно заметить, что в нём нет других тегов <cm>, кроме тех, которые нам нужны. С другой стороны, Beautiful Soup ищет все теги с данным именем, а не только те, которые являются потомками первого уровня для данного тега. Таким образом, код выше можно было бы переписать более коротко:"
      ]
    },
    {
      "cell_type": "code",
      "metadata": {
        "id": "zOBtRtC_vI6m",
        "outputId": "87e0fb6d-34ec-4ff8-d0a9-f348d1ecb3a5"
      },
      "source": [
        "for cm in data(\"cm\"):\n",
        "    print(cm['title'])"
      ],
      "execution_count": null,
      "outputs": [
        {
          "output_type": "stream",
          "text": [
            "Dispersive medium\n",
            "Dollar (reactivity)\n",
            "Elitzur–Vaidman bomb tester\n",
            "Energy well\n",
            "Front (physics)\n",
            "Gapped Hamiltonian\n",
            "Harmonic\n",
            "Homeokinetics\n",
            "Hopkinson effect\n",
            "KTHNY theory\n"
          ],
          "name": "stdout"
        }
      ]
    },
    {
      "cell_type": "markdown",
      "metadata": {
        "id": "mOwiiZj-vI6t"
      },
      "source": [
        "Конечно data(\"cm\") выглядит короче, чем q['query']['categorymembers']. В JSON мы не можем использовать подобные методы. Так что у обоих форматов есть свои плюсы и минусы."
      ]
    },
    {
      "cell_type": "markdown",
      "metadata": {
        "id": "X37AqsEOvI6u"
      },
      "source": [
        "## JSON (парсинг VK)\n",
        "\n",
        "Как уже говорилось выше, не все API открытые. Так, чтобы достать информацию из vk вам придется сгенерировать токен с помощью вашего аккаунта (мы выложим отдельный блокнот как это сделать, для тех, кому будет интересно). API VK отдает данные в json. Структура тут будет посложнее, чем то, что мы уже видели, поэтому давайте еще потренируемся."
      ]
    },
    {
      "cell_type": "markdown",
      "metadata": {
        "id": "JmQUbZG4vI6w"
      },
      "source": [
        "Теперь научимся еще и загружать JSON файл с диска. Для этого нам понадобится модуль json."
      ]
    },
    {
      "cell_type": "code",
      "metadata": {
        "id": "J0JT4xc-vI6x"
      },
      "source": [
        "import json\n",
        "with open('vk.json',  'r', encoding='Utf-8') as json_data:\n",
        "    res_loaded = json.load(json_data) # считываем данные с помощью функции .load()"
      ],
      "execution_count": null,
      "outputs": []
    },
    {
      "cell_type": "markdown",
      "metadata": {
        "id": "F977AYYavI64"
      },
      "source": [
        "Здесь у нас выгрузка постов со стены группы ВШЭ."
      ]
    },
    {
      "cell_type": "code",
      "metadata": {
        "id": "2KZETg40vI65",
        "outputId": "59df2d45-718d-499a-f8db-40d37a851aaa"
      },
      "source": [
        "res_loaded['items'][:2]"
      ],
      "execution_count": null,
      "outputs": [
        {
          "output_type": "execute_result",
          "data": {
            "text/plain": [
              "[{'id': 32494,\n",
              "  'from_id': -132,\n",
              "  'owner_id': -132,\n",
              "  'date': 1541422799,\n",
              "  'marked_as_ads': 0,\n",
              "  'post_type': 'post',\n",
              "  'text': '',\n",
              "  'attachments': [{'type': 'link',\n",
              "    'link': {'url': 'http://family.hse.ru/event/view/2271',\n",
              "     'title': 'День карьеры факультета бизнеса и менеджмента',\n",
              "     'caption': 'family.hse.ru',\n",
              "     'description': '',\n",
              "     'photo': {'id': 456239093,\n",
              "      'album_id': -2,\n",
              "      'owner_id': 100,\n",
              "      'photo_75': 'https://pp.userapi.com/c850336/v850336548/628ea/TwPjzdADVZ4.jpg',\n",
              "      'photo_130': 'https://pp.userapi.com/c850336/v850336548/628eb/gMSUSljxiC8.jpg',\n",
              "      'photo_604': 'https://pp.userapi.com/c850336/v850336548/628ec/kIMEO_f_3JQ.jpg',\n",
              "      'width': 150,\n",
              "      'height': 80,\n",
              "      'text': '',\n",
              "      'date': 1541422799}}}],\n",
              "  'post_source': {'type': 'vk'},\n",
              "  'comments': {'count': 0, 'can_post': 1, 'groups_can_post': True},\n",
              "  'likes': {'count': 6, 'user_likes': 0, 'can_like': 1, 'can_publish': 1},\n",
              "  'reposts': {'count': 2, 'user_reposted': 0},\n",
              "  'views': {'count': 2832}},\n",
              " {'id': 32493,\n",
              "  'from_id': -132,\n",
              "  'owner_id': -132,\n",
              "  'date': 1541076555,\n",
              "  'marked_as_ads': 0,\n",
              "  'post_type': 'post',\n",
              "  'text': 'На Шаболовке 7 ноября в 18:30 ауд 5215 состоится встреча с представителем оргкомитета симпозиума, Lars John. Авторы лучших эссе получат возможность участвовать в симпозиуме в Швейцарии, а автор cамого лучшего эссе получит значительный денежный приз. Приглашаем всех студентов магистратуры, студентов 4 курса и аспирантов принять участие в этой встрече. \\n \\nTo all grad/postgrad and 4th year undergraduate students: compete until 1 Feb 2019 and qualify as a Leader of Tomorrow for the #49sgs (8–10 May 2019) in Switzerland, all expenses paid. Create an impact and win CHF 20,000. Leaders who have attended in the past include Niall Ferguson, Jack Ma, Christine Lagarde, Paul Polman, Anders Fogh Rasmussen, Ratan Tata, Muhammad Yunus, and many more. Register now at www.symp.sg/apply',\n",
              "  'post_source': {'type': 'vk'},\n",
              "  'comments': {'count': 0, 'can_post': 1, 'groups_can_post': True},\n",
              "  'likes': {'count': 2, 'user_likes': 0, 'can_like': 1, 'can_publish': 1},\n",
              "  'reposts': {'count': 1, 'user_reposted': 0},\n",
              "  'views': {'count': 3943}}]"
            ]
          },
          "metadata": {
            "tags": []
          },
          "execution_count": 75
        }
      ]
    },
    {
      "cell_type": "code",
      "metadata": {
        "id": "1KWigarNvI7F",
        "outputId": "f255ea34-8ccd-457d-8add-ce00dda1b4a3"
      },
      "source": [
        "res_loaded.keys()"
      ],
      "execution_count": null,
      "outputs": [
        {
          "output_type": "execute_result",
          "data": {
            "text/plain": [
              "dict_keys(['count', 'items'])"
            ]
          },
          "metadata": {
            "tags": []
          },
          "execution_count": 76
        }
      ]
    },
    {
      "cell_type": "markdown",
      "metadata": {
        "id": "dZg4yWsxvI7N"
      },
      "source": [
        "Ключами являются `count` и `items`. Нужные нам объекты (текст постов, id автора, дата и время публикации и проч.) находятся в `items`."
      ]
    },
    {
      "cell_type": "code",
      "metadata": {
        "id": "dYhMGD6dvI7O",
        "outputId": "8bed95cf-7258-40e8-a79c-27505def598e"
      },
      "source": [
        "res_loaded['items'][0] # первый элемент items - первый пост со всей информацией о нем"
      ],
      "execution_count": null,
      "outputs": [
        {
          "output_type": "execute_result",
          "data": {
            "text/plain": [
              "{'id': 32494,\n",
              " 'from_id': -132,\n",
              " 'owner_id': -132,\n",
              " 'date': 1541422799,\n",
              " 'marked_as_ads': 0,\n",
              " 'post_type': 'post',\n",
              " 'text': '',\n",
              " 'attachments': [{'type': 'link',\n",
              "   'link': {'url': 'http://family.hse.ru/event/view/2271',\n",
              "    'title': 'День карьеры факультета бизнеса и менеджмента',\n",
              "    'caption': 'family.hse.ru',\n",
              "    'description': '',\n",
              "    'photo': {'id': 456239093,\n",
              "     'album_id': -2,\n",
              "     'owner_id': 100,\n",
              "     'photo_75': 'https://pp.userapi.com/c850336/v850336548/628ea/TwPjzdADVZ4.jpg',\n",
              "     'photo_130': 'https://pp.userapi.com/c850336/v850336548/628eb/gMSUSljxiC8.jpg',\n",
              "     'photo_604': 'https://pp.userapi.com/c850336/v850336548/628ec/kIMEO_f_3JQ.jpg',\n",
              "     'width': 150,\n",
              "     'height': 80,\n",
              "     'text': '',\n",
              "     'date': 1541422799}}}],\n",
              " 'post_source': {'type': 'vk'},\n",
              " 'comments': {'count': 0, 'can_post': 1, 'groups_can_post': True},\n",
              " 'likes': {'count': 6, 'user_likes': 0, 'can_like': 1, 'can_publish': 1},\n",
              " 'reposts': {'count': 2, 'user_reposted': 0},\n",
              " 'views': {'count': 2832}}"
            ]
          },
          "metadata": {
            "tags": []
          },
          "execution_count": 77
        }
      ]
    },
    {
      "cell_type": "markdown",
      "metadata": {
        "id": "tgCA8b75vI7U"
      },
      "source": [
        "Помимо текста поста можно найти много всего интересного. Например, тип поста (`post_type`), дата (`date`), id поста (`id`), лайки (`likes`, которые включают информацию о том, могут ли пользователи лайкать пост и публиковать его, а также собственно число лайков), репосты (`reposts`, которые включают число репостов), число просмотров (`views`), комментарии (`comments`, которые включают информацию о том, могут ли пользователи комментировать пост, и число комментариев), и так далее.\n",
        "\n",
        "Давайте остановимся на тексте поста, id автора, id поста и дате публикации. Чтобы извлечь соответствующую информацию, сохраним `items` и извлечем из них нужные поля:"
      ]
    },
    {
      "cell_type": "code",
      "metadata": {
        "id": "k3dBhP50vI7V",
        "outputId": "a2f399f4-c4f2-4c95-c7fd-cafd2bd77797"
      },
      "source": [
        "items = res_loaded['items']\n",
        "full_list = []\n",
        "\n",
        "for item in items:\n",
        "    l = [item['from_id'], item['id'], item['text'], item['date']] # нужные поля\n",
        "    full_list.append(l) # добавляем в список списков full_list\n",
        "# несколько элементов списка\n",
        "full_list[0:4]"
      ],
      "execution_count": null,
      "outputs": [
        {
          "output_type": "execute_result",
          "data": {
            "text/plain": [
              "[[-132, 32494, '', 1541422799],\n",
              " [-132,\n",
              "  32493,\n",
              "  'На Шаболовке 7 ноября в 18:30 ауд 5215 состоится встреча с представителем оргкомитета симпозиума, Lars John. Авторы лучших эссе получат возможность участвовать в симпозиуме в Швейцарии, а автор cамого лучшего эссе получит значительный денежный приз. Приглашаем всех студентов магистратуры, студентов 4 курса и аспирантов принять участие в этой встрече. \\n \\nTo all grad/postgrad and 4th year undergraduate students: compete until 1 Feb 2019 and qualify as a Leader of Tomorrow for the #49sgs (8–10 May 2019) in Switzerland, all expenses paid. Create an impact and win CHF 20,000. Leaders who have attended in the past include Niall Ferguson, Jack Ma, Christine Lagarde, Paul Polman, Anders Fogh Rasmussen, Ratan Tata, Muhammad Yunus, and many more. Register now at www.symp.sg/apply',\n",
              "  1541076555],\n",
              " [-132, 32492, '', 1540743239],\n",
              " [-132, 32491, '', 1540551399]]"
            ]
          },
          "metadata": {
            "tags": []
          },
          "execution_count": 78
        }
      ]
    },
    {
      "cell_type": "markdown",
      "metadata": {
        "id": "Mzur_pfivI7e"
      },
      "source": [
        "Видно, что в двух первых постах текста не обнаружено, там только картинки, ссылки и репосты.\n",
        "\n",
        "Из этого списка списков можно легко сделать датафрейм `pandas`."
      ]
    },
    {
      "cell_type": "markdown",
      "metadata": {
        "id": "LGIFFKVyvI7f"
      },
      "source": [
        "Но если у ссылок, репостов и картинок нет текста, то наш DataFrame будет выглядет неполноценно. Поэтому добавим условие, что если текст отсутсвует, вставим в DataFrame строку с этой отметкой."
      ]
    },
    {
      "cell_type": "code",
      "metadata": {
        "id": "RmrXZ3MmvI7h"
      },
      "source": [
        "# опять выберем только нужные поля\n",
        "full_list = []\n",
        "for item in items:\n",
        "    if item['text'] == \"\":\n",
        "        l = [item['from_id'], item['id'], \"Картинка, ссылка или репост\", item['date']]\n",
        "    else:\n",
        "        l = [item['from_id'], item['id'], item['text'], item['date']]\n",
        "    full_list.append(l)"
      ],
      "execution_count": null,
      "outputs": []
    },
    {
      "cell_type": "markdown",
      "metadata": {
        "id": "gx45WZ6GvI7z"
      },
      "source": [
        "Оставлось превратить обновленный список `items` (список списков) в датафрейм. Импортируем `pandas`."
      ]
    },
    {
      "cell_type": "code",
      "metadata": {
        "id": "X53XEmG1vI70"
      },
      "source": [
        "import pandas as pd"
      ],
      "execution_count": null,
      "outputs": []
    },
    {
      "cell_type": "markdown",
      "metadata": {
        "id": "J8OcjcahvI7-"
      },
      "source": [
        "Создадим датафрейм:"
      ]
    },
    {
      "cell_type": "code",
      "metadata": {
        "id": "acLe_z3EvI7_",
        "outputId": "8bcfa866-198c-441a-fb8b-0c68fe260a0f"
      },
      "source": [
        "df = pd.DataFrame(full_list)\n",
        "df.head(10)"
      ],
      "execution_count": null,
      "outputs": [
        {
          "output_type": "execute_result",
          "data": {
            "text/html": [
              "<div>\n",
              "<style scoped>\n",
              "    .dataframe tbody tr th:only-of-type {\n",
              "        vertical-align: middle;\n",
              "    }\n",
              "\n",
              "    .dataframe tbody tr th {\n",
              "        vertical-align: top;\n",
              "    }\n",
              "\n",
              "    .dataframe thead th {\n",
              "        text-align: right;\n",
              "    }\n",
              "</style>\n",
              "<table border=\"1\" class=\"dataframe\">\n",
              "  <thead>\n",
              "    <tr style=\"text-align: right;\">\n",
              "      <th></th>\n",
              "      <th>0</th>\n",
              "      <th>1</th>\n",
              "      <th>2</th>\n",
              "      <th>3</th>\n",
              "    </tr>\n",
              "  </thead>\n",
              "  <tbody>\n",
              "    <tr>\n",
              "      <th>0</th>\n",
              "      <td>-132</td>\n",
              "      <td>32494</td>\n",
              "      <td>Картинка, ссылка или репост</td>\n",
              "      <td>1541422799</td>\n",
              "    </tr>\n",
              "    <tr>\n",
              "      <th>1</th>\n",
              "      <td>-132</td>\n",
              "      <td>32493</td>\n",
              "      <td>На Шаболовке 7 ноября в 18:30 ауд 5215 состоит...</td>\n",
              "      <td>1541076555</td>\n",
              "    </tr>\n",
              "    <tr>\n",
              "      <th>2</th>\n",
              "      <td>-132</td>\n",
              "      <td>32492</td>\n",
              "      <td>Картинка, ссылка или репост</td>\n",
              "      <td>1540743239</td>\n",
              "    </tr>\n",
              "    <tr>\n",
              "      <th>3</th>\n",
              "      <td>-132</td>\n",
              "      <td>32491</td>\n",
              "      <td>Картинка, ссылка или репост</td>\n",
              "      <td>1540551399</td>\n",
              "    </tr>\n",
              "    <tr>\n",
              "      <th>4</th>\n",
              "      <td>-132</td>\n",
              "      <td>32488</td>\n",
              "      <td>Картинка, ссылка или репост</td>\n",
              "      <td>1540302306</td>\n",
              "    </tr>\n",
              "    <tr>\n",
              "      <th>5</th>\n",
              "      <td>-132</td>\n",
              "      <td>32486</td>\n",
              "      <td>26-28 октября в Москве пройдет крупнейший в Ро...</td>\n",
              "      <td>1539863523</td>\n",
              "    </tr>\n",
              "    <tr>\n",
              "      <th>6</th>\n",
              "      <td>-132</td>\n",
              "      <td>32485</td>\n",
              "      <td>Картинка, ссылка или репост</td>\n",
              "      <td>1539781575</td>\n",
              "    </tr>\n",
              "    <tr>\n",
              "      <th>7</th>\n",
              "      <td>-132</td>\n",
              "      <td>32484</td>\n",
              "      <td>Картинка, ссылка или репост</td>\n",
              "      <td>1539718883</td>\n",
              "    </tr>\n",
              "    <tr>\n",
              "      <th>8</th>\n",
              "      <td>-132</td>\n",
              "      <td>32481</td>\n",
              "      <td>Картинка, ссылка или репост</td>\n",
              "      <td>1539088885</td>\n",
              "    </tr>\n",
              "    <tr>\n",
              "      <th>9</th>\n",
              "      <td>-132</td>\n",
              "      <td>32480</td>\n",
              "      <td>Будущим магистрам! Новая программа Факультета ...</td>\n",
              "      <td>1539088745</td>\n",
              "    </tr>\n",
              "  </tbody>\n",
              "</table>\n",
              "</div>"
            ],
            "text/plain": [
              "     0      1                                                  2           3\n",
              "0 -132  32494                        Картинка, ссылка или репост  1541422799\n",
              "1 -132  32493  На Шаболовке 7 ноября в 18:30 ауд 5215 состоит...  1541076555\n",
              "2 -132  32492                        Картинка, ссылка или репост  1540743239\n",
              "3 -132  32491                        Картинка, ссылка или репост  1540551399\n",
              "4 -132  32488                        Картинка, ссылка или репост  1540302306\n",
              "5 -132  32486  26-28 октября в Москве пройдет крупнейший в Ро...  1539863523\n",
              "6 -132  32485                        Картинка, ссылка или репост  1539781575\n",
              "7 -132  32484                        Картинка, ссылка или репост  1539718883\n",
              "8 -132  32481                        Картинка, ссылка или репост  1539088885\n",
              "9 -132  32480  Будущим магистрам! Новая программа Факультета ...  1539088745"
            ]
          },
          "metadata": {
            "tags": []
          },
          "execution_count": 11
        }
      ]
    },
    {
      "cell_type": "markdown",
      "metadata": {
        "id": "fv_q6MQivI8E"
      },
      "source": [
        "Ура! Осталось только дать внятные названия столбцам и разобраться, почему дата представлена в таком виде. что делать со столбцами, мы уже знаем."
      ]
    },
    {
      "cell_type": "code",
      "metadata": {
        "id": "96bk4i8mvI8G",
        "outputId": "54f62e11-6b47-47a3-c447-2d5b054cbef1"
      },
      "source": [
        "df.columns = ['From_id', 'Id', 'Text', 'Date_Unix']\n",
        "df.head(10)"
      ],
      "execution_count": null,
      "outputs": [
        {
          "output_type": "execute_result",
          "data": {
            "text/html": [
              "<div>\n",
              "<style scoped>\n",
              "    .dataframe tbody tr th:only-of-type {\n",
              "        vertical-align: middle;\n",
              "    }\n",
              "\n",
              "    .dataframe tbody tr th {\n",
              "        vertical-align: top;\n",
              "    }\n",
              "\n",
              "    .dataframe thead th {\n",
              "        text-align: right;\n",
              "    }\n",
              "</style>\n",
              "<table border=\"1\" class=\"dataframe\">\n",
              "  <thead>\n",
              "    <tr style=\"text-align: right;\">\n",
              "      <th></th>\n",
              "      <th>From_id</th>\n",
              "      <th>Id</th>\n",
              "      <th>Text</th>\n",
              "      <th>Date_Unix</th>\n",
              "    </tr>\n",
              "  </thead>\n",
              "  <tbody>\n",
              "    <tr>\n",
              "      <th>0</th>\n",
              "      <td>-132</td>\n",
              "      <td>32494</td>\n",
              "      <td>Картинка, ссылка или репост</td>\n",
              "      <td>1541422799</td>\n",
              "    </tr>\n",
              "    <tr>\n",
              "      <th>1</th>\n",
              "      <td>-132</td>\n",
              "      <td>32493</td>\n",
              "      <td>На Шаболовке 7 ноября в 18:30 ауд 5215 состоит...</td>\n",
              "      <td>1541076555</td>\n",
              "    </tr>\n",
              "    <tr>\n",
              "      <th>2</th>\n",
              "      <td>-132</td>\n",
              "      <td>32492</td>\n",
              "      <td>Картинка, ссылка или репост</td>\n",
              "      <td>1540743239</td>\n",
              "    </tr>\n",
              "    <tr>\n",
              "      <th>3</th>\n",
              "      <td>-132</td>\n",
              "      <td>32491</td>\n",
              "      <td>Картинка, ссылка или репост</td>\n",
              "      <td>1540551399</td>\n",
              "    </tr>\n",
              "    <tr>\n",
              "      <th>4</th>\n",
              "      <td>-132</td>\n",
              "      <td>32488</td>\n",
              "      <td>Картинка, ссылка или репост</td>\n",
              "      <td>1540302306</td>\n",
              "    </tr>\n",
              "    <tr>\n",
              "      <th>5</th>\n",
              "      <td>-132</td>\n",
              "      <td>32486</td>\n",
              "      <td>26-28 октября в Москве пройдет крупнейший в Ро...</td>\n",
              "      <td>1539863523</td>\n",
              "    </tr>\n",
              "    <tr>\n",
              "      <th>6</th>\n",
              "      <td>-132</td>\n",
              "      <td>32485</td>\n",
              "      <td>Картинка, ссылка или репост</td>\n",
              "      <td>1539781575</td>\n",
              "    </tr>\n",
              "    <tr>\n",
              "      <th>7</th>\n",
              "      <td>-132</td>\n",
              "      <td>32484</td>\n",
              "      <td>Картинка, ссылка или репост</td>\n",
              "      <td>1539718883</td>\n",
              "    </tr>\n",
              "    <tr>\n",
              "      <th>8</th>\n",
              "      <td>-132</td>\n",
              "      <td>32481</td>\n",
              "      <td>Картинка, ссылка или репост</td>\n",
              "      <td>1539088885</td>\n",
              "    </tr>\n",
              "    <tr>\n",
              "      <th>9</th>\n",
              "      <td>-132</td>\n",
              "      <td>32480</td>\n",
              "      <td>Будущим магистрам! Новая программа Факультета ...</td>\n",
              "      <td>1539088745</td>\n",
              "    </tr>\n",
              "  </tbody>\n",
              "</table>\n",
              "</div>"
            ],
            "text/plain": [
              "   From_id     Id                                               Text  \\\n",
              "0     -132  32494                        Картинка, ссылка или репост   \n",
              "1     -132  32493  На Шаболовке 7 ноября в 18:30 ауд 5215 состоит...   \n",
              "2     -132  32492                        Картинка, ссылка или репост   \n",
              "3     -132  32491                        Картинка, ссылка или репост   \n",
              "4     -132  32488                        Картинка, ссылка или репост   \n",
              "5     -132  32486  26-28 октября в Москве пройдет крупнейший в Ро...   \n",
              "6     -132  32485                        Картинка, ссылка или репост   \n",
              "7     -132  32484                        Картинка, ссылка или репост   \n",
              "8     -132  32481                        Картинка, ссылка или репост   \n",
              "9     -132  32480  Будущим магистрам! Новая программа Факультета ...   \n",
              "\n",
              "    Date_Unix  \n",
              "0  1541422799  \n",
              "1  1541076555  \n",
              "2  1540743239  \n",
              "3  1540551399  \n",
              "4  1540302306  \n",
              "5  1539863523  \n",
              "6  1539781575  \n",
              "7  1539718883  \n",
              "8  1539088885  \n",
              "9  1539088745  "
            ]
          },
          "metadata": {
            "tags": []
          },
          "execution_count": 12
        }
      ]
    },
    {
      "cell_type": "markdown",
      "metadata": {
        "id": "qciKdDnMvI8M"
      },
      "source": [
        "С датой все интереснее. То, что указано в столбце `date`, это дата в виде UNIX-времени (POSIX-времени). Это число секунд, прошедших с 1 января 1970 года. Несмотря на то, что такой формат даты-времени кажется необычным, он довольно широко распространен в разных системах и приложениях. Этот факт, конечно, радует, но хочется получить дату в более человеческом формате. Давайте напишем функцию для перевода UNIX-времени в формат год-месяц-день-часы-минуты-секунды. Для этого нам понадобится модуль datetime."
      ]
    },
    {
      "cell_type": "code",
      "metadata": {
        "id": "7BZAyA88vI8N"
      },
      "source": [
        "from datetime import datetime"
      ],
      "execution_count": null,
      "outputs": []
    },
    {
      "cell_type": "code",
      "metadata": {
        "id": "iAgZoNDIvI8T"
      },
      "source": [
        "def date_norm(date):\n",
        "    d = datetime.fromtimestamp(date) # timestamp - UNIX-время в виде строки\n",
        "    str_d = d.strftime(\"%Y-%m-%d %H:%M:%S\") # %Y-%m-%d %H:%M:%S - год-месяц-день, часы:минуты:секунды\n",
        "    date_norm, time_norm = str_d.split(' ') # разобьем результат на части, отделим дату от времени\n",
        "    return date_norm, time_norm"
      ],
      "execution_count": null,
      "outputs": []
    },
    {
      "cell_type": "markdown",
      "metadata": {
        "id": "SGW8qzryvI8Z"
      },
      "source": [
        "Применим нашу функцию к элементам столбца date и создадим новый ‒ `date_norm`."
      ]
    },
    {
      "cell_type": "code",
      "metadata": {
        "id": "Iy-XzyolvI8a"
      },
      "source": [
        "df['Date_Norm'] = df.Date_Unix.apply(date_norm)"
      ],
      "execution_count": null,
      "outputs": []
    },
    {
      "cell_type": "code",
      "metadata": {
        "id": "8OvsrIt2vI8j",
        "outputId": "7a5b29ce-757b-482e-b64c-cd5371b7e370"
      },
      "source": [
        "df.head()"
      ],
      "execution_count": null,
      "outputs": [
        {
          "output_type": "execute_result",
          "data": {
            "text/html": [
              "<div>\n",
              "<style scoped>\n",
              "    .dataframe tbody tr th:only-of-type {\n",
              "        vertical-align: middle;\n",
              "    }\n",
              "\n",
              "    .dataframe tbody tr th {\n",
              "        vertical-align: top;\n",
              "    }\n",
              "\n",
              "    .dataframe thead th {\n",
              "        text-align: right;\n",
              "    }\n",
              "</style>\n",
              "<table border=\"1\" class=\"dataframe\">\n",
              "  <thead>\n",
              "    <tr style=\"text-align: right;\">\n",
              "      <th></th>\n",
              "      <th>From_id</th>\n",
              "      <th>Id</th>\n",
              "      <th>Text</th>\n",
              "      <th>Date_Unix</th>\n",
              "      <th>Date_Norm</th>\n",
              "    </tr>\n",
              "  </thead>\n",
              "  <tbody>\n",
              "    <tr>\n",
              "      <th>0</th>\n",
              "      <td>-132</td>\n",
              "      <td>32494</td>\n",
              "      <td>Картинка, ссылка или репост</td>\n",
              "      <td>1541422799</td>\n",
              "      <td>(2018-11-05, 15:59:59)</td>\n",
              "    </tr>\n",
              "    <tr>\n",
              "      <th>1</th>\n",
              "      <td>-132</td>\n",
              "      <td>32493</td>\n",
              "      <td>На Шаболовке 7 ноября в 18:30 ауд 5215 состоит...</td>\n",
              "      <td>1541076555</td>\n",
              "      <td>(2018-11-01, 15:49:15)</td>\n",
              "    </tr>\n",
              "    <tr>\n",
              "      <th>2</th>\n",
              "      <td>-132</td>\n",
              "      <td>32492</td>\n",
              "      <td>Картинка, ссылка или репост</td>\n",
              "      <td>1540743239</td>\n",
              "      <td>(2018-10-28, 19:13:59)</td>\n",
              "    </tr>\n",
              "    <tr>\n",
              "      <th>3</th>\n",
              "      <td>-132</td>\n",
              "      <td>32491</td>\n",
              "      <td>Картинка, ссылка или репост</td>\n",
              "      <td>1540551399</td>\n",
              "      <td>(2018-10-26, 13:56:39)</td>\n",
              "    </tr>\n",
              "    <tr>\n",
              "      <th>4</th>\n",
              "      <td>-132</td>\n",
              "      <td>32488</td>\n",
              "      <td>Картинка, ссылка или репост</td>\n",
              "      <td>1540302306</td>\n",
              "      <td>(2018-10-23, 16:45:06)</td>\n",
              "    </tr>\n",
              "  </tbody>\n",
              "</table>\n",
              "</div>"
            ],
            "text/plain": [
              "   From_id     Id                                               Text  \\\n",
              "0     -132  32494                        Картинка, ссылка или репост   \n",
              "1     -132  32493  На Шаболовке 7 ноября в 18:30 ауд 5215 состоит...   \n",
              "2     -132  32492                        Картинка, ссылка или репост   \n",
              "3     -132  32491                        Картинка, ссылка или репост   \n",
              "4     -132  32488                        Картинка, ссылка или репост   \n",
              "\n",
              "    Date_Unix               Date_Norm  \n",
              "0  1541422799  (2018-11-05, 15:59:59)  \n",
              "1  1541076555  (2018-11-01, 15:49:15)  \n",
              "2  1540743239  (2018-10-28, 19:13:59)  \n",
              "3  1540551399  (2018-10-26, 13:56:39)  \n",
              "4  1540302306  (2018-10-23, 16:45:06)  "
            ]
          },
          "metadata": {
            "tags": []
          },
          "execution_count": 16
        }
      ]
    },
    {
      "cell_type": "markdown",
      "metadata": {
        "id": "PJnOREfZvI8r"
      },
      "source": [
        "Можно было, конечно, не разбивать на части дату и время, сохранять одной строкой. А можно написать функции, которые будут отделять дату от времени ‒ извлекать их из кортежа в date_norm."
      ]
    },
    {
      "cell_type": "code",
      "metadata": {
        "id": "ca8oOOfWvI8s"
      },
      "source": [
        "def get_date(date):\n",
        "    return date[0]\n",
        "\n",
        "def get_time(date):\n",
        "    return date[1]"
      ],
      "execution_count": null,
      "outputs": []
    },
    {
      "cell_type": "code",
      "metadata": {
        "id": "GCZPtjztvI81",
        "outputId": "371f9a8c-72a7-4c27-9b7a-683dc332b04b"
      },
      "source": [
        "df['Date'] = df.Date_Norm.apply(get_date)\n",
        "df['Time'] = df.Date_Norm.apply(get_time)\n",
        "df.head()"
      ],
      "execution_count": null,
      "outputs": [
        {
          "output_type": "execute_result",
          "data": {
            "text/html": [
              "<div>\n",
              "<style scoped>\n",
              "    .dataframe tbody tr th:only-of-type {\n",
              "        vertical-align: middle;\n",
              "    }\n",
              "\n",
              "    .dataframe tbody tr th {\n",
              "        vertical-align: top;\n",
              "    }\n",
              "\n",
              "    .dataframe thead th {\n",
              "        text-align: right;\n",
              "    }\n",
              "</style>\n",
              "<table border=\"1\" class=\"dataframe\">\n",
              "  <thead>\n",
              "    <tr style=\"text-align: right;\">\n",
              "      <th></th>\n",
              "      <th>From_id</th>\n",
              "      <th>Id</th>\n",
              "      <th>Text</th>\n",
              "      <th>Date_Unix</th>\n",
              "      <th>Date_Norm</th>\n",
              "      <th>Date</th>\n",
              "      <th>Time</th>\n",
              "    </tr>\n",
              "  </thead>\n",
              "  <tbody>\n",
              "    <tr>\n",
              "      <th>0</th>\n",
              "      <td>-132</td>\n",
              "      <td>32494</td>\n",
              "      <td>Картинка, ссылка или репост</td>\n",
              "      <td>1541422799</td>\n",
              "      <td>(2018-11-05, 15:59:59)</td>\n",
              "      <td>2018-11-05</td>\n",
              "      <td>15:59:59</td>\n",
              "    </tr>\n",
              "    <tr>\n",
              "      <th>1</th>\n",
              "      <td>-132</td>\n",
              "      <td>32493</td>\n",
              "      <td>На Шаболовке 7 ноября в 18:30 ауд 5215 состоит...</td>\n",
              "      <td>1541076555</td>\n",
              "      <td>(2018-11-01, 15:49:15)</td>\n",
              "      <td>2018-11-01</td>\n",
              "      <td>15:49:15</td>\n",
              "    </tr>\n",
              "    <tr>\n",
              "      <th>2</th>\n",
              "      <td>-132</td>\n",
              "      <td>32492</td>\n",
              "      <td>Картинка, ссылка или репост</td>\n",
              "      <td>1540743239</td>\n",
              "      <td>(2018-10-28, 19:13:59)</td>\n",
              "      <td>2018-10-28</td>\n",
              "      <td>19:13:59</td>\n",
              "    </tr>\n",
              "    <tr>\n",
              "      <th>3</th>\n",
              "      <td>-132</td>\n",
              "      <td>32491</td>\n",
              "      <td>Картинка, ссылка или репост</td>\n",
              "      <td>1540551399</td>\n",
              "      <td>(2018-10-26, 13:56:39)</td>\n",
              "      <td>2018-10-26</td>\n",
              "      <td>13:56:39</td>\n",
              "    </tr>\n",
              "    <tr>\n",
              "      <th>4</th>\n",
              "      <td>-132</td>\n",
              "      <td>32488</td>\n",
              "      <td>Картинка, ссылка или репост</td>\n",
              "      <td>1540302306</td>\n",
              "      <td>(2018-10-23, 16:45:06)</td>\n",
              "      <td>2018-10-23</td>\n",
              "      <td>16:45:06</td>\n",
              "    </tr>\n",
              "  </tbody>\n",
              "</table>\n",
              "</div>"
            ],
            "text/plain": [
              "   From_id     Id                                               Text  \\\n",
              "0     -132  32494                        Картинка, ссылка или репост   \n",
              "1     -132  32493  На Шаболовке 7 ноября в 18:30 ауд 5215 состоит...   \n",
              "2     -132  32492                        Картинка, ссылка или репост   \n",
              "3     -132  32491                        Картинка, ссылка или репост   \n",
              "4     -132  32488                        Картинка, ссылка или репост   \n",
              "\n",
              "    Date_Unix               Date_Norm        Date      Time  \n",
              "0  1541422799  (2018-11-05, 15:59:59)  2018-11-05  15:59:59  \n",
              "1  1541076555  (2018-11-01, 15:49:15)  2018-11-01  15:49:15  \n",
              "2  1540743239  (2018-10-28, 19:13:59)  2018-10-28  19:13:59  \n",
              "3  1540551399  (2018-10-26, 13:56:39)  2018-10-26  13:56:39  \n",
              "4  1540302306  (2018-10-23, 16:45:06)  2018-10-23  16:45:06  "
            ]
          },
          "metadata": {
            "tags": []
          },
          "execution_count": 18
        }
      ]
    },
    {
      "cell_type": "markdown",
      "metadata": {
        "id": "GiOhp4GxvI88"
      },
      "source": [
        "Всё! Материалы о разных методах и функциях для `vk.api` можно найти в [официальной документации](https://vk.com/dev/manuals)."
      ]
    }
  ]
}