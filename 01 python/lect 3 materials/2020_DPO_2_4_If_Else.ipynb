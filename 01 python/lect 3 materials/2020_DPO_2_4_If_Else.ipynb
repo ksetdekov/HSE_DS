{
 "cells": [
  {
   "cell_type": "markdown",
   "metadata": {},
   "source": [
    "Центр непрерывного образования\n",
    "\n",
    "# Программа «Python для автоматизации и анализа данных»\n",
    "\n",
    "Неделя 2 - 1\n",
    "\n",
    "*Татьяна Рогович, НИУ ВШЭ*  \n",
    "\n",
    "# Условный оператор, цикл while"
   ]
  },
  {
   "cell_type": "markdown",
   "metadata": {},
   "source": [
    "# Условия"
   ]
  },
  {
   "cell_type": "markdown",
   "metadata": {},
   "source": [
    "Условия это, наверное, душа программирования. Мы очень часто хотим, чтобы наша программа работала по разному в зависимости от происходящего. Алгоритмы, использующие условия, называют разветвляющимися, и для их понимания очень удобно рисовать блок-схемы (нет, они не остались в школе, если в коде много условий и разных действий по-прежнему очень помогает нарисовать на бумаге дерево). \n",
    "\n",
    "![](data:image/png;base64,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)\n",
    "\n",
    "**Условия (if)** позволяют выполнять код только в случае истинности какого-то логического выражения.\n",
    "\n",
    "Проще говоря, \"если верно, что..., то сделать ...\".\n",
    "\n",
    "Самый простой пример использования if - это вывод какой-то фразы по условию."
   ]
  },
  {
   "cell_type": "code",
   "execution_count": 3,
   "metadata": {},
   "outputs": [
    {
     "name": "stdout",
     "output_type": "stream",
     "text": [
      "That is true!\n"
     ]
    }
   ],
   "source": [
    "x = 1\n",
    "if x == 1:  # Выражение равно True, это условие истинное\n",
    "    print('That is true!')  # Фраза выводится"
   ]
  },
  {
   "cell_type": "code",
   "execution_count": 4,
   "metadata": {},
   "outputs": [],
   "source": [
    "if x != 1:  # Выражение равно False, это условие ложное\n",
    "    print('That is true!')  # Фраза не выводится"
   ]
  },
  {
   "cell_type": "markdown",
   "metadata": {},
   "source": [
    "Обратите внимание, что код, который находится внутри условия, выделяется отступом в 4 пробела или табуляцией (работает не во всех IDE, но в Jupyter все будет хорошо).\n",
    "\n",
    "Иначе программа не поймет, что он относится к условию."
   ]
  },
  {
   "cell_type": "code",
   "execution_count": 5,
   "metadata": {},
   "outputs": [
    {
     "ename": "IndentationError",
     "evalue": "expected an indented block (<ipython-input-5-b1fb9bc19953>, line 2)",
     "output_type": "error",
     "traceback": [
      "\u001b[1;36m  File \u001b[1;32m\"<ipython-input-5-b1fb9bc19953>\"\u001b[1;36m, line \u001b[1;32m2\u001b[0m\n\u001b[1;33m    print('That is true!')\u001b[0m\n\u001b[1;37m        ^\u001b[0m\n\u001b[1;31mIndentationError\u001b[0m\u001b[1;31m:\u001b[0m expected an indented block\n"
     ]
    }
   ],
   "source": [
    "if x == 1:\n",
    "print('That is true!')"
   ]
  },
  {
   "cell_type": "markdown",
   "metadata": {},
   "source": [
    "А что делать, если в том случае, когда условие не истинное, мы тоже хотим совершать какое-то действие? Для этого у нас есть ключевое слово **else (\"то\")**. "
   ]
  },
  {
   "cell_type": "code",
   "execution_count": 6,
   "metadata": {},
   "outputs": [
    {
     "name": "stdout",
     "output_type": "stream",
     "text": [
      "That is false!\n"
     ]
    }
   ],
   "source": [
    "if x != 1:\n",
    "    print('That is true!')\n",
    "else:\n",
    "    print('That is false!')"
   ]
  },
  {
   "cell_type": "markdown",
   "metadata": {},
   "source": [
    "Мы разобрались, как поступать, если у нас два варианта действий, но их может быть и больше.\n",
    "\n",
    "Для примера давайте решим простую задачу - найти минимум из двух введенных чисел. Пока ничего нового:"
   ]
  },
  {
   "cell_type": "code",
   "execution_count": 7,
   "metadata": {},
   "outputs": [
    {
     "name": "stdout",
     "output_type": "stream",
     "text": [
      "Минимум равен 3\n"
     ]
    }
   ],
   "source": [
    "a = input('Введите первое число: ')\n",
    "b = input('Введите второе число: ')\n",
    "if a < b:\n",
    "    min = a\n",
    "else:\n",
    "    min = b\n",
    "print('Минимум равен', min)"
   ]
  },
  {
   "cell_type": "markdown",
   "metadata": {},
   "source": [
    "А теперь усложним задание, добавив третий вариант развития событий - если числа равны, будем печатать *'Равные числа'*.\n",
    "\n",
    "Можно решить эту задачу с помощью вложенных условий:"
   ]
  },
  {
   "cell_type": "code",
   "execution_count": 9,
   "metadata": {},
   "outputs": [
    {
     "name": "stdout",
     "output_type": "stream",
     "text": [
      "Равные числа: 3\n"
     ]
    }
   ],
   "source": [
    "a = input('Введите первое число: ')\n",
    "b = input('Введите второе число: ')\n",
    "if a < b: \n",
    "    print(a)\n",
    "else:\n",
    "    if a > b: # обратите внимание, здесь одно условие находится внутри другого, и код ниже будет писаться после двойного отступа\n",
    "        print(b)\n",
    "    else:\n",
    "        print('Равные числа:', a)"
   ]
  },
  {
   "cell_type": "markdown",
   "metadata": {},
   "source": [
    "Неплохо, но можно упростить это решение с помощью конструкции **else if (или elif)**, которая позволяет в случае ложности условия сразу же написать еще одну проверку.\n",
    "\n",
    "Вот как будет выглядеть решение нашей задачи с помощью elif:"
   ]
  },
  {
   "cell_type": "code",
   "execution_count": 23,
   "metadata": {},
   "outputs": [
    {
     "name": "stdout",
     "output_type": "stream",
     "text": [
      "Введите первое число: 3\n",
      "Введите второе число: 3\n",
      "Равные числа: 3\n"
     ]
    }
   ],
   "source": [
    "a = input('Введите первое число: ')\n",
    "b = input('Введите второе число: ')\n",
    "if a < b: \n",
    "    print(a)\n",
    "elif a > b: \n",
    "    print(b)\n",
    "else:\n",
    "    print('Равные числа:', a)"
   ]
  },
  {
   "cell_type": "markdown",
   "metadata": {},
   "source": [
    "# Задачи для тренировки"
   ]
  },
  {
   "cell_type": "markdown",
   "metadata": {},
   "source": [
    "### Распродажа\n",
    "\n",
    "В магазине проходит акция:\n",
    "* На все товары дешевле 1000 рублей скидка 15%\n",
    "* На все товары дороже 1000, но дешевле 5000 рублей скидка 20%\n",
    "* На все товары дороже 5000 рублей скидка 25%\n",
    "\n",
    "**Ввод**  \n",
    "Целое неотрицательное число - цена товара в рублях\n",
    "\n",
    "**Вывод**  \n",
    "Целое неотрицательное число - скидка на товар в рублях"
   ]
  },
  {
   "cell_type": "code",
   "execution_count": 12,
   "metadata": {},
   "outputs": [
    {
     "name": "stdout",
     "output_type": "stream",
     "text": [
      "149.85\n"
     ]
    }
   ],
   "source": [
    "# место для решения\n",
    "price = int(input())\n",
    "\n",
    "if price > 5000:\n",
    "    print(price * 0.25)\n",
    "elif price > 1000:\n",
    "    print(price * 0.20)\n",
    "else:\n",
    "    print(price * 0.15)    "
   ]
  },
  {
   "cell_type": "markdown",
   "metadata": {},
   "source": [
    "# Цикл while"
   ]
  },
  {
   "cell_type": "markdown",
   "metadata": {},
   "source": [
    "Довольно часто задачи требуют от нас несколько раз выполнить однотипный код.\n",
    "\n",
    "Если писать несколько раз одни и те же строки, это загромождает программу. Иногда несколько раз превращается в много (100 или 10000).\n",
    "А иногда это число вообще зависит от параметров ввода.\n",
    "\n",
    "Справиться с этим помогают **циклы**. На этом семинаре мы поработаем с циклом **while (пока)**"
   ]
  },
  {
   "cell_type": "markdown",
   "metadata": {},
   "source": [
    "Прицип использования цикла while: записываем логическое выражение и некоторый код. Код будет выполняться до тех пор, пока логическое выражение верно.\n",
    "\n",
    "Например, давайте напечатаем все целые числа от 1 до 10."
   ]
  },
  {
   "cell_type": "code",
   "execution_count": 10,
   "metadata": {},
   "outputs": [
    {
     "name": "stdout",
     "output_type": "stream",
     "text": [
      "1\n",
      "2\n",
      "3\n",
      "4\n",
      "5\n",
      "6\n",
      "7\n",
      "8\n",
      "9\n",
      "10\n"
     ]
    }
   ],
   "source": [
    "i = 1 \n",
    "while i <= 10:\n",
    "    print(i) \n",
    "    i += 1 "
   ]
  },
  {
   "cell_type": "markdown",
   "metadata": {},
   "source": [
    "Здесь мы использовали запись i += 1. Она эквивалентна i = i + 1.  \n",
    "Аналогично можно записывать и другие арифметические операции: например, -="
   ]
  },
  {
   "cell_type": "markdown",
   "metadata": {},
   "source": [
    "Обратите внимание, что код внутри цикла (тот, который мы хотим повторно выполнять), выделяется отступом."
   ]
  },
  {
   "cell_type": "markdown",
   "metadata": {},
   "source": [
    "## Операторы break и continue."
   ]
  },
  {
   "cell_type": "markdown",
   "metadata": {},
   "source": [
    "Циклами можно управлять с помощью операторов **break**, **continue**."
   ]
  },
  {
   "cell_type": "markdown",
   "metadata": {},
   "source": [
    "**Break** внутри цикла позволяет прервать его выполнение и сразу же перейти к коду, который идет после цикла (либо завершить программу).  \n",
    "\n",
    "В этом случае мы можем написать сразу после цикла секцию **else** (синтаксис при этом такой же, как и в условиях).  \n",
    "Код, написанный после **else**, будет выполняться, если цикл завершился \"естественным путем\" (т.е. не был прерван с помощью break)."
   ]
  },
  {
   "cell_type": "markdown",
   "metadata": {},
   "source": [
    "### Задача\n",
    "\n",
    "Рассмотрим пример задачи, которую можно решить с использованием break. \n",
    "\n",
    "Пусть студент сдал 5 предметов во время сессии и мы хотим узнать, есть ли у него пересдачи\n",
    "\n",
    "**Формат ввода**  \n",
    "До пяти оценок от 1 до 10\n",
    "\n",
    "**Формат вывода**  \n",
    "Если хотя бы одна из оценок меньше 4, завершаем программу и печатаем 'YES' (пересдачи есть)  \n",
    "Если все пять оценок больше 3, печатаем 'NO' (студент закрыл сессию без пересдач)"
   ]
  },
  {
   "cell_type": "code",
   "execution_count": 27,
   "metadata": {},
   "outputs": [
    {
     "name": "stdout",
     "output_type": "stream",
     "text": [
      "Введите оценку: 6\n",
      "Введите оценку: 7\n",
      "Введите оценку: 3\n",
      "YES\n"
     ]
    }
   ],
   "source": [
    "i = 1\n",
    "while i <= 5:\n",
    "    note = int(input(\"Введите оценку: \"))\n",
    "    if note < 4:\n",
    "        print('YES')\n",
    "        break\n",
    "    i += 1\n",
    "else: # else находится на том же уровне отступа, что и while, поэтому относится именно к циклу, а не к условию внутри цикла\n",
    "    print ('NO')"
   ]
  },
  {
   "cell_type": "markdown",
   "metadata": {},
   "source": [
    "Оператор **continue** позволяет сразу же перейти на новую итерацию цикла, не выполняя код, который написан внутри цикла ниже его."
   ]
  },
  {
   "cell_type": "markdown",
   "metadata": {},
   "source": [
    "Изменим условие задачи - теперь будем считать количество пересдач у студента"
   ]
  },
  {
   "cell_type": "code",
   "execution_count": 11,
   "metadata": {},
   "outputs": [
    {
     "name": "stdout",
     "output_type": "stream",
     "text": [
      "Итого пересдач: 2\n"
     ]
    }
   ],
   "source": [
    "i = 1\n",
    "retakes = 0\n",
    "while i <= 5:\n",
    "    note = int(input(\"Введите оценку: \"))\n",
    "    i += 1\n",
    "    if note >= 4: # если пересдачи нет, сразу же идем проверять переменную i, без увеличесния переменной retakes\n",
    "        continue\n",
    "    retakes += 1\n",
    "print(\"Итого пересдач:\", retakes)"
   ]
  },
  {
   "cell_type": "markdown",
   "metadata": {},
   "source": [
    "Операторами break и continue не стоит злоупотреблять, это может ухудшить читаемость кода.\n",
    "\n",
    "Например, в предыдущем примере мы бы справились и без continue:"
   ]
  },
  {
   "cell_type": "code",
   "execution_count": 35,
   "metadata": {},
   "outputs": [
    {
     "name": "stdout",
     "output_type": "stream",
     "text": [
      "Введите оценку: 5\n",
      "Введите оценку: 6\n",
      "Введите оценку: 7\n",
      "Введите оценку: 1\n",
      "Введите оценку: 7\n",
      "Итого пересдач: 1\n"
     ]
    }
   ],
   "source": [
    "i = 1\n",
    "retakes = 0\n",
    "while i <= 5:\n",
    "    note = int(input(\"Введите оценку: \"))\n",
    "    i += 1\n",
    "    if note < 4:\n",
    "        retakes += 1\n",
    "print(\"Итого пересдач:\", retakes)"
   ]
  },
  {
   "cell_type": "markdown",
   "metadata": {},
   "source": [
    "## (∩｀-´)⊃━☆ﾟ.*･｡ﾟ Задача\n",
    "Вася начал бегать и в первый день он пробежал X километров и выдохся. Вася поставил себе цель Y километров и решил узнать, когда он ее достигнет, если каждый день будет бегать дистанцию на 10% больше, чем в предыдущий.\n",
    "\n",
    "**Формат ввода**\n",
    "\n",
    "Программа получает на вход целые числа X, Y\n",
    "\n",
    "**Формат вывода**\n",
    "\n",
    "Одно целое число (день, когда Вася пробежит свою цель)\n",
    "\n",
    "**Примеры**  \n",
    "**Ввод:**  \n",
    "10  \n",
    "21\n",
    "\n",
    "**Вывод:**  \n",
    "9"
   ]
  },
  {
   "cell_type": "code",
   "execution_count": 13,
   "metadata": {},
   "outputs": [
    {
     "name": "stdout",
     "output_type": "stream",
     "text": [
      "9\n"
     ]
    }
   ],
   "source": [
    "x = int(input())\n",
    "y = int(input())\n",
    "\n",
    "day_count = 1\n",
    "while x < y:\n",
    "    x += x*0.1\n",
    "    day_count += 1\n",
    "    \n",
    "print(day_count)"
   ]
  },
  {
   "cell_type": "markdown",
   "metadata": {},
   "source": [
    "## (∩｀-´)⊃━☆ﾟ.*･｡ﾟ Задача\n",
    "\n",
    "## Cложные проценты\n",
    "Процентная ставка по вкладу составляет P процентов годовых, которые прибавляются к сумме вклада через год. Вклад составляет X рублей Y копеек. Дробное число копеек по истечении года отбрасывается. Выведите величину вклада в рубл\n",
    "\n",
    "**Формат ввода**\n",
    "\n",
    "Программа получает на вход целые числа P, X, Y, K.\n",
    "\n",
    "**Формат вывода**\n",
    "\n",
    "Программа должна вывести два числа: величину вклада через K лет в рублях и копейках. . Перерасчет суммы вклада (с отбрасыванием дробных частей копеек) происходит ежегодно.\n",
    "\n",
    "**Примеры**  \n",
    "Тест 1  \n",
    "**Входные данные:**  \n",
    "12  \n",
    "179  \n",
    "0  \n",
    "5  \n",
    "\n",
    "**Вывод программы:**  \n",
    "315 43\n",
    "\n",
    "Тест 2  \n",
    "**Входные данные:**  \n",
    "13  \n",
    "179  \n",
    "0  \n",
    "100  \n",
    "\n",
    "**Вывод программы:**   \n",
    "36360285 50\n",
    "\n",
    "Тест 3  \n",
    "**Входные данные:**   \n",
    "1  \n",
    "1  \n",
    "0  \n",
    "1000  \n",
    "\n",
    "**Вывод программы:**  \n",
    "11881 92"
   ]
  },
  {
   "cell_type": "code",
   "execution_count": 61,
   "metadata": {},
   "outputs": [
    {
     "name": "stdout",
     "output_type": "stream",
     "text": [
      "315 43\n"
     ]
    }
   ],
   "source": [
    "# (∩｀-´)⊃━☆ﾟ.*･｡ﾟ\n",
    "\n",
    "p = 12\n",
    "x = 179\n",
    "y = 0\n",
    "k = 5\n",
    "\n",
    "year = 0 # заводим счетчик годов\n",
    "end_year_amount = x * 100 + y # считаем начальную сумму в копейках\n",
    "\n",
    "while year < k:\n",
    "    percent = end_year_amount * p / 100 # считаем процент в этот год\n",
    "    end_year_amount = int(end_year_amount + percent) # считаем итог в этот год\n",
    "    year += 1 # Обновляем счетчик года\n",
    "    \n",
    "print(end_year_amount // 100, end_year_amount % 100)"
   ]
  }
 ],
 "metadata": {
  "kernelspec": {
   "display_name": "Python 3",
   "language": "python",
   "name": "python3"
  },
  "language_info": {
   "codemirror_mode": {
    "name": "ipython",
    "version": 3
   },
   "file_extension": ".py",
   "mimetype": "text/x-python",
   "name": "python",
   "nbconvert_exporter": "python",
   "pygments_lexer": "ipython3",
   "version": "3.8.3"
  }
 },
 "nbformat": 4,
 "nbformat_minor": 4
}
