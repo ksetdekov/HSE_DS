{
 "cells": [
  {
   "cell_type": "markdown",
   "metadata": {},
   "source": [
    "# Регулярные выражения"
   ]
  },
  {
   "cell_type": "code",
   "execution_count": 1,
   "metadata": {},
   "outputs": [],
   "source": [
    "import re"
   ]
  },
  {
   "cell_type": "code",
   "execution_count": 3,
   "metadata": {},
   "outputs": [
    {
     "name": "stdout",
     "output_type": "stream",
     "text": [
      "молок\n"
     ]
    }
   ],
   "source": [
    "A = input()"
   ]
  },
  {
   "cell_type": "code",
   "execution_count": 7,
   "metadata": {},
   "outputs": [
    {
     "name": "stdout",
     "output_type": "stream",
     "text": [
      "yes\n"
     ]
    }
   ],
   "source": [
    "if re.fullmatch(r'молок\\D*', A):\n",
    "    print('yes')"
   ]
  },
  {
   "cell_type": "code",
   "execution_count": 42,
   "metadata": {},
   "outputs": [
    {
     "name": "stdout",
     "output_type": "stream",
     "text": [
      "В174МС77\n"
     ]
    }
   ],
   "source": [
    "X = input()"
   ]
  },
  {
   "cell_type": "code",
   "execution_count": 43,
   "metadata": {},
   "outputs": [
    {
     "name": "stdout",
     "output_type": "stream",
     "text": [
      "АВТО\n"
     ]
    }
   ],
   "source": [
    "if re.fullmatch(r'[АВНЕСМТОКУРХABHECMTOKYPX]\\d{3}[АВНЕСМТОКУРХABHECMTOKYPX]{2}\\d{2,3}', X):\n",
    "    print('АВТО')\n",
    "elif re.fullmatch(r'[АВНЕСМТОКУРХABHECMTOKYPX]\\d{2}[АВНЕСМТОКУРХABHECMTOKYPX]{2}\\d{5,6}', X):\n",
    "    print('TAXI')\n",
    "else:\n",
    "    print('NO')"
   ]
  },
  {
   "cell_type": "code",
   "execution_count": 46,
   "metadata": {},
   "outputs": [
    {
     "name": "stdout",
     "output_type": "stream",
     "text": [
      "cth-vthd-vfkbyjdfz\n"
     ]
    }
   ],
   "source": [
    "I = input()"
   ]
  },
  {
   "cell_type": "code",
   "execution_count": 47,
   "metadata": {},
   "outputs": [
    {
     "name": "stdout",
     "output_type": "stream",
     "text": [
      "['cth-vthd-vfkbyjdfz']\n"
     ]
    }
   ],
   "source": [
    "print(re.findall(r'[a-zA-Zа-яА-ЯёЁ]+(?:[-]{1}[a-zA-Zа-яА-ЯёЁ]+)*',I))"
   ]
  },
  {
   "cell_type": "code",
   "execution_count": 52,
   "metadata": {},
   "outputs": [
    {
     "name": "stdout",
     "output_type": "stream",
     "text": [
      "ksetdekov@gmail.com\n",
      "['ksetdekov@gmail.com']\n"
     ]
    }
   ],
   "source": [
    "email = input()\n"
   ]
  },
  {
   "cell_type": "code",
   "execution_count": 54,
   "metadata": {},
   "outputs": [
    {
     "name": "stdout",
     "output_type": "stream",
     "text": [
      "['ksetdekov@gmail.com']\n"
     ]
    }
   ],
   "source": [
    "print(re.findall(r'[0-9a-zA-Z\\'\\-]{1,64}[@]{1}[0-9a-zA-Z\\'\\-]+[.]*[0-9a-zA-Z.]*', email))"
   ]
  },
  {
   "cell_type": "markdown",
   "metadata": {},
   "source": [
    "https://habr.com/ru/post/349860/"
   ]
  },
  {
   "cell_type": "code",
   "execution_count": null,
   "metadata": {},
   "outputs": [],
   "source": []
  }
 ],
 "metadata": {
  "kernelspec": {
   "display_name": "Python 3",
   "language": "python",
   "name": "python3"
  },
  "language_info": {
   "codemirror_mode": {
    "name": "ipython",
    "version": 3
   },
   "file_extension": ".py",
   "mimetype": "text/x-python",
   "name": "python",
   "nbconvert_exporter": "python",
   "pygments_lexer": "ipython3",
   "version": "3.8.3"
  }
 },
 "nbformat": 4,
 "nbformat_minor": 4
}
