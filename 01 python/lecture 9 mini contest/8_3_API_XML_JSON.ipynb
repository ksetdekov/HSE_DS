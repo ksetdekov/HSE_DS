{
 "cells": [
  {
   "cell_type": "markdown",
   "metadata": {},
   "source": [
    "# Python для анализа данных\n",
    "\n",
    "## Использование API. Работа с форматами XML и JSON\n",
    "\n",
    "*На основе лекции Ильи Щурова, НИУ ВШЭ*  \n",
    "*Дополнения: Татьяна Рогович, НИУ ВШЭ*  \n"
   ]
  },
  {
   "cell_type": "markdown",
   "metadata": {},
   "source": [
    "# XML"
   ]
  },
  {
   "cell_type": "markdown",
   "metadata": {},
   "source": [
    "До этого мы с вами собирали данные вручную, обращаясь к html страницам, размеченным для отображения в браузере. Но данные также можно собирать и через API -  — application program interface. Обычный интерфейс — это способ взаимодействия человека с программой, а API — одной программы с другой. Например, вашего скрипта на Python с удалённым веб-сервером. \n",
    "\n",
    "Для хранения веб-страниц, которые читают люди, используется язык HTML. Для хранения произвольных структурированных данных, которыми обмениваются между собой программы, используются другие языки — в частности, язык XML, похожий на HTML. Вернее было бы сказать, что XML это метаязык, то есть способ описания языков. В отличие от HTML, набор тегов в XML-документе может быть произвольным (и определяется разработчиком конкретного диалекта XML). Например, если бы мы хотели описать в виде XML некоторую студенческую группу, это могло бы выглядеть так:\n",
    "\n",
    "```xml\n",
    "<group>\n",
    "    <number>134</number>\n",
    "    <student>\n",
    "        <firstname>Виталий</firstname>\n",
    "        <lastname>Иванов</lastname>\n",
    "    </student>\n",
    "    <student>\n",
    "        <firstname>Мария</firstname>\n",
    "        <lastname>Петрова</lastname>\n",
    "    </student>\n",
    "</group>\n",
    "```"
   ]
  },
  {
   "cell_type": "markdown",
   "metadata": {},
   "source": [
    "Для обработки XML-файлов можно использовать тот же пакет *Beautiful Soup*, который мы уже использовали для работы с HTML. Единственное различие — нужно указать дополнительный параметр `feautres=\"xml\"` при вызове функции `BeautifulSoup` — чтобы он не искал в документе HTML-теги."
   ]
  },
  {
   "cell_type": "code",
   "execution_count": 11,
   "metadata": {},
   "outputs": [],
   "source": [
    "group = \"\"\"<group>\n",
    "<number>134</number>\n",
    "<student>\n",
    "<firstname>Виталий</firstname>\n",
    "<lastname>Иванов</lastname>\n",
    "</student>\n",
    "<student>\n",
    "<firstname>Мария</firstname>\n",
    "<lastname>Петрова</lastname>\n",
    "</student>\n",
    "</group>\"\"\""
   ]
  },
  {
   "cell_type": "code",
   "execution_count": 8,
   "metadata": {},
   "outputs": [
    {
     "name": "stdout",
     "output_type": "stream",
     "text": [
      "<?xml version=\"1.0\" encoding=\"utf-8\"?>\n",
      "<group>\n",
      " <number>\n",
      "  134\n",
      " </number>\n",
      " <student>\n",
      "  <firstname>\n",
      "   Виталий\n",
      "  </firstname>\n",
      "  <lastname>\n",
      "   Иванов\n",
      "  </lastname>\n",
      "  <lastname>\n",
      "   Петров\n",
      "  </lastname>\n",
      " </student>\n",
      " <student>\n",
      "  <firstname>\n",
      "   Мария\n",
      "  </firstname>\n",
      "  <lastname>\n",
      "   Петрова\n",
      "  </lastname>\n",
      " </student>\n",
      "</group>\n"
     ]
    }
   ],
   "source": [
    "from bs4 import BeautifulSoup\n",
    "\n",
    "obj = BeautifulSoup(group, features=\"xml\")\n",
    "print(obj.prettify())"
   ]
  },
  {
   "cell_type": "markdown",
   "metadata": {},
   "source": [
    "Номер группы можно найти, например, вот так - для каждого объекта через точку указываем его атрибут, в который надо спуститься. "
   ]
  },
  {
   "cell_type": "code",
   "execution_count": 14,
   "metadata": {},
   "outputs": [
    {
     "data": {
      "text/plain": [
       "'134'"
      ]
     },
     "execution_count": 14,
     "metadata": {},
     "output_type": "execute_result"
    }
   ],
   "source": [
    "obj.group.number.text # последний атрибут текст, точно также как делали в html"
   ]
  },
  {
   "cell_type": "markdown",
   "metadata": {},
   "source": [
    "Но это работает только тогда, когда тэг уникальный. В других случаях, парсер всегда будет попадать в первый child-тэг, который он встретил по пути вниз."
   ]
  },
  {
   "cell_type": "code",
   "execution_count": 16,
   "metadata": {},
   "outputs": [
    {
     "data": {
      "text/plain": [
       "'Иванов'"
      ]
     },
     "execution_count": 16,
     "metadata": {},
     "output_type": "execute_result"
    }
   ],
   "source": [
    "obj.group.student.lastname.text # до Петровой так не добраться"
   ]
  },
  {
   "cell_type": "markdown",
   "metadata": {},
   "source": [
    "Перечислить всех студентов можно с помощью цикла (похожая структура у нас была и в обработке html)."
   ]
  },
  {
   "cell_type": "code",
   "execution_count": 17,
   "metadata": {},
   "outputs": [
    {
     "name": "stdout",
     "output_type": "stream",
     "text": [
      "Иванов Виталий\n",
      "Петрова Мария\n"
     ]
    }
   ],
   "source": [
    "for student in obj.group.find_all('student'):\n",
    "    print(student.lastname.text, student.firstname.text)"
   ]
  },
  {
   "cell_type": "markdown",
   "metadata": {},
   "source": [
    "По сути, главное отличие xml от html, что работать вы будете не со стандартизированными структурами. Поэтому перед работой придется поиграть в детективов - запросить данные и внимательно изучить расположение узлов, чтобы понять, какие тэги вас интересуют.\n",
    "\n",
    "XML легко представить в виде дерева, где есть главный узел (parent) и его \"дети\".\n",
    "\n",
    "![](data:image/svg+xml;base64,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)  \n",
    "*Источник: Python for Everybody, C.Severance*"
   ]
  },
  {
   "cell_type": "markdown",
   "metadata": {},
   "source": [
    "Кроме BS парсить xml можно и с помощью других библиотек. Например, ElementTree.\n"
   ]
  },
  {
   "cell_type": "code",
   "execution_count": 18,
   "metadata": {},
   "outputs": [],
   "source": [
    "import xml.etree.ElementTree as ET\n"
   ]
  },
  {
   "cell_type": "code",
   "execution_count": 30,
   "metadata": {},
   "outputs": [
    {
     "data": {
      "text/plain": [
       "[<Element 'number' at 0x00000223E3DC20E8>,\n",
       " <Element 'student' at 0x00000223E3DC22C8>,\n",
       " <Element 'student' at 0x00000223E3DC27C8>]"
      ]
     },
     "execution_count": 30,
     "metadata": {},
     "output_type": "execute_result"
    }
   ],
   "source": [
    "tree = ET.fromstring(group)\n",
    "list(tree) # посмотрим, что внутри"
   ]
  },
  {
   "cell_type": "markdown",
   "metadata": {},
   "source": [
    "Cинтаксис очень похож на BS. Добрались до первой фамилии."
   ]
  },
  {
   "cell_type": "code",
   "execution_count": 33,
   "metadata": {},
   "outputs": [
    {
     "data": {
      "text/plain": [
       "'Иванов'"
      ]
     },
     "execution_count": 33,
     "metadata": {},
     "output_type": "execute_result"
    }
   ],
   "source": [
    "tree.find('student').find('lastname').text"
   ]
  },
  {
   "cell_type": "code",
   "execution_count": 36,
   "metadata": {},
   "outputs": [
    {
     "name": "stdout",
     "output_type": "stream",
     "text": [
      "Иванов\n",
      "Петрова\n"
     ]
    }
   ],
   "source": [
    "for element in tree.findall('student'):\n",
    "    print(element.find('lastname').text)"
   ]
  },
  {
   "cell_type": "markdown",
   "metadata": {},
   "source": [
    "Можно немного упростить код, включив дочерний тэг в findall."
   ]
  },
  {
   "cell_type": "code",
   "execution_count": 41,
   "metadata": {},
   "outputs": [
    {
     "name": "stdout",
     "output_type": "stream",
     "text": [
      "Иванов\n",
      "Петрова\n"
     ]
    }
   ],
   "source": [
    "for element in tree.findall('student/lastname'):\n",
    "    print(element.text)"
   ]
  },
  {
   "cell_type": "markdown",
   "metadata": {},
   "source": [
    "# Задача\n",
    "По ссылке данные в формате xml.\n",
    "http://py4e-data.dr-chuck.net/comments_42.xml\n",
    "\n",
    "Посчитайте все комментарии в этом документе (поля count)."
   ]
  },
  {
   "cell_type": "code",
   "execution_count": 46,
   "metadata": {},
   "outputs": [
    {
     "name": "stdout",
     "output_type": "stream",
     "text": [
      "2553\n"
     ]
    }
   ],
   "source": [
    "import requests\n",
    "data = requests.get('http://py4e-data.dr-chuck.net/comments_42.xml').text\n",
    "\n",
    "tree = ET.fromstring(data)\n",
    "\n",
    "total = 0\n",
    "for element in tree.findall('comments/comment/count'):\n",
    "    total += int(element.text)\n",
    "    \n",
    "print(total)"
   ]
  },
  {
   "cell_type": "markdown",
   "metadata": {},
   "source": [
    "# Реальный пример: wiki API"
   ]
  },
  {
   "cell_type": "markdown",
   "metadata": {},
   "source": [
    "Допустим, нам потребовалось получить список всех статей из некоторой категории в Википедии. Мы могли бы открыть эту категорию в браузере и дальше действовать теми методами, которые обсуждались выше. Однако, на наше счастье разработчики Википедии сделали удобное API. Чтобы научиться с ним работать, придётся познакомиться с [документацией](https://www.mediawiki.org/wiki/API:Main_page) (так будет с любым API), но это кажется сложным только в первый раз. Ну хорошо, в первые 10 раз. Или 20. Потом будет проще.\n",
    "\n",
    "Многие API будут требовать токена (например, ваш google логин-пароль для работы с гугл-документами), но мы сейчас работаем с открытым интерфейсом.\n",
    "\n",
    "Итак, приступим. Взаимодействие с сервером при помощи API происходит с помощью отправки специальным образом сформированных запросов и получения ответа в одном из машинночитаемых форматов. Нас будет интересовать формат XML, хотя бывают и другие (позже мы познакомимся с JSON). А вот такой запрос мы можем отправить:\n",
    "\n",
    "https://en.wikipedia.org/w/api.php?action=query&list=categorymembers&cmtitle=Category:Physics&cmsort=timestamp&cmdir=desc&format=xmlfm\n",
    "\n",
    "Строка `https://en.wikipedia.org/w/api.php` (до знака вопроса) — это *точка входа* в API. Всё, что идёт после знака вопроса — это, собственно, запрос. Он представляет собой что-то вроде словаря и состоит из пар «ключ=значение», разделяемых амперсандом `&`. Некоторые символы приходится кодировать специальным образом.\n",
    "\n",
    "Например, в адресе выше сказано, что мы хотим сделать запрос (`action=query`), перечислить элементы категории `list=categorymembers`, в качестве категории, которая нас интересует, указана `Category:Physics` (`cmtitle=Category:Physics`) и указаны некоторые другие параметры. Если кликнуть по этой ссылке, откроется примерно такая штука:\n",
    "\n",
    "```xml\n",
    "<?xml version=\"1.0\"?>\n",
    "<api batchcomplete=\"\">\n",
    "  <continue cmcontinue=\"2015-05-30 19:37:50|1653925\" continue=\"-||\" />\n",
    "  <query>\n",
    "    <categorymembers>\n",
    "      <cm pageid=\"24293838\" ns=\"0\" title=\"Wigner rotation\" />\n",
    "      <cm pageid=\"48583145\" ns=\"0\" title=\"Northwest Nuclear Consortium\" />\n",
    "      <cm pageid=\"48407923\" ns=\"0\" title=\"Hume Feldman\" />\n",
    "      <cm pageid=\"48249441\" ns=\"0\" title=\"Phase Stretch Transform\" />\n",
    "      <cm pageid=\"47723069\" ns=\"0\" title=\"Epicatalysis\" />\n",
    "      <cm pageid=\"2237966\" ns=\"14\" title=\"Category:Surface science\" />\n",
    "      <cm pageid=\"2143601\" ns=\"14\" title=\"Category:Interaction\" />\n",
    "      <cm pageid=\"10844347\" ns=\"14\" title=\"Category:Physical systems\" />\n",
    "      <cm pageid=\"18726608\" ns=\"14\" title=\"Category:Physical quantities\" />\n",
    "      <cm pageid=\"22688097\" ns=\"0\" title=\"Branches of physics\" />\n",
    "    </categorymembers>\n",
    "  </query>\n",
    "</api>\n",
    "```"
   ]
  },
  {
   "cell_type": "markdown",
   "metadata": {},
   "source": [
    "Мы видим здесь разные теги, и видим, что нас интересуют теги `<cm>`, находящиеся внутри тега `<categorymembers>`.\n",
    "\n",
    "Давайте сделаем соответствующий запрос с помощью Python. Для этого нам понадобится уже знакомый модуль `requests`."
   ]
  },
  {
   "cell_type": "code",
   "execution_count": 49,
   "metadata": {
    "collapsed": true
   },
   "outputs": [],
   "source": [
    "url = \"https://en.wikipedia.org/w/api.php\"\n",
    "params = {\n",
    "    'action':'query',\n",
    "    'list':'categorymembers',\n",
    "    'cmtitle': 'Category:Physics',\n",
    "    'format': 'xml'\n",
    "}\n",
    "\n",
    "g = requests.get(url, params=params)"
   ]
  },
  {
   "cell_type": "markdown",
   "metadata": {},
   "source": [
    "Как видно, список параметров мы передаем в виде обычного словаря. Посмотрим, что получилось."
   ]
  },
  {
   "cell_type": "code",
   "execution_count": 52,
   "metadata": {},
   "outputs": [
    {
     "data": {
      "text/plain": [
       "True"
      ]
     },
     "execution_count": 52,
     "metadata": {},
     "output_type": "execute_result"
    }
   ],
   "source": [
    "g.ok"
   ]
  },
  {
   "cell_type": "code",
   "execution_count": 51,
   "metadata": {},
   "outputs": [
    {
     "data": {
      "text/plain": [
       "\u001b[1;31mType:\u001b[0m        property\n",
       "\u001b[1;31mString form:\u001b[0m <property object at 0x00000223E404E408>\n",
       "\u001b[1;31mDocstring:\u001b[0m  \n",
       "Returns True if :attr:`status_code` is less than 400.\n",
       "\n",
       "This attribute checks if the status code of the response is between\n",
       "400 and 600 to see if there was a client error or a server error. If\n",
       "the status code, is between 200 and 400, this will return True. This\n",
       "is **not** a check to see if the response code is ``200 OK``.\n"
      ]
     },
     "metadata": {},
     "output_type": "display_data"
    }
   ],
   "source": [
    "?g.ok # возвращает ошибку, если сервер или клиент не отвечает"
   ]
  },
  {
   "cell_type": "markdown",
   "metadata": {},
   "source": [
    "Всё хорошо. Теперь используем *Beautiful Soup* для обработки этого XML."
   ]
  },
  {
   "cell_type": "code",
   "execution_count": 53,
   "metadata": {},
   "outputs": [],
   "source": [
    "data = BeautifulSoup(g.text, features='xml')"
   ]
  },
  {
   "cell_type": "code",
   "execution_count": 54,
   "metadata": {},
   "outputs": [
    {
     "name": "stdout",
     "output_type": "stream",
     "text": [
      "<?xml version=\"1.0\" encoding=\"utf-8\"?>\n",
      "<api batchcomplete=\"\">\n",
      " <continue cmcontinue=\"page|2f394d47314b4d3953310441312f395141011501dc14|51084847\" continue=\"-||\"/>\n",
      " <query>\n",
      "  <categorymembers>\n",
      "   <cm ns=\"0\" pageid=\"22939\" title=\"Physics\"/>\n",
      "   <cm ns=\"0\" pageid=\"24489\" title=\"Outline of physics\"/>\n",
      "   <cm ns=\"100\" pageid=\"1653925\" title=\"Portal:Physics\"/>\n",
      "   <cm ns=\"0\" pageid=\"55503653\" title=\"Camelback potential\"/>\n",
      "   <cm ns=\"0\" pageid=\"2664158\" title=\"Center of percussion\"/>\n",
      "   <cm ns=\"0\" pageid=\"62446002\" title=\"Chemical gardening\"/>\n",
      "   <cm ns=\"0\" pageid=\"48520204\" title=\"Computational anatomy\"/>\n",
      "   <cm ns=\"0\" pageid=\"53790076\" title=\"Conformon\"/>\n",
      "   <cm ns=\"0\" pageid=\"55823152\" title=\"Diffeomorphometry\"/>\n",
      "   <cm ns=\"0\" pageid=\"49885288\" title=\"Dirac membrane\"/>\n",
      "  </categorymembers>\n",
      " </query>\n",
      "</api>\n"
     ]
    }
   ],
   "source": [
    "print(data.prettify())"
   ]
  },
  {
   "cell_type": "markdown",
   "metadata": {},
   "source": [
    "Найдём все вхождения тега `<cm>` и выведем их атрибут `title`:"
   ]
  },
  {
   "cell_type": "code",
   "execution_count": 55,
   "metadata": {},
   "outputs": [
    {
     "name": "stdout",
     "output_type": "stream",
     "text": [
      "Physics\n",
      "Outline of physics\n",
      "Portal:Physics\n",
      "Camelback potential\n",
      "Center of percussion\n",
      "Chemical gardening\n",
      "Computational anatomy\n",
      "Conformon\n",
      "Diffeomorphometry\n",
      "Dirac membrane\n"
     ]
    }
   ],
   "source": [
    "for cm in data.api.query.categorymembers(\"cm\"):\n",
    "    print(cm['title'])"
   ]
  },
  {
   "cell_type": "markdown",
   "metadata": {},
   "source": [
    "Можно было упростить поиск `<cm>`, не указывая «полный путь» к ним:"
   ]
  },
  {
   "cell_type": "code",
   "execution_count": 56,
   "metadata": {},
   "outputs": [
    {
     "name": "stdout",
     "output_type": "stream",
     "text": [
      "Physics\n",
      "Outline of physics\n",
      "Portal:Physics\n",
      "Camelback potential\n",
      "Center of percussion\n",
      "Chemical gardening\n",
      "Computational anatomy\n",
      "Conformon\n",
      "Diffeomorphometry\n",
      "Dirac membrane\n"
     ]
    }
   ],
   "source": [
    "for cm in data(\"cm\"):\n",
    "    print(cm['title'])"
   ]
  },
  {
   "cell_type": "markdown",
   "metadata": {},
   "source": [
    "По умолчанию сервер вернул нам список из 10 элементов. Если мы хотим больше, нужно воспользоваться элементом `continue` — это своего рода гиперссылка на следующие 10 элементов."
   ]
  },
  {
   "cell_type": "code",
   "execution_count": 57,
   "metadata": {},
   "outputs": [
    {
     "data": {
      "text/plain": [
       "'page|2f394d47314b4d3953310441312f395141011501dc14|51084847'"
      ]
     },
     "execution_count": 57,
     "metadata": {},
     "output_type": "execute_result"
    }
   ],
   "source": [
    "data.find(\"continue\")['cmcontinue']"
   ]
  },
  {
   "cell_type": "markdown",
   "metadata": {},
   "source": [
    "Мне пришлось использовать метод `find()` вместо того, чтобы просто написать `data.continue`, потому что `continue` в Python имеет специальный смысл.\n",
    "\n",
    "Теперь добавим `cmcontinue` в наш запрос и выполним его ещё раз:"
   ]
  },
  {
   "cell_type": "code",
   "execution_count": 58,
   "metadata": {
    "collapsed": true
   },
   "outputs": [],
   "source": [
    "params['cmcontinue'] = data.api(\"continue\")[0]['cmcontinue']"
   ]
  },
  {
   "cell_type": "code",
   "execution_count": 59,
   "metadata": {},
   "outputs": [
    {
     "name": "stdout",
     "output_type": "stream",
     "text": [
      "Dispersive medium\n",
      "Dollar (reactivity)\n",
      "Elitzur–Vaidman bomb tester\n",
      "Energy well\n",
      "Front (physics)\n",
      "Gapped Hamiltonian\n",
      "Harmonic\n",
      "Homeokinetics\n",
      "Hopkinson effect\n",
      "KTHNY theory\n"
     ]
    }
   ],
   "source": [
    "g = requests.get(url, params=params)\n",
    "data = BeautifulSoup(g.text, features='xml')\n",
    "for cm in data.api.query.categorymembers(\"cm\"):\n",
    "    print(cm['title'])"
   ]
  },
  {
   "cell_type": "markdown",
   "metadata": {},
   "source": [
    "Мы получили следующие 10 элементов из категории. Продолжая таким образом, можно выкачать её даже целиком (правда, для этого потребуется много времени).\n",
    "\n",
    "Аналогичным образом реализована работа с разнообразными другими API, имеющимися на разных сайтах. Где-то API является полностью открытым (как в Википедии), где-то вам потребуется зарегистрироваться и получить application id и какой-нибудь ключ для доступа к API, где-то попросят даже заплатить (например, автоматический поиск в Google стоит что-то вроде 5 долларов за 100 запросов). Есть API, которые позволяют только читать информацию, а бывают и такие, которые позволяют её править. Например, можно написать скрипт, который будет автоматически сохранять какую-то информацию в Google Spreadsheets. Всякий раз при использовании API вам придётся изучить его документацию, но это в любом случае проще, чем обрабатывать HTML-код. Иногда удаётся упростить доступ к API, используя специальные библиотеки."
   ]
  },
  {
   "cell_type": "markdown",
   "metadata": {},
   "source": [
    "# JSON\n",
    "\n",
    "Другой популярный формат, в котором клиент может отдать вам данные - json. JSON расшифровывается как JavaScript Object Notation и изначально возник как подмножество языка JavaScript (пусть вас не вводит в заблуждение название, этот язык ничего не имеет общего с Java), используемое для описания объектов, но впоследствии стал использоваться и в других языках программирования, включая Python. Различные API могут поддерживать либо XML, либо JSON, либо и то, и другое, так что нам полезно научиться работать с обоими типами данных (например, wiki api могла бы выгрузить нам данные и в формате json при соответствующем запросе)."
   ]
  },
  {
   "cell_type": "code",
   "execution_count": 61,
   "metadata": {},
   "outputs": [
    {
     "data": {
      "text/plain": [
       "True"
      ]
     },
     "execution_count": 61,
     "metadata": {},
     "output_type": "execute_result"
    }
   ],
   "source": [
    "url = \"https://en.wikipedia.org/w/api.php\"\n",
    "params = {\n",
    "    'action':'query',\n",
    "    'list':'categorymembers',\n",
    "    'cmtitle': 'Category:Physics',\n",
    "    'format': 'json' # поменяли формат на json\n",
    "}\n",
    "\n",
    "j = requests.get(url, params=params)\n",
    "j.ok"
   ]
  },
  {
   "cell_type": "code",
   "execution_count": 64,
   "metadata": {},
   "outputs": [
    {
     "data": {
      "text/plain": [
       "'{\"batchcomplete\":\"\",\"continue\":{\"cmcontinue\":\"page|2f394d47314b4d3953310441312f395141011501dc14|51084847\",\"continue\":\"-||\"},\"query\":{\"categorymembers\":[{\"pageid\":22939,\"ns\":0,\"title\":\"Physics\"},{\"pageid\":24489,\"ns\":0,\"title\":\"Outline of physics\"},{\"pageid\":1653925,\"ns\":100,\"title\":\"Portal:Physics\"},{\"pageid\":55503653,\"ns\":0,\"title\":\"Camelback potential\"},{\"pageid\":2664158,\"ns\":0,\"title\":\"Center of percussion\"},{\"pageid\":62446002,\"ns\":0,\"title\":\"Chemical gardening\"},{\"pageid\":48520204,\"ns\":0,\"title\":\"Computational anatomy\"},{\"pageid\":53790076,\"ns\":0,\"title\":\"Conformon\"},{\"pageid\":55823152,\"ns\":0,\"title\":\"Diffeomorphometry\"},{\"pageid\":49885288,\"ns\":0,\"title\":\"Dirac membrane\"}]}}'"
      ]
     },
     "execution_count": 64,
     "metadata": {},
     "output_type": "execute_result"
    }
   ],
   "source": [
    "j.text"
   ]
  },
  {
   "cell_type": "markdown",
   "metadata": {},
   "source": [
    "Посмотрим, что достали. Уже сразу видно, что структура у данных совсем другая.\n",
    "\n",
    "JSON очень похож на описание объекта в Python и смысл квадратных и фигурных скобок такой же. Правда, есть и отличия: например, в Python одинарные и двойные кавычки ничем не отличаются, а в JSON можно использовать только двойные. Мы видим, что полученный нами JSON представляет собой словарь, значения которого — строки или числа, а также списки или словари, значения которых в свою очередь также могут быть строками, числами, списками, словарями и т.д. То есть получается такая довольно сложная структура данных.\n",
    "\n",
    "В данный момент тот факт, что перед нами сложная структура данных, видим только мы — с точки зрения Python, j.text это просто такая строка. Однако в модуле requests есть метод, позволяющий сразу выдать питоновский объект (словарь или список), если результат запроса возвращён в формате JSON. Так что нам не придётся использовать никакие дополнительные библиотеки."
   ]
  },
  {
   "cell_type": "code",
   "execution_count": 65,
   "metadata": {},
   "outputs": [],
   "source": [
    "j_data = j.json()"
   ]
  },
  {
   "cell_type": "code",
   "execution_count": 66,
   "metadata": {},
   "outputs": [
    {
     "data": {
      "text/plain": [
       "{'batchcomplete': '',\n",
       " 'continue': {'cmcontinue': 'page|2f394d47314b4d3953310441312f395141011501dc14|51084847',\n",
       "  'continue': '-||'},\n",
       " 'query': {'categorymembers': [{'pageid': 22939, 'ns': 0, 'title': 'Physics'},\n",
       "   {'pageid': 24489, 'ns': 0, 'title': 'Outline of physics'},\n",
       "   {'pageid': 1653925, 'ns': 100, 'title': 'Portal:Physics'},\n",
       "   {'pageid': 55503653, 'ns': 0, 'title': 'Camelback potential'},\n",
       "   {'pageid': 2664158, 'ns': 0, 'title': 'Center of percussion'},\n",
       "   {'pageid': 62446002, 'ns': 0, 'title': 'Chemical gardening'},\n",
       "   {'pageid': 48520204, 'ns': 0, 'title': 'Computational anatomy'},\n",
       "   {'pageid': 53790076, 'ns': 0, 'title': 'Conformon'},\n",
       "   {'pageid': 55823152, 'ns': 0, 'title': 'Diffeomorphometry'},\n",
       "   {'pageid': 49885288, 'ns': 0, 'title': 'Dirac membrane'}]}}"
      ]
     },
     "execution_count": 66,
     "metadata": {},
     "output_type": "execute_result"
    }
   ],
   "source": [
    "j_data # получили честный питоновский словарь"
   ]
  },
  {
   "cell_type": "markdown",
   "metadata": {},
   "source": [
    "Содержательная информация хранится по ключу 'query'. А уже внутри есть ключ 'categorymembers', значением которого является список всех категорий. Каждая категория отображается в виде словаря, записями которого являются разные параметры категории (например, 'title' соответствует названию, а pageid — внутреннему идентификатору в системе).\n",
    "\n"
   ]
  },
  {
   "cell_type": "code",
   "execution_count": 69,
   "metadata": {},
   "outputs": [
    {
     "data": {
      "text/plain": [
       "list"
      ]
     },
     "execution_count": 69,
     "metadata": {},
     "output_type": "execute_result"
    }
   ],
   "source": [
    "type(j_data['query']['categorymembers']) # привычный нам список"
   ]
  },
  {
   "cell_type": "code",
   "execution_count": 72,
   "metadata": {},
   "outputs": [
    {
     "name": "stdout",
     "output_type": "stream",
     "text": [
      "Physics\n",
      "Outline of physics\n",
      "Portal:Physics\n",
      "Camelback potential\n",
      "Center of percussion\n",
      "Chemical gardening\n",
      "Computational anatomy\n",
      "Conformon\n",
      "Diffeomorphometry\n",
      "Dirac membrane\n"
     ]
    }
   ],
   "source": [
    "for cm in j_data['query']['categorymembers']: # пройдемся по нему привычным нам циклом\n",
    "    print(cm['title'])"
   ]
  },
  {
   "cell_type": "markdown",
   "metadata": {},
   "source": [
    "Преимущества JSON в том, что мы получаем готовый объект Python и нет необходимости использовать какие-то дополнительные библиотеки для того, чтобы с ним работать. Недостатком является то же самое: зачастую поиск информации в XML-файле может проводиться более эффективно, чем в JSON. Продемонстрируем это на уже рассмотренном примере. Чтобы получить список всех тегов <cm>, в которых хранилась информация об элементах категории в XML, мы использовали полный «путь»:\n",
    "\n",
    "```python\n",
    "for cm in data.api.query.categorymembers(\"cm\"):\n",
    "    print(cm['title'])\n",
    "```\n",
    "\n",
    "Однако, это можно бы сделать (в данном случае) гораздо короче. Если посмотреть на XML, то можно заметить, что в нём нет других тегов <cm>, кроме тех, которые нам нужны. С другой стороны, Beautiful Soup ищет все теги с данным именем, а не только те, которые являются потомками первого уровня для данного тега. Таким образом, код выше можно было бы переписать более коротко:"
   ]
  },
  {
   "cell_type": "code",
   "execution_count": 73,
   "metadata": {},
   "outputs": [
    {
     "name": "stdout",
     "output_type": "stream",
     "text": [
      "Dispersive medium\n",
      "Dollar (reactivity)\n",
      "Elitzur–Vaidman bomb tester\n",
      "Energy well\n",
      "Front (physics)\n",
      "Gapped Hamiltonian\n",
      "Harmonic\n",
      "Homeokinetics\n",
      "Hopkinson effect\n",
      "KTHNY theory\n"
     ]
    }
   ],
   "source": [
    "for cm in data(\"cm\"):\n",
    "    print(cm['title'])"
   ]
  },
  {
   "cell_type": "markdown",
   "metadata": {},
   "source": [
    "Конечно data(\"cm\") выглядит короче, чем q['query']['categorymembers']. В JSON мы не можем использовать подобные методы. Так что у обоих форматов есть свои плюсы и минусы."
   ]
  },
  {
   "cell_type": "markdown",
   "metadata": {},
   "source": [
    "## JSON (парсинг VK)\n",
    "\n",
    "Как уже говорилось выше, не все API открытые. Так, чтобы достать информацию из vk вам придется сгенерировать токен с помощью вашего аккаунта (мы выложим отдельный блокнот как это сделать, для тех, кому будет интересно). API VK отдает данные в json. Структура тут будет посложнее, чем то, что мы уже видели, поэтому давайте еще потренируемся."
   ]
  },
  {
   "cell_type": "markdown",
   "metadata": {},
   "source": [
    "Теперь научимся еще и загружать JSON файл с диска. Для этого нам понадобится модуль json."
   ]
  },
  {
   "cell_type": "code",
   "execution_count": 1,
   "metadata": {},
   "outputs": [],
   "source": [
    "import json\n",
    "with open('vk.json',  'r', encoding='Utf-8') as json_data: # так как лежит в одной папке. 'r' потому что только read\n",
    "    res_loaded = json.load(json_data) # считываем данные с помощью функции .load()"
   ]
  },
  {
   "cell_type": "markdown",
   "metadata": {},
   "source": [
    "Здесь у нас выгрузка постов со стены группы ВШЭ."
   ]
  },
  {
   "cell_type": "code",
   "execution_count": 75,
   "metadata": {},
   "outputs": [
    {
     "data": {
      "text/plain": [
       "[{'id': 32494,\n",
       "  'from_id': -132,\n",
       "  'owner_id': -132,\n",
       "  'date': 1541422799,\n",
       "  'marked_as_ads': 0,\n",
       "  'post_type': 'post',\n",
       "  'text': '',\n",
       "  'attachments': [{'type': 'link',\n",
       "    'link': {'url': 'http://family.hse.ru/event/view/2271',\n",
       "     'title': 'День карьеры факультета бизнеса и менеджмента',\n",
       "     'caption': 'family.hse.ru',\n",
       "     'description': '',\n",
       "     'photo': {'id': 456239093,\n",
       "      'album_id': -2,\n",
       "      'owner_id': 100,\n",
       "      'photo_75': 'https://pp.userapi.com/c850336/v850336548/628ea/TwPjzdADVZ4.jpg',\n",
       "      'photo_130': 'https://pp.userapi.com/c850336/v850336548/628eb/gMSUSljxiC8.jpg',\n",
       "      'photo_604': 'https://pp.userapi.com/c850336/v850336548/628ec/kIMEO_f_3JQ.jpg',\n",
       "      'width': 150,\n",
       "      'height': 80,\n",
       "      'text': '',\n",
       "      'date': 1541422799}}}],\n",
       "  'post_source': {'type': 'vk'},\n",
       "  'comments': {'count': 0, 'can_post': 1, 'groups_can_post': True},\n",
       "  'likes': {'count': 6, 'user_likes': 0, 'can_like': 1, 'can_publish': 1},\n",
       "  'reposts': {'count': 2, 'user_reposted': 0},\n",
       "  'views': {'count': 2832}},\n",
       " {'id': 32493,\n",
       "  'from_id': -132,\n",
       "  'owner_id': -132,\n",
       "  'date': 1541076555,\n",
       "  'marked_as_ads': 0,\n",
       "  'post_type': 'post',\n",
       "  'text': 'На Шаболовке 7 ноября в 18:30 ауд 5215 состоится встреча с представителем оргкомитета симпозиума, Lars John. Авторы лучших эссе получат возможность участвовать в симпозиуме в Швейцарии, а автор cамого лучшего эссе получит значительный денежный приз. Приглашаем всех студентов магистратуры, студентов 4 курса и аспирантов принять участие в этой встрече. \\n \\nTo all grad/postgrad and 4th year undergraduate students: compete until 1 Feb 2019 and qualify as a Leader of Tomorrow for the #49sgs (8–10 May 2019) in Switzerland, all expenses paid. Create an impact and win CHF 20,000. Leaders who have attended in the past include Niall Ferguson, Jack Ma, Christine Lagarde, Paul Polman, Anders Fogh Rasmussen, Ratan Tata, Muhammad Yunus, and many more. Register now at www.symp.sg/apply',\n",
       "  'post_source': {'type': 'vk'},\n",
       "  'comments': {'count': 0, 'can_post': 1, 'groups_can_post': True},\n",
       "  'likes': {'count': 2, 'user_likes': 0, 'can_like': 1, 'can_publish': 1},\n",
       "  'reposts': {'count': 1, 'user_reposted': 0},\n",
       "  'views': {'count': 3943}}]"
      ]
     },
     "execution_count": 75,
     "metadata": {},
     "output_type": "execute_result"
    }
   ],
   "source": [
    "res_loaded['items'][:2]"
   ]
  },
  {
   "cell_type": "code",
   "execution_count": 76,
   "metadata": {},
   "outputs": [
    {
     "data": {
      "text/plain": [
       "dict_keys(['count', 'items'])"
      ]
     },
     "execution_count": 76,
     "metadata": {},
     "output_type": "execute_result"
    }
   ],
   "source": [
    "res_loaded.keys()"
   ]
  },
  {
   "cell_type": "markdown",
   "metadata": {},
   "source": [
    "Ключами являются `count` и `items`. Нужные нам объекты (текст постов, id автора, дата и время публикации и проч.) находятся в `items`."
   ]
  },
  {
   "cell_type": "code",
   "execution_count": 77,
   "metadata": {},
   "outputs": [
    {
     "data": {
      "text/plain": [
       "{'id': 32494,\n",
       " 'from_id': -132,\n",
       " 'owner_id': -132,\n",
       " 'date': 1541422799,\n",
       " 'marked_as_ads': 0,\n",
       " 'post_type': 'post',\n",
       " 'text': '',\n",
       " 'attachments': [{'type': 'link',\n",
       "   'link': {'url': 'http://family.hse.ru/event/view/2271',\n",
       "    'title': 'День карьеры факультета бизнеса и менеджмента',\n",
       "    'caption': 'family.hse.ru',\n",
       "    'description': '',\n",
       "    'photo': {'id': 456239093,\n",
       "     'album_id': -2,\n",
       "     'owner_id': 100,\n",
       "     'photo_75': 'https://pp.userapi.com/c850336/v850336548/628ea/TwPjzdADVZ4.jpg',\n",
       "     'photo_130': 'https://pp.userapi.com/c850336/v850336548/628eb/gMSUSljxiC8.jpg',\n",
       "     'photo_604': 'https://pp.userapi.com/c850336/v850336548/628ec/kIMEO_f_3JQ.jpg',\n",
       "     'width': 150,\n",
       "     'height': 80,\n",
       "     'text': '',\n",
       "     'date': 1541422799}}}],\n",
       " 'post_source': {'type': 'vk'},\n",
       " 'comments': {'count': 0, 'can_post': 1, 'groups_can_post': True},\n",
       " 'likes': {'count': 6, 'user_likes': 0, 'can_like': 1, 'can_publish': 1},\n",
       " 'reposts': {'count': 2, 'user_reposted': 0},\n",
       " 'views': {'count': 2832}}"
      ]
     },
     "execution_count": 77,
     "metadata": {},
     "output_type": "execute_result"
    }
   ],
   "source": [
    "res_loaded['items'][0] # первый элемент items - первый пост со всей информацией о нем"
   ]
  },
  {
   "cell_type": "markdown",
   "metadata": {},
   "source": [
    "Помимо текста поста можно найти много всего интересного. Например, тип поста (`post_type`), дата (`date`), id поста (`id`), лайки (`likes`, которые включают информацию о том, могут ли пользователи лайкать пост и публиковать его, а также собственно число лайков), репосты (`reposts`, которые включают число репостов), число просмотров (`views`), комментарии (`comments`, которые включают информацию о том, могут ли пользователи комментировать пост, и число комментариев), и так далее.\n",
    "\n",
    "Давайте остановимся на тексте поста, id автора, id поста и дате публикации. Чтобы извлечь соответствующую информацию, сохраним `items` и извлечем из них нужные поля:"
   ]
  },
  {
   "cell_type": "code",
   "execution_count": 78,
   "metadata": {},
   "outputs": [
    {
     "data": {
      "text/plain": [
       "[[-132, 32494, '', 1541422799],\n",
       " [-132,\n",
       "  32493,\n",
       "  'На Шаболовке 7 ноября в 18:30 ауд 5215 состоится встреча с представителем оргкомитета симпозиума, Lars John. Авторы лучших эссе получат возможность участвовать в симпозиуме в Швейцарии, а автор cамого лучшего эссе получит значительный денежный приз. Приглашаем всех студентов магистратуры, студентов 4 курса и аспирантов принять участие в этой встрече. \\n \\nTo all grad/postgrad and 4th year undergraduate students: compete until 1 Feb 2019 and qualify as a Leader of Tomorrow for the #49sgs (8–10 May 2019) in Switzerland, all expenses paid. Create an impact and win CHF 20,000. Leaders who have attended in the past include Niall Ferguson, Jack Ma, Christine Lagarde, Paul Polman, Anders Fogh Rasmussen, Ratan Tata, Muhammad Yunus, and many more. Register now at www.symp.sg/apply',\n",
       "  1541076555],\n",
       " [-132, 32492, '', 1540743239],\n",
       " [-132, 32491, '', 1540551399]]"
      ]
     },
     "execution_count": 78,
     "metadata": {},
     "output_type": "execute_result"
    }
   ],
   "source": [
    "items = res_loaded['items']\n",
    "full_list = []\n",
    "\n",
    "for item in items:\n",
    "    l = [item['from_id'], item['id'], item['text'], item['date']] # нужные поля\n",
    "    full_list.append(l) # добавляем в список списков full_list\n",
    "# несколько элементов списка\n",
    "full_list[0:4]"
   ]
  },
  {
   "cell_type": "markdown",
   "metadata": {},
   "source": [
    "Видно, что в двух первых постах текста не обнаружено, там только картинки, ссылки и репосты.\n",
    "\n",
    "Из этого списка списков можно легко сделать датафрейм `pandas`."
   ]
  },
  {
   "cell_type": "markdown",
   "metadata": {},
   "source": [
    "Но если у ссылок, репостов и картинок нет текста, то наш DataFrame будет выглядет неполноценно. Поэтому добавим условие, что если текст отсутсвует, вставим в DataFrame строку с этой отметкой."
   ]
  },
  {
   "cell_type": "code",
   "execution_count": 9,
   "metadata": {},
   "outputs": [],
   "source": [
    "# опять выберем только нужные поля\n",
    "full_list = []\n",
    "for item in items:\n",
    "    if item['text'] == \"\":\n",
    "        l = [item['from_id'], item['id'], \"Картинка, ссылка или репост\", item['date']]\n",
    "    else:\n",
    "        l = [item['from_id'], item['id'], item['text'], item['date']]\n",
    "    full_list.append(l)"
   ]
  },
  {
   "cell_type": "markdown",
   "metadata": {},
   "source": [
    "Оставлось превратить обновленный список `items` (список списков) в датафрейм. Импортируем `pandas`."
   ]
  },
  {
   "cell_type": "code",
   "execution_count": 10,
   "metadata": {},
   "outputs": [],
   "source": [
    "import pandas as pd"
   ]
  },
  {
   "cell_type": "markdown",
   "metadata": {},
   "source": [
    "Создадим датафрейм:"
   ]
  },
  {
   "cell_type": "code",
   "execution_count": 11,
   "metadata": {},
   "outputs": [
    {
     "data": {
      "text/html": [
       "<div>\n",
       "<style scoped>\n",
       "    .dataframe tbody tr th:only-of-type {\n",
       "        vertical-align: middle;\n",
       "    }\n",
       "\n",
       "    .dataframe tbody tr th {\n",
       "        vertical-align: top;\n",
       "    }\n",
       "\n",
       "    .dataframe thead th {\n",
       "        text-align: right;\n",
       "    }\n",
       "</style>\n",
       "<table border=\"1\" class=\"dataframe\">\n",
       "  <thead>\n",
       "    <tr style=\"text-align: right;\">\n",
       "      <th></th>\n",
       "      <th>0</th>\n",
       "      <th>1</th>\n",
       "      <th>2</th>\n",
       "      <th>3</th>\n",
       "    </tr>\n",
       "  </thead>\n",
       "  <tbody>\n",
       "    <tr>\n",
       "      <th>0</th>\n",
       "      <td>-132</td>\n",
       "      <td>32494</td>\n",
       "      <td>Картинка, ссылка или репост</td>\n",
       "      <td>1541422799</td>\n",
       "    </tr>\n",
       "    <tr>\n",
       "      <th>1</th>\n",
       "      <td>-132</td>\n",
       "      <td>32493</td>\n",
       "      <td>На Шаболовке 7 ноября в 18:30 ауд 5215 состоит...</td>\n",
       "      <td>1541076555</td>\n",
       "    </tr>\n",
       "    <tr>\n",
       "      <th>2</th>\n",
       "      <td>-132</td>\n",
       "      <td>32492</td>\n",
       "      <td>Картинка, ссылка или репост</td>\n",
       "      <td>1540743239</td>\n",
       "    </tr>\n",
       "    <tr>\n",
       "      <th>3</th>\n",
       "      <td>-132</td>\n",
       "      <td>32491</td>\n",
       "      <td>Картинка, ссылка или репост</td>\n",
       "      <td>1540551399</td>\n",
       "    </tr>\n",
       "    <tr>\n",
       "      <th>4</th>\n",
       "      <td>-132</td>\n",
       "      <td>32488</td>\n",
       "      <td>Картинка, ссылка или репост</td>\n",
       "      <td>1540302306</td>\n",
       "    </tr>\n",
       "    <tr>\n",
       "      <th>5</th>\n",
       "      <td>-132</td>\n",
       "      <td>32486</td>\n",
       "      <td>26-28 октября в Москве пройдет крупнейший в Ро...</td>\n",
       "      <td>1539863523</td>\n",
       "    </tr>\n",
       "    <tr>\n",
       "      <th>6</th>\n",
       "      <td>-132</td>\n",
       "      <td>32485</td>\n",
       "      <td>Картинка, ссылка или репост</td>\n",
       "      <td>1539781575</td>\n",
       "    </tr>\n",
       "    <tr>\n",
       "      <th>7</th>\n",
       "      <td>-132</td>\n",
       "      <td>32484</td>\n",
       "      <td>Картинка, ссылка или репост</td>\n",
       "      <td>1539718883</td>\n",
       "    </tr>\n",
       "    <tr>\n",
       "      <th>8</th>\n",
       "      <td>-132</td>\n",
       "      <td>32481</td>\n",
       "      <td>Картинка, ссылка или репост</td>\n",
       "      <td>1539088885</td>\n",
       "    </tr>\n",
       "    <tr>\n",
       "      <th>9</th>\n",
       "      <td>-132</td>\n",
       "      <td>32480</td>\n",
       "      <td>Будущим магистрам! Новая программа Факультета ...</td>\n",
       "      <td>1539088745</td>\n",
       "    </tr>\n",
       "  </tbody>\n",
       "</table>\n",
       "</div>"
      ],
      "text/plain": [
       "     0      1                                                  2           3\n",
       "0 -132  32494                        Картинка, ссылка или репост  1541422799\n",
       "1 -132  32493  На Шаболовке 7 ноября в 18:30 ауд 5215 состоит...  1541076555\n",
       "2 -132  32492                        Картинка, ссылка или репост  1540743239\n",
       "3 -132  32491                        Картинка, ссылка или репост  1540551399\n",
       "4 -132  32488                        Картинка, ссылка или репост  1540302306\n",
       "5 -132  32486  26-28 октября в Москве пройдет крупнейший в Ро...  1539863523\n",
       "6 -132  32485                        Картинка, ссылка или репост  1539781575\n",
       "7 -132  32484                        Картинка, ссылка или репост  1539718883\n",
       "8 -132  32481                        Картинка, ссылка или репост  1539088885\n",
       "9 -132  32480  Будущим магистрам! Новая программа Факультета ...  1539088745"
      ]
     },
     "execution_count": 11,
     "metadata": {},
     "output_type": "execute_result"
    }
   ],
   "source": [
    "df = pd.DataFrame(full_list)\n",
    "df.head(10)"
   ]
  },
  {
   "cell_type": "markdown",
   "metadata": {},
   "source": [
    "Ура! Осталось только дать внятные названия столбцам и разобраться, почему дата представлена в таком виде. что делать со столбцами, мы уже знаем."
   ]
  },
  {
   "cell_type": "code",
   "execution_count": 12,
   "metadata": {},
   "outputs": [
    {
     "data": {
      "text/html": [
       "<div>\n",
       "<style scoped>\n",
       "    .dataframe tbody tr th:only-of-type {\n",
       "        vertical-align: middle;\n",
       "    }\n",
       "\n",
       "    .dataframe tbody tr th {\n",
       "        vertical-align: top;\n",
       "    }\n",
       "\n",
       "    .dataframe thead th {\n",
       "        text-align: right;\n",
       "    }\n",
       "</style>\n",
       "<table border=\"1\" class=\"dataframe\">\n",
       "  <thead>\n",
       "    <tr style=\"text-align: right;\">\n",
       "      <th></th>\n",
       "      <th>From_id</th>\n",
       "      <th>Id</th>\n",
       "      <th>Text</th>\n",
       "      <th>Date_Unix</th>\n",
       "    </tr>\n",
       "  </thead>\n",
       "  <tbody>\n",
       "    <tr>\n",
       "      <th>0</th>\n",
       "      <td>-132</td>\n",
       "      <td>32494</td>\n",
       "      <td>Картинка, ссылка или репост</td>\n",
       "      <td>1541422799</td>\n",
       "    </tr>\n",
       "    <tr>\n",
       "      <th>1</th>\n",
       "      <td>-132</td>\n",
       "      <td>32493</td>\n",
       "      <td>На Шаболовке 7 ноября в 18:30 ауд 5215 состоит...</td>\n",
       "      <td>1541076555</td>\n",
       "    </tr>\n",
       "    <tr>\n",
       "      <th>2</th>\n",
       "      <td>-132</td>\n",
       "      <td>32492</td>\n",
       "      <td>Картинка, ссылка или репост</td>\n",
       "      <td>1540743239</td>\n",
       "    </tr>\n",
       "    <tr>\n",
       "      <th>3</th>\n",
       "      <td>-132</td>\n",
       "      <td>32491</td>\n",
       "      <td>Картинка, ссылка или репост</td>\n",
       "      <td>1540551399</td>\n",
       "    </tr>\n",
       "    <tr>\n",
       "      <th>4</th>\n",
       "      <td>-132</td>\n",
       "      <td>32488</td>\n",
       "      <td>Картинка, ссылка или репост</td>\n",
       "      <td>1540302306</td>\n",
       "    </tr>\n",
       "    <tr>\n",
       "      <th>5</th>\n",
       "      <td>-132</td>\n",
       "      <td>32486</td>\n",
       "      <td>26-28 октября в Москве пройдет крупнейший в Ро...</td>\n",
       "      <td>1539863523</td>\n",
       "    </tr>\n",
       "    <tr>\n",
       "      <th>6</th>\n",
       "      <td>-132</td>\n",
       "      <td>32485</td>\n",
       "      <td>Картинка, ссылка или репост</td>\n",
       "      <td>1539781575</td>\n",
       "    </tr>\n",
       "    <tr>\n",
       "      <th>7</th>\n",
       "      <td>-132</td>\n",
       "      <td>32484</td>\n",
       "      <td>Картинка, ссылка или репост</td>\n",
       "      <td>1539718883</td>\n",
       "    </tr>\n",
       "    <tr>\n",
       "      <th>8</th>\n",
       "      <td>-132</td>\n",
       "      <td>32481</td>\n",
       "      <td>Картинка, ссылка или репост</td>\n",
       "      <td>1539088885</td>\n",
       "    </tr>\n",
       "    <tr>\n",
       "      <th>9</th>\n",
       "      <td>-132</td>\n",
       "      <td>32480</td>\n",
       "      <td>Будущим магистрам! Новая программа Факультета ...</td>\n",
       "      <td>1539088745</td>\n",
       "    </tr>\n",
       "  </tbody>\n",
       "</table>\n",
       "</div>"
      ],
      "text/plain": [
       "   From_id     Id                                               Text  \\\n",
       "0     -132  32494                        Картинка, ссылка или репост   \n",
       "1     -132  32493  На Шаболовке 7 ноября в 18:30 ауд 5215 состоит...   \n",
       "2     -132  32492                        Картинка, ссылка или репост   \n",
       "3     -132  32491                        Картинка, ссылка или репост   \n",
       "4     -132  32488                        Картинка, ссылка или репост   \n",
       "5     -132  32486  26-28 октября в Москве пройдет крупнейший в Ро...   \n",
       "6     -132  32485                        Картинка, ссылка или репост   \n",
       "7     -132  32484                        Картинка, ссылка или репост   \n",
       "8     -132  32481                        Картинка, ссылка или репост   \n",
       "9     -132  32480  Будущим магистрам! Новая программа Факультета ...   \n",
       "\n",
       "    Date_Unix  \n",
       "0  1541422799  \n",
       "1  1541076555  \n",
       "2  1540743239  \n",
       "3  1540551399  \n",
       "4  1540302306  \n",
       "5  1539863523  \n",
       "6  1539781575  \n",
       "7  1539718883  \n",
       "8  1539088885  \n",
       "9  1539088745  "
      ]
     },
     "execution_count": 12,
     "metadata": {},
     "output_type": "execute_result"
    }
   ],
   "source": [
    "df.columns = ['From_id', 'Id', 'Text', 'Date_Unix']\n",
    "df.head(10)"
   ]
  },
  {
   "cell_type": "markdown",
   "metadata": {},
   "source": [
    "С датой все интереснее. То, что указано в столбце `date`, это дата в виде UNIX-времени (POSIX-времени). Это число секунд, прошедших с 1 января 1970 года. Несмотря на то, что такой формат даты-времени кажется необычным, он довольно широко распространен в разных системах и приложениях. Этот факт, конечно, радует, но хочется получить дату в более человеческом формате. Давайте напишем функцию для перевода UNIX-времени в формат год-месяц-день-часы-минуты-секунды. Для этого нам понадобится модуль datetime."
   ]
  },
  {
   "cell_type": "code",
   "execution_count": 13,
   "metadata": {},
   "outputs": [],
   "source": [
    "from datetime import datetime"
   ]
  },
  {
   "cell_type": "code",
   "execution_count": 14,
   "metadata": {},
   "outputs": [],
   "source": [
    "def date_norm(date):\n",
    "    d = datetime.fromtimestamp(date) # timestamp - UNIX-время в виде строки\n",
    "    str_d = d.strftime(\"%Y-%m-%d %H:%M:%S\") # %Y-%m-%d %H:%M:%S - год-месяц-день, часы:минуты:секунды\n",
    "    date_norm, time_norm = str_d.split(' ') # разобьем результат на части, отделим дату от времени\n",
    "    return date_norm, time_norm"
   ]
  },
  {
   "cell_type": "markdown",
   "metadata": {},
   "source": [
    "Применим нашу функцию к элементам столбца date и создадим новый ‒ `date_norm`."
   ]
  },
  {
   "cell_type": "code",
   "execution_count": 15,
   "metadata": {},
   "outputs": [],
   "source": [
    "df['Date_Norm'] = df.Date_Unix.apply(date_norm)  "
   ]
  },
  {
   "cell_type": "markdown",
   "metadata": {},
   "source": [
    "# приминяем функцию которая строку даты превращает в кортеж - применяем к всем строкам"
   ]
  },
  {
   "cell_type": "code",
   "execution_count": 16,
   "metadata": {},
   "outputs": [
    {
     "data": {
      "text/html": [
       "<div>\n",
       "<style scoped>\n",
       "    .dataframe tbody tr th:only-of-type {\n",
       "        vertical-align: middle;\n",
       "    }\n",
       "\n",
       "    .dataframe tbody tr th {\n",
       "        vertical-align: top;\n",
       "    }\n",
       "\n",
       "    .dataframe thead th {\n",
       "        text-align: right;\n",
       "    }\n",
       "</style>\n",
       "<table border=\"1\" class=\"dataframe\">\n",
       "  <thead>\n",
       "    <tr style=\"text-align: right;\">\n",
       "      <th></th>\n",
       "      <th>From_id</th>\n",
       "      <th>Id</th>\n",
       "      <th>Text</th>\n",
       "      <th>Date_Unix</th>\n",
       "      <th>Date_Norm</th>\n",
       "    </tr>\n",
       "  </thead>\n",
       "  <tbody>\n",
       "    <tr>\n",
       "      <th>0</th>\n",
       "      <td>-132</td>\n",
       "      <td>32494</td>\n",
       "      <td>Картинка, ссылка или репост</td>\n",
       "      <td>1541422799</td>\n",
       "      <td>(2018-11-05, 15:59:59)</td>\n",
       "    </tr>\n",
       "    <tr>\n",
       "      <th>1</th>\n",
       "      <td>-132</td>\n",
       "      <td>32493</td>\n",
       "      <td>На Шаболовке 7 ноября в 18:30 ауд 5215 состоит...</td>\n",
       "      <td>1541076555</td>\n",
       "      <td>(2018-11-01, 15:49:15)</td>\n",
       "    </tr>\n",
       "    <tr>\n",
       "      <th>2</th>\n",
       "      <td>-132</td>\n",
       "      <td>32492</td>\n",
       "      <td>Картинка, ссылка или репост</td>\n",
       "      <td>1540743239</td>\n",
       "      <td>(2018-10-28, 19:13:59)</td>\n",
       "    </tr>\n",
       "    <tr>\n",
       "      <th>3</th>\n",
       "      <td>-132</td>\n",
       "      <td>32491</td>\n",
       "      <td>Картинка, ссылка или репост</td>\n",
       "      <td>1540551399</td>\n",
       "      <td>(2018-10-26, 13:56:39)</td>\n",
       "    </tr>\n",
       "    <tr>\n",
       "      <th>4</th>\n",
       "      <td>-132</td>\n",
       "      <td>32488</td>\n",
       "      <td>Картинка, ссылка или репост</td>\n",
       "      <td>1540302306</td>\n",
       "      <td>(2018-10-23, 16:45:06)</td>\n",
       "    </tr>\n",
       "  </tbody>\n",
       "</table>\n",
       "</div>"
      ],
      "text/plain": [
       "   From_id     Id                                               Text  \\\n",
       "0     -132  32494                        Картинка, ссылка или репост   \n",
       "1     -132  32493  На Шаболовке 7 ноября в 18:30 ауд 5215 состоит...   \n",
       "2     -132  32492                        Картинка, ссылка или репост   \n",
       "3     -132  32491                        Картинка, ссылка или репост   \n",
       "4     -132  32488                        Картинка, ссылка или репост   \n",
       "\n",
       "    Date_Unix               Date_Norm  \n",
       "0  1541422799  (2018-11-05, 15:59:59)  \n",
       "1  1541076555  (2018-11-01, 15:49:15)  \n",
       "2  1540743239  (2018-10-28, 19:13:59)  \n",
       "3  1540551399  (2018-10-26, 13:56:39)  \n",
       "4  1540302306  (2018-10-23, 16:45:06)  "
      ]
     },
     "execution_count": 16,
     "metadata": {},
     "output_type": "execute_result"
    }
   ],
   "source": [
    "df.head()"
   ]
  },
  {
   "cell_type": "markdown",
   "metadata": {},
   "source": [
    "Можно было, конечно, не разбивать на части дату и время, сохранять одной строкой. А можно написать функции, которые будут отделять дату от времени ‒ извлекать их из кортежа в date_norm."
   ]
  },
  {
   "cell_type": "code",
   "execution_count": 17,
   "metadata": {},
   "outputs": [],
   "source": [
    "def get_date(date):\n",
    "    return date[0]\n",
    "\n",
    "def get_time(date):\n",
    "    return date[1]"
   ]
  },
  {
   "cell_type": "code",
   "execution_count": 18,
   "metadata": {},
   "outputs": [
    {
     "data": {
      "text/html": [
       "<div>\n",
       "<style scoped>\n",
       "    .dataframe tbody tr th:only-of-type {\n",
       "        vertical-align: middle;\n",
       "    }\n",
       "\n",
       "    .dataframe tbody tr th {\n",
       "        vertical-align: top;\n",
       "    }\n",
       "\n",
       "    .dataframe thead th {\n",
       "        text-align: right;\n",
       "    }\n",
       "</style>\n",
       "<table border=\"1\" class=\"dataframe\">\n",
       "  <thead>\n",
       "    <tr style=\"text-align: right;\">\n",
       "      <th></th>\n",
       "      <th>From_id</th>\n",
       "      <th>Id</th>\n",
       "      <th>Text</th>\n",
       "      <th>Date_Unix</th>\n",
       "      <th>Date_Norm</th>\n",
       "      <th>Date</th>\n",
       "      <th>Time</th>\n",
       "    </tr>\n",
       "  </thead>\n",
       "  <tbody>\n",
       "    <tr>\n",
       "      <th>0</th>\n",
       "      <td>-132</td>\n",
       "      <td>32494</td>\n",
       "      <td>Картинка, ссылка или репост</td>\n",
       "      <td>1541422799</td>\n",
       "      <td>(2018-11-05, 15:59:59)</td>\n",
       "      <td>2018-11-05</td>\n",
       "      <td>15:59:59</td>\n",
       "    </tr>\n",
       "    <tr>\n",
       "      <th>1</th>\n",
       "      <td>-132</td>\n",
       "      <td>32493</td>\n",
       "      <td>На Шаболовке 7 ноября в 18:30 ауд 5215 состоит...</td>\n",
       "      <td>1541076555</td>\n",
       "      <td>(2018-11-01, 15:49:15)</td>\n",
       "      <td>2018-11-01</td>\n",
       "      <td>15:49:15</td>\n",
       "    </tr>\n",
       "    <tr>\n",
       "      <th>2</th>\n",
       "      <td>-132</td>\n",
       "      <td>32492</td>\n",
       "      <td>Картинка, ссылка или репост</td>\n",
       "      <td>1540743239</td>\n",
       "      <td>(2018-10-28, 19:13:59)</td>\n",
       "      <td>2018-10-28</td>\n",
       "      <td>19:13:59</td>\n",
       "    </tr>\n",
       "    <tr>\n",
       "      <th>3</th>\n",
       "      <td>-132</td>\n",
       "      <td>32491</td>\n",
       "      <td>Картинка, ссылка или репост</td>\n",
       "      <td>1540551399</td>\n",
       "      <td>(2018-10-26, 13:56:39)</td>\n",
       "      <td>2018-10-26</td>\n",
       "      <td>13:56:39</td>\n",
       "    </tr>\n",
       "    <tr>\n",
       "      <th>4</th>\n",
       "      <td>-132</td>\n",
       "      <td>32488</td>\n",
       "      <td>Картинка, ссылка или репост</td>\n",
       "      <td>1540302306</td>\n",
       "      <td>(2018-10-23, 16:45:06)</td>\n",
       "      <td>2018-10-23</td>\n",
       "      <td>16:45:06</td>\n",
       "    </tr>\n",
       "  </tbody>\n",
       "</table>\n",
       "</div>"
      ],
      "text/plain": [
       "   From_id     Id                                               Text  \\\n",
       "0     -132  32494                        Картинка, ссылка или репост   \n",
       "1     -132  32493  На Шаболовке 7 ноября в 18:30 ауд 5215 состоит...   \n",
       "2     -132  32492                        Картинка, ссылка или репост   \n",
       "3     -132  32491                        Картинка, ссылка или репост   \n",
       "4     -132  32488                        Картинка, ссылка или репост   \n",
       "\n",
       "    Date_Unix               Date_Norm        Date      Time  \n",
       "0  1541422799  (2018-11-05, 15:59:59)  2018-11-05  15:59:59  \n",
       "1  1541076555  (2018-11-01, 15:49:15)  2018-11-01  15:49:15  \n",
       "2  1540743239  (2018-10-28, 19:13:59)  2018-10-28  19:13:59  \n",
       "3  1540551399  (2018-10-26, 13:56:39)  2018-10-26  13:56:39  \n",
       "4  1540302306  (2018-10-23, 16:45:06)  2018-10-23  16:45:06  "
      ]
     },
     "execution_count": 18,
     "metadata": {},
     "output_type": "execute_result"
    }
   ],
   "source": [
    "df['Date'] = df.Date_Norm.apply(get_date)\n",
    "df['Time'] = df.Date_Norm.apply(get_time)\n",
    "df.head()"
   ]
  },
  {
   "cell_type": "markdown",
   "metadata": {},
   "source": [
    "Всё! Материалы о разных методах и функциях для `vk.api` можно найти в [официальной документации](https://vk.com/dev/manuals)."
   ]
  }
 ],
 "metadata": {
  "kernelspec": {
   "display_name": "Python 3",
   "language": "python",
   "name": "python3"
  },
  "language_info": {
   "codemirror_mode": {
    "name": "ipython",
    "version": 3
   },
   "file_extension": ".py",
   "mimetype": "text/x-python",
   "name": "python",
   "nbconvert_exporter": "python",
   "pygments_lexer": "ipython3",
   "version": "3.8.3"
  }
 },
 "nbformat": 4,
 "nbformat_minor": 2
}
