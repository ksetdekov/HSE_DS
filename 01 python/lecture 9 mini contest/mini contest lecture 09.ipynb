{
 "cells": [
  {
   "cell_type": "markdown",
   "metadata": {},
   "source": [
    "# Задача 1"
   ]
  },
  {
   "cell_type": "markdown",
   "metadata": {},
   "source": [
    "В некоторой школе занятия начинаются в 9:00. Продолжительность урока — 45 минут, после 1-го, 3-го, 5-го и т.д. уроков перемена 5 минут, а после 2-го, 4-го, 6-го и т.д. — 15 минут.\n",
    "\n",
    "В этой задаче можно пользоваться только арифметическими операциями (нельзя использовать if, while и т.д. и т.п.)"
   ]
  },
  {
   "cell_type": "code",
   "execution_count": 26,
   "metadata": {},
   "outputs": [
    {
     "name": "stdout",
     "output_type": "stream",
     "text": [
      "3\n",
      "11 35\n"
     ]
    }
   ],
   "source": [
    "n = int(input())\n",
    "# output - h mm\n",
    "lessons = n\n",
    "# 0 5 20 25 40\n",
    "shorts = (n)//2\n",
    "long = (n - 1)//2\n",
    "# print(lessons)\n",
    "time = lessons * 45 + shorts * 5 + long *15\n",
    "print(time//60 + 9, time % 60)"
   ]
  },
  {
   "cell_type": "markdown",
   "metadata": {},
   "source": [
    "1 1 урок 0 перемен \n",
    "2 2 урока 1 перемена 5\n",
    "3 3 урока 1 перемена 5 1 перемена 15\n",
    "4 4 урока 2 перемены 5 1 перемена 15\n",
    "5 5 урока 2 перемены 5 2 перемены 15\n",
    "\n",
    "\n"
   ]
  },
  {
   "cell_type": "markdown",
   "metadata": {},
   "source": [
    "# задача 2"
   ]
  },
  {
   "cell_type": "markdown",
   "metadata": {},
   "source": [
    "Программа получает на вход три натуральных числа: максимальное количество студентов в каждом из трех кабинетов (числа не превышают 1000).\n",
    "\n"
   ]
  },
  {
   "cell_type": "code",
   "execution_count": 31,
   "metadata": {},
   "outputs": [
    {
     "name": "stdout",
     "output_type": "stream",
     "text": [
      "22\n",
      "14\n",
      "23\n",
      "30\n"
     ]
    }
   ],
   "source": [
    "import math\n",
    "a = int(input())\n",
    "b = int(input())\n",
    "c = int(input())\n",
    "\n",
    "print(math.ceil(a/2) + math.ceil(b/2) + math.ceil(c/2))"
   ]
  },
  {
   "cell_type": "markdown",
   "metadata": {},
   "source": [
    "# 3 треугольник"
   ]
  },
  {
   "cell_type": "code",
   "execution_count": 34,
   "metadata": {},
   "outputs": [
    {
     "name": "stdout",
     "output_type": "stream",
     "text": [
      "4\n",
      "4\n",
      "10\n",
      "NO\n"
     ]
    }
   ],
   "source": [
    "a = int(input())\n",
    "b = int(input())\n",
    "c = int(input())\n",
    "sides = sorted([a, b, c])\n",
    "ss = []\n",
    "for i in sides: \n",
    "        ss.append(i * i)  \n",
    "if max(sides) >= ((a + b + c) / 2):\n",
    "    print('NO')\n",
    "else:\n",
    "    print('YES')"
   ]
  },
  {
   "cell_type": "markdown",
   "metadata": {},
   "source": [
    "# d сим числа чекер"
   ]
  },
  {
   "cell_type": "markdown",
   "metadata": {},
   "source": [
    "1 это симметричкное число."
   ]
  },
  {
   "cell_type": "code",
   "execution_count": 41,
   "metadata": {},
   "outputs": [
    {
     "name": "stdout",
     "output_type": "stream",
     "text": [
      "1\n",
      "1\n",
      "YES\n"
     ]
    }
   ],
   "source": [
    "right = int(input())\n",
    "hers = int(input())\n",
    "\n",
    "if right == 1 and hers == 1:\n",
    "    print('YES')\n",
    "elif right != 1 and hers != 1:\n",
    "    print('YES')\n",
    "else:\n",
    "    print('NO')"
   ]
  },
  {
   "cell_type": "markdown",
   "metadata": {},
   "source": [
    "# e sum of numbers"
   ]
  },
  {
   "cell_type": "code",
   "execution_count": 37,
   "metadata": {},
   "outputs": [
    {
     "name": "stdout",
     "output_type": "stream",
     "text": [
      "2020\n",
      "4\n"
     ]
    }
   ],
   "source": [
    "n = input()\n",
    "sum = 0\n",
    "for k in n:\n",
    "    sum += int(k)\n",
    "print(sum)"
   ]
  },
  {
   "cell_type": "code",
   "execution_count": 2,
   "metadata": {},
   "outputs": [
    {
     "name": "stdout",
     "output_type": "stream",
     "text": [
      "2020\n",
      "4\n"
     ]
    }
   ],
   "source": [
    "n = int(input())\n",
    "sum = 0\n",
    "while n > 0:\n",
    "    sum += n%10\n",
    "    n = n//10\n",
    "    \n",
    "print(sum)"
   ]
  },
  {
   "cell_type": "markdown",
   "metadata": {},
   "source": [
    "# f count hights"
   ]
  },
  {
   "cell_type": "code",
   "execution_count": 45,
   "metadata": {},
   "outputs": [
    {
     "name": "stdout",
     "output_type": "stream",
     "text": [
      "1\n",
      "2\n",
      "1\n",
      "2\n",
      "2\n",
      "1\n",
      "0\n",
      "1\n"
     ]
    }
   ],
   "source": [
    "res = 0\n",
    "l1 = 0\n",
    "l2 = 0\n",
    "while True:\n",
    "    cur_inp = int(input())\n",
    "    if cur_inp == 0:\n",
    "        break\n",
    "    if l2 > 0:\n",
    "        if l1 > l2 and l1 > cur_inp:\n",
    "            res += 1\n",
    "    l2 = l1\n",
    "\n",
    "    l1 = cur_inp\n",
    "\n",
    "print(res)"
   ]
  },
  {
   "cell_type": "markdown",
   "metadata": {},
   "source": [
    "# g times"
   ]
  },
  {
   "cell_type": "code",
   "execution_count": 56,
   "metadata": {},
   "outputs": [
    {
     "name": "stdout",
     "output_type": "stream",
     "text": [
      "0\n",
      "1\n",
      "0\n",
      "0.5\n"
     ]
    }
   ],
   "source": [
    "h = int(input())\n",
    "m = int(input())\n",
    "s = int(input())\n",
    "res = h * 30 + m * 0.5 + s/120\n",
    "print(res)"
   ]
  },
  {
   "cell_type": "code",
   "execution_count": 53,
   "metadata": {},
   "outputs": [
    {
     "data": {
      "text/plain": [
       "0.008333333333333333"
      ]
     },
     "execution_count": 53,
     "metadata": {},
     "output_type": "execute_result"
    }
   ],
   "source": [
    "1/(120 * 10)"
   ]
  },
  {
   "cell_type": "markdown",
   "metadata": {},
   "source": [
    "# h turn"
   ]
  },
  {
   "cell_type": "code",
   "execution_count": 59,
   "metadata": {},
   "outputs": [
    {
     "name": "stdout",
     "output_type": "stream",
     "text": [
      "In the hole in the ground there lived a hobbit\n",
      "In th a devil ereht dnuorg eht ni eloh ehobbit\n"
     ]
    }
   ],
   "source": [
    "s = input()\n",
    "p1 = s.find('h')\n",
    "p2 = s.rfind('h') + 1\n",
    "print(s[:p1] + s[p1:p2][::-1] + s[p2:])"
   ]
  },
  {
   "cell_type": "code",
   "execution_count": null,
   "metadata": {},
   "outputs": [],
   "source": []
  }
 ],
 "metadata": {
  "kernelspec": {
   "display_name": "Python 3",
   "language": "python",
   "name": "python3"
  },
  "language_info": {
   "codemirror_mode": {
    "name": "ipython",
    "version": 3
   },
   "file_extension": ".py",
   "mimetype": "text/x-python",
   "name": "python",
   "nbconvert_exporter": "python",
   "pygments_lexer": "ipython3",
   "version": "3.8.3"
  }
 },
 "nbformat": 4,
 "nbformat_minor": 4
}
