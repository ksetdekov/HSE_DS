{
 "cells": [
  {
   "cell_type": "markdown",
   "metadata": {},
   "source": [
    "#  a min 4"
   ]
  },
  {
   "cell_type": "code",
   "execution_count": null,
   "metadata": {},
   "outputs": [],
   "source": []
  },
  {
   "cell_type": "code",
   "execution_count": 3,
   "metadata": {},
   "outputs": [
    {
     "name": "stdout",
     "output_type": "stream",
     "text": [
      "1\n",
      "2\n",
      "3\n",
      "1\n",
      "1\n"
     ]
    }
   ],
   "source": [
    "a = int(input())\n",
    "b = int(input())\n",
    "c = int(input())\n",
    "d = int(input())\n",
    "\n",
    "def min4():\n",
    "    print(min(a, b, c, vd))\n",
    "min4()"
   ]
  },
  {
   "cell_type": "markdown",
   "metadata": {},
   "source": [
    "# b distance"
   ]
  },
  {
   "cell_type": "code",
   "execution_count": 14,
   "metadata": {},
   "outputs": [
    {
     "name": "stdout",
     "output_type": "stream",
     "text": [
      "3\n",
      "-2\n",
      "-1\n",
      "7\n",
      "9.84886\n"
     ]
    }
   ],
   "source": [
    "a = float(input())\n",
    "b = float(input())\n",
    "c = float(input())\n",
    "d = float(input())\n",
    "\n",
    "def dist():\n",
    "    result = (((a - c)**2 + (b - d)**2)**0.5)\n",
    "    if result.is_integer():\n",
    "        print(int(result))\n",
    "    else:\n",
    "        print(f'{result:.5f}')\n",
    "dist()"
   ]
  },
  {
   "cell_type": "markdown",
   "metadata": {},
   "source": [
    "# c perimeter"
   ]
  },
  {
   "cell_type": "code",
   "execution_count": 24,
   "metadata": {},
   "outputs": [
    {
     "name": "stdout",
     "output_type": "stream",
     "text": [
      "6\n",
      "5\n",
      "2\n",
      "-3\n",
      "-1\n",
      "-6\n",
      "26.2253174075\n"
     ]
    }
   ],
   "source": [
    "a1 = int(input())\n",
    "a2 = int(input())\n",
    "b1 = int(input())\n",
    "b2 = int(input())\n",
    "c1 = int(input())\n",
    "c2 = int(input())\n",
    "\n",
    "a = (a1, a2)\n",
    "b = (b1, b2)\n",
    "c = (c1, c2)\n",
    "\n",
    "def dist(point_1, point_2):\n",
    "    result = (((point_1[0] - point_2[0])**2 + (point_1[1] - point_2[1])**2)**0.5)\n",
    "    return result\n",
    "\n",
    "def perimeter(a_, b_, c_):\n",
    "    perim = dist(a_, b_) + dist(b_, c_) + dist(a_, c_)\n",
    "    return perim\n",
    "\n",
    "print(f'{perimeter(a, b, c):.10f}')\n"
   ]
  },
  {
   "cell_type": "markdown",
   "metadata": {},
   "source": [
    "# d xor"
   ]
  },
  {
   "cell_type": "code",
   "execution_count": 66,
   "metadata": {},
   "outputs": [
    {
     "name": "stdout",
     "output_type": "stream",
     "text": [
      "0\n",
      "1\n",
      "one\n"
     ]
    }
   ],
   "source": [
    "in_1 = bool(int(input()))\n",
    "in_2 = bool(int(input()))\n",
    "\n",
    "def myxor(a, b):\n",
    "    if a and b or (not a and not b):\n",
    "        print('0')\n",
    "    else:\n",
    "        print('1')\n",
    "myxor(in_1, in_2)"
   ]
  },
  {
   "cell_type": "markdown",
   "metadata": {},
   "source": [
    "# e point in square"
   ]
  },
  {
   "cell_type": "code",
   "execution_count": 98,
   "metadata": {},
   "outputs": [
    {
     "name": "stdout",
     "output_type": "stream",
     "text": [
      "0\n",
      "0\n",
      "YES\n"
     ]
    }
   ],
   "source": [
    "x1 = float(input())\n",
    "y1 = float(input())\n",
    "\n",
    "\n",
    "def isPointInSquare(x, y):\n",
    "    test = []\n",
    "    test.append(x <= 1)\n",
    "    test.append(x >= -1)\n",
    "    test.append(y <= 1)\n",
    "    test.append(y >= -1)\n",
    "    result = all(test)\n",
    "    return 'YES' * result + 'NO' * (1 - result)\n",
    "\n",
    "\n",
    "print(isPointInSquare(x1, y1))\n"
   ]
  },
  {
   "cell_type": "markdown",
   "metadata": {},
   "source": [
    "# f point in square"
   ]
  },
  {
   "cell_type": "code",
   "execution_count": 102,
   "metadata": {},
   "outputs": [
    {
     "name": "stdout",
     "output_type": "stream",
     "text": [
      "1\n",
      "1\n",
      "NO\n"
     ]
    }
   ],
   "source": [
    "x1 = float(input())\n",
    "y1 = float(input())\n",
    "\n",
    "\n",
    "def isPointInSquare(x, y):\n",
    "    test = []\n",
    "    test.append(x + y <= 1)\n",
    "    test.append(x + y >= -1)\n",
    "    test.append(y - x <= 1)\n",
    "    test.append(y - x >= -1)\n",
    "    result = all(test)\n",
    "    return 'YES' * result + 'NO' * (1 - result)\n",
    "\n",
    "\n",
    "print(isPointInSquare(x1, y1))\n"
   ]
  },
  {
   "cell_type": "markdown",
   "metadata": {},
   "source": [
    "# g point in circle"
   ]
  },
  {
   "cell_type": "code",
   "execution_count": 105,
   "metadata": {},
   "outputs": [
    {
     "name": "stdout",
     "output_type": "stream",
     "text": [
      "0\n",
      "0\n",
      "1\n",
      "0\n",
      "1\n",
      "YES\n"
     ]
    }
   ],
   "source": [
    "x1 = float(input())\n",
    "y1 = float(input())\n",
    "xc1 = float(input())\n",
    "xc2 = float(input())\n",
    "rad = float(input())\n",
    "\n",
    "def IsPointInCircle(x, y, xc, yc, r):\n",
    "    test = []\n",
    "    test.append((x - xc)**2+(y - yc)**2 <= r**2)\n",
    "    result = all(test)\n",
    "    return 'YES' * result + 'NO' * (1 - result)\n",
    "\n",
    "\n",
    "print(IsPointInCircle(x1, y1, xc1, xc2, rad))\n"
   ]
  },
  {
   "cell_type": "markdown",
   "metadata": {},
   "source": [
    "# h point in area"
   ]
  },
  {
   "cell_type": "code",
   "execution_count": 128,
   "metadata": {},
   "outputs": [
    {
     "name": "stdout",
     "output_type": "stream",
     "text": [
      "0\n",
      "0\n",
      "[False, False]\n",
      "NO\n"
     ]
    }
   ],
   "source": [
    "x1 = float(input())\n",
    "y1 = float(input())\n",
    "\n",
    "\n",
    "def IsPointInCircle(x, y, xc=-1, yc=1, r=2):\n",
    "    test = []\n",
    "    test.append((x - xc)**2+(y - yc)**2 <= r**2)\n",
    "    result = all(test)\n",
    "    return result\n",
    "\n",
    "def IsPointOutCircle(x, y, xc=-1, yc=1, r=2):\n",
    "    test = []\n",
    "    test.append((x - xc)**2+(y - yc)**2 >= r**2)\n",
    "    result = all(test)\n",
    "    return result\n",
    "\n",
    "def IsPointInArea(x, y):\n",
    "    test = []\n",
    "    \n",
    "    sharpline = (y >= (2 * x +  2))\n",
    "    downline = (y >= -x)\n",
    "    circle = IsPointInCircle(x, y)\n",
    "    upper_part = circle and sharpline and downline\n",
    "    test.append(upper_part)\n",
    "    \n",
    "    sharpline_d = (y <= (2 * x +  2))\n",
    "    downline_d = (y <= -x)\n",
    "    circle_d = IsPointOutCircle(x, y)\n",
    "    lower_part = circle_d and sharpline_d and downline_d\n",
    "    test.append(lower_part)\n",
    "    \n",
    "    result = any(test)\n",
    "    return 'YES' * result + 'NO' * (1 - result)\n",
    "\n",
    "print(IsPointInArea(x1, y1))\n"
   ]
  },
  {
   "cell_type": "markdown",
   "metadata": {},
   "source": [
    "# I min divisor"
   ]
  },
  {
   "cell_type": "code",
   "execution_count": 143,
   "metadata": {},
   "outputs": [
    {
     "name": "stdout",
     "output_type": "stream",
     "text": [
      "10\n",
      "2\n"
     ]
    }
   ],
   "source": [
    "value = int(input())\n",
    "\n",
    "\n",
    "def MinDivisor(n):\n",
    "    lim = int(n ** 0.5)\n",
    "\n",
    "    for i in range(2, lim + 1):\n",
    "        if n % i == 0:\n",
    "            return i\n",
    "    return n\n",
    "\n",
    "\n",
    "print(MinDivisor(value))\n"
   ]
  },
  {
   "cell_type": "markdown",
   "metadata": {},
   "source": [
    "# J is prime"
   ]
  },
  {
   "cell_type": "code",
   "execution_count": 151,
   "metadata": {},
   "outputs": [
    {
     "name": "stdout",
     "output_type": "stream",
     "text": [
      "7\n",
      "YES\n"
     ]
    }
   ],
   "source": [
    "value = int(input())\n",
    "\n",
    "\n",
    "def min_divisor(n):\n",
    "    lim = int(n ** 0.5)\n",
    "\n",
    "    for i in range(2, lim + 1):\n",
    "        if n % i == 0:\n",
    "            return i\n",
    "    return n\n",
    "\n",
    "\n",
    "def IsPrime(n):\n",
    "    return n == min_divisor(n)\n",
    "\n",
    "\n",
    "if IsPrime(value):\n",
    "    print('YES')\n",
    "else:\n",
    "    print('NO')\n"
   ]
  },
  {
   "cell_type": "markdown",
   "metadata": {},
   "source": [
    "# K power with recursion"
   ]
  },
  {
   "cell_type": "code",
   "execution_count": 153,
   "metadata": {},
   "outputs": [
    {
     "name": "stdout",
     "output_type": "stream",
     "text": [
      "10\n",
      "1\n",
      "10.0\n"
     ]
    }
   ],
   "source": [
    "a_val = float(input())\n",
    "b_val = int(input())\n",
    "\n",
    "\n",
    "def power(a, n):\n",
    "    if n > 1:\n",
    "        return a * power(a, n - 1)\n",
    "    elif n == 1:\n",
    "        return a\n",
    "    else:\n",
    "        return 1\n",
    "\n",
    "\n",
    "result = power(a_val, b_val)\n",
    "print(result)"
   ]
  },
  {
   "cell_type": "markdown",
   "metadata": {},
   "source": [
    "# L power with recursion"
   ]
  },
  {
   "cell_type": "code",
   "execution_count": 153,
   "metadata": {},
   "outputs": [
    {
     "name": "stdout",
     "output_type": "stream",
     "text": [
      "10\n",
      "1\n",
      "10.0\n"
     ]
    }
   ],
   "source": [
    "a_val = float(input())\n",
    "b_val = int(input())\n",
    "\n",
    "\n",
    "def power(a, n):\n",
    "    if n > 0:\n",
    "        return a * power(a, n - 1)\n",
    "    elif n < 0:\n",
    "        return 1 / power(a, -n)\n",
    "    else:\n",
    "        return 1\n",
    "\n",
    "\n",
    "result = power(a_val, b_val)\n",
    "print(result)"
   ]
  },
  {
   "cell_type": "markdown",
   "metadata": {},
   "source": [
    "# M stupid sum"
   ]
  },
  {
   "cell_type": "code",
   "execution_count": 154,
   "metadata": {},
   "outputs": [
    {
     "name": "stdout",
     "output_type": "stream",
     "text": [
      "10\n",
      "1\n",
      "11\n"
     ]
    }
   ],
   "source": [
    "av = int(input())\n",
    "bv = int(input())\n",
    "\n",
    "\n",
    "def my_sum(a, b):\n",
    "    if b == 0:\n",
    "        return a\n",
    "    else:\n",
    "        b -= 1\n",
    "        a += 1\n",
    "        return my_sum(a, b)\n",
    "\n",
    "\n",
    "print(my_sum(av, bv))\n"
   ]
  },
  {
   "cell_type": "markdown",
   "metadata": {},
   "source": [
    "# n fast power"
   ]
  },
  {
   "cell_type": "code",
   "execution_count": null,
   "metadata": {},
   "outputs": [],
   "source": [
    "a_val = float(input())\n",
    "b_val = int(input())\n",
    "\n",
    "\n",
    "def power(a, n):\n",
    "    if n == 0:\n",
    "        return 1\n",
    "    elif n < 0:\n",
    "        return 1 / power(a, -n)\n",
    "    elif n % 2 == 1:\n",
    "        return power(a, n - 1) * a\n",
    "    else:\n",
    "        return power(a, n // 2) ** 2\n",
    "\n",
    "\n",
    "result = power(a_val, b_val)\n",
    "print(result)\n"
   ]
  },
  {
   "cell_type": "markdown",
   "metadata": {},
   "source": [
    "# O euclids"
   ]
  },
  {
   "cell_type": "code",
   "execution_count": null,
   "metadata": {},
   "outputs": [],
   "source": [
    "a_val = int(input())\n",
    "b_val = int(input())\n",
    "\n",
    "\n",
    "def gcd(a, b):\n",
    "    if b > a:\n",
    "        a, b = b, a\n",
    "    if a % b == 0:\n",
    "        return b\n",
    "    else:\n",
    "        return gcd(b, a % b)\n",
    "\n",
    "\n",
    "result = gcd(a_val, b_val)\n",
    "print(result)\n"
   ]
  },
  {
   "cell_type": "markdown",
   "metadata": {},
   "source": [
    "# P сократить дробь"
   ]
  },
  {
   "cell_type": "code",
   "execution_count": 23,
   "metadata": {},
   "outputs": [
    {
     "name": "stdout",
     "output_type": "stream",
     "text": [
      "12121246\n",
      "12121254\n",
      "6060623 6060627\n"
     ]
    }
   ],
   "source": [
    "a_val = int(input())\n",
    "b_val = int(input())\n",
    "\n",
    "\n",
    "def gcd(a, b):\n",
    "    if b > a:\n",
    "        a, b = b, a\n",
    "    if a % b == 0:\n",
    "        return b\n",
    "    else:\n",
    "        return gcd(b, a % b)\n",
    "\n",
    "\n",
    "def reduce_fraction(n, m):\n",
    "    divider = gcd(n, m)\n",
    "    return int(n / divider), int(m / divider)\n",
    "\n",
    "\n",
    "result = reduce_fraction(a_val, b_val)\n",
    "print(*result)\n"
   ]
  },
  {
   "cell_type": "markdown",
   "metadata": {},
   "source": [
    "# q fibonnachi"
   ]
  },
  {
   "cell_type": "code",
   "execution_count": 24,
   "metadata": {},
   "outputs": [
    {
     "name": "stdout",
     "output_type": "stream",
     "text": [
      "10\n",
      "55\n"
     ]
    }
   ],
   "source": [
    "def phib(n):\n",
    "    if n <= 0:\n",
    "        return 0\n",
    "    elif n == 1:\n",
    "        return 1\n",
    "    elif n == 2:\n",
    "        return 1\n",
    "    else:\n",
    "        return phib(n - 2) + phib(n - 1)\n",
    "\n",
    "\n",
    "a = int(input())\n",
    "print(phib(a))\n"
   ]
  },
  {
   "cell_type": "markdown",
   "metadata": {},
   "source": [
    "# R combinations"
   ]
  },
  {
   "cell_type": "code",
   "execution_count": 26,
   "metadata": {},
   "outputs": [
    {
     "name": "stdout",
     "output_type": "stream",
     "text": [
      "10\n",
      "2\n",
      "45\n"
     ]
    }
   ],
   "source": [
    "def c(n, k):\n",
    "    if n == k:\n",
    "        return 1\n",
    "    elif k == 1:\n",
    "        return n\n",
    "    elif k == 0:\n",
    "        return 1\n",
    "    else:\n",
    "        return c(n - 1, k - 1) + c(n - 1, k)\n",
    "    \n",
    "\n",
    "n_inp = int(input())\n",
    "k_inp = int(input())\n",
    "\n",
    "print(c(n_inp, k_inp))\n"
   ]
  },
  {
   "cell_type": "markdown",
   "metadata": {},
   "source": [
    "# sum a list"
   ]
  },
  {
   "cell_type": "code",
   "execution_count": 27,
   "metadata": {},
   "outputs": [
    {
     "name": "stdout",
     "output_type": "stream",
     "text": [
      "12\n",
      "11\n",
      "0\n",
      "23\n"
     ]
    }
   ],
   "source": [
    "res = 0\n",
    "\n",
    "while True:\n",
    "    cur_inp = int(input())\n",
    "    if cur_inp == 0:\n",
    "        break\n",
    "    res += cur_inp\n",
    "\n",
    "print(res)\n"
   ]
  },
  {
   "cell_type": "markdown",
   "metadata": {},
   "source": [
    "# T reverse"
   ]
  },
  {
   "cell_type": "code",
   "execution_count": 28,
   "metadata": {},
   "outputs": [
    {
     "name": "stdout",
     "output_type": "stream",
     "text": [
      "8 7 2 3 1 4 5 0\n",
      "1\n",
      "0\n"
     ]
    }
   ],
   "source": [
    "lines = \"\"\n",
    "while True:\n",
    "    cur_inp = input()\n",
    "    lines += cur_inp + \"\\n\"\n",
    "    if cur_inp == '0':\n",
    "        break\n",
    "result = tuple(lines.split(\"\\n\"))\n",
    "\n",
    "for i in range(len(result) - 1, -1, -1):\n",
    "    print(result[i])\n"
   ]
  },
  {
   "cell_type": "markdown",
   "metadata": {},
   "source": [
    "# X squares"
   ]
  },
  {
   "cell_type": "code",
   "execution_count": 73,
   "metadata": {},
   "outputs": [
    {
     "name": "stdout",
     "output_type": "stream",
     "text": [
      "1\n",
      "2\n",
      "3\n",
      "4\n",
      "9\n",
      "27\n",
      "81\n",
      "1\n",
      "0\n",
      "1 81 9 4 1\n"
     ]
    }
   ],
   "source": [
    "cur_inp = int(1)\n",
    "squares = ''\n",
    "\n",
    "\n",
    "def integer_sqrt(n):\n",
    "    if n < 0:\n",
    "        raise ValueError(\"works on non-negative\")\n",
    "    elif n < 2:\n",
    "        return n\n",
    "    else:\n",
    "        small_candidate = integer_sqrt(n >> 2) << 1\n",
    "        large_candidate = small_candidate + 1\n",
    "        if large_candidate * large_candidate > n:\n",
    "            return small_candidate\n",
    "        else:\n",
    "            return large_candidate\n",
    "\n",
    "\n",
    "def is_square(k):\n",
    "    if k < 0:\n",
    "        raise ValueError(\"works on non-negative\")\n",
    "    elif integer_sqrt(k) ** 2 == k:\n",
    "        return True\n",
    "    else:\n",
    "        return False\n",
    "    \n",
    "def t_reverse(tuples): \n",
    "    new_tup = tuples[::-1] \n",
    "    return new_tup \n",
    "\n",
    "while True:\n",
    "    cur_inp = int(input())\n",
    "    if cur_inp == 0:\n",
    "        break\n",
    "    if is_square(cur_inp):\n",
    "        squares = squares + ' ' + str(cur_inp)\n",
    "if squares == '':\n",
    "    print(str(0))\n",
    "else:\n",
    "    result = tuple(squares.split())\n",
    "    result = t_reverse(result)\n",
    "    print(' '.join(result))\n"
   ]
  },
  {
   "cell_type": "markdown",
   "metadata": {},
   "source": [
    "# v lagrange"
   ]
  },
  {
   "cell_type": "markdown",
   "metadata": {},
   "source": [
    "def integer_sqrt(n):\n",
    "    if n < 0:\n",
    "        raise ValueError(\"works on non-negative\")\n",
    "    elif n < 2:\n",
    "        return n\n",
    "    else:\n",
    "        small_candidate = integer_sqrt(n >> 2) << 1\n",
    "        large_candidate = small_candidate + 1\n",
    "        if large_candidate * large_candidate > n:\n",
    "            return small_candidate\n",
    "        else:\n",
    "            return large_candidate\n",
    "\n",
    "\n",
    "n_inp = int(input())\n",
    "result = []\n",
    "\n",
    "a_level = integer_sqrt(n_inp)\n",
    "for a in range(a_level, -1, -1):\n",
    "    b_inp = n_inp - a ** 2\n",
    "    b_level = integer_sqrt(b_inp)\n",
    "    # print(a, 'step a')\n",
    "    if b_inp == 0:\n",
    "        result.append(a)\n",
    "        break\n",
    "    # loop 1\n",
    "\n",
    "    for b in range(b_level, -1, -1):\n",
    "        c_inp = b_inp - b ** 2\n",
    "        c_level = integer_sqrt(c_inp)\n",
    "        # print(c_inp, 'step b')\n",
    "        if c_inp == 0:\n",
    "            result.append(b)\n",
    "            break\n",
    "            # loop 2\n",
    "\n",
    "        for c in range(c_level, -1, -1):\n",
    "            d_inp = c_inp - c ** 2\n",
    "            d_level = integer_sqrt(d_inp)\n",
    "            # print(d_inp, 'step d')\n",
    "            if d_inp == 0:\n",
    "                result.append(c)\n",
    "                break\n",
    "                # loop 3\n",
    "            for d in range(d_level, 0, -1):\n",
    "                e_inp = d_inp - d ** 2\n",
    "                # print(e_inp, 'step e')\n",
    "                if e_inp == 0 and len(result) == 0:\n",
    "                    result.append(d)\n",
    "                    break\n",
    "\n",
    "                # end loop 3\n",
    "            if len(result) != 0:\n",
    "                result.append(c)\n",
    "                break\n",
    "\n",
    "            # end loop 2\n",
    "        if len(result) != 0:\n",
    "            result.append(b)\n",
    "            break\n",
    "\n",
    "    # end loop 1\n",
    "    if len(result) != 0:\n",
    "        result.append(a)\n",
    "        break\n",
    "\n",
    "print(*result)\n"
   ]
  },
  {
   "cell_type": "code",
   "execution_count": 1,
   "metadata": {},
   "outputs": [],
   "source": [
    "a = [i for i in range(10)]"
   ]
  },
  {
   "cell_type": "code",
   "execution_count": 2,
   "metadata": {},
   "outputs": [
    {
     "data": {
      "text/plain": [
       "[0, 1, 2, 3, 4, 5, 6, 7, 8, 9]"
      ]
     },
     "execution_count": 2,
     "metadata": {},
     "output_type": "execute_result"
    }
   ],
   "source": [
    "a"
   ]
  },
  {
   "cell_type": "code",
   "execution_count": 7,
   "metadata": {},
   "outputs": [],
   "source": [
    "a.sort(reverse=True)"
   ]
  },
  {
   "cell_type": "code",
   "execution_count": 8,
   "metadata": {},
   "outputs": [
    {
     "data": {
      "text/plain": [
       "[9, 8, 7, 6, 5, 4, 3, 2, 1, 0]"
      ]
     },
     "execution_count": 8,
     "metadata": {},
     "output_type": "execute_result"
    }
   ],
   "source": [
    "a"
   ]
  },
  {
   "cell_type": "code",
   "execution_count": 9,
   "metadata": {},
   "outputs": [
    {
     "name": "stdin",
     "output_type": "stream",
     "text": [
      " 10\n"
     ]
    },
    {
     "name": "stdout",
     "output_type": "stream",
     "text": [
      "2 1 1\n"
     ]
    }
   ],
   "source": [
    "import math\n",
    "\n",
    "\n",
    "n_inp = int(input())\n",
    "\n",
    "\n",
    "def c_root(k):\n",
    "    \"\"\"cube root calculator based on newton formula\"\"\"\n",
    "    start = math.floor(len(str(k).encode('utf-8')) / 3) + 1\n",
    "    x = start\n",
    "    while True:\n",
    "        x = (x - (x ** 3 - k) / (3 * x ** 2)) // 1\n",
    "        if x ** 3 <= k < (x + 1) ** 3:\n",
    "            break\n",
    "    return int(x)\n",
    "\n",
    "\n",
    "def cube_fun(n_inp):\n",
    "    result = []\n",
    "    a_level = int(n_inp**(1/3))\n",
    "    for a in range(a_level, -1, -1):\n",
    "        b_inp = n_inp - a ** 3\n",
    "        b_level = int(b_inp**(1/3))\n",
    "        # print(b_inp, 'step a')\n",
    "        if b_inp == 0:\n",
    "            result.append(a)\n",
    "            break\n",
    "        # loop 1\n",
    "\n",
    "        for b in range(b_level, -1, -1):\n",
    "            c_inp = b_inp - b ** 3\n",
    "            c_level = int(c_inp**(1/3))\n",
    "            # print(c_inp, 'step b')\n",
    "            if c_inp == 0:\n",
    "                result.append(b)\n",
    "                break\n",
    "                # loop 2\n",
    "\n",
    "            for c in range(c_level, -1, -1):\n",
    "                d_inp = c_inp - c ** 3\n",
    "                d_level = int(d_inp**(1/3))\n",
    "                # print(d_inp, 'step c')\n",
    "                if d_inp == 0:\n",
    "                    result.append(c)\n",
    "                    break\n",
    "                    # loop 3\n",
    "                for d in range(d_level, -1, -1):\n",
    "                    e_inp = d_inp - d ** 3\n",
    "                    e_level = int(e_inp**(1/3))\n",
    "                    # print(e_inp, 'step d')\n",
    "                    if e_inp == 0:\n",
    "                        result.append(d)\n",
    "                        break\n",
    "                        # loop 4\n",
    "                    for e in range(e_level, -1, -1):\n",
    "                        f_inp = e_inp - e ** 3\n",
    "                        f_level = int(f_inp**(1/3))\n",
    "                        # print(f_inp, 'step e')\n",
    "                        if f_inp == 0:\n",
    "                            result.append(e)\n",
    "                            break\n",
    "                        for f in range(f_level, -1, -1):\n",
    "                            g_inp = f_inp - f ** 3\n",
    "                            g_level = int(g_inp**(1/3))\n",
    "                            # print(g_inp, 'step f')\n",
    "                            if g_inp == 0:\n",
    "                                result.append(f)\n",
    "                                break\n",
    "                            for g in range(g_level, 0, -1):\n",
    "                                h_inp = g_inp - g ** 3\n",
    "                                # print(h_inp, 'step g')\n",
    "                                if h_inp == 0:\n",
    "                                    result.append(g)\n",
    "                                    break\n",
    "\n",
    "                            if len(result) != 0:\n",
    "                                result.append(f)\n",
    "                                break\n",
    "                        if len(result) != 0:\n",
    "                            result.append(e)\n",
    "                            break\n",
    "                        # end loop 4\n",
    "                    if len(result) != 0:\n",
    "                        result.append(d)\n",
    "                        break\n",
    "                    # end loop 3\n",
    "                if len(result) != 0:\n",
    "                    result.append(c)\n",
    "                    break\n",
    "\n",
    "                # end loop 2\n",
    "            if len(result) != 0:\n",
    "                result.append(b)\n",
    "                break\n",
    "\n",
    "        # end loop 1\n",
    "        if len(result) != 0:\n",
    "            result.append(a)\n",
    "            break\n",
    "    if len(result) == 0:\n",
    "        return ([0])\n",
    "    else:\n",
    "        result.sort(reverse=True)\n",
    "        return (result)\n",
    "\n",
    "print(*cube_fun(n_inp))"
   ]
  },
  {
   "cell_type": "code",
   "execution_count": 2,
   "metadata": {},
   "outputs": [],
   "source": [
    "just_list = [15,22,23,50,114,167,175,186,212,231,238,239,303,364,420,428,454]"
   ]
  },
  {
   "cell_type": "code",
   "execution_count": 4,
   "metadata": {},
   "outputs": [],
   "source": [
    "def MinOfCubed(k):\n",
    "    # If k is less than the 2 ^ 3\n",
    "    if (k < 8):\n",
    "        return k;\n",
    "\n",
    "        # Initialize with the maximum\n",
    "    # number of cubes required\n",
    "    res = k;\n",
    "    for i in range(1, k + 1):\n",
    "        if ((i * i * i) > k):\n",
    "            return res;\n",
    "        res = min(res, MinOfCubed(k - (i * i * i)) + 1);\n",
    "    return res;\n",
    "\n",
    "def cuber(a):\n",
    "    output = 0\n",
    "    for values in a:\n",
    "        output += values ** 3\n",
    "    return output"
   ]
  },
  {
   "cell_type": "code",
   "execution_count": 5,
   "metadata": {},
   "outputs": [
    {
     "name": "stdout",
     "output_type": "stream",
     "text": [
      "15\n",
      "22\n",
      "23\n",
      "50\n",
      "114\n",
      "167\n",
      "175\n",
      "186\n",
      "212\n",
      "231\n",
      "238\n",
      "239\n",
      "303\n",
      "364\n",
      "420\n",
      "428\n",
      "454\n"
     ]
    }
   ],
   "source": [
    "for i in just_list:\n",
    "    print(i)"
   ]
  },
  {
   "cell_type": "code",
   "execution_count": 42,
   "metadata": {},
   "outputs": [],
   "source": [
    "import itertools"
   ]
  },
  {
   "cell_type": "code",
   "execution_count": 43,
   "metadata": {},
   "outputs": [],
   "source": [
    "value_given = 20 \n",
    "def cube_dict_create(n_inp):\n",
    "    cube_dict = {}\n",
    "    for i in range(0,int(n_inp**(1/3))+1):\n",
    "#         print(i, i**3)\n",
    "        cube_dict[i]= i**3\n",
    "    return cube_dict"
   ]
  },
  {
   "cell_type": "code",
   "execution_count": 44,
   "metadata": {},
   "outputs": [],
   "source": [
    "# a = cube_dict_create(value_given)"
   ]
  },
  {
   "cell_type": "code",
   "execution_count": 45,
   "metadata": {},
   "outputs": [
    {
     "name": "stdout",
     "output_type": "stream",
     "text": [
      "(0, 1, 1, 1, 1, 2, 2) 20\n"
     ]
    }
   ],
   "source": [
    "for i in itertools.combinations_with_replacement(a.keys(), 7):\n",
    "    sum = 0\n",
    "    for tval in i:\n",
    "        sum += a[tval]\n",
    "    if sum == value_given:\n",
    "        print(i, sum)\n"
   ]
  },
  {
   "cell_type": "code",
   "execution_count": 48,
   "metadata": {},
   "outputs": [],
   "source": [
    "def cuber_v2(value_given):\n",
    "    result = []\n",
    "    a = cube_dict_create(value_given)\n",
    "    for i in itertools.combinations_with_replacement(a.keys(), 7):\n",
    "        sum = 0\n",
    "        for tval in i:\n",
    "            sum += a[tval]\n",
    "        if sum == value_given:\n",
    "            result = i\n",
    "            break\n",
    "    if len(result) == 0:\n",
    "        return ([0])\n",
    "    else:\n",
    "        result = [i for i in result if i != 0]\n",
    "        result.sort(reverse=True)\n",
    "        return (result)\n",
    "    "
   ]
  },
  {
   "cell_type": "code",
   "execution_count": 56,
   "metadata": {},
   "outputs": [
    {
     "name": "stdout",
     "output_type": "stream",
     "text": [
      "46 12 12 2\n"
     ]
    }
   ],
   "source": [
    "print(*cuber_v2(100800))"
   ]
  },
  {
   "cell_type": "code",
   "execution_count": 2,
   "metadata": {},
   "outputs": [
    {
     "name": "stdin",
     "output_type": "stream",
     "text": [
      " 999\n"
     ]
    },
    {
     "name": "stdout",
     "output_type": "stream",
     "text": [
      "(0, 0, 0, 0, 0, 0, 0)\n",
      "(0, 0, 0, 0, 0, 0, 1)\n",
      "(0, 0, 0, 0, 0, 0, 2)\n",
      "(0, 0, 0, 0, 0, 0, 3)\n",
      "(0, 0, 0, 0, 0, 0, 4)\n",
      "(0, 0, 0, 0, 0, 0, 5)\n",
      "(0, 0, 0, 0, 0, 0, 6)\n",
      "(0, 0, 0, 0, 0, 0, 7)\n",
      "(0, 0, 0, 0, 0, 0, 8)\n",
      "(0, 0, 0, 0, 0, 0, 9)\n",
      "(0, 0, 0, 0, 0, 1, 1)\n",
      "(0, 0, 0, 0, 0, 1, 2)\n",
      "(0, 0, 0, 0, 0, 1, 3)\n",
      "(0, 0, 0, 0, 0, 1, 4)\n",
      "(0, 0, 0, 0, 0, 1, 5)\n",
      "(0, 0, 0, 0, 0, 1, 6)\n",
      "(0, 0, 0, 0, 0, 1, 7)\n",
      "(0, 0, 0, 0, 0, 1, 8)\n",
      "(0, 0, 0, 0, 0, 1, 9)\n",
      "(0, 0, 0, 0, 0, 2, 2)\n",
      "(0, 0, 0, 0, 0, 2, 3)\n",
      "(0, 0, 0, 0, 0, 2, 4)\n",
      "(0, 0, 0, 0, 0, 2, 5)\n",
      "(0, 0, 0, 0, 0, 2, 6)\n",
      "(0, 0, 0, 0, 0, 2, 7)\n",
      "(0, 0, 0, 0, 0, 2, 8)\n",
      "(0, 0, 0, 0, 0, 2, 9)\n",
      "(0, 0, 0, 0, 0, 3, 3)\n",
      "(0, 0, 0, 0, 0, 3, 4)\n",
      "(0, 0, 0, 0, 0, 3, 5)\n",
      "(0, 0, 0, 0, 0, 3, 6)\n",
      "(0, 0, 0, 0, 0, 3, 7)\n",
      "(0, 0, 0, 0, 0, 3, 8)\n",
      "(0, 0, 0, 0, 0, 3, 9)\n",
      "(0, 0, 0, 0, 0, 4, 4)\n",
      "(0, 0, 0, 0, 0, 4, 5)\n",
      "(0, 0, 0, 0, 0, 4, 6)\n",
      "(0, 0, 0, 0, 0, 4, 7)\n",
      "(0, 0, 0, 0, 0, 4, 8)\n",
      "(0, 0, 0, 0, 0, 4, 9)\n",
      "(0, 0, 0, 0, 0, 5, 5)\n",
      "(0, 0, 0, 0, 0, 5, 6)\n",
      "(0, 0, 0, 0, 0, 5, 7)\n",
      "(0, 0, 0, 0, 0, 5, 8)\n",
      "(0, 0, 0, 0, 0, 5, 9)\n",
      "(0, 0, 0, 0, 0, 6, 6)\n",
      "(0, 0, 0, 0, 0, 6, 7)\n",
      "(0, 0, 0, 0, 0, 6, 8)\n",
      "(0, 0, 0, 0, 0, 6, 9)\n",
      "(0, 0, 0, 0, 0, 7, 7)\n",
      "(0, 0, 0, 0, 0, 7, 8)\n",
      "(0, 0, 0, 0, 0, 7, 9)\n",
      "(0, 0, 0, 0, 0, 8, 8)\n",
      "(0, 0, 0, 0, 0, 8, 9)\n",
      "(0, 0, 0, 0, 0, 9, 9)\n",
      "(0, 0, 0, 0, 1, 1, 1)\n",
      "(0, 0, 0, 0, 1, 1, 2)\n",
      "(0, 0, 0, 0, 1, 1, 3)\n",
      "(0, 0, 0, 0, 1, 1, 4)\n",
      "(0, 0, 0, 0, 1, 1, 5)\n",
      "(0, 0, 0, 0, 1, 1, 6)\n",
      "(0, 0, 0, 0, 1, 1, 7)\n",
      "(0, 0, 0, 0, 1, 1, 8)\n",
      "(0, 0, 0, 0, 1, 1, 9)\n",
      "(0, 0, 0, 0, 1, 2, 2)\n",
      "(0, 0, 0, 0, 1, 2, 3)\n",
      "(0, 0, 0, 0, 1, 2, 4)\n",
      "(0, 0, 0, 0, 1, 2, 5)\n",
      "(0, 0, 0, 0, 1, 2, 6)\n",
      "(0, 0, 0, 0, 1, 2, 7)\n",
      "(0, 0, 0, 0, 1, 2, 8)\n",
      "(0, 0, 0, 0, 1, 2, 9)\n",
      "(0, 0, 0, 0, 1, 3, 3)\n",
      "(0, 0, 0, 0, 1, 3, 4)\n",
      "(0, 0, 0, 0, 1, 3, 5)\n",
      "(0, 0, 0, 0, 1, 3, 6)\n",
      "(0, 0, 0, 0, 1, 3, 7)\n",
      "(0, 0, 0, 0, 1, 3, 8)\n",
      "(0, 0, 0, 0, 1, 3, 9)\n",
      "(0, 0, 0, 0, 1, 4, 4)\n",
      "(0, 0, 0, 0, 1, 4, 5)\n",
      "(0, 0, 0, 0, 1, 4, 6)\n",
      "(0, 0, 0, 0, 1, 4, 7)\n",
      "(0, 0, 0, 0, 1, 4, 8)\n",
      "(0, 0, 0, 0, 1, 4, 9)\n",
      "(0, 0, 0, 0, 1, 5, 5)\n",
      "(0, 0, 0, 0, 1, 5, 6)\n",
      "(0, 0, 0, 0, 1, 5, 7)\n",
      "(0, 0, 0, 0, 1, 5, 8)\n",
      "(0, 0, 0, 0, 1, 5, 9)\n",
      "(0, 0, 0, 0, 1, 6, 6)\n",
      "(0, 0, 0, 0, 1, 6, 7)\n",
      "(0, 0, 0, 0, 1, 6, 8)\n",
      "(0, 0, 0, 0, 1, 6, 9)\n",
      "(0, 0, 0, 0, 1, 7, 7)\n",
      "(0, 0, 0, 0, 1, 7, 8)\n",
      "(0, 0, 0, 0, 1, 7, 9)\n",
      "(0, 0, 0, 0, 1, 8, 8)\n",
      "(0, 0, 0, 0, 1, 8, 9)\n",
      "(0, 0, 0, 0, 1, 9, 9)\n",
      "(0, 0, 0, 0, 2, 2, 2)\n",
      "(0, 0, 0, 0, 2, 2, 3)\n",
      "(0, 0, 0, 0, 2, 2, 4)\n",
      "(0, 0, 0, 0, 2, 2, 5)\n",
      "(0, 0, 0, 0, 2, 2, 6)\n",
      "(0, 0, 0, 0, 2, 2, 7)\n",
      "(0, 0, 0, 0, 2, 2, 8)\n",
      "(0, 0, 0, 0, 2, 2, 9)\n",
      "(0, 0, 0, 0, 2, 3, 3)\n",
      "(0, 0, 0, 0, 2, 3, 4)\n",
      "(0, 0, 0, 0, 2, 3, 5)\n",
      "(0, 0, 0, 0, 2, 3, 6)\n",
      "(0, 0, 0, 0, 2, 3, 7)\n",
      "(0, 0, 0, 0, 2, 3, 8)\n",
      "(0, 0, 0, 0, 2, 3, 9)\n",
      "(0, 0, 0, 0, 2, 4, 4)\n",
      "(0, 0, 0, 0, 2, 4, 5)\n",
      "(0, 0, 0, 0, 2, 4, 6)\n",
      "(0, 0, 0, 0, 2, 4, 7)\n",
      "(0, 0, 0, 0, 2, 4, 8)\n",
      "(0, 0, 0, 0, 2, 4, 9)\n",
      "(0, 0, 0, 0, 2, 5, 5)\n",
      "(0, 0, 0, 0, 2, 5, 6)\n",
      "(0, 0, 0, 0, 2, 5, 7)\n",
      "(0, 0, 0, 0, 2, 5, 8)\n",
      "(0, 0, 0, 0, 2, 5, 9)\n",
      "(0, 0, 0, 0, 2, 6, 6)\n",
      "(0, 0, 0, 0, 2, 6, 7)\n",
      "(0, 0, 0, 0, 2, 6, 8)\n",
      "(0, 0, 0, 0, 2, 6, 9)\n",
      "(0, 0, 0, 0, 2, 7, 7)\n",
      "(0, 0, 0, 0, 2, 7, 8)\n",
      "(0, 0, 0, 0, 2, 7, 9)\n",
      "(0, 0, 0, 0, 2, 8, 8)\n",
      "(0, 0, 0, 0, 2, 8, 9)\n",
      "(0, 0, 0, 0, 2, 9, 9)\n",
      "(0, 0, 0, 0, 3, 3, 3)\n",
      "(0, 0, 0, 0, 3, 3, 4)\n",
      "(0, 0, 0, 0, 3, 3, 5)\n",
      "(0, 0, 0, 0, 3, 3, 6)\n",
      "(0, 0, 0, 0, 3, 3, 7)\n",
      "(0, 0, 0, 0, 3, 3, 8)\n",
      "(0, 0, 0, 0, 3, 3, 9)\n",
      "(0, 0, 0, 0, 3, 4, 4)\n",
      "(0, 0, 0, 0, 3, 4, 5)\n",
      "(0, 0, 0, 0, 3, 4, 6)\n",
      "(0, 0, 0, 0, 3, 4, 7)\n",
      "(0, 0, 0, 0, 3, 4, 8)\n",
      "(0, 0, 0, 0, 3, 4, 9)\n",
      "(0, 0, 0, 0, 3, 5, 5)\n",
      "(0, 0, 0, 0, 3, 5, 6)\n",
      "(0, 0, 0, 0, 3, 5, 7)\n",
      "(0, 0, 0, 0, 3, 5, 8)\n",
      "(0, 0, 0, 0, 3, 5, 9)\n",
      "(0, 0, 0, 0, 3, 6, 6)\n",
      "(0, 0, 0, 0, 3, 6, 7)\n",
      "(0, 0, 0, 0, 3, 6, 8)\n",
      "(0, 0, 0, 0, 3, 6, 9)\n",
      "(0, 0, 0, 0, 3, 7, 7)\n",
      "(0, 0, 0, 0, 3, 7, 8)\n",
      "(0, 0, 0, 0, 3, 7, 9)\n",
      "(0, 0, 0, 0, 3, 8, 8)\n",
      "(0, 0, 0, 0, 3, 8, 9)\n",
      "(0, 0, 0, 0, 3, 9, 9)\n",
      "(0, 0, 0, 0, 4, 4, 4)\n",
      "(0, 0, 0, 0, 4, 4, 5)\n",
      "(0, 0, 0, 0, 4, 4, 6)\n",
      "(0, 0, 0, 0, 4, 4, 7)\n",
      "(0, 0, 0, 0, 4, 4, 8)\n",
      "(0, 0, 0, 0, 4, 4, 9)\n",
      "(0, 0, 0, 0, 4, 5, 5)\n",
      "(0, 0, 0, 0, 4, 5, 6)\n",
      "(0, 0, 0, 0, 4, 5, 7)\n",
      "(0, 0, 0, 0, 4, 5, 8)\n",
      "(0, 0, 0, 0, 4, 5, 9)\n",
      "(0, 0, 0, 0, 4, 6, 6)\n",
      "(0, 0, 0, 0, 4, 6, 7)\n",
      "(0, 0, 0, 0, 4, 6, 8)\n",
      "(0, 0, 0, 0, 4, 6, 9)\n",
      "(0, 0, 0, 0, 4, 7, 7)\n",
      "(0, 0, 0, 0, 4, 7, 8)\n",
      "(0, 0, 0, 0, 4, 7, 9)\n",
      "(0, 0, 0, 0, 4, 8, 8)\n",
      "(0, 0, 0, 0, 4, 8, 9)\n",
      "(0, 0, 0, 0, 4, 9, 9)\n",
      "(0, 0, 0, 0, 5, 5, 5)\n",
      "(0, 0, 0, 0, 5, 5, 6)\n",
      "(0, 0, 0, 0, 5, 5, 7)\n",
      "(0, 0, 0, 0, 5, 5, 8)\n",
      "(0, 0, 0, 0, 5, 5, 9)\n",
      "(0, 0, 0, 0, 5, 6, 6)\n",
      "(0, 0, 0, 0, 5, 6, 7)\n",
      "(0, 0, 0, 0, 5, 6, 8)\n",
      "(0, 0, 0, 0, 5, 6, 9)\n",
      "(0, 0, 0, 0, 5, 7, 7)\n",
      "(0, 0, 0, 0, 5, 7, 8)\n",
      "(0, 0, 0, 0, 5, 7, 9)\n",
      "(0, 0, 0, 0, 5, 8, 8)\n",
      "(0, 0, 0, 0, 5, 8, 9)\n",
      "(0, 0, 0, 0, 5, 9, 9)\n",
      "(0, 0, 0, 0, 6, 6, 6)\n",
      "(0, 0, 0, 0, 6, 6, 7)\n",
      "(0, 0, 0, 0, 6, 6, 8)\n",
      "(0, 0, 0, 0, 6, 6, 9)\n",
      "(0, 0, 0, 0, 6, 7, 7)\n",
      "(0, 0, 0, 0, 6, 7, 8)\n",
      "(0, 0, 0, 0, 6, 7, 9)\n",
      "(0, 0, 0, 0, 6, 8, 8)\n",
      "(0, 0, 0, 0, 6, 8, 9)\n",
      "(0, 0, 0, 0, 6, 9, 9)\n",
      "(0, 0, 0, 0, 7, 7, 7)\n",
      "(0, 0, 0, 0, 7, 7, 8)\n",
      "(0, 0, 0, 0, 7, 7, 9)\n",
      "(0, 0, 0, 0, 7, 8, 8)\n",
      "(0, 0, 0, 0, 7, 8, 9)\n",
      "(0, 0, 0, 0, 7, 9, 9)\n",
      "(0, 0, 0, 0, 8, 8, 8)\n",
      "(0, 0, 0, 0, 8, 8, 9)\n",
      "(0, 0, 0, 0, 8, 9, 9)\n",
      "(0, 0, 0, 0, 9, 9, 9)\n",
      "(0, 0, 0, 1, 1, 1, 1)\n",
      "(0, 0, 0, 1, 1, 1, 2)\n",
      "(0, 0, 0, 1, 1, 1, 3)\n",
      "(0, 0, 0, 1, 1, 1, 4)\n",
      "(0, 0, 0, 1, 1, 1, 5)\n",
      "(0, 0, 0, 1, 1, 1, 6)\n",
      "(0, 0, 0, 1, 1, 1, 7)\n",
      "(0, 0, 0, 1, 1, 1, 8)\n",
      "(0, 0, 0, 1, 1, 1, 9)\n",
      "(0, 0, 0, 1, 1, 2, 2)\n",
      "(0, 0, 0, 1, 1, 2, 3)\n",
      "(0, 0, 0, 1, 1, 2, 4)\n",
      "(0, 0, 0, 1, 1, 2, 5)\n",
      "(0, 0, 0, 1, 1, 2, 6)\n",
      "(0, 0, 0, 1, 1, 2, 7)\n",
      "(0, 0, 0, 1, 1, 2, 8)\n",
      "(0, 0, 0, 1, 1, 2, 9)\n",
      "(0, 0, 0, 1, 1, 3, 3)\n",
      "(0, 0, 0, 1, 1, 3, 4)\n",
      "(0, 0, 0, 1, 1, 3, 5)\n",
      "(0, 0, 0, 1, 1, 3, 6)\n",
      "(0, 0, 0, 1, 1, 3, 7)\n",
      "(0, 0, 0, 1, 1, 3, 8)\n",
      "(0, 0, 0, 1, 1, 3, 9)\n",
      "(0, 0, 0, 1, 1, 4, 4)\n",
      "(0, 0, 0, 1, 1, 4, 5)\n",
      "(0, 0, 0, 1, 1, 4, 6)\n",
      "(0, 0, 0, 1, 1, 4, 7)\n",
      "(0, 0, 0, 1, 1, 4, 8)\n",
      "(0, 0, 0, 1, 1, 4, 9)\n",
      "(0, 0, 0, 1, 1, 5, 5)\n",
      "(0, 0, 0, 1, 1, 5, 6)\n",
      "(0, 0, 0, 1, 1, 5, 7)\n",
      "(0, 0, 0, 1, 1, 5, 8)\n",
      "(0, 0, 0, 1, 1, 5, 9)\n",
      "(0, 0, 0, 1, 1, 6, 6)\n",
      "(0, 0, 0, 1, 1, 6, 7)\n",
      "(0, 0, 0, 1, 1, 6, 8)\n",
      "(0, 0, 0, 1, 1, 6, 9)\n",
      "(0, 0, 0, 1, 1, 7, 7)\n",
      "(0, 0, 0, 1, 1, 7, 8)\n",
      "(0, 0, 0, 1, 1, 7, 9)\n",
      "(0, 0, 0, 1, 1, 8, 8)\n",
      "(0, 0, 0, 1, 1, 8, 9)\n",
      "(0, 0, 0, 1, 1, 9, 9)\n",
      "(0, 0, 0, 1, 2, 2, 2)\n",
      "(0, 0, 0, 1, 2, 2, 3)\n",
      "(0, 0, 0, 1, 2, 2, 4)\n",
      "(0, 0, 0, 1, 2, 2, 5)\n",
      "(0, 0, 0, 1, 2, 2, 6)\n",
      "(0, 0, 0, 1, 2, 2, 7)\n",
      "(0, 0, 0, 1, 2, 2, 8)\n",
      "(0, 0, 0, 1, 2, 2, 9)\n",
      "(0, 0, 0, 1, 2, 3, 3)\n",
      "(0, 0, 0, 1, 2, 3, 4)\n",
      "(0, 0, 0, 1, 2, 3, 5)\n",
      "(0, 0, 0, 1, 2, 3, 6)\n",
      "(0, 0, 0, 1, 2, 3, 7)\n",
      "(0, 0, 0, 1, 2, 3, 8)\n",
      "(0, 0, 0, 1, 2, 3, 9)\n",
      "(0, 0, 0, 1, 2, 4, 4)\n",
      "(0, 0, 0, 1, 2, 4, 5)\n",
      "(0, 0, 0, 1, 2, 4, 6)\n",
      "(0, 0, 0, 1, 2, 4, 7)\n",
      "(0, 0, 0, 1, 2, 4, 8)\n",
      "(0, 0, 0, 1, 2, 4, 9)\n",
      "(0, 0, 0, 1, 2, 5, 5)\n",
      "(0, 0, 0, 1, 2, 5, 6)\n",
      "(0, 0, 0, 1, 2, 5, 7)\n",
      "(0, 0, 0, 1, 2, 5, 8)\n",
      "(0, 0, 0, 1, 2, 5, 9)\n",
      "(0, 0, 0, 1, 2, 6, 6)\n",
      "(0, 0, 0, 1, 2, 6, 7)\n",
      "(0, 0, 0, 1, 2, 6, 8)\n",
      "(0, 0, 0, 1, 2, 6, 9)\n",
      "(0, 0, 0, 1, 2, 7, 7)\n",
      "(0, 0, 0, 1, 2, 7, 8)\n",
      "(0, 0, 0, 1, 2, 7, 9)\n",
      "(0, 0, 0, 1, 2, 8, 8)\n",
      "(0, 0, 0, 1, 2, 8, 9)\n",
      "(0, 0, 0, 1, 2, 9, 9)\n",
      "(0, 0, 0, 1, 3, 3, 3)\n",
      "(0, 0, 0, 1, 3, 3, 4)\n",
      "(0, 0, 0, 1, 3, 3, 5)\n",
      "(0, 0, 0, 1, 3, 3, 6)\n",
      "(0, 0, 0, 1, 3, 3, 7)\n",
      "(0, 0, 0, 1, 3, 3, 8)\n",
      "(0, 0, 0, 1, 3, 3, 9)\n",
      "(0, 0, 0, 1, 3, 4, 4)\n",
      "(0, 0, 0, 1, 3, 4, 5)\n",
      "(0, 0, 0, 1, 3, 4, 6)\n",
      "(0, 0, 0, 1, 3, 4, 7)\n",
      "(0, 0, 0, 1, 3, 4, 8)\n",
      "(0, 0, 0, 1, 3, 4, 9)\n",
      "(0, 0, 0, 1, 3, 5, 5)\n",
      "(0, 0, 0, 1, 3, 5, 6)\n",
      "(0, 0, 0, 1, 3, 5, 7)\n",
      "(0, 0, 0, 1, 3, 5, 8)\n",
      "(0, 0, 0, 1, 3, 5, 9)\n",
      "(0, 0, 0, 1, 3, 6, 6)\n",
      "(0, 0, 0, 1, 3, 6, 7)\n",
      "(0, 0, 0, 1, 3, 6, 8)\n",
      "(0, 0, 0, 1, 3, 6, 9)\n",
      "(0, 0, 0, 1, 3, 7, 7)\n",
      "(0, 0, 0, 1, 3, 7, 8)\n",
      "(0, 0, 0, 1, 3, 7, 9)\n",
      "(0, 0, 0, 1, 3, 8, 8)\n",
      "(0, 0, 0, 1, 3, 8, 9)\n",
      "(0, 0, 0, 1, 3, 9, 9)\n",
      "(0, 0, 0, 1, 4, 4, 4)\n",
      "(0, 0, 0, 1, 4, 4, 5)\n",
      "(0, 0, 0, 1, 4, 4, 6)\n",
      "(0, 0, 0, 1, 4, 4, 7)\n",
      "(0, 0, 0, 1, 4, 4, 8)\n",
      "(0, 0, 0, 1, 4, 4, 9)\n",
      "(0, 0, 0, 1, 4, 5, 5)\n",
      "(0, 0, 0, 1, 4, 5, 6)\n",
      "(0, 0, 0, 1, 4, 5, 7)\n",
      "(0, 0, 0, 1, 4, 5, 8)\n",
      "(0, 0, 0, 1, 4, 5, 9)\n",
      "(0, 0, 0, 1, 4, 6, 6)\n",
      "(0, 0, 0, 1, 4, 6, 7)\n",
      "(0, 0, 0, 1, 4, 6, 8)\n",
      "(0, 0, 0, 1, 4, 6, 9)\n",
      "(0, 0, 0, 1, 4, 7, 7)\n",
      "(0, 0, 0, 1, 4, 7, 8)\n",
      "(0, 0, 0, 1, 4, 7, 9)\n",
      "(0, 0, 0, 1, 4, 8, 8)\n",
      "(0, 0, 0, 1, 4, 8, 9)\n",
      "(0, 0, 0, 1, 4, 9, 9)\n",
      "(0, 0, 0, 1, 5, 5, 5)\n",
      "(0, 0, 0, 1, 5, 5, 6)\n",
      "(0, 0, 0, 1, 5, 5, 7)\n",
      "(0, 0, 0, 1, 5, 5, 8)\n",
      "(0, 0, 0, 1, 5, 5, 9)\n",
      "(0, 0, 0, 1, 5, 6, 6)\n",
      "(0, 0, 0, 1, 5, 6, 7)\n",
      "(0, 0, 0, 1, 5, 6, 8)\n",
      "(0, 0, 0, 1, 5, 6, 9)\n",
      "(0, 0, 0, 1, 5, 7, 7)\n",
      "(0, 0, 0, 1, 5, 7, 8)\n",
      "(0, 0, 0, 1, 5, 7, 9)\n",
      "(0, 0, 0, 1, 5, 8, 8)\n",
      "(0, 0, 0, 1, 5, 8, 9)\n",
      "(0, 0, 0, 1, 5, 9, 9)\n",
      "(0, 0, 0, 1, 6, 6, 6)\n",
      "(0, 0, 0, 1, 6, 6, 7)\n",
      "(0, 0, 0, 1, 6, 6, 8)\n",
      "(0, 0, 0, 1, 6, 6, 9)\n",
      "(0, 0, 0, 1, 6, 7, 7)\n",
      "(0, 0, 0, 1, 6, 7, 8)\n",
      "(0, 0, 0, 1, 6, 7, 9)\n",
      "(0, 0, 0, 1, 6, 8, 8)\n",
      "(0, 0, 0, 1, 6, 8, 9)\n",
      "(0, 0, 0, 1, 6, 9, 9)\n",
      "(0, 0, 0, 1, 7, 7, 7)\n",
      "(0, 0, 0, 1, 7, 7, 8)\n",
      "(0, 0, 0, 1, 7, 7, 9)\n",
      "(0, 0, 0, 1, 7, 8, 8)\n",
      "(0, 0, 0, 1, 7, 8, 9)\n",
      "(0, 0, 0, 1, 7, 9, 9)\n",
      "(0, 0, 0, 1, 8, 8, 8)\n",
      "(0, 0, 0, 1, 8, 8, 9)\n",
      "(0, 0, 0, 1, 8, 9, 9)\n",
      "(0, 0, 0, 1, 9, 9, 9)\n",
      "(0, 0, 0, 2, 2, 2, 2)\n",
      "(0, 0, 0, 2, 2, 2, 3)\n",
      "(0, 0, 0, 2, 2, 2, 4)\n",
      "(0, 0, 0, 2, 2, 2, 5)\n",
      "(0, 0, 0, 2, 2, 2, 6)\n",
      "(0, 0, 0, 2, 2, 2, 7)\n",
      "(0, 0, 0, 2, 2, 2, 8)\n",
      "(0, 0, 0, 2, 2, 2, 9)\n",
      "(0, 0, 0, 2, 2, 3, 3)\n",
      "(0, 0, 0, 2, 2, 3, 4)\n",
      "(0, 0, 0, 2, 2, 3, 5)\n",
      "(0, 0, 0, 2, 2, 3, 6)\n",
      "(0, 0, 0, 2, 2, 3, 7)\n",
      "(0, 0, 0, 2, 2, 3, 8)\n",
      "(0, 0, 0, 2, 2, 3, 9)\n",
      "(0, 0, 0, 2, 2, 4, 4)\n",
      "(0, 0, 0, 2, 2, 4, 5)\n",
      "(0, 0, 0, 2, 2, 4, 6)\n",
      "(0, 0, 0, 2, 2, 4, 7)\n",
      "(0, 0, 0, 2, 2, 4, 8)\n",
      "(0, 0, 0, 2, 2, 4, 9)\n",
      "(0, 0, 0, 2, 2, 5, 5)\n",
      "(0, 0, 0, 2, 2, 5, 6)\n",
      "(0, 0, 0, 2, 2, 5, 7)\n",
      "(0, 0, 0, 2, 2, 5, 8)\n",
      "(0, 0, 0, 2, 2, 5, 9)\n",
      "(0, 0, 0, 2, 2, 6, 6)\n",
      "(0, 0, 0, 2, 2, 6, 7)\n",
      "(0, 0, 0, 2, 2, 6, 8)\n",
      "(0, 0, 0, 2, 2, 6, 9)\n",
      "(0, 0, 0, 2, 2, 7, 7)\n",
      "(0, 0, 0, 2, 2, 7, 8)\n",
      "(0, 0, 0, 2, 2, 7, 9)\n",
      "(0, 0, 0, 2, 2, 8, 8)\n",
      "(0, 0, 0, 2, 2, 8, 9)\n",
      "(0, 0, 0, 2, 2, 9, 9)\n",
      "(0, 0, 0, 2, 3, 3, 3)\n",
      "(0, 0, 0, 2, 3, 3, 4)\n",
      "(0, 0, 0, 2, 3, 3, 5)\n",
      "(0, 0, 0, 2, 3, 3, 6)\n",
      "(0, 0, 0, 2, 3, 3, 7)\n",
      "(0, 0, 0, 2, 3, 3, 8)\n",
      "(0, 0, 0, 2, 3, 3, 9)\n",
      "(0, 0, 0, 2, 3, 4, 4)\n",
      "(0, 0, 0, 2, 3, 4, 5)\n",
      "(0, 0, 0, 2, 3, 4, 6)\n",
      "(0, 0, 0, 2, 3, 4, 7)\n",
      "(0, 0, 0, 2, 3, 4, 8)\n",
      "(0, 0, 0, 2, 3, 4, 9)\n",
      "(0, 0, 0, 2, 3, 5, 5)\n",
      "(0, 0, 0, 2, 3, 5, 6)\n",
      "(0, 0, 0, 2, 3, 5, 7)\n",
      "(0, 0, 0, 2, 3, 5, 8)\n",
      "(0, 0, 0, 2, 3, 5, 9)\n",
      "(0, 0, 0, 2, 3, 6, 6)\n",
      "(0, 0, 0, 2, 3, 6, 7)\n",
      "(0, 0, 0, 2, 3, 6, 8)\n",
      "(0, 0, 0, 2, 3, 6, 9)\n",
      "(0, 0, 0, 2, 3, 7, 7)\n",
      "(0, 0, 0, 2, 3, 7, 8)\n",
      "(0, 0, 0, 2, 3, 7, 9)\n",
      "(0, 0, 0, 2, 3, 8, 8)\n",
      "(0, 0, 0, 2, 3, 8, 9)\n",
      "(0, 0, 0, 2, 3, 9, 9)\n",
      "(0, 0, 0, 2, 4, 4, 4)\n",
      "(0, 0, 0, 2, 4, 4, 5)\n",
      "(0, 0, 0, 2, 4, 4, 6)\n",
      "(0, 0, 0, 2, 4, 4, 7)\n",
      "(0, 0, 0, 2, 4, 4, 8)\n",
      "(0, 0, 0, 2, 4, 4, 9)\n",
      "(0, 0, 0, 2, 4, 5, 5)\n",
      "(0, 0, 0, 2, 4, 5, 6)\n",
      "(0, 0, 0, 2, 4, 5, 7)\n",
      "(0, 0, 0, 2, 4, 5, 8)\n",
      "(0, 0, 0, 2, 4, 5, 9)\n",
      "(0, 0, 0, 2, 4, 6, 6)\n",
      "(0, 0, 0, 2, 4, 6, 7)\n",
      "(0, 0, 0, 2, 4, 6, 8)\n",
      "(0, 0, 0, 2, 4, 6, 9)\n",
      "(0, 0, 0, 2, 4, 7, 7)\n",
      "(0, 0, 0, 2, 4, 7, 8)\n",
      "(0, 0, 0, 2, 4, 7, 9)\n",
      "(0, 0, 0, 2, 4, 8, 8)\n",
      "(0, 0, 0, 2, 4, 8, 9)\n",
      "(0, 0, 0, 2, 4, 9, 9)\n",
      "(0, 0, 0, 2, 5, 5, 5)\n",
      "(0, 0, 0, 2, 5, 5, 6)\n",
      "(0, 0, 0, 2, 5, 5, 7)\n",
      "(0, 0, 0, 2, 5, 5, 8)\n",
      "(0, 0, 0, 2, 5, 5, 9)\n",
      "(0, 0, 0, 2, 5, 6, 6)\n",
      "(0, 0, 0, 2, 5, 6, 7)\n",
      "(0, 0, 0, 2, 5, 6, 8)\n",
      "(0, 0, 0, 2, 5, 6, 9)\n",
      "(0, 0, 0, 2, 5, 7, 7)\n",
      "(0, 0, 0, 2, 5, 7, 8)\n",
      "(0, 0, 0, 2, 5, 7, 9)\n",
      "(0, 0, 0, 2, 5, 8, 8)\n",
      "(0, 0, 0, 2, 5, 8, 9)\n",
      "(0, 0, 0, 2, 5, 9, 9)\n",
      "(0, 0, 0, 2, 6, 6, 6)\n",
      "(0, 0, 0, 2, 6, 6, 7)\n",
      "(0, 0, 0, 2, 6, 6, 8)\n",
      "(0, 0, 0, 2, 6, 6, 9)\n",
      "(0, 0, 0, 2, 6, 7, 7)\n",
      "(0, 0, 0, 2, 6, 7, 8)\n",
      "(0, 0, 0, 2, 6, 7, 9)\n",
      "(0, 0, 0, 2, 6, 8, 8)\n",
      "(0, 0, 0, 2, 6, 8, 9)\n",
      "(0, 0, 0, 2, 6, 9, 9)\n",
      "(0, 0, 0, 2, 7, 7, 7)\n",
      "(0, 0, 0, 2, 7, 7, 8)\n",
      "(0, 0, 0, 2, 7, 7, 9)\n",
      "(0, 0, 0, 2, 7, 8, 8)\n",
      "(0, 0, 0, 2, 7, 8, 9)\n",
      "(0, 0, 0, 2, 7, 9, 9)\n",
      "(0, 0, 0, 2, 8, 8, 8)\n",
      "(0, 0, 0, 2, 8, 8, 9)\n",
      "(0, 0, 0, 2, 8, 9, 9)\n",
      "(0, 0, 0, 2, 9, 9, 9)\n",
      "(0, 0, 0, 3, 3, 3, 3)\n",
      "(0, 0, 0, 3, 3, 3, 4)\n",
      "(0, 0, 0, 3, 3, 3, 5)\n",
      "(0, 0, 0, 3, 3, 3, 6)\n",
      "(0, 0, 0, 3, 3, 3, 7)\n",
      "(0, 0, 0, 3, 3, 3, 8)\n",
      "(0, 0, 0, 3, 3, 3, 9)\n",
      "(0, 0, 0, 3, 3, 4, 4)\n",
      "(0, 0, 0, 3, 3, 4, 5)\n",
      "(0, 0, 0, 3, 3, 4, 6)\n",
      "(0, 0, 0, 3, 3, 4, 7)\n",
      "(0, 0, 0, 3, 3, 4, 8)\n",
      "(0, 0, 0, 3, 3, 4, 9)\n",
      "(0, 0, 0, 3, 3, 5, 5)\n",
      "(0, 0, 0, 3, 3, 5, 6)\n",
      "(0, 0, 0, 3, 3, 5, 7)\n",
      "(0, 0, 0, 3, 3, 5, 8)\n",
      "(0, 0, 0, 3, 3, 5, 9)\n",
      "(0, 0, 0, 3, 3, 6, 6)\n",
      "(0, 0, 0, 3, 3, 6, 7)\n",
      "(0, 0, 0, 3, 3, 6, 8)\n",
      "(0, 0, 0, 3, 3, 6, 9)\n",
      "9 6 3 3\n"
     ]
    }
   ],
   "source": [
    "import itertools\n",
    "import math\n",
    "\n",
    "\n",
    "n_inp = int(input())\n",
    "\n",
    "def c_root(k):\n",
    "    \"\"\"cube root calculator based on newton formula\"\"\"\n",
    "    start = math.floor(len(str(k).encode('utf-8')) / 3) + 1\n",
    "    x = start\n",
    "    while True:\n",
    "        x = (x - (x ** 3 - k) / (3 * x ** 2)) // 1\n",
    "        if x ** 3 <= k < (x + 1) ** 3:\n",
    "            break\n",
    "    return int(x)\n",
    "\n",
    "def cube_dict_create(n_inp):\n",
    "    cube_dict = {}\n",
    "    for i in range(0,c_root(n_inp)+1):\n",
    "#         print(i, i**3)\n",
    "        cube_dict[i]= i**3\n",
    "    return cube_dict\n",
    "\n",
    "\n",
    "def cuber_v2(value_given):\n",
    "    if value_given == 1:\n",
    "        return([1])\n",
    "    if value_given == 0:\n",
    "        return([0])\n",
    "    result = []\n",
    "    a = cube_dict_create(value_given)\n",
    "    for i in itertools.combinations_with_replacement(a.keys(), 7):\n",
    "        sum = 0\n",
    "        print(i)\n",
    "        for tval in i:\n",
    "            sum += a[tval]\n",
    "        if sum == value_given:\n",
    "            result = i\n",
    "            break\n",
    "    if len(result) == 0:\n",
    "        return ([0])\n",
    "    else:\n",
    "        result = [i for i in result if i != 0]\n",
    "        result.sort(reverse=True)\n",
    "        return (result)\n",
    "    \n",
    "print(*cuber_v2(n_inp))"
   ]
  },
  {
   "cell_type": "code",
   "execution_count": 17,
   "metadata": {},
   "outputs": [
    {
     "data": {
      "text/plain": [
       "9"
      ]
     },
     "execution_count": 17,
     "metadata": {},
     "output_type": "execute_result"
    }
   ],
   "source": [
    "i"
   ]
  },
  {
   "cell_type": "code",
   "execution_count": 8,
   "metadata": {},
   "outputs": [],
   "source": [
    "def c_root(k):\n",
    "    \"\"\"cube root calculator based on newton formula\"\"\"\n",
    "    start = math.floor(len(str(k).encode('utf-8')) / 3) + 1\n",
    "    x = start\n",
    "    while True:\n",
    "        x = (x - (x ** 3 - k) / (3 * x ** 2)) // 1\n",
    "        if x ** 3 <= k < (x + 1) ** 3:\n",
    "            break\n",
    "    return int(x)"
   ]
  },
  {
   "cell_type": "code",
   "execution_count": 15,
   "metadata": {},
   "outputs": [
    {
     "data": {
      "text/plain": [
       "1000"
      ]
     },
     "execution_count": 15,
     "metadata": {},
     "output_type": "execute_result"
    }
   ],
   "source": [
    "import math\n",
    "c_root(1000000800)"
   ]
  },
  {
   "cell_type": "code",
   "execution_count": 11,
   "metadata": {},
   "outputs": [
    {
     "name": "stdout",
     "output_type": "stream",
     "text": [
      "0\n",
      "1\n",
      "2\n",
      "3\n",
      "4\n",
      "5\n",
      "6\n",
      "7\n",
      "8\n",
      "9\n"
     ]
    }
   ],
   "source": [
    "for i in range(0,10):\n",
    "    print(i)"
   ]
  },
  {
   "cell_type": "markdown",
   "metadata": {},
   "source": [
    "# W cubes"
   ]
  },
  {
   "cell_type": "code",
   "execution_count": 6,
   "metadata": {},
   "outputs": [
    {
     "name": "stdout",
     "output_type": "stream",
     "text": [
      "18\n",
      "1 1 8 8\n"
     ]
    }
   ],
   "source": [
    "import itertools\n",
    "\n",
    "n_inp = int(input())\n",
    "\n",
    "\n",
    "def cube_dict_create(int_input):\n",
    "    cube_dict = {}\n",
    "    for i in range(0, int(int_input ** (1 / 3)) + 1):\n",
    "        #         print(i, i**3)\n",
    "        cube_dict[i] = i ** 3\n",
    "    return cube_dict\n",
    "\n",
    "\n",
    "def cuber_v2(value_given):\n",
    "    result = []\n",
    "    a = cube_dict_create(value_given)\n",
    "    for i in itertools.combinations_with_replacement(a.keys(), 7):\n",
    "        sum_el = 0\n",
    "        for temp_val in i:\n",
    "            sum_el += a[temp_val]\n",
    "        if sum_el == value_given:\n",
    "            result = i\n",
    "            break\n",
    "    if len(result) == 0:\n",
    "        return [0]\n",
    "    else:\n",
    "        result = [a[i] for i in result if i != 0]\n",
    "        return result\n",
    "\n",
    "\n",
    "print(*cuber_v2(n_inp))\n"
   ]
  },
  {
   "cell_type": "code",
   "execution_count": null,
   "metadata": {},
   "outputs": [],
   "source": []
  }
 ],
 "metadata": {
  "kernelspec": {
   "display_name": "Python 3",
   "language": "python",
   "name": "python3"
  },
  "language_info": {
   "codemirror_mode": {
    "name": "ipython",
    "version": 3
   },
   "file_extension": ".py",
   "mimetype": "text/x-python",
   "name": "python",
   "nbconvert_exporter": "python",
   "pygments_lexer": "ipython3",
   "version": "3.8.3"
  }
 },
 "nbformat": 4,
 "nbformat_minor": 4
}
