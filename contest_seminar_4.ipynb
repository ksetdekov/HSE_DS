{
 "cells": [
  {
   "cell_type": "markdown",
   "metadata": {},
   "source": [
    "#  a min 4"
   ]
  },
  {
   "cell_type": "code",
   "execution_count": 3,
   "metadata": {},
   "outputs": [
    {
     "name": "stdout",
     "output_type": "stream",
     "text": [
      "1\n",
      "2\n",
      "3\n",
      "1\n",
      "1\n"
     ]
    }
   ],
   "source": [
    "a = int(input())\n",
    "b = int(input())\n",
    "c = int(input())\n",
    "d = int(input())\n",
    "\n",
    "def min4():\n",
    "    print(min(a, b, c, vd))\n",
    "min4()"
   ]
  },
  {
   "cell_type": "markdown",
   "metadata": {},
   "source": [
    "# b distance"
   ]
  },
  {
   "cell_type": "code",
   "execution_count": 14,
   "metadata": {},
   "outputs": [
    {
     "name": "stdout",
     "output_type": "stream",
     "text": [
      "3\n",
      "-2\n",
      "-1\n",
      "7\n",
      "9.84886\n"
     ]
    }
   ],
   "source": [
    "a = float(input())\n",
    "b = float(input())\n",
    "c = float(input())\n",
    "d = float(input())\n",
    "\n",
    "def dist():\n",
    "    result = (((a - c)**2 + (b - d)**2)**0.5)\n",
    "    if result.is_integer():\n",
    "        print(int(result))\n",
    "    else:\n",
    "        print(f'{result:.5f}')\n",
    "dist()"
   ]
  },
  {
   "cell_type": "markdown",
   "metadata": {},
   "source": [
    "# c perimeter"
   ]
  },
  {
   "cell_type": "code",
   "execution_count": 24,
   "metadata": {},
   "outputs": [
    {
     "name": "stdout",
     "output_type": "stream",
     "text": [
      "6\n",
      "5\n",
      "2\n",
      "-3\n",
      "-1\n",
      "-6\n",
      "26.2253174075\n"
     ]
    }
   ],
   "source": [
    "a1 = int(input())\n",
    "a2 = int(input())\n",
    "b1 = int(input())\n",
    "b2 = int(input())\n",
    "c1 = int(input())\n",
    "c2 = int(input())\n",
    "\n",
    "a = (a1, a2)\n",
    "b = (b1, b2)\n",
    "c = (c1, c2)\n",
    "\n",
    "def dist(point_1, point_2):\n",
    "    result = (((point_1[0] - point_2[0])**2 + (point_1[1] - point_2[1])**2)**0.5)\n",
    "    return result\n",
    "\n",
    "def perimeter(a_, b_, c_):\n",
    "    perim = dist(a_, b_) + dist(b_, c_) + dist(a_, c_)\n",
    "    return perim\n",
    "\n",
    "print(f'{perimeter(a, b, c):.10f}')\n"
   ]
  },
  {
   "cell_type": "markdown",
   "metadata": {},
   "source": [
    "# d xor"
   ]
  },
  {
   "cell_type": "code",
   "execution_count": 66,
   "metadata": {},
   "outputs": [
    {
     "name": "stdout",
     "output_type": "stream",
     "text": [
      "0\n",
      "1\n",
      "one\n"
     ]
    }
   ],
   "source": [
    "in_1 = bool(int(input()))\n",
    "in_2 = bool(int(input()))\n",
    "\n",
    "def myxor(a, b):\n",
    "    if a and b or (not a and not b):\n",
    "        print('0')\n",
    "    else:\n",
    "        print('1')\n",
    "myxor(in_1, in_2)"
   ]
  },
  {
   "cell_type": "markdown",
   "metadata": {},
   "source": [
    "# e point in square"
   ]
  },
  {
   "cell_type": "code",
   "execution_count": 98,
   "metadata": {},
   "outputs": [
    {
     "name": "stdout",
     "output_type": "stream",
     "text": [
      "0\n",
      "0\n",
      "YES\n"
     ]
    }
   ],
   "source": [
    "x1 = float(input())\n",
    "y1 = float(input())\n",
    "\n",
    "\n",
    "def isPointInSquare(x, y):\n",
    "    test = []\n",
    "    test.append(x <= 1)\n",
    "    test.append(x >= -1)\n",
    "    test.append(y <= 1)\n",
    "    test.append(y >= -1)\n",
    "    result = all(test)\n",
    "    return 'YES' * result + 'NO' * (1 - result)\n",
    "\n",
    "\n",
    "print(isPointInSquare(x1, y1))\n"
   ]
  },
  {
   "cell_type": "markdown",
   "metadata": {},
   "source": [
    "# f point in square"
   ]
  },
  {
   "cell_type": "code",
   "execution_count": 102,
   "metadata": {},
   "outputs": [
    {
     "name": "stdout",
     "output_type": "stream",
     "text": [
      "1\n",
      "1\n",
      "NO\n"
     ]
    }
   ],
   "source": [
    "x1 = float(input())\n",
    "y1 = float(input())\n",
    "\n",
    "\n",
    "def isPointInSquare(x, y):\n",
    "    test = []\n",
    "    test.append(x + y <= 1)\n",
    "    test.append(x + y >= -1)\n",
    "    test.append(y - x <= 1)\n",
    "    test.append(y - x >= -1)\n",
    "    result = all(test)\n",
    "    return 'YES' * result + 'NO' * (1 - result)\n",
    "\n",
    "\n",
    "print(isPointInSquare(x1, y1))\n"
   ]
  },
  {
   "cell_type": "markdown",
   "metadata": {},
   "source": [
    "# g point in circle"
   ]
  },
  {
   "cell_type": "code",
   "execution_count": 105,
   "metadata": {},
   "outputs": [
    {
     "name": "stdout",
     "output_type": "stream",
     "text": [
      "0\n",
      "0\n",
      "1\n",
      "0\n",
      "1\n",
      "YES\n"
     ]
    }
   ],
   "source": [
    "x1 = float(input())\n",
    "y1 = float(input())\n",
    "xc1 = float(input())\n",
    "xc2 = float(input())\n",
    "rad = float(input())\n",
    "\n",
    "def IsPointInCircle(x, y, xc, yc, r):\n",
    "    test = []\n",
    "    test.append((x - xc)**2+(y - yc)**2 <= r**2)\n",
    "    result = all(test)\n",
    "    return 'YES' * result + 'NO' * (1 - result)\n",
    "\n",
    "\n",
    "print(IsPointInCircle(x1, y1, xc1, xc2, rad))\n"
   ]
  },
  {
   "cell_type": "markdown",
   "metadata": {},
   "source": [
    "# h point in area"
   ]
  },
  {
   "cell_type": "code",
   "execution_count": 128,
   "metadata": {},
   "outputs": [
    {
     "name": "stdout",
     "output_type": "stream",
     "text": [
      "0\n",
      "0\n",
      "[False, False]\n",
      "NO\n"
     ]
    }
   ],
   "source": [
    "x1 = float(input())\n",
    "y1 = float(input())\n",
    "\n",
    "\n",
    "def IsPointInCircle(x, y, xc=-1, yc=1, r=2):\n",
    "    test = []\n",
    "    test.append((x - xc)**2+(y - yc)**2 <= r**2)\n",
    "    result = all(test)\n",
    "    return result\n",
    "\n",
    "def IsPointOutCircle(x, y, xc=-1, yc=1, r=2):\n",
    "    test = []\n",
    "    test.append((x - xc)**2+(y - yc)**2 >= r**2)\n",
    "    result = all(test)\n",
    "    return result\n",
    "\n",
    "def IsPointInArea(x, y):\n",
    "    test = []\n",
    "    \n",
    "    sharpline = (y >= (2 * x +  2))\n",
    "    downline = (y >= -x)\n",
    "    circle = IsPointInCircle(x, y)\n",
    "    upper_part = circle and sharpline and downline\n",
    "    test.append(upper_part)\n",
    "    \n",
    "    sharpline_d = (y <= (2 * x +  2))\n",
    "    downline_d = (y <= -x)\n",
    "    circle_d = IsPointOutCircle(x, y)\n",
    "    lower_part = circle_d and sharpline_d and downline_d\n",
    "    test.append(lower_part)\n",
    "    \n",
    "    result = any(test)\n",
    "    return 'YES' * result + 'NO' * (1 - result)\n",
    "\n",
    "print(IsPointInArea(x1, y1))\n"
   ]
  },
  {
   "cell_type": "markdown",
   "metadata": {},
   "source": [
    "# I min divisor"
   ]
  },
  {
   "cell_type": "code",
   "execution_count": 143,
   "metadata": {},
   "outputs": [
    {
     "name": "stdout",
     "output_type": "stream",
     "text": [
      "10\n",
      "2\n"
     ]
    }
   ],
   "source": [
    "value = int(input())\n",
    "\n",
    "\n",
    "def MinDivisor(n):\n",
    "    lim = int(n ** 0.5)\n",
    "\n",
    "    for i in range(2, lim + 1):\n",
    "        if n % i == 0:\n",
    "            return i\n",
    "    return n\n",
    "\n",
    "\n",
    "print(MinDivisor(value))\n"
   ]
  },
  {
   "cell_type": "markdown",
   "metadata": {},
   "source": [
    "# J is prime"
   ]
  },
  {
   "cell_type": "code",
   "execution_count": 151,
   "metadata": {},
   "outputs": [
    {
     "name": "stdout",
     "output_type": "stream",
     "text": [
      "7\n",
      "YES\n"
     ]
    }
   ],
   "source": [
    "value = int(input())\n",
    "\n",
    "\n",
    "def min_divisor(n):\n",
    "    lim = int(n ** 0.5)\n",
    "\n",
    "    for i in range(2, lim + 1):\n",
    "        if n % i == 0:\n",
    "            return i\n",
    "    return n\n",
    "\n",
    "\n",
    "def IsPrime(n):\n",
    "    return n == min_divisor(n)\n",
    "\n",
    "\n",
    "if IsPrime(value):\n",
    "    print('YES')\n",
    "else:\n",
    "    print('NO')\n"
   ]
  },
  {
   "cell_type": "markdown",
   "metadata": {},
   "source": [
    "# K power with recursion"
   ]
  },
  {
   "cell_type": "code",
   "execution_count": 153,
   "metadata": {},
   "outputs": [
    {
     "name": "stdout",
     "output_type": "stream",
     "text": [
      "10\n",
      "1\n",
      "10.0\n"
     ]
    }
   ],
   "source": [
    "a_val = float(input())\n",
    "b_val = int(input())\n",
    "\n",
    "\n",
    "def power(a, n):\n",
    "    if n > 1:\n",
    "        return a * power(a, n - 1)\n",
    "    elif n == 1:\n",
    "        return a\n",
    "    else:\n",
    "        return 1\n",
    "\n",
    "\n",
    "result = power(a_val, b_val)\n",
    "print(result)"
   ]
  },
  {
   "cell_type": "markdown",
   "metadata": {},
   "source": [
    "# L power with recursion"
   ]
  },
  {
   "cell_type": "code",
   "execution_count": 153,
   "metadata": {},
   "outputs": [
    {
     "name": "stdout",
     "output_type": "stream",
     "text": [
      "10\n",
      "1\n",
      "10.0\n"
     ]
    }
   ],
   "source": [
    "a_val = float(input())\n",
    "b_val = int(input())\n",
    "\n",
    "\n",
    "def power(a, n):\n",
    "    if n > 0:\n",
    "        return a * power(a, n - 1)\n",
    "    elif n < 0:\n",
    "        return 1 / power(a, -n)\n",
    "    else:\n",
    "        return 1\n",
    "\n",
    "\n",
    "result = power(a_val, b_val)\n",
    "print(result)"
   ]
  },
  {
   "cell_type": "markdown",
   "metadata": {},
   "source": [
    "# M stupid sum"
   ]
  },
  {
   "cell_type": "code",
   "execution_count": 154,
   "metadata": {},
   "outputs": [
    {
     "name": "stdout",
     "output_type": "stream",
     "text": [
      "10\n",
      "1\n",
      "11\n"
     ]
    }
   ],
   "source": [
    "av = int(input())\n",
    "bv = int(input())\n",
    "\n",
    "\n",
    "def my_sum(a, b):\n",
    "    if b == 0:\n",
    "        return a\n",
    "    else:\n",
    "        b -= 1\n",
    "        a += 1\n",
    "        return my_sum(a, b)\n",
    "\n",
    "\n",
    "print(my_sum(av, bv))\n"
   ]
  },
  {
   "cell_type": "markdown",
   "metadata": {},
   "source": [
    "# n fast power"
   ]
  },
  {
   "cell_type": "code",
   "execution_count": null,
   "metadata": {},
   "outputs": [],
   "source": [
    "a_val = float(input())\n",
    "b_val = int(input())\n",
    "\n",
    "\n",
    "def power(a, n):\n",
    "    if n == 0:\n",
    "        return 1\n",
    "    elif n < 0:\n",
    "        return 1 / power(a, -n)\n",
    "    elif n % 2 == 1:\n",
    "        return power(a, n - 1) * a\n",
    "    else:\n",
    "        return power(a, n // 2) ** 2\n",
    "\n",
    "\n",
    "result = power(a_val, b_val)\n",
    "print(result)\n"
   ]
  },
  {
   "cell_type": "markdown",
   "metadata": {},
   "source": [
    "# O euclids"
   ]
  },
  {
   "cell_type": "code",
   "execution_count": null,
   "metadata": {},
   "outputs": [],
   "source": [
    "a_val = int(input())\n",
    "b_val = int(input())\n",
    "\n",
    "\n",
    "def gcd(a, b):\n",
    "    if b > a:\n",
    "        a, b = b, a\n",
    "    if a % b == 0:\n",
    "        return b\n",
    "    else:\n",
    "        return gcd(b, a % b)\n",
    "\n",
    "\n",
    "result = gcd(a_val, b_val)\n",
    "print(result)\n"
   ]
  },
  {
   "cell_type": "markdown",
   "metadata": {},
   "source": [
    "# P сократить дробь"
   ]
  },
  {
   "cell_type": "code",
   "execution_count": 23,
   "metadata": {},
   "outputs": [
    {
     "name": "stdout",
     "output_type": "stream",
     "text": [
      "12121246\n",
      "12121254\n",
      "6060623 6060627\n"
     ]
    }
   ],
   "source": [
    "a_val = int(input())\n",
    "b_val = int(input())\n",
    "\n",
    "\n",
    "def gcd(a, b):\n",
    "    if b > a:\n",
    "        a, b = b, a\n",
    "    if a % b == 0:\n",
    "        return b\n",
    "    else:\n",
    "        return gcd(b, a % b)\n",
    "\n",
    "\n",
    "def reduce_fraction(n, m):\n",
    "    divider = gcd(n, m)\n",
    "    return int(n / divider), int(m / divider)\n",
    "\n",
    "\n",
    "result = reduce_fraction(a_val, b_val)\n",
    "print(*result)\n"
   ]
  },
  {
   "cell_type": "markdown",
   "metadata": {},
   "source": [
    "# q fibonnachi"
   ]
  },
  {
   "cell_type": "code",
   "execution_count": 24,
   "metadata": {},
   "outputs": [
    {
     "name": "stdout",
     "output_type": "stream",
     "text": [
      "10\n",
      "55\n"
     ]
    }
   ],
   "source": [
    "def phib(n):\n",
    "    if n <= 0:\n",
    "        return 0\n",
    "    elif n == 1:\n",
    "        return 1\n",
    "    elif n == 2:\n",
    "        return 1\n",
    "    else:\n",
    "        return phib(n - 2) + phib(n - 1)\n",
    "\n",
    "\n",
    "a = int(input())\n",
    "print(phib(a))\n"
   ]
  },
  {
   "cell_type": "markdown",
   "metadata": {},
   "source": [
    "# R combinations"
   ]
  },
  {
   "cell_type": "code",
   "execution_count": 26,
   "metadata": {},
   "outputs": [
    {
     "name": "stdout",
     "output_type": "stream",
     "text": [
      "10\n",
      "2\n",
      "45\n"
     ]
    }
   ],
   "source": [
    "def c(n, k):\n",
    "    if n == k:\n",
    "        return 1\n",
    "    elif k == 1:\n",
    "        return n\n",
    "    elif k == 0:\n",
    "        return 1\n",
    "    else:\n",
    "        return c(n - 1, k - 1) + c(n - 1, k)\n",
    "    \n",
    "\n",
    "n_inp = int(input())\n",
    "k_inp = int(input())\n",
    "\n",
    "print(c(n_inp, k_inp))\n"
   ]
  },
  {
   "cell_type": "markdown",
   "metadata": {},
   "source": [
    "# sum a list"
   ]
  },
  {
   "cell_type": "code",
   "execution_count": 27,
   "metadata": {},
   "outputs": [
    {
     "name": "stdout",
     "output_type": "stream",
     "text": [
      "12\n",
      "11\n",
      "0\n",
      "23\n"
     ]
    }
   ],
   "source": [
    "res = 0\n",
    "\n",
    "while True:\n",
    "    cur_inp = int(input())\n",
    "    if cur_inp == 0:\n",
    "        break\n",
    "    res += cur_inp\n",
    "\n",
    "print(res)\n"
   ]
  },
  {
   "cell_type": "markdown",
   "metadata": {},
   "source": [
    "# T reverse"
   ]
  },
  {
   "cell_type": "code",
   "execution_count": 28,
   "metadata": {},
   "outputs": [
    {
     "name": "stdout",
     "output_type": "stream",
     "text": [
      "8 7 2 3 1 4 5 0\n",
      "1\n",
      "0\n"
     ]
    }
   ],
   "source": [
    "lines = \"\"\n",
    "while True:\n",
    "    cur_inp = input()\n",
    "    lines += cur_inp + \"\\n\"\n",
    "    if cur_inp == '0':\n",
    "        break\n",
    "result = tuple(lines.split(\"\\n\"))\n",
    "\n",
    "for i in range(len(result) - 1, -1, -1):\n",
    "    print(result[i])\n"
   ]
  },
  {
   "cell_type": "markdown",
   "metadata": {},
   "source": [
    "# X squares"
   ]
  },
  {
   "cell_type": "code",
   "execution_count": 73,
   "metadata": {},
   "outputs": [
    {
     "name": "stdout",
     "output_type": "stream",
     "text": [
      "1\n",
      "2\n",
      "3\n",
      "4\n",
      "9\n",
      "27\n",
      "81\n",
      "1\n",
      "0\n",
      "1 81 9 4 1\n"
     ]
    }
   ],
   "source": [
    "cur_inp = int(1)\n",
    "squares = ''\n",
    "\n",
    "\n",
    "def integer_sqrt(n):\n",
    "    if n < 0:\n",
    "        raise ValueError(\"works on non-negative\")\n",
    "    elif n < 2:\n",
    "        return n\n",
    "    else:\n",
    "        small_candidate = integer_sqrt(n >> 2) << 1\n",
    "        large_candidate = small_candidate + 1\n",
    "        if large_candidate * large_candidate > n:\n",
    "            return small_candidate\n",
    "        else:\n",
    "            return large_candidate\n",
    "\n",
    "\n",
    "def is_square(k):\n",
    "    if k < 0:\n",
    "        raise ValueError(\"works on non-negative\")\n",
    "    elif integer_sqrt(k) ** 2 == k:\n",
    "        return True\n",
    "    else:\n",
    "        return False\n",
    "    \n",
    "def t_reverse(tuples): \n",
    "    new_tup = tuples[::-1] \n",
    "    return new_tup \n",
    "\n",
    "while True:\n",
    "    cur_inp = int(input())\n",
    "    if cur_inp == 0:\n",
    "        break\n",
    "    if is_square(cur_inp):\n",
    "        squares = squares + ' ' + str(cur_inp)\n",
    "if squares == '':\n",
    "    print(str(0))\n",
    "else:\n",
    "    result = tuple(squares.split())\n",
    "    result = t_reverse(result)\n",
    "    print(' '.join(result))\n"
   ]
  },
  {
   "cell_type": "markdown",
   "metadata": {},
   "source": [
    "# v lagrange"
   ]
  },
  {
   "cell_type": "code",
   "execution_count": 72,
   "metadata": {},
   "outputs": [
    {
     "name": "stdin",
     "output_type": "stream",
     "text": [
      " 3\n"
     ]
    }
   ],
   "source": [
    "def integer_sqrt(n):\n",
    "    if n < 0:\n",
    "        raise ValueError(\"works on non-negative\")\n",
    "    elif n < 2:\n",
    "        return n\n",
    "    else:\n",
    "        small_candidate = integer_sqrt(n >> 2) << 1\n",
    "        large_candidate = small_candidate + 1\n",
    "        if large_candidate * large_candidate > n:\n",
    "            return small_candidate\n",
    "        else:\n",
    "            return large_candidate\n",
    "\n",
    "\n",
    "n_inp = int(input())\n",
    "result = []\n",
    "\n",
    "a_level = integer_sqrt(n_inp)\n",
    "for a in range(a_level, -1, -1):\n",
    "    b_inp = n_inp - a ** 2\n",
    "    b_level = integer_sqrt(b_inp)\n",
    "    # print(a, 'step a')\n",
    "    if b_inp == 0:\n",
    "        result.append(a)\n",
    "        break\n",
    "    # loop 1\n",
    "\n",
    "    for b in range(b_level, -1, -1):\n",
    "        c_inp = b_inp - b ** 2\n",
    "        c_level = integer_sqrt(c_inp)\n",
    "        # print(c_inp, 'step b')\n",
    "        if c_inp == 0:\n",
    "            result.append(b)\n",
    "            break\n",
    "            # loop 2\n",
    "\n",
    "        for c in range(c_level, -1, -1):\n",
    "            d_inp = c_inp - c ** 2\n",
    "            d_level = integer_sqrt(d_inp)\n",
    "            # print(d_inp, 'step d')\n",
    "            if d_inp == 0:\n",
    "                result.append(c)\n",
    "                break\n",
    "                # loop 3\n",
    "            for d in range(d_level, 0, -1):\n",
    "                e_inp = d_inp - d ** 2\n",
    "                # print(e_inp, 'step e')\n",
    "                if e_inp == 0 and len(result) == 0:\n",
    "                    result.append(d)\n",
    "                    break\n",
    "\n",
    "                # end loop 3\n",
    "            if len(result) != 0:\n",
    "                result.append(c)\n",
    "                break\n",
    "\n",
    "            # end loop 2\n",
    "        if len(result) != 0:\n",
    "            result.append(b)\n",
    "            break\n",
    "\n",
    "    # end loop 1\n",
    "    if len(result) != 0:\n",
    "        result.append(a)\n",
    "        break\n",
    "\n",
    "print(*result)\n"
   ]
  }
 ],
 "metadata": {
  "kernelspec": {
   "display_name": "Python 3",
   "language": "python",
   "name": "python3"
  },
  "language_info": {
   "codemirror_mode": {
    "name": "ipython",
    "version": 3
   },
   "file_extension": ".py",
   "mimetype": "text/x-python",
   "name": "python",
   "nbconvert_exporter": "python",
   "pygments_lexer": "ipython3",
   "version": "3.8.3"
  }
 },
 "nbformat": 4,
 "nbformat_minor": 4
}
