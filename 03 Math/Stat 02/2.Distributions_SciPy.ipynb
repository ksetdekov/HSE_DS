{
 "cells": [
  {
   "cell_type": "markdown",
   "metadata": {},
   "source": [
    "## Работа с распределениями в SciPy"
   ]
  },
  {
   "cell_type": "markdown",
   "metadata": {},
   "source": [
    "В SciPy — это очень мощная библиотека для работы с распределениями. Тут реализовано почти все, что может понадобиться: генерация случайных величин, функции плотности/распрелеления/квантилей, вычисление численных характеристик случайных величин.  "
   ]
  },
  {
   "cell_type": "code",
   "execution_count": null,
   "metadata": {},
   "outputs": [],
   "source": [
    "import numpy as np\n",
    "from scipy import stats \n",
    "import matplotlib.pyplot as plt"
   ]
  },
  {
   "cell_type": "markdown",
   "metadata": {},
   "source": [
    "В SciPy реализованы объекты для большого количества распределений. Вот некоторые из них: \n",
    "\n",
    "<table class=\"shadedrows\">\n",
    "<tr>\n",
    "<th><strong>Распределение</strong></th>\n",
    "<th><strong>Название в SciPy</strong></th>\n",
    "<th><strong>Параметры</strong></th>\n",
    "</tr>\n",
    "<tr>\n",
    "<td>Биномиальное</td>\n",
    "<td><code>binom</code></td>\n",
    "<td><code>size</code>, <code>prob</code></td>\n",
    "</tr>\n",
    "<tr>\n",
    "<td>Пуассона</td>\n",
    "<td><code>poisson</code></td>\n",
    "<td><code>lambda</code></td>\n",
    "</tr>\n",
    "<tr>\n",
    "<td>Равномерное</td>\n",
    "<td><code>uniform</code></td>\n",
    "<td></td>\n",
    "</tr>\n",
    "<tr>\n",
    "<td>Экспоненциальное</td>\n",
    "<td><code>expon</code></td>\n",
    "<td></td>\n",
    "</tr>\n",
    "<tr>\n",
    "<td>Нормальное</td>\n",
    "<td><code>norm</code></td>\n",
    "<td></td>\n",
    "</tr>\n",
    "<tr>\n",
    "<td>Коши</td>\n",
    "<td><code>cauchy</code></td>\n",
    "<td></td>\n",
    "</tr>\n",
    "<tr>\n",
    "<td>Хи-квадрат</td>\n",
    "<td><code>chi2</code></td>\n",
    "<td><code>df</code></td>\n",
    "</tr>\n",
    "<tr>\n",
    "<td>Стьюдента</td>\n",
    "<td><code>t</code></td>\n",
    "<td><code>df</code></td>\n",
    "</tr>\n",
    "</table>\n",
    "\n",
    "В данной таблице указаны не все параметры, а обязательные для заполнения. Значения неуказанных параметров установлены по умолчанию (но их тоже можно менять). Другие распределения можно найти тут: https://docs.scipy.org/doc/scipy/reference/stats.html"
   ]
  },
  {
   "cell_type": "code",
   "execution_count": null,
   "metadata": {},
   "outputs": [],
   "source": [
    "# Пример использования\n",
    "dist1 = stats.norm() # стандартное нормальное распределение N(0,1)\n",
    "dist2 = stats.norm(0,2) # нормальное распределение N(0,2^2)\n",
    "dist3 = stats.uniform() # равномерное распределение на [0,1]\n",
    "dist4 = stats.uniform(2,3) # равномерное распределение на [2,5] (!)"
   ]
  },
  {
   "cell_type": "markdown",
   "metadata": {},
   "source": [
    "После того, как Вы определите объект для некоторого распределения, Вы сможете использовать следующие методы (некоторые из них применимы только к непрерывным распределениям):\n",
    "    \n",
    "<table style=\"text-align:left;\">\n",
    "<tr>\n",
    "<th><strong>Метод</strong></th>\n",
    "<th><strong>Значение</strong></th>\n",
    "</tr>\n",
    "<tr>\n",
    "<td><code>rvs</code></td>\n",
    "<td>генерация случайных чисел</td>\n",
    "</tr>\n",
    "<tr>\n",
    "<td><code>pdf</code></td>\n",
    "<td>плотность распределения</td>\n",
    "</tr>\n",
    "<tr>\n",
    "<td><code>cdf</code></td>\n",
    "<td>функция распределения</td>\n",
    "</tr>\n",
    "<tr>\n",
    "<td><code>ppf</code></td>\n",
    "<td>фукция для квантилей (обратная функция к функции распределения)</td>\n",
    "</tr>\n",
    "<tr>\n",
    "<td><code>moment</code></td>\n",
    "<td>моменты (нецентральные)</td>\n",
    "</tr>    \n",
    "<tr>\n",
    "<td><code>stats</code></td>\n",
    "<td>характеристики распределения: среднее, дисперсия, коэффициенты асимметрии и эксцесса </td>\n",
    "</tr>\n",
    "<tr>\n",
    "<td><code>expect</code></td>\n",
    "<td>математическое ожидание произвольной функции</td>\n",
    "</tr>   \n",
    "<tr>\n",
    "<td><code>mean</code></td>\n",
    "<td>математическое ожидание</td>\n",
    "</tr>    \n",
    "<tr>\n",
    "<td><code>var</code></td>\n",
    "<td>дисперсия</td>\n",
    "</tr>    \n",
    "</table>\n",
    "\n",
    "Подробнее, опять же, тут: https://docs.scipy.org/doc/scipy/reference/stats.html"
   ]
  },
  {
   "cell_type": "code",
   "execution_count": null,
   "metadata": {},
   "outputs": [],
   "source": [
    "# геренация случайных чисел из dist2\n",
    "dist2.rvs(size=[10,2], random_state=2)"
   ]
  },
  {
   "cell_type": "code",
   "execution_count": null,
   "metadata": {},
   "outputs": [],
   "source": [
    "# вычисление функции плотности dist2 в точке u=1\n",
    "dist2.pdf(1)"
   ]
  },
  {
   "cell_type": "code",
   "execution_count": null,
   "metadata": {},
   "outputs": [],
   "source": [
    "# вычисление функции распределения dist1 в точке u=1\n",
    "dist2.cdf(1)"
   ]
  },
  {
   "cell_type": "code",
   "execution_count": null,
   "metadata": {},
   "outputs": [],
   "source": [
    "# нарисуем функцию плотности и распределения dist2 от -7 до 7\n",
    "fig, (ax1, ax2) = plt.subplots(ncols=2,figsize=(16,4)) \n",
    "\n",
    "x = np.linspace(-7,7,100)\n",
    "\n",
    "y = dist2.pdf(x)\n",
    "ax1.plot(x,y)\n",
    "\n",
    "y = dist2.cdf(x)\n",
    "ax2.plot(x,y)\n",
    "\n",
    "plt.show()"
   ]
  },
  {
   "cell_type": "code",
   "execution_count": null,
   "metadata": {},
   "outputs": [],
   "source": [
    "# функция квантилей \n",
    "x = dist2.ppf(1-0.05/2)\n",
    "dist2.cdf(x)"
   ]
  },
  {
   "cell_type": "code",
   "execution_count": null,
   "metadata": {},
   "outputs": [],
   "source": [
    "# вычисление момента порядка 2 для dist1\n",
    "dist2.moment(4)"
   ]
  },
  {
   "cell_type": "code",
   "execution_count": null,
   "metadata": {},
   "outputs": [],
   "source": [
    "# вычисление среднего, дисперсии, коэффициентов асимметрии и эксцесса для dist2 \n",
    "# коэффициент эксцесса центрируется на 3 (!)\n",
    "dist2.stats(moments='mvsk')"
   ]
  },
  {
   "cell_type": "code",
   "execution_count": null,
   "metadata": {},
   "outputs": [],
   "source": [
    "# вычисление математического ожидания g(X), для g(u) = u^2 и X из dist1\n",
    "dist2.expect(lambda x: np.sin(x)**2)"
   ]
  },
  {
   "cell_type": "code",
   "execution_count": null,
   "metadata": {},
   "outputs": [],
   "source": [
    "# вычисление математического ожидания\n",
    "dist2.mean()"
   ]
  },
  {
   "cell_type": "code",
   "execution_count": null,
   "metadata": {},
   "outputs": [],
   "source": [
    "# вычисление дисперсиии\n",
    "dist2.var()"
   ]
  }
 ],
 "metadata": {
  "kernelspec": {
   "display_name": "Python 3",
   "language": "python",
   "name": "python3"
  },
  "language_info": {
   "codemirror_mode": {
    "name": "ipython",
    "version": 3
   },
   "file_extension": ".py",
   "mimetype": "text/x-python",
   "name": "python",
   "nbconvert_exporter": "python",
   "pygments_lexer": "ipython3",
   "version": "3.7.4"
  }
 },
 "nbformat": 4,
 "nbformat_minor": 2
}
