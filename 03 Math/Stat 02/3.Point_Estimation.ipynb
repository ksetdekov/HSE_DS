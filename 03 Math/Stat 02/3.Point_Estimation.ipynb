{
 "cells": [
  {
   "cell_type": "markdown",
   "metadata": {},
   "source": [
    "## Точечное оценивание"
   ]
  },
  {
   "cell_type": "markdown",
   "metadata": {},
   "source": [
    "**Задача.** Пусть дана реализация выборки $x_1,\\ldots,x_n$ из экспоненциального распределения $\\operatorname{Exp}(\\theta)$ с неизвестным параметром интенсивности $\\theta>0$. Напомним, что плотность этого распределения имеет следущий вид:\n",
    "$$\n",
    "\t\tf_{\\theta}(u) =\n",
    "\t\t\\begin{cases}\n",
    "\t\t\t\\theta e^{-\\theta u}, & u\\ge0,\\\\\n",
    "\t\t\t0, & u<0.\n",
    "\t\t\\end{cases}\n",
    "$$\n",
    "Оцените параметр $\\theta$ по выборке в Python:\n",
    "\n",
    "1) сгенерируйте $\\theta$ из равномерного распределения на  $[1,5]$;  \n",
    "2) сгенерируйте выборку из экспоненциального распределения $\\operatorname{Exp}(\\theta)$ размера  $n=10,100,1\\,000,10\\,000,100\\,000$;   \n",
    "3) найдите значение оценок $\\theta$ с помощью метода моментов и метода максимального правдоподобия и с помощью метода fit() из SciPy;  \n",
    "4) выведите отклонения полученных оценок от истинного значения параметра $\\theta$. Что происходит с ростом $n$?"
   ]
  },
  {
   "cell_type": "code",
   "execution_count": null,
   "metadata": {},
   "outputs": [],
   "source": [
    "import numpy as np \n",
    "from scipy import stats \n",
    "import matplotlib.pyplot as plt"
   ]
  },
  {
   "cell_type": "code",
   "execution_count": null,
   "metadata": {},
   "outputs": [],
   "source": [
    "np.random.seed(1) "
   ]
  },
  {
   "cell_type": "code",
   "execution_count": null,
   "metadata": {},
   "outputs": [],
   "source": [
    "# генерируем параметр lambda\n",
    "theta = np.random.uniform(1,5)\n",
    "print(\"Истинное значение параметра lambda: \", theta)"
   ]
  },
  {
   "cell_type": "markdown",
   "metadata": {},
   "source": [
    "Обратите внимание на то, что в np.random.exponential параметр scale = 1/$\\lambda$."
   ]
  },
  {
   "cell_type": "code",
   "execution_count": null,
   "metadata": {},
   "outputs": [],
   "source": [
    "# генерируем выборки\n",
    "sample1 = np.random.exponential(1/theta,size=10)\n",
    "sample2 = np.random.exponential(1/theta,size=100)\n",
    "sample3 = np.random.exponential(1/theta,size=1000)\n",
    "sample4 = np.random.exponential(1/theta,size=10000)\n",
    "sample5 = np.random.exponential(1/theta,size=100000)"
   ]
  },
  {
   "cell_type": "code",
   "execution_count": null,
   "metadata": {},
   "outputs": [],
   "source": [
    "# считаем оценки метода моментов и метода максимального правдоподобия (они совпадают)\n",
    "e1 = 1/np.mean(sample1)\n",
    "e2 = 1/np.mean(sample2)\n",
    "e3 = 1/np.mean(sample3)\n",
    "e4 = 1/np.mean(sample4)\n",
    "e5 = 1/np.mean(sample5)"
   ]
  },
  {
   "cell_type": "code",
   "execution_count": null,
   "metadata": {},
   "outputs": [],
   "source": [
    "print(\"Значения оценок и их отклонения:\")\n",
    "print(\"n = 10, оценка = \", e1, \", отклонение от истинного значения = \", np.abs(e1-theta), sep=\"\")\n",
    "print(\"n = 100, оценка = \", e2, \", отклонение от истинного значения = \", np.abs(e2-theta), sep=\"\")\n",
    "print(\"n = 1000, оценка = \", e3, \", отклонение от истинного значения = \", np.abs(e3-theta), sep=\"\")\n",
    "print(\"n = 10000, оценка = \", e4, \", отклонение от истинного значения = \", np.abs(e4-theta), sep=\"\")\n",
    "print(\"n = 100000, оценка = \", e5, \", отклонение от истинного значения = \", np.abs(e5-theta), sep=\"\")"
   ]
  },
  {
   "cell_type": "markdown",
   "metadata": {},
   "source": [
    "Записать решение можно было бы значительно короче:"
   ]
  },
  {
   "cell_type": "code",
   "execution_count": null,
   "metadata": {},
   "outputs": [],
   "source": [
    "# обновим seed\n",
    "np.random.seed(1) "
   ]
  },
  {
   "cell_type": "code",
   "execution_count": null,
   "metadata": {},
   "outputs": [],
   "source": [
    "# генерируем выборки, записываем их в словарь\n",
    "samples = { 10**i: np.random.exponential(1/theta,size=10**i) for i in range(1,6)}"
   ]
  },
  {
   "cell_type": "code",
   "execution_count": null,
   "metadata": {},
   "outputs": [],
   "source": [
    "# считаем оценки, выводим результаты\n",
    "for n,sample in samples.items():\n",
    "    e = 1/np.mean(sample)\n",
    "    print(\"n = \",n,\", оценка = \", e, \", отклонение от истинного значения = \", np.abs(e-theta), sep=\"\")"
   ]
  },
  {
   "cell_type": "markdown",
   "metadata": {},
   "source": [
    "Задачу мы решим с помощью метода **fit()** из **ScyPy**. Данный метод позволяет (численно) найти оценки максимального правдоподобия формы/сдвига/масштаба для классических распределений. \n",
    "\n",
    "\n",
    "Подробнее: https://docs.scipy.org/doc/scipy/reference/generated/scipy.stats.rv_continuous.fit.html"
   ]
  },
  {
   "cell_type": "code",
   "execution_count": null,
   "metadata": {},
   "outputs": [],
   "source": [
    "for n,sample in samples.items():\n",
    "    e = 1/stats.expon.fit(sample, floc=0)[1]\n",
    "    print(\"n = \",n,\", оценка = \", e, \", отклонение от истинного значения = \", np.abs(e-theta), sep=\"\")"
   ]
  },
  {
   "cell_type": "markdown",
   "metadata": {},
   "source": [
    "Посмотрим визуально на то, как значение оценки сходится к истинному значению $\\lambda$. Для хорошего графика пяти значений (как было выше) недостаточно, поэтому мы сделаем следующее: сгенерируем новую выборку размера $n=1\\,000\\,000$ и будем считать оценки по срезам этой выборки с шагом 5000 наблюдений."
   ]
  },
  {
   "cell_type": "code",
   "execution_count": null,
   "metadata": {},
   "outputs": [],
   "source": [
    "# герерируем новую выборку \n",
    "sample = np.random.exponential(1/theta,size=10**6)"
   ]
  },
  {
   "cell_type": "code",
   "execution_count": null,
   "metadata": {},
   "outputs": [],
   "source": [
    "# в переменных x и y будем хранить размер выборки и значение оценки, посчитанной для этого размера выборки \n",
    "x,y = [],[]\n",
    "for size in range(1000,10**6,5000):\n",
    "    x.append(size)\n",
    "    y.append(1/stats.expon.fit(sample[:size], floc=0)[1])    "
   ]
  },
  {
   "cell_type": "code",
   "execution_count": null,
   "metadata": {},
   "outputs": [],
   "source": [
    "# нарисуем график изменения оценки\n",
    "# синяя линия — значение оценки, красная — истинное значение оценки\n",
    "\n",
    "fig = plt.figure(figsize=(16,5)) \n",
    "\n",
    "plt.plot(x, y, color='blue'); \n",
    "plt.hlines(y=theta, xmin=1000, xmax=1000000, color='r', linestyles='dashed')\n",
    "\n",
    "plt.show()"
   ]
  }
 ],
 "metadata": {
  "kernelspec": {
   "display_name": "Python 3",
   "language": "python",
   "name": "python3"
  },
  "language_info": {
   "codemirror_mode": {
    "name": "ipython",
    "version": 3
   },
   "file_extension": ".py",
   "mimetype": "text/x-python",
   "name": "python",
   "nbconvert_exporter": "python",
   "pygments_lexer": "ipython3",
   "version": "3.7.4"
  }
 },
 "nbformat": 4,
 "nbformat_minor": 2
}
