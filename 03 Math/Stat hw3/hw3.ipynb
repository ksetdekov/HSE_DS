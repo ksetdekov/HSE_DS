{
  "nbformat": 4,
  "nbformat_minor": 0,
  "metadata": {
    "interpreter": {
      "hash": "102ece9fb22a5dbc66cd17e6acdf387ff87bc94873c1952b7c22cf1bcacef674"
    },
    "kernelspec": {
      "name": "python3",
      "display_name": "Python 3.8.10 64-bit ('base': conda)"
    },
    "language_info": {
      "codemirror_mode": {
        "name": "ipython",
        "version": 3
      },
      "file_extension": ".py",
      "mimetype": "text/x-python",
      "name": "python",
      "nbconvert_exporter": "python",
      "pygments_lexer": "ipython3",
      "version": "3.8.10"
    },
    "orig_nbformat": 4,
    "colab": {
      "name": "hw3.ipynb",
      "provenance": [],
      "collapsed_sections": [
        "2FCBlhz3r3mN",
        "SZwwCwR0r3mP",
        "Uq6a9MHsr3mR",
        "TYpyXnjQr3mV",
        "SV-3ZMeOr3mW",
        "DoWKGOKQr3ma",
        "p1p-X2AZr3mb",
        "Jz7IDxV6r3me",
        "olac9n5or3mg",
        "gVvn0keer3mi",
        "dt6QHPBjr3mk"
      ]
    }
  },
  "cells": [
    {
      "cell_type": "markdown",
      "metadata": {
        "id": "rhtGAP2Qr3l6"
      },
      "source": [
        "#  Задание 1"
      ]
    },
    {
      "cell_type": "markdown",
      "metadata": {
        "id": "uIeH5wMjr3mA"
      },
      "source": [
        "1. Какие гипотезы называются простыми, а какие сложными?\n",
        "\n",
        "    * Простая гипотеза - тестируется равенство наблюдаемой выборки одному распределению. Альтернатива этому - сложная гипотеза\n",
        "\n",
        "2. Чем отличаются параметрические критерии от непараметрических? В каких ситуациях можно использовать параметрические критерии, а в каких лучше использовать непараметрические?\n",
        "\n",
        "    * Параметрические методы - мы предполагаем, что выборка взята из параметрического распределения и в процессе тестирования оцениваем или используем параметры этого распределения. Для непараметрических критериев мы не делаем таких предположений.\n",
        "    * Если есть возможность использовать параметрические критерии - доверительные интервалы по ним могут оказаться уже и помочь нам протестировать гипотезу с меньшим числом наблюдений на том же уровне $pvalue$. Когда у нас данные категариальные или мы не знаем, к какому распределению принадлежит выборка, то может быть необходимость использовать непараметрические критерии. Также, часть непараметрических критериев проще в реализации.\n",
        "\n",
        "3. Что такое уровень значимости? А фактический уровень значимости?\n",
        "\n",
        "    * Уровень значимости - вероятность отвергнуть нулевую гипотезу, при условии что она верна. Для доверительного интервала - если $\\alpha$ = равно уровень значимости, то доверительный интервал, который мы строим на этом уровне значимости будет накрывать значение, для которого мы строим доверительный интервал с вероятностью $1-\\alpha$\n",
        "    * фактический уровень значимости - pvalue. Это вероятность для верной нулевой гипотезы $H0$ получить\n",
        "значение статистики равное или более экстремальное, тому, что мы посчитали по выборке\n",
        "\n",
        "4. С помощью каких критериев можно проверить нормальность выборки?\n",
        "\n",
        "    * Визуально по графику $Q-Q$\n",
        "    * Критерий Колмогорова-Смирнова, оценив параметры нормального распределения по выборке и сравнив с выборочной функцией распределения\n",
        "    * Шапиро-Уилка\n",
        "    * Харке-Бера\n",
        "    * Хи-квадрат, развив данные на бакеты\n",
        "\n",
        "5. Что такое ранг наблюдения? Когда предпочтительнее использовать ранговые критерии?\n",
        "\n",
        "    * Ранг наблюдения - номер наблюдения в вариационном ряде (упорядоченные наблюдения из выборки).\n",
        "    * Ранговые критерии использовать более корректно, когда оценивается монотонная, но нелинейная зависимость между двумя случайными величинами.\n",
        "\n"
      ]
    },
    {
      "cell_type": "markdown",
      "metadata": {
        "id": "doUUglJsr3mB"
      },
      "source": [
        "# Задание 2\n",
        "Для данных из файла employees.xls постройте гистограмму для переменной SALARY. Похоже ли распределение зарплат на нормальный закон? Проверьте нормальность\n",
        "с помощью изученных критериев"
      ]
    },
    {
      "cell_type": "code",
      "metadata": {
        "id": "RDrWNZAXr3mC",
        "colab": {
          "base_uri": "https://localhost:8080/"
        },
        "outputId": "091a785d-2851-4963-ff82-c5e6f04cfbc4"
      },
      "source": [
        "import numpy as np\n",
        "import pandas as pd\n",
        "from scipy.stats import chisquare\n",
        "import scipy\n",
        "from scipy import stats\n",
        "from statsmodels.stats.weightstats import *\n",
        "import matplotlib.pyplot as plt\n",
        "from scipy.stats import norm\n",
        "from statsmodels.stats.descriptivestats import sign_test\n",
        "\n",
        "from sklearn.ensemble import RandomForestRegressor"
      ],
      "execution_count": 1,
      "outputs": [
        {
          "output_type": "stream",
          "text": [
            "/usr/local/lib/python3.7/dist-packages/statsmodels/tools/_testing.py:19: FutureWarning: pandas.util.testing is deprecated. Use the functions in the public API at pandas.testing instead.\n",
            "  import pandas.util.testing as tm\n"
          ],
          "name": "stderr"
        }
      ]
    },
    {
      "cell_type": "code",
      "metadata": {
        "id": "VsPMhJJWr3mD",
        "colab": {
          "base_uri": "https://localhost:8080/",
          "height": 282
        },
        "outputId": "7bfc5420-0ba0-43b8-9d35-cabc522f0cbf"
      },
      "source": [
        "employees = pd.read_excel('data/employees.xls')\n",
        "employees.SALARY.hist()"
      ],
      "execution_count": 2,
      "outputs": [
        {
          "output_type": "execute_result",
          "data": {
            "text/plain": [
              "<matplotlib.axes._subplots.AxesSubplot at 0x7f24b90e9c90>"
            ]
          },
          "metadata": {
            "tags": []
          },
          "execution_count": 2
        },
        {
          "output_type": "display_data",
          "data": {
            "image/png": "[encoded data removed]",
            "text/plain": [
              "<Figure size 432x288 with 1 Axes>"
            ]
          },
          "metadata": {
            "tags": [],
            "needs_background": "light"
          }
        }
      ]
    },
    {
      "cell_type": "markdown",
      "metadata": {
        "id": "ntlsZGxTr3mE"
      },
      "source": [
        "не очень нормальное"
      ]
    },
    {
      "cell_type": "markdown",
      "metadata": {
        "id": "mRIm3adlr3mF"
      },
      "source": [
        "qq"
      ]
    },
    {
      "cell_type": "code",
      "metadata": {
        "id": "r2HkFSjkr3mF",
        "colab": {
          "base_uri": "https://localhost:8080/",
          "height": 295
        },
        "outputId": "3880f4cf-d45e-4040-a6c9-ea3df32642f6"
      },
      "source": [
        "f = stats.probplot(employees.SALARY, dist=\"norm\", plot = plt)"
      ],
      "execution_count": 3,
      "outputs": [
        {
          "output_type": "display_data",
          "data": {
            "image/png": "[encoded data removed]",
            "text/plain": [
              "<Figure size 432x288 with 1 Axes>"
            ]
          },
          "metadata": {
            "tags": [],
            "needs_background": "light"
          }
        }
      ]
    },
    {
      "cell_type": "code",
      "metadata": {
        "id": "B7akCyaYr3mG",
        "colab": {
          "base_uri": "https://localhost:8080/"
        },
        "outputId": "1bbe3f19-d9ad-4d51-f425-bff031528ebb"
      },
      "source": [
        "intervals = np.linspace(min(employees.SALARY), max(employees.SALARY),31)\n",
        "expected = []\n",
        "observed = []\n",
        "std = np.std(employees.SALARY)\n",
        "mu = np.mean(employees.SALARY)\n",
        "for i in range(1,len(intervals)):\n",
        "    observed.append(len(employees.SALARY[(employees.SALARY < intervals[i]) & (employees.SALARY >= intervals[i-1])]))\n",
        "    expected.append((norm.cdf(intervals[i], mu, std) - norm.cdf(intervals[i-1], mu, std))*len(employees.SALARY))\n",
        "\n",
        "chisquare(observed, expected, ddof = 2)"
      ],
      "execution_count": 4,
      "outputs": [
        {
          "output_type": "execute_result",
          "data": {
            "text/plain": [
              "Power_divergenceResult(statistic=54.71904090529905, pvalue=0.0012413519039254275)"
            ]
          },
          "metadata": {
            "tags": []
          },
          "execution_count": 4
        }
      ]
    },
    {
      "cell_type": "code",
      "metadata": {
        "id": "fSE4bGMLr3mG",
        "colab": {
          "base_uri": "https://localhost:8080/"
        },
        "outputId": "5cbfd6a2-6484-47b0-b0df-9838462a2cd6"
      },
      "source": [
        "k2, p = stats.normaltest(employees.SALARY)\n",
        "print(\"p = {:g}\".format(p))\n",
        "alpha = 0.01\n",
        "if p < alpha:  # null hypothesis: x comes from a normal distribution\n",
        "    print(\"The null hypothesis can be rejected\")\n",
        "else:\n",
        "    print(\"The null hypothesis cannot be rejected\")"
      ],
      "execution_count": 5,
      "outputs": [
        {
          "output_type": "stream",
          "text": [
            "p = 3.86165e-06\n",
            "The null hypothesis can be rejected\n"
          ],
          "name": "stdout"
        }
      ]
    },
    {
      "cell_type": "code",
      "metadata": {
        "id": "dek4Sj2kr3mH",
        "colab": {
          "base_uri": "https://localhost:8080/"
        },
        "outputId": "a2b97ae5-c8db-43ea-ca65-d71505cfd0a8"
      },
      "source": [
        "stats.shapiro(employees.SALARY)"
      ],
      "execution_count": 6,
      "outputs": [
        {
          "output_type": "execute_result",
          "data": {
            "text/plain": [
              "(0.9015016555786133, 1.6645467439957429e-06)"
            ]
          },
          "metadata": {
            "tags": []
          },
          "execution_count": 6
        }
      ]
    },
    {
      "cell_type": "markdown",
      "metadata": {
        "id": "54swCo-pr3mH"
      },
      "source": [
        "на Q-Q графике визуально, на основе хи-квадрат теста по 30 бакетам и по тесту D’Agostino and Pearson’s и по тесту Шапиро на 1% мы отвергаем гипотезу о нормальном распределении этой переменной"
      ]
    },
    {
      "cell_type": "markdown",
      "metadata": {
        "id": "KluUm6OXr3mI"
      },
      "source": [
        "# Задание 3\n",
        "Методом перебора найдите наиболее подходящий тип распределения\n",
        "для выборки, содержащейся в файле sample.csv. Сначала постройте гистограмму, чтобы получить\n",
        "представление о форме плотности распределения. Затем изучите квантильные графики для разных\n",
        "распределений. Если будет такая возможность, попробуйте применить какие-то критерии согласия."
      ]
    },
    {
      "cell_type": "code",
      "metadata": {
        "id": "Ltw5cMB-r3mJ",
        "colab": {
          "base_uri": "https://localhost:8080/",
          "height": 285
        },
        "outputId": "5e11e6c8-06c1-47f5-da42-e18341120b5d"
      },
      "source": [
        "p3df = pd.read_csv('data/sample.csv')\n",
        "p3df.Sample.hist()"
      ],
      "execution_count": 7,
      "outputs": [
        {
          "output_type": "execute_result",
          "data": {
            "text/plain": [
              "<matplotlib.axes._subplots.AxesSubplot at 0x7f24b9027110>"
            ]
          },
          "metadata": {
            "tags": []
          },
          "execution_count": 7
        },
        {
          "output_type": "display_data",
          "data": {
            "image/png": "[encoded data removed]",
            "text/plain": [
              "<Figure size 432x288 with 1 Axes>"
            ]
          },
          "metadata": {
            "tags": [],
            "needs_background": "light"
          }
        }
      ]
    },
    {
      "cell_type": "markdown",
      "metadata": {
        "id": "yMZfVzKIr3mK"
      },
      "source": [
        "### Нарисуем несколько распределений на QQ графике:\n",
        "\n",
        "* нормальное\n",
        "* лапласа\n",
        "* экспоненциальное\n",
        "* усеченное экспоненциальное\n",
        "* логнормальное\n"
      ]
    },
    {
      "cell_type": "code",
      "metadata": {
        "id": "EDCUOH37r3mL"
      },
      "source": [
        "def tester(data_column, distr):\n",
        "    intervals = np.linspace(min(data_column), max(data_column),31)\n",
        "    expected = []\n",
        "    observed = []\n",
        "\n",
        "    distr_params = distr.fit(data_column)\n",
        "    for i in range(1,len(intervals)):\n",
        "        observed.append(len(data_column[(data_column < intervals[i]) & (data_column >= intervals[i-1])]))\n",
        "        expected.append((distr.cdf(intervals[i], *distr_params) - distr.cdf(intervals[i-1], *distr_params))*len(data_column))\n",
        "\n",
        "    return(chisquare(observed, expected, ddof = 2))\n"
      ],
      "execution_count": 8,
      "outputs": []
    },
    {
      "cell_type": "code",
      "metadata": {
        "id": "dMS1rJq-r3mL",
        "colab": {
          "base_uri": "https://localhost:8080/",
          "height": 312
        },
        "outputId": "febcd547-bc20-429d-dbf8-77695d0ac81f"
      },
      "source": [
        "p = stats.probplot(p3df.Sample, dist=\"norm\", plot = plt)\n",
        "print(tester(p3df.Sample, norm))"
      ],
      "execution_count": 9,
      "outputs": [
        {
          "output_type": "stream",
          "text": [
            "Power_divergenceResult(statistic=117.14971094153768, pvalue=3.3600532147626343e-13)\n"
          ],
          "name": "stdout"
        },
        {
          "output_type": "display_data",
          "data": {
            "image/png": "[encoded data removed]",
            "text/plain": [
              "<Figure size 432x288 with 1 Axes>"
            ]
          },
          "metadata": {
            "tags": [],
            "needs_background": "light"
          }
        }
      ]
    },
    {
      "cell_type": "code",
      "metadata": {
        "id": "WCw-3-jDr3mM",
        "colab": {
          "base_uri": "https://localhost:8080/",
          "height": 312
        },
        "outputId": "67274aa1-f139-4174-b03d-787b1ac767fb"
      },
      "source": [
        "r = stats.probplot(p3df.Sample, dist=stats.laplace, plot = plt)\n",
        "print(tester(p3df.Sample, stats.laplace))"
      ],
      "execution_count": 10,
      "outputs": [
        {
          "output_type": "stream",
          "text": [
            "Power_divergenceResult(statistic=91.86497968576947, pvalue=5.35312654326426e-09)\n"
          ],
          "name": "stdout"
        },
        {
          "output_type": "display_data",
          "data": {
            "image/png": "[encoded data removed]",
            "text/plain": [
              "<Figure size 432x288 with 1 Axes>"
            ]
          },
          "metadata": {
            "tags": [],
            "needs_background": "light"
          }
        }
      ]
    },
    {
      "cell_type": "code",
      "metadata": {
        "id": "LSldSHwmr3mM",
        "colab": {
          "base_uri": "https://localhost:8080/",
          "height": 312
        },
        "outputId": "3848855d-dc85-4f36-f2a7-d4f6fb511f6f"
      },
      "source": [
        "s, loc1, scale1 = stats.lognorm.fit(p3df.Sample)\n",
        "\n",
        "r = stats.probplot(p3df.Sample, dist=stats.lognorm(s), plot = plt)\n",
        "print(tester(p3df.Sample, stats.lognorm))"
      ],
      "execution_count": 11,
      "outputs": [
        {
          "output_type": "stream",
          "text": [
            "Power_divergenceResult(statistic=48.49582004857258, pvalue=0.006755398417453978)\n"
          ],
          "name": "stdout"
        },
        {
          "output_type": "display_data",
          "data": {
            "image/png": "[encoded data removed]",
            "text/plain": [
              "<Figure size 432x288 with 1 Axes>"
            ]
          },
          "metadata": {
            "tags": [],
            "needs_background": "light"
          }
        }
      ]
    },
    {
      "cell_type": "code",
      "metadata": {
        "id": "7v0n1A6rr3mN",
        "colab": {
          "base_uri": "https://localhost:8080/",
          "height": 312
        },
        "outputId": "4ffc5c90-cc24-4ec2-8036-4dd6caed366c"
      },
      "source": [
        "r = stats.probplot(p3df.Sample, dist=stats.expon, plot = plt)\n",
        "print(tester(p3df.Sample, stats.expon))"
      ],
      "execution_count": 12,
      "outputs": [
        {
          "output_type": "stream",
          "text": [
            "Power_divergenceResult(statistic=43.50646477710356, pvalue=0.02323759873740911)\n"
          ],
          "name": "stdout"
        },
        {
          "output_type": "display_data",
          "data": {
            "image/png": "[encoded data removed]",
            "text/plain": [
              "<Figure size 432x288 with 1 Axes>"
            ]
          },
          "metadata": {
            "tags": [],
            "needs_background": "light"
          }
        }
      ]
    },
    {
      "cell_type": "code",
      "metadata": {
        "id": "1IF8qhRKr3mN",
        "colab": {
          "base_uri": "https://localhost:8080/",
          "height": 312
        },
        "outputId": "a35afbf6-e87b-47db-c013-112dc1553fa9"
      },
      "source": [
        "b1, loc1, scale1 = stats.truncexpon.fit(p3df.Sample)\n",
        "r = stats.probplot(p3df.Sample, dist=stats.truncexpon(b=b1), plot = plt)\n",
        "print(tester(p3df.Sample, stats.truncexpon))"
      ],
      "execution_count": 13,
      "outputs": [
        {
          "output_type": "stream",
          "text": [
            "Power_divergenceResult(statistic=54.11366770459223, pvalue=0.0014734639445013512)\n"
          ],
          "name": "stdout"
        },
        {
          "output_type": "display_data",
          "data": {
            "image/png": "[encoded data removed]",
            "text/plain": [
              "<Figure size 432x288 with 1 Axes>"
            ]
          },
          "metadata": {
            "tags": [],
            "needs_background": "light"
          }
        }
      ]
    },
    {
      "cell_type": "markdown",
      "metadata": {
        "id": "2FCBlhz3r3mN"
      },
      "source": [
        "### Вывод по типу распределений:\n",
        "Для всех сделаем Хиквадрат тест, увидем, что на уровне значимости 1%, только для экспоненциального распределения не отвергается гипотеза о том, что выборка принадлежит этому распределению."
      ]
    },
    {
      "cell_type": "markdown",
      "metadata": {
        "id": "KzlRYLi3r3mO"
      },
      "source": [
        "# Задание 4\n",
        "В файлеanorexia.txtзаписан вес пациентов до начала терапии ано-рексии и после ее окончания. Была ли терапия в эффективна?\n",
        "\n",
        "Считаем эти данные, поправив нестандартный разделитель."
      ]
    },
    {
      "cell_type": "code",
      "metadata": {
        "id": "Ye4Xvo9rr3mO",
        "colab": {
          "base_uri": "https://localhost:8080/",
          "height": 297
        },
        "outputId": "4a9a6197-9ebf-4454-d91f-2d884ca1900e"
      },
      "source": [
        "anorexia = pd.read_csv(\"data/anorexia.txt\", delimiter='\\t')\n",
        "anorexia.describe()"
      ],
      "execution_count": 14,
      "outputs": [
        {
          "output_type": "execute_result",
          "data": {
            "text/html": [
              "<div>\n",
              "<style scoped>\n",
              "    .dataframe tbody tr th:only-of-type {\n",
              "        vertical-align: middle;\n",
              "    }\n",
              "\n",
              "    .dataframe tbody tr th {\n",
              "        vertical-align: top;\n",
              "    }\n",
              "\n",
              "    .dataframe thead th {\n",
              "        text-align: right;\n",
              "    }\n",
              "</style>\n",
              "<table border=\"1\" class=\"dataframe\">\n",
              "  <thead>\n",
              "    <tr style=\"text-align: right;\">\n",
              "      <th></th>\n",
              "      <th>Before</th>\n",
              "      <th>After</th>\n",
              "    </tr>\n",
              "  </thead>\n",
              "  <tbody>\n",
              "    <tr>\n",
              "      <th>count</th>\n",
              "      <td>29.000000</td>\n",
              "      <td>29.000000</td>\n",
              "    </tr>\n",
              "    <tr>\n",
              "      <th>mean</th>\n",
              "      <td>82.689655</td>\n",
              "      <td>85.696552</td>\n",
              "    </tr>\n",
              "    <tr>\n",
              "      <th>std</th>\n",
              "      <td>4.845495</td>\n",
              "      <td>8.351924</td>\n",
              "    </tr>\n",
              "    <tr>\n",
              "      <th>min</th>\n",
              "      <td>70.000000</td>\n",
              "      <td>71.300000</td>\n",
              "    </tr>\n",
              "    <tr>\n",
              "      <th>25%</th>\n",
              "      <td>80.400000</td>\n",
              "      <td>81.900000</td>\n",
              "    </tr>\n",
              "    <tr>\n",
              "      <th>50%</th>\n",
              "      <td>82.600000</td>\n",
              "      <td>83.900000</td>\n",
              "    </tr>\n",
              "    <tr>\n",
              "      <th>75%</th>\n",
              "      <td>85.000000</td>\n",
              "      <td>90.900000</td>\n",
              "    </tr>\n",
              "    <tr>\n",
              "      <th>max</th>\n",
              "      <td>94.900000</td>\n",
              "      <td>103.600000</td>\n",
              "    </tr>\n",
              "  </tbody>\n",
              "</table>\n",
              "</div>"
            ],
            "text/plain": [
              "          Before       After\n",
              "count  29.000000   29.000000\n",
              "mean   82.689655   85.696552\n",
              "std     4.845495    8.351924\n",
              "min    70.000000   71.300000\n",
              "25%    80.400000   81.900000\n",
              "50%    82.600000   83.900000\n",
              "75%    85.000000   90.900000\n",
              "max    94.900000  103.600000"
            ]
          },
          "metadata": {
            "tags": []
          },
          "execution_count": 14
        }
      ]
    },
    {
      "cell_type": "markdown",
      "metadata": {
        "id": "SZwwCwR0r3mP"
      },
      "source": [
        "## t-test\n",
        "сделаем т-тест на зависимых выборках"
      ]
    },
    {
      "cell_type": "markdown",
      "metadata": {
        "id": "u7Q_n3pXr3mP"
      },
      "source": [
        "Для этого задания корректно будет попарный t-test так как нас интересует есть ли в среднем для каждого человека разница в показателе."
      ]
    },
    {
      "cell_type": "code",
      "metadata": {
        "id": "MzmrysEAr3mP",
        "colab": {
          "base_uri": "https://localhost:8080/"
        },
        "outputId": "04e43bb4-a83b-4427-f2ff-24affe4b2690"
      },
      "source": [
        "stats.ttest_rel(anorexia.Before, anorexia.After)"
      ],
      "execution_count": 15,
      "outputs": [
        {
          "output_type": "execute_result",
          "data": {
            "text/plain": [
              "Ttest_relResult(statistic=-2.215587843931166, pvalue=0.03502259756218883)"
            ]
          },
          "metadata": {
            "tags": []
          },
          "execution_count": 15
        }
      ]
    },
    {
      "cell_type": "code",
      "metadata": {
        "id": "yRdCSZrsr3mP",
        "colab": {
          "base_uri": "https://localhost:8080/"
        },
        "outputId": "ca38e79a-4bfc-4d51-dd83-b9350ffc4764"
      },
      "source": [
        "(anorexia.After - anorexia.Before).mean()"
      ],
      "execution_count": 16,
      "outputs": [
        {
          "output_type": "execute_result",
          "data": {
            "text/plain": [
              "3.006896551724138"
            ]
          },
          "metadata": {
            "tags": []
          },
          "execution_count": 16
        }
      ]
    },
    {
      "cell_type": "markdown",
      "metadata": {
        "id": "EYgDFFbdr3mQ"
      },
      "source": [
        "Мы получили pvalue = 0.035, на 1% уровне значимости мы не можем отвергнуть нулевую гипотезу о том, что разницы между началом и концом терапии нет. Если бы мы взяли 5% уровень значимости, то могли отвергнуть гипотезу о неэффективности терапии. А так как вес в среднем для наблюдаемого вырос, то мы могли бы говорить о том, что эффект отличается от нулевого в нужную сторону."
      ]
    },
    {
      "cell_type": "markdown",
      "metadata": {
        "id": "xGGpQBArr3mQ"
      },
      "source": [
        "## знаковый критерий уилкоксона\n",
        "проверим гипотезу о разнице эффекта от терапии 0\n",
        "\n",
        "*с предположением о том, что ошибки распределены симметрично только использовать*"
      ]
    },
    {
      "cell_type": "code",
      "metadata": {
        "id": "agPo-vzzr3mQ",
        "colab": {
          "base_uri": "https://localhost:8080/"
        },
        "outputId": "80ac4061-6dff-48b1-9c2c-d4ca51aece7a"
      },
      "source": [
        "stats.wilcoxon(anorexia.Before, anorexia.After)"
      ],
      "execution_count": 17,
      "outputs": [
        {
          "output_type": "execute_result",
          "data": {
            "text/plain": [
              "WilcoxonResult(statistic=131.5, pvalue=0.06291972262602667)"
            ]
          },
          "metadata": {
            "tags": []
          },
          "execution_count": 17
        }
      ]
    },
    {
      "cell_type": "code",
      "metadata": {
        "id": "PuLvRygJr3mR",
        "colab": {
          "base_uri": "https://localhost:8080/"
        },
        "outputId": "7e3aa9f0-ea53-44b9-ec69-4f9d4dfb1ecc"
      },
      "source": [
        "stats.wilcoxon(anorexia.After, anorexia.Before, alternative=\"greater\")"
      ],
      "execution_count": 18,
      "outputs": [
        {
          "output_type": "execute_result",
          "data": {
            "text/plain": [
              "WilcoxonResult(statistic=303.5, pvalue=0.031459861313013336)"
            ]
          },
          "metadata": {
            "tags": []
          },
          "execution_count": 18
        }
      ]
    },
    {
      "cell_type": "markdown",
      "metadata": {
        "id": "Uq6a9MHsr3mR"
      },
      "source": [
        "## тест на знаки"
      ]
    },
    {
      "cell_type": "code",
      "metadata": {
        "id": "f6kb04FFr3mR",
        "colab": {
          "base_uri": "https://localhost:8080/"
        },
        "outputId": "781794c9-4a89-4b7b-e7b4-18d3c0967553"
      },
      "source": [
        "sign_test(anorexia.Before, anorexia.After)"
      ],
      "execution_count": 19,
      "outputs": [
        {
          "output_type": "execute_result",
          "data": {
            "text/plain": [
              "(-3.5, 0.26493089646101)"
            ]
          },
          "metadata": {
            "tags": []
          },
          "execution_count": 19
        }
      ]
    },
    {
      "cell_type": "markdown",
      "metadata": {
        "id": "zxZBdo0Yr3mR"
      },
      "source": [
        "Для непараметрического теста Уилкоксона и теста на знаки, получаем похожую ситуацию, только значения pvalue иные. Для двухстороннего теста нельзя утверждать, что есть отличия медианы разницы (и следовательно эффекта) от нуля. Для альтернативы \"До теста было выше\",  pvalue ниже и можно говорить, что на 5% уровне значимости у этой терапии есть эффект. На 1% уровне значимости - нет."
      ]
    },
    {
      "cell_type": "markdown",
      "metadata": {
        "id": "KfvcEPBGr3mS"
      },
      "source": [
        "# Задание 5\n",
        "В файлеseattle.txtзаписаны цены на недвижимость в одном из рай-онов Сиэтла в 2001 году и в 2002 году (объекты недвижимости выбирались случайно). Изменилисьли в среднем цены в этом районе за год?"
      ]
    },
    {
      "cell_type": "code",
      "metadata": {
        "id": "btACSyn5r3mT",
        "colab": {
          "base_uri": "https://localhost:8080/",
          "height": 419
        },
        "outputId": "d15c3abf-540b-42c4-bc35-bc0b62cade33"
      },
      "source": [
        "seattle = pd.read_csv('data/seattle.txt', delimiter='\\t')\n",
        "seattle"
      ],
      "execution_count": 20,
      "outputs": [
        {
          "output_type": "execute_result",
          "data": {
            "text/html": [
              "<div>\n",
              "<style scoped>\n",
              "    .dataframe tbody tr th:only-of-type {\n",
              "        vertical-align: middle;\n",
              "    }\n",
              "\n",
              "    .dataframe tbody tr th {\n",
              "        vertical-align: top;\n",
              "    }\n",
              "\n",
              "    .dataframe thead th {\n",
              "        text-align: right;\n",
              "    }\n",
              "</style>\n",
              "<table border=\"1\" class=\"dataframe\">\n",
              "  <thead>\n",
              "    <tr style=\"text-align: right;\">\n",
              "      <th></th>\n",
              "      <th>Price</th>\n",
              "      <th>Year</th>\n",
              "    </tr>\n",
              "  </thead>\n",
              "  <tbody>\n",
              "    <tr>\n",
              "      <th>0</th>\n",
              "      <td>142.0</td>\n",
              "      <td>2002</td>\n",
              "    </tr>\n",
              "    <tr>\n",
              "      <th>1</th>\n",
              "      <td>232.0</td>\n",
              "      <td>2002</td>\n",
              "    </tr>\n",
              "    <tr>\n",
              "      <th>2</th>\n",
              "      <td>132.5</td>\n",
              "      <td>2002</td>\n",
              "    </tr>\n",
              "    <tr>\n",
              "      <th>3</th>\n",
              "      <td>200.0</td>\n",
              "      <td>2002</td>\n",
              "    </tr>\n",
              "    <tr>\n",
              "      <th>4</th>\n",
              "      <td>362.0</td>\n",
              "      <td>2002</td>\n",
              "    </tr>\n",
              "    <tr>\n",
              "      <th>...</th>\n",
              "      <td>...</td>\n",
              "      <td>...</td>\n",
              "    </tr>\n",
              "    <tr>\n",
              "      <th>95</th>\n",
              "      <td>239.0</td>\n",
              "      <td>2001</td>\n",
              "    </tr>\n",
              "    <tr>\n",
              "      <th>96</th>\n",
              "      <td>710.0</td>\n",
              "      <td>2001</td>\n",
              "    </tr>\n",
              "    <tr>\n",
              "      <th>97</th>\n",
              "      <td>172.0</td>\n",
              "      <td>2001</td>\n",
              "    </tr>\n",
              "    <tr>\n",
              "      <th>98</th>\n",
              "      <td>228.5</td>\n",
              "      <td>2001</td>\n",
              "    </tr>\n",
              "    <tr>\n",
              "      <th>99</th>\n",
              "      <td>270.0</td>\n",
              "      <td>2001</td>\n",
              "    </tr>\n",
              "  </tbody>\n",
              "</table>\n",
              "<p>100 rows × 2 columns</p>\n",
              "</div>"
            ],
            "text/plain": [
              "    Price  Year\n",
              "0   142.0  2002\n",
              "1   232.0  2002\n",
              "2   132.5  2002\n",
              "3   200.0  2002\n",
              "4   362.0  2002\n",
              "..    ...   ...\n",
              "95  239.0  2001\n",
              "96  710.0  2001\n",
              "97  172.0  2001\n",
              "98  228.5  2001\n",
              "99  270.0  2001\n",
              "\n",
              "[100 rows x 2 columns]"
            ]
          },
          "metadata": {
            "tags": []
          },
          "execution_count": 20
        }
      ]
    },
    {
      "cell_type": "code",
      "metadata": {
        "id": "M7692Jffr3mT",
        "colab": {
          "base_uri": "https://localhost:8080/",
          "height": 142
        },
        "outputId": "7ef26652-44a4-48db-986e-5258551067a8"
      },
      "source": [
        "seattle.groupby('Year').mean()"
      ],
      "execution_count": 21,
      "outputs": [
        {
          "output_type": "execute_result",
          "data": {
            "text/html": [
              "<div>\n",
              "<style scoped>\n",
              "    .dataframe tbody tr th:only-of-type {\n",
              "        vertical-align: middle;\n",
              "    }\n",
              "\n",
              "    .dataframe tbody tr th {\n",
              "        vertical-align: top;\n",
              "    }\n",
              "\n",
              "    .dataframe thead th {\n",
              "        text-align: right;\n",
              "    }\n",
              "</style>\n",
              "<table border=\"1\" class=\"dataframe\">\n",
              "  <thead>\n",
              "    <tr style=\"text-align: right;\">\n",
              "      <th></th>\n",
              "      <th>Price</th>\n",
              "    </tr>\n",
              "    <tr>\n",
              "      <th>Year</th>\n",
              "      <th></th>\n",
              "    </tr>\n",
              "  </thead>\n",
              "  <tbody>\n",
              "    <tr>\n",
              "      <th>2001</th>\n",
              "      <td>288.92654</td>\n",
              "    </tr>\n",
              "    <tr>\n",
              "      <th>2002</th>\n",
              "      <td>329.25714</td>\n",
              "    </tr>\n",
              "  </tbody>\n",
              "</table>\n",
              "</div>"
            ],
            "text/plain": [
              "          Price\n",
              "Year           \n",
              "2001  288.92654\n",
              "2002  329.25714"
            ]
          },
          "metadata": {
            "tags": []
          },
          "execution_count": 21
        }
      ]
    },
    {
      "cell_type": "code",
      "metadata": {
        "id": "nNRXDjznr3mU",
        "colab": {
          "base_uri": "https://localhost:8080/",
          "height": 613
        },
        "outputId": "13481ab8-47ba-4461-9531-ee56d98f0c8e"
      },
      "source": [
        "seattle.groupby('Year').hist()"
      ],
      "execution_count": 22,
      "outputs": [
        {
          "output_type": "execute_result",
          "data": {
            "text/plain": [
              "Year\n",
              "2001    [[AxesSubplot(0.125,0.125;0.775x0.755)]]\n",
              "2002    [[AxesSubplot(0.125,0.125;0.775x0.755)]]\n",
              "dtype: object"
            ]
          },
          "metadata": {
            "tags": []
          },
          "execution_count": 22
        },
        {
          "output_type": "display_data",
          "data": {
            "image/png": "[encoded data removed]",
            "text/plain": [
              "<Figure size 432x288 with 1 Axes>"
            ]
          },
          "metadata": {
            "tags": [],
            "needs_background": "light"
          }
        },
        {
          "output_type": "display_data",
          "data": {
            "image/png": "[encoded data removed]",
            "text/plain": [
              "<Figure size 432x288 with 1 Axes>"
            ]
          },
          "metadata": {
            "tags": [],
            "needs_background": "light"
          }
        }
      ]
    },
    {
      "cell_type": "code",
      "metadata": {
        "id": "hitdoBspr3mU",
        "colab": {
          "base_uri": "https://localhost:8080/",
          "height": 173
        },
        "outputId": "d37e03d4-cb62-4b29-d55c-28e7b644891b"
      },
      "source": [
        "seattle.groupby('Year').describe()"
      ],
      "execution_count": 23,
      "outputs": [
        {
          "output_type": "execute_result",
          "data": {
            "text/html": [
              "<div>\n",
              "<style scoped>\n",
              "    .dataframe tbody tr th:only-of-type {\n",
              "        vertical-align: middle;\n",
              "    }\n",
              "\n",
              "    .dataframe tbody tr th {\n",
              "        vertical-align: top;\n",
              "    }\n",
              "\n",
              "    .dataframe thead tr th {\n",
              "        text-align: left;\n",
              "    }\n",
              "\n",
              "    .dataframe thead tr:last-of-type th {\n",
              "        text-align: right;\n",
              "    }\n",
              "</style>\n",
              "<table border=\"1\" class=\"dataframe\">\n",
              "  <thead>\n",
              "    <tr>\n",
              "      <th></th>\n",
              "      <th colspan=\"8\" halign=\"left\">Price</th>\n",
              "    </tr>\n",
              "    <tr>\n",
              "      <th></th>\n",
              "      <th>count</th>\n",
              "      <th>mean</th>\n",
              "      <th>std</th>\n",
              "      <th>min</th>\n",
              "      <th>25%</th>\n",
              "      <th>50%</th>\n",
              "      <th>75%</th>\n",
              "      <th>max</th>\n",
              "    </tr>\n",
              "    <tr>\n",
              "      <th>Year</th>\n",
              "      <th></th>\n",
              "      <th></th>\n",
              "      <th></th>\n",
              "      <th></th>\n",
              "      <th></th>\n",
              "      <th></th>\n",
              "      <th></th>\n",
              "      <th></th>\n",
              "    </tr>\n",
              "  </thead>\n",
              "  <tbody>\n",
              "    <tr>\n",
              "      <th>2001</th>\n",
              "      <td>50.0</td>\n",
              "      <td>288.92654</td>\n",
              "      <td>157.777757</td>\n",
              "      <td>50.0</td>\n",
              "      <td>190.25</td>\n",
              "      <td>260.800</td>\n",
              "      <td>406.7375</td>\n",
              "      <td>710.0</td>\n",
              "    </tr>\n",
              "    <tr>\n",
              "      <th>2002</th>\n",
              "      <td>50.0</td>\n",
              "      <td>329.25714</td>\n",
              "      <td>316.830045</td>\n",
              "      <td>50.0</td>\n",
              "      <td>176.20</td>\n",
              "      <td>244.925</td>\n",
              "      <td>328.6250</td>\n",
              "      <td>1850.0</td>\n",
              "    </tr>\n",
              "  </tbody>\n",
              "</table>\n",
              "</div>"
            ],
            "text/plain": [
              "     Price                                                                \n",
              "     count       mean         std   min     25%      50%       75%     max\n",
              "Year                                                                      \n",
              "2001  50.0  288.92654  157.777757  50.0  190.25  260.800  406.7375   710.0\n",
              "2002  50.0  329.25714  316.830045  50.0  176.20  244.925  328.6250  1850.0"
            ]
          },
          "metadata": {
            "tags": []
          },
          "execution_count": 23
        }
      ]
    },
    {
      "cell_type": "markdown",
      "metadata": {
        "id": "k5NS2Xzdr3mU"
      },
      "source": [
        "Среднее значение выше в 2002 году, но также и стандартное отклонение в 2 раза выше, а мода распределения ниже."
      ]
    },
    {
      "cell_type": "code",
      "metadata": {
        "id": "KpbwsipBr3mV"
      },
      "source": [
        "pr2001 = seattle[seattle.Year == 2001].Price\n",
        "pr2002 = seattle[seattle.Year == 2002].Price\n"
      ],
      "execution_count": 24,
      "outputs": []
    },
    {
      "cell_type": "markdown",
      "metadata": {
        "id": "TYpyXnjQr3mV"
      },
      "source": [
        "## т тест для неравных дисперсий"
      ]
    },
    {
      "cell_type": "markdown",
      "metadata": {
        "id": "mC3vZxo1r3mV"
      },
      "source": [
        "T-test для неравных дисперсий:\n",
        "Вывод - гипотеза о равенстве средних не отвергается на 1% и 5% уровне значимости"
      ]
    },
    {
      "cell_type": "code",
      "metadata": {
        "id": "xfTzcmHPr3mV",
        "colab": {
          "base_uri": "https://localhost:8080/"
        },
        "outputId": "0a7a723e-95c9-43fb-8fd1-71c6f92bbac7"
      },
      "source": [
        "stats.ttest_ind_from_stats(mean1=pr2001.mean(), std1=np.std(pr2001), nobs1=len(pr2001),\n",
        "                            mean2=pr2002.mean(), std2=np.std(pr2002), nobs2=len(pr2002))"
      ],
      "execution_count": 25,
      "outputs": [
        {
          "output_type": "execute_result",
          "data": {
            "text/plain": [
              "Ttest_indResult(statistic=-0.8139060403365842, pvalue=0.4176720088127156)"
            ]
          },
          "metadata": {
            "tags": []
          },
          "execution_count": 25
        }
      ]
    },
    {
      "cell_type": "markdown",
      "metadata": {
        "id": "SV-3ZMeOr3mW"
      },
      "source": [
        "## Критерий колмогорова смирнова\n",
        "Проверяем гипоетзу о равестве распределения цен в 2 года"
      ]
    },
    {
      "cell_type": "code",
      "metadata": {
        "id": "BmFSPDwKr3mW",
        "colab": {
          "base_uri": "https://localhost:8080/"
        },
        "outputId": "aad97723-3f52-4daf-f71c-b33aa7963542"
      },
      "source": [
        "stats.ks_2samp(pr2001, pr2002)"
      ],
      "execution_count": 26,
      "outputs": [
        {
          "output_type": "execute_result",
          "data": {
            "text/plain": [
              "Ks_2sampResult(statistic=0.14, pvalue=0.7166468440414822)"
            ]
          },
          "metadata": {
            "tags": []
          },
          "execution_count": 26
        }
      ]
    },
    {
      "cell_type": "markdown",
      "metadata": {
        "id": "ED8UQhs2r3mW"
      },
      "source": [
        "Проверяем гипотезу о сдвиге распределений между годами"
      ]
    },
    {
      "cell_type": "code",
      "metadata": {
        "id": "j_j-VEGvr3mX",
        "colab": {
          "base_uri": "https://localhost:8080/"
        },
        "outputId": "15510d8b-0d1b-45d2-a87a-f3b29b0cee14"
      },
      "source": [
        "stats.mannwhitneyu(pr2001, pr2002)"
      ],
      "execution_count": 27,
      "outputs": [
        {
          "output_type": "execute_result",
          "data": {
            "text/plain": [
              "MannwhitneyuResult(statistic=1204.5, pvalue=0.3781936337850874)"
            ]
          },
          "metadata": {
            "tags": []
          },
          "execution_count": 27
        }
      ]
    },
    {
      "cell_type": "markdown",
      "metadata": {
        "id": "pudakUkPr3mX"
      },
      "source": [
        "По всем тестам, мы не можем отвергнуть гипотезу о том, что 2001 год и 2002 год имеют неотличимые между собой цены."
      ]
    },
    {
      "cell_type": "markdown",
      "metadata": {
        "id": "GWQ8B0sIr3mX"
      },
      "source": [
        "# Задание 6\n",
        "В рамках исследования эффективности препарата метилфенидат па-циенты с синдромом дефицита внимания и гиперактивности в течение недели принимали либо ме-тилфенидат, либо плацебо. В конце недели каждый пациент проходили тест на способность к по-давлению импульсивных поведенческих реакций. На втором этапе плацебо и препарат менялись, ипосле недельного курса каждый испытуемые проходили второй тест. Был ли эффект от примененияпрепарата? Данные находятся в файле methylphenidate.txt"
      ]
    },
    {
      "cell_type": "code",
      "metadata": {
        "id": "QDv7vC3pr3mX"
      },
      "source": [
        "drugtest = pd.read_csv(\"data/methylphenidate.txt\", delimiter=' ')"
      ],
      "execution_count": 28,
      "outputs": []
    },
    {
      "cell_type": "code",
      "metadata": {
        "id": "0OOjRvl_r3mY",
        "colab": {
          "base_uri": "https://localhost:8080/",
          "height": 295
        },
        "outputId": "9ed07347-b53a-4175-f63f-cdd3130215ea"
      },
      "source": [
        "fig, ax = plt.subplots()\n",
        "ax.hist(drugtest.Placebo, label=drugtest.columns[0], histtype='bar', alpha=0.7)\n",
        "ax.hist(drugtest.Methylphenidate, label=drugtest.columns[1], alpha=0.7)\n",
        "\n",
        "\n",
        "ax.legend()\n",
        "\n",
        "\n",
        "ax.set_xlabel('values')\n",
        "ax.set_ylabel('counts')\n",
        "ax.set_title('гистограмма двух групп')\n",
        "plt.show()"
      ],
      "execution_count": 29,
      "outputs": [
        {
          "output_type": "display_data",
          "data": {
            "image/png": "[encoded data removed]",
            "text/plain": [
              "<Figure size 432x288 with 1 Axes>"
            ]
          },
          "metadata": {
            "tags": [],
            "needs_background": "light"
          }
        }
      ]
    },
    {
      "cell_type": "code",
      "metadata": {
        "id": "6io3pf8fr3mY",
        "colab": {
          "base_uri": "https://localhost:8080/",
          "height": 297
        },
        "outputId": "01292e2f-0903-4bf3-d1d1-d6268a5719ff"
      },
      "source": [
        "drugtest.describe()"
      ],
      "execution_count": 30,
      "outputs": [
        {
          "output_type": "execute_result",
          "data": {
            "text/html": [
              "<div>\n",
              "<style scoped>\n",
              "    .dataframe tbody tr th:only-of-type {\n",
              "        vertical-align: middle;\n",
              "    }\n",
              "\n",
              "    .dataframe tbody tr th {\n",
              "        vertical-align: top;\n",
              "    }\n",
              "\n",
              "    .dataframe thead th {\n",
              "        text-align: right;\n",
              "    }\n",
              "</style>\n",
              "<table border=\"1\" class=\"dataframe\">\n",
              "  <thead>\n",
              "    <tr style=\"text-align: right;\">\n",
              "      <th></th>\n",
              "      <th>Placebo</th>\n",
              "      <th>Methylphenidate</th>\n",
              "    </tr>\n",
              "  </thead>\n",
              "  <tbody>\n",
              "    <tr>\n",
              "      <th>count</th>\n",
              "      <td>24.000000</td>\n",
              "      <td>24.000000</td>\n",
              "    </tr>\n",
              "    <tr>\n",
              "      <th>mean</th>\n",
              "      <td>39.750000</td>\n",
              "      <td>44.708333</td>\n",
              "    </tr>\n",
              "    <tr>\n",
              "      <th>std</th>\n",
              "      <td>11.314669</td>\n",
              "      <td>12.319935</td>\n",
              "    </tr>\n",
              "    <tr>\n",
              "      <th>min</th>\n",
              "      <td>26.000000</td>\n",
              "      <td>29.000000</td>\n",
              "    </tr>\n",
              "    <tr>\n",
              "      <th>25%</th>\n",
              "      <td>33.000000</td>\n",
              "      <td>35.000000</td>\n",
              "    </tr>\n",
              "    <tr>\n",
              "      <th>50%</th>\n",
              "      <td>36.000000</td>\n",
              "      <td>42.500000</td>\n",
              "    </tr>\n",
              "    <tr>\n",
              "      <th>75%</th>\n",
              "      <td>44.500000</td>\n",
              "      <td>52.500000</td>\n",
              "    </tr>\n",
              "    <tr>\n",
              "      <th>max</th>\n",
              "      <td>71.000000</td>\n",
              "      <td>77.000000</td>\n",
              "    </tr>\n",
              "  </tbody>\n",
              "</table>\n",
              "</div>"
            ],
            "text/plain": [
              "         Placebo  Methylphenidate\n",
              "count  24.000000        24.000000\n",
              "mean   39.750000        44.708333\n",
              "std    11.314669        12.319935\n",
              "min    26.000000        29.000000\n",
              "25%    33.000000        35.000000\n",
              "50%    36.000000        42.500000\n",
              "75%    44.500000        52.500000\n",
              "max    71.000000        77.000000"
            ]
          },
          "metadata": {
            "tags": []
          },
          "execution_count": 30
        }
      ]
    },
    {
      "cell_type": "markdown",
      "metadata": {
        "id": "O7p_gCJqr3mZ"
      },
      "source": [
        "сделаем тест на равенство дисперсий, чтобы уточнить, можно ли использовать такое предположение для тестов на равенство средних:"
      ]
    },
    {
      "cell_type": "code",
      "metadata": {
        "id": "ErlTqLFbr3mZ",
        "colab": {
          "base_uri": "https://localhost:8080/"
        },
        "outputId": "1ac7a0d2-657f-4c70-f35a-c7bd9e51ca5a"
      },
      "source": [
        "stats.levene(drugtest.Placebo, drugtest.Methylphenidate)"
      ],
      "execution_count": 31,
      "outputs": [
        {
          "output_type": "execute_result",
          "data": {
            "text/plain": [
              "LeveneResult(statistic=0.6951197821893255, pvalue=0.40873698568514094)"
            ]
          },
          "metadata": {
            "tags": []
          },
          "execution_count": 31
        }
      ]
    },
    {
      "cell_type": "code",
      "metadata": {
        "id": "TCM_35ddr3ma",
        "colab": {
          "base_uri": "https://localhost:8080/"
        },
        "outputId": "82a92758-bd95-4985-9a13-bc1707fc2344"
      },
      "source": [
        "stats.ttest_ind(drugtest.Placebo, drugtest.Methylphenidate)"
      ],
      "execution_count": 32,
      "outputs": [
        {
          "output_type": "execute_result",
          "data": {
            "text/plain": [
              "Ttest_indResult(statistic=-1.452163501815909, pvalue=0.1532433046938409)"
            ]
          },
          "metadata": {
            "tags": []
          },
          "execution_count": 32
        }
      ]
    },
    {
      "cell_type": "markdown",
      "metadata": {
        "id": "OEV-7keQr3ma"
      },
      "source": [
        "мы не отвергаем гипотезу о равенстве дисперсий, поэтому можем провести тест на разницу средних, используя равную дисперсию. Тест выдает 0,15 pvalue - мы не можем на 1 и 5% отвергать гипотезу о равенстве средних в двух тестовых группах"
      ]
    },
    {
      "cell_type": "markdown",
      "metadata": {
        "id": "DoWKGOKQr3ma"
      },
      "source": [
        "## Критерий колмогорова смирнова\n",
        "Проверяем гипоетзу о равестве распределения цен в 2 года\n"
      ]
    },
    {
      "cell_type": "code",
      "metadata": {
        "id": "OyV1CboOr3mb",
        "colab": {
          "base_uri": "https://localhost:8080/"
        },
        "outputId": "39f40f81-64f9-4542-bc8d-7c33d7f072a2"
      },
      "source": [
        "stats.ks_2samp(drugtest.Placebo, drugtest.Methylphenidate)"
      ],
      "execution_count": 33,
      "outputs": [
        {
          "output_type": "execute_result",
          "data": {
            "text/plain": [
              "Ks_2sampResult(statistic=0.25, pvalue=0.4490368220409109)"
            ]
          },
          "metadata": {
            "tags": []
          },
          "execution_count": 33
        }
      ]
    },
    {
      "cell_type": "markdown",
      "metadata": {
        "id": "p1p-X2AZr3mb"
      },
      "source": [
        "## Mann-Whitney тест\n",
        "Проверяем гипотезу о сдвиге распределений между годами\n"
      ]
    },
    {
      "cell_type": "code",
      "metadata": {
        "id": "jkCJJ-gbr3mb",
        "colab": {
          "base_uri": "https://localhost:8080/"
        },
        "outputId": "cb1500c5-d6ce-44e2-f5ba-0b035ba9910b"
      },
      "source": [
        "stats.mannwhitneyu(drugtest.Placebo, drugtest.Methylphenidate)\n"
      ],
      "execution_count": 34,
      "outputs": [
        {
          "output_type": "execute_result",
          "data": {
            "text/plain": [
              "MannwhitneyuResult(statistic=206.0, pvalue=0.04609734480136829)"
            ]
          },
          "metadata": {
            "tags": []
          },
          "execution_count": 34
        }
      ]
    },
    {
      "cell_type": "markdown",
      "metadata": {
        "id": "mxeuREN6r3mc"
      },
      "source": [
        "На основе непараметрических тестов ситуация не меняется кроме теста Манна-Уитни. На его основании, мы могли бы говорить о том, что эффект применения есть на уровне значимости 5%. Для 1% уровня значимости нельзя сказать, что эффект от препарата был."
      ]
    },
    {
      "cell_type": "markdown",
      "metadata": {
        "id": "7oMdoLVjr3md"
      },
      "source": [
        "# Задание 7\n",
        "В файле mtcars.csv находятся данные из американского журналаMotor Trend 1974 года. Они описывают расход топлива в зависимости от 10 характеристик автомо-биля (все автомобили 1973-1974 года\n",
        "Влияет ли тип двигателя на расход топлива? А тип коробки передач?\n"
      ]
    },
    {
      "cell_type": "code",
      "metadata": {
        "id": "Y9UlMuLCr3md",
        "colab": {
          "base_uri": "https://localhost:8080/",
          "height": 1000
        },
        "outputId": "1b0b0dd1-624f-4fde-eb6b-ae5062f74836"
      },
      "source": [
        "mtcars = pd.read_csv('data/mtcars.csv', index_col=0)\n",
        "mtcars"
      ],
      "execution_count": 35,
      "outputs": [
        {
          "output_type": "execute_result",
          "data": {
            "text/html": [
              "<div>\n",
              "<style scoped>\n",
              "    .dataframe tbody tr th:only-of-type {\n",
              "        vertical-align: middle;\n",
              "    }\n",
              "\n",
              "    .dataframe tbody tr th {\n",
              "        vertical-align: top;\n",
              "    }\n",
              "\n",
              "    .dataframe thead th {\n",
              "        text-align: right;\n",
              "    }\n",
              "</style>\n",
              "<table border=\"1\" class=\"dataframe\">\n",
              "  <thead>\n",
              "    <tr style=\"text-align: right;\">\n",
              "      <th></th>\n",
              "      <th>mpg</th>\n",
              "      <th>cyl</th>\n",
              "      <th>disp</th>\n",
              "      <th>hp</th>\n",
              "      <th>drat</th>\n",
              "      <th>wt</th>\n",
              "      <th>qsec</th>\n",
              "      <th>vs</th>\n",
              "      <th>am</th>\n",
              "      <th>gear</th>\n",
              "      <th>carb</th>\n",
              "    </tr>\n",
              "  </thead>\n",
              "  <tbody>\n",
              "    <tr>\n",
              "      <th>Mazda RX4</th>\n",
              "      <td>21.0</td>\n",
              "      <td>6</td>\n",
              "      <td>160.0</td>\n",
              "      <td>110</td>\n",
              "      <td>3.90</td>\n",
              "      <td>2.620</td>\n",
              "      <td>16.46</td>\n",
              "      <td>0</td>\n",
              "      <td>1</td>\n",
              "      <td>4</td>\n",
              "      <td>4</td>\n",
              "    </tr>\n",
              "    <tr>\n",
              "      <th>Mazda RX4 Wag</th>\n",
              "      <td>21.0</td>\n",
              "      <td>6</td>\n",
              "      <td>160.0</td>\n",
              "      <td>110</td>\n",
              "      <td>3.90</td>\n",
              "      <td>2.875</td>\n",
              "      <td>17.02</td>\n",
              "      <td>0</td>\n",
              "      <td>1</td>\n",
              "      <td>4</td>\n",
              "      <td>4</td>\n",
              "    </tr>\n",
              "    <tr>\n",
              "      <th>Datsun 710</th>\n",
              "      <td>22.8</td>\n",
              "      <td>4</td>\n",
              "      <td>108.0</td>\n",
              "      <td>93</td>\n",
              "      <td>3.85</td>\n",
              "      <td>2.320</td>\n",
              "      <td>18.61</td>\n",
              "      <td>1</td>\n",
              "      <td>1</td>\n",
              "      <td>4</td>\n",
              "      <td>1</td>\n",
              "    </tr>\n",
              "    <tr>\n",
              "      <th>Hornet 4 Drive</th>\n",
              "      <td>21.4</td>\n",
              "      <td>6</td>\n",
              "      <td>258.0</td>\n",
              "      <td>110</td>\n",
              "      <td>3.08</td>\n",
              "      <td>3.215</td>\n",
              "      <td>19.44</td>\n",
              "      <td>1</td>\n",
              "      <td>0</td>\n",
              "      <td>3</td>\n",
              "      <td>1</td>\n",
              "    </tr>\n",
              "    <tr>\n",
              "      <th>Hornet Sportabout</th>\n",
              "      <td>18.7</td>\n",
              "      <td>8</td>\n",
              "      <td>360.0</td>\n",
              "      <td>175</td>\n",
              "      <td>3.15</td>\n",
              "      <td>3.440</td>\n",
              "      <td>17.02</td>\n",
              "      <td>0</td>\n",
              "      <td>0</td>\n",
              "      <td>3</td>\n",
              "      <td>2</td>\n",
              "    </tr>\n",
              "    <tr>\n",
              "      <th>Valiant</th>\n",
              "      <td>18.1</td>\n",
              "      <td>6</td>\n",
              "      <td>225.0</td>\n",
              "      <td>105</td>\n",
              "      <td>2.76</td>\n",
              "      <td>3.460</td>\n",
              "      <td>20.22</td>\n",
              "      <td>1</td>\n",
              "      <td>0</td>\n",
              "      <td>3</td>\n",
              "      <td>1</td>\n",
              "    </tr>\n",
              "    <tr>\n",
              "      <th>Duster 360</th>\n",
              "      <td>14.3</td>\n",
              "      <td>8</td>\n",
              "      <td>360.0</td>\n",
              "      <td>245</td>\n",
              "      <td>3.21</td>\n",
              "      <td>3.570</td>\n",
              "      <td>15.84</td>\n",
              "      <td>0</td>\n",
              "      <td>0</td>\n",
              "      <td>3</td>\n",
              "      <td>4</td>\n",
              "    </tr>\n",
              "    <tr>\n",
              "      <th>Merc 240D</th>\n",
              "      <td>24.4</td>\n",
              "      <td>4</td>\n",
              "      <td>146.7</td>\n",
              "      <td>62</td>\n",
              "      <td>3.69</td>\n",
              "      <td>3.190</td>\n",
              "      <td>20.00</td>\n",
              "      <td>1</td>\n",
              "      <td>0</td>\n",
              "      <td>4</td>\n",
              "      <td>2</td>\n",
              "    </tr>\n",
              "    <tr>\n",
              "      <th>Merc 230</th>\n",
              "      <td>22.8</td>\n",
              "      <td>4</td>\n",
              "      <td>140.8</td>\n",
              "      <td>95</td>\n",
              "      <td>3.92</td>\n",
              "      <td>3.150</td>\n",
              "      <td>22.90</td>\n",
              "      <td>1</td>\n",
              "      <td>0</td>\n",
              "      <td>4</td>\n",
              "      <td>2</td>\n",
              "    </tr>\n",
              "    <tr>\n",
              "      <th>Merc 280</th>\n",
              "      <td>19.2</td>\n",
              "      <td>6</td>\n",
              "      <td>167.6</td>\n",
              "      <td>123</td>\n",
              "      <td>3.92</td>\n",
              "      <td>3.440</td>\n",
              "      <td>18.30</td>\n",
              "      <td>1</td>\n",
              "      <td>0</td>\n",
              "      <td>4</td>\n",
              "      <td>4</td>\n",
              "    </tr>\n",
              "    <tr>\n",
              "      <th>Merc 280C</th>\n",
              "      <td>17.8</td>\n",
              "      <td>6</td>\n",
              "      <td>167.6</td>\n",
              "      <td>123</td>\n",
              "      <td>3.92</td>\n",
              "      <td>3.440</td>\n",
              "      <td>18.90</td>\n",
              "      <td>1</td>\n",
              "      <td>0</td>\n",
              "      <td>4</td>\n",
              "      <td>4</td>\n",
              "    </tr>\n",
              "    <tr>\n",
              "      <th>Merc 450SE</th>\n",
              "      <td>16.4</td>\n",
              "      <td>8</td>\n",
              "      <td>275.8</td>\n",
              "      <td>180</td>\n",
              "      <td>3.07</td>\n",
              "      <td>4.070</td>\n",
              "      <td>17.40</td>\n",
              "      <td>0</td>\n",
              "      <td>0</td>\n",
              "      <td>3</td>\n",
              "      <td>3</td>\n",
              "    </tr>\n",
              "    <tr>\n",
              "      <th>Merc 450SL</th>\n",
              "      <td>17.3</td>\n",
              "      <td>8</td>\n",
              "      <td>275.8</td>\n",
              "      <td>180</td>\n",
              "      <td>3.07</td>\n",
              "      <td>3.730</td>\n",
              "      <td>17.60</td>\n",
              "      <td>0</td>\n",
              "      <td>0</td>\n",
              "      <td>3</td>\n",
              "      <td>3</td>\n",
              "    </tr>\n",
              "    <tr>\n",
              "      <th>Merc 450SLC</th>\n",
              "      <td>15.2</td>\n",
              "      <td>8</td>\n",
              "      <td>275.8</td>\n",
              "      <td>180</td>\n",
              "      <td>3.07</td>\n",
              "      <td>3.780</td>\n",
              "      <td>18.00</td>\n",
              "      <td>0</td>\n",
              "      <td>0</td>\n",
              "      <td>3</td>\n",
              "      <td>3</td>\n",
              "    </tr>\n",
              "    <tr>\n",
              "      <th>Cadillac Fleetwood</th>\n",
              "      <td>10.4</td>\n",
              "      <td>8</td>\n",
              "      <td>472.0</td>\n",
              "      <td>205</td>\n",
              "      <td>2.93</td>\n",
              "      <td>5.250</td>\n",
              "      <td>17.98</td>\n",
              "      <td>0</td>\n",
              "      <td>0</td>\n",
              "      <td>3</td>\n",
              "      <td>4</td>\n",
              "    </tr>\n",
              "    <tr>\n",
              "      <th>Lincoln Continental</th>\n",
              "      <td>10.4</td>\n",
              "      <td>8</td>\n",
              "      <td>460.0</td>\n",
              "      <td>215</td>\n",
              "      <td>3.00</td>\n",
              "      <td>5.424</td>\n",
              "      <td>17.82</td>\n",
              "      <td>0</td>\n",
              "      <td>0</td>\n",
              "      <td>3</td>\n",
              "      <td>4</td>\n",
              "    </tr>\n",
              "    <tr>\n",
              "      <th>Chrysler Imperial</th>\n",
              "      <td>14.7</td>\n",
              "      <td>8</td>\n",
              "      <td>440.0</td>\n",
              "      <td>230</td>\n",
              "      <td>3.23</td>\n",
              "      <td>5.345</td>\n",
              "      <td>17.42</td>\n",
              "      <td>0</td>\n",
              "      <td>0</td>\n",
              "      <td>3</td>\n",
              "      <td>4</td>\n",
              "    </tr>\n",
              "    <tr>\n",
              "      <th>Fiat 128</th>\n",
              "      <td>32.4</td>\n",
              "      <td>4</td>\n",
              "      <td>78.7</td>\n",
              "      <td>66</td>\n",
              "      <td>4.08</td>\n",
              "      <td>2.200</td>\n",
              "      <td>19.47</td>\n",
              "      <td>1</td>\n",
              "      <td>1</td>\n",
              "      <td>4</td>\n",
              "      <td>1</td>\n",
              "    </tr>\n",
              "    <tr>\n",
              "      <th>Honda Civic</th>\n",
              "      <td>30.4</td>\n",
              "      <td>4</td>\n",
              "      <td>75.7</td>\n",
              "      <td>52</td>\n",
              "      <td>4.93</td>\n",
              "      <td>1.615</td>\n",
              "      <td>18.52</td>\n",
              "      <td>1</td>\n",
              "      <td>1</td>\n",
              "      <td>4</td>\n",
              "      <td>2</td>\n",
              "    </tr>\n",
              "    <tr>\n",
              "      <th>Toyota Corolla</th>\n",
              "      <td>33.9</td>\n",
              "      <td>4</td>\n",
              "      <td>71.1</td>\n",
              "      <td>65</td>\n",
              "      <td>4.22</td>\n",
              "      <td>1.835</td>\n",
              "      <td>19.90</td>\n",
              "      <td>1</td>\n",
              "      <td>1</td>\n",
              "      <td>4</td>\n",
              "      <td>1</td>\n",
              "    </tr>\n",
              "    <tr>\n",
              "      <th>Toyota Corona</th>\n",
              "      <td>21.5</td>\n",
              "      <td>4</td>\n",
              "      <td>120.1</td>\n",
              "      <td>97</td>\n",
              "      <td>3.70</td>\n",
              "      <td>2.465</td>\n",
              "      <td>20.01</td>\n",
              "      <td>1</td>\n",
              "      <td>0</td>\n",
              "      <td>3</td>\n",
              "      <td>1</td>\n",
              "    </tr>\n",
              "    <tr>\n",
              "      <th>Dodge Challenger</th>\n",
              "      <td>15.5</td>\n",
              "      <td>8</td>\n",
              "      <td>318.0</td>\n",
              "      <td>150</td>\n",
              "      <td>2.76</td>\n",
              "      <td>3.520</td>\n",
              "      <td>16.87</td>\n",
              "      <td>0</td>\n",
              "      <td>0</td>\n",
              "      <td>3</td>\n",
              "      <td>2</td>\n",
              "    </tr>\n",
              "    <tr>\n",
              "      <th>AMC Javelin</th>\n",
              "      <td>15.2</td>\n",
              "      <td>8</td>\n",
              "      <td>304.0</td>\n",
              "      <td>150</td>\n",
              "      <td>3.15</td>\n",
              "      <td>3.435</td>\n",
              "      <td>17.30</td>\n",
              "      <td>0</td>\n",
              "      <td>0</td>\n",
              "      <td>3</td>\n",
              "      <td>2</td>\n",
              "    </tr>\n",
              "    <tr>\n",
              "      <th>Camaro Z28</th>\n",
              "      <td>13.3</td>\n",
              "      <td>8</td>\n",
              "      <td>350.0</td>\n",
              "      <td>245</td>\n",
              "      <td>3.73</td>\n",
              "      <td>3.840</td>\n",
              "      <td>15.41</td>\n",
              "      <td>0</td>\n",
              "      <td>0</td>\n",
              "      <td>3</td>\n",
              "      <td>4</td>\n",
              "    </tr>\n",
              "    <tr>\n",
              "      <th>Pontiac Firebird</th>\n",
              "      <td>19.2</td>\n",
              "      <td>8</td>\n",
              "      <td>400.0</td>\n",
              "      <td>175</td>\n",
              "      <td>3.08</td>\n",
              "      <td>3.845</td>\n",
              "      <td>17.05</td>\n",
              "      <td>0</td>\n",
              "      <td>0</td>\n",
              "      <td>3</td>\n",
              "      <td>2</td>\n",
              "    </tr>\n",
              "    <tr>\n",
              "      <th>Fiat X1-9</th>\n",
              "      <td>27.3</td>\n",
              "      <td>4</td>\n",
              "      <td>79.0</td>\n",
              "      <td>66</td>\n",
              "      <td>4.08</td>\n",
              "      <td>1.935</td>\n",
              "      <td>18.90</td>\n",
              "      <td>1</td>\n",
              "      <td>1</td>\n",
              "      <td>4</td>\n",
              "      <td>1</td>\n",
              "    </tr>\n",
              "    <tr>\n",
              "      <th>Porsche 914-2</th>\n",
              "      <td>26.0</td>\n",
              "      <td>4</td>\n",
              "      <td>120.3</td>\n",
              "      <td>91</td>\n",
              "      <td>4.43</td>\n",
              "      <td>2.140</td>\n",
              "      <td>16.70</td>\n",
              "      <td>0</td>\n",
              "      <td>1</td>\n",
              "      <td>5</td>\n",
              "      <td>2</td>\n",
              "    </tr>\n",
              "    <tr>\n",
              "      <th>Lotus Europa</th>\n",
              "      <td>30.4</td>\n",
              "      <td>4</td>\n",
              "      <td>95.1</td>\n",
              "      <td>113</td>\n",
              "      <td>3.77</td>\n",
              "      <td>1.513</td>\n",
              "      <td>16.90</td>\n",
              "      <td>1</td>\n",
              "      <td>1</td>\n",
              "      <td>5</td>\n",
              "      <td>2</td>\n",
              "    </tr>\n",
              "    <tr>\n",
              "      <th>Ford Pantera L</th>\n",
              "      <td>15.8</td>\n",
              "      <td>8</td>\n",
              "      <td>351.0</td>\n",
              "      <td>264</td>\n",
              "      <td>4.22</td>\n",
              "      <td>3.170</td>\n",
              "      <td>14.50</td>\n",
              "      <td>0</td>\n",
              "      <td>1</td>\n",
              "      <td>5</td>\n",
              "      <td>4</td>\n",
              "    </tr>\n",
              "    <tr>\n",
              "      <th>Ferrari Dino</th>\n",
              "      <td>19.7</td>\n",
              "      <td>6</td>\n",
              "      <td>145.0</td>\n",
              "      <td>175</td>\n",
              "      <td>3.62</td>\n",
              "      <td>2.770</td>\n",
              "      <td>15.50</td>\n",
              "      <td>0</td>\n",
              "      <td>1</td>\n",
              "      <td>5</td>\n",
              "      <td>6</td>\n",
              "    </tr>\n",
              "    <tr>\n",
              "      <th>Maserati Bora</th>\n",
              "      <td>15.0</td>\n",
              "      <td>8</td>\n",
              "      <td>301.0</td>\n",
              "      <td>335</td>\n",
              "      <td>3.54</td>\n",
              "      <td>3.570</td>\n",
              "      <td>14.60</td>\n",
              "      <td>0</td>\n",
              "      <td>1</td>\n",
              "      <td>5</td>\n",
              "      <td>8</td>\n",
              "    </tr>\n",
              "    <tr>\n",
              "      <th>Volvo 142E</th>\n",
              "      <td>21.4</td>\n",
              "      <td>4</td>\n",
              "      <td>121.0</td>\n",
              "      <td>109</td>\n",
              "      <td>4.11</td>\n",
              "      <td>2.780</td>\n",
              "      <td>18.60</td>\n",
              "      <td>1</td>\n",
              "      <td>1</td>\n",
              "      <td>4</td>\n",
              "      <td>2</td>\n",
              "    </tr>\n",
              "  </tbody>\n",
              "</table>\n",
              "</div>"
            ],
            "text/plain": [
              "                      mpg  cyl   disp   hp  drat  ...   qsec  vs  am  gear  carb\n",
              "Mazda RX4            21.0    6  160.0  110  3.90  ...  16.46   0   1     4     4\n",
              "Mazda RX4 Wag        21.0    6  160.0  110  3.90  ...  17.02   0   1     4     4\n",
              "Datsun 710           22.8    4  108.0   93  3.85  ...  18.61   1   1     4     1\n",
              "Hornet 4 Drive       21.4    6  258.0  110  3.08  ...  19.44   1   0     3     1\n",
              "Hornet Sportabout    18.7    8  360.0  175  3.15  ...  17.02   0   0     3     2\n",
              "Valiant              18.1    6  225.0  105  2.76  ...  20.22   1   0     3     1\n",
              "Duster 360           14.3    8  360.0  245  3.21  ...  15.84   0   0     3     4\n",
              "Merc 240D            24.4    4  146.7   62  3.69  ...  20.00   1   0     4     2\n",
              "Merc 230             22.8    4  140.8   95  3.92  ...  22.90   1   0     4     2\n",
              "Merc 280             19.2    6  167.6  123  3.92  ...  18.30   1   0     4     4\n",
              "Merc 280C            17.8    6  167.6  123  3.92  ...  18.90   1   0     4     4\n",
              "Merc 450SE           16.4    8  275.8  180  3.07  ...  17.40   0   0     3     3\n",
              "Merc 450SL           17.3    8  275.8  180  3.07  ...  17.60   0   0     3     3\n",
              "Merc 450SLC          15.2    8  275.8  180  3.07  ...  18.00   0   0     3     3\n",
              "Cadillac Fleetwood   10.4    8  472.0  205  2.93  ...  17.98   0   0     3     4\n",
              "Lincoln Continental  10.4    8  460.0  215  3.00  ...  17.82   0   0     3     4\n",
              "Chrysler Imperial    14.7    8  440.0  230  3.23  ...  17.42   0   0     3     4\n",
              "Fiat 128             32.4    4   78.7   66  4.08  ...  19.47   1   1     4     1\n",
              "Honda Civic          30.4    4   75.7   52  4.93  ...  18.52   1   1     4     2\n",
              "Toyota Corolla       33.9    4   71.1   65  4.22  ...  19.90   1   1     4     1\n",
              "Toyota Corona        21.5    4  120.1   97  3.70  ...  20.01   1   0     3     1\n",
              "Dodge Challenger     15.5    8  318.0  150  2.76  ...  16.87   0   0     3     2\n",
              "AMC Javelin          15.2    8  304.0  150  3.15  ...  17.30   0   0     3     2\n",
              "Camaro Z28           13.3    8  350.0  245  3.73  ...  15.41   0   0     3     4\n",
              "Pontiac Firebird     19.2    8  400.0  175  3.08  ...  17.05   0   0     3     2\n",
              "Fiat X1-9            27.3    4   79.0   66  4.08  ...  18.90   1   1     4     1\n",
              "Porsche 914-2        26.0    4  120.3   91  4.43  ...  16.70   0   1     5     2\n",
              "Lotus Europa         30.4    4   95.1  113  3.77  ...  16.90   1   1     5     2\n",
              "Ford Pantera L       15.8    8  351.0  264  4.22  ...  14.50   0   1     5     4\n",
              "Ferrari Dino         19.7    6  145.0  175  3.62  ...  15.50   0   1     5     6\n",
              "Maserati Bora        15.0    8  301.0  335  3.54  ...  14.60   0   1     5     8\n",
              "Volvo 142E           21.4    4  121.0  109  4.11  ...  18.60   1   1     4     2\n",
              "\n",
              "[32 rows x 11 columns]"
            ]
          },
          "metadata": {
            "tags": []
          },
          "execution_count": 35
        }
      ]
    },
    {
      "cell_type": "markdown",
      "metadata": {
        "id": "Jz7IDxV6r3me"
      },
      "source": [
        "## Решим задачу в ключе - какой эффект от этих переменных, при условии что все остальные неизменны\n",
        "Для этого построим линейную регрессию и посмотрим на значимость коээфициентов при интересующих нас переменных"
      ]
    },
    {
      "cell_type": "code",
      "metadata": {
        "id": "bD_kcsRvr3mf",
        "colab": {
          "base_uri": "https://localhost:8080/"
        },
        "outputId": "557e068e-6b6e-43a9-d8d6-220c09c3b738"
      },
      "source": [
        "import statsmodels.formula.api as smf\n",
        "\n",
        "m1 = smf.ols('mpg ~ cyl + disp + hp + drat + wt + qsec + vs + am + gear + carb', data=mtcars)\n",
        "m1fitted = m1.fit()\n",
        "\n",
        "print(m1fitted.summary())"
      ],
      "execution_count": 36,
      "outputs": [
        {
          "output_type": "stream",
          "text": [
            "                            OLS Regression Results                            \n",
            "==============================================================================\n",
            "Dep. Variable:                    mpg   R-squared:                       0.869\n",
            "Model:                            OLS   Adj. R-squared:                  0.807\n",
            "Method:                 Least Squares   F-statistic:                     13.93\n",
            "Date:                Thu, 05 Aug 2021   Prob (F-statistic):           3.79e-07\n",
            "Time:                        15:11:13   Log-Likelihood:                -69.855\n",
            "No. Observations:                  32   AIC:                             161.7\n",
            "Df Residuals:                      21   BIC:                             177.8\n",
            "Df Model:                          10                                         \n",
            "Covariance Type:            nonrobust                                         \n",
            "==============================================================================\n",
            "                 coef    std err          t      P>|t|      [0.025      0.975]\n",
            "------------------------------------------------------------------------------\n",
            "Intercept     12.3034     18.718      0.657      0.518     -26.623      51.229\n",
            "cyl           -0.1114      1.045     -0.107      0.916      -2.285       2.062\n",
            "disp           0.0133      0.018      0.747      0.463      -0.024       0.050\n",
            "hp            -0.0215      0.022     -0.987      0.335      -0.067       0.024\n",
            "drat           0.7871      1.635      0.481      0.635      -2.614       4.188\n",
            "wt            -3.7153      1.894     -1.961      0.063      -7.655       0.224\n",
            "qsec           0.8210      0.731      1.123      0.274      -0.699       2.341\n",
            "vs             0.3178      2.105      0.151      0.881      -4.059       4.694\n",
            "am             2.5202      2.057      1.225      0.234      -1.757       6.797\n",
            "gear           0.6554      1.493      0.439      0.665      -2.450       3.761\n",
            "carb          -0.1994      0.829     -0.241      0.812      -1.923       1.524\n",
            "==============================================================================\n",
            "Omnibus:                        1.907   Durbin-Watson:                   1.861\n",
            "Prob(Omnibus):                  0.385   Jarque-Bera (JB):                1.747\n",
            "Skew:                           0.521   Prob(JB):                        0.418\n",
            "Kurtosis:                       2.526   Cond. No.                     1.22e+04\n",
            "==============================================================================\n",
            "\n",
            "Warnings:\n",
            "[1] Standard Errors assume that the covariance matrix of the errors is correctly specified.\n",
            "[2] The condition number is large, 1.22e+04. This might indicate that there are\n",
            "strong multicollinearity or other numerical problems.\n"
          ],
          "name": "stdout"
        }
      ]
    },
    {
      "cell_type": "code",
      "metadata": {
        "id": "em86QMXkr3mf",
        "colab": {
          "base_uri": "https://localhost:8080/"
        },
        "outputId": "3ee19aba-e619-45a9-b571-d541640ecba2"
      },
      "source": [
        "m1fitted.f_test(\"vs = am = 0\")\n"
      ],
      "execution_count": 37,
      "outputs": [
        {
          "output_type": "execute_result",
          "data": {
            "text/plain": [
              "<class 'statsmodels.stats.contrast.ContrastResults'>\n",
              "<F test: F=array([[0.75668509]]), p=0.48158972878840506, df_denom=21, df_num=2>"
            ]
          },
          "metadata": {
            "tags": []
          },
          "execution_count": 37
        }
      ]
    },
    {
      "cell_type": "code",
      "metadata": {
        "id": "7tzW_sqtr3mg",
        "colab": {
          "base_uri": "https://localhost:8080/",
          "height": 295
        },
        "outputId": "8926330a-5f30-449a-e2f8-6ae91e08e5ae"
      },
      "source": [
        "\n",
        "f = stats.probplot(m1fitted.resid, dist=\"norm\", plot = plt)"
      ],
      "execution_count": 38,
      "outputs": [
        {
          "output_type": "display_data",
          "data": {
            "image/png": "[encoded data removed]",
            "text/plain": [
              "<Figure size 432x288 with 1 Axes>"
            ]
          },
          "metadata": {
            "tags": [],
            "needs_background": "light"
          }
        }
      ]
    },
    {
      "cell_type": "markdown",
      "metadata": {
        "id": "olac9n5or3mg"
      },
      "source": [
        "### вывод\n",
        "Тест Jarque-Bera на нормальность остатков и из визуальный анализ указывает, что гипотезу о их нормальном распределении отвергнуть нельзя.\n",
        "Следовательно, можно говорить о том, что мы можем смотеть на выводы по значимости факторов\n",
        "\n",
        "Как отдельно, так и вместе факторы типа двигателя и трансмиссии не вляют на экономичность авто, на этих данных, а влияет вес, объем и можность двигателя (воспользуемся случайным лесом ниже, чтобы вытащить относительную значимость факторов)"
      ]
    },
    {
      "cell_type": "code",
      "metadata": {
        "id": "k04l7fZsr3mh",
        "colab": {
          "base_uri": "https://localhost:8080/"
        },
        "outputId": "b2db9369-6a00-40c6-b49f-861093d31eca"
      },
      "source": [
        "regr = RandomForestRegressor( random_state=0)\n",
        "regr.fit(mtcars.loc[:, mtcars.columns != 'mpg'], mtcars.mpg)"
      ],
      "execution_count": 39,
      "outputs": [
        {
          "output_type": "execute_result",
          "data": {
            "text/plain": [
              "RandomForestRegressor(bootstrap=True, ccp_alpha=0.0, criterion='mse',\n",
              "                      max_depth=None, max_features='auto', max_leaf_nodes=None,\n",
              "                      max_samples=None, min_impurity_decrease=0.0,\n",
              "                      min_impurity_split=None, min_samples_leaf=1,\n",
              "                      min_samples_split=2, min_weight_fraction_leaf=0.0,\n",
              "                      n_estimators=100, n_jobs=None, oob_score=False,\n",
              "                      random_state=0, verbose=0, warm_start=False)"
            ]
          },
          "metadata": {
            "tags": []
          },
          "execution_count": 39
        }
      ]
    },
    {
      "cell_type": "code",
      "metadata": {
        "id": "3XTpJTymr3mh",
        "colab": {
          "base_uri": "https://localhost:8080/",
          "height": 359
        },
        "outputId": "1c7bd2a6-8039-46c3-ad67-5a39484b5a89"
      },
      "source": [
        "pd.DataFrame(zip(regr.feature_importances_, mtcars.loc[:, mtcars.columns != 'mpg'].columns)).sort_values(by=0, ascending=False)"
      ],
      "execution_count": 40,
      "outputs": [
        {
          "output_type": "execute_result",
          "data": {
            "text/html": [
              "<div>\n",
              "<style scoped>\n",
              "    .dataframe tbody tr th:only-of-type {\n",
              "        vertical-align: middle;\n",
              "    }\n",
              "\n",
              "    .dataframe tbody tr th {\n",
              "        vertical-align: top;\n",
              "    }\n",
              "\n",
              "    .dataframe thead th {\n",
              "        text-align: right;\n",
              "    }\n",
              "</style>\n",
              "<table border=\"1\" class=\"dataframe\">\n",
              "  <thead>\n",
              "    <tr style=\"text-align: right;\">\n",
              "      <th></th>\n",
              "      <th>0</th>\n",
              "      <th>1</th>\n",
              "    </tr>\n",
              "  </thead>\n",
              "  <tbody>\n",
              "    <tr>\n",
              "      <th>4</th>\n",
              "      <td>0.357574</td>\n",
              "      <td>wt</td>\n",
              "    </tr>\n",
              "    <tr>\n",
              "      <th>1</th>\n",
              "      <td>0.243211</td>\n",
              "      <td>disp</td>\n",
              "    </tr>\n",
              "    <tr>\n",
              "      <th>2</th>\n",
              "      <td>0.238488</td>\n",
              "      <td>hp</td>\n",
              "    </tr>\n",
              "    <tr>\n",
              "      <th>0</th>\n",
              "      <td>0.113643</td>\n",
              "      <td>cyl</td>\n",
              "    </tr>\n",
              "    <tr>\n",
              "      <th>3</th>\n",
              "      <td>0.021941</td>\n",
              "      <td>drat</td>\n",
              "    </tr>\n",
              "    <tr>\n",
              "      <th>5</th>\n",
              "      <td>0.017250</td>\n",
              "      <td>qsec</td>\n",
              "    </tr>\n",
              "    <tr>\n",
              "      <th>9</th>\n",
              "      <td>0.004001</td>\n",
              "      <td>carb</td>\n",
              "    </tr>\n",
              "    <tr>\n",
              "      <th>8</th>\n",
              "      <td>0.002125</td>\n",
              "      <td>gear</td>\n",
              "    </tr>\n",
              "    <tr>\n",
              "      <th>6</th>\n",
              "      <td>0.001385</td>\n",
              "      <td>vs</td>\n",
              "    </tr>\n",
              "    <tr>\n",
              "      <th>7</th>\n",
              "      <td>0.000383</td>\n",
              "      <td>am</td>\n",
              "    </tr>\n",
              "  </tbody>\n",
              "</table>\n",
              "</div>"
            ],
            "text/plain": [
              "          0     1\n",
              "4  0.357574    wt\n",
              "1  0.243211  disp\n",
              "2  0.238488    hp\n",
              "0  0.113643   cyl\n",
              "3  0.021941  drat\n",
              "5  0.017250  qsec\n",
              "9  0.004001  carb\n",
              "8  0.002125  gear\n",
              "6  0.001385    vs\n",
              "7  0.000383    am"
            ]
          },
          "metadata": {
            "tags": []
          },
          "execution_count": 40
        }
      ]
    },
    {
      "cell_type": "markdown",
      "metadata": {
        "id": "gVvn0keer3mi"
      },
      "source": [
        "## Решим задачу в ключе - какой эффект отдельно от типа двигателя и трансмиссии, без контроля остальных парамтеров.\n",
        "Сделаем t-test и непараметрические тесты"
      ]
    },
    {
      "cell_type": "code",
      "metadata": {
        "id": "3l33XINgr3mi",
        "colab": {
          "base_uri": "https://localhost:8080/",
          "height": 142
        },
        "outputId": "3c88aedc-e005-4cb6-dc22-b5039d8503d3"
      },
      "source": [
        "mtcars.groupby('vs').mean()"
      ],
      "execution_count": 41,
      "outputs": [
        {
          "output_type": "execute_result",
          "data": {
            "text/html": [
              "<div>\n",
              "<style scoped>\n",
              "    .dataframe tbody tr th:only-of-type {\n",
              "        vertical-align: middle;\n",
              "    }\n",
              "\n",
              "    .dataframe tbody tr th {\n",
              "        vertical-align: top;\n",
              "    }\n",
              "\n",
              "    .dataframe thead th {\n",
              "        text-align: right;\n",
              "    }\n",
              "</style>\n",
              "<table border=\"1\" class=\"dataframe\">\n",
              "  <thead>\n",
              "    <tr style=\"text-align: right;\">\n",
              "      <th></th>\n",
              "      <th>mpg</th>\n",
              "      <th>cyl</th>\n",
              "      <th>disp</th>\n",
              "      <th>hp</th>\n",
              "      <th>drat</th>\n",
              "      <th>wt</th>\n",
              "      <th>qsec</th>\n",
              "      <th>am</th>\n",
              "      <th>gear</th>\n",
              "      <th>carb</th>\n",
              "    </tr>\n",
              "    <tr>\n",
              "      <th>vs</th>\n",
              "      <th></th>\n",
              "      <th></th>\n",
              "      <th></th>\n",
              "      <th></th>\n",
              "      <th></th>\n",
              "      <th></th>\n",
              "      <th></th>\n",
              "      <th></th>\n",
              "      <th></th>\n",
              "      <th></th>\n",
              "    </tr>\n",
              "  </thead>\n",
              "  <tbody>\n",
              "    <tr>\n",
              "      <th>0</th>\n",
              "      <td>16.616667</td>\n",
              "      <td>7.444444</td>\n",
              "      <td>307.150000</td>\n",
              "      <td>189.722222</td>\n",
              "      <td>3.392222</td>\n",
              "      <td>3.688556</td>\n",
              "      <td>16.693889</td>\n",
              "      <td>0.333333</td>\n",
              "      <td>3.555556</td>\n",
              "      <td>3.611111</td>\n",
              "    </tr>\n",
              "    <tr>\n",
              "      <th>1</th>\n",
              "      <td>24.557143</td>\n",
              "      <td>4.571429</td>\n",
              "      <td>132.457143</td>\n",
              "      <td>91.357143</td>\n",
              "      <td>3.859286</td>\n",
              "      <td>2.611286</td>\n",
              "      <td>19.333571</td>\n",
              "      <td>0.500000</td>\n",
              "      <td>3.857143</td>\n",
              "      <td>1.785714</td>\n",
              "    </tr>\n",
              "  </tbody>\n",
              "</table>\n",
              "</div>"
            ],
            "text/plain": [
              "          mpg       cyl        disp  ...        am      gear      carb\n",
              "vs                                   ...                              \n",
              "0   16.616667  7.444444  307.150000  ...  0.333333  3.555556  3.611111\n",
              "1   24.557143  4.571429  132.457143  ...  0.500000  3.857143  1.785714\n",
              "\n",
              "[2 rows x 10 columns]"
            ]
          },
          "metadata": {
            "tags": []
          },
          "execution_count": 41
        }
      ]
    },
    {
      "cell_type": "code",
      "metadata": {
        "id": "no4Ibew_r3mi",
        "colab": {
          "base_uri": "https://localhost:8080/",
          "height": 295
        },
        "outputId": "0fa68286-657a-4283-ddab-4f6a05783473"
      },
      "source": [
        "fig, ax = plt.subplots()\n",
        "ax.hist(mtcars[mtcars.vs == 1].mpg, label='рядный', alpha = 0.7)\n",
        "ax.hist(mtcars[mtcars.vs == 0].mpg, label='в образный', alpha = 0.7)\n",
        "\n",
        "ax.legend()\n",
        "\n",
        "\n",
        "ax.set_xlabel('values')\n",
        "ax.set_ylabel('counts')\n",
        "ax.set_title('гистограмма двух групп')\n",
        "plt.show()"
      ],
      "execution_count": 42,
      "outputs": [
        {
          "output_type": "display_data",
          "data": {
            "image/png": "[encoded data removed]",
            "text/plain": [
              "<Figure size 432x288 with 1 Axes>"
            ]
          },
          "metadata": {
            "tags": [],
            "needs_background": "light"
          }
        }
      ]
    },
    {
      "cell_type": "markdown",
      "metadata": {
        "id": "WRaoxwbnr3mj"
      },
      "source": [
        "Ожидаем, что разница будет"
      ]
    },
    {
      "cell_type": "code",
      "metadata": {
        "id": "IOeiuZ2br3mj",
        "colab": {
          "base_uri": "https://localhost:8080/"
        },
        "outputId": "be4f2eb9-f720-460b-d487-a5c64456b981"
      },
      "source": [
        "stats.ttest_ind(mtcars[mtcars.vs == 0].mpg, mtcars[mtcars.vs != 0].mpg)"
      ],
      "execution_count": 43,
      "outputs": [
        {
          "output_type": "execute_result",
          "data": {
            "text/plain": [
              "Ttest_indResult(statistic=-4.864384956122782, pvalue=3.415937254419951e-05)"
            ]
          },
          "metadata": {
            "tags": []
          },
          "execution_count": 43
        }
      ]
    },
    {
      "cell_type": "code",
      "metadata": {
        "id": "IJiop_bVr3mj",
        "colab": {
          "base_uri": "https://localhost:8080/"
        },
        "outputId": "35fe9751-37ee-47d1-a76e-4080d101a1f0"
      },
      "source": [
        "stats.ks_2samp(mtcars[mtcars.vs == 0].mpg, mtcars[mtcars.vs != 0].mpg)\n"
      ],
      "execution_count": 44,
      "outputs": [
        {
          "output_type": "execute_result",
          "data": {
            "text/plain": [
              "Ks_2sampResult(statistic=0.7301587301587301, pvalue=0.0001328071108759321)"
            ]
          },
          "metadata": {
            "tags": []
          },
          "execution_count": 44
        }
      ]
    },
    {
      "cell_type": "code",
      "metadata": {
        "id": "FjgVjtcvr3mj",
        "colab": {
          "base_uri": "https://localhost:8080/"
        },
        "outputId": "30bd4883-3015-4df1-8719-948131d38d74"
      },
      "source": [
        "stats.mannwhitneyu(mtcars[mtcars.vs == 0].mpg, mtcars[mtcars.vs != 0].mpg)"
      ],
      "execution_count": 45,
      "outputs": [
        {
          "output_type": "execute_result",
          "data": {
            "text/plain": [
              "MannwhitneyuResult(statistic=22.5, pvalue=4.517235850026591e-05)"
            ]
          },
          "metadata": {
            "tags": []
          },
          "execution_count": 45
        }
      ]
    },
    {
      "cell_type": "markdown",
      "metadata": {
        "id": "TLpbHZB_r3mk"
      },
      "source": [
        "По всем тестам, мы можем отвергнуть гипотезу о равенстве расхода на 1% уровне значимости. Так как расход в американских милях на галлон - чем выше число, тем экономичнее машина.\n",
        "\n",
        "У машин с рядными двигателями получается, что экономичность выше."
      ]
    },
    {
      "cell_type": "markdown",
      "metadata": {
        "id": "dt6QHPBjr3mk"
      },
      "source": [
        "#### для коробок передач"
      ]
    },
    {
      "cell_type": "code",
      "metadata": {
        "id": "qLcHh34zr3mk",
        "colab": {
          "base_uri": "https://localhost:8080/",
          "height": 295
        },
        "outputId": "e383078f-1251-44d4-80c5-c832d9782491"
      },
      "source": [
        "fig, ax = plt.subplots()\n",
        "ax.hist(mtcars[mtcars.am == 1].mpg, label='ручная коробка', alpha = 0.7)\n",
        "ax.hist(mtcars[mtcars.am == 0].mpg, label='автомат', alpha = 0.7)\n",
        "\n",
        "ax.legend()\n",
        "\n",
        "\n",
        "ax.set_xlabel('values')\n",
        "ax.set_ylabel('counts')\n",
        "ax.set_title('гистограмма двух групп')\n",
        "plt.show()"
      ],
      "execution_count": 46,
      "outputs": [
        {
          "output_type": "display_data",
          "data": {
            "image/png": "[encoded data removed]",
            "text/plain": [
              "<Figure size 432x288 with 1 Axes>"
            ]
          },
          "metadata": {
            "tags": [],
            "needs_background": "light"
          }
        }
      ]
    },
    {
      "cell_type": "code",
      "metadata": {
        "id": "vRFmE7jRr3ml",
        "colab": {
          "base_uri": "https://localhost:8080/"
        },
        "outputId": "dfea9256-921d-47fc-d228-82386d362bd5"
      },
      "source": [
        "stats.ttest_ind(mtcars[mtcars.am == 0].mpg, mtcars[mtcars.am != 0].mpg)\n"
      ],
      "execution_count": 47,
      "outputs": [
        {
          "output_type": "execute_result",
          "data": {
            "text/plain": [
              "Ttest_indResult(statistic=-4.106126983100689, pvalue=0.0002850207439350686)"
            ]
          },
          "metadata": {
            "tags": []
          },
          "execution_count": 47
        }
      ]
    },
    {
      "cell_type": "code",
      "metadata": {
        "id": "vPoHajszr3ml",
        "colab": {
          "base_uri": "https://localhost:8080/"
        },
        "outputId": "5c36d04b-1101-4cd9-c559-bed4513ba395"
      },
      "source": [
        "stats.ks_2samp(mtcars[mtcars.am == 0].mpg, mtcars[mtcars.am != 0].mpg)\n"
      ],
      "execution_count": 48,
      "outputs": [
        {
          "output_type": "execute_result",
          "data": {
            "text/plain": [
              "Ks_2sampResult(statistic=0.6356275303643725, pvalue=0.001940124407842636)"
            ]
          },
          "metadata": {
            "tags": []
          },
          "execution_count": 48
        }
      ]
    },
    {
      "cell_type": "code",
      "metadata": {
        "id": "nJafYw7ir3ml",
        "colab": {
          "base_uri": "https://localhost:8080/"
        },
        "outputId": "81003e31-6a97-45d2-c145-11f50d4d4bc4"
      },
      "source": [
        "stats.mannwhitneyu(mtcars[mtcars.am == 0].mpg, mtcars[mtcars.am != 0].mpg)\n"
      ],
      "execution_count": 49,
      "outputs": [
        {
          "output_type": "execute_result",
          "data": {
            "text/plain": [
              "MannwhitneyuResult(statistic=42.0, pvalue=0.0009356956665892771)"
            ]
          },
          "metadata": {
            "tags": []
          },
          "execution_count": 49
        }
      ]
    },
    {
      "cell_type": "markdown",
      "metadata": {
        "id": "e_vjE4Z_r3ml"
      },
      "source": [
        "# выводы\n",
        "* Отдельно рассматривая, мы нашли значимую разницу - машины с рядным двигателем и машины с ручной коробкой экономичнее.\n",
        "* Однако, принимая все переменные во внимание, видно что тип двигателя и коробки стоят на последнем  и предпоследнем месте по значимости влияния на расход топлива.\n",
        "* Сильнее всего влияют вес, мощность и объем двигателя, а рядные двигатели и ручные коробки передач встречались в наших данных у легких и маломощных автомобилей в среднем."
      ]
    }
  ]
}