{
 "cells": [
  {
   "cell_type": "markdown",
   "source": [
    "# Выполнил Кирилл Сетдеков"
   ],
   "metadata": {}
  },
  {
   "cell_type": "code",
   "execution_count": 1,
   "source": [
    "import numpy as np\r\n",
    "import pandas as pd\r\n",
    "import scipy\r\n",
    "from scipy import stats\r\n",
    "from statsmodels.stats.weightstats import *\r\n",
    "import matplotlib.pyplot as plt\r\n",
    "from statsmodels.stats.descriptivestats import sign_test\r\n",
    "\r\n",
    "import statsmodels.formula.api as smf\r\n",
    "from sklearn.impute import SimpleImputer\r\n",
    "import seaborn as sns\r\n",
    "from sklearn.preprocessing import PowerTransformer\r\n",
    "\r\n",
    "\r\n",
    "import statsmodels.api as sm\r\n",
    "import warnings\r\n",
    "import matplotlib\r\n",
    "import matplotlib.dates as mdates\r\n",
    "from pandas.plotting import lag_plot"
   ],
   "outputs": [],
   "metadata": {}
  },
  {
   "cell_type": "code",
   "execution_count": 29,
   "source": [
    "%matplotlib widget"
   ],
   "outputs": [],
   "metadata": {}
  },
  {
   "cell_type": "markdown",
   "source": [
    "#  Задание 1"
   ],
   "metadata": {}
  },
  {
   "cell_type": "markdown",
   "source": [
    "1. Автокорреляционная функция и частная автокорреляционная функция.\r\n",
    "\r\n",
    "    * Автокорреляционная функция - функция, которая для каждого значения лага выдает коэффициент корреляции между временным рядом и временным рядом с эти лагом.\r\n",
    "    * Частная автокорреляционная функция - функция, которая для каждого лага k выдает автокорреляцию между исходным рядом $z_{t}$, очиценным от линейной связи со всеми предшествующими лагами от $z_{t+1}$ до $z_{t+k-1}$ и рядом  $z_{{t+k}}$. \r\n",
    "\r\n",
    "2. Какой временной ряд называется стационарным? Может ли временной ряд с трендом быть стационарным? А с циклом?\r\n",
    "\r\n",
    "    * Стационарный ряд - такой ряд, у которого вероятностные характеристики не меняются во времени.\r\n",
    "\r\n",
    "    * Если говорим про тренд - мы будем ожидать, что такой ряд интегрированный порядка 1, и сам не стационарный. Но ряд из растностей может быть стационарным, а может и не быть.\r\n",
    "\r\n",
    "    * Если мы говорим про циклы, имеющие некий фиксированный период (сезонность), то такой ряд не стационарный, если длина цикла случайна, то такой ряд может быть стационарным.\r\n",
    "  \r\n",
    "\r\n",
    "3. Какую гипотезу проверяет тест Дики-Фуллера.\r\n",
    "\r\n",
    "    * Тесть проверяет гипотезу о стационарности ряда и $H_0$ - ряд не стационарный, то есть когда мы отвергаем гипотезу, мы узнаем, что ряд стационарный.\r\n",
    "\r\n",
    "4. Какой временной рядм можно описать хорошо с помощью модели ARMA?\r\n",
    "\r\n",
    "    * Под эту модель подходят хорошо ряды со следующими свойствами:\r\n",
    "\r\n",
    "        * Ряд стационарный.\r\n",
    "        * Нет внешних переменных, которые влияют на значения ряда (сходу без модификации в эту модель не добавить регрессую от других рядов).\r\n",
    "        * Есть зависимость от значений переменной в прошлом и от остатков на прошлых шагах.\r\n",
    "\r\n",
    "5. На что нужно обращать внимание при анализе остатков модели\r\n",
    "\r\n",
    "    * Проверять соответствие их распределения нормальному.\r\n",
    "    * Тестировать их на стационарность.\r\n",
    "    * Обращать внимание на наличие периодичности и/или гетероскедастичности.\r\n",
    "\r\n"
   ],
   "metadata": {}
  },
  {
   "cell_type": "markdown",
   "source": [
    "# Задание 2\r\n",
    "Шампунь, продажи за 3 года. Подобрать модель SARIMA и сделать прогноз на 3 месяца вперед."
   ],
   "metadata": {}
  },
  {
   "cell_type": "code",
   "execution_count": 30,
   "source": [
    "shampoo = pd.read_csv('data/shampoo.csv')\r\n"
   ],
   "outputs": [],
   "metadata": {}
  },
  {
   "cell_type": "code",
   "execution_count": 31,
   "source": [
    "shampoo[\"Month\"] = pd.to_datetime('0'+shampoo.Month, format='%y-%m')\r\n",
    "shampoo = shampoo.set_index(\"Month\")\r\n",
    "shampoo.head()"
   ],
   "outputs": [
    {
     "output_type": "execute_result",
     "data": {
      "text/plain": [
       "            Sales\n",
       "Month            \n",
       "2001-01-01  266.0\n",
       "2001-02-01  145.9\n",
       "2001-03-01  183.1\n",
       "2001-04-01  119.3\n",
       "2001-05-01  180.3"
      ],
      "text/html": [
       "<div>\n",
       "<style scoped>\n",
       "    .dataframe tbody tr th:only-of-type {\n",
       "        vertical-align: middle;\n",
       "    }\n",
       "\n",
       "    .dataframe tbody tr th {\n",
       "        vertical-align: top;\n",
       "    }\n",
       "\n",
       "    .dataframe thead th {\n",
       "        text-align: right;\n",
       "    }\n",
       "</style>\n",
       "<table border=\"1\" class=\"dataframe\">\n",
       "  <thead>\n",
       "    <tr style=\"text-align: right;\">\n",
       "      <th></th>\n",
       "      <th>Sales</th>\n",
       "    </tr>\n",
       "    <tr>\n",
       "      <th>Month</th>\n",
       "      <th></th>\n",
       "    </tr>\n",
       "  </thead>\n",
       "  <tbody>\n",
       "    <tr>\n",
       "      <th>2001-01-01</th>\n",
       "      <td>266.0</td>\n",
       "    </tr>\n",
       "    <tr>\n",
       "      <th>2001-02-01</th>\n",
       "      <td>145.9</td>\n",
       "    </tr>\n",
       "    <tr>\n",
       "      <th>2001-03-01</th>\n",
       "      <td>183.1</td>\n",
       "    </tr>\n",
       "    <tr>\n",
       "      <th>2001-04-01</th>\n",
       "      <td>119.3</td>\n",
       "    </tr>\n",
       "    <tr>\n",
       "      <th>2001-05-01</th>\n",
       "      <td>180.3</td>\n",
       "    </tr>\n",
       "  </tbody>\n",
       "</table>\n",
       "</div>"
      ]
     },
     "metadata": {},
     "execution_count": 31
    }
   ],
   "metadata": {}
  },
  {
   "cell_type": "code",
   "execution_count": 32,
   "source": [
    "decompostition = sm.tsa.seasonal_decompose(shampoo, model= 'additive')\r\n",
    "fig = decompostition.plot()\r\n"
   ],
   "outputs": [
    {
     "output_type": "display_data",
     "data": {
      "text/plain": [
       "Canvas(toolbar=Toolbar(toolitems=[('Home', 'Reset original view', 'home', 'home'), ('Back', 'Back to previous …"
      ],
      "application/vnd.jupyter.widget-view+json": {
       "version_major": 2,
       "version_minor": 0,
       "model_id": "9b53280b9f394f28869be9ccb40d65ff"
      }
     },
     "metadata": {}
    }
   ],
   "metadata": {}
  },
  {
   "cell_type": "code",
   "execution_count": 33,
   "source": [
    "plt.figure()\r\n",
    "lag_plot(shampoo)\r\n",
    "plt.show()"
   ],
   "outputs": [
    {
     "output_type": "display_data",
     "data": {
      "text/plain": [
       "Canvas(toolbar=Toolbar(toolitems=[('Home', 'Reset original view', 'home', 'home'), ('Back', 'Back to previous …"
      ],
      "application/vnd.jupyter.widget-view+json": {
       "version_major": 2,
       "version_minor": 0,
       "model_id": "4c938dd7fe8e407cbe3dfbe8d6b283f0"
      }
     },
     "metadata": {}
    }
   ],
   "metadata": {}
  },
  {
   "cell_type": "markdown",
   "source": [
    "Видим, что есть тренд, и сезонность, ожидание, что ряд не стационарный и что есть автокорреляция. Проверим:"
   ],
   "metadata": {}
  },
  {
   "cell_type": "code",
   "execution_count": 34,
   "source": [
    "from statsmodels.tsa.stattools import adfuller\r\n",
    "\r\n",
    "\r\n",
    "def adf_test(timeseries):\r\n",
    "    print(\"Results of Dickey-Fuller Test:\")\r\n",
    "    dftest = adfuller(timeseries, autolag=\"AIC\")\r\n",
    "    dfoutput = pd.Series(\r\n",
    "        dftest[0:4],\r\n",
    "        index=[\r\n",
    "            \"Test Statistic\",\r\n",
    "            \"p-value\",\r\n",
    "            \"#Lags Used\",\r\n",
    "            \"Number of Observations Used\",\r\n",
    "        ],\r\n",
    "    )\r\n",
    "    for key, value in dftest[4].items():\r\n",
    "        dfoutput[\"Critical Value (%s)\" % key] = value\r\n",
    "    print(dfoutput)"
   ],
   "outputs": [],
   "metadata": {}
  },
  {
   "cell_type": "code",
   "execution_count": 35,
   "source": [
    "print(\"Критерий Дики-Фуллера для начального ряда: pvalue =\",sm.tsa.stattools.adfuller(shampoo.Sales)[1])"
   ],
   "outputs": [
    {
     "output_type": "stream",
     "name": "stdout",
     "text": [
      "Критерий Дики-Фуллера для начального ряда: pvalue = 1.0\n"
     ]
    }
   ],
   "metadata": {}
  },
  {
   "cell_type": "code",
   "execution_count": 36,
   "source": [
    "adf_test(shampoo)"
   ],
   "outputs": [
    {
     "output_type": "stream",
     "name": "stdout",
     "text": [
      "Results of Dickey-Fuller Test:\n",
      "Test Statistic                  3.060142\n",
      "p-value                         1.000000\n",
      "#Lags Used                     10.000000\n",
      "Number of Observations Used    25.000000\n",
      "Critical Value (1%)            -3.723863\n",
      "Critical Value (5%)            -2.986489\n",
      "Critical Value (10%)           -2.632800\n",
      "dtype: float64\n"
     ]
    }
   ],
   "metadata": {}
  },
  {
   "cell_type": "markdown",
   "source": [
    "Такой ряд не стационарный - перейдем к разностям:"
   ],
   "metadata": {}
  },
  {
   "cell_type": "code",
   "execution_count": 37,
   "source": [
    "shampoo['sales_boxcox'], lmbd = stats.boxcox(shampoo['Sales'])\r\n",
    "shampoo['sales_boxcox_diff'] = shampoo.sales_boxcox - shampoo.sales_boxcox.shift(1)\r\n",
    "sm.tsa.seasonal_decompose(shampoo.sales_boxcox_diff[1:]).plot()\r\n",
    "plt.show()"
   ],
   "outputs": [
    {
     "output_type": "display_data",
     "data": {
      "text/plain": [
       "Canvas(toolbar=Toolbar(toolitems=[('Home', 'Reset original view', 'home', 'home'), ('Back', 'Back to previous …"
      ],
      "application/vnd.jupyter.widget-view+json": {
       "version_major": 2,
       "version_minor": 0,
       "model_id": "34f5e18076e545eab484b080f117e164"
      }
     },
     "metadata": {}
    }
   ],
   "metadata": {}
  },
  {
   "cell_type": "code",
   "execution_count": 38,
   "source": [
    "adf_test(shampoo.sales_boxcox_diff[1:])"
   ],
   "outputs": [
    {
     "output_type": "stream",
     "name": "stdout",
     "text": [
      "Results of Dickey-Fuller Test:\n",
      "Test Statistic                 -3.971330\n",
      "p-value                         0.001568\n",
      "#Lags Used                      9.000000\n",
      "Number of Observations Used    25.000000\n",
      "Critical Value (1%)            -3.723863\n",
      "Critical Value (5%)            -2.986489\n",
      "Critical Value (10%)           -2.632800\n",
      "dtype: float64\n"
     ]
    }
   ],
   "metadata": {}
  },
  {
   "cell_type": "code",
   "execution_count": 39,
   "source": [
    "shampoo['sales_diff'] = shampoo.Sales - shampoo.Sales.shift(1)\r\n",
    "sm.tsa.seasonal_decompose(shampoo.sales_diff[1:]).plot()\r\n",
    "plt.show()"
   ],
   "outputs": [
    {
     "output_type": "display_data",
     "data": {
      "text/plain": [
       "Canvas(toolbar=Toolbar(toolitems=[('Home', 'Reset original view', 'home', 'home'), ('Back', 'Back to previous …"
      ],
      "application/vnd.jupyter.widget-view+json": {
       "version_major": 2,
       "version_minor": 0,
       "model_id": "e46c51e335a04e598532d2d03a3b3670"
      }
     },
     "metadata": {}
    }
   ],
   "metadata": {}
  },
  {
   "cell_type": "code",
   "execution_count": 40,
   "source": [
    "adf_test(shampoo.sales_diff[1:])"
   ],
   "outputs": [
    {
     "output_type": "stream",
     "name": "stdout",
     "text": [
      "Results of Dickey-Fuller Test:\n",
      "Test Statistic                -7.249074e+00\n",
      "p-value                        1.799857e-10\n",
      "#Lags Used                     1.000000e+00\n",
      "Number of Observations Used    3.300000e+01\n",
      "Critical Value (1%)           -3.646135e+00\n",
      "Critical Value (5%)           -2.954127e+00\n",
      "Critical Value (10%)          -2.615968e+00\n",
      "dtype: float64\n"
     ]
    }
   ],
   "metadata": {}
  },
  {
   "cell_type": "markdown",
   "source": [
    "без преобразования Бокса-Кокса, мы получаем более низкое p-value для теста Дики-Фулера, поэтому возьмем только разницы, а чтобы брать дельты дополнительные, уже нет данных"
   ],
   "metadata": {}
  },
  {
   "cell_type": "markdown",
   "source": [
    "посмотрим на автокорреляционные и частные автокорреляционные графики"
   ],
   "metadata": {}
  },
  {
   "cell_type": "code",
   "execution_count": 41,
   "source": [
    "fig, (ax1, ax2) = plt.subplots(nrows=2,figsize=(15,8)) \r\n",
    "\r\n",
    "sm.graphics.tsa.plot_acf(shampoo.sales_diff[1:].values.squeeze(), lags=15, ax=ax1)\r\n",
    "sm.graphics.tsa.plot_pacf(shampoo.sales_diff[1:].values.squeeze(), lags=15, ax=ax2)\r\n",
    "\r\n",
    "plt.show()"
   ],
   "outputs": [
    {
     "output_type": "display_data",
     "data": {
      "text/plain": [
       "Canvas(toolbar=Toolbar(toolitems=[('Home', 'Reset original view', 'home', 'home'), ('Back', 'Back to previous …"
      ],
      "application/vnd.jupyter.widget-view+json": {
       "version_major": 2,
       "version_minor": 0,
       "model_id": "78362f3047e14e4c86eea01744311baa"
      }
     },
     "metadata": {}
    }
   ],
   "metadata": {}
  },
  {
   "cell_type": "markdown",
   "source": [
    "Согласно этим графикам, в качестве начальных значений необходимо взять: $Q=1$, $q=1$, $P=1$, $p=1$."
   ],
   "metadata": {}
  },
  {
   "cell_type": "code",
   "execution_count": 42,
   "source": [
    "from itertools import product # произведения множеств\r\n",
    "\r\n",
    "# создадим список из значений параметров для перебора моделей\r\n",
    "\r\n",
    "\r\n",
    "d = 1\r\n",
    "D = range(0, 2)\r\n",
    "ps = range(0, 2)\r\n",
    "qs = range(0, 2)\r\n",
    "Ps = range(0, 2)\r\n",
    "Qs = range(0, 2)\r\n",
    "trend = ['n', 'c', 't', 'ct']\r\n",
    "\r\n",
    "parameters = product(ps ,qs, Ps, Qs, D, trend)\r\n",
    "parameters_list = list(parameters)"
   ],
   "outputs": [],
   "metadata": {}
  },
  {
   "cell_type": "code",
   "execution_count": 43,
   "source": [
    "from tqdm.notebook import tqdm\r\n"
   ],
   "outputs": [],
   "metadata": {}
  },
  {
   "cell_type": "code",
   "execution_count": 44,
   "source": [
    "results = [] # здесь будем хранить результаты\r\n",
    "warnings.filterwarnings('ignore') # не для всех параметров модели будут обучаться; отключим предупреждения\r\n",
    "\r\n",
    "for param in tqdm(parameters_list):\r\n",
    "    #try-except нужен, чтобы обработать случаи, когда модель не обучается\r\n",
    "    try:\r\n",
    "        model=sm.tsa.statespace.SARIMAX(shampoo.Sales, order=(param[0], d, param[1]), \r\n",
    "                                        seasonal_order=(param[2], param[4], param[3], 12), trend=param[5]).fit(disp=-1)\r\n",
    "    \r\n",
    "    #выводим параметры, на которых модель не обучается и переходим к следующему набору\r\n",
    "    except ValueError:\r\n",
    "        print('Wrong parameters:', param)\r\n",
    "        continue\r\n",
    "    \r\n",
    "    results.append([param, model.aic])\r\n",
    "# преобразуем результаты в DataFrame и добавим названия столбцов\r\n",
    "\r\n",
    "result_table = pd.DataFrame(results)\r\n",
    "result_table.columns = ['Parameters', 'AIC']"
   ],
   "outputs": [
    {
     "output_type": "display_data",
     "data": {
      "text/plain": [
       "  0%|          | 0/128 [00:00<?, ?it/s]"
      ],
      "application/vnd.jupyter.widget-view+json": {
       "version_major": 2,
       "version_minor": 0,
       "model_id": "7a5760e957f24f3eb4a4f6cb221a9106"
      }
     },
     "metadata": {}
    }
   ],
   "metadata": {}
  },
  {
   "cell_type": "code",
   "execution_count": 45,
   "source": [
    "result_table.sort_values(by = 'AIC', ascending=True).head()"
   ],
   "outputs": [
    {
     "output_type": "execute_result",
     "data": {
      "text/plain": [
       "              Parameters         AIC\n",
       "117   (1, 1, 1, 0, 1, c)  275.535467\n",
       "109   (1, 1, 0, 1, 1, c)  275.935619\n",
       "118   (1, 1, 1, 0, 1, t)  276.586929\n",
       "119  (1, 1, 1, 0, 1, ct)  277.122648\n",
       "125   (1, 1, 1, 1, 1, c)  277.258594"
      ],
      "text/html": [
       "<div>\n",
       "<style scoped>\n",
       "    .dataframe tbody tr th:only-of-type {\n",
       "        vertical-align: middle;\n",
       "    }\n",
       "\n",
       "    .dataframe tbody tr th {\n",
       "        vertical-align: top;\n",
       "    }\n",
       "\n",
       "    .dataframe thead th {\n",
       "        text-align: right;\n",
       "    }\n",
       "</style>\n",
       "<table border=\"1\" class=\"dataframe\">\n",
       "  <thead>\n",
       "    <tr style=\"text-align: right;\">\n",
       "      <th></th>\n",
       "      <th>Parameters</th>\n",
       "      <th>AIC</th>\n",
       "    </tr>\n",
       "  </thead>\n",
       "  <tbody>\n",
       "    <tr>\n",
       "      <th>117</th>\n",
       "      <td>(1, 1, 1, 0, 1, c)</td>\n",
       "      <td>275.535467</td>\n",
       "    </tr>\n",
       "    <tr>\n",
       "      <th>109</th>\n",
       "      <td>(1, 1, 0, 1, 1, c)</td>\n",
       "      <td>275.935619</td>\n",
       "    </tr>\n",
       "    <tr>\n",
       "      <th>118</th>\n",
       "      <td>(1, 1, 1, 0, 1, t)</td>\n",
       "      <td>276.586929</td>\n",
       "    </tr>\n",
       "    <tr>\n",
       "      <th>119</th>\n",
       "      <td>(1, 1, 1, 0, 1, ct)</td>\n",
       "      <td>277.122648</td>\n",
       "    </tr>\n",
       "    <tr>\n",
       "      <th>125</th>\n",
       "      <td>(1, 1, 1, 1, 1, c)</td>\n",
       "      <td>277.258594</td>\n",
       "    </tr>\n",
       "  </tbody>\n",
       "</table>\n",
       "</div>"
      ]
     },
     "metadata": {},
     "execution_count": 45
    }
   ],
   "metadata": {}
  },
  {
   "cell_type": "markdown",
   "source": [
    "Лучшей моделью получилась SARIMA (1,1,1)x(1,0,1)."
   ],
   "metadata": {}
  },
  {
   "cell_type": "code",
   "execution_count": 46,
   "source": [
    "best_model=sm.tsa.statespace.SARIMAX(shampoo.Sales, order=(1,1,1), trend='c', seasonal_order=(1,1,0,12)).fit(disp=-1)\r\n",
    "print(best_model.summary())"
   ],
   "outputs": [
    {
     "output_type": "stream",
     "name": "stdout",
     "text": [
      "                                      SARIMAX Results                                      \n",
      "===========================================================================================\n",
      "Dep. Variable:                               Sales   No. Observations:                   36\n",
      "Model:             SARIMAX(1, 1, 1)x(1, 1, [], 12)   Log Likelihood                -132.768\n",
      "Date:                             Thu, 05 Aug 2021   AIC                            275.535\n",
      "Time:                                     23:43:47   BIC                            281.213\n",
      "Sample:                                 01-01-2001   HQIC                           276.963\n",
      "                                      - 12-01-2003                                         \n",
      "Covariance Type:                               opg                                         \n",
      "==============================================================================\n",
      "                 coef    std err          z      P>|z|      [0.025      0.975]\n",
      "------------------------------------------------------------------------------\n",
      "intercept     27.5420      4.660      5.910      0.000      18.408      36.676\n",
      "ar.L1         -0.6273      0.283     -2.218      0.027      -1.182      -0.073\n",
      "ma.L1         -0.9959     18.606     -0.054      0.957     -37.462      35.471\n",
      "ar.S.L12      -0.5847      0.433     -1.352      0.177      -1.433       0.263\n",
      "sigma2      3987.7949   7.32e+04      0.054      0.957    -1.4e+05    1.48e+05\n",
      "===================================================================================\n",
      "Ljung-Box (L1) (Q):                   0.96   Jarque-Bera (JB):                 0.51\n",
      "Prob(Q):                              0.33   Prob(JB):                         0.78\n",
      "Heteroskedasticity (H):               1.60   Skew:                             0.36\n",
      "Prob(H) (two-sided):                  0.52   Kurtosis:                         2.97\n",
      "===================================================================================\n",
      "\n",
      "Warnings:\n",
      "[1] Covariance matrix calculated using the outer product of gradients (complex-step).\n"
     ]
    }
   ],
   "metadata": {}
  },
  {
   "cell_type": "markdown",
   "source": [
    "Посмотрим на остатки"
   ],
   "metadata": {}
  },
  {
   "cell_type": "code",
   "execution_count": 47,
   "source": [
    "best_model.resid[13:].plot()\r\n",
    "plt.ylabel('Residuals')\r\n",
    "plt.show()"
   ],
   "outputs": [],
   "metadata": {}
  },
  {
   "cell_type": "markdown",
   "source": [
    "**Несмещенность.** Проверим несмещенность с помощью критерия знаков (самый универсальный критерий)."
   ],
   "metadata": {}
  },
  {
   "cell_type": "code",
   "execution_count": 48,
   "source": [
    "from statsmodels.stats.descriptivestats import sign_test\r\n",
    "print(\"Критерий знаков для остатков: pvalue =\",sign_test(best_model.resid[13:])[1])"
   ],
   "outputs": [
    {
     "output_type": "stream",
     "name": "stdout",
     "text": [
      "Критерий знаков для остатков: pvalue = 0.21003961563110352\n"
     ]
    }
   ],
   "metadata": {}
  },
  {
   "cell_type": "markdown",
   "source": [
    "**Стационарность.** Проверим стационарность с помщью критерия Дики-Фуллера."
   ],
   "metadata": {}
  },
  {
   "cell_type": "code",
   "execution_count": 49,
   "source": [
    "print(\"Критерий Дики-Фуллера для остатков: pvalue =\",sm.tsa.stattools.adfuller(best_model.resid[13:])[1])"
   ],
   "outputs": [
    {
     "output_type": "stream",
     "name": "stdout",
     "text": [
      "Критерий Дики-Фуллера для остатков: pvalue = 0.000610127398725332\n"
     ]
    }
   ],
   "metadata": {}
  },
  {
   "cell_type": "markdown",
   "source": [
    "**Неавтокоррелированность.** Чтобы определить независимость остаткок, посмотрим на график автокорреляционной функции."
   ],
   "metadata": {}
  },
  {
   "cell_type": "code",
   "execution_count": 50,
   "source": [
    "sm.graphics.tsa.plot_acf(best_model.resid[13:].values.squeeze(), lags=15)\r\n",
    "plt.show()"
   ],
   "outputs": [
    {
     "output_type": "display_data",
     "data": {
      "text/plain": [
       "Canvas(toolbar=Toolbar(toolitems=[('Home', 'Reset original view', 'home', 'home'), ('Back', 'Back to previous …"
      ],
      "application/vnd.jupyter.widget-view+json": {
       "version_major": 2,
       "version_minor": 0,
       "model_id": "a79c7d5ec27346f7830272d3ce733034"
      }
     },
     "metadata": {}
    }
   ],
   "metadata": {}
  },
  {
   "cell_type": "markdown",
   "source": [
    "Еще и по Jarque-Bera не отвергается гипотеза о нормальности"
   ],
   "metadata": {}
  },
  {
   "cell_type": "code",
   "execution_count": 51,
   "source": [
    "figure = best_model.plot_diagnostics()"
   ],
   "outputs": [
    {
     "output_type": "display_data",
     "data": {
      "text/plain": [
       "Canvas(toolbar=Toolbar(toolitems=[('Home', 'Reset original view', 'home', 'home'), ('Back', 'Back to previous …"
      ],
      "application/vnd.jupyter.widget-view+json": {
       "version_major": 2,
       "version_minor": 0,
       "model_id": "1e41dec54d4e4f3badca63d094d38e35"
      }
     },
     "metadata": {}
    }
   ],
   "metadata": {}
  },
  {
   "cell_type": "code",
   "execution_count": 52,
   "source": [
    "shampoo['model'] = best_model.fittedvalues"
   ],
   "outputs": [],
   "metadata": {}
  },
  {
   "cell_type": "code",
   "execution_count": 53,
   "source": [
    "fig, ax = plt.subplots()\r\n",
    "ax.plot(shampoo.Sales, label='actual')\r\n",
    "ax.plot(shampoo.model, color='r', label='prediction')\r\n",
    "ax.plot(best_model.get_forecast(12).predicted_mean, label='forecast')\r\n",
    "ax.plot(best_model.get_forecast(12).conf_int()['lower Sales'], label='lower_conf', color = 'gray')\r\n",
    "ax.plot(best_model.get_forecast(12).conf_int()['upper Sales'], label='upper_conf', color = 'gray')\r\n",
    "ax.fill_between(best_model.get_forecast(12).predicted_mean.index, \r\n",
    "                best_model.get_forecast(12).conf_int()['lower Sales'], \r\n",
    "                best_model.get_forecast(12).conf_int()['upper Sales'], facecolor='lightgray', alpha=0.5)\r\n",
    "ax.legend()\r\n",
    "\r\n",
    "ax.set_ylabel('volume')\r\n",
    "ax.set_title('Shampoo sales')\r\n",
    "fig.tight_layout()\r\n",
    "plt.show()\r\n"
   ],
   "outputs": [
    {
     "output_type": "display_data",
     "data": {
      "text/plain": [
       "Canvas(toolbar=Toolbar(toolitems=[('Home', 'Reset original view', 'home', 'home'), ('Back', 'Back to previous …"
      ],
      "application/vnd.jupyter.widget-view+json": {
       "version_major": 2,
       "version_minor": 0,
       "model_id": "5c6a632c3c414635bf9448a1a78d1d6c"
      }
     },
     "metadata": {}
    }
   ],
   "metadata": {}
  },
  {
   "cell_type": "markdown",
   "source": [
    "# Задание 3\r\n",
    "\r\n"
   ],
   "metadata": {}
  }
 ],
 "metadata": {
  "interpreter": {
   "hash": "550c20a9657717230d10464eebd6552a32b52de9d7f0e76f6f7a9a4c6cbea1e2"
  },
  "kernelspec": {
   "name": "python3",
   "display_name": "Python 3.8.10 64-bit ('base': conda)"
  },
  "language_info": {
   "codemirror_mode": {
    "name": "ipython",
    "version": 3
   },
   "file_extension": ".py",
   "mimetype": "text/x-python",
   "name": "python",
   "nbconvert_exporter": "python",
   "pygments_lexer": "ipython3",
   "version": "3.8.10"
  },
  "orig_nbformat": 4
 },
 "nbformat": 4,
 "nbformat_minor": 2
}