{
 "cells": [
  {
   "cell_type": "markdown",
   "source": [
    "# Выполнил Кирилл Сетдеков"
   ],
   "metadata": {}
  },
  {
   "cell_type": "code",
   "execution_count": 1,
   "source": [
    "import numpy as np\r\n",
    "import pandas as pd\r\n",
    "import scipy\r\n",
    "from scipy import stats\r\n",
    "from statsmodels.stats.weightstats import *\r\n",
    "import matplotlib.pyplot as plt\r\n",
    "from statsmodels.stats.descriptivestats import sign_test\r\n",
    "\r\n",
    "import statsmodels.formula.api as smf\r\n",
    "from sklearn.impute import SimpleImputer\r\n",
    "import seaborn as sns\r\n",
    "from sklearn.preprocessing import PowerTransformer\r\n",
    "\r\n",
    "\r\n",
    "import statsmodels.api as sm\r\n",
    "import warnings\r\n",
    "import matplotlib\r\n",
    "import matplotlib.dates as mdates\r\n",
    "from pandas.plotting import lag_plot"
   ],
   "outputs": [],
   "metadata": {}
  },
  {
   "cell_type": "code",
   "execution_count": 2,
   "source": [
    "%matplotlib inline\r\n",
    "# %matplotlib widget"
   ],
   "outputs": [],
   "metadata": {}
  },
  {
   "cell_type": "markdown",
   "source": [
    "#  Задание 1"
   ],
   "metadata": {}
  },
  {
   "cell_type": "markdown",
   "source": [
    "1. Автокорреляционная функция и частная автокорреляционная функция.\r\n",
    "\r\n",
    "    * Автокорреляционная функция - функция, которая для каждого значения лага выдает коэффициент корреляции между временным рядом и временным рядом с эти лагом.\r\n",
    "    * Частная автокорреляционная функция - функция, которая для каждого лага k выдает автокорреляцию между исходным рядом $z_{t}$, очиценным от линейной связи со всеми предшествующими лагами от $z_{t+1}$ до $z_{t+k-1}$ и рядом  $z_{{t+k}}$. \r\n",
    "\r\n",
    "2. Какой временной ряд называется стационарным? Может ли временной ряд с трендом быть стационарным? А с циклом?\r\n",
    "\r\n",
    "    * Стационарный ряд - такой ряд, у которого вероятностные характеристики не меняются во времени.\r\n",
    "\r\n",
    "    * Если говорим про тренд - мы будем ожидать, что такой ряд интегрированный порядка 1, и сам не стационарный. Но ряд из растностей может быть стационарным, а может и не быть.\r\n",
    "\r\n",
    "    * Если мы говорим про циклы, имеющие некий фиксированный период (сезонность), то такой ряд не стационарный, если длина цикла случайна, то такой ряд может быть стационарным.\r\n",
    "  \r\n",
    "\r\n",
    "3. Какую гипотезу проверяет тест Дики-Фуллера.\r\n",
    "\r\n",
    "    * Тесть проверяет гипотезу о стационарности ряда и $H_0$ - ряд не стационарный, то есть когда мы отвергаем гипотезу, мы узнаем, что ряд стационарный.\r\n",
    "\r\n",
    "4. Какой временной рядм можно описать хорошо с помощью модели ARMA?\r\n",
    "\r\n",
    "    * Под эту модель подходят хорошо ряды со следующими свойствами:\r\n",
    "\r\n",
    "        * Ряд стационарный.\r\n",
    "        * Нет внешних переменных, которые влияют на значения ряда (сходу без модификации в эту модель не добавить регрессую от других рядов).\r\n",
    "        * Есть зависимость от значений переменной в прошлом и от остатков на прошлых шагах.\r\n",
    "\r\n",
    "5. На что нужно обращать внимание при анализе остатков модели\r\n",
    "\r\n",
    "    * Проверять соответствие их распределения нормальному.\r\n",
    "    * Тестировать их на стационарность.\r\n",
    "    * Обращать внимание на наличие периодичности и/или гетероскедастичности.\r\n",
    "\r\n"
   ],
   "metadata": {}
  },
  {
   "cell_type": "markdown",
   "source": [
    "# Задание 2\r\n",
    "Шампунь, продажи за 3 года. Подобрать модель SARIMA и сделать прогноз на 3 месяца вперед."
   ],
   "metadata": {}
  },
  {
   "cell_type": "code",
   "execution_count": 3,
   "source": [
    "shampoo = pd.read_csv('data/shampoo.csv')\r\n"
   ],
   "outputs": [],
   "metadata": {}
  },
  {
   "cell_type": "code",
   "execution_count": 4,
   "source": [
    "shampoo[\"Month\"] = pd.to_datetime('0'+shampoo.Month, format='%y-%m')\r\n",
    "shampoo = shampoo.set_index(\"Month\")\r\n",
    "shampoo.head()"
   ],
   "outputs": [
    {
     "output_type": "execute_result",
     "data": {
      "text/plain": [
       "            Sales\n",
       "Month            \n",
       "2001-01-01  266.0\n",
       "2001-02-01  145.9\n",
       "2001-03-01  183.1\n",
       "2001-04-01  119.3\n",
       "2001-05-01  180.3"
      ],
      "text/html": [
       "<div>\n",
       "<style scoped>\n",
       "    .dataframe tbody tr th:only-of-type {\n",
       "        vertical-align: middle;\n",
       "    }\n",
       "\n",
       "    .dataframe tbody tr th {\n",
       "        vertical-align: top;\n",
       "    }\n",
       "\n",
       "    .dataframe thead th {\n",
       "        text-align: right;\n",
       "    }\n",
       "</style>\n",
       "<table border=\"1\" class=\"dataframe\">\n",
       "  <thead>\n",
       "    <tr style=\"text-align: right;\">\n",
       "      <th></th>\n",
       "      <th>Sales</th>\n",
       "    </tr>\n",
       "    <tr>\n",
       "      <th>Month</th>\n",
       "      <th></th>\n",
       "    </tr>\n",
       "  </thead>\n",
       "  <tbody>\n",
       "    <tr>\n",
       "      <th>2001-01-01</th>\n",
       "      <td>266.0</td>\n",
       "    </tr>\n",
       "    <tr>\n",
       "      <th>2001-02-01</th>\n",
       "      <td>145.9</td>\n",
       "    </tr>\n",
       "    <tr>\n",
       "      <th>2001-03-01</th>\n",
       "      <td>183.1</td>\n",
       "    </tr>\n",
       "    <tr>\n",
       "      <th>2001-04-01</th>\n",
       "      <td>119.3</td>\n",
       "    </tr>\n",
       "    <tr>\n",
       "      <th>2001-05-01</th>\n",
       "      <td>180.3</td>\n",
       "    </tr>\n",
       "  </tbody>\n",
       "</table>\n",
       "</div>"
      ]
     },
     "metadata": {},
     "execution_count": 4
    }
   ],
   "metadata": {}
  },
  {
   "cell_type": "code",
   "execution_count": 5,
   "source": [
    "decompostition = sm.tsa.seasonal_decompose(shampoo, model= 'additive')\r\n",
    "fig = decompostition.plot()\r\n"
   ],
   "outputs": [
    {
     "output_type": "display_data",
     "data": {
      "text/plain": [
       "Canvas(toolbar=Toolbar(toolitems=[('Home', 'Reset original view', 'home', 'home'), ('Back', 'Back to previous …"
      ],
      "application/vnd.jupyter.widget-view+json": {
       "version_major": 2,
       "version_minor": 0,
       "model_id": "e6471d60d20f4e8ebe9aecd9188338f2"
      }
     },
     "metadata": {}
    }
   ],
   "metadata": {}
  },
  {
   "cell_type": "code",
   "execution_count": 6,
   "source": [
    "plt.figure()\r\n",
    "lag_plot(shampoo)\r\n",
    "plt.show()"
   ],
   "outputs": [
    {
     "output_type": "display_data",
     "data": {
      "text/plain": [
       "Canvas(toolbar=Toolbar(toolitems=[('Home', 'Reset original view', 'home', 'home'), ('Back', 'Back to previous …"
      ],
      "application/vnd.jupyter.widget-view+json": {
       "version_major": 2,
       "version_minor": 0,
       "model_id": "6c7858e190ff4423817df090e81ff427"
      }
     },
     "metadata": {}
    }
   ],
   "metadata": {}
  },
  {
   "cell_type": "markdown",
   "source": [
    "Видим, что есть тренд, и сезонность, ожидание, что ряд не стационарный и что есть автокорреляция. Проверим:"
   ],
   "metadata": {}
  },
  {
   "cell_type": "code",
   "execution_count": 7,
   "source": [
    "from statsmodels.tsa.stattools import adfuller\r\n",
    "\r\n",
    "\r\n",
    "def adf_test(timeseries):\r\n",
    "    print(\"Results of Dickey-Fuller Test:\")\r\n",
    "    dftest = adfuller(timeseries, autolag=\"AIC\")\r\n",
    "    dfoutput = pd.Series(\r\n",
    "        dftest[0:4],\r\n",
    "        index=[\r\n",
    "            \"Test Statistic\",\r\n",
    "            \"p-value\",\r\n",
    "            \"#Lags Used\",\r\n",
    "            \"Number of Observations Used\",\r\n",
    "        ],\r\n",
    "    )\r\n",
    "    for key, value in dftest[4].items():\r\n",
    "        dfoutput[\"Critical Value (%s)\" % key] = value\r\n",
    "    print(dfoutput)"
   ],
   "outputs": [],
   "metadata": {}
  },
  {
   "cell_type": "code",
   "execution_count": 8,
   "source": [
    "print(\"Критерий Дики-Фуллера для начального ряда: pvalue =\",sm.tsa.stattools.adfuller(shampoo.Sales)[1])"
   ],
   "outputs": [
    {
     "output_type": "stream",
     "name": "stdout",
     "text": [
      "Критерий Дики-Фуллера для начального ряда: pvalue = 1.0\n"
     ]
    }
   ],
   "metadata": {}
  },
  {
   "cell_type": "code",
   "execution_count": 9,
   "source": [
    "adf_test(shampoo)"
   ],
   "outputs": [
    {
     "output_type": "stream",
     "name": "stdout",
     "text": [
      "Results of Dickey-Fuller Test:\n",
      "Test Statistic                  3.060142\n",
      "p-value                         1.000000\n",
      "#Lags Used                     10.000000\n",
      "Number of Observations Used    25.000000\n",
      "Critical Value (1%)            -3.723863\n",
      "Critical Value (5%)            -2.986489\n",
      "Critical Value (10%)           -2.632800\n",
      "dtype: float64\n"
     ]
    }
   ],
   "metadata": {}
  },
  {
   "cell_type": "markdown",
   "source": [
    "Такой ряд не стационарный - перейдем к разностям:"
   ],
   "metadata": {}
  },
  {
   "cell_type": "code",
   "execution_count": 10,
   "source": [
    "shampoo['sales_boxcox'], lmbd = stats.boxcox(shampoo['Sales'])\r\n",
    "shampoo['sales_boxcox_diff'] = shampoo.sales_boxcox - shampoo.sales_boxcox.shift(1)\r\n",
    "sm.tsa.seasonal_decompose(shampoo.sales_boxcox_diff[1:]).plot()\r\n",
    "plt.show()"
   ],
   "outputs": [
    {
     "output_type": "display_data",
     "data": {
      "text/plain": [
       "Canvas(toolbar=Toolbar(toolitems=[('Home', 'Reset original view', 'home', 'home'), ('Back', 'Back to previous …"
      ],
      "application/vnd.jupyter.widget-view+json": {
       "version_major": 2,
       "version_minor": 0,
       "model_id": "399309a9096d4225a839241974b7dfdb"
      }
     },
     "metadata": {}
    }
   ],
   "metadata": {}
  },
  {
   "cell_type": "code",
   "execution_count": 11,
   "source": [
    "adf_test(shampoo.sales_boxcox_diff[1:])"
   ],
   "outputs": [
    {
     "output_type": "stream",
     "name": "stdout",
     "text": [
      "Results of Dickey-Fuller Test:\n",
      "Test Statistic                 -3.971330\n",
      "p-value                         0.001568\n",
      "#Lags Used                      9.000000\n",
      "Number of Observations Used    25.000000\n",
      "Critical Value (1%)            -3.723863\n",
      "Critical Value (5%)            -2.986489\n",
      "Critical Value (10%)           -2.632800\n",
      "dtype: float64\n"
     ]
    }
   ],
   "metadata": {}
  },
  {
   "cell_type": "code",
   "execution_count": 12,
   "source": [
    "shampoo['sales_diff'] = shampoo.Sales - shampoo.Sales.shift(1)\r\n",
    "sm.tsa.seasonal_decompose(shampoo.sales_diff[1:]).plot()\r\n",
    "plt.show()"
   ],
   "outputs": [
    {
     "output_type": "display_data",
     "data": {
      "text/plain": [
       "Canvas(toolbar=Toolbar(toolitems=[('Home', 'Reset original view', 'home', 'home'), ('Back', 'Back to previous …"
      ],
      "application/vnd.jupyter.widget-view+json": {
       "version_major": 2,
       "version_minor": 0,
       "model_id": "d2fa800db0c04b0495ef53113abe2aa6"
      }
     },
     "metadata": {}
    }
   ],
   "metadata": {}
  },
  {
   "cell_type": "code",
   "execution_count": 13,
   "source": [
    "adf_test(shampoo.sales_diff[1:])"
   ],
   "outputs": [
    {
     "output_type": "stream",
     "name": "stdout",
     "text": [
      "Results of Dickey-Fuller Test:\n",
      "Test Statistic                -7.249074e+00\n",
      "p-value                        1.799857e-10\n",
      "#Lags Used                     1.000000e+00\n",
      "Number of Observations Used    3.300000e+01\n",
      "Critical Value (1%)           -3.646135e+00\n",
      "Critical Value (5%)           -2.954127e+00\n",
      "Critical Value (10%)          -2.615968e+00\n",
      "dtype: float64\n"
     ]
    }
   ],
   "metadata": {}
  },
  {
   "cell_type": "markdown",
   "source": [
    "без преобразования Бокса-Кокса, мы получаем более низкое p-value для теста Дики-Фулера, поэтому возьмем только разницы, а чтобы брать дельты дополнительные, уже нет данных"
   ],
   "metadata": {}
  },
  {
   "cell_type": "markdown",
   "source": [
    "посмотрим на автокорреляционные и частные автокорреляционные графики"
   ],
   "metadata": {}
  },
  {
   "cell_type": "code",
   "execution_count": 14,
   "source": [
    "fig, (ax1, ax2) = plt.subplots(nrows=2,figsize=(15,8)) \r\n",
    "\r\n",
    "sm.graphics.tsa.plot_acf(shampoo.sales_diff[1:].values.squeeze(), lags=15, ax=ax1)\r\n",
    "sm.graphics.tsa.plot_pacf(shampoo.sales_diff[1:].values.squeeze(), lags=15, ax=ax2)\r\n",
    "\r\n",
    "plt.show()"
   ],
   "outputs": [
    {
     "output_type": "display_data",
     "data": {
      "text/plain": [
       "Canvas(toolbar=Toolbar(toolitems=[('Home', 'Reset original view', 'home', 'home'), ('Back', 'Back to previous …"
      ],
      "application/vnd.jupyter.widget-view+json": {
       "version_major": 2,
       "version_minor": 0,
       "model_id": "9d892d6d6097482e9fa0d2b95333334b"
      }
     },
     "metadata": {}
    }
   ],
   "metadata": {}
  },
  {
   "cell_type": "markdown",
   "source": [
    "Согласно этим графикам, в качестве начальных значений необходимо взять: $Q=1$, $q=1$, $P=1$, $p=1$."
   ],
   "metadata": {}
  },
  {
   "cell_type": "code",
   "execution_count": 15,
   "source": [
    "from itertools import product # произведения множеств\r\n",
    "\r\n",
    "# создадим список из значений параметров для перебора моделей\r\n",
    "\r\n",
    "\r\n",
    "d = 1\r\n",
    "D = range(0, 2)\r\n",
    "ps = range(0, 2)\r\n",
    "qs = range(0, 2)\r\n",
    "Ps = range(0, 2)\r\n",
    "Qs = range(0, 2)\r\n",
    "trend = ['n', 'c', 't', 'ct']\r\n",
    "\r\n",
    "parameters = product(ps ,qs, Ps, Qs, D, trend)\r\n",
    "parameters_list = list(parameters)"
   ],
   "outputs": [],
   "metadata": {}
  },
  {
   "cell_type": "code",
   "execution_count": 16,
   "source": [
    "from tqdm.notebook import tqdm\r\n"
   ],
   "outputs": [],
   "metadata": {}
  },
  {
   "cell_type": "code",
   "execution_count": 17,
   "source": [
    "results = [] # здесь будем хранить результаты\r\n",
    "warnings.filterwarnings('ignore') # не для всех параметров модели будут обучаться; отключим предупреждения\r\n",
    "\r\n",
    "for param in tqdm(parameters_list):\r\n",
    "    #try-except нужен, чтобы обработать случаи, когда модель не обучается\r\n",
    "    try:\r\n",
    "        model=sm.tsa.statespace.SARIMAX(shampoo.Sales, order=(param[0], d, param[1]), \r\n",
    "                                        seasonal_order=(param[2], param[4], param[3], 12), trend=param[5]).fit(disp=-1)\r\n",
    "    \r\n",
    "    #выводим параметры, на которых модель не обучается и переходим к следующему набору\r\n",
    "    except ValueError:\r\n",
    "        print('Wrong parameters:', param)\r\n",
    "        continue\r\n",
    "    \r\n",
    "    results.append([param, model.aic])\r\n",
    "# преобразуем результаты в DataFrame и добавим названия столбцов\r\n",
    "\r\n",
    "result_table = pd.DataFrame(results)\r\n",
    "result_table.columns = ['Parameters', 'AIC']"
   ],
   "outputs": [
    {
     "output_type": "display_data",
     "data": {
      "text/plain": [
       "  0%|          | 0/128 [00:00<?, ?it/s]"
      ],
      "application/vnd.jupyter.widget-view+json": {
       "version_major": 2,
       "version_minor": 0,
       "model_id": "e7eb4b025c5a40708daf89e0c81196f3"
      }
     },
     "metadata": {}
    }
   ],
   "metadata": {}
  },
  {
   "cell_type": "code",
   "execution_count": 18,
   "source": [
    "result_table.sort_values(by = 'AIC', ascending=True).head()"
   ],
   "outputs": [
    {
     "output_type": "execute_result",
     "data": {
      "text/plain": [
       "              Parameters         AIC\n",
       "117   (1, 1, 1, 0, 1, c)  275.535467\n",
       "109   (1, 1, 0, 1, 1, c)  275.935619\n",
       "118   (1, 1, 1, 0, 1, t)  276.586929\n",
       "119  (1, 1, 1, 0, 1, ct)  277.122648\n",
       "125   (1, 1, 1, 1, 1, c)  277.258594"
      ],
      "text/html": [
       "<div>\n",
       "<style scoped>\n",
       "    .dataframe tbody tr th:only-of-type {\n",
       "        vertical-align: middle;\n",
       "    }\n",
       "\n",
       "    .dataframe tbody tr th {\n",
       "        vertical-align: top;\n",
       "    }\n",
       "\n",
       "    .dataframe thead th {\n",
       "        text-align: right;\n",
       "    }\n",
       "</style>\n",
       "<table border=\"1\" class=\"dataframe\">\n",
       "  <thead>\n",
       "    <tr style=\"text-align: right;\">\n",
       "      <th></th>\n",
       "      <th>Parameters</th>\n",
       "      <th>AIC</th>\n",
       "    </tr>\n",
       "  </thead>\n",
       "  <tbody>\n",
       "    <tr>\n",
       "      <th>117</th>\n",
       "      <td>(1, 1, 1, 0, 1, c)</td>\n",
       "      <td>275.535467</td>\n",
       "    </tr>\n",
       "    <tr>\n",
       "      <th>109</th>\n",
       "      <td>(1, 1, 0, 1, 1, c)</td>\n",
       "      <td>275.935619</td>\n",
       "    </tr>\n",
       "    <tr>\n",
       "      <th>118</th>\n",
       "      <td>(1, 1, 1, 0, 1, t)</td>\n",
       "      <td>276.586929</td>\n",
       "    </tr>\n",
       "    <tr>\n",
       "      <th>119</th>\n",
       "      <td>(1, 1, 1, 0, 1, ct)</td>\n",
       "      <td>277.122648</td>\n",
       "    </tr>\n",
       "    <tr>\n",
       "      <th>125</th>\n",
       "      <td>(1, 1, 1, 1, 1, c)</td>\n",
       "      <td>277.258594</td>\n",
       "    </tr>\n",
       "  </tbody>\n",
       "</table>\n",
       "</div>"
      ]
     },
     "metadata": {},
     "execution_count": 18
    }
   ],
   "metadata": {}
  },
  {
   "cell_type": "markdown",
   "source": [
    "Лучшей моделью получилась SARIMA (1,1,1)x(1,0,1)."
   ],
   "metadata": {}
  },
  {
   "cell_type": "code",
   "execution_count": 19,
   "source": [
    "best_model=sm.tsa.statespace.SARIMAX(shampoo.Sales, order=(1,1,1), trend='c', seasonal_order=(1,1,0,12)).fit(disp=-1)\r\n",
    "print(best_model.summary())"
   ],
   "outputs": [
    {
     "output_type": "stream",
     "name": "stdout",
     "text": [
      "                                      SARIMAX Results                                      \n",
      "===========================================================================================\n",
      "Dep. Variable:                               Sales   No. Observations:                   36\n",
      "Model:             SARIMAX(1, 1, 1)x(1, 1, [], 12)   Log Likelihood                -132.768\n",
      "Date:                             Sat, 07 Aug 2021   AIC                            275.535\n",
      "Time:                                     18:49:38   BIC                            281.213\n",
      "Sample:                                 01-01-2001   HQIC                           276.963\n",
      "                                      - 12-01-2003                                         \n",
      "Covariance Type:                               opg                                         \n",
      "==============================================================================\n",
      "                 coef    std err          z      P>|z|      [0.025      0.975]\n",
      "------------------------------------------------------------------------------\n",
      "intercept     27.5420      4.660      5.910      0.000      18.408      36.676\n",
      "ar.L1         -0.6273      0.283     -2.218      0.027      -1.182      -0.073\n",
      "ma.L1         -0.9959     18.606     -0.054      0.957     -37.462      35.471\n",
      "ar.S.L12      -0.5847      0.433     -1.352      0.177      -1.433       0.263\n",
      "sigma2      3987.7949   7.32e+04      0.054      0.957    -1.4e+05    1.48e+05\n",
      "===================================================================================\n",
      "Ljung-Box (L1) (Q):                   0.96   Jarque-Bera (JB):                 0.51\n",
      "Prob(Q):                              0.33   Prob(JB):                         0.78\n",
      "Heteroskedasticity (H):               1.60   Skew:                             0.36\n",
      "Prob(H) (two-sided):                  0.52   Kurtosis:                         2.97\n",
      "===================================================================================\n",
      "\n",
      "Warnings:\n",
      "[1] Covariance matrix calculated using the outer product of gradients (complex-step).\n"
     ]
    }
   ],
   "metadata": {}
  },
  {
   "cell_type": "markdown",
   "source": [
    "Посмотрим на остатки"
   ],
   "metadata": {}
  },
  {
   "cell_type": "code",
   "execution_count": 20,
   "source": [
    "best_model.resid[13:].plot()\r\n",
    "plt.ylabel('Residuals')\r\n",
    "plt.show()"
   ],
   "outputs": [],
   "metadata": {}
  },
  {
   "cell_type": "markdown",
   "source": [
    "**Несмещенность.** Проверим несмещенность с помощью критерия знаков (самый универсальный критерий)."
   ],
   "metadata": {}
  },
  {
   "cell_type": "code",
   "execution_count": 21,
   "source": [
    "from statsmodels.stats.descriptivestats import sign_test\r\n",
    "print(\"Критерий знаков для остатков: pvalue =\",sign_test(best_model.resid[13:])[1])"
   ],
   "outputs": [
    {
     "output_type": "stream",
     "name": "stdout",
     "text": [
      "Критерий знаков для остатков: pvalue = 0.21003961563110352\n"
     ]
    }
   ],
   "metadata": {}
  },
  {
   "cell_type": "markdown",
   "source": [
    "**Стационарность.** Проверим стационарность с помщью критерия Дики-Фуллера."
   ],
   "metadata": {}
  },
  {
   "cell_type": "code",
   "execution_count": 22,
   "source": [
    "print(\"Критерий Дики-Фуллера для остатков: pvalue =\",sm.tsa.stattools.adfuller(best_model.resid[13:])[1])"
   ],
   "outputs": [
    {
     "output_type": "stream",
     "name": "stdout",
     "text": [
      "Критерий Дики-Фуллера для остатков: pvalue = 0.000610127398725332\n"
     ]
    }
   ],
   "metadata": {}
  },
  {
   "cell_type": "markdown",
   "source": [
    "**Неавтокоррелированность.** Чтобы определить независимость остаткок, посмотрим на график автокорреляционной функции."
   ],
   "metadata": {}
  },
  {
   "cell_type": "code",
   "execution_count": 23,
   "source": [
    "sm.graphics.tsa.plot_acf(best_model.resid[13:].values.squeeze(), lags=15)\r\n",
    "plt.show()"
   ],
   "outputs": [
    {
     "output_type": "display_data",
     "data": {
      "text/plain": [
       "Canvas(toolbar=Toolbar(toolitems=[('Home', 'Reset original view', 'home', 'home'), ('Back', 'Back to previous …"
      ],
      "application/vnd.jupyter.widget-view+json": {
       "version_major": 2,
       "version_minor": 0,
       "model_id": "969a54de1c464a84bf55eaadf2d3eebe"
      }
     },
     "metadata": {}
    }
   ],
   "metadata": {}
  },
  {
   "cell_type": "markdown",
   "source": [
    "Еще и по Jarque-Bera не отвергается гипотеза о нормальности"
   ],
   "metadata": {}
  },
  {
   "cell_type": "code",
   "execution_count": 24,
   "source": [
    "figure = best_model.plot_diagnostics()"
   ],
   "outputs": [
    {
     "output_type": "display_data",
     "data": {
      "text/plain": [
       "Canvas(toolbar=Toolbar(toolitems=[('Home', 'Reset original view', 'home', 'home'), ('Back', 'Back to previous …"
      ],
      "application/vnd.jupyter.widget-view+json": {
       "version_major": 2,
       "version_minor": 0,
       "model_id": "331c3c9e41a747a18ab506a6a8f07b5c"
      }
     },
     "metadata": {}
    }
   ],
   "metadata": {}
  },
  {
   "cell_type": "code",
   "execution_count": 25,
   "source": [
    "shampoo['model'] = best_model.fittedvalues"
   ],
   "outputs": [],
   "metadata": {}
  },
  {
   "cell_type": "code",
   "execution_count": 28,
   "source": [
    "fig, ax = plt.subplots()\r\n",
    "ax.plot(shampoo.Sales, label='actual')\r\n",
    "ax.plot(shampoo.model, color='r', label='prediction')\r\n",
    "ax.plot(best_model.get_forecast(3).predicted_mean, label='forecast')\r\n",
    "ax.plot(best_model.get_forecast(3).conf_int()['lower Sales'], label='lower_conf', color = 'gray')\r\n",
    "ax.plot(best_model.get_forecast(3).conf_int()['upper Sales'], label='upper_conf', color = 'gray')\r\n",
    "ax.fill_between(best_model.get_forecast(3).predicted_mean.index, \r\n",
    "                best_model.get_forecast(3).conf_int()['lower Sales'], \r\n",
    "                best_model.get_forecast(3).conf_int()['upper Sales'], facecolor='lightgray', alpha=0.5)\r\n",
    "ax.legend()\r\n",
    "\r\n",
    "ax.set_ylabel('volume')\r\n",
    "ax.set_title('Shampoo sales')\r\n",
    "fig.tight_layout()\r\n",
    "plt.show()\r\n"
   ],
   "outputs": [
    {
     "output_type": "display_data",
     "data": {
      "text/plain": [
       "Canvas(toolbar=Toolbar(toolitems=[('Home', 'Reset original view', 'home', 'home'), ('Back', 'Back to previous …"
      ],
      "application/vnd.jupyter.widget-view+json": {
       "version_major": 2,
       "version_minor": 0,
       "model_id": "200bd352d4884979ad65b0bf53db4088"
      }
     },
     "metadata": {}
    }
   ],
   "metadata": {}
  },
  {
   "cell_type": "markdown",
   "source": [
    "Мы получили прогноз продаж шампуня, сравнили его с историей и построили прогноз в будущее с доверительным интервалом"
   ],
   "metadata": {}
  },
  {
   "cell_type": "markdown",
   "source": [
    "# Задание 3\r\n",
    "Аналогично про новорожденных девочек\r\n"
   ],
   "metadata": {}
  },
  {
   "cell_type": "code",
   "execution_count": 35,
   "source": [
    "girls = pd.read_csv('data/female-births.csv') \r\n",
    "girls['Date'] = pd.to_datetime(girls['Date'])\r\n",
    "girls = girls.set_index(\"Date\")\r\n",
    "girls.head()"
   ],
   "outputs": [
    {
     "output_type": "execute_result",
     "data": {
      "text/plain": [
       "            Births\n",
       "Date              \n",
       "1959-01-01      35\n",
       "1959-01-02      32\n",
       "1959-01-03      30\n",
       "1959-01-04      31\n",
       "1959-01-05      44"
      ],
      "text/html": [
       "<div>\n",
       "<style scoped>\n",
       "    .dataframe tbody tr th:only-of-type {\n",
       "        vertical-align: middle;\n",
       "    }\n",
       "\n",
       "    .dataframe tbody tr th {\n",
       "        vertical-align: top;\n",
       "    }\n",
       "\n",
       "    .dataframe thead th {\n",
       "        text-align: right;\n",
       "    }\n",
       "</style>\n",
       "<table border=\"1\" class=\"dataframe\">\n",
       "  <thead>\n",
       "    <tr style=\"text-align: right;\">\n",
       "      <th></th>\n",
       "      <th>Births</th>\n",
       "    </tr>\n",
       "    <tr>\n",
       "      <th>Date</th>\n",
       "      <th></th>\n",
       "    </tr>\n",
       "  </thead>\n",
       "  <tbody>\n",
       "    <tr>\n",
       "      <th>1959-01-01</th>\n",
       "      <td>35</td>\n",
       "    </tr>\n",
       "    <tr>\n",
       "      <th>1959-01-02</th>\n",
       "      <td>32</td>\n",
       "    </tr>\n",
       "    <tr>\n",
       "      <th>1959-01-03</th>\n",
       "      <td>30</td>\n",
       "    </tr>\n",
       "    <tr>\n",
       "      <th>1959-01-04</th>\n",
       "      <td>31</td>\n",
       "    </tr>\n",
       "    <tr>\n",
       "      <th>1959-01-05</th>\n",
       "      <td>44</td>\n",
       "    </tr>\n",
       "  </tbody>\n",
       "</table>\n",
       "</div>"
      ]
     },
     "metadata": {},
     "execution_count": 35
    }
   ],
   "metadata": {}
  },
  {
   "cell_type": "code",
   "execution_count": 36,
   "source": [
    "decompostition = sm.tsa.seasonal_decompose(girls, model= 'additive')\r\n",
    "fig = decompostition.plot()"
   ],
   "outputs": [
    {
     "output_type": "display_data",
     "data": {
      "text/plain": [
       "Canvas(toolbar=Toolbar(toolitems=[('Home', 'Reset original view', 'home', 'home'), ('Back', 'Back to previous …"
      ],
      "application/vnd.jupyter.widget-view+json": {
       "version_major": 2,
       "version_minor": 0,
       "model_id": "703af82cf1c146f4a7b3ee2467266226"
      }
     },
     "metadata": {}
    }
   ],
   "metadata": {}
  },
  {
   "cell_type": "code",
   "execution_count": 43,
   "source": [
    "plt.figure()\r\n",
    "lag_plot(girls)\r\n",
    "plt.show()"
   ],
   "outputs": [
    {
     "output_type": "display_data",
     "data": {
      "text/plain": [
       "Canvas(toolbar=Toolbar(toolitems=[('Home', 'Reset original view', 'home', 'home'), ('Back', 'Back to previous …"
      ],
      "application/vnd.jupyter.widget-view+json": {
       "version_major": 2,
       "version_minor": 0,
       "model_id": "087c6fb8b294499ba783b672d7ec8701"
      }
     },
     "metadata": {}
    }
   ],
   "metadata": {}
  },
  {
   "cell_type": "code",
   "execution_count": 44,
   "source": [
    "adf_test(girls)"
   ],
   "outputs": [
    {
     "output_type": "stream",
     "name": "stdout",
     "text": [
      "Results of Dickey-Fuller Test:\n",
      "Test Statistic                  -4.808291\n",
      "p-value                          0.000052\n",
      "#Lags Used                       6.000000\n",
      "Number of Observations Used    358.000000\n",
      "Critical Value (1%)             -3.448749\n",
      "Critical Value (5%)             -2.869647\n",
      "Critical Value (10%)            -2.571089\n",
      "dtype: float64\n"
     ]
    }
   ],
   "metadata": {}
  },
  {
   "cell_type": "markdown",
   "source": [
    "Есть небольшая зависимость значения от вчерашнего значения, но сам исходный ряд уже является стационарным"
   ],
   "metadata": {}
  },
  {
   "cell_type": "code",
   "execution_count": 46,
   "source": [
    "girls['births_boxcox'], lmbd = stats.boxcox(girls['Births'])\r\n",
    "girls['births_boxcox_diff'] = girls.births_boxcox - girls.births_boxcox.shift(1)\r\n",
    "sm.tsa.seasonal_decompose(girls.births_boxcox_diff[1:]).plot()\r\n",
    "plt.show()"
   ],
   "outputs": [
    {
     "output_type": "display_data",
     "data": {
      "text/plain": [
       "Canvas(toolbar=Toolbar(toolitems=[('Home', 'Reset original view', 'home', 'home'), ('Back', 'Back to previous …"
      ],
      "application/vnd.jupyter.widget-view+json": {
       "version_major": 2,
       "version_minor": 0,
       "model_id": "95e06866b7074868aeb0ada4f71c9f17"
      }
     },
     "metadata": {}
    }
   ],
   "metadata": {}
  },
  {
   "cell_type": "code",
   "execution_count": 47,
   "source": [
    "adf_test(girls.births_boxcox_diff[1:])"
   ],
   "outputs": [
    {
     "output_type": "stream",
     "name": "stdout",
     "text": [
      "Results of Dickey-Fuller Test:\n",
      "Test Statistic                -1.285895e+01\n",
      "p-value                        5.159404e-24\n",
      "#Lags Used                     6.000000e+00\n",
      "Number of Observations Used    3.570000e+02\n",
      "Critical Value (1%)           -3.448801e+00\n",
      "Critical Value (5%)           -2.869670e+00\n",
      "Critical Value (10%)          -2.571101e+00\n",
      "dtype: float64\n"
     ]
    }
   ],
   "metadata": {}
  },
  {
   "cell_type": "markdown",
   "source": [
    "В таком варианте мы полностью избавились от переодичности (сделали преобразования данных Бокса-Кокса и перешли к разинцам)\r\n",
    "\r\n",
    "Посмотрим на графики автокорреляции и частной автокорреляции"
   ],
   "metadata": {}
  },
  {
   "cell_type": "code",
   "execution_count": 51,
   "source": [
    "fig, (ax1, ax2) = plt.subplots(nrows=2,figsize=(15,8)) \r\n",
    "\r\n",
    "sm.graphics.tsa.plot_acf(girls.births_boxcox_diff[1:].values.squeeze(), lags=31, ax=ax1)\r\n",
    "sm.graphics.tsa.plot_pacf(girls.births_boxcox_diff[1:].values.squeeze(), lags=31, ax=ax2)\r\n",
    "\r\n",
    "plt.show()"
   ],
   "outputs": [
    {
     "output_type": "display_data",
     "data": {
      "text/plain": [
       "Canvas(toolbar=Toolbar(toolitems=[('Home', 'Reset original view', 'home', 'home'), ('Back', 'Back to previous …"
      ],
      "application/vnd.jupyter.widget-view+json": {
       "version_major": 2,
       "version_minor": 0,
       "model_id": "b4e8f66ec10a4f83b82281ff3a04268b"
      }
     },
     "metadata": {}
    }
   ],
   "metadata": {}
  },
  {
   "cell_type": "markdown",
   "source": [
    "Согласно этим графикам, в качестве начальных значений необходимо взять: $Q=3$, $q=7$, $P=1$, $p=1$."
   ],
   "metadata": {}
  },
  {
   "cell_type": "code",
   "execution_count": 56,
   "source": [
    "# создадим список из значений параметров для перебора моделей\r\n",
    "d = 1\r\n",
    "D = 1\r\n",
    "ps = range(0, 2)\r\n",
    "qs = range(0, 8)\r\n",
    "Ps = range(0, 2)\r\n",
    "Qs = range(0, 4)\r\n",
    "trend = ['n', 'c', 't', 'ct']\r\n",
    "\r\n",
    "parameters = product(ps ,qs, Ps, Qs, trend)\r\n",
    "parameters_list = list(parameters)"
   ],
   "outputs": [],
   "metadata": {}
  },
  {
   "cell_type": "code",
   "execution_count": 79,
   "source": [
    "results2 = [] # здесь будем хранить результаты\r\n",
    "warnings.filterwarnings('ignore') # не для всех параметров модели будут обучаться; отключим предупреждения\r\n",
    "\r\n",
    "for param in tqdm(parameters_list):\r\n",
    "    #try-except нужен, чтобы обработать случаи, когда модель не обучается\r\n",
    "    try:\r\n",
    "        model=sm.tsa.statespace.SARIMAX(girls.births_boxcox, order=(param[0], d, param[1]), \r\n",
    "                                        seasonal_order=(param[2], D, param[3], 7), trend=param[4]).fit(disp=-1)\r\n",
    "    \r\n",
    "    #выводим параметры, на которых модель не обучается и переходим к следующему набору\r\n",
    "    except ValueError:\r\n",
    "        print('Wrong parameters:', param)\r\n",
    "        continue\r\n",
    "    \r\n",
    "    results2.append([param, model.aic])\r\n",
    "# преобразуем результаты в DataFrame и добавим названия столбцов\r\n",
    "\r\n",
    "result_table2 = pd.DataFrame(results2)\r\n",
    "result_table2.columns = ['Parameters', 'AIC']"
   ],
   "outputs": [
    {
     "output_type": "display_data",
     "data": {
      "text/plain": [
       "  0%|          | 0/512 [00:00<?, ?it/s]"
      ],
      "application/vnd.jupyter.widget-view+json": {
       "version_major": 2,
       "version_minor": 0,
       "model_id": "839071b8bdbe4d2381dad9bc8f94f6c7"
      }
     },
     "metadata": {}
    },
    {
     "output_type": "error",
     "ename": "KeyboardInterrupt",
     "evalue": "",
     "traceback": [
      "\u001b[1;31m---------------------------------------------------------------------------\u001b[0m",
      "\u001b[1;31mKeyboardInterrupt\u001b[0m                         Traceback (most recent call last)",
      "\u001b[1;32mC:\\Users\\KSETDE~1\\AppData\\Local\\Temp/ipykernel_12488/2044935387.py\u001b[0m in \u001b[0;36m<module>\u001b[1;34m\u001b[0m\n\u001b[0;32m      5\u001b[0m     \u001b[1;31m#try-except нужен, чтобы обработать случаи, когда модель не обучается\u001b[0m\u001b[1;33m\u001b[0m\u001b[1;33m\u001b[0m\u001b[1;33m\u001b[0m\u001b[0m\n\u001b[0;32m      6\u001b[0m     \u001b[1;32mtry\u001b[0m\u001b[1;33m:\u001b[0m\u001b[1;33m\u001b[0m\u001b[1;33m\u001b[0m\u001b[0m\n\u001b[1;32m----> 7\u001b[1;33m         model=sm.tsa.statespace.SARIMAX(girls.births_boxcox, order=(param[0], d, param[1]), \n\u001b[0m\u001b[0;32m      8\u001b[0m                                         seasonal_order=(param[2], D, param[3], 7), trend=param[4]).fit(disp=-1)\n\u001b[0;32m      9\u001b[0m \u001b[1;33m\u001b[0m\u001b[0m\n",
      "\u001b[1;32m~\\Anaconda3\\lib\\site-packages\\statsmodels\\tsa\\statespace\\mlemodel.py\u001b[0m in \u001b[0;36mfit\u001b[1;34m(self, start_params, transformed, includes_fixed, cov_type, cov_kwds, method, maxiter, full_output, disp, callback, return_params, optim_score, optim_complex_step, optim_hessian, flags, low_memory, **kwargs)\u001b[0m\n\u001b[0;32m    688\u001b[0m                 \u001b[0mflags\u001b[0m\u001b[1;33m[\u001b[0m\u001b[1;34m'hessian_method'\u001b[0m\u001b[1;33m]\u001b[0m \u001b[1;33m=\u001b[0m \u001b[0moptim_hessian\u001b[0m\u001b[1;33m\u001b[0m\u001b[1;33m\u001b[0m\u001b[0m\n\u001b[0;32m    689\u001b[0m             \u001b[0mfargs\u001b[0m \u001b[1;33m=\u001b[0m \u001b[1;33m(\u001b[0m\u001b[0mflags\u001b[0m\u001b[1;33m,\u001b[0m\u001b[1;33m)\u001b[0m\u001b[1;33m\u001b[0m\u001b[1;33m\u001b[0m\u001b[0m\n\u001b[1;32m--> 690\u001b[1;33m             mlefit = super(MLEModel, self).fit(start_params, method=method,\n\u001b[0m\u001b[0;32m    691\u001b[0m                                                \u001b[0mfargs\u001b[0m\u001b[1;33m=\u001b[0m\u001b[0mfargs\u001b[0m\u001b[1;33m,\u001b[0m\u001b[1;33m\u001b[0m\u001b[1;33m\u001b[0m\u001b[0m\n\u001b[0;32m    692\u001b[0m                                                \u001b[0mmaxiter\u001b[0m\u001b[1;33m=\u001b[0m\u001b[0mmaxiter\u001b[0m\u001b[1;33m,\u001b[0m\u001b[1;33m\u001b[0m\u001b[1;33m\u001b[0m\u001b[0m\n",
      "\u001b[1;32m~\\Anaconda3\\lib\\site-packages\\statsmodels\\base\\model.py\u001b[0m in \u001b[0;36mfit\u001b[1;34m(self, start_params, method, maxiter, full_output, disp, fargs, callback, retall, skip_hessian, **kwargs)\u001b[0m\n\u001b[0;32m    517\u001b[0m         \u001b[0mwarn_convergence\u001b[0m \u001b[1;33m=\u001b[0m \u001b[0mkwargs\u001b[0m\u001b[1;33m.\u001b[0m\u001b[0mpop\u001b[0m\u001b[1;33m(\u001b[0m\u001b[1;34m'warn_convergence'\u001b[0m\u001b[1;33m,\u001b[0m \u001b[1;32mTrue\u001b[0m\u001b[1;33m)\u001b[0m\u001b[1;33m\u001b[0m\u001b[1;33m\u001b[0m\u001b[0m\n\u001b[0;32m    518\u001b[0m         \u001b[0moptimizer\u001b[0m \u001b[1;33m=\u001b[0m \u001b[0mOptimizer\u001b[0m\u001b[1;33m(\u001b[0m\u001b[1;33m)\u001b[0m\u001b[1;33m\u001b[0m\u001b[1;33m\u001b[0m\u001b[0m\n\u001b[1;32m--> 519\u001b[1;33m         xopt, retvals, optim_settings = optimizer._fit(f, score, start_params,\n\u001b[0m\u001b[0;32m    520\u001b[0m                                                        \u001b[0mfargs\u001b[0m\u001b[1;33m,\u001b[0m \u001b[0mkwargs\u001b[0m\u001b[1;33m,\u001b[0m\u001b[1;33m\u001b[0m\u001b[1;33m\u001b[0m\u001b[0m\n\u001b[0;32m    521\u001b[0m                                                        \u001b[0mhessian\u001b[0m\u001b[1;33m=\u001b[0m\u001b[0mhess\u001b[0m\u001b[1;33m,\u001b[0m\u001b[1;33m\u001b[0m\u001b[1;33m\u001b[0m\u001b[0m\n",
      "\u001b[1;32m~\\Anaconda3\\lib\\site-packages\\statsmodels\\base\\optimizer.py\u001b[0m in \u001b[0;36m_fit\u001b[1;34m(self, objective, gradient, start_params, fargs, kwargs, hessian, method, maxiter, full_output, disp, callback, retall)\u001b[0m\n\u001b[0;32m    222\u001b[0m \u001b[1;33m\u001b[0m\u001b[0m\n\u001b[0;32m    223\u001b[0m         \u001b[0mfunc\u001b[0m \u001b[1;33m=\u001b[0m \u001b[0mfit_funcs\u001b[0m\u001b[1;33m[\u001b[0m\u001b[0mmethod\u001b[0m\u001b[1;33m]\u001b[0m\u001b[1;33m\u001b[0m\u001b[1;33m\u001b[0m\u001b[0m\n\u001b[1;32m--> 224\u001b[1;33m         xopt, retvals = func(objective, gradient, start_params, fargs, kwargs,\n\u001b[0m\u001b[0;32m    225\u001b[0m                             \u001b[0mdisp\u001b[0m\u001b[1;33m=\u001b[0m\u001b[0mdisp\u001b[0m\u001b[1;33m,\u001b[0m \u001b[0mmaxiter\u001b[0m\u001b[1;33m=\u001b[0m\u001b[0mmaxiter\u001b[0m\u001b[1;33m,\u001b[0m \u001b[0mcallback\u001b[0m\u001b[1;33m=\u001b[0m\u001b[0mcallback\u001b[0m\u001b[1;33m,\u001b[0m\u001b[1;33m\u001b[0m\u001b[1;33m\u001b[0m\u001b[0m\n\u001b[0;32m    226\u001b[0m                             \u001b[0mretall\u001b[0m\u001b[1;33m=\u001b[0m\u001b[0mretall\u001b[0m\u001b[1;33m,\u001b[0m \u001b[0mfull_output\u001b[0m\u001b[1;33m=\u001b[0m\u001b[0mfull_output\u001b[0m\u001b[1;33m,\u001b[0m\u001b[1;33m\u001b[0m\u001b[1;33m\u001b[0m\u001b[0m\n",
      "\u001b[1;32m~\\Anaconda3\\lib\\site-packages\\statsmodels\\base\\optimizer.py\u001b[0m in \u001b[0;36m_fit_lbfgs\u001b[1;34m(f, score, start_params, fargs, kwargs, disp, maxiter, callback, retall, full_output, hess)\u001b[0m\n\u001b[0;32m    627\u001b[0m         \u001b[0mfunc\u001b[0m \u001b[1;33m=\u001b[0m \u001b[0mf\u001b[0m\u001b[1;33m\u001b[0m\u001b[1;33m\u001b[0m\u001b[0m\n\u001b[0;32m    628\u001b[0m \u001b[1;33m\u001b[0m\u001b[0m\n\u001b[1;32m--> 629\u001b[1;33m     retvals = optimize.fmin_l_bfgs_b(func, start_params, maxiter=maxiter,\n\u001b[0m\u001b[0;32m    630\u001b[0m                                      \u001b[0mcallback\u001b[0m\u001b[1;33m=\u001b[0m\u001b[0mcallback\u001b[0m\u001b[1;33m,\u001b[0m \u001b[0margs\u001b[0m\u001b[1;33m=\u001b[0m\u001b[0mfargs\u001b[0m\u001b[1;33m,\u001b[0m\u001b[1;33m\u001b[0m\u001b[1;33m\u001b[0m\u001b[0m\n\u001b[0;32m    631\u001b[0m                                      \u001b[0mbounds\u001b[0m\u001b[1;33m=\u001b[0m\u001b[0mbounds\u001b[0m\u001b[1;33m,\u001b[0m \u001b[0mdisp\u001b[0m\u001b[1;33m=\u001b[0m\u001b[0mdisp\u001b[0m\u001b[1;33m,\u001b[0m\u001b[1;33m\u001b[0m\u001b[1;33m\u001b[0m\u001b[0m\n",
      "\u001b[1;32m~\\Anaconda3\\lib\\site-packages\\scipy\\optimize\\lbfgsb.py\u001b[0m in \u001b[0;36mfmin_l_bfgs_b\u001b[1;34m(func, x0, fprime, args, approx_grad, bounds, m, factr, pgtol, epsilon, iprint, maxfun, maxiter, disp, callback, maxls)\u001b[0m\n\u001b[0;32m    195\u001b[0m             'maxls': maxls}\n\u001b[0;32m    196\u001b[0m \u001b[1;33m\u001b[0m\u001b[0m\n\u001b[1;32m--> 197\u001b[1;33m     res = _minimize_lbfgsb(fun, x0, args=args, jac=jac, bounds=bounds,\n\u001b[0m\u001b[0;32m    198\u001b[0m                            **opts)\n\u001b[0;32m    199\u001b[0m     d = {'grad': res['jac'],\n",
      "\u001b[1;32m~\\Anaconda3\\lib\\site-packages\\scipy\\optimize\\lbfgsb.py\u001b[0m in \u001b[0;36m_minimize_lbfgsb\u001b[1;34m(fun, x0, args, jac, bounds, disp, maxcor, ftol, gtol, eps, maxfun, maxiter, iprint, callback, maxls, finite_diff_rel_step, **unknown_options)\u001b[0m\n\u001b[0;32m    358\u001b[0m             \u001b[1;31m# until the completion of the current minimization iteration.\u001b[0m\u001b[1;33m\u001b[0m\u001b[1;33m\u001b[0m\u001b[1;33m\u001b[0m\u001b[0m\n\u001b[0;32m    359\u001b[0m             \u001b[1;31m# Overwrite f and g:\u001b[0m\u001b[1;33m\u001b[0m\u001b[1;33m\u001b[0m\u001b[1;33m\u001b[0m\u001b[0m\n\u001b[1;32m--> 360\u001b[1;33m             \u001b[0mf\u001b[0m\u001b[1;33m,\u001b[0m \u001b[0mg\u001b[0m \u001b[1;33m=\u001b[0m \u001b[0mfunc_and_grad\u001b[0m\u001b[1;33m(\u001b[0m\u001b[0mx\u001b[0m\u001b[1;33m)\u001b[0m\u001b[1;33m\u001b[0m\u001b[1;33m\u001b[0m\u001b[0m\n\u001b[0m\u001b[0;32m    361\u001b[0m         \u001b[1;32melif\u001b[0m \u001b[0mtask_str\u001b[0m\u001b[1;33m.\u001b[0m\u001b[0mstartswith\u001b[0m\u001b[1;33m(\u001b[0m\u001b[1;34mb'NEW_X'\u001b[0m\u001b[1;33m)\u001b[0m\u001b[1;33m:\u001b[0m\u001b[1;33m\u001b[0m\u001b[1;33m\u001b[0m\u001b[0m\n\u001b[0;32m    362\u001b[0m             \u001b[1;31m# new iteration\u001b[0m\u001b[1;33m\u001b[0m\u001b[1;33m\u001b[0m\u001b[1;33m\u001b[0m\u001b[0m\n",
      "\u001b[1;32m~\\Anaconda3\\lib\\site-packages\\scipy\\optimize\\_differentiable_functions.py\u001b[0m in \u001b[0;36mfun_and_grad\u001b[1;34m(self, x)\u001b[0m\n\u001b[0;32m    266\u001b[0m             \u001b[0mself\u001b[0m\u001b[1;33m.\u001b[0m\u001b[0m_update_x_impl\u001b[0m\u001b[1;33m(\u001b[0m\u001b[0mx\u001b[0m\u001b[1;33m)\u001b[0m\u001b[1;33m\u001b[0m\u001b[1;33m\u001b[0m\u001b[0m\n\u001b[0;32m    267\u001b[0m         \u001b[0mself\u001b[0m\u001b[1;33m.\u001b[0m\u001b[0m_update_fun\u001b[0m\u001b[1;33m(\u001b[0m\u001b[1;33m)\u001b[0m\u001b[1;33m\u001b[0m\u001b[1;33m\u001b[0m\u001b[0m\n\u001b[1;32m--> 268\u001b[1;33m         \u001b[0mself\u001b[0m\u001b[1;33m.\u001b[0m\u001b[0m_update_grad\u001b[0m\u001b[1;33m(\u001b[0m\u001b[1;33m)\u001b[0m\u001b[1;33m\u001b[0m\u001b[1;33m\u001b[0m\u001b[0m\n\u001b[0m\u001b[0;32m    269\u001b[0m         \u001b[1;32mreturn\u001b[0m \u001b[0mself\u001b[0m\u001b[1;33m.\u001b[0m\u001b[0mf\u001b[0m\u001b[1;33m,\u001b[0m \u001b[0mself\u001b[0m\u001b[1;33m.\u001b[0m\u001b[0mg\u001b[0m\u001b[1;33m\u001b[0m\u001b[1;33m\u001b[0m\u001b[0m\n\u001b[0;32m    270\u001b[0m \u001b[1;33m\u001b[0m\u001b[0m\n",
      "\u001b[1;32m~\\Anaconda3\\lib\\site-packages\\scipy\\optimize\\_differentiable_functions.py\u001b[0m in \u001b[0;36m_update_grad\u001b[1;34m(self)\u001b[0m\n\u001b[0;32m    236\u001b[0m     \u001b[1;32mdef\u001b[0m \u001b[0m_update_grad\u001b[0m\u001b[1;33m(\u001b[0m\u001b[0mself\u001b[0m\u001b[1;33m)\u001b[0m\u001b[1;33m:\u001b[0m\u001b[1;33m\u001b[0m\u001b[1;33m\u001b[0m\u001b[0m\n\u001b[0;32m    237\u001b[0m         \u001b[1;32mif\u001b[0m \u001b[1;32mnot\u001b[0m \u001b[0mself\u001b[0m\u001b[1;33m.\u001b[0m\u001b[0mg_updated\u001b[0m\u001b[1;33m:\u001b[0m\u001b[1;33m\u001b[0m\u001b[1;33m\u001b[0m\u001b[0m\n\u001b[1;32m--> 238\u001b[1;33m             \u001b[0mself\u001b[0m\u001b[1;33m.\u001b[0m\u001b[0m_update_grad_impl\u001b[0m\u001b[1;33m(\u001b[0m\u001b[1;33m)\u001b[0m\u001b[1;33m\u001b[0m\u001b[1;33m\u001b[0m\u001b[0m\n\u001b[0m\u001b[0;32m    239\u001b[0m             \u001b[0mself\u001b[0m\u001b[1;33m.\u001b[0m\u001b[0mg_updated\u001b[0m \u001b[1;33m=\u001b[0m \u001b[1;32mTrue\u001b[0m\u001b[1;33m\u001b[0m\u001b[1;33m\u001b[0m\u001b[0m\n\u001b[0;32m    240\u001b[0m \u001b[1;33m\u001b[0m\u001b[0m\n",
      "\u001b[1;32m~\\Anaconda3\\lib\\site-packages\\scipy\\optimize\\_differentiable_functions.py\u001b[0m in \u001b[0;36mupdate_grad\u001b[1;34m()\u001b[0m\n\u001b[0;32m    153\u001b[0m                 \u001b[0mself\u001b[0m\u001b[1;33m.\u001b[0m\u001b[0m_update_fun\u001b[0m\u001b[1;33m(\u001b[0m\u001b[1;33m)\u001b[0m\u001b[1;33m\u001b[0m\u001b[1;33m\u001b[0m\u001b[0m\n\u001b[0;32m    154\u001b[0m                 \u001b[0mself\u001b[0m\u001b[1;33m.\u001b[0m\u001b[0mngev\u001b[0m \u001b[1;33m+=\u001b[0m \u001b[1;36m1\u001b[0m\u001b[1;33m\u001b[0m\u001b[1;33m\u001b[0m\u001b[0m\n\u001b[1;32m--> 155\u001b[1;33m                 self.g = approx_derivative(fun_wrapped, self.x, f0=self.f,\n\u001b[0m\u001b[0;32m    156\u001b[0m                                            **finite_diff_options)\n\u001b[0;32m    157\u001b[0m \u001b[1;33m\u001b[0m\u001b[0m\n",
      "\u001b[1;32m~\\Anaconda3\\lib\\site-packages\\scipy\\optimize\\_numdiff.py\u001b[0m in \u001b[0;36mapprox_derivative\u001b[1;34m(fun, x0, method, rel_step, abs_step, f0, bounds, sparsity, as_linear_operator, args, kwargs)\u001b[0m\n\u001b[0;32m    484\u001b[0m \u001b[1;33m\u001b[0m\u001b[0m\n\u001b[0;32m    485\u001b[0m         \u001b[1;32mif\u001b[0m \u001b[0msparsity\u001b[0m \u001b[1;32mis\u001b[0m \u001b[1;32mNone\u001b[0m\u001b[1;33m:\u001b[0m\u001b[1;33m\u001b[0m\u001b[1;33m\u001b[0m\u001b[0m\n\u001b[1;32m--> 486\u001b[1;33m             return _dense_difference(fun_wrapped, x0, f0, h,\n\u001b[0m\u001b[0;32m    487\u001b[0m                                      use_one_sided, method)\n\u001b[0;32m    488\u001b[0m         \u001b[1;32melse\u001b[0m\u001b[1;33m:\u001b[0m\u001b[1;33m\u001b[0m\u001b[1;33m\u001b[0m\u001b[0m\n",
      "\u001b[1;32m~\\Anaconda3\\lib\\site-packages\\scipy\\optimize\\_numdiff.py\u001b[0m in \u001b[0;36m_dense_difference\u001b[1;34m(fun, x0, f0, h, use_one_sided, method)\u001b[0m\n\u001b[0;32m    555\u001b[0m             \u001b[0mx\u001b[0m \u001b[1;33m=\u001b[0m \u001b[0mx0\u001b[0m \u001b[1;33m+\u001b[0m \u001b[0mh_vecs\u001b[0m\u001b[1;33m[\u001b[0m\u001b[0mi\u001b[0m\u001b[1;33m]\u001b[0m\u001b[1;33m\u001b[0m\u001b[1;33m\u001b[0m\u001b[0m\n\u001b[0;32m    556\u001b[0m             \u001b[0mdx\u001b[0m \u001b[1;33m=\u001b[0m \u001b[0mx\u001b[0m\u001b[1;33m[\u001b[0m\u001b[0mi\u001b[0m\u001b[1;33m]\u001b[0m \u001b[1;33m-\u001b[0m \u001b[0mx0\u001b[0m\u001b[1;33m[\u001b[0m\u001b[0mi\u001b[0m\u001b[1;33m]\u001b[0m  \u001b[1;31m# Recompute dx as exactly representable number.\u001b[0m\u001b[1;33m\u001b[0m\u001b[1;33m\u001b[0m\u001b[0m\n\u001b[1;32m--> 557\u001b[1;33m             \u001b[0mdf\u001b[0m \u001b[1;33m=\u001b[0m \u001b[0mfun\u001b[0m\u001b[1;33m(\u001b[0m\u001b[0mx\u001b[0m\u001b[1;33m)\u001b[0m \u001b[1;33m-\u001b[0m \u001b[0mf0\u001b[0m\u001b[1;33m\u001b[0m\u001b[1;33m\u001b[0m\u001b[0m\n\u001b[0m\u001b[0;32m    558\u001b[0m         \u001b[1;32melif\u001b[0m \u001b[0mmethod\u001b[0m \u001b[1;33m==\u001b[0m \u001b[1;34m'3-point'\u001b[0m \u001b[1;32mand\u001b[0m \u001b[0muse_one_sided\u001b[0m\u001b[1;33m[\u001b[0m\u001b[0mi\u001b[0m\u001b[1;33m]\u001b[0m\u001b[1;33m:\u001b[0m\u001b[1;33m\u001b[0m\u001b[1;33m\u001b[0m\u001b[0m\n\u001b[0;32m    559\u001b[0m             \u001b[0mx1\u001b[0m \u001b[1;33m=\u001b[0m \u001b[0mx0\u001b[0m \u001b[1;33m+\u001b[0m \u001b[0mh_vecs\u001b[0m\u001b[1;33m[\u001b[0m\u001b[0mi\u001b[0m\u001b[1;33m]\u001b[0m\u001b[1;33m\u001b[0m\u001b[1;33m\u001b[0m\u001b[0m\n",
      "\u001b[1;32m~\\Anaconda3\\lib\\site-packages\\scipy\\optimize\\_numdiff.py\u001b[0m in \u001b[0;36mfun_wrapped\u001b[1;34m(x)\u001b[0m\n\u001b[0;32m    435\u001b[0m \u001b[1;33m\u001b[0m\u001b[0m\n\u001b[0;32m    436\u001b[0m     \u001b[1;32mdef\u001b[0m \u001b[0mfun_wrapped\u001b[0m\u001b[1;33m(\u001b[0m\u001b[0mx\u001b[0m\u001b[1;33m)\u001b[0m\u001b[1;33m:\u001b[0m\u001b[1;33m\u001b[0m\u001b[1;33m\u001b[0m\u001b[0m\n\u001b[1;32m--> 437\u001b[1;33m         \u001b[0mf\u001b[0m \u001b[1;33m=\u001b[0m \u001b[0mnp\u001b[0m\u001b[1;33m.\u001b[0m\u001b[0matleast_1d\u001b[0m\u001b[1;33m(\u001b[0m\u001b[0mfun\u001b[0m\u001b[1;33m(\u001b[0m\u001b[0mx\u001b[0m\u001b[1;33m,\u001b[0m \u001b[1;33m*\u001b[0m\u001b[0margs\u001b[0m\u001b[1;33m,\u001b[0m \u001b[1;33m**\u001b[0m\u001b[0mkwargs\u001b[0m\u001b[1;33m)\u001b[0m\u001b[1;33m)\u001b[0m\u001b[1;33m\u001b[0m\u001b[1;33m\u001b[0m\u001b[0m\n\u001b[0m\u001b[0;32m    438\u001b[0m         \u001b[1;32mif\u001b[0m \u001b[0mf\u001b[0m\u001b[1;33m.\u001b[0m\u001b[0mndim\u001b[0m \u001b[1;33m>\u001b[0m \u001b[1;36m1\u001b[0m\u001b[1;33m:\u001b[0m\u001b[1;33m\u001b[0m\u001b[1;33m\u001b[0m\u001b[0m\n\u001b[0;32m    439\u001b[0m             raise RuntimeError(\"`fun` return value has \"\n",
      "\u001b[1;32m~\\Anaconda3\\lib\\site-packages\\scipy\\optimize\\_differentiable_functions.py\u001b[0m in \u001b[0;36mfun_wrapped\u001b[1;34m(x)\u001b[0m\n\u001b[0;32m    132\u001b[0m             \u001b[1;31m# Overwriting results in undefined behaviour because\u001b[0m\u001b[1;33m\u001b[0m\u001b[1;33m\u001b[0m\u001b[1;33m\u001b[0m\u001b[0m\n\u001b[0;32m    133\u001b[0m             \u001b[1;31m# fun(self.x) will change self.x, with the two no longer linked.\u001b[0m\u001b[1;33m\u001b[0m\u001b[1;33m\u001b[0m\u001b[1;33m\u001b[0m\u001b[0m\n\u001b[1;32m--> 134\u001b[1;33m             \u001b[1;32mreturn\u001b[0m \u001b[0mfun\u001b[0m\u001b[1;33m(\u001b[0m\u001b[0mnp\u001b[0m\u001b[1;33m.\u001b[0m\u001b[0mcopy\u001b[0m\u001b[1;33m(\u001b[0m\u001b[0mx\u001b[0m\u001b[1;33m)\u001b[0m\u001b[1;33m,\u001b[0m \u001b[1;33m*\u001b[0m\u001b[0margs\u001b[0m\u001b[1;33m)\u001b[0m\u001b[1;33m\u001b[0m\u001b[1;33m\u001b[0m\u001b[0m\n\u001b[0m\u001b[0;32m    135\u001b[0m \u001b[1;33m\u001b[0m\u001b[0m\n\u001b[0;32m    136\u001b[0m         \u001b[1;32mdef\u001b[0m \u001b[0mupdate_fun\u001b[0m\u001b[1;33m(\u001b[0m\u001b[1;33m)\u001b[0m\u001b[1;33m:\u001b[0m\u001b[1;33m\u001b[0m\u001b[1;33m\u001b[0m\u001b[0m\n",
      "\u001b[1;32m~\\Anaconda3\\lib\\site-packages\\statsmodels\\base\\model.py\u001b[0m in \u001b[0;36mf\u001b[1;34m(params, *args)\u001b[0m\n\u001b[0;32m    499\u001b[0m \u001b[1;33m\u001b[0m\u001b[0m\n\u001b[0;32m    500\u001b[0m         \u001b[1;32mdef\u001b[0m \u001b[0mf\u001b[0m\u001b[1;33m(\u001b[0m\u001b[0mparams\u001b[0m\u001b[1;33m,\u001b[0m \u001b[1;33m*\u001b[0m\u001b[0margs\u001b[0m\u001b[1;33m)\u001b[0m\u001b[1;33m:\u001b[0m\u001b[1;33m\u001b[0m\u001b[1;33m\u001b[0m\u001b[0m\n\u001b[1;32m--> 501\u001b[1;33m             \u001b[1;32mreturn\u001b[0m \u001b[1;33m-\u001b[0m\u001b[0mself\u001b[0m\u001b[1;33m.\u001b[0m\u001b[0mloglike\u001b[0m\u001b[1;33m(\u001b[0m\u001b[0mparams\u001b[0m\u001b[1;33m,\u001b[0m \u001b[1;33m*\u001b[0m\u001b[0margs\u001b[0m\u001b[1;33m)\u001b[0m \u001b[1;33m/\u001b[0m \u001b[0mnobs\u001b[0m\u001b[1;33m\u001b[0m\u001b[1;33m\u001b[0m\u001b[0m\n\u001b[0m\u001b[0;32m    502\u001b[0m \u001b[1;33m\u001b[0m\u001b[0m\n\u001b[0;32m    503\u001b[0m         \u001b[1;32mif\u001b[0m \u001b[0mmethod\u001b[0m \u001b[1;33m==\u001b[0m \u001b[1;34m'newton'\u001b[0m\u001b[1;33m:\u001b[0m\u001b[1;33m\u001b[0m\u001b[1;33m\u001b[0m\u001b[0m\n",
      "\u001b[1;32m~\\Anaconda3\\lib\\site-packages\\statsmodels\\tsa\\statespace\\mlemodel.py\u001b[0m in \u001b[0;36mloglike\u001b[1;34m(self, params, *args, **kwargs)\u001b[0m\n\u001b[0;32m    917\u001b[0m         params = self.handle_params(params, transformed=transformed,\n\u001b[0;32m    918\u001b[0m                                     includes_fixed=includes_fixed)\n\u001b[1;32m--> 919\u001b[1;33m         self.update(params, transformed=True, includes_fixed=True,\n\u001b[0m\u001b[0;32m    920\u001b[0m                     complex_step=complex_step)\n\u001b[0;32m    921\u001b[0m \u001b[1;33m\u001b[0m\u001b[0m\n",
      "\u001b[1;32m~\\Anaconda3\\lib\\site-packages\\statsmodels\\tsa\\statespace\\sarimax.py\u001b[0m in \u001b[0;36mupdate\u001b[1;34m(self, params, transformed, includes_fixed, complex_step)\u001b[0m\n\u001b[0;32m   1631\u001b[0m             \u001b[0mreduced_polynomial_ar\u001b[0m \u001b[1;33m=\u001b[0m \u001b[1;33m-\u001b[0m\u001b[0mself\u001b[0m\u001b[1;33m.\u001b[0m\u001b[0m_polynomial_ar\u001b[0m\u001b[1;33m\u001b[0m\u001b[1;33m\u001b[0m\u001b[0m\n\u001b[0;32m   1632\u001b[0m         \u001b[1;32mif\u001b[0m \u001b[0mself\u001b[0m\u001b[1;33m.\u001b[0m\u001b[0mk_seasonal_ma\u001b[0m \u001b[1;33m>\u001b[0m \u001b[1;36m0\u001b[0m\u001b[1;33m:\u001b[0m\u001b[1;33m\u001b[0m\u001b[1;33m\u001b[0m\u001b[0m\n\u001b[1;32m-> 1633\u001b[1;33m             reduced_polynomial_ma = np.polymul(\n\u001b[0m\u001b[0;32m   1634\u001b[0m                 \u001b[0mself\u001b[0m\u001b[1;33m.\u001b[0m\u001b[0m_polynomial_ma\u001b[0m\u001b[1;33m,\u001b[0m \u001b[0mself\u001b[0m\u001b[1;33m.\u001b[0m\u001b[0m_polynomial_seasonal_ma\u001b[0m\u001b[1;33m\u001b[0m\u001b[1;33m\u001b[0m\u001b[0m\n\u001b[0;32m   1635\u001b[0m             )\n",
      "\u001b[1;32m<__array_function__ internals>\u001b[0m in \u001b[0;36mpolymul\u001b[1;34m(*args, **kwargs)\u001b[0m\n",
      "\u001b[1;32m~\\Anaconda3\\lib\\site-packages\\numpy\\lib\\polynomial.py\u001b[0m in \u001b[0;36mpolymul\u001b[1;34m(a1, a2)\u001b[0m\n\u001b[0;32m    956\u001b[0m     \u001b[0mtruepoly\u001b[0m \u001b[1;33m=\u001b[0m \u001b[1;33m(\u001b[0m\u001b[0misinstance\u001b[0m\u001b[1;33m(\u001b[0m\u001b[0ma1\u001b[0m\u001b[1;33m,\u001b[0m \u001b[0mpoly1d\u001b[0m\u001b[1;33m)\u001b[0m \u001b[1;32mor\u001b[0m \u001b[0misinstance\u001b[0m\u001b[1;33m(\u001b[0m\u001b[0ma2\u001b[0m\u001b[1;33m,\u001b[0m \u001b[0mpoly1d\u001b[0m\u001b[1;33m)\u001b[0m\u001b[1;33m)\u001b[0m\u001b[1;33m\u001b[0m\u001b[1;33m\u001b[0m\u001b[0m\n\u001b[0;32m    957\u001b[0m     \u001b[0ma1\u001b[0m\u001b[1;33m,\u001b[0m \u001b[0ma2\u001b[0m \u001b[1;33m=\u001b[0m \u001b[0mpoly1d\u001b[0m\u001b[1;33m(\u001b[0m\u001b[0ma1\u001b[0m\u001b[1;33m)\u001b[0m\u001b[1;33m,\u001b[0m \u001b[0mpoly1d\u001b[0m\u001b[1;33m(\u001b[0m\u001b[0ma2\u001b[0m\u001b[1;33m)\u001b[0m\u001b[1;33m\u001b[0m\u001b[1;33m\u001b[0m\u001b[0m\n\u001b[1;32m--> 958\u001b[1;33m     \u001b[0mval\u001b[0m \u001b[1;33m=\u001b[0m \u001b[0mNX\u001b[0m\u001b[1;33m.\u001b[0m\u001b[0mconvolve\u001b[0m\u001b[1;33m(\u001b[0m\u001b[0ma1\u001b[0m\u001b[1;33m,\u001b[0m \u001b[0ma2\u001b[0m\u001b[1;33m)\u001b[0m\u001b[1;33m\u001b[0m\u001b[1;33m\u001b[0m\u001b[0m\n\u001b[0m\u001b[0;32m    959\u001b[0m     \u001b[1;32mif\u001b[0m \u001b[0mtruepoly\u001b[0m\u001b[1;33m:\u001b[0m\u001b[1;33m\u001b[0m\u001b[1;33m\u001b[0m\u001b[0m\n\u001b[0;32m    960\u001b[0m         \u001b[0mval\u001b[0m \u001b[1;33m=\u001b[0m \u001b[0mpoly1d\u001b[0m\u001b[1;33m(\u001b[0m\u001b[0mval\u001b[0m\u001b[1;33m)\u001b[0m\u001b[1;33m\u001b[0m\u001b[1;33m\u001b[0m\u001b[0m\n",
      "\u001b[1;32m<__array_function__ internals>\u001b[0m in \u001b[0;36mconvolve\u001b[1;34m(*args, **kwargs)\u001b[0m\n",
      "\u001b[1;32m~\\Anaconda3\\lib\\site-packages\\numpy\\core\\numeric.py\u001b[0m in \u001b[0;36mconvolve\u001b[1;34m(a, v, mode)\u001b[0m\n\u001b[0;32m    848\u001b[0m         \u001b[1;32mraise\u001b[0m \u001b[0mValueError\u001b[0m\u001b[1;33m(\u001b[0m\u001b[1;34m'v cannot be empty'\u001b[0m\u001b[1;33m)\u001b[0m\u001b[1;33m\u001b[0m\u001b[1;33m\u001b[0m\u001b[0m\n\u001b[0;32m    849\u001b[0m     \u001b[0mmode\u001b[0m \u001b[1;33m=\u001b[0m \u001b[0m_mode_from_name\u001b[0m\u001b[1;33m(\u001b[0m\u001b[0mmode\u001b[0m\u001b[1;33m)\u001b[0m\u001b[1;33m\u001b[0m\u001b[1;33m\u001b[0m\u001b[0m\n\u001b[1;32m--> 850\u001b[1;33m     \u001b[1;32mreturn\u001b[0m \u001b[0mmultiarray\u001b[0m\u001b[1;33m.\u001b[0m\u001b[0mcorrelate\u001b[0m\u001b[1;33m(\u001b[0m\u001b[0ma\u001b[0m\u001b[1;33m,\u001b[0m \u001b[0mv\u001b[0m\u001b[1;33m[\u001b[0m\u001b[1;33m:\u001b[0m\u001b[1;33m:\u001b[0m\u001b[1;33m-\u001b[0m\u001b[1;36m1\u001b[0m\u001b[1;33m]\u001b[0m\u001b[1;33m,\u001b[0m \u001b[0mmode\u001b[0m\u001b[1;33m)\u001b[0m\u001b[1;33m\u001b[0m\u001b[1;33m\u001b[0m\u001b[0m\n\u001b[0m\u001b[0;32m    851\u001b[0m \u001b[1;33m\u001b[0m\u001b[0m\n\u001b[0;32m    852\u001b[0m \u001b[1;33m\u001b[0m\u001b[0m\n",
      "\u001b[1;31mKeyboardInterrupt\u001b[0m: "
     ]
    }
   ],
   "metadata": {}
  },
  {
   "cell_type": "code",
   "execution_count": 60,
   "source": [
    "result_table2.sort_values(by = 'AIC', ascending=True).head()\r\n"
   ],
   "outputs": [
    {
     "output_type": "execute_result",
     "data": {
      "text/plain": [
       "          Parameters          AIC\n",
       "320  (1, 2, 1, 2, n)  2428.249635\n",
       "288  (1, 1, 1, 2, n)  2428.320040\n",
       "88   (0, 2, 1, 2, n)  2428.695778\n",
       "120  (0, 3, 1, 2, n)  2429.447720\n",
       "56   (0, 1, 1, 2, n)  2429.467435"
      ],
      "text/html": [
       "<div>\n",
       "<style scoped>\n",
       "    .dataframe tbody tr th:only-of-type {\n",
       "        vertical-align: middle;\n",
       "    }\n",
       "\n",
       "    .dataframe tbody tr th {\n",
       "        vertical-align: top;\n",
       "    }\n",
       "\n",
       "    .dataframe thead th {\n",
       "        text-align: right;\n",
       "    }\n",
       "</style>\n",
       "<table border=\"1\" class=\"dataframe\">\n",
       "  <thead>\n",
       "    <tr style=\"text-align: right;\">\n",
       "      <th></th>\n",
       "      <th>Parameters</th>\n",
       "      <th>AIC</th>\n",
       "    </tr>\n",
       "  </thead>\n",
       "  <tbody>\n",
       "    <tr>\n",
       "      <th>320</th>\n",
       "      <td>(1, 2, 1, 2, n)</td>\n",
       "      <td>2428.249635</td>\n",
       "    </tr>\n",
       "    <tr>\n",
       "      <th>288</th>\n",
       "      <td>(1, 1, 1, 2, n)</td>\n",
       "      <td>2428.320040</td>\n",
       "    </tr>\n",
       "    <tr>\n",
       "      <th>88</th>\n",
       "      <td>(0, 2, 1, 2, n)</td>\n",
       "      <td>2428.695778</td>\n",
       "    </tr>\n",
       "    <tr>\n",
       "      <th>120</th>\n",
       "      <td>(0, 3, 1, 2, n)</td>\n",
       "      <td>2429.447720</td>\n",
       "    </tr>\n",
       "    <tr>\n",
       "      <th>56</th>\n",
       "      <td>(0, 1, 1, 2, n)</td>\n",
       "      <td>2429.467435</td>\n",
       "    </tr>\n",
       "  </tbody>\n",
       "</table>\n",
       "</div>"
      ]
     },
     "metadata": {},
     "execution_count": 60
    }
   ],
   "metadata": {}
  },
  {
   "cell_type": "code",
   "execution_count": null,
   "source": [
    "Лучшей моделью получилась SARIMA (1,1,2)x(1,1,2)."
   ],
   "outputs": [],
   "metadata": {}
  },
  {
   "cell_type": "code",
   "execution_count": 62,
   "source": [
    "best_model2=sm.tsa.statespace.SARIMAX(girls.Births, order=(1,1,2), trend='n', seasonal_order=(1,1,2,7)).fit(disp=-1)\r\n",
    "print(best_model2.summary())"
   ],
   "outputs": [
    {
     "output_type": "stream",
     "name": "stdout",
     "text": [
      "                                     SARIMAX Results                                     \n",
      "=========================================================================================\n",
      "Dep. Variable:                            Births   No. Observations:                  365\n",
      "Model:             SARIMAX(1, 1, 2)x(1, 1, 2, 7)   Log Likelihood               -1207.125\n",
      "Date:                           Sat, 07 Aug 2021   AIC                           2428.250\n",
      "Time:                                   19:58:55   BIC                           2455.394\n",
      "Sample:                               01-01-1959   HQIC                          2439.046\n",
      "                                    - 12-31-1959                                         \n",
      "Covariance Type:                             opg                                         \n",
      "==============================================================================\n",
      "                 coef    std err          z      P>|z|      [0.025      0.975]\n",
      "------------------------------------------------------------------------------\n",
      "ar.L1          0.6793      0.287      2.369      0.018       0.117       1.241\n",
      "ma.L1         -1.5431      0.320     -4.822      0.000      -2.170      -0.916\n",
      "ma.L2          0.5538      0.308      1.798      0.072      -0.050       1.157\n",
      "ar.S.L7       -0.7430      0.164     -4.523      0.000      -1.065      -0.421\n",
      "ma.S.L7       -0.1206      0.140     -0.862      0.389      -0.395       0.154\n",
      "ma.S.L14      -0.7957      0.128     -6.205      0.000      -1.047      -0.544\n",
      "sigma2        47.5587      3.513     13.536      0.000      40.672      54.445\n",
      "===================================================================================\n",
      "Ljung-Box (L1) (Q):                   0.02   Jarque-Bera (JB):                17.73\n",
      "Prob(Q):                              0.89   Prob(JB):                         0.00\n",
      "Heteroskedasticity (H):               0.91   Skew:                             0.52\n",
      "Prob(H) (two-sided):                  0.61   Kurtosis:                         3.33\n",
      "===================================================================================\n",
      "\n",
      "Warnings:\n",
      "[1] Covariance matrix calculated using the outer product of gradients (complex-step).\n"
     ]
    }
   ],
   "metadata": {}
  },
  {
   "cell_type": "markdown",
   "source": [
    "**Несмещенность.** Проверим несмещенность с помощью критерия знаков (самый универсальный критерий).\r\n"
   ],
   "metadata": {}
  },
  {
   "cell_type": "code",
   "execution_count": 65,
   "source": [
    "print(\"Критерий знаков для остатков: pvalue =\",sign_test(best_model2.resid[13:])[1])\r\n"
   ],
   "outputs": [
    {
     "output_type": "stream",
     "name": "stdout",
     "text": [
      "Критерий знаков для остатков: pvalue = 0.016340436317813394\n"
     ]
    }
   ],
   "metadata": {}
  },
  {
   "cell_type": "markdown",
   "source": [
    "**Стационарность.** Проверим стационарность с помщью критерия Дики-Фуллера.\r\n"
   ],
   "metadata": {}
  },
  {
   "cell_type": "code",
   "execution_count": 66,
   "source": [
    "print(\"Критерий Дики-Фуллера для остатков: pvalue =\",sm.tsa.stattools.adfuller(best_model2.resid[13:])[1])\r\n"
   ],
   "outputs": [
    {
     "output_type": "stream",
     "name": "stdout",
     "text": [
      "Критерий Дики-Фуллера для остатков: pvalue = 2.092616915145717e-30\n"
     ]
    }
   ],
   "metadata": {}
  },
  {
   "cell_type": "markdown",
   "source": [
    "**Неавтокоррелированность.** Чтобы определить независимость остаткок, посмотрим на график автокорреляционной функции.\r\n"
   ],
   "metadata": {}
  },
  {
   "cell_type": "code",
   "execution_count": 67,
   "source": [
    "sm.graphics.tsa.plot_acf(best_model2.resid[13:].values.squeeze(), lags=15)\r\n",
    "plt.show()\r\n"
   ],
   "outputs": [
    {
     "output_type": "display_data",
     "data": {
      "text/plain": [
       "Canvas(toolbar=Toolbar(toolitems=[('Home', 'Reset original view', 'home', 'home'), ('Back', 'Back to previous …"
      ],
      "application/vnd.jupyter.widget-view+json": {
       "version_major": 2,
       "version_minor": 0,
       "model_id": "14994efc46bd4996865be31c4c9c5439"
      }
     },
     "metadata": {}
    }
   ],
   "metadata": {}
  },
  {
   "cell_type": "markdown",
   "source": [
    "Еще и по Jarque-Bera не отвергается гипотеза о нормальности\r\n"
   ],
   "metadata": {}
  },
  {
   "cell_type": "code",
   "execution_count": 68,
   "source": [
    "figure = best_model2.plot_diagnostics()"
   ],
   "outputs": [
    {
     "output_type": "display_data",
     "data": {
      "text/plain": [
       "Canvas(toolbar=Toolbar(toolitems=[('Home', 'Reset original view', 'home', 'home'), ('Back', 'Back to previous …"
      ],
      "application/vnd.jupyter.widget-view+json": {
       "version_major": 2,
       "version_minor": 0,
       "model_id": "1af199b68ca84ba29b9ed7d14f54afd7"
      }
     },
     "metadata": {}
    }
   ],
   "metadata": {}
  },
  {
   "cell_type": "code",
   "execution_count": 70,
   "source": [
    "best_model2.get_forecast(31).conf_int()"
   ],
   "outputs": [
    {
     "output_type": "execute_result",
     "data": {
      "text/plain": [
       "            lower Births  upper Births\n",
       "1960-01-01     31.820696     58.865920\n",
       "1960-01-02     30.401909     57.697331\n",
       "1960-01-03     28.007258     55.445230\n",
       "1960-01-04     32.620898     60.145795\n",
       "1960-01-05     32.219036     59.800985\n",
       "1960-01-06     33.907507     61.529831\n",
       "1960-01-07     32.809002     60.462036\n",
       "1960-01-08     30.431369     58.512237\n",
       "1960-01-09     30.353791     58.479601\n",
       "1960-01-10     27.582619     55.743583\n",
       "1960-01-11     29.938443     58.128603\n",
       "1960-01-12     31.236886     59.452522\n",
       "1960-01-13     31.599527     59.838273\n",
       "1960-01-14     30.410910     58.671327\n",
       "1960-01-15     30.013883     58.280864\n",
       "1960-01-16     29.389072     57.673502\n",
       "1960-01-17     27.190380     55.492366\n",
       "1960-01-18     31.416695     59.736316\n",
       "1960-01-19     31.580105     59.917424\n",
       "1960-01-20     33.013390     61.368465\n",
       "1960-01-21     31.948898     60.321951\n",
       "1960-01-22     30.158744     58.765163\n",
       "1960-01-23     29.967195     58.606085\n",
       "1960-01-24     27.360568     56.027876\n",
       "1960-01-25     30.208437     58.901570\n",
       "1960-01-26     31.222324     59.939601\n",
       "1960-01-27     31.864603     60.604934\n",
       "1960-01-28     30.710418     59.473353\n",
       "1960-01-29     29.971657     58.771476\n",
       "1960-01-30     29.458901     58.281847\n",
       "1960-01-31     27.155397     56.000785"
      ],
      "text/html": [
       "<div>\n",
       "<style scoped>\n",
       "    .dataframe tbody tr th:only-of-type {\n",
       "        vertical-align: middle;\n",
       "    }\n",
       "\n",
       "    .dataframe tbody tr th {\n",
       "        vertical-align: top;\n",
       "    }\n",
       "\n",
       "    .dataframe thead th {\n",
       "        text-align: right;\n",
       "    }\n",
       "</style>\n",
       "<table border=\"1\" class=\"dataframe\">\n",
       "  <thead>\n",
       "    <tr style=\"text-align: right;\">\n",
       "      <th></th>\n",
       "      <th>lower Births</th>\n",
       "      <th>upper Births</th>\n",
       "    </tr>\n",
       "  </thead>\n",
       "  <tbody>\n",
       "    <tr>\n",
       "      <th>1960-01-01</th>\n",
       "      <td>31.820696</td>\n",
       "      <td>58.865920</td>\n",
       "    </tr>\n",
       "    <tr>\n",
       "      <th>1960-01-02</th>\n",
       "      <td>30.401909</td>\n",
       "      <td>57.697331</td>\n",
       "    </tr>\n",
       "    <tr>\n",
       "      <th>1960-01-03</th>\n",
       "      <td>28.007258</td>\n",
       "      <td>55.445230</td>\n",
       "    </tr>\n",
       "    <tr>\n",
       "      <th>1960-01-04</th>\n",
       "      <td>32.620898</td>\n",
       "      <td>60.145795</td>\n",
       "    </tr>\n",
       "    <tr>\n",
       "      <th>1960-01-05</th>\n",
       "      <td>32.219036</td>\n",
       "      <td>59.800985</td>\n",
       "    </tr>\n",
       "    <tr>\n",
       "      <th>1960-01-06</th>\n",
       "      <td>33.907507</td>\n",
       "      <td>61.529831</td>\n",
       "    </tr>\n",
       "    <tr>\n",
       "      <th>1960-01-07</th>\n",
       "      <td>32.809002</td>\n",
       "      <td>60.462036</td>\n",
       "    </tr>\n",
       "    <tr>\n",
       "      <th>1960-01-08</th>\n",
       "      <td>30.431369</td>\n",
       "      <td>58.512237</td>\n",
       "    </tr>\n",
       "    <tr>\n",
       "      <th>1960-01-09</th>\n",
       "      <td>30.353791</td>\n",
       "      <td>58.479601</td>\n",
       "    </tr>\n",
       "    <tr>\n",
       "      <th>1960-01-10</th>\n",
       "      <td>27.582619</td>\n",
       "      <td>55.743583</td>\n",
       "    </tr>\n",
       "    <tr>\n",
       "      <th>1960-01-11</th>\n",
       "      <td>29.938443</td>\n",
       "      <td>58.128603</td>\n",
       "    </tr>\n",
       "    <tr>\n",
       "      <th>1960-01-12</th>\n",
       "      <td>31.236886</td>\n",
       "      <td>59.452522</td>\n",
       "    </tr>\n",
       "    <tr>\n",
       "      <th>1960-01-13</th>\n",
       "      <td>31.599527</td>\n",
       "      <td>59.838273</td>\n",
       "    </tr>\n",
       "    <tr>\n",
       "      <th>1960-01-14</th>\n",
       "      <td>30.410910</td>\n",
       "      <td>58.671327</td>\n",
       "    </tr>\n",
       "    <tr>\n",
       "      <th>1960-01-15</th>\n",
       "      <td>30.013883</td>\n",
       "      <td>58.280864</td>\n",
       "    </tr>\n",
       "    <tr>\n",
       "      <th>1960-01-16</th>\n",
       "      <td>29.389072</td>\n",
       "      <td>57.673502</td>\n",
       "    </tr>\n",
       "    <tr>\n",
       "      <th>1960-01-17</th>\n",
       "      <td>27.190380</td>\n",
       "      <td>55.492366</td>\n",
       "    </tr>\n",
       "    <tr>\n",
       "      <th>1960-01-18</th>\n",
       "      <td>31.416695</td>\n",
       "      <td>59.736316</td>\n",
       "    </tr>\n",
       "    <tr>\n",
       "      <th>1960-01-19</th>\n",
       "      <td>31.580105</td>\n",
       "      <td>59.917424</td>\n",
       "    </tr>\n",
       "    <tr>\n",
       "      <th>1960-01-20</th>\n",
       "      <td>33.013390</td>\n",
       "      <td>61.368465</td>\n",
       "    </tr>\n",
       "    <tr>\n",
       "      <th>1960-01-21</th>\n",
       "      <td>31.948898</td>\n",
       "      <td>60.321951</td>\n",
       "    </tr>\n",
       "    <tr>\n",
       "      <th>1960-01-22</th>\n",
       "      <td>30.158744</td>\n",
       "      <td>58.765163</td>\n",
       "    </tr>\n",
       "    <tr>\n",
       "      <th>1960-01-23</th>\n",
       "      <td>29.967195</td>\n",
       "      <td>58.606085</td>\n",
       "    </tr>\n",
       "    <tr>\n",
       "      <th>1960-01-24</th>\n",
       "      <td>27.360568</td>\n",
       "      <td>56.027876</td>\n",
       "    </tr>\n",
       "    <tr>\n",
       "      <th>1960-01-25</th>\n",
       "      <td>30.208437</td>\n",
       "      <td>58.901570</td>\n",
       "    </tr>\n",
       "    <tr>\n",
       "      <th>1960-01-26</th>\n",
       "      <td>31.222324</td>\n",
       "      <td>59.939601</td>\n",
       "    </tr>\n",
       "    <tr>\n",
       "      <th>1960-01-27</th>\n",
       "      <td>31.864603</td>\n",
       "      <td>60.604934</td>\n",
       "    </tr>\n",
       "    <tr>\n",
       "      <th>1960-01-28</th>\n",
       "      <td>30.710418</td>\n",
       "      <td>59.473353</td>\n",
       "    </tr>\n",
       "    <tr>\n",
       "      <th>1960-01-29</th>\n",
       "      <td>29.971657</td>\n",
       "      <td>58.771476</td>\n",
       "    </tr>\n",
       "    <tr>\n",
       "      <th>1960-01-30</th>\n",
       "      <td>29.458901</td>\n",
       "      <td>58.281847</td>\n",
       "    </tr>\n",
       "    <tr>\n",
       "      <th>1960-01-31</th>\n",
       "      <td>27.155397</td>\n",
       "      <td>56.000785</td>\n",
       "    </tr>\n",
       "  </tbody>\n",
       "</table>\n",
       "</div>"
      ]
     },
     "metadata": {},
     "execution_count": 70
    }
   ],
   "metadata": {}
  },
  {
   "cell_type": "code",
   "execution_count": 77,
   "source": [
    "girls['model'] = best_model2.fittedvalues\r\n",
    "fig, ax = plt.subplots()\r\n",
    "ax.plot(girls.Births, label='actual')\r\n",
    "ax.plot(girls.model[15:], color='r', label='prediction')\r\n",
    "ax.plot(best_model2.get_forecast(31).predicted_mean, label='forecast')\r\n",
    "ax.plot(best_model2.get_forecast(31).conf_int()['lower Births'], label='lower_conf', color = 'gray')\r\n",
    "ax.plot(best_model2.get_forecast(31).conf_int()['upper Births'], label='upper_conf', color = 'gray')\r\n",
    "ax.fill_between(best_model2.get_forecast(31).predicted_mean.index, \r\n",
    "                best_model2.get_forecast(31).conf_int()['lower Births'], \r\n",
    "                best_model2.get_forecast(31).conf_int()['upper Births'], facecolor='lightgray', alpha=0.5)\r\n",
    "ax.legend()\r\n",
    "\r\n",
    "ax.set_ylabel('count')\r\n",
    "ax.set_title('births')\r\n",
    "fig.tight_layout()\r\n",
    "plt.show()"
   ],
   "outputs": [
    {
     "output_type": "display_data",
     "data": {
      "text/plain": [
       "Canvas(toolbar=Toolbar(toolitems=[('Home', 'Reset original view', 'home', 'home'), ('Back', 'Back to previous …"
      ],
      "application/vnd.jupyter.widget-view+json": {
       "version_major": 2,
       "version_minor": 0,
       "model_id": "289481054ad343128b3c8c00d803e98b"
      }
     },
     "metadata": {}
    }
   ],
   "metadata": {}
  },
  {
   "cell_type": "code",
   "execution_count": null,
   "source": [],
   "outputs": [],
   "metadata": {}
  }
 ],
 "metadata": {
  "interpreter": {
   "hash": "550c20a9657717230d10464eebd6552a32b52de9d7f0e76f6f7a9a4c6cbea1e2"
  },
  "kernelspec": {
   "name": "python3",
   "display_name": "Python 3.8.10 64-bit ('base': conda)"
  },
  "language_info": {
   "codemirror_mode": {
    "name": "ipython",
    "version": 3
   },
   "file_extension": ".py",
   "mimetype": "text/x-python",
   "name": "python",
   "nbconvert_exporter": "python",
   "pygments_lexer": "ipython3",
   "version": "3.8.10"
  },
  "orig_nbformat": 4
 },
 "nbformat": 4,
 "nbformat_minor": 2
}