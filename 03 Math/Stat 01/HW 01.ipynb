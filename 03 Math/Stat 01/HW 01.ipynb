{
 "metadata": {
  "language_info": {
   "codemirror_mode": {
    "name": "ipython",
    "version": 3
   },
   "file_extension": ".py",
   "mimetype": "text/x-python",
   "name": "python",
   "nbconvert_exporter": "python",
   "pygments_lexer": "ipython3",
   "version": "3.8.10"
  },
  "orig_nbformat": 4,
  "kernelspec": {
   "name": "python3",
   "display_name": "Python 3.8.10 64-bit ('base': conda)"
  },
  "interpreter": {
   "hash": "102ece9fb22a5dbc66cd17e6acdf387ff87bc94873c1952b7c22cf1bcacef674"
  }
 },
 "nbformat": 4,
 "nbformat_minor": 2,
 "cells": [
  {
   "source": [
    "# Домашнее задание 1\n",
    "## Кирилл Сетдеков"
   ],
   "cell_type": "markdown",
   "metadata": {}
  },
  {
   "source": [
    "# 1\n",
    "Пусть дана реализация выборки из нормального распределения N (θ, 3). Проверьте несмещенность и состоятельность следующих оценок параметра θ ∈ R. Посчитайте значения этих оценок на следующих данных (n = 10):\n"
   ],
   "cell_type": "markdown",
   "metadata": {}
  },
  {
   "cell_type": "code",
   "execution_count": 6,
   "metadata": {},
   "outputs": [],
   "source": [
    "t1_values = [-3.19, 2.25, 4.64, -0.39, -1.44, -1.87, -1.68, 0.27, 0.43, 0.58]\n",
    "t1_n = 10 # число значений"
   ]
  },
  {
   "source": [
    "(1) ${\\hat{\\theta}}_1 (x_1; ... ; x_n) = 0$\n",
    "\n",
    "Несмещенная?\n",
    "\n",
    "$E_{\\theta}[{\\hat{\\theta}}_1 (x_1; ... ; x_n)]=E_{\\theta}[0]=0 \\neq \\theta$ следовательно оценка ${\\hat{\\theta}}_1$ не является несмещенной.\n",
    "\n",
    "Состоятельной?\n",
    "Для значений, например, $\\varepsilon = 0.1; \\theta = 1$\n",
    "\n",
    "$P(|{\\hat{\\theta}}_1 (x_1; ... ; x_n)- \\theta| > \\varepsilon) = P(|0-1| > 0.1) = 1 \\not \\rightarrow 0 $ Не выполняется, следовательно ${\\hat{\\theta}}_1$ не состоятельная.\n"
   ],
   "cell_type": "markdown",
   "metadata": {}
  },
  {
   "cell_type": "code",
   "execution_count": 7,
   "metadata": {},
   "outputs": [
    {
     "output_type": "execute_result",
     "data": {
      "text/plain": [
       "'значение оценки theta_1 равно 0'"
      ]
     },
     "metadata": {},
     "execution_count": 7
    }
   ],
   "source": [
    "f'значение оценки theta_1 равно {0}'"
   ]
  },
  {
   "source": [
    "(2) ${\\hat{\\theta}}_2 (x_1; ... ; x_n) = 2x_n$\n",
    "\n",
    "Несмещенная?\n",
    "\n",
    "$E_{\\theta}[{\\hat{\\theta}}_2 (x_1; ... ; x_n)]=E_{\\theta}[2 x_n]=2\\theta \\neq \\theta$ следовательно оценка ${\\hat{\\theta}}_2$ не является несмещенной.\n",
    "\n",
    "Состоятельной?\n",
    "\n",
    "$P(|{\\hat{\\theta}}_2 (x_1; ... ; x_n)- \\theta| > \\varepsilon) = P(| 2x_n-\\theta| > \\varepsilon) = cons \\not \\rightarrow 0 $ Не выполняется, следовательно ${\\hat{\\theta}}_2$ не состоятельная."
   ],
   "cell_type": "markdown",
   "metadata": {}
  },
  {
   "cell_type": "code",
   "execution_count": 18,
   "metadata": {},
   "outputs": [
    {
     "output_type": "stream",
     "name": "stdout",
     "text": [
      "значение оценки theta_2 равно 1.16\n"
     ]
    }
   ],
   "source": [
    "print(f'значение оценки theta_2 равно {2 * t1_values[-1]:.2f}')"
   ]
  },
  {
   "source": [
    "(3) ${\\hat{\\theta}}_3 (x_1; ... ; x_n) = 2x_2 - x_3$\n",
    "\n",
    "Несмещенная?\n",
    "\n",
    "$E_{\\theta}[{\\hat{\\theta}}_3 (x_1; ... ; x_n)]=E_{\\theta}[2x_2 - x_3]=2\\theta - \\theta   = \\theta$ следовательно оценка ${\\hat{\\theta}}_3$  несмещенная.\n",
    "\n",
    "Состоятельной?\n",
    "\n",
    "$P(|{\\hat{\\theta}}_3 (x_1; ... ; x_n)- \\theta| > \\varepsilon) = P(|2x_2 - x_3 -\\theta| > \\varepsilon) = cons \\not \\rightarrow 0 $ Не выполняется, следовательно ${\\hat{\\theta}}_3$ не состоятельная."
   ],
   "cell_type": "markdown",
   "metadata": {}
  },
  {
   "cell_type": "code",
   "execution_count": 15,
   "metadata": {},
   "outputs": [
    {
     "output_type": "stream",
     "name": "stdout",
     "text": [
      "значение оценки theta_3 равно -0.14\n"
     ]
    }
   ],
   "source": [
    "print(f'значение оценки theta_3 равно {2*t1_values[1] - t1_values[2] :.2f}')"
   ]
  },
  {
   "source": [
    "(4) ${\\hat{\\theta}}_4 (x_1; ... ; x_n) = (x_1 + x_2 + ... + x_n)/n$\n",
    "\n",
    "Несмещенная?\n",
    "\n",
    "$$E_{\\theta}[{\\hat{\\theta}}_4 (x_1; ... ; x_n)]=E_{\\theta}[(x_1 + x_2 + ... + x_n)/n]= \\frac{n \\theta}{n} = \\theta$$ следовательно оценка ${\\hat{\\theta}}_4$  несмещенная.\n",
    "\n",
    "Состоятельной?\n",
    "\n",
    "$P(|{\\hat{\\theta}}_4 (x_1; ... ; x_n)- \\theta| > \\varepsilon) = ? $\n",
    "\n",
    "Посчитать такую вероятность не интуитивно как, но мы знаем, что если оценка несмещенная, и ее дисперсия равна 0, когда $n \\rightarrow \\infty$, то эта оценка состоятельная.\n",
    "\n",
    "$$\\lim_{n \\rightarrow \\infty}{D({\\hat{\\theta}}_4 (x_1; ... ; x_n))} = \\lim_{n \\rightarrow \\infty}{\\frac{\\sigma ^2}{n}} = \\sigma ^2 \\lim_{n \\rightarrow \\infty}{\\frac{1}{n}} = \\sigma ^2 (0) = 0$$\n",
    " Следовательно ${\\hat{\\theta}}_4$ состоятельная."
   ],
   "cell_type": "markdown",
   "metadata": {}
  },
  {
   "cell_type": "code",
   "execution_count": 17,
   "metadata": {},
   "outputs": [
    {
     "output_type": "stream",
     "name": "stdout",
     "text": [
      "значение оценки theta_4 равно -0.04\n"
     ]
    }
   ],
   "source": [
    "print(f'значение оценки theta_4 равно {sum(t1_values)/t1_n:.2f}')"
   ]
  },
  {
   "source": [
    "# 2\n",
    "Найти оценку $\\theta$ методом моментов и ММП.\n",
    "## Методом моментов\n",
    "Один параметр, следовательно мы ожидаем, что достаточно будет первого момента. \n",
    "\n",
    "$$A_1 = E[X] = \\frac{\\theta + 1 +\\theta}{2} = \\theta + 1/2$$\n",
    "$$a_i = \\frac{1}{n} \\sum_{i=1}^{n}$$\n",
    "Приравняем $A_1=a_i$:\n",
    "$${\\hat{\\theta}}_{м}+\\frac{1}{2}=\\frac{1}{n} \\sum_{i=1}^{n} \\Rightarrow {\\hat{\\theta}}_{м}=\\frac{1}{n} \\sum_{i=1}^{n} - \\frac{1}{2}$$\n",
    "\n",
    "\n",
    "## Методом максимального правдоподобия"
   ],
   "cell_type": "markdown",
   "metadata": {}
  },
  {
   "source": [
    "Запишем плотность распределения в зависимости от $\\theta$:\n",
    "\n"
   ],
   "cell_type": "markdown",
   "metadata": {}
  },
  {
   "source": [
    "![title](img210.jpg)"
   ],
   "cell_type": "markdown",
   "metadata": {}
  },
  {
   "source": [
    "# 3\n",
    "Найти оценку $\\theta$ методом моментов и ММП."
   ],
   "cell_type": "markdown",
   "metadata": {}
  }
 ]
}