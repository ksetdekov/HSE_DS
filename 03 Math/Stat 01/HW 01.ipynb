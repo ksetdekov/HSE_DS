{
 "metadata": {
  "language_info": {
   "codemirror_mode": {
    "name": "ipython",
    "version": 3
   },
   "file_extension": ".py",
   "mimetype": "text/x-python",
   "name": "python",
   "nbconvert_exporter": "python",
   "pygments_lexer": "ipython3",
   "version": "3.8.10"
  },
  "orig_nbformat": 4,
  "kernelspec": {
   "name": "python3",
   "display_name": "Python 3.8.10 64-bit ('base': conda)"
  },
  "interpreter": {
   "hash": "102ece9fb22a5dbc66cd17e6acdf387ff87bc94873c1952b7c22cf1bcacef674"
  }
 },
 "nbformat": 4,
 "nbformat_minor": 2,
 "cells": [
  {
   "source": [
    "# Домашнее задание 1\n",
    "## Кирилл Сетдеков"
   ],
   "cell_type": "markdown",
   "metadata": {}
  },
  {
   "source": [
    "# 1\n",
    "Пусть дана реализация выборки из нормального распределения N (θ, 3). Проверьте несмещенность и состоятельность следующих оценок параметра θ ∈ R. Посчитайте значения этих оценок на следующих данных (n = 10):\n"
   ],
   "cell_type": "markdown",
   "metadata": {}
  },
  {
   "cell_type": "code",
   "execution_count": 48,
   "metadata": {},
   "outputs": [],
   "source": [
    "t1_values = [-3.19, 2.25, 4.64, -0.39, -1.44, -1.87, -1.68, 0.27, 0.43, 0.58]\n",
    "t1_n = 10 # число значений"
   ]
  },
  {
   "source": [
    "(1) ${\\hat{\\theta}}_1 (x_1; ... ; x_n) = 0$\n",
    "\n",
    "Несмещенная?\n",
    "\n",
    "$E_{\\theta}[{\\hat{\\theta}}_1 (x_1; ... ; x_n)]=E_{\\theta}[0]=0 \\neq \\theta$ следовательно оценка ${\\hat{\\theta}}_1$ не является несмещенной.\n",
    "\n",
    "Состоятельной?\n",
    "Для значений, например, $\\varepsilon = 0.1; \\theta = 1$\n",
    "\n",
    "$P(|{\\hat{\\theta}}_1 (x_1; ... ; x_n)- \\theta| > \\varepsilon) = P(|0-1| > 0.1) = 1 \\not \\rightarrow 0 $ Не выполняется, следовательно ${\\hat{\\theta}}_1$ не состоятельная.\n"
   ],
   "cell_type": "markdown",
   "metadata": {}
  },
  {
   "cell_type": "code",
   "execution_count": 49,
   "metadata": {},
   "outputs": [
    {
     "output_type": "execute_result",
     "data": {
      "text/plain": [
       "'значение оценки theta_1 равно 0'"
      ]
     },
     "metadata": {},
     "execution_count": 49
    }
   ],
   "source": [
    "f'значение оценки theta_1 равно {0}'"
   ]
  },
  {
   "source": [
    "(2) ${\\hat{\\theta}}_2 (x_1; ... ; x_n) = 2x_n$\n",
    "\n",
    "Несмещенная?\n",
    "\n",
    "$E_{\\theta}[{\\hat{\\theta}}_2 (x_1; ... ; x_n)]=E_{\\theta}[2 x_n]=2\\theta \\neq \\theta$ следовательно оценка ${\\hat{\\theta}}_2$ не является несмещенной.\n",
    "\n",
    "Состоятельной?\n",
    "\n",
    "$P(|{\\hat{\\theta}}_2 (x_1; ... ; x_n)- \\theta| > \\varepsilon) = P(| 2x_n-\\theta| > \\varepsilon) = cons \\not \\rightarrow 0 $ Не выполняется, следовательно ${\\hat{\\theta}}_2$ не состоятельная."
   ],
   "cell_type": "markdown",
   "metadata": {}
  },
  {
   "cell_type": "code",
   "execution_count": 50,
   "metadata": {},
   "outputs": [
    {
     "output_type": "stream",
     "name": "stdout",
     "text": [
      "значение оценки theta_2 равно 1.16\n"
     ]
    }
   ],
   "source": [
    "print(f'значение оценки theta_2 равно {2 * t1_values[-1]:.2f}')"
   ]
  },
  {
   "source": [
    "(3) ${\\hat{\\theta}}_3 (x_1; ... ; x_n) = 2x_2 - x_3$\n",
    "\n",
    "Несмещенная?\n",
    "\n",
    "$E_{\\theta}[{\\hat{\\theta}}_3 (x_1; ... ; x_n)]=E_{\\theta}[2x_2 - x_3]=2\\theta - \\theta   = \\theta$ следовательно оценка ${\\hat{\\theta}}_3$  несмещенная.\n",
    "\n",
    "Состоятельной?\n",
    "\n",
    "$P(|{\\hat{\\theta}}_3 (x_1; ... ; x_n)- \\theta| > \\varepsilon) = P(|2x_2 - x_3 -\\theta| > \\varepsilon) = cons \\not \\rightarrow 0 $ Не выполняется, следовательно ${\\hat{\\theta}}_3$ не состоятельная."
   ],
   "cell_type": "markdown",
   "metadata": {}
  },
  {
   "cell_type": "code",
   "execution_count": 51,
   "metadata": {},
   "outputs": [
    {
     "output_type": "stream",
     "name": "stdout",
     "text": [
      "значение оценки theta_3 равно -0.14\n"
     ]
    }
   ],
   "source": [
    "print(f'значение оценки theta_3 равно {2*t1_values[1] - t1_values[2] :.2f}')"
   ]
  },
  {
   "source": [
    "(4) ${\\hat{\\theta}}_4 (x_1; ... ; x_n) = (x_1 + x_2 + ... + x_n)/n$\n",
    "\n",
    "Несмещенная?\n",
    "\n",
    "$$E_{\\theta}[{\\hat{\\theta}}_4 (x_1; ... ; x_n)]=E_{\\theta}[(x_1 + x_2 + ... + x_n)/n]= \\frac{n \\theta}{n} = \\theta$$ следовательно оценка ${\\hat{\\theta}}_4$  несмещенная.\n",
    "\n",
    "Состоятельной?\n",
    "\n",
    "$P(|{\\hat{\\theta}}_4 (x_1; ... ; x_n)- \\theta| > \\varepsilon) = ? $\n",
    "\n",
    "Посчитать такую вероятность не интуитивно как, но мы знаем, что если оценка несмещенная, и ее дисперсия равна 0, когда $n \\rightarrow \\infty$, то эта оценка состоятельная.\n",
    "\n",
    "$$\\lim_{n \\rightarrow \\infty}{D({\\hat{\\theta}}_4 (x_1; ... ; x_n))} = \\lim_{n \\rightarrow \\infty}{\\frac{\\sigma ^2}{n}} = \\sigma ^2 \\lim_{n \\rightarrow \\infty}{\\frac{1}{n}} = \\sigma ^2 (0) = 0$$\n",
    " Следовательно ${\\hat{\\theta}}_4$ состоятельная."
   ],
   "cell_type": "markdown",
   "metadata": {}
  },
  {
   "cell_type": "code",
   "execution_count": 52,
   "metadata": {},
   "outputs": [
    {
     "output_type": "stream",
     "name": "stdout",
     "text": [
      "значение оценки theta_4 равно -0.04\n"
     ]
    }
   ],
   "source": [
    "print(f'значение оценки theta_4 равно {sum(t1_values)/t1_n:.2f}')"
   ]
  },
  {
   "source": [
    "# 2\n",
    "Найти оценку $\\theta$ методом моментов и ММП.\n",
    "## Методом моментов\n",
    "Один параметр, следовательно мы ожидаем, что достаточно будет первого момента. \n",
    "\n",
    "$$A_1 = E[X] = \\frac{\\theta + 1 +\\theta}{2} = \\theta + 1/2$$\n",
    "$$a_i = \\frac{1}{n} \\sum_{i=1}^{n}$$\n",
    "Приравняем $A_1=a_i$:\n",
    "$${\\hat{\\theta}}_{м}+\\frac{1}{2}=\\frac{1}{n} \\sum_{i=1}^{n} \\Rightarrow {\\hat{\\theta}}_{м}=\\frac{1}{n} \\sum_{i=1}^{n} - \\frac{1}{2}$$\n",
    "\n",
    "\n",
    "## Методом максимального правдоподобия"
   ],
   "cell_type": "markdown",
   "metadata": {}
  },
  {
   "source": [
    "Запишем плотность распределения в зависимости от $\\theta$:\n",
    "\n"
   ],
   "cell_type": "markdown",
   "metadata": {}
  },
  {
   "source": [
    "![q2 extimates](p2.jpg)"
   ],
   "cell_type": "markdown",
   "metadata": {}
  },
  {
   "source": [
    "# 3\n",
    "Найти оценку $\\theta$ методом моментов и ММП. \n",
    "\n",
    "сначала запишем решение теоретическое"
   ],
   "cell_type": "markdown",
   "metadata": {}
  },
  {
   "source": [
    "![q3 extimates](p3.jpg)"
   ],
   "cell_type": "markdown",
   "metadata": {}
  },
  {
   "cell_type": "code",
   "execution_count": 53,
   "metadata": {},
   "outputs": [],
   "source": [
    "import numpy as np \n",
    "import pandas as pd\n",
    "from scipy import stats \n",
    "import matplotlib.pyplot as plt"
   ]
  },
  {
   "cell_type": "code",
   "execution_count": 54,
   "metadata": {},
   "outputs": [
    {
     "output_type": "stream",
     "name": "stdout",
     "text": [
      "Истинное значение параметра theta: 33.878\n"
     ]
    }
   ],
   "source": [
    "# генерируем параметр theta\n",
    "np.random.seed(80085) \n",
    "theta = np.random.uniform(25,50)\n",
    "print(f'Истинное значение параметра theta: {theta:.3f}')"
   ]
  },
  {
   "cell_type": "code",
   "execution_count": 55,
   "metadata": {},
   "outputs": [
    {
     "output_type": "execute_result",
     "data": {
      "text/plain": [
       "          оценка методом моментов  оцибка ММ  метод макс. правдоподобия  \\\n",
       "n                                                                         \n",
       "10.0                    35.691872   1.814068                  32.092106   \n",
       "100.0                   37.631489   3.753686                  33.503512   \n",
       "1000.0                  34.205870   0.328067                  33.851822   \n",
       "10000.0                 33.913334   0.035531                  33.877296   \n",
       "100000.0                34.026859   0.149055                  33.877616   \n",
       "\n",
       "          ошибка ММП  SciPy fit  ошибка SciPy fit  \n",
       "n                                                  \n",
       "10.0        1.785697  32.092106          1.785697  \n",
       "100.0       0.374291  33.503512          0.374291  \n",
       "1000.0      0.025981  33.851822          0.025981  \n",
       "10000.0     0.000507  33.877296          0.000507  \n",
       "100000.0    0.000187  33.877616          0.000187  "
      ],
      "text/html": "<div>\n<style scoped>\n    .dataframe tbody tr th:only-of-type {\n        vertical-align: middle;\n    }\n\n    .dataframe tbody tr th {\n        vertical-align: top;\n    }\n\n    .dataframe thead th {\n        text-align: right;\n    }\n</style>\n<table border=\"1\" class=\"dataframe\">\n  <thead>\n    <tr style=\"text-align: right;\">\n      <th></th>\n      <th>оценка методом моментов</th>\n      <th>оцибка ММ</th>\n      <th>метод макс. правдоподобия</th>\n      <th>ошибка ММП</th>\n      <th>SciPy fit</th>\n      <th>ошибка SciPy fit</th>\n    </tr>\n    <tr>\n      <th>n</th>\n      <th></th>\n      <th></th>\n      <th></th>\n      <th></th>\n      <th></th>\n      <th></th>\n    </tr>\n  </thead>\n  <tbody>\n    <tr>\n      <th>10.0</th>\n      <td>35.691872</td>\n      <td>1.814068</td>\n      <td>32.092106</td>\n      <td>1.785697</td>\n      <td>32.092106</td>\n      <td>1.785697</td>\n    </tr>\n    <tr>\n      <th>100.0</th>\n      <td>37.631489</td>\n      <td>3.753686</td>\n      <td>33.503512</td>\n      <td>0.374291</td>\n      <td>33.503512</td>\n      <td>0.374291</td>\n    </tr>\n    <tr>\n      <th>1000.0</th>\n      <td>34.205870</td>\n      <td>0.328067</td>\n      <td>33.851822</td>\n      <td>0.025981</td>\n      <td>33.851822</td>\n      <td>0.025981</td>\n    </tr>\n    <tr>\n      <th>10000.0</th>\n      <td>33.913334</td>\n      <td>0.035531</td>\n      <td>33.877296</td>\n      <td>0.000507</td>\n      <td>33.877296</td>\n      <td>0.000507</td>\n    </tr>\n    <tr>\n      <th>100000.0</th>\n      <td>34.026859</td>\n      <td>0.149055</td>\n      <td>33.877616</td>\n      <td>0.000187</td>\n      <td>33.877616</td>\n      <td>0.000187</td>\n    </tr>\n  </tbody>\n</table>\n</div>"
     },
     "metadata": {},
     "execution_count": 55
    }
   ],
   "source": [
    "# генерируем выборки, записываем их в словарь\n",
    "samples = { 10**i: np.random.uniform(low=0, high=theta,size=10**i) for i in range(1,6)}\n",
    "q3_results = pd.DataFrame(columns = ['n', 'оценка методом моментов', 'оцибка ММ', 'метод макс. правдоподобия', 'ошибка ММП', 'SciPy fit', 'ошибка SciPy fit'])\n",
    "\n",
    "# считаем оценки, записываем их в DF и выводим результаты\n",
    "for n,sample in samples.items():\n",
    "    \n",
    "    theta_hat_m = 2 * np.mean(sample)\n",
    "    theta_hat_mmp = max(sample)\n",
    "    theta_hat_scipy = stats.uniform.fit(sample, floc=0)[1]\n",
    "\n",
    "    to_append = [int(n), theta_hat_m, np.abs(theta_hat_m-theta), theta_hat_mmp, np.abs(theta_hat_mmp-theta), theta_hat_scipy, np.abs(theta_hat_scipy-theta)]\n",
    "    a_series = pd.Series(to_append, index = q3_results.columns)\n",
    "    q3_results = q3_results.append(a_series, ignore_index=True)\n",
    "\n",
    "q3_results.set_index('n', inplace=True)\n",
    "q3_results"
   ]
  },
  {
   "cell_type": "code",
   "execution_count": 56,
   "metadata": {},
   "outputs": [
    {
     "output_type": "display_data",
     "data": {
      "text/plain": "<Figure size 1152x360 with 1 Axes>",
      "image/svg+xml": "<?xml version=\"1.0\" encoding=\"utf-8\" standalone=\"no\"?>\r\n<!DOCTYPE svg PUBLIC \"-//W3C//DTD SVG 1.1//EN\"\r\n  \"http://www.w3.org/Graphics/SVG/1.1/DTD/svg11.dtd\">\r\n<svg height=\"315.55625pt\" version=\"1.1\" viewBox=\"0 0 949.190625 315.55625\" width=\"949.190625pt\" xmlns=\"http://www.w3.org/2000/svg\" xmlns:xlink=\"http://www.w3.org/1999/xlink\">\r\n <metadata>\r\n  <rdf:RDF xmlns:cc=\"http://creativecommons.org/ns#\" xmlns:dc=\"http://purl.org/dc/elements/1.1/\" xmlns:rdf=\"http://www.w3.org/1999/02/22-rdf-syntax-ns#\">\r\n   <cc:Work>\r\n    <dc:type rdf:resource=\"http://purl.org/dc/dcmitype/StillImage\"/>\r\n    <dc:date>2021-06-19T19:29:17.265809</dc:date>\r\n    <dc:format>image/svg+xml</dc:format>\r\n    <dc:creator>\r\n     <cc:Agent>\r\n      <dc:title>Matplotlib v3.4.2, https://matplotlib.org/</dc:title>\r\n     </cc:Agent>\r\n    </dc:creator>\r\n   </cc:Work>\r\n  </rdf:RDF>\r\n </metadata>\r\n <defs>\r\n  <style type=\"text/css\">*{stroke-linecap:butt;stroke-linejoin:round;}</style>\r\n </defs>\r\n <g id=\"figure_1\">\r\n  <g id=\"patch_1\">\r\n   <path d=\"M 0 315.55625 \r\nL 949.190625 315.55625 \r\nL 949.190625 0 \r\nL 0 0 \r\nz\r\n\" style=\"fill:none;\"/>\r\n  </g>\r\n  <g id=\"axes_1\">\r\n   <g id=\"patch_2\">\r\n    <path d=\"M 49.190625 279 \r\nL 941.990625 279 \r\nL 941.990625 7.2 \r\nL 49.190625 7.2 \r\nz\r\n\" style=\"fill:#ffffff;\"/>\r\n   </g>\r\n   <g id=\"matplotlib.axis_1\">\r\n    <g id=\"xtick_1\">\r\n     <g id=\"line2d_1\">\r\n      <defs>\r\n       <path d=\"M 0 0 \r\nL 0 3.5 \r\n\" id=\"mf42c9082e8\" style=\"stroke:#000000;stroke-width:0.8;\"/>\r\n      </defs>\r\n      <g>\r\n       <use style=\"stroke:#000000;stroke-width:0.8;\" x=\"88.959994\" xlink:href=\"#mf42c9082e8\" y=\"279\"/>\r\n      </g>\r\n     </g>\r\n     <g id=\"text_1\">\r\n      <!-- 0.0 -->\r\n      <g transform=\"translate(81.008432 293.598438)scale(0.1 -0.1)\">\r\n       <defs>\r\n        <path d=\"M 2034 4250 \r\nQ 1547 4250 1301 3770 \r\nQ 1056 3291 1056 2328 \r\nQ 1056 1369 1301 889 \r\nQ 1547 409 2034 409 \r\nQ 2525 409 2770 889 \r\nQ 3016 1369 3016 2328 \r\nQ 3016 3291 2770 3770 \r\nQ 2525 4250 2034 4250 \r\nz\r\nM 2034 4750 \r\nQ 2819 4750 3233 4129 \r\nQ 3647 3509 3647 2328 \r\nQ 3647 1150 3233 529 \r\nQ 2819 -91 2034 -91 \r\nQ 1250 -91 836 529 \r\nQ 422 1150 422 2328 \r\nQ 422 3509 836 4129 \r\nQ 1250 4750 2034 4750 \r\nz\r\n\" id=\"DejaVuSans-30\" transform=\"scale(0.015625)\"/>\r\n        <path d=\"M 684 794 \r\nL 1344 794 \r\nL 1344 0 \r\nL 684 0 \r\nL 684 794 \r\nz\r\n\" id=\"DejaVuSans-2e\" transform=\"scale(0.015625)\"/>\r\n       </defs>\r\n       <use xlink:href=\"#DejaVuSans-30\"/>\r\n       <use x=\"63.623047\" xlink:href=\"#DejaVuSans-2e\"/>\r\n       <use x=\"95.410156\" xlink:href=\"#DejaVuSans-30\"/>\r\n      </g>\r\n     </g>\r\n    </g>\r\n    <g id=\"xtick_2\">\r\n     <g id=\"line2d_2\">\r\n      <g>\r\n       <use style=\"stroke:#000000;stroke-width:0.8;\" x=\"251.449757\" xlink:href=\"#mf42c9082e8\" y=\"279\"/>\r\n      </g>\r\n     </g>\r\n     <g id=\"text_2\">\r\n      <!-- 0.2 -->\r\n      <g transform=\"translate(243.498194 293.598438)scale(0.1 -0.1)\">\r\n       <defs>\r\n        <path d=\"M 1228 531 \r\nL 3431 531 \r\nL 3431 0 \r\nL 469 0 \r\nL 469 531 \r\nQ 828 903 1448 1529 \r\nQ 2069 2156 2228 2338 \r\nQ 2531 2678 2651 2914 \r\nQ 2772 3150 2772 3378 \r\nQ 2772 3750 2511 3984 \r\nQ 2250 4219 1831 4219 \r\nQ 1534 4219 1204 4116 \r\nQ 875 4013 500 3803 \r\nL 500 4441 \r\nQ 881 4594 1212 4672 \r\nQ 1544 4750 1819 4750 \r\nQ 2544 4750 2975 4387 \r\nQ 3406 4025 3406 3419 \r\nQ 3406 3131 3298 2873 \r\nQ 3191 2616 2906 2266 \r\nQ 2828 2175 2409 1742 \r\nQ 1991 1309 1228 531 \r\nz\r\n\" id=\"DejaVuSans-32\" transform=\"scale(0.015625)\"/>\r\n       </defs>\r\n       <use xlink:href=\"#DejaVuSans-30\"/>\r\n       <use x=\"63.623047\" xlink:href=\"#DejaVuSans-2e\"/>\r\n       <use x=\"95.410156\" xlink:href=\"#DejaVuSans-32\"/>\r\n      </g>\r\n     </g>\r\n    </g>\r\n    <g id=\"xtick_3\">\r\n     <g id=\"line2d_3\">\r\n      <g>\r\n       <use style=\"stroke:#000000;stroke-width:0.8;\" x=\"413.939519\" xlink:href=\"#mf42c9082e8\" y=\"279\"/>\r\n      </g>\r\n     </g>\r\n     <g id=\"text_3\">\r\n      <!-- 0.4 -->\r\n      <g transform=\"translate(405.987957 293.598438)scale(0.1 -0.1)\">\r\n       <defs>\r\n        <path d=\"M 2419 4116 \r\nL 825 1625 \r\nL 2419 1625 \r\nL 2419 4116 \r\nz\r\nM 2253 4666 \r\nL 3047 4666 \r\nL 3047 1625 \r\nL 3713 1625 \r\nL 3713 1100 \r\nL 3047 1100 \r\nL 3047 0 \r\nL 2419 0 \r\nL 2419 1100 \r\nL 313 1100 \r\nL 313 1709 \r\nL 2253 4666 \r\nz\r\n\" id=\"DejaVuSans-34\" transform=\"scale(0.015625)\"/>\r\n       </defs>\r\n       <use xlink:href=\"#DejaVuSans-30\"/>\r\n       <use x=\"63.623047\" xlink:href=\"#DejaVuSans-2e\"/>\r\n       <use x=\"95.410156\" xlink:href=\"#DejaVuSans-34\"/>\r\n      </g>\r\n     </g>\r\n    </g>\r\n    <g id=\"xtick_4\">\r\n     <g id=\"line2d_4\">\r\n      <g>\r\n       <use style=\"stroke:#000000;stroke-width:0.8;\" x=\"576.429282\" xlink:href=\"#mf42c9082e8\" y=\"279\"/>\r\n      </g>\r\n     </g>\r\n     <g id=\"text_4\">\r\n      <!-- 0.6 -->\r\n      <g transform=\"translate(568.477719 293.598438)scale(0.1 -0.1)\">\r\n       <defs>\r\n        <path d=\"M 2113 2584 \r\nQ 1688 2584 1439 2293 \r\nQ 1191 2003 1191 1497 \r\nQ 1191 994 1439 701 \r\nQ 1688 409 2113 409 \r\nQ 2538 409 2786 701 \r\nQ 3034 994 3034 1497 \r\nQ 3034 2003 2786 2293 \r\nQ 2538 2584 2113 2584 \r\nz\r\nM 3366 4563 \r\nL 3366 3988 \r\nQ 3128 4100 2886 4159 \r\nQ 2644 4219 2406 4219 \r\nQ 1781 4219 1451 3797 \r\nQ 1122 3375 1075 2522 \r\nQ 1259 2794 1537 2939 \r\nQ 1816 3084 2150 3084 \r\nQ 2853 3084 3261 2657 \r\nQ 3669 2231 3669 1497 \r\nQ 3669 778 3244 343 \r\nQ 2819 -91 2113 -91 \r\nQ 1303 -91 875 529 \r\nQ 447 1150 447 2328 \r\nQ 447 3434 972 4092 \r\nQ 1497 4750 2381 4750 \r\nQ 2619 4750 2861 4703 \r\nQ 3103 4656 3366 4563 \r\nz\r\n\" id=\"DejaVuSans-36\" transform=\"scale(0.015625)\"/>\r\n       </defs>\r\n       <use xlink:href=\"#DejaVuSans-30\"/>\r\n       <use x=\"63.623047\" xlink:href=\"#DejaVuSans-2e\"/>\r\n       <use x=\"95.410156\" xlink:href=\"#DejaVuSans-36\"/>\r\n      </g>\r\n     </g>\r\n    </g>\r\n    <g id=\"xtick_5\">\r\n     <g id=\"line2d_5\">\r\n      <g>\r\n       <use style=\"stroke:#000000;stroke-width:0.8;\" x=\"738.919044\" xlink:href=\"#mf42c9082e8\" y=\"279\"/>\r\n      </g>\r\n     </g>\r\n     <g id=\"text_5\">\r\n      <!-- 0.8 -->\r\n      <g transform=\"translate(730.967482 293.598438)scale(0.1 -0.1)\">\r\n       <defs>\r\n        <path d=\"M 2034 2216 \r\nQ 1584 2216 1326 1975 \r\nQ 1069 1734 1069 1313 \r\nQ 1069 891 1326 650 \r\nQ 1584 409 2034 409 \r\nQ 2484 409 2743 651 \r\nQ 3003 894 3003 1313 \r\nQ 3003 1734 2745 1975 \r\nQ 2488 2216 2034 2216 \r\nz\r\nM 1403 2484 \r\nQ 997 2584 770 2862 \r\nQ 544 3141 544 3541 \r\nQ 544 4100 942 4425 \r\nQ 1341 4750 2034 4750 \r\nQ 2731 4750 3128 4425 \r\nQ 3525 4100 3525 3541 \r\nQ 3525 3141 3298 2862 \r\nQ 3072 2584 2669 2484 \r\nQ 3125 2378 3379 2068 \r\nQ 3634 1759 3634 1313 \r\nQ 3634 634 3220 271 \r\nQ 2806 -91 2034 -91 \r\nQ 1263 -91 848 271 \r\nQ 434 634 434 1313 \r\nQ 434 1759 690 2068 \r\nQ 947 2378 1403 2484 \r\nz\r\nM 1172 3481 \r\nQ 1172 3119 1398 2916 \r\nQ 1625 2713 2034 2713 \r\nQ 2441 2713 2670 2916 \r\nQ 2900 3119 2900 3481 \r\nQ 2900 3844 2670 4047 \r\nQ 2441 4250 2034 4250 \r\nQ 1625 4250 1398 4047 \r\nQ 1172 3844 1172 3481 \r\nz\r\n\" id=\"DejaVuSans-38\" transform=\"scale(0.015625)\"/>\r\n       </defs>\r\n       <use xlink:href=\"#DejaVuSans-30\"/>\r\n       <use x=\"63.623047\" xlink:href=\"#DejaVuSans-2e\"/>\r\n       <use x=\"95.410156\" xlink:href=\"#DejaVuSans-38\"/>\r\n      </g>\r\n     </g>\r\n    </g>\r\n    <g id=\"xtick_6\">\r\n     <g id=\"line2d_6\">\r\n      <g>\r\n       <use style=\"stroke:#000000;stroke-width:0.8;\" x=\"901.408807\" xlink:href=\"#mf42c9082e8\" y=\"279\"/>\r\n      </g>\r\n     </g>\r\n     <g id=\"text_6\">\r\n      <!-- 1.0 -->\r\n      <g transform=\"translate(893.457244 293.598438)scale(0.1 -0.1)\">\r\n       <defs>\r\n        <path d=\"M 794 531 \r\nL 1825 531 \r\nL 1825 4091 \r\nL 703 3866 \r\nL 703 4441 \r\nL 1819 4666 \r\nL 2450 4666 \r\nL 2450 531 \r\nL 3481 531 \r\nL 3481 0 \r\nL 794 0 \r\nL 794 531 \r\nz\r\n\" id=\"DejaVuSans-31\" transform=\"scale(0.015625)\"/>\r\n       </defs>\r\n       <use xlink:href=\"#DejaVuSans-31\"/>\r\n       <use x=\"63.623047\" xlink:href=\"#DejaVuSans-2e\"/>\r\n       <use x=\"95.410156\" xlink:href=\"#DejaVuSans-30\"/>\r\n      </g>\r\n     </g>\r\n    </g>\r\n    <g id=\"text_7\">\r\n     <!-- 1e6 -->\r\n     <g transform=\"translate(923.1125 306.276563)scale(0.1 -0.1)\">\r\n      <defs>\r\n       <path d=\"M 3597 1894 \r\nL 3597 1613 \r\nL 953 1613 \r\nQ 991 1019 1311 708 \r\nQ 1631 397 2203 397 \r\nQ 2534 397 2845 478 \r\nQ 3156 559 3463 722 \r\nL 3463 178 \r\nQ 3153 47 2828 -22 \r\nQ 2503 -91 2169 -91 \r\nQ 1331 -91 842 396 \r\nQ 353 884 353 1716 \r\nQ 353 2575 817 3079 \r\nQ 1281 3584 2069 3584 \r\nQ 2775 3584 3186 3129 \r\nQ 3597 2675 3597 1894 \r\nz\r\nM 3022 2063 \r\nQ 3016 2534 2758 2815 \r\nQ 2500 3097 2075 3097 \r\nQ 1594 3097 1305 2825 \r\nQ 1016 2553 972 2059 \r\nL 3022 2063 \r\nz\r\n\" id=\"DejaVuSans-65\" transform=\"scale(0.015625)\"/>\r\n      </defs>\r\n      <use xlink:href=\"#DejaVuSans-31\"/>\r\n      <use x=\"63.623047\" xlink:href=\"#DejaVuSans-65\"/>\r\n      <use x=\"125.146484\" xlink:href=\"#DejaVuSans-36\"/>\r\n     </g>\r\n    </g>\r\n   </g>\r\n   <g id=\"matplotlib.axis_2\">\r\n    <g id=\"ytick_1\">\r\n     <g id=\"line2d_7\">\r\n      <defs>\r\n       <path d=\"M 0 0 \r\nL -3.5 0 \r\n\" id=\"m3b9a18a350\" style=\"stroke:#000000;stroke-width:0.8;\"/>\r\n      </defs>\r\n      <g>\r\n       <use style=\"stroke:#000000;stroke-width:0.8;\" x=\"49.190625\" xlink:href=\"#m3b9a18a350\" y=\"252.425351\"/>\r\n      </g>\r\n     </g>\r\n     <g id=\"text_8\">\r\n      <!-- 33.866 -->\r\n      <g transform=\"translate(7.2 256.224569)scale(0.1 -0.1)\">\r\n       <defs>\r\n        <path d=\"M 2597 2516 \r\nQ 3050 2419 3304 2112 \r\nQ 3559 1806 3559 1356 \r\nQ 3559 666 3084 287 \r\nQ 2609 -91 1734 -91 \r\nQ 1441 -91 1130 -33 \r\nQ 819 25 488 141 \r\nL 488 750 \r\nQ 750 597 1062 519 \r\nQ 1375 441 1716 441 \r\nQ 2309 441 2620 675 \r\nQ 2931 909 2931 1356 \r\nQ 2931 1769 2642 2001 \r\nQ 2353 2234 1838 2234 \r\nL 1294 2234 \r\nL 1294 2753 \r\nL 1863 2753 \r\nQ 2328 2753 2575 2939 \r\nQ 2822 3125 2822 3475 \r\nQ 2822 3834 2567 4026 \r\nQ 2313 4219 1838 4219 \r\nQ 1578 4219 1281 4162 \r\nQ 984 4106 628 3988 \r\nL 628 4550 \r\nQ 988 4650 1302 4700 \r\nQ 1616 4750 1894 4750 \r\nQ 2613 4750 3031 4423 \r\nQ 3450 4097 3450 3541 \r\nQ 3450 3153 3228 2886 \r\nQ 3006 2619 2597 2516 \r\nz\r\n\" id=\"DejaVuSans-33\" transform=\"scale(0.015625)\"/>\r\n       </defs>\r\n       <use xlink:href=\"#DejaVuSans-33\"/>\r\n       <use x=\"63.623047\" xlink:href=\"#DejaVuSans-33\"/>\r\n       <use x=\"127.246094\" xlink:href=\"#DejaVuSans-2e\"/>\r\n       <use x=\"159.033203\" xlink:href=\"#DejaVuSans-38\"/>\r\n       <use x=\"222.65625\" xlink:href=\"#DejaVuSans-36\"/>\r\n       <use x=\"286.279297\" xlink:href=\"#DejaVuSans-36\"/>\r\n      </g>\r\n     </g>\r\n    </g>\r\n    <g id=\"ytick_2\">\r\n     <g id=\"line2d_8\">\r\n      <g>\r\n       <use style=\"stroke:#000000;stroke-width:0.8;\" x=\"49.190625\" xlink:href=\"#m3b9a18a350\" y=\"212.966466\"/>\r\n      </g>\r\n     </g>\r\n     <g id=\"text_9\">\r\n      <!-- 33.868 -->\r\n      <g transform=\"translate(7.2 216.765685)scale(0.1 -0.1)\">\r\n       <use xlink:href=\"#DejaVuSans-33\"/>\r\n       <use x=\"63.623047\" xlink:href=\"#DejaVuSans-33\"/>\r\n       <use x=\"127.246094\" xlink:href=\"#DejaVuSans-2e\"/>\r\n       <use x=\"159.033203\" xlink:href=\"#DejaVuSans-38\"/>\r\n       <use x=\"222.65625\" xlink:href=\"#DejaVuSans-36\"/>\r\n       <use x=\"286.279297\" xlink:href=\"#DejaVuSans-38\"/>\r\n      </g>\r\n     </g>\r\n    </g>\r\n    <g id=\"ytick_3\">\r\n     <g id=\"line2d_9\">\r\n      <g>\r\n       <use style=\"stroke:#000000;stroke-width:0.8;\" x=\"49.190625\" xlink:href=\"#m3b9a18a350\" y=\"173.507581\"/>\r\n      </g>\r\n     </g>\r\n     <g id=\"text_10\">\r\n      <!-- 33.870 -->\r\n      <g transform=\"translate(7.2 177.3068)scale(0.1 -0.1)\">\r\n       <defs>\r\n        <path d=\"M 525 4666 \r\nL 3525 4666 \r\nL 3525 4397 \r\nL 1831 0 \r\nL 1172 0 \r\nL 2766 4134 \r\nL 525 4134 \r\nL 525 4666 \r\nz\r\n\" id=\"DejaVuSans-37\" transform=\"scale(0.015625)\"/>\r\n       </defs>\r\n       <use xlink:href=\"#DejaVuSans-33\"/>\r\n       <use x=\"63.623047\" xlink:href=\"#DejaVuSans-33\"/>\r\n       <use x=\"127.246094\" xlink:href=\"#DejaVuSans-2e\"/>\r\n       <use x=\"159.033203\" xlink:href=\"#DejaVuSans-38\"/>\r\n       <use x=\"222.65625\" xlink:href=\"#DejaVuSans-37\"/>\r\n       <use x=\"286.279297\" xlink:href=\"#DejaVuSans-30\"/>\r\n      </g>\r\n     </g>\r\n    </g>\r\n    <g id=\"ytick_4\">\r\n     <g id=\"line2d_10\">\r\n      <g>\r\n       <use style=\"stroke:#000000;stroke-width:0.8;\" x=\"49.190625\" xlink:href=\"#m3b9a18a350\" y=\"134.048697\"/>\r\n      </g>\r\n     </g>\r\n     <g id=\"text_11\">\r\n      <!-- 33.872 -->\r\n      <g transform=\"translate(7.2 137.847915)scale(0.1 -0.1)\">\r\n       <use xlink:href=\"#DejaVuSans-33\"/>\r\n       <use x=\"63.623047\" xlink:href=\"#DejaVuSans-33\"/>\r\n       <use x=\"127.246094\" xlink:href=\"#DejaVuSans-2e\"/>\r\n       <use x=\"159.033203\" xlink:href=\"#DejaVuSans-38\"/>\r\n       <use x=\"222.65625\" xlink:href=\"#DejaVuSans-37\"/>\r\n       <use x=\"286.279297\" xlink:href=\"#DejaVuSans-32\"/>\r\n      </g>\r\n     </g>\r\n    </g>\r\n    <g id=\"ytick_5\">\r\n     <g id=\"line2d_11\">\r\n      <g>\r\n       <use style=\"stroke:#000000;stroke-width:0.8;\" x=\"49.190625\" xlink:href=\"#m3b9a18a350\" y=\"94.589812\"/>\r\n      </g>\r\n     </g>\r\n     <g id=\"text_12\">\r\n      <!-- 33.874 -->\r\n      <g transform=\"translate(7.2 98.389031)scale(0.1 -0.1)\">\r\n       <use xlink:href=\"#DejaVuSans-33\"/>\r\n       <use x=\"63.623047\" xlink:href=\"#DejaVuSans-33\"/>\r\n       <use x=\"127.246094\" xlink:href=\"#DejaVuSans-2e\"/>\r\n       <use x=\"159.033203\" xlink:href=\"#DejaVuSans-38\"/>\r\n       <use x=\"222.65625\" xlink:href=\"#DejaVuSans-37\"/>\r\n       <use x=\"286.279297\" xlink:href=\"#DejaVuSans-34\"/>\r\n      </g>\r\n     </g>\r\n    </g>\r\n    <g id=\"ytick_6\">\r\n     <g id=\"line2d_12\">\r\n      <g>\r\n       <use style=\"stroke:#000000;stroke-width:0.8;\" x=\"49.190625\" xlink:href=\"#m3b9a18a350\" y=\"55.130928\"/>\r\n      </g>\r\n     </g>\r\n     <g id=\"text_13\">\r\n      <!-- 33.876 -->\r\n      <g transform=\"translate(7.2 58.930146)scale(0.1 -0.1)\">\r\n       <use xlink:href=\"#DejaVuSans-33\"/>\r\n       <use x=\"63.623047\" xlink:href=\"#DejaVuSans-33\"/>\r\n       <use x=\"127.246094\" xlink:href=\"#DejaVuSans-2e\"/>\r\n       <use x=\"159.033203\" xlink:href=\"#DejaVuSans-38\"/>\r\n       <use x=\"222.65625\" xlink:href=\"#DejaVuSans-37\"/>\r\n       <use x=\"286.279297\" xlink:href=\"#DejaVuSans-36\"/>\r\n      </g>\r\n     </g>\r\n    </g>\r\n    <g id=\"ytick_7\">\r\n     <g id=\"line2d_13\">\r\n      <g>\r\n       <use style=\"stroke:#000000;stroke-width:0.8;\" x=\"49.190625\" xlink:href=\"#m3b9a18a350\" y=\"15.672043\"/>\r\n      </g>\r\n     </g>\r\n     <g id=\"text_14\">\r\n      <!-- 33.878 -->\r\n      <g transform=\"translate(7.2 19.471262)scale(0.1 -0.1)\">\r\n       <use xlink:href=\"#DejaVuSans-33\"/>\r\n       <use x=\"63.623047\" xlink:href=\"#DejaVuSans-33\"/>\r\n       <use x=\"127.246094\" xlink:href=\"#DejaVuSans-2e\"/>\r\n       <use x=\"159.033203\" xlink:href=\"#DejaVuSans-38\"/>\r\n       <use x=\"222.65625\" xlink:href=\"#DejaVuSans-37\"/>\r\n       <use x=\"286.279297\" xlink:href=\"#DejaVuSans-38\"/>\r\n      </g>\r\n     </g>\r\n    </g>\r\n   </g>\r\n   <g id=\"LineCollection_1\">\r\n    <path clip-path=\"url(#p2b8348cee7)\" d=\"M 89.772443 19.554545 \r\nL 901.408807 19.554545 \r\n\" style=\"fill:none;stroke:#ff0000;stroke-dasharray:5.55,2.4;stroke-dashoffset:0;stroke-width:1.5;\"/>\r\n   </g>\r\n   <g id=\"line2d_14\">\r\n    <path clip-path=\"url(#p2b8348cee7)\" d=\"M 89.772443 266.645455 \r\nL 93.834687 114.368634 \r\nL 97.896931 114.073492 \r\nL 101.959175 60.369208 \r\nL 106.021419 39.813422 \r\nL 158.830592 39.813422 \r\nL 162.892836 29.49847 \r\nL 195.390789 29.49847 \r\nL 199.453033 21.60478 \r\nL 638.175392 21.60478 \r\nL 642.237636 20.881532 \r\nL 898.159012 20.881532 \r\nL 898.159012 20.881532 \r\n\" style=\"fill:none;stroke:#0000ff;stroke-linecap:square;stroke-width:1.5;\"/>\r\n   </g>\r\n   <g id=\"patch_3\">\r\n    <path d=\"M 49.190625 279 \r\nL 49.190625 7.2 \r\n\" style=\"fill:none;stroke:#000000;stroke-linecap:square;stroke-linejoin:miter;stroke-width:0.8;\"/>\r\n   </g>\r\n   <g id=\"patch_4\">\r\n    <path d=\"M 941.990625 279 \r\nL 941.990625 7.2 \r\n\" style=\"fill:none;stroke:#000000;stroke-linecap:square;stroke-linejoin:miter;stroke-width:0.8;\"/>\r\n   </g>\r\n   <g id=\"patch_5\">\r\n    <path d=\"M 49.190625 279 \r\nL 941.990625 279 \r\n\" style=\"fill:none;stroke:#000000;stroke-linecap:square;stroke-linejoin:miter;stroke-width:0.8;\"/>\r\n   </g>\r\n   <g id=\"patch_6\">\r\n    <path d=\"M 49.190625 7.2 \r\nL 941.990625 7.2 \r\n\" style=\"fill:none;stroke:#000000;stroke-linecap:square;stroke-linejoin:miter;stroke-width:0.8;\"/>\r\n   </g>\r\n  </g>\r\n </g>\r\n <defs>\r\n  <clipPath id=\"p2b8348cee7\">\r\n   <rect height=\"271.8\" width=\"892.8\" x=\"49.190625\" y=\"7.2\"/>\r\n  </clipPath>\r\n </defs>\r\n</svg>\r\n",
      "image/png": "[encoded data removed]"
     },
     "metadata": {
      "needs_background": "light"
     }
    }
   ],
   "source": [
    "# герерируем новую выборку \n",
    "sample = np.random.uniform(low=0, high=theta,size=10**6)\n",
    "\n",
    "# в переменных x и y будем хранить размер выборки и значение оценки, посчитанной для этого размера выборки \n",
    "x,y = [],[]\n",
    "for size in range(1000,10**6,5000):\n",
    "    x.append(size)\n",
    "    y.append(stats.uniform.fit(sample[:size], floc=0)[1])  \n",
    "\n",
    "# нарисуем график изменения оценки\n",
    "# синяя линия — значение оценки, красная — истинное значение оценки\n",
    "\n",
    "fig = plt.figure(figsize=(16,5)) \n",
    "\n",
    "plt.plot(x, y, color='blue'); \n",
    "plt.hlines(y=theta, xmin=1000, xmax=1000000, color='r', linestyles='dashed')\n",
    "\n",
    "plt.show()"
   ]
  },
  {
   "source": [
    "# 4\n",
    "Найти оценку $\\theta$ методом моментов и ММП. \n",
    "\n",
    "сначала запишем решение теоретическое"
   ],
   "cell_type": "markdown",
   "metadata": {}
  },
  {
   "source": [
    "![q4 extimates](p4.jpg)"
   ],
   "cell_type": "markdown",
   "metadata": {}
  },
  {
   "cell_type": "code",
   "execution_count": 57,
   "metadata": {},
   "outputs": [
    {
     "output_type": "stream",
     "name": "stdout",
     "text": [
      "Истинное значение параметра theta_1: 33.878\nИстинное значение параметра theta_2^2: 0.378\n"
     ]
    }
   ],
   "source": [
    "# генерируем параметр theta\n",
    "np.random.seed(80085) \n",
    "theta_1 = np.random.uniform(25,50)\n",
    "print(f'Истинное значение параметра theta_1: {theta_1:.3f}')\n",
    "theta_2 = np.random.uniform(0.1, 10)\n",
    "print(f'Истинное значение параметра theta_2^2: {theta_2:.3f}')"
   ]
  },
  {
   "source": [
    "## $\\theta_1$"
   ],
   "cell_type": "markdown",
   "metadata": {}
  },
  {
   "cell_type": "code",
   "execution_count": 60,
   "metadata": {},
   "outputs": [
    {
     "output_type": "error",
     "ename": "AttributeError",
     "evalue": "module 'scipy.stats' has no attribute 'normal'",
     "traceback": [
      "\u001b[1;31m---------------------------------------------------------------------------\u001b[0m",
      "\u001b[1;31mAttributeError\u001b[0m                            Traceback (most recent call last)",
      "\u001b[1;32m<ipython-input-60-91e1ac911dd4>\u001b[0m in \u001b[0;36m<module>\u001b[1;34m\u001b[0m\n\u001b[0;32m      7\u001b[0m \u001b[1;33m\u001b[0m\u001b[0m\n\u001b[0;32m      8\u001b[0m     \u001b[0mtheta_hat_m\u001b[0m \u001b[1;33m=\u001b[0m \u001b[0mnp\u001b[0m\u001b[1;33m.\u001b[0m\u001b[0mmean\u001b[0m\u001b[1;33m(\u001b[0m\u001b[0msample\u001b[0m\u001b[1;33m)\u001b[0m\u001b[1;33m\u001b[0m\u001b[1;33m\u001b[0m\u001b[0m\n\u001b[1;32m----> 9\u001b[1;33m     \u001b[0mtheta_hat_scipy\u001b[0m \u001b[1;33m=\u001b[0m \u001b[0mstats\u001b[0m\u001b[1;33m.\u001b[0m\u001b[0mnormal\u001b[0m\u001b[1;33m.\u001b[0m\u001b[0mfit\u001b[0m\u001b[1;33m(\u001b[0m\u001b[0msample\u001b[0m\u001b[1;33m)\u001b[0m\u001b[1;33m\u001b[0m\u001b[1;33m\u001b[0m\u001b[0m\n\u001b[0m\u001b[0;32m     10\u001b[0m \u001b[1;33m\u001b[0m\u001b[0m\n\u001b[0;32m     11\u001b[0m     \u001b[0mto_append\u001b[0m \u001b[1;33m=\u001b[0m \u001b[1;33m[\u001b[0m\u001b[0mint\u001b[0m\u001b[1;33m(\u001b[0m\u001b[0mn\u001b[0m\u001b[1;33m)\u001b[0m\u001b[1;33m,\u001b[0m \u001b[0mtheta_hat_m\u001b[0m\u001b[1;33m,\u001b[0m \u001b[0mnp\u001b[0m\u001b[1;33m.\u001b[0m\u001b[0mabs\u001b[0m\u001b[1;33m(\u001b[0m\u001b[0mtheta_hat_m\u001b[0m\u001b[1;33m-\u001b[0m\u001b[0mtheta\u001b[0m\u001b[1;33m)\u001b[0m\u001b[1;33m,\u001b[0m \u001b[0mtheta_hat_mmp\u001b[0m\u001b[1;33m,\u001b[0m \u001b[0mnp\u001b[0m\u001b[1;33m.\u001b[0m\u001b[0mabs\u001b[0m\u001b[1;33m(\u001b[0m\u001b[0mtheta_hat_mmp\u001b[0m\u001b[1;33m-\u001b[0m\u001b[0mtheta\u001b[0m\u001b[1;33m)\u001b[0m\u001b[1;33m,\u001b[0m \u001b[0mtheta_hat_scipy\u001b[0m\u001b[1;33m,\u001b[0m \u001b[0mnp\u001b[0m\u001b[1;33m.\u001b[0m\u001b[0mabs\u001b[0m\u001b[1;33m(\u001b[0m\u001b[0mtheta_hat_scipy\u001b[0m\u001b[1;33m-\u001b[0m\u001b[0mtheta\u001b[0m\u001b[1;33m)\u001b[0m\u001b[1;33m]\u001b[0m\u001b[1;33m\u001b[0m\u001b[1;33m\u001b[0m\u001b[0m\n",
      "\u001b[1;31mAttributeError\u001b[0m: module 'scipy.stats' has no attribute 'normal'"
     ]
    }
   ],
   "source": [
    "# генерируем выборки, записываем их в словарь\n",
    "samples = { 10**i: np.random.normal(loc=theta_1, scale=np.sqrt(theta_2),size=10**i) for i in range(1,6)}\n",
    "q4_results_t1 = pd.DataFrame(columns = ['n', 'оценка методом моментов', 'оцибка ММ', 'метод макс. правдоподобия', 'ошибка ММП', 'SciPy fit', 'ошибка SciPy fit'])\n",
    "\n",
    "# считаем оценки, записываем их в DF и выводим результаты\n",
    "for n,sample in samples.items():\n",
    "    \n",
    "    theta_hat_m = np.mean(sample)\n",
    "    theta_hat_scipy = stats.normal.fit(sample)\n",
    "\n",
    "    to_append = [int(n), theta_hat_m, np.abs(theta_hat_m-theta), theta_hat_mmp, np.abs(theta_hat_mmp-theta), theta_hat_scipy, np.abs(theta_hat_scipy-theta)]\n",
    "    a_series = pd.Series(to_append, index = q3_results.columns)\n",
    "    q4_results_t1 = q4_results_t1.append(a_series, ignore_index=True)\n",
    "\n",
    "q4_results_t1.set_index('n', inplace=True)\n",
    "q4_results_t1"
   ]
  },
  {
   "cell_type": "code",
   "execution_count": 62,
   "metadata": {},
   "outputs": [
    {
     "output_type": "execute_result",
     "data": {
      "text/plain": [
       "<scipy.stats._distn_infrastructure.rv_frozen at 0x209eb14d7c0>"
      ]
     },
     "metadata": {},
     "execution_count": 62
    }
   ],
   "source": [
    "stats.uniform()"
   ]
  },
  {
   "cell_type": "code",
   "execution_count": null,
   "metadata": {},
   "outputs": [],
   "source": []
  }
 ]
}