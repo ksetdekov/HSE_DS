{
 "cells": [
  {
   "cell_type": "markdown",
   "source": [
    "# Выполнил Кирилл Сетдеков"
   ],
   "metadata": {}
  },
  {
   "cell_type": "code",
   "execution_count": 50,
   "source": [
    "import numpy as np\r\n",
    "import pandas as pd\r\n",
    "from scipy.stats import chisquare\r\n",
    "import scipy\r\n",
    "from scipy import stats\r\n",
    "from statsmodels.stats.weightstats import *\r\n",
    "import matplotlib.pyplot as plt\r\n",
    "from scipy.stats import norm\r\n",
    "from statsmodels.stats.descriptivestats import sign_test\r\n",
    "\r\n",
    "from sklearn.ensemble import RandomForestRegressor\r\n",
    "import statsmodels.formula.api as smf\r\n"
   ],
   "outputs": [],
   "metadata": {}
  },
  {
   "cell_type": "markdown",
   "source": [
    "#  Задание 1"
   ],
   "metadata": {}
  },
  {
   "cell_type": "markdown",
   "source": [
    "1. Что можно сказать про случайные величины $X$ и $Y$, если $Corr(X, Y) = 1$?\r\n",
    "\r\n",
    "    * Между этими величинами можно построить линейную зависимость вида $X = a + b Y$\r\n",
    "\r\n",
    "2. Чем отличаются коэффициенты корреляции Пирсона и Спирмена? В каких случаях лучшепользоваться коэффициентом корреляции Спирмена?\r\n",
    "\r\n",
    "    * Корреляцию Пирсона мы считаем между значениями величин, которые мы сравниваем, а для корреляции Спирмена используем позиции значений в вариационном ряду, составленном для каждой величины.\r\n",
    "\r\n",
    "    * В ситуации, когда у нас есть упорядоченные категориальные значения, для которых мы можем делать папарные сравнения и есть транзитивность, то мы сможем между двумя величинами такого типа посчитать корреляцию Спирмена. Тажке, если мы ожидаем сразу не линейную зависимость, а некую зависимость вида $X = f(Y)$, где $f()$ - монотонная функция, то корреляция Спирмена будет лучше отражать картину корреляции между переменными.\r\n",
    "    \r\n",
    "\r\n",
    "3. Что такое коэффициент детерминации? Что происходит с коэффициентом детерминации, придобавлении признаков в регрессионную модель? А при удалении?\r\n",
    "\r\n",
    "    * Коэффициент детерминации - отношение объясненной регрессией дисперсии к общей дисперсии $y$. Или в терминах ошибки: $$R^2 = 1 - \\frac{RSS}{TSS}$$, где TSS - дисперсия y, а RSS - дисперсия остатков модели.* $R^2$ монотонно неубывает при добавлении новых переменных. При добавлении нового признака он может или остаться тем же или вырасти. Аналогично при удалении - может упасть, может не измениться. Отсюда следует одна из проблем - эта метрика не штрафует добавление малозначимых или совсем ненужных признаков.\r\n",
    "\r\n",
    "4. В каких предположениях работают критерии Стьюдента и Фишера о значимости коэффициентов регрессии?\r\n",
    "\r\n",
    "    * При выполнении предпосылок Теоремы Гаусса-Маркова:\r\n",
    "    \r\n",
    "        1. Модель линейна, совпадает с подлежащим процессом и включены все верные переменные\r\n",
    "        2. Наблюдения случайны и независимы между собой \r\n",
    "        3. Ранг матрицы признаков равен числу столбцов - нет линейно зависимых переменных\r\n",
    "        4. Ошибки имеют одинаковую дисперсию и нет гетероскедастичности\r\n",
    "        5. Ошибки нормально распределены со средним 0.\r\n",
    "\r\n",
    "5. Какую гипотезу проверяет критерий Фишера (F-тест), когда мы вызываем summary при по-строении линейной регрессии в Python или R?\r\n",
    "\r\n",
    "    * В этом случае проверяется нулевая гипотеза, что все коэффициенты равны 0: $H_0: \\beta_1 = \\beta_2 = ... = \\beta_n = 0 $\r\n",
    "\r\n"
   ],
   "metadata": {}
  },
  {
   "cell_type": "markdown",
   "source": [
    "# Задание 2\r\n",
    "В файле lifeline.xls содержатся 50 пар наблюдений из исследованиядокторов Л. Матера и М. Уилсона. В нем рассматривались следующие переменные:X длина линии жизни на левой руке в сантиметрах (с точностью до 0.15см) и Y  продолжительностьжизни человека (округленная до ближайшего целого года). Изучите корреляцию X и Y. Верно ли,что X и Y связаны линейной регрессионной зависимостью?"
   ],
   "metadata": {}
  },
  {
   "cell_type": "markdown",
   "source": [],
   "metadata": {}
  },
  {
   "cell_type": "code",
   "execution_count": 6,
   "source": [
    "lines = pd.read_excel('data/lifeline.xls')\r\n",
    "lines.plot.scatter(x = 'X', y = 'Y')"
   ],
   "outputs": [
    {
     "output_type": "execute_result",
     "data": {
      "text/plain": [
       "<AxesSubplot:xlabel='X', ylabel='Y'>"
      ]
     },
     "metadata": {},
     "execution_count": 6
    },
    {
     "output_type": "display_data",
     "data": {
      "text/plain": [
       "<Figure size 432x288 with 1 Axes>"
      ],
      "image/png": "[encoded data removed]"
     },
     "metadata": {
      "needs_background": "light"
     }
    }
   ],
   "metadata": {}
  },
  {
   "cell_type": "markdown",
   "source": [
    "не очень похоже на связь"
   ],
   "metadata": {}
  },
  {
   "cell_type": "code",
   "execution_count": 8,
   "source": [
    "stats.pearsonr(lines.X, lines.Y)"
   ],
   "outputs": [
    {
     "output_type": "execute_result",
     "data": {
      "text/plain": [
       "(-0.122553650859522, 0.3965106928959566)"
      ]
     },
     "metadata": {},
     "execution_count": 8
    }
   ],
   "metadata": {}
  },
  {
   "cell_type": "markdown",
   "source": [
    "Отвергнуть предположение о том, что линейной связи между этими факторами нет мы не можем. На этих данных не верно предположение, что X и Y связаны."
   ],
   "metadata": {}
  },
  {
   "cell_type": "markdown",
   "source": [
    "# Задание 3\r\n",
    "В файле auto.csv находятся данные, которые описывают характеристики 392 автомобилей. \r\n",
    "\r\n",
    "Какие признаки влияют на расход топлива? Постройте (хорошую) линейную регрессионную модельдля предсказания расхода топлива по этим признакам. Интерпретируйте значения коэффициентоврегрессии (влияние каждого признака на отклик). Не забудьте о преобразовании признаков, еслиони будут нужны.\r\n"
   ],
   "metadata": {}
  },
  {
   "cell_type": "code",
   "execution_count": 12,
   "source": [
    "mtcars = pd.read_csv('data/auto.csv')\r\n",
    "mtcars"
   ],
   "outputs": [
    {
     "output_type": "execute_result",
     "data": {
      "text/plain": [
       "      mpg  cylinders  displacement  horsepower  weight  acceleration  year  \\\n",
       "0    18.0          8         307.0         130    3504          12.0    70   \n",
       "1    15.0          8         350.0         165    3693          11.5    70   \n",
       "2    18.0          8         318.0         150    3436          11.0    70   \n",
       "3    16.0          8         304.0         150    3433          12.0    70   \n",
       "4    17.0          8         302.0         140    3449          10.5    70   \n",
       "..    ...        ...           ...         ...     ...           ...   ...   \n",
       "387  27.0          4         140.0          86    2790          15.6    82   \n",
       "388  44.0          4          97.0          52    2130          24.6    82   \n",
       "389  32.0          4         135.0          84    2295          11.6    82   \n",
       "390  28.0          4         120.0          79    2625          18.6    82   \n",
       "391  31.0          4         119.0          82    2720          19.4    82   \n",
       "\n",
       "     origin                       name  \n",
       "0         1  chevrolet chevelle malibu  \n",
       "1         1          buick skylark 320  \n",
       "2         1         plymouth satellite  \n",
       "3         1              amc rebel sst  \n",
       "4         1                ford torino  \n",
       "..      ...                        ...  \n",
       "387       1            ford mustang gl  \n",
       "388       2                  vw pickup  \n",
       "389       1              dodge rampage  \n",
       "390       1                ford ranger  \n",
       "391       1                 chevy s-10  \n",
       "\n",
       "[392 rows x 9 columns]"
      ],
      "text/html": [
       "<div>\n",
       "<style scoped>\n",
       "    .dataframe tbody tr th:only-of-type {\n",
       "        vertical-align: middle;\n",
       "    }\n",
       "\n",
       "    .dataframe tbody tr th {\n",
       "        vertical-align: top;\n",
       "    }\n",
       "\n",
       "    .dataframe thead th {\n",
       "        text-align: right;\n",
       "    }\n",
       "</style>\n",
       "<table border=\"1\" class=\"dataframe\">\n",
       "  <thead>\n",
       "    <tr style=\"text-align: right;\">\n",
       "      <th></th>\n",
       "      <th>mpg</th>\n",
       "      <th>cylinders</th>\n",
       "      <th>displacement</th>\n",
       "      <th>horsepower</th>\n",
       "      <th>weight</th>\n",
       "      <th>acceleration</th>\n",
       "      <th>year</th>\n",
       "      <th>origin</th>\n",
       "      <th>name</th>\n",
       "    </tr>\n",
       "  </thead>\n",
       "  <tbody>\n",
       "    <tr>\n",
       "      <th>0</th>\n",
       "      <td>18.0</td>\n",
       "      <td>8</td>\n",
       "      <td>307.0</td>\n",
       "      <td>130</td>\n",
       "      <td>3504</td>\n",
       "      <td>12.0</td>\n",
       "      <td>70</td>\n",
       "      <td>1</td>\n",
       "      <td>chevrolet chevelle malibu</td>\n",
       "    </tr>\n",
       "    <tr>\n",
       "      <th>1</th>\n",
       "      <td>15.0</td>\n",
       "      <td>8</td>\n",
       "      <td>350.0</td>\n",
       "      <td>165</td>\n",
       "      <td>3693</td>\n",
       "      <td>11.5</td>\n",
       "      <td>70</td>\n",
       "      <td>1</td>\n",
       "      <td>buick skylark 320</td>\n",
       "    </tr>\n",
       "    <tr>\n",
       "      <th>2</th>\n",
       "      <td>18.0</td>\n",
       "      <td>8</td>\n",
       "      <td>318.0</td>\n",
       "      <td>150</td>\n",
       "      <td>3436</td>\n",
       "      <td>11.0</td>\n",
       "      <td>70</td>\n",
       "      <td>1</td>\n",
       "      <td>plymouth satellite</td>\n",
       "    </tr>\n",
       "    <tr>\n",
       "      <th>3</th>\n",
       "      <td>16.0</td>\n",
       "      <td>8</td>\n",
       "      <td>304.0</td>\n",
       "      <td>150</td>\n",
       "      <td>3433</td>\n",
       "      <td>12.0</td>\n",
       "      <td>70</td>\n",
       "      <td>1</td>\n",
       "      <td>amc rebel sst</td>\n",
       "    </tr>\n",
       "    <tr>\n",
       "      <th>4</th>\n",
       "      <td>17.0</td>\n",
       "      <td>8</td>\n",
       "      <td>302.0</td>\n",
       "      <td>140</td>\n",
       "      <td>3449</td>\n",
       "      <td>10.5</td>\n",
       "      <td>70</td>\n",
       "      <td>1</td>\n",
       "      <td>ford torino</td>\n",
       "    </tr>\n",
       "    <tr>\n",
       "      <th>...</th>\n",
       "      <td>...</td>\n",
       "      <td>...</td>\n",
       "      <td>...</td>\n",
       "      <td>...</td>\n",
       "      <td>...</td>\n",
       "      <td>...</td>\n",
       "      <td>...</td>\n",
       "      <td>...</td>\n",
       "      <td>...</td>\n",
       "    </tr>\n",
       "    <tr>\n",
       "      <th>387</th>\n",
       "      <td>27.0</td>\n",
       "      <td>4</td>\n",
       "      <td>140.0</td>\n",
       "      <td>86</td>\n",
       "      <td>2790</td>\n",
       "      <td>15.6</td>\n",
       "      <td>82</td>\n",
       "      <td>1</td>\n",
       "      <td>ford mustang gl</td>\n",
       "    </tr>\n",
       "    <tr>\n",
       "      <th>388</th>\n",
       "      <td>44.0</td>\n",
       "      <td>4</td>\n",
       "      <td>97.0</td>\n",
       "      <td>52</td>\n",
       "      <td>2130</td>\n",
       "      <td>24.6</td>\n",
       "      <td>82</td>\n",
       "      <td>2</td>\n",
       "      <td>vw pickup</td>\n",
       "    </tr>\n",
       "    <tr>\n",
       "      <th>389</th>\n",
       "      <td>32.0</td>\n",
       "      <td>4</td>\n",
       "      <td>135.0</td>\n",
       "      <td>84</td>\n",
       "      <td>2295</td>\n",
       "      <td>11.6</td>\n",
       "      <td>82</td>\n",
       "      <td>1</td>\n",
       "      <td>dodge rampage</td>\n",
       "    </tr>\n",
       "    <tr>\n",
       "      <th>390</th>\n",
       "      <td>28.0</td>\n",
       "      <td>4</td>\n",
       "      <td>120.0</td>\n",
       "      <td>79</td>\n",
       "      <td>2625</td>\n",
       "      <td>18.6</td>\n",
       "      <td>82</td>\n",
       "      <td>1</td>\n",
       "      <td>ford ranger</td>\n",
       "    </tr>\n",
       "    <tr>\n",
       "      <th>391</th>\n",
       "      <td>31.0</td>\n",
       "      <td>4</td>\n",
       "      <td>119.0</td>\n",
       "      <td>82</td>\n",
       "      <td>2720</td>\n",
       "      <td>19.4</td>\n",
       "      <td>82</td>\n",
       "      <td>1</td>\n",
       "      <td>chevy s-10</td>\n",
       "    </tr>\n",
       "  </tbody>\n",
       "</table>\n",
       "<p>392 rows × 9 columns</p>\n",
       "</div>"
      ]
     },
     "metadata": {},
     "execution_count": 12
    }
   ],
   "metadata": {}
  },
  {
   "cell_type": "code",
   "execution_count": 16,
   "source": [
    "mtcars[mtcars.name == 'toyota corolla']"
   ],
   "outputs": [
    {
     "output_type": "execute_result",
     "data": {
      "text/plain": [
       "      mpg  cylinders  displacement  horsepower  weight  acceleration  year  \\\n",
       "165  29.0          4          97.0          75    2171          16.0    75   \n",
       "203  28.0          4          97.0          75    2155          16.4    76   \n",
       "319  32.2          4         108.0          75    2265          15.2    80   \n",
       "351  32.4          4         108.0          75    2350          16.8    81   \n",
       "376  34.0          4         108.0          70    2245          16.9    82   \n",
       "\n",
       "     origin            name  \n",
       "165       3  toyota corolla  \n",
       "203       3  toyota corolla  \n",
       "319       3  toyota corolla  \n",
       "351       3  toyota corolla  \n",
       "376       3  toyota corolla  "
      ],
      "text/html": [
       "<div>\n",
       "<style scoped>\n",
       "    .dataframe tbody tr th:only-of-type {\n",
       "        vertical-align: middle;\n",
       "    }\n",
       "\n",
       "    .dataframe tbody tr th {\n",
       "        vertical-align: top;\n",
       "    }\n",
       "\n",
       "    .dataframe thead th {\n",
       "        text-align: right;\n",
       "    }\n",
       "</style>\n",
       "<table border=\"1\" class=\"dataframe\">\n",
       "  <thead>\n",
       "    <tr style=\"text-align: right;\">\n",
       "      <th></th>\n",
       "      <th>mpg</th>\n",
       "      <th>cylinders</th>\n",
       "      <th>displacement</th>\n",
       "      <th>horsepower</th>\n",
       "      <th>weight</th>\n",
       "      <th>acceleration</th>\n",
       "      <th>year</th>\n",
       "      <th>origin</th>\n",
       "      <th>name</th>\n",
       "    </tr>\n",
       "  </thead>\n",
       "  <tbody>\n",
       "    <tr>\n",
       "      <th>165</th>\n",
       "      <td>29.0</td>\n",
       "      <td>4</td>\n",
       "      <td>97.0</td>\n",
       "      <td>75</td>\n",
       "      <td>2171</td>\n",
       "      <td>16.0</td>\n",
       "      <td>75</td>\n",
       "      <td>3</td>\n",
       "      <td>toyota corolla</td>\n",
       "    </tr>\n",
       "    <tr>\n",
       "      <th>203</th>\n",
       "      <td>28.0</td>\n",
       "      <td>4</td>\n",
       "      <td>97.0</td>\n",
       "      <td>75</td>\n",
       "      <td>2155</td>\n",
       "      <td>16.4</td>\n",
       "      <td>76</td>\n",
       "      <td>3</td>\n",
       "      <td>toyota corolla</td>\n",
       "    </tr>\n",
       "    <tr>\n",
       "      <th>319</th>\n",
       "      <td>32.2</td>\n",
       "      <td>4</td>\n",
       "      <td>108.0</td>\n",
       "      <td>75</td>\n",
       "      <td>2265</td>\n",
       "      <td>15.2</td>\n",
       "      <td>80</td>\n",
       "      <td>3</td>\n",
       "      <td>toyota corolla</td>\n",
       "    </tr>\n",
       "    <tr>\n",
       "      <th>351</th>\n",
       "      <td>32.4</td>\n",
       "      <td>4</td>\n",
       "      <td>108.0</td>\n",
       "      <td>75</td>\n",
       "      <td>2350</td>\n",
       "      <td>16.8</td>\n",
       "      <td>81</td>\n",
       "      <td>3</td>\n",
       "      <td>toyota corolla</td>\n",
       "    </tr>\n",
       "    <tr>\n",
       "      <th>376</th>\n",
       "      <td>34.0</td>\n",
       "      <td>4</td>\n",
       "      <td>108.0</td>\n",
       "      <td>70</td>\n",
       "      <td>2245</td>\n",
       "      <td>16.9</td>\n",
       "      <td>82</td>\n",
       "      <td>3</td>\n",
       "      <td>toyota corolla</td>\n",
       "    </tr>\n",
       "  </tbody>\n",
       "</table>\n",
       "</div>"
      ]
     },
     "metadata": {},
     "execution_count": 16
    }
   ],
   "metadata": {}
  },
  {
   "cell_type": "code",
   "execution_count": 28,
   "source": [
    "0.16+0.0095*(sum([4+3+3+3+1+2+2+1+2]))"
   ],
   "outputs": [
    {
     "output_type": "execute_result",
     "data": {
      "text/plain": [
       "0.3595"
      ]
     },
     "metadata": {},
     "execution_count": 28
    }
   ],
   "metadata": {}
  },
  {
   "cell_type": "code",
   "execution_count": 26,
   "source": [
    "mtcars_names = mtcars.groupby('name').aggregate('mean')[['cylinders', 'year']]\r\n",
    "mtcars_names.to_csv('carnames.csv')"
   ],
   "outputs": [],
   "metadata": {}
  },
  {
   "cell_type": "code",
   "execution_count": 47,
   "source": [
    "mtcars_names = pd.read_csv('carnames.csv')\r\n",
    "mtcars = pd.merge(mtcars, mtcars_names[['name', 'cda']], how='left', on='name')"
   ],
   "outputs": [],
   "metadata": {}
  },
  {
   "cell_type": "code",
   "execution_count": 55,
   "source": [
    "from sklearn.impute import SimpleImputer"
   ],
   "outputs": [],
   "metadata": {}
  },
  {
   "cell_type": "code",
   "execution_count": null,
   "source": [],
   "outputs": [],
   "metadata": {}
  },
  {
   "cell_type": "code",
   "execution_count": 71,
   "source": [
    "imp_mean = SimpleImputer(missing_values=np.nan, strategy='mean')\r\n",
    "mtcars['cda'] = imp_mean.fit_transform(np.array(mtcars.cda).reshape(-1, 1))"
   ],
   "outputs": [],
   "metadata": {}
  },
  {
   "cell_type": "code",
   "execution_count": 41,
   "source": [
    "stats.ttest_ind(mtcars[mtcars.vs == 0].mpg, mtcars[mtcars.vs != 0].mpg)"
   ],
   "outputs": [
    {
     "data": {
      "text/plain": [
       "Ttest_indResult(statistic=-4.864384956122782, pvalue=3.415937254419951e-05)"
      ]
     },
     "metadata": {},
     "output_type": "display_data"
    }
   ],
   "metadata": {}
  },
  {
   "cell_type": "code",
   "execution_count": 42,
   "source": [
    "stats.ks_2samp(mtcars[mtcars.vs == 0].mpg, mtcars[mtcars.vs != 0].mpg)\r\n"
   ],
   "outputs": [
    {
     "data": {
      "text/plain": [
       "KstestResult(statistic=0.7301587301587301, pvalue=0.0001328071108758211)"
      ]
     },
     "metadata": {},
     "output_type": "display_data"
    }
   ],
   "metadata": {}
  },
  {
   "cell_type": "code",
   "execution_count": 43,
   "source": [
    "stats.mannwhitneyu(mtcars[mtcars.vs == 0].mpg, mtcars[mtcars.vs != 0].mpg)"
   ],
   "outputs": [
    {
     "data": {
      "text/plain": [
       "MannwhitneyuResult(statistic=22.5, pvalue=4.517235850026591e-05)"
      ]
     },
     "metadata": {},
     "output_type": "display_data"
    }
   ],
   "metadata": {}
  },
  {
   "cell_type": "code",
   "execution_count": 73,
   "source": [
    "m1 = smf.ols('mpg ~ cylinders + displacement + horsepower + weight + acceleration + year + origin + cda', data=mtcars)\r\n",
    "m1fitted = m1.fit()\r\n",
    "\r\n",
    "print(m1fitted.summary())"
   ],
   "outputs": [
    {
     "output_type": "stream",
     "name": "stdout",
     "text": [
      "                            OLS Regression Results                            \n",
      "==============================================================================\n",
      "Dep. Variable:                    mpg   R-squared:                       0.822\n",
      "Model:                            OLS   Adj. R-squared:                  0.818\n",
      "Method:                 Least Squares   F-statistic:                     221.1\n",
      "Date:                Sun, 01 Aug 2021   Prob (F-statistic):          1.92e-138\n",
      "Time:                        00:15:06   Log-Likelihood:                -1022.9\n",
      "No. Observations:                 392   AIC:                             2064.\n",
      "Df Residuals:                     383   BIC:                             2100.\n",
      "Df Model:                           8                                         \n",
      "Covariance Type:            nonrobust                                         \n",
      "================================================================================\n",
      "                   coef    std err          t      P>|t|      [0.025      0.975]\n",
      "--------------------------------------------------------------------------------\n",
      "Intercept      -14.4051      5.347     -2.694      0.007     -24.918      -3.892\n",
      "cylinders       -0.4874      0.323     -1.508      0.132      -1.123       0.148\n",
      "displacement     0.0213      0.008      2.791      0.006       0.006       0.036\n",
      "horsepower      -0.0184      0.014     -1.328      0.185      -0.046       0.009\n",
      "weight          -0.0066      0.001     -9.984      0.000      -0.008      -0.005\n",
      "acceleration     0.0792      0.099      0.802      0.423      -0.115       0.274\n",
      "year             0.7442      0.051     14.498      0.000       0.643       0.845\n",
      "origin           1.4286      0.278      5.137      0.000       0.882       1.975\n",
      "cda             -4.8260      4.548     -1.061      0.289     -13.768       4.116\n",
      "==============================================================================\n",
      "Omnibus:                       29.915   Durbin-Watson:                   1.308\n",
      "Prob(Omnibus):                  0.000   Jarque-Bera (JB):               48.567\n",
      "Skew:                           0.509   Prob(JB):                     2.84e-11\n",
      "Kurtosis:                       4.392   Cond. No.                     1.13e+05\n",
      "==============================================================================\n",
      "\n",
      "Notes:\n",
      "[1] Standard Errors assume that the covariance matrix of the errors is correctly specified.\n",
      "[2] The condition number is large, 1.13e+05. This might indicate that there are\n",
      "strong multicollinearity or other numerical problems.\n"
     ]
    }
   ],
   "metadata": {}
  },
  {
   "cell_type": "markdown",
   "source": [
    "## Решим задачу в ключе - какой эффект от этих переменных, при условии что все остальные неизменны\r\n",
    "Для этого построим линейную регрессию и посмотрим на значимость коээфициентов при интересующих нас переменных"
   ],
   "metadata": {}
  },
  {
   "cell_type": "code",
   "execution_count": 37,
   "source": [
    "m1fitted.f_test(\"vs = am = 0\")\r\n"
   ],
   "outputs": [
    {
     "output_type": "execute_result",
     "data": {
      "text/plain": [
       "<class 'statsmodels.stats.contrast.ContrastResults'>\n",
       "<F test: F=array([[0.75668509]]), p=0.4815897287884093, df_denom=21, df_num=2>"
      ]
     },
     "metadata": {},
     "execution_count": 37
    }
   ],
   "metadata": {}
  },
  {
   "cell_type": "code",
   "execution_count": 38,
   "source": [
    "\r\n",
    "f = stats.probplot(m1fitted.resid, dist=\"norm\", plot = plt)"
   ],
   "outputs": [
    {
     "output_type": "display_data",
     "data": {
      "text/plain": [
       "<Figure size 432x288 with 1 Axes>"
      ],
      "image/png": "[encoded data removed]"
     },
     "metadata": {
      "needs_background": "light"
     }
    }
   ],
   "metadata": {}
  },
  {
   "cell_type": "markdown",
   "source": [
    "### вывод\r\n",
    "Тест Jarque-Bera на нормальность остатков и из визуальный анализ указывает, что гипотезу о их нормальном распределении отвергнуть нельзя.\r\n",
    "Следовательно, можно говорить о том, что мы можем смотеть на выводы по значимости факторов\r\n",
    "\r\n",
    "Как отдельно, так и вместе факторы типа двигателя и трансмиссии не вляют на экономичность авто, на этих данных, а влияет вес, объем и можность двигателя (воспользуемся случайным лесом ниже, чтобы вытащить относительную значимость факторов)"
   ],
   "metadata": {}
  },
  {
   "cell_type": "code",
   "execution_count": 77,
   "source": [
    "regr = RandomForestRegressor( random_state=0)\r\n",
    "regr.fit(mtcars[mtcars.columns.difference(['mpg', 'name'])], mtcars.mpg)"
   ],
   "outputs": [
    {
     "output_type": "execute_result",
     "data": {
      "text/plain": [
       "RandomForestRegressor(random_state=0)"
      ]
     },
     "metadata": {},
     "execution_count": 77
    }
   ],
   "metadata": {}
  },
  {
   "cell_type": "code",
   "execution_count": 78,
   "source": [
    "pd.DataFrame(zip(regr.feature_importances_, mtcars[mtcars.columns.difference(['mpg', 'name'])].columns)).sort_values(by=0, ascending=False)"
   ],
   "outputs": [
    {
     "output_type": "execute_result",
     "data": {
      "text/plain": [
       "          0             1\n",
       "3  0.343152  displacement\n",
       "6  0.224780        weight\n",
       "2  0.152826     cylinders\n",
       "4  0.121756    horsepower\n",
       "7  0.118005          year\n",
       "0  0.027560  acceleration\n",
       "1  0.006279           cda\n",
       "5  0.005642        origin"
      ],
      "text/html": [
       "<div>\n",
       "<style scoped>\n",
       "    .dataframe tbody tr th:only-of-type {\n",
       "        vertical-align: middle;\n",
       "    }\n",
       "\n",
       "    .dataframe tbody tr th {\n",
       "        vertical-align: top;\n",
       "    }\n",
       "\n",
       "    .dataframe thead th {\n",
       "        text-align: right;\n",
       "    }\n",
       "</style>\n",
       "<table border=\"1\" class=\"dataframe\">\n",
       "  <thead>\n",
       "    <tr style=\"text-align: right;\">\n",
       "      <th></th>\n",
       "      <th>0</th>\n",
       "      <th>1</th>\n",
       "    </tr>\n",
       "  </thead>\n",
       "  <tbody>\n",
       "    <tr>\n",
       "      <th>3</th>\n",
       "      <td>0.343152</td>\n",
       "      <td>displacement</td>\n",
       "    </tr>\n",
       "    <tr>\n",
       "      <th>6</th>\n",
       "      <td>0.224780</td>\n",
       "      <td>weight</td>\n",
       "    </tr>\n",
       "    <tr>\n",
       "      <th>2</th>\n",
       "      <td>0.152826</td>\n",
       "      <td>cylinders</td>\n",
       "    </tr>\n",
       "    <tr>\n",
       "      <th>4</th>\n",
       "      <td>0.121756</td>\n",
       "      <td>horsepower</td>\n",
       "    </tr>\n",
       "    <tr>\n",
       "      <th>7</th>\n",
       "      <td>0.118005</td>\n",
       "      <td>year</td>\n",
       "    </tr>\n",
       "    <tr>\n",
       "      <th>0</th>\n",
       "      <td>0.027560</td>\n",
       "      <td>acceleration</td>\n",
       "    </tr>\n",
       "    <tr>\n",
       "      <th>1</th>\n",
       "      <td>0.006279</td>\n",
       "      <td>cda</td>\n",
       "    </tr>\n",
       "    <tr>\n",
       "      <th>5</th>\n",
       "      <td>0.005642</td>\n",
       "      <td>origin</td>\n",
       "    </tr>\n",
       "  </tbody>\n",
       "</table>\n",
       "</div>"
      ]
     },
     "metadata": {},
     "execution_count": 78
    }
   ],
   "metadata": {}
  },
  {
   "cell_type": "code",
   "execution_count": 82,
   "source": [
    "from sklearn.metrics import r2_score\r\n"
   ],
   "outputs": [],
   "metadata": {}
  },
  {
   "cell_type": "code",
   "execution_count": 83,
   "source": [
    "yhat = regr.predict(mtcars[mtcars.columns.difference(['mpg', 'name'])])\r\n",
    "r2_score(mtcars.mpg, yhat)"
   ],
   "outputs": [
    {
     "output_type": "execute_result",
     "data": {
      "text/plain": [
       "0.9827691824372229"
      ]
     },
     "metadata": {},
     "execution_count": 83
    }
   ],
   "metadata": {}
  },
  {
   "cell_type": "markdown",
   "source": [
    "## Решим задачу в ключе - какой эффект отдельно от типа двигателя и трансмиссии, без контроля остальных парамтеров.\r\n",
    "Сделаем t-test и непараметрические тесты"
   ],
   "metadata": {}
  },
  {
   "cell_type": "code",
   "execution_count": 72,
   "source": [
    "mtcars.groupby('vs').mean()"
   ],
   "outputs": [
    {
     "output_type": "execute_result",
     "data": {
      "text/plain": [
       "          mpg       cyl        disp          hp      drat        wt  \\\n",
       "vs                                                                    \n",
       "0   16.616667  7.444444  307.150000  189.722222  3.392222  3.688556   \n",
       "1   24.557143  4.571429  132.457143   91.357143  3.859286  2.611286   \n",
       "\n",
       "         qsec        am      gear      carb  \n",
       "vs                                           \n",
       "0   16.693889  0.333333  3.555556  3.611111  \n",
       "1   19.333571  0.500000  3.857143  1.785714  "
      ],
      "text/html": [
       "<div>\n",
       "<style scoped>\n",
       "    .dataframe tbody tr th:only-of-type {\n",
       "        vertical-align: middle;\n",
       "    }\n",
       "\n",
       "    .dataframe tbody tr th {\n",
       "        vertical-align: top;\n",
       "    }\n",
       "\n",
       "    .dataframe thead th {\n",
       "        text-align: right;\n",
       "    }\n",
       "</style>\n",
       "<table border=\"1\" class=\"dataframe\">\n",
       "  <thead>\n",
       "    <tr style=\"text-align: right;\">\n",
       "      <th></th>\n",
       "      <th>mpg</th>\n",
       "      <th>cyl</th>\n",
       "      <th>disp</th>\n",
       "      <th>hp</th>\n",
       "      <th>drat</th>\n",
       "      <th>wt</th>\n",
       "      <th>qsec</th>\n",
       "      <th>am</th>\n",
       "      <th>gear</th>\n",
       "      <th>carb</th>\n",
       "    </tr>\n",
       "    <tr>\n",
       "      <th>vs</th>\n",
       "      <th></th>\n",
       "      <th></th>\n",
       "      <th></th>\n",
       "      <th></th>\n",
       "      <th></th>\n",
       "      <th></th>\n",
       "      <th></th>\n",
       "      <th></th>\n",
       "      <th></th>\n",
       "      <th></th>\n",
       "    </tr>\n",
       "  </thead>\n",
       "  <tbody>\n",
       "    <tr>\n",
       "      <th>0</th>\n",
       "      <td>16.616667</td>\n",
       "      <td>7.444444</td>\n",
       "      <td>307.150000</td>\n",
       "      <td>189.722222</td>\n",
       "      <td>3.392222</td>\n",
       "      <td>3.688556</td>\n",
       "      <td>16.693889</td>\n",
       "      <td>0.333333</td>\n",
       "      <td>3.555556</td>\n",
       "      <td>3.611111</td>\n",
       "    </tr>\n",
       "    <tr>\n",
       "      <th>1</th>\n",
       "      <td>24.557143</td>\n",
       "      <td>4.571429</td>\n",
       "      <td>132.457143</td>\n",
       "      <td>91.357143</td>\n",
       "      <td>3.859286</td>\n",
       "      <td>2.611286</td>\n",
       "      <td>19.333571</td>\n",
       "      <td>0.500000</td>\n",
       "      <td>3.857143</td>\n",
       "      <td>1.785714</td>\n",
       "    </tr>\n",
       "  </tbody>\n",
       "</table>\n",
       "</div>"
      ]
     },
     "metadata": {},
     "execution_count": 72
    }
   ],
   "metadata": {}
  },
  {
   "cell_type": "code",
   "execution_count": 40,
   "source": [
    "fig, ax = plt.subplots()\r\n",
    "ax.hist(mtcars[mtcars.vs == 1].mpg, label='рядный', alpha = 0.7)\r\n",
    "ax.hist(mtcars[mtcars.vs == 0].mpg, label='в образный', alpha = 0.7)\r\n",
    "\r\n",
    "ax.legend()\r\n",
    "\r\n",
    "\r\n",
    "ax.set_xlabel('values')\r\n",
    "ax.set_ylabel('counts')\r\n",
    "ax.set_title('гистограмма двух групп')\r\n",
    "plt.show()"
   ],
   "outputs": [
    {
     "output_type": "display_data",
     "data": {
      "text/plain": [
       "<Figure size 432x288 with 1 Axes>"
      ],
      "image/png": "[encoded data removed]"
     },
     "metadata": {
      "needs_background": "light"
     }
    }
   ],
   "metadata": {}
  },
  {
   "cell_type": "markdown",
   "source": [
    "Ожидаем, что разница будет"
   ],
   "metadata": {}
  },
  {
   "cell_type": "code",
   "execution_count": 41,
   "source": [
    "stats.ttest_ind(mtcars[mtcars.vs == 0].mpg, mtcars[mtcars.vs != 0].mpg)"
   ],
   "outputs": [
    {
     "output_type": "execute_result",
     "data": {
      "text/plain": [
       "Ttest_indResult(statistic=-4.864384956122782, pvalue=3.415937254419951e-05)"
      ]
     },
     "metadata": {},
     "execution_count": 41
    }
   ],
   "metadata": {}
  },
  {
   "cell_type": "code",
   "execution_count": 42,
   "source": [
    "stats.ks_2samp(mtcars[mtcars.vs == 0].mpg, mtcars[mtcars.vs != 0].mpg)\r\n"
   ],
   "outputs": [
    {
     "output_type": "execute_result",
     "data": {
      "text/plain": [
       "KstestResult(statistic=0.7301587301587301, pvalue=0.0001328071108758211)"
      ]
     },
     "metadata": {},
     "execution_count": 42
    }
   ],
   "metadata": {}
  },
  {
   "cell_type": "code",
   "execution_count": 43,
   "source": [
    "stats.mannwhitneyu(mtcars[mtcars.vs == 0].mpg, mtcars[mtcars.vs != 0].mpg)"
   ],
   "outputs": [
    {
     "output_type": "execute_result",
     "data": {
      "text/plain": [
       "MannwhitneyuResult(statistic=22.5, pvalue=4.517235850026591e-05)"
      ]
     },
     "metadata": {},
     "execution_count": 43
    }
   ],
   "metadata": {}
  },
  {
   "cell_type": "markdown",
   "source": [
    "По всем тестам, мы можем отвергнуть гипотезу о равенстве расхода на 1% уровне значимости. Так как расход в американских милях на галлон - чем выше число, тем экономичнее машина.\r\n",
    "\r\n",
    "У машин с рядными двигателями получается, что экономичность выше."
   ],
   "metadata": {}
  },
  {
   "cell_type": "markdown",
   "source": [
    "#### для коробок передач"
   ],
   "metadata": {}
  },
  {
   "cell_type": "code",
   "execution_count": 44,
   "source": [
    "fig, ax = plt.subplots()\r\n",
    "ax.hist(mtcars[mtcars.am == 1].mpg, label='ручная коробка', alpha = 0.7)\r\n",
    "ax.hist(mtcars[mtcars.am == 0].mpg, label='автомат', alpha = 0.7)\r\n",
    "\r\n",
    "ax.legend()\r\n",
    "\r\n",
    "\r\n",
    "ax.set_xlabel('values')\r\n",
    "ax.set_ylabel('counts')\r\n",
    "ax.set_title('гистограмма двух групп')\r\n",
    "plt.show()"
   ],
   "outputs": [
    {
     "output_type": "display_data",
     "data": {
      "text/plain": [
       "<Figure size 432x288 with 1 Axes>"
      ],
      "image/png": "[encoded data removed]"
     },
     "metadata": {
      "needs_background": "light"
     }
    }
   ],
   "metadata": {}
  },
  {
   "cell_type": "code",
   "execution_count": 45,
   "source": [
    "stats.ttest_ind(mtcars[mtcars.am == 0].mpg, mtcars[mtcars.am != 0].mpg)\r\n"
   ],
   "outputs": [
    {
     "output_type": "execute_result",
     "data": {
      "text/plain": [
       "Ttest_indResult(statistic=-4.106126983100689, pvalue=0.0002850207439350686)"
      ]
     },
     "metadata": {},
     "execution_count": 45
    }
   ],
   "metadata": {}
  },
  {
   "cell_type": "code",
   "execution_count": 46,
   "source": [
    "stats.ks_2samp(mtcars[mtcars.am == 0].mpg, mtcars[mtcars.am != 0].mpg)\r\n"
   ],
   "outputs": [
    {
     "output_type": "execute_result",
     "data": {
      "text/plain": [
       "KstestResult(statistic=0.6356275303643725, pvalue=0.00194012440784197)"
      ]
     },
     "metadata": {},
     "execution_count": 46
    }
   ],
   "metadata": {}
  },
  {
   "cell_type": "code",
   "execution_count": 47,
   "source": [
    "stats.mannwhitneyu(mtcars[mtcars.am == 0].mpg, mtcars[mtcars.am != 0].mpg)\r\n"
   ],
   "outputs": [
    {
     "output_type": "execute_result",
     "data": {
      "text/plain": [
       "MannwhitneyuResult(statistic=42.0, pvalue=0.0009356956665892771)"
      ]
     },
     "metadata": {},
     "execution_count": 47
    }
   ],
   "metadata": {}
  },
  {
   "cell_type": "markdown",
   "source": [
    "# выводы\r\n",
    "* Отдельно рассматривая, мы нашли значимую разницу - машины с рядным двигателем и машины с ручной коробкой экономичнее.\r\n",
    "* Однако, принимая все переменные во внимание, видно что тип двигателя и коробки стоят на последнем  и предпоследнем месте по значимости влияния на расход топлива.\r\n",
    "* Сильнее всего влияют вес, мощность и объем двигателя, а рядные двигатели и ручные коробки передач встречались в наших данных у легких и маломощных автомобилей в среднем."
   ],
   "metadata": {}
  }
 ],
 "metadata": {
  "interpreter": {
   "hash": "102ece9fb22a5dbc66cd17e6acdf387ff87bc94873c1952b7c22cf1bcacef674"
  },
  "kernelspec": {
   "name": "python3",
   "display_name": "Python 3.8.10 64-bit ('base': conda)"
  },
  "language_info": {
   "codemirror_mode": {
    "name": "ipython",
    "version": 3
   },
   "file_extension": ".py",
   "mimetype": "text/x-python",
   "name": "python",
   "nbconvert_exporter": "python",
   "pygments_lexer": "ipython3",
   "version": "3.8.10"
  },
  "orig_nbformat": 4
 },
 "nbformat": 4,
 "nbformat_minor": 2
}