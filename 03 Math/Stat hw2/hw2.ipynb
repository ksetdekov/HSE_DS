{
 "metadata": {
  "language_info": {
   "codemirror_mode": {
    "name": "ipython",
    "version": 3
   },
   "file_extension": ".py",
   "mimetype": "text/x-python",
   "name": "python",
   "nbconvert_exporter": "python",
   "pygments_lexer": "ipython3",
   "version": "3.8.10"
  },
  "orig_nbformat": 4,
  "kernelspec": {
   "name": "python3",
   "display_name": "Python 3.8.10 64-bit ('base': conda)"
  },
  "interpreter": {
   "hash": "102ece9fb22a5dbc66cd17e6acdf387ff87bc94873c1952b7c22cf1bcacef674"
  }
 },
 "nbformat": 4,
 "nbformat_minor": 2,
 "cells": [
  {
   "source": [
    "#  Задание 4"
   ],
   "cell_type": "markdown",
   "metadata": {}
  },
  {
   "source": [
    "Для нормального распределения $X_i \\sim N(\\theta, \\sigma ^2)$, если взять сумму независимых $X_i$, то доверительный интервал для $\\theta$ будет:\n",
    "$$P_{\\theta}\\left(\\overline{x} - \\frac{c_{1-\\frac{\\alpha}{2}} \\sigma}{\\sqrt{n}} < \\theta < \\overline{x} + \\frac{c_{1-\\frac{\\alpha}{2}} \\sigma}{\\sqrt{n}} \\right) = 1 - \\alpha$$\n",
    "\n",
    "Для **параметрического бутстрэпа** - оценим $\\hat{\\theta}$ и $\\hat{\\sigma ^2}$ по выборке и построим дополнительные выборки из распределения $X_i \\sim N(\\hat{\\theta}, \\hat{\\sigma ^2})$\n",
    "\n",
    "Для **не параметрического бутстрэпа** - из исходной выборки будем делать случайный выбор с возвратом."
   ],
   "cell_type": "markdown",
   "metadata": {}
  },
  {
   "source": [
    "## сделаем пункты 1-4 на 1 выборке"
   ],
   "cell_type": "markdown",
   "metadata": {}
  },
  {
   "cell_type": "code",
   "execution_count": 9,
   "metadata": {},
   "outputs": [],
   "source": [
    "import numpy as np\n",
    "from scipy import stats # чтобы считать квантили"
   ]
  },
  {
   "cell_type": "code",
   "execution_count": 19,
   "metadata": {},
   "outputs": [],
   "source": [
    "def ci_theoretical(data, alpha=0.05):\n",
    "    \"\"\"дает кортеж из нижней и верхней границы доверительного интервала для среднего в нормальных x_i\n",
    "\n",
    "    Args:\n",
    "        data (array like): данные sample\n",
    "        alpha (float, optional): уровень значимости. Defaults to 0.05.\n",
    "    \"\"\"\n",
    "    std = np.std(data, ddof=1, dtype=np.float64)\n",
    "    n = len(data)\n",
    "    avg = np.mean(data)\n",
    "\n",
    "\n",
    "    CI_Theoretical = (avg + stats.norm.ppf(alpha/2)*std /np.sqrt(n), avg + stats.norm.ppf(1-alpha/2)*std /np.sqrt(n))\n",
    "    return CI_Theoretical\n"
   ]
  },
  {
   "cell_type": "code",
   "execution_count": 20,
   "metadata": {},
   "outputs": [
    {
     "output_type": "stream",
     "name": "stdout",
     "text": [
      "(13.551121285103044, 1.0281182470223413)\n"
     ]
    }
   ],
   "source": [
    "\n",
    "n = 50 # размер выборки \n",
    "alpha = 0.05 # параметр ошибки\n",
    "\n",
    "np.random.seed(80085)\n",
    "theta = np.random.uniform(10,20) # параметр тета\n",
    "theor_sigma = np.random.uniform(1,2) # параметр тета\n",
    "print((theta, theor_sigmasq))"
   ]
  },
  {
   "cell_type": "code",
   "execution_count": 21,
   "metadata": {},
   "outputs": [
    {
     "output_type": "execute_result",
     "data": {
      "text/plain": [
       "array([13.101581  , 12.9629306 , 14.15844439, 13.1420225 , 13.21470771,\n",
       "       12.92822876, 13.73439605, 13.62612039, 13.68009226, 12.11077405,\n",
       "       13.64413202, 13.68589658, 11.13375744, 13.96078479, 11.5580977 ,\n",
       "       14.58205901, 12.50967174, 14.29788902, 13.26076637, 13.87741364,\n",
       "       13.49368701, 14.84815911, 15.17284706, 14.50394078, 12.42229787,\n",
       "       14.07777694, 13.74842455, 14.05886051, 12.5529233 , 13.25924115,\n",
       "       12.84479367, 13.04266122, 12.92148125, 12.97844854, 12.87426001,\n",
       "       13.14309871, 12.68231808, 11.87790938, 13.13715342, 13.93000191,\n",
       "       15.00731573, 11.89047398, 15.30802172, 12.37235166, 13.16092178,\n",
       "       13.49004403, 14.48894427, 13.98446822, 14.10699862, 14.0301892 ])"
      ]
     },
     "metadata": {},
     "execution_count": 21
    }
   ],
   "source": [
    "sample1 = np.random.normal(theta,theor_sigma,size=n) \n",
    "sample1"
   ]
  },
  {
   "cell_type": "code",
   "execution_count": 22,
   "metadata": {},
   "outputs": [
    {
     "output_type": "execute_result",
     "data": {
      "text/plain": [
       "(13.158376544840669, 13.6648146417907)"
      ]
     },
     "metadata": {},
     "execution_count": 22
    }
   ],
   "source": [
    "ci_theoretical(sample1)"
   ]
  },
  {
   "source": [
    "## Сделаем это 10000 раз"
   ],
   "cell_type": "markdown",
   "metadata": {}
  },
  {
   "cell_type": "code",
   "execution_count": null,
   "metadata": {},
   "outputs": [],
   "source": []
  }
 ]
}