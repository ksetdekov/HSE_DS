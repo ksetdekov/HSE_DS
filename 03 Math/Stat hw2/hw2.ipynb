{
 "metadata": {
  "language_info": {
   "codemirror_mode": {
    "name": "ipython",
    "version": 3
   },
   "file_extension": ".py",
   "mimetype": "text/x-python",
   "name": "python",
   "nbconvert_exporter": "python",
   "pygments_lexer": "ipython3",
   "version": "3.8.5"
  },
  "orig_nbformat": 4,
  "kernelspec": {
   "name": "python3",
   "display_name": "Python 3.8.5 64-bit ('base': conda)"
  },
  "interpreter": {
   "hash": "3342f1aeb1e60678d2935ea2c75218fe4e6d4d54f7ec9431f84941666cc755b6"
  }
 },
 "nbformat": 4,
 "nbformat_minor": 2,
 "cells": [
  {
   "source": [
    "#  Задание 4"
   ],
   "cell_type": "markdown",
   "metadata": {}
  },
  {
   "source": [
    "Для нормального распределения $X_i \\sim N(\\theta, \\sigma ^2)$, если взять сумму независимых $X_i$, то доверительный интервал для $\\theta$ будет:\n",
    "$$P_{\\theta}\\left(\\overline{x} - \\frac{c_{1-\\frac{\\alpha}{2}} \\sigma}{\\sqrt{n}} < \\theta < \\overline{x} + \\frac{c_{1-\\frac{\\alpha}{2}} \\sigma}{\\sqrt{n}} \\right) = 1 - \\alpha$$\n",
    "\n",
    "Для **параметрического бутстрэпа** - оценим $\\hat{\\theta}$ и $\\hat{\\sigma ^2}$ по выборке и построим дополнительные выборки из распределения $X_i \\sim N(\\hat{\\theta}, \\hat{\\sigma ^2})$\n",
    "\n",
    "Для **не параметрического бутстрэпа** - из исходной выборки будем делать случайный выбор с возвратом."
   ],
   "cell_type": "markdown",
   "metadata": {}
  },
  {
   "source": [
    "## сделаем пункты 1-4 на 1 выборке"
   ],
   "cell_type": "markdown",
   "metadata": {}
  },
  {
   "cell_type": "code",
   "execution_count": 1,
   "metadata": {},
   "outputs": [],
   "source": [
    "import numpy as np\n",
    "from scipy import stats # чтобы считать квантили"
   ]
  },
  {
   "cell_type": "code",
   "execution_count": 2,
   "metadata": {},
   "outputs": [],
   "source": [
    "def ci_theoretical(data, alpha=0.05):\n",
    "    \"\"\"дает кортеж из нижней и верхней границы доверительного интервала для среднего в нормальных x_i\n",
    "\n",
    "    Args:\n",
    "        data (array like): данные sample\n",
    "        alpha (float, optional): уровень значимости. Defaults to 0.05.\n",
    "    \"\"\"\n",
    "    std = np.std(data, ddof=1, dtype=np.float64)\n",
    "    n = len(data)\n",
    "    avg = np.mean(data)\n",
    "\n",
    "\n",
    "    CI_Theoretical = (avg + stats.norm.ppf(alpha/2)*std /np.sqrt(n), avg + stats.norm.ppf(1-alpha/2)*std /np.sqrt(n))\n",
    "    return CI_Theoretical\n"
   ]
  },
  {
   "cell_type": "code",
   "execution_count": 3,
   "metadata": {},
   "outputs": [
    {
     "output_type": "stream",
     "name": "stdout",
     "text": [
      "(13.551121285103044, 1.0281182470223413)\n"
     ]
    }
   ],
   "source": [
    "\n",
    "n = 50 # размер выборки \n",
    "alpha = 0.05 # параметр ошибки\n",
    "\n",
    "np.random.seed(80085)\n",
    "theta = np.random.uniform(10,20) # параметр тета\n",
    "theor_sigma = np.random.uniform(1,2) # параметр тета\n",
    "print((theta, theor_sigma))"
   ]
  },
  {
   "cell_type": "code",
   "execution_count": 4,
   "metadata": {},
   "outputs": [
    {
     "output_type": "execute_result",
     "data": {
      "text/plain": [
       "array([13.101581  , 12.9629306 , 14.15844439, 13.1420225 , 13.21470771,\n",
       "       12.92822876, 13.73439605, 13.62612039, 13.68009226, 12.11077405,\n",
       "       13.64413202, 13.68589658, 11.13375744, 13.96078479, 11.5580977 ,\n",
       "       14.58205901, 12.50967174, 14.29788902, 13.26076637, 13.87741364,\n",
       "       13.49368701, 14.84815911, 15.17284706, 14.50394078, 12.42229787,\n",
       "       14.07777694, 13.74842455, 14.05886051, 12.5529233 , 13.25924115,\n",
       "       12.84479367, 13.04266122, 12.92148125, 12.97844854, 12.87426001,\n",
       "       13.14309871, 12.68231808, 11.87790938, 13.13715342, 13.93000191,\n",
       "       15.00731573, 11.89047398, 15.30802172, 12.37235166, 13.16092178,\n",
       "       13.49004403, 14.48894427, 13.98446822, 14.10699862, 14.0301892 ])"
      ]
     },
     "metadata": {},
     "execution_count": 4
    }
   ],
   "source": [
    "sample1 = np.random.normal(theta,theor_sigma,size=n) \n",
    "sample1"
   ]
  },
  {
   "source": [
    "3.1) теоретический доверительный интервал"
   ],
   "cell_type": "markdown",
   "metadata": {}
  },
  {
   "cell_type": "code",
   "execution_count": 5,
   "metadata": {},
   "outputs": [
    {
     "output_type": "execute_result",
     "data": {
      "text/plain": [
       "(13.158376544840669, 13.6648146417907)"
      ]
     },
     "metadata": {},
     "execution_count": 5
    }
   ],
   "source": [
    "ci_result_theor = ci_theoretical(sample1)\n",
    "ci_result_theor"
   ]
  },
  {
   "source": [
    "3.2) параметрический бутстрэп доверительный интервал"
   ],
   "cell_type": "markdown",
   "metadata": {}
  },
  {
   "cell_type": "code",
   "execution_count": 6,
   "metadata": {},
   "outputs": [
    {
     "output_type": "execute_result",
     "data": {
      "text/plain": [
       "(13.191500451623982, 13.844226852338117)"
      ]
     },
     "metadata": {},
     "execution_count": 6
    }
   ],
   "source": [
    "def ci_param_bootstrap(data, alpha=0.05, number_of_bootstrap_samples=10, size_of_bootstrap_samples=20 ):\n",
    "    \"\"\"параметрический бутстрэп\n",
    "\n",
    "    Args:\n",
    "        data (array like): данные для оценки среднего\n",
    "        alpha (float, optional): увроень доверия. Defaults to 0.05.\n",
    "        number_of_bootstrap_samples (int, optional): сколько сэмплов для бутстрэпа делать. Defaults to 10.\n",
    "        size_of_bootstrap_samples (int, optional): сколько наблюдений делать в каждый сэмпл. Defaults to 20.\n",
    "    \"\"\"\n",
    "    # Оцениваем неизвестный параметр theta \n",
    "    sample_mean = np.mean(data) \n",
    "    sample_std = np.std(data, ddof=1)\n",
    "    # print(sample_mean, sample_std)\n",
    "\n",
    "    # Генерируем выборку из распределения N(sample_mean, sigma)\n",
    "    bootstrap_samples = np.random.normal(sample_mean,sample_std,size=[number_of_bootstrap_samples,size_of_bootstrap_samples]) \n",
    "\n",
    "    #  Считаем среднее для каждой выборки \n",
    "    bootstrap_estimates = np.apply_along_axis(np.mean, 1, bootstrap_samples)\n",
    "\n",
    "    # Вычисляем параметрический бутстрэп доверительный интервал\n",
    "    CI_Bootstrap_Parametric = (np.quantile(bootstrap_estimates,alpha/2), np.quantile(bootstrap_estimates,1-alpha/2))\n",
    "\n",
    "    return(CI_Bootstrap_Parametric)\n",
    "    \n",
    "ci_result_parambs = ci_param_bootstrap(sample1)\n",
    "ci_result_parambs"
   ]
  },
  {
   "source": [
    "3.3)  непараметрический бутстрэп интервал"
   ],
   "cell_type": "markdown",
   "metadata": {}
  },
  {
   "cell_type": "code",
   "execution_count": 7,
   "metadata": {},
   "outputs": [
    {
     "output_type": "execute_result",
     "data": {
      "text/plain": [
       "(13.173227723425756, 13.820911172277498)"
      ]
     },
     "metadata": {},
     "execution_count": 7
    }
   ],
   "source": [
    "\n",
    "def ci_non_param_bootstrap(data, alpha=0.05, number_of_bootstrap_samples=10, size_of_bootstrap_samples=20 ):\n",
    "    \"\"\"непараметрический бутстрэп\n",
    "\n",
    "    Args:\n",
    "        data (array like): данные для оценки среднего\n",
    "        alpha (float, optional): увроень доверия. Defaults to 0.05.\n",
    "        number_of_bootstrap_samples (int, optional): сколько сэмплов для бутстрэпа делать. Defaults to 10.\n",
    "        size_of_bootstrap_samples (int, optional): сколько наблюдений делать в каждый сэмпл. Defaults to 20.\n",
    "    \"\"\"\n",
    "\n",
    "    # Генерируем выборку из исходного распределения\n",
    "    bootstrap_samples = np.random.choice(data,size=[number_of_bootstrap_samples,size_of_bootstrap_samples]) \n",
    "\n",
    "    #  Считаем среднее для каждой выборки \n",
    "    bootstrap_estimates = np.apply_along_axis(np.mean, 1, bootstrap_samples)\n",
    "\n",
    "    # Вычисляем параметрический бутстрэп доверительный интервал\n",
    "    CI_Bootstrap_Parametric = (np.quantile(bootstrap_estimates,alpha/2), np.quantile(bootstrap_estimates,1-alpha/2))\n",
    "\n",
    "    return(CI_Bootstrap_Parametric)\n",
    "\n",
    "ci_result_non_parambs = ci_non_param_bootstrap(sample1)\n",
    "ci_result_non_parambs"
   ]
  },
  {
   "source": [
    "## сравним их длины"
   ],
   "cell_type": "markdown",
   "metadata": {}
  },
  {
   "cell_type": "code",
   "execution_count": 8,
   "metadata": {},
   "outputs": [
    {
     "output_type": "stream",
     "name": "stdout",
     "text": [
      "Длина интервала для теоретического доверительного интервала 0.5064\nДлина интервала для параметрического бутстрэпа 0.6527\nДлина интервала для непараметрического бутстрэпа 0.6477\n"
     ]
    }
   ],
   "source": [
    "print(f'Длина интервала для теоретического доверительного интервала {ci_result_theor[1] - ci_result_theor[0]:.4f}')\n",
    "print(f'Длина интервала для параметрического бутстрэпа {ci_result_parambs[1] - ci_result_parambs[0]:.4f}')\n",
    "print(f'Длина интервала для непараметрического бутстрэпа {ci_result_non_parambs[1] - ci_result_non_parambs[0]:.4f}')"
   ]
  },
  {
   "source": [
    "Для этого случайного зерна и параметров, мы получили то, что длина теоретического доверительного интервала самай коротка, потом идет непараметрический бутстрэп, потом параметрический бутстрэп (самый широкий интервал)"
   ],
   "cell_type": "markdown",
   "metadata": {}
  },
  {
   "source": [
    "## Сделаем это 10000 раз"
   ],
   "cell_type": "markdown",
   "metadata": {}
  },
  {
   "cell_type": "code",
   "execution_count": 9,
   "metadata": {},
   "outputs": [],
   "source": [
    "import pandas as pd \n",
    "from tqdm.notebook import trange"
   ]
  },
  {
   "cell_type": "code",
   "execution_count": 10,
   "metadata": {
    "tags": []
   },
   "outputs": [
    {
     "output_type": "display_data",
     "data": {
      "text/plain": "calc CI:   0%|          | 0/10000 [00:00<?, ?it/s]",
      "application/vnd.jupyter.widget-view+json": {
       "version_major": 2,
       "version_minor": 0,
       "model_id": "0f57a0100790478086eb47e930aa1211"
      }
     },
     "metadata": {}
    }
   ],
   "source": [
    "iterations = 10000\n",
    "\n",
    "theoretical = np.zeros([iterations,2]) # здесь будем хранить результаты для теоретического доверительного интервала\n",
    "parametric_bootstrap = np.zeros([iterations,2]) # здесь будем хранить результаты для параметрического бутстрэпа \n",
    "nonparametric_bootstrap = np.zeros([iterations,2]) # здесь будем хранить результаты для непараметрического бутстрэпа \n",
    "\n",
    "for i in trange(iterations, desc='calc CI'):\n",
    "    sample4 = np.random.normal(theta,theor_sigma,size=n) \n",
    "\n",
    "    CI_Theoretical = ci_theoretical(sample4,alpha)\n",
    "    theoretical[i,0] = (theta >= CI_Theoretical[0]) and (theta <= CI_Theoretical[1])\n",
    "    theoretical[i,1] = CI_Theoretical[1] - CI_Theoretical[0]\n",
    "\n",
    "    CI_param = ci_param_bootstrap(sample4,alpha)\n",
    "    parametric_bootstrap[i,0] = (theta >= CI_param[0]) and (theta <= CI_param[1])\n",
    "    parametric_bootstrap[i,1] = CI_param[1] - CI_param[0]\n",
    "\n",
    "    CI_nonparam = ci_non_param_bootstrap(sample4,alpha)\n",
    "    nonparametric_bootstrap[i,0] = (theta >= CI_nonparam[0]) and (theta <= CI_nonparam[1])\n",
    "    nonparametric_bootstrap[i,1] = CI_nonparam[1] - CI_nonparam[0]\n",
    "\n",
    "\n",
    "\n"
   ]
  },
  {
   "cell_type": "code",
   "execution_count": 11,
   "metadata": {},
   "outputs": [
    {
     "output_type": "execute_result",
     "data": {
      "text/plain": [
       "             доля попадений в CI  длина CI средняя\n",
       "theoretical               0.9455          0.566495\n",
       "param                     0.9159          0.645839\n",
       "non_param                 0.9151          0.638082"
      ],
      "text/html": "<div>\n<style scoped>\n    .dataframe tbody tr th:only-of-type {\n        vertical-align: middle;\n    }\n\n    .dataframe tbody tr th {\n        vertical-align: top;\n    }\n\n    .dataframe thead th {\n        text-align: right;\n    }\n</style>\n<table border=\"1\" class=\"dataframe\">\n  <thead>\n    <tr style=\"text-align: right;\">\n      <th></th>\n      <th>доля попадений в CI</th>\n      <th>длина CI средняя</th>\n    </tr>\n  </thead>\n  <tbody>\n    <tr>\n      <th>theoretical</th>\n      <td>0.9455</td>\n      <td>0.566495</td>\n    </tr>\n    <tr>\n      <th>param</th>\n      <td>0.9159</td>\n      <td>0.645839</td>\n    </tr>\n    <tr>\n      <th>non_param</th>\n      <td>0.9151</td>\n      <td>0.638082</td>\n    </tr>\n  </tbody>\n</table>\n</div>"
     },
     "metadata": {},
     "execution_count": 11
    }
   ],
   "source": [
    "prop_correct = {}\n",
    "average_length = {}\n",
    "\n",
    "prop_correct['theoretical'], average_length['theoretical'] = np.mean(theoretical, axis=0)\n",
    "prop_correct['param'], average_length['param'] = np.mean(parametric_bootstrap, axis=0)\n",
    "prop_correct['non_param'], average_length['non_param'] = np.mean(nonparametric_bootstrap, axis=0)\n",
    "\n",
    "\n",
    "df = pd.DataFrame.from_records([prop_correct, average_length], index = ['доля попадений в CI', 'длина CI средняя']).T\n",
    "df"
   ]
  },
  {
   "source": [
    "Ситуация не поменялась содержательно: параметрический самый широкий интервал, теоретический самый узкий. При этом вероятность попадания в доверительный интервал, ближе всего к $1-\\alpha$ для теоретического интервала, и дальше всего от ожидаемого значения в 0,95 для непараметрического интервала."
   ],
   "cell_type": "markdown",
   "metadata": {}
  },
  {
   "cell_type": "code",
   "execution_count": null,
   "metadata": {},
   "outputs": [],
   "source": []
  }
 ]
}