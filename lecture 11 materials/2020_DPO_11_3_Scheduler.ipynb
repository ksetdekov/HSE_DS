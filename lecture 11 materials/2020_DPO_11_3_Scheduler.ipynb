{
 "cells": [
  {
   "cell_type": "markdown",
   "metadata": {},
   "source": [
    "# Python для анализа данных\n",
    "\n",
    "## Постановка скриптов на расписание\n",
    "\n",
    "*Автор: Ян Пиле, НИУ ВШЭ*"
   ]
  },
  {
   "cell_type": "markdown",
   "metadata": {},
   "source": [
    "Думаю, многим из вас хотелось бы автоматизировать какие-то рутинные процессы в быту или на работе, например, сборку одинакового вида отчетов, подгрузку актуальных данных о курсе валют в вашу базу данных или сводку курсов акций на сегодня. Для этого вам необходимо написать код, который решает задачу, а потом заставить его выполняться с некоторой периодичностью. В Python для этого существует механизм \"постановки скриптов на расписание\" – в прямом смысле слова, по часам."
   ]
  },
  {
   "cell_type": "markdown",
   "metadata": {},
   "source": [
    "В Unix-подобных системах такую штуку решают с помощью [CRON](https://ru.wikipedia.org/wiki/Cron), а в Python, как всегда, придумали человеческий интерфейс :) Представляю вм библиотеку schedule. Поехали!"
   ]
  },
  {
   "cell_type": "code",
   "execution_count": 2,
   "metadata": {},
   "outputs": [
    {
     "name": "stdout",
     "output_type": "stream",
     "text": [
      "Collecting schedule\n",
      "  Downloading schedule-0.6.0-py2.py3-none-any.whl (8.7 kB)\n",
      "Installing collected packages: schedule\n",
      "Successfully installed schedule-0.6.0\n"
     ]
    }
   ],
   "source": [
    "!pip install schedule"
   ]
  },
  {
   "cell_type": "code",
   "execution_count": 75,
   "metadata": {},
   "outputs": [
    {
     "data": {
      "text/plain": [
       "Every 2 seconds do greet(name='Alice') (last run: [never], next run: 2020-10-07 09:39:46)"
      ]
     },
     "execution_count": 75,
     "metadata": {},
     "output_type": "execute_result"
    }
   ],
   "source": [
    "import schedule \n",
    "import time\n",
    "\n",
    "def greet(name):\n",
    "    print('Hello', name)\n",
    "\n",
    "schedule.every(2).seconds.do(greet, name='Alice').tag('my_shiny_job')"
   ]
  },
  {
   "cell_type": "markdown",
   "metadata": {},
   "source": [
    "Чтобы завести какой-то процесс, надо запустить его в цикле такого вида:"
   ]
  },
  {
   "cell_type": "code",
   "execution_count": 52,
   "metadata": {},
   "outputs": [
    {
     "name": "stdout",
     "output_type": "stream",
     "text": [
      "Hello Alice\n",
      "Hello Alice\n"
     ]
    },
    {
     "ename": "KeyboardInterrupt",
     "evalue": "",
     "output_type": "error",
     "traceback": [
      "\u001b[0;31m---------------------------------------------------------------------------\u001b[0m",
      "\u001b[0;31mKeyboardInterrupt\u001b[0m                         Traceback (most recent call last)",
      "\u001b[0;32m<ipython-input-52-5b04ad39893f>\u001b[0m in \u001b[0;36m<module>\u001b[0;34m\u001b[0m\n\u001b[1;32m      1\u001b[0m \u001b[0;32mwhile\u001b[0m \u001b[0;32mTrue\u001b[0m\u001b[0;34m:\u001b[0m\u001b[0;34m\u001b[0m\u001b[0;34m\u001b[0m\u001b[0m\n\u001b[1;32m      2\u001b[0m     \u001b[0mschedule\u001b[0m\u001b[0;34m.\u001b[0m\u001b[0mrun_pending\u001b[0m\u001b[0;34m(\u001b[0m\u001b[0;34m)\u001b[0m\u001b[0;34m\u001b[0m\u001b[0;34m\u001b[0m\u001b[0m\n\u001b[0;32m----> 3\u001b[0;31m     \u001b[0mtime\u001b[0m\u001b[0;34m.\u001b[0m\u001b[0msleep\u001b[0m\u001b[0;34m(\u001b[0m\u001b[0;36m1\u001b[0m\u001b[0;34m)\u001b[0m\u001b[0;34m\u001b[0m\u001b[0;34m\u001b[0m\u001b[0m\n\u001b[0m\u001b[1;32m      4\u001b[0m \u001b[0;34m\u001b[0m\u001b[0m\n",
      "\u001b[0;31mKeyboardInterrupt\u001b[0m: "
     ]
    }
   ],
   "source": [
    "while True:\n",
    "    schedule.run_pending()\n",
    "    time.sleep(1)\n",
    "    "
   ]
  },
  {
   "cell_type": "markdown",
   "metadata": {},
   "source": [
    "Как посмотреть список job'ов?"
   ]
  },
  {
   "cell_type": "code",
   "execution_count": 76,
   "metadata": {},
   "outputs": [
    {
     "data": {
      "text/plain": [
       "[Every 2 seconds do greet(name='Alice') (last run: [never], next run: 2020-10-07 09:39:46)]"
      ]
     },
     "execution_count": 76,
     "metadata": {},
     "output_type": "execute_result"
    }
   ],
   "source": [
    "schedule.jobs"
   ]
  },
  {
   "cell_type": "markdown",
   "metadata": {},
   "source": [
    "Как прекратить job?"
   ]
  },
  {
   "cell_type": "code",
   "execution_count": 78,
   "metadata": {},
   "outputs": [
    {
     "data": {
      "text/plain": [
       "[]"
      ]
     },
     "execution_count": 78,
     "metadata": {},
     "output_type": "execute_result"
    }
   ],
   "source": [
    "schedule.clear('my_shiny_job')\n",
    "schedule.jobs"
   ]
  },
  {
   "cell_type": "markdown",
   "metadata": {},
   "source": [
    "Варианты постановок на расписание могут быть всякие:"
   ]
  },
  {
   "cell_type": "code",
   "execution_count": 30,
   "metadata": {},
   "outputs": [],
   "source": [
    "def job():\n",
    "    print(\"Работаю\")"
   ]
  },
  {
   "cell_type": "code",
   "execution_count": 13,
   "metadata": {},
   "outputs": [
    {
     "data": {
      "text/plain": [
       "Every 1 minute at 00:00:17 do job() (last run: [never], next run: 2020-10-06 23:15:17)"
      ]
     },
     "execution_count": 13,
     "metadata": {},
     "output_type": "execute_result"
    }
   ],
   "source": [
    "schedule.every(10).minutes.do(job)\n",
    "schedule.every().hour.do(job)\n",
    "schedule.every().day.at(\"10:30\").do(job)\n",
    "\n",
    "# Отдельно стоит упомянуть вот это – это запуск со случайным интервалом от 5 до 10 минут.\n",
    "schedule.every(5).to(10).minutes.do(job)\n",
    "\n",
    "\n",
    "schedule.every().monday.do(job)\n",
    "schedule.every().wednesday.at(\"13:15\").do(job)\n",
    "schedule.every().minute.at(\":17\").do(job)"
   ]
  },
  {
   "cell_type": "markdown",
   "metadata": {},
   "source": [
    "**ВАЖНО:** Библиотека сама не умеет обрабатывать исключения в задачах, поэтому, возможно, понадобится  декоратор, который будет отменять работу, если произошло исключение."
   ]
  },
  {
   "cell_type": "code",
   "execution_count": 27,
   "metadata": {},
   "outputs": [
    {
     "data": {
      "text/plain": [
       "Every 5 seconds do bad_task() (last run: [never], next run: 2020-10-06 23:21:54)"
      ]
     },
     "execution_count": 27,
     "metadata": {},
     "output_type": "execute_result"
    }
   ],
   "source": [
    "import functools\n",
    "\n",
    "# декоратор для отлова исключений\n",
    "def catch_exceptions(cancel_on_failure=False):\n",
    "    \n",
    "    def catch_exceptions_decorator(job_func):\n",
    "        @functools.wraps(job_func)\n",
    "        def wrapper(*args, **kwargs):\n",
    "            try:\n",
    "                return job_func(*args, **kwargs)\n",
    "            except:\n",
    "                import traceback\n",
    "                print(traceback.format_exc())\n",
    "                if cancel_on_failure:\n",
    "                    return schedule.CancelJob\n",
    "        return wrapper\n",
    "    \n",
    "    return catch_exceptions_decorator\n",
    "\n",
    "\n",
    "@catch_exceptions(cancel_on_failure=True)\n",
    "def bad_task():\n",
    "    # даст исключение, но декоратор отменяет эту задачу\n",
    "    return 1 / 0  \n",
    "\n",
    "schedule.every(5).seconds.do(bad_task)"
   ]
  },
  {
   "cell_type": "markdown",
   "metadata": {},
   "source": [
    "Как почистить список job'ов?"
   ]
  },
  {
   "cell_type": "code",
   "execution_count": 74,
   "metadata": {},
   "outputs": [],
   "source": [
    "schedule.clear()"
   ]
  },
  {
   "cell_type": "code",
   "execution_count": 28,
   "metadata": {},
   "outputs": [
    {
     "name": "stdout",
     "output_type": "stream",
     "text": [
      "Traceback (most recent call last):\n",
      "  File \"<ipython-input-27-062bcafb0c44>\", line 10, in wrapper\n",
      "    return job_func(*args, **kwargs)\n",
      "  File \"<ipython-input-27-062bcafb0c44>\", line 24, in bad_task\n",
      "    return 1 / 0\n",
      "ZeroDivisionError: division by zero\n",
      "\n"
     ]
    },
    {
     "ename": "KeyboardInterrupt",
     "evalue": "",
     "output_type": "error",
     "traceback": [
      "\u001b[0;31m---------------------------------------------------------------------------\u001b[0m",
      "\u001b[0;31mKeyboardInterrupt\u001b[0m                         Traceback (most recent call last)",
      "\u001b[0;32m<ipython-input-28-2d78333a8181>\u001b[0m in \u001b[0;36m<module>\u001b[0;34m\u001b[0m\n\u001b[1;32m      1\u001b[0m \u001b[0;32mwhile\u001b[0m \u001b[0;32mTrue\u001b[0m\u001b[0;34m:\u001b[0m\u001b[0;34m\u001b[0m\u001b[0;34m\u001b[0m\u001b[0m\n\u001b[1;32m      2\u001b[0m     \u001b[0mschedule\u001b[0m\u001b[0;34m.\u001b[0m\u001b[0mrun_pending\u001b[0m\u001b[0;34m(\u001b[0m\u001b[0;34m)\u001b[0m\u001b[0;34m\u001b[0m\u001b[0;34m\u001b[0m\u001b[0m\n\u001b[0;32m----> 3\u001b[0;31m     \u001b[0mtime\u001b[0m\u001b[0;34m.\u001b[0m\u001b[0msleep\u001b[0m\u001b[0;34m(\u001b[0m\u001b[0;36m1\u001b[0m\u001b[0;34m)\u001b[0m\u001b[0;34m\u001b[0m\u001b[0;34m\u001b[0m\u001b[0m\n\u001b[0m",
      "\u001b[0;31mKeyboardInterrupt\u001b[0m: "
     ]
    }
   ],
   "source": [
    "while True:\n",
    "    schedule.run_pending()\n",
    "    time.sleep(1)"
   ]
  },
  {
   "cell_type": "markdown",
   "metadata": {},
   "source": [
    "Если нужно отменить группу заданий, то к ним добавляют тэги:"
   ]
  },
  {
   "cell_type": "code",
   "execution_count": 31,
   "metadata": {},
   "outputs": [],
   "source": [
    "schedule.every().day.do(greet, 'Monica').tag('daily-tasks')\n",
    "schedule.every().day.do(greet, 'Derek').tag('daily-tasks')\n",
    "schedule.clear('daily-tasks')  # массовая отмена по тэгу"
   ]
  },
  {
   "cell_type": "markdown",
   "metadata": {},
   "source": [
    "А вот и [документация](https://schedule.readthedocs.io/en/stable/faq.html#how-to-run-a-job-at-random-intervals) по scheduler'у "
   ]
  },
  {
   "cell_type": "markdown",
   "metadata": {},
   "source": [
    "Это не единственный способ постановки чего бы то ни было на расписание. Например мне в работе приходилось использовать библиотеку [python-crontab](https://stackabuse.com/scheduling-jobs-with-python-crontab/). \n",
    "\n",
    "А если вы любите Windows, вы можете использовать [нативный постановщик на расписание](https://www.jcchouinard.com/python-automation-using-task-scheduler/) в формате:\n",
    "    1) Написать скрипт в отдельный файл с форматом .py\n",
    "    2) Найти этот скрипт в интерфейсе Task Scheduler'a\n",
    "    3) Поставить на расписание.\n",
    "    \n",
    "Я так не делал никогда, так что вы можете стать первопроходцами :)"
   ]
  },
  {
   "cell_type": "markdown",
   "metadata": {},
   "source": [
    "Ну и в конце СУПЕРполезная ссылка. Во многих корпорациях в качестве планировщика задач используют Apache Airflow. И так случилось, что это Open-source ПО и вы можете взять и установить его себе. Так что рекомендую [попробовать](https://airflow.apache.org)"
   ]
  },
  {
   "cell_type": "code",
   "execution_count": null,
   "metadata": {},
   "outputs": [],
   "source": []
  }
 ],
 "metadata": {
  "kernelspec": {
   "display_name": "Python 3",
   "language": "python",
   "name": "python3"
  },
  "language_info": {
   "codemirror_mode": {
    "name": "ipython",
    "version": 3
   },
   "file_extension": ".py",
   "mimetype": "text/x-python",
   "name": "python",
   "nbconvert_exporter": "python",
   "pygments_lexer": "ipython3",
   "version": "3.8.3"
  }
 },
 "nbformat": 4,
 "nbformat_minor": 4
}
