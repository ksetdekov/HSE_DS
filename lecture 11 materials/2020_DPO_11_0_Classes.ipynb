{
  "nbformat": 4,
  "nbformat_minor": 0,
  "metadata": {
    "kernelspec": {
      "display_name": "Python 3",
      "language": "python",
      "name": "python3"
    },
    "language_info": {
      "codemirror_mode": {
        "name": "ipython",
        "version": 3
      },
      "file_extension": ".py",
      "mimetype": "text/x-python",
      "name": "python",
      "nbconvert_exporter": "python",
      "pygments_lexer": "ipython3",
      "version": "3.8.5"
    },
    "colab": {
      "name": "2020_DPO_11_0_Classes.ipynb",
      "provenance": []
    }
  },
  "cells": [
    {
      "cell_type": "markdown",
      "metadata": {
        "id": "O6HbFpKLKCN2"
      },
      "source": [
        "Центр непрерывного образования\n",
        "\n",
        "# Программа «Python для автоматизации и анализа данных»\n",
        "\n",
        "# Введение в классы в Python\n",
        "\n",
        "*Татьяна Рогович, НИУ ВШЭ*\n"
      ]
    },
    {
      "cell_type": "markdown",
      "metadata": {
        "id": "is-wVX6SKCN-"
      },
      "source": [
        "## Объектно-Ориентированное Программирование (ООП)\n",
        "\n",
        "Объектно-ориентированное программирование (ООП) является методологией разработки программного обеспечения, в основе которой лежит понятие класса и объекта, при этом сама программа создается как некоторая совокупность объектов, которые взаимодействую друг с другом и с внешним миром. Каждый объект является экземпляром некоторого класса. Классы образуют иерархии. Классы, как и функции, создаются и используются для удобства и упрощения разработки программ. Более подробно о понятии ООП можно прочитать на [википедии](https://ru.wikipedia.org/wiki/%D0%9E%D0%B1%D1%8A%D0%B5%D0%BA%D1%82%D0%BD%D0%BE-%D0%BE%D1%80%D0%B8%D0%B5%D0%BD%D1%82%D0%B8%D1%80%D0%BE%D0%B2%D0%B0%D0%BD%D0%BD%D0%BE%D0%B5_%D0%BF%D1%80%D0%BE%D0%B3%D1%80%D0%B0%D0%BC%D0%BC%D0%B8%D1%80%D0%BE%D0%B2%D0%B0%D0%BD%D0%B8%D0%B5).\n",
        "\n",
        "Выделяют три основных “столпа” ООП - это инкапсуляция, наследование и полиморфизм.\n",
        "\n",
        "### Инкапсуляция\n",
        "\n",
        "Под инкапсуляцией понимается сокрытие деталей реализации, данных и т.п. от внешней стороны. Например, можно определить класс `холодильник`, который будет содержать следующие данные: `производитель`, `объем`, `количество камер хранения`, `потребляемая мощность` и т.п., и методы: `открыть/закрыть холодильник`, `включить/выключить`, но при этом реализация того, как происходит непосредственно включение и выключение пользователю вашего класса не доступна, что позволяет ее менять без опасения, что это может отразиться на использующей класс «холодильник» программе. При этом класс становится новым типом данных в рамках разрабатываемой программы. Можно создавать переменные этого нового типа, такие переменные называются объекты.\n",
        "\n",
        "### Наследование\n",
        "\n",
        "Под наследованием понимается возможность создания нового класса на базе существующего. При этом класс потомок будет содержать те же атрибуты и методы, что и базовый класс, но при этом его можно (и нужно) расширять через добавление новых методов и атрибутов.\n",
        "\n",
        "Примером базового класса, демонстрирующего наследование, можно определить класс `автомобиль`, имеющий атрибуты: масса, мощность двигателя, объем топливного бака и методы: завести и заглушить. У такого класса может быть потомок – `грузовой автомобиль`, он будет содержать те же атрибуты и методы, что и класс `автомобиль`, и дополнительные свойства: количество осей, мощность компрессора и т.п..\n",
        "\n",
        "### Полиморфизм\n",
        "\n",
        "Полиморфизм позволяет одинаково обращаться с объектами, имеющими однотипный интерфейс, независимо от внутренней реализации объекта. Например, с объектом класса `грузовой автомобиль` можно производить те же операции, что и с объектом класса `автомобиль`, т.к. первый является наследником второго, при этом обратное утверждение неверно (во всяком случае не всегда). Другими словами полиморфизм предполагает разную реализацию методов с одинаковыми именами. Это очень полезно при наследовании, когда в классе наследнике можно переопределить методы класса родителя. Простым примером полиморфизма может служить функция `count()`, выполняющая одинаковое действие для различных типов обьектов: `'abc'.count('a')` и `[1, 2, 'a'].count('a')`. Оператор плюс полиморфичен при сложении чисел и при сложении строк."
      ]
    },
    {
      "cell_type": "markdown",
      "metadata": {
        "id": "jjQ2qKmQKCOC"
      },
      "source": [
        "## Создание классов в Python\n",
        "\n",
        "Создание класса в Python начинается с инструкции `class`. Вот так будет выглядеть минимальный класс:"
      ]
    },
    {
      "cell_type": "code",
      "metadata": {
        "id": "hwQXc3guKCOK"
      },
      "source": [
        "class Car:\n",
        "   \"\"\"Необязательная строка документации класса\"\"\"  \n",
        "   pass"
      ],
      "execution_count": 1,
      "outputs": []
    },
    {
      "cell_type": "markdown",
      "metadata": {
        "id": "ogtWkdDcKCOe"
      },
      "source": [
        "Класс состоит из объявления (инструкция `class`), имени класса (нашем случае это имя `Car`) и тела класса, которое содержит атрибуты и методы (в нашем минимальном классе есть только одна инструкция `pass`). Также хорошим тоном считается описывать что делает этот класс и его методы, сразу после его объявления.\n",
        "\n",
        "Несмотря на пустое тело класса `Car`, на его основе уже можно создать определенный объект, обладающий уникальным идентификатором. Для того чтобы создать объект класса необходимо воспользоваться следующим синтаксисом:"
      ]
    },
    {
      "cell_type": "code",
      "metadata": {
        "id": "-l1qBAEKKCOh"
      },
      "source": [
        "audi = Car()"
      ],
      "execution_count": 2,
      "outputs": []
    },
    {
      "cell_type": "code",
      "metadata": {
        "id": "n953gayFKCOx",
        "outputId": "14614064-1f75-4b9c-d8b9-aa0f27088b01",
        "colab": {
          "base_uri": "https://localhost:8080/"
        }
      },
      "source": [
        "print(type(audi))\n",
        "print(audi)\n",
        "audi"
      ],
      "execution_count": 3,
      "outputs": [
        {
          "output_type": "stream",
          "text": [
            "<class '__main__.Car'>\n",
            "<__main__.Car object at 0x7f9875d47860>\n"
          ],
          "name": "stdout"
        },
        {
          "output_type": "execute_result",
          "data": {
            "text/plain": [
              "<__main__.Car at 0x7f9875d47860>"
            ]
          },
          "metadata": {
            "tags": []
          },
          "execution_count": 3
        }
      ]
    },
    {
      "cell_type": "markdown",
      "metadata": {
        "id": "BCUA-6umKCPI"
      },
      "source": [
        "Определив новый класс, можно создавать сколько угодно объектов на его основе. Как уже было сказано выше, такая структура данных может включать в себя некие свойства, то есть переменные, которыми будет наделен каждый экземпляр класса.\n",
        "\n",
        "### Статические и динамические атрибуты класса\n",
        "\n",
        "Как уже было сказано выше, класс может содержать `атрибуты` и `методы`. `Атрибут` может быть статическим и динамическим. Суть в том, что для работы со статическим атрибутом, вам не нужно создавать экземпляр класса, а для работы с динамическим – нужно. Например, создадим такой класс `Car`:"
      ]
    },
    {
      "cell_type": "code",
      "metadata": {
        "id": "gpEahGxZKCPL"
      },
      "source": [
        "class Car:\n",
        "    default_color = \"green\"  ## динамический аттрубут\n",
        "    \n",
        "    def __init__(self, color, brand, doors_num):\n",
        "        if color == None:\n",
        "            self.color = self.default_color\n",
        "        else:\n",
        "            self.color = color\n",
        "            \n",
        "        self.brand = brand\n",
        "        self.doors_num = doors_num"
      ],
      "execution_count": 4,
      "outputs": []
    },
    {
      "cell_type": "markdown",
      "metadata": {
        "id": "B_SNP9z5KCPY"
      },
      "source": [
        "В представленном выше классе, атрибут default_color – это статический атрибут, и доступ к нему, как было сказано выше, можно получить не создавая объект класса Car"
      ]
    },
    {
      "cell_type": "code",
      "metadata": {
        "id": "WPWEu1SCKCPa",
        "outputId": "9dd033c7-d7b4-4f49-ee95-2f1dd401748c",
        "colab": {
          "base_uri": "https://localhost:8080/",
          "height": 35
        }
      },
      "source": [
        "Car.default_color"
      ],
      "execution_count": 5,
      "outputs": [
        {
          "output_type": "execute_result",
          "data": {
            "application/vnd.google.colaboratory.intrinsic+json": {
              "type": "string"
            },
            "text/plain": [
              "'green'"
            ]
          },
          "metadata": {
            "tags": []
          },
          "execution_count": 5
        }
      ]
    },
    {
      "cell_type": "markdown",
      "metadata": {
        "id": "8krZMWx0KCPl"
      },
      "source": [
        "`color`, `brand` и `doors_num` – это динамические атрибуты, при их создании было использовано ключевое слово `self`. Про `self` и конструктор `def __init__` будет рассказано далее. Также обратите внимание на то, что внутри класса мы используем статический атрибут `default_color` для присвоения цвета машины, если мы его явно не задали.\n",
        "\n",
        "`if color == None:\n",
        "    self.color = default_color\n",
        " else:\n",
        "    self.color = color`\n",
        "            \n",
        "Для доступа к `color`, `brand` и `doors_num` предварительно нужно создать объект класса Car:"
      ]
    },
    {
      "cell_type": "code",
      "metadata": {
        "id": "tyZGLIGIKCPn",
        "outputId": "2b3a0412-ea8f-41f5-e317-da327cedda9a",
        "colab": {
          "base_uri": "https://localhost:8080/"
        }
      },
      "source": [
        "bmw = Car(None,\"BMW\", 2)\n",
        "print(bmw.brand)\n",
        "print(bmw.color)\n",
        "print(bmw.doors_num)\n",
        "\n",
        "newcar = Car('red',\"newcar\", 2)\n",
        "print(newcar.brand)\n",
        "print(newcar.color)\n",
        "print(newcar.doors_num)"
      ],
      "execution_count": 6,
      "outputs": [
        {
          "output_type": "stream",
          "text": [
            "BMW\n",
            "green\n",
            "2\n",
            "newcar\n",
            "red\n",
            "2\n"
          ],
          "name": "stdout"
        }
      ]
    },
    {
      "cell_type": "code",
      "metadata": {
        "id": "1haYfhMDKCP2",
        "outputId": "ec6ba7cd-8a39-48f0-e71d-9c3e41645523",
        "colab": {
          "base_uri": "https://localhost:8080/",
          "height": 35
        }
      },
      "source": [
        "newcar.default_color"
      ],
      "execution_count": 7,
      "outputs": [
        {
          "output_type": "execute_result",
          "data": {
            "application/vnd.google.colaboratory.intrinsic+json": {
              "type": "string"
            },
            "text/plain": [
              "'green'"
            ]
          },
          "metadata": {
            "tags": []
          },
          "execution_count": 7
        }
      ]
    },
    {
      "cell_type": "code",
      "metadata": {
        "id": "N7mx4zZDKCQA"
      },
      "source": [
        ""
      ],
      "execution_count": 7,
      "outputs": []
    },
    {
      "cell_type": "markdown",
      "metadata": {
        "id": "V0eGN03vKCQL"
      },
      "source": [
        "Мы создали объект класса, не задав ему конкретный цвет, поэтому был использован стандартный.\n",
        "\n",
        "Если обратиться через класс, то получим ошибку:"
      ]
    },
    {
      "cell_type": "code",
      "metadata": {
        "id": "7vs9DSkjKCQN",
        "outputId": "78fa7b55-7308-4ba6-f4bf-a75f7ca67d22",
        "colab": {
          "base_uri": "https://localhost:8080/",
          "height": 171
        }
      },
      "source": [
        "Car.brand"
      ],
      "execution_count": 8,
      "outputs": [
        {
          "output_type": "error",
          "ename": "AttributeError",
          "evalue": "ignored",
          "traceback": [
            "\u001b[0;31m---------------------------------------------------------------------------\u001b[0m",
            "\u001b[0;31mAttributeError\u001b[0m                            Traceback (most recent call last)",
            "\u001b[0;32m<ipython-input-8-8f98c7c91512>\u001b[0m in \u001b[0;36m<module>\u001b[0;34m()\u001b[0m\n\u001b[0;32m----> 1\u001b[0;31m \u001b[0mCar\u001b[0m\u001b[0;34m.\u001b[0m\u001b[0mbrand\u001b[0m\u001b[0;34m\u001b[0m\u001b[0;34m\u001b[0m\u001b[0m\n\u001b[0m",
            "\u001b[0;31mAttributeError\u001b[0m: type object 'Car' has no attribute 'brand'"
          ]
        }
      ]
    },
    {
      "cell_type": "markdown",
      "metadata": {
        "id": "twUDeRzjKCQX"
      },
      "source": [
        "Иными словами статический атрибут - это стандартный атрибут класса, который общий для всех объектов этого класса. Давайте присвоим новое значение цвету."
      ]
    },
    {
      "cell_type": "code",
      "metadata": {
        "id": "v5JgKs6MKCQZ"
      },
      "source": [
        "Car.default_color = \"red\""
      ],
      "execution_count": 9,
      "outputs": []
    },
    {
      "cell_type": "code",
      "metadata": {
        "id": "KYDeuc5JKCQk",
        "outputId": "66ef75f1-65b0-4487-d024-c83cf5e35366",
        "colab": {
          "base_uri": "https://localhost:8080/",
          "height": 35
        }
      },
      "source": [
        "Car.default_color"
      ],
      "execution_count": 10,
      "outputs": [
        {
          "output_type": "execute_result",
          "data": {
            "application/vnd.google.colaboratory.intrinsic+json": {
              "type": "string"
            },
            "text/plain": [
              "'red'"
            ]
          },
          "metadata": {
            "tags": []
          },
          "execution_count": 10
        }
      ]
    },
    {
      "cell_type": "markdown",
      "metadata": {
        "id": "AyWlOvhqKCQw"
      },
      "source": [
        "Создадим два объекта класса `Car` и проверим, что `default_color` у них совпадает:"
      ]
    },
    {
      "cell_type": "code",
      "metadata": {
        "id": "eM1IklcsKCQy"
      },
      "source": [
        "bmw = Car(None,\"BMW\",2)\n",
        "audi = Car(None,\"AUDI\", 4)"
      ],
      "execution_count": 11,
      "outputs": []
    },
    {
      "cell_type": "code",
      "metadata": {
        "id": "reoTSUVlKCRA",
        "outputId": "5a9567dd-7355-42d0-b40a-5319b39ecfaf",
        "colab": {
          "base_uri": "https://localhost:8080/",
          "height": 35
        }
      },
      "source": [
        "bmw.default_color"
      ],
      "execution_count": 12,
      "outputs": [
        {
          "output_type": "execute_result",
          "data": {
            "application/vnd.google.colaboratory.intrinsic+json": {
              "type": "string"
            },
            "text/plain": [
              "'red'"
            ]
          },
          "metadata": {
            "tags": []
          },
          "execution_count": 12
        }
      ]
    },
    {
      "cell_type": "code",
      "metadata": {
        "id": "bDV1AyjOKCRJ",
        "outputId": "755673b9-43fc-4f68-86e5-608d69ad71bf",
        "colab": {
          "base_uri": "https://localhost:8080/",
          "height": 35
        }
      },
      "source": [
        "audi.default_color"
      ],
      "execution_count": 13,
      "outputs": [
        {
          "output_type": "execute_result",
          "data": {
            "application/vnd.google.colaboratory.intrinsic+json": {
              "type": "string"
            },
            "text/plain": [
              "'red'"
            ]
          },
          "metadata": {
            "tags": []
          },
          "execution_count": 13
        }
      ]
    },
    {
      "cell_type": "markdown",
      "metadata": {
        "id": "l7EWKzMqKCRW"
      },
      "source": [
        "Если поменять значение default_color через имя класса `Car`, то все будет ожидаемо: у объектов `bmw` и `audi` это значение изменится, но если поменять его через экземпляр класса, то у экземпляра будет создан атрибут с таким же именем как статический, а доступ к последнему будет потерян:"
      ]
    },
    {
      "cell_type": "code",
      "metadata": {
        "id": "vxxuZIP7KCRY",
        "outputId": "9baf115f-33b9-42d7-80be-d669c8365147",
        "colab": {
          "base_uri": "https://localhost:8080/",
          "height": 35
        }
      },
      "source": [
        "bmw.default_color = \"blue\"\n",
        "bmw.default_color"
      ],
      "execution_count": 14,
      "outputs": [
        {
          "output_type": "execute_result",
          "data": {
            "application/vnd.google.colaboratory.intrinsic+json": {
              "type": "string"
            },
            "text/plain": [
              "'blue'"
            ]
          },
          "metadata": {
            "tags": []
          },
          "execution_count": 14
        }
      ]
    },
    {
      "cell_type": "markdown",
      "metadata": {
        "id": "cV-BaIBgKCRh"
      },
      "source": [
        "А у `audi` и класса все останется по-прежнему:"
      ]
    },
    {
      "cell_type": "code",
      "metadata": {
        "id": "ncfBlywsKCRi",
        "outputId": "b45e487c-dd5b-4d4d-d55f-83eb6859e6a7",
        "colab": {
          "base_uri": "https://localhost:8080/",
          "height": 35
        }
      },
      "source": [
        "audi.default_color"
      ],
      "execution_count": 15,
      "outputs": [
        {
          "output_type": "execute_result",
          "data": {
            "application/vnd.google.colaboratory.intrinsic+json": {
              "type": "string"
            },
            "text/plain": [
              "'red'"
            ]
          },
          "metadata": {
            "tags": []
          },
          "execution_count": 15
        }
      ]
    },
    {
      "cell_type": "code",
      "metadata": {
        "id": "-l-WlSaSKCRu",
        "outputId": "239e8be4-f4c0-4d49-d715-bf484c77fd1e",
        "colab": {
          "base_uri": "https://localhost:8080/",
          "height": 35
        }
      },
      "source": [
        "Car.default_color"
      ],
      "execution_count": 16,
      "outputs": [
        {
          "output_type": "execute_result",
          "data": {
            "application/vnd.google.colaboratory.intrinsic+json": {
              "type": "string"
            },
            "text/plain": [
              "'red'"
            ]
          },
          "metadata": {
            "tags": []
          },
          "execution_count": 16
        }
      ]
    },
    {
      "cell_type": "markdown",
      "metadata": {
        "id": "JVJV11pWKCR4"
      },
      "source": [
        "Наш класс можем представить в виде автозавода. Все машины изначально делают в одном цвете `default_color = green` - зеленом. Если мы, покупая машину, хотим перекрасить ее, мы задаем цвет `color` - Car(\"black\",\"BMW\",2). Т.е. мы перекрасим машину в черный цвет, а если его не укажем, то он автоматоматически будет в стандартном зеленом цвете. Через некоторое время завод меняет стандартный цвет, допустим на красный - `Car.default_color = \"red\"` И теперь все машины будут создаваться изначально в красном цвете."
      ]
    },
    {
      "cell_type": "code",
      "metadata": {
        "id": "9evBDwoEKCR6",
        "outputId": "c374dca2-cb99-4f28-d594-6d3927d0350f",
        "colab": {
          "base_uri": "https://localhost:8080/"
        }
      },
      "source": [
        "# изначально красим в зеленый\n",
        "Car.default_color = \"green\"\n",
        "\n",
        "car1 = Car(None,\"Niva\",2)\n",
        "car2 = Car(None,\"Niva\",2)\n",
        "car3 = Car(None,\"Niva\",4)\n",
        "car4 = Car(\"black\",\"Niva\",4) # Покрасили машину в другой цвет\n",
        "\n",
        "print(car1.color,car2.color,car3.color,car4.color)\n",
        "\n",
        "# Завод перешел на новый цвет\n",
        "Car.default_color = \"red\"\n",
        "\n",
        "car5 = Car(None,\"Niva\",2)\n",
        "car6 = Car(\"olive\",\"Niva\",2) # Покрасили машину в другой цвет\n",
        "car7 = Car(None,\"Niva\",4)\n",
        "car9 = Car(None,None,None)\n",
        "\n",
        "car8 = Car(None,\"Niva\",4) \n",
        "\n",
        "print(car1.color,car2.color,car3.color,car4.color)\n",
        "print(car5.color,car6.color,car7.color,car8.color, car9.color)"
      ],
      "execution_count": 17,
      "outputs": [
        {
          "output_type": "stream",
          "text": [
            "green green green black\n",
            "green green green black\n",
            "red olive red red red\n"
          ],
          "name": "stdout"
        }
      ]
    },
    {
      "cell_type": "markdown",
      "metadata": {
        "id": "HLhfXwcbKCSE"
      },
      "source": [
        "## Аргумент self\n",
        "\n",
        "Рассмотрим зачем нужен и что означает `self` в функциях Python. Классам нужен способ, что ссылаться на самих себя.  Это способ сообщения между экземплярами. Потому что мы должны взять значении атрибута класса именно своего экземпляра, а не чужого. `Self` таким образом заменяет идентификатор объекта. Помещать его нужно в каждую функцию чтобы иметь возможность вызвать ее на текущем объекте. Также с помощью этого ключевого слова можно получать доступ к полям класса в описываемом методе. \n",
        "\n",
        "Мы уже обращались с помощью `self` к `default_color` в нашем классе `Car`."
      ]
    },
    {
      "cell_type": "code",
      "metadata": {
        "id": "z58HAngJKCSG",
        "outputId": "8742df8d-3e7a-4991-f174-d124ee670a20",
        "colab": {
          "base_uri": "https://localhost:8080/",
          "height": 35
        }
      },
      "source": [
        "class Car:\n",
        "    default_color = \"green\"\n",
        "    \n",
        "    def __init__(self, color, brand, doors_num):\n",
        "        if color == None:\n",
        "            self.color = self.default_color\n",
        "        else:\n",
        "            self.color = color\n",
        "            \n",
        "        self.brand = brand\n",
        "        self.doors_num = doors_num\n",
        "        \n",
        "fiat = Car(None,\"Fiat\",5)\n",
        "fiat.color"
      ],
      "execution_count": 18,
      "outputs": [
        {
          "output_type": "execute_result",
          "data": {
            "application/vnd.google.colaboratory.intrinsic+json": {
              "type": "string"
            },
            "text/plain": [
              "'green'"
            ]
          },
          "metadata": {
            "tags": []
          },
          "execution_count": 18
        }
      ]
    },
    {
      "cell_type": "markdown",
      "metadata": {
        "id": "r5rTVH6xKCSN"
      },
      "source": [
        "Если бы в качестве первого параметра не было указано `self`, то при попытке создать класс, вылезла ошибка:"
      ]
    },
    {
      "cell_type": "code",
      "metadata": {
        "id": "__SNHq7pKCSR",
        "outputId": "d7d73057-a29f-4e72-e2a0-f3207095f450",
        "colab": {
          "base_uri": "https://localhost:8080/",
          "height": 353
        }
      },
      "source": [
        "class Car:\n",
        "    default_color = \"green\"\n",
        "    \n",
        "    def __init__(self, color, brand, doors_num):\n",
        "        if color == None:\n",
        "            self.color = default_color # нет обращения к self.default_color\n",
        "        else:\n",
        "            self.color = color\n",
        "            \n",
        "        self.brand = brand\n",
        "        self.doors_num = doors_num\n",
        "        \n",
        "fiat = Car(None,\"Fiat\",5)\n",
        "fiat.color"
      ],
      "execution_count": 19,
      "outputs": [
        {
          "output_type": "error",
          "ename": "NameError",
          "evalue": "ignored",
          "traceback": [
            "\u001b[0;31m---------------------------------------------------------------------------\u001b[0m",
            "\u001b[0;31mNameError\u001b[0m                                 Traceback (most recent call last)",
            "\u001b[0;32m<ipython-input-19-be5ff8aa2a7b>\u001b[0m in \u001b[0;36m<module>\u001b[0;34m()\u001b[0m\n\u001b[1;32m     11\u001b[0m         \u001b[0mself\u001b[0m\u001b[0;34m.\u001b[0m\u001b[0mdoors_num\u001b[0m \u001b[0;34m=\u001b[0m \u001b[0mdoors_num\u001b[0m\u001b[0;34m\u001b[0m\u001b[0;34m\u001b[0m\u001b[0m\n\u001b[1;32m     12\u001b[0m \u001b[0;34m\u001b[0m\u001b[0m\n\u001b[0;32m---> 13\u001b[0;31m \u001b[0mfiat\u001b[0m \u001b[0;34m=\u001b[0m \u001b[0mCar\u001b[0m\u001b[0;34m(\u001b[0m\u001b[0;32mNone\u001b[0m\u001b[0;34m,\u001b[0m\u001b[0;34m\"Fiat\"\u001b[0m\u001b[0;34m,\u001b[0m\u001b[0;36m5\u001b[0m\u001b[0;34m)\u001b[0m\u001b[0;34m\u001b[0m\u001b[0;34m\u001b[0m\u001b[0m\n\u001b[0m\u001b[1;32m     14\u001b[0m \u001b[0mfiat\u001b[0m\u001b[0;34m.\u001b[0m\u001b[0mcolor\u001b[0m\u001b[0;34m\u001b[0m\u001b[0;34m\u001b[0m\u001b[0m\n",
            "\u001b[0;32m<ipython-input-19-be5ff8aa2a7b>\u001b[0m in \u001b[0;36m__init__\u001b[0;34m(self, color, brand, doors_num)\u001b[0m\n\u001b[1;32m      4\u001b[0m     \u001b[0;32mdef\u001b[0m \u001b[0m__init__\u001b[0m\u001b[0;34m(\u001b[0m\u001b[0mself\u001b[0m\u001b[0;34m,\u001b[0m \u001b[0mcolor\u001b[0m\u001b[0;34m,\u001b[0m \u001b[0mbrand\u001b[0m\u001b[0;34m,\u001b[0m \u001b[0mdoors_num\u001b[0m\u001b[0;34m)\u001b[0m\u001b[0;34m:\u001b[0m\u001b[0;34m\u001b[0m\u001b[0;34m\u001b[0m\u001b[0m\n\u001b[1;32m      5\u001b[0m         \u001b[0;32mif\u001b[0m \u001b[0mcolor\u001b[0m \u001b[0;34m==\u001b[0m \u001b[0;32mNone\u001b[0m\u001b[0;34m:\u001b[0m\u001b[0;34m\u001b[0m\u001b[0;34m\u001b[0m\u001b[0m\n\u001b[0;32m----> 6\u001b[0;31m             \u001b[0mself\u001b[0m\u001b[0;34m.\u001b[0m\u001b[0mcolor\u001b[0m \u001b[0;34m=\u001b[0m \u001b[0mdefault_color\u001b[0m \u001b[0;31m# нет обращения к self.default_color\u001b[0m\u001b[0;34m\u001b[0m\u001b[0;34m\u001b[0m\u001b[0m\n\u001b[0m\u001b[1;32m      7\u001b[0m         \u001b[0;32melse\u001b[0m\u001b[0;34m:\u001b[0m\u001b[0;34m\u001b[0m\u001b[0;34m\u001b[0m\u001b[0m\n\u001b[1;32m      8\u001b[0m             \u001b[0mself\u001b[0m\u001b[0;34m.\u001b[0m\u001b[0mcolor\u001b[0m \u001b[0;34m=\u001b[0m \u001b[0mcolor\u001b[0m\u001b[0;34m\u001b[0m\u001b[0;34m\u001b[0m\u001b[0m\n",
            "\u001b[0;31mNameError\u001b[0m: name 'default_color' is not defined"
          ]
        }
      ]
    },
    {
      "cell_type": "markdown",
      "metadata": {
        "id": "sMJn5Z-bKCSa"
      },
      "source": [
        "Класс не знает к переменной какого экземпляра класса он обращается, а `self` говорит ему обратиться к тому экземпляру, в котором он вызывается\\создается"
      ]
    },
    {
      "cell_type": "markdown",
      "metadata": {
        "id": "jvdE8yD2KCSb"
      },
      "source": [
        "## Конструктор класса\n",
        "\n",
        "Обычно при создании класса, нам хочется его сразу инициализровать некоторыми данными. Например, когда мы создадем список `a = []`, мы можем сразу передать в него некоторые значения - `a = [1,2,3,4,5]`. Точно также можно сделать с нашими самописными классами. Для этой цели в ООП используется конструктор, принимающий необходимые параметры. До этого мы уже создавали его в нашем классе:"
      ]
    },
    {
      "cell_type": "code",
      "metadata": {
        "id": "n3Z7TecVKCSd",
        "outputId": "8068c3a8-578a-4f56-f733-62102d7000b5",
        "colab": {
          "base_uri": "https://localhost:8080/"
        }
      },
      "source": [
        "class Car:\n",
        "    default_color = \"зеленый\"\n",
        "    \n",
        "    def __init__(self, color, brand, doors_num):\n",
        "        if color == None:\n",
        "            self.color = self.default_color\n",
        "        else:\n",
        "            self.color = color\n",
        "            \n",
        "        self.brand = brand\n",
        "        self.doors_num = doors_num\n",
        "\n",
        "ford = Car(\"красный\", \"Ford\", 4)\n",
        "\n",
        "print(\"Красивый \" + ford.color + \" \" + ford.brand + \" c \"+ str(ford.doors_num) + \" дверьми\")"
      ],
      "execution_count": 20,
      "outputs": [
        {
          "output_type": "stream",
          "text": [
            "Красивый красный Ford c 4 дверьми\n"
          ],
          "name": "stdout"
        }
      ]
    },
    {
      "cell_type": "markdown",
      "metadata": {
        "id": "QZ6mM3Y-KCSs"
      },
      "source": [
        "Внешне конструктор похож на обычный метод, однако вызвать его явным образом нельзя. Вместо этого он автоматически срабатывает каждый раз, когда программа создает новый объект для класса, в котором он расположен. Имя у каждого конструктора задается в виде идентификатора `__init__`. Получаемые им параметры можно присвоить полям будущего объекта, воспользовавшись ключевым словом `self`, как в вышеописанном примере.\n",
        "\n",
        "Таким образом, класс `Car` содержит три поля: `color` (цвет), `brand` (марка) и `doors_num` (количество дверей). Конструктор принимает параметры для изменения этих свойств во время инициализации нового объекта под названием `ford`. Каждый класс содержит в себе по крайней мере один конструктор по умолчанию, если ни одного из них не было задано явно (т.е. если мы не создадим конструктор в нашем классе, то будет использован пустой конструктор по умолчанию и класс все равно будет работать). "
      ]
    },
    {
      "cell_type": "markdown",
      "metadata": {
        "id": "6kPtYKzAKCSu"
      },
      "source": [
        "### Методы класса\n",
        "\n",
        "Добавим к нашему классу методы. Метод – это функция, находящаяся внутри класса и выполняющая определенную работу.\n",
        "\n",
        "Методы бывают статическими, классовыми и уровня экземпляра класса (будем их называть обычными меотдами). Статический метод создается с декоратором `@staticmethod`, классовый – с декоратором `@classmethod`, первым аргументом в него передается `cls` (ссылка на вызываемый класс), обычный метод создается без специального декоратора, ему первым аргументом передается `self`. Подробнее про сами декораторы, можно почитать [здесь](https://pythonworld.ru/osnovy/dekoratory.html)."
      ]
    },
    {
      "cell_type": "code",
      "metadata": {
        "id": "KYdwwEhDKCSw"
      },
      "source": [
        "class Car:\n",
        "    \n",
        "    @staticmethod\n",
        "    def ex_static_method():\n",
        "        print(\"static method\")\n",
        "        \n",
        "    @classmethod\n",
        "    def ex_class_method(cls):\n",
        "        print(\"class method\")\n",
        "        \n",
        "    def ex_method(self):\n",
        "        print(\"method\")"
      ],
      "execution_count": 21,
      "outputs": []
    },
    {
      "cell_type": "markdown",
      "metadata": {
        "id": "ezl98F_tKCTA"
      },
      "source": [
        "Статический и классовый метод можно вызвать, не создавая экземпляр класса, для вызова ex_method() нужен объект:"
      ]
    },
    {
      "cell_type": "code",
      "metadata": {
        "id": "4B74WldSKCTC",
        "outputId": "23e62fc4-d468-42b1-a911-041a9d877785",
        "colab": {
          "base_uri": "https://localhost:8080/",
          "height": 244
        }
      },
      "source": [
        "Car.ex_static_method()\n",
        "\n",
        "Car.ex_class_method()\n",
        "\n",
        "Car.ex_method()"
      ],
      "execution_count": 22,
      "outputs": [
        {
          "output_type": "stream",
          "text": [
            "static method\n",
            "class method\n"
          ],
          "name": "stdout"
        },
        {
          "output_type": "error",
          "ename": "TypeError",
          "evalue": "ignored",
          "traceback": [
            "\u001b[0;31m---------------------------------------------------------------------------\u001b[0m",
            "\u001b[0;31mTypeError\u001b[0m                                 Traceback (most recent call last)",
            "\u001b[0;32m<ipython-input-22-0b19c3763437>\u001b[0m in \u001b[0;36m<module>\u001b[0;34m()\u001b[0m\n\u001b[1;32m      3\u001b[0m \u001b[0mCar\u001b[0m\u001b[0;34m.\u001b[0m\u001b[0mex_class_method\u001b[0m\u001b[0;34m(\u001b[0m\u001b[0;34m)\u001b[0m\u001b[0;34m\u001b[0m\u001b[0;34m\u001b[0m\u001b[0m\n\u001b[1;32m      4\u001b[0m \u001b[0;34m\u001b[0m\u001b[0m\n\u001b[0;32m----> 5\u001b[0;31m \u001b[0mCar\u001b[0m\u001b[0;34m.\u001b[0m\u001b[0mex_method\u001b[0m\u001b[0;34m(\u001b[0m\u001b[0;34m)\u001b[0m\u001b[0;34m\u001b[0m\u001b[0;34m\u001b[0m\u001b[0m\n\u001b[0m",
            "\u001b[0;31mTypeError\u001b[0m: ex_method() missing 1 required positional argument: 'self'"
          ]
        }
      ]
    },
    {
      "cell_type": "code",
      "metadata": {
        "id": "5iLfug8xKCTM",
        "outputId": "6c988295-fc7a-4d6e-bcac-2ec0f5a3806f",
        "colab": {
          "base_uri": "https://localhost:8080/"
        }
      },
      "source": [
        "m = Car()\n",
        "m.ex_method()"
      ],
      "execution_count": 23,
      "outputs": [
        {
          "output_type": "stream",
          "text": [
            "method\n"
          ],
          "name": "stdout"
        }
      ]
    },
    {
      "cell_type": "markdown",
      "metadata": {
        "id": "bXaycTxFKCTW"
      },
      "source": [
        "**Статическим методам** не нужен определённый первый аргумент (ни self, ни cls). Их можно воспринимать как методы, которые `не знают, к какому классу относятся`.\n",
        "\n",
        "Таким образом, статические методы прикреплены к классу лишь для удобства и не могут менять состояние ни класса, ни его экземпляра. То есть статические методы не могут получить доступ к параметрам класса или объекта. Они работают только с теми данными, которые им передаются в качестве аргументов."
      ]
    },
    {
      "cell_type": "markdown",
      "metadata": {
        "id": "vfIjyZV2KCTY"
      },
      "source": [
        "**Классовые методы** принимают класс в качестве параметра, который принято обозначать как `cls`. В данном случае он указывает на класс `Car`, а не на объект этого класса.\n",
        "\n",
        "Методы класса привязаны к самому классу, а не его экземпляру. Они могут менять состояние класса, что отразится на всех объектах этого класса, но не могут менять конкретный объект.\n",
        "\n",
        "Встроенный пример метода класса — `dict.fromkeys()` — возвращает новый словарь с переданными элементами в качестве ключей."
      ]
    },
    {
      "cell_type": "code",
      "metadata": {
        "id": "zDjfw-4KKCTZ",
        "outputId": "4faa85cc-5a34-47ad-eeb8-4d9ffb17f79c",
        "colab": {
          "base_uri": "https://localhost:8080/"
        }
      },
      "source": [
        "dict.fromkeys('AEIOU')  # <- вызывается при помощи класса dict - метод класса"
      ],
      "execution_count": 24,
      "outputs": [
        {
          "output_type": "execute_result",
          "data": {
            "text/plain": [
              "{'A': None, 'E': None, 'I': None, 'O': None, 'U': None}"
            ]
          },
          "metadata": {
            "tags": []
          },
          "execution_count": 24
        }
      ]
    },
    {
      "cell_type": "markdown",
      "metadata": {
        "id": "JJZX4mxNKCTl"
      },
      "source": [
        "**Метод экземпляра класса** это наиболее часто используемый вид методов. Методы экземпляра класса принимают объект класса как первый аргумент, который принято называть `self` и который указывает на сам экземпляр. Количество параметров метода не ограничено.\n",
        "\n",
        "Используя параметр `self`, мы можем менять состояние объекта и обращаться к другим его методам и параметрам. К тому же, используя атрибут `self.__class__`, мы получаем доступ к атрибутам класса и возможности менять состояние самого класса. То есть методы экземпляров класса позволяют менять как состояние определённого объекта, так и класса.\n",
        "\n",
        "Встроенный пример метода экземпляра — `str.upper()`:"
      ]
    },
    {
      "cell_type": "code",
      "metadata": {
        "id": "0vcuu4_CKCTo",
        "outputId": "a476aff6-e055-4127-8b94-2ddb282280be",
        "colab": {
          "base_uri": "https://localhost:8080/",
          "height": 35
        }
      },
      "source": [
        "\"welcome\".upper()   # <- вызывается на строковых данных"
      ],
      "execution_count": 25,
      "outputs": [
        {
          "output_type": "execute_result",
          "data": {
            "application/vnd.google.colaboratory.intrinsic+json": {
              "type": "string"
            },
            "text/plain": [
              "'WELCOME'"
            ]
          },
          "metadata": {
            "tags": []
          },
          "execution_count": 25
        }
      ]
    },
    {
      "cell_type": "markdown",
      "metadata": {
        "id": "DIvAQsxOKCT0"
      },
      "source": [
        "### Когда какой тип метод применять\n",
        "\n",
        "Давайте рассмотрим более натуральный пример и выясним в чем разница между методами"
      ]
    },
    {
      "cell_type": "code",
      "metadata": {
        "id": "PyeU07RbKCT2"
      },
      "source": [
        "from datetime import date\n",
        "\n",
        "class Car:\n",
        "    def __init__(self, brand, age):\n",
        "        self.brand = brand\n",
        "        self.age = age\n",
        "        \n",
        "    @classmethod\n",
        "    def from_production_year(cls, brand, prod_year):\n",
        "        return cls(brand, date.today().year - prod_year)\n",
        "    \n",
        "    @staticmethod\n",
        "    def is_warranty_active(age):\n",
        "        return age < 3\n",
        "    \n",
        "    def info(self):\n",
        "        print(\"Car: \" + self.brand)\n",
        "        print(\"Age: \" + str(self.age))\n",
        "        if self.is_warranty_active(self.age):\n",
        "            print(\"Warranty is ACTIVE\")\n",
        "        else:\n",
        "            print(\"Warranty is NOT active\")\n",
        "    \n",
        "car1 = Car('Subaru', 5)\n",
        "car2 = Car.from_production_year('Skoda', 2018)"
      ],
      "execution_count": 26,
      "outputs": []
    },
    {
      "cell_type": "code",
      "metadata": {
        "id": "sEZoA1FhKCT_",
        "outputId": "dbd0e896-632d-49b3-e61b-dbba04935957",
        "colab": {
          "base_uri": "https://localhost:8080/"
        }
      },
      "source": [
        "car1.brand, car1.age"
      ],
      "execution_count": 27,
      "outputs": [
        {
          "output_type": "execute_result",
          "data": {
            "text/plain": [
              "('Subaru', 5)"
            ]
          },
          "metadata": {
            "tags": []
          },
          "execution_count": 27
        }
      ]
    },
    {
      "cell_type": "code",
      "metadata": {
        "id": "BgGWg0z_KCUI",
        "outputId": "ba6f642f-6fb3-4762-80e9-4a94de5acd4f",
        "colab": {
          "base_uri": "https://localhost:8080/"
        }
      },
      "source": [
        "car2.brand, car2.age"
      ],
      "execution_count": 28,
      "outputs": [
        {
          "output_type": "execute_result",
          "data": {
            "text/plain": [
              "('Skoda', 2)"
            ]
          },
          "metadata": {
            "tags": []
          },
          "execution_count": 28
        }
      ]
    },
    {
      "cell_type": "code",
      "metadata": {
        "id": "Auib7KqkKCUR",
        "outputId": "cdc22a58-39db-46e0-f870-cdb0f6ed6760",
        "colab": {
          "base_uri": "https://localhost:8080/"
        }
      },
      "source": [
        "Car.is_warranty_active(25)  # static method"
      ],
      "execution_count": 30,
      "outputs": [
        {
          "output_type": "execute_result",
          "data": {
            "text/plain": [
              "False"
            ]
          },
          "metadata": {
            "tags": []
          },
          "execution_count": 30
        }
      ]
    },
    {
      "cell_type": "code",
      "metadata": {
        "id": "vPOEGSbeKCUb",
        "outputId": "206c6dd2-67b0-421d-b6b9-776d4514807f",
        "colab": {
          "base_uri": "https://localhost:8080/"
        }
      },
      "source": [
        "car1.info()"
      ],
      "execution_count": 32,
      "outputs": [
        {
          "output_type": "stream",
          "text": [
            "Car: Subaru\n",
            "Age: 5\n",
            "Warranty is NOT active\n"
          ],
          "name": "stdout"
        }
      ]
    },
    {
      "cell_type": "code",
      "metadata": {
        "id": "hr1lkJuiKCUk",
        "outputId": "7a5d9244-a0a9-4514-d802-9b6e07a4be0a",
        "colab": {
          "base_uri": "https://localhost:8080/"
        }
      },
      "source": [
        "  car2.info()"
      ],
      "execution_count": 33,
      "outputs": [
        {
          "output_type": "stream",
          "text": [
            "Car: Skoda\n",
            "Age: 2\n",
            "Warranty is ACTIVE\n"
          ],
          "name": "stdout"
        }
      ]
    },
    {
      "cell_type": "markdown",
      "metadata": {
        "id": "odfoznFIKCUt"
      },
      "source": [
        "Метод класса - `from_production_year` возвращает нам СОЗДАННЫЙ внутри функции экземпляр класса `Car` с вычисленным возрастом. Т.к. мы не можем внутри класса `Car` вызвать класс `Car`, мы и используем `cls`.\n",
        "\n",
        "Статический метод - `is_warranty_active` выясняет действительна ли еще гарантия. Как вы видете, он не обращается к возрасту машины в классе, а принимает ее в качестве аргумента - `age`.\n",
        "\n",
        "Метод экземпляра класса - `info`, через `self` обращается к своим атрибутам, вызывает статическую функцию, передвая туда возраст машины.\n",
        "\n",
        "\n",
        "Выбор того, какой из методов использовать, может показаться достаточно сложным. Тем не менее с опытом этот выбор делать гораздо проще. Чаще всего **метод класса** используется тогда, когда нужен генерирующий метод, возвращающий объект класса. Как видим, метод класса `from_production_year` используется для создания объекта класса `Car` по году производства машины, а не по указанному возрасту. \n",
        "\n",
        "Статические методы в основном используются как вспомогательные функции и работают с данными, которые им передаются.\n",
        "\n",
        "Итак:\n",
        "- Методы экземпляра класса получают доступ к объекту класса через параметр `self` и к классу через `self.__class__`.\n",
        "- Методы класса не могут получить доступ к определённому объекту класса, но имеют доступ к самому классу через `cls`.\n",
        "- Статические методы работают как обычные функции, но принадлежат области имён класса. Они не имеют доступа ни к самому классу, ни к его экземплярам."
      ]
    },
    {
      "cell_type": "markdown",
      "metadata": {
        "id": "KaWPLfFnKCUv"
      },
      "source": [
        "## Деструктор\n",
        "\n",
        "Работа с деструктором, как правило, является прерогативой языков, предоставляющих более широкие возможности для управления памятью. Несмотря на грамотную работу сборщика мусора, обеспечивающего своевременное удаление ненужных объектов, вызов деструктора все еще остается доступным. Переопределить его можно в классе, задав имя `__del__`."
      ]
    },
    {
      "cell_type": "code",
      "metadata": {
        "id": "NSUHRjQiKCUw",
        "outputId": "b454614c-5bd6-42fd-c30e-8a905c3f1257",
        "colab": {
          "base_uri": "https://localhost:8080/"
        }
      },
      "source": [
        "class Data:\n",
        "    pass\n",
        "    def __del__(self):\n",
        "        print(\"The object is destroyed\")\n",
        "        \n",
        "data = Data()\n",
        "del(data)"
      ],
      "execution_count": 35,
      "outputs": [
        {
          "output_type": "stream",
          "text": [
            "The object is destroyed\n"
          ],
          "name": "stdout"
        }
      ]
    },
    {
      "cell_type": "markdown",
      "metadata": {
        "id": "e_Z-_d14KCU4"
      },
      "source": [
        "Как и конструктор, деструктор может содержать некий пользовательский код, сообщающий об успешном завершении работы метода. В данном примере создается экземпляр класса `Data` и вызывается его деструктор, принимающий в качестве параметра сам объект."
      ]
    },
    {
      "cell_type": "markdown",
      "metadata": {
        "id": "8R5ZbSaUKCU6"
      },
      "source": [
        "## Уровни доступа атрибута и метода (Инкапсуляция)\n",
        "\n",
        "В языках программирования Java, C#, C++ можно явно указать для переменной, что доступ к ней снаружи класса запрещен, это делается с помощью ключевых слов (private, protected и т.д.). В Python таких возможностей нет, и любой может обратиться к атрибутам и методам вашего класса, если возникнет такая необходимость. Это существенный недостаток этого языка, т.к. нарушается один из ключевых принципов ООП – инкапсуляция. Хорошим тоном считается, что для чтения/изменения какого-то атрибута должны использоваться специальные методы, которые называются `getter/setter`, их можно реализовать, но ничего не помешает изменить атрибут напрямую. При этом есть соглашение, что метод или атрибут, который начинается с `нижнего подчеркивания`, является скрытым, и снаружи класса трогать его не нужно (хотя сделать это можно).\n",
        "\n",
        "Внесем соответствующие изменения в класс Car:"
      ]
    },
    {
      "cell_type": "code",
      "metadata": {
        "id": "yujmrwMkKCU7"
      },
      "source": [
        "class Car:\n",
        "    def __init__(self, brand, doors_num):\n",
        "        self._brand = brand\n",
        "        self._doors_num = doors_num\n",
        "        \n",
        "    def get_brand(self):\n",
        "        return self._brand\n",
        "    \n",
        "    def set_brand(self, b):\n",
        "        self._brand = b\n",
        "        \n",
        "    def get_doors(self):\n",
        "        return self._doors_num\n",
        "    \n",
        "    def set_doors(self, d):\n",
        "        self._doors = d\n",
        "        \n",
        "    def info(self):\n",
        "        return \"Nice car with \" + str(self._doors) + \" doors\""
      ],
      "execution_count": 36,
      "outputs": []
    },
    {
      "cell_type": "markdown",
      "metadata": {
        "id": "NE6wm74JKCVC"
      },
      "source": [
        "В приведенном примере для доступа к `_brand` и` _doors_num` используются специальные методы, но ничего не мешает вам обратиться к ним (атрибутам) напрямую."
      ]
    },
    {
      "cell_type": "code",
      "metadata": {
        "id": "g_b3W6HaKCVD",
        "outputId": "0be58b4c-e2f2-4481-be96-1ca38c89da39",
        "colab": {
          "base_uri": "https://localhost:8080/",
          "height": 35
        }
      },
      "source": [
        "mersedes = Car(\"Mersedes\", 6)\n",
        "mersedes.get_brand()"
      ],
      "execution_count": 37,
      "outputs": [
        {
          "output_type": "execute_result",
          "data": {
            "application/vnd.google.colaboratory.intrinsic+json": {
              "type": "string"
            },
            "text/plain": [
              "'Mersedes'"
            ]
          },
          "metadata": {
            "tags": []
          },
          "execution_count": 37
        }
      ]
    },
    {
      "cell_type": "code",
      "metadata": {
        "id": "4yCWHeLFKCVP",
        "outputId": "939df00f-9559-4cc5-a33a-c6b3f8f4be7a",
        "colab": {
          "base_uri": "https://localhost:8080/",
          "height": 35
        }
      },
      "source": [
        "mersedes._brand"
      ],
      "execution_count": 38,
      "outputs": [
        {
          "output_type": "execute_result",
          "data": {
            "application/vnd.google.colaboratory.intrinsic+json": {
              "type": "string"
            },
            "text/plain": [
              "'Mersedes'"
            ]
          },
          "metadata": {
            "tags": []
          },
          "execution_count": 38
        }
      ]
    },
    {
      "cell_type": "markdown",
      "metadata": {
        "id": "3z66150LKCVd"
      },
      "source": [
        "Если же атрибут или метод начинается с двух подчеркиваний, то тут напрямую вы к нему уже не обратитесь (простым образом). Модифицируем наш класс `Car`:"
      ]
    },
    {
      "cell_type": "code",
      "metadata": {
        "id": "7L2E_WAfKCVe"
      },
      "source": [
        "class Car:\n",
        "    def __init__(self, brand, doors_num):\n",
        "        self.__brand = brand\n",
        "        self.__doors_num = doors_num\n",
        "        \n",
        "    def get_brand(self):\n",
        "        return self.__brand\n",
        "    \n",
        "    def set_brand(self, b):\n",
        "        self.__brand = b\n",
        "    \n",
        "    def get_doors(self):\n",
        "        return self.__doors_num\n",
        "    \n",
        "    def set_doors(self, d):\n",
        "        self.__doors = d\n",
        "        \n",
        "    def info(self):\n",
        "        return \"Nice car with \" + str(self.__doors_num) + \" doors\""
      ],
      "execution_count": 39,
      "outputs": []
    },
    {
      "cell_type": "markdown",
      "metadata": {
        "id": "wX27m4H9KCVm"
      },
      "source": [
        "Попытка обратиться к `__brand` напрямую вызовет ошибку, нужно работать только через get_brand():"
      ]
    },
    {
      "cell_type": "code",
      "metadata": {
        "id": "Xv89jYsfKCVv",
        "outputId": "367a7ec5-4b2e-431d-895c-460f79168168",
        "colab": {
          "base_uri": "https://localhost:8080/",
          "height": 35
        }
      },
      "source": [
        "mersedes = Car(\"Mersedes\", 6)\n",
        "mersedes.get_brand()"
      ],
      "execution_count": 40,
      "outputs": [
        {
          "output_type": "execute_result",
          "data": {
            "application/vnd.google.colaboratory.intrinsic+json": {
              "type": "string"
            },
            "text/plain": [
              "'Mersedes'"
            ]
          },
          "metadata": {
            "tags": []
          },
          "execution_count": 40
        }
      ]
    },
    {
      "cell_type": "code",
      "metadata": {
        "id": "YANMTJG2KCV5",
        "outputId": "fceff38a-05ae-47f0-8b39-2700db8f77f9",
        "colab": {
          "base_uri": "https://localhost:8080/",
          "height": 171
        }
      },
      "source": [
        "mersedes.__brand"
      ],
      "execution_count": 41,
      "outputs": [
        {
          "output_type": "error",
          "ename": "AttributeError",
          "evalue": "ignored",
          "traceback": [
            "\u001b[0;31m---------------------------------------------------------------------------\u001b[0m",
            "\u001b[0;31mAttributeError\u001b[0m                            Traceback (most recent call last)",
            "\u001b[0;32m<ipython-input-41-4bb8311b9cb4>\u001b[0m in \u001b[0;36m<module>\u001b[0;34m()\u001b[0m\n\u001b[0;32m----> 1\u001b[0;31m \u001b[0mmersedes\u001b[0m\u001b[0;34m.\u001b[0m\u001b[0m__brand\u001b[0m\u001b[0;34m\u001b[0m\u001b[0;34m\u001b[0m\u001b[0m\n\u001b[0m",
            "\u001b[0;31mAttributeError\u001b[0m: 'Car' object has no attribute '__brand'"
          ]
        }
      ]
    },
    {
      "cell_type": "markdown",
      "metadata": {
        "id": "By5OEyHRKCWL"
      },
      "source": [
        "Но на самом деле это сделать можно, просто этот атрибут теперь для внешнего использования носит название: `_Car__brand`:"
      ]
    },
    {
      "cell_type": "code",
      "metadata": {
        "id": "RUm9ClaXKCWN",
        "outputId": "9ebe6179-d7ea-4381-aab4-363f70b178b7",
        "colab": {
          "base_uri": "https://localhost:8080/",
          "height": 35
        }
      },
      "source": [
        "mersedes._Car__brand"
      ],
      "execution_count": 42,
      "outputs": [
        {
          "output_type": "execute_result",
          "data": {
            "application/vnd.google.colaboratory.intrinsic+json": {
              "type": "string"
            },
            "text/plain": [
              "'Mersedes'"
            ]
          },
          "metadata": {
            "tags": []
          },
          "execution_count": 42
        }
      ]
    },
    {
      "cell_type": "markdown",
      "metadata": {
        "id": "nVQtzGp8KCWt"
      },
      "source": [
        "## Наследование\n",
        "\n",
        "Возможность одному классу выступать в качестве наследника для другого, перенимая тем самым его свойства и методы, является важной особенностью ООП. Благодаря этой важной особенности пропадает необходимость переписывания кода для подобных или родственных по назначению классов.\n",
        "\n",
        "При наследовании классов в Python обязательно следует соблюдать одно условие: `класс-наследник` должен представлять собой более частный случай `класса-родителя`. В следующем примере показывается как класс `Car` наследуется классом `Truck`. При описании подкласса в Python, имя родительского класса записывается в круглых скобках."
      ]
    },
    {
      "cell_type": "code",
      "metadata": {
        "id": "wngV_M-oKCWw"
      },
      "source": [
        "class Car:\n",
        "    def __init__(self, brand, doors_num):\n",
        "        self.__brand = brand\n",
        "        self.__doors_num = doors_num\n",
        "        \n",
        "    def get_brand(self):\n",
        "        return self.__brand\n",
        "    \n",
        "    def set_brand(self, b):\n",
        "        self.__brand = b\n",
        "    \n",
        "    def get_doors(self):\n",
        "        return self.__doors_num\n",
        "    \n",
        "    def set_doors(self, d):\n",
        "        self.__doors = d\n",
        "        \n",
        "    def info(self):\n",
        "        return \"Nice car with \" + str(self.__doors_num) + \" doors\""
      ],
      "execution_count": 43,
      "outputs": []
    },
    {
      "cell_type": "code",
      "metadata": {
        "id": "zWOGqV53KCW9"
      },
      "source": [
        "class Truck(Car):\n",
        "    \n",
        "    def __init__(self, brand, doors_num, load_weight, axes):\n",
        "        super().__init__(brand, doors_num)\n",
        "        self.__load_weight = load_weight\n",
        "        self.__axes = axes\n",
        "    \n",
        "    def get_load(self):\n",
        "        return self.__load_weight\n",
        "    \n",
        "    def set_load(self, l):\n",
        "        self.__load_weight = l\n",
        "        \n",
        "    def get_axes(self):\n",
        "        return self.__axes\n",
        "    \n",
        "    def set_axes(self, a):\n",
        "        self.__axes = a"
      ],
      "execution_count": 44,
      "outputs": []
    },
    {
      "cell_type": "markdown",
      "metadata": {
        "id": "vW8SJ3SEKCXF"
      },
      "source": [
        "Родительским классом является `Car`, который при инициализации принимает бренд машины и количество дверей и предоставляет его через свойства. `Truck` – класс наследник от `Car`. Обратите внимание на его метод `__init__`: в нем первым делом вызывается конструктор его родительского класса: `super().__init__(brand, doors_num)`\n",
        "\n",
        "`super` – это ключевое слово, которое используется для обращения к родительскому классу. Теперь у объекта класса `Truck` помимо уже знакомых свойств `brand` и `doors_num` появились свойства `load_weight` и `axes`:"
      ]
    },
    {
      "cell_type": "code",
      "metadata": {
        "id": "FQLX5HT1KCXG",
        "outputId": "8581c912-9f25-4311-8267-218bdf143c26",
        "colab": {
          "base_uri": "https://localhost:8080/",
          "height": 35
        }
      },
      "source": [
        "truck = Truck(\"Kamaz\",2,13000,6)\n",
        "\n",
        "truck.get_brand()"
      ],
      "execution_count": 45,
      "outputs": [
        {
          "output_type": "execute_result",
          "data": {
            "application/vnd.google.colaboratory.intrinsic+json": {
              "type": "string"
            },
            "text/plain": [
              "'Kamaz'"
            ]
          },
          "metadata": {
            "tags": []
          },
          "execution_count": 45
        }
      ]
    },
    {
      "cell_type": "code",
      "metadata": {
        "id": "EFY23d7LPMf2",
        "outputId": "d688816c-d478-4459-dbfc-951f3e6a8833",
        "colab": {
          "base_uri": "https://localhost:8080/"
        }
      },
      "source": [
        "help(truck)"
      ],
      "execution_count": 46,
      "outputs": [
        {
          "output_type": "stream",
          "text": [
            "Help on Truck in module __main__ object:\n",
            "\n",
            "class Truck(Car)\n",
            " |  Method resolution order:\n",
            " |      Truck\n",
            " |      Car\n",
            " |      builtins.object\n",
            " |  \n",
            " |  Methods defined here:\n",
            " |  \n",
            " |  __init__(self, brand, doors_num, load_weight, axes)\n",
            " |      Initialize self.  See help(type(self)) for accurate signature.\n",
            " |  \n",
            " |  get_axes(self)\n",
            " |  \n",
            " |  get_load(self)\n",
            " |  \n",
            " |  set_axes(self, a)\n",
            " |  \n",
            " |  set_load(self, l)\n",
            " |  \n",
            " |  ----------------------------------------------------------------------\n",
            " |  Methods inherited from Car:\n",
            " |  \n",
            " |  get_brand(self)\n",
            " |  \n",
            " |  get_doors(self)\n",
            " |  \n",
            " |  info(self)\n",
            " |  \n",
            " |  set_brand(self, b)\n",
            " |  \n",
            " |  set_doors(self, d)\n",
            " |  \n",
            " |  ----------------------------------------------------------------------\n",
            " |  Data descriptors inherited from Car:\n",
            " |  \n",
            " |  __dict__\n",
            " |      dictionary for instance variables (if defined)\n",
            " |  \n",
            " |  __weakref__\n",
            " |      list of weak references to the object (if defined)\n",
            "\n"
          ],
          "name": "stdout"
        }
      ]
    },
    {
      "cell_type": "markdown",
      "metadata": {
        "id": "RA3OWyiaKCXV"
      },
      "source": [
        "И смотрите, методы из родительского класса работают!"
      ]
    },
    {
      "cell_type": "code",
      "metadata": {
        "id": "52Xp5aABKCXZ",
        "outputId": "e453a21c-bc81-4219-baec-a0e5eac44de3",
        "colab": {
          "base_uri": "https://localhost:8080/"
        }
      },
      "source": [
        "truck.get_load()"
      ],
      "execution_count": 47,
      "outputs": [
        {
          "output_type": "execute_result",
          "data": {
            "text/plain": [
              "13000"
            ]
          },
          "metadata": {
            "tags": []
          },
          "execution_count": 47
        }
      ]
    },
    {
      "cell_type": "code",
      "metadata": {
        "id": "aQ05j8gDKCXl",
        "outputId": "d86b023b-6c6a-4d09-c304-2093e502cc44",
        "colab": {
          "base_uri": "https://localhost:8080/"
        }
      },
      "source": [
        "truck.set_axes(8)\n",
        "truck.get_axes()"
      ],
      "execution_count": 48,
      "outputs": [
        {
          "output_type": "execute_result",
          "data": {
            "text/plain": [
              "8"
            ]
          },
          "metadata": {
            "tags": []
          },
          "execution_count": 48
        }
      ]
    },
    {
      "cell_type": "markdown",
      "metadata": {
        "id": "VgvXvOI4KCXv"
      },
      "source": [
        "### Множественное наследование\n",
        "\n",
        "Наследовать можно не только один класс, но и несколько одновременно, обретая тем самым их свойства и методы. В данном примере класс `Dog` выступает в роли подкласса для `Animal` и `Pet` , поскольку может являться и тем, и другим. От `Animal Dog` получает способность спать (метод `sleep`), в то время как `Pet` дает возможность играть с хозяином (метод `play`). В свою очередь, оба родительских класса унаследовали поле `name` от `Creature`. Класс `Dog` также получил это свойство и может его использовать. Так как мы не используем конструкторы в наследованных классах, то и вызывать через `super()` ничего не надо. Конструктор родительского класса, вызовется автоматически."
      ]
    },
    {
      "cell_type": "code",
      "metadata": {
        "id": "I3F05-qWKCXw",
        "outputId": "d05f8282-d3f3-4ff9-81d0-426eafbe85c0",
        "colab": {
          "base_uri": "https://localhost:8080/"
        }
      },
      "source": [
        "class Creature:\n",
        "    def __init__(self, name):\n",
        "        self.name = name\n",
        "        \n",
        "class Animal(Creature):\n",
        "    def sleep(self):\n",
        "        print(self.name + \" is sleeping\")\n",
        "    def eat(self):\n",
        "        print(self.name + \" animal is eating\")\n",
        "        \n",
        "class Pet(Creature):\n",
        "    def play(self):\n",
        "        print(self.name + \" is playing\")\n",
        "    def eat(self):\n",
        "        print(self.name + \" is eating\")\n",
        "        \n",
        "class Dog(Animal, Pet):\n",
        "    def bark(self):\n",
        "        print(self.name + \" is barking\")\n",
        "\n",
        "    \n",
        "beast = Dog(\"Buddy\")\n",
        "beast.sleep()\n",
        "beast.play()\n",
        "beast.bark()\n",
        "beast.eat()"
      ],
      "execution_count": 49,
      "outputs": [
        {
          "output_type": "stream",
          "text": [
            "Buddy is sleeping\n",
            "Buddy is playing\n",
            "Buddy is barking\n",
            "Buddy animal is eating\n"
          ],
          "name": "stdout"
        }
      ]
    },
    {
      "cell_type": "code",
      "metadata": {
        "id": "1pKTAHlXKCX-",
        "outputId": "c0db0f9c-4854-4abb-9f5f-6c0e10a2bac5",
        "colab": {
          "base_uri": "https://localhost:8080/"
        }
      },
      "source": [
        "help(beast)"
      ],
      "execution_count": 50,
      "outputs": [
        {
          "output_type": "stream",
          "text": [
            "Help on Dog in module __main__ object:\n",
            "\n",
            "class Dog(Animal, Pet)\n",
            " |  Method resolution order:\n",
            " |      Dog\n",
            " |      Animal\n",
            " |      Pet\n",
            " |      Creature\n",
            " |      builtins.object\n",
            " |  \n",
            " |  Methods defined here:\n",
            " |  \n",
            " |  bark(self)\n",
            " |  \n",
            " |  ----------------------------------------------------------------------\n",
            " |  Methods inherited from Animal:\n",
            " |  \n",
            " |  eat(self)\n",
            " |  \n",
            " |  sleep(self)\n",
            " |  \n",
            " |  ----------------------------------------------------------------------\n",
            " |  Methods inherited from Pet:\n",
            " |  \n",
            " |  play(self)\n",
            " |  \n",
            " |  ----------------------------------------------------------------------\n",
            " |  Methods inherited from Creature:\n",
            " |  \n",
            " |  __init__(self, name)\n",
            " |      Initialize self.  See help(type(self)) for accurate signature.\n",
            " |  \n",
            " |  ----------------------------------------------------------------------\n",
            " |  Data descriptors inherited from Creature:\n",
            " |  \n",
            " |  __dict__\n",
            " |      dictionary for instance variables (if defined)\n",
            " |  \n",
            " |  __weakref__\n",
            " |      list of weak references to the object (if defined)\n",
            "\n"
          ],
          "name": "stdout"
        }
      ]
    },
    {
      "cell_type": "markdown",
      "metadata": {
        "id": "rbTGZV3lKCYU"
      },
      "source": [
        "В вышеописанном примере создается объект класса `Dog`, получающий имя в конструкторе. Затем по очереди выполняются методы `sleep`, `play` и `bark`, двое из которых были унаследованы. Способность лаять является уникальной особенностью собаки, поскольку не каждое животное или домашний питомец умеет это делать."
      ]
    },
    {
      "cell_type": "markdown",
      "metadata": {
        "id": "PC4WNpC1KCYV"
      },
      "source": [
        "## Полиморфизм\n",
        "\n",
        "Как уже было сказано во введении в рамках ООП полиморфизм, как правило, используется с позиции переопределения методов базового класса в классе наследнике. Проще всего это рассмотреть на примере. В нашем базовом класс `Car` есть метод `info()`, который печатает сводную информацию по объекту класса `Car` и переопределим этот метод в классе `Truck`, добавим  в него дополнительные данные:"
      ]
    },
    {
      "cell_type": "code",
      "metadata": {
        "id": "dHgEpSibKCYY"
      },
      "source": [
        "class Car:\n",
        "    def __init__(self, brand, doors_num):\n",
        "        self.__brand = brand\n",
        "        self.__doors_num = doors_num\n",
        "        \n",
        "    def get_brand(self):\n",
        "        return self.__brand\n",
        "    \n",
        "    def set_brand(self, b):\n",
        "        self.__brand = b\n",
        "    \n",
        "    def get_doors(self):\n",
        "        return self.__doors_num\n",
        "    \n",
        "    def set_doors(self, d):\n",
        "        self.__doors = d\n",
        "        \n",
        "    def info(self):\n",
        "        return \"Nice car with \" + str(self.__doors_num) + \" doors\""
      ],
      "execution_count": 51,
      "outputs": []
    },
    {
      "cell_type": "code",
      "metadata": {
        "id": "Uz4N7pgNKCYp"
      },
      "source": [
        "class Truck(Car):\n",
        "    \n",
        "    def __init__(self, brand, doors_num, load_weight, axes):\n",
        "        super().__init__(brand, doors_num)\n",
        "        self.__load_weight = load_weight\n",
        "        self.__axes = axes\n",
        "        \n",
        "    def get_load(self):\n",
        "        return self.__load_weight\n",
        "    \n",
        "    def set_load(self, l):\n",
        "        self.__load_weight = l\n",
        "        \n",
        "    def get_axes(self):\n",
        "        return self.__axes\n",
        "    \n",
        "    def set_axes(self, a):\n",
        "        self.__axes = a\n",
        "        \n",
        "    def info(self):\n",
        "        return \"Nice car with \" + str(self.get_doors()) + \" doors and can carry \" + str(self.__load_weight) + \" kg of cargo\""
      ],
      "execution_count": 52,
      "outputs": []
    },
    {
      "cell_type": "markdown",
      "metadata": {
        "id": "Blq11n-GKCYy"
      },
      "source": [
        "Посмотрим, как это работает"
      ]
    },
    {
      "cell_type": "code",
      "metadata": {
        "id": "7iPABuKKKCY0",
        "outputId": "1f08d460-4e9f-41dd-cffb-e1e26a7af06f",
        "colab": {
          "base_uri": "https://localhost:8080/",
          "height": 35
        }
      },
      "source": [
        "audi = Car(\"Audi\", 4)\n",
        "audi.info()"
      ],
      "execution_count": 53,
      "outputs": [
        {
          "output_type": "execute_result",
          "data": {
            "application/vnd.google.colaboratory.intrinsic+json": {
              "type": "string"
            },
            "text/plain": [
              "'Nice car with 4 doors'"
            ]
          },
          "metadata": {
            "tags": []
          },
          "execution_count": 53
        }
      ]
    },
    {
      "cell_type": "code",
      "metadata": {
        "id": "LKcze8dkKCY8",
        "outputId": "28d1aed4-7fab-4b1d-c621-c43fe5346676",
        "colab": {
          "base_uri": "https://localhost:8080/",
          "height": 35
        }
      },
      "source": [
        "scania = Truck(\"Scania\",2,6500,4)\n",
        "scania.info()"
      ],
      "execution_count": 54,
      "outputs": [
        {
          "output_type": "execute_result",
          "data": {
            "application/vnd.google.colaboratory.intrinsic+json": {
              "type": "string"
            },
            "text/plain": [
              "'Nice car with 2 doors and can carry 6500 kg of cargo'"
            ]
          },
          "metadata": {
            "tags": []
          },
          "execution_count": 54
        }
      ]
    },
    {
      "cell_type": "markdown",
      "metadata": {
        "id": "2XNNn5NWKCZE"
      },
      "source": [
        "Таким образом, класс наследник может расширять функционал класса родителя."
      ]
    },
    {
      "cell_type": "markdown",
      "metadata": {
        "id": "28BkcUzxKCZF"
      },
      "source": [
        "## Абстрактные методы\n",
        "\n",
        "Поскольку в ООП присутствует возможность наследовать поведение родительского класса, иногда возникает необходимость в специфической реализации соответствующих методов. В качестве примера можно привести следующий код, где классы `Truck` и `Bus` являются потомками класса `Car`. Как и положено, они оба наследуют метод `honk` (гудеть), однако в родительском классе для него не существует реализации.\n",
        "\n",
        "Все потому, что машина представляет собой абстрактное понятие, а значит не способно издавать какой-то конкретный гудок. Однако для грузовика и автобуса данная команда зачастую имеет общепринятое значение. В таком случае можно утверждать, что метод `honk` из `Car` является абстрактным, поскольку не имеет собственного тела реализации."
      ]
    },
    {
      "cell_type": "code",
      "metadata": {
        "id": "NLGJV4pmKCZG",
        "outputId": "50e7ea2a-a966-4e44-a3aa-24f2ff96bba9",
        "colab": {
          "base_uri": "https://localhost:8080/"
        }
      },
      "source": [
        "class Car:\n",
        "    def __init__(self, brand):\n",
        "        self.__brand = brand\n",
        "        \n",
        "    def honk(self):\n",
        "        pass\n",
        "    \n",
        "class Truck(Car):\n",
        "    def honk(self):\n",
        "        print(\"RRRRrrrr\")\n",
        "        \n",
        "class Bus(Car):\n",
        "    def honk(self):\n",
        "        print(\"UUUUUU\")\n",
        "        \n",
        "        \n",
        "Vanhool = Bus(\"Vanhool\")\n",
        "Iveco = Truck(\"Iveco\")\n",
        "\n",
        "Vanhool.honk()\n",
        "Iveco.honk()\n",
        "testcar = Car('testname')\n",
        "testcar.honk()\n",
        "help(testcar)\n",
        "help(Iveco)"
      ],
      "execution_count": 62,
      "outputs": [
        {
          "output_type": "stream",
          "text": [
            "UUUUUU\n",
            "RRRRrrrr\n",
            "Help on Car in module __main__ object:\n",
            "\n",
            "class Car(builtins.object)\n",
            " |  Methods defined here:\n",
            " |  \n",
            " |  __init__(self, brand)\n",
            " |      Initialize self.  See help(type(self)) for accurate signature.\n",
            " |  \n",
            " |  honk(self)\n",
            " |  \n",
            " |  ----------------------------------------------------------------------\n",
            " |  Data descriptors defined here:\n",
            " |  \n",
            " |  __dict__\n",
            " |      dictionary for instance variables (if defined)\n",
            " |  \n",
            " |  __weakref__\n",
            " |      list of weak references to the object (if defined)\n",
            "\n",
            "Help on Truck in module __main__ object:\n",
            "\n",
            "class Truck(Car)\n",
            " |  Method resolution order:\n",
            " |      Truck\n",
            " |      Car\n",
            " |      builtins.object\n",
            " |  \n",
            " |  Methods defined here:\n",
            " |  \n",
            " |  honk(self)\n",
            " |  \n",
            " |  ----------------------------------------------------------------------\n",
            " |  Methods inherited from Car:\n",
            " |  \n",
            " |  __init__(self, brand)\n",
            " |      Initialize self.  See help(type(self)) for accurate signature.\n",
            " |  \n",
            " |  ----------------------------------------------------------------------\n",
            " |  Data descriptors inherited from Car:\n",
            " |  \n",
            " |  __dict__\n",
            " |      dictionary for instance variables (if defined)\n",
            " |  \n",
            " |  __weakref__\n",
            " |      list of weak references to the object (if defined)\n",
            "\n"
          ],
          "name": "stdout"
        }
      ]
    },
    {
      "cell_type": "markdown",
      "metadata": {
        "id": "EhUQFBPAKCZP"
      },
      "source": [
        "Как видно из примера, потомки `Truck` и `Bus` получают `horn`, после чего переопределяют его каждый по-своему. В этом заключается суть полиморфизма, позволяющего изменять ход работы определенного метода исходя из нужд конкретного класса. При этом название у него остается общим для всех наследников, что помогает избежать путаницы с именами."
      ]
    },
    {
      "cell_type": "markdown",
      "metadata": {
        "id": "MOUB4OT6KCZS"
      },
      "source": [
        "## Перегрузка операторов\n",
        "\n",
        "Для обработки примитивных типов данных в языках программирования используются специальные операторы. К примеру, арифметические операции выполняются при помощи обычных знаков плюс, минус, умножить, разделить. Однако при работе с собственными типами информации вполне может потребоваться помощь этих операторов. Благодаря специальным функциям, их можно самостоятельно настроить под свои задачи.\n",
        "\n",
        "В данном примере создается класс `Point`, обладающий двумя полями: `x` и `y`. Для сравнения двух разных объектов такого типа можно написать специальный метод либо же просто перегрузить соответствующий оператор. Для этого потребуется переопределить функцию `__eq__` в собственном классе, реализовав новое поведение в ее теле."
      ]
    },
    {
      "cell_type": "code",
      "metadata": {
        "id": "DbwvTBlDKCZT",
        "outputId": "9dee8a41-b7a6-4ff2-8286-a7a85daee06e",
        "colab": {
          "base_uri": "https://localhost:8080/"
        }
      },
      "source": [
        "class Point:\n",
        "    \n",
        "    def __init__(self, x, y):\n",
        "        self.x = x\n",
        "        self.y = y\n",
        "        \n",
        "    def __eq__(self, other):\n",
        "        return self.x == other.x and self.y == other.y\n",
        "    \n",
        "print(Point(2, 5) == Point(2, 5))\n",
        "print(Point(3, 8) == Point(4, 6))"
      ],
      "execution_count": 63,
      "outputs": [
        {
          "output_type": "stream",
          "text": [
            "True\n",
            "False\n"
          ],
          "name": "stdout"
        }
      ]
    },
    {
      "cell_type": "markdown",
      "metadata": {
        "id": "UfLsCkdQKCZc"
      },
      "source": [
        "Переопределенный метод возвращает результат сравнения двух полей у различных объектов. Благодаря этому появилась возможность сравнивать две разных точки, пользуясь всего лишь обычным оператором. Результат его работы выводится при помощи метода `print`.\n",
        "\n",
        "Аналогично сравнению, можно реализовать в Python перегрузку операторов сложения, вычитания и других арифметических и логических действий. Так же можно сделать перегрузку стандартных функций str и len.\n",
        "\n",
        "Если мы не перегрузим оператор, то наш класс выдаст ошибку или будет работать некорректно:"
      ]
    },
    {
      "cell_type": "code",
      "metadata": {
        "id": "FzpE2aEBKCZe",
        "outputId": "136b9514-5f5c-42cd-dbe8-a811970a6136",
        "colab": {
          "base_uri": "https://localhost:8080/"
        }
      },
      "source": [
        "class Point:\n",
        "    \n",
        "    def __init__(self, x, y):\n",
        "        self.x = x\n",
        "        self.y = y\n",
        "        \n",
        "    \n",
        "print(Point(2, 5) == Point(2, 5))\n",
        "print(Point(3, 8) == Point(4, 6))"
      ],
      "execution_count": 64,
      "outputs": [
        {
          "output_type": "stream",
          "text": [
            "False\n",
            "False\n"
          ],
          "name": "stdout"
        }
      ]
    },
    {
      "cell_type": "markdown",
      "metadata": {
        "id": "YXr7jGNrKCZn"
      },
      "source": [
        "В первом случае, ответ должен был быть `True`"
      ]
    },
    {
      "cell_type": "code",
      "metadata": {
        "id": "UdRAQlGXTFUY"
      },
      "source": [
        ""
      ],
      "execution_count": null,
      "outputs": []
    }
  ]
}